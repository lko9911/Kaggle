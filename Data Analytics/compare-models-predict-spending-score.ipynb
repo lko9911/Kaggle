{
 "cells": [
  {
   "cell_type": "markdown",
   "id": "0a34488d",
   "metadata": {
    "papermill": {
     "duration": 0.005434,
     "end_time": "2024-04-13T13:07:07.651419",
     "exception": false,
     "start_time": "2024-04-13T13:07:07.645985",
     "status": "completed"
    },
    "tags": []
   },
   "source": [
    "# *Project : predict \"Spending Score\" column*"
   ]
  },
  {
   "cell_type": "markdown",
   "id": "e4b8b8a2",
   "metadata": {
    "papermill": {
     "duration": 0.004747,
     "end_time": "2024-04-13T13:07:07.661867",
     "exception": false,
     "start_time": "2024-04-13T13:07:07.657120",
     "status": "completed"
    },
    "tags": []
   },
   "source": [
    "> # Import Libraries & Read Dataset"
   ]
  },
  {
   "cell_type": "code",
   "execution_count": 1,
   "id": "2202bfac",
   "metadata": {
    "execution": {
     "iopub.execute_input": "2024-04-13T13:07:07.674491Z",
     "iopub.status.busy": "2024-04-13T13:07:07.673836Z",
     "iopub.status.idle": "2024-04-13T13:07:07.948678Z",
     "shell.execute_reply": "2024-04-13T13:07:07.947266Z"
    },
    "papermill": {
     "duration": 0.28466,
     "end_time": "2024-04-13T13:07:07.951685",
     "exception": false,
     "start_time": "2024-04-13T13:07:07.667025",
     "status": "completed"
    },
    "tags": []
   },
   "outputs": [],
   "source": [
    "import requests\n",
    "\n",
    "url = 'https://raw.githubusercontent.com/lko9911/Kaggle/master/Compare_Regression_models.py'\n",
    "\n",
    "r = requests.get(url)\n",
    "\n",
    "with open('Compare_Regression_models.py', 'w') as f:\n",
    "    f.write(r.text)"
   ]
  },
  {
   "cell_type": "code",
   "execution_count": 2,
   "id": "02e5a4fc",
   "metadata": {
    "execution": {
     "iopub.execute_input": "2024-04-13T13:07:07.963588Z",
     "iopub.status.busy": "2024-04-13T13:07:07.963183Z",
     "iopub.status.idle": "2024-04-13T13:07:12.853237Z",
     "shell.execute_reply": "2024-04-13T13:07:12.852021Z"
    },
    "papermill": {
     "duration": 4.899215,
     "end_time": "2024-04-13T13:07:12.856117",
     "exception": false,
     "start_time": "2024-04-13T13:07:07.956902",
     "status": "completed"
    },
    "tags": []
   },
   "outputs": [],
   "source": [
    "# For Compare modeling\n",
    "from Compare_Regression_models import evaluate_models\n",
    "\n",
    "# For Standard data\n",
    "from sklearn.preprocessing import StandardScaler\n",
    "\n",
    "# For Modeling\n",
    "from sklearn.model_selection import train_test_split\n",
    "from sklearn.ensemble import RandomForestRegressor\n",
    "from sklearn.model_selection import GridSearchCV\n",
    "from sklearn.tree import DecisionTreeRegressor\n",
    "from sklearn.metrics import mean_squared_error\n",
    "\n",
    "# For Evaluate model\n",
    "from sklearn.metrics import mean_squared_error\n",
    "from sklearn.metrics import r2_score\n",
    "\n",
    "# For EDA\n",
    "import pandas as pd\n",
    "import numpy as np\n",
    "import matplotlib.pyplot as plt\n",
    "import seaborn as sns\n",
    "import warnings\n",
    "warnings.filterwarnings(\"ignore\", category=FutureWarning)"
   ]
  },
  {
   "cell_type": "code",
   "execution_count": 3,
   "id": "e0fa8591",
   "metadata": {
    "execution": {
     "iopub.execute_input": "2024-04-13T13:07:12.868903Z",
     "iopub.status.busy": "2024-04-13T13:07:12.868293Z",
     "iopub.status.idle": "2024-04-13T13:07:12.943413Z",
     "shell.execute_reply": "2024-04-13T13:07:12.941967Z"
    },
    "papermill": {
     "duration": 0.084352,
     "end_time": "2024-04-13T13:07:12.946227",
     "exception": false,
     "start_time": "2024-04-13T13:07:12.861875",
     "status": "completed"
    },
    "tags": []
   },
   "outputs": [
    {
     "data": {
      "text/html": [
       "<div>\n",
       "<style scoped>\n",
       "    .dataframe tbody tr th:only-of-type {\n",
       "        vertical-align: middle;\n",
       "    }\n",
       "\n",
       "    .dataframe tbody tr th {\n",
       "        vertical-align: top;\n",
       "    }\n",
       "\n",
       "    .dataframe thead th {\n",
       "        text-align: right;\n",
       "    }\n",
       "</style>\n",
       "<table border=\"1\" class=\"dataframe\">\n",
       "  <thead>\n",
       "    <tr style=\"text-align: right;\">\n",
       "      <th></th>\n",
       "      <th>Customer ID</th>\n",
       "      <th>Age</th>\n",
       "      <th>Gender</th>\n",
       "      <th>Annual Income</th>\n",
       "      <th>Spending Score</th>\n",
       "    </tr>\n",
       "  </thead>\n",
       "  <tbody>\n",
       "    <tr>\n",
       "      <th>0</th>\n",
       "      <td>d410ea53-6661-42a9-ad3a-f554b05fd2a7</td>\n",
       "      <td>30</td>\n",
       "      <td>Male</td>\n",
       "      <td>151479</td>\n",
       "      <td>89</td>\n",
       "    </tr>\n",
       "    <tr>\n",
       "      <th>1</th>\n",
       "      <td>1770b26f-493f-46b6-837f-4237fb5a314e</td>\n",
       "      <td>58</td>\n",
       "      <td>Female</td>\n",
       "      <td>185088</td>\n",
       "      <td>95</td>\n",
       "    </tr>\n",
       "    <tr>\n",
       "      <th>2</th>\n",
       "      <td>e81aa8eb-1767-4b77-87ce-1620dc732c5e</td>\n",
       "      <td>62</td>\n",
       "      <td>Female</td>\n",
       "      <td>70912</td>\n",
       "      <td>76</td>\n",
       "    </tr>\n",
       "    <tr>\n",
       "      <th>3</th>\n",
       "      <td>9795712a-ad19-47bf-8886-4f997d6046e3</td>\n",
       "      <td>23</td>\n",
       "      <td>Male</td>\n",
       "      <td>55460</td>\n",
       "      <td>57</td>\n",
       "    </tr>\n",
       "    <tr>\n",
       "      <th>4</th>\n",
       "      <td>64139426-2226-4cd6-bf09-91bce4b4db5e</td>\n",
       "      <td>24</td>\n",
       "      <td>Male</td>\n",
       "      <td>153752</td>\n",
       "      <td>76</td>\n",
       "    </tr>\n",
       "    <tr>\n",
       "      <th>...</th>\n",
       "      <td>...</td>\n",
       "      <td>...</td>\n",
       "      <td>...</td>\n",
       "      <td>...</td>\n",
       "      <td>...</td>\n",
       "    </tr>\n",
       "    <tr>\n",
       "      <th>15074</th>\n",
       "      <td>a0504768-a85f-4930-ac24-55bc8e4fec9e</td>\n",
       "      <td>29</td>\n",
       "      <td>Female</td>\n",
       "      <td>97723</td>\n",
       "      <td>30</td>\n",
       "    </tr>\n",
       "    <tr>\n",
       "      <th>15075</th>\n",
       "      <td>a08c4e0e-d1fe-48e7-9366-aab11ae409cd</td>\n",
       "      <td>22</td>\n",
       "      <td>Male</td>\n",
       "      <td>73361</td>\n",
       "      <td>74</td>\n",
       "    </tr>\n",
       "    <tr>\n",
       "      <th>15076</th>\n",
       "      <td>0e87c25a-268c-401a-8ba1-7111dcde6f1a</td>\n",
       "      <td>18</td>\n",
       "      <td>Female</td>\n",
       "      <td>112337</td>\n",
       "      <td>48</td>\n",
       "    </tr>\n",
       "    <tr>\n",
       "      <th>15077</th>\n",
       "      <td>5f388cbe-3373-4e16-b743-38f508f2249f</td>\n",
       "      <td>26</td>\n",
       "      <td>Female</td>\n",
       "      <td>94312</td>\n",
       "      <td>5</td>\n",
       "    </tr>\n",
       "    <tr>\n",
       "      <th>15078</th>\n",
       "      <td>b8b8f561-ebca-4401-8afe-544c906554ba</td>\n",
       "      <td>19</td>\n",
       "      <td>Male</td>\n",
       "      <td>78045</td>\n",
       "      <td>2</td>\n",
       "    </tr>\n",
       "  </tbody>\n",
       "</table>\n",
       "<p>15079 rows × 5 columns</p>\n",
       "</div>"
      ],
      "text/plain": [
       "                                Customer ID  Age  Gender  Annual Income  \\\n",
       "0      d410ea53-6661-42a9-ad3a-f554b05fd2a7   30    Male         151479   \n",
       "1      1770b26f-493f-46b6-837f-4237fb5a314e   58  Female         185088   \n",
       "2      e81aa8eb-1767-4b77-87ce-1620dc732c5e   62  Female          70912   \n",
       "3      9795712a-ad19-47bf-8886-4f997d6046e3   23    Male          55460   \n",
       "4      64139426-2226-4cd6-bf09-91bce4b4db5e   24    Male         153752   \n",
       "...                                     ...  ...     ...            ...   \n",
       "15074  a0504768-a85f-4930-ac24-55bc8e4fec9e   29  Female          97723   \n",
       "15075  a08c4e0e-d1fe-48e7-9366-aab11ae409cd   22    Male          73361   \n",
       "15076  0e87c25a-268c-401a-8ba1-7111dcde6f1a   18  Female         112337   \n",
       "15077  5f388cbe-3373-4e16-b743-38f508f2249f   26  Female          94312   \n",
       "15078  b8b8f561-ebca-4401-8afe-544c906554ba   19    Male          78045   \n",
       "\n",
       "       Spending Score  \n",
       "0                  89  \n",
       "1                  95  \n",
       "2                  76  \n",
       "3                  57  \n",
       "4                  76  \n",
       "...               ...  \n",
       "15074              30  \n",
       "15075              74  \n",
       "15076              48  \n",
       "15077               5  \n",
       "15078               2  \n",
       "\n",
       "[15079 rows x 5 columns]"
      ]
     },
     "execution_count": 3,
     "metadata": {},
     "output_type": "execute_result"
    }
   ],
   "source": [
    "df = pd.read_csv('/kaggle/input/shopping-mall-customer-segmentation-data/Shopping Mall Customer Segmentation Data .csv')\n",
    "df"
   ]
  },
  {
   "cell_type": "code",
   "execution_count": 4,
   "id": "ce7baa01",
   "metadata": {
    "execution": {
     "iopub.execute_input": "2024-04-13T13:07:12.959631Z",
     "iopub.status.busy": "2024-04-13T13:07:12.958823Z",
     "iopub.status.idle": "2024-04-13T13:07:12.993191Z",
     "shell.execute_reply": "2024-04-13T13:07:12.991972Z"
    },
    "papermill": {
     "duration": 0.044035,
     "end_time": "2024-04-13T13:07:12.995755",
     "exception": false,
     "start_time": "2024-04-13T13:07:12.951720",
     "status": "completed"
    },
    "tags": []
   },
   "outputs": [
    {
     "name": "stdout",
     "output_type": "stream",
     "text": [
      "<class 'pandas.core.frame.DataFrame'>\n",
      "RangeIndex: 15079 entries, 0 to 15078\n",
      "Data columns (total 5 columns):\n",
      " #   Column          Non-Null Count  Dtype \n",
      "---  ------          --------------  ----- \n",
      " 0   Customer ID     15079 non-null  object\n",
      " 1   Age             15079 non-null  int64 \n",
      " 2   Gender          15079 non-null  object\n",
      " 3   Annual Income   15079 non-null  int64 \n",
      " 4   Spending Score  15079 non-null  int64 \n",
      "dtypes: int64(3), object(2)\n",
      "memory usage: 589.1+ KB\n"
     ]
    }
   ],
   "source": [
    "df.info()"
   ]
  },
  {
   "cell_type": "markdown",
   "id": "dc77bbc3",
   "metadata": {
    "papermill": {
     "duration": 0.005114,
     "end_time": "2024-04-13T13:07:13.006619",
     "exception": false,
     "start_time": "2024-04-13T13:07:13.001505",
     "status": "completed"
    },
    "tags": []
   },
   "source": [
    "> # Data Preprocessing"
   ]
  },
  {
   "cell_type": "code",
   "execution_count": 5,
   "id": "99c065d1",
   "metadata": {
    "execution": {
     "iopub.execute_input": "2024-04-13T13:07:13.020510Z",
     "iopub.status.busy": "2024-04-13T13:07:13.019828Z",
     "iopub.status.idle": "2024-04-13T13:07:13.033644Z",
     "shell.execute_reply": "2024-04-13T13:07:13.032170Z"
    },
    "papermill": {
     "duration": 0.023311,
     "end_time": "2024-04-13T13:07:13.036228",
     "exception": false,
     "start_time": "2024-04-13T13:07:13.012917",
     "status": "completed"
    },
    "tags": []
   },
   "outputs": [
    {
     "data": {
      "text/plain": [
       "Customer ID       0\n",
       "Age               0\n",
       "Gender            0\n",
       "Annual Income     0\n",
       "Spending Score    0\n",
       "dtype: int64"
      ]
     },
     "execution_count": 5,
     "metadata": {},
     "output_type": "execute_result"
    }
   ],
   "source": [
    "df.isna().sum()"
   ]
  },
  {
   "cell_type": "code",
   "execution_count": 6,
   "id": "fae3c5b9",
   "metadata": {
    "execution": {
     "iopub.execute_input": "2024-04-13T13:07:13.049856Z",
     "iopub.status.busy": "2024-04-13T13:07:13.049372Z",
     "iopub.status.idle": "2024-04-13T13:07:13.057653Z",
     "shell.execute_reply": "2024-04-13T13:07:13.056763Z"
    },
    "papermill": {
     "duration": 0.017522,
     "end_time": "2024-04-13T13:07:13.059721",
     "exception": false,
     "start_time": "2024-04-13T13:07:13.042199",
     "status": "completed"
    },
    "tags": []
   },
   "outputs": [
    {
     "data": {
      "text/plain": [
       "array(['Male', 'Female'], dtype=object)"
      ]
     },
     "execution_count": 6,
     "metadata": {},
     "output_type": "execute_result"
    }
   ],
   "source": [
    "df['Gender'].unique()"
   ]
  },
  {
   "cell_type": "code",
   "execution_count": 7,
   "id": "f0eda88f",
   "metadata": {
    "execution": {
     "iopub.execute_input": "2024-04-13T13:07:13.073608Z",
     "iopub.status.busy": "2024-04-13T13:07:13.072553Z",
     "iopub.status.idle": "2024-04-13T13:07:13.092178Z",
     "shell.execute_reply": "2024-04-13T13:07:13.091022Z"
    },
    "papermill": {
     "duration": 0.028949,
     "end_time": "2024-04-13T13:07:13.094358",
     "exception": false,
     "start_time": "2024-04-13T13:07:13.065409",
     "status": "completed"
    },
    "tags": []
   },
   "outputs": [],
   "source": [
    "def Gender_index(X):\n",
    "    if(X=='Male'):\n",
    "        return 0\n",
    "    elif(X=='Female'):\n",
    "        return 1\n",
    "\n",
    "df['Gender'] = df['Gender'].apply(Gender_index)"
   ]
  },
  {
   "cell_type": "markdown",
   "id": "16df5472",
   "metadata": {
    "papermill": {
     "duration": 0.005631,
     "end_time": "2024-04-13T13:07:13.105883",
     "exception": false,
     "start_time": "2024-04-13T13:07:13.100252",
     "status": "completed"
    },
    "tags": []
   },
   "source": [
    "> # Compare Models"
   ]
  },
  {
   "cell_type": "code",
   "execution_count": 8,
   "id": "c689a416",
   "metadata": {
    "execution": {
     "iopub.execute_input": "2024-04-13T13:07:13.119613Z",
     "iopub.status.busy": "2024-04-13T13:07:13.118888Z",
     "iopub.status.idle": "2024-04-13T13:07:27.549290Z",
     "shell.execute_reply": "2024-04-13T13:07:27.548055Z"
    },
    "papermill": {
     "duration": 14.44024,
     "end_time": "2024-04-13T13:07:27.552014",
     "exception": false,
     "start_time": "2024-04-13T13:07:13.111774",
     "status": "completed"
    },
    "tags": []
   },
   "outputs": [
    {
     "name": "stdout",
     "output_type": "stream",
     "text": [
      "[LightGBM] [Info] Auto-choosing row-wise multi-threading, the overhead of testing was 0.003484 seconds.\n",
      "You can set `force_row_wise=true` to remove the overhead.\n",
      "And if memory is not enough, you can set `force_col_wise=true`.\n",
      "[LightGBM] [Info] Total Bins 332\n",
      "[LightGBM] [Info] Number of data points in the train set: 12063, number of used features: 3\n",
      "[LightGBM] [Info] Start training from score 50.377684\n"
     ]
    },
    {
     "data": {
      "text/html": [
       "<div>\n",
       "<style scoped>\n",
       "    .dataframe tbody tr th:only-of-type {\n",
       "        vertical-align: middle;\n",
       "    }\n",
       "\n",
       "    .dataframe tbody tr th {\n",
       "        vertical-align: top;\n",
       "    }\n",
       "\n",
       "    .dataframe thead th {\n",
       "        text-align: right;\n",
       "    }\n",
       "</style>\n",
       "<table border=\"1\" class=\"dataframe\">\n",
       "  <thead>\n",
       "    <tr style=\"text-align: right;\">\n",
       "      <th></th>\n",
       "      <th>Model</th>\n",
       "      <th>RMSE</th>\n",
       "      <th>R2</th>\n",
       "    </tr>\n",
       "  </thead>\n",
       "  <tbody>\n",
       "    <tr>\n",
       "      <th>0</th>\n",
       "      <td>Linear Regression</td>\n",
       "      <td>28.875085</td>\n",
       "      <td>-0.001113</td>\n",
       "    </tr>\n",
       "    <tr>\n",
       "      <th>1</th>\n",
       "      <td>Ridge Regression</td>\n",
       "      <td>28.875085</td>\n",
       "      <td>-0.001113</td>\n",
       "    </tr>\n",
       "    <tr>\n",
       "      <th>2</th>\n",
       "      <td>Lasso Regression</td>\n",
       "      <td>28.878840</td>\n",
       "      <td>-0.001374</td>\n",
       "    </tr>\n",
       "    <tr>\n",
       "      <th>3</th>\n",
       "      <td>ElasticNet</td>\n",
       "      <td>28.878840</td>\n",
       "      <td>-0.001374</td>\n",
       "    </tr>\n",
       "    <tr>\n",
       "      <th>4</th>\n",
       "      <td>Decision Tree Regressor</td>\n",
       "      <td>41.111755</td>\n",
       "      <td>-1.029405</td>\n",
       "    </tr>\n",
       "    <tr>\n",
       "      <th>5</th>\n",
       "      <td>Random Forest Regressor</td>\n",
       "      <td>31.315814</td>\n",
       "      <td>-0.177509</td>\n",
       "    </tr>\n",
       "    <tr>\n",
       "      <th>6</th>\n",
       "      <td>Support Vector Machine Regressor</td>\n",
       "      <td>28.897547</td>\n",
       "      <td>-0.002671</td>\n",
       "    </tr>\n",
       "    <tr>\n",
       "      <th>7</th>\n",
       "      <td>K-Nearest Neighbors Regressor</td>\n",
       "      <td>31.503553</td>\n",
       "      <td>-0.191669</td>\n",
       "    </tr>\n",
       "    <tr>\n",
       "      <th>8</th>\n",
       "      <td>Gradient Boosting Regressor</td>\n",
       "      <td>28.953799</td>\n",
       "      <td>-0.006579</td>\n",
       "    </tr>\n",
       "    <tr>\n",
       "      <th>9</th>\n",
       "      <td>XGBoost Regressor</td>\n",
       "      <td>30.127149</td>\n",
       "      <td>-0.089815</td>\n",
       "    </tr>\n",
       "    <tr>\n",
       "      <th>10</th>\n",
       "      <td>LightGBM Regressor</td>\n",
       "      <td>29.201390</td>\n",
       "      <td>-0.023867</td>\n",
       "    </tr>\n",
       "  </tbody>\n",
       "</table>\n",
       "</div>"
      ],
      "text/plain": [
       "                               Model       RMSE        R2\n",
       "0                  Linear Regression  28.875085 -0.001113\n",
       "1                   Ridge Regression  28.875085 -0.001113\n",
       "2                   Lasso Regression  28.878840 -0.001374\n",
       "3                         ElasticNet  28.878840 -0.001374\n",
       "4            Decision Tree Regressor  41.111755 -1.029405\n",
       "5            Random Forest Regressor  31.315814 -0.177509\n",
       "6   Support Vector Machine Regressor  28.897547 -0.002671\n",
       "7      K-Nearest Neighbors Regressor  31.503553 -0.191669\n",
       "8        Gradient Boosting Regressor  28.953799 -0.006579\n",
       "9                  XGBoost Regressor  30.127149 -0.089815\n",
       "10                LightGBM Regressor  29.201390 -0.023867"
      ]
     },
     "execution_count": 8,
     "metadata": {},
     "output_type": "execute_result"
    }
   ],
   "source": [
    "X = df[['Age', 'Gender', 'Annual Income']]\n",
    "y = df['Spending Score']\n",
    "\n",
    "evaluate_models(X,y)"
   ]
  },
  {
   "cell_type": "markdown",
   "id": "1adf7b47",
   "metadata": {
    "papermill": {
     "duration": 0.007164,
     "end_time": "2024-04-13T13:07:27.565585",
     "exception": false,
     "start_time": "2024-04-13T13:07:27.558421",
     "status": "completed"
    },
    "tags": []
   },
   "source": [
    "### A negative R2 value means that the model's performance is below average. For a given data, the values the model predicts do not account for the variance of the actual values. \n",
    "\n",
    "### This means that the model is either unaware of the patterns in the data or has a level of performance similar to that of random predictions. (Or my modeling mistake...)"
   ]
  },
  {
   "cell_type": "markdown",
   "id": "a4e14bd6",
   "metadata": {
    "papermill": {
     "duration": 0.005857,
     "end_time": "2024-04-13T13:07:27.577873",
     "exception": false,
     "start_time": "2024-04-13T13:07:27.572016",
     "status": "completed"
    },
    "tags": []
   },
   "source": [
    "# Thanks"
   ]
  }
 ],
 "metadata": {
  "kaggle": {
   "accelerator": "none",
   "dataSources": [
    {
     "datasetId": 4694823,
     "sourceId": 7977302,
     "sourceType": "datasetVersion"
    }
   ],
   "dockerImageVersionId": 30684,
   "isGpuEnabled": false,
   "isInternetEnabled": true,
   "language": "python",
   "sourceType": "notebook"
  },
  "kernelspec": {
   "display_name": "Python 3",
   "language": "python",
   "name": "python3"
  },
  "language_info": {
   "codemirror_mode": {
    "name": "ipython",
    "version": 3
   },
   "file_extension": ".py",
   "mimetype": "text/x-python",
   "name": "python",
   "nbconvert_exporter": "python",
   "pygments_lexer": "ipython3",
   "version": "3.10.13"
  },
  "papermill": {
   "default_parameters": {},
   "duration": 23.980753,
   "end_time": "2024-04-13T13:07:28.406515",
   "environment_variables": {},
   "exception": null,
   "input_path": "__notebook__.ipynb",
   "output_path": "__notebook__.ipynb",
   "parameters": {},
   "start_time": "2024-04-13T13:07:04.425762",
   "version": "2.5.0"
  }
 },
 "nbformat": 4,
 "nbformat_minor": 5
}
