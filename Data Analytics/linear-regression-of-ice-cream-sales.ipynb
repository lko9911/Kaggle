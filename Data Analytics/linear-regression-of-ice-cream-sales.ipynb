{
 "cells": [
  {
   "cell_type": "markdown",
   "id": "a42cd00f",
   "metadata": {
    "papermill": {
     "duration": 0.009359,
     "end_time": "2024-02-26T08:59:04.935371",
     "exception": false,
     "start_time": "2024-02-26T08:59:04.926012",
     "status": "completed"
    },
    "tags": []
   },
   "source": [
    "# Import Libraries & Read Dataset"
   ]
  },
  {
   "cell_type": "code",
   "execution_count": 1,
   "id": "3b1aeb98",
   "metadata": {
    "execution": {
     "iopub.execute_input": "2024-02-26T08:59:04.954989Z",
     "iopub.status.busy": "2024-02-26T08:59:04.954145Z",
     "iopub.status.idle": "2024-02-26T08:59:08.263110Z",
     "shell.execute_reply": "2024-02-26T08:59:08.261772Z"
    },
    "papermill": {
     "duration": 3.322454,
     "end_time": "2024-02-26T08:59:08.266307",
     "exception": false,
     "start_time": "2024-02-26T08:59:04.943853",
     "status": "completed"
    },
    "tags": []
   },
   "outputs": [],
   "source": [
    "import pandas as pd\n",
    "import numpy as np\n",
    "import matplotlib.pyplot as plt\n",
    "import seaborn as sns\n",
    "from sklearn.model_selection import train_test_split\n",
    "from sklearn.linear_model import LinearRegression\n",
    "from sklearn.metrics import mean_squared_error\n",
    "\n",
    "file_name = '/kaggle/input/temperature-and-ice-cream-sales/Ice Cream Sales - temperatures.csv'\n",
    "df = pd.read_csv(file_name)"
   ]
  },
  {
   "cell_type": "code",
   "execution_count": 2,
   "id": "cd8f6b71",
   "metadata": {
    "execution": {
     "iopub.execute_input": "2024-02-26T08:59:08.286116Z",
     "iopub.status.busy": "2024-02-26T08:59:08.285055Z",
     "iopub.status.idle": "2024-02-26T08:59:08.305451Z",
     "shell.execute_reply": "2024-02-26T08:59:08.304166Z"
    },
    "papermill": {
     "duration": 0.033259,
     "end_time": "2024-02-26T08:59:08.308157",
     "exception": false,
     "start_time": "2024-02-26T08:59:08.274898",
     "status": "completed"
    },
    "tags": []
   },
   "outputs": [
    {
     "data": {
      "text/html": [
       "<div>\n",
       "<style scoped>\n",
       "    .dataframe tbody tr th:only-of-type {\n",
       "        vertical-align: middle;\n",
       "    }\n",
       "\n",
       "    .dataframe tbody tr th {\n",
       "        vertical-align: top;\n",
       "    }\n",
       "\n",
       "    .dataframe thead th {\n",
       "        text-align: right;\n",
       "    }\n",
       "</style>\n",
       "<table border=\"1\" class=\"dataframe\">\n",
       "  <thead>\n",
       "    <tr style=\"text-align: right;\">\n",
       "      <th></th>\n",
       "      <th>Temperature</th>\n",
       "      <th>Ice Cream Profits</th>\n",
       "    </tr>\n",
       "  </thead>\n",
       "  <tbody>\n",
       "    <tr>\n",
       "      <th>0</th>\n",
       "      <td>39</td>\n",
       "      <td>13.17</td>\n",
       "    </tr>\n",
       "    <tr>\n",
       "      <th>1</th>\n",
       "      <td>40</td>\n",
       "      <td>11.88</td>\n",
       "    </tr>\n",
       "    <tr>\n",
       "      <th>2</th>\n",
       "      <td>41</td>\n",
       "      <td>18.82</td>\n",
       "    </tr>\n",
       "    <tr>\n",
       "      <th>3</th>\n",
       "      <td>42</td>\n",
       "      <td>18.65</td>\n",
       "    </tr>\n",
       "    <tr>\n",
       "      <th>4</th>\n",
       "      <td>43</td>\n",
       "      <td>17.02</td>\n",
       "    </tr>\n",
       "  </tbody>\n",
       "</table>\n",
       "</div>"
      ],
      "text/plain": [
       "   Temperature  Ice Cream Profits\n",
       "0           39              13.17\n",
       "1           40              11.88\n",
       "2           41              18.82\n",
       "3           42              18.65\n",
       "4           43              17.02"
      ]
     },
     "execution_count": 2,
     "metadata": {},
     "output_type": "execute_result"
    }
   ],
   "source": [
    "df.head() # read data"
   ]
  },
  {
   "cell_type": "code",
   "execution_count": 3,
   "id": "6b122f04",
   "metadata": {
    "execution": {
     "iopub.execute_input": "2024-02-26T08:59:08.328141Z",
     "iopub.status.busy": "2024-02-26T08:59:08.327491Z",
     "iopub.status.idle": "2024-02-26T08:59:08.360586Z",
     "shell.execute_reply": "2024-02-26T08:59:08.359324Z"
    },
    "papermill": {
     "duration": 0.047385,
     "end_time": "2024-02-26T08:59:08.364248",
     "exception": false,
     "start_time": "2024-02-26T08:59:08.316863",
     "status": "completed"
    },
    "tags": []
   },
   "outputs": [
    {
     "name": "stdout",
     "output_type": "stream",
     "text": [
      "<class 'pandas.core.frame.DataFrame'>\n",
      "RangeIndex: 365 entries, 0 to 364\n",
      "Data columns (total 2 columns):\n",
      " #   Column             Non-Null Count  Dtype  \n",
      "---  ------             --------------  -----  \n",
      " 0   Temperature        365 non-null    int64  \n",
      " 1   Ice Cream Profits  365 non-null    float64\n",
      "dtypes: float64(1), int64(1)\n",
      "memory usage: 5.8 KB\n"
     ]
    }
   ],
   "source": [
    "df.info()"
   ]
  },
  {
   "cell_type": "markdown",
   "id": "17e33aed",
   "metadata": {
    "papermill": {
     "duration": 0.008627,
     "end_time": "2024-02-26T08:59:08.382084",
     "exception": false,
     "start_time": "2024-02-26T08:59:08.373457",
     "status": "completed"
    },
    "tags": []
   },
   "source": [
    "In the column of the data to be analyzed, There is no missing value and not a mixed data format."
   ]
  },
  {
   "cell_type": "code",
   "execution_count": 4,
   "id": "8e9626e3",
   "metadata": {
    "execution": {
     "iopub.execute_input": "2024-02-26T08:59:08.401664Z",
     "iopub.status.busy": "2024-02-26T08:59:08.401261Z",
     "iopub.status.idle": "2024-02-26T08:59:08.424022Z",
     "shell.execute_reply": "2024-02-26T08:59:08.422869Z"
    },
    "papermill": {
     "duration": 0.035809,
     "end_time": "2024-02-26T08:59:08.426934",
     "exception": false,
     "start_time": "2024-02-26T08:59:08.391125",
     "status": "completed"
    },
    "tags": []
   },
   "outputs": [
    {
     "data": {
      "text/html": [
       "<div>\n",
       "<style scoped>\n",
       "    .dataframe tbody tr th:only-of-type {\n",
       "        vertical-align: middle;\n",
       "    }\n",
       "\n",
       "    .dataframe tbody tr th {\n",
       "        vertical-align: top;\n",
       "    }\n",
       "\n",
       "    .dataframe thead th {\n",
       "        text-align: right;\n",
       "    }\n",
       "</style>\n",
       "<table border=\"1\" class=\"dataframe\">\n",
       "  <thead>\n",
       "    <tr style=\"text-align: right;\">\n",
       "      <th></th>\n",
       "      <th>Temperature</th>\n",
       "      <th>Ice Cream Profits</th>\n",
       "    </tr>\n",
       "  </thead>\n",
       "  <tbody>\n",
       "    <tr>\n",
       "      <th>count</th>\n",
       "      <td>365.00</td>\n",
       "      <td>365.00</td>\n",
       "    </tr>\n",
       "    <tr>\n",
       "      <th>mean</th>\n",
       "      <td>71.98</td>\n",
       "      <td>52.10</td>\n",
       "    </tr>\n",
       "    <tr>\n",
       "      <th>std</th>\n",
       "      <td>13.26</td>\n",
       "      <td>15.99</td>\n",
       "    </tr>\n",
       "    <tr>\n",
       "      <th>min</th>\n",
       "      <td>39.00</td>\n",
       "      <td>11.88</td>\n",
       "    </tr>\n",
       "    <tr>\n",
       "      <th>25%</th>\n",
       "      <td>63.00</td>\n",
       "      <td>40.65</td>\n",
       "    </tr>\n",
       "    <tr>\n",
       "      <th>50%</th>\n",
       "      <td>73.00</td>\n",
       "      <td>53.62</td>\n",
       "    </tr>\n",
       "    <tr>\n",
       "      <th>75%</th>\n",
       "      <td>82.00</td>\n",
       "      <td>63.63</td>\n",
       "    </tr>\n",
       "    <tr>\n",
       "      <th>max</th>\n",
       "      <td>101.00</td>\n",
       "      <td>89.29</td>\n",
       "    </tr>\n",
       "  </tbody>\n",
       "</table>\n",
       "</div>"
      ],
      "text/plain": [
       "       Temperature  Ice Cream Profits\n",
       "count       365.00             365.00\n",
       "mean         71.98              52.10\n",
       "std          13.26              15.99\n",
       "min          39.00              11.88\n",
       "25%          63.00              40.65\n",
       "50%          73.00              53.62\n",
       "75%          82.00              63.63\n",
       "max         101.00              89.29"
      ]
     },
     "execution_count": 4,
     "metadata": {},
     "output_type": "execute_result"
    }
   ],
   "source": [
    "round(df.describe(),2)"
   ]
  },
  {
   "cell_type": "code",
   "execution_count": 5,
   "id": "3f96acd1",
   "metadata": {
    "execution": {
     "iopub.execute_input": "2024-02-26T08:59:08.447514Z",
     "iopub.status.busy": "2024-02-26T08:59:08.446812Z",
     "iopub.status.idle": "2024-02-26T08:59:10.382643Z",
     "shell.execute_reply": "2024-02-26T08:59:10.381535Z"
    },
    "papermill": {
     "duration": 1.949445,
     "end_time": "2024-02-26T08:59:10.385555",
     "exception": false,
     "start_time": "2024-02-26T08:59:08.436110",
     "status": "completed"
    },
    "tags": []
   },
   "outputs": [
    {
     "name": "stderr",
     "output_type": "stream",
     "text": [
      "/opt/conda/lib/python3.10/site-packages/seaborn/_oldcore.py:1119: FutureWarning: use_inf_as_na option is deprecated and will be removed in a future version. Convert inf values to NaN before operating instead.\n",
      "  with pd.option_context('mode.use_inf_as_na', True):\n",
      "/opt/conda/lib/python3.10/site-packages/seaborn/_oldcore.py:1119: FutureWarning: use_inf_as_na option is deprecated and will be removed in a future version. Convert inf values to NaN before operating instead.\n",
      "  with pd.option_context('mode.use_inf_as_na', True):\n"
     ]
    },
    {
     "data": {
      "text/plain": [
       "<Axes: xlabel='Temperature', ylabel='Ice Cream Profits'>"
      ]
     },
     "execution_count": 5,
     "metadata": {},
     "output_type": "execute_result"
    },
    {
     "data": {
      "image/png": "[encoded data removed]",
      "text/plain": [
       "<Figure size 1000x500 with 1 Axes>"
      ]
     },
     "metadata": {},
     "output_type": "display_data"
    }
   ],
   "source": [
    "plt.figure(figsize=(10,5)) \n",
    "sns.lineplot(x='Temperature', y='Ice Cream Profits', data=df)"
   ]
  },
  {
   "cell_type": "markdown",
   "id": "cda7eae5",
   "metadata": {
    "papermill": {
     "duration": 0.010294,
     "end_time": "2024-02-26T08:59:10.405937",
     "exception": false,
     "start_time": "2024-02-26T08:59:10.395643",
     "status": "completed"
    },
    "tags": []
   },
   "source": [
    "Compare to a y = x graph with the same starting point. (y = x -25.83 graph to be exact)"
   ]
  },
  {
   "cell_type": "code",
   "execution_count": 6,
   "id": "4bcce5b9",
   "metadata": {
    "execution": {
     "iopub.execute_input": "2024-02-26T08:59:10.429515Z",
     "iopub.status.busy": "2024-02-26T08:59:10.428329Z",
     "iopub.status.idle": "2024-02-26T08:59:12.289460Z",
     "shell.execute_reply": "2024-02-26T08:59:12.287862Z"
    },
    "papermill": {
     "duration": 1.878267,
     "end_time": "2024-02-26T08:59:12.294177",
     "exception": false,
     "start_time": "2024-02-26T08:59:10.415910",
     "status": "completed"
    },
    "tags": []
   },
   "outputs": [
    {
     "name": "stderr",
     "output_type": "stream",
     "text": [
      "/opt/conda/lib/python3.10/site-packages/seaborn/_oldcore.py:1119: FutureWarning: use_inf_as_na option is deprecated and will be removed in a future version. Convert inf values to NaN before operating instead.\n",
      "  with pd.option_context('mode.use_inf_as_na', True):\n",
      "/opt/conda/lib/python3.10/site-packages/seaborn/_oldcore.py:1119: FutureWarning: use_inf_as_na option is deprecated and will be removed in a future version. Convert inf values to NaN before operating instead.\n",
      "  with pd.option_context('mode.use_inf_as_na', True):\n"
     ]
    },
    {
     "data": {
      "image/png": "[encoded data removed]",
      "text/plain": [
       "<Figure size 1000x500 with 1 Axes>"
      ]
     },
     "metadata": {},
     "output_type": "display_data"
    }
   ],
   "source": [
    "plt.figure(figsize=(10,5))\n",
    "sns.lineplot(data=df, x='Temperature', y='Ice Cream Profits')\n",
    "\n",
    "x = np.linspace(39, 100, 100)\n",
    "y = x - (39 - 13.17)\n",
    "\n",
    "plt.plot(x, y, color='red', linestyle='--')\n",
    "\n",
    "plt.show()"
   ]
  },
  {
   "cell_type": "markdown",
   "id": "af19ed6b",
   "metadata": {
    "papermill": {
     "duration": 0.012524,
     "end_time": "2024-02-26T08:59:12.321646",
     "exception": false,
     "start_time": "2024-02-26T08:59:12.309122",
     "status": "completed"
    },
    "tags": []
   },
   "source": [
    "Overall, you can see that there are no outliers."
   ]
  },
  {
   "cell_type": "markdown",
   "id": "6cf3561d",
   "metadata": {
    "papermill": {
     "duration": 0.013963,
     "end_time": "2024-02-26T08:59:12.350063",
     "exception": false,
     "start_time": "2024-02-26T08:59:12.336100",
     "status": "completed"
    },
    "tags": []
   },
   "source": [
    "# pre-processing operation"
   ]
  },
  {
   "cell_type": "markdown",
   "id": "67d1d8c1",
   "metadata": {
    "papermill": {
     "duration": 0.014561,
     "end_time": "2024-02-26T08:59:12.382268",
     "exception": false,
     "start_time": "2024-02-26T08:59:12.367707",
     "status": "completed"
    },
    "tags": []
   },
   "source": [
    "Since there are no missing values, outliers and not mixed data, I will not do preprocessing other than dividing the training set and the test set."
   ]
  },
  {
   "cell_type": "code",
   "execution_count": 7,
   "id": "e2627e8c",
   "metadata": {
    "execution": {
     "iopub.execute_input": "2024-02-26T08:59:12.415542Z",
     "iopub.status.busy": "2024-02-26T08:59:12.415093Z",
     "iopub.status.idle": "2024-02-26T08:59:12.423968Z",
     "shell.execute_reply": "2024-02-26T08:59:12.422674Z"
    },
    "papermill": {
     "duration": 0.030944,
     "end_time": "2024-02-26T08:59:12.426693",
     "exception": false,
     "start_time": "2024-02-26T08:59:12.395749",
     "status": "completed"
    },
    "tags": []
   },
   "outputs": [],
   "source": [
    "X = df.drop('Ice Cream Profits',axis=1) \n",
    "y = df['Ice Cream Profits']             \n",
    "X_train, X_test, y_train, y_test = train_test_split(X, y, test_size=0.2, \n",
    "                                                    random_state=100) "
   ]
  },
  {
   "cell_type": "markdown",
   "id": "0f2a8d84",
   "metadata": {
    "papermill": {
     "duration": 0.010866,
     "end_time": "2024-02-26T08:59:12.449001",
     "exception": false,
     "start_time": "2024-02-26T08:59:12.438135",
     "status": "completed"
    },
    "tags": []
   },
   "source": [
    "# Modeling : Linear regression"
   ]
  },
  {
   "cell_type": "code",
   "execution_count": 8,
   "id": "18f2a2ce",
   "metadata": {
    "execution": {
     "iopub.execute_input": "2024-02-26T08:59:12.473389Z",
     "iopub.status.busy": "2024-02-26T08:59:12.472941Z",
     "iopub.status.idle": "2024-02-26T08:59:12.500092Z",
     "shell.execute_reply": "2024-02-26T08:59:12.498674Z"
    },
    "papermill": {
     "duration": 0.042882,
     "end_time": "2024-02-26T08:59:12.503069",
     "exception": false,
     "start_time": "2024-02-26T08:59:12.460187",
     "status": "completed"
    },
    "tags": []
   },
   "outputs": [],
   "source": [
    "model = LinearRegression()\n",
    "model.fit(X_train, y_train)\n",
    "predict_value = model.predict(X_test)"
   ]
  },
  {
   "cell_type": "markdown",
   "id": "22700d8f",
   "metadata": {
    "papermill": {
     "duration": 0.010925,
     "end_time": "2024-02-26T08:59:12.525509",
     "exception": false,
     "start_time": "2024-02-26T08:59:12.514584",
     "status": "completed"
    },
    "tags": []
   },
   "source": [
    "# Evaluating a Model"
   ]
  },
  {
   "cell_type": "code",
   "execution_count": 9,
   "id": "76445473",
   "metadata": {
    "execution": {
     "iopub.execute_input": "2024-02-26T08:59:12.549612Z",
     "iopub.status.busy": "2024-02-26T08:59:12.549210Z",
     "iopub.status.idle": "2024-02-26T08:59:12.563883Z",
     "shell.execute_reply": "2024-02-26T08:59:12.562702Z"
    },
    "papermill": {
     "duration": 0.029448,
     "end_time": "2024-02-26T08:59:12.566046",
     "exception": false,
     "start_time": "2024-02-26T08:59:12.536598",
     "status": "completed"
    },
    "tags": []
   },
   "outputs": [
    {
     "data": {
      "text/html": [
       "<div>\n",
       "<style scoped>\n",
       "    .dataframe tbody tr th:only-of-type {\n",
       "        vertical-align: middle;\n",
       "    }\n",
       "\n",
       "    .dataframe tbody tr th {\n",
       "        vertical-align: top;\n",
       "    }\n",
       "\n",
       "    .dataframe thead th {\n",
       "        text-align: right;\n",
       "    }\n",
       "</style>\n",
       "<table border=\"1\" class=\"dataframe\">\n",
       "  <thead>\n",
       "    <tr style=\"text-align: right;\">\n",
       "      <th></th>\n",
       "      <th>Actual</th>\n",
       "      <th>Predict_value</th>\n",
       "    </tr>\n",
       "  </thead>\n",
       "  <tbody>\n",
       "    <tr>\n",
       "      <th>147</th>\n",
       "      <td>48.77</td>\n",
       "      <td>48.566310</td>\n",
       "    </tr>\n",
       "    <tr>\n",
       "      <th>125</th>\n",
       "      <td>45.26</td>\n",
       "      <td>46.190047</td>\n",
       "    </tr>\n",
       "    <tr>\n",
       "      <th>314</th>\n",
       "      <td>69.66</td>\n",
       "      <td>68.764548</td>\n",
       "    </tr>\n",
       "    <tr>\n",
       "      <th>56</th>\n",
       "      <td>36.79</td>\n",
       "      <td>35.496862</td>\n",
       "    </tr>\n",
       "    <tr>\n",
       "      <th>241</th>\n",
       "      <td>59.70</td>\n",
       "      <td>60.447626</td>\n",
       "    </tr>\n",
       "    <tr>\n",
       "      <th>...</th>\n",
       "      <td>...</td>\n",
       "      <td>...</td>\n",
       "    </tr>\n",
       "    <tr>\n",
       "      <th>136</th>\n",
       "      <td>41.68</td>\n",
       "      <td>47.378178</td>\n",
       "    </tr>\n",
       "    <tr>\n",
       "      <th>191</th>\n",
       "      <td>50.64</td>\n",
       "      <td>54.506968</td>\n",
       "    </tr>\n",
       "    <tr>\n",
       "      <th>360</th>\n",
       "      <td>85.13</td>\n",
       "      <td>84.210259</td>\n",
       "    </tr>\n",
       "    <tr>\n",
       "      <th>3</th>\n",
       "      <td>18.65</td>\n",
       "      <td>16.486756</td>\n",
       "    </tr>\n",
       "    <tr>\n",
       "      <th>20</th>\n",
       "      <td>27.81</td>\n",
       "      <td>24.803677</td>\n",
       "    </tr>\n",
       "  </tbody>\n",
       "</table>\n",
       "<p>73 rows × 2 columns</p>\n",
       "</div>"
      ],
      "text/plain": [
       "     Actual  Predict_value\n",
       "147   48.77      48.566310\n",
       "125   45.26      46.190047\n",
       "314   69.66      68.764548\n",
       "56    36.79      35.496862\n",
       "241   59.70      60.447626\n",
       "..      ...            ...\n",
       "136   41.68      47.378178\n",
       "191   50.64      54.506968\n",
       "360   85.13      84.210259\n",
       "3     18.65      16.486756\n",
       "20    27.81      24.803677\n",
       "\n",
       "[73 rows x 2 columns]"
      ]
     },
     "execution_count": 9,
     "metadata": {},
     "output_type": "execute_result"
    }
   ],
   "source": [
    "# Compare Actual and Predicted Values\n",
    "\n",
    "data = pd.DataFrame({'Actual':y_test,'Predict_value':predict_value})\n",
    "data"
   ]
  },
  {
   "cell_type": "code",
   "execution_count": 10,
   "id": "01cc9156",
   "metadata": {
    "execution": {
     "iopub.execute_input": "2024-02-26T08:59:12.591647Z",
     "iopub.status.busy": "2024-02-26T08:59:12.590203Z",
     "iopub.status.idle": "2024-02-26T08:59:12.874241Z",
     "shell.execute_reply": "2024-02-26T08:59:12.873051Z"
    },
    "papermill": {
     "duration": 0.299417,
     "end_time": "2024-02-26T08:59:12.876942",
     "exception": false,
     "start_time": "2024-02-26T08:59:12.577525",
     "status": "completed"
    },
    "tags": []
   },
   "outputs": [
    {
     "data": {
      "text/plain": [
       "<Axes: xlabel='Actual', ylabel='Predict_value'>"
      ]
     },
     "execution_count": 10,
     "metadata": {},
     "output_type": "execute_result"
    },
    {
     "data": {
      "image/png": "[encoded data removed]",
      "text/plain": [
       "<Figure size 1000x500 with 1 Axes>"
      ]
     },
     "metadata": {},
     "output_type": "display_data"
    }
   ],
   "source": [
    "# Scatter plot\n",
    "\n",
    "plt.figure(figsize=(10,5))\n",
    "sns.scatterplot(x='Actual', y='Predict_value', data= data)"
   ]
  },
  {
   "cell_type": "markdown",
   "id": "2f7bd373",
   "metadata": {
    "papermill": {
     "duration": 0.012333,
     "end_time": "2024-02-26T08:59:12.901535",
     "exception": false,
     "start_time": "2024-02-26T08:59:12.889202",
     "status": "completed"
    },
    "tags": []
   },
   "source": [
    "The appropriateness of the model depends on how closely the points align with the y = x graph."
   ]
  },
  {
   "cell_type": "code",
   "execution_count": 11,
   "id": "00157e5a",
   "metadata": {
    "execution": {
     "iopub.execute_input": "2024-02-26T08:59:12.929194Z",
     "iopub.status.busy": "2024-02-26T08:59:12.928818Z",
     "iopub.status.idle": "2024-02-26T08:59:13.198212Z",
     "shell.execute_reply": "2024-02-26T08:59:13.197052Z"
    },
    "papermill": {
     "duration": 0.286713,
     "end_time": "2024-02-26T08:59:13.200799",
     "exception": false,
     "start_time": "2024-02-26T08:59:12.914086",
     "status": "completed"
    },
    "tags": []
   },
   "outputs": [
    {
     "data": {
      "text/plain": [
       "[<matplotlib.lines.Line2D at 0x7ee53bf59c90>]"
      ]
     },
     "execution_count": 11,
     "metadata": {},
     "output_type": "execute_result"
    },
    {
     "data": {
      "image/png": "[encoded data removed]",
      "text/plain": [
       "<Figure size 1000x500 with 1 Axes>"
      ]
     },
     "metadata": {},
     "output_type": "display_data"
    }
   ],
   "source": [
    "plt.figure(figsize=(10,5))\n",
    "sns.scatterplot(x='Actual', y='Predict_value', data= data)\n",
    "x = np.linspace(0, 100, 100)\n",
    "y = x \n",
    "plt.plot(x, y, color='red', linestyle='--')"
   ]
  },
  {
   "cell_type": "code",
   "execution_count": 12,
   "id": "9e0a63bd",
   "metadata": {
    "execution": {
     "iopub.execute_input": "2024-02-26T08:59:13.228346Z",
     "iopub.status.busy": "2024-02-26T08:59:13.227939Z",
     "iopub.status.idle": "2024-02-26T08:59:13.237292Z",
     "shell.execute_reply": "2024-02-26T08:59:13.236184Z"
    },
    "papermill": {
     "duration": 0.0262,
     "end_time": "2024-02-26T08:59:13.239874",
     "exception": false,
     "start_time": "2024-02-26T08:59:13.213674",
     "status": "completed"
    },
    "tags": []
   },
   "outputs": [
    {
     "data": {
      "text/plain": [
       "2.2442450805337675"
      ]
     },
     "execution_count": 12,
     "metadata": {},
     "output_type": "execute_result"
    }
   ],
   "source": [
    "# RMSE\n",
    "# It is calculated by rooting the MSE with the root mean square error. \n",
    "# Closer to zero is the better model, but it is relative, not absolute.\n",
    "\n",
    "mean_squared_error(y_test, predict_value)**0.5"
   ]
  },
  {
   "cell_type": "code",
   "execution_count": 13,
   "id": "3b3d99a1",
   "metadata": {
    "execution": {
     "iopub.execute_input": "2024-02-26T08:59:13.267570Z",
     "iopub.status.busy": "2024-02-26T08:59:13.267122Z",
     "iopub.status.idle": "2024-02-26T08:59:13.276808Z",
     "shell.execute_reply": "2024-02-26T08:59:13.275663Z"
    },
    "papermill": {
     "duration": 0.026274,
     "end_time": "2024-02-26T08:59:13.279108",
     "exception": false,
     "start_time": "2024-02-26T08:59:13.252834",
     "status": "completed"
    },
    "tags": []
   },
   "outputs": [
    {
     "data": {
      "text/plain": [
       "0.975455794766843"
      ]
     },
     "execution_count": 13,
     "metadata": {},
     "output_type": "execute_result"
    }
   ],
   "source": [
    "# R2\n",
    "# Closer to 1 is the better model\n",
    "\n",
    "model.score(X_train,y_train)"
   ]
  },
  {
   "cell_type": "markdown",
   "id": "574ddb84",
   "metadata": {
    "papermill": {
     "duration": 0.013202,
     "end_time": "2024-02-26T08:59:13.305327",
     "exception": false,
     "start_time": "2024-02-26T08:59:13.292125",
     "status": "completed"
    },
    "tags": []
   },
   "source": [
    "# Correlation Analysis"
   ]
  },
  {
   "cell_type": "code",
   "execution_count": 14,
   "id": "e38f854b",
   "metadata": {
    "execution": {
     "iopub.execute_input": "2024-02-26T08:59:13.334607Z",
     "iopub.status.busy": "2024-02-26T08:59:13.333728Z",
     "iopub.status.idle": "2024-02-26T08:59:13.342520Z",
     "shell.execute_reply": "2024-02-26T08:59:13.341660Z"
    },
    "papermill": {
     "duration": 0.025061,
     "end_time": "2024-02-26T08:59:13.344569",
     "exception": false,
     "start_time": "2024-02-26T08:59:13.319508",
     "status": "completed"
    },
    "tags": []
   },
   "outputs": [
    {
     "data": {
      "text/plain": [
       "Temperature    1.188132\n",
       "dtype: float64"
      ]
     },
     "execution_count": 14,
     "metadata": {},
     "output_type": "execute_result"
    }
   ],
   "source": [
    "pd.Series(model.coef_,index=X.columns)"
   ]
  },
  {
   "cell_type": "markdown",
   "id": "c1b50614",
   "metadata": {
    "papermill": {
     "duration": 0.013021,
     "end_time": "2024-02-26T08:59:13.371136",
     "exception": false,
     "start_time": "2024-02-26T08:59:13.358115",
     "status": "completed"
    },
    "tags": []
   },
   "source": [
    "The model allows us to determine the correlation.\n",
    "\n",
    "The coefficient is 1.188132, indicating that for every 1 unit increase in 'Temperature', 'Ice Cream Profits' increase by 1.188132 units."
   ]
  },
  {
   "cell_type": "code",
   "execution_count": 15,
   "id": "389ab860",
   "metadata": {
    "execution": {
     "iopub.execute_input": "2024-02-26T08:59:13.399576Z",
     "iopub.status.busy": "2024-02-26T08:59:13.399127Z",
     "iopub.status.idle": "2024-02-26T08:59:13.404412Z",
     "shell.execute_reply": "2024-02-26T08:59:13.403645Z"
    },
    "papermill": {
     "duration": 0.022828,
     "end_time": "2024-02-26T08:59:13.407208",
     "exception": false,
     "start_time": "2024-02-26T08:59:13.384380",
     "status": "completed"
    },
    "tags": []
   },
   "outputs": [
    {
     "data": {
      "text/plain": [
       "-33.414773286607954"
      ]
     },
     "execution_count": 15,
     "metadata": {},
     "output_type": "execute_result"
    }
   ],
   "source": [
    "# y-intercept value\n",
    "model.intercept_"
   ]
  },
  {
   "cell_type": "markdown",
   "id": "af1a99a0",
   "metadata": {
    "papermill": {
     "duration": 0.01451,
     "end_time": "2024-02-26T08:59:13.435394",
     "exception": false,
     "start_time": "2024-02-26T08:59:13.420884",
     "status": "completed"
    },
    "tags": []
   },
   "source": [
    "Finally, the function of the linear regression analysis is as follows."
   ]
  },
  {
   "attachments": {
    "a4dd4d40-01ca-4f64-94c4-3a7328ee8d5f.png": {
     "image/png": "[encoded data removed]"
    }
   },
   "cell_type": "markdown",
   "id": "aae43759",
   "metadata": {
    "papermill": {
     "duration": 0.01455,
     "end_time": "2024-02-26T08:59:13.468314",
     "exception": false,
     "start_time": "2024-02-26T08:59:13.453764",
     "status": "completed"
    },
    "tags": []
   },
   "source": [
    "![스크린샷 2024-02-26 174601.png](attachment:a4dd4d40-01ca-4f64-94c4-3a7328ee8d5f.png)"
   ]
  }
 ],
 "metadata": {
  "kaggle": {
   "accelerator": "none",
   "dataSources": [
    {
     "datasetId": 4465277,
     "sourceId": 7658392,
     "sourceType": "datasetVersion"
    }
   ],
   "dockerImageVersionId": 30646,
   "isGpuEnabled": false,
   "isInternetEnabled": false,
   "language": "python",
   "sourceType": "notebook"
  },
  "kernelspec": {
   "display_name": "Python 3",
   "language": "python",
   "name": "python3"
  },
  "language_info": {
   "codemirror_mode": {
    "name": "ipython",
    "version": 3
   },
   "file_extension": ".py",
   "mimetype": "text/x-python",
   "name": "python",
   "nbconvert_exporter": "python",
   "pygments_lexer": "ipython3",
   "version": "3.10.13"
  },
  "papermill": {
   "default_parameters": {},
   "duration": 12.274767,
   "end_time": "2024-02-26T08:59:14.104122",
   "environment_variables": {},
   "exception": null,
   "input_path": "__notebook__.ipynb",
   "output_path": "__notebook__.ipynb",
   "parameters": {},
   "start_time": "2024-02-26T08:59:01.829355",
   "version": "2.5.0"
  }
 },
 "nbformat": 4,
 "nbformat_minor": 5
}
