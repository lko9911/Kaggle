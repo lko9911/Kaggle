{
 "cells": [
  {
   "cell_type": "markdown",
   "id": "af75f8da",
   "metadata": {
    "papermill": {
     "duration": 0.009156,
     "end_time": "2024-04-12T14:40:12.368353",
     "exception": false,
     "start_time": "2024-04-12T14:40:12.359197",
     "status": "completed"
    },
    "tags": []
   },
   "source": [
    "# *Project : predict \"next_day_close\" column*"
   ]
  },
  {
   "cell_type": "markdown",
   "id": "8cb200b0",
   "metadata": {
    "papermill": {
     "duration": 0.007367,
     "end_time": "2024-04-12T14:40:12.383476",
     "exception": false,
     "start_time": "2024-04-12T14:40:12.376109",
     "status": "completed"
    },
    "tags": []
   },
   "source": [
    "# Import Libraries & Read Dataset"
   ]
  },
  {
   "cell_type": "code",
   "execution_count": 1,
   "id": "1d6713ab",
   "metadata": {
    "execution": {
     "iopub.execute_input": "2024-04-12T14:40:12.400664Z",
     "iopub.status.busy": "2024-04-12T14:40:12.400144Z",
     "iopub.status.idle": "2024-04-12T14:40:12.678958Z",
     "shell.execute_reply": "2024-04-12T14:40:12.677547Z"
    },
    "papermill": {
     "duration": 0.291101,
     "end_time": "2024-04-12T14:40:12.682174",
     "exception": false,
     "start_time": "2024-04-12T14:40:12.391073",
     "status": "completed"
    },
    "tags": []
   },
   "outputs": [],
   "source": [
    "import requests\n",
    "\n",
    "url = 'https://raw.githubusercontent.com/lko9911/Kaggle/master/Compare_Regression_models.py'\n",
    "\n",
    "r = requests.get(url)\n",
    "\n",
    "with open('Compare_Regression_models.py', 'w') as f:\n",
    "    f.write(r.text)"
   ]
  },
  {
   "cell_type": "code",
   "execution_count": 2,
   "id": "493b8c12",
   "metadata": {
    "execution": {
     "iopub.execute_input": "2024-04-12T14:40:12.699467Z",
     "iopub.status.busy": "2024-04-12T14:40:12.698780Z",
     "iopub.status.idle": "2024-04-12T14:40:17.661041Z",
     "shell.execute_reply": "2024-04-12T14:40:17.659683Z"
    },
    "papermill": {
     "duration": 4.974524,
     "end_time": "2024-04-12T14:40:17.664227",
     "exception": false,
     "start_time": "2024-04-12T14:40:12.689703",
     "status": "completed"
    },
    "tags": []
   },
   "outputs": [],
   "source": [
    "# For Compare modeling\n",
    "from Compare_Regression_models import evaluate_models\n",
    "\n",
    "# For Standard data\n",
    "from sklearn.preprocessing import StandardScaler\n",
    "\n",
    "# For Modeling\n",
    "from sklearn.model_selection import train_test_split\n",
    "from sklearn.ensemble import RandomForestRegressor\n",
    "from xgboost import XGBRegressor\n",
    "from sklearn.model_selection import GridSearchCV\n",
    "\n",
    "# For Evaluate model\n",
    "from sklearn.metrics import mean_squared_error\n",
    "from sklearn.metrics import r2_score\n",
    "\n",
    "# For EDA\n",
    "import pandas as pd\n",
    "import numpy as np\n",
    "import matplotlib.pyplot as plt\n",
    "import seaborn as sns\n",
    "import warnings\n",
    "warnings.filterwarnings(\"ignore\", category=FutureWarning)"
   ]
  },
  {
   "cell_type": "code",
   "execution_count": 3,
   "id": "5e6f6dc7",
   "metadata": {
    "execution": {
     "iopub.execute_input": "2024-04-12T14:40:17.682301Z",
     "iopub.status.busy": "2024-04-12T14:40:17.681663Z",
     "iopub.status.idle": "2024-04-12T14:40:17.759929Z",
     "shell.execute_reply": "2024-04-12T14:40:17.758681Z"
    },
    "papermill": {
     "duration": 0.090483,
     "end_time": "2024-04-12T14:40:17.762783",
     "exception": false,
     "start_time": "2024-04-12T14:40:17.672300",
     "status": "completed"
    },
    "tags": []
   },
   "outputs": [],
   "source": [
    "df = pd.read_csv('/kaggle/input/netflix-stock-price-with-indicators/nflx_2014_2023.csv')"
   ]
  },
  {
   "cell_type": "code",
   "execution_count": 4,
   "id": "1e7a9ccf",
   "metadata": {
    "execution": {
     "iopub.execute_input": "2024-04-12T14:40:17.779920Z",
     "iopub.status.busy": "2024-04-12T14:40:17.779528Z",
     "iopub.status.idle": "2024-04-12T14:40:17.811538Z",
     "shell.execute_reply": "2024-04-12T14:40:17.810242Z"
    },
    "papermill": {
     "duration": 0.043542,
     "end_time": "2024-04-12T14:40:17.814147",
     "exception": false,
     "start_time": "2024-04-12T14:40:17.770605",
     "status": "completed"
    },
    "tags": []
   },
   "outputs": [
    {
     "name": "stdout",
     "output_type": "stream",
     "text": [
      "<class 'pandas.core.frame.DataFrame'>\n",
      "RangeIndex: 2516 entries, 0 to 2515\n",
      "Data columns (total 20 columns):\n",
      " #   Column          Non-Null Count  Dtype  \n",
      "---  ------          --------------  -----  \n",
      " 0   date            2516 non-null   object \n",
      " 1   open            2516 non-null   float64\n",
      " 2   high            2516 non-null   float64\n",
      " 3   low             2516 non-null   float64\n",
      " 4   close           2516 non-null   float64\n",
      " 5   volume          2516 non-null   int64  \n",
      " 6   rsi_7           2516 non-null   float64\n",
      " 7   rsi_14          2516 non-null   float64\n",
      " 8   cci_7           2516 non-null   float64\n",
      " 9   cci_14          2516 non-null   float64\n",
      " 10  sma_50          2516 non-null   float64\n",
      " 11  ema_50          2516 non-null   float64\n",
      " 12  sma_100         2516 non-null   float64\n",
      " 13  ema_100         2516 non-null   float64\n",
      " 14  macd            2516 non-null   float64\n",
      " 15  bollinger       2516 non-null   float64\n",
      " 16  TrueRange       2516 non-null   float64\n",
      " 17  atr_7           2516 non-null   float64\n",
      " 18  atr_14          2516 non-null   float64\n",
      " 19  next_day_close  2516 non-null   float64\n",
      "dtypes: float64(18), int64(1), object(1)\n",
      "memory usage: 393.2+ KB\n"
     ]
    }
   ],
   "source": [
    "df.info()"
   ]
  },
  {
   "cell_type": "markdown",
   "id": "6e7eebc7",
   "metadata": {
    "papermill": {
     "duration": 0.007507,
     "end_time": "2024-04-12T14:40:17.829651",
     "exception": false,
     "start_time": "2024-04-12T14:40:17.822144",
     "status": "completed"
    },
    "tags": []
   },
   "source": [
    "# Data Preprocessing"
   ]
  },
  {
   "cell_type": "code",
   "execution_count": 5,
   "id": "96d9eae6",
   "metadata": {
    "execution": {
     "iopub.execute_input": "2024-04-12T14:40:17.848102Z",
     "iopub.status.busy": "2024-04-12T14:40:17.847655Z",
     "iopub.status.idle": "2024-04-12T14:40:17.859710Z",
     "shell.execute_reply": "2024-04-12T14:40:17.858216Z"
    },
    "papermill": {
     "duration": 0.024658,
     "end_time": "2024-04-12T14:40:17.862280",
     "exception": false,
     "start_time": "2024-04-12T14:40:17.837622",
     "status": "completed"
    },
    "tags": []
   },
   "outputs": [
    {
     "data": {
      "text/plain": [
       "date              0\n",
       "open              0\n",
       "high              0\n",
       "low               0\n",
       "close             0\n",
       "volume            0\n",
       "rsi_7             0\n",
       "rsi_14            0\n",
       "cci_7             0\n",
       "cci_14            0\n",
       "sma_50            0\n",
       "ema_50            0\n",
       "sma_100           0\n",
       "ema_100           0\n",
       "macd              0\n",
       "bollinger         0\n",
       "TrueRange         0\n",
       "atr_7             0\n",
       "atr_14            0\n",
       "next_day_close    0\n",
       "dtype: int64"
      ]
     },
     "execution_count": 5,
     "metadata": {},
     "output_type": "execute_result"
    }
   ],
   "source": [
    "df.isna().sum()"
   ]
  },
  {
   "cell_type": "code",
   "execution_count": 6,
   "id": "ebf3f1ae",
   "metadata": {
    "execution": {
     "iopub.execute_input": "2024-04-12T14:40:17.880994Z",
     "iopub.status.busy": "2024-04-12T14:40:17.880566Z",
     "iopub.status.idle": "2024-04-12T14:40:17.892644Z",
     "shell.execute_reply": "2024-04-12T14:40:17.891499Z"
    },
    "papermill": {
     "duration": 0.024003,
     "end_time": "2024-04-12T14:40:17.894891",
     "exception": false,
     "start_time": "2024-04-12T14:40:17.870888",
     "status": "completed"
    },
    "tags": []
   },
   "outputs": [],
   "source": [
    "df['date'] = pd.to_datetime(df['date'])"
   ]
  },
  {
   "cell_type": "markdown",
   "id": "05cbcaf1",
   "metadata": {
    "papermill": {
     "duration": 0.009048,
     "end_time": "2024-04-12T14:40:17.912124",
     "exception": false,
     "start_time": "2024-04-12T14:40:17.903076",
     "status": "completed"
    },
    "tags": []
   },
   "source": [
    "# Compare models "
   ]
  },
  {
   "cell_type": "code",
   "execution_count": 7,
   "id": "a1668445",
   "metadata": {
    "execution": {
     "iopub.execute_input": "2024-04-12T14:40:17.929991Z",
     "iopub.status.busy": "2024-04-12T14:40:17.929548Z",
     "iopub.status.idle": "2024-04-12T14:40:24.903422Z",
     "shell.execute_reply": "2024-04-12T14:40:24.902326Z"
    },
    "papermill": {
     "duration": 6.985529,
     "end_time": "2024-04-12T14:40:24.905932",
     "exception": false,
     "start_time": "2024-04-12T14:40:17.920403",
     "status": "completed"
    },
    "tags": []
   },
   "outputs": [
    {
     "name": "stderr",
     "output_type": "stream",
     "text": [
      "/opt/conda/lib/python3.10/site-packages/sklearn/linear_model/_coordinate_descent.py:631: ConvergenceWarning: Objective did not converge. You might want to increase the number of iterations, check the scale of the features or consider increasing regularisation. Duality gap: 1.554e+04, tolerance: 6.921e+03\n",
      "  model = cd_fast.enet_coordinate_descent(\n"
     ]
    },
    {
     "name": "stdout",
     "output_type": "stream",
     "text": [
      "[LightGBM] [Info] Auto-choosing col-wise multi-threading, the overhead of testing was 0.001922 seconds.\n",
      "You can set `force_col_wise=true` to remove the overhead.\n",
      "[LightGBM] [Info] Total Bins 4590\n",
      "[LightGBM] [Info] Number of data points in the train set: 2516, number of used features: 18\n",
      "[LightGBM] [Info] Start training from score 274.652630\n"
     ]
    },
    {
     "data": {
      "text/html": [
       "<div>\n",
       "<style scoped>\n",
       "    .dataframe tbody tr th:only-of-type {\n",
       "        vertical-align: middle;\n",
       "    }\n",
       "\n",
       "    .dataframe tbody tr th {\n",
       "        vertical-align: top;\n",
       "    }\n",
       "\n",
       "    .dataframe thead th {\n",
       "        text-align: right;\n",
       "    }\n",
       "</style>\n",
       "<table border=\"1\" class=\"dataframe\">\n",
       "  <thead>\n",
       "    <tr style=\"text-align: right;\">\n",
       "      <th></th>\n",
       "      <th>Model</th>\n",
       "      <th>RMSE</th>\n",
       "      <th>R2</th>\n",
       "    </tr>\n",
       "  </thead>\n",
       "  <tbody>\n",
       "    <tr>\n",
       "      <th>0</th>\n",
       "      <td>Linear Regression</td>\n",
       "      <td>8.488588</td>\n",
       "      <td>0.997381</td>\n",
       "    </tr>\n",
       "    <tr>\n",
       "      <th>1</th>\n",
       "      <td>Ridge Regression</td>\n",
       "      <td>8.557244</td>\n",
       "      <td>0.997338</td>\n",
       "    </tr>\n",
       "    <tr>\n",
       "      <th>2</th>\n",
       "      <td>Lasso Regression</td>\n",
       "      <td>8.881817</td>\n",
       "      <td>0.997132</td>\n",
       "    </tr>\n",
       "    <tr>\n",
       "      <th>3</th>\n",
       "      <td>ElasticNet</td>\n",
       "      <td>16.130630</td>\n",
       "      <td>0.990541</td>\n",
       "    </tr>\n",
       "    <tr>\n",
       "      <th>4</th>\n",
       "      <td>Decision Tree Regressor</td>\n",
       "      <td>0.000000</td>\n",
       "      <td>1.000000</td>\n",
       "    </tr>\n",
       "    <tr>\n",
       "      <th>5</th>\n",
       "      <td>Random Forest Regressor</td>\n",
       "      <td>3.448269</td>\n",
       "      <td>0.999568</td>\n",
       "    </tr>\n",
       "    <tr>\n",
       "      <th>6</th>\n",
       "      <td>Support Vector Machine Regressor</td>\n",
       "      <td>46.025042</td>\n",
       "      <td>0.922993</td>\n",
       "    </tr>\n",
       "    <tr>\n",
       "      <th>7</th>\n",
       "      <td>K-Nearest Neighbors Regressor</td>\n",
       "      <td>10.528784</td>\n",
       "      <td>0.995970</td>\n",
       "    </tr>\n",
       "    <tr>\n",
       "      <th>8</th>\n",
       "      <td>Gradient Boosting Regressor</td>\n",
       "      <td>6.457155</td>\n",
       "      <td>0.998484</td>\n",
       "    </tr>\n",
       "    <tr>\n",
       "      <th>9</th>\n",
       "      <td>XGBoost Regressor</td>\n",
       "      <td>1.408403</td>\n",
       "      <td>0.999928</td>\n",
       "    </tr>\n",
       "    <tr>\n",
       "      <th>10</th>\n",
       "      <td>LightGBM Regressor</td>\n",
       "      <td>4.572488</td>\n",
       "      <td>0.999240</td>\n",
       "    </tr>\n",
       "  </tbody>\n",
       "</table>\n",
       "</div>"
      ],
      "text/plain": [
       "                               Model       RMSE        R2\n",
       "0                  Linear Regression   8.488588  0.997381\n",
       "1                   Ridge Regression   8.557244  0.997338\n",
       "2                   Lasso Regression   8.881817  0.997132\n",
       "3                         ElasticNet  16.130630  0.990541\n",
       "4            Decision Tree Regressor   0.000000  1.000000\n",
       "5            Random Forest Regressor   3.448269  0.999568\n",
       "6   Support Vector Machine Regressor  46.025042  0.922993\n",
       "7      K-Nearest Neighbors Regressor  10.528784  0.995970\n",
       "8        Gradient Boosting Regressor   6.457155  0.998484\n",
       "9                  XGBoost Regressor   1.408403  0.999928\n",
       "10                LightGBM Regressor   4.572488  0.999240"
      ]
     },
     "execution_count": 7,
     "metadata": {},
     "output_type": "execute_result"
    }
   ],
   "source": [
    "X = df.drop(['date','next_day_close'], axis=1)\n",
    "y = df['next_day_close']\n",
    "\n",
    "evaluate_models(X,y)"
   ]
  },
  {
   "cell_type": "markdown",
   "id": "79d00bed",
   "metadata": {
    "papermill": {
     "duration": 0.008041,
     "end_time": "2024-04-12T14:40:24.922508",
     "exception": false,
     "start_time": "2024-04-12T14:40:24.914467",
     "status": "completed"
    },
    "tags": []
   },
   "source": [
    "# XGBoost Modeling"
   ]
  },
  {
   "cell_type": "markdown",
   "id": "5e64acc9",
   "metadata": {
    "papermill": {
     "duration": 0.007879,
     "end_time": "2024-04-12T14:40:24.938519",
     "exception": false,
     "start_time": "2024-04-12T14:40:24.930640",
     "status": "completed"
    },
    "tags": []
   },
   "source": [
    "> ## Find useful columns"
   ]
  },
  {
   "cell_type": "code",
   "execution_count": 8,
   "id": "d9f83287",
   "metadata": {
    "execution": {
     "iopub.execute_input": "2024-04-12T14:40:24.956663Z",
     "iopub.status.busy": "2024-04-12T14:40:24.956228Z",
     "iopub.status.idle": "2024-04-12T14:40:27.604075Z",
     "shell.execute_reply": "2024-04-12T14:40:27.602796Z"
    },
    "papermill": {
     "duration": 2.659939,
     "end_time": "2024-04-12T14:40:27.606647",
     "exception": false,
     "start_time": "2024-04-12T14:40:24.946708",
     "status": "completed"
    },
    "tags": []
   },
   "outputs": [
    {
     "name": "stdout",
     "output_type": "stream",
     "text": [
      "Selected Features: Index(['close', 'low', 'high', 'open', 'bollinger', 'sma_50', 'ema_50',\n",
      "       'sma_100', 'ema_100', 'volume'],\n",
      "      dtype='object')\n"
     ]
    }
   ],
   "source": [
    "X_train, X_test, y_train, y_test = train_test_split(X, y, test_size=0.2, random_state=42)\n",
    "\n",
    "rf_model = RandomForestRegressor(random_state=42)\n",
    "\n",
    "rf_model.fit(X_train, y_train)\n",
    "\n",
    "feature_importances = rf_model.feature_importances_\n",
    "\n",
    "sorted_indices = feature_importances.argsort()[::-1]\n",
    "\n",
    "k = 10\n",
    "selected_features = X.columns[sorted_indices][:k]\n",
    "\n",
    "print(\"Selected Features:\", selected_features)"
   ]
  },
  {
   "cell_type": "markdown",
   "id": "fa5ca5dd",
   "metadata": {
    "papermill": {
     "duration": 0.00788,
     "end_time": "2024-04-12T14:40:27.622919",
     "exception": false,
     "start_time": "2024-04-12T14:40:27.615039",
     "status": "completed"
    },
    "tags": []
   },
   "source": [
    "> ## Standardizing data"
   ]
  },
  {
   "cell_type": "code",
   "execution_count": 9,
   "id": "5525e47a",
   "metadata": {
    "execution": {
     "iopub.execute_input": "2024-04-12T14:40:27.641016Z",
     "iopub.status.busy": "2024-04-12T14:40:27.640623Z",
     "iopub.status.idle": "2024-04-12T14:40:27.655414Z",
     "shell.execute_reply": "2024-04-12T14:40:27.654230Z"
    },
    "papermill": {
     "duration": 0.026938,
     "end_time": "2024-04-12T14:40:27.658012",
     "exception": false,
     "start_time": "2024-04-12T14:40:27.631074",
     "status": "completed"
    },
    "tags": []
   },
   "outputs": [],
   "source": [
    "X_train = X_train[selected_features]\n",
    "X_test = X_test[selected_features]\n",
    "\n",
    "scaler = StandardScaler()\n",
    "\n",
    "X_train_scaled = scaler.fit_transform(X_train)\n",
    "X_test_scaled = scaler.transform(X_test)"
   ]
  },
  {
   "cell_type": "markdown",
   "id": "7b42304d",
   "metadata": {
    "papermill": {
     "duration": 0.007959,
     "end_time": "2024-04-12T14:40:27.674524",
     "exception": false,
     "start_time": "2024-04-12T14:40:27.666565",
     "status": "completed"
    },
    "tags": []
   },
   "source": [
    "> ## XGboost's GridSearch"
   ]
  },
  {
   "cell_type": "code",
   "execution_count": 10,
   "id": "6ef87e52",
   "metadata": {
    "execution": {
     "iopub.execute_input": "2024-04-12T14:40:27.693082Z",
     "iopub.status.busy": "2024-04-12T14:40:27.692699Z",
     "iopub.status.idle": "2024-04-12T14:41:08.354602Z",
     "shell.execute_reply": "2024-04-12T14:41:08.353172Z"
    },
    "papermill": {
     "duration": 40.676523,
     "end_time": "2024-04-12T14:41:08.359207",
     "exception": false,
     "start_time": "2024-04-12T14:40:27.682684",
     "status": "completed"
    },
    "tags": []
   },
   "outputs": [
    {
     "name": "stdout",
     "output_type": "stream",
     "text": [
      "Best parameters found:  {'learning_rate': 0.05, 'max_depth': 3, 'n_estimators': 100}\n"
     ]
    },
    {
     "data": {
      "text/html": [
       "<style>#sk-container-id-1 {color: black;background-color: white;}#sk-container-id-1 pre{padding: 0;}#sk-container-id-1 div.sk-toggleable {background-color: white;}#sk-container-id-1 label.sk-toggleable__label {cursor: pointer;display: block;width: 100%;margin-bottom: 0;padding: 0.3em;box-sizing: border-box;text-align: center;}#sk-container-id-1 label.sk-toggleable__label-arrow:before {content: \"▸\";float: left;margin-right: 0.25em;color: #696969;}#sk-container-id-1 label.sk-toggleable__label-arrow:hover:before {color: black;}#sk-container-id-1 div.sk-estimator:hover label.sk-toggleable__label-arrow:before {color: black;}#sk-container-id-1 div.sk-toggleable__content {max-height: 0;max-width: 0;overflow: hidden;text-align: left;background-color: #f0f8ff;}#sk-container-id-1 div.sk-toggleable__content pre {margin: 0.2em;color: black;border-radius: 0.25em;background-color: #f0f8ff;}#sk-container-id-1 input.sk-toggleable__control:checked~div.sk-toggleable__content {max-height: 200px;max-width: 100%;overflow: auto;}#sk-container-id-1 input.sk-toggleable__control:checked~label.sk-toggleable__label-arrow:before {content: \"▾\";}#sk-container-id-1 div.sk-estimator input.sk-toggleable__control:checked~label.sk-toggleable__label {background-color: #d4ebff;}#sk-container-id-1 div.sk-label input.sk-toggleable__control:checked~label.sk-toggleable__label {background-color: #d4ebff;}#sk-container-id-1 input.sk-hidden--visually {border: 0;clip: rect(1px 1px 1px 1px);clip: rect(1px, 1px, 1px, 1px);height: 1px;margin: -1px;overflow: hidden;padding: 0;position: absolute;width: 1px;}#sk-container-id-1 div.sk-estimator {font-family: monospace;background-color: #f0f8ff;border: 1px dotted black;border-radius: 0.25em;box-sizing: border-box;margin-bottom: 0.5em;}#sk-container-id-1 div.sk-estimator:hover {background-color: #d4ebff;}#sk-container-id-1 div.sk-parallel-item::after {content: \"\";width: 100%;border-bottom: 1px solid gray;flex-grow: 1;}#sk-container-id-1 div.sk-label:hover label.sk-toggleable__label {background-color: #d4ebff;}#sk-container-id-1 div.sk-serial::before {content: \"\";position: absolute;border-left: 1px solid gray;box-sizing: border-box;top: 0;bottom: 0;left: 50%;z-index: 0;}#sk-container-id-1 div.sk-serial {display: flex;flex-direction: column;align-items: center;background-color: white;padding-right: 0.2em;padding-left: 0.2em;position: relative;}#sk-container-id-1 div.sk-item {position: relative;z-index: 1;}#sk-container-id-1 div.sk-parallel {display: flex;align-items: stretch;justify-content: center;background-color: white;position: relative;}#sk-container-id-1 div.sk-item::before, #sk-container-id-1 div.sk-parallel-item::before {content: \"\";position: absolute;border-left: 1px solid gray;box-sizing: border-box;top: 0;bottom: 0;left: 50%;z-index: -1;}#sk-container-id-1 div.sk-parallel-item {display: flex;flex-direction: column;z-index: 1;position: relative;background-color: white;}#sk-container-id-1 div.sk-parallel-item:first-child::after {align-self: flex-end;width: 50%;}#sk-container-id-1 div.sk-parallel-item:last-child::after {align-self: flex-start;width: 50%;}#sk-container-id-1 div.sk-parallel-item:only-child::after {width: 0;}#sk-container-id-1 div.sk-dashed-wrapped {border: 1px dashed gray;margin: 0 0.4em 0.5em 0.4em;box-sizing: border-box;padding-bottom: 0.4em;background-color: white;}#sk-container-id-1 div.sk-label label {font-family: monospace;font-weight: bold;display: inline-block;line-height: 1.2em;}#sk-container-id-1 div.sk-label-container {text-align: center;}#sk-container-id-1 div.sk-container {/* jupyter's `normalize.less` sets `[hidden] { display: none; }` but bootstrap.min.css set `[hidden] { display: none !important; }` so we also need the `!important` here to be able to override the default hidden behavior on the sphinx rendered scikit-learn.org. See: https://github.com/scikit-learn/scikit-learn/issues/21755 */display: inline-block !important;position: relative;}#sk-container-id-1 div.sk-text-repr-fallback {display: none;}</style><div id=\"sk-container-id-1\" class=\"sk-top-container\"><div class=\"sk-text-repr-fallback\"><pre>XGBRegressor(base_score=None, booster=None, callbacks=None,\n",
       "             colsample_bylevel=None, colsample_bynode=None,\n",
       "             colsample_bytree=None, device=None, early_stopping_rounds=None,\n",
       "             enable_categorical=False, eval_metric=None, feature_types=None,\n",
       "             gamma=None, grow_policy=None, importance_type=None,\n",
       "             interaction_constraints=None, learning_rate=0.05, max_bin=None,\n",
       "             max_cat_threshold=None, max_cat_to_onehot=None,\n",
       "             max_delta_step=None, max_depth=3, max_leaves=None,\n",
       "             min_child_weight=None, missing=nan, monotone_constraints=None,\n",
       "             multi_strategy=None, n_estimators=100, n_jobs=None,\n",
       "             num_parallel_tree=None, random_state=None, ...)</pre><b>In a Jupyter environment, please rerun this cell to show the HTML representation or trust the notebook. <br />On GitHub, the HTML representation is unable to render, please try loading this page with nbviewer.org.</b></div><div class=\"sk-container\" hidden><div class=\"sk-item\"><div class=\"sk-estimator sk-toggleable\"><input class=\"sk-toggleable__control sk-hidden--visually\" id=\"sk-estimator-id-1\" type=\"checkbox\" checked><label for=\"sk-estimator-id-1\" class=\"sk-toggleable__label sk-toggleable__label-arrow\">XGBRegressor</label><div class=\"sk-toggleable__content\"><pre>XGBRegressor(base_score=None, booster=None, callbacks=None,\n",
       "             colsample_bylevel=None, colsample_bynode=None,\n",
       "             colsample_bytree=None, device=None, early_stopping_rounds=None,\n",
       "             enable_categorical=False, eval_metric=None, feature_types=None,\n",
       "             gamma=None, grow_policy=None, importance_type=None,\n",
       "             interaction_constraints=None, learning_rate=0.05, max_bin=None,\n",
       "             max_cat_threshold=None, max_cat_to_onehot=None,\n",
       "             max_delta_step=None, max_depth=3, max_leaves=None,\n",
       "             min_child_weight=None, missing=nan, monotone_constraints=None,\n",
       "             multi_strategy=None, n_estimators=100, n_jobs=None,\n",
       "             num_parallel_tree=None, random_state=None, ...)</pre></div></div></div></div></div>"
      ],
      "text/plain": [
       "XGBRegressor(base_score=None, booster=None, callbacks=None,\n",
       "             colsample_bylevel=None, colsample_bynode=None,\n",
       "             colsample_bytree=None, device=None, early_stopping_rounds=None,\n",
       "             enable_categorical=False, eval_metric=None, feature_types=None,\n",
       "             gamma=None, grow_policy=None, importance_type=None,\n",
       "             interaction_constraints=None, learning_rate=0.05, max_bin=None,\n",
       "             max_cat_threshold=None, max_cat_to_onehot=None,\n",
       "             max_delta_step=None, max_depth=3, max_leaves=None,\n",
       "             min_child_weight=None, missing=nan, monotone_constraints=None,\n",
       "             multi_strategy=None, n_estimators=100, n_jobs=None,\n",
       "             num_parallel_tree=None, random_state=None, ...)"
      ]
     },
     "execution_count": 10,
     "metadata": {},
     "output_type": "execute_result"
    }
   ],
   "source": [
    "param_grid = {\n",
    "    'n_estimators': [100,200,300,400],\n",
    "    'max_depth': [3, 5, 7],\n",
    "    'learning_rate': [0.01, 0.05, 0.1]\n",
    "}\n",
    "\n",
    "xgb_model = XGBRegressor()\n",
    "\n",
    "grid_search = GridSearchCV(estimator=xgb_model, param_grid=param_grid, cv=3, scoring='neg_mean_squared_error')\n",
    "\n",
    "grid_search.fit(X_train_scaled, y_train)\n",
    "\n",
    "print(\"Best parameters found: \", grid_search.best_params_)\n",
    "\n",
    "best_xgb_model = grid_search.best_estimator_\n",
    "best_xgb_model.fit(X_train_scaled, y_train)"
   ]
  },
  {
   "cell_type": "markdown",
   "id": "816711f2",
   "metadata": {
    "papermill": {
     "duration": 0.008979,
     "end_time": "2024-04-12T14:41:08.377123",
     "exception": false,
     "start_time": "2024-04-12T14:41:08.368144",
     "status": "completed"
    },
    "tags": []
   },
   "source": [
    "# Evaluating XGBoost Regressor"
   ]
  },
  {
   "cell_type": "code",
   "execution_count": 11,
   "id": "6db39847",
   "metadata": {
    "execution": {
     "iopub.execute_input": "2024-04-12T14:41:08.397203Z",
     "iopub.status.busy": "2024-04-12T14:41:08.396785Z",
     "iopub.status.idle": "2024-04-12T14:41:08.409141Z",
     "shell.execute_reply": "2024-04-12T14:41:08.407529Z"
    },
    "papermill": {
     "duration": 0.025808,
     "end_time": "2024-04-12T14:41:08.412070",
     "exception": false,
     "start_time": "2024-04-12T14:41:08.386262",
     "status": "completed"
    },
    "tags": []
   },
   "outputs": [
    {
     "name": "stdout",
     "output_type": "stream",
     "text": [
      "RMSE :  9.16441\n",
      "R2 Score: 0.99707\n"
     ]
    }
   ],
   "source": [
    "y_pred = best_xgb_model.predict(X_test_scaled)\n",
    "\n",
    "rmse = mean_squared_error(y_test, y_pred, squared=False)\n",
    "r2 = r2_score(y_test, y_pred)\n",
    "\n",
    "print(\"RMSE : \", round(rmse,5))\n",
    "print(\"R2 Score:\", round(r2,5))"
   ]
  },
  {
   "cell_type": "code",
   "execution_count": 12,
   "id": "4f8b4518",
   "metadata": {
    "execution": {
     "iopub.execute_input": "2024-04-12T14:41:08.438142Z",
     "iopub.status.busy": "2024-04-12T14:41:08.437725Z",
     "iopub.status.idle": "2024-04-12T14:41:08.458786Z",
     "shell.execute_reply": "2024-04-12T14:41:08.457593Z"
    },
    "papermill": {
     "duration": 0.038706,
     "end_time": "2024-04-12T14:41:08.462132",
     "exception": false,
     "start_time": "2024-04-12T14:41:08.423426",
     "status": "completed"
    },
    "tags": []
   },
   "outputs": [
    {
     "data": {
      "text/html": [
       "<div>\n",
       "<style scoped>\n",
       "    .dataframe tbody tr th:only-of-type {\n",
       "        vertical-align: middle;\n",
       "    }\n",
       "\n",
       "    .dataframe tbody tr th {\n",
       "        vertical-align: top;\n",
       "    }\n",
       "\n",
       "    .dataframe thead th {\n",
       "        text-align: right;\n",
       "    }\n",
       "</style>\n",
       "<table border=\"1\" class=\"dataframe\">\n",
       "  <thead>\n",
       "    <tr style=\"text-align: right;\">\n",
       "      <th></th>\n",
       "      <th>actual</th>\n",
       "      <th>pred</th>\n",
       "    </tr>\n",
       "  </thead>\n",
       "  <tbody>\n",
       "    <tr>\n",
       "      <th>617</th>\n",
       "      <td>95.440002</td>\n",
       "      <td>95.482658</td>\n",
       "    </tr>\n",
       "    <tr>\n",
       "      <th>927</th>\n",
       "      <td>176.419998</td>\n",
       "      <td>178.678345</td>\n",
       "    </tr>\n",
       "    <tr>\n",
       "      <th>942</th>\n",
       "      <td>181.350006</td>\n",
       "      <td>181.010895</td>\n",
       "    </tr>\n",
       "    <tr>\n",
       "      <th>973</th>\n",
       "      <td>195.080002</td>\n",
       "      <td>192.872116</td>\n",
       "    </tr>\n",
       "    <tr>\n",
       "      <th>1968</th>\n",
       "      <td>662.919983</td>\n",
       "      <td>659.477173</td>\n",
       "    </tr>\n",
       "    <tr>\n",
       "      <th>...</th>\n",
       "      <td>...</td>\n",
       "      <td>...</td>\n",
       "    </tr>\n",
       "    <tr>\n",
       "      <th>51</th>\n",
       "      <td>60.012856</td>\n",
       "      <td>61.585583</td>\n",
       "    </tr>\n",
       "    <tr>\n",
       "      <th>1936</th>\n",
       "      <td>589.289978</td>\n",
       "      <td>601.313843</td>\n",
       "    </tr>\n",
       "    <tr>\n",
       "      <th>495</th>\n",
       "      <td>116.629997</td>\n",
       "      <td>122.355438</td>\n",
       "    </tr>\n",
       "    <tr>\n",
       "      <th>1506</th>\n",
       "      <td>329.089996</td>\n",
       "      <td>338.321289</td>\n",
       "    </tr>\n",
       "    <tr>\n",
       "      <th>1786</th>\n",
       "      <td>547.919983</td>\n",
       "      <td>545.078125</td>\n",
       "    </tr>\n",
       "  </tbody>\n",
       "</table>\n",
       "<p>504 rows × 2 columns</p>\n",
       "</div>"
      ],
      "text/plain": [
       "          actual        pred\n",
       "617    95.440002   95.482658\n",
       "927   176.419998  178.678345\n",
       "942   181.350006  181.010895\n",
       "973   195.080002  192.872116\n",
       "1968  662.919983  659.477173\n",
       "...          ...         ...\n",
       "51     60.012856   61.585583\n",
       "1936  589.289978  601.313843\n",
       "495   116.629997  122.355438\n",
       "1506  329.089996  338.321289\n",
       "1786  547.919983  545.078125\n",
       "\n",
       "[504 rows x 2 columns]"
      ]
     },
     "execution_count": 12,
     "metadata": {},
     "output_type": "execute_result"
    }
   ],
   "source": [
    "y_pred = best_xgb_model.predict(X_test_scaled)\n",
    "\n",
    "comparison = pd.DataFrame({'actual': y_test, 'pred': y_pred})\n",
    "comparison"
   ]
  },
  {
   "cell_type": "code",
   "execution_count": 13,
   "id": "8e9200f9",
   "metadata": {
    "execution": {
     "iopub.execute_input": "2024-04-12T14:41:08.489207Z",
     "iopub.status.busy": "2024-04-12T14:41:08.488706Z",
     "iopub.status.idle": "2024-04-12T14:41:08.870006Z",
     "shell.execute_reply": "2024-04-12T14:41:08.869001Z"
    },
    "papermill": {
     "duration": 0.398652,
     "end_time": "2024-04-12T14:41:08.873061",
     "exception": false,
     "start_time": "2024-04-12T14:41:08.474409",
     "status": "completed"
    },
    "tags": []
   },
   "outputs": [
    {
     "data": {
      "image/png": "[encoded data removed]",
      "text/plain": [
       "<Figure size 1200x600 with 1 Axes>"
      ]
     },
     "metadata": {},
     "output_type": "display_data"
    }
   ],
   "source": [
    "plt.figure(figsize=(12,6))\n",
    "\n",
    "sns.scatterplot(x='actual', y='pred', data=comparison)\n",
    "plt.plot(comparison['actual'], comparison['actual'], color='red', linestyle='--')\n",
    "plt.title('Actual vs Pred', fontsize=18)\n",
    "plt.xlabel('Actual', fontsize=14)\n",
    "plt.ylabel('Pred', fontsize=14)\n",
    "plt.xticks(rotation=0, fontsize=12)  \n",
    "plt.yticks(fontsize=12)\n",
    "plt.grid(linestyle='--')\n",
    "plt.show()"
   ]
  },
  {
   "cell_type": "code",
   "execution_count": 14,
   "id": "ad4486d7",
   "metadata": {
    "execution": {
     "iopub.execute_input": "2024-04-12T14:41:08.895871Z",
     "iopub.status.busy": "2024-04-12T14:41:08.895462Z",
     "iopub.status.idle": "2024-04-12T14:41:09.295165Z",
     "shell.execute_reply": "2024-04-12T14:41:09.293933Z"
    },
    "papermill": {
     "duration": 0.41451,
     "end_time": "2024-04-12T14:41:09.298264",
     "exception": false,
     "start_time": "2024-04-12T14:41:08.883754",
     "status": "completed"
    },
    "tags": []
   },
   "outputs": [
    {
     "data": {
      "image/png": "[encoded data removed]",
      "text/plain": [
       "<Figure size 1200x600 with 1 Axes>"
      ]
     },
     "metadata": {},
     "output_type": "display_data"
    }
   ],
   "source": [
    "importances = best_xgb_model.feature_importances_\n",
    "\n",
    "sorted_indices = np.argsort(importances)[::-1]\n",
    "feature_names = X_train.columns\n",
    "\n",
    "plt.figure(figsize=(12, 6))\n",
    "sns.barplot(x=[feature_names[i] for i in sorted_indices], y=importances[sorted_indices], palette=\"viridis\")\n",
    "plt.xticks(rotation=0, fontsize=12)\n",
    "plt.xlabel('Feature', fontsize=14)\n",
    "plt.ylabel('Importance', fontsize=14)\n",
    "plt.title('Feature Importance', fontsize=16)\n",
    "plt.grid(linestyle='--')\n",
    "plt.show()"
   ]
  },
  {
   "cell_type": "markdown",
   "id": "3e0ad59f",
   "metadata": {
    "papermill": {
     "duration": 0.011363,
     "end_time": "2024-04-12T14:41:09.320903",
     "exception": false,
     "start_time": "2024-04-12T14:41:09.309540",
     "status": "completed"
    },
    "tags": []
   },
   "source": [
    "# Thanks"
   ]
  }
 ],
 "metadata": {
  "kaggle": {
   "accelerator": "none",
   "dataSources": [
    {
     "datasetId": 4779958,
     "sourceId": 8095670,
     "sourceType": "datasetVersion"
    }
   ],
   "dockerImageVersionId": 30684,
   "isGpuEnabled": false,
   "isInternetEnabled": true,
   "language": "python",
   "sourceType": "notebook"
  },
  "kernelspec": {
   "display_name": "Python 3",
   "language": "python",
   "name": "python3"
  },
  "language_info": {
   "codemirror_mode": {
    "name": "ipython",
    "version": 3
   },
   "file_extension": ".py",
   "mimetype": "text/x-python",
   "name": "python",
   "nbconvert_exporter": "python",
   "pygments_lexer": "ipython3",
   "version": "3.10.13"
  },
  "papermill": {
   "default_parameters": {},
   "duration": 60.97129,
   "end_time": "2024-04-12T14:41:10.154200",
   "environment_variables": {},
   "exception": null,
   "input_path": "__notebook__.ipynb",
   "output_path": "__notebook__.ipynb",
   "parameters": {},
   "start_time": "2024-04-12T14:40:09.182910",
   "version": "2.5.0"
  }
 },
 "nbformat": 4,
 "nbformat_minor": 5
}
