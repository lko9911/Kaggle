{
 "cells": [
  {
   "cell_type": "markdown",
   "id": "e1597812",
   "metadata": {
    "papermill": {
     "duration": 0.009743,
     "end_time": "2024-06-26T04:52:31.164671",
     "exception": false,
     "start_time": "2024-06-26T04:52:31.154928",
     "status": "completed"
    },
    "tags": []
   },
   "source": [
    "<div style=\"padding:20px;color:white;margin:0;font-size:300%;font-weight:800;text-align:center;display:fill;border-radius:60px;background-color:#CC99FF\">Filght Price Prediction</div>"
   ]
  },
  {
   "cell_type": "markdown",
   "id": "403f424d",
   "metadata": {
    "papermill": {
     "duration": 0.008816,
     "end_time": "2024-06-26T04:52:31.182985",
     "exception": false,
     "start_time": "2024-06-26T04:52:31.174169",
     "status": "completed"
    },
    "tags": []
   },
   "source": [
    "# Project. Filght Price Prediction\n",
    "## Goal\n",
    "> ## Modeling : Predicting Filght Price "
   ]
  },
  {
   "cell_type": "code",
   "execution_count": 1,
   "id": "36553a94",
   "metadata": {
    "_cell_guid": "b1076dfc-b9ad-4769-8c92-a6c4dae69d19",
    "_uuid": "8f2839f25d086af736a60e9eeb907d3b93b6e0e5",
    "execution": {
     "iopub.execute_input": "2024-06-26T04:52:31.202666Z",
     "iopub.status.busy": "2024-06-26T04:52:31.202287Z",
     "iopub.status.idle": "2024-06-26T04:52:32.028084Z",
     "shell.execute_reply": "2024-06-26T04:52:32.026958Z"
    },
    "papermill": {
     "duration": 0.838568,
     "end_time": "2024-06-26T04:52:32.030531",
     "exception": false,
     "start_time": "2024-06-26T04:52:31.191963",
     "status": "completed"
    },
    "tags": []
   },
   "outputs": [
    {
     "name": "stdout",
     "output_type": "stream",
     "text": [
      "/kaggle/input/flight-price-data/flight_dataset.csv\n"
     ]
    }
   ],
   "source": [
    "# This Python 3 environment comes with many helpful analytics libraries installed\n",
    "# It is defined by the kaggle/python Docker image: https://github.com/kaggle/docker-python\n",
    "# For example, here's several helpful packages to load\n",
    "\n",
    "import numpy as np # linear algebra\n",
    "import pandas as pd # data processing, CSV file I/O (e.g. pd.read_csv)\n",
    "\n",
    "# Input data files are available in the read-only \"../input/\" directory\n",
    "# For example, running this (by clicking run or pressing Shift+Enter) will list all files under the input directory\n",
    "\n",
    "import os\n",
    "for dirname, _, filenames in os.walk('/kaggle/input'):\n",
    "    for filename in filenames:\n",
    "        print(os.path.join(dirname, filename))\n",
    "\n",
    "# You can write up to 20GB to the current directory (/kaggle/working/) that gets preserved as output when you create a version using \"Save & Run All\" \n",
    "# You can also write temporary files to /kaggle/temp/, but they won't be saved outside of the current session"
   ]
  },
  {
   "cell_type": "markdown",
   "id": "5c18958e",
   "metadata": {
    "papermill": {
     "duration": 0.007915,
     "end_time": "2024-06-26T04:52:32.046977",
     "exception": false,
     "start_time": "2024-06-26T04:52:32.039062",
     "status": "completed"
    },
    "tags": []
   },
   "source": [
    "# Import Libraries & Read Dataset"
   ]
  },
  {
   "cell_type": "code",
   "execution_count": 2,
   "id": "f662523b",
   "metadata": {
    "execution": {
     "iopub.execute_input": "2024-06-26T04:52:32.064269Z",
     "iopub.status.busy": "2024-06-26T04:52:32.063826Z",
     "iopub.status.idle": "2024-06-26T04:52:32.068403Z",
     "shell.execute_reply": "2024-06-26T04:52:32.067484Z"
    },
    "papermill": {
     "duration": 0.015798,
     "end_time": "2024-06-26T04:52:32.070599",
     "exception": false,
     "start_time": "2024-06-26T04:52:32.054801",
     "status": "completed"
    },
    "tags": []
   },
   "outputs": [],
   "source": [
    "import os\n",
    "os.environ['TF_CPP_MIN_LOG_LEVEL'] = '3'"
   ]
  },
  {
   "cell_type": "code",
   "execution_count": 3,
   "id": "66925e8b",
   "metadata": {
    "execution": {
     "iopub.execute_input": "2024-06-26T04:52:32.089704Z",
     "iopub.status.busy": "2024-06-26T04:52:32.089429Z",
     "iopub.status.idle": "2024-06-26T04:52:49.189458Z",
     "shell.execute_reply": "2024-06-26T04:52:49.188483Z"
    },
    "papermill": {
     "duration": 17.112381,
     "end_time": "2024-06-26T04:52:49.191957",
     "exception": false,
     "start_time": "2024-06-26T04:52:32.079576",
     "status": "completed"
    },
    "tags": []
   },
   "outputs": [],
   "source": [
    "# For EDA\n",
    "import pandas as pd\n",
    "import numpy as np\n",
    "import matplotlib.pyplot as plt\n",
    "import seaborn as sns\n",
    "import plotly.graph_objects as go\n",
    "import plotly.express as px\n",
    "from plotly.subplots import make_subplots\n",
    "\n",
    "import warnings\n",
    "warnings.filterwarnings('ignore', category=FutureWarning)\n",
    "\n",
    "# For machine learning\n",
    "from sklearn.pipeline import Pipeline\n",
    "from sklearn.compose import ColumnTransformer\n",
    "from sklearn.preprocessing import OneHotEncoder\n",
    "from sklearn.linear_model import LinearRegression, Ridge, Lasso, ElasticNet\n",
    "from sklearn.tree import DecisionTreeRegressor\n",
    "from sklearn.ensemble import RandomForestRegressor, GradientBoostingRegressor\n",
    "from sklearn.svm import SVR\n",
    "from sklearn.neighbors import KNeighborsRegressor\n",
    "from xgboost import XGBRegressor\n",
    "from lightgbm import LGBMRegressor\n",
    "from sklearn.preprocessing import StandardScaler\n",
    "from sklearn.model_selection import train_test_split\n",
    "from sklearn.metrics import mean_squared_error, r2_score\n",
    "\n",
    "# For Deep learning\n",
    "from sklearn.preprocessing import LabelEncoder, StandardScaler\n",
    "from tensorflow.keras.models import Sequential\n",
    "from tensorflow.keras.layers import Dense, Dropout, SimpleRNN, LSTM , Input , Embedding"
   ]
  },
  {
   "cell_type": "code",
   "execution_count": 4,
   "id": "3d0b0b01",
   "metadata": {
    "execution": {
     "iopub.execute_input": "2024-06-26T04:52:49.210470Z",
     "iopub.status.busy": "2024-06-26T04:52:49.209753Z",
     "iopub.status.idle": "2024-06-26T04:52:49.267307Z",
     "shell.execute_reply": "2024-06-26T04:52:49.266367Z"
    },
    "papermill": {
     "duration": 0.069305,
     "end_time": "2024-06-26T04:52:49.269375",
     "exception": false,
     "start_time": "2024-06-26T04:52:49.200070",
     "status": "completed"
    },
    "tags": []
   },
   "outputs": [
    {
     "data": {
      "text/html": [
       "<div>\n",
       "<style scoped>\n",
       "    .dataframe tbody tr th:only-of-type {\n",
       "        vertical-align: middle;\n",
       "    }\n",
       "\n",
       "    .dataframe tbody tr th {\n",
       "        vertical-align: top;\n",
       "    }\n",
       "\n",
       "    .dataframe thead th {\n",
       "        text-align: right;\n",
       "    }\n",
       "</style>\n",
       "<table border=\"1\" class=\"dataframe\">\n",
       "  <thead>\n",
       "    <tr style=\"text-align: right;\">\n",
       "      <th></th>\n",
       "      <th>Airline</th>\n",
       "      <th>Source</th>\n",
       "      <th>Destination</th>\n",
       "      <th>Total_Stops</th>\n",
       "      <th>Price</th>\n",
       "      <th>Date</th>\n",
       "      <th>Month</th>\n",
       "      <th>Year</th>\n",
       "      <th>Dep_hours</th>\n",
       "      <th>Dep_min</th>\n",
       "      <th>Arrival_hours</th>\n",
       "      <th>Arrival_min</th>\n",
       "      <th>Duration_hours</th>\n",
       "      <th>Duration_min</th>\n",
       "    </tr>\n",
       "  </thead>\n",
       "  <tbody>\n",
       "    <tr>\n",
       "      <th>0</th>\n",
       "      <td>IndiGo</td>\n",
       "      <td>Banglore</td>\n",
       "      <td>New Delhi</td>\n",
       "      <td>0</td>\n",
       "      <td>3897</td>\n",
       "      <td>24</td>\n",
       "      <td>3</td>\n",
       "      <td>2019</td>\n",
       "      <td>22</td>\n",
       "      <td>20</td>\n",
       "      <td>1</td>\n",
       "      <td>10</td>\n",
       "      <td>2</td>\n",
       "      <td>50</td>\n",
       "    </tr>\n",
       "    <tr>\n",
       "      <th>1</th>\n",
       "      <td>Air India</td>\n",
       "      <td>Kolkata</td>\n",
       "      <td>Banglore</td>\n",
       "      <td>2</td>\n",
       "      <td>7662</td>\n",
       "      <td>1</td>\n",
       "      <td>5</td>\n",
       "      <td>2019</td>\n",
       "      <td>5</td>\n",
       "      <td>50</td>\n",
       "      <td>13</td>\n",
       "      <td>15</td>\n",
       "      <td>7</td>\n",
       "      <td>25</td>\n",
       "    </tr>\n",
       "    <tr>\n",
       "      <th>2</th>\n",
       "      <td>Jet Airways</td>\n",
       "      <td>Delhi</td>\n",
       "      <td>Cochin</td>\n",
       "      <td>2</td>\n",
       "      <td>13882</td>\n",
       "      <td>9</td>\n",
       "      <td>6</td>\n",
       "      <td>2019</td>\n",
       "      <td>9</td>\n",
       "      <td>25</td>\n",
       "      <td>4</td>\n",
       "      <td>25</td>\n",
       "      <td>19</td>\n",
       "      <td>0</td>\n",
       "    </tr>\n",
       "    <tr>\n",
       "      <th>3</th>\n",
       "      <td>IndiGo</td>\n",
       "      <td>Kolkata</td>\n",
       "      <td>Banglore</td>\n",
       "      <td>1</td>\n",
       "      <td>6218</td>\n",
       "      <td>12</td>\n",
       "      <td>5</td>\n",
       "      <td>2019</td>\n",
       "      <td>18</td>\n",
       "      <td>5</td>\n",
       "      <td>23</td>\n",
       "      <td>30</td>\n",
       "      <td>5</td>\n",
       "      <td>25</td>\n",
       "    </tr>\n",
       "    <tr>\n",
       "      <th>4</th>\n",
       "      <td>IndiGo</td>\n",
       "      <td>Banglore</td>\n",
       "      <td>New Delhi</td>\n",
       "      <td>1</td>\n",
       "      <td>13302</td>\n",
       "      <td>1</td>\n",
       "      <td>3</td>\n",
       "      <td>2019</td>\n",
       "      <td>16</td>\n",
       "      <td>50</td>\n",
       "      <td>21</td>\n",
       "      <td>35</td>\n",
       "      <td>4</td>\n",
       "      <td>45</td>\n",
       "    </tr>\n",
       "    <tr>\n",
       "      <th>...</th>\n",
       "      <td>...</td>\n",
       "      <td>...</td>\n",
       "      <td>...</td>\n",
       "      <td>...</td>\n",
       "      <td>...</td>\n",
       "      <td>...</td>\n",
       "      <td>...</td>\n",
       "      <td>...</td>\n",
       "      <td>...</td>\n",
       "      <td>...</td>\n",
       "      <td>...</td>\n",
       "      <td>...</td>\n",
       "      <td>...</td>\n",
       "      <td>...</td>\n",
       "    </tr>\n",
       "    <tr>\n",
       "      <th>10678</th>\n",
       "      <td>Air Asia</td>\n",
       "      <td>Kolkata</td>\n",
       "      <td>Banglore</td>\n",
       "      <td>0</td>\n",
       "      <td>4107</td>\n",
       "      <td>9</td>\n",
       "      <td>4</td>\n",
       "      <td>2019</td>\n",
       "      <td>19</td>\n",
       "      <td>55</td>\n",
       "      <td>22</td>\n",
       "      <td>25</td>\n",
       "      <td>2</td>\n",
       "      <td>30</td>\n",
       "    </tr>\n",
       "    <tr>\n",
       "      <th>10679</th>\n",
       "      <td>Air India</td>\n",
       "      <td>Kolkata</td>\n",
       "      <td>Banglore</td>\n",
       "      <td>0</td>\n",
       "      <td>4145</td>\n",
       "      <td>27</td>\n",
       "      <td>4</td>\n",
       "      <td>2019</td>\n",
       "      <td>20</td>\n",
       "      <td>45</td>\n",
       "      <td>23</td>\n",
       "      <td>20</td>\n",
       "      <td>2</td>\n",
       "      <td>35</td>\n",
       "    </tr>\n",
       "    <tr>\n",
       "      <th>10680</th>\n",
       "      <td>Jet Airways</td>\n",
       "      <td>Banglore</td>\n",
       "      <td>Delhi</td>\n",
       "      <td>0</td>\n",
       "      <td>7229</td>\n",
       "      <td>27</td>\n",
       "      <td>4</td>\n",
       "      <td>2019</td>\n",
       "      <td>8</td>\n",
       "      <td>20</td>\n",
       "      <td>11</td>\n",
       "      <td>20</td>\n",
       "      <td>3</td>\n",
       "      <td>0</td>\n",
       "    </tr>\n",
       "    <tr>\n",
       "      <th>10681</th>\n",
       "      <td>Vistara</td>\n",
       "      <td>Banglore</td>\n",
       "      <td>New Delhi</td>\n",
       "      <td>0</td>\n",
       "      <td>12648</td>\n",
       "      <td>1</td>\n",
       "      <td>3</td>\n",
       "      <td>2019</td>\n",
       "      <td>11</td>\n",
       "      <td>30</td>\n",
       "      <td>14</td>\n",
       "      <td>10</td>\n",
       "      <td>2</td>\n",
       "      <td>40</td>\n",
       "    </tr>\n",
       "    <tr>\n",
       "      <th>10682</th>\n",
       "      <td>Air India</td>\n",
       "      <td>Delhi</td>\n",
       "      <td>Cochin</td>\n",
       "      <td>2</td>\n",
       "      <td>11753</td>\n",
       "      <td>9</td>\n",
       "      <td>5</td>\n",
       "      <td>2019</td>\n",
       "      <td>10</td>\n",
       "      <td>55</td>\n",
       "      <td>19</td>\n",
       "      <td>15</td>\n",
       "      <td>8</td>\n",
       "      <td>20</td>\n",
       "    </tr>\n",
       "  </tbody>\n",
       "</table>\n",
       "<p>10683 rows × 14 columns</p>\n",
       "</div>"
      ],
      "text/plain": [
       "           Airline    Source Destination  Total_Stops  Price  Date  Month  \\\n",
       "0           IndiGo  Banglore   New Delhi            0   3897    24      3   \n",
       "1        Air India   Kolkata    Banglore            2   7662     1      5   \n",
       "2      Jet Airways     Delhi      Cochin            2  13882     9      6   \n",
       "3           IndiGo   Kolkata    Banglore            1   6218    12      5   \n",
       "4           IndiGo  Banglore   New Delhi            1  13302     1      3   \n",
       "...            ...       ...         ...          ...    ...   ...    ...   \n",
       "10678     Air Asia   Kolkata    Banglore            0   4107     9      4   \n",
       "10679    Air India   Kolkata    Banglore            0   4145    27      4   \n",
       "10680  Jet Airways  Banglore       Delhi            0   7229    27      4   \n",
       "10681      Vistara  Banglore   New Delhi            0  12648     1      3   \n",
       "10682    Air India     Delhi      Cochin            2  11753     9      5   \n",
       "\n",
       "       Year  Dep_hours  Dep_min  Arrival_hours  Arrival_min  Duration_hours  \\\n",
       "0      2019         22       20              1           10               2   \n",
       "1      2019          5       50             13           15               7   \n",
       "2      2019          9       25              4           25              19   \n",
       "3      2019         18        5             23           30               5   \n",
       "4      2019         16       50             21           35               4   \n",
       "...     ...        ...      ...            ...          ...             ...   \n",
       "10678  2019         19       55             22           25               2   \n",
       "10679  2019         20       45             23           20               2   \n",
       "10680  2019          8       20             11           20               3   \n",
       "10681  2019         11       30             14           10               2   \n",
       "10682  2019         10       55             19           15               8   \n",
       "\n",
       "       Duration_min  \n",
       "0                50  \n",
       "1                25  \n",
       "2                 0  \n",
       "3                25  \n",
       "4                45  \n",
       "...             ...  \n",
       "10678            30  \n",
       "10679            35  \n",
       "10680             0  \n",
       "10681            40  \n",
       "10682            20  \n",
       "\n",
       "[10683 rows x 14 columns]"
      ]
     },
     "execution_count": 4,
     "metadata": {},
     "output_type": "execute_result"
    }
   ],
   "source": [
    "df = pd.read_csv('/kaggle/input/flight-price-data/flight_dataset.csv')\n",
    "df"
   ]
  },
  {
   "cell_type": "code",
   "execution_count": 5,
   "id": "b07af475",
   "metadata": {
    "execution": {
     "iopub.execute_input": "2024-06-26T04:52:49.288214Z",
     "iopub.status.busy": "2024-06-26T04:52:49.287905Z",
     "iopub.status.idle": "2024-06-26T04:52:49.314323Z",
     "shell.execute_reply": "2024-06-26T04:52:49.313264Z"
    },
    "papermill": {
     "duration": 0.038265,
     "end_time": "2024-06-26T04:52:49.316630",
     "exception": false,
     "start_time": "2024-06-26T04:52:49.278365",
     "status": "completed"
    },
    "tags": []
   },
   "outputs": [
    {
     "name": "stdout",
     "output_type": "stream",
     "text": [
      "<class 'pandas.core.frame.DataFrame'>\n",
      "RangeIndex: 10683 entries, 0 to 10682\n",
      "Data columns (total 14 columns):\n",
      " #   Column          Non-Null Count  Dtype \n",
      "---  ------          --------------  ----- \n",
      " 0   Airline         10683 non-null  object\n",
      " 1   Source          10683 non-null  object\n",
      " 2   Destination     10683 non-null  object\n",
      " 3   Total_Stops     10683 non-null  int64 \n",
      " 4   Price           10683 non-null  int64 \n",
      " 5   Date            10683 non-null  int64 \n",
      " 6   Month           10683 non-null  int64 \n",
      " 7   Year            10683 non-null  int64 \n",
      " 8   Dep_hours       10683 non-null  int64 \n",
      " 9   Dep_min         10683 non-null  int64 \n",
      " 10  Arrival_hours   10683 non-null  int64 \n",
      " 11  Arrival_min     10683 non-null  int64 \n",
      " 12  Duration_hours  10683 non-null  int64 \n",
      " 13  Duration_min    10683 non-null  int64 \n",
      "dtypes: int64(11), object(3)\n",
      "memory usage: 1.1+ MB\n"
     ]
    }
   ],
   "source": [
    "df.info()"
   ]
  },
  {
   "cell_type": "code",
   "execution_count": 6,
   "id": "07622c64",
   "metadata": {
    "execution": {
     "iopub.execute_input": "2024-06-26T04:52:49.334533Z",
     "iopub.status.busy": "2024-06-26T04:52:49.334245Z",
     "iopub.status.idle": "2024-06-26T04:52:49.377391Z",
     "shell.execute_reply": "2024-06-26T04:52:49.376459Z"
    },
    "papermill": {
     "duration": 0.054414,
     "end_time": "2024-06-26T04:52:49.379492",
     "exception": false,
     "start_time": "2024-06-26T04:52:49.325078",
     "status": "completed"
    },
    "tags": []
   },
   "outputs": [
    {
     "data": {
      "text/html": [
       "<div>\n",
       "<style scoped>\n",
       "    .dataframe tbody tr th:only-of-type {\n",
       "        vertical-align: middle;\n",
       "    }\n",
       "\n",
       "    .dataframe tbody tr th {\n",
       "        vertical-align: top;\n",
       "    }\n",
       "\n",
       "    .dataframe thead th {\n",
       "        text-align: right;\n",
       "    }\n",
       "</style>\n",
       "<table border=\"1\" class=\"dataframe\">\n",
       "  <thead>\n",
       "    <tr style=\"text-align: right;\">\n",
       "      <th></th>\n",
       "      <th>count</th>\n",
       "      <th>mean</th>\n",
       "      <th>std</th>\n",
       "      <th>min</th>\n",
       "      <th>25%</th>\n",
       "      <th>50%</th>\n",
       "      <th>75%</th>\n",
       "      <th>max</th>\n",
       "    </tr>\n",
       "  </thead>\n",
       "  <tbody>\n",
       "    <tr>\n",
       "      <th>Total_Stops</th>\n",
       "      <td>10683.0</td>\n",
       "      <td>0.824207</td>\n",
       "      <td>0.675199</td>\n",
       "      <td>0.0</td>\n",
       "      <td>0.0</td>\n",
       "      <td>1.0</td>\n",
       "      <td>1.0</td>\n",
       "      <td>4.0</td>\n",
       "    </tr>\n",
       "    <tr>\n",
       "      <th>Price</th>\n",
       "      <td>10683.0</td>\n",
       "      <td>9087.064121</td>\n",
       "      <td>4611.359167</td>\n",
       "      <td>1759.0</td>\n",
       "      <td>5277.0</td>\n",
       "      <td>8372.0</td>\n",
       "      <td>12373.0</td>\n",
       "      <td>79512.0</td>\n",
       "    </tr>\n",
       "    <tr>\n",
       "      <th>Date</th>\n",
       "      <td>10683.0</td>\n",
       "      <td>13.508378</td>\n",
       "      <td>8.479277</td>\n",
       "      <td>1.0</td>\n",
       "      <td>6.0</td>\n",
       "      <td>12.0</td>\n",
       "      <td>21.0</td>\n",
       "      <td>27.0</td>\n",
       "    </tr>\n",
       "    <tr>\n",
       "      <th>Month</th>\n",
       "      <td>10683.0</td>\n",
       "      <td>4.708602</td>\n",
       "      <td>1.164357</td>\n",
       "      <td>3.0</td>\n",
       "      <td>3.0</td>\n",
       "      <td>5.0</td>\n",
       "      <td>6.0</td>\n",
       "      <td>6.0</td>\n",
       "    </tr>\n",
       "    <tr>\n",
       "      <th>Year</th>\n",
       "      <td>10683.0</td>\n",
       "      <td>2019.000000</td>\n",
       "      <td>0.000000</td>\n",
       "      <td>2019.0</td>\n",
       "      <td>2019.0</td>\n",
       "      <td>2019.0</td>\n",
       "      <td>2019.0</td>\n",
       "      <td>2019.0</td>\n",
       "    </tr>\n",
       "    <tr>\n",
       "      <th>Dep_hours</th>\n",
       "      <td>10683.0</td>\n",
       "      <td>12.490686</td>\n",
       "      <td>5.748650</td>\n",
       "      <td>0.0</td>\n",
       "      <td>8.0</td>\n",
       "      <td>11.0</td>\n",
       "      <td>18.0</td>\n",
       "      <td>23.0</td>\n",
       "    </tr>\n",
       "    <tr>\n",
       "      <th>Dep_min</th>\n",
       "      <td>10683.0</td>\n",
       "      <td>24.411214</td>\n",
       "      <td>18.767980</td>\n",
       "      <td>0.0</td>\n",
       "      <td>5.0</td>\n",
       "      <td>25.0</td>\n",
       "      <td>40.0</td>\n",
       "      <td>55.0</td>\n",
       "    </tr>\n",
       "    <tr>\n",
       "      <th>Arrival_hours</th>\n",
       "      <td>10683.0</td>\n",
       "      <td>13.348778</td>\n",
       "      <td>6.859125</td>\n",
       "      <td>0.0</td>\n",
       "      <td>8.0</td>\n",
       "      <td>14.0</td>\n",
       "      <td>19.0</td>\n",
       "      <td>23.0</td>\n",
       "    </tr>\n",
       "    <tr>\n",
       "      <th>Arrival_min</th>\n",
       "      <td>10683.0</td>\n",
       "      <td>24.690630</td>\n",
       "      <td>16.506036</td>\n",
       "      <td>0.0</td>\n",
       "      <td>10.0</td>\n",
       "      <td>25.0</td>\n",
       "      <td>35.0</td>\n",
       "      <td>55.0</td>\n",
       "    </tr>\n",
       "    <tr>\n",
       "      <th>Duration_hours</th>\n",
       "      <td>10683.0</td>\n",
       "      <td>10.246560</td>\n",
       "      <td>8.494988</td>\n",
       "      <td>1.0</td>\n",
       "      <td>2.0</td>\n",
       "      <td>8.0</td>\n",
       "      <td>15.0</td>\n",
       "      <td>47.0</td>\n",
       "    </tr>\n",
       "    <tr>\n",
       "      <th>Duration_min</th>\n",
       "      <td>10683.0</td>\n",
       "      <td>28.327249</td>\n",
       "      <td>16.946113</td>\n",
       "      <td>0.0</td>\n",
       "      <td>15.0</td>\n",
       "      <td>30.0</td>\n",
       "      <td>45.0</td>\n",
       "      <td>55.0</td>\n",
       "    </tr>\n",
       "  </tbody>\n",
       "</table>\n",
       "</div>"
      ],
      "text/plain": [
       "                  count         mean          std     min     25%     50%  \\\n",
       "Total_Stops     10683.0     0.824207     0.675199     0.0     0.0     1.0   \n",
       "Price           10683.0  9087.064121  4611.359167  1759.0  5277.0  8372.0   \n",
       "Date            10683.0    13.508378     8.479277     1.0     6.0    12.0   \n",
       "Month           10683.0     4.708602     1.164357     3.0     3.0     5.0   \n",
       "Year            10683.0  2019.000000     0.000000  2019.0  2019.0  2019.0   \n",
       "Dep_hours       10683.0    12.490686     5.748650     0.0     8.0    11.0   \n",
       "Dep_min         10683.0    24.411214    18.767980     0.0     5.0    25.0   \n",
       "Arrival_hours   10683.0    13.348778     6.859125     0.0     8.0    14.0   \n",
       "Arrival_min     10683.0    24.690630    16.506036     0.0    10.0    25.0   \n",
       "Duration_hours  10683.0    10.246560     8.494988     1.0     2.0     8.0   \n",
       "Duration_min    10683.0    28.327249    16.946113     0.0    15.0    30.0   \n",
       "\n",
       "                    75%      max  \n",
       "Total_Stops         1.0      4.0  \n",
       "Price           12373.0  79512.0  \n",
       "Date               21.0     27.0  \n",
       "Month               6.0      6.0  \n",
       "Year             2019.0   2019.0  \n",
       "Dep_hours          18.0     23.0  \n",
       "Dep_min            40.0     55.0  \n",
       "Arrival_hours      19.0     23.0  \n",
       "Arrival_min        35.0     55.0  \n",
       "Duration_hours     15.0     47.0  \n",
       "Duration_min       45.0     55.0  "
      ]
     },
     "execution_count": 6,
     "metadata": {},
     "output_type": "execute_result"
    }
   ],
   "source": [
    "df.describe().T"
   ]
  },
  {
   "cell_type": "markdown",
   "id": "5e6567b9",
   "metadata": {
    "papermill": {
     "duration": 0.008442,
     "end_time": "2024-06-26T04:52:49.396769",
     "exception": false,
     "start_time": "2024-06-26T04:52:49.388327",
     "status": "completed"
    },
    "tags": []
   },
   "source": [
    "# Column Analysis (numerical)"
   ]
  },
  {
   "cell_type": "code",
   "execution_count": 7,
   "id": "24441ebb",
   "metadata": {
    "execution": {
     "iopub.execute_input": "2024-06-26T04:52:49.415251Z",
     "iopub.status.busy": "2024-06-26T04:52:49.414924Z",
     "iopub.status.idle": "2024-06-26T04:52:49.429612Z",
     "shell.execute_reply": "2024-06-26T04:52:49.428516Z"
    },
    "papermill": {
     "duration": 0.026379,
     "end_time": "2024-06-26T04:52:49.431752",
     "exception": false,
     "start_time": "2024-06-26T04:52:49.405373",
     "status": "completed"
    },
    "tags": []
   },
   "outputs": [
    {
     "name": "stdout",
     "output_type": "stream",
     "text": [
      "Column 'Airline' unquie values: ['IndiGo' 'Air India' 'Jet Airways' 'SpiceJet' 'Multiple carriers' 'GoAir'\n",
      " 'Vistara' 'Air Asia' 'Vistara Premium economy' 'Jet Airways Business'\n",
      " 'Multiple carriers Premium economy' 'Trujet']\n",
      "Column 'Source' unquie values: ['Banglore' 'Kolkata' 'Delhi' 'Chennai' 'Mumbai']\n",
      "Column 'Destination' unquie values: ['New Delhi' 'Banglore' 'Cochin' 'Kolkata' 'Delhi' 'Hyderabad']\n",
      "Column 'Total_Stops' unquie values: [0 2 1 3 4]\n",
      "Column 'Price' unquie values: [ 3897  7662 13882 ...  9790 12352 12648]\n",
      "Column 'Date' unquie values: [24  1  9 12 27 18  3 15  6 21]\n",
      "Column 'Month' unquie values: [3 5 6 4]\n",
      "Column 'Year' unquie values: [2019]\n",
      "Column 'Dep_hours' unquie values: [22  5  9 18 16  8 11 20 21 17 14  4  7 10 15  6 19 23 13  2 12  0  1  3]\n",
      "Column 'Dep_min' unquie values: [20 50 25  5  0 55 45 40 10 15 35 30]\n",
      "Column 'Arrival_hours' unquie values: [ 1 13  4 23 21 11 10  5 19 22  9 12  6  8  3 20 16 18 15 14  0  2  7 17]\n",
      "Column 'Arrival_min' unquie values: [10 15 25 30 35  5  0 55 20 50 45 40]\n",
      "Column 'Duration_hours' unquie values: [ 2  7 19  5  4 15 21 25 13 12 26 22 23 20 10  6 11  8 16  3 27  1 14  9\n",
      " 18 17 24 30 28 29 37 34 38 35 36 47 33 32 31 42 39 41 40]\n",
      "Column 'Duration_min' unquie values: [50 25  0 45 30  5 15 35 10 20 55 40]\n"
     ]
    }
   ],
   "source": [
    "col_name_object = df.select_dtypes(include='object').columns.tolist()\n",
    "col_name_num = df.select_dtypes(include=['float64','int64']).columns.tolist()\n",
    "time_series = ['Year', 'Month','Date']\n",
    "\n",
    "for col in col_name_object:\n",
    "    print(f\"Column '{col}' unquie values: {df[col].unique()}\")\n",
    "    \n",
    "for col in col_name_num:\n",
    "    print(f\"Column '{col}' unquie values: {df[col].unique()}\")"
   ]
  },
  {
   "cell_type": "code",
   "execution_count": 8,
   "id": "6dabd7a5",
   "metadata": {
    "execution": {
     "iopub.execute_input": "2024-06-26T04:52:49.451501Z",
     "iopub.status.busy": "2024-06-26T04:52:49.451210Z",
     "iopub.status.idle": "2024-06-26T04:52:49.847560Z",
     "shell.execute_reply": "2024-06-26T04:52:49.846545Z"
    },
    "papermill": {
     "duration": 0.408611,
     "end_time": "2024-06-26T04:52:49.849651",
     "exception": false,
     "start_time": "2024-06-26T04:52:49.441040",
     "status": "completed"
    },
    "tags": []
   },
   "outputs": [
    {
     "data": {
      "text/html": [
       "        <script type=\"text/javascript\">\n",
       "        window.PlotlyConfig = {MathJaxConfig: 'local'};\n",
       "        if (window.MathJax && window.MathJax.Hub && window.MathJax.Hub.Config) {window.MathJax.Hub.Config({SVG: {font: \"STIX-Web\"}});}\n",
       "        if (typeof require !== 'undefined') {\n",
       "        require.undef(\"plotly\");\n",
       "        requirejs.config({\n",
       "            paths: {\n",
       "                'plotly': ['https://cdn.plot.ly/plotly-2.27.0.min']\n",
       "            }\n",
       "        });\n",
       "        require(['plotly'], function(Plotly) {\n",
       "            window._Plotly = Plotly;\n",
       "        });\n",
       "        }\n",
       "        </script>\n",
       "        "
      ]
     },
     "metadata": {},
     "output_type": "display_data"
    },
    {
     "data": {
      "text/html": [
       "<div>                            <div id=\"f18ad57a-6675-4dc1-bf97-fa46ec327e0c\" class=\"plotly-graph-div\" style=\"height:525px; width:100%;\"></div>            <script type=\"text/javascript\">                require([\"plotly\"], function(Plotly) {                    window.PLOTLYENV=window.PLOTLYENV || {};                                    if (document.getElementById(\"f18ad57a-6675-4dc1-bf97-fa46ec327e0c\")) {                    Plotly.newPlot(                        \"f18ad57a-6675-4dc1-bf97-fa46ec327e0c\",                        [{\"name\":\"Total_Stops\",\"y\":[0,2,2,1,1,0,1,1,1,1,1,0,0,1,0,2,1,1,2,1,1,1,0,0,1,2,1,1,0,0,0,2,0,2,1,1,1,0,1,1,1,1,1,0,1,0,0,0,1,2,0,1,0,0,0,1,2,0,1,1,1,1,1,1,0,1,0,0,2,0,0,1,1,2,1,0,0,0,1,0,1,0,1,1,1,1,1,2,1,1,1,1,1,2,0,0,0,0,0,2,1,1,1,1,0,2,1,1,2,2,1,0,1,1,1,1,1,1,0,1,0,0,1,1,0,2,1,1,0,0,1,1,0,0,1,2,2,2,0,1,1,1,1,1,1,1,2,1,1,1,0,2,0,1,1,2,2,0,1,1,1,0,1,1,1,1,0,0,1,0,1,0,1,1,1,1,1,1,1,1,1,0,1,1,0,1,1,1,0,0,1,1,1,0,1,0,1,1,0,1,1,0,0,0,1,0,1,0,1,2,0,1,1,1,1,0,1,0,0,1,0,1,0,1,2,2,2,0,0,0,1,0,1,1,1,0,1,1,0,1,1,1,1,0,0,0,1,1,0,1,0,2,1,1,1,0,0,0,1,2,0,0,0,1,2,1,1,1,0,1,1,1,1,2,1,0,0,1,1,0,1,1,0,1,0,1,0,1,1,2,1,2,1,0,0,0,1,0,1,0,0,0,0,2,2,1,1,2,2,0,1,1,1,1,0,2,0,1,1,0,0,1,0,1,1,1,1,1,0,1,1,1,0,0,0,1,2,2,0,1,0,1,1,2,2,0,1,2,2,0,0,1,0,1,1,0,1,1,0,1,0,0,0,1,1,1,1,0,1,0,0,1,0,0,0,1,1,1,2,1,1,2,0,1,1,0,1,0,0,1,2,1,1,1,1,0,1,0,0,2,1,2,3,0,2,1,2,0,1,1,2,1,1,1,0,1,1,2,1,1,1,1,0,0,0,1,0,1,0,1,0,1,2,0,0,1,1,0,1,1,0,1,1,1,1,0,2,0,1,1,1,2,2,0,1,2,1,0,1,1,1,0,1,0,0,1,0,1,1,0,2,1,1,1,0,1,0,1,0,1,1,1,1,1,0,0,1,1,0,2,1,1,2,1,1,1,1,1,1,2,0,0,1,1,1,0,1,0,1,2,1,0,1,1,2,2,0,1,1,0,2,1,1,0,1,2,1,1,0,0,2,1,1,1,1,1,1,0,0,0,1,0,1,1,1,0,1,0,0,1,1,1,0,2,0,1,0,0,1,1,1,0,1,0,1,1,1,0,0,0,1,1,0,1,1,0,2,0,1,1,0,0,0,1,0,1,0,1,2,1,1,0,0,0,1,0,1,2,2,1,1,0,1,1,2,1,1,0,1,1,0,1,1,1,0,1,0,1,0,1,2,1,0,1,1,1,1,1,1,1,1,0,1,0,0,0,1,0,1,0,1,0,1,2,1,0,2,1,0,0,1,0,1,1,0,0,2,1,1,0,1,1,1,0,0,2,0,2,1,0,1,1,2,2,1,1,0,2,1,0,1,1,1,2,0,1,0,1,0,0,0,1,1,1,1,1,1,0,1,2,1,0,2,0,0,0,1,1,1,0,1,0,2,1,0,1,0,1,0,1,2,1,1,1,1,0,1,1,2,1,1,0,1,0,0,1,0,0,1,1,1,1,2,2,0,0,1,0,1,0,1,0,1,1,1,1,1,1,2,0,1,0,1,0,0,0,1,2,1,1,1,0,1,1,0,0,0,0,1,0,0,1,2,1,2,2,1,1,0,1,2,0,1,0,2,1,0,1,1,2,1,0,1,2,0,2,1,0,1,0,2,1,1,0,0,0,1,0,1,1,0,2,2,2,0,1,1,1,0,1,1,1,1,1,0,1,1,0,1,1,0,1,1,0,0,1,2,0,2,1,0,1,0,1,1,0,2,0,1,1,0,0,1,1,1,2,0,0,1,1,1,1,1,1,1,1,0,1,0,0,1,2,0,1,1,0,1,1,1,1,1,1,1,2,1,1,1,1,1,1,1,1,1,1,1,1,0,1,1,0,2,0,0,1,0,1,1,1,2,3,0,0,0,0,1,2,1,1,2,0,0,0,2,1,1,2,1,2,1,2,1,1,0,1,0,0,1,1,1,1,1,0,1,0,1,1,1,0,2,1,0,1,0,2,0,0,2,0,0,2,1,0,1,0,2,1,1,1,1,0,1,1,1,0,1,1,0,1,1,1,2,2,2,0,1,0,1,1,1,1,1,0,1,1,1,1,1,0,1,0,1,0,0,2,1,2,0,0,0,1,2,0,1,0,2,2,0,0,1,0,2,0,1,1,1,2,1,1,2,0,0,0,2,1,2,2,1,1,1,1,1,1,1,1,2,1,0,0,1,0,1,2,1,1,1,0,0,2,0,2,1,0,0,1,1,1,0,0,1,2,0,1,0,2,1,1,1,0,2,0,0,1,0,0,0,1,1,1,1,2,0,1,1,0,1,1,1,1,1,2,1,0,0,2,0,1,0,0,1,0,0,1,0,1,1,0,1,2,1,1,0,0,1,1,1,2,1,1,1,1,1,1,2,1,0,2,1,0,2,2,0,1,0,1,2,1,0,0,0,1,0,1,1,1,0,0,1,0,1,1,1,2,1,2,1,1,1,1,0,2,2,1,0,1,0,2,0,0,1,1,1,1,0,1,1,1,2,2,1,1,0,1,1,2,2,0,1,1,0,2,0,1,2,1,0,1,1,1,3,1,1,0,0,0,1,1,1,1,1,1,0,0,1,1,1,0,0,1,1,1,0,1,0,1,1,1,1,1,1,1,1,1,1,2,2,1,1,1,1,1,0,1,1,0,0,1,1,1,1,0,1,1,1,1,0,1,0,2,1,1,0,1,0,1,1,1,1,1,1,1,0,1,0,0,1,0,1,1,1,1,1,0,1,1,0,0,0,1,1,0,0,1,2,0,1,1,1,1,2,1,1,2,0,1,0,0,1,1,0,2,0,0,1,0,0,0,2,0,0,2,1,1,1,1,0,1,2,1,2,1,1,1,1,2,1,2,1,1,1,0,2,1,2,0,0,1,0,1,1,2,1,1,0,2,1,0,0,1,0,0,2,0,1,1,1,0,1,1,0,2,2,1,1,1,0,2,1,1,0,1,1,1,0,0,0,0,0,1,1,1,0,1,1,1,0,1,0,2,2,1,0,0,0,0,2,1,0,0,0,0,0,1,0,1,0,1,1,1,1,1,2,0,2,2,1,1,1,1,1,0,1,1,0,1,1,1,1,0,1,0,1,1,1,0,1,1,1,1,1,1,1,1,0,0,0,0,1,0,1,2,1,2,1,0,2,0,0,0,1,0,1,0,2,1,1,2,2,0,1,0,1,1,2,0,0,1,0,2,1,2,1,1,0,0,1,0,1,1,1,1,2,1,1,1,0,1,1,1,1,1,0,0,0,2,0,0,2,1,2,1,1,0,0,2,0,1,1,0,1,0,1,2,0,1,0,1,1,1,1,1,0,1,2,1,0,2,2,1,0,1,0,2,0,1,1,1,1,2,1,1,0,1,1,1,1,1,1,0,1,1,0,2,0,2,1,1,1,0,1,1,1,1,2,1,1,2,1,1,2,0,1,2,0,0,2,1,1,0,0,0,0,0,0,1,0,2,1,1,2,2,0,0,2,1,2,0,0,0,1,2,0,0,1,1,1,0,1,1,0,1,2,1,0,0,1,1,1,2,1,0,1,0,1,1,1,3,0,2,1,0,0,0,1,1,0,1,2,1,1,2,0,1,2,1,1,2,1,1,1,1,1,1,1,1,0,0,1,1,0,0,1,1,1,0,0,1,0,0,2,1,0,0,2,1,1,1,1,0,0,0,1,1,2,1,1,1,1,1,0,1,1,1,1,1,1,1,1,0,1,1,0,0,1,0,1,0,1,1,0,1,1,1,1,0,2,0,2,0,0,1,0,1,1,0,0,1,1,2,1,1,1,1,0,0,1,2,1,0,0,1,1,0,1,0,2,1,2,0,1,1,0,2,1,1,1,2,0,1,1,1,1,1,1,1,2,1,1,2,0,0,1,0,1,1,1,1,0,1,1,0,0,1,1,1,2,1,0,0,2,1,1,0,1,1,1,1,0,1,1,1,1,0,2,1,0,0,1,1,1,0,2,2,1,0,1,0,0,0,1,1,1,1,2,2,1,0,2,1,1,1,0,1,0,1,1,1,2,0,0,2,1,0,1,1,0,0,1,0,1,1,2,2,2,0,2,1,0,1,1,1,1,2,1,0,0,1,1,1,1,0,0,1,1,1,1,1,0,1,1,1,0,1,1,0,1,1,0,1,0,1,2,2,1,1,1,1,2,1,1,1,1,1,0,0,2,1,0,0,2,1,1,2,0,2,1,0,2,1,0,0,0,0,1,1,1,1,1,1,2,2,1,2,1,2,2,0,0,1,1,0,1,0,2,0,2,1,0,2,1,0,0,1,0,1,0,0,1,1,1,1,1,0,0,1,1,1,1,0,1,1,1,1,1,2,1,0,1,1,1,1,1,1,1,1,1,1,0,2,2,1,0,1,1,1,2,1,1,1,1,1,2,1,0,1,0,1,0,1,0,1,0,0,2,1,0,2,0,1,1,2,1,1,2,1,1,1,1,0,0,1,1,1,0,1,1,1,1,0,0,1,2,0,1,0,1,0,1,1,0,1,1,0,2,2,1,1,2,1,1,1,0,0,0,1,0,0,1,1,1,0,1,1,1,0,0,0,1,1,2,1,1,1,1,1,1,2,1,1,0,0,0,1,0,0,2,1,1,1,2,1,0,0,1,2,0,0,0,1,0,0,1,1,1,1,2,1,1,0,0,0,0,1,1,0,2,1,0,0,0,0,1,2,3,1,1,1,1,0,1,2,0,2,0,1,0,1,1,1,1,0,1,2,0,2,0,1,1,1,1,0,0,0,1,0,1,1,1,1,0,2,0,2,1,1,0,1,0,1,1,1,0,1,1,0,1,0,1,1,1,2,1,2,1,1,1,1,1,0,1,1,1,1,1,1,0,1,1,1,2,1,1,2,1,0,1,0,1,1,1,1,1,1,1,1,1,0,0,1,1,0,0,0,2,0,1,1,2,1,0,1,1,0,1,2,2,0,1,1,1,0,1,1,1,2,1,1,1,0,1,1,2,1,0,1,0,2,0,1,0,1,2,2,0,0,1,1,0,1,1,1,1,2,1,1,1,0,0,1,0,2,0,0,1,1,1,1,2,1,1,1,0,1,1,2,1,1,2,1,1,2,1,0,0,1,1,2,0,0,1,2,2,1,1,1,1,0,2,1,1,0,1,1,1,1,2,1,0,1,1,1,1,2,1,1,1,0,0,1,0,1,0,1,1,0,0,1,1,0,1,1,1,2,2,1,1,1,1,1,1,0,1,1,0,1,2,0,1,0,1,0,0,0,0,0,1,0,0,1,0,1,1,1,0,1,1,1,1,1,1,1,0,0,1,0,1,1,0,1,1,1,1,1,1,0,2,0,1,0,0,1,0,0,1,0,1,0,0,0,1,1,1,2,0,1,1,0,1,1,2,1,1,1,1,1,0,0,1,0,1,1,0,0,1,2,1,1,0,1,0,1,2,0,1,1,0,1,1,0,0,1,0,1,1,1,1,0,0,1,2,1,1,1,0,1,0,1,0,1,0,2,0,1,1,2,1,0,1,1,2,2,1,0,1,2,0,0,1,1,2,1,2,0,1,2,1,1,1,0,1,1,1,0,1,1,1,2,1,1,1,0,0,2,0,1,1,1,1,2,1,2,1,0,1,1,1,1,1,0,1,2,0,1,0,1,1,2,1,1,0,1,0,2,0,0,2,0,2,1,2,1,0,1,1,2,0,0,0,1,1,1,1,1,0,3,0,1,0,1,0,1,0,1,0,3,0,1,1,2,1,0,2,2,1,1,2,0,1,2,1,0,0,0,1,1,2,0,1,0,2,1,2,2,2,0,1,1,1,0,2,0,2,2,2,1,1,0,1,2,1,1,1,0,1,0,0,1,1,1,1,0,1,2,0,1,1,1,0,1,2,1,1,1,2,0,1,1,0,1,1,0,0,2,0,0,1,1,2,0,3,1,2,1,0,2,0,1,1,1,1,0,1,1,1,0,0,2,0,1,1,1,0,1,1,1,1,0,2,1,1,1,1,1,1,1,1,1,1,1,0,1,1,0,1,0,0,0,0,1,2,1,1,2,0,0,1,0,2,2,0,1,0,0,1,1,1,0,1,1,1,0,0,1,0,0,1,2,1,1,1,1,1,0,1,1,1,0,1,0,0,1,0,1,2,0,3,0,2,0,0,2,1,1,3,1,0,0,0,0,1,1,1,0,0,1,0,1,1,1,1,1,1,1,1,0,0,2,1,1,0,2,1,1,1,2,0,2,0,2,1,1,2,1,1,1,1,1,0,1,0,0,0,1,0,1,1,1,1,0,1,0,2,2,1,1,1,1,0,1,0,0,0,0,1,0,1,1,0,0,0,1,1,1,2,2,1,0,1,1,1,1,0,2,0,1,1,2,2,0,1,2,1,0,1,2,1,0,1,1,1,2,0,0,0,0,1,0,0,1,1,0,1,1,1,2,0,1,1,1,1,1,1,0,0,1,1,1,1,1,0,0,1,1,1,0,1,1,1,1,1,0,1,0,0,1,0,1,1,0,1,1,2,0,1,0,1,2,0,2,0,1,1,0,1,0,1,1,1,1,1,2,1,0,1,2,0,0,1,1,1,0,1,0,0,2,0,1,1,0,0,1,1,2,1,1,1,2,1,1,0,1,2,1,1,1,1,1,0,0,1,0,1,2,0,1,1,1,0,2,1,1,1,0,1,1,0,1,0,1,1,1,0,0,0,1,1,0,1,1,0,1,2,1,1,1,0,1,1,1,0,1,0,0,1,1,1,0,2,1,2,2,1,1,1,1,1,1,1,1,1,0,0,2,2,2,1,1,1,1,1,1,1,1,2,1,1,0,0,1,1,1,1,1,2,0,1,0,0,1,0,1,1,1,0,1,0,0,1,0,0,0,1,1,1,0,0,1,1,1,2,0,2,2,2,1,1,1,0,3,0,0,0,2,0,2,1,1,1,0,2,1,1,1,0,1,2,1,1,1,0,2,2,0,1,2,1,1,2,0,0,1,0,1,0,0,1,1,0,1,1,0,1,1,1,0,2,0,1,1,2,1,0,0,2,0,0,2,1,1,0,1,3,1,1,1,0,1,0,1,2,1,1,0,1,1,1,1,1,1,2,0,1,1,0,1,0,1,1,1,0,0,1,1,0,0,1,1,2,1,0,1,2,0,0,1,1,2,0,1,2,1,1,0,2,0,1,1,1,0,1,0,1,0,1,2,0,1,1,1,0,0,2,0,0,0,2,1,0,2,1,1,2,1,0,1,2,1,1,1,0,0,1,2,1,0,0,1,0,3,1,2,1,0,1,1,1,2,1,1,1,0,0,1,1,1,1,1,1,1,1,0,1,1,0,1,1,1,1,0,1,0,1,0,0,1,2,1,1,1,0,0,1,2,0,2,1,0,0,1,0,0,1,1,1,1,1,1,0,1,1,1,1,1,1,1,0,1,1,1,1,2,1,1,1,1,0,0,1,0,0,0,1,2,1,0,1,0,1,0,0,0,1,1,0,0,0,1,1,1,1,1,2,0,0,1,1,0,1,1,2,1,1,1,0,0,1,2,1,1,2,1,0,1,1,0,1,1,0,1,2,0,2,1,0,1,0,2,1,2,1,1,2,1,1,1,1,0,1,1,1,2,1,0,1,1,1,1,2,0,1,0,0,1,2,1,1,1,1,2,1,2,0,1,0,1,0,1,3,0,1,0,0,1,1,1,1,0,0,1,0,1,1,1,1,1,2,2,2,0,2,1,1,1,0,2,2,0,0,1,1,0,0,0,1,0,1,1,2,1,1,1,2,0,1,0,1,2,0,1,1,0,0,1,1,2,0,0,0,0,1,1,1,1,2,2,1,1,0,1,3,0,2,1,0,0,0,1,0,0,0,1,1,1,0,0,3,0,1,1,0,0,1,1,1,0,0,1,1,2,2,0,1,2,0,1,0,2,2,1,1,1,1,0,1,0,2,1,0,1,0,1,2,1,1,1,1,1,1,1,0,1,1,1,2,0,1,1,1,1,1,1,0,1,0,0,1,1,0,0,1,2,1,0,0,1,0,2,1,1,0,1,1,1,1,0,0,1,1,1,2,0,0,1,1,0,2,1,1,0,1,0,1,1,0,1,1,1,0,1,2,1,1,1,1,1,0,2,0,1,2,1,1,2,1,1,1,1,1,1,0,1,0,0,1,0,0,1,0,2,0,0,0,1,0,1,1,0,1,1,2,2,2,1,1,0,1,0,0,0,1,0,0,1,0,0,1,0,0,1,1,0,1,0,1,0,1,0,1,0,0,0,0,1,0,1,0,0,1,0,0,1,1,1,0,1,1,1,0,1,0,1,2,0,1,2,0,1,0,2,1,0,2,1,0,2,1,1,0,1,1,2,1,1,1,1,1,2,1,1,2,0,0,1,0,1,1,3,1,1,1,2,0,2,0,0,0,1,2,2,0,1,2,0,1,1,1,0,1,1,0,0,1,0,1,2,1,1,0,0,1,2,1,2,1,1,1,0,2,1,2,1,1,0,1,1,0,1,0,0,1,1,1,0,1,1,1,1,2,1,1,0,1,1,2,0,1,0,1,1,0,0,1,0,1,0,1,1,1,0,0,1,0,0,0,0,0,1,2,1,1,1,1,0,1,1,1,1,1,0,0,1,1,1,1,0,1,1,2,1,0,1,1,0,1,2,0,1,0,0,0,2,1,1,1,1,0,3,2,0,2,1,0,1,0,0,2,1,2,1,1,1,1,1,2,1,1,0,2,0,1,1,1,1,1,0,0,2,1,1,1,2,1,1,1,0,2,0,0,0,1,1,2,1,1,1,1,1,2,1,0,1,0,2,1,1,1,1,1,1,2,1,1,0,0,1,0,2,1,1,1,1,0,1,0,2,1,0,2,1,2,1,2,0,0,0,1,0,1,0,1,1,1,1,0,1,2,1,1,2,1,1,0,1,0,1,0,1,1,0,1,0,2,0,1,1,1,0,0,1,0,0,1,0,1,1,1,1,1,1,1,2,1,1,1,0,1,1,1,0,1,1,1,2,0,2,1,0,2,1,0,0,0,0,0,2,0,2,1,0,2,2,1,2,1,0,1,1,2,1,3,1,1,0,2,1,1,0,1,1,2,1,0,2,2,2,0,0,2,0,1,1,0,0,2,0,1,1,1,2,0,0,1,1,1,1,0,0,1,0,1,1,0,1,0,1,0,0,1,1,1,0,1,1,1,1,0,2,0,2,1,1,1,2,0,1,1,1,1,2,0,1,0,1,1,2,0,1,1,1,0,1,1,1,0,1,0,1,2,0,1,1,0,2,1,1,0,0,1,0,1,0,0,0,1,1,1,1,1,2,1,1,0,2,1,1,1,1,2,1,1,1,1,0,0,0,1,2,1,2,0,1,0,1,0,1,2,1,1,0,1,2,2,1,1,0,1,1,0,1,0,1,2,2,0,1,0,0,0,1,1,1,1,1,1,0,0,1,1,2,2,1,0,0,1,2,0,1,0,1,1,0,2,2,0,0,2,1,0,1,1,0,1,1,1,1,1,1,1,1,1,0,1,1,1,2,1,1,1,1,1,0,0,1,1,1,0,1,0,1,1,2,0,2,0,0,2,2,0,1,0,0,1,1,0,1,0,0,1,0,1,1,0,1,2,0,1,0,0,1,0,1,0,0,1,1,1,0,1,1,0,1,1,1,1,0,1,1,1,1,1,1,1,0,1,0,1,1,2,1,0,0,1,1,2,0,1,1,0,1,1,0,0,0,2,0,2,1,1,1,2,0,2,2,1,1,1,0,2,1,1,0,1,2,0,1,0,2,1,0,1,0,1,0,1,1,0,1,1,1,0,0,1,1,2,0,1,1,0,0,0,0,2,0,1,3,1,1,1,0,0,0,1,0,0,2,1,0,1,1,1,2,0,1,1,0,1,1,0,1,0,1,0,1,0,0,2,0,0,1,2,0,0,1,1,1,0,0,1,0,2,0,1,0,0,0,1,1,1,1,1,1,1,1,1,1,1,1,0,2,0,0,1,1,1,1,0,1,0,2,1,0,1,1,1,1,1,0,1,1,1,0,1,0,1,0,0,1,1,1,1,2,0,1,0,1,2,1,2,1,0,1,1,2,1,0,0,1,0,1,1,1,1,0,1,1,1,1,1,0,0,0,0,1,0,2,0,0,1,1,1,1,1,1,1,2,0,0,0,1,0,2,0,1,1,1,0,2,0,1,2,1,1,1,2,0,1,1,0,1,1,0,0,1,2,1,0,1,2,0,0,1,0,0,0,1,1,0,1,2,2,2,1,2,0,2,0,3,0,0,0,2,0,1,2,1,0,0,0,2,0,2,1,0,2,0,1,1,2,1,2,0,1,1,0,1,1,2,2,1,0,2,2,1,1,1,1,1,1,1,1,0,0,1,1,0,1,2,1,0,1,0,2,1,1,1,1,1,1,0,1,1,1,1,1,1,0,1,1,1,0,1,0,0,1,2,0,1,1,2,1,1,1,2,1,1,1,1,0,1,1,0,2,1,1,0,1,1,0,1,1,1,3,2,1,2,1,1,1,0,0,1,1,1,1,0,1,1,0,0,0,1,1,1,1,1,1,2,2,1,1,1,1,1,1,1,0,0,1,0,2,0,0,1,0,0,1,0,0,1,0,0,2,1,1,1,0,2,1,1,0,0,1,1,2,1,1,1,1,1,1,1,1,1,1,1,0,1,1,1,1,0,1,0,1,0,0,0,1,1,0,0,0,0,1,1,2,0,1,1,2,2,1,2,0,2,0,2,1,1,1,0,1,1,1,2,0,1,1,0,1,1,1,2,0,1,1,0,1,1,0,1,1,1,1,1,0,1,1,2,0,1,1,1,0,2,1,1,1,1,1,0,1,1,2,1,0,0,1,1,1,0,2,0,0,0,0,1,1,2,1,2,0,1,0,1,1,1,1,1,0,1,2,1,0,0,1,2,2,0,1,0,0,0,1,1,0,2,1,0,1,1,2,0,1,1,0,1,0,1,1,0,1,1,1,1,0,0,0,1,1,0,1,0,0,1,1,1,1,0,2,1,0,0,1,1,2,1,1,1,1,1,0,2,1,1,0,0,0,1,0,1,0,0,1,1,2,1,1,0,1,1,0,1,1,1,1,2,0,1,0,0,0,0,0,1,2,0,1,0,0,1,1,0,2,0,2,1,2,0,1,1,3,1,1,1,0,0,1,1,1,2,0,2,0,2,2,0,1,1,1,1,1,1,1,2,0,1,2,1,1,1,1,1,2,1,1,0,0,1,0,1,1,1,2,1,1,2,1,2,0,0,1,1,0,1,1,1,2,2,1,0,1,0,0,1,1,1,1,0,2,0,1,0,0,0,1,0,1,0,1,1,1,1,0,2,1,1,1,1,0,2,0,2,2,0,0,1,1,1,1,1,0,1,0,1,1,0,1,0,1,1,0,1,0,1,2,1,1,0,0,0,1,2,2,0,0,1,0,1,1,0,0,0,1,0,1,1,1,0,1,1,2,1,1,1,0,1,1,2,2,1,1,2,1,1,0,1,0,1,0,1,0,0,1,0,1,1,0,0,1,2,0,2,2,0,0,1,2,2,0,2,1,0,1,1,1,0,1,1,1,0,0,0,0,0,1,2,2,1,0,0,2,1,1,1,1,1,0,1,2,1,2,0,1,0,1,0,1,1,1,1,0,0,0,0,1,1,0,1,0,1,1,1,1,0,0,1,1,1,1,1,0,2,1,1,0,1,1,1,0,1,0,0,0,2,1,1,0,1,0,2,2,1,0,1,1,0,0,0,2,1,0,0,0,1,1,1,1,0,1,1,1,1,0,1,1,1,2,1,1,2,1,1,0,2,0,1,2,1,0,0,1,1,1,0,0,1,1,2,0,2,1,0,0,2,1,2,0,1,0,0,0,1,1,2,0,2,1,2,1,1,1,0,1,1,1,0,1,0,0,0,1,2,0,2,1,1,2,1,1,0,1,0,2,1,0,1,0,1,1,1,1,1,0,1,0,1,1,1,2,1,2,1,0,0,0,0,0,1,1,0,0,0,1,0,0,1,2,0,0,1,1,0,2,0,0,0,3,2,0,1,0,1,1,1,0,0,2,1,0,0,0,0,1,1,1,2,2,1,0,0,0,0,1,1,2,1,1,0,1,0,2,1,0,2,1,1,1,1,2,1,1,1,0,1,0,0,1,1,0,2,0,1,2,1,1,0,0,1,0,2,1,0,0,1,0,1,2,0,0,1,0,0,1,1,1,2,1,0,1,0,1,0,1,1,1,2,1,1,1,1,1,1,1,1,1,2,1,2,1,0,1,1,0,1,1,1,0,0,1,2,1,2,1,0,0,1,0,0,0,1,0,1,0,2,1,0,2,1,0,1,1,0,1,1,0,0,0,0,1,1,1,1,1,1,0,0,0,1,1,1,1,0,1,1,1,1,1,2,0,1,1,1,1,1,0,1,2,1,1,0,1,1,1,2,1,0,2,1,1,0,1,0,1,0,1,0,1,0,1,2,2,1,2,0,1,1,0,0,1,1,1,1,2,0,0,0,1,1,0,1,0,1,1,1,1,1,0,1,0,0,0,1,1,1,0,1,2,1,1,2,0,0,2,1,1,0,0,0,0,0,1,2,1,0,1,1,2,0,1,0,1,2,0,1,1,1,0,1,0,0,1,2,2,1,1,1,0,1,1,1,1,0,0,0,1,1,0,1,1,1,1,1,1,0,1,1,0,0,2,0,1,0,0,1,0,1,0,1,1,1,1,1,1,0,0,1,1,1,0,1,2,0,1,2,1,2,0,1,1,2,0,1,1,1,0,1,2,0,1,1,1,2,2,1,0,0,2,1,0,1,0,1,1,1,1,0,1,1,1,0,1,1,0,0,0,1,1,0,1,1,1,1,1,0,1,0,1,1,0,1,2,1,0,1,1,2,1,0,1,1,2,1,0,1,0,1,1,1,3,2,1,2,0,2,2,1,0,1,2,1,1,2,1,0,2,2,1,1,1,1,0,0,1,2,0,0,1,2,0,0,0,1,2,1,0,1,2,1,2,1,1,1,0,0,1,2,0,1,2,0,2,0,0,0,0,0,1,0,0,0,1,0,1,0,0,1,1,0,1,0,2,0,1,2,1,1,0,1,1,1,1,0,0,1,1,0,2,0,2,0,0,0,1,2,1,1,1,1,1,1,0,1,2,1,1,1,0,3,1,1,0,1,2,2,1,1,0,1,1,1,0,2,0,0,0,0,0,2,2,1,0,0,1,2,2,1,1,1,1,1,2,0,2,1,1,1,1,1,1,0,0,1,0,1,1,1,3,1,1,0,0,2,2,2,1,1,1,1,1,1,0,1,1,0,0,0,1,0,0,1,1,0,0,0,1,2,1,0,0,2,1,0,0,2,0,2,1,0,2,2,2,0,0,0,1,0,0,1,2,1,0,1,2,1,0,1,0,1,1,2,0,1,1,1,0,0,1,1,1,0,1,1,0,1,1,2,1,0,0,1,0,1,0,2,1,2,1,0,1,2,1,1,1,1,1,1,0,1,0,1,0,0,2,0,1,1,1,1,1,0,1,1,1,1,2,1,1,0,0,2,0,0,1,1,1,0,2,1,1,1,0,1,0,1,1,2,1,1,0,1,1,0,0,2,0,1,2,0,1,1,1,1,0,0,1,0,0,2,0,0,1,1,1,1,0,1,2,0,1,1,2,0,1,1,0,0,1,1,1,1,2,1,0,1,1,1,1,1,1,0,2,0,2,2,1,0,0,1,0,2,0,1,1,0,0,1,2,1,1,1,1,1,1,1,1,1,1,0,1,1,0,1,1,1,0,1,0,1,1,1,0,1,1,1,1,1,1,0,0,1,1,0,0,1,1,1,1,1,1,1,0,1,1,1,1,0,0,0,0,1,1,1,0,1,2,2,1,0,2,1,0,1,1,2,1,0,0,1,0,2,2,2,1,1,1,1,1,0,1,0,1,0,0,0,1,1,0,2,1,0,2,1,1,2,1,2,1,1,1,1,1,0,1,1,1,2,1,0,0,1,0,2,1,1,1,1,1,1,0,1,1,1,1,1,0,1,1,2,1,1,0,1,1,1,0,2,1,0,0,1,0,0,0,1,1,0,0,1,1,0,1,2,1,0,1,0,0,1,0,1,0,1,1,1,0,1,1,2,1,1,1,1,1,1,0,1,1,1,0,1,0,0,1,1,1,0,1,0,1,1,2,1,1,1,0,2,1,1,0,0,1,1,0,0,0,2,1,1,0,0,0,1,2,1,1,1,0,0,0,1,1,1,0,1,1,0,1,1,1,0,1,1,2,1,3,1,1,1,1,2,0,1,1,0,0,1,1,0,1,1,1,0,0,1,1,0,1,0,0,2,1,0,1,1,2,0,2,1,1,0,0,1,0,0,1,0,1,0,1,0,1,1,1,0,2,1,0,0,0,2,1,1,0,1,1,0,1,1,0,1,2,0,2,0,0,1,1,0,1,0,0,0,0,0,0,2,0,0,0,1,1,0,1,1,0,0,1,0,1,0,1,1,1,1,0,0,1,1,1,0,0,1,1,0,0,1,1,1,0,2,1,1,0,0,1,2,1,1,1,1,1,0,0,0,1,1,1,1,0,0,2,0,0,1,0,1,1,1,1,1,1,1,0,0,0,1,1,1,1,3,1,1,2,1,1,1,2,0,0,2,2,2,1,0,0,1,1,1,1,1,2,0,0,1,2,0,1,1,1,0,0,0,1,0,1,2,0,0,1,1,2,1,1,1,0,1,1,0,1,1,1,1,1,1,0,1,0,0,2,1,0,1,1,1,1,0,1,1,2,1,2,1,1,0,0,1,0,1,1,1,1,1,1,2,2,1,1,0,2,1,1,1,0,2,1,0,0,1,0,1,0,1,1,0,0,0,0,1,1,0,1,0,1,1,0,1,0,0,2,0,0,1,1,1,0,1,2,0,0,1,2,0,1,0,1,2,0,0,0,1,1,1,2,1,0,1,1,1,2,1,1,0,0,0,1,2,0,1,2,1,1,1,1,1,2,1,0,1,1,1,0,0,1,0,1,1,1,1,1,0,1,0,1,1,1,0,1,1,0,1,0,0,0,2,0,0,0,2,1,1,1,1,0,0,1,0,1,1,2,0,0,2,1,1,2,1,1,1,1,2,1,1,1,1,1,1,0,0,1,2,0,0,2,1,2,2,0,0,1,0,0,2,0,0,1,1,0,0,0,2,2,1,2,1,1,1,0,0,1,0,1,0,2,0,0,1,1,1,1,1,1,0,0,1,1,0,0,0,0,0,0,0,1,0,3,1,1,1,0,1,0,0,2,1,1,1,1,1,2,1,0,1,0,1,1,1,0,0,0,1,1,0,1,0,2,1,1,0,0,0,1,2,1,0,1,1,1,2,1,1,1,1,1,1,0,0,0,1,1,1,1,1,0,0,2,1,0,2,0,1,1,1,1,1,2,1,1,0,1,1,0,1,1,1,1,1,0,1,1,0,1,0,2,2,2,0,0,0,0,0,1,0,1,0,1,2,2,2,1,1,0,1,2,2,0,2,0,1,0,0,2,3,1,0,0,1,1,0,0,0,1,2,0,1,2,1,1,2,0,1,0,1,1,0,0,0,0,0,0,1,1,3,1,1,1,0,0,1,1,0,0,0,0,2,1,0,1,0,1,1,2,1,1,1,0,1,1,1,0,1,1,1,1,1,1,0,0,1,1,2,0,1,0,0,1,1,1,1,0,2,0,1,1,0,0,0,1,1,2,0,0,1,0,1,1,1,0,0,0,1,2,2,2,2,2,1,0,2,0,2,0,1,1,0,1,1,1,1,1,2,1,1,0,1,2,0,1,1,0,0,1,1,1,2,1,0,2,0,1,2,0,1,0,2,0,0,1,1,0,1,1,0,1,0,0,1,1,1,1,1,0,1,0,2,1,0,1,1,1,1,1,0,1,0,0,2,1,1,0,1,1,1,1,2,1,2,0,1,1,2,0,0,1,1,0,1,1,1,1,1,0,1,0,1,1,1,0,0,1,1,1,0,1,0,1,2,1,2,0,1,1,1,0,1,0,1,1,1,0,2,0,0,2,2,1,0,1,0,0,0,2,0,1,2,1,1,2,0,1,3,1,0,1,0,1,0,1,0,1,2,1,0,1,0,1,0,1,1,1,1,1,0,1,1,1,1,1,2,0,1,0,1,0,2,0,0,1,2,0,1,1,1,0,1,1,1,2,2,0,1,1,0,1,2,1,0,2,1,1,1,1,1,1,1,0,1,0,1,2,1,0,1,1,0,0,0,1,1,0,2,1,2,1,1,0,0,1,1,0,1,2,0,1,1,1,2,0,0,1,2,0,2,2,1,1,0,1,0,2,0,0,0,0,0,0,2,1,0,2,1,0,0,1,1,1,1,0,1,0,1,0,1,1,0,2,0,1,1,2,0,0,1,0,1,0,0,1,1,1,2,2,1,2,1,0,0,1,1,1,1,1,0,0,0,0,1,1,0,2,1,1,0,2,1,0,1,1,1,2,1,0,0,0,2,1,1,0,1,0,2,1,1,1,1,0,2,2,2,1,1,0,2,1,2,1,1,2,1,1,1,0,1,1,1,0,0,1,0,2,1,1,1,1,1,1,1,0,0,1,1,0,1,1,1,1,2,0,1,0,0,0,1,1,0,1,1,0,1,1,0,1,0,0,2,0,0,0,1,0,0,0,1,1,0,1,2,0,2,0,0,0,2,1,1,1,1,1,1,1,1,1,1,1,0,1,2,0,1,2,1,0,1,0,0,1,0,1,0,1,0,1,2,1,2,1,1,1,1,0,0,0,1,1,0,0,0,1,1,1,0,0,0,1,0,2,1,1,0,1,0,1,2,1,1,1,1,3,1,1,2,1,1,1,2,0,2,0,0,0,1,1,1,1,0,1,1,1,2,0,1,1,2,2,1,1,1,1,2,2,2,1,1,2,0,1,1,2,1,1,1,1,1,1,0,1,0,0,0,1,1,1,1,2,1,1,1,0,2,1,1,2,1,1,1,1,1,1,0,1,2,1,1,1,0,1,1,2,0,0,0,0,0,1,1,1,1,2,1,0,0,0,1,1,0,1,0,2,1,0,1,1,1,2,1,1,1,2,1,1,1,0,0,2,1,0,1,1,2,1,0,2,1,1,1,1,1,1,1,0,0,0,0,0,0,1,1,0,2,0,1,0,0,1,0,1,0,0,1,1,1,1,1,0,2,0,1,0,1,0,1,2,1,3,2,2,1,1,0,2,0,1,1,2,1,0,0,1,2,0,1,0,1,2,0,1,1,0,1,1,1,1,1,0,0,1,1,0,0,1,0,0,0,2,2,2,2,2,0,1,1,0,1,1,0,0,1,1,0,0,1,1,0,0,0,0,0,1,1,0,0,1,0,1,0,1,0,0,1,1,1,1,1,0,0,0,0,0,0,0,0,0,0,1,0,2,1,2,1,0,1,0,2,0,1,0,1,1,1,0,0,0,0,1,2,0,1,1,1,0,2,1,1,0,1,1,1,3,1,1,2,0,2,0,0,1,1,2,1,0,0,1,0,0,1,1,1,1,1,1,1,0,1,1,1,1,1,2,2,1,1,1,0,2,1,1,1,0,2,1,1,1,1,1,2,1,2,0,1,1,0,0,0,0,1,0,0,1,0,1,1,0,1,2,1,1,1,2,2,2,1,2,1,0,1,0,0,0,1,1,1,2,0,2,0,1,1,0,0,1,0,1,2,1,1,0,1,2,1,1,1,2,1,1,1,1,1,1,0,1,2,0,1,0,1,1,1,0,0,1,1,1,2,0,1,1,1,2,1,1,1,1,1,1,0,1,0,2,0,0,1,1,0,1,1,2,1,0,1,1,1,1,0,2,1,0,1,1,1,1,1,2,1,1,1,0,0,1,1,0,2,1,2,1,1,0,1,1,0,0,1,0,0,0,1,1,2,1,1,1,2,0,1,0,0,1,0,1,1,1,0,2,1,1,1,1,0,1,2,0,1,0,0,0,1,0,2,0,1,1,2,2,0,0,1,1,2,0,1,2,1,0,1,2,0,1,1,0,0,0,1,1,1,0,1,0,2,1,2,1,1,1,0,0,2,0,2,0,2,2,1,0,1,0,1,0,0,0,1,2,1,1,1,0,3,1,2,0,2,1,1,1,1,0,1,0,1,1,1,0,1,1,0,1,0,2,1,2,1,2,0,2,2,2,1,1,1,1,0,2,1,1,1,1,2,1,2,0,0,0,0,1,1,2,0,3,0,1,2,1,1,1,1,2,1,1,1,2,0,1,0,1,1,1,0,1,0,1,1,1,1,1,1,2,1,0,2,1,2,2,0,0,1,1,1,1,1,1,2,2,1,1,2,0,1,1,0,2,1,0,0,2,0,0,0,0,2,0,2,1,0,0,2,1,1,2,2,1,1,1,1,1,1,0,0,0,1,0,2,0,1,1,1,1,0,1,1,1,0,2,1,0,0,0,1,1,2,0,2,0,1,2,0,0,0,0,2,1,1,1,2,1,0,1,0,2,1,0,1,0,0,0,0,0,0,0,1,0,1,1,1,1,0,1,0,2,2,0,1,2,0,1,1,1,2,1,0,2,1,0,1,2,0,1,1,0,1,2,2,2,0,0,0,1,1,1,2,1,0,1,1,0,2,1,2,0,1,1,0,1,1,1,1,1,0,0,0,2,1,0,1,1,0,0,1,1,1,0,0,1,2,0,0,2,0,0,0,2,0,0,1,1,0,0,1,0,1,1,1,0,1,0,1,0,1,2,1,2,0,1,0,0,0,1,0,1,1,2,1,0,1,0,1,2,1,0,1,1,1,1,0,0,1,2,1,0,0,0,0,1,0,1,0,1,0,1,1,1,1,2,0,0,0,0,1,1,0,1,0,1,1,0,2,0,1,1,0,2,1,1,1,1,1,2,2,1,1,1,1,1,0,1,1,0,0,0,0,0,0,1,1,1,1,0,1,1,0,1,0,0,2,2,1,2,1,0,1,1,2,2,1,0,1,1,1,0,1,2,1,1,1,1,1,1,0,1,0,1,1,2,2,0,1,2,1,1,1,2,1,2,1,1,1,1,1,1,1,1,1,0,0,2,0,1,0,1,1,1,1,0,0,1,0,1,2,0,1,1,1,2,0,1,3,2,2,0,1,1,1,1,1,0,1,0,2,1,0,0,1,1,1,1,2,1,0,0,1,0,2,0,1,1,2,1,0,0,2,1,0,1,0,2,1,1,0,0,1,1,0,1,0,0,0,1,1,0,2,0,0,0,0,1,0,0,1,1,1,2,2,1,1,1,2,1,0,1,0,0,1,1,0,2,1,2,1,0,1,0,0,1,1,1,1,0,0,0,2,1,2,2,0,0,0,1,1,2,0,0,2,0,2,1,1,0,1,1,0,1,1,1,1,0,1,1,0,2,1,1,0,0,3,1,1,0,0,1,0,1,2,2,0,1,1,0,0,1,0,1,0,0,1,2,1,1,0,1,1,1,2,2,2,0,2,1,0,1,0,1,1,0,1,1,0,0,1,1,0,1,0,1,1,1,2,0,0,0,1,0,1,1,0,0,0,1,2,2,1,2,1,0,1,1,0,1,1,1,0,1,0,0,1,1,0,2,1,1,1,0,0,1,2,1,2,0,0,0,1,1,1,1,1,0,1,1,1,1,1,0,0,2,0,1,0,1,0,1,1,0,0,0,0,1,1,1,1,0,2,2,1,0,1,1,0,2,1,0,1,1,1,1,2,2,2,1,1,0,0,1,0,1,0,2,1,2,1,0,1,1,0,1,2,1,1,0,0,0,1,1,2,1,2,1,1,2,0,1,1,2,1,1,1,1,1,2,1,1,0,2,1,1,1,1,1,0,1,1,1,1,2,1,1,1,0,1,1,1,1,1,0,1,1,0,1,0,0,1,1,1,0,2,1,1,1,1,1,0,0,1,1,1,0,1,2,2,1,1,1,1,2,1,0,0,0,1,1,1,0,0,1,1,1,1,0,1,1,1,1,1,1,2,1,2,0,1,1,0,1,0,0,1,0,2,0,0,1,1,1,1,1,1,0,0,1,0,1,0,2,0,1,0,1,0,1,1,1,2,0,1,2,1,3,1,0,1,1,1,0,0,0,0,1,2,1,1,2,1,1,2,0,0,1,0,2,0,2,2,1,1,1,0,1,1,0,1,2,1,1,0,1,2,1,0,1,2,2,2,1,1,0,0,1,0,0,1,1,0,0,1,1,1,1,0,1,1,1,0,1,0,0,1,2,1,0,0,1,1,1,2,0,1,1,2,1,1,1,0,1,1,0,0,0,1,1,2,1,0,0,1,2,1,1,2,0,0,1,1,2,0,1,0,1,2,0,0,0,0,0,0,0,0,0,1,1,0,1,0,1,1,1,2,0,1,1,0,1,1,1,1,1,1,1,0,2,0,2,0,0,0,2,0,0,2,1,4,0,1,2,1,2,1,1,2,2,0,1,0,0,0,0,2,1,0,0,1,0,1,2,1,1,1,0,2,1,0,1,1,1,2,0,1,2,1,1,0,0,2,1,0,2,2,0,1,2,0,0,1,2,0,0,2,1,2,1,1,0,1,1,2,2,1,1,1,1,1,1,0,0,1,0,0,1,1,2,1,1,0,1,1,2,1,0,2,0,0,0,1,1,1,1,0,2,1,0,1,0,1,0,1,1,1,0,0,1,1,2,2,1,0,1,0,1,0,1,1,0,1,1,0,0,0,1,0,1,1,1,1,1,1,1,0,1,0,1,0,2,1,0,2,1,1,1,1,1,2,2,1,0,1,1,1,0,1,0,1,1,0,1,0,0,1,1,1,0,2,0,0,1,0,1,1,1,1,1,1,1,1,1,0,2,2,1,1,0,1,0,2,1,1,1,1,2,0,1,2,2,1,0,0,1,1,2,0,1,0,0,1,1,2,1,1,1,0,0,0,2,1,1,1,0,2,0,0,1,1,1,2,0,2,1,1,1,1,0,2,1,0,1,1,0,0,0,1,1,1,1,1,2,1,1,0,0,1,1,1,1,1,1,0,0,0,1,0,0,2,1,3,2,0,1,0,1,0,0,1,0,1,1,0,0,1,1,2,0,1,2,1,0,0,1,1,2,1,0,2,1,3,0,1,1,1,0,1,1,1,0,1,0,1,1,1,2,1,0,0,0,2,1,0,1,0,1,0,1,0,0,0,1,1,2,0,2,1,1,0,1,1,1,1,1,2,1,2,2,1,1,1,0,0,1,1,2,1,2,1,0,1,1,0,1,0,0,1,2,0,1,1,1,1,1,0,1,1,0,1,0,1,0,1,1,1,3,1,0,1,1,0,1,1,0,2,1,1,2,1,1,1,0,2,0,2,2,1,0,1,0,1,0,0,0,0,1,1,0,1,0,1,1,1,2,2,1,1,2,0,1,1,1,2,0,1,1,1,1,2,1,0,0,0,1,1,0,1,0,1,1,0,1,1,2,0,0,1,0,1,0,0,0,1,2,1,2,1,0,1,1,1,1,0,1,1,1,1,1,0,2,1,0,1,1,1,1,1,0,1,2,0,2,1,1,2,1,1,2,0,2,0,0,0,0,0,1,1,1,1,1,0,1,1,0,1,1,0,1,1,2,1,2,1,1,0,2,1,0,1,0,1,2,1,2,1,1,1,1,1,1,0,1,1,1,0,2,1,2,1,1,1,2,1,1,2,1,1,1,1,1,1,1,1,1,0,1,1,0,1,1,0,1,2,1,0,2,0,0,0,0,0,1,1,1,1,1,0,1,1,1,1,1,0,2,1,1,1,1,1,1,0,1,1,1,1,1,1,1,1,0,0,2,1,1,1,0,0,1,2,0,0,1,1,2,1,2,2,1,2,1,1,0,1,1,0,1,1,1,1,1,0,0,0,1,1,0,1,0,1,1,1,2,1,1,0,1,1,1,1,1,0,1,2,0,2,1,0,0,1,0,1,0,2,1,0,1,0,0,1,1,0,1,1,1,1,2,1,0,1,1,1,1,1,1,1,1,0,1,2,0,1,2,1,2,1,0,1,2,2,0,1,0,1,0,1,0,1,0,1,1,0,0,2,1,0,1,1,1,0,2,2,0,1,2,1,1,1,2,2,1,1,0,1,0,1,0,1,0,0,0,0,0,0,1,2,1,0,0,2,2,0,0,1,0,1,1,2,2,2,1,1,1,0,1,1,2,1,1,1,2,1,1,2,2,0,1,0,0,0,2,1,2,1,1,2,1,0,1,2,0,0,1,1,1,1,1,2,1,1,0,1,0,2,1,0,0,1,1,1,1,0,1,0,1,1,0,1,0,0,1,1,0,1,1,1,2,2,0,1,0,2,1,1,1,1,2,0,0,0,1,1,0,1,1,1,0,1,1,0,1,0,1,1,0,0,1,1,2,0,1,2,1,1,0,1,0,2,2,2,1,0,0,1,2,0,1,1,1,1,0,0,1,0,1,2,1,0,0,1,1,0,1,1,1,2,1,0,1,1,0,0,0,0,2,1,2,1,1,0,0,1,1,1,1,1,0,1,0,2,1,0,0,1,1,1,0,1,2,1,0,1,1,0,2,1,1,1,1,1,0,0,0,1,1,1,1,1,0,1,0,1,2,2,1,1,2,1,1,0,1,1,1,1,1,1,1,1,1,0,1,1,1,1,0,1,1,1,1,1,1,1,1,1,0,1,1,0,0,1,2,0,1,0,2,0,1,0,1,1,2,0,1,1,0,0,1,2,1,0,1,0,0,1,2,1,2,1,1,0,1,1,1,1,0,1,2,0,0,0,1,1,1,1,2,1,0,1,1,0,1,1,0,1,0,1,1,2,1,2,0,1,1,1,1,1,1,1,1,0,0,1,0,0,1,0,2,0,1,1,0,0,2,2,2,2,0,1,1,0,1,1,0,2,1,1,0,1,1,2,1,0,2,1,1,1,1,2,2,0,1,1,0,1,0,2,0,1,1,0,1,1,0,1,0,1,0,0,1,0,1,1,1,1,0,0,0,1,1,2,0,1,0,2,0,0,1,2,1,1,2,1,0,0,1,2,1,1,1,0,1,1,0,0,1,2,0,1,1,0,2,1,0,0,1,0,2,2,1,1,2,1,0,1,0,1,0,1,1,0,0,0,1,0,1,1,1,0,1,1,1,0,1,0,2,0,2,0,1,2,0,1,1,2,1,0,1,0,0,1,1,2,0,2,0,1,1,1,1,0,0,1,0,0,0,0,1,2,1,1,0,2,0,0,1,1,0,0,0,0,0,1,1,1,1,1,1,0,1,0,1,1,2,0,1,1,1,1,1,2,2,1,0,2,1,1,0,0,0,0,0,1,0,1,0,0,0,0,1,0,2,2,2,1,0,1,2,0,1,1,2,1,0,1,1,0,0,0,1,1,0,0,2,0,2,1,0,1,1,0,0,1,1,2,1,1,0,0,2,0,0,1,0,0,0,2,0,1,0,1,0,1,1,2,1,1,0,1,0,0,0,0,1,1,1,1,2,2,0,1,0,1,0,1,2,2,1,0,2,1,1,2,2,1,0,1,1,1,1,1,1,0,1,1,1,0,0,2,2,1,2,1,1,0,2,1,1,1,1,1,1,1,1,0,1,0,2,0,2,1,1,2,1,1,0,1,2,1,1,2,1,0,0,1,1,1,0,0,0,1,0,1,0,2,0,0,1,0,0,2,2,1,2,0,1,1,1,1,1,1,1,2,1,1,0,1,3,1,0,2,1,1,1,2,0,2,0,1,1,1,1,0,0,0,1,0,0,0,1,2,2,0,0,1,1,2,1,2,0,2,2,1,0,1,0,0,0,0,0,2],\"type\":\"box\"}],                        {\"template\":{\"data\":{\"histogram2dcontour\":[{\"type\":\"histogram2dcontour\",\"colorbar\":{\"outlinewidth\":0,\"ticks\":\"\"},\"colorscale\":[[0.0,\"#0d0887\"],[0.1111111111111111,\"#46039f\"],[0.2222222222222222,\"#7201a8\"],[0.3333333333333333,\"#9c179e\"],[0.4444444444444444,\"#bd3786\"],[0.5555555555555556,\"#d8576b\"],[0.6666666666666666,\"#ed7953\"],[0.7777777777777778,\"#fb9f3a\"],[0.8888888888888888,\"#fdca26\"],[1.0,\"#f0f921\"]]}],\"choropleth\":[{\"type\":\"choropleth\",\"colorbar\":{\"outlinewidth\":0,\"ticks\":\"\"}}],\"histogram2d\":[{\"type\":\"histogram2d\",\"colorbar\":{\"outlinewidth\":0,\"ticks\":\"\"},\"colorscale\":[[0.0,\"#0d0887\"],[0.1111111111111111,\"#46039f\"],[0.2222222222222222,\"#7201a8\"],[0.3333333333333333,\"#9c179e\"],[0.4444444444444444,\"#bd3786\"],[0.5555555555555556,\"#d8576b\"],[0.6666666666666666,\"#ed7953\"],[0.7777777777777778,\"#fb9f3a\"],[0.8888888888888888,\"#fdca26\"],[1.0,\"#f0f921\"]]}],\"heatmap\":[{\"type\":\"heatmap\",\"colorbar\":{\"outlinewidth\":0,\"ticks\":\"\"},\"colorscale\":[[0.0,\"#0d0887\"],[0.1111111111111111,\"#46039f\"],[0.2222222222222222,\"#7201a8\"],[0.3333333333333333,\"#9c179e\"],[0.4444444444444444,\"#bd3786\"],[0.5555555555555556,\"#d8576b\"],[0.6666666666666666,\"#ed7953\"],[0.7777777777777778,\"#fb9f3a\"],[0.8888888888888888,\"#fdca26\"],[1.0,\"#f0f921\"]]}],\"heatmapgl\":[{\"type\":\"heatmapgl\",\"colorbar\":{\"outlinewidth\":0,\"ticks\":\"\"},\"colorscale\":[[0.0,\"#0d0887\"],[0.1111111111111111,\"#46039f\"],[0.2222222222222222,\"#7201a8\"],[0.3333333333333333,\"#9c179e\"],[0.4444444444444444,\"#bd3786\"],[0.5555555555555556,\"#d8576b\"],[0.6666666666666666,\"#ed7953\"],[0.7777777777777778,\"#fb9f3a\"],[0.8888888888888888,\"#fdca26\"],[1.0,\"#f0f921\"]]}],\"contourcarpet\":[{\"type\":\"contourcarpet\",\"colorbar\":{\"outlinewidth\":0,\"ticks\":\"\"}}],\"contour\":[{\"type\":\"contour\",\"colorbar\":{\"outlinewidth\":0,\"ticks\":\"\"},\"colorscale\":[[0.0,\"#0d0887\"],[0.1111111111111111,\"#46039f\"],[0.2222222222222222,\"#7201a8\"],[0.3333333333333333,\"#9c179e\"],[0.4444444444444444,\"#bd3786\"],[0.5555555555555556,\"#d8576b\"],[0.6666666666666666,\"#ed7953\"],[0.7777777777777778,\"#fb9f3a\"],[0.8888888888888888,\"#fdca26\"],[1.0,\"#f0f921\"]]}],\"surface\":[{\"type\":\"surface\",\"colorbar\":{\"outlinewidth\":0,\"ticks\":\"\"},\"colorscale\":[[0.0,\"#0d0887\"],[0.1111111111111111,\"#46039f\"],[0.2222222222222222,\"#7201a8\"],[0.3333333333333333,\"#9c179e\"],[0.4444444444444444,\"#bd3786\"],[0.5555555555555556,\"#d8576b\"],[0.6666666666666666,\"#ed7953\"],[0.7777777777777778,\"#fb9f3a\"],[0.8888888888888888,\"#fdca26\"],[1.0,\"#f0f921\"]]}],\"mesh3d\":[{\"type\":\"mesh3d\",\"colorbar\":{\"outlinewidth\":0,\"ticks\":\"\"}}],\"scatter\":[{\"fillpattern\":{\"fillmode\":\"overlay\",\"size\":10,\"solidity\":0.2},\"type\":\"scatter\"}],\"parcoords\":[{\"type\":\"parcoords\",\"line\":{\"colorbar\":{\"outlinewidth\":0,\"ticks\":\"\"}}}],\"scatterpolargl\":[{\"type\":\"scatterpolargl\",\"marker\":{\"colorbar\":{\"outlinewidth\":0,\"ticks\":\"\"}}}],\"bar\":[{\"error_x\":{\"color\":\"#2a3f5f\"},\"error_y\":{\"color\":\"#2a3f5f\"},\"marker\":{\"line\":{\"color\":\"#E5ECF6\",\"width\":0.5},\"pattern\":{\"fillmode\":\"overlay\",\"size\":10,\"solidity\":0.2}},\"type\":\"bar\"}],\"scattergeo\":[{\"type\":\"scattergeo\",\"marker\":{\"colorbar\":{\"outlinewidth\":0,\"ticks\":\"\"}}}],\"scatterpolar\":[{\"type\":\"scatterpolar\",\"marker\":{\"colorbar\":{\"outlinewidth\":0,\"ticks\":\"\"}}}],\"histogram\":[{\"marker\":{\"pattern\":{\"fillmode\":\"overlay\",\"size\":10,\"solidity\":0.2}},\"type\":\"histogram\"}],\"scattergl\":[{\"type\":\"scattergl\",\"marker\":{\"colorbar\":{\"outlinewidth\":0,\"ticks\":\"\"}}}],\"scatter3d\":[{\"type\":\"scatter3d\",\"line\":{\"colorbar\":{\"outlinewidth\":0,\"ticks\":\"\"}},\"marker\":{\"colorbar\":{\"outlinewidth\":0,\"ticks\":\"\"}}}],\"scattermapbox\":[{\"type\":\"scattermapbox\",\"marker\":{\"colorbar\":{\"outlinewidth\":0,\"ticks\":\"\"}}}],\"scatterternary\":[{\"type\":\"scatterternary\",\"marker\":{\"colorbar\":{\"outlinewidth\":0,\"ticks\":\"\"}}}],\"scattercarpet\":[{\"type\":\"scattercarpet\",\"marker\":{\"colorbar\":{\"outlinewidth\":0,\"ticks\":\"\"}}}],\"carpet\":[{\"aaxis\":{\"endlinecolor\":\"#2a3f5f\",\"gridcolor\":\"white\",\"linecolor\":\"white\",\"minorgridcolor\":\"white\",\"startlinecolor\":\"#2a3f5f\"},\"baxis\":{\"endlinecolor\":\"#2a3f5f\",\"gridcolor\":\"white\",\"linecolor\":\"white\",\"minorgridcolor\":\"white\",\"startlinecolor\":\"#2a3f5f\"},\"type\":\"carpet\"}],\"table\":[{\"cells\":{\"fill\":{\"color\":\"#EBF0F8\"},\"line\":{\"color\":\"white\"}},\"header\":{\"fill\":{\"color\":\"#C8D4E3\"},\"line\":{\"color\":\"white\"}},\"type\":\"table\"}],\"barpolar\":[{\"marker\":{\"line\":{\"color\":\"#E5ECF6\",\"width\":0.5},\"pattern\":{\"fillmode\":\"overlay\",\"size\":10,\"solidity\":0.2}},\"type\":\"barpolar\"}],\"pie\":[{\"automargin\":true,\"type\":\"pie\"}]},\"layout\":{\"autotypenumbers\":\"strict\",\"colorway\":[\"#636efa\",\"#EF553B\",\"#00cc96\",\"#ab63fa\",\"#FFA15A\",\"#19d3f3\",\"#FF6692\",\"#B6E880\",\"#FF97FF\",\"#FECB52\"],\"font\":{\"color\":\"#2a3f5f\"},\"hovermode\":\"closest\",\"hoverlabel\":{\"align\":\"left\"},\"paper_bgcolor\":\"white\",\"plot_bgcolor\":\"#E5ECF6\",\"polar\":{\"bgcolor\":\"#E5ECF6\",\"angularaxis\":{\"gridcolor\":\"white\",\"linecolor\":\"white\",\"ticks\":\"\"},\"radialaxis\":{\"gridcolor\":\"white\",\"linecolor\":\"white\",\"ticks\":\"\"}},\"ternary\":{\"bgcolor\":\"#E5ECF6\",\"aaxis\":{\"gridcolor\":\"white\",\"linecolor\":\"white\",\"ticks\":\"\"},\"baxis\":{\"gridcolor\":\"white\",\"linecolor\":\"white\",\"ticks\":\"\"},\"caxis\":{\"gridcolor\":\"white\",\"linecolor\":\"white\",\"ticks\":\"\"}},\"coloraxis\":{\"colorbar\":{\"outlinewidth\":0,\"ticks\":\"\"}},\"colorscale\":{\"sequential\":[[0.0,\"#0d0887\"],[0.1111111111111111,\"#46039f\"],[0.2222222222222222,\"#7201a8\"],[0.3333333333333333,\"#9c179e\"],[0.4444444444444444,\"#bd3786\"],[0.5555555555555556,\"#d8576b\"],[0.6666666666666666,\"#ed7953\"],[0.7777777777777778,\"#fb9f3a\"],[0.8888888888888888,\"#fdca26\"],[1.0,\"#f0f921\"]],\"sequentialminus\":[[0.0,\"#0d0887\"],[0.1111111111111111,\"#46039f\"],[0.2222222222222222,\"#7201a8\"],[0.3333333333333333,\"#9c179e\"],[0.4444444444444444,\"#bd3786\"],[0.5555555555555556,\"#d8576b\"],[0.6666666666666666,\"#ed7953\"],[0.7777777777777778,\"#fb9f3a\"],[0.8888888888888888,\"#fdca26\"],[1.0,\"#f0f921\"]],\"diverging\":[[0,\"#8e0152\"],[0.1,\"#c51b7d\"],[0.2,\"#de77ae\"],[0.3,\"#f1b6da\"],[0.4,\"#fde0ef\"],[0.5,\"#f7f7f7\"],[0.6,\"#e6f5d0\"],[0.7,\"#b8e186\"],[0.8,\"#7fbc41\"],[0.9,\"#4d9221\"],[1,\"#276419\"]]},\"xaxis\":{\"gridcolor\":\"white\",\"linecolor\":\"white\",\"ticks\":\"\",\"title\":{\"standoff\":15},\"zerolinecolor\":\"white\",\"automargin\":true,\"zerolinewidth\":2},\"yaxis\":{\"gridcolor\":\"white\",\"linecolor\":\"white\",\"ticks\":\"\",\"title\":{\"standoff\":15},\"zerolinecolor\":\"white\",\"automargin\":true,\"zerolinewidth\":2},\"scene\":{\"xaxis\":{\"backgroundcolor\":\"#E5ECF6\",\"gridcolor\":\"white\",\"linecolor\":\"white\",\"showbackground\":true,\"ticks\":\"\",\"zerolinecolor\":\"white\",\"gridwidth\":2},\"yaxis\":{\"backgroundcolor\":\"#E5ECF6\",\"gridcolor\":\"white\",\"linecolor\":\"white\",\"showbackground\":true,\"ticks\":\"\",\"zerolinecolor\":\"white\",\"gridwidth\":2},\"zaxis\":{\"backgroundcolor\":\"#E5ECF6\",\"gridcolor\":\"white\",\"linecolor\":\"white\",\"showbackground\":true,\"ticks\":\"\",\"zerolinecolor\":\"white\",\"gridwidth\":2}},\"shapedefaults\":{\"line\":{\"color\":\"#2a3f5f\"}},\"annotationdefaults\":{\"arrowcolor\":\"#2a3f5f\",\"arrowhead\":0,\"arrowwidth\":1},\"geo\":{\"bgcolor\":\"white\",\"landcolor\":\"#E5ECF6\",\"subunitcolor\":\"white\",\"showland\":true,\"showlakes\":true,\"lakecolor\":\"white\"},\"title\":{\"x\":0.05},\"mapbox\":{\"style\":\"light\"}}},\"title\":{\"text\":\"Box Plot for Total_Stops\",\"font\":{\"size\":25}},\"font\":{\"color\":\"white\"},\"yaxis\":{\"title\":{\"text\":\"Values\"},\"showgrid\":true,\"gridwidth\":1,\"gridcolor\":\"white\",\"griddash\":\"dash\"},\"plot_bgcolor\":\"black\",\"paper_bgcolor\":\"black\",\"xaxis\":{\"showgrid\":true,\"gridwidth\":1,\"gridcolor\":\"white\",\"griddash\":\"dash\"}},                        {\"responsive\": true}                    ).then(function(){\n",
       "                            \n",
       "var gd = document.getElementById('f18ad57a-6675-4dc1-bf97-fa46ec327e0c');\n",
       "var x = new MutationObserver(function (mutations, observer) {{\n",
       "        var display = window.getComputedStyle(gd).display;\n",
       "        if (!display || display === 'none') {{\n",
       "            console.log([gd, 'removed!']);\n",
       "            Plotly.purge(gd);\n",
       "            observer.disconnect();\n",
       "        }}\n",
       "}});\n",
       "\n",
       "// Listen for the removal of the full notebook cells\n",
       "var notebookContainer = gd.closest('#notebook-container');\n",
       "if (notebookContainer) {{\n",
       "    x.observe(notebookContainer, {childList: true});\n",
       "}}\n",
       "\n",
       "// Listen for the clearing of the current output cell\n",
       "var outputEl = gd.closest('.output');\n",
       "if (outputEl) {{\n",
       "    x.observe(outputEl, {childList: true});\n",
       "}}\n",
       "\n",
       "                        })                };                });            </script>        </div>"
      ]
     },
     "metadata": {},
     "output_type": "display_data"
    },
    {
     "data": {
      "text/html": [
       "<div>                            <div id=\"2b3d8888-0f49-427e-87fd-f92810118900\" class=\"plotly-graph-div\" style=\"height:525px; width:100%;\"></div>            <script type=\"text/javascript\">                require([\"plotly\"], function(Plotly) {                    window.PLOTLYENV=window.PLOTLYENV || {};                                    if (document.getElementById(\"2b3d8888-0f49-427e-87fd-f92810118900\")) {                    Plotly.newPlot(                        \"2b3d8888-0f49-427e-87fd-f92810118900\",                        [{\"name\":\"Price\",\"y\":[3897,7662,13882,6218,13302,3873,11087,22270,11087,8625,8907,4174,4667,9663,4804,14011,5830,10262,13381,12898,19495,6955,3943,4823,7757,13292,8238,7682,4668,3687,3687,13227,4423,10919,12373,5894,4649,6245,19225,14924,9646,8714,12373,3383,13062,3527,3943,4667,6117,11150,7202,12121,4377,3943,4483,14231,17345,7414,8073,12395,8366,5117,12524,7191,3687,5894,5403,3625,10861,6297,5678,9134,10791,12819,6893,7240,3898,4049,10262,3332,10844,7229,13941,5894,10197,13712,5636,13014,7064,10703,9646,17057,13817,13748,4880,3540,3257,6478,8040,14300,14781,14939,10262,6528,6121,13029,11421,7574,11596,15129,13555,5780,9397,17024,5281,10348,12677,15147,4668,15554,3971,3100,9663,27430,3540,10676,13044,14388,3943,3597,5932,10262,6216,4804,14067,15129,13376,10441,4030,17024,13017,6686,5636,6442,9486,10844,15318,5117,6147,7005,3873,9270,3898,14781,8586,10697,14300,8855,10844,17024,9314,4777,7662,6442,5264,12898,6092,3311,6540,3419,5177,8246,14676,13587,9663,13044,5073,9345,9663,14277,10262,5678,13727,9663,3858,4812,5775,10539,4804,3383,8738,7165,6412,8016,11087,3543,12471,10262,4441,12537,10091,6961,5013,6934,10877,7229,7048,4878,10844,15129,3943,5583,9646,7677,6842,4995,9555,4077,7229,12192,5911,8372,4995,14323,13014,13591,18799,3943,1965,4995,14641,4460,10191,13843,6349,4409,17024,13727,8855,12524,13555,10844,13587,3543,4842,3943,10577,6979,11982,5264,8001,10651,10844,6601,6587,3173,5228,5769,14714,13014,3359,6722,4462,6171,12303,7695,5684,8366,19630,13502,14781,6513,9929,18275,4487,2754,2575,8224,8991,5000,8529,14042,4030,10844,4804,7308,4823,10262,12898,12778,14871,8708,10844,4129,4804,7229,7832,3859,9001,4878,2754,4668,5216,10368,8146,12242,9134,10939,11753,4174,10844,14714,9899,14871,7295,13465,3543,7198,10262,4148,8016,10262,3841,11507,14781,16079,12898,15353,7303,6197,8996,6528,4239,4148,3971,5192,9483,18804,5201,16079,7229,6795,10953,15965,9968,4804,16079,11507,11542,7229,4544,6496,4804,13439,6540,4591,4437,6151,7754,10262,8016,4781,4668,14594,14231,8425,9646,7295,5162,6860,6216,5192,4823,3919,2754,9315,11667,6224,13349,11087,15603,15129,4823,8452,12524,3384,10262,1965,4804,16079,13292,6751,8669,14871,12898,3919,36983,3597,10741,11432,11087,13292,10493,7631,13381,13731,11911,4591,14848,8266,12392,13044,12898,12242,3943,11105,14388,13014,15411,16289,6442,10844,5678,6906,3543,14714,11793,14323,3971,8452,5403,13727,12639,5198,4878,12373,8552,6741,6481,7354,5228,10844,6347,5013,9663,4823,13381,3543,9663,7064,10262,13013,15339,4937,6818,10441,5177,3858,6534,6795,9736,7229,4957,7648,3873,14388,5618,7408,13774,4668,13082,8669,6316,12583,7923,7378,4878,10844,7229,6297,8529,13727,6643,10197,4911,6482,26890,3717,3597,10846,14069,5177,14641,6442,5704,9663,14714,5406,8610,14237,4823,2227,12373,8372,17024,3100,14053,3540,9345,10368,26890,5755,7832,14388,8839,22096,3687,9627,13542,4423,8899,5583,6752,3543,7832,10991,12898,12898,3398,5201,13873,7384,10262,10031,12384,7757,17261,7298,7229,4174,5699,4880,15284,13759,16092,4392,10262,3841,5048,11096,5073,19828,3739,10598,7229,8610,6216,6961,10703,14151,8586,4488,7408,5443,10539,7723,15411,7229,4804,4050,14151,4957,7591,11134,6600,4966,15481,5515,14714,4959,7229,6094,4409,9794,5678,6442,4878,12446,16704,9134,8586,7229,6144,6961,10844,3597,7139,25139,10368,5117,9211,4174,10786,9134,13376,6955,10844,3807,9663,12373,4991,6745,10262,6540,3873,15554,4804,7438,6181,9424,12725,6046,3971,12692,7451,13817,10703,13817,27210,13941,10246,4804,6810,5198,5613,4784,5406,5228,12898,4667,14781,5403,9899,13029,9187,4823,8665,14871,4049,4667,4226,7591,19225,12898,2754,1965,12835,52229,14533,4668,11822,6017,14714,3597,3383,11642,5403,14221,8586,4049,10262,7888,8236,12961,8586,5279,3419,13292,13067,3597,15554,6027,14781,13376,3943,5842,4326,8937,3670,4823,2071,6093,11682,7774,13067,7514,6838,3858,6795,16263,8576,5228,16704,8872,3898,3332,5608,13941,9100,4878,6416,2017,10976,10031,4462,5073,4326,10161,3175,12312,12604,10877,4226,5406,8618,4174,10651,5963,10368,7681,7485,4544,4649,11982,4995,5069,3873,3873,8907,10844,10844,9663,13292,14441,4050,6144,14871,4483,6979,8040,7048,3573,5054,8582,8759,6442,8879,10031,10368,3943,14871,4995,10791,2753,4423,4409,6117,15129,9345,8085,15554,3573,17073,6795,5403,3540,6216,3359,10844,6961,4107,13069,13357,6938,13292,26743,13568,15353,3597,10031,14687,7229,10188,7398,16704,8153,7229,6943,8937,9400,13152,3419,7927,9796,8028,10759,10197,5228,9275,5277,13848,6412,13941,4668,3419,3943,6528,7229,13542,8529,8016,13029,15129,10368,8666,15554,26890,13067,4544,8452,7268,9627,9103,11142,4148,10844,9646,12475,15554,10262,6961,10262,10262,3943,3625,13378,13882,3943,14687,6451,4878,8542,4804,6711,16108,3943,15422,5694,12681,8586,6144,6015,7155,12692,8277,9347,4939,5678,10844,7280,7618,15147,13941,11467,6270,17057,8016,4760,3815,4174,12692,15532,4995,12898,9794,5228,10262,9646,15149,4205,15147,13712,12415,5192,5162,9027,11134,10844,12890,14571,12121,12373,10972,10262,12898,6442,5403,5703,9871,4174,11972,4174,4804,12681,4508,10262,16775,7198,13014,10991,3687,5530,3815,6535,17234,19907,5022,6305,8728,3943,3175,7229,8620,10657,7832,11150,25735,16263,5797,14237,10262,10262,3943,12898,3419,8033,27992,13941,14388,10844,11600,5277,10262,6144,12898,13941,12373,3841,10697,26890,2175,9476,3100,10368,2017,3841,10493,5126,3943,11552,7934,6092,10112,6627,11507,26890,13817,13364,9187,5277,13492,5162,5897,5510,17261,7485,4667,14151,7048,12557,15965,11791,8291,4990,9135,4409,10844,10407,9315,9663,9264,3597,6442,15078,6218,10262,13677,8016,10262,3873,4812,2017,4462,10231,6383,11989,7303,7229,4995,7408,14960,4482,6442,6144,15129,10231,4823,4823,12898,5678,14483,2228,8018,15136,5583,13381,7932,7757,13029,3841,10216,3100,8245,14594,14237,13164,14924,10844,7064,9555,7155,12192,7353,5054,18485,10844,6144,2754,12327,3841,12373,10231,7318,16736,6195,2753,3807,20064,5406,10441,8066,6961,5586,7384,20800,13941,5198,3807,13838,11185,7229,10262,4384,12819,7757,7174,6674,2227,13014,3175,6565,12681,3687,3210,4778,10877,9187,6850,14781,13227,4668,14178,8066,3943,11200,8586,13044,8099,10262,18275,8475,3873,2227,16389,5228,5092,4777,3383,8452,3943,3100,14871,8016,11789,10529,5615,4649,12723,10844,14714,6216,4148,5647,10844,6818,13643,6358,14714,6460,9663,13941,5963,13014,9663,4423,21219,7503,4804,15129,6197,3597,9100,4050,7723,15129,12373,4591,6300,5176,12717,4405,6749,7064,16289,6297,5678,14388,7229,9806,6195,13044,13882,8147,8052,14781,14151,6704,9663,4462,8367,13376,13067,5224,13542,3419,10444,4804,4995,4957,15554,9663,14151,5601,7787,5092,10844,23583,10676,10156,8627,4409,9646,13817,13538,9416,7229,10203,6778,2754,10991,4668,5726,14960,7480,4107,11467,5796,10262,11543,5298,6451,6245,2071,4804,7005,12284,10203,6938,13377,9779,4667,4544,16079,7064,15554,3543,6121,8075,13377,14571,3919,14231,2754,8067,8452,15025,26890,15103,8586,10844,12898,8586,11622,13538,13014,13941,14151,13542,6558,5192,4878,12898,7384,3898,3383,6093,12192,6795,11455,3540,15898,9718,7831,6416,3739,8085,4823,13376,8452,10844,4851,6795,4823,10577,12032,9330,8977,7005,10844,12192,4441,7575,4804,3597,10413,8016,10844,9663,6069,6442,13587,3100,14781,12898,4804,4174,4591,9663,8266,4823,6094,14178,13376,2575,12395,10351,5192,7670,11161,14151,4775,12865,5462,8382,4544,4544,14781,5158,5678,18804,4049,6565,12373,4441,3597,5678,10660,4544,4823,14214,14781,23533,14053,10262,4823,8361,10493,17057,12392,5883,12898,16079,10678,20999,6575,15129,10844,11654,5069,5176,13292,6386,15129,4435,4591,7832,4174,6148,9149,6128,6412,8073,4256,14634,14067,4804,4911,6412,3543,3858,9941,7229,8352,14151,6795,4804,6587,4106,5510,15129,13029,6582,5797,12692,3332,10151,5046,8907,5228,13753,11087,14781,5224,3702,2754,3383,5228,5054,13555,7408,5224,9694,7318,5054,4030,16736,2050,9977,10368,6755,3502,6961,4544,3841,24115,9502,3100,4319,2227,5831,4804,5458,7229,14571,3919,6916,6960,16757,14871,5054,12488,4823,14483,11989,16079,13067,6818,13941,12927,4804,5406,7318,3384,11410,9134,7832,14815,4591,12373,4284,13941,16289,9165,8016,5192,14939,25735,14502,13817,14151,15077,12192,1965,3850,3175,7229,16079,4392,54826,10368,12898,14960,6442,3597,18804,6111,6015,6121,6287,7229,6442,4544,11542,16079,6076,10408,8446,13663,10671,3383,9021,14533,11992,3597,4077,9646,3873,15129,6104,16022,10562,10945,3873,1840,9585,3210,6147,7341,8372,10877,10441,13611,11087,5963,3597,8529,10678,8285,18371,12692,4423,7229,6144,10919,4148,3873,11702,14871,11234,6938,6093,3943,8040,15129,3597,8610,13067,4991,4649,3597,12898,9296,8855,10262,3943,9001,7670,7530,8443,5351,6688,11087,7664,4775,3514,13376,14300,7480,2227,7452,4409,4647,3332,6902,6857,12373,11789,13039,11087,9345,1965,6093,11841,9663,14714,8529,5073,7229,9194,11789,2017,15894,3419,10368,6027,7480,7189,7276,15764,14714,7888,10262,15318,5608,12681,9417,17057,12537,10651,6741,10844,13381,4423,5678,12719,5054,7480,6961,3841,3943,7229,4319,4423,16079,7754,10467,14714,7452,13276,31783,4667,7229,14237,8266,13882,4823,4483,6961,9663,16704,4049,3807,6442,7832,6442,4823,13555,5135,3383,5842,16704,8366,1965,3873,27992,10678,6824,9443,13378,3943,7191,3625,6841,11134,14571,12346,4544,13376,11087,5515,4804,3597,15353,9899,7303,13817,19329,16289,9663,10975,4384,14714,10919,14388,10877,15129,7191,6686,7530,6442,10262,13817,13626,14388,4804,5406,4611,5069,3898,2754,6943,14781,16079,8033,6860,6953,4823,4174,12819,9663,3841,5000,13366,12395,7452,15554,13067,6565,1965,3332,6208,11161,12224,9663,12284,7480,17024,14151,4804,6069,6065,14151,14231,12395,5636,5232,14714,3850,7258,17471,4423,2227,13377,8016,5626,6860,6628,11627,4174,14714,14151,12898,12373,3943,7870,8016,10975,3850,4804,15554,4465,11841,19332,3841,4591,5192,10577,15129,11789,8372,8266,14781,5613,7229,6093,15544,6296,4804,4284,6558,5775,3543,17024,4050,14219,26890,9653,3943,10844,8849,2754,10756,14151,9899,12242,10368,5755,10262,6643,9845,11134,5583,6069,13817,10283,7795,13977,10919,6038,5601,12351,6094,7575,16079,10262,13470,8016,16289,10262,4823,5403,12373,13552,10844,22619,8625,4777,5000,21954,11627,13731,3943,6992,13941,14924,18371,7295,9292,13941,4150,12681,5601,14960,13377,3342,8016,16736,10031,7258,4030,13381,16704,13587,5678,7064,2754,4668,4107,5894,10262,13941,6451,10975,14746,11410,3841,13381,15078,8891,7757,4441,10031,4823,8576,11087,12373,11432,3175,4804,13014,7563,3873,6282,11200,5613,5601,10262,14306,7064,18371,13591,10368,18275,3749,6810,7485,5510,10262,6723,8307,6146,15129,14388,4544,5198,7503,12314,8372,14781,8016,6297,14388,6393,14939,14781,14871,4319,13067,26890,9134,3943,8879,14571,5644,9663,14571,3971,17024,3841,12898,13376,9905,13587,7740,9794,17471,15129,11467,6528,8266,6442,10262,17501,8273,10703,8510,2754,2227,18275,6356,14781,13029,4340,12224,10844,4174,14887,12853,3383,11111,7229,4030,14871,12898,14533,7258,4812,12384,8603,8603,14231,15129,11410,12725,13292,3873,3850,8479,14151,5228,9397,4995,10651,4282,10697,9314,3540,9443,15147,8016,2437,6104,1965,7408,4049,8016,10197,10844,12692,14781,7335,7229,4353,13941,12295,12898,7927,4483,19225,4692,13555,6270,13584,13180,14151,6216,15135,15136,10262,12384,9314,9314,10454,8372,11848,6416,3342,10118,14960,6818,5510,14388,7038,8266,14300,8366,17261,8452,8567,9646,8341,12373,3543,13994,4777,7038,3175,7408,3943,15974,3873,4423,15129,8285,3100,25430,2385,11316,10262,7662,14231,6838,13376,10262,8574,7832,12192,4050,6722,10844,7408,14189,3841,8586,7155,9899,14571,4823,4544,14752,11542,7202,11098,2575,6673,14306,15554,9314,4995,7832,8586,6094,13292,10368,9718,7412,10441,14871,15554,36235,3175,3597,1965,12717,6015,5615,7845,10844,27210,4174,6883,6883,8355,5469,6478,11913,7006,12681,15129,13587,14714,6220,10262,8576,10031,12819,5052,22270,5613,3873,6015,10844,2227,7229,10368,12898,12192,12121,16163,12284,5780,4995,6496,12488,4823,2647,12649,8266,6216,4423,17996,5726,15147,15554,12819,7198,5073,3943,3205,3257,4804,10231,12898,2227,9258,9663,8040,3419,8016,7229,4959,10151,10703,10844,7205,12284,13994,6015,4226,9483,5198,10368,11982,8032,5510,8177,11410,9385,10262,3873,11999,14300,2175,14431,7229,3809,7354,12537,9719,8040,4995,4591,7662,3850,6442,11378,13377,10844,4995,6057,5176,13014,7917,5583,7229,7191,3210,14871,8099,8366,6297,18286,17024,6144,13941,3702,5583,10208,12384,17049,7006,12723,10577,16736,10262,7155,15147,4823,8714,10953,10203,12373,14151,12121,5586,10844,8586,5409,7178,5797,13759,13873,16079,2017,10844,3573,8066,14053,12284,5351,7064,10394,9663,13727,10262,4823,7074,17267,14067,4823,4823,4483,14960,7171,12173,11392,16057,14151,4030,4226,11050,6961,14231,10919,10913,5277,7485,14231,4201,7931,6513,14714,6218,8603,7318,13504,9646,5224,12692,9689,13033,13626,2754,12121,3419,13033,4174,6152,5201,9134,13243,15129,2759,4423,9187,7740,6144,10877,6442,7048,5797,10573,7503,6104,9663,5769,3100,12373,3815,14300,4823,2754,9736,7280,7408,13044,12723,8586,6316,15554,2385,13587,13790,10975,14388,7198,13029,12717,14871,10118,10262,2071,5228,7832,7005,14237,3971,3943,8574,12646,13082,13941,5135,11096,13555,5403,15812,14781,8907,4145,14151,7845,8099,13377,12734,10262,7229,12395,11134,6540,7354,9548,9187,5054,10413,4804,4049,6795,4435,6224,4804,6171,6093,4174,3342,13587,16079,6015,13067,9103,14151,11538,8146,6117,17024,22270,12692,8610,6723,4878,16736,11134,3943,13587,16914,1965,8073,3943,5170,3398,4409,8541,4777,3847,7064,4668,1965,14781,4049,13584,12373,16079,7229,17471,14781,14571,10197,5975,8535,12537,4145,4049,5192,6121,8669,8476,2647,14714,10566,10262,8098,6883,16108,4413,10919,4804,10539,4377,6961,7408,4823,5198,10262,5613,10262,5755,3687,5678,13542,12347,12384,10909,4823,6069,12898,4804,10031,6442,9653,8610,14714,12599,9103,12898,2647,5678,12373,3847,14151,13843,7229,4995,10262,13029,14053,26890,3841,11003,5403,15342,12224,6297,8844,13377,5706,8372,6526,4823,3175,10407,4423,9555,12681,13059,8586,3419,3873,10203,13029,10844,11134,8610,4174,11087,3971,17531,3573,8366,13885,18485,4409,8085,13377,13538,15147,4030,14848,13555,10975,13029,9663,4050,14714,11213,4544,3873,12537,13067,16704,8714,13376,3597,7670,14410,7480,13584,25735,4544,8099,10844,12557,9564,13817,12384,7575,14120,6916,7878,11087,4804,3597,12723,2227,9929,11841,12373,12898,15113,10529,8875,10844,15676,7064,10844,19595,13941,6790,3841,11087,11491,3943,22270,4878,14714,10877,9653,14571,7064,5618,13727,4851,15187,3419,3943,15129,3419,10861,7074,11542,6968,5769,7927,13044,15129,3841,4804,4319,16079,54826,12351,13067,13817,3625,18293,5613,11038,4077,6883,19508,8714,4804,15078,4807,21829,5403,26890,7335,9412,10844,4990,16704,7711,10262,6007,12219,3898,11467,12534,10844,4377,11982,4423,17234,8295,15864,3398,7198,7229,13014,6528,13292,15129,11071,4174,11299,12373,13439,4804,11642,3419,6103,13033,11245,10056,10539,5277,11936,13014,8820,12373,10262,4995,7438,4148,3597,5192,16736,7933,8879,5000,8137,22096,4273,35185,4226,10844,2754,6301,13222,12898,12127,13067,9920,4239,14714,6218,7295,7408,13994,5224,4391,14109,4885,8016,12524,6017,10441,3625,15586,7199,12273,7530,5678,11753,1965,10208,5054,14871,12373,2017,10661,9794,13067,7298,7648,10676,6961,6979,13587,10844,3943,6838,6542,12239,14388,4148,16840,9646,14571,7923,8586,9646,14388,13044,10197,14714,9929,6017,3597,5704,14714,5228,11467,4668,4591,3943,5228,12242,11185,6573,14781,14960,4332,7652,14151,4319,10929,11491,6015,12692,4384,3943,12373,19225,14053,5911,10877,7757,6558,4804,5678,12373,5198,6064,15029,10909,18492,10262,8781,6442,20120,4878,16736,9630,8610,3687,8452,3943,3342,13067,4878,14388,16704,3100,13387,4049,13029,3919,3850,8839,7064,13941,13007,14781,2071,4256,7923,3782,12384,8565,6232,4777,4145,5192,4729,6093,8891,12242,11467,14781,10197,17261,7480,4804,4439,10368,6065,8586,5406,12142,14714,10262,15434,10676,4804,13014,3943,9678,14781,10197,10861,10844,7480,5684,14714,9314,4435,11789,3919,5198,4273,8820,2754,8085,10539,14676,6017,4544,4140,7229,16373,10991,9663,14305,6752,8529,4729,7670,4995,7229,4823,3782,12898,3841,9627,14571,6985,8040,4804,10678,14231,8529,11753,16704,13374,3625,16079,10262,9663,9595,4804,12744,6961,9663,7575,13355,12592,3625,10262,9443,18959,4784,7893,14431,79512,3210,13677,7480,8372,11664,6961,6121,5911,3398,7530,3419,6558,10203,11087,5575,6152,5608,17261,15129,3419,6218,14714,14848,9358,8366,15342,5678,4804,14571,12681,17261,9922,10844,4423,3419,14714,11087,6316,3543,14571,14676,17261,13941,13348,8016,12898,7229,2017,16736,3873,6704,10844,7450,16736,10262,10991,3311,7081,3943,8372,11701,5769,15965,4423,6136,11087,3540,12898,4591,8635,14714,14151,8835,11936,13882,5117,4544,6442,10441,2227,7229,10262,13817,5975,4148,13587,2759,7229,13547,3873,14388,13731,3815,5678,9663,8855,15129,13555,10844,7832,11150,8452,9646,3943,5281,14667,14571,28097,17471,10577,14848,4591,3597,6938,3807,10262,11432,7229,14848,8586,6106,3873,15812,12121,8586,7354,4778,6838,10276,8016,4943,4823,12996,9929,9508,5674,3858,4804,13377,12898,4409,8759,10394,3858,6253,15129,4773,9663,12692,3943,10703,8784,11622,5277,8327,6885,8016,10112,14871,10262,2470,11622,8662,11972,11992,12373,7198,14714,6316,5998,13044,9646,6451,5281,2228,3943,11753,12819,8728,4812,14151,8452,6762,13817,12898,3480,27992,7791,5704,5268,3898,3847,10877,8371,7038,14571,11841,15129,3841,10262,4460,7648,8610,3597,6442,12351,14067,4823,12102,8040,7648,6582,4668,4823,3873,8476,5636,8586,4823,6881,10844,4226,12373,10697,4995,9443,13029,12347,7408,7064,13843,4174,16294,3841,4423,5201,12599,4049,12797,13067,9345,6818,8040,14300,13727,7832,16259,4823,16736,13217,6637,10844,8401,3873,12410,15129,4423,16079,15894,9103,8991,7893,4575,3873,7832,3597,13759,7229,3873,9794,6681,4423,10844,7258,4995,14924,6590,10262,5515,6643,2754,6493,6218,10861,7094,2227,4544,7664,8016,3807,12698,8586,7064,5601,7317,12797,4226,14151,6628,8033,11200,4804,5192,13014,10844,15603,4239,13044,12898,6013,14781,12557,13875,11507,5510,10198,8355,8016,6314,5831,10262,15136,7832,3859,4174,19225,10518,4823,7276,12192,11410,13033,26890,4804,10844,12436,4823,2227,10262,17024,9296,6094,8586,10919,9495,14714,5201,7090,4575,9646,5636,9646,4050,14714,4804,10577,3898,14571,10919,8016,6287,8366,15400,8553,3841,10021,3597,4332,3898,21375,8610,4804,13591,14781,9134,10493,8147,3873,14571,11003,10262,12719,10262,7171,4423,12616,12970,14914,3210,4632,12373,4804,21829,13587,12819,6151,8016,15135,6794,8610,12723,7662,14343,6795,3873,2754,16666,11098,10539,9929,10844,12692,9212,13727,4282,10844,7480,4823,12373,7215,7480,8143,4823,10844,5621,9555,4777,7648,10308,21219,11319,10844,15078,2017,4409,5054,10111,4273,8728,8576,8016,8016,14151,4423,4050,14781,8586,5162,13731,7438,14151,5613,5380,7438,9646,6853,13555,5883,6171,3175,4832,13377,10262,10262,8603,8586,8452,14231,16289,6860,2754,9646,4667,4804,4545,25735,12647,8586,5277,6206,4483,9870,3841,3815,6860,12121,5963,3625,3841,4823,9646,10152,7514,16736,13584,11222,3850,7608,10844,7408,3687,11726,9663,12829,6069,8529,8085,4878,4077,7605,13014,11600,14151,12497,17024,6300,15147,6795,5755,10203,14714,4545,14781,11602,4049,13029,14571,6961,6381,3841,11538,8610,11552,7408,10262,10991,13587,7480,6351,7153,4409,7228,11667,4649,12592,11789,4667,9719,6902,14781,10844,11522,6121,8610,5620,4804,7005,15129,8586,10197,10667,11160,12488,10844,9968,5198,8586,4332,5069,4544,14973,13387,3625,10703,7615,4823,16736,9663,9205,15554,1965,5510,8266,3175,4760,7740,13941,11410,12681,15129,10368,12324,3841,13014,6442,12373,13817,4823,9412,10231,7229,4273,10844,7164,6478,5198,4319,10262,6741,14571,26092,11753,7832,8610,13626,10368,2754,12692,10067,4959,19372,3100,8405,6943,3841,2017,9187,13941,8938,4319,3573,3841,7202,9187,6976,12898,12898,10588,9181,11087,10262,4886,8470,14960,3873,11911,8907,3859,3807,4384,11622,4563,1965,4145,10031,11628,10262,2017,6216,16294,3943,7038,7294,3873,3100,12507,6152,8030,5769,4804,8372,8578,11228,13227,8855,12192,12819,3943,18260,5228,14300,10151,5699,9187,8452,13961,5769,10877,4591,17732,12373,3807,9555,4483,14781,13292,12373,5530,7081,10262,9316,10844,8542,4823,12940,13374,13062,13014,8541,11134,7832,8888,9663,17267,7832,12123,8073,4991,3419,10262,10262,3807,5755,10262,13039,7832,6297,3210,15147,4049,13882,8366,9134,4823,5006,7480,10844,7064,5224,4384,13377,8837,16352,10441,3597,3807,9663,12681,4668,15129,17057,8372,5515,8355,2754,13377,15554,5224,6069,12373,6959,3841,8669,13014,13731,7888,12942,12395,14571,4591,12592,4804,14388,14851,8586,31825,14237,5069,16079,9663,13587,10808,11446,3100,6484,4049,3873,7280,3625,3919,15554,3850,15129,7229,4823,4823,11682,4823,10262,6818,1965,9345,6938,10368,11753,12488,9899,11622,3847,16079,6478,5201,4409,17261,4878,3573,10844,4804,5201,14533,3873,3543,7215,11999,2754,13817,4107,8073,2227,10539,3943,10844,3925,3210,8016,3841,14388,3597,14086,3749,7229,15603,4823,8040,13941,14714,7927,4030,8285,10844,9663,4148,6496,4148,13339,13882,3943,11087,15318,3873,11573,4668,13576,15434,5403,16914,14781,4544,9416,8662,9194,3873,11465,8907,8770,12242,12192,8505,9663,8614,13292,7740,8854,7682,4804,4668,5797,4729,7888,5069,9128,9663,7952,10262,13882,4591,16172,4591,4049,4804,6673,11150,13591,4077,12927,16274,4668,12898,11678,5775,5515,13555,14571,2227,6961,15704,8040,14714,9296,10197,8372,6741,6297,13626,15129,6426,20904,6451,12704,13067,7229,12347,17057,8366,15078,7870,3603,11936,8925,6934,6542,4778,4804,14151,16108,13377,3919,15136,9345,12327,12284,13039,11848,16079,4804,10844,8505,11774,5769,10844,3597,16497,14151,4804,3100,14714,8853,6582,4668,14571,13843,7354,4804,5277,5998,4591,3597,5678,3850,2017,10262,8603,14153,8066,7695,8488,4340,14151,11087,13759,16079,12717,4995,3873,7826,7980,9486,10844,6482,6628,7452,13882,8099,4878,5170,6315,7295,9794,8834,2017,12615,7240,8016,4878,13292,11707,6147,6093,12681,3311,14260,13591,4804,13538,14151,5575,14178,7082,4319,20747,13759,9181,17024,5298,13364,10844,13941,10919,12284,6790,4392,9653,2753,6327,11125,10262,10262,6752,4423,3383,12121,9021,8266,14714,11386,14815,13843,7191,6251,9412,3815,3100,6216,13377,5694,15107,11260,9929,5642,15078,13377,16057,12284,5678,17703,4823,5562,13790,8586,11264,9663,6416,7725,13376,14231,19828,8040,25913,16079,4937,13039,9314,4957,14973,14571,5224,11622,3419,13344,6316,4392,16704,8529,14300,7198,14300,7229,3841,4030,16079,2754,6842,6138,12576,13067,9358,8586,5176,7480,12723,5793,14848,10493,11467,9719,3873,4862,3971,7832,3625,8610,14486,3841,13941,4823,12009,3597,21226,10577,5320,6860,1759,12242,3841,3502,10844,4174,5608,9376,13584,7354,10844,14388,14781,9653,10262,6674,7663,4319,12373,12242,16289,3419,7851,12284,6386,15339,2017,16274,5947,8040,10368,8907,4049,8588,7229,3943,4483,10151,3419,13486,8610,3898,15187,10278,6442,13344,5521,3597,11077,6673,12392,10366,10703,7174,11087,3383,14960,11467,6673,3100,16736,5117,11093,6354,5674,13029,12819,14143,5740,7646,13591,3100,5406,14388,6297,7229,20694,4282,13727,8614,7363,11281,4340,4778,12898,6442,14714,8018,4145,4784,11707,3815,21130,17024,3873,14151,4804,12898,4284,7229,6114,14848,13611,8016,14571,10675,6794,6540,7240,8839,3873,11596,7199,12898,12524,10368,8040,5135,5626,15809,6412,18804,2227,6916,3100,14388,12327,13014,5403,18228,10844,13843,11690,8452,8372,10262,5678,14151,4544,12692,17019,6565,5281,9646,3175,9653,14777,7155,3543,4804,9304,3943,7060,5228,3597,3971,13727,12121,10262,10262,14714,8834,9838,4775,4823,12723,5883,9870,10262,6513,15532,14714,9187,7038,13587,8016,4049,9536,14571,15812,8759,10151,4804,6104,5510,6027,4174,6794,15428,14388,6896,6144,19225,13227,11664,10844,7757,2754,7618,14781,4284,7740,3419,13941,12723,14300,6121,17549,1759,4423,4544,12402,9663,12681,5117,12898,13941,4030,17501,8529,8073,11942,11702,6442,4804,4823,10877,10151,5201,13067,2754,8366,10844,4878,10231,13292,4804,5201,10368,8820,4160,8891,10539,3971,6093,8266,7480,10262,8907,11789,15135,7887,6818,6482,7888,13759,10262,13376,10197,7997,5117,12373,6795,7229,2575,7662,8366,10844,3540,16863,6121,8434,14151,14441,3898,9483,4282,6478,16809,16704,3898,11297,5224,4823,14871,7480,5224,6093,2754,2227,14781,3898,9397,8452,4591,5930,10991,4622,14714,4823,2228,10703,5613,13759,3943,4944,10262,8479,7514,6934,9663,8085,7266,6493,14714,7485,10262,4878,7198,17261,13044,10262,8614,12032,12284,3419,6528,5403,9732,5761,12009,8586,6144,3257,9021,10262,13757,5895,9663,6587,3311,6297,10844,4049,6961,3384,13029,3859,11732,12524,12284,10262,13344,7229,14960,13381,15147,8586,7054,4082,13029,7064,4943,7229,8450,15318,4804,10844,3175,12646,7893,7171,13727,5201,9001,3943,10546,15554,5228,9404,8601,8888,5088,3943,12373,8323,15339,11982,8844,10262,3597,5678,5277,4823,8049,3543,10262,10703,6496,10844,12032,6741,3943,3841,15288,2050,4842,6643,9581,4804,7832,11667,6442,15129,4544,9663,14714,3100,9663,5761,3100,13626,5678,8529,5201,14151,4483,4174,15544,5601,3419,6451,12592,6961,4174,8824,7947,13587,3841,4804,8586,4778,18275,3540,6442,4145,5644,5224,5963,11264,10188,10844,7166,13817,12373,25735,14815,10262,10262,7468,8040,12819,7295,7229,6853,9663,7064,8372,1965,16932,3841,15812,10924,6934,10262,13843,9315,8266,14231,5048,10262,12537,10262,8040,9736,4804,13817,5048,8040,7354,7563,7725,7740,13532,6565,10844,3841,11200,12009,8372,13591,12395,7298,12214,14151,12970,14781,4878,3597,6810,3687,6482,19595,6147,10953,3873,14815,10678,14053,10539,16946,7673,4441,4544,4804,5406,3100,11150,4823,1965,10262,6674,15764,7064,10262,5069,11789,15164,6094,4885,3383,6673,4544,8367,3898,10844,12327,6356,5228,10835,3943,14714,11883,8610,6513,12898,10861,4049,13555,16079,7673,10161,10262,3873,3311,13611,11858,9316,4823,13941,13029,3873,4591,12395,3603,4804,4823,13244,6785,3100,7198,13014,20416,10441,11528,14083,3597,7662,4823,10703,8040,4668,6304,14219,3841,13587,12093,5899,3100,5438,5780,11668,11934,16263,14871,3573,12497,5411,6600,11160,22950,4649,15129,8626,17234,7832,3100,9314,14714,13882,16274,15135,6144,9483,14431,6093,7888,7503,6117,17024,12681,10678,13759,2017,4885,10786,12080,4804,6587,8728,7452,4823,8310,5403,13376,10877,14815,6558,14067,9627,14714,5000,9845,10844,7048,12692,13843,7832,4049,12242,10262,14571,4174,11264,4174,3540,9345,9653,3342,8073,7064,13376,15135,10413,9187,13292,6674,8330,11200,10262,6216,10844,11134,5277,14300,17471,10844,5469,10262,7185,3807,14714,8610,17234,15629,6128,16289,15129,7832,22270,11467,4392,4491,9663,5883,14777,5162,4804,8529,10844,3873,4804,5678,12681,9623,15147,9345,7757,10844,11948,13376,6117,6171,13626,17471,7531,12373,16289,4777,5198,10844,7171,11942,4423,5586,11134,4284,6245,10341,6860,2050,5797,7648,8851,13007,13067,4049,12692,4667,8938,10208,7354,5438,4107,11134,10262,14083,9345,12373,10196,5947,13044,9663,27992,7476,10413,10261,14151,5176,14714,9314,14714,12192,1759,4744,7229,15029,4462,6300,2575,11087,6305,8290,5769,4990,6135,5733,7670,12819,4823,6979,10493,16111,10651,6600,10919,5198,12778,2754,15129,7255,14486,6591,3573,10262,14388,14714,10368,3384,7742,6386,7229,8891,13587,8227,12125,3873,13377,10953,4622,14231,10262,3943,8610,6717,10877,4775,14571,6205,14151,6637,12074,4804,7252,6069,15554,3850,12940,8844,15190,9134,11822,15078,11005,7006,4259,11762,8147,3841,4174,12898,5583,10262,7229,15129,4668,4990,6985,4823,9345,10844,14657,6818,11543,2175,10844,8040,14571,14571,12898,14848,8283,7229,8405,19266,11038,8016,3384,6573,12819,15129,3943,7832,6860,4823,5228,13364,13555,5277,13243,9794,8016,13377,12692,10697,3384,6734,10844,5228,8891,3384,17057,3480,4423,14178,4760,14151,12681,4886,3807,4804,5694,10197,4077,14781,5224,4804,8586,7662,18550,8610,7229,12009,14151,4729,7931,12898,16289,13292,7618,13377,5192,7268,12384,5694,16338,7198,6540,3210,3873,4483,6752,4823,10203,3873,2017,8586,31825,16057,10262,6593,3971,16289,9314,4030,13587,9314,6253,5192,16372,5403,11200,3858,4174,5411,3175,3858,13941,12182,4990,10539,6860,8001,10262,8085,3419,15164,6565,9254,6857,12140,3841,14781,8372,8607,13587,15554,10844,4392,6961,8907,6442,8586,13486,3100,15812,5201,9413,13591,5678,6781,7832,14053,10703,13727,7408,20800,11911,5403,13469,11270,6152,12452,10844,8216,13626,7084,7575,6781,6478,2385,9385,5048,5058,11269,7363,11762,15764,10262,10919,10262,11883,3847,5678,8662,12898,4423,8991,5409,6442,9941,6494,7198,7110,11087,4804,4823,14151,10791,7980,6587,3687,13307,2050,10197,4668,4990,4049,7933,4049,6645,8040,8098,10262,12284,10262,4990,12568,11841,18371,23267,13067,5277,13879,4174,10178,13882,4878,4668,10844,7005,12898,9929,14714,6094,16736,7229,8882,10197,4804,13628,6216,7480,11936,3859,8586,21730,6628,10151,11467,7010,7229,8033,7229,6911,14300,13033,3943,6205,14871,5678,16108,17261,3311,4174,4823,8425,7229,5281,17549,13797,4823,7258,18192,13899,10844,14151,15147,3898,6818,14781,5192,14441,14151,4226,13381,10678,12242,4995,10262,3841,9663,5224,14533,2017,5769,11622,4823,7832,9001,2754,7229,6937,13033,3625,13292,12778,3841,2227,6171,10676,13014,2754,8367,5177,4174,9794,10486,15058,4804,17024,8855,8372,4050,7229,2385,3898,6860,6749,15107,10368,7832,2385,4804,8236,6416,10262,14714,7646,7480,11982,8309,13344,4227,9706,2017,6442,8016,5298,4878,10262,4176,5883,12717,3850,3597,2175,7080,8849,9899,4878,7787,3597,5281,9345,6442,6838,3597,3173,13377,9314,9856,8372,7064,4804,13029,7640,22270,4441,12898,7064,10844,4174,8529,3625,3419,3850,12802,9748,6104,3943,7514,18308,17327,8892,9794,4423,10844,15554,11982,4049,5618,13591,9508,3543,7229,4668,14388,10844,7690,13067,1965,16289,10203,15149,9345,2017,9345,6528,15603,13376,5583,10577,10651,7594,6857,4423,13344,3971,18371,6643,15077,6121,5755,4487,5158,8586,3100,3210,12373,15135,13292,2017,10919,12395,3543,2228,8236,11410,15129,3514,13469,3943,7608,6961,12042,62427,9586,3543,13882,8781,5192,6442,15554,10844,2754,14067,5140,8330,5678,11087,18558,16000,3573,7670,12819,4878,11507,8759,10262,10975,10262,6007,3858,6412,6245,9968,18260,8855,10844,3597,13067,13817,11602,13941,14151,3943,10844,2753,14714,9646,15554,13261,11087,11507,9424,4937,3257,4823,5277,3873,10844,7198,6094,3943,3943,12681,5613,3873,12898,15129,3911,6015,54826,5073,4326,9443,8040,7229,3943,14195,13292,4174,16736,5198,15058,5073,10197,3543,7229,10966,11134,3807,5228,3597,4483,10262,5158,6010,13376,11543,15342,6309,5823,5403,3873,12898,6979,13437,6017,14053,7295,13044,4030,13942,14781,3579,10231,5530,10844,8372,16289,11701,11269,9385,14151,4544,11087,5224,4804,6901,5999,5403,13014,4995,13941,11507,12192,7198,5000,3841,12347,11982,13029,16736,4174,3841,17024,3943,6442,11762,4174,4804,13377,7229,8855,7741,22270,7740,14960,12032,5462,12347,3145,7832,4804,10482,12373,10478,13029,6482,15554,11789,9413,7662,7888,5192,6007,12898,11885,14360,14330,6076,4622,14388,9794,4804,9663,5842,15603,5618,6565,5221,10368,7480,13882,6442,4823,3873,12121,4423,5510,7229,10577,8040,14714,7229,6653,6442,4804,9417,10844,7229,15400,6416,5176,9264,13587,3597,4282,4995,4804,10844,14714,14571,7832,11467,10953,4148,3873,3943,6151,12080,13584,6979,4482,6284,4226,6442,12373,11297,14083,7202,11667,10844,5932,9001,13469,2227,5636,15965,5054,5999,4823,8479,8452,14924,10441,7485,6478,15129,3809,18581,5224,8330,6961,10262,2754,13727,3898,11087,3383,12557,8273,9736,10262,11664,4591,13502,8372,6121,5613,5298,15764,6253,8586,12273,2227,5769,6216,6386,16108,3873,6270,5911,15077,31825,8479,9397,10262,4729,14714,4804,4804,2050,8371,12192,14629,4823,14323,15129,6758,14848,12358,4030,4960,8656,14871,4563,4784,4823,3687,7229,7229,7174,11071,6979,3850,13044,12373,13801,4823,6587,2227,14151,25430,4319,14462,8586,7662,4995,7408,5678,5678,26890,13904,15318,8452,6314,10203,3597,8266,12373,36235,14871,7229,4804,7303,13587,7740,7295,18916,8266,12373,11188,14151,14714,7229,12242,9134,3943,6961,23843,3597,7408,3257,1965,9100,3100,26890,8016,12173,8784,5298,11087,5409,5842,2228,3543,7228,6287,13377,6985,8372,14687,9564,12080,18275,6093,14861,4804,9314,9794,13029,3841,12284,14714,7064,5198,14781,13381,6094,5298,7408,14388,9443,11762,7480,5406,9564,10368,5636,1965,12739,4148,7191,10262,12312,10262,9564,13759,8610,14714,4823,6451,16079,7202,4944,3625,9663,9794,2437,13377,8586,19225,15554,12121,3943,13555,4990,8854,7878,8028,8586,15164,12284,4995,10051,9663,14424,14714,3100,6493,14571,10368,14714,3543,6810,5201,13377,14629,6093,15419,13484,8372,8534,4030,13292,13014,16754,6565,16079,11507,12395,22153,10919,13759,6094,11542,13376,25735,17471,10844,8372,3858,5694,17234,11546,8028,8016,10413,11948,3205,4423,4878,5912,11411,7618,7229,6147,14237,6101,12324,18387,10262,10262,7229,3807,7695,12723,2175,6628,13376,4148,9254,8016,4030,5198,4409,10082,9663,3971,6297,3573,10844,4423,19225,6297,3849,15078,4205,5228,7408,7229,10919,4544,6540,9483,16079,13377,4823,14151,6095,12029,4437,3419,3943,13542,7174,7417,16704,4435,11432,3383,4804,3383,6991,10441,5073,7695,7480,10262,13817,13067,1965,6674,16172,7268,17524,7888,2754,10573,11789,13067,4238,9794,7615,11664,7064,3809,3841,6795,4565,12351,5021,10467,6121,6300,10715,5510,6144,19329,13253,13941,4488,3841,7575,9968,15129,4864,7480,15867,13067,8366,21571,4282,13591,7927,14714,11087,28322,9314,7060,7900,5678,4860,2017,5069,9397,5073,15145,8099,14594,4729,4804,19644,8656,13014,6442,12373,10539,10844,8452,7144,5126,6795,8586,4439,6205,4284,14571,3807,3850,8479,8073,3943,4332,4174,14594,11507,6093,8033,4823,13292,9526,3815,3597,13376,2017,11853,10262,3859,12744,18485,13227,3597,4804,4423,10262,3543,4174,7084,14960,13339,7229,6818,13376,6316,5201,10958,3858,10262,8996,8098,3543,10529,7438,12373,4823,5769,9042,4697,10844,8420,7563,7480,4030,6513,8355,16655,10844,3873,5224,10844,4778,16289,5674,12854,8425,9328,17057,7229,14871,14300,8529,10877,5386,11622,10197,8028,2754,6781,3841,8266,6144,4544,14441,3100,13067,8529,6442,6480,11003,4668,13941,8820,9064,10844,15129,6513,14676,4823,4174,19172,4423,3873,7189,13731,14151,4667,8834,11467,12395,7858,4804,13469,7673,14151,10262,13014,12373,11399,3971,6007,6383,5740,1965,5935,4174,7738,10441,3100,14714,9135,7893,12121,6094,4423,7832,5403,3841,11093,7229,4823,11467,6111,8066,7258,4729,15135,12718,5678,5298,14815,13014,4491,11421,12284,7229,4823,12898,13587,12373,5999,10907,14151,4591,19225,9663,10844,13727,14151,10262,3873,13014,5510,17282,6653,12214,3625,6860,3876,5613,8971,4030,8075,7005,4778,3687,10262,15113,6979,6717,16736,7192,4226,9627,4757,14571,5162,10844,3815,17261,16736,3841,10844,6838,6612,8851,12395,4282,14781,9646,6628,4668,16863,12192,12719,12898,10262,7804,4174,2227,11087,11667,7931,5277,13626,12373,10031,10844,6591,5406,10844,2017,12373,8669,6151,10348,8016,4823,5510,3100,10262,14714,10262,6961,6206,7904,12819,10262,4591,10368,11142,4729,9424,15136,12199,10262,4729,3841,14388,2754,12358,6117,15129,14388,7480,10791,12452,4226,5403,9646,4282,7845,3384,4823,3597,13587,13474,3384,15129,8586,4591,13882,18286,5192,11118,14871,15107,8669,5171,8529,7438,6206,7171,14151,14939,25735,13882,9555,4804,6627,8586,4804,17135,15554,6838,8258,8213,12192,14848,4148,10844,10844,6795,14781,6582,3919,9646,7744,11733,10262,17524,3603,7564,7005,14871,4282,15129,6752,6094,3175,8266,6722,3873,2575,7787,9257,4030,4991,9861,10406,7229,7670,14300,8452,3873,6853,7229,7229,14714,4804,11465,4591,6628,8025,6152,3943,9187,9187,15164,10276,12192,5554,6377,6232,6496,4823,6116,7757,8266,3873,11841,4804,3943,15898,14151,10577,4441,5177,4460,13727,14714,10588,7438,12677,14714,2754,6494,5607,25735,4823,2050,12127,13377,7229,6216,8456,15129,13817,6296,5170,3919,4823,10262,13882,13587,11848,11678,4823,3919,11982,10703,10844,10844,3175,9929,19225,2017,7832,9663,7005,3175,5006,9526,13292,6058,10493,10844,10953,10844,10539,13292,6741,14571,14781,3838,5201,8759,6195,3100,5975,10844,16079,3543,3841,10262,12692,3850,12373,3100,4878,15129,9845,4077,9315,14781,17327,9481,8938,14388,5704,3898,5678,6937,2754,2647,4226,4239,9165,18308,14486,4282,13587,13587,6645,4423,11518,13759,3625,4148,5613,14298,7832,6442,5678,7064,14151,3419,15554,13859,3847,7657,13547,7229,13376,2227,3971,6628,13584,4148,14571,3841,5198,3383,7202,5021,4239,15129,21520,7673,4823,15190,14781,4804,10262,7503,8016,4049,12389,3597,13727,5678,7670,10844,7064,8930,4282,4823,12373,11087,16079,5601,2753,12898,15603,4174,6144,14781,6195,8586,11934,14424,18581,13941,7229,3873,14714,11245,6104,7094,10031,13941,7198,3873,5747,3100,8996,9103,31825,14781,7229,10067,10909,4804,4050,14151,3841,14781,9870,8907,26890,6195,7832,11269,5613,4284,4668,15197,9899,3948,10405,15419,15135,13369,18804,6751,10203,27992,12488,5198,7229,12723,13169,8366,7670,7229,4668,8327,12898,4226,10262,10678,8052,3898,3807,6838,13014,5224,13377,6633,5192,4591,4880,7229,12373,6094,10262,15439,4077,4632,12692,3480,19360,9134,13587,15554,7229,7514,13587,7229,10262,14871,10529,6442,5170,6442,3419,17261,3543,3383,9181,11087,7229,11249,16736,10262,10262,5678,8307,7690,16704,10315,15129,12173,4227,3943,7229,8610,7303,10972,7670,8372,6628,10262,14178,8518,13376,8452,18371,1965,10368,11467,14781,9535,2050,10368,10031,4491,7229,11401,3597,7927,4174,10203,8610,5769,5644,5769,7229,4226,4588,4995,5406,3873,17024,5158,8040,10844,4667,5678,12513,8016,3543,5963,14781,12373,3210,9134,10919,4575,5601,14151,10151,5403,6147,4804,8371,13014,3383,7298,4544,15147,10782,6027,10919,6681,3943,12898,6628,5022,12698,10794,6416,4622,3943,4508,8452,13437,11982,10844,15129,14714,6093,5307,10188,14571,10976,10844,4488,8582,10262,8662,4777,2071,11087,5228,12996,16736,13941,9166,12677,4405,12121,6121,14388,11467,13817,3100,8266,13759,3943,12327,4049,3573,4409,6565,4174,4030,4082,6117,6163,6540,4649,10262,5613,6144,13067,7608,7198,13941,10368,3543,4462,8005,7064,12121,8918,8891,10203,8073,11237,13376,6513,13731,7064,16736,8586,11789,5224,6834,6316,11869,4384,5644,19681,13377,10090,20845,4878,2227,6442,3257,7229,15164,10067,5674,20800,7144,6094,4050,3859,11664,7731,12692,11307,8586,5746,13378,7486,7298,7005,4804,16162,3419,5192,4409,7229,5397,6542,5281,8266,10262,11105,4544,4960,16736,13377,2227,3100,3100,3873,5232,3359,6144,7725,4441,10703,8529,14973,14571,3257,11087,3873,4423,11753,14571,8475,13941,16079,13399,9653,14714,3383,22270,5944,9663,7740,7211,7229,4174,5170,15135,4649,4668,7480,6121,15129,7452,10539,7648,3925,3597,8586,13591,9646,4668,10203,7932,7893,13029,10262,3574,8759,13502,6528,6017,5613,8040,5694,12898,5192,14714,13817,14714,3597,6121,11642,15764,4804,13223,3858,6795,8327,8907,7095,6902,13029,8372,10844,4384,12121,11467,6860,11241,13759,4226,9274,12192,4804,10262,10262,3175,12898,9564,12819,15187,12802,4804,6300,3873,5224,5228,8065,4441,7354,6094,7064,13292,13376,7791,7480,5069,3257,34273,16704,11432,4307,13029,3100,10031,3841,4030,10441,14221,10262,7229,8033,6818,7485,3971,3597,5678,8366,11753,3841,9345,15107,9646,10262,8456,3841,12537,4804,7005,13587,4050,4148,3850,4591,8016,4804,13941,7006,14015,11087,5647,8745,8016,7202,5963,9646,3100,4148,4823,3841,13014,10262,2575,19225,4174,7870,7934,11360,6442,10262,6732,4668,6258,16108,14871,4483,8066,9946,6027,10262,10844,8586,6015,4990,10844,13377,12257,4804,10008,3597,3419,16289,10844,9526,8849,6121,12347,5613,18253,14848,4995,4591,4462,12898,12032,13029,3543,8851,14714,3841,7531,7845,9663,5678,5780,3841,7174,13616,18275,14482,7662,11281,6117,4423,9416,6961,13376,4239,13727,13067,6961,7064,8784,13941,15058,6451,13014,22794,6922,7229,13587,11228,4282,12284,10262,6741,3943,7662,8586,5117,13376,5298,4632,13014,12649,6303,11560,4823,7031,4423,10975,3873,4107,11087,10529,6138,13817,6093,5678,7893,6121,4544,14714,14388,16108,12402,12384,6094,5276,4804,11281,6068,7229,6628,13502,14086,4959,16376,4804,13817,7229,3859,13899,6628,10123,3873,13339,14714,12692,5281,10368,13377,15129,6961,10844,13759,12119,3807,3943,13941,8586,6245,13067,14871,13377,12373,14231,1965,14924,4174,4725,17057,11444,7202,4030,9535,8586,8586,3625,8055,3100,5699,15129,9187,11732,3841,9794,12198,14571,5755,14151,5613,13067,12557,14714,4544,10441,4107,4990,12341,12856,7893,6688,5963,3419,2228,2575,13292,4823,9899,14120,15284,12192,13428,3543,5406,12383,8372,6144,8586,4282,16079,3175,15764,4784,17057,13014,14714,9564,8991,4804,12242,4148,8586,11627,7064,12476,10262,5678,6151,14067,11936,6327,8529,10651,4668,5430,7229,6314,7120,15129,3841,3841,7480,10676,4423,9709,7198,14848,1965,9134,7485,6442,15812,11185,3175,8452,10262,5228,9314,15812,14151,3625,10283,10262,10844,12384,11822,10008,7640,14781,4377,5298,2227,10407,11507,5458,3943,18550,9397,3841,7229,4823,10844,7174,6985,11664,8073,9417,8372,14408,5678,5694,8586,11087,4823,5583,11869,4823,12373,7268,17261,10368,3384,3847,6093,13547,7120,46490,12872,4226,10844,4668,29528,6300,13882,4668,4174,2754,2754,4668,4804,10756,7933,3543,13029,13731,4804,4148,5164,12192,15078,4268,5769,26890,3815,9663,4823,13628,7451,7229,10368,3858,8586,14781,13039,5613,7305,10262,15385,11134,7229,6860,15554,8066,6493,8534,13344,12395,12436,6938,4460,6461,7870,12395,8372,8529,6857,4668,3100,4991,4804,11134,7363,2227,13559,9646,6526,8040,15129,5636,5678,17198,16287,9476,13007,7514,5618,3911,4823,11752,14571,8372,3971,10262,3597,12436,14714,12898,12287,7189,6961,15292,10368,13292,9064,14388,4423,8839,9870,12819,7670,8066,16697,5684,11200,13759,5694,12371,6573,6393,5224,5198,13941,6300,12609,13587,13587,10262,16439,14781,10262,10844,4823,5911,13377,6145,1965,6442,13941,13002,8907,14657,3873,14781,5228,7652,7229,4226,12373,6860,10844,12373,4238,13502,10953,3782,14781,4804,6860,6117,8016,6216,8016,11087,5678,7229,6860,10407,13797,6961,10624,14300,5418,15129,3543,1965,4282,14508,5162,10262,15237,12524,10844,5092,8309,4106,14151,5177,10844,4823,10262,13381,4332,26890,12803,8529,3873,10844,6144,7229,12767,7229,7354,4049,13377,6144,8266,10975,12192,12273,26890,15136,10262,10262,2228,3597,3841,9899,13587,4409,2227,4937,9319,14151,14714,7229,11982,4990,9103,6300,14441,8366,7317,3898,14714,3841,15373,11222,7155,15200,7832,6593,13007,15400,6528,10368,6162,17261,7064,13882,6216,19644,4544,3384,4804,10031,8586,7832,10027,2754,12767,8777,7870,9416,2175,9646,13731,11552,10783,11467,8879,6795,14871,34503,10975,15170,7001,8576,15129,4823,10844,8085,20747,10203,12898,13941,7503,14714,5054,8722,8586,5228,3100,6541,8266,6628,9663,9899,6223,5380,7740,9899,5198,9254,14388,8137,13591,8479,10844,10203,6938,9646,6593,9125,7670,15894,5608,5842,4466,3597,13555,10979,15129,5674,5613,5725,10067,4885,7690,8258,7408,10844,8728,5894,4435,4050,4174,5957,12692,7303,6117,6015,11642,7564,4823,6442,6327,7416,14588,7198,8669,6093,15107,8372,7064,12732,3597,7303,10991,10321,3943,5636,4268,13014,13727,4174,10493,6794,7228,26890,7038,7064,10031,9663,4483,5769,4804,4145,4880,3543,27992,7191,5403,15812,4544,11410,4332,4544,4226,4145,14848,3419,7229,5830,10972,14231,10844,11468,4409,13376,4077,13067,4823,14817,4326,15603,13885,17261,15629,6117,12819,13377,26890,3419,14960,11185,8372,10262,11542,4649,5678,3971,7878,13014,4423,10262,4668,10844,10368,4591,7191,9794,3943,13626,9663,6093,11717,14781,7229,3898,14714,7005,3597,4413,15353,3943,6297,6144,12257,15129,10368,13029,9416,6934,11467,6795,5198,14053,7927,4462,5048,10844,15411,4462,5678,15764,17024,3100,7229,4804,5769,4384,6587,7832,7082,6300,14571,3943,6878,1965,9187,4441,10067,5054,7005,12121,5912,5192,3597,8016,2050,4839,4049,6216,3841,3815,5176,2017,9187,11598,13014,10262,9916,14231,7229,6316,4384,13381,4332,8907,4804,15407,12898,6883,3543,4284,2437,4174,14781,14960,5769,4812,9345,4864,7295,10231,14714,12032,4544,10844,12476,11087,10703,6734,7832,11516,3850,17229,3873,4160,7670,10031,11150,9134,4423,3807,7480,4423,4823,12102,15342,10844,7480,4227,7690,8224,5823,9134,26890,8366,7480,14781,13990,8245,10262,12739,7575,11633,10368,13817,14231,6992,6961,16263,14714,7740,11087,14486,6442,10361,5320,10368,4174,8151,12557,6961,4441,2753,3841,5022,5201,6934,5699,5088,8601,11319,3838,14388,10824,5177,14714,13626,13381,18211,6653,14781,11458,10844,3342,10262,5277,4441,3543,13912,9315,10262,12199,5277,6117,5734,8627,6795,5601,7229,8330,4823,13759,10231,12898,19225,4995,5298,9254,5177,9345,10844,15428,7255,12898,8707,10262,13067,10262,4460,14571,10178,7718,16376,5678,9103,14714,5583,4823,4544,8759,6152,11087,11432,3815,8662,17261,4860,13442,12395,6528,6314,6270,14714,9359,6724,10262,4668,6610,3597,4462,12677,23170,4804,6795,7662,12751,19595,7975,14781,14781,10031,10844,3502,13292,14151,12475,14714,8283,11087,10844,5883,7664,12898,10262,13067,4462,5678,14388,14714,4804,11281,11134,11647,10539,12192,6121,13759,6427,3943,4284,8147,3502,3342,5734,8224,9748,8834,7102,13727,11087,10368,7229,10262,4823,4804,10112,7229,13067,14714,8907,7229,24528,6838,10406,12395,10203,4049,13401,9968,8040,6427,5277,2228,5613,6669,11982,10118,4148,18371,13587,12760,10368,3175,3597,6733,12192,15129,4668,10262,15129,7878,8040,12373,12392,5277,7888,9001,4049,4326,4777,6838,6582,10262,10873,10262,4148,6494,12898,9968,12898,7740,7452,4160,4823,13486,4544,10975,3858,15129,10975,6752,3807,13832,4544,14571,11982,8040,11913,5162,13014,8586,10197,8610,7120,10703,10262,11507,3943,13292,7166,10262,6152,10703,4030,17057,3850,14388,4744,10262,7591,6152,15025,6795,10623,3850,6643,10844,10441,13377,13696,3943,9443,13014,8114,5583,13817,6953,6637,4174,8140,13817,10262,6496,10112,10467,6206,10151,4804,5048,4050,3919,11841,5065,9626,3419,14960,3943,14323,11752,7677,14067,14781,11467,16263,12373,7005,7580,10441,7229,6093,3873,10262,13364,12373,1965,7005,4441,11098,7318,12767,10654,6297,11265,11972,13587,4804,8366,8366,10697,15129,3858,7229,6937,14714,9134,10577,14388,8991,12436,12515,5583,10840,14300,5515,10844,11134,6121,10676,14781,4544,4632,10929,4409,3873,4030,3807,12140,4096,14300,6007,4174,3597,9548,8714,8085,10368,10975,7670,8073,13817,3574,15554,6692,1965,2227,3597,14714,4622,15129,5277,11667,10539,11467,7480,3419,5684,6218,6959,4878,12219,12384,7202,4174,3100,7832,6723,10697,3841,9920,12649,6093,15129,4544,5170,2754,3100,9237,7198,10262,5111,10441,10261,6297,12192,3943,16274,12898,3311,9103,4148,5224,4804,3597,4804,4995,3873,10262,3210,6276,9134,11087,13941,5201,6171,5964,15129,13029,4030,10586,17926,9564,8355,6795,10671,10178,7927,3100,12646,7894,3943,7575,16914,6216,6147,6979,6094,12242,9416,7107,13292,7295,4423,5694,8147,13377,13502,13764,12692,4804,7064,14924,6565,9863,7725,11281,3210,6117,10262,3943,12576,7452,14781,8996,11563,4777,4174,3841,13775,5117,5678,5177,5975,6860,4804,13377,8372,7933,4049,11423,10844,12819,5621,5228,9254,4392,8040,4483,12760,7229,5403,7934,6945,4423,8040,11399,7202,13727,4957,10262,2017,12242,10875,10844,4409,6987,12074,7354,13381,5201,9663,6094,7202,11982,7832,7817,12373,10844,13376,9646,3841,4957,4148,26890,8834,5241,7989,5883,6857,5822,10262,4995,4991,16736,18804,6442,5170,4377,9564,3573,17024,3383,27992,7229,9134,3100,13727,8452,14714,7280,18797,2754,4409,5021,8040,10454,10197,5228,14714,7276,7731,6857,6961,7791,4777,16289,12681,4823,13014,5406,9315,7480,14815,12173,7664,12777,8837,10844,14571,6093,7514,6015,12898,8792,4823,3919,3597,2017,3383,1965,10262,17234,14178,5636,4823,7480,14571,13999,14151,6121,3543,10651,15129,6582,15544,8574,4784,6818,25735,9483,10368,8073,4778,13941,10844,10844,3841,10844,8728,11467,15078,7198,8372,7308,4414,5224,7832,6860,15136,5963,8665,15129,3841,13377,16914,10262,5386,14388,15129,6442,10368,12767,10262,7408,13587,8891,5883,10262,10844,14781,6297,4409,12383,2017,12308,3384,9134,7464,6093,15237,4995,6934,13784,4409,15898,11989,2017,11098,6794,10844,34608,6094,4565,10493,9653,12305,6961,9794,13377,12898,7155,13377,4668,8110,4544,9653,14781,5969,2017,14151,13731,15400,8066,21314,14069,2470,4804,9029,4804,15129,2754,13364,6933,15129,11200,3210,8040,10919,6442,4729,6442,3841,10441,13587,11467,7295,3597,7787,14871,3540,6442,3383,4409,3850,8018,11467,4668,13922,3625,5989,4423,9564,8529,4145,4804,6938,14815,15077,13014,11201,12692,9646,16079,6117,6795,3100,15851,3687,4990,15554,9526,6015,10676,12898,15129,13378,4174,9103,3850,6216,8610,10539,6674,7618,3943,11913,6860,13292,17057,13014,11552,6297,4332,5674,10711,11467,12434,5201,4878,13014,3597,12599,10844,12898,3943,7198,4963,12649,17267,12373,13502,11622,5515,9314,11789,4823,10467,7408,7480,3841,3543,10493,9103,10844,4823,4482,8529,7931,9663,10368,10151,3543,7530,6805,3419,7120,14151,3100,12121,2017,2647,6147,14237,13044,15554,4423,8372,10844,9555,8839,10151,11432,4319,9626,10623,9564,14781,7229,5684,14388,5515,12692,9314,3873,4807,14848,6171,1965,10539,4483,8371,15764,10844,11642,4423,4878,2227,10844,4107,11262,10262,4544,6144,5706,5853,10118,14687,9254,10368,14571,7229,6093,16023,3597,8824,7060,14231,4544,16289,6565,3597,7480,9922,7229,14300,12242,10678,9450,4174,4544,5386,15129,6412,15339,7229,4878,3807,12373,14571,10262,10577,12395,3841,8759,7738,7503,5883,12692,4823,2017,8603,5769,12681,3625,8854,2754,8372,10262,10810,3540,8016,6860,6451,13067,11467,10203,4082,13276,23001,10844,4990,10037,14388,7303,12287,10844,4995,9794,4226,7318,8529,9416,11507,9920,7038,4959,5678,7229,7064,4823,14571,4148,13873,10262,15129,6645,4804,5746,5199,4332,6416,12935,7832,8586,5769,8040,12411,8366,7354,13576,11622,12723,13759,6412,6494,5678,8891,17024,10368,14571,7832,14151,7154,5192,21483,6812,13292,4174,11150,5912,8907,8767,12242,6327,3543,15058,11087,13941,7317,15129,9663,5065,8907,4148,13587,10262,12284,14781,9663,19685,10203,13941,25703,10262,3543,3841,15554,10844,12692,3210,9601,13377,11134,8055,12242,8425,2753,3311,4226,26890,12524,3847,12681,13882,15129,10844,12547,14178,14871,10368,15078,4804,3873,3841,5457,14781,15764,4668,9564,7191,15764,14388,6540,3625,8266,10944,5073,9134,8085,22270,9836,14871,23528,8016,12284,7005,4804,6827,3100,2759,13067,3898,10368,4273,3311,15136,6601,8452,9314,6386,13377,5678,4483,12898,7648,14571,4049,11728,3873,7480,8541,31825,3597,13817,14571,6853,16704,3573,9345,13014,13797,12358,14086,3597,13731,12898,14714,5403,5769,5620,5000,7480,10703,13727,14388,13033,22270,6769,5192,4995,8580,7480,5198,10368,8040,18909,12849,22798,14571,13502,3332,7354,8073,4049,15029,10975,7038,15554,5228,5636,9653,8586,2017,9345,9270,13292,8098,7952,5883,8016,4174,10696,4878,3971,7198,9314,4423,3841,7154,9929,8266,10877,4804,13587,13611,6628,5601,5583,3943,4777,9663,10368,5883,4804,13383,9646,11467,5192,13376,6477,13727,9555,12819,12395,10262,14781,5678,7804,10262,5198,4049,3383,7174,8907,13014,13584,4107,2071,12373,13303,8529,14571,15129,8016,4804,5118,9663,12723,3419,11087,4174,10262,12609,4668,1965,4049,5195,4804,7648,3850,6121,3540,9134,10844,5277,5073,3841,10877,5406,14151,14237,2754,11306,5192,3687,12192,12898,14924,8479,6943,7354,12192,3943,15129,5403,13882,5678,5403,4878,6494,4777,3625,9258,10262,17686,4174,7485,11222,12121,10697,12373,6381,17072,10368,4823,27282,2227,4545,4148,4148,7642,10262,4030,5000,5264,7229,10577,12723,14714,7438,10203,3782,13014,8073,4804,4864,15135,8366,13292,7171,12121,11753,8064,10262,5277,8016,11342,7594,4483,16263,13243,6478,15764,4647,8016,4145,8055,12409,6038,4107,11911,25735,11458,6152,10844,11982,13941,6938,15339,20064,6093,10885,8907,9663,7160,11269,5678,5678,8907,3210,6961,14815,11467,10919,9069,4649,4823,6528,22270,15654,7770,4804,10368,7673,6015,4804,13941,5162,10657,14781,2754,11474,7757,2228,10405,3419,10262,3100,11848,5683,9663,4544,4050,9187,8452,11668,13381,8073,5620,12739,5989,8891,4544,10262,9345,21730,6838,10943,3943,3573,3841,9646,4729,17261,13941,10844,14231,14714,6460,11467,3943,4775,3841,12284,4804,12819,14714,8040,16840,15554,5752,8452,11761,14848,10368,9863,10262,4668,9103,10262,4525,5228,19225,8040,7438,13135,6015,8283,3543,4148,7657,5276,14151,8040,8378,3543,4823,14388,3543,10844,10844,4957,6442,7480,5073,14781,9646,7851,2175,14424,13014,5177,15135,5228,22270,3543,15129,6093,11087,7408,6534,13029,8016,8528,12760,12199,14067,8016,5510,6241,16142,10919,4804,6979,6094,5176,15136,10031,12814,12681,12402,13759,3597,3383,4668,10929,9187,7530,8026,4319,13376,4174,4668,13062,12898,14714,10991,4030,13029,6800,11087,9794,14388,4148,17266,7893,7229,9930,18286,7229,6216,4282,5054,10262,11410,14571,4692,10919,10844,10844,6094,6741,8372,14067,10236,7480,8386,6795,4409,3597,6961,12692,4307,4030,15957,7832,12954,11150,4049,9134,4409,14781,5228,3597,6795,3807,14781,8372,5000,5403,11600,8476,6593,7648,9345,15129,7268,3210,7295,6442,3809,15119,9069,3943,12534,13714,9128,2227,10844,13941,7832,3419,14151,5073,9922,4752,10197,6961,17493,13587,10262,15107,8452,3100,4823,4483,13243,5684,3205,10262,4823,15554,3943,12080,3383,2437,1965,7832,6442,12723,8016,10199,10842,7005,4409,13364,13377,10262,10844,14571,19329,4943,15129,15129,10539,10031,9140,4409,3419,9646,13584,11806,4563,9412,12898,6216,12898,10262,12526,11522,5678,9918,14781,8026,7276,7064,13062,12537,21934,10262,4878,14714,9134,4823,6093,3597,13727,4174,10262,11789,8586,13081,9314,5678,11924,12692,6478,4226,11532,9340,10368,13626,9663,16389,10197,7594,13817,7229,10368,4282,13292,13764,12681,5198,12615,5644,11087,2227,8016,4885,4174,5162,10262,4049,8372,3419,5073,6069,9709,13014,13029,13937,11349,15129,3597,14388,11087,9663,13014,3943,8845,12173,10262,7242,13292,7708,8040,3597,3841,10203,7173,1965,5054,8855,27992,7341,3919,12242,13067,18804,5645,3597,13587,3597,8879,4319,2050,8040,13584,13014,9345,11507,8266,5678,13377,9345,7191,7845,7229,10981,14178,8784,13941,13067,4995,12488,7870,6094,5608,6112,16736,8452,9314,3850,5963,9968,9564,6610,5226,14231,13376,6674,7408,15170,3597,12778,7229,8016,4804,8016,5645,22270,14151,5406,5567,6171,4423,5177,6795,3625,12373,4963,2227,11200,7174,13748,9856,15170,6442,12898,7229,13033,10703,6297,9314,6138,6838,52285,13377,10975,13817,7532,10197,9663,13727,8330,4823,6206,10877,13817,6478,8577,16079,11150,15077,7064,9663,11552,10262,5899,13376,13817,8610,12373,5673,7927,10262,12373,12704,6612,4823,10262,6388,3898,5177,10844,4077,14231,13250,13817,6205,12819,4591,3841,3597,4174,6216,10624,6152,6937,8792,7005,5678,7013,16079,10539,11841,10509,3597,15532,14086,5883,7618,9314,13994,5073,3383,16108,6795,12681,10262,8820,10037,11789,7378,4823,6478,13014,10844,7408,9646,3597,3873,7870,13344,3100,4441,6171,10953,14214,6093,12436,15129,13259,15170,14781,6206,3841,14714,6093,8016,5117,8586,13611,6704,4226,4651,3873,7222,13727,10141,3625,6442,7229,6752,13759,14408,13381,9135,6218,4174,6117,10703,12692,10539,11134,4777,12373,11966,5277,17135,14714,6144,5911,12080,4423,7618,3383,12646,7670,4804,11087,7229,7050,12681,4098,3543,14151,13339,9663,12898,8603,13044,4622,13062,11622,11087,11789,9663,19225,5797,9526,7229,10877,13942,3383,10262,11201,10262,10231,9134,5645,14714,12646,12173,2227,10529,7202,7886,2017,6171,4050,8479,4282,9345,6587,2754,3919,10368,11654,4239,6674,7198,5930,7229,10408,12488,3540,8529,13376,8855,14781,5684,13029,15129,8576,11087,5678,12557,3858,12373,4049,21934,5510,6216,2050,2754,3850,3540,9663,9190,12898,4632,2753,12778,12723,4804,4823,6152,6216,6016,11622,10151,12273,12410,12547,10262,14323,3210,16863,8937,10929,6104,5511,13759,11543,13067,10262,13591,10929,7229,6451,7295,3943,3573,9181,24017,17476,4647,6314,13376,12284,7229,9627,9258,3873,3841,10486,17234,6496,9627,8366,15318,9923,6077,4667,8099,2385,15965,10844,6121,3625,8475,12898,10851,5704,11598,9149,4145,6195,6979,7276,4760,11982,5277,8372,4226,3597,7005,8018,10577,11507,9653,4160,14714,5678,13873,11264,11134,6151,10844,13014,4995,4174,12841,13067,10262,4423,8586,9663,6069,4667,12373,13941,3175,8372,5613,7144,14571,5277,2759,5192,14714,10336,31945,7064,14441,17493,10844,2753,12898,7229,8603,15129,18804,7452,3971,3943,9165,13014,3625,10262,14388,15058,14882,4591,3841,14781,3841,13377,13014,14848,4145,3850,10413,6104,3943,8529,10262,14151,5192,9663,4632,5073,9526,4423,2227,5403,3858,18752,9663,12819,6883,7198,7801,4823,9663,12121,8085,8662,6017,3859,7564,3919,15129,26890,5443,6860,13364,12239,4966,6144,12373,10835,7952,3419,10197,5883,4667,6223,7757,11873,10844,7189,10262,5989,2227,4995,14231,10844,5628,10844,8937,5618,6674,3898,10844,13381,11972,17024,7398,17461,13731,13555,4804,16289,7520,7503,8601,7064,5192,9158,24318,7038,7303,8021,14323,10203,7408,2227,16108,10262,14714,10262,7640,8610,12767,6093,6442,4030,7408,10696,6982,2754,23677,13227,2754,6758,6934,18799,5678,27992,4544,7757,6373,13376,5644,13067,6513,4392,4778,10844,12723,11134,7229,10262,4778,8033,8425,10919,15411,10975,6535,8355,3543,12102,9314,7503,9748,4804,8586,13882,7229,2575,3943,4760,8824,6902,6151,12324,11087,5964,14151,11467,3873,13542,10844,6144,10262,3383,10413,13994,13143,13069,15129,3898,13941,6383,10406,5883,6838,14781,10577,9646,6216,9564,14781,7229,4148,7268,6245,13376,4483,11627,13310,7754,2754,10231,10368,11447,18799,4462,13067,12681,3687,6628,13832,6860,10676,14714,10262,2754,6785,14067,15318,14053,8040,12723,10262,6151,5409,9345,12646,11150,4784,12242,11323,4409,16736,3100,13029,4804,9555,10262,5964,6386,6377,3807,13377,3841,6528,3100,3687,14815,3943,14714,4859,10844,4410,2754,7229,5694,9424,10262,12199,4668,7832,4945,11791,3841,4239,14815,13014,11789,10031,13616,6838,7229,4990,5752,18191,10539,8327,10844,3873,13555,10844,5403,4145,10577,9925,2754,7662,22294,6144,24210,12327,2437,2753,14151,11982,9413,13022,3673,15764,12609,57209,5613,6630,5678,7045,4148,11003,7480,4804,4050,6961,10262,3383,8119,14714,13259,7222,7353,14178,26890,3625,9001,4145,15544,2017,14424,3514,6628,15339,7591,10262,10844,13014,7872,6541,6987,4823,6961,9899,12295,6117,3543,12646,3919,6982,13100,16079,13082,6121,4823,13941,4544,4145,3919,11982,5636,8656,10844,9856,3943,11570,4409,6934,13817,12121,4804,5769,4174,6309,1965,10406,8996,10844,13377,8479,31825,5706,12284,4544,6017,14781,12646,3858,4957,10262,10031,14388,10844,8882,13014,8366,6015,20694,17024,14762,3625,2227,4804,5678,2470,12284,3419,12767,4668,3625,3597,5224,6147,8016,11148,13376,12488,6017,4823,7532,11432,5088,5351,8610,17271,9314,3847,8372,10877,4423,6297,6216,7933,10678,2017,5000,18736,4030,10368,9663,5613,7757,6442,2754,3758,6152,7618,12646,14781,13377,9564,6113,26480,5769,1759,5883,5176,4804,3398,9416,3841,10262,4804,5177,2437,8422,13797,10368,7081,8513,7229,6273,3100,4804,7229,3841,8586,11200,17267,8586,11432,12940,12475,11134,5644,10877,7229,8586,10368,9863,4864,4384,13591,12384,12373,10368,12723,12242,5769,7006,8372,14178,20800,8452,10844,4668,12681,4487,14571,3841,3873,16372,14897,8614,9653,3574,7064,5755,13432,8669,17057,17261,6795,9663,11789,10262,8844,4544,6148,2227,13292,3383,14300,10844,5158,12819,6628,10262,4544,12373,11281,6938,15147,11228,5636,4319,6144,14781,8765,8586,2754,3597,4050,11087,8016,15147,7229,13014,2754,5613,6307,4174,4804,14960,9483,8662,19644,4340,10844,8224,7905,11134,6037,12692,7308,11733,14714,14388,7229,7832,10493,14053,7295,11222,7670,10877,17057,11507,4466,13801,4778,12384,10678,9790,14388,4319,5678,5613,9663,5769,4668,4878,8372,12352,11733,4823,4804,10262,11087,21219,9929,11411,3100,11150,16704,11087,3100,9794,3257,4107,4145,7229,12648,11753],\"type\":\"box\"}],                        {\"template\":{\"data\":{\"histogram2dcontour\":[{\"type\":\"histogram2dcontour\",\"colorbar\":{\"outlinewidth\":0,\"ticks\":\"\"},\"colorscale\":[[0.0,\"#0d0887\"],[0.1111111111111111,\"#46039f\"],[0.2222222222222222,\"#7201a8\"],[0.3333333333333333,\"#9c179e\"],[0.4444444444444444,\"#bd3786\"],[0.5555555555555556,\"#d8576b\"],[0.6666666666666666,\"#ed7953\"],[0.7777777777777778,\"#fb9f3a\"],[0.8888888888888888,\"#fdca26\"],[1.0,\"#f0f921\"]]}],\"choropleth\":[{\"type\":\"choropleth\",\"colorbar\":{\"outlinewidth\":0,\"ticks\":\"\"}}],\"histogram2d\":[{\"type\":\"histogram2d\",\"colorbar\":{\"outlinewidth\":0,\"ticks\":\"\"},\"colorscale\":[[0.0,\"#0d0887\"],[0.1111111111111111,\"#46039f\"],[0.2222222222222222,\"#7201a8\"],[0.3333333333333333,\"#9c179e\"],[0.4444444444444444,\"#bd3786\"],[0.5555555555555556,\"#d8576b\"],[0.6666666666666666,\"#ed7953\"],[0.7777777777777778,\"#fb9f3a\"],[0.8888888888888888,\"#fdca26\"],[1.0,\"#f0f921\"]]}],\"heatmap\":[{\"type\":\"heatmap\",\"colorbar\":{\"outlinewidth\":0,\"ticks\":\"\"},\"colorscale\":[[0.0,\"#0d0887\"],[0.1111111111111111,\"#46039f\"],[0.2222222222222222,\"#7201a8\"],[0.3333333333333333,\"#9c179e\"],[0.4444444444444444,\"#bd3786\"],[0.5555555555555556,\"#d8576b\"],[0.6666666666666666,\"#ed7953\"],[0.7777777777777778,\"#fb9f3a\"],[0.8888888888888888,\"#fdca26\"],[1.0,\"#f0f921\"]]}],\"heatmapgl\":[{\"type\":\"heatmapgl\",\"colorbar\":{\"outlinewidth\":0,\"ticks\":\"\"},\"colorscale\":[[0.0,\"#0d0887\"],[0.1111111111111111,\"#46039f\"],[0.2222222222222222,\"#7201a8\"],[0.3333333333333333,\"#9c179e\"],[0.4444444444444444,\"#bd3786\"],[0.5555555555555556,\"#d8576b\"],[0.6666666666666666,\"#ed7953\"],[0.7777777777777778,\"#fb9f3a\"],[0.8888888888888888,\"#fdca26\"],[1.0,\"#f0f921\"]]}],\"contourcarpet\":[{\"type\":\"contourcarpet\",\"colorbar\":{\"outlinewidth\":0,\"ticks\":\"\"}}],\"contour\":[{\"type\":\"contour\",\"colorbar\":{\"outlinewidth\":0,\"ticks\":\"\"},\"colorscale\":[[0.0,\"#0d0887\"],[0.1111111111111111,\"#46039f\"],[0.2222222222222222,\"#7201a8\"],[0.3333333333333333,\"#9c179e\"],[0.4444444444444444,\"#bd3786\"],[0.5555555555555556,\"#d8576b\"],[0.6666666666666666,\"#ed7953\"],[0.7777777777777778,\"#fb9f3a\"],[0.8888888888888888,\"#fdca26\"],[1.0,\"#f0f921\"]]}],\"surface\":[{\"type\":\"surface\",\"colorbar\":{\"outlinewidth\":0,\"ticks\":\"\"},\"colorscale\":[[0.0,\"#0d0887\"],[0.1111111111111111,\"#46039f\"],[0.2222222222222222,\"#7201a8\"],[0.3333333333333333,\"#9c179e\"],[0.4444444444444444,\"#bd3786\"],[0.5555555555555556,\"#d8576b\"],[0.6666666666666666,\"#ed7953\"],[0.7777777777777778,\"#fb9f3a\"],[0.8888888888888888,\"#fdca26\"],[1.0,\"#f0f921\"]]}],\"mesh3d\":[{\"type\":\"mesh3d\",\"colorbar\":{\"outlinewidth\":0,\"ticks\":\"\"}}],\"scatter\":[{\"fillpattern\":{\"fillmode\":\"overlay\",\"size\":10,\"solidity\":0.2},\"type\":\"scatter\"}],\"parcoords\":[{\"type\":\"parcoords\",\"line\":{\"colorbar\":{\"outlinewidth\":0,\"ticks\":\"\"}}}],\"scatterpolargl\":[{\"type\":\"scatterpolargl\",\"marker\":{\"colorbar\":{\"outlinewidth\":0,\"ticks\":\"\"}}}],\"bar\":[{\"error_x\":{\"color\":\"#2a3f5f\"},\"error_y\":{\"color\":\"#2a3f5f\"},\"marker\":{\"line\":{\"color\":\"#E5ECF6\",\"width\":0.5},\"pattern\":{\"fillmode\":\"overlay\",\"size\":10,\"solidity\":0.2}},\"type\":\"bar\"}],\"scattergeo\":[{\"type\":\"scattergeo\",\"marker\":{\"colorbar\":{\"outlinewidth\":0,\"ticks\":\"\"}}}],\"scatterpolar\":[{\"type\":\"scatterpolar\",\"marker\":{\"colorbar\":{\"outlinewidth\":0,\"ticks\":\"\"}}}],\"histogram\":[{\"marker\":{\"pattern\":{\"fillmode\":\"overlay\",\"size\":10,\"solidity\":0.2}},\"type\":\"histogram\"}],\"scattergl\":[{\"type\":\"scattergl\",\"marker\":{\"colorbar\":{\"outlinewidth\":0,\"ticks\":\"\"}}}],\"scatter3d\":[{\"type\":\"scatter3d\",\"line\":{\"colorbar\":{\"outlinewidth\":0,\"ticks\":\"\"}},\"marker\":{\"colorbar\":{\"outlinewidth\":0,\"ticks\":\"\"}}}],\"scattermapbox\":[{\"type\":\"scattermapbox\",\"marker\":{\"colorbar\":{\"outlinewidth\":0,\"ticks\":\"\"}}}],\"scatterternary\":[{\"type\":\"scatterternary\",\"marker\":{\"colorbar\":{\"outlinewidth\":0,\"ticks\":\"\"}}}],\"scattercarpet\":[{\"type\":\"scattercarpet\",\"marker\":{\"colorbar\":{\"outlinewidth\":0,\"ticks\":\"\"}}}],\"carpet\":[{\"aaxis\":{\"endlinecolor\":\"#2a3f5f\",\"gridcolor\":\"white\",\"linecolor\":\"white\",\"minorgridcolor\":\"white\",\"startlinecolor\":\"#2a3f5f\"},\"baxis\":{\"endlinecolor\":\"#2a3f5f\",\"gridcolor\":\"white\",\"linecolor\":\"white\",\"minorgridcolor\":\"white\",\"startlinecolor\":\"#2a3f5f\"},\"type\":\"carpet\"}],\"table\":[{\"cells\":{\"fill\":{\"color\":\"#EBF0F8\"},\"line\":{\"color\":\"white\"}},\"header\":{\"fill\":{\"color\":\"#C8D4E3\"},\"line\":{\"color\":\"white\"}},\"type\":\"table\"}],\"barpolar\":[{\"marker\":{\"line\":{\"color\":\"#E5ECF6\",\"width\":0.5},\"pattern\":{\"fillmode\":\"overlay\",\"size\":10,\"solidity\":0.2}},\"type\":\"barpolar\"}],\"pie\":[{\"automargin\":true,\"type\":\"pie\"}]},\"layout\":{\"autotypenumbers\":\"strict\",\"colorway\":[\"#636efa\",\"#EF553B\",\"#00cc96\",\"#ab63fa\",\"#FFA15A\",\"#19d3f3\",\"#FF6692\",\"#B6E880\",\"#FF97FF\",\"#FECB52\"],\"font\":{\"color\":\"#2a3f5f\"},\"hovermode\":\"closest\",\"hoverlabel\":{\"align\":\"left\"},\"paper_bgcolor\":\"white\",\"plot_bgcolor\":\"#E5ECF6\",\"polar\":{\"bgcolor\":\"#E5ECF6\",\"angularaxis\":{\"gridcolor\":\"white\",\"linecolor\":\"white\",\"ticks\":\"\"},\"radialaxis\":{\"gridcolor\":\"white\",\"linecolor\":\"white\",\"ticks\":\"\"}},\"ternary\":{\"bgcolor\":\"#E5ECF6\",\"aaxis\":{\"gridcolor\":\"white\",\"linecolor\":\"white\",\"ticks\":\"\"},\"baxis\":{\"gridcolor\":\"white\",\"linecolor\":\"white\",\"ticks\":\"\"},\"caxis\":{\"gridcolor\":\"white\",\"linecolor\":\"white\",\"ticks\":\"\"}},\"coloraxis\":{\"colorbar\":{\"outlinewidth\":0,\"ticks\":\"\"}},\"colorscale\":{\"sequential\":[[0.0,\"#0d0887\"],[0.1111111111111111,\"#46039f\"],[0.2222222222222222,\"#7201a8\"],[0.3333333333333333,\"#9c179e\"],[0.4444444444444444,\"#bd3786\"],[0.5555555555555556,\"#d8576b\"],[0.6666666666666666,\"#ed7953\"],[0.7777777777777778,\"#fb9f3a\"],[0.8888888888888888,\"#fdca26\"],[1.0,\"#f0f921\"]],\"sequentialminus\":[[0.0,\"#0d0887\"],[0.1111111111111111,\"#46039f\"],[0.2222222222222222,\"#7201a8\"],[0.3333333333333333,\"#9c179e\"],[0.4444444444444444,\"#bd3786\"],[0.5555555555555556,\"#d8576b\"],[0.6666666666666666,\"#ed7953\"],[0.7777777777777778,\"#fb9f3a\"],[0.8888888888888888,\"#fdca26\"],[1.0,\"#f0f921\"]],\"diverging\":[[0,\"#8e0152\"],[0.1,\"#c51b7d\"],[0.2,\"#de77ae\"],[0.3,\"#f1b6da\"],[0.4,\"#fde0ef\"],[0.5,\"#f7f7f7\"],[0.6,\"#e6f5d0\"],[0.7,\"#b8e186\"],[0.8,\"#7fbc41\"],[0.9,\"#4d9221\"],[1,\"#276419\"]]},\"xaxis\":{\"gridcolor\":\"white\",\"linecolor\":\"white\",\"ticks\":\"\",\"title\":{\"standoff\":15},\"zerolinecolor\":\"white\",\"automargin\":true,\"zerolinewidth\":2},\"yaxis\":{\"gridcolor\":\"white\",\"linecolor\":\"white\",\"ticks\":\"\",\"title\":{\"standoff\":15},\"zerolinecolor\":\"white\",\"automargin\":true,\"zerolinewidth\":2},\"scene\":{\"xaxis\":{\"backgroundcolor\":\"#E5ECF6\",\"gridcolor\":\"white\",\"linecolor\":\"white\",\"showbackground\":true,\"ticks\":\"\",\"zerolinecolor\":\"white\",\"gridwidth\":2},\"yaxis\":{\"backgroundcolor\":\"#E5ECF6\",\"gridcolor\":\"white\",\"linecolor\":\"white\",\"showbackground\":true,\"ticks\":\"\",\"zerolinecolor\":\"white\",\"gridwidth\":2},\"zaxis\":{\"backgroundcolor\":\"#E5ECF6\",\"gridcolor\":\"white\",\"linecolor\":\"white\",\"showbackground\":true,\"ticks\":\"\",\"zerolinecolor\":\"white\",\"gridwidth\":2}},\"shapedefaults\":{\"line\":{\"color\":\"#2a3f5f\"}},\"annotationdefaults\":{\"arrowcolor\":\"#2a3f5f\",\"arrowhead\":0,\"arrowwidth\":1},\"geo\":{\"bgcolor\":\"white\",\"landcolor\":\"#E5ECF6\",\"subunitcolor\":\"white\",\"showland\":true,\"showlakes\":true,\"lakecolor\":\"white\"},\"title\":{\"x\":0.05},\"mapbox\":{\"style\":\"light\"}}},\"title\":{\"text\":\"Box Plot for Price\",\"font\":{\"size\":25}},\"font\":{\"color\":\"white\"},\"yaxis\":{\"title\":{\"text\":\"Values\"},\"showgrid\":true,\"gridwidth\":1,\"gridcolor\":\"white\",\"griddash\":\"dash\"},\"plot_bgcolor\":\"black\",\"paper_bgcolor\":\"black\",\"xaxis\":{\"showgrid\":true,\"gridwidth\":1,\"gridcolor\":\"white\",\"griddash\":\"dash\"}},                        {\"responsive\": true}                    ).then(function(){\n",
       "                            \n",
       "var gd = document.getElementById('2b3d8888-0f49-427e-87fd-f92810118900');\n",
       "var x = new MutationObserver(function (mutations, observer) {{\n",
       "        var display = window.getComputedStyle(gd).display;\n",
       "        if (!display || display === 'none') {{\n",
       "            console.log([gd, 'removed!']);\n",
       "            Plotly.purge(gd);\n",
       "            observer.disconnect();\n",
       "        }}\n",
       "}});\n",
       "\n",
       "// Listen for the removal of the full notebook cells\n",
       "var notebookContainer = gd.closest('#notebook-container');\n",
       "if (notebookContainer) {{\n",
       "    x.observe(notebookContainer, {childList: true});\n",
       "}}\n",
       "\n",
       "// Listen for the clearing of the current output cell\n",
       "var outputEl = gd.closest('.output');\n",
       "if (outputEl) {{\n",
       "    x.observe(outputEl, {childList: true});\n",
       "}}\n",
       "\n",
       "                        })                };                });            </script>        </div>"
      ]
     },
     "metadata": {},
     "output_type": "display_data"
    },
    {
     "data": {
      "text/html": [
       "<div>                            <div id=\"c0f9842d-f7f3-4a64-913e-b8759a2e9fee\" class=\"plotly-graph-div\" style=\"height:525px; width:100%;\"></div>            <script type=\"text/javascript\">                require([\"plotly\"], function(Plotly) {                    window.PLOTLYENV=window.PLOTLYENV || {};                                    if (document.getElementById(\"c0f9842d-f7f3-4a64-913e-b8759a2e9fee\")) {                    Plotly.newPlot(                        \"c0f9842d-f7f3-4a64-913e-b8759a2e9fee\",                        [{\"name\":\"Dep_hours\",\"y\":[22,5,9,18,16,9,18,8,8,11,9,20,11,21,17,16,8,14,20,16,14,22,4,18,18,21,21,7,9,7,7,9,4,14,7,10,15,14,7,7,7,6,20,11,9,5,4,11,19,23,11,9,22,21,23,19,8,7,19,15,9,6,8,15,7,10,9,13,5,13,7,5,11,23,5,9,11,6,17,8,21,19,6,11,9,14,2,9,8,20,13,2,16,5,20,5,5,19,7,20,8,20,20,14,6,19,11,4,12,23,14,18,20,18,7,7,17,15,7,7,5,15,20,23,5,12,14,20,4,14,11,11,14,20,11,19,6,22,6,8,17,23,2,7,13,20,20,12,15,12,22,18,11,8,20,8,20,18,16,2,9,0,12,6,8,13,13,5,19,1,14,18,9,11,21,16,20,17,14,8,10,19,16,20,14,8,21,9,15,11,12,5,16,18,20,9,16,9,13,7,22,21,5,5,6,15,16,17,14,23,0,6,7,8,5,8,7,1,15,9,10,9,7,10,5,14,5,23,5,10,16,20,13,2,21,10,18,7,18,8,11,6,9,9,7,23,19,10,17,8,6,19,16,9,19,13,10,7,8,5,22,20,9,4,5,11,11,16,11,14,21,7,7,17,6,21,6,15,20,5,18,6,11,18,21,17,16,9,20,17,4,13,20,5,21,8,7,9,7,17,2,7,10,5,6,13,8,13,10,17,20,16,6,9,13,18,17,19,8,15,15,22,14,9,8,17,22,7,18,15,9,14,20,20,21,7,13,11,5,11,19,17,9,15,12,22,10,21,9,17,6,5,21,11,18,23,16,20,17,14,18,6,11,11,16,5,7,14,6,18,6,7,20,9,19,7,10,8,9,16,13,19,16,7,7,17,19,13,22,18,21,7,7,17,14,9,12,19,17,16,18,9,5,7,6,20,5,23,13,8,17,18,7,22,10,20,21,19,10,19,6,8,10,23,9,9,16,11,21,20,7,10,10,15,19,19,7,14,12,10,21,8,6,8,18,18,16,9,18,18,7,10,19,11,5,22,14,11,21,10,7,19,17,6,14,18,17,19,16,7,18,3,16,22,16,7,19,16,8,6,20,14,8,10,22,5,8,19,13,11,5,22,5,8,17,14,20,10,20,18,7,20,7,13,13,21,6,5,20,5,7,8,8,8,13,22,7,8,11,4,4,6,16,8,8,5,9,14,11,5,10,17,18,8,9,14,21,9,15,4,17,14,8,8,9,6,20,6,7,7,7,9,7,5,18,17,14,13,9,17,6,20,18,11,9,13,7,7,20,2,17,17,21,13,5,21,6,22,8,10,11,18,10,6,2,8,7,21,23,5,20,7,7,10,16,19,10,9,9,20,11,17,7,8,14,22,8,19,14,2,21,23,22,17,17,21,20,23,4,19,17,8,21,20,14,22,9,21,22,21,17,17,22,8,21,21,19,13,20,11,14,9,14,19,17,20,21,8,6,11,19,6,5,19,12,13,16,5,8,9,17,21,11,8,11,16,21,16,21,9,19,7,19,13,6,8,20,5,20,13,7,17,6,14,21,7,5,8,11,18,19,14,20,5,17,7,17,13,12,20,16,10,23,20,11,17,10,8,7,17,7,5,19,19,5,7,5,7,16,20,18,7,6,8,2,17,14,18,9,15,12,15,15,17,7,8,22,22,9,21,21,21,21,5,2,21,7,11,10,10,9,9,16,21,7,7,3,21,5,13,4,8,10,5,10,10,19,19,20,7,13,9,17,11,7,5,14,15,18,13,10,9,11,16,9,8,6,11,14,21,9,19,14,7,13,16,7,13,6,7,7,22,20,5,11,13,7,21,10,22,14,14,16,7,1,22,14,17,13,18,15,19,23,19,18,10,5,17,6,20,6,8,11,8,5,16,9,12,22,7,13,14,16,23,19,9,11,5,9,7,19,18,9,21,13,0,10,21,8,20,0,5,4,9,17,7,18,19,16,9,13,8,21,9,10,13,15,8,6,17,9,9,7,18,7,13,22,9,21,19,7,8,17,15,6,6,13,20,17,20,17,13,11,2,16,8,9,7,8,15,17,9,17,6,10,20,19,17,9,12,7,19,22,14,20,16,20,4,16,21,16,11,7,5,8,13,22,20,11,18,9,15,4,19,1,21,5,21,18,18,6,22,14,4,21,6,14,17,8,11,13,23,21,5,22,6,5,5,23,7,10,15,23,7,21,22,5,21,17,22,0,6,7,14,16,11,11,20,16,19,15,11,7,16,17,22,20,9,7,21,18,9,5,17,18,13,19,7,17,6,8,22,20,5,10,17,18,18,8,13,16,23,6,8,9,22,20,8,11,19,5,19,13,9,15,14,6,20,5,6,13,21,17,11,18,8,20,21,10,7,10,8,16,7,17,6,8,19,15,6,22,22,9,11,21,5,9,5,21,22,20,17,14,17,11,6,8,9,9,7,15,21,19,13,21,20,11,20,19,16,9,18,7,19,20,11,20,22,8,16,7,6,17,13,7,18,21,9,17,17,6,22,21,5,6,11,21,5,7,23,21,9,11,6,11,5,15,5,6,20,14,9,6,8,5,10,7,13,8,21,6,19,19,16,13,11,18,21,9,7,17,7,7,10,23,8,23,8,17,9,11,15,10,7,11,19,20,6,11,21,18,11,5,17,6,9,18,8,15,10,6,20,14,16,7,9,9,7,17,20,20,9,5,6,11,21,17,12,11,16,9,9,21,13,12,11,10,16,12,5,11,8,9,20,19,9,2,2,5,6,20,14,19,9,7,5,7,14,10,9,11,19,21,16,14,9,13,8,11,14,5,18,19,17,7,14,8,13,14,8,21,6,8,12,5,18,9,17,6,7,7,15,17,7,23,6,8,12,7,15,9,10,16,8,7,7,16,14,20,20,6,19,8,20,20,7,17,12,14,3,10,10,4,9,17,6,20,16,20,11,9,19,6,21,14,9,23,16,8,7,18,21,6,21,7,9,7,12,11,20,15,13,19,6,17,15,16,8,15,11,9,10,18,17,17,19,9,6,8,14,8,19,19,21,20,17,5,7,17,11,11,2,4,6,19,19,18,9,8,6,5,2,13,20,23,5,4,7,9,13,16,8,11,10,13,15,17,16,8,11,12,8,15,9,17,20,5,7,14,9,9,7,17,20,8,12,2,6,21,5,8,14,11,15,19,11,13,20,8,17,14,12,17,7,18,8,19,1,5,7,15,10,15,14,14,7,6,5,20,22,21,7,18,18,21,7,13,9,16,7,12,18,5,17,22,9,5,8,9,22,16,10,7,20,5,14,8,23,22,5,5,17,23,6,22,21,11,10,22,9,10,9,13,7,16,18,19,9,18,9,22,16,8,8,11,6,21,13,10,15,8,15,9,19,7,10,5,7,20,23,10,9,11,13,1,7,22,19,17,19,9,6,9,2,4,19,15,17,9,7,22,4,8,19,13,18,4,8,2,20,6,19,23,6,21,20,9,17,6,14,8,10,10,23,17,7,17,9,15,8,8,6,16,21,6,12,10,17,9,6,6,20,5,15,15,6,8,20,21,7,10,9,9,10,19,19,11,17,22,20,22,7,18,21,19,18,7,7,10,11,13,14,1,5,15,20,8,10,11,19,17,8,20,10,8,17,7,13,22,6,20,14,6,19,9,7,9,17,17,21,8,9,13,22,19,13,17,16,13,8,11,15,18,10,9,20,23,6,18,23,9,8,6,7,8,20,5,10,23,7,13,16,5,17,8,4,8,5,7,4,11,5,7,16,18,5,17,14,18,9,4,13,6,6,18,8,19,7,18,9,10,9,14,14,11,23,7,23,12,7,9,18,14,18,4,14,17,8,7,12,15,5,13,16,18,11,7,4,13,21,6,5,5,21,16,19,17,15,5,9,5,13,10,18,8,17,19,20,17,16,6,20,18,15,2,17,14,7,17,21,21,21,10,8,6,16,18,13,17,18,9,16,21,10,15,18,13,7,20,20,6,21,8,17,10,15,18,19,6,21,6,6,17,15,8,5,7,9,5,7,21,8,9,7,6,11,19,6,14,21,1,6,17,8,22,19,9,18,8,7,18,6,16,5,5,9,0,6,20,5,7,5,10,21,19,16,11,18,19,18,9,17,14,8,9,10,6,5,19,11,14,22,8,18,8,2,19,17,20,4,20,5,9,16,12,11,5,21,20,6,14,23,9,2,6,1,9,19,4,17,16,16,9,12,20,6,6,11,9,14,5,19,13,9,20,10,9,16,9,9,7,9,11,8,19,14,14,20,20,7,20,9,17,22,15,11,14,18,7,8,5,13,6,6,11,9,15,13,16,19,7,8,7,21,8,7,9,17,16,7,21,7,18,9,6,14,21,9,17,19,14,21,8,6,6,22,13,9,14,7,6,22,7,6,18,10,20,21,17,8,14,9,11,17,16,9,17,9,11,11,17,17,15,19,11,17,8,9,12,12,13,23,20,8,9,6,7,11,9,6,7,7,19,4,8,9,5,16,7,8,21,10,22,13,6,19,7,21,17,8,23,8,21,20,9,22,7,23,11,7,21,15,18,16,20,6,7,11,2,9,9,17,9,23,19,8,9,6,16,5,14,6,14,8,18,9,22,7,15,7,22,17,17,17,4,14,16,10,21,8,6,10,9,8,6,8,13,10,2,5,16,9,6,15,7,21,3,10,7,20,7,20,17,14,10,8,8,18,8,0,9,9,10,19,13,18,21,9,6,11,8,5,5,5,10,8,22,10,8,14,16,17,13,10,14,23,19,21,21,14,8,9,10,20,6,19,18,16,23,14,19,7,7,9,19,19,7,8,7,9,5,6,13,19,5,17,7,9,6,5,19,10,5,12,7,5,13,11,6,1,8,8,6,20,23,18,16,21,7,5,22,16,20,21,12,16,7,20,7,17,10,12,5,8,16,8,9,14,6,19,7,5,17,11,14,23,16,7,10,9,11,18,13,6,6,19,7,8,13,10,7,23,16,7,8,23,15,8,7,17,10,9,16,6,6,16,19,15,8,9,22,13,23,7,6,18,6,19,9,10,7,5,8,7,13,11,10,7,9,9,20,13,9,9,6,8,21,17,9,10,19,7,20,13,20,21,9,20,8,6,16,2,18,17,19,7,5,7,15,8,20,23,9,17,20,0,10,17,11,19,4,10,21,14,7,22,10,16,7,14,14,15,18,12,8,10,7,11,9,10,10,6,19,17,1,10,4,7,5,7,7,5,19,6,7,7,19,4,11,4,15,6,8,17,21,11,13,17,9,12,7,19,6,9,8,20,5,16,16,9,13,13,2,9,8,18,9,7,6,6,22,2,21,16,11,18,21,22,6,5,13,8,7,10,22,9,11,20,13,20,20,6,9,15,6,22,18,8,19,13,6,12,7,7,10,21,6,19,20,16,20,5,11,17,2,10,21,5,17,4,20,6,8,19,2,14,20,7,7,17,20,13,4,9,5,22,13,13,15,11,10,17,4,22,18,21,22,6,9,18,20,16,8,21,6,6,3,17,17,9,20,9,22,21,3,6,5,20,20,11,10,10,10,17,14,21,20,22,6,13,18,14,17,17,20,9,7,19,18,19,9,5,16,16,16,4,8,7,12,17,14,0,4,22,5,7,19,17,17,8,15,2,20,5,19,16,17,10,11,8,20,19,15,14,20,21,6,16,16,9,4,17,16,14,16,20,17,10,19,16,18,20,20,8,21,7,5,9,14,17,19,20,17,13,19,11,8,22,7,9,8,10,17,10,6,9,13,9,23,6,14,8,12,9,9,20,16,17,9,16,19,11,21,9,4,16,7,7,22,14,9,5,20,7,21,11,20,5,11,13,8,6,8,8,14,14,8,9,11,19,5,11,17,22,6,19,20,18,15,14,14,9,7,6,9,0,20,5,9,6,17,20,18,23,9,20,5,21,22,17,17,18,21,9,19,6,6,8,17,8,4,8,17,11,11,7,23,17,8,18,23,5,17,12,9,20,17,8,8,5,17,9,19,7,5,11,13,6,5,14,9,19,20,6,4,19,5,20,9,0,6,7,8,6,20,22,10,5,17,15,9,7,21,5,14,7,8,13,8,14,17,16,5,18,19,8,12,10,9,17,6,20,16,7,21,18,5,3,9,14,5,10,9,8,6,2,22,21,5,8,6,19,19,10,22,6,20,8,7,22,13,10,20,17,10,12,10,11,9,14,10,9,13,7,16,5,15,9,21,16,20,13,14,16,10,19,10,22,9,13,19,10,9,9,21,21,10,2,7,9,16,16,11,5,9,9,19,7,14,9,22,6,9,8,19,13,6,18,7,9,15,10,6,14,21,5,8,2,11,8,9,19,5,11,7,7,20,10,6,20,19,21,13,19,17,9,5,21,5,13,16,20,10,14,19,11,16,22,20,10,16,5,20,22,5,6,9,16,17,21,7,21,20,15,9,5,6,18,14,18,2,2,11,12,20,19,10,5,8,9,5,21,17,17,16,9,20,7,21,15,5,17,12,20,20,9,2,18,13,11,22,5,14,22,16,16,5,8,10,8,7,19,18,22,10,21,15,7,22,4,16,20,10,23,18,21,16,20,6,18,17,10,13,14,10,19,9,13,15,19,8,6,17,6,5,19,6,6,19,5,10,17,6,11,19,20,21,20,18,20,7,10,11,9,20,10,2,11,10,9,11,3,22,8,8,21,17,18,5,1,22,5,16,9,18,9,16,8,6,11,7,18,5,8,17,14,18,19,16,15,5,21,10,21,13,19,15,15,9,9,16,5,14,6,4,9,20,4,17,21,17,15,6,22,20,6,13,8,17,21,11,3,19,7,6,16,18,6,15,8,16,9,16,21,11,23,20,9,10,7,17,20,5,20,8,11,23,19,16,19,9,8,19,11,6,10,22,11,20,6,7,21,8,9,8,8,8,8,9,10,18,11,22,14,15,10,7,0,11,7,19,6,6,17,1,17,6,9,22,16,5,17,23,17,9,19,13,20,17,9,10,10,7,16,17,18,13,16,7,19,6,10,23,13,8,17,20,15,18,14,19,11,18,6,16,11,9,7,8,7,6,20,13,22,11,20,18,7,13,7,6,17,20,17,7,10,2,11,20,22,10,7,8,18,5,14,19,19,8,10,16,5,18,13,18,13,15,11,6,4,5,6,6,9,20,20,5,10,18,18,16,4,8,11,9,12,18,10,9,20,23,13,13,14,4,9,16,2,9,5,14,21,18,6,6,13,21,8,9,10,20,6,20,9,19,19,17,18,5,7,22,19,5,17,22,7,6,6,5,15,10,6,17,10,4,10,15,22,9,21,7,7,14,18,8,16,17,4,9,14,16,10,18,10,5,19,13,20,8,15,5,4,7,10,10,16,10,5,15,18,12,7,21,20,8,6,18,8,6,16,21,14,9,9,7,2,7,19,21,15,18,20,20,6,6,4,16,11,19,6,5,17,11,20,13,7,17,14,6,8,5,11,22,18,10,19,2,20,17,5,17,17,21,2,7,17,14,11,8,23,20,15,7,17,17,5,12,17,10,22,19,6,4,17,7,16,9,20,15,4,18,17,16,22,11,6,9,18,20,21,20,1,9,9,11,9,21,18,22,22,7,5,20,13,16,17,15,20,6,7,14,20,19,21,13,9,21,15,11,7,20,14,17,4,16,7,16,19,18,12,6,20,18,8,9,2,7,11,15,1,22,5,14,22,11,11,17,17,9,23,20,9,5,9,20,9,2,6,7,18,8,7,12,20,17,7,16,6,7,16,16,17,19,13,21,5,7,17,13,2,9,17,12,19,20,11,22,6,7,6,5,8,6,8,6,6,20,7,7,19,5,18,12,17,14,19,21,8,15,16,10,11,22,13,20,8,5,13,17,22,15,10,23,20,8,9,9,12,8,16,18,14,11,8,8,4,6,5,9,15,18,11,21,8,22,22,14,10,16,8,8,14,16,16,9,5,8,17,5,6,14,8,18,5,22,15,9,18,2,7,7,5,19,14,14,11,10,8,7,14,9,2,17,10,10,8,6,7,11,17,22,17,8,19,9,21,9,11,17,7,18,2,21,22,5,7,11,2,9,6,16,9,8,22,10,4,19,13,20,21,17,7,13,6,11,4,14,10,9,13,10,7,9,8,17,9,9,22,9,20,3,23,6,0,6,12,12,17,7,20,2,7,7,23,9,18,19,7,11,14,9,19,6,8,9,11,6,7,16,4,21,11,5,18,13,8,13,18,7,20,19,17,9,20,19,19,22,12,21,17,8,7,19,10,9,9,9,22,8,14,12,16,20,14,10,13,6,17,22,13,19,20,20,11,13,17,21,17,10,2,15,19,14,16,11,18,9,3,5,8,10,7,11,16,0,9,14,14,22,21,22,18,8,7,18,11,20,10,19,16,6,20,19,13,21,2,7,23,18,18,18,7,18,13,5,22,7,16,9,10,18,14,9,6,22,6,14,10,8,17,5,20,22,14,13,22,17,10,10,12,18,19,9,21,20,1,14,20,2,17,17,21,14,15,22,6,7,20,10,6,21,7,11,9,8,6,22,5,22,6,9,1,20,20,22,4,11,5,11,11,5,21,11,12,7,10,6,9,9,17,9,10,7,14,7,5,12,18,8,17,9,15,14,13,8,5,20,20,10,11,13,21,1,6,15,8,23,20,6,7,5,7,20,16,21,9,22,16,13,13,7,10,19,6,9,13,14,17,8,19,2,20,20,9,20,6,18,13,9,10,7,16,7,10,14,11,14,17,20,13,15,9,13,7,2,8,17,17,18,22,20,20,9,6,8,8,10,17,9,15,9,16,7,11,20,21,6,22,22,20,13,14,19,7,13,20,12,13,20,12,8,11,20,16,19,19,9,10,17,6,20,9,18,5,17,9,9,9,17,15,15,13,7,19,22,6,21,15,17,5,11,17,7,20,5,16,14,20,13,9,5,6,11,21,18,8,5,2,6,14,6,20,6,5,8,6,5,5,19,7,22,17,16,6,11,13,11,11,19,5,8,9,7,17,5,22,19,14,14,7,14,23,8,20,13,14,20,5,19,18,7,5,2,16,7,18,8,16,14,13,11,7,17,9,21,17,20,17,4,8,14,9,20,5,16,16,13,18,12,13,18,18,9,6,20,12,5,9,20,9,10,8,13,20,5,9,9,5,20,3,22,2,9,11,9,17,9,9,14,18,9,8,16,19,7,7,22,11,22,15,14,21,10,9,21,8,20,18,5,12,10,6,8,5,2,22,8,20,8,5,2,23,22,5,21,7,9,20,6,10,19,21,23,12,22,10,20,11,9,4,6,5,8,13,11,18,17,5,5,9,22,23,16,20,9,13,5,20,10,23,14,9,23,8,8,11,14,19,18,20,11,19,19,4,11,11,18,22,11,17,11,8,11,13,20,16,11,17,22,13,9,17,21,7,22,8,7,11,4,7,8,9,4,9,11,13,9,20,8,7,8,5,10,10,6,7,16,11,21,7,21,6,16,19,9,8,20,11,9,17,20,14,10,20,18,9,13,9,7,7,2,19,23,4,8,9,6,21,17,21,8,21,13,20,19,14,19,19,4,15,18,5,10,17,13,7,16,22,20,14,14,11,9,7,8,11,7,12,15,17,14,17,9,10,5,20,15,18,22,16,5,18,21,19,7,16,0,8,1,8,5,8,10,8,22,6,7,8,8,20,9,13,6,6,6,14,10,18,5,8,9,8,8,12,5,9,2,9,18,17,22,5,11,14,19,20,10,9,17,5,7,12,12,18,20,8,11,8,5,5,9,8,8,14,10,11,17,10,12,18,13,9,9,8,5,10,21,6,17,5,11,23,4,17,19,13,7,5,14,18,4,9,11,7,19,20,6,7,7,7,23,21,5,6,11,8,2,17,17,6,13,0,14,11,7,14,18,10,6,17,10,19,13,9,19,16,20,17,6,16,7,7,16,7,11,6,7,5,17,5,17,11,5,14,18,5,5,6,18,9,13,8,9,8,18,8,7,2,5,17,9,6,12,6,14,22,9,16,8,7,9,20,21,20,16,12,20,17,14,18,11,13,7,19,6,9,9,9,16,10,21,6,13,17,15,22,13,10,22,7,8,17,18,5,5,6,7,6,4,6,19,21,7,19,5,21,8,7,8,23,11,20,16,6,16,6,21,16,19,18,5,9,11,22,5,21,1,7,9,21,17,6,15,14,6,21,20,20,15,5,8,20,14,14,17,6,14,20,13,22,18,16,11,11,8,17,7,23,14,15,16,21,6,9,13,7,22,11,6,14,8,13,6,6,21,20,17,9,13,7,11,4,16,7,10,8,14,10,8,10,14,16,22,8,9,8,6,20,8,7,17,17,14,17,8,7,7,17,17,15,17,22,14,4,15,9,14,14,13,11,15,9,6,23,16,5,21,7,9,20,14,8,11,10,14,9,11,17,7,10,11,14,2,8,21,6,4,18,5,20,7,2,22,19,11,2,5,8,2,6,21,16,12,10,7,20,9,6,1,8,2,15,18,11,7,6,18,9,6,22,10,7,19,5,8,5,7,7,18,6,17,13,5,6,13,17,18,9,7,20,18,9,21,18,5,9,17,15,5,21,7,5,15,9,2,11,5,11,21,19,6,14,10,9,19,9,18,10,8,22,9,6,7,20,21,5,20,20,7,11,14,10,22,6,9,9,19,5,6,18,4,9,21,14,9,8,19,8,17,6,21,5,7,16,6,10,6,14,8,10,20,9,7,17,6,10,14,20,16,22,8,22,21,5,14,16,19,17,7,7,11,7,16,5,14,8,17,19,17,21,18,19,6,21,14,6,6,9,2,6,5,8,7,18,16,11,6,19,4,14,21,10,15,7,10,8,14,17,18,10,14,16,5,14,10,5,19,17,8,21,10,9,16,17,11,7,7,11,17,22,19,20,7,7,17,16,16,14,5,5,15,7,11,9,6,10,17,21,8,22,2,19,0,20,8,19,18,4,19,7,21,23,2,6,19,20,4,9,20,22,5,14,10,8,19,23,20,7,7,21,15,18,17,19,9,12,2,18,9,13,7,9,22,16,20,6,13,21,22,20,7,8,15,16,9,20,11,7,11,21,7,11,15,18,11,7,8,20,15,22,15,16,21,8,6,17,17,15,11,6,5,21,18,22,16,7,14,9,5,5,22,18,7,8,6,16,10,19,15,11,5,17,18,17,18,23,9,23,22,7,18,17,14,16,22,7,6,6,17,17,8,9,6,20,21,9,7,8,19,9,6,8,20,20,11,10,4,7,9,23,6,11,21,6,12,9,17,7,10,17,5,5,11,6,21,8,18,7,11,20,4,8,13,8,19,6,11,16,7,20,22,13,8,22,10,2,20,21,19,9,17,14,20,20,7,9,11,11,11,15,18,16,14,20,13,16,20,10,14,22,17,0,10,17,5,6,7,9,8,10,16,10,20,21,12,17,9,8,14,12,19,17,18,7,20,2,8,18,16,20,17,13,14,13,7,9,21,20,8,16,11,6,7,4,8,7,5,13,7,20,6,19,21,15,10,14,17,5,22,19,7,14,21,17,17,8,12,6,17,5,18,20,7,9,6,7,5,7,18,15,9,21,13,6,9,9,7,8,13,2,18,15,20,17,14,2,10,9,22,17,17,19,11,19,9,20,8,2,3,10,5,11,11,4,8,20,7,14,5,10,8,20,21,17,12,17,5,17,13,11,21,20,7,4,9,11,2,11,20,5,11,16,22,11,10,8,8,8,17,12,10,14,9,15,7,5,16,15,5,20,19,20,4,11,2,20,22,20,11,7,22,18,10,18,14,7,12,7,21,10,5,21,8,14,21,8,12,19,2,17,2,17,8,9,8,22,16,16,21,2,11,5,11,1,6,14,9,7,13,14,16,11,11,22,15,20,17,10,5,19,12,13,8,18,6,17,14,4,11,10,7,19,13,23,21,8,7,7,17,10,20,11,9,17,5,18,20,13,8,18,22,5,14,8,21,9,18,8,9,16,22,0,5,16,15,17,21,6,19,21,13,10,0,20,18,17,6,14,20,10,9,18,11,14,18,20,9,5,16,20,14,17,5,7,14,7,6,6,16,12,14,6,13,5,21,9,19,11,10,13,20,8,20,6,2,19,6,5,13,14,21,9,19,19,16,23,15,9,21,21,10,9,5,10,8,9,10,15,6,22,18,12,14,7,10,19,22,20,2,21,12,23,17,21,7,17,7,19,12,11,14,14,19,2,18,8,8,17,16,6,16,20,4,6,5,2,7,7,10,11,5,19,11,21,8,22,17,16,17,5,6,21,20,17,9,13,5,8,21,16,20,5,16,10,6,13,12,9,11,7,6,7,10,8,17,17,12,13,22,13,14,11,11,8,22,14,5,9,9,19,11,6,21,17,16,11,7,11,18,11,8,6,5,22,6,14,8,6,22,6,13,17,8,20,4,9,5,14,21,5,7,6,21,8,18,14,6,13,17,5,20,17,9,19,21,11,7,9,4,14,11,22,10,8,8,9,9,21,19,11,11,15,2,11,7,9,12,9,8,14,16,19,7,10,10,8,17,16,13,6,21,8,15,21,7,7,22,14,17,9,20,11,6,7,17,17,10,14,8,19,10,13,6,7,5,21,13,18,17,9,8,13,16,9,8,4,7,20,6,21,21,11,20,17,20,9,22,16,8,20,11,23,18,19,6,19,5,10,11,9,18,11,8,17,21,7,15,20,7,7,11,7,8,19,6,8,13,19,8,22,17,10,8,2,15,20,22,23,17,6,10,17,5,23,14,13,6,16,6,2,7,5,6,21,19,14,2,10,22,10,21,9,20,11,7,9,5,17,17,20,21,7,10,6,18,13,13,6,9,6,18,14,16,9,6,21,20,7,15,7,6,6,4,7,20,20,13,8,5,20,17,8,21,4,6,9,7,9,19,19,8,6,20,20,10,10,8,10,21,14,8,17,22,20,11,14,14,18,12,2,13,9,8,7,9,7,22,10,8,9,13,5,5,6,19,8,17,20,4,6,8,17,7,15,17,21,5,13,17,13,9,11,8,17,7,5,11,20,8,5,17,8,21,6,7,6,20,5,6,10,21,19,7,12,5,11,9,7,22,21,14,6,7,9,18,11,6,17,13,8,7,14,11,23,5,14,10,13,10,20,8,22,9,10,21,18,20,7,9,18,17,7,7,8,14,7,10,13,17,6,5,15,8,7,9,17,7,7,11,16,21,8,17,9,5,8,17,22,21,7,19,6,21,5,9,6,11,22,16,19,11,1,18,9,7,19,20,11,10,13,7,17,5,7,15,15,18,7,16,6,16,9,7,22,15,5,13,9,14,15,5,18,17,17,19,13,14,5,7,5,14,6,14,22,22,8,19,13,7,11,14,15,8,19,10,18,18,17,23,10,19,1,10,14,17,9,13,20,9,23,4,4,15,5,7,10,20,11,22,9,13,6,5,12,7,18,19,12,11,20,0,7,7,10,6,19,17,11,15,18,21,13,17,17,5,14,18,19,12,6,20,6,11,16,13,7,17,7,9,16,12,4,16,20,15,18,4,17,15,11,2,19,5,8,7,10,5,9,11,14,22,11,19,9,6,13,9,20,17,8,20,19,21,9,9,0,16,19,6,11,9,13,11,17,11,5,7,18,16,21,11,22,13,14,5,9,13,9,7,17,9,19,15,6,15,9,21,16,9,6,8,5,6,15,18,23,11,13,9,5,8,7,2,14,7,8,7,17,14,4,7,20,11,7,10,15,5,17,15,16,5,20,5,6,22,5,2,19,11,12,21,4,17,10,3,16,12,8,17,10,7,11,5,21,20,18,8,10,10,21,6,7,17,8,5,7,17,7,15,15,5,6,21,6,9,11,19,20,8,17,20,20,14,17,15,9,13,10,9,6,10,8,13,7,9,4,22,21,17,17,16,17,14,10,20,11,9,10,19,16,9,7,17,4,5,9,9,2,6,11,5,9,10,8,6,7,20,7,9,7,8,9,23,14,14,6,13,9,18,9,19,14,10,9,9,13,8,10,19,5,19,15,6,22,7,11,5,10,7,8,11,6,8,2,14,6,16,9,11,21,9,14,10,12,13,8,4,20,9,15,7,18,7,2,21,19,15,4,20,22,8,18,22,6,18,6,16,10,18,21,22,10,7,7,9,19,8,14,6,18,11,10,17,17,8,19,21,1,9,7,5,13,9,17,11,14,17,18,2,8,9,5,21,12,6,7,19,21,9,4,8,19,18,19,9,16,13,5,6,23,11,13,7,9,6,10,7,16,16,23,17,17,9,18,11,9,20,20,7,6,22,8,10,8,7,10,7,10,15,20,18,19,16,7,9,9,15,9,9,5,22,7,10,9,4,23,16,14,16,8,20,6,13,6,2,18,21,7,16,15,8,20,7,14,8,11,19,19,17,9,23,9,2,7,10,7,20,10,9,3,19,7,20,5,18,19,20,8,6,21,15,10,11,17,16,6,11,20,8,16,21,9,20,18,12,7,16,22,7,21,8,18,19,6,18,19,16,7,14,21,7,10,14,13,0,10,18,21,17,9,18,18,16,8,14,5,11,6,11,2,14,8,5,21,5,16,9,20,20,5,6,20,8,16,14,7,7,19,17,14,20,8,17,19,9,7,8,13,19,19,8,1,7,14,16,17,5,6,20,7,2,7,19,22,6,7,23,19,7,4,8,11,8,5,17,13,5,5,17,10,8,8,2,18,17,20,17,0,22,15,7,7,6,20,5,9,21,6,6,22,6,4,11,21,20,19,7,5,20,7,8,15,13,9,11,6,5,17,11,2,10,14,16,9,4,8,7,7,21,5,5,22,13,9,20,8,21,6,22,7,7,21,18,6,11,15,11,7,6,5,19,9,14,19,9,10,18,16,8,23,9,15,2,20,6,14,17,13,22,7,14,8,16,0,21,8,8,10,8,11,8,6,11,20,20,7,7,7,17,5,6,9,6,6,21,20,20,6,19,4,17,11,10,9,5,14,13,7,7,22,20,17,19,14,20,11,23,20,9,19,17,11,14,17,19,8,8,7,2,7,8,7,15,7,0,20,8,11,22,18,7,4,7,17,14,2,9,17,13,4,9,7,19,6,11,7,7,18,10,10,15,13,16,5,14,17,2,13,19,20,16,20,21,19,8,9,17,10,14,17,9,7,7,15,11,7,6,6,12,10,17,17,11,8,10,5,11,19,5,7,17,17,8,9,19,5,14,9,5,17,12,9,2,14,8,19,4,17,7,8,4,15,14,6,23,21,18,20,7,20,11,22,13,19,7,16,17,18,9,14,6,4,14,20,19,6,20,23,19,17,6,15,22,21,6,8,18,13,5,11,9,21,8,20,21,19,11,19,0,18,6,21,19,7,21,7,10,9,5,16,15,21,19,8,17,21,10,16,9,8,20,5,18,20,12,9,10,13,16,6,7,18,20,5,20,6,11,21,16,10,22,14,20,10,9,17,17,21,7,21,6,20,10,14,14,6,5,10,9,10,7,9,13,21,11,8,17,9,11,17,4,0,15,10,8,16,14,10,12,14,20,8,14,8,10,13,6,21,6,20,18,7,7,21,5,21,4,8,21,16,6,9,10,16,6,20,19,4,16,10,11,14,7,18,11,20,18,11,14,9,15,7,20,17,23,9,9,22,9,13,18,16,7,9,10,6,16,5,9,19,7,8,14,15,19,8,4,17,7,15,5,9,19,13,16,16,4,10,11,10,16,9,15,21,19,10,8,19,9,9,20,10,19,19,16,8,9,11,13,16,17,11,13,9,9,9,17,17,17,21,9,21,10,5,20,9,14,10,12,8,9,12,19,8,21,19,15,19,6,19,22,12,11,11,13,5,8,9,17,2,9,10,22,17,14,7,7,19,22,7,9,10,7,7,9,5,1,17,15,5,6,9,22,6,23,6,11,16,9,13,15,18,17,9,2,21,8,20,14,13,10,6,20,11,9,2,7,6,23,20,11,15,22,21,16,14,13,21,11,18,17,6,19,22,7,16,10,21,6,18,21,23,10,10,23,20,22,9,9,17,6,22,6,11,6,6,2,1,9,17,9,17,9,5,22,19,5,12,10,6,7,10,17,13,18,6,8,7,20,5,14,10,11,10,12,4,5,9,6,10,16,8,20,14,6,7,19,21,8,13,8,10,9,9,22,19,16,7,7,22,7,7,17,13,17,2,14,8,7,9,14,19,4,22,8,7,9,14,16,10,2,22,22,15,9,10,9,23,6,6,19,20,7,5,16,23,10,20,19,6,22,22,16,20,14,9,8,14,19,13,22,7,15,7,2,11,11,18,9,16,5,5,6,6,17,19,17,18,22,10,9,21,9,9,17,17,18,20,15,22,22,16,5,19,10,14,9,22,19,19,21,8,14,9,9,3,7,8,10,5,13,21,18,4,11,16,13,6,8,5,22,9,20,15,19,22,16,10,8,6,13,10,7,18,7,19,8,19,11,10,17,4,23,23,9,14,17,12,6,9,10,7,5,8,12,7,11,9,12,7,19,21,20,11,17,9,5,2,8,17,22,6,16,14,9,6,20,7,21,20,23,11,20,6,7,18,18,6,15,5,7,17,8,6,19,13,21,22,16,6,18,16,7,10,16,5,13,9,10,13,23,20,9,19,18,11,0,17,11,7,17,12,12,9,15,5,18,9,9,8,21,9,2,7,9,15,11,8,17,14,18,7,23,7,9,11,21,5,17,21,11,18,19,16,18,20,19,9,15,17,5,14,12,14,20,17,14,11,9,14,6,11,21,9,15,8,17,20,9,9,7,8,9,2,2,13,8,5,9,7,15,8,20,9,20,20,5,22,13,12,13,19,11,21,17,13,5,21,6,21,5,17,17,23,19,20,5,15,11,21,13,6,16,6,11,17,21,9,9,9,13,10,10,14,19,14,18,17,13,7,22,7,16,6,13,9,22,14,21,5,8,6,20,8,16,15,1,8,20,22,14,20,20,9,15,6,6,22,7,11,7,8,7,6,17,12,17,5,8,13,4,7,6,19,7,11,18,11,9,7,9,2,14,16,17,20,11,5,10,14,9,8,19,11,7,15,11,9,11,10,6,7,7,6,14,16,7,17,15,19,6,16,2,19,21,6,5,9,13,17,17,18,10,9,5,9,15,7,22,9,9,8,4,15,18,16,7,9,14,9,4,14,16,11,14,11,15,14,15,19,21,7,17,12,8,16,14,12,22,9,20,7,8,17,7,12,7,15,7,9,14,9,19,8,6,20,18,17,19,6,10,9,7,20,6,21,13,5,10,18,16,16,4,15,7,6,11,5,14,7,20,11,18,17,14,9,16,7,15,14,10,7,8,13,11,10,5,14,9,22,16,9,6,20,7,8,16,11,20,2,22,9,17,16,19,5,9,6,16,5,19,9,7,10,7,6,14,9,8,7,17,8,5,10,13,7,15,5,9,15,12,10,21,7,7,6,21,20,23,8,15,20,20,9,8,7,7,11,19,16,11,17,6,20,10,0,18,8,14,18,18,11,22,14,23,9,7,6,7,7,16,11,11,9,23,18,7,0,9,19,19,2,16,15,19,9,7,5,6,14,9,21,9,10,18,6,4,6,20,7,21,20,6,20,22,11,14,6,10,10,13,20,18,13,5,9,12,18,20,15,15,17,7,10,7,20,8,17,15,9,22,6,18,14,8,19,5,5,11,8,8,13,14,5,17,21,8,20,6,9,15,7,13,18,15,9,6,6,22,6,17,22,7,9,19,19,20,16,11,17,10,16,11,13,4,7,10,13,17,1,21,22,20,16,11,8,7,7,19,22,14,19,15,6,6,20,5,8,14,5,7,13,22,7,12,8,13,11,9,22,6,6,16,17,9,16,9,19,9,15,19,8,16,9,5,16,5,17,10,6,11,17,5,16,13,11,6,20,7,7,11,8,11,12,7,9,17,17,16,10,21,22,22,6,5,14,17,19,8,9,21,16,9,13,11,8,6,18,13,14,9,6,2,18,22,6,8,6,6,22,17,22,9,10,20,11,14,17,15,8,19,5,19,5,7,6,10,14,20,8,5,16,9,13,18,20,19,20,14,19,17,2,19,10,13,15,18,18,7,7,11,8,17,17,11,19,17,15,14,4,11,19,9,14,22,7,11,8,10,6,0,4,12,12,13,20,7,14,8,13,14,19,9,20,5,20,19,20,14,18,5,8,22,9,15,2,6,19,9,5,21,19,17,8,13,19,10,22,22,5,19,2,6,15,6,19,16,13,11,9,6,18,20,4,23,6,17,14,9,11,17,4,7,21,20,6,20,12,10,15,22,2,21,17,17,6,21,2,11,17,9,2,9,11,3,19,11,17,9,7,10,2,17,22,13,8,6,5,23,11,7,21,23,2,5,11,10,5,15,14,9,7,8,10,18,9,14,5,9,16,9,12,18,18,17,7,16,6,9,21,8,17,23,5,9,5,21,9,13,13,20,9,7,17,7,20,2,17,21,7,8,16,17,7,19,14,19,17,12,0,19,5,17,6,16,12,10,9,9,7,9,15,23,13,10,12,15,7,2,9,21,20,12,22,9,21,9,16,8,13,21,17,20,19,12,5,22,17,6,6,21,14,2,22,12,10,4,9,7,15,15,9,17,7,17,9,9,8,5,14,18,16,14,5,7,20,13,12,6,15,23,12,21,14,16,10,12,16,19,7,19,10,6,7,22,10,9,18,11,14,17,12,8,17,19,7,7,18,22,19,21,21,22,20,14,14,17,5,22,9,17,20,17,20,10,18,20,19,7,20,11,17,15,8,14,8,22,16,18,11,5,17,14,2,13,16,13,11,15,22,8,19,3,10,5,7,5,4,22,15,4,19,11,10,9,15,19,7,21,18,14,5,5,19,19,9,8,16,11,11,10,10,13,13,7,13,19,5,1,11,5,14,17,17,18,20,12,13,21,7,0,23,5,13,14,5,17,17,8,7,15,16,16,22,19,19,16,4,18,7,6,9,13,4,15,17,18,17,19,14,17,0,9,11,10,9,6,10,18,9,21,17,5,6,10,11,9,15,7,7,23,9,7,8,11,11,17,13,5,18,10,14,10,6,5,11,16,5,16,18,11,17,7,11,13,8,6,9,22,16,21,22,19,2,11,10,6,15,15,7,9,5,11,8,14,20,11,5,17,4,14,8,5,15,9,7,10,9,13,12,22,14,6,9,3,6,14,6,2,19,5,10,10,19,18,18,9,7,7,12,14,20,5,17,7,21,6,7,8,14,10,19,8,5,13,5,23,22,2,16,20,2,18,12,18,9,20,21,8,19,23,7,5,18,2,5,14,13,19,9,22,20,16,6,9,6,5,20,9,17,21,16,8,14,5,1,13,16,21,23,17,10,5,2,17,21,5,11,19,15,15,8,10,16,10,13,21,6,14,22,10,13,19,17,8,2,7,4,7,14,21,10,13,17,13,4,17,21,15,14,15,5,19,6,10,6,17,2,11,15,11,7,8,16,8,11,13,17,16,9,9,5,11,15,20,5,4,23,19,21,17,23,11,2,10,14,7,14,11,22,19,10,20,13,9,6,6,15,6,11,22,7,13,20,11,17,6,19,4,9,16,20,17,14,8,7,9,5,20,9,22,9,15,21,2,7,16,19,6,5,12,18,23,11,9,11,7,14,17,17,11,8,0,16,18,5,2,5,7,11,11,5,7,9,16,18,17,5,8,8,18,2,13,13,15,16,8,7,11,11,22,20,10,20,13,13,6,22,17,5,11,14,20,23,6,14,18,9,12,17,19,14,7,23,17,6,17,5,5,17,18,21,2,9,21,20,17,17,12,9,9,12,17,11,14,8,17,5,9,20,9,17,22,9,5,13,9,11,6,13,16,16,4,9,13,16,19,7,14,15,18,7,5,6,9,11,9,14,15,6,8,14,6,2,13,18,15,10,14,20,17,17,20,2,11,8,21,7,17,19,14,23,2,9,10,17,14,19,20,20,6,7,4,15,11,20,8,5,12,11,18,5,9,2,10,16,11,5,18,10,16,20,17,10,22,10,8,18,18,5,20,16,21,14,10,11,6,11,20,12,9,16,7,7,7,8,16,8,16,9,10,13,19,11,17,11,5,19,11,6,8,16,15,10,6,9,7,11,9,5,8,16,8,15,9,21,9,20,7,9,10,7,15,16,19,22,19,17,13,17,19,19,9,8,18,20,15,19,21,16,9,9,14,21,14,18,8,13,10,6,21,14,17,14,11,14,17,19,12,13,18,8,17,22,5,21,6,8,6,17,16,9,9,8,21,18,16,9,8,21,17,17,7,14,21,9,11,6,19,14,19,9,7,11,16,5,20,7,7,18,6,7,7,6,11,5,6,19,20,20,9,5,5,9,7,20,17,2,11,2,23,14,7,6,6,8,6,20,19,22,14,21,8,16,23,9,17,5,8,12,18,19,18,19,16,11,6,10,5,9,12,11,20,10,8,21,15,2,7,12,8,9,7,8,7,9,8,14,17,7,10,9,2,9,7,8,21,2,12,18,13,20,10,5,17,9,18,19,17,7,17,9,19,20,9,6,10,7,11,8,15,11,4,9,14,6,10,4,20,5,18,11,16,13,17,22,6,23,9,17,19,10,19,8,10,15,15,19,6,11,17,20,9,21,22,2,20,8,16,18,23,8,21,6,8,5,20,22,22,8,9,7,22,6,14,20,13,7,10,5,5,18,22,16,6,7,17,17,18,1,7,22,7,3,13,19,11,14,6,9,21,19,7,9,19,11,21,6,1,13,12,13,5,15,10,8,17,8,11,8,17,9,18,9,20,0,17,15,8,16,8,14,8,18,8,5,21,2,20,22,5,19,15,7,6,16,5,17,9,10,5,15,22,17,5,6,11,20,10,6,23,9,19,20,7,17,9,22,5,22,9,16,21,17,6,14,13,5,14,19,13,6,5,7,19,2,9,2,6,14,20,14,14,15,18,14,5,10,20,4,19,21,5,11,20,19,11,16,19,6,18,2,8,7,17,13,2,20,8,19,2,20,20,9,14,7,10,14,19,9,19,16,17,19,9,21,4,5,9,9,18,22,14,21,18,13,8,20,0,15,9,11,17,13,18,10,15,22,10,17,8,13,5,16,10,7,11,21,7,10,21,10,14,4,14,17,8,10,15,19,9,10,11,9,18,18,17,14,6,17,7,17,20,16,9,6,5,10,9,2,10,21,11,9,23,6,14,9,21,5,7,5,17,17,10,17,14,14,12,14,21,11,14,17,13,8,5,6,7,8,17,23,9,19,17,11,9,9,14,9,7,7,19,15,5,11,9,6,7,10,21,21,20,20,19,7,11,19,6,4,7,7,16,6,7,14,8,20,14,14,9,2,8,20,9,11,10,19,6,17,19,8,9,22,10,23,6,5,22,14,21,17,15,22,16,9,14,9,11,8,10,16,7,9,12,19,19,5,19,5,14,10,7,9,5,21,20,16,5,7,20,7,17,13,9,10,13,7,16,14,17,21,7,23,10,11,10,10,20,13,4,7,23,5,22,22,6,5,15,21,9,12,10,21,16,21,16,6,10,8,23,9,17,21,17,22,22,9,14,5,7,5,21,14,13,22,13,5,2,11,21,5,13,8,13,11,18,13,17,14,7,16,7,8,14,11,11,10,18,5,20,19,10,20,18,6,2,11,5,14,6,5,3,21,21,17,9,4,9,19,18,11,7,11,22,22,19,9,9,6,13,9,18,0,7,16,8,9,9,8,15,23,9,20,8,14,5,4,22,20,21,9,5,14,8,8,17,17,2,22,20,16,5,17,9,15,9,11,22,19,16,13,10,5,13,7,18,19,7,9,6,2,13,7,18,17,11,17,14,7,20,20,10,18,7,5,10,7,16,20,17,7,19,5,11,6,15,19,14,6,8,9,19,17,17,8,22,8,10,18,9,7,19,4,5,22,17,9,14,15,21,8,17,5,7,16,7,17,8,10,20,13,20,9,9,20,14,9,5,6,3,20,13,11,7,17,11,18,8,13,21,23,6,16,14,21,20,15,14,18,20,9,17,20,2,8,9,12,18,10,7,7,11,20,0,16,8,7,20,23,13,6,17,4,6,17,7,20,17,12,2,10,15,9,16,19,13,9,6,14,7,17,9,7,11,9,10,16,15,17,5,6,10,18,19,9,16,8,7,17,17,14,5,19,21,4,20,14,7,12,13,6,9,16,11,17,11,4,11,6,8,15,16,6,17,22,20,11,9,21,7,17,16,21,12,20,17,18,9,19,9,9,17,13,21,11,13,22,8,14,22,13,19,10,9,11,19,6,4,20,11,8,20,8,9,20,6,21,11,12,16,17,14,9,20,10,18,8,11,12,19,8,8,11,14,5,19,22,14,10,15,16,10,21,7,11,9,22,5,2,11,4,20,5,20,21,9,9,20,6,13,21,7,10,7,5,20,14,16,6,17,19,19,9,8,10,18,11,14,9,16,14,14,19,2,7,5,6,7,15,7,13,8,5,11,20,7,6,2,9,12,6,20,5,22,11,19,10,11,19,10,15,21,5,9,7,16,19,19,7,11,1,21,22,9,10,19,11,14,5,8,8,12,9,22,9,16,5,8,16,20,11,10,11,8,13,15,6,13,22,7,7,2,9,21,8,20,10,11,13,8,17,22,20,19,19,8,7,19,5,5,10,18,2,7,10,13,16,5,9,10,15,13,17,16,10,18,21,16,11,21,16,6,21,17,7,6,22,10,7,7,12,20,6,5,13,20,5,8,18,12,5,11,7,9,10,14,5,9,16,18,8,9,10,6,8,22,15,19,13,20,7,7,15,10,21,22,20,15,14,7,20,10,4,20,11,19,13,6,19,9,19,10,18,6,20,20,13,22,9,4,5,5,7,11,10,14,8,11,6,15,8,6,1,3,10,11,4,21,14,21,21,21,19,21,10,13,18,5,18,8,14,7,11,18,20,17,17,21,10,20,16,17,7,5,10,8,8,7,15,17,7,22,5,10,7,19,21,11,18,9,22,14,7,8,8,6,6,13,7,9,19,6,9,12,4,14,5,19,7,19,18,17,14,14,20,7,12,5,20,5,21,18,11,5,23,5,14,8,13,16,10,17,20,17,18,6,17,6,9,15,6,21,8,6,9,16,16,5,19,20,9,22,15,20,1,14,11,17,9,5,8,19,20,8,10,7,15,10,6,19,13,6,11,21,7,22,11,14,6,23,2,17,18,19,22,9,7,5,15,20,18,7,17,21,8,12,22,19,19,7,16,20,18,7,5,14,16,17,20,12,13,16,21,22,19,8,19,5,14,7,15,19,2,8,8,16,9,14,6,7,8,4,20,15,14,12,2,19,23,17,19,17,11,5,9,5,6,20,14,9,10,19,9,19,17,6,7,15,20,16,14,22,21,20,21,20,19,9,19,16,3,13,19,13,13,5,9,17,11,17,6,22,21,9,9,4,19,22,14,10,6,22,2,10,16,23,20,2,6,7,16,21,7,19,11,20,5,13,10,15,18,23,21,11,6,9,16,14,6,18,5,6,9,9,9,16,21,11,17,9,6,13,16,18,18,20,21,17,2,16,16,7,4,17,19,14,22,9,17,8,14,9,5,7,9,8,18,11,18,20,11,8,11,8,12,11,17,17,19,18,18,19,9,9,14,19,7,14,6,20,9,2,7,11,22,15,21,21,9,15,17,15,12,14,18,15,8,9,9,19,6,7,5,17,22,9,10,9,22,14,10,4,22,14,5,7,19,16,19,14,7,19,6,7,7,19,14,10,11,11,6,7,5,17,10,20,11,12,6,20,22,2,20,6,8,9,17,4,7,8,15,22,19,9,20,8,7,18,16,18,21,16,9,11,6,16,5,16,7,19,6,9,15,5,5,22,11,7,21,14,14,7,21,21,16,6,14,22,22,16,9,10,16,19,20,9,16,7,2,14,15,14,8,18,11,15,7,20,5,23,20,18,8,23,16,10,15,18,5,14,10,5,2,9,20,8,9,6,12,13,7,8,18,10,15,9,2,17,21,17,22,16,23,20,11,11,20,15,7,16,2,17,18,9,22,6,18,21,5,18,7,8,19,10,7,5,9,16,21,9,4,5,14,5,2,7,20,11,21,21,13,9,19,18,15,18,22,11,8,5,21,23,13,20,6,10,5,19,20,8,11,10],\"type\":\"box\"}],                        {\"template\":{\"data\":{\"histogram2dcontour\":[{\"type\":\"histogram2dcontour\",\"colorbar\":{\"outlinewidth\":0,\"ticks\":\"\"},\"colorscale\":[[0.0,\"#0d0887\"],[0.1111111111111111,\"#46039f\"],[0.2222222222222222,\"#7201a8\"],[0.3333333333333333,\"#9c179e\"],[0.4444444444444444,\"#bd3786\"],[0.5555555555555556,\"#d8576b\"],[0.6666666666666666,\"#ed7953\"],[0.7777777777777778,\"#fb9f3a\"],[0.8888888888888888,\"#fdca26\"],[1.0,\"#f0f921\"]]}],\"choropleth\":[{\"type\":\"choropleth\",\"colorbar\":{\"outlinewidth\":0,\"ticks\":\"\"}}],\"histogram2d\":[{\"type\":\"histogram2d\",\"colorbar\":{\"outlinewidth\":0,\"ticks\":\"\"},\"colorscale\":[[0.0,\"#0d0887\"],[0.1111111111111111,\"#46039f\"],[0.2222222222222222,\"#7201a8\"],[0.3333333333333333,\"#9c179e\"],[0.4444444444444444,\"#bd3786\"],[0.5555555555555556,\"#d8576b\"],[0.6666666666666666,\"#ed7953\"],[0.7777777777777778,\"#fb9f3a\"],[0.8888888888888888,\"#fdca26\"],[1.0,\"#f0f921\"]]}],\"heatmap\":[{\"type\":\"heatmap\",\"colorbar\":{\"outlinewidth\":0,\"ticks\":\"\"},\"colorscale\":[[0.0,\"#0d0887\"],[0.1111111111111111,\"#46039f\"],[0.2222222222222222,\"#7201a8\"],[0.3333333333333333,\"#9c179e\"],[0.4444444444444444,\"#bd3786\"],[0.5555555555555556,\"#d8576b\"],[0.6666666666666666,\"#ed7953\"],[0.7777777777777778,\"#fb9f3a\"],[0.8888888888888888,\"#fdca26\"],[1.0,\"#f0f921\"]]}],\"heatmapgl\":[{\"type\":\"heatmapgl\",\"colorbar\":{\"outlinewidth\":0,\"ticks\":\"\"},\"colorscale\":[[0.0,\"#0d0887\"],[0.1111111111111111,\"#46039f\"],[0.2222222222222222,\"#7201a8\"],[0.3333333333333333,\"#9c179e\"],[0.4444444444444444,\"#bd3786\"],[0.5555555555555556,\"#d8576b\"],[0.6666666666666666,\"#ed7953\"],[0.7777777777777778,\"#fb9f3a\"],[0.8888888888888888,\"#fdca26\"],[1.0,\"#f0f921\"]]}],\"contourcarpet\":[{\"type\":\"contourcarpet\",\"colorbar\":{\"outlinewidth\":0,\"ticks\":\"\"}}],\"contour\":[{\"type\":\"contour\",\"colorbar\":{\"outlinewidth\":0,\"ticks\":\"\"},\"colorscale\":[[0.0,\"#0d0887\"],[0.1111111111111111,\"#46039f\"],[0.2222222222222222,\"#7201a8\"],[0.3333333333333333,\"#9c179e\"],[0.4444444444444444,\"#bd3786\"],[0.5555555555555556,\"#d8576b\"],[0.6666666666666666,\"#ed7953\"],[0.7777777777777778,\"#fb9f3a\"],[0.8888888888888888,\"#fdca26\"],[1.0,\"#f0f921\"]]}],\"surface\":[{\"type\":\"surface\",\"colorbar\":{\"outlinewidth\":0,\"ticks\":\"\"},\"colorscale\":[[0.0,\"#0d0887\"],[0.1111111111111111,\"#46039f\"],[0.2222222222222222,\"#7201a8\"],[0.3333333333333333,\"#9c179e\"],[0.4444444444444444,\"#bd3786\"],[0.5555555555555556,\"#d8576b\"],[0.6666666666666666,\"#ed7953\"],[0.7777777777777778,\"#fb9f3a\"],[0.8888888888888888,\"#fdca26\"],[1.0,\"#f0f921\"]]}],\"mesh3d\":[{\"type\":\"mesh3d\",\"colorbar\":{\"outlinewidth\":0,\"ticks\":\"\"}}],\"scatter\":[{\"fillpattern\":{\"fillmode\":\"overlay\",\"size\":10,\"solidity\":0.2},\"type\":\"scatter\"}],\"parcoords\":[{\"type\":\"parcoords\",\"line\":{\"colorbar\":{\"outlinewidth\":0,\"ticks\":\"\"}}}],\"scatterpolargl\":[{\"type\":\"scatterpolargl\",\"marker\":{\"colorbar\":{\"outlinewidth\":0,\"ticks\":\"\"}}}],\"bar\":[{\"error_x\":{\"color\":\"#2a3f5f\"},\"error_y\":{\"color\":\"#2a3f5f\"},\"marker\":{\"line\":{\"color\":\"#E5ECF6\",\"width\":0.5},\"pattern\":{\"fillmode\":\"overlay\",\"size\":10,\"solidity\":0.2}},\"type\":\"bar\"}],\"scattergeo\":[{\"type\":\"scattergeo\",\"marker\":{\"colorbar\":{\"outlinewidth\":0,\"ticks\":\"\"}}}],\"scatterpolar\":[{\"type\":\"scatterpolar\",\"marker\":{\"colorbar\":{\"outlinewidth\":0,\"ticks\":\"\"}}}],\"histogram\":[{\"marker\":{\"pattern\":{\"fillmode\":\"overlay\",\"size\":10,\"solidity\":0.2}},\"type\":\"histogram\"}],\"scattergl\":[{\"type\":\"scattergl\",\"marker\":{\"colorbar\":{\"outlinewidth\":0,\"ticks\":\"\"}}}],\"scatter3d\":[{\"type\":\"scatter3d\",\"line\":{\"colorbar\":{\"outlinewidth\":0,\"ticks\":\"\"}},\"marker\":{\"colorbar\":{\"outlinewidth\":0,\"ticks\":\"\"}}}],\"scattermapbox\":[{\"type\":\"scattermapbox\",\"marker\":{\"colorbar\":{\"outlinewidth\":0,\"ticks\":\"\"}}}],\"scatterternary\":[{\"type\":\"scatterternary\",\"marker\":{\"colorbar\":{\"outlinewidth\":0,\"ticks\":\"\"}}}],\"scattercarpet\":[{\"type\":\"scattercarpet\",\"marker\":{\"colorbar\":{\"outlinewidth\":0,\"ticks\":\"\"}}}],\"carpet\":[{\"aaxis\":{\"endlinecolor\":\"#2a3f5f\",\"gridcolor\":\"white\",\"linecolor\":\"white\",\"minorgridcolor\":\"white\",\"startlinecolor\":\"#2a3f5f\"},\"baxis\":{\"endlinecolor\":\"#2a3f5f\",\"gridcolor\":\"white\",\"linecolor\":\"white\",\"minorgridcolor\":\"white\",\"startlinecolor\":\"#2a3f5f\"},\"type\":\"carpet\"}],\"table\":[{\"cells\":{\"fill\":{\"color\":\"#EBF0F8\"},\"line\":{\"color\":\"white\"}},\"header\":{\"fill\":{\"color\":\"#C8D4E3\"},\"line\":{\"color\":\"white\"}},\"type\":\"table\"}],\"barpolar\":[{\"marker\":{\"line\":{\"color\":\"#E5ECF6\",\"width\":0.5},\"pattern\":{\"fillmode\":\"overlay\",\"size\":10,\"solidity\":0.2}},\"type\":\"barpolar\"}],\"pie\":[{\"automargin\":true,\"type\":\"pie\"}]},\"layout\":{\"autotypenumbers\":\"strict\",\"colorway\":[\"#636efa\",\"#EF553B\",\"#00cc96\",\"#ab63fa\",\"#FFA15A\",\"#19d3f3\",\"#FF6692\",\"#B6E880\",\"#FF97FF\",\"#FECB52\"],\"font\":{\"color\":\"#2a3f5f\"},\"hovermode\":\"closest\",\"hoverlabel\":{\"align\":\"left\"},\"paper_bgcolor\":\"white\",\"plot_bgcolor\":\"#E5ECF6\",\"polar\":{\"bgcolor\":\"#E5ECF6\",\"angularaxis\":{\"gridcolor\":\"white\",\"linecolor\":\"white\",\"ticks\":\"\"},\"radialaxis\":{\"gridcolor\":\"white\",\"linecolor\":\"white\",\"ticks\":\"\"}},\"ternary\":{\"bgcolor\":\"#E5ECF6\",\"aaxis\":{\"gridcolor\":\"white\",\"linecolor\":\"white\",\"ticks\":\"\"},\"baxis\":{\"gridcolor\":\"white\",\"linecolor\":\"white\",\"ticks\":\"\"},\"caxis\":{\"gridcolor\":\"white\",\"linecolor\":\"white\",\"ticks\":\"\"}},\"coloraxis\":{\"colorbar\":{\"outlinewidth\":0,\"ticks\":\"\"}},\"colorscale\":{\"sequential\":[[0.0,\"#0d0887\"],[0.1111111111111111,\"#46039f\"],[0.2222222222222222,\"#7201a8\"],[0.3333333333333333,\"#9c179e\"],[0.4444444444444444,\"#bd3786\"],[0.5555555555555556,\"#d8576b\"],[0.6666666666666666,\"#ed7953\"],[0.7777777777777778,\"#fb9f3a\"],[0.8888888888888888,\"#fdca26\"],[1.0,\"#f0f921\"]],\"sequentialminus\":[[0.0,\"#0d0887\"],[0.1111111111111111,\"#46039f\"],[0.2222222222222222,\"#7201a8\"],[0.3333333333333333,\"#9c179e\"],[0.4444444444444444,\"#bd3786\"],[0.5555555555555556,\"#d8576b\"],[0.6666666666666666,\"#ed7953\"],[0.7777777777777778,\"#fb9f3a\"],[0.8888888888888888,\"#fdca26\"],[1.0,\"#f0f921\"]],\"diverging\":[[0,\"#8e0152\"],[0.1,\"#c51b7d\"],[0.2,\"#de77ae\"],[0.3,\"#f1b6da\"],[0.4,\"#fde0ef\"],[0.5,\"#f7f7f7\"],[0.6,\"#e6f5d0\"],[0.7,\"#b8e186\"],[0.8,\"#7fbc41\"],[0.9,\"#4d9221\"],[1,\"#276419\"]]},\"xaxis\":{\"gridcolor\":\"white\",\"linecolor\":\"white\",\"ticks\":\"\",\"title\":{\"standoff\":15},\"zerolinecolor\":\"white\",\"automargin\":true,\"zerolinewidth\":2},\"yaxis\":{\"gridcolor\":\"white\",\"linecolor\":\"white\",\"ticks\":\"\",\"title\":{\"standoff\":15},\"zerolinecolor\":\"white\",\"automargin\":true,\"zerolinewidth\":2},\"scene\":{\"xaxis\":{\"backgroundcolor\":\"#E5ECF6\",\"gridcolor\":\"white\",\"linecolor\":\"white\",\"showbackground\":true,\"ticks\":\"\",\"zerolinecolor\":\"white\",\"gridwidth\":2},\"yaxis\":{\"backgroundcolor\":\"#E5ECF6\",\"gridcolor\":\"white\",\"linecolor\":\"white\",\"showbackground\":true,\"ticks\":\"\",\"zerolinecolor\":\"white\",\"gridwidth\":2},\"zaxis\":{\"backgroundcolor\":\"#E5ECF6\",\"gridcolor\":\"white\",\"linecolor\":\"white\",\"showbackground\":true,\"ticks\":\"\",\"zerolinecolor\":\"white\",\"gridwidth\":2}},\"shapedefaults\":{\"line\":{\"color\":\"#2a3f5f\"}},\"annotationdefaults\":{\"arrowcolor\":\"#2a3f5f\",\"arrowhead\":0,\"arrowwidth\":1},\"geo\":{\"bgcolor\":\"white\",\"landcolor\":\"#E5ECF6\",\"subunitcolor\":\"white\",\"showland\":true,\"showlakes\":true,\"lakecolor\":\"white\"},\"title\":{\"x\":0.05},\"mapbox\":{\"style\":\"light\"}}},\"title\":{\"text\":\"Box Plot for Dep_hours\",\"font\":{\"size\":25}},\"font\":{\"color\":\"white\"},\"yaxis\":{\"title\":{\"text\":\"Values\"},\"showgrid\":true,\"gridwidth\":1,\"gridcolor\":\"white\",\"griddash\":\"dash\"},\"plot_bgcolor\":\"black\",\"paper_bgcolor\":\"black\",\"xaxis\":{\"showgrid\":true,\"gridwidth\":1,\"gridcolor\":\"white\",\"griddash\":\"dash\"}},                        {\"responsive\": true}                    ).then(function(){\n",
       "                            \n",
       "var gd = document.getElementById('c0f9842d-f7f3-4a64-913e-b8759a2e9fee');\n",
       "var x = new MutationObserver(function (mutations, observer) {{\n",
       "        var display = window.getComputedStyle(gd).display;\n",
       "        if (!display || display === 'none') {{\n",
       "            console.log([gd, 'removed!']);\n",
       "            Plotly.purge(gd);\n",
       "            observer.disconnect();\n",
       "        }}\n",
       "}});\n",
       "\n",
       "// Listen for the removal of the full notebook cells\n",
       "var notebookContainer = gd.closest('#notebook-container');\n",
       "if (notebookContainer) {{\n",
       "    x.observe(notebookContainer, {childList: true});\n",
       "}}\n",
       "\n",
       "// Listen for the clearing of the current output cell\n",
       "var outputEl = gd.closest('.output');\n",
       "if (outputEl) {{\n",
       "    x.observe(outputEl, {childList: true});\n",
       "}}\n",
       "\n",
       "                        })                };                });            </script>        </div>"
      ]
     },
     "metadata": {},
     "output_type": "display_data"
    },
    {
     "data": {
      "text/html": [
       "<div>                            <div id=\"8d3ae723-a3d5-46cd-90c3-f8fa7f1ed88c\" class=\"plotly-graph-div\" style=\"height:525px; width:100%;\"></div>            <script type=\"text/javascript\">                require([\"plotly\"], function(Plotly) {                    window.PLOTLYENV=window.PLOTLYENV || {};                                    if (document.getElementById(\"8d3ae723-a3d5-46cd-90c3-f8fa7f1ed88c\")) {                    Plotly.newPlot(                        \"8d3ae723-a3d5-46cd-90c3-f8fa7f1ed88c\",                        [{\"name\":\"Dep_min\",\"y\":[20,50,25,5,50,0,55,0,55,25,45,20,40,10,15,40,45,0,15,0,10,0,0,55,55,25,50,0,45,5,5,50,0,35,5,35,5,15,0,5,5,45,55,10,0,45,0,40,0,5,0,35,20,15,55,45,50,5,0,40,25,5,45,0,5,35,45,55,55,20,5,45,40,5,5,50,40,25,30,20,10,55,30,25,0,5,0,40,25,25,15,15,55,55,45,15,55,50,5,0,25,0,55,35,10,30,40,45,55,5,5,55,20,15,0,5,20,25,0,5,55,0,0,0,15,0,5,0,0,45,50,30,40,25,30,10,45,0,0,0,30,30,0,35,5,0,0,30,10,50,20,25,40,25,0,20,0,55,30,15,35,40,0,50,45,0,55,55,15,30,0,5,35,30,10,30,25,0,5,0,0,35,0,0,45,45,50,35,30,10,10,15,10,55,35,45,30,0,20,5,25,5,35,10,40,15,0,0,5,5,30,5,5,30,10,45,10,30,15,0,0,0,10,0,30,25,25,30,45,20,50,45,0,15,50,20,15,5,25,45,40,30,0,45,5,30,15,35,45,45,0,45,30,45,0,10,0,10,0,30,10,55,35,55,50,40,25,50,40,5,10,10,0,50,5,20,20,55,30,35,55,5,10,55,25,30,55,0,55,25,45,20,0,45,25,20,0,30,30,0,35,0,20,30,40,0,0,15,55,10,0,0,30,10,20,45,45,0,0,20,15,50,55,45,25,30,50,30,25,5,10,20,55,25,10,35,25,40,10,30,50,45,35,5,55,15,0,25,25,45,0,10,25,5,15,30,15,10,45,0,55,55,30,50,55,15,5,40,50,25,0,35,0,30,5,30,0,25,25,55,0,30,55,10,30,45,15,15,15,15,25,55,0,30,0,30,50,35,0,50,55,35,15,45,50,0,55,30,0,45,15,55,5,50,10,20,10,30,20,45,50,25,20,30,45,0,0,30,10,20,0,0,0,15,30,45,10,40,50,35,5,25,50,15,55,25,55,45,55,55,5,55,10,40,5,0,0,35,0,20,30,50,55,0,55,55,15,0,45,0,20,50,0,20,10,0,30,30,20,5,0,0,35,0,20,15,55,20,15,5,50,50,55,35,45,5,55,0,20,25,10,5,5,0,55,5,50,15,20,30,0,50,55,25,15,0,5,30,30,0,55,5,45,20,0,50,0,0,40,10,0,40,15,25,35,5,25,30,15,40,35,15,0,25,55,20,55,55,45,0,35,55,5,0,55,0,40,20,35,0,30,20,0,0,35,0,30,10,20,55,0,55,10,55,5,10,50,20,0,35,10,5,20,0,55,35,0,10,5,45,0,10,10,0,30,35,20,40,40,40,40,10,30,0,35,0,25,55,5,15,10,0,50,30,10,50,20,5,55,0,25,15,10,25,20,55,35,25,55,10,0,15,40,20,0,20,45,20,55,40,5,45,5,30,0,0,30,25,25,40,55,10,45,15,0,15,45,45,0,45,30,50,30,20,10,50,0,40,10,10,45,0,45,20,30,10,55,30,25,15,5,5,30,35,15,25,15,30,40,25,35,55,20,25,0,35,0,20,50,0,50,0,5,25,40,45,20,25,30,0,30,45,10,45,30,35,15,30,55,20,20,30,20,0,0,15,25,15,40,45,50,15,5,45,5,10,20,20,45,10,10,10,25,30,55,20,30,10,35,20,15,30,0,0,55,35,50,10,30,0,45,45,20,45,10,20,0,10,20,10,0,30,0,40,0,15,40,50,55,20,20,10,45,10,35,50,40,40,45,10,25,50,25,0,25,55,10,0,40,5,10,10,20,50,30,5,0,5,0,5,35,20,30,0,30,10,35,45,0,55,15,30,5,30,5,0,45,0,0,20,0,30,25,0,30,30,45,0,50,5,20,0,0,30,30,0,45,30,25,55,30,35,35,0,0,25,0,20,25,0,40,35,55,35,40,5,5,40,30,45,0,55,10,35,20,55,15,45,55,10,35,25,5,15,30,20,50,45,10,20,30,55,20,10,50,40,55,0,0,0,0,0,50,15,0,35,45,35,0,30,15,0,15,30,20,55,0,0,40,0,5,55,20,15,50,50,30,0,10,15,55,10,5,50,0,25,50,0,40,25,0,0,0,15,30,20,45,10,55,55,40,5,0,0,50,30,0,10,20,40,15,30,5,30,45,55,55,45,30,5,0,0,30,5,25,50,45,10,0,5,30,50,0,15,55,40,40,25,0,45,5,5,5,55,0,50,0,0,30,10,35,45,5,30,5,0,0,10,30,55,45,45,25,0,30,15,55,55,45,0,45,25,50,20,40,0,0,30,30,35,55,35,15,55,45,25,55,0,30,55,20,5,15,5,25,20,55,10,20,10,35,0,45,35,50,30,20,5,5,55,50,0,15,40,50,45,30,25,5,0,25,0,55,40,40,30,20,30,45,5,15,50,35,25,10,30,55,5,30,55,35,55,5,35,25,25,20,0,25,45,0,30,0,0,30,55,10,15,30,50,0,20,20,25,10,50,20,50,10,30,5,10,10,0,40,50,5,50,30,55,40,35,40,25,5,55,0,0,45,10,30,45,30,30,0,40,35,25,40,10,45,30,5,0,5,0,30,20,0,0,40,45,20,5,35,35,0,0,55,50,55,45,45,15,30,35,5,25,20,45,45,25,25,0,45,45,35,5,55,55,0,35,35,40,50,10,50,0,15,45,45,45,25,20,0,10,0,10,0,50,30,45,50,40,55,35,0,15,15,50,45,15,35,35,30,45,0,20,0,15,40,50,50,30,0,45,20,25,30,5,55,55,5,40,10,5,55,0,5,25,50,30,30,20,30,55,35,30,40,35,0,0,40,45,55,40,0,50,0,40,0,0,40,30,5,10,55,35,20,0,0,0,30,55,50,55,0,50,5,50,0,35,40,45,30,0,0,30,25,55,0,30,30,50,25,0,30,30,45,10,5,10,45,5,30,10,35,50,5,25,15,5,30,10,45,15,30,45,50,40,10,10,15,0,45,35,45,0,30,30,25,0,15,50,0,40,55,5,15,25,30,15,55,45,35,30,55,30,10,10,30,0,25,45,30,45,40,0,15,5,10,0,0,0,0,30,10,10,20,35,0,20,45,35,45,20,15,25,15,40,40,15,45,25,20,0,0,10,5,35,55,5,30,15,5,10,20,25,55,0,25,10,10,35,55,0,30,35,30,45,15,0,50,55,20,10,20,55,5,20,25,35,55,55,10,5,0,45,0,35,20,25,55,15,50,35,5,25,0,15,0,45,55,45,45,5,55,30,50,50,45,25,30,0,40,10,40,0,55,35,45,0,15,55,55,55,15,10,40,40,50,45,35,20,40,0,5,20,20,15,35,15,25,45,5,0,55,45,30,55,20,0,45,15,30,5,20,10,30,10,45,5,0,55,55,35,10,0,0,30,0,45,55,15,15,55,55,25,15,25,5,50,30,45,25,30,40,10,45,20,30,10,20,5,45,10,0,30,5,20,0,20,55,50,5,50,20,45,20,5,0,35,50,15,20,45,10,40,20,55,20,10,30,0,55,15,40,15,55,20,45,30,55,10,15,55,35,10,0,40,15,30,30,30,10,40,35,0,30,15,0,0,0,20,25,15,5,0,0,0,0,25,5,35,35,35,45,0,10,15,20,30,0,50,50,15,30,45,20,50,40,15,25,20,25,0,55,10,55,5,10,20,50,0,35,0,45,35,55,25,25,50,45,10,0,55,50,0,5,0,25,55,25,55,55,50,45,35,55,0,40,15,0,30,25,55,10,5,55,45,20,0,35,5,25,5,30,30,50,35,0,55,5,55,40,30,55,10,45,0,0,45,0,55,25,40,10,40,25,10,55,35,50,55,45,45,0,10,45,30,25,50,0,55,55,20,15,25,15,0,40,25,55,40,0,40,0,55,40,25,10,20,0,20,50,55,35,0,10,15,35,0,50,10,10,55,5,55,25,50,55,10,0,10,10,15,15,30,0,0,0,30,0,15,30,30,25,35,50,35,50,20,55,5,0,40,45,5,5,10,40,50,0,25,0,30,10,15,35,30,55,5,0,45,0,50,20,45,25,35,30,10,35,50,15,45,10,15,45,25,45,30,10,25,40,35,0,35,10,30,5,10,55,55,0,15,35,0,0,15,0,35,50,0,0,10,45,10,30,0,25,5,0,55,30,40,45,55,55,30,30,45,45,0,45,55,50,30,25,5,45,45,0,25,35,0,25,55,35,40,10,0,55,30,30,20,0,0,0,5,15,40,50,10,10,40,15,15,10,0,55,25,30,0,10,15,45,0,30,50,55,25,25,10,25,30,30,0,55,0,15,0,55,35,30,5,10,0,10,45,35,25,0,0,0,50,45,35,35,30,40,50,10,10,30,0,5,20,50,45,5,40,40,30,30,35,0,0,10,40,45,45,0,45,30,40,45,35,0,0,55,5,45,50,35,55,55,35,35,10,10,5,45,55,20,35,15,40,30,20,20,35,45,0,25,50,0,10,0,25,30,20,10,0,45,50,10,55,40,25,25,0,55,10,25,0,30,30,15,35,35,0,0,0,45,30,10,30,45,5,15,30,55,45,20,25,50,10,10,5,0,30,45,0,0,55,55,0,15,0,55,10,40,25,20,50,10,20,15,50,55,15,45,0,30,25,50,20,45,0,0,50,10,5,35,25,25,55,20,30,25,50,35,30,0,55,50,35,30,40,25,10,30,30,0,55,0,45,0,5,55,45,15,0,25,25,0,10,25,25,0,0,20,30,0,40,35,30,5,0,15,30,5,25,45,10,25,0,0,0,35,30,15,50,30,30,0,35,50,45,30,20,10,20,10,45,0,40,0,30,0,45,0,55,5,0,0,15,10,55,15,50,55,20,0,30,5,55,10,45,35,0,15,25,10,55,35,25,15,10,10,30,45,50,15,30,45,0,0,0,40,20,15,50,0,20,30,0,0,20,5,30,45,55,35,30,0,25,5,15,0,40,15,5,0,0,35,0,30,25,5,0,5,10,0,55,5,40,35,0,30,50,0,0,0,25,20,10,30,35,30,0,35,35,0,25,10,55,45,20,45,0,55,15,0,10,35,50,0,5,30,5,55,30,15,10,50,5,0,30,0,55,50,0,30,30,0,0,10,35,0,0,10,35,0,5,20,55,25,10,55,0,5,0,30,0,5,30,35,20,0,30,5,0,30,0,40,55,10,0,0,30,35,5,10,10,50,55,55,45,15,45,30,30,10,10,55,30,0,15,10,5,0,45,0,0,50,30,0,0,10,0,35,45,25,0,40,5,40,30,50,55,5,55,40,25,10,10,40,55,0,25,0,0,50,45,40,0,30,45,25,0,15,0,50,50,55,45,45,0,40,0,10,35,0,25,25,0,45,30,20,5,25,15,35,0,50,35,0,55,25,20,35,0,15,5,25,10,10,0,35,55,0,0,25,45,0,0,15,40,20,45,0,20,55,0,45,30,10,55,55,0,20,25,30,30,50,55,45,55,45,10,40,5,50,0,45,55,30,30,0,0,0,15,35,25,25,20,10,0,55,20,30,0,55,10,5,35,15,15,35,30,55,0,0,40,25,35,0,0,0,30,55,50,45,10,15,15,0,0,15,55,55,30,15,55,10,30,30,0,30,35,55,0,55,0,40,55,55,0,0,0,30,5,30,55,10,0,30,30,55,20,20,0,10,5,55,25,15,50,55,20,30,20,0,10,0,50,5,40,25,20,30,30,0,0,0,35,5,45,35,20,50,50,45,0,55,45,15,30,15,0,25,35,55,45,5,10,50,25,45,50,5,0,10,30,55,55,40,5,25,10,25,25,0,5,35,0,40,45,30,40,0,50,40,45,0,55,20,0,40,10,45,5,40,25,0,10,25,50,45,20,55,5,0,20,55,50,50,30,0,55,10,40,30,10,5,0,0,50,40,0,10,35,30,0,30,35,25,55,5,55,30,50,25,55,0,20,25,45,45,30,15,10,30,40,0,0,30,35,35,10,0,55,0,45,50,20,25,25,35,0,55,30,25,5,0,30,0,0,0,5,50,30,45,35,0,0,0,25,0,55,45,40,35,25,0,30,25,30,45,25,45,45,50,5,15,50,35,25,45,0,30,20,0,15,0,10,15,0,20,0,35,55,45,40,25,25,5,45,55,20,25,45,5,0,0,25,0,5,10,15,0,5,30,30,5,45,10,0,0,15,5,30,0,45,0,50,45,30,45,0,35,45,15,15,0,15,5,15,30,45,35,50,35,30,10,0,20,35,50,5,0,0,45,20,40,55,35,35,50,0,0,25,50,30,40,15,50,35,50,30,45,15,10,5,20,30,20,25,30,10,25,30,25,10,30,10,15,15,30,0,0,5,35,0,0,50,25,0,0,30,45,40,10,40,25,0,0,10,0,25,40,30,0,30,10,55,30,25,15,15,50,0,20,30,10,30,25,0,55,10,20,10,0,35,45,30,10,15,45,0,0,20,25,35,15,55,5,10,0,50,5,0,45,30,35,45,20,20,10,35,15,20,35,10,20,5,15,55,55,0,55,5,55,5,0,55,30,0,15,0,20,5,35,10,25,55,0,45,40,20,30,50,45,35,0,5,0,25,0,0,10,40,0,55,10,30,55,30,55,20,40,40,55,45,15,30,20,25,30,5,15,25,25,25,0,55,55,30,50,45,0,45,55,35,55,25,10,10,5,55,45,0,10,20,55,40,55,0,50,10,35,15,0,45,15,5,30,45,55,15,0,5,0,0,25,55,30,35,20,15,50,0,5,0,0,0,55,25,30,5,50,5,55,30,55,55,50,25,40,40,55,10,40,5,20,45,10,0,15,0,50,35,0,30,30,35,10,55,0,20,55,30,30,35,20,40,25,30,30,25,30,45,20,15,30,25,0,0,5,35,15,0,0,20,55,30,35,55,10,35,30,0,30,0,40,15,5,45,35,45,30,30,0,35,15,20,15,25,0,0,5,0,40,55,5,45,0,35,5,55,5,55,45,0,20,10,55,0,20,40,25,10,35,40,0,30,45,10,30,0,25,20,30,45,25,10,15,35,40,30,0,0,5,5,0,30,0,20,20,15,25,25,10,5,35,15,20,20,40,30,25,0,55,0,30,35,55,0,10,45,25,25,25,20,5,20,20,15,55,0,30,40,25,50,55,0,0,0,5,0,0,30,55,45,50,30,0,45,45,10,55,55,0,30,15,25,15,20,55,40,55,0,10,5,5,5,55,35,45,50,50,45,50,10,30,30,35,45,0,15,0,45,0,35,30,40,40,10,0,45,5,15,35,30,30,45,35,15,25,20,55,35,10,15,55,35,20,15,45,45,10,0,0,45,0,45,15,55,55,10,20,55,0,20,5,25,45,40,50,10,45,10,5,0,5,40,50,15,15,55,0,45,0,55,50,30,40,55,55,45,35,55,5,10,15,25,30,0,55,40,20,55,30,15,15,55,0,55,25,15,10,55,45,30,25,35,0,5,10,15,30,10,0,50,0,0,20,20,5,10,55,0,0,30,35,50,0,55,55,20,55,50,40,5,0,25,0,10,20,30,35,20,40,20,10,15,45,50,35,50,30,55,50,45,15,25,5,5,5,0,55,10,0,35,0,15,30,5,45,5,30,55,55,45,0,45,15,0,30,20,55,0,35,35,5,40,30,30,50,30,5,5,30,10,0,10,0,30,25,55,55,0,0,45,15,50,0,55,20,55,0,0,0,5,35,30,0,0,30,0,30,0,0,30,35,0,15,15,30,45,50,5,30,30,20,30,30,25,30,25,10,35,55,20,20,5,0,45,50,15,30,55,0,55,0,0,5,50,20,40,40,0,0,25,40,20,0,50,15,20,5,0,0,10,20,20,25,40,55,5,35,10,20,0,45,55,35,10,25,40,10,30,50,45,15,20,55,45,45,5,45,30,40,30,20,10,30,50,0,55,55,10,0,50,35,55,0,10,10,55,15,40,5,50,55,0,10,5,40,35,0,5,35,50,20,30,30,10,45,0,25,15,30,10,0,0,0,25,15,15,25,0,45,5,0,35,50,55,40,45,20,50,20,55,40,15,45,10,0,5,15,0,35,0,55,20,0,55,0,55,50,20,15,45,45,0,50,0,50,5,5,20,10,15,0,35,10,20,15,10,30,30,25,15,55,10,10,5,35,15,50,30,0,40,30,30,55,0,10,30,30,55,55,55,15,55,5,35,40,0,30,55,45,45,50,0,50,15,55,55,35,20,10,25,25,50,30,35,30,30,0,25,20,0,40,20,0,15,55,0,0,30,25,30,0,15,20,35,0,45,25,0,30,55,0,50,30,25,0,10,55,30,30,25,25,5,0,10,50,25,10,5,55,30,30,0,30,40,25,30,30,55,10,15,55,5,55,55,55,10,55,0,5,45,10,10,40,55,30,5,15,55,50,0,10,20,55,0,55,0,15,10,0,20,45,20,20,0,55,55,0,20,25,30,5,30,55,45,10,10,45,5,10,0,0,0,20,30,50,10,10,10,25,30,10,10,10,30,25,30,35,0,20,55,30,50,50,30,25,10,10,0,10,0,55,20,45,15,55,0,10,5,30,30,50,35,35,15,45,15,10,0,10,15,0,40,0,45,0,10,30,25,30,0,5,15,5,5,30,0,55,0,50,0,50,30,15,20,0,20,15,20,0,0,55,5,25,10,0,10,45,30,25,0,25,55,25,0,35,55,0,0,10,30,20,15,25,0,0,30,55,10,15,55,15,25,15,15,0,20,25,0,25,20,0,0,35,0,0,55,15,30,0,50,40,15,5,30,0,45,35,55,15,55,0,5,25,50,45,40,25,55,45,15,0,20,10,30,20,45,55,15,30,50,25,15,0,15,35,20,30,10,45,40,10,15,0,30,50,5,30,0,55,50,25,20,20,35,45,30,40,10,20,25,40,15,40,5,30,0,45,45,35,25,0,45,0,10,50,30,45,5,10,20,40,40,45,55,55,0,30,15,10,20,30,40,0,30,30,0,0,40,0,0,30,45,35,0,10,50,35,30,30,55,30,0,35,55,30,10,0,0,5,15,25,55,0,25,25,15,55,30,0,55,25,55,15,0,20,55,0,0,55,0,10,50,0,35,20,25,20,40,50,10,0,0,25,50,20,5,30,40,30,0,0,0,5,55,10,20,0,15,35,10,45,30,20,15,5,25,20,20,10,30,0,55,45,0,0,50,35,55,15,50,0,55,25,45,0,5,45,30,5,10,40,30,25,0,50,15,55,0,10,55,20,40,10,55,50,30,15,15,5,0,15,55,15,45,50,55,45,25,0,55,45,40,45,30,10,40,5,50,30,40,25,30,15,0,35,50,10,55,30,25,0,0,40,15,30,35,30,15,45,55,50,15,0,0,0,0,25,5,10,20,30,30,45,10,25,0,55,55,30,15,0,0,0,5,45,30,20,35,50,0,10,40,20,5,5,30,0,30,45,40,0,30,35,0,0,0,20,25,55,35,45,35,0,5,30,45,0,55,20,35,40,15,5,5,20,10,0,25,15,0,45,10,45,15,55,50,35,0,0,10,50,50,20,55,0,10,15,10,25,40,55,0,30,30,15,5,0,35,55,0,0,25,50,45,25,55,10,5,0,30,30,45,30,25,50,10,0,0,45,5,10,0,25,0,45,0,30,0,20,5,0,45,30,35,35,30,50,0,10,35,30,25,55,0,0,30,30,10,30,20,20,25,0,55,30,50,30,15,30,45,30,30,5,15,0,25,0,35,0,25,20,0,50,55,55,50,25,25,15,0,5,25,0,30,40,5,55,45,10,25,45,50,25,55,45,45,30,10,5,5,30,45,10,10,30,0,50,55,30,30,55,0,0,30,0,40,0,35,35,10,55,0,0,5,0,0,0,50,0,55,0,30,40,0,0,45,10,0,30,50,0,45,45,55,45,30,30,30,55,15,55,5,55,10,20,20,40,20,45,45,0,15,30,45,50,50,50,30,20,50,40,30,15,10,50,0,25,0,55,55,30,0,0,5,40,0,5,15,10,0,10,45,0,10,50,0,25,45,55,50,15,20,5,10,35,45,15,15,10,30,5,0,0,55,0,5,5,10,5,25,0,5,35,5,10,0,0,20,30,40,5,30,35,55,10,35,10,15,30,5,30,55,25,5,10,30,45,0,55,25,0,25,5,15,35,45,25,25,30,0,10,0,40,55,15,55,40,30,0,40,5,5,40,15,45,10,30,0,15,10,20,40,55,10,0,55,40,0,10,55,30,0,0,5,15,40,55,45,20,30,35,45,45,0,20,30,20,30,25,0,50,55,20,20,0,15,5,0,20,35,5,20,0,10,0,20,5,55,5,35,5,30,20,10,30,0,20,5,55,45,50,35,0,0,0,10,40,0,10,30,10,0,10,45,40,5,15,45,5,45,0,15,50,20,10,15,0,5,40,15,35,55,15,55,10,0,0,20,10,0,40,55,30,45,30,30,25,30,35,20,0,40,50,0,30,0,35,50,30,15,5,0,5,0,10,0,50,5,55,0,55,25,10,0,35,30,30,5,5,20,15,5,30,5,5,45,0,35,15,45,30,30,20,10,50,55,0,15,0,0,55,35,25,45,30,0,30,20,0,10,45,0,5,30,35,35,50,40,0,15,15,35,0,55,45,35,50,5,15,0,15,25,10,0,25,15,10,40,20,0,30,35,25,0,20,35,35,30,40,0,40,0,55,5,10,50,10,45,0,35,55,30,10,5,35,5,0,30,5,0,0,5,10,10,35,0,50,25,5,30,55,35,55,30,50,55,10,55,30,5,45,0,55,5,25,20,0,5,10,20,5,0,45,30,55,55,50,15,20,45,30,45,30,10,0,35,55,0,40,10,30,25,0,50,45,55,0,10,30,0,0,5,45,45,10,0,40,35,10,0,0,50,0,45,5,50,20,25,20,30,55,0,40,10,15,25,0,0,10,0,55,25,0,0,5,35,10,50,5,5,25,5,0,10,0,55,30,30,30,0,0,55,25,0,30,50,20,0,25,55,55,50,10,20,5,30,15,30,35,25,40,30,30,0,35,30,40,45,15,5,0,55,0,45,0,55,30,55,55,15,30,45,30,0,30,0,25,10,55,10,5,35,5,55,45,55,5,25,30,0,0,0,15,40,40,40,55,45,35,5,40,30,50,10,25,0,5,55,5,0,0,0,30,0,20,30,50,0,5,25,55,0,20,30,30,45,25,0,0,20,40,30,0,30,30,30,25,30,0,55,0,10,0,0,10,10,30,50,25,0,15,35,40,25,0,55,0,0,35,55,10,45,10,30,20,10,25,50,0,15,25,10,15,35,45,0,25,45,35,25,30,30,35,30,5,55,45,0,15,55,25,5,55,50,0,25,0,15,25,50,0,0,25,0,45,0,55,10,0,0,45,35,5,55,30,55,5,35,15,55,15,40,0,25,30,0,5,20,0,35,25,45,0,30,55,30,5,55,15,10,45,0,45,25,0,0,30,5,0,35,30,50,20,35,10,0,10,40,55,35,0,40,0,45,55,20,10,35,0,10,15,5,45,0,0,0,0,25,0,10,5,45,0,15,40,0,0,25,5,15,20,35,5,15,15,45,45,30,45,0,45,15,50,0,10,40,10,55,0,20,30,40,15,0,20,0,10,10,0,0,10,45,10,10,0,0,0,0,35,30,55,30,35,55,30,55,0,10,35,0,0,30,40,50,0,5,35,15,45,5,30,10,30,25,35,15,55,30,55,55,20,0,30,5,45,55,45,55,5,30,0,10,5,0,55,25,50,55,20,35,0,30,30,15,15,10,45,45,0,15,0,40,0,55,10,45,40,30,5,30,40,0,15,25,40,30,30,50,55,40,45,35,30,0,0,15,35,55,50,0,0,50,25,0,55,35,15,55,10,25,0,30,45,35,20,55,15,45,45,15,25,15,0,55,15,30,20,0,5,0,55,25,0,30,10,30,15,50,55,10,15,50,55,10,5,20,30,0,15,45,25,20,15,0,45,55,30,5,55,40,35,45,0,30,5,0,45,10,35,0,45,5,0,0,5,50,0,30,10,0,10,30,0,10,40,45,0,20,55,15,40,30,15,35,55,45,35,45,45,5,20,35,15,10,0,15,45,30,20,25,20,10,40,50,55,0,0,25,35,35,55,55,30,10,50,5,0,25,55,30,5,15,50,35,20,15,45,15,25,25,20,0,55,45,30,25,0,30,45,15,5,5,30,40,30,0,40,10,30,5,10,30,0,10,5,15,0,0,0,0,30,20,5,55,30,15,40,20,0,0,0,35,30,0,0,5,35,0,45,45,0,55,50,20,45,10,30,45,0,35,40,55,35,30,30,55,50,10,45,30,5,35,55,10,15,30,45,0,50,5,0,50,0,0,0,0,20,35,40,35,55,35,0,30,5,30,25,0,0,25,55,0,45,30,35,15,0,45,15,55,5,0,40,0,10,20,20,0,45,50,55,5,45,40,40,15,5,30,5,40,30,0,45,30,45,0,35,20,0,50,0,45,5,55,10,45,15,10,25,0,10,20,55,40,40,45,50,10,10,0,10,15,20,45,20,0,0,5,5,25,15,55,45,0,30,20,0,0,20,55,5,20,30,50,10,40,25,0,25,0,10,45,45,0,25,25,5,35,40,45,50,0,0,0,55,50,45,0,20,15,5,25,10,10,35,10,0,45,0,20,25,20,0,15,10,0,0,35,0,55,55,55,30,20,5,30,30,30,5,0,10,0,50,15,55,45,20,20,50,40,0,0,20,35,5,10,35,35,10,0,35,30,15,25,5,30,0,0,25,0,25,40,0,45,55,15,40,10,0,20,0,5,15,10,10,50,55,55,0,55,20,30,15,5,0,50,10,0,30,50,5,0,35,35,55,0,0,20,35,0,20,20,50,5,25,45,15,0,30,55,40,15,50,15,15,35,0,10,0,0,10,0,15,45,0,55,45,40,30,0,45,30,55,50,55,55,25,50,45,0,5,0,15,0,25,0,45,50,30,40,30,25,45,30,10,0,50,30,10,30,15,10,50,0,10,45,5,30,35,0,40,15,45,10,20,40,5,55,15,0,30,0,0,30,55,0,0,30,55,5,20,15,0,0,55,50,35,10,25,15,30,10,50,55,30,0,5,45,5,0,0,55,5,30,30,0,20,35,0,30,30,30,35,50,0,15,45,35,30,0,15,50,25,30,35,45,10,10,25,45,40,50,30,0,35,30,15,25,0,50,30,5,20,0,0,5,50,0,15,10,25,45,50,40,0,0,10,50,15,50,15,15,35,10,25,55,45,45,55,55,5,55,55,55,5,5,5,5,20,0,20,20,0,10,35,15,0,10,0,15,55,0,30,0,0,30,10,0,40,10,25,45,25,55,40,55,10,0,35,20,40,30,55,35,15,50,5,50,0,0,5,0,40,25,40,30,5,20,30,20,10,40,15,35,5,5,0,45,50,15,55,10,45,30,20,55,25,40,25,10,20,0,35,50,55,55,55,20,0,55,0,0,10,35,55,35,45,10,10,35,55,15,50,30,15,40,45,40,40,0,35,0,0,35,30,0,10,0,35,30,30,55,55,35,0,0,35,10,50,30,10,25,55,25,40,20,15,35,45,25,0,30,0,50,50,35,15,5,0,45,25,35,50,30,20,5,45,0,5,30,35,0,10,10,20,30,15,0,10,20,0,20,5,55,10,40,10,10,20,5,45,10,15,30,30,50,10,0,0,30,15,50,30,15,10,55,35,45,50,45,0,15,10,20,10,10,30,5,25,55,35,20,30,0,30,10,45,25,30,10,0,10,15,55,55,55,50,30,35,40,10,25,45,15,20,25,30,0,0,40,0,0,30,0,30,30,15,10,35,45,0,5,30,0,50,0,10,10,35,30,0,45,50,55,35,10,0,45,10,10,25,55,50,40,30,0,20,0,0,10,55,5,0,10,20,35,30,5,5,30,0,35,15,0,30,15,45,45,55,55,30,35,30,55,50,0,0,10,5,30,55,35,5,55,50,20,30,15,5,50,30,0,40,25,0,5,45,0,20,45,55,0,45,0,0,0,0,15,50,45,55,40,5,50,0,5,5,30,15,30,30,35,15,10,45,0,0,55,45,55,30,15,20,15,30,0,0,30,15,10,50,30,40,5,10,0,0,15,30,20,10,55,35,50,10,30,10,30,0,5,55,0,45,55,55,35,55,35,0,45,20,30,30,30,45,0,35,40,40,0,0,40,30,5,10,0,35,55,40,25,20,20,5,30,15,50,0,30,35,25,0,0,10,0,55,0,30,15,30,45,35,40,0,45,45,30,20,10,55,5,45,5,55,45,55,55,55,40,0,55,10,30,50,15,45,0,10,55,35,10,50,15,15,20,30,15,0,55,10,10,20,0,45,50,55,0,30,10,15,35,0,45,55,10,30,10,30,0,0,10,30,45,0,0,25,0,40,15,0,35,15,50,10,5,50,15,50,0,5,10,55,25,15,10,10,0,5,0,20,0,25,10,45,35,55,55,55,0,5,45,40,30,40,35,35,45,30,50,15,30,35,0,25,30,0,0,25,55,5,55,0,30,55,5,55,20,10,15,35,55,0,55,30,10,55,30,30,5,50,0,10,30,30,45,55,35,5,45,20,45,30,55,5,55,0,30,0,55,25,55,55,30,0,0,0,35,55,55,0,55,25,30,20,50,5,10,45,5,55,15,10,55,30,20,0,55,0,5,55,30,0,35,0,5,25,30,0,15,10,25,50,45,30,55,20,5,30,0,55,30,5,0,50,35,45,50,0,35,0,25,50,30,20,0,5,10,55,55,30,25,25,35,30,45,0,35,15,30,10,35,40,30,20,30,40,30,55,25,55,5,0,30,50,0,5,55,0,30,0,0,25,35,55,35,25,0,40,45,30,0,10,10,45,50,0,25,0,0,0,10,55,20,15,55,15,40,20,15,30,25,0,0,35,10,45,45,45,10,55,40,30,55,35,20,50,40,0,30,55,35,0,10,15,30,45,35,15,35,30,35,20,10,0,55,10,45,0,30,0,55,0,20,25,0,40,0,0,5,10,10,10,40,20,0,0,0,30,10,35,0,15,15,30,25,30,15,5,30,25,0,45,20,45,0,0,0,10,15,30,10,0,20,5,20,30,10,30,45,20,45,40,35,50,10,45,30,25,0,35,45,35,10,35,0,0,45,0,25,55,30,55,45,10,55,45,10,35,10,30,50,35,30,10,45,25,20,0,55,10,45,45,55,40,0,40,55,25,0,10,30,20,0,45,0,0,50,55,5,30,0,55,50,15,40,35,5,25,25,25,30,40,45,25,15,25,10,55,5,25,10,20,10,50,0,5,50,30,30,0,10,0,30,40,20,25,50,55,25,0,25,0,0,10,45,10,55,0,45,0,0,30,5,0,45,50,25,15,0,45,50,0,20,35,10,0,30,10,10,5,50,10,20,45,20,10,35,15,10,20,0,0,30,40,15,45,30,10,20,20,55,0,25,50,0,20,20,15,55,0,15,20,5,55,5,55,10,35,5,15,10,0,25,10,55,55,30,55,30,0,0,45,0,40,0,10,5,5,55,40,30,55,30,15,10,5,0,40,0,5,50,35,20,35,15,55,55,5,45,0,55,50,30,0,20,55,0,35,5,30,45,0,30,35,0,45,0,35,20,50,0,40,55,35,20,45,30,10,0,30,0,25,35,35,35,0,0,45,35,0,0,35,30,0,55,30,0,25,10,25,35,45,10,15,5,15,5,35,10,0,35,35,45,30,10,30,50,10,20,5,30,0,45,55,50,0,0,30,10,0,5,45,30,45,55,25,55,20,0,30,5,5,10,20,5,35,20,5,5,35,15,30,45,15,45,40,50,55,40,30,0,0,0,45,55,20,25,10,40,15,5,0,20,25,0,45,50,55,30,45,0,5,40,55,25,15,10,50,10,30,25,0,10,30,45,15,40,35,10,5,30,20,10,10,25,0,5,0,20,30,25,50,0,40,45,10,50,55,40,0,30,55,30,0,40,25,50,25,50,0,0,55,0,0,45,45,0,0,20,55,40,25,5,45,30,10,35,10,0,55,55,45,0,0,30,45,25,40,35,50,45,30,20,15,15,30,35,30,45,20,55,55,30,0,55,10,10,30,20,45,15,5,0,0,35,10,35,40,0,0,10,15,5,0,35,15,15,55,15,45,0,15,30,55,30,45,25,0,30,0,5,0,0,45,0,50,10,30,0,15,35,25,0,45,55,45,5,30,0,15,5,0,55,15,30,45,55,0,20,35,30,0,45,20,20,20,10,10,35,0,0,15,55,15,0,50,55,30,45,0,55,0,10,35,30,25,30,5,50,0,50,0,20,0,15,0,20,55,55,30,55,0,20,0,30,50,50,30,15,15,10,30,0,25,40,0,20,55,15,0,0,25,45,30,35,45,45,55,5,0,55,20,0,5,10,0,5,45,0,50,35,40,45,0,10,45,5,25,40,0,30,0,15,25,0,50,40,10,5,35,50,5,0,25,25,30,30,20,55,10,55,55,10,10,25,0,15,0,0,35,0,10,50,55,5,25,55,5,20,55,30,20,0,35,15,55,5,35,35,55,30,20,45,45,0,15,0,0,45,30,0,0,45,40,25,25,35,0,0,0,15,10,55,15,5,25,30,30,10,40,35,10,45,15,0,40,15,30,55,55,30,45,35,10,0,30,40,55,20,45,15,25,55,0,5,50,30,5,30,15,25,0,5,35,45,30,45,40,0,55,50,0,35,25,35,10,20,0,25,0,0,55,50,15,55,0,45,15,50,0,55,30,25,10,10,55,15,0,5,0,25,5,0,25,10,0,40,0,0,30,45,10,30,35,0,0,0,0,5,45,5,25,0,0,10,45,35,30,10,30,35,20,5,5,50,20,20,55,30,30,0,30,0,25,50,5,25,30,10,15,0,0,50,5,10,10,0,5,10,0,15,45,30,20,15,55,0,50,15,0,40,55,50,15,25,35,15,5,55,30,15,35,45,55,5,0,25,50,10,5,15,25,10,30,10,0,5,0,20,5,0,5,30,50,35,55,30,15,55,20,20,35,35,0,45,45,25,35,30,30,25,45,45,50,0,0,20,55,15,40,0,0,55,35,40,55,5,30,45,40,40,15,40,15,45,10,0,0,0,0,40,25,0,45,45,0,5,50,0,0,50,30,5,5,50,35,25,30,30,30,20,20,30,45,30,35,0,35,55,30,5,55,35,20,35,30,30,55,15,30,30,10,25,5,10,15,35,55,30,20,45,0,5,15,30,20,25,45,15,40,0,30,10,45,20,55,30,5,30,0,25,10,25,45,55,15,45,0,55,0,35,25,40,55,5,0,45,10,0,0,40,30,0,25,10,45,30,50,30,0,15,15,30,0,15,0,35,0,0,10,30,10,0,55,20,15,45,45,45,55,30,0,40,50,45,35,45,20,45,0,30,55,45,5,55,55,15,50,35,30,35,10,50,55,0,45,40,35,10,5,15,0,30,50,30,0,15,50,5,40,30,10,30,5,0,45,10,40,10,35,0,0,30,0,10,25,0,0,55,50,40,45,55,20,10,20,0,45,25,30,40,0,5,25,15,20,25,10,10,45,0,55,15,50,55,20,20,55,25,20,35,15,45,40,20,25,0,55,45,0,10,30,25,0,35,10,35,15,20,0,35,25,0,20,55,0,45,10,50,30,15,15,55,10,10,20,55,35,30,40,0,0,0,45,30,20,20,0,45,10,45,10,10,35,0,0,15,15,30,40,35,15,35,5,50,55,55,20,5,50,25,25,40,30,50,5,5,55,0,0,30,45,0,45,55,30,55,55,25,15,30,55,15,0,30,25,0,30,55,55,40,10,0,5,30,40,0,55,0,35,40,10,40,0,0,5,45,20,10,10,10,35,30,25,20,20,30,35,0,30,25,50,30,15,5,25,30,35,15,5,10,20,45,40,50,15,5,10,10,10,40,25,45,0,30,45,0,15,45,5,50,20,0,20,25,55,0,0,40,15,25,45,45,5,45,45,15,35,35,0,45,55,55,55,55,40,20,15,0,40,35,15,40,35,55,25,45,15,5,50,0,55,20,10,5,20,40,50,0,20,45,0,5,25,55,5,50,35,25,45,55,0,35,5,35,50,0,50,35,10,55,30,45,35,0,10,40,0,0,20,45,20,10,10,5,50,30,0,55,10,10,40,0,40,40,0,15,0,40,30,0,0,0,45,10,50,55,5,55,30,25,25,0,20,15,5,55,0,35,45,30,25,15,30,15,40,35,45,30,50,10,30,30,40,10,20,15,15,5,0,45,20,15,30,30,15,50,25,15,30,55,0,0,0,55,50,10,30,55,55,45,45,30,45,45,45,30,55,55,45,5,0,50,40,10,0,0,55,15,0,30,15,35,40,0,45,35,10,30,55,0,0,30,10,55,55,55,30,55,10,5,45,30,55,25,45,30,0,5,55,50,20,35,45,0,0,10,30,15,35,0,15,45,55,30,10,25,0,10,50,15,0,50,30,0,10,0,0,15,50,10,0,45,40,55,50,5,15,45,50,0,45,15,5,55,45,45,20,5,15,25,25,20,30,45,55,0,0,45,5,0,30,55,45,45,0,15,10,5,55,0,0,30,50,45,10,20,55,10,50,0,0,20,40,25,45,0,50,0,30,5,30,0,55,20,50,0,45,5,45,0,15,30,5,0,0,25,20,55,35,5,0,30,0,25,0,10,0,55,55,20,20,45,25,25,30,45,15,35,55,45,0,30,55,0,45,35,50,10,30,5,55,55,10,30,40,35,30,20,0,0,35,30,25,55,5,10,5,35,10,40,20,40,35,0,20,20,30,20,10,55,45,5,30,25,25,40,5,30,5,50,0,15,25,55,30,30,45,0,5,40,0,15,25,5,20,40,0,0,35,0,0,0,55,55,30,10,30,0,30,10,20,20,35,0,55,40,35,30,0,0,25,0,55,40,10,0,25,25,20,10,45,15,0,0,30,30,10,0,0,30,55,0,45,15,20,5,20,55,40,25,55,10,30,5,0,45,0,40,0,25,45,45,20,35,25,50,10,0,0,35,50,35,0,5,30,45,40,35,15,30,0,55,30,55,5,20,45,0,0,10,0,45,30,0,50,20,30,0,50,10,0,10,35,55,45,45,10,15,55,25,40,5,30,30,5,30,50,15,30,10,30,30,35,25,0,0,30,55,15,45,55,45,15,0,0,0,55,30,55,10,25,5,20,45,5,15,30,35,30,5,5,25,30,0,10,0,30,30,0,30,10,25,0,0,0,0,45,25,45,30,0,0,30,5,10,0,25,15,35,10,30,55,30,0,0,0,0,50,35,0,10,30,40,50,55,15,0,45,55,0,10,0,5,10,10,20,0,15,15,55,30,10,5,10,15,15,45,45,0,0,30,15,25,0,30,30,20,40,25,30,15,0,30,0,35,40,5,50,20,50,40,5,5,10,35,5,25,55,20,35,35,20,55,20,45,0,25,20,45,40,40,40,50,10,50,55,15,25,30,35,20,55,0,50,30,45,15,20,0,30,40,50,25,45,50,10,15,5,15,5,55,15,0,35,0,15,5,30,0,25,55,40,0,0,55,0,30,0,55,30,15,30,5,35,35,10,5,35,50,5,0,30,20,50,55,15,0,0,5,55,0,5,40,30,20,25,20,0,15,0,5,20,45,15,25,5,0,25,30,10,55,40,0,45,0,55,45,55,0,20,0,45,45,5,25,10,15,30,0,0,0,15,0,25,30,0,30,0,5,20,30,45,30,25,35,10,20,0,5,15,35,10,0,55,30,50,0,45,15,30,55,10,0,15,55,45,50,30,25,30,40,5,15,40,0,45,30,0,55,55,5,10,45,40,0,45,0,15,25,0,25,10,35,10,20,5,0,45,20,30,5,45,55,55,55,55,45,0,25,25,30,45,0,10,55,55,15,35,0,0,40,15,55,30,45,25,0,0,50,55,55,55,55,50,0,55,30,5,20,40,20,30,0,0,35,45,10,0,5,20,30,30,30,35,0,0,10,40,15,20,55,35,25,45,55,30,15,20,0,25,30,5,15,50,25,10,35,50,25,50,40,0,0,35,45,35,5,30,35,15,10,5,30,0,45,0,45,0,55,0,45,10,10,0,45,0,0,50,5,55,25,0,0,30,10,0,45,55,30,5,0,35,0,0,55,55,30,0,45,10,20,55,0,15,30,25,40,25,25,55,0,40,0,25,10,10,0,5,50,45,0,40,45,5,45,30,30,15,0,45,20,0,0,35,30,10,0,0,30,5,20,35,25,55,40,45,55,0,5,20,0,0,30,55,55,0,10,30,25,50,55,40,50,50,45,25,25,45,5,30,0,30,0,0,15,35,55,45,0,30,0,20,35,45,20,30,0,0,0,50,10,55,55,30,20,40,5,20,0,45,25,5,45,30,0,10,15,45,10,0,5,0,0,55,15,20,45,30,35,45,35,50,10,5,0,30,0,25,30,55,45,0,40,30,15,30,45,15,25,5,10,0,0,30,35,30,0,15,0,40,45,25,0,0,10,25,15,25,20,55,0,50,25,10,40,30,40,10,50,55,55,50,30,55,5,20,25,50,25,50,55,55,15,0,35,0,45,25,15,20,0,55,0,15,45,55,5,0,55,30,30,0,25,40,0,40,5,50,0,45,35,0,40,0,15,10,0,25,35,30,0,40,30,55,0,0,50,15,20,20,0,20,30,35,55,40,25,45,5,40,15,10,15,0,20,25,45,55,0,50,50,15,30,50,30,0,30,10,40,50,30,0,35,55,15,0,5,45,30,30,10,0,0,0,5,10,50,45,30,15,35,50,55,50,25,45,10,45,30,20,25,25,55,0,30,30,5,30,35,55,45,55,10,5,25,35,25,5,25,35,45,45,20,40,30,5,35,30,0,55,5,30,5,50,55,55,0,45,30,55,15,30,25,50,55,20,20,25,25,0,20,5,55,25,50,0,0,40,15,0,0,55,0,45,5,50,5,10,55,0,45,25,30,15,0,40,15,25,15,20,5,50,35,0,0,0,30,40,0,0,25,50,25,0,25,20,0,0,25,0,20,10,45,35,35,20,55,45,55,55,45,5,30,55,35,20,25,30,45,30,45,0,40,15,45,5,40,45,5,40,5,0,0,30,10,55,15,15,0,45,15,35,30,35,25,25,10,0,0,25,25,30,0,25,45,55,45,10,0,40,10,30,35,0,0,5,15,0,50,10,40,40,0,20,10,25,0,30,50,5,30,50,0,55,35,5,45,30,25,35,25,0,10,40,45,15,35,40,45,40,20,35,10,0,30,20,50,50,0,5,20,45,50,5,5,45,15,50,30,0,20,45,55,45,30,55,10,40,50,35,35,5,20,50,25,10,0,0,15,20,0,30,45,45,25,35,0,20,0,0,0,5,0,30,0,5,10,55,0,25,20,0,0,0,0,30,55,45,45,50,50,50,15,25,55,50,20,10,0,50,30,30,45,15,5,40,0,10,45,50,10,45,5,0,25,10,50,40,0,50,20,15,55,30,10,0,20,25,0,30,55,0,0,0,0,55,10,20,0,30,30,20,55,50,25,35,0,25,55,20,35,40,30,5,30,25,50,10,25,45,40,55,35,30,55,10,30,30,55,45,50,30,35,50,0,15,0,30,35,0,25,40,40,0,55,5,45,0,0,5,30,0,0,30,50,45,30,25,45,20,10,30,0,45,25,55,45,0,30,5,35,40,50,35,0,15,0,55,55,5,55,30,10,35,0,55,0,10,35,45,10,0,5,30,0,25,20,30,35,10,20,30,55,20,0,55,45,0,0,40,40,45,35,50,0,50,35,25,45,20,15,20,20,40,35,5,0,55,55,50,45,30,0,5,20,30,40,55,5,45,35,30,20,0,25,20,25,50,15,5,0,45,45,5,50,0,0,25,10,10,25,55,20,5,50,5,40,30,5,30,55,45,35,55,20,0,55,20,15,0,30,0,55,0,20,45,30,0,25,55,50,0,30,5,0,55,45,40,0,0,55,30,0,50,55,30,0,35,30,35,15,25,50,35,0,0,35,35,10,0,20,30,0,0,50,0,35,55,50,40,30,0,5,45,10,25,30,30,5,55,25,30,30,55,25,0,50,30,25,10,30,55,10,5,25,0,10,20,0,20,55,30,10,10,35,45,45,10,0,15,0,5,0,0,35,35,0,55,20,30,5,5,50,0,20,20,45,30,0,10,45,0,40,35,10,20,0,45,45,25,30,10,30,0,30,15,0,15,35,20,55,55,40,50,50,30,15,10,0,50,15,0,5,20,0,40,55,20,30,0,0,45,5,55,35,55,20,15,5,10,40,30,55,50,0,0,10,0,10,15,0,35,40,30,10,30,10,25,55,20,15,35,0,10,55,15,40,30,35,55,15,30,5,0,45,10,50,50,30,0,55,0,0,15,0,20,0,45,50,30,35,0,25,10,35,55,10,55,35,5,55,10,50,55,35,30,10,0,45,55,0,25,35,45,20,30,0,0,20,45,0,10,30,50,0,35,20,40,30,15,5,30,20,10,30,5,5,45,10,30,45,35,25,20,45,45,5,0,35,35,45,5,45,30,0,20,15,55,0,20,55,45,45,40,20,30,20,0,0,10,55,10,0,40,50,30,20,0,0,35,30,5,20,35,5,0,45,30,30,0,0,45,0,55,0,30,40,55,30,10,25,30,30,0,55,0,0,10,55,25,20,0,30,0,45,55,0,0,30,10,50,25,10,5,45,25,20,0,5,30,35,45,30,10,0,0,0,25,30,25,20,40,0,45,55,55,30,0,0,5,5,0,30,0,0,50,5,30,50,35,40,55,10,25,10,50,50,55,20,20,55,55,45,55,30,20,0,40,55,15,15,30,50,30,0,55,15,5,5,35,25,25,35,55,0,10,20,25,0,0,0,20,30,15,0,50,20,10,0,50,50,0,0,5,0,5,45,50,0,55,10,25,35,0,50,55,5,35,25,25,10,0,30,0,50,10,55,30,30,30,15,35,55,5,45,20,45,20,0,35,10,15,30,25,50,20,15,45,30,0,45,50,45,35,25,35,20,0,0,30,0,10,30,35,50,25,10,55,25,30,5,0,45,30,45,5,0,0,10,10,10,40,15,45,55,15,0,55,5,0,40,5,25,10,25,55,5,30,40,30,0,50,45,5,35,0,0,15,5,50,0,45,55,20,55,25,55,50,40,55,55,30,30,25,10,0,35,0,0,20,0,0,35,20,45,0,0,55,5,5,10,35,50,30,0,45,15,30,45,35,50,55,55,5,40,20,45,25,0,45,5,0,5,25,45,5,20,25,0,0,45,15,45,5,45,0,0,50,0,10,45,35,45,55,15,40,20,25,45,45,45,35,50,20,30,5,15,55,0,0,55,30,15,0,45,45,10,0,30,40,45,30,15,0,20,35,5,10,30,30,40,45,25,55,55,45,30,45,10,45,40,10,50,0,0,40,20,55,55,55,45,10,45,0,40,30,5,0,25,55,10,55,35,15,20,55,35,45,5,10,25,15,35,40,55,40,20,30,25,55,35,55,30,45,55,55,10,40,25,25,10,5,35,20,5,35,55,10,40,10,0,0,10,45,15,5,50,0,35,30,0,30,45,25,30,10,10,40,0,20,0,35,30,5,40,0,55,45,20,55,10,30,30,30,5,35,5,10,55,0,45,5,0,0,40,45,10,45,10,0,25,40,0,55,55,15,15,5,0,0,40,10,55,10,15,0,15,55,0,0,30,5,55,50,45,20,55,35,25,0,30,30,40,10,35,50,35,0,30,50,0,10,30,0,5,5,10,10,0,30,5,5,20,20,50,25,35,40,20,0,10,50,0,15,5,15,5,45,15,15,15,0,5,30,25,0,55,45,5,0,0,15,15,0,20,20,0,0,30,0,25,10,30,0,15,5,0,55,20,15,40,35,0,50,15,15,45,5,20,40,40,0,55,5,55,0,0,15,40,50,30,55,25,15,15,55,20,0,35,5,30,50,55,25,35,55,15,5,55,55,0,0,10,0,10,0,25,30,55,15,15,55,40,0,50,5,5,25,35,20,20,55,55,45,20,30,55],\"type\":\"box\"}],                        {\"template\":{\"data\":{\"histogram2dcontour\":[{\"type\":\"histogram2dcontour\",\"colorbar\":{\"outlinewidth\":0,\"ticks\":\"\"},\"colorscale\":[[0.0,\"#0d0887\"],[0.1111111111111111,\"#46039f\"],[0.2222222222222222,\"#7201a8\"],[0.3333333333333333,\"#9c179e\"],[0.4444444444444444,\"#bd3786\"],[0.5555555555555556,\"#d8576b\"],[0.6666666666666666,\"#ed7953\"],[0.7777777777777778,\"#fb9f3a\"],[0.8888888888888888,\"#fdca26\"],[1.0,\"#f0f921\"]]}],\"choropleth\":[{\"type\":\"choropleth\",\"colorbar\":{\"outlinewidth\":0,\"ticks\":\"\"}}],\"histogram2d\":[{\"type\":\"histogram2d\",\"colorbar\":{\"outlinewidth\":0,\"ticks\":\"\"},\"colorscale\":[[0.0,\"#0d0887\"],[0.1111111111111111,\"#46039f\"],[0.2222222222222222,\"#7201a8\"],[0.3333333333333333,\"#9c179e\"],[0.4444444444444444,\"#bd3786\"],[0.5555555555555556,\"#d8576b\"],[0.6666666666666666,\"#ed7953\"],[0.7777777777777778,\"#fb9f3a\"],[0.8888888888888888,\"#fdca26\"],[1.0,\"#f0f921\"]]}],\"heatmap\":[{\"type\":\"heatmap\",\"colorbar\":{\"outlinewidth\":0,\"ticks\":\"\"},\"colorscale\":[[0.0,\"#0d0887\"],[0.1111111111111111,\"#46039f\"],[0.2222222222222222,\"#7201a8\"],[0.3333333333333333,\"#9c179e\"],[0.4444444444444444,\"#bd3786\"],[0.5555555555555556,\"#d8576b\"],[0.6666666666666666,\"#ed7953\"],[0.7777777777777778,\"#fb9f3a\"],[0.8888888888888888,\"#fdca26\"],[1.0,\"#f0f921\"]]}],\"heatmapgl\":[{\"type\":\"heatmapgl\",\"colorbar\":{\"outlinewidth\":0,\"ticks\":\"\"},\"colorscale\":[[0.0,\"#0d0887\"],[0.1111111111111111,\"#46039f\"],[0.2222222222222222,\"#7201a8\"],[0.3333333333333333,\"#9c179e\"],[0.4444444444444444,\"#bd3786\"],[0.5555555555555556,\"#d8576b\"],[0.6666666666666666,\"#ed7953\"],[0.7777777777777778,\"#fb9f3a\"],[0.8888888888888888,\"#fdca26\"],[1.0,\"#f0f921\"]]}],\"contourcarpet\":[{\"type\":\"contourcarpet\",\"colorbar\":{\"outlinewidth\":0,\"ticks\":\"\"}}],\"contour\":[{\"type\":\"contour\",\"colorbar\":{\"outlinewidth\":0,\"ticks\":\"\"},\"colorscale\":[[0.0,\"#0d0887\"],[0.1111111111111111,\"#46039f\"],[0.2222222222222222,\"#7201a8\"],[0.3333333333333333,\"#9c179e\"],[0.4444444444444444,\"#bd3786\"],[0.5555555555555556,\"#d8576b\"],[0.6666666666666666,\"#ed7953\"],[0.7777777777777778,\"#fb9f3a\"],[0.8888888888888888,\"#fdca26\"],[1.0,\"#f0f921\"]]}],\"surface\":[{\"type\":\"surface\",\"colorbar\":{\"outlinewidth\":0,\"ticks\":\"\"},\"colorscale\":[[0.0,\"#0d0887\"],[0.1111111111111111,\"#46039f\"],[0.2222222222222222,\"#7201a8\"],[0.3333333333333333,\"#9c179e\"],[0.4444444444444444,\"#bd3786\"],[0.5555555555555556,\"#d8576b\"],[0.6666666666666666,\"#ed7953\"],[0.7777777777777778,\"#fb9f3a\"],[0.8888888888888888,\"#fdca26\"],[1.0,\"#f0f921\"]]}],\"mesh3d\":[{\"type\":\"mesh3d\",\"colorbar\":{\"outlinewidth\":0,\"ticks\":\"\"}}],\"scatter\":[{\"fillpattern\":{\"fillmode\":\"overlay\",\"size\":10,\"solidity\":0.2},\"type\":\"scatter\"}],\"parcoords\":[{\"type\":\"parcoords\",\"line\":{\"colorbar\":{\"outlinewidth\":0,\"ticks\":\"\"}}}],\"scatterpolargl\":[{\"type\":\"scatterpolargl\",\"marker\":{\"colorbar\":{\"outlinewidth\":0,\"ticks\":\"\"}}}],\"bar\":[{\"error_x\":{\"color\":\"#2a3f5f\"},\"error_y\":{\"color\":\"#2a3f5f\"},\"marker\":{\"line\":{\"color\":\"#E5ECF6\",\"width\":0.5},\"pattern\":{\"fillmode\":\"overlay\",\"size\":10,\"solidity\":0.2}},\"type\":\"bar\"}],\"scattergeo\":[{\"type\":\"scattergeo\",\"marker\":{\"colorbar\":{\"outlinewidth\":0,\"ticks\":\"\"}}}],\"scatterpolar\":[{\"type\":\"scatterpolar\",\"marker\":{\"colorbar\":{\"outlinewidth\":0,\"ticks\":\"\"}}}],\"histogram\":[{\"marker\":{\"pattern\":{\"fillmode\":\"overlay\",\"size\":10,\"solidity\":0.2}},\"type\":\"histogram\"}],\"scattergl\":[{\"type\":\"scattergl\",\"marker\":{\"colorbar\":{\"outlinewidth\":0,\"ticks\":\"\"}}}],\"scatter3d\":[{\"type\":\"scatter3d\",\"line\":{\"colorbar\":{\"outlinewidth\":0,\"ticks\":\"\"}},\"marker\":{\"colorbar\":{\"outlinewidth\":0,\"ticks\":\"\"}}}],\"scattermapbox\":[{\"type\":\"scattermapbox\",\"marker\":{\"colorbar\":{\"outlinewidth\":0,\"ticks\":\"\"}}}],\"scatterternary\":[{\"type\":\"scatterternary\",\"marker\":{\"colorbar\":{\"outlinewidth\":0,\"ticks\":\"\"}}}],\"scattercarpet\":[{\"type\":\"scattercarpet\",\"marker\":{\"colorbar\":{\"outlinewidth\":0,\"ticks\":\"\"}}}],\"carpet\":[{\"aaxis\":{\"endlinecolor\":\"#2a3f5f\",\"gridcolor\":\"white\",\"linecolor\":\"white\",\"minorgridcolor\":\"white\",\"startlinecolor\":\"#2a3f5f\"},\"baxis\":{\"endlinecolor\":\"#2a3f5f\",\"gridcolor\":\"white\",\"linecolor\":\"white\",\"minorgridcolor\":\"white\",\"startlinecolor\":\"#2a3f5f\"},\"type\":\"carpet\"}],\"table\":[{\"cells\":{\"fill\":{\"color\":\"#EBF0F8\"},\"line\":{\"color\":\"white\"}},\"header\":{\"fill\":{\"color\":\"#C8D4E3\"},\"line\":{\"color\":\"white\"}},\"type\":\"table\"}],\"barpolar\":[{\"marker\":{\"line\":{\"color\":\"#E5ECF6\",\"width\":0.5},\"pattern\":{\"fillmode\":\"overlay\",\"size\":10,\"solidity\":0.2}},\"type\":\"barpolar\"}],\"pie\":[{\"automargin\":true,\"type\":\"pie\"}]},\"layout\":{\"autotypenumbers\":\"strict\",\"colorway\":[\"#636efa\",\"#EF553B\",\"#00cc96\",\"#ab63fa\",\"#FFA15A\",\"#19d3f3\",\"#FF6692\",\"#B6E880\",\"#FF97FF\",\"#FECB52\"],\"font\":{\"color\":\"#2a3f5f\"},\"hovermode\":\"closest\",\"hoverlabel\":{\"align\":\"left\"},\"paper_bgcolor\":\"white\",\"plot_bgcolor\":\"#E5ECF6\",\"polar\":{\"bgcolor\":\"#E5ECF6\",\"angularaxis\":{\"gridcolor\":\"white\",\"linecolor\":\"white\",\"ticks\":\"\"},\"radialaxis\":{\"gridcolor\":\"white\",\"linecolor\":\"white\",\"ticks\":\"\"}},\"ternary\":{\"bgcolor\":\"#E5ECF6\",\"aaxis\":{\"gridcolor\":\"white\",\"linecolor\":\"white\",\"ticks\":\"\"},\"baxis\":{\"gridcolor\":\"white\",\"linecolor\":\"white\",\"ticks\":\"\"},\"caxis\":{\"gridcolor\":\"white\",\"linecolor\":\"white\",\"ticks\":\"\"}},\"coloraxis\":{\"colorbar\":{\"outlinewidth\":0,\"ticks\":\"\"}},\"colorscale\":{\"sequential\":[[0.0,\"#0d0887\"],[0.1111111111111111,\"#46039f\"],[0.2222222222222222,\"#7201a8\"],[0.3333333333333333,\"#9c179e\"],[0.4444444444444444,\"#bd3786\"],[0.5555555555555556,\"#d8576b\"],[0.6666666666666666,\"#ed7953\"],[0.7777777777777778,\"#fb9f3a\"],[0.8888888888888888,\"#fdca26\"],[1.0,\"#f0f921\"]],\"sequentialminus\":[[0.0,\"#0d0887\"],[0.1111111111111111,\"#46039f\"],[0.2222222222222222,\"#7201a8\"],[0.3333333333333333,\"#9c179e\"],[0.4444444444444444,\"#bd3786\"],[0.5555555555555556,\"#d8576b\"],[0.6666666666666666,\"#ed7953\"],[0.7777777777777778,\"#fb9f3a\"],[0.8888888888888888,\"#fdca26\"],[1.0,\"#f0f921\"]],\"diverging\":[[0,\"#8e0152\"],[0.1,\"#c51b7d\"],[0.2,\"#de77ae\"],[0.3,\"#f1b6da\"],[0.4,\"#fde0ef\"],[0.5,\"#f7f7f7\"],[0.6,\"#e6f5d0\"],[0.7,\"#b8e186\"],[0.8,\"#7fbc41\"],[0.9,\"#4d9221\"],[1,\"#276419\"]]},\"xaxis\":{\"gridcolor\":\"white\",\"linecolor\":\"white\",\"ticks\":\"\",\"title\":{\"standoff\":15},\"zerolinecolor\":\"white\",\"automargin\":true,\"zerolinewidth\":2},\"yaxis\":{\"gridcolor\":\"white\",\"linecolor\":\"white\",\"ticks\":\"\",\"title\":{\"standoff\":15},\"zerolinecolor\":\"white\",\"automargin\":true,\"zerolinewidth\":2},\"scene\":{\"xaxis\":{\"backgroundcolor\":\"#E5ECF6\",\"gridcolor\":\"white\",\"linecolor\":\"white\",\"showbackground\":true,\"ticks\":\"\",\"zerolinecolor\":\"white\",\"gridwidth\":2},\"yaxis\":{\"backgroundcolor\":\"#E5ECF6\",\"gridcolor\":\"white\",\"linecolor\":\"white\",\"showbackground\":true,\"ticks\":\"\",\"zerolinecolor\":\"white\",\"gridwidth\":2},\"zaxis\":{\"backgroundcolor\":\"#E5ECF6\",\"gridcolor\":\"white\",\"linecolor\":\"white\",\"showbackground\":true,\"ticks\":\"\",\"zerolinecolor\":\"white\",\"gridwidth\":2}},\"shapedefaults\":{\"line\":{\"color\":\"#2a3f5f\"}},\"annotationdefaults\":{\"arrowcolor\":\"#2a3f5f\",\"arrowhead\":0,\"arrowwidth\":1},\"geo\":{\"bgcolor\":\"white\",\"landcolor\":\"#E5ECF6\",\"subunitcolor\":\"white\",\"showland\":true,\"showlakes\":true,\"lakecolor\":\"white\"},\"title\":{\"x\":0.05},\"mapbox\":{\"style\":\"light\"}}},\"title\":{\"text\":\"Box Plot for Dep_min\",\"font\":{\"size\":25}},\"font\":{\"color\":\"white\"},\"yaxis\":{\"title\":{\"text\":\"Values\"},\"showgrid\":true,\"gridwidth\":1,\"gridcolor\":\"white\",\"griddash\":\"dash\"},\"plot_bgcolor\":\"black\",\"paper_bgcolor\":\"black\",\"xaxis\":{\"showgrid\":true,\"gridwidth\":1,\"gridcolor\":\"white\",\"griddash\":\"dash\"}},                        {\"responsive\": true}                    ).then(function(){\n",
       "                            \n",
       "var gd = document.getElementById('8d3ae723-a3d5-46cd-90c3-f8fa7f1ed88c');\n",
       "var x = new MutationObserver(function (mutations, observer) {{\n",
       "        var display = window.getComputedStyle(gd).display;\n",
       "        if (!display || display === 'none') {{\n",
       "            console.log([gd, 'removed!']);\n",
       "            Plotly.purge(gd);\n",
       "            observer.disconnect();\n",
       "        }}\n",
       "}});\n",
       "\n",
       "// Listen for the removal of the full notebook cells\n",
       "var notebookContainer = gd.closest('#notebook-container');\n",
       "if (notebookContainer) {{\n",
       "    x.observe(notebookContainer, {childList: true});\n",
       "}}\n",
       "\n",
       "// Listen for the clearing of the current output cell\n",
       "var outputEl = gd.closest('.output');\n",
       "if (outputEl) {{\n",
       "    x.observe(outputEl, {childList: true});\n",
       "}}\n",
       "\n",
       "                        })                };                });            </script>        </div>"
      ]
     },
     "metadata": {},
     "output_type": "display_data"
    },
    {
     "data": {
      "text/html": [
       "<div>                            <div id=\"144415d1-fb8c-4378-b757-7eda163963c3\" class=\"plotly-graph-div\" style=\"height:525px; width:100%;\"></div>            <script type=\"text/javascript\">                require([\"plotly\"], function(Plotly) {                    window.PLOTLYENV=window.PLOTLYENV || {};                                    if (document.getElementById(\"144415d1-fb8c-4378-b757-7eda163963c3\")) {                    Plotly.newPlot(                        \"144415d1-fb8c-4378-b757-7eda163963c3\",                        [{\"name\":\"Arrival_hours\",\"y\":[1,13,4,23,21,11,10,5,10,19,23,22,13,9,19,19,13,12,19,12,19,13,6,21,8,12,3,12,12,9,9,23,6,12,12,21,20,16,13,19,18,15,19,13,21,8,6,13,11,19,14,10,1,0,2,12,23,9,1,16,21,9,19,1,9,21,12,15,19,15,8,8,19,12,10,12,14,7,12,10,12,22,4,21,19,11,7,4,20,14,22,13,10,19,23,7,8,22,8,12,20,8,4,14,8,4,18,19,19,19,5,21,9,4,12,22,9,1,9,19,8,16,10,19,7,11,8,12,6,17,19,4,17,23,1,19,4,19,8,18,1,7,7,16,0,23,4,9,20,21,0,18,14,20,8,7,12,21,18,4,14,3,13,16,13,4,15,8,4,4,12,21,21,21,9,10,1,18,10,21,4,21,1,12,17,13,3,9,18,13,17,6,22,22,15,12,4,4,16,15,7,23,8,8,19,18,1,19,23,4,3,11,16,19,10,10,18,4,18,19,12,19,8,19,4,19,18,2,7,11,18,23,19,19,3,12,19,21,21,19,20,12,21,12,9,2,4,21,20,13,9,19,19,22,19,14,12,10,19,19,1,23,12,16,20,1,1,7,13,5,10,16,19,1,9,22,7,21,8,8,19,9,14,12,0,1,19,12,4,16,13,19,18,7,0,11,19,12,19,19,4,9,12,4,21,4,15,9,7,19,19,19,12,21,15,19,20,1,4,17,18,4,17,0,20,19,4,19,21,20,13,22,23,23,0,23,12,19,8,19,22,1,10,1,19,0,19,12,13,20,8,10,0,9,4,2,20,7,20,12,22,9,14,8,4,6,22,17,10,21,9,19,22,12,20,19,18,4,5,9,1,12,19,22,19,20,19,14,0,19,19,13,19,1,19,12,19,21,19,5,10,12,7,10,7,4,7,2,19,19,19,12,4,4,13,22,9,12,18,18,16,16,11,2,12,19,18,19,0,22,9,21,5,18,22,19,16,17,19,19,23,20,12,12,4,21,19,12,4,19,19,19,12,14,12,19,19,14,2,1,19,22,22,8,17,4,19,1,22,9,4,19,1,4,18,12,22,19,11,11,12,21,17,19,0,7,15,23,15,22,22,12,7,22,23,9,4,19,20,12,10,21,4,19,4,22,19,7,18,4,12,10,16,20,9,19,9,19,1,6,21,11,6,10,15,8,12,19,14,8,1,23,4,12,19,18,11,12,18,7,22,16,19,16,18,7,12,9,10,20,12,4,9,19,22,18,17,16,21,23,10,22,1,14,19,1,18,10,22,4,19,22,23,22,12,23,7,0,19,19,14,21,12,19,4,16,9,10,4,10,4,10,10,12,4,21,18,15,12,9,19,19,19,7,4,10,18,22,12,4,0,19,19,4,19,19,22,19,7,1,23,21,0,14,22,7,22,10,5,4,12,19,10,11,23,22,18,16,19,13,19,12,23,4,10,22,19,21,7,13,23,8,13,12,13,14,23,10,19,12,12,4,19,10,13,5,23,19,10,10,4,21,19,19,4,13,23,19,9,15,19,22,18,4,0,13,7,19,13,21,21,22,22,10,14,16,1,15,1,4,18,12,4,23,14,20,17,4,19,19,21,7,19,16,8,12,7,19,18,9,18,19,10,19,7,19,19,4,12,23,21,18,20,20,8,13,0,0,23,16,19,12,12,12,4,0,15,13,1,11,1,12,21,19,13,16,19,18,19,15,11,10,19,7,13,12,11,19,23,23,4,12,1,1,9,7,17,18,23,16,12,18,4,22,12,23,18,19,17,16,5,22,19,9,19,21,10,1,19,9,20,1,9,22,14,21,19,23,21,0,4,22,4,9,4,1,14,20,1,20,18,12,4,4,21,19,16,9,8,22,19,19,19,19,8,18,16,13,19,19,16,19,19,2,20,19,12,8,5,13,22,1,12,2,19,3,5,0,19,10,3,8,19,22,23,9,21,21,23,15,21,21,10,19,1,1,18,13,9,19,9,13,8,4,19,16,12,16,10,23,21,9,9,23,10,16,18,9,10,16,21,4,23,12,4,16,12,12,19,18,19,11,19,20,12,19,1,1,4,23,9,22,0,16,4,4,23,15,18,0,18,14,21,22,20,19,19,4,1,4,4,19,6,12,4,0,19,10,4,16,22,0,4,6,4,4,4,19,7,0,14,4,22,4,0,9,19,8,2,19,19,16,4,9,12,0,11,4,10,0,8,10,12,16,10,1,13,18,1,4,1,22,21,19,18,1,4,19,19,4,1,12,12,1,23,12,1,10,12,9,13,0,23,7,22,7,21,22,10,21,12,2,16,11,12,19,22,11,4,21,7,21,22,21,22,19,10,8,4,9,16,22,19,19,12,23,4,16,17,18,19,19,7,12,1,18,11,20,1,9,4,19,21,7,3,7,12,4,0,19,9,19,17,23,9,12,11,12,22,9,18,4,22,12,10,23,22,21,12,18,12,23,9,21,23,19,10,23,18,8,9,12,9,15,19,4,10,19,4,1,21,0,22,19,8,8,0,8,9,2,22,1,14,19,19,8,20,23,18,19,17,12,12,18,12,7,21,19,13,12,10,19,12,9,15,19,1,0,12,21,20,19,8,1,19,19,2,10,19,19,13,22,17,12,14,21,9,8,16,3,18,4,10,7,19,22,23,12,17,4,4,9,16,1,10,21,12,8,22,4,12,9,8,19,23,9,1,18,18,7,12,16,12,7,7,14,23,0,13,20,14,13,23,9,22,9,7,19,7,12,7,16,21,12,21,12,20,22,1,19,13,22,4,19,19,12,16,15,1,19,8,4,20,23,22,11,16,18,4,16,4,8,19,19,4,10,10,1,22,19,9,12,23,10,2,21,19,1,7,18,19,21,0,21,9,23,19,12,10,22,9,1,11,4,19,13,22,21,20,12,12,19,7,12,20,8,12,9,1,22,21,20,18,19,16,11,2,19,19,10,21,4,12,22,19,21,23,21,22,18,20,9,20,11,20,18,23,13,17,19,10,12,12,19,20,21,9,8,11,23,16,1,18,19,22,8,19,13,19,1,19,19,12,11,0,4,18,23,13,8,4,7,19,23,2,23,7,15,19,21,22,21,14,5,21,18,19,22,10,14,7,11,20,22,1,22,6,13,16,19,4,12,1,10,10,7,7,23,23,10,21,23,14,18,20,13,16,1,19,1,16,17,1,12,22,18,20,14,4,13,18,12,18,17,16,9,7,8,21,0,0,12,22,10,0,16,4,14,1,12,19,21,19,19,19,10,16,8,19,0,12,1,10,6,13,21,7,2,19,8,4,18,4,8,10,8,9,19,12,18,19,19,14,10,18,22,19,10,0,19,19,12,22,10,19,9,0,16,17,18,16,18,13,4,16,1,19,10,8,2,1,19,4,15,4,16,0,19,1,4,0,9,11,4,12,21,20,23,19,19,19,21,10,19,15,10,19,21,12,9,8,22,2,4,0,23,18,1,11,22,21,13,11,12,20,18,23,12,20,10,19,19,19,19,8,19,1,1,14,11,9,19,12,20,17,4,12,9,22,22,12,11,12,19,23,4,19,7,11,23,0,21,8,10,19,22,12,10,19,19,14,12,4,4,20,9,17,12,4,4,1,4,4,17,18,9,21,21,19,9,22,19,8,21,12,12,9,19,19,0,11,12,15,4,22,9,12,21,19,10,13,18,12,19,4,22,2,8,10,4,10,10,22,7,22,22,5,19,2,13,4,7,7,19,20,12,23,19,19,6,21,8,13,23,20,12,20,4,12,11,7,15,19,16,21,21,19,12,10,9,12,19,4,4,19,12,21,7,1,22,12,9,23,10,7,17,22,13,10,13,1,18,19,19,21,19,10,7,19,4,9,8,22,16,21,19,15,17,7,12,10,18,13,12,15,9,4,19,19,21,21,9,12,9,7,23,4,10,9,20,0,22,1,11,8,19,1,12,19,4,21,19,4,13,23,22,9,10,23,4,9,10,19,19,13,20,12,4,19,7,19,19,19,18,21,12,13,12,8,22,3,10,18,8,15,18,19,8,16,4,3,19,21,20,4,12,10,4,17,21,12,11,21,20,19,21,7,4,23,8,21,8,19,4,19,22,14,18,4,21,12,19,22,20,23,19,8,8,19,4,4,1,23,4,19,12,21,16,8,9,23,8,8,1,13,14,23,19,8,8,19,4,21,4,9,3,12,22,21,4,8,7,9,7,7,9,7,1,18,10,8,18,15,18,16,12,5,18,12,12,22,11,0,19,22,17,12,22,20,19,19,12,1,1,23,21,16,4,16,15,13,12,12,8,14,1,20,19,23,22,10,9,13,10,19,21,12,9,8,13,0,19,12,12,4,23,0,18,19,19,4,12,21,21,12,21,4,14,14,19,22,12,8,8,19,1,21,22,1,13,20,12,14,13,18,12,22,19,13,14,20,20,1,4,19,8,13,21,7,19,23,4,7,9,12,9,10,18,23,8,9,8,19,7,21,14,7,19,15,11,22,1,0,21,7,22,19,8,19,16,7,11,0,8,14,12,22,2,18,13,9,1,16,18,18,9,18,21,19,22,19,18,19,7,4,21,10,7,12,16,16,9,22,19,19,7,10,9,20,22,19,19,20,23,6,22,18,21,0,4,9,13,4,21,7,9,14,17,19,13,19,21,4,19,15,7,19,11,10,16,21,4,19,4,19,18,19,21,11,20,13,13,19,20,1,21,4,14,8,7,8,8,19,4,21,7,19,1,19,19,18,20,14,19,17,2,1,22,5,16,21,21,17,23,8,22,1,22,19,21,19,12,12,18,20,19,13,8,9,11,8,12,14,22,19,4,19,23,7,18,22,11,10,19,10,7,15,19,9,4,8,13,15,19,4,1,21,0,8,8,0,21,4,22,11,9,8,23,10,20,19,11,19,18,22,18,22,17,10,18,10,19,20,13,16,4,22,12,19,11,18,12,14,7,8,23,19,15,19,11,8,2,21,10,22,4,1,20,8,9,12,4,20,11,8,1,21,1,19,18,0,21,19,10,19,22,11,9,18,5,21,20,4,19,4,19,1,10,16,9,20,12,23,14,9,12,4,22,21,1,19,1,19,14,18,0,9,18,15,11,16,7,9,1,12,10,8,21,1,11,22,2,23,19,8,8,13,10,14,23,19,12,9,12,19,0,21,16,13,17,22,19,23,19,21,19,22,14,18,17,1,16,20,9,4,1,7,22,8,16,1,4,21,8,22,22,22,12,22,15,1,23,21,1,8,14,15,4,11,12,10,20,19,14,21,12,23,4,1,19,14,21,8,9,9,1,12,19,13,20,4,4,23,11,21,12,0,1,15,19,18,8,12,20,9,12,19,8,23,23,9,15,19,1,11,4,22,9,9,18,19,7,10,12,20,0,7,1,23,4,22,16,21,19,4,21,4,8,19,12,23,18,21,4,4,7,21,20,22,19,7,9,6,21,4,0,21,15,20,14,12,20,6,0,12,23,0,16,10,8,12,19,11,21,16,19,12,22,1,21,23,10,10,23,19,19,7,19,8,19,1,21,19,19,12,0,10,1,8,21,21,16,19,19,4,10,9,21,1,18,19,4,19,21,19,7,4,22,7,20,19,23,19,4,7,8,12,19,18,4,18,4,4,4,4,7,19,22,14,18,13,21,21,1,23,7,21,19,18,19,6,20,16,4,10,23,19,20,4,22,8,18,22,9,0,19,8,7,16,1,22,23,1,7,1,14,19,8,9,12,9,11,4,21,8,11,21,19,4,12,12,10,1,23,9,18,10,20,19,4,4,14,9,19,19,12,22,22,20,16,12,16,21,19,9,4,19,7,19,7,20,8,23,19,16,8,16,11,9,19,8,7,19,4,19,19,12,20,17,1,17,21,10,8,12,3,19,10,15,12,20,22,8,12,11,22,8,19,5,1,19,7,0,15,22,8,8,21,19,23,7,15,19,21,14,16,7,4,19,21,4,19,4,21,5,23,22,20,18,8,20,12,4,22,19,14,1,8,4,14,12,19,19,9,18,12,9,22,5,3,12,1,15,12,14,0,23,4,20,12,12,8,19,8,17,23,20,21,19,17,9,19,8,0,23,16,13,16,13,12,20,22,20,10,19,23,7,11,18,16,7,5,12,11,12,18,19,0,19,19,4,1,21,7,0,13,1,15,19,0,4,19,23,20,13,21,12,1,21,23,13,21,19,19,4,8,1,22,18,1,4,22,12,16,19,19,19,4,12,23,4,12,10,12,0,0,12,18,9,1,22,8,14,8,21,12,18,10,17,21,1,8,19,13,18,16,19,4,16,12,17,4,8,16,4,19,19,4,17,16,16,22,18,18,18,9,9,13,7,14,22,10,4,20,18,10,19,0,7,9,4,8,10,22,21,14,18,1,9,1,21,8,23,10,8,21,18,4,18,9,19,9,9,18,11,4,11,4,17,4,12,4,23,11,22,12,13,22,19,19,19,4,9,1,19,18,23,19,0,18,8,18,13,23,21,22,4,22,16,14,19,23,12,23,7,9,8,21,11,11,10,22,19,0,19,12,17,8,0,19,18,16,19,4,4,22,19,12,12,1,19,5,16,4,19,10,13,15,4,19,19,7,12,7,11,21,21,9,7,4,12,19,8,14,1,23,0,20,20,23,22,17,10,12,23,15,12,19,17,7,19,4,0,16,20,10,10,12,8,4,4,11,1,12,12,18,9,23,8,14,12,22,7,19,19,22,19,22,5,12,16,0,1,0,19,19,18,1,12,14,23,7,4,8,7,19,19,19,8,12,9,18,22,19,21,8,19,21,22,0,21,4,22,7,9,4,10,9,17,9,0,4,23,8,21,12,10,16,13,12,7,9,12,19,19,19,2,21,22,22,19,20,22,19,23,19,0,19,14,19,19,0,21,22,11,18,11,16,19,1,21,14,0,1,4,12,22,23,14,13,12,14,9,9,4,21,21,19,0,7,8,20,4,1,19,21,9,10,19,4,4,1,12,1,8,16,22,7,12,21,8,7,12,18,13,22,9,20,13,12,23,21,4,23,22,14,11,19,19,22,16,9,12,0,12,23,21,20,15,16,21,1,22,22,8,13,7,14,22,0,19,12,19,21,8,22,23,19,21,11,19,4,4,21,9,4,18,21,9,6,8,11,7,10,10,18,12,11,12,1,10,12,11,8,5,21,12,19,11,4,12,15,19,8,19,8,18,4,11,21,17,23,22,9,19,8,0,19,21,11,19,10,12,11,19,20,22,23,19,16,0,22,16,20,1,19,4,4,8,22,10,10,23,1,6,19,18,10,4,22,15,10,10,19,17,22,4,18,4,16,0,17,22,21,8,4,1,10,10,17,11,21,10,12,19,7,1,15,17,20,19,10,22,12,4,4,21,4,4,0,4,17,9,10,16,7,16,21,19,17,19,23,12,4,8,12,7,18,22,9,7,20,14,23,16,23,19,19,16,13,7,9,0,12,21,4,18,19,19,8,1,19,10,4,10,4,16,21,21,4,7,18,18,1,20,12,13,1,1,0,20,21,12,22,19,16,14,4,1,7,16,9,19,12,21,9,21,21,8,0,20,4,12,14,19,14,20,1,0,1,12,22,23,18,7,20,18,23,8,8,19,8,23,4,4,10,23,20,4,22,7,20,1,12,18,13,1,4,12,7,4,9,18,19,12,4,22,13,18,4,20,4,8,0,1,13,18,19,11,2,10,18,8,11,22,16,12,22,18,10,7,10,14,16,1,9,22,9,13,21,19,23,22,15,2,4,22,9,7,18,12,1,1,20,16,4,1,20,11,7,4,20,8,17,9,4,20,19,21,12,8,1,9,22,21,22,2,18,20,13,19,13,10,19,4,22,14,16,23,1,17,21,19,4,19,19,14,19,19,19,22,4,14,13,11,15,18,8,14,17,21,5,12,19,4,0,16,19,18,13,21,23,7,19,12,19,20,19,4,22,19,23,21,4,19,18,12,20,7,10,10,8,12,17,22,23,19,23,20,22,12,4,18,13,19,11,7,21,21,19,0,10,19,18,12,0,11,14,22,13,12,4,19,19,5,12,14,8,23,9,19,23,10,1,12,12,22,14,23,20,23,12,14,9,1,6,22,18,11,15,19,22,21,11,19,9,14,19,8,22,12,19,8,12,8,4,18,22,10,9,13,10,19,2,5,4,22,20,13,20,12,19,12,21,12,19,18,21,19,7,4,21,19,22,10,19,22,9,15,11,22,1,12,23,19,12,1,13,4,7,21,10,21,21,10,12,21,7,11,14,9,22,8,16,12,1,19,9,19,15,22,8,19,14,12,1,7,19,17,4,1,19,16,21,12,4,11,19,19,4,1,22,9,23,3,13,16,8,19,8,9,4,13,12,8,21,23,19,20,0,7,23,0,15,0,19,10,19,22,21,21,9,21,4,16,0,23,22,12,7,19,19,19,9,4,8,17,12,9,19,8,16,0,17,19,0,20,21,18,13,10,22,21,22,18,4,16,23,4,20,19,4,17,1,1,8,21,22,11,10,4,18,14,21,18,9,0,10,0,19,12,4,12,4,0,19,14,22,13,14,19,8,14,7,22,19,9,14,23,19,4,19,10,9,19,4,21,1,21,19,12,1,17,1,13,19,9,9,12,4,15,16,4,7,18,15,4,19,8,19,12,9,12,23,3,11,9,4,14,16,19,11,4,4,19,19,17,19,18,19,7,4,7,23,9,8,4,21,18,1,19,18,16,1,17,19,16,19,10,19,1,12,21,20,15,16,19,4,19,0,23,10,5,8,20,10,18,19,12,16,19,18,12,14,16,4,19,0,0,8,15,17,21,10,14,19,19,22,23,1,13,14,10,5,18,4,19,11,19,12,9,0,18,7,1,21,4,19,19,20,23,15,19,4,0,19,0,18,19,4,8,22,21,8,8,12,19,22,7,9,8,9,13,0,18,22,4,18,12,22,16,4,4,13,22,7,19,7,11,22,19,4,22,8,13,7,1,19,19,19,8,4,21,19,4,0,20,17,1,12,12,19,19,9,1,1,13,10,21,1,10,13,8,8,19,4,21,21,12,12,4,8,19,19,22,7,14,22,11,16,16,19,23,12,1,18,4,12,12,1,19,22,11,8,4,13,10,12,4,14,17,4,16,9,12,13,19,19,18,19,0,7,12,10,12,18,15,11,4,21,21,10,1,12,19,10,0,4,0,18,23,0,17,14,16,19,18,8,16,19,4,22,16,8,19,4,19,23,16,15,7,4,0,12,1,8,12,23,7,12,22,0,2,18,1,7,18,14,11,21,16,12,8,15,9,1,19,22,19,23,9,2,8,9,15,15,16,9,18,7,17,4,4,16,11,14,19,20,12,8,14,22,4,7,1,19,1,19,14,19,12,16,19,22,23,18,19,19,13,18,11,19,0,4,1,11,12,19,15,10,18,19,11,4,14,9,11,19,19,12,19,4,11,19,23,19,22,19,22,22,22,12,1,4,12,21,19,4,12,9,19,4,11,9,22,14,4,12,12,16,4,19,7,19,10,12,12,0,22,23,10,0,21,22,19,12,4,18,12,20,21,12,1,20,12,16,13,19,10,22,21,14,10,8,18,19,22,21,18,1,16,22,11,1,7,19,1,21,5,8,4,18,4,20,21,23,3,21,4,4,8,4,12,19,0,8,10,19,9,22,9,12,8,8,7,9,1,19,18,16,12,11,19,18,8,18,4,21,19,19,19,4,14,17,4,18,11,18,14,8,21,19,9,4,23,19,18,19,12,7,21,4,19,4,19,19,9,19,1,22,15,21,21,20,7,1,23,11,23,12,14,12,7,20,4,12,10,12,16,21,15,9,14,16,20,21,18,10,22,10,2,2,20,9,19,11,4,23,19,18,15,3,19,18,16,17,12,21,9,22,19,1,4,12,1,9,8,19,19,19,13,10,22,9,19,12,5,8,20,8,1,12,14,17,4,6,8,11,19,10,16,10,12,10,19,19,12,12,12,20,8,7,1,4,22,1,19,22,8,10,21,4,0,16,18,19,12,19,21,21,19,15,21,19,8,19,19,22,18,13,12,13,12,20,21,12,15,11,0,10,21,20,19,19,10,18,18,9,6,9,1,22,9,18,10,0,7,19,16,4,14,9,4,7,20,12,22,23,21,18,8,21,13,0,12,0,4,22,13,23,19,16,22,21,9,0,4,23,1,7,22,23,16,16,18,19,19,9,18,9,12,9,19,12,19,8,8,19,17,18,22,9,18,19,14,18,0,19,13,17,19,4,19,19,8,23,19,21,4,8,18,7,9,10,11,19,22,15,21,5,16,19,0,19,10,19,7,16,10,12,22,19,23,19,10,23,9,9,16,20,9,0,5,19,4,22,21,17,16,14,18,12,7,19,19,7,12,16,4,22,19,13,19,13,17,12,13,1,10,18,14,22,13,13,23,16,6,19,12,23,22,4,19,20,5,19,8,19,12,9,0,1,19,19,10,10,4,9,4,22,4,18,21,18,19,7,1,19,7,19,11,1,21,13,11,19,8,9,21,11,19,21,20,11,15,19,21,1,10,4,1,12,19,21,16,14,16,20,4,0,4,13,16,14,12,4,12,18,0,19,7,22,21,1,9,18,8,19,12,0,12,19,9,22,19,18,7,22,22,14,12,19,0,16,21,19,19,8,21,16,13,10,18,7,10,18,19,19,19,12,0,7,20,19,7,1,20,12,18,20,10,12,16,1,19,12,17,19,18,0,12,20,9,8,12,22,22,4,20,18,21,21,4,19,10,16,9,20,19,9,1,7,10,0,12,16,9,12,4,18,12,21,23,10,12,22,12,4,16,19,19,19,4,12,13,11,23,19,19,13,17,12,8,16,18,8,20,1,11,23,5,9,21,18,13,21,15,19,19,1,12,12,1,23,12,1,21,9,9,20,19,20,19,23,8,4,14,4,19,0,7,22,4,23,10,20,19,13,22,10,0,2,7,21,19,22,21,18,19,19,16,12,12,16,20,19,1,13,12,0,12,10,19,12,12,13,7,22,18,21,13,23,0,1,23,9,10,19,1,20,22,19,20,22,12,18,21,10,14,2,12,19,18,19,18,19,16,12,1,0,1,21,19,9,9,19,4,22,19,8,4,23,21,0,19,18,16,12,16,7,0,16,8,20,12,12,19,1,18,1,4,8,22,20,1,19,4,2,12,10,21,19,19,7,0,1,19,8,1,22,18,12,22,9,23,11,10,21,23,12,4,13,9,16,14,12,7,12,19,2,18,14,0,4,13,18,23,10,5,21,8,8,12,4,19,21,1,23,19,9,6,15,1,18,21,9,13,22,10,8,0,14,4,10,13,4,1,0,18,9,20,21,18,7,23,13,14,18,14,18,21,18,17,4,19,19,22,13,17,19,23,3,13,20,18,10,1,11,19,7,23,21,4,19,13,19,23,22,23,19,20,4,21,21,19,4,23,11,18,9,1,21,11,7,9,19,12,6,4,16,22,19,21,19,8,10,7,21,10,1,13,1,19,4,4,12,19,23,0,21,22,4,0,8,22,16,21,21,1,8,9,22,10,19,19,9,6,9,19,16,19,23,15,7,21,10,4,10,1,19,7,19,22,10,23,12,18,23,0,7,19,19,4,22,12,22,21,12,19,19,8,23,14,12,19,22,13,17,6,16,10,10,0,1,7,14,10,20,16,14,2,19,1,6,12,21,4,19,9,8,14,19,13,14,19,4,21,11,9,1,5,20,9,1,10,16,12,23,12,21,23,19,19,18,4,4,0,12,14,19,0,22,18,21,11,19,13,10,1,1,8,19,10,17,22,17,7,12,4,7,4,19,19,16,19,0,19,0,7,4,14,7,14,4,11,23,4,21,14,16,19,21,19,19,21,9,20,19,12,9,7,14,22,22,12,19,4,9,1,19,10,21,14,2,8,19,9,19,20,19,18,22,21,20,7,1,18,22,19,18,0,19,22,15,23,4,16,20,11,20,1,3,7,13,21,1,0,16,22,16,7,19,3,20,19,20,7,16,19,1,12,22,14,10,12,9,9,7,18,8,23,23,7,23,15,13,4,11,19,7,4,10,15,12,0,19,4,19,12,14,9,13,4,7,4,12,18,19,14,12,22,12,21,19,6,12,17,21,0,0,12,19,12,21,10,12,17,23,22,12,16,13,21,13,1,21,18,23,4,0,1,19,19,19,13,19,9,4,21,14,22,16,19,12,21,18,10,21,10,23,18,19,6,18,7,19,16,12,17,5,19,1,14,0,11,0,19,4,1,8,8,0,12,19,11,12,4,10,0,23,1,7,19,11,8,15,23,4,14,21,8,19,15,19,20,20,7,23,1,16,17,13,4,13,23,12,4,19,12,22,14,9,19,1,16,4,12,14,19,14,11,18,8,19,12,19,19,19,19,15,1,23,11,10,7,12,20,22,23,19,8,8,19,19,1,17,9,18,20,4,8,19,11,19,0,22,19,11,7,1,14,1,19,13,21,12,18,22,18,13,20,17,7,4,22,4,9,19,19,20,21,1,23,21,12,10,22,12,22,9,8,19,17,4,13,15,0,16,22,19,9,12,16,10,19,10,13,16,11,12,11,19,8,21,16,0,9,19,20,18,21,16,1,21,10,7,8,22,16,12,9,11,18,10,23,11,1,22,22,10,1,2,23,23,16,4,15,1,14,18,18,8,19,23,22,12,1,1,16,10,18,22,19,19,21,11,19,23,19,0,1,12,19,4,1,23,12,2,18,4,19,19,19,2,19,19,8,18,12,19,22,12,4,22,22,17,7,19,0,1,23,19,11,18,9,12,8,19,19,23,22,19,19,18,21,19,12,21,19,10,22,16,19,21,13,22,22,9,18,10,23,7,21,10,9,4,7,11,6,21,14,23,0,7,10,21,8,21,21,21,0,19,4,22,21,20,10,19,12,21,21,20,0,22,21,22,17,1,19,4,22,18,19,10,4,12,1,12,16,12,21,8,7,19,20,18,20,20,21,12,9,22,13,17,20,2,12,1,20,19,5,14,16,1,21,4,14,19,19,19,19,13,4,22,10,16,19,8,12,21,12,19,19,9,8,14,19,12,0,4,16,21,4,20,19,14,4,20,19,11,15,19,14,2,8,12,19,14,1,4,15,4,22,13,9,21,23,16,12,8,13,15,8,19,10,5,19,15,22,23,19,4,10,19,11,1,18,21,1,13,7,11,20,4,4,19,19,19,12,9,0,12,4,8,13,4,10,23,23,7,14,4,18,4,9,22,20,22,11,15,9,22,8,21,18,20,4,13,5,21,4,19,10,1,1,8,14,1,4,17,4,22,20,20,22,15,10,8,10,8,22,8,21,0,0,15,23,16,21,14,4,18,4,18,19,1,21,10,7,19,11,4,13,1,23,10,4,23,5,2,7,7,20,19,12,1,9,12,11,19,14,16,16,19,12,1,20,23,19,19,3,19,9,4,19,23,19,1,20,1,0,9,19,20,8,16,22,19,19,19,22,9,19,19,19,12,9,18,22,7,19,7,19,23,19,16,7,19,20,14,4,0,7,13,10,15,23,19,19,17,0,19,19,12,16,12,14,9,9,22,23,1,10,11,12,3,23,22,9,18,21,15,14,19,8,19,22,21,19,12,19,0,15,4,7,1,19,12,5,1,8,21,17,8,12,12,0,22,8,16,11,16,4,1,21,4,14,19,13,19,10,19,18,4,10,11,13,9,19,7,16,9,14,22,17,1,18,19,17,12,8,18,8,11,11,18,15,22,21,19,9,19,22,18,19,22,13,21,19,19,10,14,12,22,14,23,16,21,11,23,4,18,23,19,19,16,23,10,17,4,8,9,3,4,10,13,4,19,16,0,22,9,17,18,12,12,19,19,12,21,22,11,14,21,12,13,19,22,19,18,18,23,17,13,7,14,11,4,22,19,19,12,10,21,8,18,1,4,12,0,4,11,18,7,8,10,4,21,4,22,18,21,2,20,12,18,21,21,12,11,4,16,4,21,15,15,11,19,22,7,22,1,21,0,9,4,7,1,16,23,19,10,19,19,22,10,16,11,9,7,11,20,21,13,16,19,7,9,22,1,9,1,19,4,12,19,21,7,21,9,18,21,0,18,4,18,20,19,19,16,0,12,19,15,22,22,11,16,7,19,19,19,19,1,22,12,12,4,12,19,8,1,15,7,4,17,19,9,4,10,4,4,8,9,12,4,23,23,22,7,15,21,21,21,21,7,15,19,8,2,12,1,19,12,15,5,19,0,12,4,1,19,14,8,11,4,18,22,9,12,0,23,19,21,12,19,19,19,17,12,22,1,4,12,12,22,23,12,4,12,0,19,21,1,7,12,22,17,18,19,23,9,15,19,7,22,0,13,21,18,21,4,10,17,17,14,22,12,19,14,2,1,7,15,13,10,10,13,16,19,23,19,1,10,21,23,18,19,9,10,18,13,19,21,4,8,12,23,21,12,19,18,9,19,13,21,20,21,10,22,23,1,22,9,21,12,7,13,16,0,10,4,12,21,4,23,21,0,20,18,23,19,18,19,19,7,12,9,21,4,15,19,19,3,7,22,21,12,9,4,9,9,18,18,17,15,12,20,22,23,4,10,19,12,23,10,4,15,22,19,21,4,19,23,16,19,19,12,23,10,4,12,20,0,10,10,4,22,15,7,21,21,4,8,23,4,8,8,19,10,21,18,4,4,9,23,4,8,0,20,7,10,4,21,8,1,10,9,18,0,8,7,14,0,23,12,9,8,22,19,22,18,12,21,14,7,12,20,1,4,21,23,18,21,7,11,4,20,4,8,7,4,21,12,22,18,3,8,1,5,19,4,22,9,19,22,1,22,4,12,1,12,16,20,13,19,9,10,11,2,4,18,4,23,9,19,23,23,7,12,19,15,18,3,23,19,16,19,8,1,18,12,19,7,8,21,19,10,20,23,9,18,21,8,23,7,12,10,19,19,7,14,12,21,19,16,1,12,23,1,23,20,4,17,12,19,2,23,18,23,1,8,21,19,22,22,21,10,4,21,19,22,20,22,3,10,10,13,19,11,10,19,23,4,19,4,15,9,12,7,12,8,11,8,14,20,10,7,21,19,1,12,9,18,12,10,12,14,12,18,4,9,22,4,22,11,20,18,17,9,11,16,20,18,14,10,8,10,17,11,12,19,18,13,11,16,13,21,20,10,20,4,16,12,21,18,4,10,8,23,7,12,7,16,19,4,7,20,10,15,19,20,4,8,2,12,1,23,7,7,21,0,15,22,22,8,20,12,4,19,21,13,19,8,4,16,22,19,12,10,8,17,15,23,16,23,10,22,6,13,23,23,9,10,10,20,19,23,3,1,7,0,22,9,0,10,12,11,12,4,20,19,22,11,22,0,1,23,4,10,23,13,22,21,19,21,16,21,22,4,22,4,19,19,10,19,14,0,1,18,1,16,19,1,21,16,19,22,16,0,8,13,13,17,10,22,8,11,12,18,21,19,9,4,15,19,19,12,21,19,12,3,23,12,11,21,19,19,19,19,20,11,16,5,1,14,7,22,9,21,22,10,12,23,19,10,13,19,0,23,9,12,7,23,21,10,19,18,19,19,13,8,9,8,21,23,22,14,16,18,20,9,9,19,19,21,10,1,12,15,10,19,16,12,20,13,7,19,12,23,22,7,14,4,22,10,6,19,19,19,23,19,21,16,5,4,7,19,14,1,22,23,20,7,12,19,19,22,22,14,22,19,20,23,1,19,12,12,12,18,12,14,19,7,13,12,20,19,19,23,9,23,19,8,12,4,12,18,9,13,12,1,19,23,22,12,16,22,9,22,19,23,19,14,15,12,21,12,20,4,7,19,0,23,8,22,4,4,0,13,12,21,21,8,12,7,4,20,17,8,21,23,7,12,4,8,14,18,22,15,17,21,19,19,4,22,15,22,19,19,18,16,4,19,12,7,19,13,2,23,18,20,12,18,23,17,15,16,1,19,19,21,21,1,19,12,19,9,8,18,23,18,19,11,2,23,19,18,4,20,8,4,9,19,13,12,4,4,11,23,17,1,13,13,19,11,8,21,12,4,10,21,14,16,23,21,4,19,7,19,19,19,14,21,19,7,10,12,9,13,21,8,9,12,12,10,4,0,13,21,11,19,12,9,0,22,10,19,9,15,22,8,8,16,20,19,8,19,19,21,17,23,7,19,18,10,1,7,1,19,12,0,16,18,12,5,1,4,9,23,4,18,12,19,1,19,12,19,16,19,1,1,8,10,16,18,15,1,19,19,0,12,18,12,13,22,14,22,9,10,4,8,21,7,22,4,9,19,0,19,14,10,10,22,19,10,18,4,18,19,1,19,18,19,23,17,18,1,21,20,19,11,20,23,19,19,1,10,12,7,19,0,8,7,19,18,4,7,15,4,19,13,8,17,4,0,8,4,19,10,4,11,13,1,16,11,10,19,14,19,20,21,2,4,11,17,9,11,8,15,1,19,7,18,1,16,19,9,13,22,12,23,14,19,10,12,19,19,18,23,12,10,22,19,12,12,21,19,12,1,2,18,10,9,10,21,20,23,17,19,21,9,19,19,21,15,4,8,19,11,18,19,12,19,11,4,15,11,21,7,2,4,12,23,9,14,13,20,4,9,19,13,13,12,18,7,1,12,4,4,0,12,7,19,21,20,14,18,19,9,21,13,7,10,12,14,10,19,7,23,14,4,20,16,22,23,4,21,20,22,12,9,19,22,23,19,19,22,19,18,10,14,22,12,17,20,1,21,12,22,21,10,12,7,4,18,19,10,5,22,17,10,22,13,12,19,8,4,15,19,19,12,18,3,19,23,19,19,23,9,8,9,23,19,1,10,16,1,19,20,15,10,1,13,14,20,4,12,12,21,21,12,19,22,12,18,21,19,1,22,0,16,16,23,23,12,0,23,23,8,11,10,19,11,12,12,4,5,23,1,19,23,23,4,18,9,8,10,8,14,10,19,21,8,23,4,20,4,10,14,7,10,10,19,19,19,19,13,19,13,10,12,20,19,19,19,14,18,7,16,11,16,22,14,18,18,19,10,1,13,19,9,19,19,0,1,12,19,17,21,9,23,11,22,22,7,11,18,19,20,20,21,19,12,12,18,22,10,19,11,19,11,19,1,7,21,10,18,14,12,21,9,20,12,17,19,18,17,17,19,8,13,9,13,4,0,19,11,0,22,4,19,23,14,19,1,15,1,9,23,14,18,4,11,19,20,4,8,19,8,21,19,12,23,10,23,15,8,19,1,4,22,21,20,21,19,14,4,10,9,19,18,18,20,22,22,21,9,1,23,17,13,13,15,23,19,19,17,12,0,19,12,9,1,21,20,18,21,23,4,0,9,21,19,11,8,5,19,19,16,11,8,7,1,19,21,12,7,22,22,20,11,20,11,15,12,20,19,21,17,19,21,2,18,16,8,23,4,2,11,17,23,23,12,21,21,9,19,22,22,14,20,10,23,19,3,21,13,7,8,19,18,1,12,2,21,10,19,10,21,23,9,21,4,4,1,15,3,23,20,19,12,13,20,21,12,16,19,8,4,12,18,4,13,1,12,6,12,9,16,7,9,8,23,12,21,17,9,19,13,15,22,19,12,4,19,11,21,14,1,17,18,23,12,10,23,18,19,17,4,19,7,22,16,11,22,6,19,13,10,16,15,0,7,10,23,11,1,21,21,20,19,15,21,16,12,7,9,0,9,19,0,9,12,12,12,19,12,14,1,12,19,14,23,7,7,4,21,20,4,22,0,12,8,14,13,23,12,21,19,19,19,18,18,12,23,19,22,20,23,10,4,0,8,21,16,12,18,12,1,9,8,19,20,19,22,9,4,9,21,22,18,0,7,6,22,23,19,19,4,19,19,19,23,22,23,8,4,12,21,20,15,18,18,23,12,19,8,18,12,23,0,0,23,8,17,22,22,19,14,22,9,12,19,19,19,7,19,21,23,1,19,4,12,0,8,10,12,19,4,19,0,4,13,7,1,17,20,1,11,22,7,19,10,8,12,18,19,23,16,7,21,12,18,12,10,19,23,23,19,20,12,21,19,4,22,21,22,13,13,10,20,19,9,11,0,19,22,14,21,1,19,19,17,19,9,21,10,12,9,15,7,1,13,7,16,9,19,20,16,19,22,4,23,7,12,1,9,19,1,16,4,19,19,17,4,12,12,12,7,8,9,21,19,16,4,1,1,1,10,22,4,8,21,11,4,0,1,9,4,8,19,22,7,4,8,22,4,23,14,1,21,21,9,20,7,18,7,11,1,0,4,23,22,20,7,0,12,21,19,4,4,12,1,12,19,14,12,4,22,11,12,19,0,21,19,7,7,2,21,12,12,2,12,8,21,12,19,4,22,21,8,11,19,22,9,17,4,9,22,12,9,22,8,20,8,18,10,12,4,19,20,2,19,4,19,0,12,18,19,7,22,10,1,10,9,7,12,23,22,9,18,20,10,18,22,19,1,19,3,19,4,22,11,8,19,21,12,9,23,19,20,4,9,1,18,17,10,4,12,8,1,18,1,23,0,19,13,19,21,9,14,4,4,21,10,19,20,21,9,4,23,12,0,21,12,18,1,4,21,22,16,14,21,19,18,7,21,19,17,22,21,19,16,19,10,8,19,9,22,7,12,0,20,9,12,7,22,22,10,4,12,9,10,1,1,11,12,21,16,20,19,15,20,4,9,21,1,10,23,4,19,0,21,17,4,19,4,0,18,19,14,9,23,1,23,4,22,5,9,14,19,16,15,22,7,0,12,21,21,4,20,16,4,15,23,1,12,21,19,19,21,19,13,12,12,8,12,0,18,7,21,14,11,11,4,21,13,8,13,4,8,16,22,19,12,11,0,19,14,17,1,8,7,9,15,19,10,4,19,19,17,22,1,21,4,21,9,19,10,3,2,10,1,0,4,9,19,9,12,17,19,21,19,21,4,4,6,4,13,16,13,8,6,18,19,4,9,21,19,22,3,12,1,19,21,7,12,16,4,0,19,19,7,11,13,9,18,9,19,7,12,8,19,14,21,22,19,7,4,11,20,12,23,4,19,19,8,12,21,14,20,16,13,19,18,12,16,0,22,0,5,19,7,14,1,10,23,4,8,12,21,19,22,16,23,14,8,19,7,20,11,10,16,21,20,19,15,16,13,1,17,8,19,12,8,19,8,8,23,8,4,13,4,4,21,12,19,19,9,19,16,23,19,19,10,19,21,16,17,4,19,11,8,15,7,2,0,12,4,4,7,21,9,16,10,21,23,10,19,4,12,12,1,4,12,9,19,12,21,0,4,22,19,11,16,18,14,15,1,7,1,13,16,16,4,1,19,19,4,19,1,4,19,22,4,19,22,12,18,4,21,21,7,1,12,20,19,17,1,19,14,9,20,16,7,16,18,8,17,10,12,19,19,14,19,1,9,1,17,20,19,19,10,12,12,1,19,19,1,14,12,11,19,18,14,14,23,4,18,10,18,22,17,22,12,7,19,20,8,22,12,19,4,11,4,16,17,22,0,19,21,14,15,12,19,21,18,22,13,1,10,22,15,14,19,7,22,6,13,18,23,19,22,7,19,19,20,18,16,4,11,1,22,12,9,19,19,19,8,21,12,4,19,11,19,10,17,23,9,22,21,3,18,21,19,15,19,19,14,14,8,19,18,15,21,19,4,10,11,22,19,15,1,20,19,15,19,0,18,0,14,19,22,9,21,9,0,20,19,19,19,22,2,10,17,9,19,21,20,1,22,10,2,10,7,14,7,7,22,4,9,19,12,7,23,18,9,18,5,12,18,20,14,20,11,1,9,12,22,19,19,0,19,12,14,21,13,19,4,23,5,6,12,14,18,22,10,12,18,22,10,12,20,5,19,4,20,18,21,21,17,23,7,9,22,18,12,17,9,10,20,12,4,19,21,0,10,22,19,22,4,4,12,12,12,23,4,19,22,9,15,15,1,1,9,11,7,7,14,18,8,1,4,19,12,13,7,22,13,22,15,18,23,1,19,15,20,21,15,4,19,19,20,11,19,10,1,8,18,12,8,16,12,8,11,23,11,22,12,1,12,19,1,19,15,13,21,21,16,20,4,18,11,9,21,19,22,19,23,23,22,21,17,11,18,19,18,15,22,19,19,1,4,0,0,12,22,23,3,4,4,12,19,18,4,22,19,10,21,23,11,21,4,8,16,9,15,23,4,23,4,20,17,19,19,14,21,19,1,18,21,4,23,7,0,10,5,19,19,23,4,12,20,8,4,1,4,21,0,19,19,12,22,18,12,14,21,4,12,4,12,19,18,21,12,20,12,10,1,16,10,16,21,14,10,7,21,21,23,4,8,8,21,18,22,14,7,1,4,2,12,10,23,7,23,9,9,22,11,17,15,20,7,4,12,18,4,21,10,1,21,8,4,4,14,8,12,8,9,19,21,9,1,7,3,23,4,10,9,11,19,8,4,5,8,18,8,20,19,21,10,4,9,22,19,23,7,7,10,14,23,18,19,19,9,1,22,19,22,19,12,1,22,12,9,19,19,19,19,17,21,13,1,17,11,13,6,12,4,1,14,18,22,19,10,4,2,21,20,19,22,4,20,11,21,19,22,7,13,23,23,12,8,1,4,4,13,10,19,4,11,0,12,8,12,23,10,0,4,12,9,0,7,16,22,15,10,12,7,11,22,0,21,9,19,19,9,12,3,20,10,9,19,19,19,18,1,19,19,0,19,9,4,21,14,23,21,4,15,18,19,11,17,1,11,21,18,19,17,4,12,21,23,21,3,19,17,11,12,11,17,13,22,19,8,4,4,20,1,19,1,18,12,18,11,4,19,21,19,10,19,0,20,14,4,13,4,1,8,4,4,22,23,21,19,12,1,7,23,1,22,23,20,16,22,19,18,22,1,23,20,12,15,21,4,23,4,8,8,22,12,19,20,21,14,12,4,22,7,12,0,8,14,8,23,22,23,20,22,8,4,8,10,12,15,4,8,12,22,4,9,20,1,19,21,12,4,22,7,22,19,20,22,21,19,6,8,11,18,21,9,10,12,16,19,13,23,3,20,11,7,19,12,4,11,1,4,19,10,19,19,19,19,19,9,19,12,13,12,5,11,4,15,17,1,10,12,20,23,23,11,21,12,21,8,20,20,18,22,16,9,1,22,16,16,7,5,19,19,18,23,5,12,19,21,20,21,2,4,10,19,19,19,1,20,16,14,9,12,0,21,17,19,21,23,18,19,18,18,20,2,12,4,10,1,13,12,4,11,9,21,4,4,20,14,4,12,9,19,9,0,19,8,22,21,1,22,9,7,12,19,22,18,13,4,19,16,17,17,9,11,22,9,16,1,12,21,8,23,20,11,23,11,10,4,7,15,1,22,23,20,1,1,23,19,17,12,22,19,21,19,18,4,19,21,21,12,23,16,19,13,5,19,19,22,22,4,15,10,21,12,9,15,19,12,21,21,4,8,10,22,10,2,1,1,11,4,22,19,6,19,2,7,0,10,16,8,18,12,9,21,12,9,1,4,23,16,18,23,4,19,18,22,1,1,1,16,18,7,13,4,4,17,4,19,16,6,4,14,8,19,16,18,21,21,0,19,19,19,15,19,16,10,21,14,19,19,8,8,23,21,19,23,22,10,8,13,4,20,12,4,19,4,11,20,4,7,4,12,16,14,19,14,13,0,22,12,12,10,19,10,19,3,12,21,15,12,19,21,21,4,12,20,10,9,4,6,13,12,12,16,4,19,10,10,19,20,7,0,1,19,21,18,12,4,14,19,1,21,1,15,19,8,15,8,8,4,18,12,19,4,1,18,1,1,14,8,4,21,4,19,11,19,23,8,17,13,8,10,14,10,4,19,14,21,20,8,12,22,21,8,21,10,20,11,0,11,12,0,19,12,11,16,8,12,1,12,12,20,22,19,23,19,22,12,22,19,11,1,21,15,18,12,21,4,1,9,21,9,19,4,21,1,10,1,19,8,11,7,19,12,19,8,8,19,19,22,12,10,20,4,22,18,19,4,12,13,21,19,12,10,19,20,3,9,23,21,23,12,15,9,20,7,9,18,22,1,19,21,4,11,19,18,23,0,15,13,21,22,21,18,21,12,13,19,1,4,12,18,12,12,19,21,22,4,22,21,16,20,19,19,12,20,23,12,10,8,21,19,19,12,12,22,1,19,19,21,14,9,4,1,22,10,19,0,23,21,15,0,16,20,6,18,12,19,20,23,11,11,21,9,10,19,0,12,21,0,23,19,1,16,19,13,21,13,19,21,7,18,14,10,18,13,12,18,22,12,4,19,12,19,21,19,20,19,9,16,1,19,22,19,22,13,4,20,4,19,8,12,4,19,19,22,19,14,21,0,16,4,18,7,20,6,21,0,4,16,23,16,1,2,10,1,7,7,9,4,0,19,1,4,19,18,11,11,4,14,12,10,0,16,17,20,4,10,7,8,9,19,10,14,10,8,14,22,13,9,7,19,21,4,4,8,12,19,21,21,19,4,1,21,16,7,19,4,19,19,22,13,14,4,0,19,9,19,11,21,4,16,11,19,21,11,0,22,18,10,19,11,4,18,17,13,19,14,1,18,16,1,21,19,7,23,0,19,23,19,21,16,13,20,0,7,23,21,21,16,19,19,19,11,19,4,1,19,20,22,19,12,11,18,16,21,19,13,4,9,21,13,19,10,7,19,19,22,16,0,11,23,19,19,23,23,12,1,22,7,4,22,7,4,19,22,12,13,19,19,12,12,8,19,7,13,9,18,0,1,4,19,23,10,20,1,13,8,12,22,23,4,10,1,19,6,21,14,21,18,12,12,21,1,12,21,9,21,23,18,18,12,19,8,4,13,14,13,20,19,16,8,19,16,9,4,12,1,13,21,8,19,8,3,12,22,22,11,18,18,13,16,19,16,19,14,20,19,19,4,3,17,8,8,19,19,12,1,19,12,19,21,1,18,1,10,19,20,1,22,19,12,19,19,22,18,18,21,16,8,21,16,11,20,12,8,13,21,17,18,21,20,22,16,22,12,16,21,16,13,8,20,12,9,22,4,8,2,6,12,18,9,21,17,20,18,9,1,11,19,16,12,18,7,0,13,22,19,7,5,10,22,22,14,0,1,8,4,19,13,20,19,23,18,12,23,16,11,21,1,21,19,4,22,9,14,4,10,0,19,16,4,2,4,9,22,20,19,12,9,4,17,19,19,9,1,7,11,11,4,19,20,22,1,4,4,8,8,12,7,22,20,19,12,18,4,10,22,21,20,19,16,20,12,22,7,19,10,1,11,14,7,10,5,6,4,20,22,17,4,22,2,1,19,7,14,0,12,22,9,23,0,19,19,4,17,1,20,8,12,1,9,7,22,0,10,18,23,23,19,9,20,21,16,15,16,1,14,7,23,20,21,19,14,4,12,14,12,19,21,7,16,22,9,0,4,12,19,2,23,19,19,10,7,8,5,20,19,23,12,14,5,17,1,4,23,4,16,4,21,17,23,21,8,18,16,11,12,19,0,11,18,19,19,16,19,4,22,23,0,20,7,19,22,16,6,8,22,17,10,9,19,11,17,12,7,21,13,18,1,18,9,23,8,11,18,16,19,14,22,12,23,9,22,19,12,18,17,18,18,22,7,21,12,4,8,18,1,4,23,0,12,17,22,18,11,4,19,4,11,9,5,22,11,23,4,14,0,19,19,12,0,17,21,12,0,17,19,10,12,9,22,8,16,20,8,22,21,19,22,1,14,14,9,10,7,1,12,23,14,7,9,19,0,12,21,13,21,4,1,16,10,12,16,0,22,11,8,19,13,10,5,19,22,22,12,19,8,18,19,19,12,22,7,19,4,19,12,18,14,21,19,9,9,9,18,23,20,9,19,0,0,13,5,19,19,23,16,10,13,19,11,9,1,20,19,19,18,18,13,21,4,2,19,12,13,12,1,12,18,19,7,22,21,7,7,12,22,19,1,4,13,15,8,21,22,1,18,12,4,19,3,19,0,8,19,22,19,14,18,21,16,19,7,10,1,12,12,12,22,11,19,18,10,11,1,19,15,19,13,19,0,18,12,6,12,8,4,9,9,14,23,0,19,5,12,21,17,19,20,19,19,23,22,19,4,21,7,19,8,22,23,11,14,19],\"type\":\"box\"}],                        {\"template\":{\"data\":{\"histogram2dcontour\":[{\"type\":\"histogram2dcontour\",\"colorbar\":{\"outlinewidth\":0,\"ticks\":\"\"},\"colorscale\":[[0.0,\"#0d0887\"],[0.1111111111111111,\"#46039f\"],[0.2222222222222222,\"#7201a8\"],[0.3333333333333333,\"#9c179e\"],[0.4444444444444444,\"#bd3786\"],[0.5555555555555556,\"#d8576b\"],[0.6666666666666666,\"#ed7953\"],[0.7777777777777778,\"#fb9f3a\"],[0.8888888888888888,\"#fdca26\"],[1.0,\"#f0f921\"]]}],\"choropleth\":[{\"type\":\"choropleth\",\"colorbar\":{\"outlinewidth\":0,\"ticks\":\"\"}}],\"histogram2d\":[{\"type\":\"histogram2d\",\"colorbar\":{\"outlinewidth\":0,\"ticks\":\"\"},\"colorscale\":[[0.0,\"#0d0887\"],[0.1111111111111111,\"#46039f\"],[0.2222222222222222,\"#7201a8\"],[0.3333333333333333,\"#9c179e\"],[0.4444444444444444,\"#bd3786\"],[0.5555555555555556,\"#d8576b\"],[0.6666666666666666,\"#ed7953\"],[0.7777777777777778,\"#fb9f3a\"],[0.8888888888888888,\"#fdca26\"],[1.0,\"#f0f921\"]]}],\"heatmap\":[{\"type\":\"heatmap\",\"colorbar\":{\"outlinewidth\":0,\"ticks\":\"\"},\"colorscale\":[[0.0,\"#0d0887\"],[0.1111111111111111,\"#46039f\"],[0.2222222222222222,\"#7201a8\"],[0.3333333333333333,\"#9c179e\"],[0.4444444444444444,\"#bd3786\"],[0.5555555555555556,\"#d8576b\"],[0.6666666666666666,\"#ed7953\"],[0.7777777777777778,\"#fb9f3a\"],[0.8888888888888888,\"#fdca26\"],[1.0,\"#f0f921\"]]}],\"heatmapgl\":[{\"type\":\"heatmapgl\",\"colorbar\":{\"outlinewidth\":0,\"ticks\":\"\"},\"colorscale\":[[0.0,\"#0d0887\"],[0.1111111111111111,\"#46039f\"],[0.2222222222222222,\"#7201a8\"],[0.3333333333333333,\"#9c179e\"],[0.4444444444444444,\"#bd3786\"],[0.5555555555555556,\"#d8576b\"],[0.6666666666666666,\"#ed7953\"],[0.7777777777777778,\"#fb9f3a\"],[0.8888888888888888,\"#fdca26\"],[1.0,\"#f0f921\"]]}],\"contourcarpet\":[{\"type\":\"contourcarpet\",\"colorbar\":{\"outlinewidth\":0,\"ticks\":\"\"}}],\"contour\":[{\"type\":\"contour\",\"colorbar\":{\"outlinewidth\":0,\"ticks\":\"\"},\"colorscale\":[[0.0,\"#0d0887\"],[0.1111111111111111,\"#46039f\"],[0.2222222222222222,\"#7201a8\"],[0.3333333333333333,\"#9c179e\"],[0.4444444444444444,\"#bd3786\"],[0.5555555555555556,\"#d8576b\"],[0.6666666666666666,\"#ed7953\"],[0.7777777777777778,\"#fb9f3a\"],[0.8888888888888888,\"#fdca26\"],[1.0,\"#f0f921\"]]}],\"surface\":[{\"type\":\"surface\",\"colorbar\":{\"outlinewidth\":0,\"ticks\":\"\"},\"colorscale\":[[0.0,\"#0d0887\"],[0.1111111111111111,\"#46039f\"],[0.2222222222222222,\"#7201a8\"],[0.3333333333333333,\"#9c179e\"],[0.4444444444444444,\"#bd3786\"],[0.5555555555555556,\"#d8576b\"],[0.6666666666666666,\"#ed7953\"],[0.7777777777777778,\"#fb9f3a\"],[0.8888888888888888,\"#fdca26\"],[1.0,\"#f0f921\"]]}],\"mesh3d\":[{\"type\":\"mesh3d\",\"colorbar\":{\"outlinewidth\":0,\"ticks\":\"\"}}],\"scatter\":[{\"fillpattern\":{\"fillmode\":\"overlay\",\"size\":10,\"solidity\":0.2},\"type\":\"scatter\"}],\"parcoords\":[{\"type\":\"parcoords\",\"line\":{\"colorbar\":{\"outlinewidth\":0,\"ticks\":\"\"}}}],\"scatterpolargl\":[{\"type\":\"scatterpolargl\",\"marker\":{\"colorbar\":{\"outlinewidth\":0,\"ticks\":\"\"}}}],\"bar\":[{\"error_x\":{\"color\":\"#2a3f5f\"},\"error_y\":{\"color\":\"#2a3f5f\"},\"marker\":{\"line\":{\"color\":\"#E5ECF6\",\"width\":0.5},\"pattern\":{\"fillmode\":\"overlay\",\"size\":10,\"solidity\":0.2}},\"type\":\"bar\"}],\"scattergeo\":[{\"type\":\"scattergeo\",\"marker\":{\"colorbar\":{\"outlinewidth\":0,\"ticks\":\"\"}}}],\"scatterpolar\":[{\"type\":\"scatterpolar\",\"marker\":{\"colorbar\":{\"outlinewidth\":0,\"ticks\":\"\"}}}],\"histogram\":[{\"marker\":{\"pattern\":{\"fillmode\":\"overlay\",\"size\":10,\"solidity\":0.2}},\"type\":\"histogram\"}],\"scattergl\":[{\"type\":\"scattergl\",\"marker\":{\"colorbar\":{\"outlinewidth\":0,\"ticks\":\"\"}}}],\"scatter3d\":[{\"type\":\"scatter3d\",\"line\":{\"colorbar\":{\"outlinewidth\":0,\"ticks\":\"\"}},\"marker\":{\"colorbar\":{\"outlinewidth\":0,\"ticks\":\"\"}}}],\"scattermapbox\":[{\"type\":\"scattermapbox\",\"marker\":{\"colorbar\":{\"outlinewidth\":0,\"ticks\":\"\"}}}],\"scatterternary\":[{\"type\":\"scatterternary\",\"marker\":{\"colorbar\":{\"outlinewidth\":0,\"ticks\":\"\"}}}],\"scattercarpet\":[{\"type\":\"scattercarpet\",\"marker\":{\"colorbar\":{\"outlinewidth\":0,\"ticks\":\"\"}}}],\"carpet\":[{\"aaxis\":{\"endlinecolor\":\"#2a3f5f\",\"gridcolor\":\"white\",\"linecolor\":\"white\",\"minorgridcolor\":\"white\",\"startlinecolor\":\"#2a3f5f\"},\"baxis\":{\"endlinecolor\":\"#2a3f5f\",\"gridcolor\":\"white\",\"linecolor\":\"white\",\"minorgridcolor\":\"white\",\"startlinecolor\":\"#2a3f5f\"},\"type\":\"carpet\"}],\"table\":[{\"cells\":{\"fill\":{\"color\":\"#EBF0F8\"},\"line\":{\"color\":\"white\"}},\"header\":{\"fill\":{\"color\":\"#C8D4E3\"},\"line\":{\"color\":\"white\"}},\"type\":\"table\"}],\"barpolar\":[{\"marker\":{\"line\":{\"color\":\"#E5ECF6\",\"width\":0.5},\"pattern\":{\"fillmode\":\"overlay\",\"size\":10,\"solidity\":0.2}},\"type\":\"barpolar\"}],\"pie\":[{\"automargin\":true,\"type\":\"pie\"}]},\"layout\":{\"autotypenumbers\":\"strict\",\"colorway\":[\"#636efa\",\"#EF553B\",\"#00cc96\",\"#ab63fa\",\"#FFA15A\",\"#19d3f3\",\"#FF6692\",\"#B6E880\",\"#FF97FF\",\"#FECB52\"],\"font\":{\"color\":\"#2a3f5f\"},\"hovermode\":\"closest\",\"hoverlabel\":{\"align\":\"left\"},\"paper_bgcolor\":\"white\",\"plot_bgcolor\":\"#E5ECF6\",\"polar\":{\"bgcolor\":\"#E5ECF6\",\"angularaxis\":{\"gridcolor\":\"white\",\"linecolor\":\"white\",\"ticks\":\"\"},\"radialaxis\":{\"gridcolor\":\"white\",\"linecolor\":\"white\",\"ticks\":\"\"}},\"ternary\":{\"bgcolor\":\"#E5ECF6\",\"aaxis\":{\"gridcolor\":\"white\",\"linecolor\":\"white\",\"ticks\":\"\"},\"baxis\":{\"gridcolor\":\"white\",\"linecolor\":\"white\",\"ticks\":\"\"},\"caxis\":{\"gridcolor\":\"white\",\"linecolor\":\"white\",\"ticks\":\"\"}},\"coloraxis\":{\"colorbar\":{\"outlinewidth\":0,\"ticks\":\"\"}},\"colorscale\":{\"sequential\":[[0.0,\"#0d0887\"],[0.1111111111111111,\"#46039f\"],[0.2222222222222222,\"#7201a8\"],[0.3333333333333333,\"#9c179e\"],[0.4444444444444444,\"#bd3786\"],[0.5555555555555556,\"#d8576b\"],[0.6666666666666666,\"#ed7953\"],[0.7777777777777778,\"#fb9f3a\"],[0.8888888888888888,\"#fdca26\"],[1.0,\"#f0f921\"]],\"sequentialminus\":[[0.0,\"#0d0887\"],[0.1111111111111111,\"#46039f\"],[0.2222222222222222,\"#7201a8\"],[0.3333333333333333,\"#9c179e\"],[0.4444444444444444,\"#bd3786\"],[0.5555555555555556,\"#d8576b\"],[0.6666666666666666,\"#ed7953\"],[0.7777777777777778,\"#fb9f3a\"],[0.8888888888888888,\"#fdca26\"],[1.0,\"#f0f921\"]],\"diverging\":[[0,\"#8e0152\"],[0.1,\"#c51b7d\"],[0.2,\"#de77ae\"],[0.3,\"#f1b6da\"],[0.4,\"#fde0ef\"],[0.5,\"#f7f7f7\"],[0.6,\"#e6f5d0\"],[0.7,\"#b8e186\"],[0.8,\"#7fbc41\"],[0.9,\"#4d9221\"],[1,\"#276419\"]]},\"xaxis\":{\"gridcolor\":\"white\",\"linecolor\":\"white\",\"ticks\":\"\",\"title\":{\"standoff\":15},\"zerolinecolor\":\"white\",\"automargin\":true,\"zerolinewidth\":2},\"yaxis\":{\"gridcolor\":\"white\",\"linecolor\":\"white\",\"ticks\":\"\",\"title\":{\"standoff\":15},\"zerolinecolor\":\"white\",\"automargin\":true,\"zerolinewidth\":2},\"scene\":{\"xaxis\":{\"backgroundcolor\":\"#E5ECF6\",\"gridcolor\":\"white\",\"linecolor\":\"white\",\"showbackground\":true,\"ticks\":\"\",\"zerolinecolor\":\"white\",\"gridwidth\":2},\"yaxis\":{\"backgroundcolor\":\"#E5ECF6\",\"gridcolor\":\"white\",\"linecolor\":\"white\",\"showbackground\":true,\"ticks\":\"\",\"zerolinecolor\":\"white\",\"gridwidth\":2},\"zaxis\":{\"backgroundcolor\":\"#E5ECF6\",\"gridcolor\":\"white\",\"linecolor\":\"white\",\"showbackground\":true,\"ticks\":\"\",\"zerolinecolor\":\"white\",\"gridwidth\":2}},\"shapedefaults\":{\"line\":{\"color\":\"#2a3f5f\"}},\"annotationdefaults\":{\"arrowcolor\":\"#2a3f5f\",\"arrowhead\":0,\"arrowwidth\":1},\"geo\":{\"bgcolor\":\"white\",\"landcolor\":\"#E5ECF6\",\"subunitcolor\":\"white\",\"showland\":true,\"showlakes\":true,\"lakecolor\":\"white\"},\"title\":{\"x\":0.05},\"mapbox\":{\"style\":\"light\"}}},\"title\":{\"text\":\"Box Plot for Arrival_hours\",\"font\":{\"size\":25}},\"font\":{\"color\":\"white\"},\"yaxis\":{\"title\":{\"text\":\"Values\"},\"showgrid\":true,\"gridwidth\":1,\"gridcolor\":\"white\",\"griddash\":\"dash\"},\"plot_bgcolor\":\"black\",\"paper_bgcolor\":\"black\",\"xaxis\":{\"showgrid\":true,\"gridwidth\":1,\"gridcolor\":\"white\",\"griddash\":\"dash\"}},                        {\"responsive\": true}                    ).then(function(){\n",
       "                            \n",
       "var gd = document.getElementById('144415d1-fb8c-4378-b757-7eda163963c3');\n",
       "var x = new MutationObserver(function (mutations, observer) {{\n",
       "        var display = window.getComputedStyle(gd).display;\n",
       "        if (!display || display === 'none') {{\n",
       "            console.log([gd, 'removed!']);\n",
       "            Plotly.purge(gd);\n",
       "            observer.disconnect();\n",
       "        }}\n",
       "}});\n",
       "\n",
       "// Listen for the removal of the full notebook cells\n",
       "var notebookContainer = gd.closest('#notebook-container');\n",
       "if (notebookContainer) {{\n",
       "    x.observe(notebookContainer, {childList: true});\n",
       "}}\n",
       "\n",
       "// Listen for the clearing of the current output cell\n",
       "var outputEl = gd.closest('.output');\n",
       "if (outputEl) {{\n",
       "    x.observe(outputEl, {childList: true});\n",
       "}}\n",
       "\n",
       "                        })                };                });            </script>        </div>"
      ]
     },
     "metadata": {},
     "output_type": "display_data"
    },
    {
     "data": {
      "text/html": [
       "<div>                            <div id=\"9a6a9e39-93c4-4b24-9abc-db87a958a0be\" class=\"plotly-graph-div\" style=\"height:525px; width:100%;\"></div>            <script type=\"text/javascript\">                require([\"plotly\"], function(Plotly) {                    window.PLOTLYENV=window.PLOTLYENV || {};                                    if (document.getElementById(\"9a6a9e39-93c4-4b24-9abc-db87a958a0be\")) {                    Plotly.newPlot(                        \"9a6a9e39-93c4-4b24-9abc-db87a958a0be\",                        [{\"name\":\"Arrival_min\",\"y\":[10,15,25,30,35,25,25,5,25,15,0,55,55,20,50,15,15,35,15,35,20,20,50,50,15,35,35,55,35,20,20,15,50,35,35,0,20,45,15,0,10,15,0,55,0,35,50,55,5,0,15,55,10,15,45,0,55,20,30,45,50,25,0,30,20,0,35,25,15,35,30,15,0,35,5,35,30,55,35,35,0,35,40,0,0,25,25,25,45,25,30,20,25,15,20,40,35,50,30,35,45,15,25,35,55,25,50,15,15,0,5,50,5,25,55,30,25,35,40,0,35,25,5,15,40,10,15,0,50,5,50,25,50,10,30,0,25,15,45,50,30,45,25,10,55,35,25,25,0,0,40,50,30,45,15,55,35,45,15,25,25,25,15,10,15,25,25,35,25,15,35,10,5,0,20,5,30,50,5,0,25,5,30,0,5,15,35,45,5,55,5,50,30,0,15,0,40,25,10,30,40,55,50,0,0,10,35,35,35,25,25,20,10,15,5,15,50,15,10,0,45,15,35,15,25,15,50,20,15,50,30,20,15,45,35,55,45,0,20,0,20,0,0,0,20,20,25,0,5,15,10,15,50,20,15,30,45,10,0,0,0,50,20,10,25,35,30,55,55,5,5,10,15,30,25,45,40,25,15,50,50,25,5,0,5,30,55,35,25,20,20,15,15,5,5,20,10,5,15,35,5,40,55,25,20,25,15,25,40,40,50,0,0,0,35,15,5,30,25,55,10,25,25,30,45,0,25,15,20,45,15,20,40,5,5,30,35,0,0,0,50,30,55,30,15,50,0,35,45,45,45,5,5,15,25,20,35,10,45,35,0,35,20,55,45,50,30,5,30,20,10,25,50,20,35,0,50,40,35,0,35,35,55,40,0,5,0,45,50,0,0,25,15,35,0,20,15,55,45,35,45,35,40,40,40,40,40,20,15,15,15,0,25,25,0,10,20,35,50,50,10,20,50,20,0,0,35,15,5,40,40,0,25,10,15,0,10,50,15,15,55,45,10,15,40,20,15,0,40,50,0,15,35,30,10,15,0,0,15,30,15,50,50,45,25,40,55,30,15,40,25,15,30,25,50,50,15,50,20,20,0,0,15,0,40,35,15,45,35,10,45,35,40,30,0,20,25,0,20,35,5,35,25,15,25,25,45,40,50,25,25,15,10,45,25,15,20,0,35,50,20,20,35,35,15,55,35,0,30,0,20,0,25,0,10,15,25,5,10,15,15,45,15,20,45,45,35,30,40,25,10,25,20,15,0,50,50,10,5,35,5,55,30,15,10,30,50,10,55,25,10,50,55,35,10,55,40,40,0,35,5,10,55,0,20,10,40,5,25,45,40,10,10,45,40,55,15,15,35,25,15,40,15,40,25,50,15,25,0,25,5,15,0,25,40,0,55,45,45,30,25,25,5,25,20,40,5,45,5,40,15,50,40,20,50,45,50,10,0,55,50,35,35,25,45,50,15,0,55,55,50,55,15,35,30,45,15,45,15,35,35,25,0,35,55,35,50,15,5,40,25,0,15,15,40,0,40,0,45,35,0,15,15,25,15,35,35,15,55,20,5,30,55,10,25,10,30,35,30,25,30,45,25,5,30,5,35,40,15,35,0,15,45,20,20,10,35,15,25,10,50,0,20,0,25,50,35,25,35,0,0,10,20,5,30,0,40,40,0,20,50,0,35,35,20,15,30,55,30,50,30,20,0,15,25,10,15,10,0,50,30,15,0,15,0,55,5,0,25,25,25,20,35,30,40,40,50,45,35,10,55,50,25,30,35,25,50,15,5,20,25,50,35,40,0,50,10,30,15,25,25,0,5,10,10,20,0,55,0,25,25,30,40,40,15,0,35,45,35,45,10,35,25,25,10,0,10,45,45,40,15,0,0,0,20,15,10,25,0,0,10,0,0,20,45,15,35,20,25,25,15,30,20,15,15,15,25,15,50,5,25,50,15,5,0,25,10,10,35,55,0,0,5,10,30,35,10,15,35,40,45,45,30,25,0,10,35,10,5,45,0,0,25,30,30,10,10,20,50,20,5,25,55,35,25,10,35,10,15,5,15,25,50,45,55,0,35,30,25,15,20,25,40,45,25,25,0,30,50,15,25,5,20,45,20,0,10,25,30,25,25,0,50,35,15,15,10,5,40,20,20,25,25,50,25,40,25,40,55,45,45,35,25,25,15,30,15,35,20,15,15,25,35,20,35,45,25,40,45,25,45,30,55,45,25,30,55,0,30,25,30,10,20,55,50,20,40,0,0,40,35,0,10,30,30,35,35,10,35,30,15,15,5,40,55,40,45,0,15,0,30,10,10,20,35,15,50,20,25,5,40,5,30,0,5,15,50,15,25,30,10,25,15,50,35,15,25,20,35,50,15,0,10,10,30,15,20,35,35,30,25,15,0,40,35,15,5,25,20,15,45,45,50,0,0,0,20,5,20,25,10,25,5,35,5,0,30,40,35,25,20,35,20,5,5,0,45,20,15,55,40,0,45,50,0,40,5,15,25,30,0,40,50,45,55,55,15,40,5,20,25,35,5,0,0,40,20,15,15,0,50,20,0,15,10,40,0,0,15,0,5,45,35,20,50,0,30,5,35,20,5,15,30,30,0,0,20,35,45,0,55,5,35,35,0,5,20,45,25,35,15,25,45,40,50,5,30,0,55,25,25,45,55,35,40,20,10,30,50,25,0,45,50,15,55,20,35,30,30,10,15,10,25,40,55,5,15,55,30,25,20,15,15,25,25,45,25,0,40,10,10,45,5,20,0,25,25,30,30,15,55,50,25,50,0,0,10,30,30,50,35,45,30,0,40,25,10,50,40,20,25,15,0,15,25,5,55,35,20,25,40,35,0,40,45,0,0,30,40,25,15,0,15,0,20,25,55,35,45,35,10,30,20,25,45,25,55,0,45,35,45,15,15,0,25,45,0,20,30,30,0,45,15,0,55,25,20,50,15,5,10,40,35,25,55,0,30,0,10,0,5,25,45,20,45,10,35,15,20,0,40,55,35,45,5,5,25,45,20,15,20,35,50,0,50,15,15,20,15,30,0,0,35,10,35,25,15,45,0,55,25,45,0,20,20,0,15,30,15,20,20,0,15,25,0,5,40,30,35,0,55,20,15,5,30,55,50,35,45,0,25,30,30,55,35,55,25,0,55,10,20,35,5,10,30,55,10,30,10,30,55,5,35,10,0,25,45,50,25,40,10,45,45,25,50,5,40,35,40,40,5,10,0,5,5,10,25,25,35,10,15,20,15,15,0,55,10,15,0,50,35,35,15,35,15,20,40,20,0,40,40,50,35,45,40,15,30,0,25,0,15,0,45,15,25,0,0,40,45,0,0,30,30,35,0,10,20,10,35,10,10,10,45,25,10,20,15,40,15,45,30,15,25,35,15,10,40,0,30,25,30,25,25,25,0,5,0,35,15,0,15,0,45,45,35,5,0,0,35,45,50,50,20,25,5,20,50,35,10,30,0,0,50,35,5,50,35,20,20,35,0,45,45,0,50,15,30,30,15,20,10,10,5,30,55,25,35,25,50,25,55,5,5,15,30,25,0,40,25,25,15,0,15,5,0,35,10,10,15,0,45,30,15,25,0,25,15,45,25,25,30,25,25,35,15,25,0,0,15,10,35,15,50,5,35,10,25,45,40,15,20,20,50,25,50,25,35,5,15,35,55,10,35,15,25,50,45,55,5,25,40,35,30,40,30,50,5,35,45,35,25,55,15,40,20,35,15,15,15,50,0,35,35,25,45,15,45,25,25,30,15,35,15,20,20,20,45,35,5,25,55,0,25,40,0,35,0,45,30,30,35,30,35,5,15,35,50,0,40,30,30,15,0,45,20,15,5,15,0,40,30,50,10,45,5,0,5,45,15,5,10,40,45,0,15,25,25,10,50,0,55,45,0,25,25,0,25,15,35,20,5,50,30,20,50,45,30,35,40,25,5,0,25,0,30,0,25,15,10,25,35,5,15,40,0,5,35,25,0,40,15,50,35,10,0,35,35,20,40,20,35,35,50,30,15,25,15,50,20,40,10,15,5,45,25,35,40,25,15,0,0,20,0,20,15,5,40,25,5,50,0,0,15,25,0,25,5,50,25,20,35,0,25,45,45,15,45,50,45,25,40,0,0,40,0,35,55,40,15,50,35,50,55,30,25,5,0,40,15,45,15,25,0,20,20,10,35,25,0,25,15,10,25,40,10,30,40,30,30,5,45,10,50,30,10,35,35,25,20,35,20,25,55,0,15,35,35,55,45,0,15,35,30,0,30,0,45,25,10,30,35,35,0,45,5,30,15,15,35,50,15,20,35,5,50,0,20,45,15,15,15,15,0,10,40,35,5,50,40,0,25,35,0,0,35,20,25,25,35,15,20,35,35,55,15,30,35,50,30,15,45,35,30,45,15,20,55,15,55,35,45,45,35,25,15,15,15,5,40,15,25,25,10,25,35,30,15,50,35,55,5,30,15,45,50,25,40,15,30,20,50,30,15,0,55,50,0,15,10,20,45,20,5,15,25,35,40,45,25,35,30,30,20,50,0,10,50,0,0,5,10,0,15,40,25,0,40,25,30,10,45,20,30,15,0,55,25,5,30,30,15,0,5,35,50,30,25,0,15,25,30,0,25,0,40,25,30,35,0,15,40,0,25,0,30,40,0,50,40,20,0,25,40,40,15,15,50,50,20,30,45,5,0,45,35,45,25,25,0,40,15,0,0,25,0,40,15,35,0,10,25,5,45,0,40,10,35,35,5,55,0,0,35,20,45,20,30,35,0,0,0,20,35,30,40,0,35,15,40,25,50,0,45,50,0,25,0,35,40,25,15,50,5,15,5,15,50,15,10,15,15,15,30,0,25,30,0,15,35,35,50,35,25,45,10,20,30,40,10,45,35,10,15,15,20,25,5,40,30,50,10,0,5,0,45,35,25,50,0,25,50,35,45,40,45,45,15,30,15,50,30,20,5,15,30,35,30,45,30,25,45,25,35,20,45,30,5,35,15,30,25,0,45,10,45,0,20,10,0,25,0,25,25,10,25,15,35,5,20,45,25,35,35,25,10,0,40,50,20,30,40,20,0,45,15,5,45,50,15,20,20,25,20,30,35,5,40,0,30,20,50,45,15,45,55,45,45,55,5,15,15,45,15,35,15,25,0,20,35,10,30,0,30,15,0,0,30,5,0,35,20,20,35,45,15,20,15,25,0,10,20,25,5,50,40,30,50,35,30,30,30,55,0,30,15,5,25,25,30,35,5,35,15,25,0,0,15,40,30,0,30,0,30,25,20,30,35,15,20,50,25,25,55,25,0,35,5,0,30,15,50,15,55,25,30,35,0,15,0,20,45,30,15,30,20,25,0,25,15,50,15,40,45,10,25,5,55,30,20,40,55,10,0,50,5,0,25,50,10,35,35,50,20,40,25,40,5,20,30,35,40,15,50,0,25,15,0,50,5,30,55,45,50,40,0,50,10,20,40,15,35,0,20,20,20,50,35,50,30,0,20,40,40,55,15,15,15,0,15,0,35,0,15,45,35,5,55,10,55,0,50,55,0,35,25,40,20,5,35,50,10,25,55,0,0,15,45,30,40,20,0,55,0,25,15,35,35,45,0,25,10,20,25,25,25,40,40,55,20,50,45,55,25,30,50,40,0,45,25,0,50,20,20,40,5,40,40,25,25,35,10,50,55,30,5,0,35,55,45,30,25,25,30,40,35,5,15,15,25,35,20,50,25,25,45,25,0,10,25,15,35,35,30,15,25,15,25,45,15,40,25,15,30,10,15,0,20,30,20,55,0,15,40,15,20,25,0,40,0,40,45,55,35,50,50,15,10,25,0,15,20,40,35,25,0,15,0,45,55,30,50,50,40,50,35,15,15,5,5,10,45,40,15,35,25,55,35,0,5,35,10,40,5,15,15,15,50,0,45,15,15,30,40,0,10,10,45,25,50,50,25,15,25,0,25,40,5,25,15,35,5,20,25,55,45,30,30,45,25,35,35,0,15,30,50,35,15,55,35,15,10,20,55,0,25,25,15,25,20,35,35,30,45,20,5,30,20,0,15,40,5,15,35,45,15,20,30,5,45,35,35,5,25,40,0,30,35,30,0,55,5,25,20,20,35,50,15,5,15,15,25,30,5,40,15,20,30,30,0,15,45,0,35,5,0,50,45,30,0,35,0,0,0,0,40,20,30,30,15,30,40,30,0,20,0,0,15,25,0,0,25,45,55,35,15,15,45,50,25,30,35,55,0,40,5,20,50,0,35,5,20,50,0,15,50,10,0,40,10,20,20,25,45,55,25,0,45,25,35,10,35,15,25,30,50,20,5,20,45,25,15,5,25,45,5,40,0,5,40,25,40,15,30,35,5,15,35,20,45,35,0,20,20,40,0,0,30,25,0,20,0,30,25,5,25,25,20,40,35,25,35,25,55,10,55,35,0,0,50,0,15,40,25,30,0,0,20,0,5,10,35,50,30,25,5,5,25,0,20,5,15,15,0,20,10,20,50,0,50,20,5,5,0,40,0,0,55,30,50,0,10,20,15,25,40,25,0,35,0,30,50,25,10,40,15,35,45,25,25,15,15,45,0,40,25,5,0,25,40,25,45,45,55,30,30,40,5,25,20,20,25,35,25,35,40,30,35,15,35,55,15,25,50,20,45,25,45,0,35,15,25,25,30,0,0,0,30,35,15,5,35,0,15,10,40,30,50,20,5,35,15,5,30,15,15,15,10,30,20,25,0,40,25,50,40,0,10,15,55,35,25,10,30,15,40,45,0,20,50,5,0,25,50,40,30,40,5,35,20,20,15,25,0,15,20,35,45,10,0,55,40,20,20,10,0,15,20,55,30,25,0,25,35,15,35,15,40,0,25,50,15,5,0,20,20,30,20,20,15,30,10,0,50,30,25,55,25,55,0,25,35,25,20,45,15,5,0,0,25,10,50,45,35,35,0,5,25,45,15,25,25,30,35,30,15,20,30,10,55,5,50,40,35,50,15,5,5,15,15,35,45,20,25,0,15,30,30,0,15,30,20,20,35,40,35,20,20,20,35,10,0,30,50,10,30,0,25,20,50,40,15,30,50,20,0,35,15,0,50,50,15,25,25,0,20,25,5,0,30,50,0,10,55,30,55,50,10,50,35,30,25,55,20,15,25,0,0,15,25,25,35,50,0,55,0,15,20,0,25,20,5,25,0,30,0,15,15,50,0,50,0,25,35,30,45,35,15,30,15,10,10,50,20,45,20,15,40,40,50,5,30,30,35,35,50,0,5,40,25,35,30,40,5,0,15,35,25,50,25,45,5,35,0,0,0,25,35,25,35,45,25,0,5,45,0,10,20,15,45,45,15,5,50,35,25,25,10,40,25,15,25,10,25,40,10,25,10,10,0,45,0,40,0,25,45,0,55,50,20,30,40,5,0,40,50,25,50,15,20,15,40,0,40,0,25,25,50,0,45,35,35,15,5,20,40,25,55,0,0,25,10,10,50,30,20,30,15,35,30,40,35,15,35,5,15,20,25,25,30,45,20,25,55,35,0,25,0,20,15,5,20,15,30,15,0,15,45,30,15,20,10,10,20,50,55,45,10,35,50,30,50,15,30,40,25,55,50,5,25,30,10,20,30,0,25,40,30,25,35,40,40,5,10,0,30,5,30,55,5,15,20,25,15,25,35,55,50,40,30,20,55,50,35,25,50,10,35,30,25,5,55,15,40,20,30,20,50,20,45,0,50,25,15,50,15,25,20,45,40,50,5,35,30,30,15,25,10,45,5,55,25,45,55,15,30,25,20,15,0,35,55,30,25,55,0,25,15,50,20,45,0,55,40,15,40,35,35,10,25,20,45,0,0,40,0,15,15,15,50,15,0,40,0,0,20,30,5,35,25,45,20,5,0,0,25,15,45,15,25,15,0,35,10,50,35,0,25,40,25,30,0,0,50,25,15,45,30,45,25,10,10,35,35,50,35,55,15,0,20,35,35,5,0,0,35,10,40,0,0,40,15,45,50,50,20,5,25,15,55,35,35,25,0,15,5,35,15,30,15,30,15,0,35,20,55,35,20,45,20,40,10,35,45,10,30,50,30,15,25,25,0,30,5,20,50,25,25,15,55,55,35,0,50,55,55,25,30,15,45,5,20,10,0,20,25,25,25,20,55,45,35,0,10,0,35,15,15,0,55,40,40,0,0,0,5,10,30,20,30,25,20,30,20,40,0,35,20,25,25,40,20,15,5,0,40,35,50,40,20,35,25,35,15,55,55,30,15,25,15,35,25,15,50,20,35,35,40,45,35,5,30,0,55,0,35,40,25,15,0,40,30,10,25,35,25,45,55,15,15,15,30,25,0,35,15,0,15,15,45,15,55,20,40,25,5,0,15,0,0,50,50,10,50,25,10,15,25,30,35,40,15,50,0,35,25,45,10,55,30,35,35,20,50,10,15,40,5,0,50,30,45,25,0,50,0,15,20,20,20,45,40,40,5,35,0,45,0,50,50,5,25,50,5,0,15,20,55,5,55,40,35,15,25,25,40,0,20,10,0,20,45,15,5,55,55,15,30,15,0,15,25,0,45,20,15,25,0,30,20,50,35,30,10,30,0,15,20,25,35,25,50,55,15,55,5,30,25,15,50,15,35,40,35,45,35,30,0,40,45,10,15,50,25,25,0,15,50,40,15,0,45,25,10,45,45,45,25,0,20,30,25,25,15,30,10,0,55,50,55,15,30,20,0,20,30,10,15,25,0,50,35,45,35,45,45,35,50,10,20,25,0,25,30,20,20,25,15,50,25,15,50,5,5,15,45,0,15,20,35,35,15,35,55,5,10,25,0,50,40,0,5,55,15,35,30,5,25,15,35,30,40,35,0,25,15,45,5,10,35,25,55,15,0,15,35,25,15,55,40,45,35,20,55,5,50,35,25,50,0,35,20,40,25,15,20,55,15,15,5,20,0,25,25,50,55,40,30,15,0,15,15,25,0,45,25,40,45,50,30,20,30,15,15,25,30,30,45,45,5,35,5,15,30,15,0,40,0,0,35,0,25,35,45,0,25,40,25,50,30,20,55,0,40,35,30,25,25,0,35,30,0,0,25,45,25,30,5,35,40,25,35,40,10,25,30,15,15,15,0,15,40,25,20,25,20,50,30,25,40,50,50,35,35,35,25,5,10,25,40,10,35,5,35,15,20,15,15,15,20,15,25,30,10,35,0,25,0,40,20,15,45,25,15,35,45,35,35,0,55,45,50,15,45,30,0,40,50,30,10,20,10,35,50,35,15,35,15,0,15,0,30,45,55,45,30,25,10,25,50,45,10,25,25,30,20,35,15,45,35,15,0,50,25,45,30,15,35,15,30,55,35,10,0,30,20,25,50,45,20,50,25,10,5,25,0,20,20,15,30,10,15,0,50,25,10,25,25,15,15,35,0,25,50,35,10,15,30,0,50,20,25,0,35,25,35,0,50,25,30,5,15,25,50,45,0,25,25,20,50,10,0,15,40,15,35,20,0,15,25,55,35,5,0,5,0,35,25,50,35,5,50,30,30,20,35,10,45,0,45,30,0,5,45,35,15,0,25,50,5,30,45,25,25,30,40,50,30,20,5,55,25,15,40,35,0,35,25,0,15,40,55,25,45,45,10,50,10,0,20,35,25,35,15,45,45,20,30,15,50,10,20,20,0,30,0,0,0,50,50,35,15,25,5,10,25,50,50,30,25,35,0,15,25,25,0,0,50,15,10,35,0,45,0,25,0,15,25,0,30,0,25,5,50,45,40,35,55,30,35,35,30,35,45,45,25,35,40,20,55,50,30,25,5,10,35,40,15,40,40,45,20,15,25,35,0,20,25,35,35,10,50,25,0,50,10,10,0,0,10,25,0,30,25,35,30,0,15,0,15,45,15,40,20,40,0,10,25,15,45,35,30,35,50,35,40,50,35,20,50,40,10,35,35,35,15,0,25,35,35,45,55,40,35,40,30,20,0,35,50,10,5,25,5,20,25,15,0,45,0,10,15,50,0,0,55,15,15,30,35,0,35,20,35,5,25,35,35,50,25,5,20,5,0,15,5,15,50,10,50,30,35,25,20,50,5,5,40,15,10,25,5,20,25,40,45,0,25,35,5,15,0,5,55,50,35,20,15,25,45,55,40,20,5,0,30,5,40,5,30,40,30,20,55,55,50,0,20,20,35,30,35,0,10,35,0,15,30,0,5,10,25,20,15,15,45,45,40,0,20,10,0,25,0,15,10,40,0,0,25,30,30,15,30,40,50,15,20,30,0,25,55,50,40,0,30,15,40,45,35,30,5,15,35,35,35,30,20,25,50,0,45,40,5,0,25,5,20,35,10,5,5,35,40,0,55,15,35,10,25,35,0,0,0,45,10,20,55,35,10,50,30,35,20,15,55,30,50,0,0,25,30,25,15,35,5,0,50,15,35,30,5,35,15,15,5,5,25,30,15,55,0,5,20,50,25,40,30,0,40,15,20,20,55,15,20,15,30,40,10,55,40,0,25,20,25,45,50,20,5,25,35,20,15,10,10,15,50,20,25,20,25,15,25,25,35,25,35,50,15,45,40,30,0,30,50,50,15,0,0,15,20,15,25,55,15,50,10,50,30,20,35,0,45,10,0,0,0,50,0,20,20,55,50,40,45,50,0,50,40,35,5,40,20,15,45,30,45,35,50,25,45,35,10,30,0,35,50,50,10,25,35,20,20,35,35,50,25,25,20,50,0,20,25,0,25,10,45,35,40,20,30,40,30,5,0,20,30,20,20,15,20,0,25,5,0,10,35,40,10,50,10,15,25,35,0,20,35,45,15,20,50,0,40,45,15,35,45,30,30,55,25,45,50,0,55,20,30,15,45,20,0,35,20,25,35,30,0,20,20,20,50,25,15,35,55,25,25,25,0,15,25,50,25,5,35,45,10,20,20,10,15,10,45,0,0,50,0,30,15,15,10,35,55,20,30,0,30,20,55,5,35,5,0,35,5,40,45,0,30,0,20,15,40,30,35,35,5,0,0,20,20,0,5,35,30,0,0,50,5,15,10,0,25,15,30,0,10,35,30,10,35,50,15,0,30,50,25,5,0,45,25,50,20,55,55,50,20,35,10,40,10,20,30,45,0,35,15,30,10,30,25,15,0,5,30,0,25,20,15,5,20,45,50,40,25,20,0,45,30,5,30,5,30,20,55,10,15,0,45,20,40,15,45,20,15,55,15,20,0,20,15,5,5,40,15,50,25,10,25,5,0,0,35,25,0,0,30,30,15,45,50,55,30,50,5,30,55,25,5,55,40,30,40,25,45,25,30,5,50,45,45,0,0,10,30,45,20,50,0,5,10,25,5,40,15,55,5,0,50,0,25,15,45,0,50,30,20,25,50,40,15,0,25,50,30,45,0,30,35,15,45,25,10,20,15,20,10,25,50,45,30,0,25,40,40,10,35,35,25,20,30,50,20,15,50,10,5,0,40,30,20,30,15,25,25,35,0,15,40,5,40,25,5,15,50,10,50,20,30,35,30,55,5,10,0,5,50,20,15,25,0,50,50,55,0,40,25,15,35,0,40,0,50,35,35,35,15,35,25,40,50,15,25,15,35,35,0,35,15,0,0,0,5,35,0,55,20,50,50,15,35,5,5,30,55,25,5,45,10,5,15,0,20,50,30,0,20,15,30,35,5,45,20,5,35,25,0,20,35,35,25,45,45,35,40,10,0,30,35,5,15,15,0,50,20,25,40,0,5,15,15,0,50,50,25,15,30,10,45,20,35,0,15,25,45,15,55,35,0,40,25,40,0,10,15,50,45,15,40,20,5,5,30,15,20,15,25,20,45,55,15,0,0,0,25,25,5,15,35,50,40,45,30,0,10,35,25,50,30,0,15,55,45,45,15,50,40,15,5,35,50,30,0,5,5,30,0,20,15,15,50,0,30,15,55,25,20,45,25,45,0,25,40,45,55,30,15,10,35,55,40,0,25,45,0,5,55,55,15,30,0,0,20,5,0,25,45,15,50,55,35,25,15,25,20,20,25,20,0,40,40,30,50,35,5,0,25,15,45,30,25,15,40,40,20,35,50,0,45,35,55,0,5,15,35,35,55,5,15,5,45,0,25,25,35,35,35,30,20,35,20,30,0,35,30,5,25,50,0,5,30,0,35,0,25,0,25,25,0,0,30,45,15,55,20,15,35,5,45,15,15,10,50,15,15,0,10,35,45,5,0,30,30,5,20,25,40,40,30,0,50,15,0,35,25,35,25,35,20,0,35,35,15,50,45,50,25,25,5,20,45,15,35,0,5,45,40,25,20,10,5,55,25,15,20,35,25,15,30,15,10,30,0,30,15,25,35,0,50,5,20,15,35,15,10,50,15,45,15,30,30,35,20,45,15,10,35,20,50,0,30,15,0,0,30,40,30,50,5,25,15,50,25,45,15,30,15,25,15,30,5,10,15,15,0,30,50,25,50,55,20,45,10,25,20,25,25,0,0,10,5,30,30,0,35,35,55,30,20,35,15,0,45,40,35,30,55,55,50,0,25,35,10,5,40,55,0,45,20,35,50,0,45,20,10,5,25,50,45,50,0,10,35,0,35,45,30,55,20,35,20,25,0,55,5,25,0,15,55,5,30,10,30,15,10,25,0,20,15,50,15,55,15,35,50,30,30,30,10,5,50,40,0,15,0,20,0,45,0,50,30,45,0,5,30,40,25,45,50,25,10,0,0,20,10,15,55,35,10,45,25,0,25,50,50,50,45,15,40,30,55,15,25,50,5,35,50,0,50,10,25,15,0,50,20,15,35,0,15,35,0,45,15,0,20,45,50,20,10,10,0,40,0,15,20,25,40,20,50,40,25,25,5,40,5,5,30,0,5,5,45,25,25,40,0,25,35,15,35,20,0,45,50,55,0,30,5,35,15,25,30,0,0,10,25,25,0,45,35,0,0,35,15,15,45,25,45,25,0,10,30,50,35,20,5,15,10,30,0,15,25,15,45,30,0,25,5,10,0,0,40,15,25,35,10,20,15,0,10,0,0,15,15,25,50,15,0,30,15,40,55,0,25,25,0,15,45,20,0,20,45,0,15,20,35,0,0,45,30,40,15,25,5,0,0,20,0,10,35,15,45,15,30,15,5,25,0,25,25,35,0,25,35,25,30,30,50,0,30,45,40,20,45,25,25,15,55,0,35,25,35,35,45,0,45,25,25,0,35,40,0,15,50,25,40,50,25,10,50,50,40,15,55,0,10,0,25,40,35,55,25,0,10,20,35,55,45,30,25,45,25,0,45,45,25,25,5,35,15,35,35,50,20,30,40,30,45,10,0,5,25,10,25,50,0,30,50,55,45,15,5,15,0,35,0,35,25,20,35,45,15,45,30,15,0,35,25,35,25,10,45,10,55,15,15,30,35,55,0,10,25,0,25,25,50,45,40,30,5,35,20,25,45,5,40,45,0,45,25,50,55,30,15,15,0,40,25,50,5,55,15,45,15,25,0,10,40,10,0,0,20,10,15,0,45,35,15,15,50,35,50,0,15,35,10,35,25,20,5,30,20,30,5,25,30,25,35,25,35,50,0,50,0,40,55,0,30,20,55,35,15,40,35,25,15,20,0,5,25,30,55,55,45,50,35,0,5,50,55,20,20,10,25,30,10,35,0,0,15,45,35,0,50,25,5,20,20,25,50,45,10,25,5,30,35,30,15,40,45,0,20,50,0,55,5,50,30,50,0,0,20,0,15,50,0,30,30,25,40,15,5,5,35,25,25,35,10,0,20,50,40,50,0,50,0,10,35,5,45,25,35,30,35,40,55,55,25,10,45,55,55,45,35,0,35,35,0,0,20,0,55,20,45,20,20,20,15,25,0,50,30,35,10,0,40,20,25,25,50,55,10,40,55,0,0,50,20,20,10,45,25,25,50,40,45,5,25,0,25,20,30,5,20,20,0,15,0,5,35,25,25,45,25,20,10,25,30,35,15,40,50,35,0,55,20,25,40,30,10,0,50,30,0,0,35,30,20,30,30,40,25,45,0,15,10,55,45,20,30,30,40,35,0,25,35,0,25,15,40,0,50,10,25,15,25,10,45,35,0,20,15,35,15,45,30,35,20,45,40,0,0,0,50,30,55,35,35,15,35,15,0,30,30,40,25,35,40,20,5,35,40,25,15,25,35,25,50,50,30,45,30,55,50,55,0,10,35,0,15,20,35,35,25,35,30,25,15,15,0,25,30,45,25,15,25,25,50,55,20,0,50,55,0,0,0,20,0,15,45,0,35,30,40,30,20,30,40,35,25,15,10,15,0,35,45,35,25,55,25,15,40,30,25,15,45,0,5,20,35,10,0,25,45,25,15,5,50,35,50,15,20,30,45,45,0,45,45,45,10,0,30,15,35,5,20,15,15,15,30,5,5,0,15,5,25,55,35,20,0,35,0,50,25,0,30,20,35,20,5,25,15,30,50,10,10,35,40,35,45,5,5,25,35,0,25,45,20,5,5,0,35,50,25,15,10,15,15,20,0,5,20,15,0,35,40,35,5,0,45,25,10,20,15,25,55,45,55,45,50,35,25,35,40,35,35,15,25,25,15,0,0,15,0,35,55,50,45,0,0,40,25,0,30,10,20,40,35,35,30,45,0,0,25,35,25,45,35,20,35,0,20,10,20,40,45,40,25,45,40,15,40,10,25,40,35,30,5,35,15,40,45,45,15,20,40,35,40,50,50,0,35,5,35,0,5,55,55,5,30,20,0,35,15,0,45,20,25,20,25,50,15,25,0,20,55,15,35,15,10,25,0,40,0,30,0,55,30,20,45,0,30,30,45,45,15,0,30,5,20,20,25,5,20,35,30,50,25,0,40,55,10,30,35,25,50,15,20,35,15,30,50,35,0,10,55,20,15,10,45,15,10,20,0,45,50,10,35,20,0,0,40,35,55,0,0,55,30,55,30,0,20,45,25,10,35,0,20,40,0,45,30,15,0,0,35,20,0,10,25,0,0,30,5,30,25,25,35,55,15,25,10,15,0,25,0,20,30,25,35,40,35,55,5,50,5,20,5,40,0,15,30,35,20,50,35,45,35,45,35,0,40,15,25,25,35,25,45,15,5,5,25,15,20,10,5,10,45,20,5,50,35,40,50,15,50,20,55,5,25,10,5,25,20,35,5,25,25,40,50,35,55,35,45,55,15,25,45,5,10,30,45,0,25,15,20,35,30,0,40,10,0,40,50,25,40,55,5,0,25,0,0,20,35,15,25,20,55,15,35,45,45,20,15,55,20,0,5,10,50,55,35,55,20,55,25,45,15,25,15,35,55,5,25,25,5,10,55,5,20,25,20,0,15,30,5,5,30,35,25,35,5,40,35,5,15,50,15,0,20,25,30,40,50,10,5,0,5,20,30,50,20,55,15,30,20,50,35,50,10,5,45,45,0,10,25,30,0,50,0,50,20,10,25,40,25,15,45,5,0,50,55,25,30,55,20,50,0,20,15,0,25,20,45,5,30,45,40,25,30,35,0,5,0,55,15,5,20,50,5,0,30,20,40,35,0,5,0,50,15,0,55,15,20,15,0,15,0,5,45,50,20,40,25,45,0,5,55,10,30,35,5,15,10,35,25,20,55,0,35,45,25,40,35,25,15,15,50,0,25,0,0,0,55,10,35,25,15,15,0,30,15,0,30,40,35,15,50,5,5,25,55,15,40,15,30,0,20,35,35,25,35,15,0,55,45,10,5,40,50,55,15,55,15,0,0,25,35,50,25,0,20,30,0,15,25,35,25,35,30,50,15,15,0,5,50,10,0,20,5,25,55,15,40,25,55,30,25,25,40,20,10,0,0,30,20,40,15,45,45,15,0,15,40,0,35,45,15,50,30,25,55,20,40,0,25,25,15,55,35,15,50,10,25,15,35,45,15,20,45,35,30,50,35,15,35,40,50,20,30,15,50,55,55,0,0,0,15,20,55,50,50,50,15,50,20,5,0,50,25,5,55,25,30,15,20,0,20,15,25,0,20,30,45,15,15,5,35,50,45,25,40,0,25,10,35,0,40,15,10,0,20,35,5,0,15,45,25,35,10,20,5,15,25,35,10,40,25,15,0,20,20,35,20,25,40,25,25,0,40,15,30,35,55,10,45,0,15,15,0,5,10,15,15,15,50,10,30,40,35,35,35,50,10,10,0,25,30,35,30,25,25,0,55,0,30,0,45,50,20,25,20,0,15,5,45,0,30,30,0,40,15,35,5,55,20,45,15,0,15,5,40,35,0,40,15,25,5,15,40,0,15,5,40,5,35,55,50,25,10,15,20,55,50,15,15,50,50,0,5,45,0,20,45,15,15,0,20,35,35,40,15,15,15,45,0,25,25,45,30,25,0,5,15,45,25,55,15,25,50,25,25,50,10,30,15,5,5,15,20,35,45,0,45,25,25,25,25,10,50,30,30,15,15,25,30,10,0,25,25,40,35,55,25,0,55,20,15,0,15,35,35,25,30,50,30,10,35,0,35,30,20,50,45,30,10,50,45,0,45,45,0,25,15,15,5,50,40,15,55,20,50,55,35,15,25,25,35,30,0,40,45,25,35,15,20,20,20,5,25,40,50,30,30,35,5,40,30,0,25,40,5,20,25,0,0,30,5,25,45,20,20,20,45,10,35,0,5,50,40,50,35,25,45,20,0,20,25,5,0,55,35,25,15,30,20,45,35,55,15,15,30,20,25,20,45,40,35,40,35,30,0,15,35,25,20,40,45,10,25,30,45,35,50,45,0,15,35,25,35,15,0,35,15,35,50,15,0,0,0,20,35,25,25,0,30,55,55,30,0,40,50,25,30,20,5,45,40,5,35,0,0,35,15,35,35,15,20,50,30,20,15,10,20,0,0,35,40,35,55,40,15,20,0,30,0,35,15,5,35,20,50,10,20,40,10,10,45,25,30,5,5,0,0,55,35,25,5,25,35,45,45,0,30,0,45,0,50,0,15,20,55,35,45,55,0,15,0,25,40,20,25,20,50,5,50,10,15,40,30,0,15,25,0,45,45,35,35,0,20,55,30,35,30,25,50,40,20,0,0,45,5,20,0,5,35,30,5,40,0,25,15,10,15,35,40,0,30,50,35,35,0,0,45,35,50,0,10,5,45,40,15,15,5,25,25,15,35,10,15,30,40,15,25,25,15,30,30,35,25,15,35,30,25,20,50,20,25,55,0,15,0,0,10,50,5,55,25,50,15,30,40,35,20,30,0,50,5,25,5,5,15,50,15,25,30,30,0,20,30,15,35,20,15,35,0,15,0,10,35,40,45,20,25,35,0,45,50,0,20,20,50,25,5,45,5,50,35,15,55,10,5,15,40,30,15,0,30,40,35,55,5,30,25,20,50,30,5,0,0,45,15,0,15,25,10,15,25,40,45,20,45,20,20,0,20,0,40,0,50,25,0,45,20,20,15,25,55,15,40,10,50,30,20,35,20,5,5,15,15,0,15,0,0,40,25,30,15,25,15,45,15,35,45,20,10,20,10,0,50,25,35,15,25,0,30,35,50,0,20,10,40,20,45,40,35,0,5,35,15,0,35,55,15,35,25,0,10,10,25,30,55,50,25,55,40,35,50,55,20,25,45,40,0,55,20,5,50,10,55,35,20,50,55,15,45,55,30,30,0,5,0,25,35,0,25,30,55,10,40,35,45,15,5,35,35,35,15,0,5,35,55,15,0,0,15,40,25,0,5,15,50,40,0,55,5,15,25,40,55,15,0,45,10,15,35,0,15,30,20,15,15,25,40,30,0,20,35,25,20,20,25,50,55,25,15,35,25,40,25,25,15,25,45,55,50,35,15,15,0,40,15,45,0,0,35,0,55,25,35,0,20,30,10,30,30,35,40,15,50,45,55,10,40,0,0,10,15,15,15,15,45,20,35,0,0,50,40,15,20,35,20,50,5,35,25,55,35,15,0,25,15,25,40,0,10,30,40,45,30,20,35,40,0,25,30,10,50,0,25,20,40,0,35,35,35,55,0,20,35,15,5,35,5,0,25,5,50,0,25,25,25,25,45,5,25,10,15,55,35,0,30,0,15,55,0,40,20,35,55,25,30,15,30,15,40,50,40,50,45,20,50,50,25,35,5,35,30,30,50,30,20,25,0,10,45,20,0,35,20,40,10,10,5,0,10,45,35,0,0,5,50,0,45,25,20,25,15,30,30,25,45,0,50,15,35,45,5,25,0,5,35,0,0,25,25,55,0,40,50,35,25,20,50,15,5,25,5,35,0,15,25,5,0,30,35,0,20,35,25,30,50,35,15,25,0,15,45,35,20,0,30,35,10,35,20,20,35,15,25,30,5,35,20,15,0,25,5,25,25,25,15,25,0,15,5,30,35,30,35,40,0,20,45,15,25,0,15,35,35,0,10,5,10,35,15,20,25,35,55,25,0,25,25,15,50,35,15,30,15,15,15,25,55,20,15,15,0,20,25,0,0,0,35,25,30,30,45,40,20,20,15,30,30,0,15,15,15,45,15,0,20,25,25,25,0,5,15,45,0,30,25,35,35,15,0,45,50,30,25,15,5,10,50,0,50,20,55,50,0,5,0,0,0,10,0,5,15,15,25,5,40,35,5,45,15,45,55,35,50,40,25,55,30,10,20,20,30,35,0,55,5,15,15,20,25,25,0,30,45,45,25,15,15,40,5,25,45,25,25,50,10,25,25,40,30,30,40,15,25,45,15,40,25,15,30,55,40,0,20,0,25,45,45,5,25,15,30,35,55,15,15,55,0,0,35,35,35,35,55,5,15,55,5,50,25,25,5,35,15,15,40,0,10,5,0,35,20,15,25,15,35,30,15,40,5,25,15,5,15,15,45,50,15,30,10,25,50,25,0,15,25,20,25,30,45,25,45,50,20,35,55,15,0,15,5,40,25,50,40,25,20,15,15,50,5,40,25,25,5,0,50,25,20,30,15,0,55,45,20,25,5,45,45,55,50,55,25,10,40,15,45,20,35,0,15,0,50,0,15,25,50,45,55,20,25,15,15,0,0,10,15,5,10,55,0,15,35,10,40,50,5,5,45,45,15,30,30,40,25,30,20,20,0,30,45,20,15,35,45,45,20,20,25,25,0,20,0,55,55,30,20,35,0,15,35,55,0,55,30,30,45,25,0,25,40,20,35,0,0,25,10,15,45,15,15,5,50,0,10,40,25,15,20,35,35,15,45,15,35,25,40,25,50,25,20,40,5,55,35,15,25,30,35,35,0,10,30,0,35,0,55,40,35,50,25,20,50,25,30,30,40,30,15,55,10,15,35,45,15,25,40,30,25,0,15,40,0,30,35,50,25,0,0,55,30,35,45,50,5,20,15,45,10,5,10,25,10,50,30,10,5,55,15,15,45,0,30,20,35,10,30,15,15,35,45,35,30,0,15,30,20,20,20,15,15,20,45,35,40,50,55,50,45,20,55,55,15,0,30,15,15,35,0,20,50,25,10,35,20,40,15,0,25,35,0,15,0,25,30,55,20,15,30,5,20,0,40,25,50,5,15,20,50,30,40,15,0,25,0,10,25,5,30,25,35,20,55,0,15,50,50,35,25,15,25,0,15,50,25,45,20,0,25,35,45,0,30,0,15,0,0,0,15,0,5,10,35,25,35,10,35,0,50,30,20,45,30,0,45,50,40,25,0,50,25,0,25,40,5,15,0,50,50,10,5,10,20,0,50,5,30,30,40,45,55,40,25,15,15,25,25,20,0,20,40,35,50,25,30,35,20,30,25,15,45,20,30,20,20,5,10,40,40,15,10,45,5,55,15,25,35,35,50,35,45,15,25,50,35,10,0,40,20,50,25,15,25,45,10,0,0,5,25,45,15,0,50,55,5,25,45,45,35,25,0,0,5,10,15,0,30,25,45,35,55,35,35,25,0,55,30,45,30,30,30,45,20,15,40,5,15,35,30,5,15,35,55,40,0,20,25,5,0,15,20,15,55,45,50,0,40,45,15,45,50,0,20,35,15,30,35,55,10,55,30,20,35,20,35,20,20,35,0,30,50,25,35,55,0,20,20,40,10,50,10,50,15,10,0,15,25,30,20,20,10,50,0,15,15,5,15,25,35,40,35,50,35,15,0,40,25,40,0,15,25,40,5,0,5,0,0,30,0,25,15,20,20,50,15,40,55,25,5,25,0,50,25,5,15,30,10,0,25,20,15,5,20,5,0,45,35,25,35,45,15,40,35,25,0,5,40,40,55,35,50,35,15,0,25,0,25,20,15,30,0,25,20,25,0,35,35,10,10,0,5,5,40,5,5,40,25,35,35,0,10,40,25,45,30,25,45,35,5,35,55,25,30,25,50,25,5,15,45,10,25,20,50,25,0,35,35,55,15,25,25,20,45,55,50,25,15,0,20,20,40,35,30,20,15,25,20,0,30,25,25,15,15,15,5,15,0,35,25,25,30,0,55,25,40,5,45,25,50,0,45,25,30,50,40,30,35,20,30,5,20,30,15,15,15,0,45,0,20,30,40,20,0,50,0,25,30,5,35,30,10,40,25,10,0,20,0,55,25,45,50,25,0,50,55,55,0,0,35,15,20,25,25,55,5,50,25,20,5,15,15,30,40,45,50,25,35,40,15,55,45,55,50,15,45,40,25,35,25,0,30,0,45,45,35,10,25,40,20,0,0,0,50,30,15,0,15,0,40,25,5,20,50,20,15,25,30,0,20,45,30,10,5,30,0,15,25,35,20,0,40,25,55,45,20,35,20,40,15,0,0,55,25,25,25,20,0,30,5,40,50,10,25,45,5,15,0,0,25,45,50,40,55,25,20,45,25,40,50,20,0,15,20,20,40,0,20,25,35,5,20,20,0,50,30,35,0,45,10,30,5,20,0,20,55,15,5,35,35,20,20,35,25,25,55,15,35,20,50,5,15,30,45,35,35,55,15,20,15,40,35,25,25,15,0,50,20,5,20,20,15,0,55,40,25,55,50,0,20,20,0,25,50,35,25,10,10,30,5,0,20,0,15,35,25,5,25,40,50,35,25,50,30,25,35,45,15,15,0,15,0,40,0,35,35,45,5,50,25,30,40,30,35,55,15,15,35,50,20,0,50,15,5,45,15,50,10,25,30,35,10,20,5,25,0,0,50,55,5,0,0,0,20,0,15,25,10,10,15,15,30,45,45,35,25,35,5,0,10,45,0,25,50,50,50,10,5,45,35,25,45,30,40,20,25,25,40,0,25,25,25,5,25,35,30,0,20,5,15,55,50,0,35,50,10,45,10,0,25,15,35,25,50,20,10,50,25,50,20,25,10,30,55,55,55,35,45,20,15,25,30,25,45,15,20,35,55,5,30,20,35,15,35,35,20,15,25,45,50,25,15,5,55,10,45,20,35,0,25,0,15,50,35,40,15,40,5,10,5,35,15,45,0,0,25,55,45,25,5,45,20,30,50,25,50,0,50,55,45,5,15,25,10,55,10,35,10,0,55,20,30,25,35,20,50,10,25,0,0,35,30,20,0,10,15,40,35,25,25,50,25,0,10,50,20,10,15,15,10,15,0,0,45,0,35,0,15,55,10,35,0,5,0,0,15,50,35,5,0,35,0,20,30,55,25,45,0,25,0,40,25,45,25,45,25,35,20,5,45,5,15,15,50,20,20,30,0,45,15,25,0,0,30,35,0,0,55,25,0,45,25,20,25,50,20,30,35,10,25,25,15,35,40,25,45,15,30,45,20,0,20,25,25,0,20,55,30,35,15,35,25,30,15,25,50,35,15,25,30,50,30,35,5,50,40,0,40,10,50,15,30,0,35,20,15,45,25,15,25,15,15,20,35,10,35,30,0,55,55,15,45,20,50,20,55,45,10,35,5,10,35,35,30,20,35,20,50,0,0,15,30,30,30,0,20,20,5,35,0,35,0,25,30,25,20,25,0,40,0,30,5,30,0,15,20,40,0,35,15,15,15,15,0,5,35,25,20,25,50,50,0,25,5,15,50,0,30,40,0,45,15,15,25,20,20,35,50,30,5,15,10,0,25,35,15,0,20,20,0,0,35,35,35,45,0,20,0,0,5,10,55,15,30,40,35,50,20,35,35,50,50,25,35,0,10,5,40,35,35,45,55,0,55,55,0,15,0,35,30,35,30,40,0,0,5,25,40,35,30,20,45,40,50,0,30,5,10,45,35,10,25,15,20,30,25,5,5,45,55,40,15,35,20,25,55,0,10,10,55,20,0,55,15,0,15,25,5,35,15,15,0,0,35,0,25,15,0,45,0,0,20,0,20,10,30,15,50,0,55,55,25,25,25,15,15,55,25,15,15,50,0,15,0,15,10,20,50,45,20,50,40,5,25,20,40,10,30,15,10,20,40,40,20,25,15,50,30,25,0,30,25,50,25,0,35,40,45,45,50,45,5,15,40,15,25,0,40,30,15,55,5,50,25,10,45,0,50,25,25,15,35,15,5,0,15,25,30,55,20,40,10,25,15,45,50,25,0,15,5,15,25,15,5,0,25,10,20,0,50,25,40,30,50,5,0,10,25,50,35,55,15,45,30,15,10,0,0,0,25,0,5,15,20,35,0,10,15,5,25,40,15,55,0,10,0,0,15,50,0,20,20,0,40,15,50,35,50,5,10,5,0,0,40,20,0,55,0,5,45,15,35,30,20,25,50,30,0,15,20,35,35,35,35,15,25,0,40,25,0,25,20,0,25,0,20,35,15,15,40,0,30,15,40,30,25,15,20,15,25,30,20,15,35,5,30,40,40,30,15,50,40,10,55,50,0,35,0,30,45,20,20,5,25,35,50,0,15,35,25,15,15,0,45,0,5,45,0,30,25,15,35,30,55,20,15,25,15,35,35,25,50,50,10,15,20,20,15,55,15,30,45,15,15,25,35,45,15,15,50,0,10,30,15,0,25,25,35,10,10,10,15,25,30,45,15,35,0,0,30,50,50,0,10,45,0,10,30,35,15,55,25,0,10,50,5,20,50,20,15,35,55,5,10,30,20,45,30,15,0,25,20,20,50,35,50,25,5,35,5,45,45,30,20,50,20,35,45,40,15,15,35,15,10,35,25,5,5,25,40,35,15,15,0,55,25,10,15,50,35,40,20,20,0,30,0,50,25,30,10,15,40,10,55,15,45,25,45,25,10,0,35,15,35,25,25,45,10,50,20,35,40,30,10,25,0,35,55,30,25,25,30,55,35,10,50,20,15,35,25,25,40,25,20,45,0,55,20,35,5,45,15,35,30,25,35,40,0,5,50,25,20,35,5,5,50,20,30,0,40,20,45,30,10,30,40,45,0,0,45,20,35,45,50,55,30,45,10,35,40,25,15,50,20,0,25,35,5,35,50,50,35,30,15,35,5,20,15,35,25,35,25,35,15,5,40,55,55,25,50,20,45,0,45,0,0,0,40,10,15,5,45,15,20,35,45,25,55,30,25,55,25,20,25,5,40,20,50,45,15,0,5,0,15,5,35,45,0,15,10,55,40,0,20,5,5,25,15,35,10,50,45,25,10,25,45,50,20,25,30,15,0,15,15,30,50,0,50,15,20,50,20,15,0,50,35,25,20,35,45,35,30,40,50,50,20,40,35,20,20,35,25,0,25,50,5,0,45,25,45,10,25,15,25,20,25,35,15,20,25,25,25,40,15,0,20,30,50,0,35,10,35,15,10,35,20,15,15,10,35,55,25,0,15,35,30,15,35,25,10,5,30,45,10,30,55,30,0,50,35,40,20,0,25,30,10,10,15,25,50,35,25,15,0,20,5,35,15,45,35,20,0,45,15,0,15,40,5,40,10,25,0,30,50,5,0,15,20,0,5,15,50,45,25,50,40,40,45,25,15,15,45,20,40,45,15,30,30,30,45,0,0,30,10,20,40,25,10,0,0,15,35,30,35,10,0,40,30,0,40,25,20,55,50,35,40,30,35,30,20,0,35,10,35,5,35,35,50,50,55,0,40,0,35,15,25,10,40,45,55,30,35,35,0,0,25,15,50,15,10,30,0,30,0,5,15,5,0,35,50,0,35,20,40,20,5,50,5,15,35,35,50,45,0,20,0,15,15,25,0,25,20,40,0,35,25,20,20,10,15],\"type\":\"box\"}],                        {\"template\":{\"data\":{\"histogram2dcontour\":[{\"type\":\"histogram2dcontour\",\"colorbar\":{\"outlinewidth\":0,\"ticks\":\"\"},\"colorscale\":[[0.0,\"#0d0887\"],[0.1111111111111111,\"#46039f\"],[0.2222222222222222,\"#7201a8\"],[0.3333333333333333,\"#9c179e\"],[0.4444444444444444,\"#bd3786\"],[0.5555555555555556,\"#d8576b\"],[0.6666666666666666,\"#ed7953\"],[0.7777777777777778,\"#fb9f3a\"],[0.8888888888888888,\"#fdca26\"],[1.0,\"#f0f921\"]]}],\"choropleth\":[{\"type\":\"choropleth\",\"colorbar\":{\"outlinewidth\":0,\"ticks\":\"\"}}],\"histogram2d\":[{\"type\":\"histogram2d\",\"colorbar\":{\"outlinewidth\":0,\"ticks\":\"\"},\"colorscale\":[[0.0,\"#0d0887\"],[0.1111111111111111,\"#46039f\"],[0.2222222222222222,\"#7201a8\"],[0.3333333333333333,\"#9c179e\"],[0.4444444444444444,\"#bd3786\"],[0.5555555555555556,\"#d8576b\"],[0.6666666666666666,\"#ed7953\"],[0.7777777777777778,\"#fb9f3a\"],[0.8888888888888888,\"#fdca26\"],[1.0,\"#f0f921\"]]}],\"heatmap\":[{\"type\":\"heatmap\",\"colorbar\":{\"outlinewidth\":0,\"ticks\":\"\"},\"colorscale\":[[0.0,\"#0d0887\"],[0.1111111111111111,\"#46039f\"],[0.2222222222222222,\"#7201a8\"],[0.3333333333333333,\"#9c179e\"],[0.4444444444444444,\"#bd3786\"],[0.5555555555555556,\"#d8576b\"],[0.6666666666666666,\"#ed7953\"],[0.7777777777777778,\"#fb9f3a\"],[0.8888888888888888,\"#fdca26\"],[1.0,\"#f0f921\"]]}],\"heatmapgl\":[{\"type\":\"heatmapgl\",\"colorbar\":{\"outlinewidth\":0,\"ticks\":\"\"},\"colorscale\":[[0.0,\"#0d0887\"],[0.1111111111111111,\"#46039f\"],[0.2222222222222222,\"#7201a8\"],[0.3333333333333333,\"#9c179e\"],[0.4444444444444444,\"#bd3786\"],[0.5555555555555556,\"#d8576b\"],[0.6666666666666666,\"#ed7953\"],[0.7777777777777778,\"#fb9f3a\"],[0.8888888888888888,\"#fdca26\"],[1.0,\"#f0f921\"]]}],\"contourcarpet\":[{\"type\":\"contourcarpet\",\"colorbar\":{\"outlinewidth\":0,\"ticks\":\"\"}}],\"contour\":[{\"type\":\"contour\",\"colorbar\":{\"outlinewidth\":0,\"ticks\":\"\"},\"colorscale\":[[0.0,\"#0d0887\"],[0.1111111111111111,\"#46039f\"],[0.2222222222222222,\"#7201a8\"],[0.3333333333333333,\"#9c179e\"],[0.4444444444444444,\"#bd3786\"],[0.5555555555555556,\"#d8576b\"],[0.6666666666666666,\"#ed7953\"],[0.7777777777777778,\"#fb9f3a\"],[0.8888888888888888,\"#fdca26\"],[1.0,\"#f0f921\"]]}],\"surface\":[{\"type\":\"surface\",\"colorbar\":{\"outlinewidth\":0,\"ticks\":\"\"},\"colorscale\":[[0.0,\"#0d0887\"],[0.1111111111111111,\"#46039f\"],[0.2222222222222222,\"#7201a8\"],[0.3333333333333333,\"#9c179e\"],[0.4444444444444444,\"#bd3786\"],[0.5555555555555556,\"#d8576b\"],[0.6666666666666666,\"#ed7953\"],[0.7777777777777778,\"#fb9f3a\"],[0.8888888888888888,\"#fdca26\"],[1.0,\"#f0f921\"]]}],\"mesh3d\":[{\"type\":\"mesh3d\",\"colorbar\":{\"outlinewidth\":0,\"ticks\":\"\"}}],\"scatter\":[{\"fillpattern\":{\"fillmode\":\"overlay\",\"size\":10,\"solidity\":0.2},\"type\":\"scatter\"}],\"parcoords\":[{\"type\":\"parcoords\",\"line\":{\"colorbar\":{\"outlinewidth\":0,\"ticks\":\"\"}}}],\"scatterpolargl\":[{\"type\":\"scatterpolargl\",\"marker\":{\"colorbar\":{\"outlinewidth\":0,\"ticks\":\"\"}}}],\"bar\":[{\"error_x\":{\"color\":\"#2a3f5f\"},\"error_y\":{\"color\":\"#2a3f5f\"},\"marker\":{\"line\":{\"color\":\"#E5ECF6\",\"width\":0.5},\"pattern\":{\"fillmode\":\"overlay\",\"size\":10,\"solidity\":0.2}},\"type\":\"bar\"}],\"scattergeo\":[{\"type\":\"scattergeo\",\"marker\":{\"colorbar\":{\"outlinewidth\":0,\"ticks\":\"\"}}}],\"scatterpolar\":[{\"type\":\"scatterpolar\",\"marker\":{\"colorbar\":{\"outlinewidth\":0,\"ticks\":\"\"}}}],\"histogram\":[{\"marker\":{\"pattern\":{\"fillmode\":\"overlay\",\"size\":10,\"solidity\":0.2}},\"type\":\"histogram\"}],\"scattergl\":[{\"type\":\"scattergl\",\"marker\":{\"colorbar\":{\"outlinewidth\":0,\"ticks\":\"\"}}}],\"scatter3d\":[{\"type\":\"scatter3d\",\"line\":{\"colorbar\":{\"outlinewidth\":0,\"ticks\":\"\"}},\"marker\":{\"colorbar\":{\"outlinewidth\":0,\"ticks\":\"\"}}}],\"scattermapbox\":[{\"type\":\"scattermapbox\",\"marker\":{\"colorbar\":{\"outlinewidth\":0,\"ticks\":\"\"}}}],\"scatterternary\":[{\"type\":\"scatterternary\",\"marker\":{\"colorbar\":{\"outlinewidth\":0,\"ticks\":\"\"}}}],\"scattercarpet\":[{\"type\":\"scattercarpet\",\"marker\":{\"colorbar\":{\"outlinewidth\":0,\"ticks\":\"\"}}}],\"carpet\":[{\"aaxis\":{\"endlinecolor\":\"#2a3f5f\",\"gridcolor\":\"white\",\"linecolor\":\"white\",\"minorgridcolor\":\"white\",\"startlinecolor\":\"#2a3f5f\"},\"baxis\":{\"endlinecolor\":\"#2a3f5f\",\"gridcolor\":\"white\",\"linecolor\":\"white\",\"minorgridcolor\":\"white\",\"startlinecolor\":\"#2a3f5f\"},\"type\":\"carpet\"}],\"table\":[{\"cells\":{\"fill\":{\"color\":\"#EBF0F8\"},\"line\":{\"color\":\"white\"}},\"header\":{\"fill\":{\"color\":\"#C8D4E3\"},\"line\":{\"color\":\"white\"}},\"type\":\"table\"}],\"barpolar\":[{\"marker\":{\"line\":{\"color\":\"#E5ECF6\",\"width\":0.5},\"pattern\":{\"fillmode\":\"overlay\",\"size\":10,\"solidity\":0.2}},\"type\":\"barpolar\"}],\"pie\":[{\"automargin\":true,\"type\":\"pie\"}]},\"layout\":{\"autotypenumbers\":\"strict\",\"colorway\":[\"#636efa\",\"#EF553B\",\"#00cc96\",\"#ab63fa\",\"#FFA15A\",\"#19d3f3\",\"#FF6692\",\"#B6E880\",\"#FF97FF\",\"#FECB52\"],\"font\":{\"color\":\"#2a3f5f\"},\"hovermode\":\"closest\",\"hoverlabel\":{\"align\":\"left\"},\"paper_bgcolor\":\"white\",\"plot_bgcolor\":\"#E5ECF6\",\"polar\":{\"bgcolor\":\"#E5ECF6\",\"angularaxis\":{\"gridcolor\":\"white\",\"linecolor\":\"white\",\"ticks\":\"\"},\"radialaxis\":{\"gridcolor\":\"white\",\"linecolor\":\"white\",\"ticks\":\"\"}},\"ternary\":{\"bgcolor\":\"#E5ECF6\",\"aaxis\":{\"gridcolor\":\"white\",\"linecolor\":\"white\",\"ticks\":\"\"},\"baxis\":{\"gridcolor\":\"white\",\"linecolor\":\"white\",\"ticks\":\"\"},\"caxis\":{\"gridcolor\":\"white\",\"linecolor\":\"white\",\"ticks\":\"\"}},\"coloraxis\":{\"colorbar\":{\"outlinewidth\":0,\"ticks\":\"\"}},\"colorscale\":{\"sequential\":[[0.0,\"#0d0887\"],[0.1111111111111111,\"#46039f\"],[0.2222222222222222,\"#7201a8\"],[0.3333333333333333,\"#9c179e\"],[0.4444444444444444,\"#bd3786\"],[0.5555555555555556,\"#d8576b\"],[0.6666666666666666,\"#ed7953\"],[0.7777777777777778,\"#fb9f3a\"],[0.8888888888888888,\"#fdca26\"],[1.0,\"#f0f921\"]],\"sequentialminus\":[[0.0,\"#0d0887\"],[0.1111111111111111,\"#46039f\"],[0.2222222222222222,\"#7201a8\"],[0.3333333333333333,\"#9c179e\"],[0.4444444444444444,\"#bd3786\"],[0.5555555555555556,\"#d8576b\"],[0.6666666666666666,\"#ed7953\"],[0.7777777777777778,\"#fb9f3a\"],[0.8888888888888888,\"#fdca26\"],[1.0,\"#f0f921\"]],\"diverging\":[[0,\"#8e0152\"],[0.1,\"#c51b7d\"],[0.2,\"#de77ae\"],[0.3,\"#f1b6da\"],[0.4,\"#fde0ef\"],[0.5,\"#f7f7f7\"],[0.6,\"#e6f5d0\"],[0.7,\"#b8e186\"],[0.8,\"#7fbc41\"],[0.9,\"#4d9221\"],[1,\"#276419\"]]},\"xaxis\":{\"gridcolor\":\"white\",\"linecolor\":\"white\",\"ticks\":\"\",\"title\":{\"standoff\":15},\"zerolinecolor\":\"white\",\"automargin\":true,\"zerolinewidth\":2},\"yaxis\":{\"gridcolor\":\"white\",\"linecolor\":\"white\",\"ticks\":\"\",\"title\":{\"standoff\":15},\"zerolinecolor\":\"white\",\"automargin\":true,\"zerolinewidth\":2},\"scene\":{\"xaxis\":{\"backgroundcolor\":\"#E5ECF6\",\"gridcolor\":\"white\",\"linecolor\":\"white\",\"showbackground\":true,\"ticks\":\"\",\"zerolinecolor\":\"white\",\"gridwidth\":2},\"yaxis\":{\"backgroundcolor\":\"#E5ECF6\",\"gridcolor\":\"white\",\"linecolor\":\"white\",\"showbackground\":true,\"ticks\":\"\",\"zerolinecolor\":\"white\",\"gridwidth\":2},\"zaxis\":{\"backgroundcolor\":\"#E5ECF6\",\"gridcolor\":\"white\",\"linecolor\":\"white\",\"showbackground\":true,\"ticks\":\"\",\"zerolinecolor\":\"white\",\"gridwidth\":2}},\"shapedefaults\":{\"line\":{\"color\":\"#2a3f5f\"}},\"annotationdefaults\":{\"arrowcolor\":\"#2a3f5f\",\"arrowhead\":0,\"arrowwidth\":1},\"geo\":{\"bgcolor\":\"white\",\"landcolor\":\"#E5ECF6\",\"subunitcolor\":\"white\",\"showland\":true,\"showlakes\":true,\"lakecolor\":\"white\"},\"title\":{\"x\":0.05},\"mapbox\":{\"style\":\"light\"}}},\"title\":{\"text\":\"Box Plot for Arrival_min\",\"font\":{\"size\":25}},\"font\":{\"color\":\"white\"},\"yaxis\":{\"title\":{\"text\":\"Values\"},\"showgrid\":true,\"gridwidth\":1,\"gridcolor\":\"white\",\"griddash\":\"dash\"},\"plot_bgcolor\":\"black\",\"paper_bgcolor\":\"black\",\"xaxis\":{\"showgrid\":true,\"gridwidth\":1,\"gridcolor\":\"white\",\"griddash\":\"dash\"}},                        {\"responsive\": true}                    ).then(function(){\n",
       "                            \n",
       "var gd = document.getElementById('9a6a9e39-93c4-4b24-9abc-db87a958a0be');\n",
       "var x = new MutationObserver(function (mutations, observer) {{\n",
       "        var display = window.getComputedStyle(gd).display;\n",
       "        if (!display || display === 'none') {{\n",
       "            console.log([gd, 'removed!']);\n",
       "            Plotly.purge(gd);\n",
       "            observer.disconnect();\n",
       "        }}\n",
       "}});\n",
       "\n",
       "// Listen for the removal of the full notebook cells\n",
       "var notebookContainer = gd.closest('#notebook-container');\n",
       "if (notebookContainer) {{\n",
       "    x.observe(notebookContainer, {childList: true});\n",
       "}}\n",
       "\n",
       "// Listen for the clearing of the current output cell\n",
       "var outputEl = gd.closest('.output');\n",
       "if (outputEl) {{\n",
       "    x.observe(outputEl, {childList: true});\n",
       "}}\n",
       "\n",
       "                        })                };                });            </script>        </div>"
      ]
     },
     "metadata": {},
     "output_type": "display_data"
    },
    {
     "data": {
      "text/html": [
       "<div>                            <div id=\"28dc4e60-c2e6-4412-acfa-8ec2f2529528\" class=\"plotly-graph-div\" style=\"height:525px; width:100%;\"></div>            <script type=\"text/javascript\">                require([\"plotly\"], function(Plotly) {                    window.PLOTLYENV=window.PLOTLYENV || {};                                    if (document.getElementById(\"28dc4e60-c2e6-4412-acfa-8ec2f2529528\")) {                    Plotly.newPlot(                        \"28dc4e60-c2e6-4412-acfa-8ec2f2529528\",                        [{\"name\":\"Duration_hours\",\"y\":[2,7,19,5,4,2,15,21,25,7,13,2,2,12,2,26,4,22,23,20,5,15,2,2,13,15,5,5,2,2,2,13,2,22,5,10,5,2,6,11,11,8,22,2,12,2,2,2,16,19,3,25,2,3,2,16,15,2,6,25,12,27,10,10,2,10,2,1,13,2,1,26,7,13,5,2,2,1,19,2,14,2,22,9,10,21,5,18,12,18,9,11,17,13,2,2,2,3,1,16,12,12,7,24,2,8,7,14,30,19,15,2,12,10,5,15,16,10,2,11,2,1,14,20,2,23,18,16,2,2,8,16,3,2,14,23,21,21,2,10,8,8,5,8,11,27,8,20,4,8,2,24,2,12,12,23,16,2,25,26,28,2,25,9,4,15,1,2,9,2,22,3,11,9,12,17,5,25,20,13,18,1,9,16,2,4,5,24,2,2,4,25,6,3,18,2,12,19,2,8,9,2,3,2,12,2,9,2,9,29,2,5,9,10,4,1,11,2,2,10,2,10,1,9,22,28,37,2,1,1,25,2,6,17,5,2,25,13,2,10,8,5,12,2,2,2,9,10,2,4,3,23,27,12,24,1,2,3,11,13,2,2,2,11,14,13,14,15,2,15,12,9,12,7,27,1,1,5,11,3,24,27,2,17,2,8,3,27,7,22,8,29,22,1,2,3,12,2,11,2,1,2,2,22,14,15,7,20,20,2,23,27,5,11,2,24,2,6,20,2,2,5,2,14,12,25,5,11,2,5,4,8,2,2,2,15,23,7,2,7,3,7,25,10,30,2,9,15,28,3,2,4,2,22,10,2,4,11,3,22,3,2,2,21,11,25,15,2,3,2,3,11,2,2,1,11,8,20,20,16,12,17,3,15,11,2,23,1,2,24,21,5,12,8,5,2,6,2,2,12,15,27,26,2,24,8,25,2,6,10,26,17,21,5,2,25,12,17,8,23,9,7,1,2,2,10,2,7,2,26,2,11,19,2,2,23,9,3,6,8,2,12,5,4,9,2,26,2,9,24,11,8,17,2,7,21,5,2,5,15,11,3,4,2,2,9,2,6,5,2,34,15,9,6,2,5,2,27,3,5,16,7,8,9,2,2,6,4,2,11,16,13,25,13,5,19,7,9,24,18,2,1,21,6,14,1,12,2,22,22,5,1,7,12,20,21,2,10,14,2,16,5,13,2,7,27,27,5,2,2,15,5,10,27,9,28,14,2,2,2,4,2,11,7,8,1,15,2,2,13,4,18,2,38,3,25,3,2,11,6,27,2,7,3,9,12,11,3,2,1,26,4,2,8,7,2,24,2,11,9,2,3,2,13,1,7,2,12,29,5,8,3,3,2,12,2,7,29,26,12,7,2,11,23,13,12,9,2,21,26,2,20,20,10,2,21,2,20,2,6,30,13,2,18,8,8,12,13,6,7,19,2,12,3,2,1,23,2,22,2,5,2,9,8,17,2,21,12,1,2,3,2,7,17,1,1,30,5,11,2,19,6,7,2,2,12,2,26,12,1,8,14,23,29,22,4,2,13,13,2,11,5,11,13,3,6,2,10,2,2,1,7,26,4,21,8,8,2,12,8,25,2,29,2,2,2,7,20,11,2,13,1,24,20,2,4,2,11,1,12,24,11,4,11,5,2,5,10,26,7,8,2,5,2,1,4,2,2,13,19,22,14,15,7,1,2,8,2,14,1,16,2,5,22,5,8,15,21,13,2,6,1,8,1,2,2,16,23,27,16,15,2,8,13,2,2,3,2,28,2,2,9,16,6,27,14,12,7,2,19,20,3,5,2,29,4,3,12,12,26,13,2,12,16,2,8,12,2,11,2,13,8,12,2,2,2,24,3,12,25,2,17,29,8,3,9,10,16,2,26,13,10,7,11,2,25,6,1,20,11,2,5,27,2,1,10,24,2,20,5,2,6,2,5,6,2,19,2,11,14,2,3,14,12,5,26,3,1,7,6,8,12,12,9,15,11,2,4,2,2,24,28,1,10,11,2,13,6,12,4,13,24,16,8,3,9,28,13,17,20,28,15,12,10,12,7,2,4,11,2,26,2,2,14,2,22,6,8,18,35,2,2,2,2,7,35,26,11,26,3,1,2,14,16,12,29,20,8,13,10,19,28,2,17,2,2,13,12,9,21,15,2,14,2,6,22,14,2,23,13,1,5,1,22,1,2,37,2,2,36,9,1,5,2,15,25,5,7,17,2,8,3,5,2,17,13,2,21,9,8,10,35,14,3,25,2,8,10,11,7,7,2,7,8,5,23,6,3,19,2,4,1,2,26,12,14,2,3,1,8,19,2,9,3,26,21,2,2,16,1,25,1,9,11,6,28,27,12,22,2,2,1,26,8,18,14,7,19,7,11,8,11,14,4,7,11,3,1,10,2,5,21,11,20,5,1,2,47,3,21,13,2,2,5,21,5,3,2,12,26,2,6,2,23,12,26,10,1,17,1,2,28,2,1,2,7,14,25,9,16,2,5,16,2,11,9,12,10,10,7,15,2,1,38,2,21,2,2,25,2,1,16,2,13,7,2,5,17,11,22,3,2,5,9,7,20,14,6,4,14,27,24,17,16,2,7,6,2,26,14,2,11,1,15,19,11,2,2,2,10,2,6,7,5,2,1,13,2,4,5,23,16,5,14,13,12,5,27,2,17,21,13,2,9,2,11,2,1,4,7,16,24,3,12,12,12,7,30,7,14,2,6,15,18,19,2,13,8,1,14,2,4,13,12,2,24,5,16,26,5,10,2,1,2,13,6,13,8,15,10,2,3,6,27,5,2,2,7,14,5,2,9,1,5,15,21,7,5,14,7,6,25,10,30,22,15,25,8,15,11,2,21,5,2,2,14,11,12,24,2,10,11,7,12,2,16,3,22,14,26,3,6,2,7,22,5,5,8,6,8,2,8,2,2,26,2,16,16,5,10,12,1,11,21,2,2,2,27,10,2,3,7,29,1,12,11,15,8,35,21,4,20,1,5,3,2,7,4,1,7,1,2,18,2,2,1,23,2,2,8,7,6,23,21,2,14,37,6,26,14,7,16,7,28,5,8,23,14,4,2,22,5,29,2,2,17,2,8,10,8,6,13,3,19,8,2,2,6,2,2,19,3,4,12,7,2,25,6,2,9,18,5,7,14,2,19,5,16,2,4,12,9,2,2,1,2,2,5,10,8,2,4,8,4,3,10,1,13,22,5,2,2,2,2,26,25,1,2,1,2,2,4,3,15,2,9,15,4,9,4,30,2,37,26,20,25,11,23,10,2,20,14,2,9,7,7,22,2,20,2,22,25,5,2,12,11,21,9,13,8,8,10,1,2,1,3,23,1,6,9,20,19,13,2,7,3,3,2,7,2,7,2,28,8,9,15,37,2,11,2,15,10,16,2,2,9,2,23,8,33,14,27,2,1,7,1,4,6,10,11,21,16,25,24,2,15,14,12,10,13,2,3,2,21,2,2,9,8,28,8,12,2,1,13,2,11,6,2,5,2,11,37,2,21,2,6,15,7,4,5,3,22,30,5,2,21,28,12,1,14,2,25,2,9,3,9,7,14,12,27,1,13,13,12,23,27,4,3,9,7,1,22,2,22,4,12,8,2,16,9,8,20,8,7,9,16,13,8,21,3,26,28,2,1,27,4,23,2,2,3,3,2,2,5,3,20,19,28,29,25,2,2,18,8,19,2,2,2,15,29,1,2,15,24,13,2,23,9,2,6,15,15,1,2,12,7,14,38,12,2,9,2,6,6,25,30,3,13,17,2,2,2,13,9,2,12,24,5,15,23,2,10,13,14,7,13,13,8,12,14,27,14,9,15,2,3,4,4,2,1,10,12,6,2,2,7,2,2,29,7,2,3,16,18,28,23,22,2,1,2,4,28,27,17,6,16,9,22,2,5,15,13,17,17,5,5,14,2,15,22,2,1,15,3,26,2,6,23,2,10,11,27,6,2,8,3,20,2,2,7,2,12,11,2,2,4,18,8,13,10,13,13,2,2,12,7,6,2,2,14,5,2,8,1,33,6,23,2,26,7,1,36,28,12,6,17,1,10,8,13,17,5,5,14,38,11,7,21,2,3,13,2,8,6,23,5,2,24,8,2,2,25,8,12,14,8,2,3,24,16,14,2,14,9,11,10,2,23,12,5,27,3,23,9,1,2,17,22,11,2,28,29,12,1,26,1,2,2,16,10,15,14,23,19,10,2,24,14,9,20,3,22,2,9,19,26,20,1,2,26,15,2,13,10,2,3,22,2,24,11,23,26,7,2,8,9,2,10,9,7,7,23,5,2,2,16,4,6,7,3,2,24,6,12,11,13,2,16,15,6,3,12,17,2,22,9,2,9,2,23,13,15,13,15,6,22,14,28,24,11,15,13,1,2,24,15,1,1,7,4,6,26,2,20,25,2,29,10,2,2,3,3,10,8,7,14,4,11,19,7,9,29,10,24,27,2,2,7,14,2,25,1,23,2,13,28,2,26,8,3,1,14,1,8,1,3,12,11,26,7,8,3,2,12,4,13,15,2,6,6,12,10,21,26,21,3,11,9,16,12,9,25,10,8,8,12,1,24,19,11,2,26,7,10,24,22,11,25,5,15,21,25,2,6,2,7,1,11,3,20,2,2,18,12,1,24,1,7,16,7,26,11,21,28,8,10,15,1,2,20,14,7,2,14,8,9,11,2,3,20,28,3,8,1,12,2,6,28,1,20,23,2,13,22,11,22,21,14,11,5,1,2,1,9,3,2,6,25,7,2,13,12,7,2,2,2,6,6,19,7,23,4,5,9,24,23,6,24,2,2,3,5,1,3,13,10,12,14,24,12,2,1,4,30,2,1,2,7,3,2,24,4,9,22,29,7,5,3,1,2,2,4,7,1,23,16,1,2,3,3,9,23,38,9,6,9,12,3,4,23,3,13,2,25,2,5,5,5,9,2,7,18,1,24,2,4,11,7,6,1,1,2,28,2,13,5,10,12,1,16,2,18,4,5,2,9,1,10,10,9,2,8,20,3,13,3,5,13,8,19,13,14,20,12,15,7,15,2,6,24,23,23,14,28,3,27,7,4,11,15,23,18,22,1,22,2,24,22,7,5,23,5,14,8,17,2,2,13,10,2,2,2,13,2,12,8,27,17,2,3,15,2,12,22,12,2,10,23,6,3,7,28,5,7,12,9,15,2,8,7,15,9,1,16,2,15,2,14,2,9,18,22,1,2,15,15,3,7,10,10,10,17,12,8,11,2,1,10,2,24,2,1,13,4,13,16,17,12,9,10,1,8,5,23,24,7,26,12,6,14,5,1,2,18,9,18,2,2,8,13,29,23,5,10,10,2,7,12,9,2,13,9,10,10,28,5,3,24,13,5,12,19,27,4,10,2,1,6,2,12,2,11,9,2,1,11,6,3,26,7,27,12,12,9,26,17,24,13,15,2,11,19,2,12,23,1,8,2,4,2,2,3,2,2,17,2,1,9,1,13,15,27,3,23,9,13,8,4,7,11,2,1,12,2,15,13,1,22,11,7,15,11,9,2,22,2,14,2,2,8,2,2,25,2,7,1,2,1,7,23,9,22,3,5,27,2,20,14,19,27,5,23,14,5,1,1,17,2,25,20,2,1,7,22,9,14,2,12,2,10,17,2,5,11,2,10,14,2,1,10,2,27,23,14,17,2,2,10,8,6,13,22,2,25,2,11,2,22,2,7,2,27,8,18,6,2,11,9,26,26,24,1,10,10,2,2,8,9,29,5,22,2,12,37,23,22,17,3,10,12,9,3,12,9,14,19,15,15,21,2,2,34,1,12,12,16,22,25,7,18,12,2,15,11,26,18,7,2,21,23,2,20,2,5,12,23,16,25,2,11,3,12,2,2,26,2,23,4,29,5,3,26,13,13,2,2,2,21,6,8,26,12,2,29,2,26,2,13,2,14,2,7,2,9,2,9,8,10,11,2,29,37,10,8,20,2,29,12,9,2,2,2,9,15,38,2,12,2,22,24,27,23,23,2,14,16,27,2,20,2,5,18,7,5,18,2,13,22,27,21,27,1,21,2,2,15,12,8,11,3,16,26,2,6,3,7,1,5,28,19,13,25,27,2,21,5,2,7,8,2,1,19,2,3,6,16,21,2,38,11,22,6,1,20,1,6,5,7,11,1,14,8,27,2,2,9,2,14,12,9,2,11,6,11,12,2,10,12,21,9,8,9,21,23,9,23,9,5,2,9,8,2,25,2,3,3,2,16,26,16,6,16,2,2,11,2,23,27,3,11,2,2,10,5,23,2,12,9,8,2,1,18,2,2,6,13,11,26,5,7,6,2,12,7,11,2,12,2,1,18,2,12,15,1,24,1,13,2,2,20,12,12,24,8,1,3,2,2,13,15,5,2,2,12,2,14,9,12,25,12,12,12,12,2,2,22,5,9,3,10,10,26,12,23,2,17,2,16,11,10,13,7,16,8,27,8,2,11,2,2,2,25,1,27,24,12,26,3,3,2,21,17,21,25,14,16,3,12,1,3,2,2,24,2,8,14,2,1,2,14,25,20,8,29,9,1,27,15,5,7,2,19,2,14,8,15,28,1,13,23,10,1,18,24,5,1,15,27,12,23,2,2,2,2,6,2,2,23,25,2,14,7,22,26,2,4,10,7,7,22,7,1,2,7,12,13,17,17,2,2,5,5,9,2,17,8,16,15,26,2,5,3,1,11,2,8,24,2,12,21,34,2,14,3,6,23,2,10,2,4,6,2,14,2,27,10,22,14,15,15,16,2,15,21,1,2,6,13,4,2,9,1,3,24,2,12,15,2,1,24,7,18,6,11,9,13,14,6,2,5,14,13,6,22,11,7,2,2,6,2,10,12,2,7,17,8,2,7,18,13,11,2,12,12,3,10,2,7,10,15,3,2,2,11,13,2,14,23,2,5,17,7,26,16,2,28,14,9,2,14,3,3,5,8,10,1,20,14,26,19,18,15,5,9,14,21,9,14,5,1,2,20,13,28,4,29,12,5,18,22,4,9,10,16,5,2,2,11,10,15,9,13,23,2,25,2,2,13,2,8,14,8,2,29,1,2,5,2,2,2,8,5,11,2,2,8,3,23,13,1,26,22,34,8,14,15,2,9,2,2,2,28,1,25,14,22,7,1,18,7,17,8,2,20,20,8,17,9,2,8,13,2,6,18,14,22,25,1,2,15,2,26,3,2,13,18,3,11,11,1,22,27,15,2,24,1,5,5,13,8,1,3,10,3,2,12,22,22,3,6,24,4,6,14,2,8,2,12,18,25,8,2,20,24,8,6,10,14,18,2,7,7,3,10,2,9,11,13,2,2,5,16,2,2,9,14,15,9,2,25,30,2,1,15,20,22,3,20,21,7,6,3,23,1,9,5,9,1,21,2,24,2,16,21,2,7,15,7,2,2,25,2,2,2,27,16,2,28,9,5,25,21,2,17,10,9,16,22,2,2,8,26,12,1,2,10,2,9,13,29,11,2,11,8,27,30,25,8,15,2,1,15,7,29,12,23,28,7,10,2,21,16,3,13,9,27,12,2,12,2,24,2,2,4,7,4,23,7,1,2,4,16,2,28,15,3,2,27,2,1,5,12,3,7,15,25,2,4,16,15,10,6,8,7,1,5,9,8,18,19,22,12,23,11,2,1,15,2,2,2,21,22,18,2,14,2,25,2,2,2,14,8,2,2,2,6,10,15,11,15,23,2,2,20,8,2,6,26,30,5,27,6,2,2,5,22,14,16,18,16,2,7,12,1,19,16,2,14,27,1,22,12,2,8,2,22,24,36,14,16,27,7,20,5,7,2,5,10,5,20,8,2,12,6,8,14,32,2,6,2,2,10,19,8,11,10,4,30,11,26,3,14,2,4,3,11,35,2,28,2,2,17,14,10,5,1,2,8,1,4,12,9,14,27,26,13,12,2,22,15,5,14,2,23,21,2,2,25,5,3,3,2,17,3,8,12,8,15,13,8,26,1,25,2,9,26,1,13,9,2,1,17,11,23,2,2,2,3,5,6,18,26,21,21,23,5,3,5,13,2,26,13,2,2,2,7,2,1,2,23,6,5,1,3,13,2,7,7,2,1,9,14,11,3,2,23,4,21,23,2,8,19,2,12,2,16,30,4,27,12,11,3,11,2,20,10,2,13,2,6,27,23,5,12,27,7,11,13,3,27,7,9,13,3,20,10,9,14,8,14,2,8,2,2,23,16,2,1,6,14,12,2,1,10,1,27,12,8,2,24,20,6,12,2,2,12,12,16,21,2,2,12,23,2,23,8,10,2,7,1,10,23,2,5,25,9,2,15,13,20,15,15,21,7,2,28,2,18,21,11,10,10,4,5,13,9,26,9,1,7,1,2,5,1,2,16,2,19,3,2,2,26,2,15,11,1,16,6,26,20,24,5,9,2,5,2,3,2,24,2,2,20,2,3,6,2,2,10,8,1,15,2,12,1,21,2,26,2,1,3,2,7,2,10,2,2,14,2,1,27,6,11,2,11,9,26,2,4,2,13,27,2,15,8,2,14,2,16,25,2,38,11,2,19,15,9,2,4,13,26,18,9,27,19,11,22,8,6,12,2,2,10,3,12,4,38,13,12,26,16,2,4,2,1,2,7,29,23,2,12,7,2,15,7,5,2,10,12,1,2,12,1,9,22,10,6,2,2,9,23,5,8,10,14,13,2,34,7,8,15,11,1,9,15,3,7,2,2,14,6,10,2,7,13,13,7,26,11,24,2,27,14,20,2,12,2,8,26,2,1,10,1,5,2,20,6,12,2,2,11,2,2,1,2,1,22,7,9,27,12,4,2,14,12,22,9,10,1,2,5,12,15,23,2,8,11,19,10,2,5,8,2,11,33,1,13,2,2,2,22,21,5,13,12,2,19,28,2,18,24,2,26,2,2,24,14,22,16,5,8,9,8,21,7,13,1,38,1,16,15,20,10,5,2,2,18,13,7,23,13,23,19,13,2,23,2,1,3,11,4,22,20,11,12,12,11,17,5,1,7,2,7,5,15,11,9,12,5,22,22,16,1,2,10,1,14,18,4,7,7,2,9,2,7,9,1,15,17,24,12,24,3,2,2,7,1,4,2,8,28,7,20,2,12,30,4,10,38,21,15,2,5,2,22,2,25,6,2,14,2,12,2,9,17,11,2,1,16,2,2,9,2,7,4,19,10,22,13,10,7,18,15,7,2,16,5,11,2,7,9,5,29,1,7,4,1,26,26,1,2,3,3,2,30,2,20,22,2,26,16,9,7,24,2,22,7,26,16,38,13,10,2,16,13,6,1,10,12,32,8,3,18,29,31,2,2,28,1,18,12,2,3,33,2,14,7,7,21,2,2,25,7,7,9,2,1,8,2,15,5,2,26,2,21,2,3,4,7,10,3,9,10,6,18,2,20,2,23,11,5,10,22,1,9,16,12,6,7,1,15,1,5,9,8,2,12,23,16,2,16,23,14,1,13,3,28,14,2,5,9,1,23,8,14,2,2,5,3,5,2,2,2,8,25,23,22,8,23,7,4,2,30,14,27,23,9,20,20,14,7,7,2,1,1,9,7,14,9,2,8,2,5,2,14,25,23,10,2,6,16,23,23,7,1,14,7,2,12,2,20,27,20,2,11,1,2,3,11,24,26,23,23,25,2,1,19,15,24,13,7,2,2,10,30,2,8,1,12,24,2,21,22,2,3,8,22,1,9,21,2,13,6,20,10,26,10,7,10,7,2,12,20,11,13,9,7,16,9,12,3,1,11,12,12,2,15,2,5,6,7,2,13,2,3,33,23,2,6,2,2,10,23,2,9,1,1,11,2,15,27,2,5,14,2,7,2,1,6,2,11,2,2,5,7,8,3,17,11,3,5,9,6,15,2,6,16,12,25,12,27,6,2,6,2,7,5,22,26,3,2,7,25,9,3,9,25,2,5,24,1,2,2,26,2,24,10,5,10,7,3,23,24,12,22,8,2,9,6,24,3,11,8,2,20,1,30,15,2,7,3,7,2,13,23,2,10,10,12,2,2,14,7,23,2,5,13,2,1,2,2,12,2,24,38,4,11,11,3,2,2,6,1,2,23,5,2,23,12,7,29,2,13,12,1,28,5,1,7,1,23,2,11,2,2,7,3,2,14,28,2,2,9,6,7,2,2,8,2,10,2,13,2,2,2,25,13,5,13,4,10,18,16,7,25,11,14,1,19,2,2,5,12,11,10,1,11,2,7,6,3,11,14,12,13,11,2,25,12,15,1,7,2,16,2,1,10,7,4,12,19,2,27,2,10,25,11,24,19,2,5,29,26,9,2,2,15,2,16,23,4,16,2,15,14,13,12,7,3,2,2,2,27,1,19,3,1,14,8,19,26,5,4,7,27,3,2,2,8,3,8,2,8,11,4,2,33,2,24,30,27,15,26,21,1,17,16,3,10,10,2,2,9,7,8,2,14,18,2,2,14,1,2,2,7,11,1,7,9,24,21,24,18,2,7,2,38,1,2,3,29,2,8,14,5,1,2,2,15,2,8,7,2,21,3,11,4,23,5,22,3,21,7,1,28,10,16,7,7,2,24,24,7,11,16,14,9,13,8,27,1,2,13,25,2,22,13,10,2,15,2,22,8,25,9,12,9,23,3,15,21,8,25,21,17,1,10,23,11,2,6,2,2,13,26,1,15,14,22,10,10,14,27,8,8,12,26,3,23,25,2,28,21,12,2,22,6,2,10,13,11,9,14,12,13,20,8,16,1,2,12,6,12,3,2,21,9,2,2,1,11,6,12,16,15,19,35,29,9,11,5,21,8,13,5,2,3,9,2,24,2,2,19,2,2,7,2,1,7,3,2,19,24,4,25,2,14,8,7,2,2,16,15,18,16,19,9,5,19,27,14,4,13,7,14,2,18,21,6,11,1,5,3,28,2,2,1,24,9,2,3,3,2,5,15,23,2,16,9,23,21,11,22,2,31,1,19,5,6,5,2,21,15,25,17,2,25,5,3,9,8,5,13,2,9,27,2,20,21,2,24,15,10,4,6,2,21,9,27,2,5,4,7,2,24,7,11,8,15,10,1,10,4,21,24,2,2,10,6,7,2,22,2,2,2,3,11,26,27,11,25,1,21,1,12,5,20,9,6,2,13,22,14,3,2,6,19,18,2,13,2,2,2,5,14,2,18,13,2,8,29,10,2,15,13,2,25,2,13,4,2,22,4,13,20,3,2,2,4,10,2,11,2,2,22,25,8,6,3,19,28,2,2,25,21,21,13,7,15,7,13,2,7,12,10,1,2,2,5,2,12,2,1,20,11,27,26,5,2,23,24,3,7,21,10,15,28,2,7,2,2,3,1,2,8,30,3,25,2,2,20,6,2,27,2,13,3,18,2,11,21,30,11,7,22,1,2,13,13,9,30,1,34,3,13,23,1,14,16,26,13,8,8,21,18,2,9,15,9,20,23,10,13,14,14,24,3,1,8,2,5,7,6,21,13,18,22,25,17,2,1,15,14,2,14,4,7,9,14,8,2,14,2,2,9,13,25,25,2,24,1,10,2,2,1,12,1,21,1,12,16,13,28,2,17,9,10,7,14,2,14,2,23,16,2,2,26,12,10,15,9,2,11,2,7,11,2,5,3,25,6,2,14,2,8,19,21,4,3,3,2,5,23,18,2,2,9,1,7,12,2,2,2,15,2,9,20,13,2,15,12,19,6,24,10,2,11,19,8,7,24,3,23,14,7,1,7,2,16,2,12,1,3,8,2,21,11,1,3,4,15,2,21,25,2,1,8,19,17,1,14,26,2,10,6,11,2,27,7,10,1,2,1,2,2,5,8,18,14,1,2,26,9,7,20,5,12,2,8,7,14,19,1,13,3,5,2,14,5,14,9,2,2,1,2,11,11,2,11,2,9,22,10,11,2,1,7,21,9,11,23,2,13,8,7,2,19,21,12,2,28,2,2,2,20,6,8,3,9,2,4,18,8,2,24,24,2,1,2,23,15,2,3,2,20,17,12,24,1,26,12,9,6,1,16,24,6,21,5,27,19,14,3,2,7,2,10,33,7,2,1,12,4,8,1,1,17,12,13,1,22,25,2,1,23,13,13,2,11,3,2,2,9,6,10,2,27,7,8,15,13,21,1,7,6,14,1,19,2,1,2,12,19,2,21,5,25,26,9,8,2,8,2,23,10,2,9,2,28,17,16,25,22,2,11,1,16,9,5,7,17,13,6,2,2,2,2,2,12,8,2,2,3,16,2,2,23,22,2,3,6,5,2,26,1,2,2,11,18,2,14,2,12,5,11,2,3,19,9,2,2,2,2,16,4,25,22,22,9,2,2,2,2,21,8,23,16,5,2,24,2,27,11,2,21,5,5,11,12,21,9,12,6,3,14,2,2,14,7,2,13,1,25,21,11,7,3,2,5,2,22,11,2,2,24,3,10,36,2,2,11,2,2,8,5,12,26,8,1,23,2,8,2,5,16,15,18,20,10,10,5,28,6,15,10,26,25,5,19,9,2,11,10,2,7,6,8,2,2,4,9,12,24,9,2,2,17,2,2,3,16,1,6,2,14,11,2,20,24,3,9,12,2,9,12,2,2,1,2,9,14,12,23,21,17,2,2,2,5,14,14,14,2,5,3,9,8,9,15,3,9,23,21,10,6,1,5,10,5,9,2,7,15,11,23,15,3,29,4,11,2,8,2,11,1,10,2,13,2,25,22,9,25,13,2,5,6,2,2,5,17,14,6,22,1,3,3,5,9,2,14,2,10,14,7,25,27,3,25,2,2,1,11,9,12,2,6,23,14,10,27,3,2,26,11,7,1,2,2,2,3,16,24,16,2,13,7,18,2,25,1,21,38,2,27,27,11,1,12,1,1,15,37,8,26,10,10,2,8,14,7,12,3,2,2,9,7,2,7,6,26,9,8,11,3,19,5,2,2,8,2,8,2,1,12,1,10,3,23,16,5,24,4,6,1,2,5,7,12,2,6,20,3,8,7,13,22,2,22,10,13,2,5,6,16,3,9,23,2,5,11,14,23,36,20,3,3,9,5,1,7,2,14,21,10,24,3,22,27,6,2,7,5,3,2,2,21,8,1,15,8,6,5,12,2,11,3,26,9,2,13,20,8,1,10,20,22,9,1,5,17,13,13,2,11,2,8,11,13,13,20,10,27,3,18,22,11,2,20,15,25,5,29,7,2,28,21,22,24,7,12,2,2,24,19,2,3,23,11,1,2,2,5,27,14,2,4,10,5,12,15,12,10,3,2,10,27,1,16,13,2,23,3,3,3,2,1,20,2,2,2,8,2,7,2,2,7,4,2,14,2,13,2,20,23,9,7,2,17,8,9,16,2,2,11,5,1,15,2,20,2,2,2,5,38,4,15,12,25,12,9,1,9,11,6,5,7,1,11,7,22,2,11,26,42,13,4,2,13,4,7,3,20,2,2,2,2,3,24,30,13,2,2,7,26,29,5,16,11,12,15,30,2,26,27,28,21,27,26,4,2,1,4,1,4,27,5,17,10,8,3,2,7,23,26,9,23,28,13,16,13,2,6,12,2,2,2,7,2,2,7,12,2,2,2,21,13,15,2,3,15,7,2,2,13,1,15,6,2,22,7,23,2,2,2,21,2,2,6,23,9,3,11,21,10,3,5,2,6,4,38,2,11,16,14,2,3,6,16,5,2,9,12,2,15,7,10,12,2,2,19,2,22,2,29,13,37,13,3,9,30,12,14,4,8,15,5,1,13,2,8,2,2,7,1,18,28,7,10,24,2,22,11,5,11,13,9,6,2,2,12,2,2,5,22,25,2,33,22,8,7,2,13,3,25,21,26,6,9,2,15,12,2,1,14,2,8,21,1,25,25,25,6,3,2,11,2,2,17,3,3,9,5,17,16,2,9,15,1,5,13,22,2,8,23,2,2,7,13,19,15,10,11,2,6,21,11,8,11,18,2,8,2,17,11,5,1,3,9,2,25,3,10,15,2,2,16,25,14,9,14,8,4,10,16,8,3,23,2,21,10,2,6,10,25,2,11,2,13,12,10,2,7,12,26,14,23,5,2,1,10,10,3,2,11,10,11,28,9,24,19,1,26,12,7,12,2,2,2,1,24,7,9,2,8,14,17,14,2,26,12,2,12,6,14,16,3,2,14,1,25,19,22,11,20,6,21,3,2,12,2,6,2,2,2,12,14,2,13,25,2,24,12,11,26,8,19,12,7,19,5,8,2,28,13,23,19,22,2,2,5,2,39,9,12,4,8,12,9,2,16,27,6,12,5,2,12,8,26,19,6,1,11,10,16,2,13,5,3,1,10,2,2,1,12,5,3,2,5,4,2,12,8,27,2,8,2,3,17,2,4,2,16,5,7,2,27,14,27,6,15,3,12,5,4,3,3,22,10,2,12,2,2,7,28,12,2,25,2,13,20,21,9,12,24,1,13,4,22,2,1,14,7,3,3,3,17,14,6,2,2,2,18,22,8,28,13,2,2,2,8,28,24,1,11,5,1,24,26,9,1,24,10,13,5,26,6,11,16,13,22,3,13,9,1,3,7,5,1,4,9,7,2,2,17,14,2,20,1,2,23,12,2,11,9,5,2,38,5,26,2,1,4,1,1,4,2,5,2,8,2,13,9,20,2,30,14,2,2,2,24,13,9,1,9,16,2,11,8,2,4,24,3,21,1,2,16,12,2,11,2,2,2,3,3,2,17,2,3,2,11,14,2,23,11,2,1,7,2,14,1,10,9,25,12,2,2,21,13,6,3,1,5,8,2,2,9,5,25,2,22,11,7,3,2,7,7,14,14,22,6,6,2,2,1,4,8,14,17,3,2,18,2,1,27,2,5,6,9,8,5,5,6,2,2,2,11,7,9,23,13,10,6,7,10,12,14,12,3,3,17,27,8,15,2,2,11,15,4,23,14,14,2,2,11,13,2,12,5,15,2,2,3,8,3,15,7,2,2,8,4,7,20,7,25,2,13,13,3,26,13,10,14,4,14,2,13,2,2,21,16,3,14,16,10,5,1,6,16,23,27,26,25,16,2,2,13,2,13,10,9,10,23,16,13,22,17,10,1,17,21,12,13,1,8,14,2,3,7,2,16,2,9,13,2,2,3,2,4,5,1,19,2,7,4,1,10,2,1,14,3,2,10,7,27,1,12,13,1,3,6,19,2,5,2,10,8,2,2,3,6,15,4,13,26,2,14,6,26,24,10,9,2,2,2,15,16,2,17,18,5,14,8,5,12,9,9,2,20,16,17,2,1,16,2,9,15,15,8,25,2,14,2,24,14,13,1,7,27,2,7,1,2,2,26,2,3,2,25,6,12,5,21,2,3,29,2,15,7,18,2,2,7,27,24,7,12,6,8,6,21,15,9,23,13,14,13,2,3,9,32,2,2,23,15,11,23,2,1,8,2,2,17,2,3,20,15,2,1,2,32,14,9,20,7,4,11,2,2,9,2,8,2,8,2,3,4,5,8,6,5,24,3,2,20,15,1,1,1,2,1,3,2,4,2,38,12,9,11,2,6,2,2,20,7,15,14,23,14,26,9,2,18,2,13,9,26,3,2,2,9,5,2,12,2,19,11,25,2,2,2,15,26,9,2,10,6,15,13,27,4,14,23,24,13,2,1,2,25,11,28,17,10,2,2,12,12,2,8,2,15,5,13,5,10,17,9,11,2,12,28,2,9,24,3,9,11,2,25,23,1,19,3,29,22,28,2,2,2,2,2,24,2,8,2,16,18,22,32,20,4,2,12,23,14,1,17,1,26,2,3,21,35,7,2,2,7,12,2,2,1,22,8,2,6,18,15,21,9,2,6,2,10,13,1,2,2,2,3,2,26,14,13,8,5,5,2,3,26,12,1,2,2,2,9,26,1,7,2,5,6,8,9,7,7,2,5,12,6,2,27,7,5,13,21,7,3,2,19,14,24,2,15,2,2,11,19,8,12,2,24,2,19,9,1,2,2,20,9,18,2,2,5,2,7,7,5,1,2,2,5,31,7,28,7,21,16,2,9,2,21,2,11,21,2,28,14,20,12,10,13,5,9,2,11,30,2,4,27,3,2,28,23,12,22,5,2,8,2,4,8,2,9,2,23,2,2,17,11,2,16,15,1,15,2,3,16,18,11,12,11,3,3,2,21,10,3,16,17,9,9,10,2,17,2,2,19,16,5,2,16,8,21,5,13,9,19,2,23,20,37,2,2,15,14,2,8,7,11,23,5,1,5,2,5,11,11,3,3,24,17,22,2,15,1,4,8,16,24,2,8,4,12,1,12,2,17,24,7,2,21,2,3,37,23,13,2,9,2,1,1,21,2,6,13,10,15,18,2,26,26,6,2,13,2,7,1,15,1,7,22,20,3,11,2,9,2,15,18,11,27,15,1,5,7,9,16,25,23,2,9,3,16,2,29,2,2,16,23,2,6,15,12,1,10,12,8,7,23,1,15,16,2,18,7,17,2,38,16,9,6,13,27,6,5,2,5,1,12,15,5,2,7,14,2,3,2,25,16,2,38,14,16,11,13,1,2,7,9,3,5,24,3,5,8,18,22,2,2,10,18,2,8,27,3,14,2,13,2,16,2,2,1,1,2,2,26,7,2,18,20,2,2,5,12,12,5,2,9,2,19,2,5,8,3,26,2,12,14,14,2,2,10,1,23,3,2,8,11,4,29,7,18,30,8,2,2,5,11,10,28,3,2,1,2,2,12,8,1,27,12,13,1,26,5,1,28,11,4,20,14,2,2,2,28,16,23,2,5,2,30,6,16,7,5,2,33,13,21,16,12,2,16,6,19,6,14,11,10,7,23,2,27,9,7,2,3,7,2,27,12,8,26,9,8,16,28,2,2,12,15,1,8,23,16,9,27,2,9,2,2,2,4,22,3,19,21,2,21,27,2,5,2,2,19,2,3,2,11,1,2,2,11,13,2,6,16,2,22,2,1,2,27,3,23,12,7,24,25,10,5,25,10,6,3,25,23,2,12,20,26,2,7,3,2,11,2,7,1,14,2,13,26,12,37,10,9,5,25,1,2,2,7,9,2,1,1,5,8,6,3,2,2,8,2,7,9,6,2,20,2,10,26,14,10,13,5,27,8,24,26,16,18,28,24,3,7,2,2,2,23,11,6,16,1,20,7,5,23,1,12,8,36,38,21,12,12,8,10,26,13,24,9,8,2,13,24,34,15,23,25,10,10,4,2,27,2,1,3,8,6,12,6,16,5,13,13,2,23,20,25,23,7,23,26,8,12,5,2,10,8,7,5,4,2,11,9,13,3,2,2,2,2,27,5,14,12,26,9,2,1,2,23,28,2,16,3,20,12,3,11,16,22,24,15,12,14,22,22,14,15,2,3,14,24,2,5,4,13,12,2,7,10,5,11,9,25,26,8,2,3,2,2,2,2,12,13,2,7,3,5,2,3,4,2,9,2,3,4,17,13,24,7,2,22,2,11,2,12,2,14,30,21,9,19,29,7,8,2,13,1,24,10,20,5,1,2,9,13,2,14,2,21,18,2,6,6,2,5,13,9,10,13,2,2,13,9,2,2,8,2,2,2,24,23,22,9,23,3,18,10,2,25,16,2,2,27,9,2,1,18,21,1,3,2,3,2,25,13,2,2,7,2,10,1,17,2,3,5,15,11,4,11,2,2,1,2,1,3,2,2,2,1,25,2,17,17,23,19,2,8,2,26,2,9,2,24,18,8,2,2,1,2,16,16,2,4,16,5,2,21,5,24,2,11,5,26,38,13,6,17,2,14,2,1,8,7,23,6,2,2,27,2,3,27,10,6,23,9,23,5,2,9,7,22,25,6,41,26,9,22,7,2,13,6,8,11,2,8,5,13,8,7,6,30,15,26,2,14,26,2,2,1,2,16,2,3,4,2,10,4,1,16,27,6,7,11,24,24,8,9,15,13,1,18,2,2,2,5,12,5,26,2,19,2,11,13,3,3,10,2,26,26,23,4,1,5,32,5,27,7,25,5,27,4,18,14,23,2,9,23,2,10,1,8,15,6,2,3,5,5,22,12,2,16,23,4,26,7,24,16,14,23,10,3,20,2,9,2,2,27,15,2,12,25,18,20,2,5,12,26,5,3,18,27,1,15,6,12,5,6,10,20,20,9,2,1,5,16,2,26,11,13,28,11,2,9,15,2,2,5,3,1,2,5,5,33,7,12,21,18,2,24,2,2,5,2,29,14,13,2,7,16,13,11,23,1,21,19,1,10,2,1,2,4,2,24,2,10,9,26,18,1,2,14,8,23,2,19,18,15,1,10,26,2,8,10,1,2,2,9,5,14,2,10,2,9,26,38,13,7,11,1,2,8,3,23,2,22,23,5,2,20,3,13,2,1,2,3,26,7,11,27,2,38,19,13,3,27,4,6,10,12,3,8,2,13,5,19,2,14,24,1,26,2,23,8,23,8,30,2,23,22,29,5,15,6,10,2,23,16,10,4,5,20,14,30,2,2,1,2,11,5,30,2,13,3,10,20,10,8,12,21,8,9,8,4,21,3,14,2,6,9,10,1,8,2,14,16,21,5,6,6,2,13,2,8,22,13,13,2,3,5,5,10,11,14,18,30,26,6,8,24,2,6,16,2,19,6,3,2,33,2,2,3,2,15,2,18,9,2,2,7,6,27,8,26,13,7,11,4,6,22,1,1,2,14,2,22,2,9,26,18,16,2,14,5,8,2,22,13,3,2,1,6,7,23,2,19,2,9,22,3,2,1,1,30,12,25,6,21,10,2,15,2,7,5,2,7,2,2,2,2,2,1,2,13,1,6,10,18,14,2,11,2,23,26,3,7,31,3,7,15,18,18,25,1,23,5,2,7,38,3,5,8,3,7,9,20,21,2,2,2,4,12,10,22,16,2,24,5,2,26,5,21,1,9,12,2,9,5,9,4,18,2,2,2,10,16,1,5,4,2,2,14,9,12,1,2,21,42,2,2,38,1,1,2,23,2,2,12,8,2,1,11,3,9,4,6,1,10,1,6,2,16,22,7,26,2,19,3,3,2,9,2,6,9,29,6,2,6,2,6,24,5,3,14,3,8,13,1,2,15,7,13,2,2,3,2,26,2,6,3,4,1,12,13,9,6,3,1,2,3,1,10,8,2,5,2,5,3,3,17,2,9,9,2,26,11,11,20,5,19,17,26,11,12,13,13,7,3,18,24,2,2,2,1,2,1,10,12,8,5,2,20,21,1,24,2,2,23,29,5,7,7,1,7,19,29,17,12,2,8,6,13,2,9,13,18,6,8,10,9,4,2,10,2,12,27,21,29,2,15,23,16,4,7,13,10,17,27,13,13,11,15,14,23,23,13,2,2,8,1,14,2,7,5,9,14,1,3,12,2,6,26,1,14,8,12,10,3,5,38,23,27,2,6,8,16,7,10,2,4,3,26,9,2,1,6,12,9,25,37,11,1,2,7,2,19,1,11,4,13,7,1,1,13,8,3,10,2,23,11,18,2,2,12,14,2,15,2,2,2,9,18,2,25,1,2,2,3,25,2,2,8,23,11,9,14,21,6,5,25,10,1,10,2,3,23,13,3,9,18,29,7,2,7,2,3,6,16,10,13,2,2,2,13,13,13,36,2,2,2,12,8,22,3,2,22,2,26,27,16,2,12,5,2,7,11,13,7,2,18,8,2,20,8,27,2,2,38,7,5,2,2,27,3,14,9,9,2,6,7,2,2,17,1,21,1,1,5,10,12,16,2,10,27,25,16,30,20,2,30,26,3,6,3,8,27,2,25,9,2,2,10,7,1,11,2,13,14,7,12,2,2,1,25,2,27,22,2,3,2,6,14,20,7,18,6,2,14,13,2,16,5,19,3,27,2,2,12,17,3,16,26,7,13,2,3,4,23,8,29,2,2,2,19,9,8,22,26,2,7,10,10,14,13,2,1,19,2,23,2,16,1,9,20,2,2,3,2,5,18,25,13,2,8,7,25,2,9,8,2,21,6,1,7,4,14,12,30,27,16,9,5,1,3,7,2,6,2,15,23,23,13,2,4,7,2,9,9,11,12,2,1,3,12,11,11,9,17,15,6,12,1,25,21,9,22,8,12,8,11,10,12,5,2,17,5,9,10,8,9,2,11,23,8,6,23,12,5,13,2,7,6,18,21,24,2,13,22,2,14,2,2,7,5,21,1,7,12,23,12,10,25,1,2,4,20,13,2,7,19,26,12,10,9,9,18,13,2,2,2,5,8,21,2,3,14,8,21,8,2,11,7,5,6,24,5,27,7,10,3,9,15,2,5,1,1,24,2,18,2,2,12,11,26,21,5,14,1,2,22,2,17,1,14,2,12,3,12,2,17,12,14,29,2,25,22,13,22,7,2,13,8,12,2,2,2,3,23,30,9,13,15,23,5,8,1,2,20,3,9,1,20,22,22,9,18,2,11,11,1,26,23,15,11,2,5,19,15,1,27,32,13,26,23,6,3,2,15,2,2,6,25,2,2,8,12,7,10,2,9,8,16,3,5,2,2,16,22,6,2,2,9,26,12,21,2,12,27,23,12,9,12,1,5,28,3,1,2,5,26,26,11,2,1,7,29,17,24,29,3,2,5,23,30,2,11,2,20,27,2,1,1,2,2,2,2,2,2,5,27,2,5,2,11,26,16,18,1,13,12,2,15,6,23,7,11,12,10,3,23,2,19,1,2,2,14,2,1,30,6,29,2,15,26,28,10,7,8,34,26,2,13,1,2,2,2,27,20,3,3,4,3,11,27,6,26,23,2,13,6,2,5,12,18,22,2,11,8,4,28,2,3,9,22,2,8,15,2,5,19,3,2,13,26,2,2,25,24,15,5,26,2,9,8,29,37,7,6,9,14,7,8,1,1,13,1,2,18,25,22,5,5,2,24,6,17,26,2,17,3,3,2,12,3,11,7,1,16,13,1,24,2,19,1,26,11,27,3,1,12,24,15,28,14,2,14,2,22,3,27,27,2,11,22,2,2,2,8,3,10,20,14,21,6,4,27,2,4,2,20,2,23,10,1,10,5,9,17,11,6,13,26,9,2,7,14,6,2,7,1,14,11,3,8,2,2,4,3,14,1,9,2,2,13,2,6,11,4,8,16,5,6,6,9,1,19,9,16,8,2,17,2,19,14,6,12,5,22,3,13,26,26,15,3,2,24,20,22,2,9,3,2,8,15,37,13,11,9,2,2,2,33,17,13,4,2,13,2,2,13,9,13,14,2,18,5,26,8,12,2,23,12,3,13,14,3,3,2,4,11,5,11,6,13,11,20,3,3,23,9,13,12,6,13,2,2,2,6,1,3,13,12,24,29,1,9,2,8,2,2,10,2,7,10,3,2,10,10,10,2,11,18,6,1,2,7,4,10,5,2,22,10,38,1,26,12,9,2,24,4,16,2,10,2,8,13,12,18,17,1,2,2,15,14,1,18,2,6,2,12,2,1,1,11,9,27,2,15,23,8,2,12,9,6,7,9,32,14,29,9,25,25,7,2,2,6,28,26,6,23,6,3,15,20,2,25,1,2,11,38,2,9,8,9,5,6,2,5,8,3,9,2,7,2,7,8,13,27,27,1,9,27,3,4,5,2,22,6,5,23,15,7,14,3,18,2,18,17,21,2,12,2,14,1,3,2,2,3,6,1,25,2,4,5,7,26,9,13,6,29,2,24,26,19,22,2,15,16,14,6,22,5,1,2,2,26,5,1,5,2,15,25,2,13,28,7,2,2,9,2,9,2,1,1,13,8,11,27,13,1,12,11,6,7,2,15,14,13,8,22,1,24,15,2,7,5,15,14,21,2,8,38,3,14,4,12,22,15,13,23,2,16,3,3,2,3,2,6,9,5,16,11,2,13,7,2,22,5,1,10,5,37,15,19,14,25,3,15,24,2,21,2,11,8,11,23,15,27,15,8,8,14,2,8,7,13,3,18,21,13,12,15,18,21,22,6,22,15,24,19,4,22,16,20,26,25,2,9,5,2,7,24,2,16,14,14,2,13,2,2,2,2,3,25,14,5,26,8,1,24,28,8,7,5,2,28,14,7,14,25,11,4,2,10,15,12,21,25,6,6,9,2,3,18,6,13,9,2,2,5,7,1,2,7,14,18,13,30,29,6,26,6,14,2,7,16,2,27,20,10,6,4,2,2,2,9,6,2,8,3,13,21,24,23,27,5,2,16,11,24,17,5,2,25,8,2,39,5,2,2,24,2,12,2,23,15,2,21,2,2,22,4,2,21,16,14,16,7,19,2,7,9,23,8,14,7,13,6,3,10,14,2,14,14,9,21,18,2,13,26,8,1,11,3,12,1,11,1,7,2,24,25,1,2,18,6,2,9,12,5,3,15,24,2,13,13,7,13,8,8,23,9,26,1,10,2,22,1,7,2,3,1,1,2,2,25,26,28,2,1,25,27,2,2,5,3,5,9,9,22,8,26,13,7,1,11,7,33,14,6,19,25,9,21,26,24,3,5,2,2,2,21,23,32,16,9,13,10,3,10,9,2,2,12,26,4,10,18,8,7,7,2,10,1,10,11,2,2,13,11,5,13,2,10,2,9,9,2,4,2,2,11,3,2,12,9,23,13,38,1,24,1,18,8,6,5,14,26,1,2,2,28,27,2,9,12,5,2,21,17,1,22,2,14,9,2,1,15,11,7,2,17,7,12,26,1,20,3,19,22,7,14,2,2,5,13,2,20,13,11,22,2,2,9,2,10,8,6,2,2,13,10,2,11,13,25,8,14,2,5,8,2,1,2,2,29,5,17,12,6,2,2,26,24,27,4,20,2,14,2,22,6,3,2,6,11,4,2,28,31,27,2,8,14,2,16,11,5,11,5,14,2,1,1,28,23,7,21,10,2,12,2,25,23,26,10,5,7,12,15,2,11,7,14,10,27,11,5,8,11,2,4,9,13,6,1,7,18,10,20,8,11,10,12,9,2,8,9,2,1,5,23,1,16,3,13,1,13,3,21,5,22,2,24,9,1,2,24,30,12,3,16,2,2,25,22,9,20,28,7,2,22,16,6,5,2,9,27,2,1,3,4,16,10,14,12,4,2,25,28,2,10,12,2,5,2,26,9,17,10,17,2,7,24,13,10,10,13,8,9,3,3,7,3,2,7,2,21,2,26,16,3,1,21,26,26,23,2,22,24,2,8,10,3,23,5,23,1,15,9,8,10,1,27,22,14,4,24,30,23,1,6,12,2,12,1,13,2,13,21,2,5,11,2,9,2,24,1,2,21,2,7,5,8,4,1,3,2,8,23,14,2,19,2,40,2,2,10,9,8,9,31,6,3,2,5,10,13,14,8,2,13,22,2,2,23,23,1,28,13,2,21,12,1,1,14,2,9,26,7,6,15,4,2,14,1,8,2,12,27,2,1,2,27,2,26,16,13,2,14,11,22,1,7,2,7,1,19,2,6,29,2,16,9,18,28,3,16,2,3,11,6,25,2,26,2,23,25,10,12,2,3,9,3,2,2,2,5,26,6,9,2,15,2,3,11,24,2,3,2,2,1,13,4,9,7,7,14,2,20,3,7,7,30,2,4,19,27,14,27,24,26,9,3,47,11,7,1,1,2,1,1,6,2,13,2,2,2,2,5,2,23,13,24,13,2,23,20,2,5,16,22,21,2,10,8,2,2,3,11,7,1,3,13,3,17,16,2,18,8,1,2,14,14,23,8,15,3,2,26,3,1,8,2,2,2,19,2,22,2,10,1,7,13,18,8,11,3,4,1,2,2,2,12,10,6,15,12,24,1,5,2,7,2,25,13,26,5,2,24,9,13,13,30,20,2,13,22,19,18,25,21,2,28,27,5,2,2,20,20,8,26,4,20,1,20,12,9,19,10,6,10,24,7,2,6,1,22,2,23,17,4,13,9,26,2,24,26,8,10,26,5,2,2,11,16,22,1,2,1,13,3,15,2,26,1,2,5,2,2,16,19,26,7,2,22,5,9,26,5,17,7,26,13,5,3,14,38,24,2,26,6,8,8,13,3,26,2,8,7,25,21,2,1,2,13,2,2,2,6,20,17,2,2,24,21,7,11,17,1,19,15,24,1,8,2,2,2,3,2,8],\"type\":\"box\"}],                        {\"template\":{\"data\":{\"histogram2dcontour\":[{\"type\":\"histogram2dcontour\",\"colorbar\":{\"outlinewidth\":0,\"ticks\":\"\"},\"colorscale\":[[0.0,\"#0d0887\"],[0.1111111111111111,\"#46039f\"],[0.2222222222222222,\"#7201a8\"],[0.3333333333333333,\"#9c179e\"],[0.4444444444444444,\"#bd3786\"],[0.5555555555555556,\"#d8576b\"],[0.6666666666666666,\"#ed7953\"],[0.7777777777777778,\"#fb9f3a\"],[0.8888888888888888,\"#fdca26\"],[1.0,\"#f0f921\"]]}],\"choropleth\":[{\"type\":\"choropleth\",\"colorbar\":{\"outlinewidth\":0,\"ticks\":\"\"}}],\"histogram2d\":[{\"type\":\"histogram2d\",\"colorbar\":{\"outlinewidth\":0,\"ticks\":\"\"},\"colorscale\":[[0.0,\"#0d0887\"],[0.1111111111111111,\"#46039f\"],[0.2222222222222222,\"#7201a8\"],[0.3333333333333333,\"#9c179e\"],[0.4444444444444444,\"#bd3786\"],[0.5555555555555556,\"#d8576b\"],[0.6666666666666666,\"#ed7953\"],[0.7777777777777778,\"#fb9f3a\"],[0.8888888888888888,\"#fdca26\"],[1.0,\"#f0f921\"]]}],\"heatmap\":[{\"type\":\"heatmap\",\"colorbar\":{\"outlinewidth\":0,\"ticks\":\"\"},\"colorscale\":[[0.0,\"#0d0887\"],[0.1111111111111111,\"#46039f\"],[0.2222222222222222,\"#7201a8\"],[0.3333333333333333,\"#9c179e\"],[0.4444444444444444,\"#bd3786\"],[0.5555555555555556,\"#d8576b\"],[0.6666666666666666,\"#ed7953\"],[0.7777777777777778,\"#fb9f3a\"],[0.8888888888888888,\"#fdca26\"],[1.0,\"#f0f921\"]]}],\"heatmapgl\":[{\"type\":\"heatmapgl\",\"colorbar\":{\"outlinewidth\":0,\"ticks\":\"\"},\"colorscale\":[[0.0,\"#0d0887\"],[0.1111111111111111,\"#46039f\"],[0.2222222222222222,\"#7201a8\"],[0.3333333333333333,\"#9c179e\"],[0.4444444444444444,\"#bd3786\"],[0.5555555555555556,\"#d8576b\"],[0.6666666666666666,\"#ed7953\"],[0.7777777777777778,\"#fb9f3a\"],[0.8888888888888888,\"#fdca26\"],[1.0,\"#f0f921\"]]}],\"contourcarpet\":[{\"type\":\"contourcarpet\",\"colorbar\":{\"outlinewidth\":0,\"ticks\":\"\"}}],\"contour\":[{\"type\":\"contour\",\"colorbar\":{\"outlinewidth\":0,\"ticks\":\"\"},\"colorscale\":[[0.0,\"#0d0887\"],[0.1111111111111111,\"#46039f\"],[0.2222222222222222,\"#7201a8\"],[0.3333333333333333,\"#9c179e\"],[0.4444444444444444,\"#bd3786\"],[0.5555555555555556,\"#d8576b\"],[0.6666666666666666,\"#ed7953\"],[0.7777777777777778,\"#fb9f3a\"],[0.8888888888888888,\"#fdca26\"],[1.0,\"#f0f921\"]]}],\"surface\":[{\"type\":\"surface\",\"colorbar\":{\"outlinewidth\":0,\"ticks\":\"\"},\"colorscale\":[[0.0,\"#0d0887\"],[0.1111111111111111,\"#46039f\"],[0.2222222222222222,\"#7201a8\"],[0.3333333333333333,\"#9c179e\"],[0.4444444444444444,\"#bd3786\"],[0.5555555555555556,\"#d8576b\"],[0.6666666666666666,\"#ed7953\"],[0.7777777777777778,\"#fb9f3a\"],[0.8888888888888888,\"#fdca26\"],[1.0,\"#f0f921\"]]}],\"mesh3d\":[{\"type\":\"mesh3d\",\"colorbar\":{\"outlinewidth\":0,\"ticks\":\"\"}}],\"scatter\":[{\"fillpattern\":{\"fillmode\":\"overlay\",\"size\":10,\"solidity\":0.2},\"type\":\"scatter\"}],\"parcoords\":[{\"type\":\"parcoords\",\"line\":{\"colorbar\":{\"outlinewidth\":0,\"ticks\":\"\"}}}],\"scatterpolargl\":[{\"type\":\"scatterpolargl\",\"marker\":{\"colorbar\":{\"outlinewidth\":0,\"ticks\":\"\"}}}],\"bar\":[{\"error_x\":{\"color\":\"#2a3f5f\"},\"error_y\":{\"color\":\"#2a3f5f\"},\"marker\":{\"line\":{\"color\":\"#E5ECF6\",\"width\":0.5},\"pattern\":{\"fillmode\":\"overlay\",\"size\":10,\"solidity\":0.2}},\"type\":\"bar\"}],\"scattergeo\":[{\"type\":\"scattergeo\",\"marker\":{\"colorbar\":{\"outlinewidth\":0,\"ticks\":\"\"}}}],\"scatterpolar\":[{\"type\":\"scatterpolar\",\"marker\":{\"colorbar\":{\"outlinewidth\":0,\"ticks\":\"\"}}}],\"histogram\":[{\"marker\":{\"pattern\":{\"fillmode\":\"overlay\",\"size\":10,\"solidity\":0.2}},\"type\":\"histogram\"}],\"scattergl\":[{\"type\":\"scattergl\",\"marker\":{\"colorbar\":{\"outlinewidth\":0,\"ticks\":\"\"}}}],\"scatter3d\":[{\"type\":\"scatter3d\",\"line\":{\"colorbar\":{\"outlinewidth\":0,\"ticks\":\"\"}},\"marker\":{\"colorbar\":{\"outlinewidth\":0,\"ticks\":\"\"}}}],\"scattermapbox\":[{\"type\":\"scattermapbox\",\"marker\":{\"colorbar\":{\"outlinewidth\":0,\"ticks\":\"\"}}}],\"scatterternary\":[{\"type\":\"scatterternary\",\"marker\":{\"colorbar\":{\"outlinewidth\":0,\"ticks\":\"\"}}}],\"scattercarpet\":[{\"type\":\"scattercarpet\",\"marker\":{\"colorbar\":{\"outlinewidth\":0,\"ticks\":\"\"}}}],\"carpet\":[{\"aaxis\":{\"endlinecolor\":\"#2a3f5f\",\"gridcolor\":\"white\",\"linecolor\":\"white\",\"minorgridcolor\":\"white\",\"startlinecolor\":\"#2a3f5f\"},\"baxis\":{\"endlinecolor\":\"#2a3f5f\",\"gridcolor\":\"white\",\"linecolor\":\"white\",\"minorgridcolor\":\"white\",\"startlinecolor\":\"#2a3f5f\"},\"type\":\"carpet\"}],\"table\":[{\"cells\":{\"fill\":{\"color\":\"#EBF0F8\"},\"line\":{\"color\":\"white\"}},\"header\":{\"fill\":{\"color\":\"#C8D4E3\"},\"line\":{\"color\":\"white\"}},\"type\":\"table\"}],\"barpolar\":[{\"marker\":{\"line\":{\"color\":\"#E5ECF6\",\"width\":0.5},\"pattern\":{\"fillmode\":\"overlay\",\"size\":10,\"solidity\":0.2}},\"type\":\"barpolar\"}],\"pie\":[{\"automargin\":true,\"type\":\"pie\"}]},\"layout\":{\"autotypenumbers\":\"strict\",\"colorway\":[\"#636efa\",\"#EF553B\",\"#00cc96\",\"#ab63fa\",\"#FFA15A\",\"#19d3f3\",\"#FF6692\",\"#B6E880\",\"#FF97FF\",\"#FECB52\"],\"font\":{\"color\":\"#2a3f5f\"},\"hovermode\":\"closest\",\"hoverlabel\":{\"align\":\"left\"},\"paper_bgcolor\":\"white\",\"plot_bgcolor\":\"#E5ECF6\",\"polar\":{\"bgcolor\":\"#E5ECF6\",\"angularaxis\":{\"gridcolor\":\"white\",\"linecolor\":\"white\",\"ticks\":\"\"},\"radialaxis\":{\"gridcolor\":\"white\",\"linecolor\":\"white\",\"ticks\":\"\"}},\"ternary\":{\"bgcolor\":\"#E5ECF6\",\"aaxis\":{\"gridcolor\":\"white\",\"linecolor\":\"white\",\"ticks\":\"\"},\"baxis\":{\"gridcolor\":\"white\",\"linecolor\":\"white\",\"ticks\":\"\"},\"caxis\":{\"gridcolor\":\"white\",\"linecolor\":\"white\",\"ticks\":\"\"}},\"coloraxis\":{\"colorbar\":{\"outlinewidth\":0,\"ticks\":\"\"}},\"colorscale\":{\"sequential\":[[0.0,\"#0d0887\"],[0.1111111111111111,\"#46039f\"],[0.2222222222222222,\"#7201a8\"],[0.3333333333333333,\"#9c179e\"],[0.4444444444444444,\"#bd3786\"],[0.5555555555555556,\"#d8576b\"],[0.6666666666666666,\"#ed7953\"],[0.7777777777777778,\"#fb9f3a\"],[0.8888888888888888,\"#fdca26\"],[1.0,\"#f0f921\"]],\"sequentialminus\":[[0.0,\"#0d0887\"],[0.1111111111111111,\"#46039f\"],[0.2222222222222222,\"#7201a8\"],[0.3333333333333333,\"#9c179e\"],[0.4444444444444444,\"#bd3786\"],[0.5555555555555556,\"#d8576b\"],[0.6666666666666666,\"#ed7953\"],[0.7777777777777778,\"#fb9f3a\"],[0.8888888888888888,\"#fdca26\"],[1.0,\"#f0f921\"]],\"diverging\":[[0,\"#8e0152\"],[0.1,\"#c51b7d\"],[0.2,\"#de77ae\"],[0.3,\"#f1b6da\"],[0.4,\"#fde0ef\"],[0.5,\"#f7f7f7\"],[0.6,\"#e6f5d0\"],[0.7,\"#b8e186\"],[0.8,\"#7fbc41\"],[0.9,\"#4d9221\"],[1,\"#276419\"]]},\"xaxis\":{\"gridcolor\":\"white\",\"linecolor\":\"white\",\"ticks\":\"\",\"title\":{\"standoff\":15},\"zerolinecolor\":\"white\",\"automargin\":true,\"zerolinewidth\":2},\"yaxis\":{\"gridcolor\":\"white\",\"linecolor\":\"white\",\"ticks\":\"\",\"title\":{\"standoff\":15},\"zerolinecolor\":\"white\",\"automargin\":true,\"zerolinewidth\":2},\"scene\":{\"xaxis\":{\"backgroundcolor\":\"#E5ECF6\",\"gridcolor\":\"white\",\"linecolor\":\"white\",\"showbackground\":true,\"ticks\":\"\",\"zerolinecolor\":\"white\",\"gridwidth\":2},\"yaxis\":{\"backgroundcolor\":\"#E5ECF6\",\"gridcolor\":\"white\",\"linecolor\":\"white\",\"showbackground\":true,\"ticks\":\"\",\"zerolinecolor\":\"white\",\"gridwidth\":2},\"zaxis\":{\"backgroundcolor\":\"#E5ECF6\",\"gridcolor\":\"white\",\"linecolor\":\"white\",\"showbackground\":true,\"ticks\":\"\",\"zerolinecolor\":\"white\",\"gridwidth\":2}},\"shapedefaults\":{\"line\":{\"color\":\"#2a3f5f\"}},\"annotationdefaults\":{\"arrowcolor\":\"#2a3f5f\",\"arrowhead\":0,\"arrowwidth\":1},\"geo\":{\"bgcolor\":\"white\",\"landcolor\":\"#E5ECF6\",\"subunitcolor\":\"white\",\"showland\":true,\"showlakes\":true,\"lakecolor\":\"white\"},\"title\":{\"x\":0.05},\"mapbox\":{\"style\":\"light\"}}},\"title\":{\"text\":\"Box Plot for Duration_hours\",\"font\":{\"size\":25}},\"font\":{\"color\":\"white\"},\"yaxis\":{\"title\":{\"text\":\"Values\"},\"showgrid\":true,\"gridwidth\":1,\"gridcolor\":\"white\",\"griddash\":\"dash\"},\"plot_bgcolor\":\"black\",\"paper_bgcolor\":\"black\",\"xaxis\":{\"showgrid\":true,\"gridwidth\":1,\"gridcolor\":\"white\",\"griddash\":\"dash\"}},                        {\"responsive\": true}                    ).then(function(){\n",
       "                            \n",
       "var gd = document.getElementById('28dc4e60-c2e6-4412-acfa-8ec2f2529528');\n",
       "var x = new MutationObserver(function (mutations, observer) {{\n",
       "        var display = window.getComputedStyle(gd).display;\n",
       "        if (!display || display === 'none') {{\n",
       "            console.log([gd, 'removed!']);\n",
       "            Plotly.purge(gd);\n",
       "            observer.disconnect();\n",
       "        }}\n",
       "}});\n",
       "\n",
       "// Listen for the removal of the full notebook cells\n",
       "var notebookContainer = gd.closest('#notebook-container');\n",
       "if (notebookContainer) {{\n",
       "    x.observe(notebookContainer, {childList: true});\n",
       "}}\n",
       "\n",
       "// Listen for the clearing of the current output cell\n",
       "var outputEl = gd.closest('.output');\n",
       "if (outputEl) {{\n",
       "    x.observe(outputEl, {childList: true});\n",
       "}}\n",
       "\n",
       "                        })                };                });            </script>        </div>"
      ]
     },
     "metadata": {},
     "output_type": "display_data"
    },
    {
     "data": {
      "text/html": [
       "<div>                            <div id=\"22cd4212-eb07-4b5c-89e2-c592c9c75978\" class=\"plotly-graph-div\" style=\"height:525px; width:100%;\"></div>            <script type=\"text/javascript\">                require([\"plotly\"], function(Plotly) {                    window.PLOTLYENV=window.PLOTLYENV || {};                                    if (document.getElementById(\"22cd4212-eb07-4b5c-89e2-c592c9c75978\")) {                    Plotly.newPlot(                        \"22cd4212-eb07-4b5c-89e2-c592c9c75978\",                        [{\"name\":\"Duration_min\",\"y\":[50,25,0,25,45,25,30,5,30,50,15,35,15,10,35,35,30,35,0,35,10,20,50,55,20,10,45,55,50,15,15,25,50,0,30,25,15,30,15,55,5,30,5,45,0,50,50,15,5,55,15,20,50,0,50,15,5,15,30,5,25,20,15,30,15,25,50,30,20,15,25,30,20,30,0,45,50,30,5,15,50,40,10,35,0,20,25,45,20,0,15,5,30,20,35,25,40,0,25,35,20,15,30,0,45,55,10,30,20,55,0,55,45,10,55,25,5,10,40,55,40,25,5,15,25,10,10,0,50,20,0,55,10,45,0,50,40,15,45,50,0,15,25,35,50,35,25,55,50,10,20,25,50,20,15,35,35,50,45,10,50,45,15,20,30,25,30,40,10,45,35,5,30,30,10,35,5,50,0,0,25,30,30,0,20,30,45,10,35,45,55,35,20,5,40,15,10,25,50,25,15,50,15,50,20,55,35,35,30,20,55,15,5,45,55,30,40,45,55,0,45,15,25,15,55,50,25,50,30,30,40,35,15,30,45,35,30,55,55,15,40,30,0,15,15,50,10,25,20,30,10,30,20,35,15,20,45,0,0,30,50,55,45,15,35,55,5,5,15,0,55,0,15,40,20,25,20,30,45,15,55,20,55,5,40,0,0,35,30,55,35,55,15,20,40,0,10,35,45,35,30,40,35,55,40,25,15,10,45,30,50,0,30,50,15,30,20,30,25,35,55,35,30,45,20,30,35,45,55,40,5,0,45,40,55,55,10,20,50,30,0,45,20,25,20,35,0,10,20,0,45,55,40,10,10,50,20,0,0,35,5,40,50,5,50,35,25,25,40,55,10,50,50,50,30,30,50,15,10,5,35,5,0,30,30,20,45,30,35,45,35,30,15,5,0,50,25,20,45,45,50,0,25,55,50,40,45,50,15,30,0,5,20,35,50,50,10,5,30,5,20,55,30,50,15,0,35,45,55,20,40,0,25,55,45,15,0,10,25,40,50,20,20,0,45,55,20,15,45,55,55,20,25,50,5,15,0,25,15,10,45,0,55,45,30,45,40,30,30,40,5,25,30,5,40,50,45,20,0,15,0,0,40,0,20,20,20,25,20,5,55,45,45,55,15,15,30,0,0,10,55,30,20,15,30,20,55,25,30,55,25,25,15,20,10,15,15,30,5,50,25,15,50,15,15,5,35,0,50,50,20,20,10,35,35,10,0,35,55,35,40,30,15,55,50,25,40,35,55,25,35,30,15,15,5,50,10,50,30,35,35,35,30,15,35,30,20,0,35,30,10,55,45,40,5,45,50,20,0,0,55,5,35,0,25,35,40,55,20,0,40,0,0,45,10,20,55,35,55,45,35,30,45,40,50,50,50,30,55,10,55,15,10,55,30,10,35,40,50,30,0,10,55,0,0,45,30,20,10,30,15,35,0,0,50,25,5,50,5,15,45,50,30,55,45,50,45,35,30,15,55,45,30,20,30,30,30,0,15,50,5,35,30,15,45,45,50,35,55,30,40,0,30,55,10,50,45,30,20,20,55,10,45,50,0,10,20,45,15,55,30,35,35,45,25,35,30,15,40,25,40,45,20,40,50,20,15,15,45,35,30,30,35,35,50,35,20,45,30,50,30,30,0,0,25,35,10,10,55,15,10,55,15,20,25,50,20,20,15,10,40,50,10,5,25,55,0,45,55,30,15,50,0,15,30,35,25,0,30,50,45,30,40,30,50,35,5,50,5,15,25,50,35,50,40,25,10,55,40,50,35,40,40,20,0,35,10,35,20,10,0,0,10,40,35,55,0,30,35,20,15,50,45,20,40,15,0,50,0,20,50,10,10,40,45,50,0,0,35,50,55,5,20,55,5,0,25,45,45,20,15,30,35,0,50,45,25,25,10,55,50,0,0,50,15,15,50,50,0,30,45,55,45,15,15,50,25,55,25,5,45,15,20,30,20,20,5,30,5,10,0,5,55,35,10,40,55,30,40,30,10,20,25,10,30,50,45,25,55,25,30,5,5,20,40,30,15,20,50,20,5,25,5,20,25,35,50,35,15,35,0,25,35,15,35,5,35,30,45,15,15,30,20,30,35,35,30,30,40,0,30,55,15,55,20,35,20,25,50,0,25,0,50,20,45,55,25,55,45,25,40,20,25,50,35,10,25,30,35,5,30,5,20,55,30,35,20,50,50,10,15,25,5,15,10,55,40,30,45,20,15,40,55,30,30,50,15,35,30,40,25,5,15,0,50,30,40,0,30,30,0,15,5,0,25,35,35,0,5,35,30,30,40,40,25,25,50,5,30,0,45,45,20,0,55,15,50,50,55,30,45,30,15,5,20,50,55,15,55,35,50,20,0,45,10,55,30,10,15,40,40,0,25,35,40,45,0,30,30,35,35,15,45,0,45,30,35,0,15,15,20,45,55,20,20,30,0,35,35,20,55,35,30,10,55,30,35,35,5,30,45,40,15,30,40,35,25,20,50,10,40,30,45,50,30,45,55,0,55,40,0,20,30,20,45,5,55,50,55,50,20,25,55,0,20,50,15,25,45,5,10,45,20,50,5,45,0,0,30,50,35,0,5,50,50,20,55,40,55,10,20,45,25,30,55,0,50,15,45,0,15,20,15,30,25,30,20,45,30,45,20,40,0,25,20,30,25,35,35,40,40,20,30,35,55,35,35,25,55,30,0,10,15,35,5,10,45,30,15,25,30,25,0,20,55,55,15,45,30,35,50,30,25,45,30,10,25,45,25,20,25,30,30,45,30,40,25,10,30,0,15,0,35,20,0,15,50,5,0,45,40,50,25,20,30,20,15,50,35,55,35,45,30,55,55,10,20,5,40,50,40,35,20,55,50,20,0,40,40,45,15,0,35,30,15,15,0,0,25,35,10,30,50,30,55,30,55,10,40,45,45,40,35,15,55,45,0,50,5,35,0,15,45,10,30,25,50,20,30,55,5,30,50,20,25,50,55,10,5,35,50,20,15,10,0,55,5,30,30,20,30,45,20,45,20,30,40,45,50,45,55,35,35,10,50,35,20,15,0,5,30,45,40,25,0,55,20,15,50,45,55,45,35,35,50,15,35,30,0,15,10,0,15,25,0,35,30,20,15,25,55,0,30,30,45,35,35,10,30,20,45,15,45,30,15,55,25,50,50,35,25,30,35,55,25,45,50,5,15,30,30,55,25,35,5,25,15,15,55,55,55,45,55,30,30,55,20,40,35,20,40,35,5,10,55,5,25,40,35,35,55,55,20,0,10,20,5,50,0,35,35,50,20,50,30,15,45,50,10,50,55,25,5,45,0,5,50,0,30,25,30,0,30,20,30,5,45,30,5,20,10,45,55,15,20,10,15,50,15,55,35,55,20,40,5,20,20,55,45,50,10,15,40,20,45,5,20,50,0,15,45,20,25,30,5,30,50,35,15,30,15,15,50,30,20,10,5,35,20,20,45,0,50,40,40,50,10,25,25,10,30,50,30,30,20,40,35,50,15,15,0,25,50,10,45,25,10,45,55,15,10,35,15,15,35,40,25,45,30,30,35,55,35,15,35,10,20,25,30,5,30,30,20,55,45,40,35,0,15,20,30,0,45,55,50,45,40,45,55,10,30,25,25,15,50,10,55,0,15,10,35,50,45,30,0,35,40,45,30,0,0,50,50,35,0,10,5,20,55,45,15,55,10,55,0,50,50,45,10,20,30,15,40,40,55,50,20,0,50,10,0,5,30,30,20,40,25,15,10,50,35,40,10,30,50,25,0,50,30,30,35,20,15,50,55,25,35,30,10,40,35,0,50,35,35,30,30,15,40,55,35,35,30,10,35,5,55,50,55,30,30,30,0,50,55,35,55,35,35,30,35,15,20,50,20,15,5,35,30,35,45,50,45,5,20,5,10,45,35,0,15,20,5,45,25,20,25,20,55,55,55,30,30,0,0,50,55,35,30,10,30,0,35,50,20,5,20,20,45,35,40,55,15,30,50,50,20,55,0,40,15,20,35,55,30,5,10,45,50,45,45,15,55,25,15,45,30,45,15,30,30,25,5,20,25,5,30,10,40,30,5,15,0,35,15,15,20,40,40,15,30,50,40,35,45,40,55,35,40,55,50,30,15,20,5,40,45,15,35,55,35,50,5,45,0,20,20,40,15,35,35,15,5,30,25,55,15,30,45,45,50,20,0,25,50,30,50,30,5,55,45,25,40,40,25,35,50,0,5,0,0,25,50,5,35,35,10,30,45,55,10,25,0,30,45,15,35,55,45,55,0,55,40,50,20,20,30,10,0,30,40,10,30,45,55,15,30,15,5,0,20,55,10,55,25,30,50,45,20,15,0,15,5,35,10,30,55,50,30,15,50,10,0,0,35,30,40,50,0,45,40,45,25,45,45,30,30,30,40,30,40,55,50,15,45,45,55,15,45,55,0,0,35,40,45,35,30,30,40,15,30,20,25,35,0,35,20,15,0,45,55,25,30,50,30,50,25,35,0,0,30,55,30,0,30,0,0,5,10,55,15,0,55,15,40,45,30,50,45,10,5,30,25,40,35,10,20,30,45,30,35,0,15,40,40,30,30,55,45,5,30,50,35,30,40,30,35,55,20,25,15,30,20,35,50,35,30,0,0,25,35,50,45,35,20,35,20,15,45,25,45,45,40,0,0,15,10,30,55,20,0,35,30,35,40,50,25,55,0,0,20,15,25,15,35,50,35,50,30,0,50,50,30,55,0,45,15,50,0,5,30,20,30,0,15,45,35,25,40,30,0,0,15,50,45,40,55,5,55,0,45,50,30,5,55,50,10,15,40,25,15,30,30,0,30,55,0,0,50,40,45,30,55,55,55,30,50,35,10,45,15,30,30,5,20,30,0,0,25,40,35,45,30,25,10,50,25,45,0,0,0,10,0,50,10,30,30,15,15,40,0,30,20,10,30,5,40,50,0,25,10,15,30,50,45,25,45,30,15,30,25,50,20,20,55,5,30,20,25,10,45,45,20,15,45,30,30,35,45,5,20,0,40,0,45,5,15,30,25,25,30,35,25,10,25,50,15,55,50,10,55,35,0,50,10,35,30,55,35,10,55,20,5,30,15,55,10,0,15,15,50,20,25,0,20,55,50,55,30,50,50,50,25,45,25,15,45,55,55,40,15,45,5,0,15,20,40,25,10,0,35,0,25,15,30,0,25,35,25,15,20,50,30,45,45,20,35,30,50,10,20,55,30,45,30,20,0,40,35,45,15,10,30,0,5,55,30,55,30,20,55,30,15,40,0,0,25,10,30,0,20,0,55,40,55,30,55,10,40,20,35,30,50,30,20,10,55,50,50,20,50,50,55,25,40,50,20,15,30,35,20,30,0,30,30,35,5,40,30,50,35,40,35,35,25,40,30,30,35,10,35,5,35,35,30,0,35,15,10,40,10,30,45,40,10,35,40,10,20,35,5,20,50,0,0,30,0,50,50,50,35,0,50,20,5,50,25,50,30,20,40,0,0,55,50,20,45,55,45,5,35,30,0,50,25,15,30,5,45,30,35,0,15,30,0,40,30,50,45,0,55,35,30,35,30,30,15,30,20,35,35,55,0,0,0,35,20,55,40,20,0,25,5,35,30,25,20,30,0,25,55,25,30,55,10,45,30,25,50,50,15,20,30,30,55,40,20,50,30,0,50,20,50,35,35,45,30,25,55,5,15,30,35,30,55,55,40,30,30,40,30,5,0,20,35,55,15,25,20,55,55,30,55,55,45,25,0,35,20,30,0,15,40,25,40,15,30,0,0,10,10,15,5,35,20,15,15,20,30,30,15,25,35,15,10,55,5,45,20,35,20,45,10,25,50,10,35,25,20,30,50,0,35,35,20,30,0,50,35,30,10,40,55,45,55,50,15,55,40,20,0,20,20,30,25,35,40,10,15,5,10,45,55,35,45,5,45,0,45,25,35,30,30,25,40,10,15,50,25,55,20,20,55,10,0,45,5,5,50,50,20,50,10,45,15,50,30,45,55,0,0,50,15,35,50,50,25,35,10,50,35,20,0,30,0,20,15,55,20,35,35,25,55,50,20,55,20,0,15,15,5,20,50,5,40,55,30,35,20,5,50,40,40,55,10,25,20,40,25,30,20,25,50,0,35,35,15,55,0,15,5,30,30,45,30,40,5,5,55,30,50,40,10,20,55,50,45,5,0,30,50,45,0,55,10,50,25,45,5,30,40,15,55,50,0,15,15,35,15,30,40,45,20,50,0,0,45,35,20,15,5,10,25,50,30,50,40,0,15,30,30,45,0,15,5,50,20,45,35,45,30,25,45,30,35,30,5,10,45,35,45,45,40,15,40,15,45,50,25,0,45,55,0,15,40,30,30,55,25,10,10,15,30,30,30,15,35,30,20,35,0,50,35,0,50,20,5,25,0,10,0,5,45,35,25,55,10,45,5,0,20,10,5,10,35,5,50,30,25,0,20,30,5,20,0,25,35,30,55,55,50,50,30,5,40,30,10,5,15,55,15,25,55,20,25,50,15,15,30,0,55,30,45,20,25,50,35,25,35,5,15,20,20,20,45,20,0,40,30,30,35,25,50,35,40,25,20,30,25,30,35,25,30,50,40,30,0,20,40,0,45,45,45,50,30,45,55,55,25,50,30,15,45,55,45,45,20,45,15,30,45,20,35,55,20,0,45,5,40,45,35,40,30,15,5,25,35,10,5,55,30,5,30,10,30,10,55,40,10,35,25,55,55,0,15,30,55,25,50,40,5,25,25,45,40,0,45,20,25,0,5,55,40,15,35,45,0,20,55,40,30,20,0,35,35,10,10,40,30,55,35,45,5,5,40,30,25,25,50,55,25,20,30,35,0,45,50,20,20,30,0,5,40,45,5,40,20,20,0,20,45,40,30,35,0,15,50,55,15,30,5,25,35,30,25,35,30,25,25,30,25,50,50,45,45,5,20,45,20,25,15,0,5,5,0,30,10,25,0,0,25,30,30,30,35,25,25,25,55,30,45,45,30,55,30,5,45,5,20,35,25,40,0,50,40,50,30,30,30,20,50,20,10,20,5,35,55,10,20,35,20,0,50,10,25,55,25,50,50,20,55,15,25,55,50,30,40,45,30,30,35,55,0,0,25,25,35,25,35,50,50,25,30,5,30,30,5,30,15,15,30,55,50,35,0,10,5,15,25,25,30,50,0,25,5,30,30,30,25,35,20,15,5,35,0,45,0,25,45,30,5,45,40,30,35,30,10,25,20,35,25,0,30,0,30,5,10,10,15,20,30,15,35,50,50,25,35,0,45,25,30,55,0,45,40,5,55,5,50,30,40,15,5,25,50,10,40,50,15,30,40,15,55,45,0,25,20,30,30,50,20,55,30,40,25,5,5,15,40,35,35,0,40,30,5,25,5,30,10,30,45,45,0,40,45,5,5,20,40,35,45,20,25,45,45,15,35,50,50,15,45,20,20,5,55,10,35,5,45,40,10,0,55,25,55,55,30,25,0,20,0,55,20,20,20,40,15,35,10,20,30,5,40,5,15,50,50,35,30,50,25,5,0,45,20,20,0,55,15,55,0,45,55,55,20,55,35,15,30,30,35,20,50,55,5,0,55,10,45,25,45,15,35,30,25,20,50,50,55,25,25,15,0,5,30,55,30,40,20,40,10,45,15,0,55,30,25,15,35,45,30,55,10,20,5,45,50,30,30,50,30,55,40,25,50,25,20,40,25,10,35,20,40,20,30,15,15,50,45,0,20,25,45,50,15,55,45,45,25,35,35,50,40,25,45,55,50,15,35,30,55,20,45,40,35,5,0,10,0,50,5,15,55,0,0,30,15,50,15,55,40,15,0,15,40,10,55,50,25,30,30,40,55,40,0,5,55,55,25,35,5,35,25,50,0,30,20,40,50,35,55,25,50,30,35,30,30,55,30,30,15,30,25,20,55,30,5,30,55,40,0,5,55,15,15,55,55,50,25,0,0,40,20,10,30,5,20,0,10,30,55,30,0,55,0,20,20,30,30,30,30,45,25,35,50,55,25,15,55,10,20,10,35,15,20,30,15,55,25,35,35,15,15,30,35,40,40,30,35,30,10,30,30,10,55,50,35,55,25,30,0,35,15,0,35,40,40,15,5,55,45,55,45,35,45,10,30,40,35,45,5,0,30,50,0,10,30,10,45,40,0,45,20,30,35,35,45,30,0,40,30,30,30,5,10,15,15,25,25,50,40,30,50,45,15,50,30,25,35,25,25,20,30,40,30,10,25,50,50,0,55,5,15,30,35,30,35,5,15,20,30,15,50,50,10,5,40,30,15,30,30,15,30,0,5,45,25,25,30,15,30,0,30,5,55,20,30,10,15,5,40,0,50,30,20,30,45,15,15,35,30,50,10,30,55,45,20,55,5,55,55,0,55,25,5,30,15,20,55,45,45,45,45,40,35,45,0,35,35,35,40,20,35,0,15,20,20,40,30,30,50,30,0,30,35,45,15,50,25,0,30,30,20,30,50,45,0,50,30,35,35,40,55,50,50,50,45,55,45,10,10,45,50,25,20,5,50,20,10,50,20,5,55,55,45,15,35,55,15,0,30,0,35,15,45,55,10,55,45,35,50,15,0,30,50,0,20,45,35,40,50,15,45,30,35,30,20,0,45,10,5,40,40,45,45,30,10,10,30,50,15,30,10,5,0,15,55,35,50,50,45,15,25,15,20,45,0,5,55,30,50,30,15,30,0,30,35,35,30,15,30,50,5,10,15,15,0,0,45,35,35,25,10,45,20,15,50,10,45,25,0,30,15,50,20,35,35,35,20,45,50,20,30,20,30,5,15,15,10,45,30,55,30,10,25,10,0,30,30,30,45,10,20,20,0,15,0,0,35,15,5,15,30,15,30,5,55,55,35,55,5,10,30,15,40,35,50,35,20,10,50,50,15,55,30,10,45,35,20,30,50,40,40,30,45,30,15,30,5,10,10,55,40,45,45,20,50,35,15,20,20,25,30,30,15,20,15,10,30,50,0,15,15,45,30,30,15,0,30,35,55,25,55,45,30,45,30,0,0,5,55,25,45,0,20,25,0,55,30,55,30,45,45,5,30,30,0,5,20,30,40,5,25,45,30,30,55,45,40,50,15,15,50,45,40,5,15,15,35,25,20,20,50,45,50,50,30,25,35,55,40,15,35,20,50,55,25,55,20,55,30,40,15,55,10,45,15,20,35,15,25,40,35,40,45,35,0,45,55,30,45,20,30,5,40,25,55,30,30,45,0,0,50,30,50,45,30,50,0,25,20,5,35,20,10,35,0,5,0,15,40,50,10,20,30,30,25,45,5,15,0,45,20,40,50,55,50,15,20,15,25,0,15,50,0,50,35,15,50,40,5,35,30,15,35,30,0,30,20,50,25,10,40,20,50,0,50,45,45,0,50,0,55,30,40,10,25,15,15,30,15,55,30,0,20,15,20,20,30,15,20,30,35,55,50,20,50,55,55,5,15,25,30,20,5,50,40,45,50,5,30,30,40,20,15,45,20,0,20,50,15,55,0,40,45,35,40,40,50,50,55,40,55,20,35,0,55,10,25,35,0,55,30,25,50,20,30,50,35,0,30,20,25,55,45,50,30,55,15,10,0,20,30,30,0,5,55,15,45,15,5,15,45,45,25,45,0,0,55,35,40,35,45,45,25,15,30,30,20,35,45,50,10,30,50,25,30,25,55,35,15,55,35,0,55,30,30,5,25,40,30,25,55,10,30,15,20,45,5,20,0,20,0,50,0,50,5,0,40,5,30,15,25,20,25,35,50,5,35,5,50,30,50,0,15,10,55,30,30,55,45,40,35,0,30,35,45,55,30,35,50,15,35,40,30,50,30,35,35,40,50,45,0,15,35,0,5,0,10,20,0,30,25,45,30,5,15,30,35,45,15,55,10,40,30,20,25,30,0,40,45,5,20,5,45,35,40,15,55,30,50,15,55,15,30,15,25,20,5,0,5,50,45,10,10,30,20,5,35,0,15,25,40,20,30,20,30,45,0,5,35,50,55,45,45,15,5,45,35,50,45,20,10,20,30,45,20,30,20,55,45,20,45,0,55,45,45,10,50,35,35,20,15,40,0,40,40,10,35,20,55,20,25,20,15,20,20,5,30,20,50,30,45,35,5,15,45,30,20,50,30,50,20,0,35,40,40,40,25,25,55,35,30,30,20,0,10,20,55,35,20,5,30,5,0,35,25,55,25,55,40,10,45,15,30,35,20,20,25,0,0,30,20,15,0,45,30,0,25,25,15,35,35,55,30,45,45,45,15,25,35,20,20,30,5,15,50,50,15,10,5,0,30,35,15,55,15,5,50,50,45,20,0,5,20,30,15,5,50,55,35,35,20,55,0,30,45,35,25,35,0,50,20,45,0,50,45,35,0,5,50,30,5,30,50,45,50,45,10,5,20,10,15,30,25,45,15,20,20,35,55,35,15,55,55,5,45,35,45,10,30,35,55,20,50,20,30,20,50,15,50,20,20,25,50,0,25,40,5,55,30,0,35,15,30,45,55,55,55,25,0,50,45,5,5,55,35,15,55,15,20,30,25,50,20,40,5,20,55,35,50,35,0,15,50,50,20,25,35,30,50,15,55,35,15,40,25,50,25,50,0,25,55,30,0,45,45,15,0,25,35,20,0,35,30,50,45,25,30,35,40,25,10,35,25,30,15,0,25,25,25,0,35,0,20,35,10,50,15,20,25,30,10,50,35,15,30,55,10,45,25,15,25,30,20,10,45,30,30,10,55,40,40,40,55,50,35,45,25,45,30,5,15,10,30,5,50,40,15,45,45,55,25,30,50,0,30,45,30,50,55,5,50,30,55,50,15,45,0,45,25,10,55,0,15,10,0,50,45,30,15,40,20,15,5,30,0,15,35,35,40,25,35,0,45,25,25,35,0,30,20,0,5,40,15,15,15,20,40,0,0,45,45,0,50,50,5,5,15,15,5,0,45,30,25,55,5,15,55,55,35,10,30,5,35,40,45,5,5,0,50,25,20,30,10,40,10,10,50,0,15,30,50,5,55,35,20,20,35,15,35,30,45,30,15,55,10,40,30,25,35,55,45,5,35,35,55,20,30,45,55,50,55,45,0,40,15,0,5,45,25,25,25,20,30,35,15,30,55,50,45,35,5,20,55,55,45,50,25,55,55,45,45,45,20,20,0,45,0,5,10,35,40,20,50,45,20,0,25,50,10,30,20,20,15,35,35,50,0,50,45,35,40,10,15,55,25,0,25,5,50,50,5,35,35,0,15,55,35,20,50,0,30,50,30,35,45,40,55,25,20,20,15,35,45,10,5,55,35,10,0,0,35,25,55,20,50,20,25,35,5,30,20,40,0,0,40,55,55,10,25,50,45,45,25,40,20,25,25,40,30,0,30,40,30,45,15,55,30,20,15,30,5,45,0,25,55,45,50,20,0,0,20,20,40,35,10,50,25,50,35,20,15,20,35,0,20,0,55,5,20,30,45,20,25,0,30,25,20,30,30,25,55,35,55,35,50,40,30,50,35,35,55,35,0,55,35,15,30,25,0,50,50,30,0,30,20,30,35,45,0,0,50,10,30,20,55,0,20,25,35,30,40,45,50,35,15,20,25,0,50,20,55,40,0,35,50,10,35,15,15,5,55,20,55,25,55,0,0,55,15,0,20,50,55,30,25,45,55,40,35,50,20,55,0,25,0,50,55,45,25,40,10,20,55,5,30,20,5,40,40,0,5,20,25,30,20,0,35,10,30,5,5,55,20,45,30,0,40,20,40,35,25,30,25,40,55,5,30,25,10,30,15,25,15,35,45,35,40,25,55,20,50,45,15,45,45,20,30,30,35,30,30,10,30,45,20,40,5,50,40,30,55,5,20,35,25,0,5,0,20,20,30,50,5,25,40,45,20,0,30,35,45,20,20,15,35,5,15,20,35,30,10,15,50,25,25,20,25,15,50,55,25,55,0,20,0,20,40,15,35,40,55,45,45,20,30,35,0,30,15,5,50,0,5,45,10,30,50,25,30,25,30,15,45,20,40,15,0,40,35,40,50,5,55,0,15,45,45,20,45,30,40,20,25,20,10,30,30,0,0,15,30,30,50,30,35,30,0,55,45,45,40,55,15,10,15,20,40,45,25,30,0,10,55,30,30,55,30,55,40,55,35,35,30,30,20,10,10,25,10,30,30,40,55,50,15,5,50,30,45,45,50,45,30,45,5,30,15,25,30,30,50,55,50,20,30,10,30,50,45,0,0,35,25,35,55,15,15,5,5,20,35,30,45,50,25,50,35,20,45,10,0,0,20,0,40,30,30,50,20,45,55,30,20,0,45,20,55,45,40,35,10,20,30,55,30,25,55,55,5,45,50,15,20,45,15,55,15,30,30,35,0,10,35,35,40,45,50,30,25,45,35,0,30,15,35,50,20,55,40,35,25,0,0,35,10,25,35,30,55,50,55,15,15,40,55,20,5,15,40,30,5,55,15,45,55,0,15,40,20,30,55,40,35,45,55,45,15,40,5,15,30,30,10,30,45,35,55,20,45,50,20,55,30,55,50,30,0,50,30,0,45,15,5,40,10,55,0,50,30,50,35,0,15,50,25,35,50,45,10,45,35,55,40,25,50,30,10,5,5,45,25,40,30,40,10,20,15,50,20,5,30,35,30,15,25,5,0,55,15,30,0,30,0,0,35,25,0,35,20,45,0,30,30,45,30,50,20,5,5,30,30,50,5,15,45,35,20,30,30,15,5,30,0,10,45,15,20,55,50,5,50,15,55,35,15,30,35,45,20,45,0,50,55,15,10,20,15,50,5,30,35,50,20,25,50,15,55,0,50,50,5,20,20,30,20,50,35,35,25,35,55,40,35,15,25,0,30,30,50,25,25,20,25,25,15,55,45,15,35,0,35,55,30,35,25,20,25,10,15,25,0,0,25,25,50,45,20,15,0,40,30,35,15,25,0,55,5,20,35,55,10,30,20,15,5,30,45,15,0,15,0,40,30,45,35,45,15,30,30,15,35,5,0,50,0,50,20,0,50,30,10,55,15,15,20,15,30,30,35,20,20,30,45,15,15,20,0,50,50,0,15,50,40,55,40,30,30,40,20,35,30,50,35,5,30,0,45,20,15,15,25,30,0,25,0,30,20,5,30,25,15,50,30,0,20,30,55,55,40,5,0,50,55,15,40,10,10,55,0,50,35,50,20,40,45,10,5,40,25,45,35,0,40,0,55,5,30,50,40,10,5,0,55,50,0,55,45,15,25,0,0,30,20,5,30,15,50,35,0,5,0,0,30,30,0,40,20,40,30,45,15,25,20,30,25,50,0,55,50,55,25,40,0,15,55,55,15,15,5,45,50,35,20,25,0,35,10,50,35,50,20,15,25,15,45,5,30,35,30,20,50,25,15,30,30,55,20,45,45,30,20,5,20,25,30,50,50,0,15,20,45,20,50,30,5,35,40,20,35,35,50,35,35,30,5,50,30,5,20,50,20,5,0,15,40,10,50,25,25,35,30,50,35,0,20,0,0,5,35,20,30,55,30,35,50,20,5,55,50,30,55,25,55,55,5,30,40,15,0,50,25,30,5,30,20,55,0,10,35,20,20,50,30,55,0,35,25,40,5,20,30,45,35,15,40,15,5,50,0,5,40,30,5,5,25,0,5,35,15,30,35,25,55,0,20,5,45,50,0,45,55,20,15,25,30,30,30,30,50,0,50,55,5,20,15,0,30,45,10,5,40,5,10,45,30,10,30,55,55,55,5,20,0,40,35,40,50,50,10,40,15,25,30,0,35,55,30,30,40,35,45,10,20,15,15,45,0,40,35,20,5,0,35,55,0,0,50,0,25,50,30,10,45,35,15,20,30,50,40,35,0,50,5,50,25,40,0,0,35,30,55,15,50,40,55,25,20,5,55,25,30,40,45,55,30,55,25,10,10,30,50,15,55,45,0,30,20,25,55,30,40,35,15,30,0,0,45,45,0,35,0,45,15,55,45,55,5,5,0,10,30,45,30,40,50,30,50,15,25,40,15,15,50,10,50,20,45,30,40,35,0,10,45,15,30,35,35,10,50,5,20,45,10,40,15,0,45,10,30,35,15,50,45,40,50,30,20,45,30,0,50,0,40,25,45,45,55,10,50,30,30,25,55,15,30,25,30,45,30,55,5,55,35,20,55,50,45,50,35,20,55,20,0,25,15,30,45,50,50,35,50,55,50,25,15,35,30,20,20,45,50,20,45,0,30,35,15,30,35,5,0,30,25,55,0,15,35,0,40,30,10,15,50,45,5,55,25,30,25,45,40,25,50,30,40,50,30,30,45,35,30,35,45,5,55,50,45,55,15,25,35,30,40,55,0,20,35,55,50,15,45,50,50,35,25,45,25,10,35,15,5,55,5,40,15,30,35,55,35,50,45,5,25,45,5,35,0,35,35,50,45,45,30,45,20,30,55,20,25,15,0,10,5,25,45,10,30,55,55,25,30,0,5,45,55,55,20,25,40,55,30,15,5,30,35,50,20,30,45,30,30,45,25,5,30,0,20,55,10,20,50,30,50,50,55,15,55,30,30,15,30,20,0,20,25,30,45,50,5,45,30,30,0,50,35,30,30,55,30,25,25,25,0,55,5,40,25,50,0,30,25,40,0,50,40,50,35,0,20,35,25,45,45,45,0,15,20,25,35,0,40,35,40,15,55,40,45,20,45,50,15,15,45,5,40,15,50,55,10,35,35,45,55,30,5,20,0,25,40,30,45,0,50,50,20,20,35,15,30,35,0,45,55,50,45,45,50,25,55,30,5,35,30,30,5,45,15,15,30,55,30,15,5,25,50,35,0,50,45,35,25,10,35,45,25,30,50,55,5,35,35,55,50,15,55,0,20,55,25,35,20,25,25,20,5,0,0,25,10,55,0,45,50,0,40,0,45,5,25,55,35,45,30,30,30,55,55,50,35,0,40,0,40,20,50,45,25,25,40,35,0,30,40,45,0,0,10,30,15,55,50,55,55,50,15,45,15,30,0,30,0,55,0,25,30,5,10,40,55,55,5,45,55,10,55,0,40,15,30,35,50,40,0,45,20,30,5,35,10,0,20,55,10,25,0,55,20,5,25,15,10,55,35,0,45,0,0,30,5,30,20,30,30,35,15,30,35,0,20,55,55,35,30,40,50,30,15,35,55,50,45,30,20,55,50,20,0,35,0,50,50,5,50,45,55,30,30,25,35,20,50,30,30,10,20,5,45,0,20,25,10,15,15,50,35,15,50,45,45,30,20,50,50,0,10,20,35,15,0,50,55,30,0,15,35,40,50,20,30,55,30,20,40,0,35,55,30,25,15,10,45,0,5,55,30,5,45,15,40,50,40,40,15,25,15,0,10,40,20,45,50,25,5,0,35,15,30,5,30,30,0,30,35,0,35,30,35,55,45,15,50,0,20,40,50,30,15,30,10,35,10,30,5,15,45,35,20,35,10,55,20,35,0,55,0,55,25,0,5,0,30,10,30,30,20,20,35,30,5,55,25,50,0,55,20,25,55,5,35,50,45,5,0,5,15,50,35,0,45,10,15,20,20,45,5,35,30,40,15,40,45,45,55,15,20,50,55,20,10,20,5,50,25,25,5,30,35,25,30,40,0,20,45,30,50,30,50,0,15,0,20,50,45,25,35,20,25,10,30,30,20,40,5,15,25,30,30,50,55,15,55,40,30,0,45,5,35,30,5,15,35,45,20,35,20,30,35,50,0,50,40,50,0,50,0,5,55,50,50,40,50,55,20,5,25,50,35,0,15,15,30,55,50,5,15,50,20,30,30,20,20,25,25,25,20,15,20,15,35,40,55,25,45,25,45,0,30,30,20,25,45,20,5,45,15,50,45,30,35,55,30,20,10,20,15,35,10,15,5,20,30,45,50,45,10,40,50,10,15,40,45,5,5,15,50,10,0,30,35,15,20,50,55,30,55,10,45,25,50,45,15,30,50,40,10,50,45,20,45,35,35,35,20,30,25,45,25,20,55,40,20,25,15,5,40,50,45,40,55,0,25,50,40,20,15,10,25,30,10,0,55,0,20,50,40,35,10,50,20,50,45,0,20,55,55,55,45,5,50,0,50,40,20,30,30,30,40,20,20,25,25,50,0,45,10,15,0,30,0,40,35,15,50,0,15,35,35,0,20,35,15,55,15,25,15,5,35,55,40,35,55,30,30,55,45,50,35,25,30,50,45,5,30,25,5,30,15,45,30,30,35,55,5,40,15,5,0,35,55,40,0,20,40,55,5,30,20,40,55,55,30,30,35,55,35,30,55,15,30,0,20,30,15,55,50,50,30,15,35,50,40,25,15,10,20,15,35,25,15,55,20,50,30,30,25,25,30,55,10,15,45,30,10,45,45,25,25,45,25,30,15,15,15,5,40,30,50,0,0,15,50,20,25,30,5,10,45,20,30,10,30,25,40,35,20,40,25,30,50,50,0,20,55,50,15,45,50,35,45,45,20,45,55,20,30,0,10,5,50,20,25,35,0,55,50,50,35,20,0,10,15,15,30,50,30,25,0,15,25,0,30,55,30,55,15,30,25,25,50,20,0,40,25,50,0,20,40,40,35,30,30,50,35,40,30,15,45,15,40,45,25,0,0,15,55,30,30,15,55,50,15,0,55,25,55,5,25,50,55,10,15,25,5,50,40,30,50,55,5,45,20,10,35,30,10,0,15,10,40,50,20,50,30,15,35,35,0,45,30,30,55,25,25,50,45,35,0,55,35,15,50,20,0,15,40,35,20,20,0,50,0,45,50,20,30,35,50,10,40,10,25,55,30,30,50,30,35,30,50,45,30,20,35,0,30,35,0,0,0,35,15,30,50,10,55,50,30,10,30,35,50,50,30,0,20,30,50,50,55,0,5,0,30,35,45,5,10,30,45,45,50,30,55,10,45,35,25,55,55,0,55,45,35,10,20,55,15,30,50,0,40,45,45,20,55,10,0,55,20,20,40,0,30,0,25,40,45,15,25,55,0,55,45,55,50,30,0,50,15,20,0,25,40,35,30,30,30,20,35,5,15,30,30,20,45,25,0,0,20,55,25,35,5,5,20,55,10,25,15,50,20,20,0,0,30,55,0,55,5,55,15,50,10,20,55,25,30,55,5,15,5,25,25,35,10,10,30,45,40,10,35,25,15,40,0,30,20,25,0,5,55,50,20,0,5,25,15,45,25,0,35,55,35,50,30,15,55,55,10,5,25,15,30,20,55,0,0,55,0,15,20,55,10,45,0,15,15,45,15,55,30,20,20,15,30,0,50,20,50,50,20,5,0,20,40,35,35,25,35,40,5,50,5,15,10,35,0,5,5,30,30,30,15,20,0,40,10,45,20,0,35,50,50,15,50,30,0,30,15,25,15,25,0,45,15,40,50,0,30,35,35,15,25,30,40,20,0,40,25,0,0,35,15,55,0,30,35,15,55,15,30,0,50,30,55,25,20,0,30,20,25,30,20,15,15,55,25,15,15,20,55,15,30,50,0,30,45,25,50,5,45,50,55,35,50,30,20,0,15,20,45,45,45,20,20,40,55,50,15,55,30,10,55,20,10,5,0,15,35,25,15,45,55,35,55,40,30,30,25,20,5,30,0,30,35,25,15,15,55,50,0,30,45,45,0,5,0,30,50,50,20,40,25,55,30,10,20,40,45,30,55,45,5,20,0,5,55,25,35,20,25,30,35,40,25,0,20,45,30,20,0,10,55,30,15,30,20,15,0,30,55,45,55,25,0,55,15,25,20,30,20,25,10,55,10,45,50,30,20,45,0,25,15,5,40,40,40,30,45,30,50,30,35,5,20,0,0,10,50,45,30,5,40,20,45,25,30,30,40,30,15,30,55,55,30,35,50,45,50,25,20,50,50,0,40,45,50,55,25,50,0,0,30,25,50,45,5,30,55,20,30,20,20,45,15,30,20,35,0,20,30,50,0,50,15,0,30,50,50,40,45,40,25,20,30,0,5,55,45,0,35,55,20,30,15,35,30,30,20,20,30,25,25,20,55,5,30,30,45,5,30,5,45,35,0,15,0,5,5,15,0,50,10,40,25,15,45,20,10,35,40,15,20,5,40,45,20,25,45,0,50,10,20,40,30,55,45,55,30,25,10,35,35,25,30,50,45,40,0,30,5,0,50,0,15,50,50,0,0,30,45,30,10,15,35,30,50,45,45,45,50,35,5,45,5,25,15,55,45,5,55,30,55,30,35,40,30,20,20,25,50,40,20,55,40,20,30,0,45,30,15,0,45,50,50,5,45,20,30,20,0,20,0,30,25,20,50,30,15,45,45,20,50,25,35,15,25,35,15,25,50,20,5,40,20,55,40,40,30,55,5,20,20,25,35,40,55,30,0,20,50,0,25,30,0,0,55,0,25,30,0,5,20,20,25,5,45,30,5,30,55,20,40,30,30,0,20,50,30,55,55,15,20,25,40,45,40,0,0,50,5,10,55,30,30,55,25,50,5,5,30,50,25,0,15,55,45,0,10,25,25,10,10,55,15,0,20,35,35,30,20,30,10,45,5,15,20,20,20,25,30,55,35,55,30,30,30,20,5,0,0,25,55,5,45,20,40,20,40,20,55,40,20,45,55,5,0,55,15,35,35,0,30,20,30,15,20,30,20,15,25,20,55,20,30,30,50,25,35,15,30,35,20,25,30,55,20,50,10,0,5,45,55,25,40,45,25,20,15,30,25,20,35,35,20,15,55,35,55,0,30,30,30,30,30,5,0,15,30,20,10,50,5,30,40,40,45,35,35,20,35,30,25,25,30,5,50,20,35,50,5,30,50,55,0,35,50,15,15,10,45,20,55,30,30,0,45,50,20,10,10,0,5,35,50,10,35,20,55,50,40,30,40,45,45,35,55,30,35,35,0,15,30,40,25,50,45,30,50,5,45,50,35,30,5,5,30,0,55,45,45,0,15,0,30,45,25,45,55,45,20,30,30,45,40,55,40,15,15,50,25,0,15,30,55,0,30,10,30,40,35,25,45,50,20,50,30,5,15,20,10,15,0,50,50,25,20,15,40,15,35,45,15,55,40,5,25,25,50,35,20,55,30,50,15,40,15,50,15,0,40,25,0,10,0,10,25,30,30,15,30,15,45,45,0,45,55,35,0,40,50,10,45,55,55,55,30,55,5,45,55,0,45,55,20,30,35,15,25,15,50,40,20,30,50,30,20,25,40,25,55,55,25,30,40,50,15,30,20,15,5,0,30,5,25,35,5,0,45,40,5,20,25,50,40,0,30,30,40,30,30,30,25,45,35,45,45,20,30,30,0,45,40,30,30,35,5,50,25,0,0,5,55,35,35,20,25,30,20,30,10,20,15,25,0,50,25,0,55,35,15,0,30,5,0,10,30,0,15,0,30,50,45,35,0,45,50,30,50,50,0,35,50,50,30,35,10,50,20,10,40,30,35,5,35,55,25,5,40,30,35,25,30,50,35,15,25,20,30,0,0,15,15,35,20,45,40,45,30,20,15,40,50,25,20,30,50,15,45,35,35,10,40,45,20,35,35,25,35,55,15,20,20,15,0,45,15,15,50,20,20,45,25,35,20,10,25,45,25,0,55,35,50,30,15,30,10,25,25,50,10,25,15,5,35,55,15,20,40,45,50,30,15,50,30,55,5,20,20,0,40,50,10,0,20,20,20,0,35,45,50,45,35,0,25,20,50,20,30,35,55,50,55,20,25,30,30,20,0,10,45,50,40,35,50,10,30,10,50,30,55,15,40,0,0,35,50,40,35,30,20,15,5,30,30,45,15,30,5,45,50,50,30,45,30,40,35,55,5,55,30,20,0,45,45,40,55,20,0,20,55,45,20,5,45,45,20,45,45,0,35,10,35,0,40,0,40,50,10,20,45,50,35,5,30,40,5,0,35,50,45,30,5,20,50,30,40,55,20,40,15,30,15,35,15,25,5,50,40,40,0,15,30,20,0,50,55,10,40,50,45,40,30,20,0,5,15,30,0,10,0,55,25,0,5,50,5,45,20,35,50,50,35,5,40,20,35,35,25,10,55,30,10,25,45,5,45,25,0,20,45,30,45,0,20,15,15,30,30,50,30,10,0,35,25,10,30,40,40,40,15,15,30,40,20,50,55,0,15,30,0,35,10,25,55,50,15,10,45,25,20,30,30,45,25,30,15,30,15,5,55,20,30,55,0,10,0,30,5,0,55,20,50,45,35,45,0,40,30,30,55,30,0,50,15,20,40,55,40,50,45,15,0,40,0,25,0,0,5,0,10,0,35,0,20,30,40,45,45,50,40,0,5,20,25,45,0,30,50,35,55,5,30,35,35,45,0,35,20,50,20,25,20,50,50,55,0,35,20,20,20,40,25,50,45,35,15,40,55,30,20,20,40,45,20,25,20,55,0,20,25,5,25,30,50,10,20,45,0,25,10,40,20,0,50,25,40,10,30,5,5,30,10,40,55,0,30,25,35,50,30,40,50,35,30,15,35,30,30,30,35,15,15,15,50,50,0,55,55,35,35,15,10,0,40,45,0,20,50,30,10,20,30,30,0,0,30,45,20,30,55,5,30,30,30,5,35,55,20,0,40,25,50,40,45,50,35,25,0,40,30,30,30,35,50,20,45,25,40,40,20,0,35,30,15,45,10,30,25,0,15,10,0,15,15,30,35,0,0,50,40,0,30,50,50,40,45,30,30,0,30,30,10,50,5,10,30,40,30,55,55,15,35,45,40,35,5,35,0,15,30,5,0,5,35,10,55,30,30,30,35,30,10,20,55,45,30,20,45,0,20,0,20,10,45,25,20,45,20,30,0,35,30,0,45,30,45,10,55,40,25,20,50,0,35,25,35,35,30,15,5,0,30,25,15,25,45,10,40,0,10,15,55,0,40,40,35,35,5,15,15,35,15,35,40,5,30,5,20,25,15,55,5,30,10,45,35,0,25,45,0,55,50,0,35,35,30,30,0,0,20,40,45,25,50,40,25,25,5,40,0,50,25,0,30,10,55,50,25,0,35,10,10,30,25,35,0,45,15,15,30,35,0,40,35,45,10,45,40,30,25,30,15,30,15,45,30,40,0,30,25,15,55,20,20,40,45,55,35,5,5,5,25,50,20,25,20,45,5,50,25,15,55,20,15,0,15,55,0,15,0,0,30,0,30,0,55,0,40,35,0,45,0,0,25,20,50,45,20,50,50,15,45,50,30,50,50,25,40,55,10,25,35,55,45,55,30,40,10,40,15,25,0,55,5,0,10,50,35,55,40,45,10,50,25,20,0,10,40,35,45,45,25,50,35,20,45,35,15,0,25,35,30,20,25,30,30,30,50,20,15,30,5,15,15,50,25,30,55,50,40,45,25,30,20,5,25,30,10,50,25,0,0,30,35,10,30,55,40,35,5,15,15,45,0,55,25,25,45,20,55,50,20,5,30,25,50,0,50,25,50,20,30,35,20,5,55,10,15,10,35,10,30,35,5,50,5,55,20,20,0,25,45,30,50,25,10,40,10,15,35,10,25,10,50,35,25,40,5,15,50,50,0,30,50,0,35,0,15,0,0,15,0,35,30,40,20,0,10,30,0,10,5,0,55,15,55,40,30,0,10,30,0,0,45,50,50,5,25,55,15,35,20,30,0,50,45,40,0,30,15,55,25,0,5,55,20,0,0,20,15,45,25,15,55,50,20,0,45,25,55,0,30,15,30,55,45,30,5,50,35,0,50,20,50,20,30,20,30,20,15,40,30,25,20,55,40,0,15,30,30,40,55,50,55,50,35,30,40,45,30,45,55,50,15,50,20,25,25,20,40,15,15,40,55,25,0,40,0,5,20,50,0,0,35,0,35,5,35,30,5,15,40,45,45,50,35,15,30,30,20,20,25,45,55,30,0,20,40,15,35,45,45,20,30,40,35,20,10,40,0,5,55,20,35,20,0,35,10,30,35,45,10,45,5,20,0,30,0,25,55,30,45,25,35,15,55,0,10,55,30,45,50,20,35,20,50,30,50,35,20,35,10,0,30,5,15,10,25,50,0,25,5,0,20,20,10,45,0,0,30,35,45,15,10,10,35,50,30,35,0,55,0,45,5,0,5,20,30,10,5,15,50,5,30,25,30,20,35,35,40,5,5,30,30,5,55,20,15,35,20,0,45,20,55,30,20,55,35,0,50,0,25,0,20,25,25,5,30,10,55,45,55,5,15,20,5,0,50,50,10,50,0,45,30,0,35,50,55,15,15,30,15,35,5,50,55,15,30,30,0,45,45,40,25,15,50,25,0,30,40,45,25,35,10,15,10,35,25,35,20,30,30,15,0,30,5,25,15,50,0,35,35,55,45,50,45,20,30,15,0,20,30,25,20,50,35,20,20,55,50,5,30,30,10,25,35,30,50,30,10,15,30,20,25,45,20,0,55,20,25,5,35,50,30,10,45,45,50,5,25,30,45,45,30,0,50,15,55,0,10,45,35,20,20,35,0,30,25,45,55,15,40,20,5,35,50,25,0,30,50,25,20,45,50,55,30,20,25,15,15,15,45,30,25,45,50,50,30,55,20,15,55,45,35,0,35,50,30,20,20,40,40,20,15,5,15,30,15,30,45,25,20,40,45,30,5,55,30,35,50,5,0,50,45,10,0,15,10,35,25,15,35,55,50,20,30,55,55,15,35,5,5,35,35,30,25,5,40,55,20,30,50,50,0,30,50,35,20,15,40,50,35,50,20,30,55,15,35,20,25,30,50,5,45,40,20,35,55,5,55,50,35,40,20,5,30,25,0,30,45,55,50,40,5,55,50,15,20,40,55,15,15,55,40,0,35,45,0,40,20,45,45,55,15,25,5,0,5,45,45,30,30,30,15,20,35,25,45,35,15,50,50,0,0,55,45,15,15,20,35,55,5,55,50,35,50,30,35,0,50,45,15,25,30,25,45,20,0,10,10,40,50,10,20,45,0,5,30,30,30,5,25,5,0,25,30,20,0,25,10,0,30,40,0,30,50,45,40,5,5,55,50,50,35,0,55,20,20,15,20,25,45,55,10,35,50,10,55,20,0,30,5,15,25,45,40,30,40,50,20,35,15,45,0,45,55,35,25,25,25,45,55,50,55,30,15,20,40,25,10,15,30,0,45,35,30,40,50,10,10,5,30,15,55,20,0,35,45,55,15,5,0,0,10,35,15,30,20,30,25,10,25,5,35,25,55,0,20,10,30,35,0,30,25,15,30,30,10,35,30,45,15,15,30,25,0,20,15,5,50,30,15,30,55,30,0,50,30,15,25,50,0,55,20,35,45,40,20,40,0,55,35,0,45,55,25,20,25,30,20,0,15,50,35,45,40,30,20,35,50,0,35,20,30,0,20,25,0,55,5,10,40,50,30,30,50,35,25,20,35,25,45,0,50,30,45,0,55,25,5,5,15,35,35,5,30,25,35,55,20,45,55,50,45,20,15,25,55,0,45,15,55,15,35,55,45,45,0,35,50,0,45,5,35,55,20,25,35,5,5,50,20,30,0,30,10,35,0,30,55,30,55,5,50,15,15,20,55,35,0,20,55,20,25,55,5,40,25,40,35,55,5,15,40,45,45,20,30,45,25,25,45,50,25,50,55,15,30,20,55,10,50,45,25,50,40,10,45,10,15,45,25,20,15,25,50,25,10,0,40,25,15,20,0,5,50,45,10,35,30,45,30,0,30,30,30,15,55,40,0,20,20,45,45,50,55,35,5,35,20,35,20,0,45,20,15,0,0,25,35,40,25,15,30,15,10,45,30,25,40,45,35,45,45,30,35,30,30,50,35,25,30,40,50,55,30,15,15,55,55,5,50,15,20,45,20,20,55,0,40,35,25,20,30,55,15,15,25,15,40,15,45,15,55,20,35,55,45,0,5,30,30,30,35,55,45,40,10,40,40,25,50,55,25,25,10,30,20,25,20,5,15,55,55,30,35,45,35,35,10,55,20,20,55,15,30,5,45,45,55,15,55,45,30,5,0,0,35,20,50,30,25,25,30,15,20,40,25,40,35,55,40,25,40,20,55,50,55,15,10,5,55,30,45,25,20,15,25,20,55,0,45,20,40,40,30,35,0,40,20],\"type\":\"box\"}],                        {\"template\":{\"data\":{\"histogram2dcontour\":[{\"type\":\"histogram2dcontour\",\"colorbar\":{\"outlinewidth\":0,\"ticks\":\"\"},\"colorscale\":[[0.0,\"#0d0887\"],[0.1111111111111111,\"#46039f\"],[0.2222222222222222,\"#7201a8\"],[0.3333333333333333,\"#9c179e\"],[0.4444444444444444,\"#bd3786\"],[0.5555555555555556,\"#d8576b\"],[0.6666666666666666,\"#ed7953\"],[0.7777777777777778,\"#fb9f3a\"],[0.8888888888888888,\"#fdca26\"],[1.0,\"#f0f921\"]]}],\"choropleth\":[{\"type\":\"choropleth\",\"colorbar\":{\"outlinewidth\":0,\"ticks\":\"\"}}],\"histogram2d\":[{\"type\":\"histogram2d\",\"colorbar\":{\"outlinewidth\":0,\"ticks\":\"\"},\"colorscale\":[[0.0,\"#0d0887\"],[0.1111111111111111,\"#46039f\"],[0.2222222222222222,\"#7201a8\"],[0.3333333333333333,\"#9c179e\"],[0.4444444444444444,\"#bd3786\"],[0.5555555555555556,\"#d8576b\"],[0.6666666666666666,\"#ed7953\"],[0.7777777777777778,\"#fb9f3a\"],[0.8888888888888888,\"#fdca26\"],[1.0,\"#f0f921\"]]}],\"heatmap\":[{\"type\":\"heatmap\",\"colorbar\":{\"outlinewidth\":0,\"ticks\":\"\"},\"colorscale\":[[0.0,\"#0d0887\"],[0.1111111111111111,\"#46039f\"],[0.2222222222222222,\"#7201a8\"],[0.3333333333333333,\"#9c179e\"],[0.4444444444444444,\"#bd3786\"],[0.5555555555555556,\"#d8576b\"],[0.6666666666666666,\"#ed7953\"],[0.7777777777777778,\"#fb9f3a\"],[0.8888888888888888,\"#fdca26\"],[1.0,\"#f0f921\"]]}],\"heatmapgl\":[{\"type\":\"heatmapgl\",\"colorbar\":{\"outlinewidth\":0,\"ticks\":\"\"},\"colorscale\":[[0.0,\"#0d0887\"],[0.1111111111111111,\"#46039f\"],[0.2222222222222222,\"#7201a8\"],[0.3333333333333333,\"#9c179e\"],[0.4444444444444444,\"#bd3786\"],[0.5555555555555556,\"#d8576b\"],[0.6666666666666666,\"#ed7953\"],[0.7777777777777778,\"#fb9f3a\"],[0.8888888888888888,\"#fdca26\"],[1.0,\"#f0f921\"]]}],\"contourcarpet\":[{\"type\":\"contourcarpet\",\"colorbar\":{\"outlinewidth\":0,\"ticks\":\"\"}}],\"contour\":[{\"type\":\"contour\",\"colorbar\":{\"outlinewidth\":0,\"ticks\":\"\"},\"colorscale\":[[0.0,\"#0d0887\"],[0.1111111111111111,\"#46039f\"],[0.2222222222222222,\"#7201a8\"],[0.3333333333333333,\"#9c179e\"],[0.4444444444444444,\"#bd3786\"],[0.5555555555555556,\"#d8576b\"],[0.6666666666666666,\"#ed7953\"],[0.7777777777777778,\"#fb9f3a\"],[0.8888888888888888,\"#fdca26\"],[1.0,\"#f0f921\"]]}],\"surface\":[{\"type\":\"surface\",\"colorbar\":{\"outlinewidth\":0,\"ticks\":\"\"},\"colorscale\":[[0.0,\"#0d0887\"],[0.1111111111111111,\"#46039f\"],[0.2222222222222222,\"#7201a8\"],[0.3333333333333333,\"#9c179e\"],[0.4444444444444444,\"#bd3786\"],[0.5555555555555556,\"#d8576b\"],[0.6666666666666666,\"#ed7953\"],[0.7777777777777778,\"#fb9f3a\"],[0.8888888888888888,\"#fdca26\"],[1.0,\"#f0f921\"]]}],\"mesh3d\":[{\"type\":\"mesh3d\",\"colorbar\":{\"outlinewidth\":0,\"ticks\":\"\"}}],\"scatter\":[{\"fillpattern\":{\"fillmode\":\"overlay\",\"size\":10,\"solidity\":0.2},\"type\":\"scatter\"}],\"parcoords\":[{\"type\":\"parcoords\",\"line\":{\"colorbar\":{\"outlinewidth\":0,\"ticks\":\"\"}}}],\"scatterpolargl\":[{\"type\":\"scatterpolargl\",\"marker\":{\"colorbar\":{\"outlinewidth\":0,\"ticks\":\"\"}}}],\"bar\":[{\"error_x\":{\"color\":\"#2a3f5f\"},\"error_y\":{\"color\":\"#2a3f5f\"},\"marker\":{\"line\":{\"color\":\"#E5ECF6\",\"width\":0.5},\"pattern\":{\"fillmode\":\"overlay\",\"size\":10,\"solidity\":0.2}},\"type\":\"bar\"}],\"scattergeo\":[{\"type\":\"scattergeo\",\"marker\":{\"colorbar\":{\"outlinewidth\":0,\"ticks\":\"\"}}}],\"scatterpolar\":[{\"type\":\"scatterpolar\",\"marker\":{\"colorbar\":{\"outlinewidth\":0,\"ticks\":\"\"}}}],\"histogram\":[{\"marker\":{\"pattern\":{\"fillmode\":\"overlay\",\"size\":10,\"solidity\":0.2}},\"type\":\"histogram\"}],\"scattergl\":[{\"type\":\"scattergl\",\"marker\":{\"colorbar\":{\"outlinewidth\":0,\"ticks\":\"\"}}}],\"scatter3d\":[{\"type\":\"scatter3d\",\"line\":{\"colorbar\":{\"outlinewidth\":0,\"ticks\":\"\"}},\"marker\":{\"colorbar\":{\"outlinewidth\":0,\"ticks\":\"\"}}}],\"scattermapbox\":[{\"type\":\"scattermapbox\",\"marker\":{\"colorbar\":{\"outlinewidth\":0,\"ticks\":\"\"}}}],\"scatterternary\":[{\"type\":\"scatterternary\",\"marker\":{\"colorbar\":{\"outlinewidth\":0,\"ticks\":\"\"}}}],\"scattercarpet\":[{\"type\":\"scattercarpet\",\"marker\":{\"colorbar\":{\"outlinewidth\":0,\"ticks\":\"\"}}}],\"carpet\":[{\"aaxis\":{\"endlinecolor\":\"#2a3f5f\",\"gridcolor\":\"white\",\"linecolor\":\"white\",\"minorgridcolor\":\"white\",\"startlinecolor\":\"#2a3f5f\"},\"baxis\":{\"endlinecolor\":\"#2a3f5f\",\"gridcolor\":\"white\",\"linecolor\":\"white\",\"minorgridcolor\":\"white\",\"startlinecolor\":\"#2a3f5f\"},\"type\":\"carpet\"}],\"table\":[{\"cells\":{\"fill\":{\"color\":\"#EBF0F8\"},\"line\":{\"color\":\"white\"}},\"header\":{\"fill\":{\"color\":\"#C8D4E3\"},\"line\":{\"color\":\"white\"}},\"type\":\"table\"}],\"barpolar\":[{\"marker\":{\"line\":{\"color\":\"#E5ECF6\",\"width\":0.5},\"pattern\":{\"fillmode\":\"overlay\",\"size\":10,\"solidity\":0.2}},\"type\":\"barpolar\"}],\"pie\":[{\"automargin\":true,\"type\":\"pie\"}]},\"layout\":{\"autotypenumbers\":\"strict\",\"colorway\":[\"#636efa\",\"#EF553B\",\"#00cc96\",\"#ab63fa\",\"#FFA15A\",\"#19d3f3\",\"#FF6692\",\"#B6E880\",\"#FF97FF\",\"#FECB52\"],\"font\":{\"color\":\"#2a3f5f\"},\"hovermode\":\"closest\",\"hoverlabel\":{\"align\":\"left\"},\"paper_bgcolor\":\"white\",\"plot_bgcolor\":\"#E5ECF6\",\"polar\":{\"bgcolor\":\"#E5ECF6\",\"angularaxis\":{\"gridcolor\":\"white\",\"linecolor\":\"white\",\"ticks\":\"\"},\"radialaxis\":{\"gridcolor\":\"white\",\"linecolor\":\"white\",\"ticks\":\"\"}},\"ternary\":{\"bgcolor\":\"#E5ECF6\",\"aaxis\":{\"gridcolor\":\"white\",\"linecolor\":\"white\",\"ticks\":\"\"},\"baxis\":{\"gridcolor\":\"white\",\"linecolor\":\"white\",\"ticks\":\"\"},\"caxis\":{\"gridcolor\":\"white\",\"linecolor\":\"white\",\"ticks\":\"\"}},\"coloraxis\":{\"colorbar\":{\"outlinewidth\":0,\"ticks\":\"\"}},\"colorscale\":{\"sequential\":[[0.0,\"#0d0887\"],[0.1111111111111111,\"#46039f\"],[0.2222222222222222,\"#7201a8\"],[0.3333333333333333,\"#9c179e\"],[0.4444444444444444,\"#bd3786\"],[0.5555555555555556,\"#d8576b\"],[0.6666666666666666,\"#ed7953\"],[0.7777777777777778,\"#fb9f3a\"],[0.8888888888888888,\"#fdca26\"],[1.0,\"#f0f921\"]],\"sequentialminus\":[[0.0,\"#0d0887\"],[0.1111111111111111,\"#46039f\"],[0.2222222222222222,\"#7201a8\"],[0.3333333333333333,\"#9c179e\"],[0.4444444444444444,\"#bd3786\"],[0.5555555555555556,\"#d8576b\"],[0.6666666666666666,\"#ed7953\"],[0.7777777777777778,\"#fb9f3a\"],[0.8888888888888888,\"#fdca26\"],[1.0,\"#f0f921\"]],\"diverging\":[[0,\"#8e0152\"],[0.1,\"#c51b7d\"],[0.2,\"#de77ae\"],[0.3,\"#f1b6da\"],[0.4,\"#fde0ef\"],[0.5,\"#f7f7f7\"],[0.6,\"#e6f5d0\"],[0.7,\"#b8e186\"],[0.8,\"#7fbc41\"],[0.9,\"#4d9221\"],[1,\"#276419\"]]},\"xaxis\":{\"gridcolor\":\"white\",\"linecolor\":\"white\",\"ticks\":\"\",\"title\":{\"standoff\":15},\"zerolinecolor\":\"white\",\"automargin\":true,\"zerolinewidth\":2},\"yaxis\":{\"gridcolor\":\"white\",\"linecolor\":\"white\",\"ticks\":\"\",\"title\":{\"standoff\":15},\"zerolinecolor\":\"white\",\"automargin\":true,\"zerolinewidth\":2},\"scene\":{\"xaxis\":{\"backgroundcolor\":\"#E5ECF6\",\"gridcolor\":\"white\",\"linecolor\":\"white\",\"showbackground\":true,\"ticks\":\"\",\"zerolinecolor\":\"white\",\"gridwidth\":2},\"yaxis\":{\"backgroundcolor\":\"#E5ECF6\",\"gridcolor\":\"white\",\"linecolor\":\"white\",\"showbackground\":true,\"ticks\":\"\",\"zerolinecolor\":\"white\",\"gridwidth\":2},\"zaxis\":{\"backgroundcolor\":\"#E5ECF6\",\"gridcolor\":\"white\",\"linecolor\":\"white\",\"showbackground\":true,\"ticks\":\"\",\"zerolinecolor\":\"white\",\"gridwidth\":2}},\"shapedefaults\":{\"line\":{\"color\":\"#2a3f5f\"}},\"annotationdefaults\":{\"arrowcolor\":\"#2a3f5f\",\"arrowhead\":0,\"arrowwidth\":1},\"geo\":{\"bgcolor\":\"white\",\"landcolor\":\"#E5ECF6\",\"subunitcolor\":\"white\",\"showland\":true,\"showlakes\":true,\"lakecolor\":\"white\"},\"title\":{\"x\":0.05},\"mapbox\":{\"style\":\"light\"}}},\"title\":{\"text\":\"Box Plot for Duration_min\",\"font\":{\"size\":25}},\"font\":{\"color\":\"white\"},\"yaxis\":{\"title\":{\"text\":\"Values\"},\"showgrid\":true,\"gridwidth\":1,\"gridcolor\":\"white\",\"griddash\":\"dash\"},\"plot_bgcolor\":\"black\",\"paper_bgcolor\":\"black\",\"xaxis\":{\"showgrid\":true,\"gridwidth\":1,\"gridcolor\":\"white\",\"griddash\":\"dash\"}},                        {\"responsive\": true}                    ).then(function(){\n",
       "                            \n",
       "var gd = document.getElementById('22cd4212-eb07-4b5c-89e2-c592c9c75978');\n",
       "var x = new MutationObserver(function (mutations, observer) {{\n",
       "        var display = window.getComputedStyle(gd).display;\n",
       "        if (!display || display === 'none') {{\n",
       "            console.log([gd, 'removed!']);\n",
       "            Plotly.purge(gd);\n",
       "            observer.disconnect();\n",
       "        }}\n",
       "}});\n",
       "\n",
       "// Listen for the removal of the full notebook cells\n",
       "var notebookContainer = gd.closest('#notebook-container');\n",
       "if (notebookContainer) {{\n",
       "    x.observe(notebookContainer, {childList: true});\n",
       "}}\n",
       "\n",
       "// Listen for the clearing of the current output cell\n",
       "var outputEl = gd.closest('.output');\n",
       "if (outputEl) {{\n",
       "    x.observe(outputEl, {childList: true});\n",
       "}}\n",
       "\n",
       "                        })                };                });            </script>        </div>"
      ]
     },
     "metadata": {},
     "output_type": "display_data"
    }
   ],
   "source": [
    "fig = go.Figure()\n",
    "\n",
    "col_name_num = [element for element in col_name_num if element not in time_series]\n",
    "\n",
    "\n",
    "for col in col_name_num:\n",
    "    fig = go.Figure()\n",
    "    fig.add_trace(go.Box(y=df[col], name=col))\n",
    "\n",
    "    fig.update_layout(\n",
    "        title=f\"Box Plot for {col}\",\n",
    "        yaxis_title=\"Values\",\n",
    "        title_font_size=25,\n",
    "        plot_bgcolor='black',\n",
    "        paper_bgcolor='black',\n",
    "        font=dict(color='white')\n",
    "    )\n",
    "\n",
    "    fig.update_xaxes(showgrid=True, gridwidth=1, gridcolor='white', griddash='dash')\n",
    "    fig.update_yaxes(showgrid=True, gridwidth=1, gridcolor='white', griddash='dash')\n",
    "\n",
    "    fig.show()"
   ]
  },
  {
   "cell_type": "markdown",
   "id": "7b7df172",
   "metadata": {
    "papermill": {
     "duration": 0.012987,
     "end_time": "2024-06-26T04:52:49.876425",
     "exception": false,
     "start_time": "2024-06-26T04:52:49.863438",
     "status": "completed"
    },
    "tags": []
   },
   "source": [
    "# Column Analysis (time series)"
   ]
  },
  {
   "cell_type": "code",
   "execution_count": 9,
   "id": "81e0140f",
   "metadata": {
    "execution": {
     "iopub.execute_input": "2024-06-26T04:52:49.903685Z",
     "iopub.status.busy": "2024-06-26T04:52:49.903347Z",
     "iopub.status.idle": "2024-06-26T04:52:49.973197Z",
     "shell.execute_reply": "2024-06-26T04:52:49.972291Z"
    },
    "papermill": {
     "duration": 0.085885,
     "end_time": "2024-06-26T04:52:49.975120",
     "exception": false,
     "start_time": "2024-06-26T04:52:49.889235",
     "status": "completed"
    },
    "tags": []
   },
   "outputs": [
    {
     "data": {
      "text/html": [
       "<div>                            <div id=\"68ff1928-1a78-4201-8707-c29183ce4fc1\" class=\"plotly-graph-div\" style=\"height:525px; width:100%;\"></div>            <script type=\"text/javascript\">                require([\"plotly\"], function(Plotly) {                    window.PLOTLYENV=window.PLOTLYENV || {};                                    if (document.getElementById(\"68ff1928-1a78-4201-8707-c29183ce4fc1\")) {                    Plotly.newPlot(                        \"68ff1928-1a78-4201-8707-c29183ce4fc1\",                        [{\"line\":{\"color\":\"red\"},\"mode\":\"lines\",\"name\":\"Price vs Month\",\"x\":[3,4,5,6],\"y\":[29073812,6226744,31635040,30141510],\"type\":\"scatter\"}],                        {\"template\":{\"data\":{\"histogram2dcontour\":[{\"type\":\"histogram2dcontour\",\"colorbar\":{\"outlinewidth\":0,\"ticks\":\"\"},\"colorscale\":[[0.0,\"#0d0887\"],[0.1111111111111111,\"#46039f\"],[0.2222222222222222,\"#7201a8\"],[0.3333333333333333,\"#9c179e\"],[0.4444444444444444,\"#bd3786\"],[0.5555555555555556,\"#d8576b\"],[0.6666666666666666,\"#ed7953\"],[0.7777777777777778,\"#fb9f3a\"],[0.8888888888888888,\"#fdca26\"],[1.0,\"#f0f921\"]]}],\"choropleth\":[{\"type\":\"choropleth\",\"colorbar\":{\"outlinewidth\":0,\"ticks\":\"\"}}],\"histogram2d\":[{\"type\":\"histogram2d\",\"colorbar\":{\"outlinewidth\":0,\"ticks\":\"\"},\"colorscale\":[[0.0,\"#0d0887\"],[0.1111111111111111,\"#46039f\"],[0.2222222222222222,\"#7201a8\"],[0.3333333333333333,\"#9c179e\"],[0.4444444444444444,\"#bd3786\"],[0.5555555555555556,\"#d8576b\"],[0.6666666666666666,\"#ed7953\"],[0.7777777777777778,\"#fb9f3a\"],[0.8888888888888888,\"#fdca26\"],[1.0,\"#f0f921\"]]}],\"heatmap\":[{\"type\":\"heatmap\",\"colorbar\":{\"outlinewidth\":0,\"ticks\":\"\"},\"colorscale\":[[0.0,\"#0d0887\"],[0.1111111111111111,\"#46039f\"],[0.2222222222222222,\"#7201a8\"],[0.3333333333333333,\"#9c179e\"],[0.4444444444444444,\"#bd3786\"],[0.5555555555555556,\"#d8576b\"],[0.6666666666666666,\"#ed7953\"],[0.7777777777777778,\"#fb9f3a\"],[0.8888888888888888,\"#fdca26\"],[1.0,\"#f0f921\"]]}],\"heatmapgl\":[{\"type\":\"heatmapgl\",\"colorbar\":{\"outlinewidth\":0,\"ticks\":\"\"},\"colorscale\":[[0.0,\"#0d0887\"],[0.1111111111111111,\"#46039f\"],[0.2222222222222222,\"#7201a8\"],[0.3333333333333333,\"#9c179e\"],[0.4444444444444444,\"#bd3786\"],[0.5555555555555556,\"#d8576b\"],[0.6666666666666666,\"#ed7953\"],[0.7777777777777778,\"#fb9f3a\"],[0.8888888888888888,\"#fdca26\"],[1.0,\"#f0f921\"]]}],\"contourcarpet\":[{\"type\":\"contourcarpet\",\"colorbar\":{\"outlinewidth\":0,\"ticks\":\"\"}}],\"contour\":[{\"type\":\"contour\",\"colorbar\":{\"outlinewidth\":0,\"ticks\":\"\"},\"colorscale\":[[0.0,\"#0d0887\"],[0.1111111111111111,\"#46039f\"],[0.2222222222222222,\"#7201a8\"],[0.3333333333333333,\"#9c179e\"],[0.4444444444444444,\"#bd3786\"],[0.5555555555555556,\"#d8576b\"],[0.6666666666666666,\"#ed7953\"],[0.7777777777777778,\"#fb9f3a\"],[0.8888888888888888,\"#fdca26\"],[1.0,\"#f0f921\"]]}],\"surface\":[{\"type\":\"surface\",\"colorbar\":{\"outlinewidth\":0,\"ticks\":\"\"},\"colorscale\":[[0.0,\"#0d0887\"],[0.1111111111111111,\"#46039f\"],[0.2222222222222222,\"#7201a8\"],[0.3333333333333333,\"#9c179e\"],[0.4444444444444444,\"#bd3786\"],[0.5555555555555556,\"#d8576b\"],[0.6666666666666666,\"#ed7953\"],[0.7777777777777778,\"#fb9f3a\"],[0.8888888888888888,\"#fdca26\"],[1.0,\"#f0f921\"]]}],\"mesh3d\":[{\"type\":\"mesh3d\",\"colorbar\":{\"outlinewidth\":0,\"ticks\":\"\"}}],\"scatter\":[{\"fillpattern\":{\"fillmode\":\"overlay\",\"size\":10,\"solidity\":0.2},\"type\":\"scatter\"}],\"parcoords\":[{\"type\":\"parcoords\",\"line\":{\"colorbar\":{\"outlinewidth\":0,\"ticks\":\"\"}}}],\"scatterpolargl\":[{\"type\":\"scatterpolargl\",\"marker\":{\"colorbar\":{\"outlinewidth\":0,\"ticks\":\"\"}}}],\"bar\":[{\"error_x\":{\"color\":\"#2a3f5f\"},\"error_y\":{\"color\":\"#2a3f5f\"},\"marker\":{\"line\":{\"color\":\"#E5ECF6\",\"width\":0.5},\"pattern\":{\"fillmode\":\"overlay\",\"size\":10,\"solidity\":0.2}},\"type\":\"bar\"}],\"scattergeo\":[{\"type\":\"scattergeo\",\"marker\":{\"colorbar\":{\"outlinewidth\":0,\"ticks\":\"\"}}}],\"scatterpolar\":[{\"type\":\"scatterpolar\",\"marker\":{\"colorbar\":{\"outlinewidth\":0,\"ticks\":\"\"}}}],\"histogram\":[{\"marker\":{\"pattern\":{\"fillmode\":\"overlay\",\"size\":10,\"solidity\":0.2}},\"type\":\"histogram\"}],\"scattergl\":[{\"type\":\"scattergl\",\"marker\":{\"colorbar\":{\"outlinewidth\":0,\"ticks\":\"\"}}}],\"scatter3d\":[{\"type\":\"scatter3d\",\"line\":{\"colorbar\":{\"outlinewidth\":0,\"ticks\":\"\"}},\"marker\":{\"colorbar\":{\"outlinewidth\":0,\"ticks\":\"\"}}}],\"scattermapbox\":[{\"type\":\"scattermapbox\",\"marker\":{\"colorbar\":{\"outlinewidth\":0,\"ticks\":\"\"}}}],\"scatterternary\":[{\"type\":\"scatterternary\",\"marker\":{\"colorbar\":{\"outlinewidth\":0,\"ticks\":\"\"}}}],\"scattercarpet\":[{\"type\":\"scattercarpet\",\"marker\":{\"colorbar\":{\"outlinewidth\":0,\"ticks\":\"\"}}}],\"carpet\":[{\"aaxis\":{\"endlinecolor\":\"#2a3f5f\",\"gridcolor\":\"white\",\"linecolor\":\"white\",\"minorgridcolor\":\"white\",\"startlinecolor\":\"#2a3f5f\"},\"baxis\":{\"endlinecolor\":\"#2a3f5f\",\"gridcolor\":\"white\",\"linecolor\":\"white\",\"minorgridcolor\":\"white\",\"startlinecolor\":\"#2a3f5f\"},\"type\":\"carpet\"}],\"table\":[{\"cells\":{\"fill\":{\"color\":\"#EBF0F8\"},\"line\":{\"color\":\"white\"}},\"header\":{\"fill\":{\"color\":\"#C8D4E3\"},\"line\":{\"color\":\"white\"}},\"type\":\"table\"}],\"barpolar\":[{\"marker\":{\"line\":{\"color\":\"#E5ECF6\",\"width\":0.5},\"pattern\":{\"fillmode\":\"overlay\",\"size\":10,\"solidity\":0.2}},\"type\":\"barpolar\"}],\"pie\":[{\"automargin\":true,\"type\":\"pie\"}]},\"layout\":{\"autotypenumbers\":\"strict\",\"colorway\":[\"#636efa\",\"#EF553B\",\"#00cc96\",\"#ab63fa\",\"#FFA15A\",\"#19d3f3\",\"#FF6692\",\"#B6E880\",\"#FF97FF\",\"#FECB52\"],\"font\":{\"color\":\"#2a3f5f\"},\"hovermode\":\"closest\",\"hoverlabel\":{\"align\":\"left\"},\"paper_bgcolor\":\"white\",\"plot_bgcolor\":\"#E5ECF6\",\"polar\":{\"bgcolor\":\"#E5ECF6\",\"angularaxis\":{\"gridcolor\":\"white\",\"linecolor\":\"white\",\"ticks\":\"\"},\"radialaxis\":{\"gridcolor\":\"white\",\"linecolor\":\"white\",\"ticks\":\"\"}},\"ternary\":{\"bgcolor\":\"#E5ECF6\",\"aaxis\":{\"gridcolor\":\"white\",\"linecolor\":\"white\",\"ticks\":\"\"},\"baxis\":{\"gridcolor\":\"white\",\"linecolor\":\"white\",\"ticks\":\"\"},\"caxis\":{\"gridcolor\":\"white\",\"linecolor\":\"white\",\"ticks\":\"\"}},\"coloraxis\":{\"colorbar\":{\"outlinewidth\":0,\"ticks\":\"\"}},\"colorscale\":{\"sequential\":[[0.0,\"#0d0887\"],[0.1111111111111111,\"#46039f\"],[0.2222222222222222,\"#7201a8\"],[0.3333333333333333,\"#9c179e\"],[0.4444444444444444,\"#bd3786\"],[0.5555555555555556,\"#d8576b\"],[0.6666666666666666,\"#ed7953\"],[0.7777777777777778,\"#fb9f3a\"],[0.8888888888888888,\"#fdca26\"],[1.0,\"#f0f921\"]],\"sequentialminus\":[[0.0,\"#0d0887\"],[0.1111111111111111,\"#46039f\"],[0.2222222222222222,\"#7201a8\"],[0.3333333333333333,\"#9c179e\"],[0.4444444444444444,\"#bd3786\"],[0.5555555555555556,\"#d8576b\"],[0.6666666666666666,\"#ed7953\"],[0.7777777777777778,\"#fb9f3a\"],[0.8888888888888888,\"#fdca26\"],[1.0,\"#f0f921\"]],\"diverging\":[[0,\"#8e0152\"],[0.1,\"#c51b7d\"],[0.2,\"#de77ae\"],[0.3,\"#f1b6da\"],[0.4,\"#fde0ef\"],[0.5,\"#f7f7f7\"],[0.6,\"#e6f5d0\"],[0.7,\"#b8e186\"],[0.8,\"#7fbc41\"],[0.9,\"#4d9221\"],[1,\"#276419\"]]},\"xaxis\":{\"gridcolor\":\"white\",\"linecolor\":\"white\",\"ticks\":\"\",\"title\":{\"standoff\":15},\"zerolinecolor\":\"white\",\"automargin\":true,\"zerolinewidth\":2},\"yaxis\":{\"gridcolor\":\"white\",\"linecolor\":\"white\",\"ticks\":\"\",\"title\":{\"standoff\":15},\"zerolinecolor\":\"white\",\"automargin\":true,\"zerolinewidth\":2},\"scene\":{\"xaxis\":{\"backgroundcolor\":\"#E5ECF6\",\"gridcolor\":\"white\",\"linecolor\":\"white\",\"showbackground\":true,\"ticks\":\"\",\"zerolinecolor\":\"white\",\"gridwidth\":2},\"yaxis\":{\"backgroundcolor\":\"#E5ECF6\",\"gridcolor\":\"white\",\"linecolor\":\"white\",\"showbackground\":true,\"ticks\":\"\",\"zerolinecolor\":\"white\",\"gridwidth\":2},\"zaxis\":{\"backgroundcolor\":\"#E5ECF6\",\"gridcolor\":\"white\",\"linecolor\":\"white\",\"showbackground\":true,\"ticks\":\"\",\"zerolinecolor\":\"white\",\"gridwidth\":2}},\"shapedefaults\":{\"line\":{\"color\":\"#2a3f5f\"}},\"annotationdefaults\":{\"arrowcolor\":\"#2a3f5f\",\"arrowhead\":0,\"arrowwidth\":1},\"geo\":{\"bgcolor\":\"white\",\"landcolor\":\"#E5ECF6\",\"subunitcolor\":\"white\",\"showland\":true,\"showlakes\":true,\"lakecolor\":\"white\"},\"title\":{\"x\":0.05},\"mapbox\":{\"style\":\"light\"}}},\"title\":{\"text\":\"Time Series Plot for Price vs Month\",\"font\":{\"size\":25}},\"font\":{\"color\":\"white\"},\"xaxis\":{\"title\":{\"text\":\"Month\"},\"showgrid\":true,\"gridwidth\":1,\"gridcolor\":\"white\",\"griddash\":\"dash\"},\"yaxis\":{\"title\":{\"text\":\"Total Price\"},\"showgrid\":true,\"gridwidth\":1,\"gridcolor\":\"white\",\"griddash\":\"dash\"},\"plot_bgcolor\":\"black\",\"paper_bgcolor\":\"black\"},                        {\"responsive\": true}                    ).then(function(){\n",
       "                            \n",
       "var gd = document.getElementById('68ff1928-1a78-4201-8707-c29183ce4fc1');\n",
       "var x = new MutationObserver(function (mutations, observer) {{\n",
       "        var display = window.getComputedStyle(gd).display;\n",
       "        if (!display || display === 'none') {{\n",
       "            console.log([gd, 'removed!']);\n",
       "            Plotly.purge(gd);\n",
       "            observer.disconnect();\n",
       "        }}\n",
       "}});\n",
       "\n",
       "// Listen for the removal of the full notebook cells\n",
       "var notebookContainer = gd.closest('#notebook-container');\n",
       "if (notebookContainer) {{\n",
       "    x.observe(notebookContainer, {childList: true});\n",
       "}}\n",
       "\n",
       "// Listen for the clearing of the current output cell\n",
       "var outputEl = gd.closest('.output');\n",
       "if (outputEl) {{\n",
       "    x.observe(outputEl, {childList: true});\n",
       "}}\n",
       "\n",
       "                        })                };                });            </script>        </div>"
      ]
     },
     "metadata": {},
     "output_type": "display_data"
    },
    {
     "data": {
      "text/html": [
       "<div>                            <div id=\"fc1c4fa8-c485-4672-9197-fb98d076fae3\" class=\"plotly-graph-div\" style=\"height:525px; width:100%;\"></div>            <script type=\"text/javascript\">                require([\"plotly\"], function(Plotly) {                    window.PLOTLYENV=window.PLOTLYENV || {};                                    if (document.getElementById(\"fc1c4fa8-c485-4672-9197-fb98d076fae3\")) {                    Plotly.newPlot(                        \"fc1c4fa8-c485-4672-9197-fb98d076fae3\",                        [{\"line\":{\"color\":\"red\"},\"mode\":\"lines\",\"name\":\"Price vs Date\",\"x\":[1,3,6,9,12,15,18,21,24,27],\"y\":[11279591,7666802,13384125,13429373,8719011,7997766,7214749,9278806,8836218,9270665],\"type\":\"scatter\"}],                        {\"template\":{\"data\":{\"histogram2dcontour\":[{\"type\":\"histogram2dcontour\",\"colorbar\":{\"outlinewidth\":0,\"ticks\":\"\"},\"colorscale\":[[0.0,\"#0d0887\"],[0.1111111111111111,\"#46039f\"],[0.2222222222222222,\"#7201a8\"],[0.3333333333333333,\"#9c179e\"],[0.4444444444444444,\"#bd3786\"],[0.5555555555555556,\"#d8576b\"],[0.6666666666666666,\"#ed7953\"],[0.7777777777777778,\"#fb9f3a\"],[0.8888888888888888,\"#fdca26\"],[1.0,\"#f0f921\"]]}],\"choropleth\":[{\"type\":\"choropleth\",\"colorbar\":{\"outlinewidth\":0,\"ticks\":\"\"}}],\"histogram2d\":[{\"type\":\"histogram2d\",\"colorbar\":{\"outlinewidth\":0,\"ticks\":\"\"},\"colorscale\":[[0.0,\"#0d0887\"],[0.1111111111111111,\"#46039f\"],[0.2222222222222222,\"#7201a8\"],[0.3333333333333333,\"#9c179e\"],[0.4444444444444444,\"#bd3786\"],[0.5555555555555556,\"#d8576b\"],[0.6666666666666666,\"#ed7953\"],[0.7777777777777778,\"#fb9f3a\"],[0.8888888888888888,\"#fdca26\"],[1.0,\"#f0f921\"]]}],\"heatmap\":[{\"type\":\"heatmap\",\"colorbar\":{\"outlinewidth\":0,\"ticks\":\"\"},\"colorscale\":[[0.0,\"#0d0887\"],[0.1111111111111111,\"#46039f\"],[0.2222222222222222,\"#7201a8\"],[0.3333333333333333,\"#9c179e\"],[0.4444444444444444,\"#bd3786\"],[0.5555555555555556,\"#d8576b\"],[0.6666666666666666,\"#ed7953\"],[0.7777777777777778,\"#fb9f3a\"],[0.8888888888888888,\"#fdca26\"],[1.0,\"#f0f921\"]]}],\"heatmapgl\":[{\"type\":\"heatmapgl\",\"colorbar\":{\"outlinewidth\":0,\"ticks\":\"\"},\"colorscale\":[[0.0,\"#0d0887\"],[0.1111111111111111,\"#46039f\"],[0.2222222222222222,\"#7201a8\"],[0.3333333333333333,\"#9c179e\"],[0.4444444444444444,\"#bd3786\"],[0.5555555555555556,\"#d8576b\"],[0.6666666666666666,\"#ed7953\"],[0.7777777777777778,\"#fb9f3a\"],[0.8888888888888888,\"#fdca26\"],[1.0,\"#f0f921\"]]}],\"contourcarpet\":[{\"type\":\"contourcarpet\",\"colorbar\":{\"outlinewidth\":0,\"ticks\":\"\"}}],\"contour\":[{\"type\":\"contour\",\"colorbar\":{\"outlinewidth\":0,\"ticks\":\"\"},\"colorscale\":[[0.0,\"#0d0887\"],[0.1111111111111111,\"#46039f\"],[0.2222222222222222,\"#7201a8\"],[0.3333333333333333,\"#9c179e\"],[0.4444444444444444,\"#bd3786\"],[0.5555555555555556,\"#d8576b\"],[0.6666666666666666,\"#ed7953\"],[0.7777777777777778,\"#fb9f3a\"],[0.8888888888888888,\"#fdca26\"],[1.0,\"#f0f921\"]]}],\"surface\":[{\"type\":\"surface\",\"colorbar\":{\"outlinewidth\":0,\"ticks\":\"\"},\"colorscale\":[[0.0,\"#0d0887\"],[0.1111111111111111,\"#46039f\"],[0.2222222222222222,\"#7201a8\"],[0.3333333333333333,\"#9c179e\"],[0.4444444444444444,\"#bd3786\"],[0.5555555555555556,\"#d8576b\"],[0.6666666666666666,\"#ed7953\"],[0.7777777777777778,\"#fb9f3a\"],[0.8888888888888888,\"#fdca26\"],[1.0,\"#f0f921\"]]}],\"mesh3d\":[{\"type\":\"mesh3d\",\"colorbar\":{\"outlinewidth\":0,\"ticks\":\"\"}}],\"scatter\":[{\"fillpattern\":{\"fillmode\":\"overlay\",\"size\":10,\"solidity\":0.2},\"type\":\"scatter\"}],\"parcoords\":[{\"type\":\"parcoords\",\"line\":{\"colorbar\":{\"outlinewidth\":0,\"ticks\":\"\"}}}],\"scatterpolargl\":[{\"type\":\"scatterpolargl\",\"marker\":{\"colorbar\":{\"outlinewidth\":0,\"ticks\":\"\"}}}],\"bar\":[{\"error_x\":{\"color\":\"#2a3f5f\"},\"error_y\":{\"color\":\"#2a3f5f\"},\"marker\":{\"line\":{\"color\":\"#E5ECF6\",\"width\":0.5},\"pattern\":{\"fillmode\":\"overlay\",\"size\":10,\"solidity\":0.2}},\"type\":\"bar\"}],\"scattergeo\":[{\"type\":\"scattergeo\",\"marker\":{\"colorbar\":{\"outlinewidth\":0,\"ticks\":\"\"}}}],\"scatterpolar\":[{\"type\":\"scatterpolar\",\"marker\":{\"colorbar\":{\"outlinewidth\":0,\"ticks\":\"\"}}}],\"histogram\":[{\"marker\":{\"pattern\":{\"fillmode\":\"overlay\",\"size\":10,\"solidity\":0.2}},\"type\":\"histogram\"}],\"scattergl\":[{\"type\":\"scattergl\",\"marker\":{\"colorbar\":{\"outlinewidth\":0,\"ticks\":\"\"}}}],\"scatter3d\":[{\"type\":\"scatter3d\",\"line\":{\"colorbar\":{\"outlinewidth\":0,\"ticks\":\"\"}},\"marker\":{\"colorbar\":{\"outlinewidth\":0,\"ticks\":\"\"}}}],\"scattermapbox\":[{\"type\":\"scattermapbox\",\"marker\":{\"colorbar\":{\"outlinewidth\":0,\"ticks\":\"\"}}}],\"scatterternary\":[{\"type\":\"scatterternary\",\"marker\":{\"colorbar\":{\"outlinewidth\":0,\"ticks\":\"\"}}}],\"scattercarpet\":[{\"type\":\"scattercarpet\",\"marker\":{\"colorbar\":{\"outlinewidth\":0,\"ticks\":\"\"}}}],\"carpet\":[{\"aaxis\":{\"endlinecolor\":\"#2a3f5f\",\"gridcolor\":\"white\",\"linecolor\":\"white\",\"minorgridcolor\":\"white\",\"startlinecolor\":\"#2a3f5f\"},\"baxis\":{\"endlinecolor\":\"#2a3f5f\",\"gridcolor\":\"white\",\"linecolor\":\"white\",\"minorgridcolor\":\"white\",\"startlinecolor\":\"#2a3f5f\"},\"type\":\"carpet\"}],\"table\":[{\"cells\":{\"fill\":{\"color\":\"#EBF0F8\"},\"line\":{\"color\":\"white\"}},\"header\":{\"fill\":{\"color\":\"#C8D4E3\"},\"line\":{\"color\":\"white\"}},\"type\":\"table\"}],\"barpolar\":[{\"marker\":{\"line\":{\"color\":\"#E5ECF6\",\"width\":0.5},\"pattern\":{\"fillmode\":\"overlay\",\"size\":10,\"solidity\":0.2}},\"type\":\"barpolar\"}],\"pie\":[{\"automargin\":true,\"type\":\"pie\"}]},\"layout\":{\"autotypenumbers\":\"strict\",\"colorway\":[\"#636efa\",\"#EF553B\",\"#00cc96\",\"#ab63fa\",\"#FFA15A\",\"#19d3f3\",\"#FF6692\",\"#B6E880\",\"#FF97FF\",\"#FECB52\"],\"font\":{\"color\":\"#2a3f5f\"},\"hovermode\":\"closest\",\"hoverlabel\":{\"align\":\"left\"},\"paper_bgcolor\":\"white\",\"plot_bgcolor\":\"#E5ECF6\",\"polar\":{\"bgcolor\":\"#E5ECF6\",\"angularaxis\":{\"gridcolor\":\"white\",\"linecolor\":\"white\",\"ticks\":\"\"},\"radialaxis\":{\"gridcolor\":\"white\",\"linecolor\":\"white\",\"ticks\":\"\"}},\"ternary\":{\"bgcolor\":\"#E5ECF6\",\"aaxis\":{\"gridcolor\":\"white\",\"linecolor\":\"white\",\"ticks\":\"\"},\"baxis\":{\"gridcolor\":\"white\",\"linecolor\":\"white\",\"ticks\":\"\"},\"caxis\":{\"gridcolor\":\"white\",\"linecolor\":\"white\",\"ticks\":\"\"}},\"coloraxis\":{\"colorbar\":{\"outlinewidth\":0,\"ticks\":\"\"}},\"colorscale\":{\"sequential\":[[0.0,\"#0d0887\"],[0.1111111111111111,\"#46039f\"],[0.2222222222222222,\"#7201a8\"],[0.3333333333333333,\"#9c179e\"],[0.4444444444444444,\"#bd3786\"],[0.5555555555555556,\"#d8576b\"],[0.6666666666666666,\"#ed7953\"],[0.7777777777777778,\"#fb9f3a\"],[0.8888888888888888,\"#fdca26\"],[1.0,\"#f0f921\"]],\"sequentialminus\":[[0.0,\"#0d0887\"],[0.1111111111111111,\"#46039f\"],[0.2222222222222222,\"#7201a8\"],[0.3333333333333333,\"#9c179e\"],[0.4444444444444444,\"#bd3786\"],[0.5555555555555556,\"#d8576b\"],[0.6666666666666666,\"#ed7953\"],[0.7777777777777778,\"#fb9f3a\"],[0.8888888888888888,\"#fdca26\"],[1.0,\"#f0f921\"]],\"diverging\":[[0,\"#8e0152\"],[0.1,\"#c51b7d\"],[0.2,\"#de77ae\"],[0.3,\"#f1b6da\"],[0.4,\"#fde0ef\"],[0.5,\"#f7f7f7\"],[0.6,\"#e6f5d0\"],[0.7,\"#b8e186\"],[0.8,\"#7fbc41\"],[0.9,\"#4d9221\"],[1,\"#276419\"]]},\"xaxis\":{\"gridcolor\":\"white\",\"linecolor\":\"white\",\"ticks\":\"\",\"title\":{\"standoff\":15},\"zerolinecolor\":\"white\",\"automargin\":true,\"zerolinewidth\":2},\"yaxis\":{\"gridcolor\":\"white\",\"linecolor\":\"white\",\"ticks\":\"\",\"title\":{\"standoff\":15},\"zerolinecolor\":\"white\",\"automargin\":true,\"zerolinewidth\":2},\"scene\":{\"xaxis\":{\"backgroundcolor\":\"#E5ECF6\",\"gridcolor\":\"white\",\"linecolor\":\"white\",\"showbackground\":true,\"ticks\":\"\",\"zerolinecolor\":\"white\",\"gridwidth\":2},\"yaxis\":{\"backgroundcolor\":\"#E5ECF6\",\"gridcolor\":\"white\",\"linecolor\":\"white\",\"showbackground\":true,\"ticks\":\"\",\"zerolinecolor\":\"white\",\"gridwidth\":2},\"zaxis\":{\"backgroundcolor\":\"#E5ECF6\",\"gridcolor\":\"white\",\"linecolor\":\"white\",\"showbackground\":true,\"ticks\":\"\",\"zerolinecolor\":\"white\",\"gridwidth\":2}},\"shapedefaults\":{\"line\":{\"color\":\"#2a3f5f\"}},\"annotationdefaults\":{\"arrowcolor\":\"#2a3f5f\",\"arrowhead\":0,\"arrowwidth\":1},\"geo\":{\"bgcolor\":\"white\",\"landcolor\":\"#E5ECF6\",\"subunitcolor\":\"white\",\"showland\":true,\"showlakes\":true,\"lakecolor\":\"white\"},\"title\":{\"x\":0.05},\"mapbox\":{\"style\":\"light\"}}},\"title\":{\"text\":\"Time Series Plot for Price vs Date\",\"font\":{\"size\":25}},\"font\":{\"color\":\"white\"},\"xaxis\":{\"title\":{\"text\":\"Date\"},\"showgrid\":true,\"gridwidth\":1,\"gridcolor\":\"white\",\"griddash\":\"dash\"},\"yaxis\":{\"title\":{\"text\":\"Total Price\"},\"showgrid\":true,\"gridwidth\":1,\"gridcolor\":\"white\",\"griddash\":\"dash\"},\"plot_bgcolor\":\"black\",\"paper_bgcolor\":\"black\"},                        {\"responsive\": true}                    ).then(function(){\n",
       "                            \n",
       "var gd = document.getElementById('fc1c4fa8-c485-4672-9197-fb98d076fae3');\n",
       "var x = new MutationObserver(function (mutations, observer) {{\n",
       "        var display = window.getComputedStyle(gd).display;\n",
       "        if (!display || display === 'none') {{\n",
       "            console.log([gd, 'removed!']);\n",
       "            Plotly.purge(gd);\n",
       "            observer.disconnect();\n",
       "        }}\n",
       "}});\n",
       "\n",
       "// Listen for the removal of the full notebook cells\n",
       "var notebookContainer = gd.closest('#notebook-container');\n",
       "if (notebookContainer) {{\n",
       "    x.observe(notebookContainer, {childList: true});\n",
       "}}\n",
       "\n",
       "// Listen for the clearing of the current output cell\n",
       "var outputEl = gd.closest('.output');\n",
       "if (outputEl) {{\n",
       "    x.observe(outputEl, {childList: true});\n",
       "}}\n",
       "\n",
       "                        })                };                });            </script>        </div>"
      ]
     },
     "metadata": {},
     "output_type": "display_data"
    }
   ],
   "source": [
    "time_series.remove('Year')\n",
    "\n",
    "df_monthly = df.groupby('Month')['Price'].sum().reset_index()\n",
    "df_date = df.groupby('Date')['Price'].sum().reset_index()\n",
    "\n",
    "\n",
    "for time in time_series:\n",
    "    if time == 'Month':\n",
    "        data = df_monthly\n",
    "        x_label = 'Month'\n",
    "    elif time == 'Date':\n",
    "        data = df_date\n",
    "        x_label = 'Date'\n",
    "        \n",
    "    fig = go.Figure()\n",
    "    fig.add_trace(go.Scatter(\n",
    "        x=data[x_label],\n",
    "        y=data['Price'],\n",
    "        mode='lines',\n",
    "        name=f\"Price vs {time}\",\n",
    "        line=dict(color='red')\n",
    "    ))\n",
    "\n",
    "    fig.update_layout(\n",
    "        title=f\"Time Series Plot for Price vs {time}\",\n",
    "        xaxis_title=x_label,\n",
    "        yaxis_title='Total Price',\n",
    "        title_font_size=25,\n",
    "        plot_bgcolor='black',\n",
    "        paper_bgcolor='black',\n",
    "        font=dict(color='white')\n",
    "    )\n",
    "\n",
    "    fig.update_xaxes(showgrid=True, gridwidth=1, gridcolor='white', griddash='dash')\n",
    "    fig.update_yaxes(showgrid=True, gridwidth=1, gridcolor='white', griddash='dash')\n",
    "\n",
    "    fig.show()"
   ]
  },
  {
   "cell_type": "markdown",
   "id": "47e097fb",
   "metadata": {
    "papermill": {
     "duration": 0.013319,
     "end_time": "2024-06-26T04:52:50.001908",
     "exception": false,
     "start_time": "2024-06-26T04:52:49.988589",
     "status": "completed"
    },
    "tags": []
   },
   "source": [
    "# Machine learning"
   ]
  },
  {
   "cell_type": "code",
   "execution_count": 10,
   "id": "01de5abe",
   "metadata": {
    "execution": {
     "iopub.execute_input": "2024-06-26T04:52:50.030290Z",
     "iopub.status.busy": "2024-06-26T04:52:50.029955Z",
     "iopub.status.idle": "2024-06-26T04:52:50.040928Z",
     "shell.execute_reply": "2024-06-26T04:52:50.040111Z"
    },
    "papermill": {
     "duration": 0.02726,
     "end_time": "2024-06-26T04:52:50.042806",
     "exception": false,
     "start_time": "2024-06-26T04:52:50.015546",
     "status": "completed"
    },
    "tags": []
   },
   "outputs": [],
   "source": [
    "def evaluate_models_all(X, y):\n",
    "    X_train, X_test, y_train, y_test = train_test_split(X, y, test_size=0.2, random_state=42)\n",
    "\n",
    "    categorical_features = col_name_object\n",
    "    models = [\n",
    "        ('Linear Regression', LinearRegression()),\n",
    "        ('Ridge Regression', Ridge()),\n",
    "        ('Lasso Regression', Lasso()),\n",
    "        ('ElasticNet', ElasticNet()),\n",
    "        ('Decision Tree Regressor', DecisionTreeRegressor()),\n",
    "        ('Random Forest Regressor', RandomForestRegressor()),\n",
    "        ('Support Vector Machine Regressor', SVR()),\n",
    "        ('K-Nearest Neighbors Regressor', KNeighborsRegressor()),\n",
    "        ('Gradient Boosting Regressor', GradientBoostingRegressor()),\n",
    "        ('XGBoost Regressor', XGBRegressor()),\n",
    "        ('LightGBM Regressor', LGBMRegressor())\n",
    "    ]\n",
    "\n",
    "    pipelines = {}\n",
    "    for name, model in models:\n",
    "        preprocessor = ColumnTransformer(\n",
    "            transformers=[\n",
    "                ('cat', OneHotEncoder(drop='first'), categorical_features)\n",
    "            ],\n",
    "            remainder='passthrough'\n",
    "        )\n",
    "\n",
    "        pipeline = Pipeline(steps=[\n",
    "            ('preprocessor', preprocessor),\n",
    "            ('scaler', StandardScaler()),\n",
    "            (name, model)\n",
    "        ])\n",
    "\n",
    "        pipelines[name] = pipeline\n",
    "\n",
    "    results = {}\n",
    "    trained_models = {}\n",
    "    for name, pipeline in pipelines.items():\n",
    "        pipeline.fit(X_train, y_train)\n",
    "        y_pred = pipeline.predict(X_test)\n",
    "        rmse = mean_squared_error(y_test, y_pred, squared=False)\n",
    "        r2 = r2_score(y_test, y_pred)\n",
    "        results[name] = {'RMSE': rmse, 'R²': r2}\n",
    "        trained_models[name] = pipeline.named_steps[name]\n",
    "\n",
    "    results_df = pd.DataFrame.from_dict(results, orient='index').reset_index()\n",
    "    results_df.rename(columns={'index': 'Model'}, inplace=True)\n",
    "\n",
    "    return results_df"
   ]
  },
  {
   "cell_type": "code",
   "execution_count": 11,
   "id": "1580b38a",
   "metadata": {
    "execution": {
     "iopub.execute_input": "2024-06-26T04:52:50.069921Z",
     "iopub.status.busy": "2024-06-26T04:52:50.069656Z",
     "iopub.status.idle": "2024-06-26T04:53:01.005527Z",
     "shell.execute_reply": "2024-06-26T04:53:01.004470Z"
    },
    "papermill": {
     "duration": 10.951762,
     "end_time": "2024-06-26T04:53:01.007692",
     "exception": false,
     "start_time": "2024-06-26T04:52:50.055930",
     "status": "completed"
    },
    "tags": []
   },
   "outputs": [
    {
     "name": "stdout",
     "output_type": "stream",
     "text": [
      "[LightGBM] [Info] Auto-choosing col-wise multi-threading, the overhead of testing was 0.002841 seconds.\n",
      "You can set `force_col_wise=true` to remove the overhead.\n",
      "[LightGBM] [Info] Total Bins 200\n",
      "[LightGBM] [Info] Number of data points in the train set: 8546, number of used features: 25\n",
      "[LightGBM] [Info] Start training from score 9074.827873\n"
     ]
    },
    {
     "data": {
      "text/html": [
       "<div>\n",
       "<style scoped>\n",
       "    .dataframe tbody tr th:only-of-type {\n",
       "        vertical-align: middle;\n",
       "    }\n",
       "\n",
       "    .dataframe tbody tr th {\n",
       "        vertical-align: top;\n",
       "    }\n",
       "\n",
       "    .dataframe thead th {\n",
       "        text-align: right;\n",
       "    }\n",
       "</style>\n",
       "<table border=\"1\" class=\"dataframe\">\n",
       "  <thead>\n",
       "    <tr style=\"text-align: right;\">\n",
       "      <th></th>\n",
       "      <th>Model</th>\n",
       "      <th>RMSE</th>\n",
       "      <th>R²</th>\n",
       "    </tr>\n",
       "  </thead>\n",
       "  <tbody>\n",
       "    <tr>\n",
       "      <th>0</th>\n",
       "      <td>Linear Regression</td>\n",
       "      <td>2855.868946</td>\n",
       "      <td>0.614629</td>\n",
       "    </tr>\n",
       "    <tr>\n",
       "      <th>1</th>\n",
       "      <td>Ridge Regression</td>\n",
       "      <td>2854.694163</td>\n",
       "      <td>0.614946</td>\n",
       "    </tr>\n",
       "    <tr>\n",
       "      <th>2</th>\n",
       "      <td>Lasso Regression</td>\n",
       "      <td>2854.729643</td>\n",
       "      <td>0.614936</td>\n",
       "    </tr>\n",
       "    <tr>\n",
       "      <th>3</th>\n",
       "      <td>ElasticNet</td>\n",
       "      <td>3004.505615</td>\n",
       "      <td>0.573471</td>\n",
       "    </tr>\n",
       "    <tr>\n",
       "      <th>4</th>\n",
       "      <td>Decision Tree Regressor</td>\n",
       "      <td>2490.551855</td>\n",
       "      <td>0.706915</td>\n",
       "    </tr>\n",
       "    <tr>\n",
       "      <th>5</th>\n",
       "      <td>Random Forest Regressor</td>\n",
       "      <td>2133.279593</td>\n",
       "      <td>0.784970</td>\n",
       "    </tr>\n",
       "    <tr>\n",
       "      <th>6</th>\n",
       "      <td>Support Vector Machine Regressor</td>\n",
       "      <td>4475.604197</td>\n",
       "      <td>0.053531</td>\n",
       "    </tr>\n",
       "    <tr>\n",
       "      <th>7</th>\n",
       "      <td>K-Nearest Neighbors Regressor</td>\n",
       "      <td>2210.296098</td>\n",
       "      <td>0.769164</td>\n",
       "    </tr>\n",
       "    <tr>\n",
       "      <th>8</th>\n",
       "      <td>Gradient Boosting Regressor</td>\n",
       "      <td>2198.302366</td>\n",
       "      <td>0.771662</td>\n",
       "    </tr>\n",
       "    <tr>\n",
       "      <th>9</th>\n",
       "      <td>XGBoost Regressor</td>\n",
       "      <td>1735.964124</td>\n",
       "      <td>0.857608</td>\n",
       "    </tr>\n",
       "    <tr>\n",
       "      <th>10</th>\n",
       "      <td>LightGBM Regressor</td>\n",
       "      <td>1960.608340</td>\n",
       "      <td>0.818371</td>\n",
       "    </tr>\n",
       "  </tbody>\n",
       "</table>\n",
       "</div>"
      ],
      "text/plain": [
       "                               Model         RMSE        R²\n",
       "0                  Linear Regression  2855.868946  0.614629\n",
       "1                   Ridge Regression  2854.694163  0.614946\n",
       "2                   Lasso Regression  2854.729643  0.614936\n",
       "3                         ElasticNet  3004.505615  0.573471\n",
       "4            Decision Tree Regressor  2490.551855  0.706915\n",
       "5            Random Forest Regressor  2133.279593  0.784970\n",
       "6   Support Vector Machine Regressor  4475.604197  0.053531\n",
       "7      K-Nearest Neighbors Regressor  2210.296098  0.769164\n",
       "8        Gradient Boosting Regressor  2198.302366  0.771662\n",
       "9                  XGBoost Regressor  1735.964124  0.857608\n",
       "10                LightGBM Regressor  1960.608340  0.818371"
      ]
     },
     "execution_count": 11,
     "metadata": {},
     "output_type": "execute_result"
    }
   ],
   "source": [
    "X = df.drop('Price', axis=1)\n",
    "y = df['Price']\n",
    "\n",
    "evaluate_models_all(X,y)"
   ]
  },
  {
   "cell_type": "markdown",
   "id": "78c59b40",
   "metadata": {
    "papermill": {
     "duration": 0.01335,
     "end_time": "2024-06-26T04:53:01.035151",
     "exception": false,
     "start_time": "2024-06-26T04:53:01.021801",
     "status": "completed"
    },
    "tags": []
   },
   "source": [
    "# Deep learning "
   ]
  },
  {
   "cell_type": "markdown",
   "id": "25f0ca66",
   "metadata": {
    "papermill": {
     "duration": 0.013294,
     "end_time": "2024-06-26T04:53:01.061999",
     "exception": false,
     "start_time": "2024-06-26T04:53:01.048705",
     "status": "completed"
    },
    "tags": []
   },
   "source": [
    "> ## 1. MLP (Multi-Layer Perceptron)"
   ]
  },
  {
   "cell_type": "code",
   "execution_count": 12,
   "id": "c376c85d",
   "metadata": {
    "execution": {
     "iopub.execute_input": "2024-06-26T04:53:01.090529Z",
     "iopub.status.busy": "2024-06-26T04:53:01.089835Z",
     "iopub.status.idle": "2024-06-26T04:53:36.387622Z",
     "shell.execute_reply": "2024-06-26T04:53:36.386628Z"
    },
    "papermill": {
     "duration": 35.314669,
     "end_time": "2024-06-26T04:53:36.389863",
     "exception": false,
     "start_time": "2024-06-26T04:53:01.075194",
     "status": "completed"
    },
    "tags": []
   },
   "outputs": [
    {
     "name": "stdout",
     "output_type": "stream",
     "text": [
      "Epoch 1/50\n",
      "\u001b[1m102/268\u001b[0m \u001b[32m━━━━━━━\u001b[0m\u001b[37m━━━━━━━━━━━━━\u001b[0m \u001b[1m0s\u001b[0m 1ms/step - loss: 104702776.0000"
     ]
    },
    {
     "name": "stderr",
     "output_type": "stream",
     "text": [
      "WARNING: All log messages before absl::InitializeLog() is called are written to STDERR\n",
      "I0000 00:00:1719377586.355001      81 device_compiler.h:186] Compiled cluster using XLA!  This line is logged at most once for the lifetime of the process.\n",
      "W0000 00:00:1719377586.372703      81 graph_launch.cc:671] Fallback to op-by-op mode because memset node breaks graph update\n"
     ]
    },
    {
     "name": "stdout",
     "output_type": "stream",
     "text": [
      "\u001b[1m268/268\u001b[0m \u001b[32m━━━━━━━━━━━━━━━━━━━━\u001b[0m\u001b[37m\u001b[0m \u001b[1m0s\u001b[0m 12ms/step - loss: 103462152.0000"
     ]
    },
    {
     "name": "stderr",
     "output_type": "stream",
     "text": [
      "W0000 00:00:1719377589.886404      81 graph_launch.cc:671] Fallback to op-by-op mode because memset node breaks graph update\n"
     ]
    },
    {
     "name": "stdout",
     "output_type": "stream",
     "text": [
      "\u001b[1m268/268\u001b[0m \u001b[32m━━━━━━━━━━━━━━━━━━━━\u001b[0m\u001b[37m\u001b[0m \u001b[1m8s\u001b[0m 14ms/step - loss: 103459760.0000 - val_loss: 101072488.0000\n",
      "Epoch 2/50\n",
      "\u001b[1m268/268\u001b[0m \u001b[32m━━━━━━━━━━━━━━━━━━━━\u001b[0m\u001b[37m\u001b[0m \u001b[1m1s\u001b[0m 2ms/step - loss: 93545456.0000 - val_loss: 72585968.0000\n",
      "Epoch 3/50\n",
      "\u001b[1m268/268\u001b[0m \u001b[32m━━━━━━━━━━━━━━━━━━━━\u001b[0m\u001b[37m\u001b[0m \u001b[1m1s\u001b[0m 2ms/step - loss: 63104956.0000 - val_loss: 32820268.0000\n",
      "Epoch 4/50\n",
      "\u001b[1m268/268\u001b[0m \u001b[32m━━━━━━━━━━━━━━━━━━━━\u001b[0m\u001b[37m\u001b[0m \u001b[1m0s\u001b[0m 2ms/step - loss: 29585628.0000 - val_loss: 15531147.0000\n",
      "Epoch 5/50\n",
      "\u001b[1m268/268\u001b[0m \u001b[32m━━━━━━━━━━━━━━━━━━━━\u001b[0m\u001b[37m\u001b[0m \u001b[1m0s\u001b[0m 2ms/step - loss: 17340318.0000 - val_loss: 8594319.0000\n",
      "Epoch 6/50\n",
      "\u001b[1m268/268\u001b[0m \u001b[32m━━━━━━━━━━━━━━━━━━━━\u001b[0m\u001b[37m\u001b[0m \u001b[1m1s\u001b[0m 2ms/step - loss: 13441058.0000 - val_loss: 5306029.0000\n",
      "Epoch 7/50\n",
      "\u001b[1m268/268\u001b[0m \u001b[32m━━━━━━━━━━━━━━━━━━━━\u001b[0m\u001b[37m\u001b[0m \u001b[1m0s\u001b[0m 2ms/step - loss: 11248192.0000 - val_loss: 3704819.0000\n",
      "Epoch 8/50\n",
      "\u001b[1m268/268\u001b[0m \u001b[32m━━━━━━━━━━━━━━━━━━━━\u001b[0m\u001b[37m\u001b[0m \u001b[1m1s\u001b[0m 2ms/step - loss: 10230073.0000 - val_loss: 2785774.0000\n",
      "Epoch 9/50\n",
      "\u001b[1m268/268\u001b[0m \u001b[32m━━━━━━━━━━━━━━━━━━━━\u001b[0m\u001b[37m\u001b[0m \u001b[1m0s\u001b[0m 2ms/step - loss: 9953738.0000 - val_loss: 2444532.5000\n",
      "Epoch 10/50\n",
      "\u001b[1m268/268\u001b[0m \u001b[32m━━━━━━━━━━━━━━━━━━━━\u001b[0m\u001b[37m\u001b[0m \u001b[1m1s\u001b[0m 2ms/step - loss: 8585677.0000 - val_loss: 1876398.1250\n",
      "Epoch 11/50\n",
      "\u001b[1m268/268\u001b[0m \u001b[32m━━━━━━━━━━━━━━━━━━━━\u001b[0m\u001b[37m\u001b[0m \u001b[1m1s\u001b[0m 2ms/step - loss: 8844895.0000 - val_loss: 1597657.0000\n",
      "Epoch 12/50\n",
      "\u001b[1m268/268\u001b[0m \u001b[32m━━━━━━━━━━━━━━━━━━━━\u001b[0m\u001b[37m\u001b[0m \u001b[1m1s\u001b[0m 2ms/step - loss: 8499198.0000 - val_loss: 1495318.6250\n",
      "Epoch 13/50\n",
      "\u001b[1m268/268\u001b[0m \u001b[32m━━━━━━━━━━━━━━━━━━━━\u001b[0m\u001b[37m\u001b[0m \u001b[1m1s\u001b[0m 2ms/step - loss: 7973218.5000 - val_loss: 1134153.3750\n",
      "Epoch 14/50\n",
      "\u001b[1m268/268\u001b[0m \u001b[32m━━━━━━━━━━━━━━━━━━━━\u001b[0m\u001b[37m\u001b[0m \u001b[1m1s\u001b[0m 2ms/step - loss: 8173755.0000 - val_loss: 1080447.8750\n",
      "Epoch 15/50\n",
      "\u001b[1m268/268\u001b[0m \u001b[32m━━━━━━━━━━━━━━━━━━━━\u001b[0m\u001b[37m\u001b[0m \u001b[1m1s\u001b[0m 2ms/step - loss: 8169151.5000 - val_loss: 1040378.6250\n",
      "Epoch 16/50\n",
      "\u001b[1m268/268\u001b[0m \u001b[32m━━━━━━━━━━━━━━━━━━━━\u001b[0m\u001b[37m\u001b[0m \u001b[1m0s\u001b[0m 2ms/step - loss: 7207219.0000 - val_loss: 948164.3125\n",
      "Epoch 17/50\n",
      "\u001b[1m268/268\u001b[0m \u001b[32m━━━━━━━━━━━━━━━━━━━━\u001b[0m\u001b[37m\u001b[0m \u001b[1m1s\u001b[0m 2ms/step - loss: 7563979.0000 - val_loss: 884160.0000\n",
      "Epoch 18/50\n",
      "\u001b[1m268/268\u001b[0m \u001b[32m━━━━━━━━━━━━━━━━━━━━\u001b[0m\u001b[37m\u001b[0m \u001b[1m1s\u001b[0m 2ms/step - loss: 7923192.0000 - val_loss: 866136.6875\n",
      "Epoch 19/50\n",
      "\u001b[1m268/268\u001b[0m \u001b[32m━━━━━━━━━━━━━━━━━━━━\u001b[0m\u001b[37m\u001b[0m \u001b[1m1s\u001b[0m 2ms/step - loss: 7301760.5000 - val_loss: 701941.8750\n",
      "Epoch 20/50\n",
      "\u001b[1m268/268\u001b[0m \u001b[32m━━━━━━━━━━━━━━━━━━━━\u001b[0m\u001b[37m\u001b[0m \u001b[1m1s\u001b[0m 2ms/step - loss: 7061401.0000 - val_loss: 712444.8750\n",
      "Epoch 21/50\n",
      "\u001b[1m268/268\u001b[0m \u001b[32m━━━━━━━━━━━━━━━━━━━━\u001b[0m\u001b[37m\u001b[0m \u001b[1m1s\u001b[0m 2ms/step - loss: 6949751.5000 - val_loss: 758087.5000\n",
      "Epoch 22/50\n",
      "\u001b[1m268/268\u001b[0m \u001b[32m━━━━━━━━━━━━━━━━━━━━\u001b[0m\u001b[37m\u001b[0m \u001b[1m0s\u001b[0m 2ms/step - loss: 7146460.5000 - val_loss: 672982.8750\n",
      "Epoch 23/50\n",
      "\u001b[1m268/268\u001b[0m \u001b[32m━━━━━━━━━━━━━━━━━━━━\u001b[0m\u001b[37m\u001b[0m \u001b[1m0s\u001b[0m 2ms/step - loss: 7513456.5000 - val_loss: 601806.3125\n",
      "Epoch 24/50\n",
      "\u001b[1m268/268\u001b[0m \u001b[32m━━━━━━━━━━━━━━━━━━━━\u001b[0m\u001b[37m\u001b[0m \u001b[1m1s\u001b[0m 2ms/step - loss: 6948527.5000 - val_loss: 521816.5312\n",
      "Epoch 25/50\n",
      "\u001b[1m268/268\u001b[0m \u001b[32m━━━━━━━━━━━━━━━━━━━━\u001b[0m\u001b[37m\u001b[0m \u001b[1m1s\u001b[0m 2ms/step - loss: 6848853.0000 - val_loss: 510013.6875\n",
      "Epoch 26/50\n",
      "\u001b[1m268/268\u001b[0m \u001b[32m━━━━━━━━━━━━━━━━━━━━\u001b[0m\u001b[37m\u001b[0m \u001b[1m1s\u001b[0m 2ms/step - loss: 6871300.0000 - val_loss: 607507.8125\n",
      "Epoch 27/50\n",
      "\u001b[1m268/268\u001b[0m \u001b[32m━━━━━━━━━━━━━━━━━━━━\u001b[0m\u001b[37m\u001b[0m \u001b[1m1s\u001b[0m 2ms/step - loss: 6739744.5000 - val_loss: 490196.8750\n",
      "Epoch 28/50\n",
      "\u001b[1m268/268\u001b[0m \u001b[32m━━━━━━━━━━━━━━━━━━━━\u001b[0m\u001b[37m\u001b[0m \u001b[1m1s\u001b[0m 2ms/step - loss: 6931719.0000 - val_loss: 568483.8750\n",
      "Epoch 29/50\n",
      "\u001b[1m268/268\u001b[0m \u001b[32m━━━━━━━━━━━━━━━━━━━━\u001b[0m\u001b[37m\u001b[0m \u001b[1m1s\u001b[0m 2ms/step - loss: 6772334.5000 - val_loss: 588010.0625\n",
      "Epoch 30/50\n",
      "\u001b[1m268/268\u001b[0m \u001b[32m━━━━━━━━━━━━━━━━━━━━\u001b[0m\u001b[37m\u001b[0m \u001b[1m1s\u001b[0m 2ms/step - loss: 7404431.5000 - val_loss: 477993.0938\n",
      "Epoch 31/50\n",
      "\u001b[1m268/268\u001b[0m \u001b[32m━━━━━━━━━━━━━━━━━━━━\u001b[0m\u001b[37m\u001b[0m \u001b[1m1s\u001b[0m 2ms/step - loss: 7488946.5000 - val_loss: 672918.3125\n",
      "Epoch 32/50\n",
      "\u001b[1m268/268\u001b[0m \u001b[32m━━━━━━━━━━━━━━━━━━━━\u001b[0m\u001b[37m\u001b[0m \u001b[1m1s\u001b[0m 2ms/step - loss: 7539706.5000 - val_loss: 640777.0000\n",
      "Epoch 33/50\n",
      "\u001b[1m268/268\u001b[0m \u001b[32m━━━━━━━━━━━━━━━━━━━━\u001b[0m\u001b[37m\u001b[0m \u001b[1m1s\u001b[0m 2ms/step - loss: 7031516.0000 - val_loss: 491060.5312\n",
      "Epoch 34/50\n",
      "\u001b[1m268/268\u001b[0m \u001b[32m━━━━━━━━━━━━━━━━━━━━\u001b[0m\u001b[37m\u001b[0m \u001b[1m0s\u001b[0m 2ms/step - loss: 6676208.0000 - val_loss: 506198.1875\n",
      "Epoch 35/50\n",
      "\u001b[1m268/268\u001b[0m \u001b[32m━━━━━━━━━━━━━━━━━━━━\u001b[0m\u001b[37m\u001b[0m \u001b[1m0s\u001b[0m 2ms/step - loss: 6601046.0000 - val_loss: 527007.7500\n",
      "Epoch 36/50\n",
      "\u001b[1m268/268\u001b[0m \u001b[32m━━━━━━━━━━━━━━━━━━━━\u001b[0m\u001b[37m\u001b[0m \u001b[1m1s\u001b[0m 2ms/step - loss: 7002046.0000 - val_loss: 464464.9062\n",
      "Epoch 37/50\n",
      "\u001b[1m268/268\u001b[0m \u001b[32m━━━━━━━━━━━━━━━━━━━━\u001b[0m\u001b[37m\u001b[0m \u001b[1m1s\u001b[0m 2ms/step - loss: 6696722.0000 - val_loss: 507941.0625\n",
      "Epoch 38/50\n",
      "\u001b[1m268/268\u001b[0m \u001b[32m━━━━━━━━━━━━━━━━━━━━\u001b[0m\u001b[37m\u001b[0m \u001b[1m1s\u001b[0m 2ms/step - loss: 6597794.5000 - val_loss: 536041.5000\n",
      "Epoch 39/50\n",
      "\u001b[1m268/268\u001b[0m \u001b[32m━━━━━━━━━━━━━━━━━━━━\u001b[0m\u001b[37m\u001b[0m \u001b[1m1s\u001b[0m 2ms/step - loss: 7047339.5000 - val_loss: 445516.0312\n",
      "Epoch 40/50\n",
      "\u001b[1m268/268\u001b[0m \u001b[32m━━━━━━━━━━━━━━━━━━━━\u001b[0m\u001b[37m\u001b[0m \u001b[1m1s\u001b[0m 2ms/step - loss: 6894812.5000 - val_loss: 461512.5625\n",
      "Epoch 41/50\n",
      "\u001b[1m268/268\u001b[0m \u001b[32m━━━━━━━━━━━━━━━━━━━━\u001b[0m\u001b[37m\u001b[0m \u001b[1m1s\u001b[0m 2ms/step - loss: 6482170.0000 - val_loss: 520970.1250\n",
      "Epoch 42/50\n",
      "\u001b[1m268/268\u001b[0m \u001b[32m━━━━━━━━━━━━━━━━━━━━\u001b[0m\u001b[37m\u001b[0m \u001b[1m1s\u001b[0m 2ms/step - loss: 6459968.5000 - val_loss: 413583.5938\n",
      "Epoch 43/50\n",
      "\u001b[1m268/268\u001b[0m \u001b[32m━━━━━━━━━━━━━━━━━━━━\u001b[0m\u001b[37m\u001b[0m \u001b[1m1s\u001b[0m 2ms/step - loss: 6815542.0000 - val_loss: 426740.8438\n",
      "Epoch 44/50\n",
      "\u001b[1m268/268\u001b[0m \u001b[32m━━━━━━━━━━━━━━━━━━━━\u001b[0m\u001b[37m\u001b[0m \u001b[1m1s\u001b[0m 2ms/step - loss: 6865073.0000 - val_loss: 464097.5312\n",
      "Epoch 45/50\n",
      "\u001b[1m268/268\u001b[0m \u001b[32m━━━━━━━━━━━━━━━━━━━━\u001b[0m\u001b[37m\u001b[0m \u001b[1m1s\u001b[0m 2ms/step - loss: 6794196.0000 - val_loss: 471065.2500\n",
      "Epoch 46/50\n",
      "\u001b[1m268/268\u001b[0m \u001b[32m━━━━━━━━━━━━━━━━━━━━\u001b[0m\u001b[37m\u001b[0m \u001b[1m1s\u001b[0m 2ms/step - loss: 6469192.5000 - val_loss: 519913.0000\n",
      "Epoch 47/50\n",
      "\u001b[1m268/268\u001b[0m \u001b[32m━━━━━━━━━━━━━━━━━━━━\u001b[0m\u001b[37m\u001b[0m \u001b[1m1s\u001b[0m 2ms/step - loss: 6857804.5000 - val_loss: 458789.5625\n",
      "Epoch 48/50\n",
      "\u001b[1m268/268\u001b[0m \u001b[32m━━━━━━━━━━━━━━━━━━━━\u001b[0m\u001b[37m\u001b[0m \u001b[1m1s\u001b[0m 2ms/step - loss: 6945493.0000 - val_loss: 493586.3750\n",
      "Epoch 49/50\n",
      "\u001b[1m268/268\u001b[0m \u001b[32m━━━━━━━━━━━━━━━━━━━━\u001b[0m\u001b[37m\u001b[0m \u001b[1m1s\u001b[0m 2ms/step - loss: 6673734.5000 - val_loss: 489146.4688\n",
      "Epoch 50/50\n",
      "\u001b[1m268/268\u001b[0m \u001b[32m━━━━━━━━━━━━━━━━━━━━\u001b[0m\u001b[37m\u001b[0m \u001b[1m1s\u001b[0m 2ms/step - loss: 6948390.5000 - val_loss: 500437.5625\n"
     ]
    },
    {
     "data": {
      "text/plain": [
       "<keras.src.callbacks.history.History at 0x7e6ebcf6a6e0>"
      ]
     },
     "execution_count": 12,
     "metadata": {},
     "output_type": "execute_result"
    }
   ],
   "source": [
    "label_encoders = {}\n",
    "for col in col_name_object:\n",
    "    le = LabelEncoder()\n",
    "    df[col] = le.fit_transform(df[col])\n",
    "    label_encoders[col] = le\n",
    "\n",
    "scaler = StandardScaler()\n",
    "X_scaled = scaler.fit_transform(df)\n",
    "\n",
    "X_train, X_test, y_train, y_test = train_test_split(X_scaled, y, test_size=0.2, random_state=42)\n",
    "\n",
    "model_MLP = Sequential([\n",
    "    Input(shape=(X_train.shape[1],)),\n",
    "    Dense(64, activation='relu'),\n",
    "    Dropout(0.5),\n",
    "    Dense(32, activation='relu'),\n",
    "    Dropout(0.5),\n",
    "    Dense(1)  \n",
    "])\n",
    "\n",
    "model_MLP.compile(optimizer='adam', loss='mean_squared_error')  \n",
    "model_MLP.fit(X_train, y_train, epochs=50, batch_size=32, validation_data=(X_test, y_test))"
   ]
  },
  {
   "cell_type": "code",
   "execution_count": 13,
   "id": "c80da345",
   "metadata": {
    "execution": {
     "iopub.execute_input": "2024-06-26T04:53:36.516167Z",
     "iopub.status.busy": "2024-06-26T04:53:36.515202Z",
     "iopub.status.idle": "2024-06-26T04:53:37.116691Z",
     "shell.execute_reply": "2024-06-26T04:53:37.115560Z"
    },
    "papermill": {
     "duration": 0.667305,
     "end_time": "2024-06-26T04:53:37.118783",
     "exception": false,
     "start_time": "2024-06-26T04:53:36.451478",
     "status": "completed"
    },
    "tags": []
   },
   "outputs": [
    {
     "name": "stdout",
     "output_type": "stream",
     "text": [
      "\u001b[1m43/67\u001b[0m \u001b[32m━━━━━━━━━━━━\u001b[0m\u001b[37m━━━━━━━━\u001b[0m \u001b[1m0s\u001b[0m 1ms/step   "
     ]
    },
    {
     "name": "stderr",
     "output_type": "stream",
     "text": [
      "W0000 00:00:1719377616.779998      81 graph_launch.cc:671] Fallback to op-by-op mode because memset node breaks graph update\n"
     ]
    },
    {
     "name": "stdout",
     "output_type": "stream",
     "text": [
      "\u001b[1m67/67\u001b[0m \u001b[32m━━━━━━━━━━━━━━━━━━━━\u001b[0m\u001b[37m\u001b[0m \u001b[1m0s\u001b[0m 4ms/step\n",
      "RMSE: 707.4161\n",
      "R²: 0.9764\n"
     ]
    }
   ],
   "source": [
    "mlp_y_pred = model_MLP.predict(X_test)\n",
    "mlp_rmse = mean_squared_error(y_test, mlp_y_pred, squared=False)\n",
    "mlp_r2 = r2_score(y_test, mlp_y_pred)\n",
    "\n",
    "print(f'RMSE: {mlp_rmse:.4f}')\n",
    "print(f'R²: {mlp_r2:.4f}')"
   ]
  },
  {
   "cell_type": "markdown",
   "id": "7ecadef8",
   "metadata": {
    "papermill": {
     "duration": 0.060395,
     "end_time": "2024-06-26T04:53:37.238653",
     "exception": false,
     "start_time": "2024-06-26T04:53:37.178258",
     "status": "completed"
    },
    "tags": []
   },
   "source": [
    "> ## 2. RNN (Recurrent Neural Network)"
   ]
  },
  {
   "cell_type": "code",
   "execution_count": 14,
   "id": "e2fb7cab",
   "metadata": {
    "execution": {
     "iopub.execute_input": "2024-06-26T04:53:37.366393Z",
     "iopub.status.busy": "2024-06-26T04:53:37.365753Z",
     "iopub.status.idle": "2024-06-26T04:54:16.222758Z",
     "shell.execute_reply": "2024-06-26T04:54:16.221792Z"
    },
    "papermill": {
     "duration": 38.922829,
     "end_time": "2024-06-26T04:54:16.224810",
     "exception": false,
     "start_time": "2024-06-26T04:53:37.301981",
     "status": "completed"
    },
    "tags": []
   },
   "outputs": [
    {
     "name": "stdout",
     "output_type": "stream",
     "text": [
      "Epoch 1/50\n",
      "\u001b[1m 91/268\u001b[0m \u001b[32m━━━━━━\u001b[0m\u001b[37m━━━━━━━━━━━━━━\u001b[0m \u001b[1m0s\u001b[0m 2ms/step - loss: 107913088.0000"
     ]
    },
    {
     "name": "stderr",
     "output_type": "stream",
     "text": [
      "W0000 00:00:1719377622.264001      82 graph_launch.cc:671] Fallback to op-by-op mode because memset node breaks graph update\n"
     ]
    },
    {
     "name": "stdout",
     "output_type": "stream",
     "text": [
      "\u001b[1m268/268\u001b[0m \u001b[32m━━━━━━━━━━━━━━━━━━━━\u001b[0m\u001b[37m\u001b[0m \u001b[1m0s\u001b[0m 14ms/step - loss: 106510368.0000"
     ]
    },
    {
     "name": "stderr",
     "output_type": "stream",
     "text": [
      "W0000 00:00:1719377626.366271      81 graph_launch.cc:671] Fallback to op-by-op mode because memset node breaks graph update\n"
     ]
    },
    {
     "name": "stdout",
     "output_type": "stream",
     "text": [
      "\u001b[1m268/268\u001b[0m \u001b[32m━━━━━━━━━━━━━━━━━━━━\u001b[0m\u001b[37m\u001b[0m \u001b[1m9s\u001b[0m 17ms/step - loss: 106496336.0000 - val_loss: 100630032.0000\n",
      "Epoch 2/50\n",
      "\u001b[1m268/268\u001b[0m \u001b[32m━━━━━━━━━━━━━━━━━━━━\u001b[0m\u001b[37m\u001b[0m \u001b[1m1s\u001b[0m 2ms/step - loss: 96722712.0000 - val_loss: 71506856.0000\n",
      "Epoch 3/50\n",
      "\u001b[1m268/268\u001b[0m \u001b[32m━━━━━━━━━━━━━━━━━━━━\u001b[0m\u001b[37m\u001b[0m \u001b[1m1s\u001b[0m 2ms/step - loss: 59364824.0000 - val_loss: 31211340.0000\n",
      "Epoch 4/50\n",
      "\u001b[1m268/268\u001b[0m \u001b[32m━━━━━━━━━━━━━━━━━━━━\u001b[0m\u001b[37m\u001b[0m \u001b[1m1s\u001b[0m 2ms/step - loss: 28781774.0000 - val_loss: 14374244.0000\n",
      "Epoch 5/50\n",
      "\u001b[1m268/268\u001b[0m \u001b[32m━━━━━━━━━━━━━━━━━━━━\u001b[0m\u001b[37m\u001b[0m \u001b[1m1s\u001b[0m 2ms/step - loss: 17352982.0000 - val_loss: 8243001.5000\n",
      "Epoch 6/50\n",
      "\u001b[1m268/268\u001b[0m \u001b[32m━━━━━━━━━━━━━━━━━━━━\u001b[0m\u001b[37m\u001b[0m \u001b[1m1s\u001b[0m 2ms/step - loss: 13295120.0000 - val_loss: 4992570.0000\n",
      "Epoch 7/50\n",
      "\u001b[1m268/268\u001b[0m \u001b[32m━━━━━━━━━━━━━━━━━━━━\u001b[0m\u001b[37m\u001b[0m \u001b[1m1s\u001b[0m 2ms/step - loss: 11513951.0000 - val_loss: 3594426.5000\n",
      "Epoch 8/50\n",
      "\u001b[1m268/268\u001b[0m \u001b[32m━━━━━━━━━━━━━━━━━━━━\u001b[0m\u001b[37m\u001b[0m \u001b[1m1s\u001b[0m 2ms/step - loss: 9810678.0000 - val_loss: 2750897.0000\n",
      "Epoch 9/50\n",
      "\u001b[1m268/268\u001b[0m \u001b[32m━━━━━━━━━━━━━━━━━━━━\u001b[0m\u001b[37m\u001b[0m \u001b[1m1s\u001b[0m 2ms/step - loss: 9997139.0000 - val_loss: 2106287.0000\n",
      "Epoch 10/50\n",
      "\u001b[1m268/268\u001b[0m \u001b[32m━━━━━━━━━━━━━━━━━━━━\u001b[0m\u001b[37m\u001b[0m \u001b[1m1s\u001b[0m 2ms/step - loss: 9285001.0000 - val_loss: 1843916.1250\n",
      "Epoch 11/50\n",
      "\u001b[1m268/268\u001b[0m \u001b[32m━━━━━━━━━━━━━━━━━━━━\u001b[0m\u001b[37m\u001b[0m \u001b[1m1s\u001b[0m 2ms/step - loss: 8676973.0000 - val_loss: 1483997.7500\n",
      "Epoch 12/50\n",
      "\u001b[1m268/268\u001b[0m \u001b[32m━━━━━━━━━━━━━━━━━━━━\u001b[0m\u001b[37m\u001b[0m \u001b[1m1s\u001b[0m 2ms/step - loss: 8436671.0000 - val_loss: 1353495.7500\n",
      "Epoch 13/50\n",
      "\u001b[1m268/268\u001b[0m \u001b[32m━━━━━━━━━━━━━━━━━━━━\u001b[0m\u001b[37m\u001b[0m \u001b[1m1s\u001b[0m 2ms/step - loss: 8614416.0000 - val_loss: 1126337.7500\n",
      "Epoch 14/50\n",
      "\u001b[1m268/268\u001b[0m \u001b[32m━━━━━━━━━━━━━━━━━━━━\u001b[0m\u001b[37m\u001b[0m \u001b[1m1s\u001b[0m 2ms/step - loss: 7750682.0000 - val_loss: 1048414.8750\n",
      "Epoch 15/50\n",
      "\u001b[1m268/268\u001b[0m \u001b[32m━━━━━━━━━━━━━━━━━━━━\u001b[0m\u001b[37m\u001b[0m \u001b[1m1s\u001b[0m 2ms/step - loss: 7774370.5000 - val_loss: 1259616.6250\n",
      "Epoch 16/50\n",
      "\u001b[1m268/268\u001b[0m \u001b[32m━━━━━━━━━━━━━━━━━━━━\u001b[0m\u001b[37m\u001b[0m \u001b[1m1s\u001b[0m 2ms/step - loss: 8157025.0000 - val_loss: 955482.1875\n",
      "Epoch 17/50\n",
      "\u001b[1m268/268\u001b[0m \u001b[32m━━━━━━━━━━━━━━━━━━━━\u001b[0m\u001b[37m\u001b[0m \u001b[1m1s\u001b[0m 2ms/step - loss: 7355504.5000 - val_loss: 740145.5000\n",
      "Epoch 18/50\n",
      "\u001b[1m268/268\u001b[0m \u001b[32m━━━━━━━━━━━━━━━━━━━━\u001b[0m\u001b[37m\u001b[0m \u001b[1m1s\u001b[0m 2ms/step - loss: 7735349.5000 - val_loss: 809873.8125\n",
      "Epoch 19/50\n",
      "\u001b[1m268/268\u001b[0m \u001b[32m━━━━━━━━━━━━━━━━━━━━\u001b[0m\u001b[37m\u001b[0m \u001b[1m1s\u001b[0m 2ms/step - loss: 7559173.0000 - val_loss: 816411.5000\n",
      "Epoch 20/50\n",
      "\u001b[1m268/268\u001b[0m \u001b[32m━━━━━━━━━━━━━━━━━━━━\u001b[0m\u001b[37m\u001b[0m \u001b[1m1s\u001b[0m 2ms/step - loss: 6996838.5000 - val_loss: 748350.5000\n",
      "Epoch 21/50\n",
      "\u001b[1m268/268\u001b[0m \u001b[32m━━━━━━━━━━━━━━━━━━━━\u001b[0m\u001b[37m\u001b[0m \u001b[1m1s\u001b[0m 2ms/step - loss: 7135267.0000 - val_loss: 676799.3125\n",
      "Epoch 22/50\n",
      "\u001b[1m268/268\u001b[0m \u001b[32m━━━━━━━━━━━━━━━━━━━━\u001b[0m\u001b[37m\u001b[0m \u001b[1m1s\u001b[0m 2ms/step - loss: 7056026.0000 - val_loss: 722841.7500\n",
      "Epoch 23/50\n",
      "\u001b[1m268/268\u001b[0m \u001b[32m━━━━━━━━━━━━━━━━━━━━\u001b[0m\u001b[37m\u001b[0m \u001b[1m1s\u001b[0m 2ms/step - loss: 7530792.0000 - val_loss: 571591.1250\n",
      "Epoch 24/50\n",
      "\u001b[1m268/268\u001b[0m \u001b[32m━━━━━━━━━━━━━━━━━━━━\u001b[0m\u001b[37m\u001b[0m \u001b[1m1s\u001b[0m 2ms/step - loss: 7266099.5000 - val_loss: 612960.8125\n",
      "Epoch 25/50\n",
      "\u001b[1m268/268\u001b[0m \u001b[32m━━━━━━━━━━━━━━━━━━━━\u001b[0m\u001b[37m\u001b[0m \u001b[1m1s\u001b[0m 2ms/step - loss: 7159747.0000 - val_loss: 605540.1875\n",
      "Epoch 26/50\n",
      "\u001b[1m268/268\u001b[0m \u001b[32m━━━━━━━━━━━━━━━━━━━━\u001b[0m\u001b[37m\u001b[0m \u001b[1m1s\u001b[0m 2ms/step - loss: 7614535.0000 - val_loss: 580063.1875\n",
      "Epoch 27/50\n",
      "\u001b[1m268/268\u001b[0m \u001b[32m━━━━━━━━━━━━━━━━━━━━\u001b[0m\u001b[37m\u001b[0m \u001b[1m1s\u001b[0m 2ms/step - loss: 7301196.5000 - val_loss: 564265.8125\n",
      "Epoch 28/50\n",
      "\u001b[1m268/268\u001b[0m \u001b[32m━━━━━━━━━━━━━━━━━━━━\u001b[0m\u001b[37m\u001b[0m \u001b[1m1s\u001b[0m 2ms/step - loss: 7329171.5000 - val_loss: 726651.3125\n",
      "Epoch 29/50\n",
      "\u001b[1m268/268\u001b[0m \u001b[32m━━━━━━━━━━━━━━━━━━━━\u001b[0m\u001b[37m\u001b[0m \u001b[1m1s\u001b[0m 2ms/step - loss: 6864008.5000 - val_loss: 520002.5000\n",
      "Epoch 30/50\n",
      "\u001b[1m268/268\u001b[0m \u001b[32m━━━━━━━━━━━━━━━━━━━━\u001b[0m\u001b[37m\u001b[0m \u001b[1m1s\u001b[0m 2ms/step - loss: 6916570.0000 - val_loss: 525285.8750\n",
      "Epoch 31/50\n",
      "\u001b[1m268/268\u001b[0m \u001b[32m━━━━━━━━━━━━━━━━━━━━\u001b[0m\u001b[37m\u001b[0m \u001b[1m1s\u001b[0m 2ms/step - loss: 7077478.5000 - val_loss: 612836.1250\n",
      "Epoch 32/50\n",
      "\u001b[1m268/268\u001b[0m \u001b[32m━━━━━━━━━━━━━━━━━━━━\u001b[0m\u001b[37m\u001b[0m \u001b[1m1s\u001b[0m 2ms/step - loss: 6939803.0000 - val_loss: 487171.4688\n",
      "Epoch 33/50\n",
      "\u001b[1m268/268\u001b[0m \u001b[32m━━━━━━━━━━━━━━━━━━━━\u001b[0m\u001b[37m\u001b[0m \u001b[1m1s\u001b[0m 2ms/step - loss: 7029013.5000 - val_loss: 386195.2812\n",
      "Epoch 34/50\n",
      "\u001b[1m268/268\u001b[0m \u001b[32m━━━━━━━━━━━━━━━━━━━━\u001b[0m\u001b[37m\u001b[0m \u001b[1m1s\u001b[0m 2ms/step - loss: 6823110.0000 - val_loss: 610852.8125\n",
      "Epoch 35/50\n",
      "\u001b[1m268/268\u001b[0m \u001b[32m━━━━━━━━━━━━━━━━━━━━\u001b[0m\u001b[37m\u001b[0m \u001b[1m1s\u001b[0m 2ms/step - loss: 6394618.5000 - val_loss: 543711.0625\n",
      "Epoch 36/50\n",
      "\u001b[1m268/268\u001b[0m \u001b[32m━━━━━━━━━━━━━━━━━━━━\u001b[0m\u001b[37m\u001b[0m \u001b[1m1s\u001b[0m 2ms/step - loss: 7277235.0000 - val_loss: 484637.0938\n",
      "Epoch 37/50\n",
      "\u001b[1m268/268\u001b[0m \u001b[32m━━━━━━━━━━━━━━━━━━━━\u001b[0m\u001b[37m\u001b[0m \u001b[1m1s\u001b[0m 2ms/step - loss: 6930512.5000 - val_loss: 376558.3750\n",
      "Epoch 38/50\n",
      "\u001b[1m268/268\u001b[0m \u001b[32m━━━━━━━━━━━━━━━━━━━━\u001b[0m\u001b[37m\u001b[0m \u001b[1m1s\u001b[0m 2ms/step - loss: 7462718.0000 - val_loss: 553363.1875\n",
      "Epoch 39/50\n",
      "\u001b[1m268/268\u001b[0m \u001b[32m━━━━━━━━━━━━━━━━━━━━\u001b[0m\u001b[37m\u001b[0m \u001b[1m1s\u001b[0m 2ms/step - loss: 6669046.5000 - val_loss: 367481.8438\n",
      "Epoch 40/50\n",
      "\u001b[1m268/268\u001b[0m \u001b[32m━━━━━━━━━━━━━━━━━━━━\u001b[0m\u001b[37m\u001b[0m \u001b[1m1s\u001b[0m 2ms/step - loss: 6832712.5000 - val_loss: 447009.4375\n",
      "Epoch 41/50\n",
      "\u001b[1m268/268\u001b[0m \u001b[32m━━━━━━━━━━━━━━━━━━━━\u001b[0m\u001b[37m\u001b[0m \u001b[1m1s\u001b[0m 2ms/step - loss: 6934143.0000 - val_loss: 493024.4688\n",
      "Epoch 42/50\n",
      "\u001b[1m268/268\u001b[0m \u001b[32m━━━━━━━━━━━━━━━━━━━━\u001b[0m\u001b[37m\u001b[0m \u001b[1m1s\u001b[0m 2ms/step - loss: 6996447.0000 - val_loss: 575690.1250\n",
      "Epoch 43/50\n",
      "\u001b[1m268/268\u001b[0m \u001b[32m━━━━━━━━━━━━━━━━━━━━\u001b[0m\u001b[37m\u001b[0m \u001b[1m1s\u001b[0m 2ms/step - loss: 6190246.0000 - val_loss: 471491.2500\n",
      "Epoch 44/50\n",
      "\u001b[1m268/268\u001b[0m \u001b[32m━━━━━━━━━━━━━━━━━━━━\u001b[0m\u001b[37m\u001b[0m \u001b[1m1s\u001b[0m 2ms/step - loss: 6929888.5000 - val_loss: 529800.0000\n",
      "Epoch 45/50\n",
      "\u001b[1m268/268\u001b[0m \u001b[32m━━━━━━━━━━━━━━━━━━━━\u001b[0m\u001b[37m\u001b[0m \u001b[1m1s\u001b[0m 2ms/step - loss: 6700860.0000 - val_loss: 464252.9375\n",
      "Epoch 46/50\n",
      "\u001b[1m268/268\u001b[0m \u001b[32m━━━━━━━━━━━━━━━━━━━━\u001b[0m\u001b[37m\u001b[0m \u001b[1m1s\u001b[0m 2ms/step - loss: 6705886.5000 - val_loss: 345242.5938\n",
      "Epoch 47/50\n",
      "\u001b[1m268/268\u001b[0m \u001b[32m━━━━━━━━━━━━━━━━━━━━\u001b[0m\u001b[37m\u001b[0m \u001b[1m1s\u001b[0m 2ms/step - loss: 6820902.5000 - val_loss: 518662.4062\n",
      "Epoch 48/50\n",
      "\u001b[1m268/268\u001b[0m \u001b[32m━━━━━━━━━━━━━━━━━━━━\u001b[0m\u001b[37m\u001b[0m \u001b[1m1s\u001b[0m 2ms/step - loss: 6656972.0000 - val_loss: 406735.2188\n",
      "Epoch 49/50\n",
      "\u001b[1m268/268\u001b[0m \u001b[32m━━━━━━━━━━━━━━━━━━━━\u001b[0m\u001b[37m\u001b[0m \u001b[1m1s\u001b[0m 2ms/step - loss: 6673192.0000 - val_loss: 542195.3750\n",
      "Epoch 50/50\n",
      "\u001b[1m268/268\u001b[0m \u001b[32m━━━━━━━━━━━━━━━━━━━━\u001b[0m\u001b[37m\u001b[0m \u001b[1m1s\u001b[0m 2ms/step - loss: 6370046.0000 - val_loss: 504102.7500\n"
     ]
    },
    {
     "data": {
      "text/plain": [
       "<keras.src.callbacks.history.History at 0x7e6ea81d6770>"
      ]
     },
     "execution_count": 14,
     "metadata": {},
     "output_type": "execute_result"
    }
   ],
   "source": [
    "X_train_rnn = X_train.reshape((X_train.shape[0], 1, X_train.shape[1]))  \n",
    "X_test_rnn = X_test.reshape((X_test.shape[0], 1, X_test.shape[1]))\n",
    "\n",
    "model_RNN = Sequential([\n",
    "    Input(shape=(X_train_rnn.shape[1], X_train_rnn.shape[2])),  \n",
    "    SimpleRNN(64, activation='relu'),\n",
    "    Dropout(0.5),\n",
    "    Dense(32, activation='relu'),\n",
    "    Dropout(0.5),\n",
    "    Dense(1)  \n",
    "])\n",
    "\n",
    "model_RNN.compile(optimizer='adam', loss='mean_squared_error')  \n",
    "model_RNN.fit(X_train_rnn, y_train, epochs=50, batch_size=32, validation_data=(X_test_rnn, y_test))"
   ]
  },
  {
   "cell_type": "code",
   "execution_count": 15,
   "id": "99c56f0f",
   "metadata": {
    "execution": {
     "iopub.execute_input": "2024-06-26T04:54:16.449408Z",
     "iopub.status.busy": "2024-06-26T04:54:16.448750Z",
     "iopub.status.idle": "2024-06-26T04:54:17.285456Z",
     "shell.execute_reply": "2024-06-26T04:54:17.284237Z"
    },
    "papermill": {
     "duration": 0.948362,
     "end_time": "2024-06-26T04:54:17.287702",
     "exception": false,
     "start_time": "2024-06-26T04:54:16.339340",
     "status": "completed"
    },
    "tags": []
   },
   "outputs": [
    {
     "name": "stdout",
     "output_type": "stream",
     "text": [
      "\u001b[1m39/67\u001b[0m \u001b[32m━━━━━━━━━━━\u001b[0m\u001b[37m━━━━━━━━━\u001b[0m \u001b[1m0s\u001b[0m 1ms/step   "
     ]
    },
    {
     "name": "stderr",
     "output_type": "stream",
     "text": [
      "W0000 00:00:1719377656.837871      79 graph_launch.cc:671] Fallback to op-by-op mode because memset node breaks graph update\n"
     ]
    },
    {
     "name": "stdout",
     "output_type": "stream",
     "text": [
      "\u001b[1m67/67\u001b[0m \u001b[32m━━━━━━━━━━━━━━━━━━━━\u001b[0m\u001b[37m\u001b[0m \u001b[1m1s\u001b[0m 6ms/step\n",
      "RMSE: 710.0019\n",
      "R²: 0.9762\n"
     ]
    }
   ],
   "source": [
    "rnn_y_pred = model_RNN.predict(X_test_rnn)\n",
    "rnn_rmse = mean_squared_error(y_test, rnn_y_pred, squared=False)\n",
    "rnn_r2 = r2_score(y_test, rnn_y_pred)\n",
    "\n",
    "print(f'RMSE: {rnn_rmse:.4f}')\n",
    "print(f'R²: {rnn_r2:.4f}')"
   ]
  },
  {
   "cell_type": "markdown",
   "id": "6afad0e8",
   "metadata": {
    "papermill": {
     "duration": 0.110801,
     "end_time": "2024-06-26T04:54:17.504886",
     "exception": false,
     "start_time": "2024-06-26T04:54:17.394085",
     "status": "completed"
    },
    "tags": []
   },
   "source": [
    "> ## 3. LSTM (Long Short-Term Memory)"
   ]
  },
  {
   "cell_type": "code",
   "execution_count": 16,
   "id": "1fde133b",
   "metadata": {
    "execution": {
     "iopub.execute_input": "2024-06-26T04:54:17.733292Z",
     "iopub.status.busy": "2024-06-26T04:54:17.732914Z",
     "iopub.status.idle": "2024-06-26T04:54:52.073949Z",
     "shell.execute_reply": "2024-06-26T04:54:52.072984Z"
    },
    "papermill": {
     "duration": 34.455003,
     "end_time": "2024-06-26T04:54:52.075999",
     "exception": false,
     "start_time": "2024-06-26T04:54:17.620996",
     "status": "completed"
    },
    "tags": []
   },
   "outputs": [
    {
     "name": "stdout",
     "output_type": "stream",
     "text": [
      "Epoch 1/50\n",
      "\u001b[1m268/268\u001b[0m \u001b[32m━━━━━━━━━━━━━━━━━━━━\u001b[0m\u001b[37m\u001b[0m \u001b[1m9s\u001b[0m 17ms/step - loss: 103330264.0000 - val_loss: 100557952.0000\n",
      "Epoch 2/50\n",
      "\u001b[1m268/268\u001b[0m \u001b[32m━━━━━━━━━━━━━━━━━━━━\u001b[0m\u001b[37m\u001b[0m \u001b[1m0s\u001b[0m 2ms/step - loss: 93319000.0000 - val_loss: 63040432.0000\n",
      "Epoch 3/50\n",
      "\u001b[1m268/268\u001b[0m \u001b[32m━━━━━━━━━━━━━━━━━━━━\u001b[0m\u001b[37m\u001b[0m \u001b[1m0s\u001b[0m 2ms/step - loss: 52196948.0000 - val_loss: 24445398.0000\n",
      "Epoch 4/50\n",
      "\u001b[1m268/268\u001b[0m \u001b[32m━━━━━━━━━━━━━━━━━━━━\u001b[0m\u001b[37m\u001b[0m \u001b[1m1s\u001b[0m 2ms/step - loss: 23313124.0000 - val_loss: 12234235.0000\n",
      "Epoch 5/50\n",
      "\u001b[1m268/268\u001b[0m \u001b[32m━━━━━━━━━━━━━━━━━━━━\u001b[0m\u001b[37m\u001b[0m \u001b[1m0s\u001b[0m 2ms/step - loss: 15767514.0000 - val_loss: 7506256.5000\n",
      "Epoch 6/50\n",
      "\u001b[1m268/268\u001b[0m \u001b[32m━━━━━━━━━━━━━━━━━━━━\u001b[0m\u001b[37m\u001b[0m \u001b[1m0s\u001b[0m 2ms/step - loss: 12491794.0000 - val_loss: 5240673.0000\n",
      "Epoch 7/50\n",
      "\u001b[1m268/268\u001b[0m \u001b[32m━━━━━━━━━━━━━━━━━━━━\u001b[0m\u001b[37m\u001b[0m \u001b[1m1s\u001b[0m 2ms/step - loss: 11241796.0000 - val_loss: 3875835.0000\n",
      "Epoch 8/50\n",
      "\u001b[1m268/268\u001b[0m \u001b[32m━━━━━━━━━━━━━━━━━━━━\u001b[0m\u001b[37m\u001b[0m \u001b[1m1s\u001b[0m 2ms/step - loss: 9526123.0000 - val_loss: 2876196.2500\n",
      "Epoch 9/50\n",
      "\u001b[1m268/268\u001b[0m \u001b[32m━━━━━━━━━━━━━━━━━━━━\u001b[0m\u001b[37m\u001b[0m \u001b[1m1s\u001b[0m 2ms/step - loss: 9298680.0000 - val_loss: 2304086.2500\n",
      "Epoch 10/50\n",
      "\u001b[1m268/268\u001b[0m \u001b[32m━━━━━━━━━━━━━━━━━━━━\u001b[0m\u001b[37m\u001b[0m \u001b[1m1s\u001b[0m 2ms/step - loss: 9118310.0000 - val_loss: 1871019.3750\n",
      "Epoch 11/50\n",
      "\u001b[1m268/268\u001b[0m \u001b[32m━━━━━━━━━━━━━━━━━━━━\u001b[0m\u001b[37m\u001b[0m \u001b[1m1s\u001b[0m 2ms/step - loss: 8131541.5000 - val_loss: 1705128.0000\n",
      "Epoch 12/50\n",
      "\u001b[1m268/268\u001b[0m \u001b[32m━━━━━━━━━━━━━━━━━━━━\u001b[0m\u001b[37m\u001b[0m \u001b[1m1s\u001b[0m 2ms/step - loss: 8196303.0000 - val_loss: 1499955.1250\n",
      "Epoch 13/50\n",
      "\u001b[1m268/268\u001b[0m \u001b[32m━━━━━━━━━━━━━━━━━━━━\u001b[0m\u001b[37m\u001b[0m \u001b[1m1s\u001b[0m 2ms/step - loss: 7906489.0000 - val_loss: 1155979.7500\n",
      "Epoch 14/50\n",
      "\u001b[1m268/268\u001b[0m \u001b[32m━━━━━━━━━━━━━━━━━━━━\u001b[0m\u001b[37m\u001b[0m \u001b[1m1s\u001b[0m 2ms/step - loss: 7735596.5000 - val_loss: 1136165.3750\n",
      "Epoch 15/50\n",
      "\u001b[1m268/268\u001b[0m \u001b[32m━━━━━━━━━━━━━━━━━━━━\u001b[0m\u001b[37m\u001b[0m \u001b[1m1s\u001b[0m 2ms/step - loss: 7587495.5000 - val_loss: 962096.9375\n",
      "Epoch 16/50\n",
      "\u001b[1m268/268\u001b[0m \u001b[32m━━━━━━━━━━━━━━━━━━━━\u001b[0m\u001b[37m\u001b[0m \u001b[1m1s\u001b[0m 2ms/step - loss: 7292384.5000 - val_loss: 852121.3125\n",
      "Epoch 17/50\n",
      "\u001b[1m268/268\u001b[0m \u001b[32m━━━━━━━━━━━━━━━━━━━━\u001b[0m\u001b[37m\u001b[0m \u001b[1m1s\u001b[0m 2ms/step - loss: 7671229.0000 - val_loss: 950791.2500\n",
      "Epoch 18/50\n",
      "\u001b[1m268/268\u001b[0m \u001b[32m━━━━━━━━━━━━━━━━━━━━\u001b[0m\u001b[37m\u001b[0m \u001b[1m0s\u001b[0m 2ms/step - loss: 7331740.0000 - val_loss: 962639.9375\n",
      "Epoch 19/50\n",
      "\u001b[1m268/268\u001b[0m \u001b[32m━━━━━━━━━━━━━━━━━━━━\u001b[0m\u001b[37m\u001b[0m \u001b[1m0s\u001b[0m 2ms/step - loss: 7239754.5000 - val_loss: 680242.7500\n",
      "Epoch 20/50\n",
      "\u001b[1m268/268\u001b[0m \u001b[32m━━━━━━━━━━━━━━━━━━━━\u001b[0m\u001b[37m\u001b[0m \u001b[1m1s\u001b[0m 2ms/step - loss: 7247890.5000 - val_loss: 848016.0000\n",
      "Epoch 21/50\n",
      "\u001b[1m268/268\u001b[0m \u001b[32m━━━━━━━━━━━━━━━━━━━━\u001b[0m\u001b[37m\u001b[0m \u001b[1m0s\u001b[0m 2ms/step - loss: 7400995.5000 - val_loss: 717931.8750\n",
      "Epoch 22/50\n",
      "\u001b[1m268/268\u001b[0m \u001b[32m━━━━━━━━━━━━━━━━━━━━\u001b[0m\u001b[37m\u001b[0m \u001b[1m0s\u001b[0m 2ms/step - loss: 7240869.0000 - val_loss: 714057.5000\n",
      "Epoch 23/50\n",
      "\u001b[1m268/268\u001b[0m \u001b[32m━━━━━━━━━━━━━━━━━━━━\u001b[0m\u001b[37m\u001b[0m \u001b[1m0s\u001b[0m 2ms/step - loss: 6867975.5000 - val_loss: 496541.8125\n",
      "Epoch 24/50\n",
      "\u001b[1m268/268\u001b[0m \u001b[32m━━━━━━━━━━━━━━━━━━━━\u001b[0m\u001b[37m\u001b[0m \u001b[1m0s\u001b[0m 2ms/step - loss: 7658673.0000 - val_loss: 579240.6250\n",
      "Epoch 25/50\n",
      "\u001b[1m268/268\u001b[0m \u001b[32m━━━━━━━━━━━━━━━━━━━━\u001b[0m\u001b[37m\u001b[0m \u001b[1m0s\u001b[0m 2ms/step - loss: 6880098.0000 - val_loss: 553240.2500\n",
      "Epoch 26/50\n",
      "\u001b[1m268/268\u001b[0m \u001b[32m━━━━━━━━━━━━━━━━━━━━\u001b[0m\u001b[37m\u001b[0m \u001b[1m0s\u001b[0m 2ms/step - loss: 6668707.0000 - val_loss: 480571.6875\n",
      "Epoch 27/50\n",
      "\u001b[1m268/268\u001b[0m \u001b[32m━━━━━━━━━━━━━━━━━━━━\u001b[0m\u001b[37m\u001b[0m \u001b[1m0s\u001b[0m 2ms/step - loss: 7162267.5000 - val_loss: 505211.5625\n",
      "Epoch 28/50\n",
      "\u001b[1m268/268\u001b[0m \u001b[32m━━━━━━━━━━━━━━━━━━━━\u001b[0m\u001b[37m\u001b[0m \u001b[1m0s\u001b[0m 2ms/step - loss: 6868318.0000 - val_loss: 609918.8125\n",
      "Epoch 29/50\n",
      "\u001b[1m268/268\u001b[0m \u001b[32m━━━━━━━━━━━━━━━━━━━━\u001b[0m\u001b[37m\u001b[0m \u001b[1m0s\u001b[0m 2ms/step - loss: 6524869.5000 - val_loss: 500304.7500\n",
      "Epoch 30/50\n",
      "\u001b[1m268/268\u001b[0m \u001b[32m━━━━━━━━━━━━━━━━━━━━\u001b[0m\u001b[37m\u001b[0m \u001b[1m0s\u001b[0m 2ms/step - loss: 6900429.0000 - val_loss: 571226.0000\n",
      "Epoch 31/50\n",
      "\u001b[1m268/268\u001b[0m \u001b[32m━━━━━━━━━━━━━━━━━━━━\u001b[0m\u001b[37m\u001b[0m \u001b[1m0s\u001b[0m 2ms/step - loss: 6536485.5000 - val_loss: 511270.5625\n",
      "Epoch 32/50\n",
      "\u001b[1m268/268\u001b[0m \u001b[32m━━━━━━━━━━━━━━━━━━━━\u001b[0m\u001b[37m\u001b[0m \u001b[1m0s\u001b[0m 2ms/step - loss: 6357498.5000 - val_loss: 556845.0000\n",
      "Epoch 33/50\n",
      "\u001b[1m268/268\u001b[0m \u001b[32m━━━━━━━━━━━━━━━━━━━━\u001b[0m\u001b[37m\u001b[0m \u001b[1m0s\u001b[0m 2ms/step - loss: 6912388.5000 - val_loss: 579600.4375\n",
      "Epoch 34/50\n",
      "\u001b[1m268/268\u001b[0m \u001b[32m━━━━━━━━━━━━━━━━━━━━\u001b[0m\u001b[37m\u001b[0m \u001b[1m0s\u001b[0m 2ms/step - loss: 6715370.0000 - val_loss: 429210.8438\n",
      "Epoch 35/50\n",
      "\u001b[1m268/268\u001b[0m \u001b[32m━━━━━━━━━━━━━━━━━━━━\u001b[0m\u001b[37m\u001b[0m \u001b[1m0s\u001b[0m 2ms/step - loss: 6864856.5000 - val_loss: 425063.8125\n",
      "Epoch 36/50\n",
      "\u001b[1m268/268\u001b[0m \u001b[32m━━━━━━━━━━━━━━━━━━━━\u001b[0m\u001b[37m\u001b[0m \u001b[1m0s\u001b[0m 2ms/step - loss: 6564732.5000 - val_loss: 388349.1562\n",
      "Epoch 37/50\n",
      "\u001b[1m268/268\u001b[0m \u001b[32m━━━━━━━━━━━━━━━━━━━━\u001b[0m\u001b[37m\u001b[0m \u001b[1m0s\u001b[0m 2ms/step - loss: 6596183.5000 - val_loss: 440976.5000\n",
      "Epoch 38/50\n",
      "\u001b[1m268/268\u001b[0m \u001b[32m━━━━━━━━━━━━━━━━━━━━\u001b[0m\u001b[37m\u001b[0m \u001b[1m1s\u001b[0m 2ms/step - loss: 6484195.5000 - val_loss: 498494.6250\n",
      "Epoch 39/50\n",
      "\u001b[1m268/268\u001b[0m \u001b[32m━━━━━━━━━━━━━━━━━━━━\u001b[0m\u001b[37m\u001b[0m \u001b[1m1s\u001b[0m 2ms/step - loss: 6110950.0000 - val_loss: 472302.1562\n",
      "Epoch 40/50\n",
      "\u001b[1m268/268\u001b[0m \u001b[32m━━━━━━━━━━━━━━━━━━━━\u001b[0m\u001b[37m\u001b[0m \u001b[1m1s\u001b[0m 2ms/step - loss: 6689662.5000 - val_loss: 488596.6875\n",
      "Epoch 41/50\n",
      "\u001b[1m268/268\u001b[0m \u001b[32m━━━━━━━━━━━━━━━━━━━━\u001b[0m\u001b[37m\u001b[0m \u001b[1m1s\u001b[0m 2ms/step - loss: 6913559.0000 - val_loss: 338793.7188\n",
      "Epoch 42/50\n",
      "\u001b[1m268/268\u001b[0m \u001b[32m━━━━━━━━━━━━━━━━━━━━\u001b[0m\u001b[37m\u001b[0m \u001b[1m1s\u001b[0m 2ms/step - loss: 6455652.0000 - val_loss: 388000.6562\n",
      "Epoch 43/50\n",
      "\u001b[1m268/268\u001b[0m \u001b[32m━━━━━━━━━━━━━━━━━━━━\u001b[0m\u001b[37m\u001b[0m \u001b[1m1s\u001b[0m 2ms/step - loss: 6363549.0000 - val_loss: 384763.5625\n",
      "Epoch 44/50\n",
      "\u001b[1m268/268\u001b[0m \u001b[32m━━━━━━━━━━━━━━━━━━━━\u001b[0m\u001b[37m\u001b[0m \u001b[1m1s\u001b[0m 2ms/step - loss: 6340664.5000 - val_loss: 384675.2188\n",
      "Epoch 45/50\n",
      "\u001b[1m268/268\u001b[0m \u001b[32m━━━━━━━━━━━━━━━━━━━━\u001b[0m\u001b[37m\u001b[0m \u001b[1m1s\u001b[0m 2ms/step - loss: 6140804.5000 - val_loss: 316893.4062\n",
      "Epoch 46/50\n",
      "\u001b[1m268/268\u001b[0m \u001b[32m━━━━━━━━━━━━━━━━━━━━\u001b[0m\u001b[37m\u001b[0m \u001b[1m1s\u001b[0m 2ms/step - loss: 6475283.0000 - val_loss: 400469.6562\n",
      "Epoch 47/50\n",
      "\u001b[1m268/268\u001b[0m \u001b[32m━━━━━━━━━━━━━━━━━━━━\u001b[0m\u001b[37m\u001b[0m \u001b[1m1s\u001b[0m 2ms/step - loss: 6574965.0000 - val_loss: 548528.8125\n",
      "Epoch 48/50\n",
      "\u001b[1m268/268\u001b[0m \u001b[32m━━━━━━━━━━━━━━━━━━━━\u001b[0m\u001b[37m\u001b[0m \u001b[1m1s\u001b[0m 2ms/step - loss: 6706803.0000 - val_loss: 398934.0000\n",
      "Epoch 49/50\n",
      "\u001b[1m268/268\u001b[0m \u001b[32m━━━━━━━━━━━━━━━━━━━━\u001b[0m\u001b[37m\u001b[0m \u001b[1m1s\u001b[0m 2ms/step - loss: 6202989.0000 - val_loss: 255855.3438\n",
      "Epoch 50/50\n",
      "\u001b[1m268/268\u001b[0m \u001b[32m━━━━━━━━━━━━━━━━━━━━\u001b[0m\u001b[37m\u001b[0m \u001b[1m1s\u001b[0m 2ms/step - loss: 6195219.0000 - val_loss: 343048.9688\n"
     ]
    },
    {
     "data": {
      "text/plain": [
       "<keras.src.callbacks.history.History at 0x7e6ea034e4d0>"
      ]
     },
     "execution_count": 16,
     "metadata": {},
     "output_type": "execute_result"
    }
   ],
   "source": [
    "X_train_lstm = X_train.reshape((X_train.shape[0], 1, X_train.shape[1])) \n",
    "X_test_lstm = X_test.reshape((X_test.shape[0], 1, X_test.shape[1]))\n",
    "\n",
    "model_LSTM = Sequential([\n",
    "    Input(shape=(X_train_lstm.shape[1], X_train_lstm.shape[2])),  \n",
    "    LSTM(64, activation='relu'),\n",
    "    Dropout(0.5),\n",
    "    Dense(32, activation='relu'),\n",
    "    Dropout(0.5),\n",
    "    Dense(1)  \n",
    "])\n",
    "\n",
    "model_LSTM.compile(optimizer='adam', loss='mean_squared_error')  \n",
    "model_LSTM.fit(X_train_lstm, y_train, epochs=50, batch_size=32, validation_data=(X_test_lstm, y_test))"
   ]
  },
  {
   "cell_type": "code",
   "execution_count": 17,
   "id": "7be71bfe",
   "metadata": {
    "execution": {
     "iopub.execute_input": "2024-06-26T04:54:52.372392Z",
     "iopub.status.busy": "2024-06-26T04:54:52.372007Z",
     "iopub.status.idle": "2024-06-26T04:54:53.289991Z",
     "shell.execute_reply": "2024-06-26T04:54:53.288576Z"
    },
    "papermill": {
     "duration": 1.065003,
     "end_time": "2024-06-26T04:54:53.292292",
     "exception": false,
     "start_time": "2024-06-26T04:54:52.227289",
     "status": "completed"
    },
    "tags": []
   },
   "outputs": [
    {
     "name": "stdout",
     "output_type": "stream",
     "text": [
      "\u001b[1m67/67\u001b[0m \u001b[32m━━━━━━━━━━━━━━━━━━━━\u001b[0m\u001b[37m\u001b[0m \u001b[1m1s\u001b[0m 7ms/step\n",
      "RMSE: 585.7038\n",
      "R²: 0.9838\n"
     ]
    }
   ],
   "source": [
    "lstm_y_pred = model_LSTM.predict(X_test_lstm)\n",
    "lstm_rmse = mean_squared_error(y_test, lstm_y_pred, squared=False)\n",
    "lstm_r2 = r2_score(y_test, lstm_y_pred)  \n",
    "\n",
    "print(f'RMSE: {lstm_rmse:.4f}')\n",
    "print(f'R²: {lstm_r2:.4f}')"
   ]
  },
  {
   "cell_type": "markdown",
   "id": "9b1282c0",
   "metadata": {
    "papermill": {
     "duration": 0.15507,
     "end_time": "2024-06-26T04:54:53.615618",
     "exception": false,
     "start_time": "2024-06-26T04:54:53.460548",
     "status": "completed"
    },
    "tags": []
   },
   "source": [
    "# Conclusion"
   ]
  },
  {
   "cell_type": "code",
   "execution_count": 18,
   "id": "372525de",
   "metadata": {
    "execution": {
     "iopub.execute_input": "2024-06-26T04:54:53.908366Z",
     "iopub.status.busy": "2024-06-26T04:54:53.907455Z",
     "iopub.status.idle": "2024-06-26T04:55:04.505932Z",
     "shell.execute_reply": "2024-06-26T04:55:04.504830Z"
    },
    "papermill": {
     "duration": 10.746598,
     "end_time": "2024-06-26T04:55:04.508482",
     "exception": false,
     "start_time": "2024-06-26T04:54:53.761884",
     "status": "completed"
    },
    "tags": []
   },
   "outputs": [
    {
     "name": "stdout",
     "output_type": "stream",
     "text": [
      "\n",
      "Machine Learning\n",
      "\n",
      "[LightGBM] [Info] Auto-choosing col-wise multi-threading, the overhead of testing was 0.002563 seconds.\n",
      "You can set `force_col_wise=true` to remove the overhead.\n",
      "[LightGBM] [Info] Total Bins 200\n",
      "[LightGBM] [Info] Number of data points in the train set: 8546, number of used features: 25\n",
      "[LightGBM] [Info] Start training from score 9074.827873\n"
     ]
    },
    {
     "data": {
      "text/html": [
       "<div>\n",
       "<style scoped>\n",
       "    .dataframe tbody tr th:only-of-type {\n",
       "        vertical-align: middle;\n",
       "    }\n",
       "\n",
       "    .dataframe tbody tr th {\n",
       "        vertical-align: top;\n",
       "    }\n",
       "\n",
       "    .dataframe thead th {\n",
       "        text-align: right;\n",
       "    }\n",
       "</style>\n",
       "<table border=\"1\" class=\"dataframe\">\n",
       "  <thead>\n",
       "    <tr style=\"text-align: right;\">\n",
       "      <th></th>\n",
       "      <th>Model</th>\n",
       "      <th>RMSE</th>\n",
       "      <th>R²</th>\n",
       "    </tr>\n",
       "  </thead>\n",
       "  <tbody>\n",
       "    <tr>\n",
       "      <th>0</th>\n",
       "      <td>Linear Regression</td>\n",
       "      <td>2855.868946</td>\n",
       "      <td>0.614629</td>\n",
       "    </tr>\n",
       "    <tr>\n",
       "      <th>1</th>\n",
       "      <td>Ridge Regression</td>\n",
       "      <td>2854.694163</td>\n",
       "      <td>0.614946</td>\n",
       "    </tr>\n",
       "    <tr>\n",
       "      <th>2</th>\n",
       "      <td>Lasso Regression</td>\n",
       "      <td>2854.729643</td>\n",
       "      <td>0.614936</td>\n",
       "    </tr>\n",
       "    <tr>\n",
       "      <th>3</th>\n",
       "      <td>ElasticNet</td>\n",
       "      <td>3004.505615</td>\n",
       "      <td>0.573471</td>\n",
       "    </tr>\n",
       "    <tr>\n",
       "      <th>4</th>\n",
       "      <td>Decision Tree Regressor</td>\n",
       "      <td>2496.175476</td>\n",
       "      <td>0.705590</td>\n",
       "    </tr>\n",
       "    <tr>\n",
       "      <th>5</th>\n",
       "      <td>Random Forest Regressor</td>\n",
       "      <td>2128.568050</td>\n",
       "      <td>0.785919</td>\n",
       "    </tr>\n",
       "    <tr>\n",
       "      <th>6</th>\n",
       "      <td>Support Vector Machine Regressor</td>\n",
       "      <td>4475.604197</td>\n",
       "      <td>0.053531</td>\n",
       "    </tr>\n",
       "    <tr>\n",
       "      <th>7</th>\n",
       "      <td>K-Nearest Neighbors Regressor</td>\n",
       "      <td>2210.296098</td>\n",
       "      <td>0.769164</td>\n",
       "    </tr>\n",
       "    <tr>\n",
       "      <th>8</th>\n",
       "      <td>Gradient Boosting Regressor</td>\n",
       "      <td>2198.302366</td>\n",
       "      <td>0.771662</td>\n",
       "    </tr>\n",
       "    <tr>\n",
       "      <th>9</th>\n",
       "      <td>XGBoost Regressor</td>\n",
       "      <td>1735.964124</td>\n",
       "      <td>0.857608</td>\n",
       "    </tr>\n",
       "    <tr>\n",
       "      <th>10</th>\n",
       "      <td>LightGBM Regressor</td>\n",
       "      <td>1960.608340</td>\n",
       "      <td>0.818371</td>\n",
       "    </tr>\n",
       "  </tbody>\n",
       "</table>\n",
       "</div>"
      ],
      "text/plain": [
       "                               Model         RMSE        R²\n",
       "0                  Linear Regression  2855.868946  0.614629\n",
       "1                   Ridge Regression  2854.694163  0.614946\n",
       "2                   Lasso Regression  2854.729643  0.614936\n",
       "3                         ElasticNet  3004.505615  0.573471\n",
       "4            Decision Tree Regressor  2496.175476  0.705590\n",
       "5            Random Forest Regressor  2128.568050  0.785919\n",
       "6   Support Vector Machine Regressor  4475.604197  0.053531\n",
       "7      K-Nearest Neighbors Regressor  2210.296098  0.769164\n",
       "8        Gradient Boosting Regressor  2198.302366  0.771662\n",
       "9                  XGBoost Regressor  1735.964124  0.857608\n",
       "10                LightGBM Regressor  1960.608340  0.818371"
      ]
     },
     "execution_count": 18,
     "metadata": {},
     "output_type": "execute_result"
    }
   ],
   "source": [
    "print('\\nMachine Learning\\n')\n",
    "evaluate_models_all(X,y)"
   ]
  },
  {
   "cell_type": "code",
   "execution_count": 19,
   "id": "3e5dd87b",
   "metadata": {
    "execution": {
     "iopub.execute_input": "2024-06-26T04:55:04.815252Z",
     "iopub.status.busy": "2024-06-26T04:55:04.814611Z",
     "iopub.status.idle": "2024-06-26T04:55:04.827454Z",
     "shell.execute_reply": "2024-06-26T04:55:04.826461Z"
    },
    "papermill": {
     "duration": 0.161265,
     "end_time": "2024-06-26T04:55:04.829815",
     "exception": false,
     "start_time": "2024-06-26T04:55:04.668550",
     "status": "completed"
    },
    "tags": []
   },
   "outputs": [
    {
     "name": "stdout",
     "output_type": "stream",
     "text": [
      "\n",
      "Deep Learning\n",
      "\n"
     ]
    },
    {
     "data": {
      "text/html": [
       "<div>\n",
       "<style scoped>\n",
       "    .dataframe tbody tr th:only-of-type {\n",
       "        vertical-align: middle;\n",
       "    }\n",
       "\n",
       "    .dataframe tbody tr th {\n",
       "        vertical-align: top;\n",
       "    }\n",
       "\n",
       "    .dataframe thead th {\n",
       "        text-align: right;\n",
       "    }\n",
       "</style>\n",
       "<table border=\"1\" class=\"dataframe\">\n",
       "  <thead>\n",
       "    <tr style=\"text-align: right;\">\n",
       "      <th></th>\n",
       "      <th>Model</th>\n",
       "      <th>RMSE</th>\n",
       "      <th>R²</th>\n",
       "    </tr>\n",
       "  </thead>\n",
       "  <tbody>\n",
       "    <tr>\n",
       "      <th>0</th>\n",
       "      <td>Multi-Layer Perceptron</td>\n",
       "      <td>707.416074</td>\n",
       "      <td>0.976354</td>\n",
       "    </tr>\n",
       "    <tr>\n",
       "      <th>1</th>\n",
       "      <td>Recurrent Neural Network</td>\n",
       "      <td>710.001866</td>\n",
       "      <td>0.976181</td>\n",
       "    </tr>\n",
       "    <tr>\n",
       "      <th>2</th>\n",
       "      <td>Long Short-Term Memory</td>\n",
       "      <td>585.703819</td>\n",
       "      <td>0.983791</td>\n",
       "    </tr>\n",
       "  </tbody>\n",
       "</table>\n",
       "</div>"
      ],
      "text/plain": [
       "                      Model        RMSE        R²\n",
       "0    Multi-Layer Perceptron  707.416074  0.976354\n",
       "1  Recurrent Neural Network  710.001866  0.976181\n",
       "2    Long Short-Term Memory  585.703819  0.983791"
      ]
     },
     "execution_count": 19,
     "metadata": {},
     "output_type": "execute_result"
    }
   ],
   "source": [
    "results_df = pd.DataFrame({\n",
    "    'Model': ['Multi-Layer Perceptron', 'Recurrent Neural Network', 'Long Short-Term Memory'],\n",
    "    'RMSE': [mlp_rmse, rnn_rmse, lstm_rmse],\n",
    "    'R²': [mlp_r2, rnn_r2, lstm_r2]\n",
    "})\n",
    "print('\\nDeep Learning\\n')\n",
    "results_df"
   ]
  },
  {
   "cell_type": "markdown",
   "id": "acb90fb0",
   "metadata": {
    "papermill": {
     "duration": 0.146261,
     "end_time": "2024-06-26T04:55:05.124183",
     "exception": false,
     "start_time": "2024-06-26T04:55:04.977922",
     "status": "completed"
    },
    "tags": []
   },
   "source": [
    "# Thanks"
   ]
  }
 ],
 "metadata": {
  "kaggle": {
   "accelerator": "nvidiaTeslaT4",
   "dataSources": [
    {
     "datasetId": 5131123,
     "sourceId": 8579956,
     "sourceType": "datasetVersion"
    }
   ],
   "dockerImageVersionId": 30733,
   "isGpuEnabled": true,
   "isInternetEnabled": true,
   "language": "python",
   "sourceType": "notebook"
  },
  "kernelspec": {
   "display_name": "Python 3",
   "language": "python",
   "name": "python3"
  },
  "language_info": {
   "codemirror_mode": {
    "name": "ipython",
    "version": 3
   },
   "file_extension": ".py",
   "mimetype": "text/x-python",
   "name": "python",
   "nbconvert_exporter": "python",
   "pygments_lexer": "ipython3",
   "version": "3.10.13"
  },
  "papermill": {
   "default_parameters": {},
   "duration": 160.266896,
   "end_time": "2024-06-26T04:55:08.598501",
   "environment_variables": {},
   "exception": null,
   "input_path": "__notebook__.ipynb",
   "output_path": "__notebook__.ipynb",
   "parameters": {},
   "start_time": "2024-06-26T04:52:28.331605",
   "version": "2.5.0"
  }
 },
 "nbformat": 4,
 "nbformat_minor": 5
}
