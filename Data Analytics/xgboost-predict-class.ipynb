{
 "cells": [
  {
   "cell_type": "markdown",
   "id": "e1a1f00e",
   "metadata": {
    "papermill": {
     "duration": 0.007913,
     "end_time": "2024-04-16T12:06:12.756831",
     "exception": false,
     "start_time": "2024-04-16T12:06:12.748918",
     "status": "completed"
    },
    "tags": []
   },
   "source": [
    "# *Project : predict \"class\"*"
   ]
  },
  {
   "cell_type": "markdown",
   "id": "f4b9450a",
   "metadata": {
    "papermill": {
     "duration": 0.007014,
     "end_time": "2024-04-16T12:06:12.771396",
     "exception": false,
     "start_time": "2024-04-16T12:06:12.764382",
     "status": "completed"
    },
    "tags": []
   },
   "source": [
    "> # Import Libraries & Read Dataset"
   ]
  },
  {
   "cell_type": "code",
   "execution_count": 1,
   "id": "2dbeac97",
   "metadata": {
    "execution": {
     "iopub.execute_input": "2024-04-16T12:06:12.788407Z",
     "iopub.status.busy": "2024-04-16T12:06:12.787685Z",
     "iopub.status.idle": "2024-04-16T12:06:13.071526Z",
     "shell.execute_reply": "2024-04-16T12:06:13.070333Z"
    },
    "papermill": {
     "duration": 0.295532,
     "end_time": "2024-04-16T12:06:13.074367",
     "exception": false,
     "start_time": "2024-04-16T12:06:12.778835",
     "status": "completed"
    },
    "tags": []
   },
   "outputs": [],
   "source": [
    "import requests\n",
    "\n",
    "url = 'https://raw.githubusercontent.com/lko9911/Kaggle/master/Compare_Classifier_models.py'\n",
    "\n",
    "r = requests.get(url)\n",
    "\n",
    "with open('Compare_Classifier_models.py', 'w') as f:\n",
    "    f.write(r.text)"
   ]
  },
  {
   "cell_type": "code",
   "execution_count": 2,
   "id": "a92f48c6",
   "metadata": {
    "execution": {
     "iopub.execute_input": "2024-04-16T12:06:13.091208Z",
     "iopub.status.busy": "2024-04-16T12:06:13.090757Z",
     "iopub.status.idle": "2024-04-16T12:06:18.036567Z",
     "shell.execute_reply": "2024-04-16T12:06:18.035333Z"
    },
    "papermill": {
     "duration": 4.959338,
     "end_time": "2024-04-16T12:06:18.041175",
     "exception": false,
     "start_time": "2024-04-16T12:06:13.081837",
     "status": "completed"
    },
    "tags": []
   },
   "outputs": [],
   "source": [
    "# For Compare modeling\n",
    "from Compare_Classifier_models import evaluate_models\n",
    "\n",
    "# For modeling\n",
    "from xgboost import XGBClassifier\n",
    "from sklearn.preprocessing import StandardScaler\n",
    "from sklearn.model_selection import GridSearchCV\n",
    "from sklearn.pipeline import Pipeline\n",
    "from sklearn.datasets import load_iris\n",
    "\n",
    "# For \n",
    "from sklearn.metrics import accuracy_score, classification_report\n",
    "from sklearn.model_selection import train_test_split\n",
    "\n",
    "# For EDA\n",
    "import pandas as pd\n",
    "import numpy as np\n",
    "import matplotlib.pyplot as plt\n",
    "import seaborn as sns\n",
    "import warnings\n",
    "warnings.filterwarnings(\"ignore\", category=FutureWarning)"
   ]
  },
  {
   "cell_type": "code",
   "execution_count": 3,
   "id": "862b5819",
   "metadata": {
    "execution": {
     "iopub.execute_input": "2024-04-16T12:06:18.064040Z",
     "iopub.status.busy": "2024-04-16T12:06:18.063325Z",
     "iopub.status.idle": "2024-04-16T12:06:18.427064Z",
     "shell.execute_reply": "2024-04-16T12:06:18.425794Z"
    },
    "papermill": {
     "duration": 0.377109,
     "end_time": "2024-04-16T12:06:18.429703",
     "exception": false,
     "start_time": "2024-04-16T12:06:18.052594",
     "status": "completed"
    },
    "tags": []
   },
   "outputs": [
    {
     "data": {
      "text/html": [
       "<div>\n",
       "<style scoped>\n",
       "    .dataframe tbody tr th:only-of-type {\n",
       "        vertical-align: middle;\n",
       "    }\n",
       "\n",
       "    .dataframe tbody tr th {\n",
       "        vertical-align: top;\n",
       "    }\n",
       "\n",
       "    .dataframe thead th {\n",
       "        text-align: right;\n",
       "    }\n",
       "</style>\n",
       "<table border=\"1\" class=\"dataframe\">\n",
       "  <thead>\n",
       "    <tr style=\"text-align: right;\">\n",
       "      <th></th>\n",
       "      <th>class</th>\n",
       "      <th>cap-diameter</th>\n",
       "      <th>cap-shape</th>\n",
       "      <th>cap-surface</th>\n",
       "      <th>cap-color</th>\n",
       "      <th>does-bruise-or-bleed</th>\n",
       "      <th>gill-attachment</th>\n",
       "      <th>gill-spacing</th>\n",
       "      <th>gill-color</th>\n",
       "      <th>stem-height</th>\n",
       "      <th>...</th>\n",
       "      <th>stem-root</th>\n",
       "      <th>stem-surface</th>\n",
       "      <th>stem-color</th>\n",
       "      <th>veil-type</th>\n",
       "      <th>veil-color</th>\n",
       "      <th>has-ring</th>\n",
       "      <th>ring-type</th>\n",
       "      <th>spore-print-color</th>\n",
       "      <th>habitat</th>\n",
       "      <th>season</th>\n",
       "    </tr>\n",
       "  </thead>\n",
       "  <tbody>\n",
       "    <tr>\n",
       "      <th>0</th>\n",
       "      <td>p</td>\n",
       "      <td>15.26</td>\n",
       "      <td>x</td>\n",
       "      <td>g</td>\n",
       "      <td>o</td>\n",
       "      <td>f</td>\n",
       "      <td>e</td>\n",
       "      <td>NaN</td>\n",
       "      <td>w</td>\n",
       "      <td>16.95</td>\n",
       "      <td>...</td>\n",
       "      <td>s</td>\n",
       "      <td>y</td>\n",
       "      <td>w</td>\n",
       "      <td>u</td>\n",
       "      <td>w</td>\n",
       "      <td>t</td>\n",
       "      <td>g</td>\n",
       "      <td>NaN</td>\n",
       "      <td>d</td>\n",
       "      <td>w</td>\n",
       "    </tr>\n",
       "    <tr>\n",
       "      <th>1</th>\n",
       "      <td>p</td>\n",
       "      <td>16.60</td>\n",
       "      <td>x</td>\n",
       "      <td>g</td>\n",
       "      <td>o</td>\n",
       "      <td>f</td>\n",
       "      <td>e</td>\n",
       "      <td>NaN</td>\n",
       "      <td>w</td>\n",
       "      <td>17.99</td>\n",
       "      <td>...</td>\n",
       "      <td>s</td>\n",
       "      <td>y</td>\n",
       "      <td>w</td>\n",
       "      <td>u</td>\n",
       "      <td>w</td>\n",
       "      <td>t</td>\n",
       "      <td>g</td>\n",
       "      <td>NaN</td>\n",
       "      <td>d</td>\n",
       "      <td>u</td>\n",
       "    </tr>\n",
       "    <tr>\n",
       "      <th>2</th>\n",
       "      <td>p</td>\n",
       "      <td>14.07</td>\n",
       "      <td>x</td>\n",
       "      <td>g</td>\n",
       "      <td>o</td>\n",
       "      <td>f</td>\n",
       "      <td>e</td>\n",
       "      <td>NaN</td>\n",
       "      <td>w</td>\n",
       "      <td>17.80</td>\n",
       "      <td>...</td>\n",
       "      <td>s</td>\n",
       "      <td>y</td>\n",
       "      <td>w</td>\n",
       "      <td>u</td>\n",
       "      <td>w</td>\n",
       "      <td>t</td>\n",
       "      <td>g</td>\n",
       "      <td>NaN</td>\n",
       "      <td>d</td>\n",
       "      <td>w</td>\n",
       "    </tr>\n",
       "    <tr>\n",
       "      <th>3</th>\n",
       "      <td>p</td>\n",
       "      <td>14.17</td>\n",
       "      <td>f</td>\n",
       "      <td>h</td>\n",
       "      <td>e</td>\n",
       "      <td>f</td>\n",
       "      <td>e</td>\n",
       "      <td>NaN</td>\n",
       "      <td>w</td>\n",
       "      <td>15.77</td>\n",
       "      <td>...</td>\n",
       "      <td>s</td>\n",
       "      <td>y</td>\n",
       "      <td>w</td>\n",
       "      <td>u</td>\n",
       "      <td>w</td>\n",
       "      <td>t</td>\n",
       "      <td>p</td>\n",
       "      <td>NaN</td>\n",
       "      <td>d</td>\n",
       "      <td>w</td>\n",
       "    </tr>\n",
       "    <tr>\n",
       "      <th>4</th>\n",
       "      <td>p</td>\n",
       "      <td>14.64</td>\n",
       "      <td>x</td>\n",
       "      <td>h</td>\n",
       "      <td>o</td>\n",
       "      <td>f</td>\n",
       "      <td>e</td>\n",
       "      <td>NaN</td>\n",
       "      <td>w</td>\n",
       "      <td>16.53</td>\n",
       "      <td>...</td>\n",
       "      <td>s</td>\n",
       "      <td>y</td>\n",
       "      <td>w</td>\n",
       "      <td>u</td>\n",
       "      <td>w</td>\n",
       "      <td>t</td>\n",
       "      <td>p</td>\n",
       "      <td>NaN</td>\n",
       "      <td>d</td>\n",
       "      <td>w</td>\n",
       "    </tr>\n",
       "    <tr>\n",
       "      <th>...</th>\n",
       "      <td>...</td>\n",
       "      <td>...</td>\n",
       "      <td>...</td>\n",
       "      <td>...</td>\n",
       "      <td>...</td>\n",
       "      <td>...</td>\n",
       "      <td>...</td>\n",
       "      <td>...</td>\n",
       "      <td>...</td>\n",
       "      <td>...</td>\n",
       "      <td>...</td>\n",
       "      <td>...</td>\n",
       "      <td>...</td>\n",
       "      <td>...</td>\n",
       "      <td>...</td>\n",
       "      <td>...</td>\n",
       "      <td>...</td>\n",
       "      <td>...</td>\n",
       "      <td>...</td>\n",
       "      <td>...</td>\n",
       "      <td>...</td>\n",
       "    </tr>\n",
       "    <tr>\n",
       "      <th>61064</th>\n",
       "      <td>p</td>\n",
       "      <td>1.18</td>\n",
       "      <td>s</td>\n",
       "      <td>s</td>\n",
       "      <td>y</td>\n",
       "      <td>f</td>\n",
       "      <td>f</td>\n",
       "      <td>f</td>\n",
       "      <td>f</td>\n",
       "      <td>3.93</td>\n",
       "      <td>...</td>\n",
       "      <td>NaN</td>\n",
       "      <td>NaN</td>\n",
       "      <td>y</td>\n",
       "      <td>NaN</td>\n",
       "      <td>NaN</td>\n",
       "      <td>f</td>\n",
       "      <td>f</td>\n",
       "      <td>NaN</td>\n",
       "      <td>d</td>\n",
       "      <td>a</td>\n",
       "    </tr>\n",
       "    <tr>\n",
       "      <th>61065</th>\n",
       "      <td>p</td>\n",
       "      <td>1.27</td>\n",
       "      <td>f</td>\n",
       "      <td>s</td>\n",
       "      <td>y</td>\n",
       "      <td>f</td>\n",
       "      <td>f</td>\n",
       "      <td>f</td>\n",
       "      <td>f</td>\n",
       "      <td>3.18</td>\n",
       "      <td>...</td>\n",
       "      <td>NaN</td>\n",
       "      <td>NaN</td>\n",
       "      <td>y</td>\n",
       "      <td>NaN</td>\n",
       "      <td>NaN</td>\n",
       "      <td>f</td>\n",
       "      <td>f</td>\n",
       "      <td>NaN</td>\n",
       "      <td>d</td>\n",
       "      <td>a</td>\n",
       "    </tr>\n",
       "    <tr>\n",
       "      <th>61066</th>\n",
       "      <td>p</td>\n",
       "      <td>1.27</td>\n",
       "      <td>s</td>\n",
       "      <td>s</td>\n",
       "      <td>y</td>\n",
       "      <td>f</td>\n",
       "      <td>f</td>\n",
       "      <td>f</td>\n",
       "      <td>f</td>\n",
       "      <td>3.86</td>\n",
       "      <td>...</td>\n",
       "      <td>NaN</td>\n",
       "      <td>NaN</td>\n",
       "      <td>y</td>\n",
       "      <td>NaN</td>\n",
       "      <td>NaN</td>\n",
       "      <td>f</td>\n",
       "      <td>f</td>\n",
       "      <td>NaN</td>\n",
       "      <td>d</td>\n",
       "      <td>u</td>\n",
       "    </tr>\n",
       "    <tr>\n",
       "      <th>61067</th>\n",
       "      <td>p</td>\n",
       "      <td>1.24</td>\n",
       "      <td>f</td>\n",
       "      <td>s</td>\n",
       "      <td>y</td>\n",
       "      <td>f</td>\n",
       "      <td>f</td>\n",
       "      <td>f</td>\n",
       "      <td>f</td>\n",
       "      <td>3.56</td>\n",
       "      <td>...</td>\n",
       "      <td>NaN</td>\n",
       "      <td>NaN</td>\n",
       "      <td>y</td>\n",
       "      <td>NaN</td>\n",
       "      <td>NaN</td>\n",
       "      <td>f</td>\n",
       "      <td>f</td>\n",
       "      <td>NaN</td>\n",
       "      <td>d</td>\n",
       "      <td>u</td>\n",
       "    </tr>\n",
       "    <tr>\n",
       "      <th>61068</th>\n",
       "      <td>p</td>\n",
       "      <td>1.17</td>\n",
       "      <td>s</td>\n",
       "      <td>s</td>\n",
       "      <td>y</td>\n",
       "      <td>f</td>\n",
       "      <td>f</td>\n",
       "      <td>f</td>\n",
       "      <td>f</td>\n",
       "      <td>3.25</td>\n",
       "      <td>...</td>\n",
       "      <td>NaN</td>\n",
       "      <td>NaN</td>\n",
       "      <td>y</td>\n",
       "      <td>NaN</td>\n",
       "      <td>NaN</td>\n",
       "      <td>f</td>\n",
       "      <td>f</td>\n",
       "      <td>NaN</td>\n",
       "      <td>d</td>\n",
       "      <td>u</td>\n",
       "    </tr>\n",
       "  </tbody>\n",
       "</table>\n",
       "<p>61069 rows × 21 columns</p>\n",
       "</div>"
      ],
      "text/plain": [
       "      class  cap-diameter cap-shape cap-surface cap-color  \\\n",
       "0         p         15.26         x           g         o   \n",
       "1         p         16.60         x           g         o   \n",
       "2         p         14.07         x           g         o   \n",
       "3         p         14.17         f           h         e   \n",
       "4         p         14.64         x           h         o   \n",
       "...     ...           ...       ...         ...       ...   \n",
       "61064     p          1.18         s           s         y   \n",
       "61065     p          1.27         f           s         y   \n",
       "61066     p          1.27         s           s         y   \n",
       "61067     p          1.24         f           s         y   \n",
       "61068     p          1.17         s           s         y   \n",
       "\n",
       "      does-bruise-or-bleed gill-attachment gill-spacing gill-color  \\\n",
       "0                        f               e          NaN          w   \n",
       "1                        f               e          NaN          w   \n",
       "2                        f               e          NaN          w   \n",
       "3                        f               e          NaN          w   \n",
       "4                        f               e          NaN          w   \n",
       "...                    ...             ...          ...        ...   \n",
       "61064                    f               f            f          f   \n",
       "61065                    f               f            f          f   \n",
       "61066                    f               f            f          f   \n",
       "61067                    f               f            f          f   \n",
       "61068                    f               f            f          f   \n",
       "\n",
       "       stem-height  ...  stem-root stem-surface stem-color veil-type  \\\n",
       "0            16.95  ...          s            y          w         u   \n",
       "1            17.99  ...          s            y          w         u   \n",
       "2            17.80  ...          s            y          w         u   \n",
       "3            15.77  ...          s            y          w         u   \n",
       "4            16.53  ...          s            y          w         u   \n",
       "...            ...  ...        ...          ...        ...       ...   \n",
       "61064         3.93  ...        NaN          NaN          y       NaN   \n",
       "61065         3.18  ...        NaN          NaN          y       NaN   \n",
       "61066         3.86  ...        NaN          NaN          y       NaN   \n",
       "61067         3.56  ...        NaN          NaN          y       NaN   \n",
       "61068         3.25  ...        NaN          NaN          y       NaN   \n",
       "\n",
       "      veil-color has-ring ring-type spore-print-color habitat season  \n",
       "0              w        t         g               NaN       d      w  \n",
       "1              w        t         g               NaN       d      u  \n",
       "2              w        t         g               NaN       d      w  \n",
       "3              w        t         p               NaN       d      w  \n",
       "4              w        t         p               NaN       d      w  \n",
       "...          ...      ...       ...               ...     ...    ...  \n",
       "61064        NaN        f         f               NaN       d      a  \n",
       "61065        NaN        f         f               NaN       d      a  \n",
       "61066        NaN        f         f               NaN       d      u  \n",
       "61067        NaN        f         f               NaN       d      u  \n",
       "61068        NaN        f         f               NaN       d      u  \n",
       "\n",
       "[61069 rows x 21 columns]"
      ]
     },
     "execution_count": 3,
     "metadata": {},
     "output_type": "execute_result"
    }
   ],
   "source": [
    "df = pd.read_csv('/kaggle/input/mushroom-classification-edible-or-poisonous/mushroom.csv')\n",
    "df"
   ]
  },
  {
   "cell_type": "code",
   "execution_count": 4,
   "id": "a016b27f",
   "metadata": {
    "execution": {
     "iopub.execute_input": "2024-04-16T12:06:18.448511Z",
     "iopub.status.busy": "2024-04-16T12:06:18.447585Z",
     "iopub.status.idle": "2024-04-16T12:06:18.568431Z",
     "shell.execute_reply": "2024-04-16T12:06:18.567248Z"
    },
    "papermill": {
     "duration": 0.133218,
     "end_time": "2024-04-16T12:06:18.571198",
     "exception": false,
     "start_time": "2024-04-16T12:06:18.437980",
     "status": "completed"
    },
    "tags": []
   },
   "outputs": [
    {
     "name": "stdout",
     "output_type": "stream",
     "text": [
      "<class 'pandas.core.frame.DataFrame'>\n",
      "RangeIndex: 61069 entries, 0 to 61068\n",
      "Data columns (total 21 columns):\n",
      " #   Column                Non-Null Count  Dtype  \n",
      "---  ------                --------------  -----  \n",
      " 0   class                 61069 non-null  object \n",
      " 1   cap-diameter          61069 non-null  float64\n",
      " 2   cap-shape             61069 non-null  object \n",
      " 3   cap-surface           46949 non-null  object \n",
      " 4   cap-color             61069 non-null  object \n",
      " 5   does-bruise-or-bleed  61069 non-null  object \n",
      " 6   gill-attachment       51185 non-null  object \n",
      " 7   gill-spacing          36006 non-null  object \n",
      " 8   gill-color            61069 non-null  object \n",
      " 9   stem-height           61069 non-null  float64\n",
      " 10  stem-width            61069 non-null  float64\n",
      " 11  stem-root             9531 non-null   object \n",
      " 12  stem-surface          22945 non-null  object \n",
      " 13  stem-color            61069 non-null  object \n",
      " 14  veil-type             3177 non-null   object \n",
      " 15  veil-color            7413 non-null   object \n",
      " 16  has-ring              61069 non-null  object \n",
      " 17  ring-type             58598 non-null  object \n",
      " 18  spore-print-color     6354 non-null   object \n",
      " 19  habitat               61069 non-null  object \n",
      " 20  season                61069 non-null  object \n",
      "dtypes: float64(3), object(18)\n",
      "memory usage: 9.8+ MB\n"
     ]
    }
   ],
   "source": [
    "df.info()"
   ]
  },
  {
   "cell_type": "markdown",
   "id": "c81a96e8",
   "metadata": {
    "papermill": {
     "duration": 0.00868,
     "end_time": "2024-04-16T12:06:18.588290",
     "exception": false,
     "start_time": "2024-04-16T12:06:18.579610",
     "status": "completed"
    },
    "tags": []
   },
   "source": [
    "> # Data Preprocessing"
   ]
  },
  {
   "cell_type": "code",
   "execution_count": 5,
   "id": "3e840e29",
   "metadata": {
    "execution": {
     "iopub.execute_input": "2024-04-16T12:06:18.608362Z",
     "iopub.status.busy": "2024-04-16T12:06:18.607317Z",
     "iopub.status.idle": "2024-04-16T12:06:18.691897Z",
     "shell.execute_reply": "2024-04-16T12:06:18.689961Z"
    },
    "papermill": {
     "duration": 0.098083,
     "end_time": "2024-04-16T12:06:18.695119",
     "exception": false,
     "start_time": "2024-04-16T12:06:18.597036",
     "status": "completed"
    },
    "tags": []
   },
   "outputs": [
    {
     "name": "stdout",
     "output_type": "stream",
     "text": [
      "class has 2 unique values\n",
      "cap-diameter has 2571 unique values\n",
      "cap-shape has 7 unique values\n",
      "cap-surface has 11 unique values\n",
      "cap-color has 12 unique values\n",
      "does-bruise-or-bleed has 2 unique values\n",
      "gill-attachment has 7 unique values\n",
      "gill-spacing has 3 unique values\n",
      "gill-color has 12 unique values\n",
      "stem-height has 2226 unique values\n",
      "stem-width has 4630 unique values\n",
      "stem-root has 5 unique values\n",
      "stem-surface has 8 unique values\n",
      "stem-color has 13 unique values\n",
      "veil-type has 1 unique values\n",
      "veil-color has 6 unique values\n",
      "has-ring has 2 unique values\n",
      "ring-type has 8 unique values\n",
      "spore-print-color has 7 unique values\n",
      "habitat has 8 unique values\n",
      "season has 4 unique values\n"
     ]
    }
   ],
   "source": [
    "cols = df.columns.tolist()\n",
    "\n",
    "for col in cols:\n",
    "    unique_count = df[col].nunique()\n",
    "    print(f'{col} has {unique_count} unique values')"
   ]
  },
  {
   "cell_type": "code",
   "execution_count": 6,
   "id": "21ba706f",
   "metadata": {
    "execution": {
     "iopub.execute_input": "2024-04-16T12:06:18.714325Z",
     "iopub.status.busy": "2024-04-16T12:06:18.713776Z",
     "iopub.status.idle": "2024-04-16T12:06:18.799741Z",
     "shell.execute_reply": "2024-04-16T12:06:18.798025Z"
    },
    "papermill": {
     "duration": 0.098871,
     "end_time": "2024-04-16T12:06:18.802789",
     "exception": false,
     "start_time": "2024-04-16T12:06:18.703918",
     "status": "completed"
    },
    "tags": []
   },
   "outputs": [
    {
     "name": "stdout",
     "output_type": "stream",
     "text": [
      "class has ['p' 'e']\n",
      "cap-diameter has [15.26 16.6  14.07 ... 22.85 21.8  20.42]\n",
      "cap-shape has ['x' 'f' 'p' 'b' 'c' 's' 'o']\n",
      "cap-surface has ['g' 'h' nan 't' 'y' 'e' 's' 'l' 'd' 'w' 'i' 'k']\n",
      "cap-color has ['o' 'e' 'n' 'g' 'r' 'w' 'y' 'p' 'u' 'b' 'l' 'k']\n",
      "does-bruise-or-bleed has ['f' 't']\n",
      "gill-attachment has ['e' nan 'a' 'd' 's' 'x' 'p' 'f']\n",
      "gill-spacing has [nan 'c' 'd' 'f']\n",
      "gill-color has ['w' 'n' 'p' 'u' 'b' 'g' 'y' 'r' 'e' 'o' 'k' 'f']\n",
      "stem-height has [16.95 17.99 17.8  ...  1.23  1.16  0.  ]\n",
      "stem-width has [17.09 18.19 17.74 ... 32.59 30.99 30.51]\n",
      "stem-root has ['s' nan 'b' 'r' 'c' 'f']\n",
      "stem-surface has ['y' nan 's' 'k' 'i' 'h' 't' 'g' 'f']\n",
      "stem-color has ['w' 'y' 'n' 'u' 'b' 'l' 'r' 'p' 'e' 'k' 'g' 'o' 'f']\n",
      "veil-type has ['u' nan]\n",
      "veil-color has ['w' 'y' nan 'n' 'e' 'u' 'k']\n",
      "has-ring has ['t' 'f']\n",
      "ring-type has ['g' 'p' 'e' 'l' 'f' 'm' nan 'r' 'z']\n",
      "spore-print-color has [nan 'w' 'p' 'k' 'r' 'u' 'n' 'g']\n",
      "habitat has ['d' 'm' 'g' 'h' 'l' 'p' 'w' 'u']\n",
      "season has ['w' 'u' 'a' 's']\n"
     ]
    }
   ],
   "source": [
    "for col in cols:\n",
    "    unique_name = df[col].unique()\n",
    "    print(f'{col} has {unique_name}')"
   ]
  },
  {
   "cell_type": "code",
   "execution_count": 7,
   "id": "2f6c8040",
   "metadata": {
    "execution": {
     "iopub.execute_input": "2024-04-16T12:06:18.824588Z",
     "iopub.status.busy": "2024-04-16T12:06:18.823560Z",
     "iopub.status.idle": "2024-04-16T12:06:18.932309Z",
     "shell.execute_reply": "2024-04-16T12:06:18.931081Z"
    },
    "papermill": {
     "duration": 0.122258,
     "end_time": "2024-04-16T12:06:18.934756",
     "exception": false,
     "start_time": "2024-04-16T12:06:18.812498",
     "status": "completed"
    },
    "tags": []
   },
   "outputs": [
    {
     "data": {
      "text/plain": [
       "class                   0.000000\n",
       "cap-diameter            0.000000\n",
       "cap-shape               0.000000\n",
       "cap-surface             0.231214\n",
       "cap-color               0.000000\n",
       "does-bruise-or-bleed    0.000000\n",
       "gill-attachment         0.161850\n",
       "gill-spacing            0.410405\n",
       "gill-color              0.000000\n",
       "stem-height             0.000000\n",
       "stem-width              0.000000\n",
       "stem-root               0.843931\n",
       "stem-surface            0.624277\n",
       "stem-color              0.000000\n",
       "veil-type               0.947977\n",
       "veil-color              0.878613\n",
       "has-ring                0.000000\n",
       "ring-type               0.040462\n",
       "spore-print-color       0.895954\n",
       "habitat                 0.000000\n",
       "season                  0.000000\n",
       "dtype: float64"
      ]
     },
     "execution_count": 7,
     "metadata": {},
     "output_type": "execute_result"
    }
   ],
   "source": [
    "missing_ratios = df.isna().mean()\n",
    "missing_ratios"
   ]
  },
  {
   "cell_type": "code",
   "execution_count": 8,
   "id": "e442477b",
   "metadata": {
    "execution": {
     "iopub.execute_input": "2024-04-16T12:06:18.954474Z",
     "iopub.status.busy": "2024-04-16T12:06:18.953745Z",
     "iopub.status.idle": "2024-04-16T12:06:18.966087Z",
     "shell.execute_reply": "2024-04-16T12:06:18.964657Z"
    },
    "papermill": {
     "duration": 0.025243,
     "end_time": "2024-04-16T12:06:18.968809",
     "exception": false,
     "start_time": "2024-04-16T12:06:18.943566",
     "status": "completed"
    },
    "tags": []
   },
   "outputs": [
    {
     "data": {
      "text/html": [
       "<div>\n",
       "<style scoped>\n",
       "    .dataframe tbody tr th:only-of-type {\n",
       "        vertical-align: middle;\n",
       "    }\n",
       "\n",
       "    .dataframe tbody tr th {\n",
       "        vertical-align: top;\n",
       "    }\n",
       "\n",
       "    .dataframe thead th {\n",
       "        text-align: right;\n",
       "    }\n",
       "</style>\n",
       "<table border=\"1\" class=\"dataframe\">\n",
       "  <thead>\n",
       "    <tr style=\"text-align: right;\">\n",
       "      <th></th>\n",
       "      <th>Column</th>\n",
       "      <th>Missing_Ratio</th>\n",
       "    </tr>\n",
       "  </thead>\n",
       "  <tbody>\n",
       "    <tr>\n",
       "      <th>0</th>\n",
       "      <td>gill-spacing</td>\n",
       "      <td>0.410405</td>\n",
       "    </tr>\n",
       "    <tr>\n",
       "      <th>1</th>\n",
       "      <td>stem-root</td>\n",
       "      <td>0.843931</td>\n",
       "    </tr>\n",
       "    <tr>\n",
       "      <th>2</th>\n",
       "      <td>stem-surface</td>\n",
       "      <td>0.624277</td>\n",
       "    </tr>\n",
       "    <tr>\n",
       "      <th>3</th>\n",
       "      <td>veil-type</td>\n",
       "      <td>0.947977</td>\n",
       "    </tr>\n",
       "    <tr>\n",
       "      <th>4</th>\n",
       "      <td>veil-color</td>\n",
       "      <td>0.878613</td>\n",
       "    </tr>\n",
       "    <tr>\n",
       "      <th>5</th>\n",
       "      <td>spore-print-color</td>\n",
       "      <td>0.895954</td>\n",
       "    </tr>\n",
       "  </tbody>\n",
       "</table>\n",
       "</div>"
      ],
      "text/plain": [
       "              Column  Missing_Ratio\n",
       "0       gill-spacing       0.410405\n",
       "1          stem-root       0.843931\n",
       "2       stem-surface       0.624277\n",
       "3          veil-type       0.947977\n",
       "4         veil-color       0.878613\n",
       "5  spore-print-color       0.895954"
      ]
     },
     "execution_count": 8,
     "metadata": {},
     "output_type": "execute_result"
    }
   ],
   "source": [
    "high_missing_columns = missing_ratios[missing_ratios >= 0.4]\n",
    "df_high_missing_ratio = pd.DataFrame({'Column': high_missing_columns.index, 'Missing_Ratio': high_missing_columns.values})\n",
    "\n",
    "df_high_missing_ratio"
   ]
  },
  {
   "cell_type": "markdown",
   "id": "ad7fa4dd",
   "metadata": {
    "papermill": {
     "duration": 0.009015,
     "end_time": "2024-04-16T12:06:18.986941",
     "exception": false,
     "start_time": "2024-04-16T12:06:18.977926",
     "status": "completed"
    },
    "tags": []
   },
   "source": [
    "### As a result of comparison with other variables, it is determined that each variable's \"Nan\" value is meaningless as data. So if the missing value ratio is more than 40%, remove the column, and if not, remove the row."
   ]
  },
  {
   "cell_type": "code",
   "execution_count": 9,
   "id": "13bbb3f7",
   "metadata": {
    "execution": {
     "iopub.execute_input": "2024-04-16T12:06:19.007468Z",
     "iopub.status.busy": "2024-04-16T12:06:19.007050Z",
     "iopub.status.idle": "2024-04-16T12:06:19.158747Z",
     "shell.execute_reply": "2024-04-16T12:06:19.157516Z"
    },
    "papermill": {
     "duration": 0.165014,
     "end_time": "2024-04-16T12:06:19.161515",
     "exception": false,
     "start_time": "2024-04-16T12:06:18.996501",
     "status": "completed"
    },
    "tags": []
   },
   "outputs": [
    {
     "data": {
      "text/plain": [
       "class                   0\n",
       "cap-diameter            0\n",
       "cap-shape               0\n",
       "cap-surface             0\n",
       "cap-color               0\n",
       "does-bruise-or-bleed    0\n",
       "gill-attachment         0\n",
       "gill-color              0\n",
       "stem-height             0\n",
       "stem-width              0\n",
       "stem-color              0\n",
       "has-ring                0\n",
       "ring-type               0\n",
       "habitat                 0\n",
       "season                  0\n",
       "dtype: int64"
      ]
     },
     "execution_count": 9,
     "metadata": {},
     "output_type": "execute_result"
    }
   ],
   "source": [
    "df = df.drop(df_high_missing_ratio['Column'], axis=1)\n",
    "df.dropna(inplace = True)\n",
    "df.isna().sum()"
   ]
  },
  {
   "cell_type": "code",
   "execution_count": 10,
   "id": "e655387d",
   "metadata": {
    "execution": {
     "iopub.execute_input": "2024-04-16T12:06:19.182641Z",
     "iopub.status.busy": "2024-04-16T12:06:19.182190Z",
     "iopub.status.idle": "2024-04-16T12:06:19.274002Z",
     "shell.execute_reply": "2024-04-16T12:06:19.272821Z"
    },
    "papermill": {
     "duration": 0.106314,
     "end_time": "2024-04-16T12:06:19.277133",
     "exception": false,
     "start_time": "2024-04-16T12:06:19.170819",
     "status": "completed"
    },
    "tags": []
   },
   "outputs": [
    {
     "name": "stdout",
     "output_type": "stream",
     "text": [
      "<class 'pandas.core.frame.DataFrame'>\n",
      "Index: 37065 entries, 0 to 61068\n",
      "Data columns (total 87 columns):\n",
      " #   Column                  Non-Null Count  Dtype  \n",
      "---  ------                  --------------  -----  \n",
      " 0   class                   37065 non-null  int64  \n",
      " 1   cap-diameter            37065 non-null  float64\n",
      " 2   stem-height             37065 non-null  float64\n",
      " 3   stem-width              37065 non-null  float64\n",
      " 4   cap-shape_b             37065 non-null  bool   \n",
      " 5   cap-shape_c             37065 non-null  bool   \n",
      " 6   cap-shape_f             37065 non-null  bool   \n",
      " 7   cap-shape_o             37065 non-null  bool   \n",
      " 8   cap-shape_p             37065 non-null  bool   \n",
      " 9   cap-shape_s             37065 non-null  bool   \n",
      " 10  cap-shape_x             37065 non-null  bool   \n",
      " 11  cap-surface_d           37065 non-null  bool   \n",
      " 12  cap-surface_e           37065 non-null  bool   \n",
      " 13  cap-surface_g           37065 non-null  bool   \n",
      " 14  cap-surface_h           37065 non-null  bool   \n",
      " 15  cap-surface_i           37065 non-null  bool   \n",
      " 16  cap-surface_k           37065 non-null  bool   \n",
      " 17  cap-surface_l           37065 non-null  bool   \n",
      " 18  cap-surface_s           37065 non-null  bool   \n",
      " 19  cap-surface_t           37065 non-null  bool   \n",
      " 20  cap-surface_w           37065 non-null  bool   \n",
      " 21  cap-surface_y           37065 non-null  bool   \n",
      " 22  cap-color_b             37065 non-null  bool   \n",
      " 23  cap-color_e             37065 non-null  bool   \n",
      " 24  cap-color_g             37065 non-null  bool   \n",
      " 25  cap-color_k             37065 non-null  bool   \n",
      " 26  cap-color_l             37065 non-null  bool   \n",
      " 27  cap-color_n             37065 non-null  bool   \n",
      " 28  cap-color_o             37065 non-null  bool   \n",
      " 29  cap-color_p             37065 non-null  bool   \n",
      " 30  cap-color_r             37065 non-null  bool   \n",
      " 31  cap-color_u             37065 non-null  bool   \n",
      " 32  cap-color_w             37065 non-null  bool   \n",
      " 33  cap-color_y             37065 non-null  bool   \n",
      " 34  does-bruise-or-bleed_f  37065 non-null  bool   \n",
      " 35  does-bruise-or-bleed_t  37065 non-null  bool   \n",
      " 36  gill-attachment_a       37065 non-null  bool   \n",
      " 37  gill-attachment_d       37065 non-null  bool   \n",
      " 38  gill-attachment_e       37065 non-null  bool   \n",
      " 39  gill-attachment_f       37065 non-null  bool   \n",
      " 40  gill-attachment_p       37065 non-null  bool   \n",
      " 41  gill-attachment_s       37065 non-null  bool   \n",
      " 42  gill-attachment_x       37065 non-null  bool   \n",
      " 43  gill-color_b            37065 non-null  bool   \n",
      " 44  gill-color_e            37065 non-null  bool   \n",
      " 45  gill-color_f            37065 non-null  bool   \n",
      " 46  gill-color_g            37065 non-null  bool   \n",
      " 47  gill-color_k            37065 non-null  bool   \n",
      " 48  gill-color_n            37065 non-null  bool   \n",
      " 49  gill-color_o            37065 non-null  bool   \n",
      " 50  gill-color_p            37065 non-null  bool   \n",
      " 51  gill-color_r            37065 non-null  bool   \n",
      " 52  gill-color_u            37065 non-null  bool   \n",
      " 53  gill-color_w            37065 non-null  bool   \n",
      " 54  gill-color_y            37065 non-null  bool   \n",
      " 55  stem-color_e            37065 non-null  bool   \n",
      " 56  stem-color_f            37065 non-null  bool   \n",
      " 57  stem-color_g            37065 non-null  bool   \n",
      " 58  stem-color_k            37065 non-null  bool   \n",
      " 59  stem-color_l            37065 non-null  bool   \n",
      " 60  stem-color_n            37065 non-null  bool   \n",
      " 61  stem-color_o            37065 non-null  bool   \n",
      " 62  stem-color_p            37065 non-null  bool   \n",
      " 63  stem-color_r            37065 non-null  bool   \n",
      " 64  stem-color_u            37065 non-null  bool   \n",
      " 65  stem-color_w            37065 non-null  bool   \n",
      " 66  stem-color_y            37065 non-null  bool   \n",
      " 67  has-ring_f              37065 non-null  bool   \n",
      " 68  has-ring_t              37065 non-null  bool   \n",
      " 69  ring-type_e             37065 non-null  bool   \n",
      " 70  ring-type_f             37065 non-null  bool   \n",
      " 71  ring-type_g             37065 non-null  bool   \n",
      " 72  ring-type_l             37065 non-null  bool   \n",
      " 73  ring-type_p             37065 non-null  bool   \n",
      " 74  ring-type_r             37065 non-null  bool   \n",
      " 75  ring-type_z             37065 non-null  bool   \n",
      " 76  habitat_d               37065 non-null  bool   \n",
      " 77  habitat_g               37065 non-null  bool   \n",
      " 78  habitat_h               37065 non-null  bool   \n",
      " 79  habitat_l               37065 non-null  bool   \n",
      " 80  habitat_m               37065 non-null  bool   \n",
      " 81  habitat_u               37065 non-null  bool   \n",
      " 82  habitat_w               37065 non-null  bool   \n",
      " 83  season_a                37065 non-null  bool   \n",
      " 84  season_s                37065 non-null  bool   \n",
      " 85  season_u                37065 non-null  bool   \n",
      " 86  season_w                37065 non-null  bool   \n",
      "dtypes: bool(83), float64(3), int64(1)\n",
      "memory usage: 4.3 MB\n"
     ]
    }
   ],
   "source": [
    "object_cols = df.select_dtypes(include=['object']).columns\n",
    "object_cols = object_cols.drop('class')\n",
    "\n",
    "df = pd.get_dummies(df, columns=object_cols)\n",
    "df['class'] = df['class'].map({'p': 0, 'e': 1})    \n",
    "df.info()"
   ]
  },
  {
   "cell_type": "markdown",
   "id": "5bb15d11",
   "metadata": {
    "papermill": {
     "duration": 0.009098,
     "end_time": "2024-04-16T12:06:19.296052",
     "exception": false,
     "start_time": "2024-04-16T12:06:19.286954",
     "status": "completed"
    },
    "tags": []
   },
   "source": [
    "> # Compare models"
   ]
  },
  {
   "cell_type": "code",
   "execution_count": 11,
   "id": "74abc2a0",
   "metadata": {
    "execution": {
     "iopub.execute_input": "2024-04-16T12:06:19.317898Z",
     "iopub.status.busy": "2024-04-16T12:06:19.317088Z",
     "iopub.status.idle": "2024-04-16T12:06:43.385392Z",
     "shell.execute_reply": "2024-04-16T12:06:43.384280Z"
    },
    "papermill": {
     "duration": 24.081782,
     "end_time": "2024-04-16T12:06:43.387974",
     "exception": false,
     "start_time": "2024-04-16T12:06:19.306192",
     "status": "completed"
    },
    "tags": []
   },
   "outputs": [
    {
     "name": "stderr",
     "output_type": "stream",
     "text": [
      "/opt/conda/lib/python3.10/site-packages/sklearn/linear_model/_logistic.py:458: ConvergenceWarning: lbfgs failed to converge (status=1):\n",
      "STOP: TOTAL NO. of ITERATIONS REACHED LIMIT.\n",
      "\n",
      "Increase the number of iterations (max_iter) or scale the data as shown in:\n",
      "    https://scikit-learn.org/stable/modules/preprocessing.html\n",
      "Please also refer to the documentation for alternative solver options:\n",
      "    https://scikit-learn.org/stable/modules/linear_model.html#logistic-regression\n",
      "  n_iter_i = _check_optimize_result(\n"
     ]
    },
    {
     "name": "stdout",
     "output_type": "stream",
     "text": [
      "[LightGBM] [Info] Number of positive: 13627, number of negative: 16025\n",
      "[LightGBM] [Info] Auto-choosing row-wise multi-threading, the overhead of testing was 0.027124 seconds.\n",
      "You can set `force_row_wise=true` to remove the overhead.\n",
      "And if memory is not enough, you can set `force_col_wise=true`.\n",
      "[LightGBM] [Info] Total Bins 1014\n",
      "[LightGBM] [Info] Number of data points in the train set: 29652, number of used features: 86\n",
      "[LightGBM] [Info] [binary:BoostFromScore]: pavg=0.459564 -> initscore=-0.162097\n",
      "[LightGBM] [Info] Start training from score -0.162097\n"
     ]
    },
    {
     "data": {
      "text/html": [
       "<div>\n",
       "<style scoped>\n",
       "    .dataframe tbody tr th:only-of-type {\n",
       "        vertical-align: middle;\n",
       "    }\n",
       "\n",
       "    .dataframe tbody tr th {\n",
       "        vertical-align: top;\n",
       "    }\n",
       "\n",
       "    .dataframe thead th {\n",
       "        text-align: right;\n",
       "    }\n",
       "</style>\n",
       "<table border=\"1\" class=\"dataframe\">\n",
       "  <thead>\n",
       "    <tr style=\"text-align: right;\">\n",
       "      <th></th>\n",
       "      <th>Model</th>\n",
       "      <th>Accuracy</th>\n",
       "    </tr>\n",
       "  </thead>\n",
       "  <tbody>\n",
       "    <tr>\n",
       "      <th>0</th>\n",
       "      <td>Logistic Regression</td>\n",
       "      <td>0.792122</td>\n",
       "    </tr>\n",
       "    <tr>\n",
       "      <th>1</th>\n",
       "      <td>Decision Tree Classifier</td>\n",
       "      <td>0.997707</td>\n",
       "    </tr>\n",
       "    <tr>\n",
       "      <th>2</th>\n",
       "      <td>Random Forest Classifier</td>\n",
       "      <td>0.999865</td>\n",
       "    </tr>\n",
       "    <tr>\n",
       "      <th>3</th>\n",
       "      <td>Support Vector Classifier</td>\n",
       "      <td>0.997572</td>\n",
       "    </tr>\n",
       "    <tr>\n",
       "      <th>4</th>\n",
       "      <td>K-Nearest Neighbors Classifier</td>\n",
       "      <td>0.999460</td>\n",
       "    </tr>\n",
       "    <tr>\n",
       "      <th>5</th>\n",
       "      <td>XGBoost Classifier</td>\n",
       "      <td>0.999595</td>\n",
       "    </tr>\n",
       "    <tr>\n",
       "      <th>6</th>\n",
       "      <td>LightGBM Classifier</td>\n",
       "      <td>0.999460</td>\n",
       "    </tr>\n",
       "  </tbody>\n",
       "</table>\n",
       "</div>"
      ],
      "text/plain": [
       "                            Model  Accuracy\n",
       "0             Logistic Regression  0.792122\n",
       "1        Decision Tree Classifier  0.997707\n",
       "2        Random Forest Classifier  0.999865\n",
       "3       Support Vector Classifier  0.997572\n",
       "4  K-Nearest Neighbors Classifier  0.999460\n",
       "5              XGBoost Classifier  0.999595\n",
       "6             LightGBM Classifier  0.999460"
      ]
     },
     "execution_count": 11,
     "metadata": {},
     "output_type": "execute_result"
    }
   ],
   "source": [
    "X = df.drop(\"class\", axis=1)\n",
    "y = df[\"class\"]\n",
    "\n",
    "evaluate_models(X, y)"
   ]
  },
  {
   "cell_type": "markdown",
   "id": "8b015dac",
   "metadata": {
    "papermill": {
     "duration": 0.010264,
     "end_time": "2024-04-16T12:06:43.408831",
     "exception": false,
     "start_time": "2024-04-16T12:06:43.398567",
     "status": "completed"
    },
    "tags": []
   },
   "source": [
    "> # Evaluating XGboost Classifier"
   ]
  },
  {
   "cell_type": "code",
   "execution_count": 12,
   "id": "36030d1e",
   "metadata": {
    "execution": {
     "iopub.execute_input": "2024-04-16T12:06:43.432657Z",
     "iopub.status.busy": "2024-04-16T12:06:43.431329Z",
     "iopub.status.idle": "2024-04-16T12:06:46.074132Z",
     "shell.execute_reply": "2024-04-16T12:06:46.073301Z"
    },
    "papermill": {
     "duration": 2.657509,
     "end_time": "2024-04-16T12:06:46.076721",
     "exception": false,
     "start_time": "2024-04-16T12:06:43.419212",
     "status": "completed"
    },
    "tags": []
   },
   "outputs": [
    {
     "data": {
      "text/html": [
       "<style>#sk-container-id-1 {color: black;background-color: white;}#sk-container-id-1 pre{padding: 0;}#sk-container-id-1 div.sk-toggleable {background-color: white;}#sk-container-id-1 label.sk-toggleable__label {cursor: pointer;display: block;width: 100%;margin-bottom: 0;padding: 0.3em;box-sizing: border-box;text-align: center;}#sk-container-id-1 label.sk-toggleable__label-arrow:before {content: \"▸\";float: left;margin-right: 0.25em;color: #696969;}#sk-container-id-1 label.sk-toggleable__label-arrow:hover:before {color: black;}#sk-container-id-1 div.sk-estimator:hover label.sk-toggleable__label-arrow:before {color: black;}#sk-container-id-1 div.sk-toggleable__content {max-height: 0;max-width: 0;overflow: hidden;text-align: left;background-color: #f0f8ff;}#sk-container-id-1 div.sk-toggleable__content pre {margin: 0.2em;color: black;border-radius: 0.25em;background-color: #f0f8ff;}#sk-container-id-1 input.sk-toggleable__control:checked~div.sk-toggleable__content {max-height: 200px;max-width: 100%;overflow: auto;}#sk-container-id-1 input.sk-toggleable__control:checked~label.sk-toggleable__label-arrow:before {content: \"▾\";}#sk-container-id-1 div.sk-estimator input.sk-toggleable__control:checked~label.sk-toggleable__label {background-color: #d4ebff;}#sk-container-id-1 div.sk-label input.sk-toggleable__control:checked~label.sk-toggleable__label {background-color: #d4ebff;}#sk-container-id-1 input.sk-hidden--visually {border: 0;clip: rect(1px 1px 1px 1px);clip: rect(1px, 1px, 1px, 1px);height: 1px;margin: -1px;overflow: hidden;padding: 0;position: absolute;width: 1px;}#sk-container-id-1 div.sk-estimator {font-family: monospace;background-color: #f0f8ff;border: 1px dotted black;border-radius: 0.25em;box-sizing: border-box;margin-bottom: 0.5em;}#sk-container-id-1 div.sk-estimator:hover {background-color: #d4ebff;}#sk-container-id-1 div.sk-parallel-item::after {content: \"\";width: 100%;border-bottom: 1px solid gray;flex-grow: 1;}#sk-container-id-1 div.sk-label:hover label.sk-toggleable__label {background-color: #d4ebff;}#sk-container-id-1 div.sk-serial::before {content: \"\";position: absolute;border-left: 1px solid gray;box-sizing: border-box;top: 0;bottom: 0;left: 50%;z-index: 0;}#sk-container-id-1 div.sk-serial {display: flex;flex-direction: column;align-items: center;background-color: white;padding-right: 0.2em;padding-left: 0.2em;position: relative;}#sk-container-id-1 div.sk-item {position: relative;z-index: 1;}#sk-container-id-1 div.sk-parallel {display: flex;align-items: stretch;justify-content: center;background-color: white;position: relative;}#sk-container-id-1 div.sk-item::before, #sk-container-id-1 div.sk-parallel-item::before {content: \"\";position: absolute;border-left: 1px solid gray;box-sizing: border-box;top: 0;bottom: 0;left: 50%;z-index: -1;}#sk-container-id-1 div.sk-parallel-item {display: flex;flex-direction: column;z-index: 1;position: relative;background-color: white;}#sk-container-id-1 div.sk-parallel-item:first-child::after {align-self: flex-end;width: 50%;}#sk-container-id-1 div.sk-parallel-item:last-child::after {align-self: flex-start;width: 50%;}#sk-container-id-1 div.sk-parallel-item:only-child::after {width: 0;}#sk-container-id-1 div.sk-dashed-wrapped {border: 1px dashed gray;margin: 0 0.4em 0.5em 0.4em;box-sizing: border-box;padding-bottom: 0.4em;background-color: white;}#sk-container-id-1 div.sk-label label {font-family: monospace;font-weight: bold;display: inline-block;line-height: 1.2em;}#sk-container-id-1 div.sk-label-container {text-align: center;}#sk-container-id-1 div.sk-container {/* jupyter's `normalize.less` sets `[hidden] { display: none; }` but bootstrap.min.css set `[hidden] { display: none !important; }` so we also need the `!important` here to be able to override the default hidden behavior on the sphinx rendered scikit-learn.org. See: https://github.com/scikit-learn/scikit-learn/issues/21755 */display: inline-block !important;position: relative;}#sk-container-id-1 div.sk-text-repr-fallback {display: none;}</style><div id=\"sk-container-id-1\" class=\"sk-top-container\"><div class=\"sk-text-repr-fallback\"><pre>XGBClassifier(base_score=None, booster=None, callbacks=None,\n",
       "              colsample_bylevel=None, colsample_bynode=None,\n",
       "              colsample_bytree=None, device=None, early_stopping_rounds=None,\n",
       "              enable_categorical=False, eval_metric=None, feature_types=None,\n",
       "              gamma=None, grow_policy=None, importance_type=None,\n",
       "              interaction_constraints=None, learning_rate=None, max_bin=None,\n",
       "              max_cat_threshold=None, max_cat_to_onehot=None,\n",
       "              max_delta_step=None, max_depth=None, max_leaves=None,\n",
       "              min_child_weight=None, missing=nan, monotone_constraints=None,\n",
       "              multi_strategy=None, n_estimators=None, n_jobs=None,\n",
       "              num_parallel_tree=None, random_state=None, ...)</pre><b>In a Jupyter environment, please rerun this cell to show the HTML representation or trust the notebook. <br />On GitHub, the HTML representation is unable to render, please try loading this page with nbviewer.org.</b></div><div class=\"sk-container\" hidden><div class=\"sk-item\"><div class=\"sk-estimator sk-toggleable\"><input class=\"sk-toggleable__control sk-hidden--visually\" id=\"sk-estimator-id-1\" type=\"checkbox\" checked><label for=\"sk-estimator-id-1\" class=\"sk-toggleable__label sk-toggleable__label-arrow\">XGBClassifier</label><div class=\"sk-toggleable__content\"><pre>XGBClassifier(base_score=None, booster=None, callbacks=None,\n",
       "              colsample_bylevel=None, colsample_bynode=None,\n",
       "              colsample_bytree=None, device=None, early_stopping_rounds=None,\n",
       "              enable_categorical=False, eval_metric=None, feature_types=None,\n",
       "              gamma=None, grow_policy=None, importance_type=None,\n",
       "              interaction_constraints=None, learning_rate=None, max_bin=None,\n",
       "              max_cat_threshold=None, max_cat_to_onehot=None,\n",
       "              max_delta_step=None, max_depth=None, max_leaves=None,\n",
       "              min_child_weight=None, missing=nan, monotone_constraints=None,\n",
       "              multi_strategy=None, n_estimators=None, n_jobs=None,\n",
       "              num_parallel_tree=None, random_state=None, ...)</pre></div></div></div></div></div>"
      ],
      "text/plain": [
       "XGBClassifier(base_score=None, booster=None, callbacks=None,\n",
       "              colsample_bylevel=None, colsample_bynode=None,\n",
       "              colsample_bytree=None, device=None, early_stopping_rounds=None,\n",
       "              enable_categorical=False, eval_metric=None, feature_types=None,\n",
       "              gamma=None, grow_policy=None, importance_type=None,\n",
       "              interaction_constraints=None, learning_rate=None, max_bin=None,\n",
       "              max_cat_threshold=None, max_cat_to_onehot=None,\n",
       "              max_delta_step=None, max_depth=None, max_leaves=None,\n",
       "              min_child_weight=None, missing=nan, monotone_constraints=None,\n",
       "              multi_strategy=None, n_estimators=None, n_jobs=None,\n",
       "              num_parallel_tree=None, random_state=None, ...)"
      ]
     },
     "execution_count": 12,
     "metadata": {},
     "output_type": "execute_result"
    }
   ],
   "source": [
    "X_train, X_test, y_train, y_test = train_test_split(X, y, test_size=0.2, random_state=42)\n",
    "\n",
    "model = XGBClassifier()\n",
    "model.fit(X_train,y_train)"
   ]
  },
  {
   "cell_type": "code",
   "execution_count": 13,
   "id": "319714f4",
   "metadata": {
    "execution": {
     "iopub.execute_input": "2024-04-16T12:06:46.099142Z",
     "iopub.status.busy": "2024-04-16T12:06:46.098694Z",
     "iopub.status.idle": "2024-04-16T12:06:46.228930Z",
     "shell.execute_reply": "2024-04-16T12:06:46.227668Z"
    },
    "papermill": {
     "duration": 0.14478,
     "end_time": "2024-04-16T12:06:46.231868",
     "exception": false,
     "start_time": "2024-04-16T12:06:46.087088",
     "status": "completed"
    },
    "tags": []
   },
   "outputs": [
    {
     "name": "stdout",
     "output_type": "stream",
     "text": [
      "Accuracy (percentage) : 99.9595 %\n"
     ]
    }
   ],
   "source": [
    "y_pred = model.predict(X_test)\n",
    "\n",
    "accuracy = accuracy_score(y_test, y_pred)\n",
    "print(\"Accuracy (percentage) :\", round(accuracy*100,4),\"%\")"
   ]
  },
  {
   "cell_type": "code",
   "execution_count": 14,
   "id": "bec73488",
   "metadata": {
    "execution": {
     "iopub.execute_input": "2024-04-16T12:06:46.254609Z",
     "iopub.status.busy": "2024-04-16T12:06:46.254191Z",
     "iopub.status.idle": "2024-04-16T12:06:46.290675Z",
     "shell.execute_reply": "2024-04-16T12:06:46.289404Z"
    },
    "papermill": {
     "duration": 0.050872,
     "end_time": "2024-04-16T12:06:46.293206",
     "exception": false,
     "start_time": "2024-04-16T12:06:46.242334",
     "status": "completed"
    },
    "tags": []
   },
   "outputs": [
    {
     "data": {
      "text/html": [
       "<div>\n",
       "<style scoped>\n",
       "    .dataframe tbody tr th:only-of-type {\n",
       "        vertical-align: middle;\n",
       "    }\n",
       "\n",
       "    .dataframe tbody tr th {\n",
       "        vertical-align: top;\n",
       "    }\n",
       "\n",
       "    .dataframe thead th {\n",
       "        text-align: right;\n",
       "    }\n",
       "</style>\n",
       "<table border=\"1\" class=\"dataframe\">\n",
       "  <thead>\n",
       "    <tr style=\"text-align: right;\">\n",
       "      <th></th>\n",
       "      <th>precision</th>\n",
       "      <th>recall</th>\n",
       "      <th>f1-score</th>\n",
       "      <th>support</th>\n",
       "    </tr>\n",
       "  </thead>\n",
       "  <tbody>\n",
       "    <tr>\n",
       "      <th>0</th>\n",
       "      <td>1.000000</td>\n",
       "      <td>0.999268</td>\n",
       "      <td>0.999634</td>\n",
       "      <td>4096.000000</td>\n",
       "    </tr>\n",
       "    <tr>\n",
       "      <th>1</th>\n",
       "      <td>0.999096</td>\n",
       "      <td>1.000000</td>\n",
       "      <td>0.999548</td>\n",
       "      <td>3317.000000</td>\n",
       "    </tr>\n",
       "    <tr>\n",
       "      <th>accuracy</th>\n",
       "      <td>0.999595</td>\n",
       "      <td>0.999595</td>\n",
       "      <td>0.999595</td>\n",
       "      <td>0.999595</td>\n",
       "    </tr>\n",
       "    <tr>\n",
       "      <th>macro avg</th>\n",
       "      <td>0.999548</td>\n",
       "      <td>0.999634</td>\n",
       "      <td>0.999591</td>\n",
       "      <td>7413.000000</td>\n",
       "    </tr>\n",
       "    <tr>\n",
       "      <th>weighted avg</th>\n",
       "      <td>0.999596</td>\n",
       "      <td>0.999595</td>\n",
       "      <td>0.999595</td>\n",
       "      <td>7413.000000</td>\n",
       "    </tr>\n",
       "  </tbody>\n",
       "</table>\n",
       "</div>"
      ],
      "text/plain": [
       "              precision    recall  f1-score      support\n",
       "0              1.000000  0.999268  0.999634  4096.000000\n",
       "1              0.999096  1.000000  0.999548  3317.000000\n",
       "accuracy       0.999595  0.999595  0.999595     0.999595\n",
       "macro avg      0.999548  0.999634  0.999591  7413.000000\n",
       "weighted avg   0.999596  0.999595  0.999595  7413.000000"
      ]
     },
     "execution_count": 14,
     "metadata": {},
     "output_type": "execute_result"
    }
   ],
   "source": [
    "report = classification_report(y_test, y_pred, output_dict=True)\n",
    "\n",
    "report_df = pd.DataFrame(report).transpose()\n",
    "report_df"
   ]
  },
  {
   "cell_type": "code",
   "execution_count": 15,
   "id": "677c9031",
   "metadata": {
    "execution": {
     "iopub.execute_input": "2024-04-16T12:06:46.316659Z",
     "iopub.status.busy": "2024-04-16T12:06:46.316256Z",
     "iopub.status.idle": "2024-04-16T12:06:47.821128Z",
     "shell.execute_reply": "2024-04-16T12:06:47.819856Z"
    },
    "papermill": {
     "duration": 1.520109,
     "end_time": "2024-04-16T12:06:47.824189",
     "exception": false,
     "start_time": "2024-04-16T12:06:46.304080",
     "status": "completed"
    },
    "tags": []
   },
   "outputs": [
    {
     "name": "stdout",
     "output_type": "stream",
     "text": [
      "High Correlation Features(Top 10) :  ['class', 'gill-attachment_p', 'stem-color_w', 'stem-width', 'cap-color_n', 'cap-diameter', 'cap-surface_s', 'stem-height', 'stem-color_g', 'ring-type_l']\n"
     ]
    },
    {
     "data": {
      "text/plain": [
       "<Axes: >"
      ]
     },
     "execution_count": 15,
     "metadata": {},
     "output_type": "execute_result"
    },
    {
     "data": {
      "image/png": "[encoded data removed]",
      "text/plain": [
       "<Figure size 640x480 with 2 Axes>"
      ]
     },
     "metadata": {},
     "output_type": "display_data"
    }
   ],
   "source": [
    "correlation_matrix = df.corr()\n",
    "col_features = correlation_matrix['class'].sort_values(ascending=False).head(10).index.tolist()\n",
    "col_subset = df[col_features]\n",
    "col_matrix_subset = col_subset.corr()\n",
    "\n",
    "\n",
    "print(\"High Correlation Features(Top 10) : \", col_features)\n",
    "sns.heatmap(col_matrix_subset, annot=True, cmap='coolwarm')"
   ]
  },
  {
   "cell_type": "code",
   "execution_count": 16,
   "id": "473b3168",
   "metadata": {
    "execution": {
     "iopub.execute_input": "2024-04-16T12:06:47.851100Z",
     "iopub.status.busy": "2024-04-16T12:06:47.850588Z",
     "iopub.status.idle": "2024-04-16T12:06:48.219175Z",
     "shell.execute_reply": "2024-04-16T12:06:48.217862Z"
    },
    "papermill": {
     "duration": 0.385601,
     "end_time": "2024-04-16T12:06:48.222383",
     "exception": false,
     "start_time": "2024-04-16T12:06:47.836782",
     "status": "completed"
    },
    "tags": []
   },
   "outputs": [
    {
     "data": {
      "image/png": "[encoded data removed]",
      "text/plain": [
       "<Figure size 1200x600 with 1 Axes>"
      ]
     },
     "metadata": {},
     "output_type": "display_data"
    }
   ],
   "source": [
    "feature_importances = model.feature_importances_\n",
    "feature_importance_df = pd.DataFrame({'Feature': X.columns, 'Importance': feature_importances})\n",
    "top_10_features = feature_importance_df.sort_values(by='Importance', ascending=False).head(10)\n",
    "\n",
    "plt.figure(figsize=(12, 6))\n",
    "sns.barplot(data=top_10_features, x='Importance', y='Feature', palette='viridis')\n",
    "plt.xlabel('Importance', fontsize=1)\n",
    "plt.ylabel('Feature', fontsize=1)\n",
    "plt.title('Top 10 Feature Importance', fontsize=18)\n",
    "plt.grid(linestyle = '--')\n",
    "plt.show()"
   ]
  },
  {
   "cell_type": "markdown",
   "id": "1bca8399",
   "metadata": {
    "papermill": {
     "duration": 0.012998,
     "end_time": "2024-04-16T12:06:48.249063",
     "exception": false,
     "start_time": "2024-04-16T12:06:48.236065",
     "status": "completed"
    },
    "tags": []
   },
   "source": [
    "# Thanks"
   ]
  }
 ],
 "metadata": {
  "kaggle": {
   "accelerator": "none",
   "dataSources": [
    {
     "datasetId": 4563403,
     "sourceId": 7794960,
     "sourceType": "datasetVersion"
    }
   ],
   "dockerImageVersionId": 30684,
   "isGpuEnabled": false,
   "isInternetEnabled": true,
   "language": "python",
   "sourceType": "notebook"
  },
  "kernelspec": {
   "display_name": "Python 3",
   "language": "python",
   "name": "python3"
  },
  "language_info": {
   "codemirror_mode": {
    "name": "ipython",
    "version": 3
   },
   "file_extension": ".py",
   "mimetype": "text/x-python",
   "name": "python",
   "nbconvert_exporter": "python",
   "pygments_lexer": "ipython3",
   "version": "3.10.13"
  },
  "papermill": {
   "default_parameters": {},
   "duration": 39.538527,
   "end_time": "2024-04-16T12:06:49.084769",
   "environment_variables": {},
   "exception": null,
   "input_path": "__notebook__.ipynb",
   "output_path": "__notebook__.ipynb",
   "parameters": {},
   "start_time": "2024-04-16T12:06:09.546242",
   "version": "2.5.0"
  }
 },
 "nbformat": 4,
 "nbformat_minor": 5
}
