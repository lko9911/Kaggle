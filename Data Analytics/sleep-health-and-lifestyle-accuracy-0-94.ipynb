{
 "cells": [
  {
   "cell_type": "markdown",
   "id": "e7322a2c",
   "metadata": {
    "papermill": {
     "duration": 0.006801,
     "end_time": "2024-12-26T03:28:58.688689",
     "exception": false,
     "start_time": "2024-12-26T03:28:58.681888",
     "status": "completed"
    },
    "tags": []
   },
   "source": [
    "<div style=\"\n",
    "    padding: 20px;\n",
    "    color: white;\n",
    "    margin: 0;\n",
    "    font-size: 300%;\n",
    "    font-weight: 800;\n",
    "    text-align: center;\n",
    "    display: fill;\n",
    "    border-radius: 60px;\n",
    "    background-color: #2E64FE;\n",
    "    box-shadow: 0 4px 8px rgba(0, 0, 0, 0.2);\n",
    "    text-shadow: 2px 2px 4px rgba(0, 0, 0, 0.5);\n",
    "\">\n",
    "    Sleep Health and Lifestyle <br>\n",
    "    (Machine learning)\n",
    "</div>"
   ]
  },
  {
   "cell_type": "markdown",
   "id": "d37812c1",
   "metadata": {
    "papermill": {
     "duration": 0.006059,
     "end_time": "2024-12-26T03:28:58.702439",
     "exception": false,
     "start_time": "2024-12-26T03:28:58.696380",
     "status": "completed"
    },
    "tags": []
   },
   "source": [
    "# **<div style=\"display: inline-block; border: 5px solid blue; padding: 15px 10px; border-radius: 5px; font-size: 35px;\"> Project. Sleep Health and Lifestyle</div>**\n",
    "\n",
    "\n",
    "## Goal\n",
    "> ## Data preprocessing : Model-based Imputation\n",
    "> ## Modeling : Predicting Sleep Disorder"
   ]
  },
  {
   "cell_type": "markdown",
   "id": "72b7b77c",
   "metadata": {
    "papermill": {
     "duration": 0.005694,
     "end_time": "2024-12-26T03:28:58.714149",
     "exception": false,
     "start_time": "2024-12-26T03:28:58.708455",
     "status": "completed"
    },
    "tags": []
   },
   "source": [
    "# <div style=\"display: inline-block; padding: 20px 20px; border-radius: 15px; background: linear-gradient(135deg, #d8bfd8, #8b008b); box-shadow: 3px 3px 8px rgba(0, 0, 0, 0.2); font-size: 35px; font-family: Arial, sans-serif; color: #ffffff; text-align: center;\">Import Libraries & Read Dataset</div>"
   ]
  },
  {
   "cell_type": "code",
   "execution_count": 1,
   "id": "9bbedfae",
   "metadata": {
    "execution": {
     "iopub.execute_input": "2024-12-26T03:28:58.727606Z",
     "iopub.status.busy": "2024-12-26T03:28:58.727232Z",
     "iopub.status.idle": "2024-12-26T03:29:01.750209Z",
     "shell.execute_reply": "2024-12-26T03:29:01.749001Z"
    },
    "papermill": {
     "duration": 3.032325,
     "end_time": "2024-12-26T03:29:01.752381",
     "exception": false,
     "start_time": "2024-12-26T03:28:58.720056",
     "status": "completed"
    },
    "tags": []
   },
   "outputs": [],
   "source": [
    "# For EDA\n",
    "import pandas as pd\n",
    "import numpy as np\n",
    "import matplotlib.pyplot as plt\n",
    "import seaborn as sns\n",
    "from sklearn.preprocessing import LabelEncoder\n",
    "\n",
    "# For model\n",
    "from sklearn.model_selection import train_test_split\n",
    "from sklearn.preprocessing import StandardScaler, PolynomialFeatures\n",
    "from sklearn.pipeline import make_pipeline\n",
    "from sklearn.linear_model import LogisticRegression, BayesianRidge\n",
    "from sklearn.ensemble import RandomForestClassifier, GradientBoostingClassifier, AdaBoostClassifier, VotingClassifier\n",
    "from sklearn.tree import DecisionTreeClassifier\n",
    "from sklearn.svm import SVC\n",
    "from sklearn.neighbors import KNeighborsClassifier\n",
    "from sklearn.neural_network import MLPClassifier\n",
    "from xgboost import XGBClassifier\n",
    "from sklearn.metrics import accuracy_score, precision_score, recall_score, f1_score, classification_report, confusion_matrix\n",
    "from sklearn.model_selection import RandomizedSearchCV, GridSearchCV\n",
    "from sklearn.exceptions import FitFailedWarning\n",
    "\n",
    "import warnings\n",
    "warnings.filterwarnings('ignore', category=FutureWarning)\n",
    "warnings.simplefilter(\"ignore\", FitFailedWarning)"
   ]
  },
  {
   "cell_type": "code",
   "execution_count": 2,
   "id": "d550ad9b",
   "metadata": {
    "execution": {
     "iopub.execute_input": "2024-12-26T03:29:01.768327Z",
     "iopub.status.busy": "2024-12-26T03:29:01.767768Z",
     "iopub.status.idle": "2024-12-26T03:29:01.809882Z",
     "shell.execute_reply": "2024-12-26T03:29:01.808598Z"
    },
    "papermill": {
     "duration": 0.052959,
     "end_time": "2024-12-26T03:29:01.812196",
     "exception": false,
     "start_time": "2024-12-26T03:29:01.759237",
     "status": "completed"
    },
    "tags": []
   },
   "outputs": [
    {
     "data": {
      "text/html": [
       "<div>\n",
       "<style scoped>\n",
       "    .dataframe tbody tr th:only-of-type {\n",
       "        vertical-align: middle;\n",
       "    }\n",
       "\n",
       "    .dataframe tbody tr th {\n",
       "        vertical-align: top;\n",
       "    }\n",
       "\n",
       "    .dataframe thead th {\n",
       "        text-align: right;\n",
       "    }\n",
       "</style>\n",
       "<table border=\"1\" class=\"dataframe\">\n",
       "  <thead>\n",
       "    <tr style=\"text-align: right;\">\n",
       "      <th></th>\n",
       "      <th>Person ID</th>\n",
       "      <th>Gender</th>\n",
       "      <th>Age</th>\n",
       "      <th>Occupation</th>\n",
       "      <th>Sleep Duration (hours)</th>\n",
       "      <th>Quality of Sleep (scale: 1-10)</th>\n",
       "      <th>Physical Activity Level (minutes/day)</th>\n",
       "      <th>Stress Level (scale: 1-10)</th>\n",
       "      <th>BMI Category</th>\n",
       "      <th>Blood Pressure (systolic/diastolic)</th>\n",
       "      <th>Heart Rate (bpm)</th>\n",
       "      <th>Daily Steps</th>\n",
       "      <th>Sleep Disorder</th>\n",
       "    </tr>\n",
       "  </thead>\n",
       "  <tbody>\n",
       "    <tr>\n",
       "      <th>0</th>\n",
       "      <td>1</td>\n",
       "      <td>Male</td>\n",
       "      <td>29</td>\n",
       "      <td>Manual Labor</td>\n",
       "      <td>7.4</td>\n",
       "      <td>7.0</td>\n",
       "      <td>41</td>\n",
       "      <td>7</td>\n",
       "      <td>Obese</td>\n",
       "      <td>124/70</td>\n",
       "      <td>91</td>\n",
       "      <td>8539</td>\n",
       "      <td>NaN</td>\n",
       "    </tr>\n",
       "    <tr>\n",
       "      <th>1</th>\n",
       "      <td>2</td>\n",
       "      <td>Female</td>\n",
       "      <td>43</td>\n",
       "      <td>Retired</td>\n",
       "      <td>4.2</td>\n",
       "      <td>4.9</td>\n",
       "      <td>41</td>\n",
       "      <td>5</td>\n",
       "      <td>Obese</td>\n",
       "      <td>131/86</td>\n",
       "      <td>81</td>\n",
       "      <td>18754</td>\n",
       "      <td>NaN</td>\n",
       "    </tr>\n",
       "    <tr>\n",
       "      <th>2</th>\n",
       "      <td>3</td>\n",
       "      <td>Male</td>\n",
       "      <td>44</td>\n",
       "      <td>Retired</td>\n",
       "      <td>6.1</td>\n",
       "      <td>6.0</td>\n",
       "      <td>107</td>\n",
       "      <td>4</td>\n",
       "      <td>Underweight</td>\n",
       "      <td>122/70</td>\n",
       "      <td>81</td>\n",
       "      <td>2857</td>\n",
       "      <td>NaN</td>\n",
       "    </tr>\n",
       "    <tr>\n",
       "      <th>3</th>\n",
       "      <td>4</td>\n",
       "      <td>Male</td>\n",
       "      <td>29</td>\n",
       "      <td>Office Worker</td>\n",
       "      <td>8.3</td>\n",
       "      <td>10.0</td>\n",
       "      <td>20</td>\n",
       "      <td>10</td>\n",
       "      <td>Obese</td>\n",
       "      <td>124/72</td>\n",
       "      <td>55</td>\n",
       "      <td>6886</td>\n",
       "      <td>NaN</td>\n",
       "    </tr>\n",
       "    <tr>\n",
       "      <th>4</th>\n",
       "      <td>5</td>\n",
       "      <td>Male</td>\n",
       "      <td>67</td>\n",
       "      <td>Retired</td>\n",
       "      <td>9.1</td>\n",
       "      <td>9.5</td>\n",
       "      <td>19</td>\n",
       "      <td>4</td>\n",
       "      <td>Overweight</td>\n",
       "      <td>133/78</td>\n",
       "      <td>97</td>\n",
       "      <td>14945</td>\n",
       "      <td>Insomnia</td>\n",
       "    </tr>\n",
       "  </tbody>\n",
       "</table>\n",
       "</div>"
      ],
      "text/plain": [
       "   Person ID  Gender  Age     Occupation  Sleep Duration (hours)  \\\n",
       "0          1    Male   29   Manual Labor                     7.4   \n",
       "1          2  Female   43        Retired                     4.2   \n",
       "2          3    Male   44        Retired                     6.1   \n",
       "3          4    Male   29  Office Worker                     8.3   \n",
       "4          5    Male   67        Retired                     9.1   \n",
       "\n",
       "   Quality of Sleep (scale: 1-10)  Physical Activity Level (minutes/day)  \\\n",
       "0                             7.0                                     41   \n",
       "1                             4.9                                     41   \n",
       "2                             6.0                                    107   \n",
       "3                            10.0                                     20   \n",
       "4                             9.5                                     19   \n",
       "\n",
       "   Stress Level (scale: 1-10) BMI Category  \\\n",
       "0                           7        Obese   \n",
       "1                           5        Obese   \n",
       "2                           4  Underweight   \n",
       "3                          10        Obese   \n",
       "4                           4   Overweight   \n",
       "\n",
       "  Blood Pressure (systolic/diastolic)  Heart Rate (bpm)  Daily Steps  \\\n",
       "0                              124/70                91         8539   \n",
       "1                              131/86                81        18754   \n",
       "2                              122/70                81         2857   \n",
       "3                              124/72                55         6886   \n",
       "4                              133/78                97        14945   \n",
       "\n",
       "  Sleep Disorder  \n",
       "0            NaN  \n",
       "1            NaN  \n",
       "2            NaN  \n",
       "3            NaN  \n",
       "4       Insomnia  "
      ]
     },
     "execution_count": 2,
     "metadata": {},
     "output_type": "execute_result"
    }
   ],
   "source": [
    "df = pd.read_csv('/kaggle/input/insights-into-sleep-patterns-and-daily-habits/sleep_health_lifestyle_dataset.csv')\n",
    "df.head()"
   ]
  },
  {
   "cell_type": "code",
   "execution_count": 3,
   "id": "9429460a",
   "metadata": {
    "execution": {
     "iopub.execute_input": "2024-12-26T03:29:01.826569Z",
     "iopub.status.busy": "2024-12-26T03:29:01.826218Z",
     "iopub.status.idle": "2024-12-26T03:29:01.857454Z",
     "shell.execute_reply": "2024-12-26T03:29:01.856091Z"
    },
    "papermill": {
     "duration": 0.040875,
     "end_time": "2024-12-26T03:29:01.859685",
     "exception": false,
     "start_time": "2024-12-26T03:29:01.818810",
     "status": "completed"
    },
    "tags": []
   },
   "outputs": [
    {
     "name": "stdout",
     "output_type": "stream",
     "text": [
      "<class 'pandas.core.frame.DataFrame'>\n",
      "RangeIndex: 400 entries, 0 to 399\n",
      "Data columns (total 12 columns):\n",
      " #   Column                                 Non-Null Count  Dtype  \n",
      "---  ------                                 --------------  -----  \n",
      " 0   Gender                                 400 non-null    object \n",
      " 1   Age                                    400 non-null    int64  \n",
      " 2   Occupation                             400 non-null    object \n",
      " 3   Sleep Duration (hours)                 400 non-null    float64\n",
      " 4   Quality of Sleep (scale: 1-10)         400 non-null    float64\n",
      " 5   Physical Activity Level (minutes/day)  400 non-null    int64  \n",
      " 6   Stress Level (scale: 1-10)             400 non-null    int64  \n",
      " 7   BMI Category                           400 non-null    object \n",
      " 8   Blood Pressure (systolic/diastolic)    400 non-null    object \n",
      " 9   Heart Rate (bpm)                       400 non-null    int64  \n",
      " 10  Daily Steps                            400 non-null    int64  \n",
      " 11  Sleep Disorder                         110 non-null    object \n",
      "dtypes: float64(2), int64(5), object(5)\n",
      "memory usage: 37.6+ KB\n"
     ]
    }
   ],
   "source": [
    "df.drop('Person ID', axis=1, inplace=True)\n",
    "df.info()"
   ]
  },
  {
   "cell_type": "code",
   "execution_count": 4,
   "id": "82f6bb87",
   "metadata": {
    "execution": {
     "iopub.execute_input": "2024-12-26T03:29:01.874486Z",
     "iopub.status.busy": "2024-12-26T03:29:01.874119Z",
     "iopub.status.idle": "2024-12-26T03:29:01.908243Z",
     "shell.execute_reply": "2024-12-26T03:29:01.906914Z"
    },
    "papermill": {
     "duration": 0.044096,
     "end_time": "2024-12-26T03:29:01.910432",
     "exception": false,
     "start_time": "2024-12-26T03:29:01.866336",
     "status": "completed"
    },
    "tags": []
   },
   "outputs": [
    {
     "data": {
      "text/html": [
       "<div>\n",
       "<style scoped>\n",
       "    .dataframe tbody tr th:only-of-type {\n",
       "        vertical-align: middle;\n",
       "    }\n",
       "\n",
       "    .dataframe tbody tr th {\n",
       "        vertical-align: top;\n",
       "    }\n",
       "\n",
       "    .dataframe thead th {\n",
       "        text-align: right;\n",
       "    }\n",
       "</style>\n",
       "<table border=\"1\" class=\"dataframe\">\n",
       "  <thead>\n",
       "    <tr style=\"text-align: right;\">\n",
       "      <th></th>\n",
       "      <th>count</th>\n",
       "      <th>mean</th>\n",
       "      <th>std</th>\n",
       "      <th>min</th>\n",
       "      <th>25%</th>\n",
       "      <th>50%</th>\n",
       "      <th>75%</th>\n",
       "      <th>max</th>\n",
       "    </tr>\n",
       "  </thead>\n",
       "  <tbody>\n",
       "    <tr>\n",
       "      <th>Age</th>\n",
       "      <td>400.0</td>\n",
       "      <td>39.95000</td>\n",
       "      <td>14.038883</td>\n",
       "      <td>18.0</td>\n",
       "      <td>29.00</td>\n",
       "      <td>40.0</td>\n",
       "      <td>49.000</td>\n",
       "      <td>90.0</td>\n",
       "    </tr>\n",
       "    <tr>\n",
       "      <th>Sleep Duration (hours)</th>\n",
       "      <td>400.0</td>\n",
       "      <td>8.04125</td>\n",
       "      <td>2.390787</td>\n",
       "      <td>4.1</td>\n",
       "      <td>5.90</td>\n",
       "      <td>8.2</td>\n",
       "      <td>10.125</td>\n",
       "      <td>12.0</td>\n",
       "    </tr>\n",
       "    <tr>\n",
       "      <th>Quality of Sleep (scale: 1-10)</th>\n",
       "      <td>400.0</td>\n",
       "      <td>6.12575</td>\n",
       "      <td>1.975733</td>\n",
       "      <td>1.0</td>\n",
       "      <td>4.70</td>\n",
       "      <td>6.1</td>\n",
       "      <td>7.425</td>\n",
       "      <td>10.0</td>\n",
       "    </tr>\n",
       "    <tr>\n",
       "      <th>Physical Activity Level (minutes/day)</th>\n",
       "      <td>400.0</td>\n",
       "      <td>64.98500</td>\n",
       "      <td>32.297874</td>\n",
       "      <td>10.0</td>\n",
       "      <td>35.00</td>\n",
       "      <td>65.5</td>\n",
       "      <td>94.000</td>\n",
       "      <td>120.0</td>\n",
       "    </tr>\n",
       "    <tr>\n",
       "      <th>Stress Level (scale: 1-10)</th>\n",
       "      <td>400.0</td>\n",
       "      <td>5.47250</td>\n",
       "      <td>2.808730</td>\n",
       "      <td>1.0</td>\n",
       "      <td>3.00</td>\n",
       "      <td>5.0</td>\n",
       "      <td>8.000</td>\n",
       "      <td>10.0</td>\n",
       "    </tr>\n",
       "    <tr>\n",
       "      <th>Heart Rate (bpm)</th>\n",
       "      <td>400.0</td>\n",
       "      <td>75.99000</td>\n",
       "      <td>15.099334</td>\n",
       "      <td>50.0</td>\n",
       "      <td>63.00</td>\n",
       "      <td>77.0</td>\n",
       "      <td>90.000</td>\n",
       "      <td>100.0</td>\n",
       "    </tr>\n",
       "    <tr>\n",
       "      <th>Daily Steps</th>\n",
       "      <td>400.0</td>\n",
       "      <td>11076.51000</td>\n",
       "      <td>5364.789364</td>\n",
       "      <td>2067.0</td>\n",
       "      <td>6165.25</td>\n",
       "      <td>11785.5</td>\n",
       "      <td>15878.000</td>\n",
       "      <td>19958.0</td>\n",
       "    </tr>\n",
       "  </tbody>\n",
       "</table>\n",
       "</div>"
      ],
      "text/plain": [
       "                                       count         mean          std  \\\n",
       "Age                                    400.0     39.95000    14.038883   \n",
       "Sleep Duration (hours)                 400.0      8.04125     2.390787   \n",
       "Quality of Sleep (scale: 1-10)         400.0      6.12575     1.975733   \n",
       "Physical Activity Level (minutes/day)  400.0     64.98500    32.297874   \n",
       "Stress Level (scale: 1-10)             400.0      5.47250     2.808730   \n",
       "Heart Rate (bpm)                       400.0     75.99000    15.099334   \n",
       "Daily Steps                            400.0  11076.51000  5364.789364   \n",
       "\n",
       "                                          min      25%      50%        75%  \\\n",
       "Age                                      18.0    29.00     40.0     49.000   \n",
       "Sleep Duration (hours)                    4.1     5.90      8.2     10.125   \n",
       "Quality of Sleep (scale: 1-10)            1.0     4.70      6.1      7.425   \n",
       "Physical Activity Level (minutes/day)    10.0    35.00     65.5     94.000   \n",
       "Stress Level (scale: 1-10)                1.0     3.00      5.0      8.000   \n",
       "Heart Rate (bpm)                         50.0    63.00     77.0     90.000   \n",
       "Daily Steps                            2067.0  6165.25  11785.5  15878.000   \n",
       "\n",
       "                                           max  \n",
       "Age                                       90.0  \n",
       "Sleep Duration (hours)                    12.0  \n",
       "Quality of Sleep (scale: 1-10)            10.0  \n",
       "Physical Activity Level (minutes/day)    120.0  \n",
       "Stress Level (scale: 1-10)                10.0  \n",
       "Heart Rate (bpm)                         100.0  \n",
       "Daily Steps                            19958.0  "
      ]
     },
     "execution_count": 4,
     "metadata": {},
     "output_type": "execute_result"
    }
   ],
   "source": [
    "df.describe().T"
   ]
  },
  {
   "cell_type": "code",
   "execution_count": 5,
   "id": "cb3d34b8",
   "metadata": {
    "execution": {
     "iopub.execute_input": "2024-12-26T03:29:01.926235Z",
     "iopub.status.busy": "2024-12-26T03:29:01.925841Z",
     "iopub.status.idle": "2024-12-26T03:29:01.944424Z",
     "shell.execute_reply": "2024-12-26T03:29:01.943138Z"
    },
    "papermill": {
     "duration": 0.028848,
     "end_time": "2024-12-26T03:29:01.946683",
     "exception": false,
     "start_time": "2024-12-26T03:29:01.917835",
     "status": "completed"
    },
    "tags": []
   },
   "outputs": [
    {
     "data": {
      "text/html": [
       "<div>\n",
       "<style scoped>\n",
       "    .dataframe tbody tr th:only-of-type {\n",
       "        vertical-align: middle;\n",
       "    }\n",
       "\n",
       "    .dataframe tbody tr th {\n",
       "        vertical-align: top;\n",
       "    }\n",
       "\n",
       "    .dataframe thead th {\n",
       "        text-align: right;\n",
       "    }\n",
       "</style>\n",
       "<table border=\"1\" class=\"dataframe\">\n",
       "  <thead>\n",
       "    <tr style=\"text-align: right;\">\n",
       "      <th></th>\n",
       "      <th>count</th>\n",
       "      <th>unique</th>\n",
       "      <th>top</th>\n",
       "      <th>freq</th>\n",
       "    </tr>\n",
       "  </thead>\n",
       "  <tbody>\n",
       "    <tr>\n",
       "      <th>Gender</th>\n",
       "      <td>400</td>\n",
       "      <td>2</td>\n",
       "      <td>Female</td>\n",
       "      <td>201</td>\n",
       "    </tr>\n",
       "    <tr>\n",
       "      <th>Occupation</th>\n",
       "      <td>400</td>\n",
       "      <td>4</td>\n",
       "      <td>Student</td>\n",
       "      <td>110</td>\n",
       "    </tr>\n",
       "    <tr>\n",
       "      <th>BMI Category</th>\n",
       "      <td>400</td>\n",
       "      <td>4</td>\n",
       "      <td>Overweight</td>\n",
       "      <td>109</td>\n",
       "    </tr>\n",
       "    <tr>\n",
       "      <th>Blood Pressure (systolic/diastolic)</th>\n",
       "      <td>400</td>\n",
       "      <td>250</td>\n",
       "      <td>109/60</td>\n",
       "      <td>17</td>\n",
       "    </tr>\n",
       "    <tr>\n",
       "      <th>Sleep Disorder</th>\n",
       "      <td>110</td>\n",
       "      <td>2</td>\n",
       "      <td>Insomnia</td>\n",
       "      <td>79</td>\n",
       "    </tr>\n",
       "  </tbody>\n",
       "</table>\n",
       "</div>"
      ],
      "text/plain": [
       "                                    count unique         top freq\n",
       "Gender                                400      2      Female  201\n",
       "Occupation                            400      4     Student  110\n",
       "BMI Category                          400      4  Overweight  109\n",
       "Blood Pressure (systolic/diastolic)   400    250      109/60   17\n",
       "Sleep Disorder                        110      2    Insomnia   79"
      ]
     },
     "execution_count": 5,
     "metadata": {},
     "output_type": "execute_result"
    }
   ],
   "source": [
    "df.describe(include = 'object').T"
   ]
  },
  {
   "cell_type": "code",
   "execution_count": 6,
   "id": "6b7c3e3a",
   "metadata": {
    "execution": {
     "iopub.execute_input": "2024-12-26T03:29:01.962023Z",
     "iopub.status.busy": "2024-12-26T03:29:01.961649Z",
     "iopub.status.idle": "2024-12-26T03:29:01.974607Z",
     "shell.execute_reply": "2024-12-26T03:29:01.973318Z"
    },
    "papermill": {
     "duration": 0.022594,
     "end_time": "2024-12-26T03:29:01.976501",
     "exception": false,
     "start_time": "2024-12-26T03:29:01.953907",
     "status": "completed"
    },
    "tags": []
   },
   "outputs": [
    {
     "name": "stdout",
     "output_type": "stream",
     "text": [
      "Missing Value (%)\n",
      "Gender                                    0.0\n",
      "Age                                       0.0\n",
      "Occupation                                0.0\n",
      "Sleep Duration (hours)                    0.0\n",
      "Quality of Sleep (scale: 1-10)            0.0\n",
      "Physical Activity Level (minutes/day)     0.0\n",
      "Stress Level (scale: 1-10)                0.0\n",
      "BMI Category                              0.0\n",
      "Blood Pressure (systolic/diastolic)       0.0\n",
      "Heart Rate (bpm)                          0.0\n",
      "Daily Steps                               0.0\n",
      "Sleep Disorder                           72.5\n",
      "dtype: float64\n",
      "\n",
      "Duplicate Rows (%):\n",
      "0.0\n"
     ]
    }
   ],
   "source": [
    "print(\"Missing Value (%)\")\n",
    "missing_values = df.isna().mean() * 100\n",
    "print(missing_values)\n",
    "\n",
    "print(\"\\nDuplicate Rows (%):\")\n",
    "duplicate_count = df.duplicated().mean()\n",
    "print(duplicate_count)"
   ]
  },
  {
   "cell_type": "code",
   "execution_count": 7,
   "id": "502917df",
   "metadata": {
    "execution": {
     "iopub.execute_input": "2024-12-26T03:29:01.991926Z",
     "iopub.status.busy": "2024-12-26T03:29:01.991563Z",
     "iopub.status.idle": "2024-12-26T03:29:01.998207Z",
     "shell.execute_reply": "2024-12-26T03:29:01.997182Z"
    },
    "papermill": {
     "duration": 0.016674,
     "end_time": "2024-12-26T03:29:02.000335",
     "exception": false,
     "start_time": "2024-12-26T03:29:01.983661",
     "status": "completed"
    },
    "tags": []
   },
   "outputs": [
    {
     "data": {
      "text/plain": [
       "array([nan, 'Insomnia', 'Sleep Apnea'], dtype=object)"
      ]
     },
     "execution_count": 7,
     "metadata": {},
     "output_type": "execute_result"
    }
   ],
   "source": [
    "df['Sleep Disorder'].unique()"
   ]
  },
  {
   "cell_type": "markdown",
   "id": "c962e7fc",
   "metadata": {
    "papermill": {
     "duration": 0.006851,
     "end_time": "2024-12-26T03:29:02.014475",
     "exception": false,
     "start_time": "2024-12-26T03:29:02.007624",
     "status": "completed"
    },
    "tags": []
   },
   "source": [
    "# <div style=\"display: inline-block; padding: 20px 20px; border-radius: 15px; background: linear-gradient(135deg, #d8bfd8, #8b008b); box-shadow: 3px 3px 8px rgba(0, 0, 0, 0.2); font-size: 35px; font-family: Arial, sans-serif; color: #ffffff; text-align: center;\">Data preprocessing : Model-based Imputation</div>"
   ]
  },
  {
   "cell_type": "code",
   "execution_count": 8,
   "id": "715aa667",
   "metadata": {
    "execution": {
     "iopub.execute_input": "2024-12-26T03:29:02.029907Z",
     "iopub.status.busy": "2024-12-26T03:29:02.029389Z",
     "iopub.status.idle": "2024-12-26T03:29:02.292967Z",
     "shell.execute_reply": "2024-12-26T03:29:02.291849Z"
    },
    "papermill": {
     "duration": 0.273713,
     "end_time": "2024-12-26T03:29:02.295158",
     "exception": false,
     "start_time": "2024-12-26T03:29:02.021445",
     "status": "completed"
    },
    "tags": []
   },
   "outputs": [
    {
     "data": {
      "image/png": "[encoded data removed]",
      "text/plain": [
       "<Figure size 800x500 with 1 Axes>"
      ]
     },
     "metadata": {},
     "output_type": "display_data"
    }
   ],
   "source": [
    "plt.figure(figsize=(8, 5))\n",
    "sns.countplot(x=df['Sleep Disorder'], palette=\"Set2\")\n",
    "plt.title(\"Distribution of Sleep Disorder\", fontsize=16)\n",
    "plt.xlabel(\"Sleep Disorder\", fontsize=12)\n",
    "plt.ylabel(\"Count\", fontsize=12)\n",
    "plt.xticks([0, 1], labels=['No Disorder', 'Disorder'], fontsize=10)\n",
    "plt.show()"
   ]
  },
  {
   "cell_type": "code",
   "execution_count": 9,
   "id": "351d56d0",
   "metadata": {
    "execution": {
     "iopub.execute_input": "2024-12-26T03:29:02.312376Z",
     "iopub.status.busy": "2024-12-26T03:29:02.312036Z",
     "iopub.status.idle": "2024-12-26T03:29:02.532696Z",
     "shell.execute_reply": "2024-12-26T03:29:02.531169Z"
    },
    "papermill": {
     "duration": 0.231202,
     "end_time": "2024-12-26T03:29:02.534536",
     "exception": false,
     "start_time": "2024-12-26T03:29:02.303334",
     "status": "completed"
    },
    "tags": []
   },
   "outputs": [
    {
     "data": {
      "image/png": "[encoded data removed]",
      "text/plain": [
       "<Figure size 800x500 with 1 Axes>"
      ]
     },
     "metadata": {},
     "output_type": "display_data"
    }
   ],
   "source": [
    "plt.figure(figsize=(8, 5))\n",
    "sns.countplot(x=df['Sleep Disorder'].fillna('NaN'), palette=\"Set2\")\n",
    "plt.title(\"Distribution of Sleep Disorder (Including NaN)\", fontsize=16)\n",
    "plt.xlabel(\"Sleep Disorder\", fontsize=12)\n",
    "plt.ylabel(\"Count\", fontsize=12)\n",
    "plt.xticks(fontsize=10)\n",
    "plt.show()"
   ]
  },
  {
   "cell_type": "code",
   "execution_count": 10,
   "id": "1adfb3fd",
   "metadata": {
    "execution": {
     "iopub.execute_input": "2024-12-26T03:29:02.552765Z",
     "iopub.status.busy": "2024-12-26T03:29:02.552379Z",
     "iopub.status.idle": "2024-12-26T03:29:02.577726Z",
     "shell.execute_reply": "2024-12-26T03:29:02.576707Z"
    },
    "papermill": {
     "duration": 0.036462,
     "end_time": "2024-12-26T03:29:02.579492",
     "exception": false,
     "start_time": "2024-12-26T03:29:02.543030",
     "status": "completed"
    },
    "tags": []
   },
   "outputs": [
    {
     "data": {
      "text/plain": [
       "'Encoded X:'"
      ]
     },
     "metadata": {},
     "output_type": "display_data"
    },
    {
     "data": {
      "text/html": [
       "<div>\n",
       "<style scoped>\n",
       "    .dataframe tbody tr th:only-of-type {\n",
       "        vertical-align: middle;\n",
       "    }\n",
       "\n",
       "    .dataframe tbody tr th {\n",
       "        vertical-align: top;\n",
       "    }\n",
       "\n",
       "    .dataframe thead th {\n",
       "        text-align: right;\n",
       "    }\n",
       "</style>\n",
       "<table border=\"1\" class=\"dataframe\">\n",
       "  <thead>\n",
       "    <tr style=\"text-align: right;\">\n",
       "      <th></th>\n",
       "      <th>Gender</th>\n",
       "      <th>Age</th>\n",
       "      <th>Occupation</th>\n",
       "      <th>Sleep Duration (hours)</th>\n",
       "      <th>Quality of Sleep (scale: 1-10)</th>\n",
       "      <th>Physical Activity Level (minutes/day)</th>\n",
       "      <th>Stress Level (scale: 1-10)</th>\n",
       "      <th>BMI Category</th>\n",
       "      <th>Blood Pressure (systolic/diastolic)</th>\n",
       "      <th>Heart Rate (bpm)</th>\n",
       "      <th>Daily Steps</th>\n",
       "    </tr>\n",
       "  </thead>\n",
       "  <tbody>\n",
       "    <tr>\n",
       "      <th>4</th>\n",
       "      <td>1</td>\n",
       "      <td>67</td>\n",
       "      <td>2</td>\n",
       "      <td>9.1</td>\n",
       "      <td>9.5</td>\n",
       "      <td>19</td>\n",
       "      <td>4</td>\n",
       "      <td>2</td>\n",
       "      <td>75</td>\n",
       "      <td>97</td>\n",
       "      <td>14945</td>\n",
       "    </tr>\n",
       "    <tr>\n",
       "      <th>8</th>\n",
       "      <td>1</td>\n",
       "      <td>25</td>\n",
       "      <td>0</td>\n",
       "      <td>11.9</td>\n",
       "      <td>7.2</td>\n",
       "      <td>27</td>\n",
       "      <td>8</td>\n",
       "      <td>3</td>\n",
       "      <td>10</td>\n",
       "      <td>99</td>\n",
       "      <td>16397</td>\n",
       "    </tr>\n",
       "    <tr>\n",
       "      <th>12</th>\n",
       "      <td>1</td>\n",
       "      <td>54</td>\n",
       "      <td>1</td>\n",
       "      <td>4.1</td>\n",
       "      <td>6.8</td>\n",
       "      <td>113</td>\n",
       "      <td>9</td>\n",
       "      <td>1</td>\n",
       "      <td>85</td>\n",
       "      <td>70</td>\n",
       "      <td>15440</td>\n",
       "    </tr>\n",
       "    <tr>\n",
       "      <th>18</th>\n",
       "      <td>0</td>\n",
       "      <td>26</td>\n",
       "      <td>0</td>\n",
       "      <td>9.2</td>\n",
       "      <td>6.4</td>\n",
       "      <td>93</td>\n",
       "      <td>9</td>\n",
       "      <td>3</td>\n",
       "      <td>13</td>\n",
       "      <td>78</td>\n",
       "      <td>9957</td>\n",
       "    </tr>\n",
       "    <tr>\n",
       "      <th>19</th>\n",
       "      <td>1</td>\n",
       "      <td>27</td>\n",
       "      <td>0</td>\n",
       "      <td>10.6</td>\n",
       "      <td>8.1</td>\n",
       "      <td>94</td>\n",
       "      <td>8</td>\n",
       "      <td>0</td>\n",
       "      <td>12</td>\n",
       "      <td>58</td>\n",
       "      <td>17796</td>\n",
       "    </tr>\n",
       "  </tbody>\n",
       "</table>\n",
       "</div>"
      ],
      "text/plain": [
       "    Gender  Age  Occupation  Sleep Duration (hours)  \\\n",
       "4        1   67           2                     9.1   \n",
       "8        1   25           0                    11.9   \n",
       "12       1   54           1                     4.1   \n",
       "18       0   26           0                     9.2   \n",
       "19       1   27           0                    10.6   \n",
       "\n",
       "    Quality of Sleep (scale: 1-10)  Physical Activity Level (minutes/day)  \\\n",
       "4                              9.5                                     19   \n",
       "8                              7.2                                     27   \n",
       "12                             6.8                                    113   \n",
       "18                             6.4                                     93   \n",
       "19                             8.1                                     94   \n",
       "\n",
       "    Stress Level (scale: 1-10)  BMI Category  \\\n",
       "4                            4             2   \n",
       "8                            8             3   \n",
       "12                           9             1   \n",
       "18                           9             3   \n",
       "19                           8             0   \n",
       "\n",
       "    Blood Pressure (systolic/diastolic)  Heart Rate (bpm)  Daily Steps  \n",
       "4                                    75                97        14945  \n",
       "8                                    10                99        16397  \n",
       "12                                   85                70        15440  \n",
       "18                                   13                78         9957  \n",
       "19                                   12                58        17796  "
      ]
     },
     "metadata": {},
     "output_type": "display_data"
    },
    {
     "data": {
      "text/plain": [
       "'Encoded y:'"
      ]
     },
     "metadata": {},
     "output_type": "display_data"
    },
    {
     "data": {
      "text/plain": [
       "array([0, 1, 1, 1, 0])"
      ]
     },
     "metadata": {},
     "output_type": "display_data"
    },
    {
     "name": "stdout",
     "output_type": "stream",
     "text": [
      "Type of y: <class 'numpy.ndarray'>\n"
     ]
    }
   ],
   "source": [
    "filtered_df = df[df['Sleep Disorder'].notna()].copy()\n",
    "\n",
    "label_encoders = {}\n",
    "for col in filtered_df.select_dtypes(include='object').columns:\n",
    "    le = LabelEncoder()\n",
    "    filtered_df[col] = le.fit_transform(filtered_df[col])\n",
    "    label_encoders[col] = le\n",
    "\n",
    "le_y = LabelEncoder()\n",
    "y = le_y.fit_transform(filtered_df['Sleep Disorder'])\n",
    "\n",
    "X = filtered_df.drop(columns=['Sleep Disorder'])\n",
    "\n",
    "display(\"Encoded X:\", X.head())\n",
    "display(\"Encoded y:\", y[:5]) \n",
    "\n",
    "print(\"Type of y:\", type(y))  "
   ]
  },
  {
   "cell_type": "code",
   "execution_count": 11,
   "id": "541baba5",
   "metadata": {
    "execution": {
     "iopub.execute_input": "2024-12-26T03:29:02.598691Z",
     "iopub.status.busy": "2024-12-26T03:29:02.598315Z",
     "iopub.status.idle": "2024-12-26T03:29:02.617103Z",
     "shell.execute_reply": "2024-12-26T03:29:02.615738Z"
    },
    "papermill": {
     "duration": 0.031016,
     "end_time": "2024-12-26T03:29:02.619403",
     "exception": false,
     "start_time": "2024-12-26T03:29:02.588387",
     "status": "completed"
    },
    "tags": []
   },
   "outputs": [],
   "source": [
    "X_train, X_test, y_train, y_test = train_test_split(X, y, test_size=0.2, random_state=42)\n",
    "\n",
    "scaler = StandardScaler()\n",
    "X_train_scaled = scaler.fit_transform(X_train)\n",
    "X_test_scaled = scaler.transform(X_test)\n",
    "\n",
    "\n",
    "models = {\n",
    "    \"Logistic Regression\": LogisticRegression(max_iter=10000, random_state=42),\n",
    "    \"SVM\": SVC(kernel='rbf', C=1.0, probability=True, random_state=42),\n",
    "    \"KNN\": KNeighborsClassifier(n_neighbors=3),\n",
    "    \"Decision Tree\": DecisionTreeClassifier(random_state=42),\n",
    "    \"Random Forest\": RandomForestClassifier(n_estimators=100, random_state=42),\n",
    "    \"XGBoost\": XGBClassifier(n_estimators=100, random_state=42),\n",
    "    \"MLP Classifier\": MLPClassifier(hidden_layer_sizes=(100, 50), max_iter=500, random_state=42),\n",
    "}\n",
    "\n",
    "def evaluate_model(model, X_train, X_test, y_train, y_test):\n",
    "    model.fit(X_train, y_train)  \n",
    "    y_pred = model.predict(X_test)  \n",
    "    \n",
    "    accuracy = accuracy_score(y_test, y_pred)\n",
    "    precision = precision_score(y_test, y_pred, average='weighted', zero_division=1)\n",
    "    recall = recall_score(y_test, y_pred, average='weighted')\n",
    "    f1 = f1_score(y_test, y_pred, average='weighted')\n",
    "    \n",
    "    return accuracy, precision, recall, f1"
   ]
  },
  {
   "cell_type": "code",
   "execution_count": 12,
   "id": "8419ca8e",
   "metadata": {
    "execution": {
     "iopub.execute_input": "2024-12-26T03:29:02.638275Z",
     "iopub.status.busy": "2024-12-26T03:29:02.637889Z",
     "iopub.status.idle": "2024-12-26T03:29:03.355504Z",
     "shell.execute_reply": "2024-12-26T03:29:03.353382Z"
    },
    "papermill": {
     "duration": 0.73029,
     "end_time": "2024-12-26T03:29:03.358644",
     "exception": false,
     "start_time": "2024-12-26T03:29:02.628354",
     "status": "completed"
    },
    "tags": []
   },
   "outputs": [
    {
     "data": {
      "text/html": [
       "<div>\n",
       "<style scoped>\n",
       "    .dataframe tbody tr th:only-of-type {\n",
       "        vertical-align: middle;\n",
       "    }\n",
       "\n",
       "    .dataframe tbody tr th {\n",
       "        vertical-align: top;\n",
       "    }\n",
       "\n",
       "    .dataframe thead th {\n",
       "        text-align: right;\n",
       "    }\n",
       "</style>\n",
       "<table border=\"1\" class=\"dataframe\">\n",
       "  <thead>\n",
       "    <tr style=\"text-align: right;\">\n",
       "      <th></th>\n",
       "      <th>Model</th>\n",
       "      <th>Accuracy</th>\n",
       "      <th>Precision</th>\n",
       "      <th>Recall</th>\n",
       "      <th>F1-Score</th>\n",
       "    </tr>\n",
       "  </thead>\n",
       "  <tbody>\n",
       "    <tr>\n",
       "      <th>0</th>\n",
       "      <td>Logistic Regression</td>\n",
       "      <td>0.772727</td>\n",
       "      <td>0.731818</td>\n",
       "      <td>0.772727</td>\n",
       "      <td>0.733240</td>\n",
       "    </tr>\n",
       "    <tr>\n",
       "      <th>1</th>\n",
       "      <td>SVM</td>\n",
       "      <td>0.772727</td>\n",
       "      <td>0.824380</td>\n",
       "      <td>0.772727</td>\n",
       "      <td>0.673660</td>\n",
       "    </tr>\n",
       "    <tr>\n",
       "      <th>2</th>\n",
       "      <td>KNN</td>\n",
       "      <td>0.636364</td>\n",
       "      <td>0.636364</td>\n",
       "      <td>0.636364</td>\n",
       "      <td>0.636364</td>\n",
       "    </tr>\n",
       "    <tr>\n",
       "      <th>3</th>\n",
       "      <td>Decision Tree</td>\n",
       "      <td>0.545455</td>\n",
       "      <td>0.599134</td>\n",
       "      <td>0.545455</td>\n",
       "      <td>0.569129</td>\n",
       "    </tr>\n",
       "    <tr>\n",
       "      <th>4</th>\n",
       "      <td>Random Forest</td>\n",
       "      <td>0.772727</td>\n",
       "      <td>0.824380</td>\n",
       "      <td>0.772727</td>\n",
       "      <td>0.673660</td>\n",
       "    </tr>\n",
       "    <tr>\n",
       "      <th>5</th>\n",
       "      <td>XGBoost</td>\n",
       "      <td>0.500000</td>\n",
       "      <td>0.531250</td>\n",
       "      <td>0.500000</td>\n",
       "      <td>0.515152</td>\n",
       "    </tr>\n",
       "    <tr>\n",
       "      <th>6</th>\n",
       "      <td>MLP Classifier</td>\n",
       "      <td>0.636364</td>\n",
       "      <td>0.569378</td>\n",
       "      <td>0.636364</td>\n",
       "      <td>0.601010</td>\n",
       "    </tr>\n",
       "  </tbody>\n",
       "</table>\n",
       "</div>"
      ],
      "text/plain": [
       "                 Model  Accuracy  Precision    Recall  F1-Score\n",
       "0  Logistic Regression  0.772727   0.731818  0.772727  0.733240\n",
       "1                  SVM  0.772727   0.824380  0.772727  0.673660\n",
       "2                  KNN  0.636364   0.636364  0.636364  0.636364\n",
       "3        Decision Tree  0.545455   0.599134  0.545455  0.569129\n",
       "4        Random Forest  0.772727   0.824380  0.772727  0.673660\n",
       "5              XGBoost  0.500000   0.531250  0.500000  0.515152\n",
       "6       MLP Classifier  0.636364   0.569378  0.636364  0.601010"
      ]
     },
     "execution_count": 12,
     "metadata": {},
     "output_type": "execute_result"
    }
   ],
   "source": [
    "results = []\n",
    "\n",
    "for name, model in models.items():\n",
    "    accuracy, precision, recall, f1 = evaluate_model(model, X_train_scaled, X_test_scaled, y_train, y_test)\n",
    "    results.append({\n",
    "        \"Model\": name,\n",
    "        \"Accuracy\": accuracy,\n",
    "        \"Precision\": precision,\n",
    "        \"Recall\": recall,\n",
    "        \"F1-Score\": f1\n",
    "    })\n",
    "\n",
    "results_df = pd.DataFrame(results)\n",
    "results_df"
   ]
  },
  {
   "cell_type": "code",
   "execution_count": 13,
   "id": "de859669",
   "metadata": {
    "execution": {
     "iopub.execute_input": "2024-12-26T03:29:03.393423Z",
     "iopub.status.busy": "2024-12-26T03:29:03.392845Z",
     "iopub.status.idle": "2024-12-26T03:29:03.420206Z",
     "shell.execute_reply": "2024-12-26T03:29:03.419041Z"
    },
    "papermill": {
     "duration": 0.047429,
     "end_time": "2024-12-26T03:29:03.422574",
     "exception": false,
     "start_time": "2024-12-26T03:29:03.375145",
     "status": "completed"
    },
    "tags": []
   },
   "outputs": [],
   "source": [
    "model = LogisticRegression(max_iter=10000, random_state=42)\n",
    "model.fit(X_train_scaled, y_train)\n",
    "\n",
    "df_nan = df[df.isnull().any(axis=1)]\n",
    "X_nan = df_nan.drop('Sleep Disorder', axis=1)\n",
    "\n",
    "label_encoders = {}  \n",
    "for col in X_nan.select_dtypes(include='object').columns:\n",
    "    le = LabelEncoder()  \n",
    "    X_nan[col] = le.fit_transform(X_nan[col]) \n",
    "    label_encoders[col] = le\n",
    "\n",
    "X_nan_scaled = scaler.transform(X_nan)\n",
    "\n",
    "predicted_y = model.predict(X_nan_scaled)\n",
    "X_nan['Sleep Disorder'] = predicted_y\n",
    "df = pd.concat([X_nan, filtered_df], axis=0)"
   ]
  },
  {
   "cell_type": "code",
   "execution_count": 14,
   "id": "9613688f",
   "metadata": {
    "execution": {
     "iopub.execute_input": "2024-12-26T03:29:03.456174Z",
     "iopub.status.busy": "2024-12-26T03:29:03.455532Z",
     "iopub.status.idle": "2024-12-26T03:29:03.466701Z",
     "shell.execute_reply": "2024-12-26T03:29:03.465667Z"
    },
    "papermill": {
     "duration": 0.029184,
     "end_time": "2024-12-26T03:29:03.468620",
     "exception": false,
     "start_time": "2024-12-26T03:29:03.439436",
     "status": "completed"
    },
    "tags": []
   },
   "outputs": [
    {
     "name": "stdout",
     "output_type": "stream",
     "text": [
      "<class 'pandas.core.frame.DataFrame'>\n",
      "Index: 400 entries, 0 to 398\n",
      "Data columns (total 12 columns):\n",
      " #   Column                                 Non-Null Count  Dtype  \n",
      "---  ------                                 --------------  -----  \n",
      " 0   Gender                                 400 non-null    int64  \n",
      " 1   Age                                    400 non-null    int64  \n",
      " 2   Occupation                             400 non-null    int64  \n",
      " 3   Sleep Duration (hours)                 400 non-null    float64\n",
      " 4   Quality of Sleep (scale: 1-10)         400 non-null    float64\n",
      " 5   Physical Activity Level (minutes/day)  400 non-null    int64  \n",
      " 6   Stress Level (scale: 1-10)             400 non-null    int64  \n",
      " 7   BMI Category                           400 non-null    int64  \n",
      " 8   Blood Pressure (systolic/diastolic)    400 non-null    int64  \n",
      " 9   Heart Rate (bpm)                       400 non-null    int64  \n",
      " 10  Daily Steps                            400 non-null    int64  \n",
      " 11  Sleep Disorder                         400 non-null    int64  \n",
      "dtypes: float64(2), int64(10)\n",
      "memory usage: 40.6 KB\n"
     ]
    }
   ],
   "source": [
    "df.info()"
   ]
  },
  {
   "cell_type": "code",
   "execution_count": 15,
   "id": "95a65d6c",
   "metadata": {
    "execution": {
     "iopub.execute_input": "2024-12-26T03:29:03.487890Z",
     "iopub.status.busy": "2024-12-26T03:29:03.487534Z",
     "iopub.status.idle": "2024-12-26T03:29:03.494197Z",
     "shell.execute_reply": "2024-12-26T03:29:03.493133Z"
    },
    "papermill": {
     "duration": 0.018348,
     "end_time": "2024-12-26T03:29:03.496025",
     "exception": false,
     "start_time": "2024-12-26T03:29:03.477677",
     "status": "completed"
    },
    "tags": []
   },
   "outputs": [
    {
     "data": {
      "text/plain": [
       "array([0, 1])"
      ]
     },
     "execution_count": 15,
     "metadata": {},
     "output_type": "execute_result"
    }
   ],
   "source": [
    "df['Sleep Disorder'].unique()"
   ]
  },
  {
   "cell_type": "code",
   "execution_count": 16,
   "id": "36243947",
   "metadata": {
    "execution": {
     "iopub.execute_input": "2024-12-26T03:29:03.515762Z",
     "iopub.status.busy": "2024-12-26T03:29:03.515403Z",
     "iopub.status.idle": "2024-12-26T03:29:03.528626Z",
     "shell.execute_reply": "2024-12-26T03:29:03.527274Z"
    },
    "papermill": {
     "duration": 0.025031,
     "end_time": "2024-12-26T03:29:03.530348",
     "exception": false,
     "start_time": "2024-12-26T03:29:03.505317",
     "status": "completed"
    },
    "tags": []
   },
   "outputs": [
    {
     "name": "stdout",
     "output_type": "stream",
     "text": [
      "<class 'pandas.core.frame.DataFrame'>\n",
      "Index: 400 entries, 0 to 398\n",
      "Data columns (total 12 columns):\n",
      " #   Column                                 Non-Null Count  Dtype  \n",
      "---  ------                                 --------------  -----  \n",
      " 0   Gender                                 400 non-null    int64  \n",
      " 1   Age                                    400 non-null    int64  \n",
      " 2   Occupation                             400 non-null    int64  \n",
      " 3   Sleep Duration (hours)                 400 non-null    float64\n",
      " 4   Quality of Sleep (scale: 1-10)         400 non-null    float64\n",
      " 5   Physical Activity Level (minutes/day)  400 non-null    int64  \n",
      " 6   Stress Level (scale: 1-10)             400 non-null    int64  \n",
      " 7   BMI Category                           400 non-null    int64  \n",
      " 8   Blood Pressure (systolic/diastolic)    400 non-null    int64  \n",
      " 9   Heart Rate (bpm)                       400 non-null    int64  \n",
      " 10  Daily Steps                            400 non-null    int64  \n",
      " 11  Sleep Disorder                         400 non-null    int64  \n",
      "dtypes: float64(2), int64(10)\n",
      "memory usage: 40.6 KB\n",
      "\n",
      "\n",
      "Afer Missing Value (%)\n",
      "Gender                                   0.0\n",
      "Age                                      0.0\n",
      "Occupation                               0.0\n",
      "Sleep Duration (hours)                   0.0\n",
      "Quality of Sleep (scale: 1-10)           0.0\n",
      "Physical Activity Level (minutes/day)    0.0\n",
      "Stress Level (scale: 1-10)               0.0\n",
      "BMI Category                             0.0\n",
      "Blood Pressure (systolic/diastolic)      0.0\n",
      "Heart Rate (bpm)                         0.0\n",
      "Daily Steps                              0.0\n",
      "Sleep Disorder                           0.0\n",
      "dtype: float64\n"
     ]
    }
   ],
   "source": [
    "df.info()\n",
    "\n",
    "print(\"\\n\\nAfer Missing Value (%)\")\n",
    "missing_values = df.isna().mean() * 100\n",
    "print(missing_values)"
   ]
  },
  {
   "cell_type": "code",
   "execution_count": 17,
   "id": "7919eb9a",
   "metadata": {
    "execution": {
     "iopub.execute_input": "2024-12-26T03:29:03.551166Z",
     "iopub.status.busy": "2024-12-26T03:29:03.550784Z",
     "iopub.status.idle": "2024-12-26T03:29:03.600031Z",
     "shell.execute_reply": "2024-12-26T03:29:03.598806Z"
    },
    "papermill": {
     "duration": 0.061033,
     "end_time": "2024-12-26T03:29:03.601740",
     "exception": false,
     "start_time": "2024-12-26T03:29:03.540707",
     "status": "completed"
    },
    "tags": []
   },
   "outputs": [
    {
     "data": {
      "text/html": [
       "<div>\n",
       "<style scoped>\n",
       "    .dataframe tbody tr th:only-of-type {\n",
       "        vertical-align: middle;\n",
       "    }\n",
       "\n",
       "    .dataframe tbody tr th {\n",
       "        vertical-align: top;\n",
       "    }\n",
       "\n",
       "    .dataframe thead th {\n",
       "        text-align: right;\n",
       "    }\n",
       "</style>\n",
       "<table border=\"1\" class=\"dataframe\">\n",
       "  <thead>\n",
       "    <tr style=\"text-align: right;\">\n",
       "      <th></th>\n",
       "      <th>Gender</th>\n",
       "      <th>Age</th>\n",
       "      <th>Occupation</th>\n",
       "      <th>Sleep Duration (hours)</th>\n",
       "      <th>Quality of Sleep (scale: 1-10)</th>\n",
       "      <th>Physical Activity Level (minutes/day)</th>\n",
       "      <th>Stress Level (scale: 1-10)</th>\n",
       "      <th>BMI Category</th>\n",
       "      <th>Blood Pressure (systolic/diastolic)</th>\n",
       "      <th>Heart Rate (bpm)</th>\n",
       "      <th>Daily Steps</th>\n",
       "      <th>Sleep Disorder</th>\n",
       "    </tr>\n",
       "  </thead>\n",
       "  <tbody>\n",
       "    <tr>\n",
       "      <th>0</th>\n",
       "      <td>0</td>\n",
       "      <td>80</td>\n",
       "      <td>2</td>\n",
       "      <td>9.3</td>\n",
       "      <td>2.8</td>\n",
       "      <td>103</td>\n",
       "      <td>7</td>\n",
       "      <td>2</td>\n",
       "      <td>194</td>\n",
       "      <td>91</td>\n",
       "      <td>18544</td>\n",
       "      <td>0</td>\n",
       "    </tr>\n",
       "    <tr>\n",
       "      <th>1</th>\n",
       "      <td>1</td>\n",
       "      <td>86</td>\n",
       "      <td>3</td>\n",
       "      <td>10.4</td>\n",
       "      <td>1.0</td>\n",
       "      <td>35</td>\n",
       "      <td>7</td>\n",
       "      <td>2</td>\n",
       "      <td>196</td>\n",
       "      <td>68</td>\n",
       "      <td>4828</td>\n",
       "      <td>0</td>\n",
       "    </tr>\n",
       "    <tr>\n",
       "      <th>2</th>\n",
       "      <td>1</td>\n",
       "      <td>90</td>\n",
       "      <td>3</td>\n",
       "      <td>10.2</td>\n",
       "      <td>5.1</td>\n",
       "      <td>88</td>\n",
       "      <td>6</td>\n",
       "      <td>0</td>\n",
       "      <td>89</td>\n",
       "      <td>68</td>\n",
       "      <td>16908</td>\n",
       "      <td>1</td>\n",
       "    </tr>\n",
       "    <tr>\n",
       "      <th>3</th>\n",
       "      <td>1</td>\n",
       "      <td>29</td>\n",
       "      <td>1</td>\n",
       "      <td>8.3</td>\n",
       "      <td>10.0</td>\n",
       "      <td>20</td>\n",
       "      <td>10</td>\n",
       "      <td>1</td>\n",
       "      <td>101</td>\n",
       "      <td>55</td>\n",
       "      <td>6886</td>\n",
       "      <td>1</td>\n",
       "    </tr>\n",
       "    <tr>\n",
       "      <th>4</th>\n",
       "      <td>1</td>\n",
       "      <td>49</td>\n",
       "      <td>1</td>\n",
       "      <td>10.7</td>\n",
       "      <td>6.2</td>\n",
       "      <td>49</td>\n",
       "      <td>8</td>\n",
       "      <td>1</td>\n",
       "      <td>179</td>\n",
       "      <td>59</td>\n",
       "      <td>18767</td>\n",
       "      <td>1</td>\n",
       "    </tr>\n",
       "    <tr>\n",
       "      <th>...</th>\n",
       "      <td>...</td>\n",
       "      <td>...</td>\n",
       "      <td>...</td>\n",
       "      <td>...</td>\n",
       "      <td>...</td>\n",
       "      <td>...</td>\n",
       "      <td>...</td>\n",
       "      <td>...</td>\n",
       "      <td>...</td>\n",
       "      <td>...</td>\n",
       "      <td>...</td>\n",
       "      <td>...</td>\n",
       "    </tr>\n",
       "    <tr>\n",
       "      <th>62</th>\n",
       "      <td>0</td>\n",
       "      <td>53</td>\n",
       "      <td>3</td>\n",
       "      <td>10.2</td>\n",
       "      <td>5.1</td>\n",
       "      <td>59</td>\n",
       "      <td>10</td>\n",
       "      <td>1</td>\n",
       "      <td>84</td>\n",
       "      <td>57</td>\n",
       "      <td>19888</td>\n",
       "      <td>1</td>\n",
       "    </tr>\n",
       "    <tr>\n",
       "      <th>63</th>\n",
       "      <td>0</td>\n",
       "      <td>40</td>\n",
       "      <td>1</td>\n",
       "      <td>8.9</td>\n",
       "      <td>4.7</td>\n",
       "      <td>70</td>\n",
       "      <td>9</td>\n",
       "      <td>1</td>\n",
       "      <td>70</td>\n",
       "      <td>84</td>\n",
       "      <td>10924</td>\n",
       "      <td>1</td>\n",
       "    </tr>\n",
       "    <tr>\n",
       "      <th>64</th>\n",
       "      <td>0</td>\n",
       "      <td>41</td>\n",
       "      <td>2</td>\n",
       "      <td>7.2</td>\n",
       "      <td>8.6</td>\n",
       "      <td>26</td>\n",
       "      <td>2</td>\n",
       "      <td>2</td>\n",
       "      <td>36</td>\n",
       "      <td>78</td>\n",
       "      <td>7831</td>\n",
       "      <td>1</td>\n",
       "    </tr>\n",
       "    <tr>\n",
       "      <th>65</th>\n",
       "      <td>0</td>\n",
       "      <td>36</td>\n",
       "      <td>3</td>\n",
       "      <td>4.5</td>\n",
       "      <td>7.9</td>\n",
       "      <td>73</td>\n",
       "      <td>7</td>\n",
       "      <td>0</td>\n",
       "      <td>27</td>\n",
       "      <td>64</td>\n",
       "      <td>14497</td>\n",
       "      <td>1</td>\n",
       "    </tr>\n",
       "    <tr>\n",
       "      <th>66</th>\n",
       "      <td>0</td>\n",
       "      <td>41</td>\n",
       "      <td>2</td>\n",
       "      <td>11.0</td>\n",
       "      <td>9.1</td>\n",
       "      <td>73</td>\n",
       "      <td>9</td>\n",
       "      <td>1</td>\n",
       "      <td>68</td>\n",
       "      <td>75</td>\n",
       "      <td>6567</td>\n",
       "      <td>1</td>\n",
       "    </tr>\n",
       "  </tbody>\n",
       "</table>\n",
       "<p>67 rows × 12 columns</p>\n",
       "</div>"
      ],
      "text/plain": [
       "    Gender  Age  Occupation  Sleep Duration (hours)  \\\n",
       "0        0   80           2                     9.3   \n",
       "1        1   86           3                    10.4   \n",
       "2        1   90           3                    10.2   \n",
       "3        1   29           1                     8.3   \n",
       "4        1   49           1                    10.7   \n",
       "..     ...  ...         ...                     ...   \n",
       "62       0   53           3                    10.2   \n",
       "63       0   40           1                     8.9   \n",
       "64       0   41           2                     7.2   \n",
       "65       0   36           3                     4.5   \n",
       "66       0   41           2                    11.0   \n",
       "\n",
       "    Quality of Sleep (scale: 1-10)  Physical Activity Level (minutes/day)  \\\n",
       "0                              2.8                                    103   \n",
       "1                              1.0                                     35   \n",
       "2                              5.1                                     88   \n",
       "3                             10.0                                     20   \n",
       "4                              6.2                                     49   \n",
       "..                             ...                                    ...   \n",
       "62                             5.1                                     59   \n",
       "63                             4.7                                     70   \n",
       "64                             8.6                                     26   \n",
       "65                             7.9                                     73   \n",
       "66                             9.1                                     73   \n",
       "\n",
       "    Stress Level (scale: 1-10)  BMI Category  \\\n",
       "0                            7             2   \n",
       "1                            7             2   \n",
       "2                            6             0   \n",
       "3                           10             1   \n",
       "4                            8             1   \n",
       "..                         ...           ...   \n",
       "62                          10             1   \n",
       "63                           9             1   \n",
       "64                           2             2   \n",
       "65                           7             0   \n",
       "66                           9             1   \n",
       "\n",
       "    Blood Pressure (systolic/diastolic)  Heart Rate (bpm)  Daily Steps  \\\n",
       "0                                   194                91        18544   \n",
       "1                                   196                68         4828   \n",
       "2                                    89                68        16908   \n",
       "3                                   101                55         6886   \n",
       "4                                   179                59        18767   \n",
       "..                                  ...               ...          ...   \n",
       "62                                   84                57        19888   \n",
       "63                                   70                84        10924   \n",
       "64                                   36                78         7831   \n",
       "65                                   27                64        14497   \n",
       "66                                   68                75         6567   \n",
       "\n",
       "    Sleep Disorder  \n",
       "0                0  \n",
       "1                0  \n",
       "2                1  \n",
       "3                1  \n",
       "4                1  \n",
       "..             ...  \n",
       "62               1  \n",
       "63               1  \n",
       "64               1  \n",
       "65               1  \n",
       "66               1  \n",
       "\n",
       "[67 rows x 12 columns]"
      ]
     },
     "execution_count": 17,
     "metadata": {},
     "output_type": "execute_result"
    }
   ],
   "source": [
    "def outlier_check(row, colname):  \n",
    "    Q1 = row[colname].quantile(0.25)\n",
    "    Q3 = row[colname].quantile(0.75)\n",
    "    IQR = Q3 - Q1\n",
    "    lower_b = Q1 - 1.5 * IQR\n",
    "    upper_b = Q3 + 1.5 * IQR\n",
    "    outlier = row.loc[(row[colname] < lower_b) | (row[colname] > upper_b)]\n",
    "    return outlier\n",
    "    \n",
    "outliers = pd.DataFrame() \n",
    "\n",
    "for col in df.select_dtypes(include=['number']).columns: \n",
    "    outliers_in_col = outlier_check(df, col) \n",
    "    outliers = pd.concat([outliers, outliers_in_col])\n",
    "\n",
    "outliers.reset_index(drop=True, inplace=True)\n",
    "outliers"
   ]
  },
  {
   "cell_type": "code",
   "execution_count": 18,
   "id": "596eb843",
   "metadata": {
    "execution": {
     "iopub.execute_input": "2024-12-26T03:29:03.622383Z",
     "iopub.status.busy": "2024-12-26T03:29:03.621952Z",
     "iopub.status.idle": "2024-12-26T03:29:03.626405Z",
     "shell.execute_reply": "2024-12-26T03:29:03.625133Z"
    },
    "papermill": {
     "duration": 0.016705,
     "end_time": "2024-12-26T03:29:03.628211",
     "exception": false,
     "start_time": "2024-12-26T03:29:03.611506",
     "status": "completed"
    },
    "tags": []
   },
   "outputs": [],
   "source": [
    "# def outlier_remove(df, colname):  \n",
    "#     Q1 = df[colname].quantile(0.25)\n",
    "#     Q3 = df[colname].quantile(0.75)\n",
    "#     IQR = Q3 - Q1  \n",
    "#     lower_b = Q1 - 1.5 * IQR  \n",
    "#     upper_b = Q3 + 1.5 * IQR  \n",
    "#     return (df[colname] < lower_b) | (df[colname] > upper_b)\n",
    "\n",
    "# for col in df.select_dtypes(include=['number']).columns:\n",
    "#     df = df[~outlier_remove(df, col)]\n",
    "\n",
    "# df.info()"
   ]
  },
  {
   "cell_type": "markdown",
   "id": "1a67f1ff",
   "metadata": {
    "papermill": {
     "duration": 0.009163,
     "end_time": "2024-12-26T03:29:03.646845",
     "exception": false,
     "start_time": "2024-12-26T03:29:03.637682",
     "status": "completed"
    },
    "tags": []
   },
   "source": [
    "### Outliers are not removed due to low data count."
   ]
  },
  {
   "cell_type": "markdown",
   "id": "3f64d323",
   "metadata": {
    "execution": {
     "iopub.execute_input": "2024-12-26T03:18:22.449426Z",
     "iopub.status.busy": "2024-12-26T03:18:22.449013Z",
     "iopub.status.idle": "2024-12-26T03:18:22.463788Z",
     "shell.execute_reply": "2024-12-26T03:18:22.462751Z",
     "shell.execute_reply.started": "2024-12-26T03:18:22.449386Z"
    },
    "papermill": {
     "duration": 0.010339,
     "end_time": "2024-12-26T03:29:03.666606",
     "exception": false,
     "start_time": "2024-12-26T03:29:03.656267",
     "status": "completed"
    },
    "tags": []
   },
   "source": [
    "# <div style=\"display: inline-block; padding: 20px 20px; border-radius: 15px; background: linear-gradient(135deg, #d8bfd8, #8b008b); box-shadow: 3px 3px 8px rgba(0, 0, 0, 0.2); font-size: 35px; font-family: Arial, sans-serif; color: #ffffff; text-align: center;\">Comparison of classification model performance</div>"
   ]
  },
  {
   "cell_type": "code",
   "execution_count": 19,
   "id": "6cab2634",
   "metadata": {
    "execution": {
     "iopub.execute_input": "2024-12-26T03:29:03.686777Z",
     "iopub.status.busy": "2024-12-26T03:29:03.686344Z",
     "iopub.status.idle": "2024-12-26T03:29:05.150822Z",
     "shell.execute_reply": "2024-12-26T03:29:05.149621Z"
    },
    "papermill": {
     "duration": 1.477781,
     "end_time": "2024-12-26T03:29:05.153875",
     "exception": false,
     "start_time": "2024-12-26T03:29:03.676094",
     "status": "completed"
    },
    "tags": []
   },
   "outputs": [
    {
     "data": {
      "text/html": [
       "<div>\n",
       "<style scoped>\n",
       "    .dataframe tbody tr th:only-of-type {\n",
       "        vertical-align: middle;\n",
       "    }\n",
       "\n",
       "    .dataframe tbody tr th {\n",
       "        vertical-align: top;\n",
       "    }\n",
       "\n",
       "    .dataframe thead th {\n",
       "        text-align: right;\n",
       "    }\n",
       "</style>\n",
       "<table border=\"1\" class=\"dataframe\">\n",
       "  <thead>\n",
       "    <tr style=\"text-align: right;\">\n",
       "      <th></th>\n",
       "      <th>Model</th>\n",
       "      <th>Accuracy</th>\n",
       "      <th>Precision</th>\n",
       "      <th>Recall</th>\n",
       "      <th>F1-Score</th>\n",
       "    </tr>\n",
       "  </thead>\n",
       "  <tbody>\n",
       "    <tr>\n",
       "      <th>0</th>\n",
       "      <td>Logistic Regression</td>\n",
       "      <td>0.9250</td>\n",
       "      <td>0.916333</td>\n",
       "      <td>0.9250</td>\n",
       "      <td>0.919257</td>\n",
       "    </tr>\n",
       "    <tr>\n",
       "      <th>1</th>\n",
       "      <td>SVM</td>\n",
       "      <td>0.9250</td>\n",
       "      <td>0.930696</td>\n",
       "      <td>0.9250</td>\n",
       "      <td>0.898355</td>\n",
       "    </tr>\n",
       "    <tr>\n",
       "      <th>2</th>\n",
       "      <td>KNN</td>\n",
       "      <td>0.8500</td>\n",
       "      <td>0.850000</td>\n",
       "      <td>0.8500</td>\n",
       "      <td>0.850000</td>\n",
       "    </tr>\n",
       "    <tr>\n",
       "      <th>3</th>\n",
       "      <td>Decision Tree</td>\n",
       "      <td>0.8125</td>\n",
       "      <td>0.859988</td>\n",
       "      <td>0.8125</td>\n",
       "      <td>0.833847</td>\n",
       "    </tr>\n",
       "    <tr>\n",
       "      <th>4</th>\n",
       "      <td>Random Forest</td>\n",
       "      <td>0.9000</td>\n",
       "      <td>0.831646</td>\n",
       "      <td>0.9000</td>\n",
       "      <td>0.864474</td>\n",
       "    </tr>\n",
       "    <tr>\n",
       "      <th>5</th>\n",
       "      <td>XGBoost</td>\n",
       "      <td>0.8875</td>\n",
       "      <td>0.894618</td>\n",
       "      <td>0.8875</td>\n",
       "      <td>0.890862</td>\n",
       "    </tr>\n",
       "    <tr>\n",
       "      <th>6</th>\n",
       "      <td>MLP Classifier</td>\n",
       "      <td>0.8625</td>\n",
       "      <td>0.886607</td>\n",
       "      <td>0.8625</td>\n",
       "      <td>0.873190</td>\n",
       "    </tr>\n",
       "  </tbody>\n",
       "</table>\n",
       "</div>"
      ],
      "text/plain": [
       "                 Model  Accuracy  Precision  Recall  F1-Score\n",
       "0  Logistic Regression    0.9250   0.916333  0.9250  0.919257\n",
       "1                  SVM    0.9250   0.930696  0.9250  0.898355\n",
       "2                  KNN    0.8500   0.850000  0.8500  0.850000\n",
       "3        Decision Tree    0.8125   0.859988  0.8125  0.833847\n",
       "4        Random Forest    0.9000   0.831646  0.9000  0.864474\n",
       "5              XGBoost    0.8875   0.894618  0.8875  0.890862\n",
       "6       MLP Classifier    0.8625   0.886607  0.8625  0.873190"
      ]
     },
     "execution_count": 19,
     "metadata": {},
     "output_type": "execute_result"
    }
   ],
   "source": [
    "X = df.drop('Sleep Disorder', axis=1)\n",
    "y = df['Sleep Disorder']  \n",
    "\n",
    "X_train, X_test, y_train, y_test = train_test_split(X, y, test_size=0.2, random_state=42)\n",
    "\n",
    "scaler = StandardScaler()\n",
    "X_train_scaled = scaler.fit_transform(X_train)\n",
    "X_test_scaled = scaler.transform(X_test)\n",
    "\n",
    "results = []\n",
    "\n",
    "for name, model in models.items():\n",
    "    accuracy, precision, recall, f1 = evaluate_model(model, X_train_scaled, X_test_scaled, y_train, y_test)\n",
    "    results.append({\n",
    "        \"Model\": name,\n",
    "        \"Accuracy\": accuracy,\n",
    "        \"Precision\": precision,\n",
    "        \"Recall\": recall,\n",
    "        \"F1-Score\": f1\n",
    "    })\n",
    "\n",
    "results_df = pd.DataFrame(results)\n",
    "results_df"
   ]
  },
  {
   "cell_type": "code",
   "execution_count": 20,
   "id": "3890febf",
   "metadata": {
    "execution": {
     "iopub.execute_input": "2024-12-26T03:29:05.198286Z",
     "iopub.status.busy": "2024-12-26T03:29:05.197740Z",
     "iopub.status.idle": "2024-12-26T03:29:05.843367Z",
     "shell.execute_reply": "2024-12-26T03:29:05.842204Z"
    },
    "papermill": {
     "duration": 0.670091,
     "end_time": "2024-12-26T03:29:05.845587",
     "exception": false,
     "start_time": "2024-12-26T03:29:05.175496",
     "status": "completed"
    },
    "tags": []
   },
   "outputs": [
    {
     "name": "stdout",
     "output_type": "stream",
     "text": [
      "\n",
      "Best Model:\n",
      "Model        Logistic Regression\n",
      "Accuracy                   0.925\n",
      "Precision               0.916333\n",
      "Recall                     0.925\n",
      "F1-Score                0.919257\n",
      "Name: 0, dtype: object\n"
     ]
    },
    {
     "data": {
      "image/png": "[encoded data removed]",
      "text/plain": [
       "<Figure size 1000x600 with 1 Axes>"
      ]
     },
     "metadata": {},
     "output_type": "display_data"
    },
    {
     "name": "stdout",
     "output_type": "stream",
     "text": [
      "\n",
      "Optimal Model based on Accuracy: Logistic Regression with Accuracy = 0.9250\n"
     ]
    }
   ],
   "source": [
    "best_model = results_df.loc[results_df['Accuracy'].idxmax()]\n",
    "print(\"\\nBest Model:\")\n",
    "print(best_model)\n",
    "\n",
    "metrics = [\"Accuracy\", \"Precision\", \"Recall\", \"F1-Score\"]\n",
    "colors = [\"skyblue\", \"orange\", \"green\", \"red\"]\n",
    "\n",
    "fig, ax = plt.subplots(figsize=(10, 6))\n",
    "\n",
    "for i, metric in enumerate(metrics):\n",
    "    ax.barh(results_df['Model'] + f\" ({metric})\", results_df[metric], color=colors[i], alpha=0.7, label=metric)\n",
    "\n",
    "ax.set_xlabel(\"Score\", fontsize=12)\n",
    "ax.set_title(\"Model Performance Comparison\", fontsize=18)\n",
    "ax.legend()\n",
    "plt.tight_layout()\n",
    "plt.show()\n",
    "\n",
    "print(f\"\\nOptimal Model based on Accuracy: {best_model['Model']} with Accuracy = {best_model['Accuracy']:.4f}\")"
   ]
  },
  {
   "cell_type": "markdown",
   "id": "b0333da9",
   "metadata": {
    "papermill": {
     "duration": 0.019778,
     "end_time": "2024-12-26T03:29:05.878133",
     "exception": false,
     "start_time": "2024-12-26T03:29:05.858355",
     "status": "completed"
    },
    "tags": []
   },
   "source": [
    "# <div style=\"display: inline-block; padding: 20px 20px; border-radius: 15px; background: linear-gradient(135deg, #d8bfd8, #8b008b); box-shadow: 3px 3px 8px rgba(0, 0, 0, 0.2); font-size: 35px; font-family: Arial, sans-serif; color: #ffffff; text-align: center;\">Ensemble techniques : Voting model (soft)</div>"
   ]
  },
  {
   "cell_type": "code",
   "execution_count": 21,
   "id": "45d520a1",
   "metadata": {
    "execution": {
     "iopub.execute_input": "2024-12-26T03:29:05.910216Z",
     "iopub.status.busy": "2024-12-26T03:29:05.909806Z",
     "iopub.status.idle": "2024-12-26T03:29:06.328240Z",
     "shell.execute_reply": "2024-12-26T03:29:06.327106Z"
    },
    "papermill": {
     "duration": 0.439366,
     "end_time": "2024-12-26T03:29:06.330324",
     "exception": false,
     "start_time": "2024-12-26T03:29:05.890958",
     "status": "completed"
    },
    "tags": []
   },
   "outputs": [
    {
     "name": "stdout",
     "output_type": "stream",
     "text": [
      "\n",
      "Random Forest Classification Report:\n",
      "\n",
      "              precision    recall  f1-score   support\n",
      "\n",
      "           0       0.91      0.99      0.95        73\n",
      "           1       0.00      0.00      0.00         7\n",
      "\n",
      "    accuracy                           0.90        80\n",
      "   macro avg       0.46      0.49      0.47        80\n",
      "weighted avg       0.83      0.90      0.86        80\n",
      "\n",
      "\n",
      "LogisticRegression Classification Report:\n",
      "\n",
      "              precision    recall  f1-score   support\n",
      "\n",
      "           0       0.95      0.97      0.96        73\n",
      "           1       0.60      0.43      0.50         7\n",
      "\n",
      "    accuracy                           0.93        80\n",
      "   macro avg       0.77      0.70      0.73        80\n",
      "weighted avg       0.92      0.93      0.92        80\n",
      "\n",
      "\n",
      "Voting Classifier Classification Report:\n",
      "\n",
      "              precision    recall  f1-score   support\n",
      "\n",
      "           0       0.95      0.99      0.97        73\n",
      "           1       0.75      0.43      0.55         7\n",
      "\n",
      "    accuracy                           0.94        80\n",
      "   macro avg       0.85      0.71      0.76        80\n",
      "weighted avg       0.93      0.94      0.93        80\n",
      "\n",
      "\n",
      "Model Comparison:\n",
      "Random Forest: 0.9000\n",
      "LogisticRegression: 0.9250\n",
      "Voting Classifier: 0.9375\n"
     ]
    }
   ],
   "source": [
    "models = {\n",
    "    \"Random Forest\": RandomForestClassifier(n_estimators=100, random_state=42),\n",
    "    \"LogisticRegression\" : LogisticRegression(random_state=42),\n",
    "}\n",
    "\n",
    "\n",
    "results = {}\n",
    "for name, model in models.items():\n",
    "    model.fit(X_train_scaled, y_train)\n",
    "    y_pred = model.predict(X_test_scaled)\n",
    "    acc = accuracy_score(y_test, y_pred)\n",
    "    results[name] = acc\n",
    "    print(f\"\\n{name} Classification Report:\\n\")\n",
    "    print(classification_report(y_test, y_pred))\n",
    "\n",
    "voting_clf = VotingClassifier(\n",
    "    estimators=[\n",
    "        (\"Random Forest\", models[\"Random Forest\"]),\n",
    "        (\"LogisticRegression\", models[\"LogisticRegression\"]),\n",
    "    ],\n",
    "    voting='soft'  \n",
    ")\n",
    "\n",
    "voting_clf.fit(X_train_scaled, y_train)\n",
    "\n",
    "y_pred_voting = voting_clf.predict(X_test_scaled)\n",
    "voting_acc = accuracy_score(y_test, y_pred_voting)\n",
    "results[\"Voting Classifier\"] = voting_acc\n",
    "print(\"\\nVoting Classifier Classification Report:\\n\")\n",
    "print(classification_report(y_test, y_pred_voting))\n",
    "\n",
    "print(\"\\nModel Comparison:\")\n",
    "for model_name, acc in results.items():\n",
    "    print(f\"{model_name}: {acc:.4f}\")"
   ]
  },
  {
   "cell_type": "code",
   "execution_count": 22,
   "id": "e8bab6f7",
   "metadata": {
    "execution": {
     "iopub.execute_input": "2024-12-26T03:29:06.356320Z",
     "iopub.status.busy": "2024-12-26T03:29:06.355926Z",
     "iopub.status.idle": "2024-12-26T03:29:06.628463Z",
     "shell.execute_reply": "2024-12-26T03:29:06.627018Z"
    },
    "papermill": {
     "duration": 0.287688,
     "end_time": "2024-12-26T03:29:06.630416",
     "exception": false,
     "start_time": "2024-12-26T03:29:06.342728",
     "status": "completed"
    },
    "tags": []
   },
   "outputs": [
    {
     "data": {
      "image/png": "[encoded data removed]",
      "text/plain": [
       "<Figure size 1000x700 with 2 Axes>"
      ]
     },
     "metadata": {},
     "output_type": "display_data"
    }
   ],
   "source": [
    "cm = confusion_matrix(y_test, y_pred_voting)  \n",
    "\n",
    "plt.figure(figsize=(10, 7))\n",
    "sns.heatmap(cm, annot=True, fmt='d', cmap='Blues')  \n",
    "plt.xlabel('Predicted')\n",
    "plt.ylabel('True')\n",
    "plt.title('Confusion Matrix Heatmap')\n",
    "plt.show()"
   ]
  },
  {
   "cell_type": "markdown",
   "id": "2827de40",
   "metadata": {
    "papermill": {
     "duration": 0.012416,
     "end_time": "2024-12-26T03:29:06.655886",
     "exception": false,
     "start_time": "2024-12-26T03:29:06.643470",
     "status": "completed"
    },
    "tags": []
   },
   "source": [
    "# <div style=\"display: inline-block; padding: 20px 20px; border-radius: 15px; background: linear-gradient(135deg, #d8bfd8, #8b008b); box-shadow: 3px 3px 8px rgba(0, 0, 0, 0.2); font-size: 35px; font-family: Arial, sans-serif; color: #ffffff; text-align: center;\">Conclusion</div>\n",
    "\n",
    "### The missing values were imputed using a model-based imputation method, and the logistic regression model showed the best performance in the classification analysis. Finally, ensemble voting (soft) was used to improve the model's performance."
   ]
  },
  {
   "cell_type": "markdown",
   "id": "f86ac095",
   "metadata": {
    "execution": {
     "iopub.execute_input": "2024-12-26T03:20:31.928397Z",
     "iopub.status.busy": "2024-12-26T03:20:31.927894Z",
     "iopub.status.idle": "2024-12-26T03:20:31.937522Z",
     "shell.execute_reply": "2024-12-26T03:20:31.935730Z",
     "shell.execute_reply.started": "2024-12-26T03:20:31.928356Z"
    },
    "papermill": {
     "duration": 0.012381,
     "end_time": "2024-12-26T03:29:06.681097",
     "exception": false,
     "start_time": "2024-12-26T03:29:06.668716",
     "status": "completed"
    },
    "tags": []
   },
   "source": [
    "<div style=\"display: inline-block; padding: 10px 15px; border-radius: 20px; background: linear-gradient(135deg, #ff7f50, #ff1493); box-shadow: 5px 5px 15px rgba(0, 0, 0, 0.3); font-size: 30px; font-family: 'Helvetica Neue', Arial, sans-serif; color: #ffffff; text-align: center; border: 2px solid #ffffff;\">Thanks !</div><br><br>\n",
    "\n",
    "### If you have any questions, please feel free to ask me a question and use the code freely !\n",
    "\n",
    "<a href=\"https://www.kaggle.com/lko9911\" target=\"_blank\" style=\"display: inline-block; background-color: #3a86ff; color: #fff; text-decoration: none; padding: 5px 10px; border-radius: 10px; margin: 15px; font-size: 25px;\">Kaggle</a>\n",
    "<a href=\"https://github.com/lko9911\" target=\"_blank\" style=\"display: inline-block; background-color: #ff8c00; color: #ffffff; text-decoration: none; padding: 5px 20px; border-radius: 15px; margin: 15px; border: 2px solid #ff4500; font-size: 25px; font-family: 'Arial', sans-serif; font-weight: bold; transition: all 0.3s ease;\">GitHub</a>"
   ]
  }
 ],
 "metadata": {
  "kaggle": {
   "accelerator": "none",
   "dataSources": [
    {
     "datasetId": 6350466,
     "sourceId": 10264967,
     "sourceType": "datasetVersion"
    }
   ],
   "dockerImageVersionId": 30822,
   "isGpuEnabled": false,
   "isInternetEnabled": true,
   "language": "python",
   "sourceType": "notebook"
  },
  "kernelspec": {
   "display_name": "Python 3",
   "language": "python",
   "name": "python3"
  },
  "language_info": {
   "codemirror_mode": {
    "name": "ipython",
    "version": 3
   },
   "file_extension": ".py",
   "mimetype": "text/x-python",
   "name": "python",
   "nbconvert_exporter": "python",
   "pygments_lexer": "ipython3",
   "version": "3.10.12"
  },
  "papermill": {
   "default_parameters": {},
   "duration": 10.99798,
   "end_time": "2024-12-26T03:29:07.416018",
   "environment_variables": {},
   "exception": null,
   "input_path": "__notebook__.ipynb",
   "output_path": "__notebook__.ipynb",
   "parameters": {},
   "start_time": "2024-12-26T03:28:56.418038",
   "version": "2.6.0"
  }
 },
 "nbformat": 4,
 "nbformat_minor": 5
}
