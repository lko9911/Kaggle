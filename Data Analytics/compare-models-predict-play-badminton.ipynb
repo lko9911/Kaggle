{
 "cells": [
  {
   "cell_type": "markdown",
   "id": "2994a725",
   "metadata": {
    "papermill": {
     "duration": 0.007184,
     "end_time": "2024-04-14T14:00:06.845598",
     "exception": false,
     "start_time": "2024-04-14T14:00:06.838414",
     "status": "completed"
    },
    "tags": []
   },
   "source": [
    "# Project : Predict \"Play Badminton\""
   ]
  },
  {
   "cell_type": "markdown",
   "id": "aabf27b5",
   "metadata": {
    "papermill": {
     "duration": 0.005771,
     "end_time": "2024-04-14T14:00:06.857834",
     "exception": false,
     "start_time": "2024-04-14T14:00:06.852063",
     "status": "completed"
    },
    "tags": []
   },
   "source": [
    "> # Import Libraries & Read Dataset"
   ]
  },
  {
   "cell_type": "code",
   "execution_count": 1,
   "id": "c25e0be4",
   "metadata": {
    "execution": {
     "iopub.execute_input": "2024-04-14T14:00:06.872659Z",
     "iopub.status.busy": "2024-04-14T14:00:06.872118Z",
     "iopub.status.idle": "2024-04-14T14:00:07.011061Z",
     "shell.execute_reply": "2024-04-14T14:00:07.009453Z"
    },
    "papermill": {
     "duration": 0.150581,
     "end_time": "2024-04-14T14:00:07.014539",
     "exception": false,
     "start_time": "2024-04-14T14:00:06.863958",
     "status": "completed"
    },
    "tags": []
   },
   "outputs": [],
   "source": [
    "import requests\n",
    "\n",
    "url = 'https://raw.githubusercontent.com/lko9911/Kaggle/master/Compare_Classifier_models.py'\n",
    "\n",
    "r = requests.get(url)\n",
    "\n",
    "with open('Compare_Classifier_models.py', 'w') as f:\n",
    "    f.write(r.text)"
   ]
  },
  {
   "cell_type": "code",
   "execution_count": 2,
   "id": "1debe427",
   "metadata": {
    "execution": {
     "iopub.execute_input": "2024-04-14T14:00:07.029300Z",
     "iopub.status.busy": "2024-04-14T14:00:07.028840Z",
     "iopub.status.idle": "2024-04-14T14:00:12.330026Z",
     "shell.execute_reply": "2024-04-14T14:00:12.328418Z"
    },
    "papermill": {
     "duration": 5.312333,
     "end_time": "2024-04-14T14:00:12.333284",
     "exception": false,
     "start_time": "2024-04-14T14:00:07.020951",
     "status": "completed"
    },
    "tags": []
   },
   "outputs": [],
   "source": [
    "# For Compare modeling\n",
    "from Compare_Classifier_models import evaluate_models\n",
    "\n",
    "# For EDA\n",
    "import pandas as pd\n",
    "import numpy as np\n",
    "import matplotlib.pyplot as plt\n",
    "import seaborn as sns\n",
    "import warnings\n",
    "warnings.filterwarnings(\"ignore\", category=FutureWarning)"
   ]
  },
  {
   "cell_type": "code",
   "execution_count": 3,
   "id": "484f3d62",
   "metadata": {
    "execution": {
     "iopub.execute_input": "2024-04-14T14:00:12.348409Z",
     "iopub.status.busy": "2024-04-14T14:00:12.347796Z",
     "iopub.status.idle": "2024-04-14T14:00:12.382634Z",
     "shell.execute_reply": "2024-04-14T14:00:12.381229Z"
    },
    "papermill": {
     "duration": 0.045464,
     "end_time": "2024-04-14T14:00:12.385187",
     "exception": false,
     "start_time": "2024-04-14T14:00:12.339723",
     "status": "completed"
    },
    "tags": []
   },
   "outputs": [
    {
     "data": {
      "text/html": [
       "<div>\n",
       "<style scoped>\n",
       "    .dataframe tbody tr th:only-of-type {\n",
       "        vertical-align: middle;\n",
       "    }\n",
       "\n",
       "    .dataframe tbody tr th {\n",
       "        vertical-align: top;\n",
       "    }\n",
       "\n",
       "    .dataframe thead th {\n",
       "        text-align: right;\n",
       "    }\n",
       "</style>\n",
       "<table border=\"1\" class=\"dataframe\">\n",
       "  <thead>\n",
       "    <tr style=\"text-align: right;\">\n",
       "      <th></th>\n",
       "      <th>Outlook</th>\n",
       "      <th>Temperature</th>\n",
       "      <th>Humidity</th>\n",
       "      <th>Wind</th>\n",
       "      <th>Play_Badminton</th>\n",
       "    </tr>\n",
       "  </thead>\n",
       "  <tbody>\n",
       "    <tr>\n",
       "      <th>0</th>\n",
       "      <td>Overcast</td>\n",
       "      <td>Cool</td>\n",
       "      <td>High</td>\n",
       "      <td>Weak</td>\n",
       "      <td>Yes</td>\n",
       "    </tr>\n",
       "    <tr>\n",
       "      <th>1</th>\n",
       "      <td>Sunny</td>\n",
       "      <td>Mild</td>\n",
       "      <td>Normal</td>\n",
       "      <td>Strong</td>\n",
       "      <td>No</td>\n",
       "    </tr>\n",
       "    <tr>\n",
       "      <th>2</th>\n",
       "      <td>Rain</td>\n",
       "      <td>Mild</td>\n",
       "      <td>Normal</td>\n",
       "      <td>Strong</td>\n",
       "      <td>No</td>\n",
       "    </tr>\n",
       "    <tr>\n",
       "      <th>3</th>\n",
       "      <td>Sunny</td>\n",
       "      <td>Cool</td>\n",
       "      <td>High</td>\n",
       "      <td>Weak</td>\n",
       "      <td>Yes</td>\n",
       "    </tr>\n",
       "    <tr>\n",
       "      <th>4</th>\n",
       "      <td>Sunny</td>\n",
       "      <td>Cool</td>\n",
       "      <td>High</td>\n",
       "      <td>Strong</td>\n",
       "      <td>No</td>\n",
       "    </tr>\n",
       "  </tbody>\n",
       "</table>\n",
       "</div>"
      ],
      "text/plain": [
       "    Outlook Temperature Humidity    Wind Play_Badminton\n",
       "0  Overcast        Cool     High    Weak            Yes\n",
       "1     Sunny        Mild   Normal  Strong             No\n",
       "2      Rain        Mild   Normal  Strong             No\n",
       "3     Sunny        Cool     High    Weak            Yes\n",
       "4     Sunny        Cool     High  Strong             No"
      ]
     },
     "execution_count": 3,
     "metadata": {},
     "output_type": "execute_result"
    }
   ],
   "source": [
    "df = pd.read_csv('/kaggle/input/play-badminton/badminton_dataset.csv')\n",
    "df.head()"
   ]
  },
  {
   "cell_type": "code",
   "execution_count": 4,
   "id": "75bf1ac3",
   "metadata": {
    "execution": {
     "iopub.execute_input": "2024-04-14T14:00:12.400094Z",
     "iopub.status.busy": "2024-04-14T14:00:12.399710Z",
     "iopub.status.idle": "2024-04-14T14:00:12.429990Z",
     "shell.execute_reply": "2024-04-14T14:00:12.428648Z"
    },
    "papermill": {
     "duration": 0.041289,
     "end_time": "2024-04-14T14:00:12.433168",
     "exception": false,
     "start_time": "2024-04-14T14:00:12.391879",
     "status": "completed"
    },
    "tags": []
   },
   "outputs": [
    {
     "name": "stdout",
     "output_type": "stream",
     "text": [
      "<class 'pandas.core.frame.DataFrame'>\n",
      "RangeIndex: 36 entries, 0 to 35\n",
      "Data columns (total 5 columns):\n",
      " #   Column          Non-Null Count  Dtype \n",
      "---  ------          --------------  ----- \n",
      " 0   Outlook         36 non-null     object\n",
      " 1   Temperature     36 non-null     object\n",
      " 2   Humidity        36 non-null     object\n",
      " 3   Wind            36 non-null     object\n",
      " 4   Play_Badminton  36 non-null     object\n",
      "dtypes: object(5)\n",
      "memory usage: 1.5+ KB\n"
     ]
    }
   ],
   "source": [
    "df.info()"
   ]
  },
  {
   "cell_type": "markdown",
   "id": "0100b0f6",
   "metadata": {
    "papermill": {
     "duration": 0.006228,
     "end_time": "2024-04-14T14:00:12.445908",
     "exception": false,
     "start_time": "2024-04-14T14:00:12.439680",
     "status": "completed"
    },
    "tags": []
   },
   "source": [
    "> # Data Preprocessing"
   ]
  },
  {
   "cell_type": "code",
   "execution_count": 5,
   "id": "4d4d1b65",
   "metadata": {
    "execution": {
     "iopub.execute_input": "2024-04-14T14:00:12.461582Z",
     "iopub.status.busy": "2024-04-14T14:00:12.460938Z",
     "iopub.status.idle": "2024-04-14T14:00:12.470804Z",
     "shell.execute_reply": "2024-04-14T14:00:12.469386Z"
    },
    "papermill": {
     "duration": 0.020926,
     "end_time": "2024-04-14T14:00:12.474030",
     "exception": false,
     "start_time": "2024-04-14T14:00:12.453104",
     "status": "completed"
    },
    "tags": []
   },
   "outputs": [
    {
     "data": {
      "text/plain": [
       "Outlook           0\n",
       "Temperature       0\n",
       "Humidity          0\n",
       "Wind              0\n",
       "Play_Badminton    0\n",
       "dtype: int64"
      ]
     },
     "execution_count": 5,
     "metadata": {},
     "output_type": "execute_result"
    }
   ],
   "source": [
    "df.isna().sum()"
   ]
  },
  {
   "cell_type": "code",
   "execution_count": 6,
   "id": "e48c53bb",
   "metadata": {
    "execution": {
     "iopub.execute_input": "2024-04-14T14:00:12.491005Z",
     "iopub.status.busy": "2024-04-14T14:00:12.490641Z",
     "iopub.status.idle": "2024-04-14T14:00:12.497795Z",
     "shell.execute_reply": "2024-04-14T14:00:12.496173Z"
    },
    "papermill": {
     "duration": 0.018953,
     "end_time": "2024-04-14T14:00:12.500501",
     "exception": false,
     "start_time": "2024-04-14T14:00:12.481548",
     "status": "completed"
    },
    "tags": []
   },
   "outputs": [
    {
     "name": "stdout",
     "output_type": "stream",
     "text": [
      "Outlook has 3 unique values\n",
      "Temperature has 3 unique values\n",
      "Humidity has 2 unique values\n",
      "Wind has 2 unique values\n",
      "Play_Badminton has 2 unique values\n"
     ]
    }
   ],
   "source": [
    "cols = df.columns.tolist()\n",
    "\n",
    "for col in cols:\n",
    "    unique_count = df[col].nunique()\n",
    "    print(f'{col} has {unique_count} unique values')"
   ]
  },
  {
   "cell_type": "code",
   "execution_count": 7,
   "id": "4f05cb6e",
   "metadata": {
    "execution": {
     "iopub.execute_input": "2024-04-14T14:00:12.517434Z",
     "iopub.status.busy": "2024-04-14T14:00:12.517003Z",
     "iopub.status.idle": "2024-04-14T14:00:12.523956Z",
     "shell.execute_reply": "2024-04-14T14:00:12.522686Z"
    },
    "papermill": {
     "duration": 0.018843,
     "end_time": "2024-04-14T14:00:12.526621",
     "exception": false,
     "start_time": "2024-04-14T14:00:12.507778",
     "status": "completed"
    },
    "tags": []
   },
   "outputs": [
    {
     "name": "stdout",
     "output_type": "stream",
     "text": [
      "Outlook has ['Overcast' 'Sunny' 'Rain']\n",
      "Temperature has ['Cool' 'Mild' 'Hot']\n",
      "Humidity has ['High' 'Normal']\n",
      "Wind has ['Weak' 'Strong']\n",
      "Play_Badminton has ['Yes' 'No']\n"
     ]
    }
   ],
   "source": [
    "for col in cols:\n",
    "    unique_name = df[col].unique()\n",
    "    print(f'{col} has {unique_name}')"
   ]
  },
  {
   "cell_type": "code",
   "execution_count": 8,
   "id": "02740a01",
   "metadata": {
    "execution": {
     "iopub.execute_input": "2024-04-14T14:00:12.543929Z",
     "iopub.status.busy": "2024-04-14T14:00:12.543550Z",
     "iopub.status.idle": "2024-04-14T14:00:12.553116Z",
     "shell.execute_reply": "2024-04-14T14:00:12.551540Z"
    },
    "papermill": {
     "duration": 0.022753,
     "end_time": "2024-04-14T14:00:12.556379",
     "exception": false,
     "start_time": "2024-04-14T14:00:12.533626",
     "status": "completed"
    },
    "tags": []
   },
   "outputs": [],
   "source": [
    "def Yes_No(value):\n",
    "    return 1 if value == 'Yes' else 0\n",
    "\n",
    "def Humidity(value):\n",
    "    return 1 if value == 'High' else 0\n",
    "\n",
    "def Wind(value):\n",
    "    return 1 if value == 'Weak' else 0\n",
    "\n",
    "df['Play_Badminton'] = df['Play_Badminton'].apply(Yes_No)\n",
    "df['Humidity'] = df['Humidity'].apply(Humidity)\n",
    "df['Wind'] = df['Wind'].apply(Wind)"
   ]
  },
  {
   "cell_type": "code",
   "execution_count": 9,
   "id": "e96375d3",
   "metadata": {
    "execution": {
     "iopub.execute_input": "2024-04-14T14:00:12.574029Z",
     "iopub.status.busy": "2024-04-14T14:00:12.573600Z",
     "iopub.status.idle": "2024-04-14T14:00:12.586831Z",
     "shell.execute_reply": "2024-04-14T14:00:12.585674Z"
    },
    "papermill": {
     "duration": 0.025268,
     "end_time": "2024-04-14T14:00:12.589292",
     "exception": false,
     "start_time": "2024-04-14T14:00:12.564024",
     "status": "completed"
    },
    "tags": []
   },
   "outputs": [],
   "source": [
    "df = pd.get_dummies(df,columns=['Outlook','Temperature'], drop_first=True)"
   ]
  },
  {
   "cell_type": "code",
   "execution_count": 10,
   "id": "40d9a0f3",
   "metadata": {
    "execution": {
     "iopub.execute_input": "2024-04-14T14:00:12.607004Z",
     "iopub.status.busy": "2024-04-14T14:00:12.606201Z",
     "iopub.status.idle": "2024-04-14T14:00:12.620411Z",
     "shell.execute_reply": "2024-04-14T14:00:12.619228Z"
    },
    "papermill": {
     "duration": 0.02661,
     "end_time": "2024-04-14T14:00:12.622878",
     "exception": false,
     "start_time": "2024-04-14T14:00:12.596268",
     "status": "completed"
    },
    "tags": []
   },
   "outputs": [
    {
     "name": "stdout",
     "output_type": "stream",
     "text": [
      "<class 'pandas.core.frame.DataFrame'>\n",
      "RangeIndex: 36 entries, 0 to 35\n",
      "Data columns (total 7 columns):\n",
      " #   Column            Non-Null Count  Dtype\n",
      "---  ------            --------------  -----\n",
      " 0   Humidity          36 non-null     int64\n",
      " 1   Wind              36 non-null     int64\n",
      " 2   Play_Badminton    36 non-null     int64\n",
      " 3   Outlook_Rain      36 non-null     bool \n",
      " 4   Outlook_Sunny     36 non-null     bool \n",
      " 5   Temperature_Hot   36 non-null     bool \n",
      " 6   Temperature_Mild  36 non-null     bool \n",
      "dtypes: bool(4), int64(3)\n",
      "memory usage: 1.1 KB\n"
     ]
    }
   ],
   "source": [
    "df.info()"
   ]
  },
  {
   "cell_type": "markdown",
   "id": "56e0fac4",
   "metadata": {
    "papermill": {
     "duration": 0.006658,
     "end_time": "2024-04-14T14:00:12.637642",
     "exception": false,
     "start_time": "2024-04-14T14:00:12.630984",
     "status": "completed"
    },
    "tags": []
   },
   "source": [
    "> # Compare models"
   ]
  },
  {
   "cell_type": "code",
   "execution_count": 11,
   "id": "9463a6d1",
   "metadata": {
    "execution": {
     "iopub.execute_input": "2024-04-14T14:00:12.653719Z",
     "iopub.status.busy": "2024-04-14T14:00:12.653267Z",
     "iopub.status.idle": "2024-04-14T14:00:13.253515Z",
     "shell.execute_reply": "2024-04-14T14:00:13.250095Z"
    },
    "papermill": {
     "duration": 0.6119,
     "end_time": "2024-04-14T14:00:13.256676",
     "exception": false,
     "start_time": "2024-04-14T14:00:12.644776",
     "status": "completed"
    },
    "tags": []
   },
   "outputs": [
    {
     "name": "stdout",
     "output_type": "stream",
     "text": [
      "[LightGBM] [Warning] There are no meaningful features which satisfy the provided configuration. Decreasing Dataset parameters min_data_in_bin or min_data_in_leaf and re-constructing Dataset might resolve this warning.\n",
      "[LightGBM] [Info] Number of positive: 9, number of negative: 19\n",
      "[LightGBM] [Info] Total Bins 0\n",
      "[LightGBM] [Info] Number of data points in the train set: 28, number of used features: 0\n",
      "[LightGBM] [Info] [binary:BoostFromScore]: pavg=0.321429 -> initscore=-0.747214\n",
      "[LightGBM] [Info] Start training from score -0.747214\n",
      "[LightGBM] [Warning] Stopped training because there are no more leaves that meet the split requirements\n",
      "[LightGBM] [Warning] Stopped training because there are no more leaves that meet the split requirements\n",
      "[LightGBM] [Warning] Stopped training because there are no more leaves that meet the split requirements\n",
      "[LightGBM] [Warning] Stopped training because there are no more leaves that meet the split requirements\n",
      "[LightGBM] [Warning] Stopped training because there are no more leaves that meet the split requirements\n",
      "[LightGBM] [Warning] Stopped training because there are no more leaves that meet the split requirements\n",
      "[LightGBM] [Warning] Stopped training because there are no more leaves that meet the split requirements\n",
      "[LightGBM] [Warning] Stopped training because there are no more leaves that meet the split requirements\n",
      "[LightGBM] [Warning] Stopped training because there are no more leaves that meet the split requirements\n",
      "[LightGBM] [Warning] Stopped training because there are no more leaves that meet the split requirements\n",
      "[LightGBM] [Warning] Stopped training because there are no more leaves that meet the split requirements\n",
      "[LightGBM] [Warning] Stopped training because there are no more leaves that meet the split requirements\n",
      "[LightGBM] [Warning] Stopped training because there are no more leaves that meet the split requirements\n",
      "[LightGBM] [Warning] Stopped training because there are no more leaves that meet the split requirements\n",
      "[LightGBM] [Warning] Stopped training because there are no more leaves that meet the split requirements\n",
      "[LightGBM] [Warning] Stopped training because there are no more leaves that meet the split requirements\n",
      "[LightGBM] [Warning] Stopped training because there are no more leaves that meet the split requirements\n",
      "[LightGBM] [Warning] Stopped training because there are no more leaves that meet the split requirements\n",
      "[LightGBM] [Warning] Stopped training because there are no more leaves that meet the split requirements\n",
      "[LightGBM] [Warning] Stopped training because there are no more leaves that meet the split requirements\n",
      "[LightGBM] [Warning] Stopped training because there are no more leaves that meet the split requirements\n",
      "[LightGBM] [Warning] Stopped training because there are no more leaves that meet the split requirements\n",
      "[LightGBM] [Warning] Stopped training because there are no more leaves that meet the split requirements\n",
      "[LightGBM] [Warning] Stopped training because there are no more leaves that meet the split requirements\n",
      "[LightGBM] [Warning] Stopped training because there are no more leaves that meet the split requirements\n",
      "[LightGBM] [Warning] Stopped training because there are no more leaves that meet the split requirements\n",
      "[LightGBM] [Warning] Stopped training because there are no more leaves that meet the split requirements\n",
      "[LightGBM] [Warning] Stopped training because there are no more leaves that meet the split requirements\n",
      "[LightGBM] [Warning] Stopped training because there are no more leaves that meet the split requirements\n",
      "[LightGBM] [Warning] Stopped training because there are no more leaves that meet the split requirements\n",
      "[LightGBM] [Warning] Stopped training because there are no more leaves that meet the split requirements\n",
      "[LightGBM] [Warning] Stopped training because there are no more leaves that meet the split requirements\n",
      "[LightGBM] [Warning] Stopped training because there are no more leaves that meet the split requirements\n",
      "[LightGBM] [Warning] Stopped training because there are no more leaves that meet the split requirements\n",
      "[LightGBM] [Warning] Stopped training because there are no more leaves that meet the split requirements\n",
      "[LightGBM] [Warning] Stopped training because there are no more leaves that meet the split requirements\n",
      "[LightGBM] [Warning] Stopped training because there are no more leaves that meet the split requirements\n",
      "[LightGBM] [Warning] Stopped training because there are no more leaves that meet the split requirements\n",
      "[LightGBM] [Warning] Stopped training because there are no more leaves that meet the split requirements\n",
      "[LightGBM] [Warning] Stopped training because there are no more leaves that meet the split requirements\n",
      "[LightGBM] [Warning] Stopped training because there are no more leaves that meet the split requirements\n",
      "[LightGBM] [Warning] Stopped training because there are no more leaves that meet the split requirements\n",
      "[LightGBM] [Warning] Stopped training because there are no more leaves that meet the split requirements\n",
      "[LightGBM] [Warning] Stopped training because there are no more leaves that meet the split requirements\n",
      "[LightGBM] [Warning] Stopped training because there are no more leaves that meet the split requirements\n",
      "[LightGBM] [Warning] Stopped training because there are no more leaves that meet the split requirements\n",
      "[LightGBM] [Warning] Stopped training because there are no more leaves that meet the split requirements\n",
      "[LightGBM] [Warning] Stopped training because there are no more leaves that meet the split requirements\n",
      "[LightGBM] [Warning] Stopped training because there are no more leaves that meet the split requirements\n",
      "[LightGBM] [Warning] Stopped training because there are no more leaves that meet the split requirements\n",
      "[LightGBM] [Warning] Stopped training because there are no more leaves that meet the split requirements\n",
      "[LightGBM] [Warning] Stopped training because there are no more leaves that meet the split requirements\n",
      "[LightGBM] [Warning] Stopped training because there are no more leaves that meet the split requirements\n",
      "[LightGBM] [Warning] Stopped training because there are no more leaves that meet the split requirements\n",
      "[LightGBM] [Warning] Stopped training because there are no more leaves that meet the split requirements\n",
      "[LightGBM] [Warning] Stopped training because there are no more leaves that meet the split requirements\n",
      "[LightGBM] [Warning] Stopped training because there are no more leaves that meet the split requirements\n",
      "[LightGBM] [Warning] Stopped training because there are no more leaves that meet the split requirements\n",
      "[LightGBM] [Warning] Stopped training because there are no more leaves that meet the split requirements\n",
      "[LightGBM] [Warning] Stopped training because there are no more leaves that meet the split requirements\n",
      "[LightGBM] [Warning] Stopped training because there are no more leaves that meet the split requirements\n",
      "[LightGBM] [Warning] Stopped training because there are no more leaves that meet the split requirements\n",
      "[LightGBM] [Warning] Stopped training because there are no more leaves that meet the split requirements\n",
      "[LightGBM] [Warning] Stopped training because there are no more leaves that meet the split requirements\n",
      "[LightGBM] [Warning] Stopped training because there are no more leaves that meet the split requirements\n",
      "[LightGBM] [Warning] Stopped training because there are no more leaves that meet the split requirements\n",
      "[LightGBM] [Warning] Stopped training because there are no more leaves that meet the split requirements\n",
      "[LightGBM] [Warning] Stopped training because there are no more leaves that meet the split requirements\n",
      "[LightGBM] [Warning] Stopped training because there are no more leaves that meet the split requirements\n",
      "[LightGBM] [Warning] Stopped training because there are no more leaves that meet the split requirements\n",
      "[LightGBM] [Warning] Stopped training because there are no more leaves that meet the split requirements\n",
      "[LightGBM] [Warning] Stopped training because there are no more leaves that meet the split requirements\n",
      "[LightGBM] [Warning] Stopped training because there are no more leaves that meet the split requirements\n",
      "[LightGBM] [Warning] Stopped training because there are no more leaves that meet the split requirements\n",
      "[LightGBM] [Warning] Stopped training because there are no more leaves that meet the split requirements\n",
      "[LightGBM] [Warning] Stopped training because there are no more leaves that meet the split requirements\n",
      "[LightGBM] [Warning] Stopped training because there are no more leaves that meet the split requirements\n",
      "[LightGBM] [Warning] Stopped training because there are no more leaves that meet the split requirements\n",
      "[LightGBM] [Warning] Stopped training because there are no more leaves that meet the split requirements\n",
      "[LightGBM] [Warning] Stopped training because there are no more leaves that meet the split requirements\n",
      "[LightGBM] [Warning] Stopped training because there are no more leaves that meet the split requirements\n",
      "[LightGBM] [Warning] Stopped training because there are no more leaves that meet the split requirements\n",
      "[LightGBM] [Warning] Stopped training because there are no more leaves that meet the split requirements\n",
      "[LightGBM] [Warning] Stopped training because there are no more leaves that meet the split requirements\n",
      "[LightGBM] [Warning] Stopped training because there are no more leaves that meet the split requirements\n",
      "[LightGBM] [Warning] Stopped training because there are no more leaves that meet the split requirements\n",
      "[LightGBM] [Warning] Stopped training because there are no more leaves that meet the split requirements\n",
      "[LightGBM] [Warning] Stopped training because there are no more leaves that meet the split requirements\n",
      "[LightGBM] [Warning] Stopped training because there are no more leaves that meet the split requirements\n",
      "[LightGBM] [Warning] Stopped training because there are no more leaves that meet the split requirements\n",
      "[LightGBM] [Warning] Stopped training because there are no more leaves that meet the split requirements\n",
      "[LightGBM] [Warning] Stopped training because there are no more leaves that meet the split requirements\n",
      "[LightGBM] [Warning] Stopped training because there are no more leaves that meet the split requirements\n",
      "[LightGBM] [Warning] Stopped training because there are no more leaves that meet the split requirements\n",
      "[LightGBM] [Warning] Stopped training because there are no more leaves that meet the split requirements\n",
      "[LightGBM] [Warning] Stopped training because there are no more leaves that meet the split requirements\n",
      "[LightGBM] [Warning] Stopped training because there are no more leaves that meet the split requirements\n",
      "[LightGBM] [Warning] Stopped training because there are no more leaves that meet the split requirements\n",
      "[LightGBM] [Warning] Stopped training because there are no more leaves that meet the split requirements\n",
      "[LightGBM] [Warning] Stopped training because there are no more leaves that meet the split requirements\n"
     ]
    },
    {
     "data": {
      "text/html": [
       "<div>\n",
       "<style scoped>\n",
       "    .dataframe tbody tr th:only-of-type {\n",
       "        vertical-align: middle;\n",
       "    }\n",
       "\n",
       "    .dataframe tbody tr th {\n",
       "        vertical-align: top;\n",
       "    }\n",
       "\n",
       "    .dataframe thead th {\n",
       "        text-align: right;\n",
       "    }\n",
       "</style>\n",
       "<table border=\"1\" class=\"dataframe\">\n",
       "  <thead>\n",
       "    <tr style=\"text-align: right;\">\n",
       "      <th></th>\n",
       "      <th>Model</th>\n",
       "      <th>Accuracy</th>\n",
       "    </tr>\n",
       "  </thead>\n",
       "  <tbody>\n",
       "    <tr>\n",
       "      <th>0</th>\n",
       "      <td>Logistic Regression</td>\n",
       "      <td>1.000</td>\n",
       "    </tr>\n",
       "    <tr>\n",
       "      <th>1</th>\n",
       "      <td>Decision Tree Classifier</td>\n",
       "      <td>1.000</td>\n",
       "    </tr>\n",
       "    <tr>\n",
       "      <th>2</th>\n",
       "      <td>Random Forest Classifier</td>\n",
       "      <td>1.000</td>\n",
       "    </tr>\n",
       "    <tr>\n",
       "      <th>3</th>\n",
       "      <td>Support Vector Classifier</td>\n",
       "      <td>1.000</td>\n",
       "    </tr>\n",
       "    <tr>\n",
       "      <th>4</th>\n",
       "      <td>K-Nearest Neighbors Classifier</td>\n",
       "      <td>1.000</td>\n",
       "    </tr>\n",
       "    <tr>\n",
       "      <th>5</th>\n",
       "      <td>XGBoost Classifier</td>\n",
       "      <td>1.000</td>\n",
       "    </tr>\n",
       "    <tr>\n",
       "      <th>6</th>\n",
       "      <td>LightGBM Classifier</td>\n",
       "      <td>0.625</td>\n",
       "    </tr>\n",
       "  </tbody>\n",
       "</table>\n",
       "</div>"
      ],
      "text/plain": [
       "                            Model  Accuracy\n",
       "0             Logistic Regression     1.000\n",
       "1        Decision Tree Classifier     1.000\n",
       "2        Random Forest Classifier     1.000\n",
       "3       Support Vector Classifier     1.000\n",
       "4  K-Nearest Neighbors Classifier     1.000\n",
       "5              XGBoost Classifier     1.000\n",
       "6             LightGBM Classifier     0.625"
      ]
     },
     "execution_count": 11,
     "metadata": {},
     "output_type": "execute_result"
    }
   ],
   "source": [
    "X = df.drop(\"Play_Badminton\", axis=1)\n",
    "y = df[\"Play_Badminton\"]\n",
    "\n",
    "evaluate_models(X, y)"
   ]
  },
  {
   "cell_type": "markdown",
   "id": "372e24a2",
   "metadata": {
    "papermill": {
     "duration": 0.007874,
     "end_time": "2024-04-14T14:00:13.273278",
     "exception": false,
     "start_time": "2024-04-14T14:00:13.265404",
     "status": "completed"
    },
    "tags": []
   },
   "source": [
    "> # Correlation Heatmap"
   ]
  },
  {
   "cell_type": "code",
   "execution_count": 12,
   "id": "3d0c2ebe",
   "metadata": {
    "execution": {
     "iopub.execute_input": "2024-04-14T14:00:13.292277Z",
     "iopub.status.busy": "2024-04-14T14:00:13.291654Z",
     "iopub.status.idle": "2024-04-14T14:00:13.924145Z",
     "shell.execute_reply": "2024-04-14T14:00:13.922496Z"
    },
    "papermill": {
     "duration": 0.644911,
     "end_time": "2024-04-14T14:00:13.927004",
     "exception": false,
     "start_time": "2024-04-14T14:00:13.282093",
     "status": "completed"
    },
    "tags": []
   },
   "outputs": [
    {
     "data": {
      "image/png": "[encoded data removed]",
      "text/plain": [
       "<Figure size 1000x800 with 2 Axes>"
      ]
     },
     "metadata": {},
     "output_type": "display_data"
    }
   ],
   "source": [
    "correlation_matrix = df.corr()\n",
    "\n",
    "plt.figure(figsize=(10, 8))\n",
    "sns.heatmap(correlation_matrix, \n",
    "            annot=True,  \n",
    "            fmt=\".2f\",  \n",
    "            cmap='inferno',  \n",
    "            linewidths=.5, \n",
    "            square=True,  \n",
    "            cbar_kws={\"shrink\": 0.8},  \n",
    "            annot_kws={\"size\": 10},  \n",
    "            )\n",
    "plt.title('Correlation Heatmap', fontsize=18)  \n",
    "plt.xticks(fontsize=12)  \n",
    "plt.yticks(fontsize=12)  \n",
    "plt.show()"
   ]
  },
  {
   "cell_type": "markdown",
   "id": "7b2ecbc3",
   "metadata": {
    "papermill": {
     "duration": 0.00835,
     "end_time": "2024-04-14T14:00:13.944891",
     "exception": false,
     "start_time": "2024-04-14T14:00:13.936541",
     "status": "completed"
    },
    "tags": []
   },
   "source": [
    "# Thanks"
   ]
  }
 ],
 "metadata": {
  "kaggle": {
   "accelerator": "none",
   "dataSources": [
    {
     "datasetId": 4702869,
     "sourceId": 7988898,
     "sourceType": "datasetVersion"
    }
   ],
   "dockerImageVersionId": 30684,
   "isGpuEnabled": false,
   "isInternetEnabled": true,
   "language": "python",
   "sourceType": "notebook"
  },
  "kernelspec": {
   "display_name": "Python 3",
   "language": "python",
   "name": "python3"
  },
  "language_info": {
   "codemirror_mode": {
    "name": "ipython",
    "version": 3
   },
   "file_extension": ".py",
   "mimetype": "text/x-python",
   "name": "python",
   "nbconvert_exporter": "python",
   "pygments_lexer": "ipython3",
   "version": "3.10.13"
  },
  "papermill": {
   "default_parameters": {},
   "duration": 11.322796,
   "end_time": "2024-04-14T14:00:14.979769",
   "environment_variables": {},
   "exception": null,
   "input_path": "__notebook__.ipynb",
   "output_path": "__notebook__.ipynb",
   "parameters": {},
   "start_time": "2024-04-14T14:00:03.656973",
   "version": "2.5.0"
  }
 },
 "nbformat": 4,
 "nbformat_minor": 5
}
