{
 "cells": [
  {
   "cell_type": "markdown",
   "id": "ae533fa5",
   "metadata": {
    "papermill": {
     "duration": 0.008271,
     "end_time": "2024-04-14T01:29:05.524936",
     "exception": false,
     "start_time": "2024-04-14T01:29:05.516665",
     "status": "completed"
    },
    "tags": []
   },
   "source": [
    "# Project : Predict \"college mark\""
   ]
  },
  {
   "cell_type": "markdown",
   "id": "cd02d6b2",
   "metadata": {
    "papermill": {
     "duration": 0.007266,
     "end_time": "2024-04-14T01:29:05.540034",
     "exception": false,
     "start_time": "2024-04-14T01:29:05.532768",
     "status": "completed"
    },
    "tags": []
   },
   "source": [
    "> # Import Libraries & Read Dataset"
   ]
  },
  {
   "cell_type": "code",
   "execution_count": 1,
   "id": "cd1451f7",
   "metadata": {
    "execution": {
     "iopub.execute_input": "2024-04-14T01:29:05.556648Z",
     "iopub.status.busy": "2024-04-14T01:29:05.556063Z",
     "iopub.status.idle": "2024-04-14T01:29:06.061855Z",
     "shell.execute_reply": "2024-04-14T01:29:06.061054Z"
    },
    "papermill": {
     "duration": 0.517129,
     "end_time": "2024-04-14T01:29:06.064446",
     "exception": false,
     "start_time": "2024-04-14T01:29:05.547317",
     "status": "completed"
    },
    "tags": []
   },
   "outputs": [],
   "source": [
    "import requests\n",
    "\n",
    "url = 'https://raw.githubusercontent.com/lko9911/Kaggle/master/Compare_Regression_models.py'\n",
    "\n",
    "r = requests.get(url)\n",
    "\n",
    "with open('Compare_Regression_models.py', 'w') as f:\n",
    "    f.write(r.text)"
   ]
  },
  {
   "cell_type": "code",
   "execution_count": 2,
   "id": "f0921696",
   "metadata": {
    "execution": {
     "iopub.execute_input": "2024-04-14T01:29:06.081504Z",
     "iopub.status.busy": "2024-04-14T01:29:06.080896Z",
     "iopub.status.idle": "2024-04-14T01:29:10.490710Z",
     "shell.execute_reply": "2024-04-14T01:29:10.489510Z"
    },
    "papermill": {
     "duration": 4.421661,
     "end_time": "2024-04-14T01:29:10.493607",
     "exception": false,
     "start_time": "2024-04-14T01:29:06.071946",
     "status": "completed"
    },
    "tags": []
   },
   "outputs": [],
   "source": [
    "# For Compare modeling\n",
    "from Compare_Regression_models import evaluate_models\n",
    "\n",
    "# For Standard data\n",
    "from sklearn.preprocessing import StandardScaler\n",
    "\n",
    "# For Modeling\n",
    "from sklearn.model_selection import train_test_split\n",
    "from sklearn.ensemble import RandomForestRegressor\n",
    "from xgboost import XGBRegressor\n",
    "from lightgbm import LGBMRegressor\n",
    "from sklearn.model_selection import GridSearchCV\n",
    "\n",
    "# For Evaluate model\n",
    "from sklearn.metrics import mean_squared_error, mean_absolute_error, r2_score\n",
    "from sklearn.metrics import r2_score\n",
    "\n",
    "# For EDA\n",
    "import pandas as pd\n",
    "import numpy as np\n",
    "import matplotlib.pyplot as plt\n",
    "import seaborn as sns\n",
    "import warnings\n",
    "warnings.filterwarnings(\"ignore\", category=FutureWarning)"
   ]
  },
  {
   "cell_type": "code",
   "execution_count": 3,
   "id": "69da1ec2",
   "metadata": {
    "execution": {
     "iopub.execute_input": "2024-04-14T01:29:10.510599Z",
     "iopub.status.busy": "2024-04-14T01:29:10.509971Z",
     "iopub.status.idle": "2024-04-14T01:29:10.553163Z",
     "shell.execute_reply": "2024-04-14T01:29:10.552065Z"
    },
    "papermill": {
     "duration": 0.054376,
     "end_time": "2024-04-14T01:29:10.555569",
     "exception": false,
     "start_time": "2024-04-14T01:29:10.501193",
     "status": "completed"
    },
    "tags": []
   },
   "outputs": [
    {
     "data": {
      "text/html": [
       "<div>\n",
       "<style scoped>\n",
       "    .dataframe tbody tr th:only-of-type {\n",
       "        vertical-align: middle;\n",
       "    }\n",
       "\n",
       "    .dataframe tbody tr th {\n",
       "        vertical-align: top;\n",
       "    }\n",
       "\n",
       "    .dataframe thead th {\n",
       "        text-align: right;\n",
       "    }\n",
       "</style>\n",
       "<table border=\"1\" class=\"dataframe\">\n",
       "  <thead>\n",
       "    <tr style=\"text-align: right;\">\n",
       "      <th></th>\n",
       "      <th>Certification Course</th>\n",
       "      <th>Gender</th>\n",
       "      <th>Department</th>\n",
       "      <th>Height(CM)</th>\n",
       "      <th>Weight(KG)</th>\n",
       "      <th>10th Mark</th>\n",
       "      <th>12th Mark</th>\n",
       "      <th>college mark</th>\n",
       "      <th>hobbies</th>\n",
       "      <th>daily studing time</th>\n",
       "      <th>prefer to study in</th>\n",
       "      <th>salary expectation</th>\n",
       "      <th>Do you like your degree?</th>\n",
       "      <th>willingness to pursue a career based on their degree</th>\n",
       "      <th>social medai &amp; video</th>\n",
       "      <th>Travelling Time</th>\n",
       "      <th>Stress Level</th>\n",
       "      <th>Financial Status</th>\n",
       "      <th>part-time job</th>\n",
       "    </tr>\n",
       "  </thead>\n",
       "  <tbody>\n",
       "    <tr>\n",
       "      <th>0</th>\n",
       "      <td>No</td>\n",
       "      <td>Male</td>\n",
       "      <td>BCA</td>\n",
       "      <td>100.0</td>\n",
       "      <td>58.0</td>\n",
       "      <td>79.0</td>\n",
       "      <td>64.0</td>\n",
       "      <td>80.0</td>\n",
       "      <td>Video Games</td>\n",
       "      <td>0 - 30 minute</td>\n",
       "      <td>Morning</td>\n",
       "      <td>40000</td>\n",
       "      <td>No</td>\n",
       "      <td>50%</td>\n",
       "      <td>1.30 - 2 hour</td>\n",
       "      <td>30 - 60 minutes</td>\n",
       "      <td>Bad</td>\n",
       "      <td>Bad</td>\n",
       "      <td>No</td>\n",
       "    </tr>\n",
       "    <tr>\n",
       "      <th>1</th>\n",
       "      <td>No</td>\n",
       "      <td>Female</td>\n",
       "      <td>BCA</td>\n",
       "      <td>90.0</td>\n",
       "      <td>40.0</td>\n",
       "      <td>70.0</td>\n",
       "      <td>80.0</td>\n",
       "      <td>70.0</td>\n",
       "      <td>Cinema</td>\n",
       "      <td>30 - 60 minute</td>\n",
       "      <td>Morning</td>\n",
       "      <td>15000</td>\n",
       "      <td>Yes</td>\n",
       "      <td>75%</td>\n",
       "      <td>1 - 1.30 hour</td>\n",
       "      <td>0 - 30 minutes</td>\n",
       "      <td>Bad</td>\n",
       "      <td>Bad</td>\n",
       "      <td>No</td>\n",
       "    </tr>\n",
       "    <tr>\n",
       "      <th>2</th>\n",
       "      <td>Yes</td>\n",
       "      <td>Male</td>\n",
       "      <td>BCA</td>\n",
       "      <td>159.0</td>\n",
       "      <td>78.0</td>\n",
       "      <td>71.0</td>\n",
       "      <td>61.0</td>\n",
       "      <td>55.0</td>\n",
       "      <td>Cinema</td>\n",
       "      <td>1 - 2 Hour</td>\n",
       "      <td>Anytime</td>\n",
       "      <td>13000</td>\n",
       "      <td>Yes</td>\n",
       "      <td>50%</td>\n",
       "      <td>More than 2 hour</td>\n",
       "      <td>30 - 60 minutes</td>\n",
       "      <td>Awful</td>\n",
       "      <td>Bad</td>\n",
       "      <td>No</td>\n",
       "    </tr>\n",
       "    <tr>\n",
       "      <th>3</th>\n",
       "      <td>Yes</td>\n",
       "      <td>Female</td>\n",
       "      <td>BCA</td>\n",
       "      <td>147.0</td>\n",
       "      <td>20.0</td>\n",
       "      <td>70.0</td>\n",
       "      <td>59.0</td>\n",
       "      <td>58.0</td>\n",
       "      <td>Reading books</td>\n",
       "      <td>1 - 2 Hour</td>\n",
       "      <td>Anytime</td>\n",
       "      <td>1500000</td>\n",
       "      <td>No</td>\n",
       "      <td>50%</td>\n",
       "      <td>1.30 - 2 hour</td>\n",
       "      <td>0 - 30 minutes</td>\n",
       "      <td>Bad</td>\n",
       "      <td>good</td>\n",
       "      <td>No</td>\n",
       "    </tr>\n",
       "    <tr>\n",
       "      <th>4</th>\n",
       "      <td>No</td>\n",
       "      <td>Male</td>\n",
       "      <td>BCA</td>\n",
       "      <td>170.0</td>\n",
       "      <td>54.0</td>\n",
       "      <td>40.0</td>\n",
       "      <td>65.0</td>\n",
       "      <td>30.0</td>\n",
       "      <td>Video Games</td>\n",
       "      <td>30 - 60 minute</td>\n",
       "      <td>Morning</td>\n",
       "      <td>50000</td>\n",
       "      <td>Yes</td>\n",
       "      <td>25%</td>\n",
       "      <td>1.30 - 2 hour</td>\n",
       "      <td>30 - 60 minutes</td>\n",
       "      <td>Good</td>\n",
       "      <td>good</td>\n",
       "      <td>No</td>\n",
       "    </tr>\n",
       "  </tbody>\n",
       "</table>\n",
       "</div>"
      ],
      "text/plain": [
       "  Certification Course  Gender Department  Height(CM)  Weight(KG)  10th Mark  \\\n",
       "0                   No    Male        BCA       100.0        58.0       79.0   \n",
       "1                   No  Female        BCA        90.0        40.0       70.0   \n",
       "2                  Yes    Male        BCA       159.0        78.0       71.0   \n",
       "3                  Yes  Female        BCA       147.0        20.0       70.0   \n",
       "4                   No    Male        BCA       170.0        54.0       40.0   \n",
       "\n",
       "   12th Mark  college mark        hobbies daily studing time  \\\n",
       "0       64.0          80.0    Video Games      0 - 30 minute   \n",
       "1       80.0          70.0         Cinema     30 - 60 minute   \n",
       "2       61.0          55.0         Cinema         1 - 2 Hour   \n",
       "3       59.0          58.0  Reading books         1 - 2 Hour   \n",
       "4       65.0          30.0    Video Games     30 - 60 minute   \n",
       "\n",
       "  prefer to study in  salary expectation Do you like your degree?  \\\n",
       "0            Morning               40000                       No   \n",
       "1            Morning               15000                      Yes   \n",
       "2            Anytime               13000                      Yes   \n",
       "3            Anytime             1500000                       No   \n",
       "4            Morning               50000                      Yes   \n",
       "\n",
       "  willingness to pursue a career based on their degree   social medai & video  \\\n",
       "0                                                50%            1.30 - 2 hour   \n",
       "1                                                75%            1 - 1.30 hour   \n",
       "2                                                50%         More than 2 hour   \n",
       "3                                                50%            1.30 - 2 hour   \n",
       "4                                                25%            1.30 - 2 hour   \n",
       "\n",
       "  Travelling Time  Stress Level  Financial Status part-time job  \n",
       "0  30 - 60 minutes           Bad              Bad            No  \n",
       "1   0 - 30 minutes           Bad              Bad            No  \n",
       "2  30 - 60 minutes         Awful              Bad            No  \n",
       "3   0 - 30 minutes           Bad             good            No  \n",
       "4  30 - 60 minutes          Good             good            No  "
      ]
     },
     "execution_count": 3,
     "metadata": {},
     "output_type": "execute_result"
    }
   ],
   "source": [
    "df = pd.read_csv('/kaggle/input/student-attitude-and-behavior/Student Attitude and Behavior.csv')\n",
    "df.head()"
   ]
  },
  {
   "cell_type": "code",
   "execution_count": 4,
   "id": "473525c7",
   "metadata": {
    "execution": {
     "iopub.execute_input": "2024-04-14T01:29:10.574069Z",
     "iopub.status.busy": "2024-04-14T01:29:10.573682Z",
     "iopub.status.idle": "2024-04-14T01:29:10.602112Z",
     "shell.execute_reply": "2024-04-14T01:29:10.600957Z"
    },
    "papermill": {
     "duration": 0.041213,
     "end_time": "2024-04-14T01:29:10.604968",
     "exception": false,
     "start_time": "2024-04-14T01:29:10.563755",
     "status": "completed"
    },
    "tags": []
   },
   "outputs": [
    {
     "name": "stdout",
     "output_type": "stream",
     "text": [
      "<class 'pandas.core.frame.DataFrame'>\n",
      "RangeIndex: 235 entries, 0 to 234\n",
      "Data columns (total 19 columns):\n",
      " #   Column                                                  Non-Null Count  Dtype  \n",
      "---  ------                                                  --------------  -----  \n",
      " 0   Certification Course                                    235 non-null    object \n",
      " 1   Gender                                                  235 non-null    object \n",
      " 2   Department                                              235 non-null    object \n",
      " 3   Height(CM)                                              235 non-null    float64\n",
      " 4   Weight(KG)                                              235 non-null    float64\n",
      " 5   10th Mark                                               235 non-null    float64\n",
      " 6   12th Mark                                               235 non-null    float64\n",
      " 7   college mark                                            235 non-null    float64\n",
      " 8   hobbies                                                 235 non-null    object \n",
      " 9   daily studing time                                      235 non-null    object \n",
      " 10  prefer to study in                                      235 non-null    object \n",
      " 11  salary expectation                                      235 non-null    int64  \n",
      " 12  Do you like your degree?                                235 non-null    object \n",
      " 13  willingness to pursue a career based on their degree    235 non-null    object \n",
      " 14  social medai & video                                    235 non-null    object \n",
      " 15  Travelling Time                                         235 non-null    object \n",
      " 16  Stress Level                                            235 non-null    object \n",
      " 17  Financial Status                                        235 non-null    object \n",
      " 18  part-time job                                           235 non-null    object \n",
      "dtypes: float64(5), int64(1), object(13)\n",
      "memory usage: 35.0+ KB\n"
     ]
    }
   ],
   "source": [
    "df.info()"
   ]
  },
  {
   "cell_type": "markdown",
   "id": "50209c0a",
   "metadata": {
    "papermill": {
     "duration": 0.008023,
     "end_time": "2024-04-14T01:29:10.621796",
     "exception": false,
     "start_time": "2024-04-14T01:29:10.613773",
     "status": "completed"
    },
    "tags": []
   },
   "source": [
    "> # Data Preprocessing"
   ]
  },
  {
   "cell_type": "code",
   "execution_count": 5,
   "id": "832e5590",
   "metadata": {
    "execution": {
     "iopub.execute_input": "2024-04-14T01:29:10.639294Z",
     "iopub.status.busy": "2024-04-14T01:29:10.638853Z",
     "iopub.status.idle": "2024-04-14T01:29:10.648501Z",
     "shell.execute_reply": "2024-04-14T01:29:10.647430Z"
    },
    "papermill": {
     "duration": 0.020946,
     "end_time": "2024-04-14T01:29:10.650683",
     "exception": false,
     "start_time": "2024-04-14T01:29:10.629737",
     "status": "completed"
    },
    "tags": []
   },
   "outputs": [
    {
     "data": {
      "text/plain": [
       "Certification Course                                      0\n",
       "Gender                                                    0\n",
       "Department                                                0\n",
       "Height(CM)                                                0\n",
       "Weight(KG)                                                0\n",
       "10th Mark                                                 0\n",
       "12th Mark                                                 0\n",
       "college mark                                              0\n",
       "hobbies                                                   0\n",
       "daily studing time                                        0\n",
       "prefer to study in                                        0\n",
       "salary expectation                                        0\n",
       "Do you like your degree?                                  0\n",
       "willingness to pursue a career based on their degree      0\n",
       "social medai & video                                      0\n",
       "Travelling Time                                           0\n",
       "Stress Level                                              0\n",
       "Financial Status                                          0\n",
       "part-time job                                             0\n",
       "dtype: int64"
      ]
     },
     "execution_count": 5,
     "metadata": {},
     "output_type": "execute_result"
    }
   ],
   "source": [
    "df.isna().sum()"
   ]
  },
  {
   "cell_type": "code",
   "execution_count": 6,
   "id": "69415c65",
   "metadata": {
    "execution": {
     "iopub.execute_input": "2024-04-14T01:29:10.669061Z",
     "iopub.status.busy": "2024-04-14T01:29:10.668331Z",
     "iopub.status.idle": "2024-04-14T01:29:10.677090Z",
     "shell.execute_reply": "2024-04-14T01:29:10.675711Z"
    },
    "papermill": {
     "duration": 0.020447,
     "end_time": "2024-04-14T01:29:10.679281",
     "exception": false,
     "start_time": "2024-04-14T01:29:10.658834",
     "status": "completed"
    },
    "tags": []
   },
   "outputs": [
    {
     "name": "stdout",
     "output_type": "stream",
     "text": [
      "Certification Course has 2 unique values\n",
      "Gender has 2 unique values\n",
      "Department has 4 unique values\n",
      "hobbies has 4 unique values\n",
      "daily studing time has 6 unique values\n",
      "prefer to study in has 3 unique values\n",
      "Do you like your degree? has 2 unique values\n",
      "willingness to pursue a career based on their degree   has 5 unique values\n",
      "social medai & video has 6 unique values\n",
      "Travelling Time  has 7 unique values\n",
      "Stress Level  has 4 unique values\n",
      "Financial Status has 4 unique values\n",
      "part-time job has 2 unique values\n"
     ]
    }
   ],
   "source": [
    "object_columns = df.select_dtypes(include=['object']).columns.tolist()\n",
    "\n",
    "for col in object_columns:\n",
    "    unique_count = df[col].nunique()\n",
    "    print(f'{col} has {unique_count} unique values')"
   ]
  },
  {
   "cell_type": "code",
   "execution_count": 7,
   "id": "7562e2ca",
   "metadata": {
    "execution": {
     "iopub.execute_input": "2024-04-14T01:29:10.698756Z",
     "iopub.status.busy": "2024-04-14T01:29:10.697985Z",
     "iopub.status.idle": "2024-04-14T01:29:10.707185Z",
     "shell.execute_reply": "2024-04-14T01:29:10.705946Z"
    },
    "papermill": {
     "duration": 0.021891,
     "end_time": "2024-04-14T01:29:10.709366",
     "exception": false,
     "start_time": "2024-04-14T01:29:10.687475",
     "status": "completed"
    },
    "tags": []
   },
   "outputs": [
    {
     "name": "stdout",
     "output_type": "stream",
     "text": [
      "Certification Course has ['No' 'Yes']\n",
      "Gender has ['Male' 'Female']\n",
      "Do you like your degree? has ['No' 'Yes']\n",
      "part-time job has ['No' 'Yes']\n"
     ]
    }
   ],
   "source": [
    "for col in object_columns:\n",
    "    unique_count = df[col].nunique()\n",
    "    unique_name = df[col].unique()\n",
    "    if unique_count == 2:\n",
    "         print(f'{col} has {unique_name}')"
   ]
  },
  {
   "cell_type": "code",
   "execution_count": 8,
   "id": "7a923959",
   "metadata": {
    "execution": {
     "iopub.execute_input": "2024-04-14T01:29:10.728195Z",
     "iopub.status.busy": "2024-04-14T01:29:10.727043Z",
     "iopub.status.idle": "2024-04-14T01:29:10.736904Z",
     "shell.execute_reply": "2024-04-14T01:29:10.736054Z"
    },
    "papermill": {
     "duration": 0.021506,
     "end_time": "2024-04-14T01:29:10.739190",
     "exception": false,
     "start_time": "2024-04-14T01:29:10.717684",
     "status": "completed"
    },
    "tags": []
   },
   "outputs": [],
   "source": [
    "def Yes_No(value):\n",
    "    if(value=='Yes'):\n",
    "        return 1\n",
    "    elif(value=='No'):\n",
    "        return 0\n",
    "\n",
    "def Gender(value):\n",
    "    if(value=='Male'):\n",
    "        return 1\n",
    "    elif(value=='Female'):\n",
    "        return 0\n",
    "\n",
    "df['Certification Course'] = df['Certification Course'].apply(Yes_No)\n",
    "df['Do you like your degree?'] = df['Do you like your degree?'].apply(Yes_No)\n",
    "df['part-time job'] = df['part-time job'].apply(Yes_No)\n",
    "df['Gender'] = df['Gender'].apply(Gender)"
   ]
  },
  {
   "cell_type": "code",
   "execution_count": 9,
   "id": "5df75de5",
   "metadata": {
    "execution": {
     "iopub.execute_input": "2024-04-14T01:29:10.759326Z",
     "iopub.status.busy": "2024-04-14T01:29:10.758271Z",
     "iopub.status.idle": "2024-04-14T01:29:10.791241Z",
     "shell.execute_reply": "2024-04-14T01:29:10.790188Z"
    },
    "papermill": {
     "duration": 0.04622,
     "end_time": "2024-04-14T01:29:10.794410",
     "exception": false,
     "start_time": "2024-04-14T01:29:10.748190",
     "status": "completed"
    },
    "tags": []
   },
   "outputs": [
    {
     "name": "stdout",
     "output_type": "stream",
     "text": [
      "<class 'pandas.core.frame.DataFrame'>\n",
      "RangeIndex: 235 entries, 0 to 234\n",
      "Data columns (total 44 columns):\n",
      " #   Column                                                       Non-Null Count  Dtype  \n",
      "---  ------                                                       --------------  -----  \n",
      " 0   Certification Course                                         235 non-null    int64  \n",
      " 1   Gender                                                       235 non-null    int64  \n",
      " 2   Height(CM)                                                   235 non-null    float64\n",
      " 3   Weight(KG)                                                   235 non-null    float64\n",
      " 4   10th Mark                                                    235 non-null    float64\n",
      " 5   12th Mark                                                    235 non-null    float64\n",
      " 6   college mark                                                 235 non-null    float64\n",
      " 7   salary expectation                                           235 non-null    int64  \n",
      " 8   Do you like your degree?                                     235 non-null    int64  \n",
      " 9   part-time job                                                235 non-null    int64  \n",
      " 10  Department_B.com ISM                                         235 non-null    bool   \n",
      " 11  Department_BCA                                               235 non-null    bool   \n",
      " 12  Department_Commerce                                          235 non-null    bool   \n",
      " 13  hobbies_Reading books                                        235 non-null    bool   \n",
      " 14  hobbies_Sports                                               235 non-null    bool   \n",
      " 15  hobbies_Video Games                                          235 non-null    bool   \n",
      " 16  daily studing time_1 - 2 Hour                                235 non-null    bool   \n",
      " 17  daily studing time_2 - 3 hour                                235 non-null    bool   \n",
      " 18  daily studing time_3 - 4 hour                                235 non-null    bool   \n",
      " 19  daily studing time_30 - 60 minute                            235 non-null    bool   \n",
      " 20  daily studing time_More Than 4 hour                          235 non-null    bool   \n",
      " 21  prefer to study in_Morning                                   235 non-null    bool   \n",
      " 22  prefer to study in_Night                                     235 non-null    bool   \n",
      " 23  willingness to pursue a career based on their degree  _100%  235 non-null    bool   \n",
      " 24  willingness to pursue a career based on their degree  _25%   235 non-null    bool   \n",
      " 25  willingness to pursue a career based on their degree  _50%   235 non-null    bool   \n",
      " 26  willingness to pursue a career based on their degree  _75%   235 non-null    bool   \n",
      " 27  social medai & video_1 - 1.30 hour                           235 non-null    bool   \n",
      " 28  social medai & video_1 - 30 Minute                           235 non-null    bool   \n",
      " 29  social medai & video_1.30 - 2 hour                           235 non-null    bool   \n",
      " 30  social medai & video_30 - 60 Minute                          235 non-null    bool   \n",
      " 31  social medai & video_More than 2 hour                        235 non-null    bool   \n",
      " 32  Travelling Time _1 - 1.30 hour                               235 non-null    bool   \n",
      " 33  Travelling Time _1.30 - 2 hour                               235 non-null    bool   \n",
      " 34  Travelling Time _2 - 2.30 hour                               235 non-null    bool   \n",
      " 35  Travelling Time _2.30 - 3 hour                               235 non-null    bool   \n",
      " 36  Travelling Time _30 - 60 minutes                             235 non-null    bool   \n",
      " 37  Travelling Time _more than 3 hour                            235 non-null    bool   \n",
      " 38  Stress Level _Bad                                            235 non-null    bool   \n",
      " 39  Stress Level _Good                                           235 non-null    bool   \n",
      " 40  Stress Level _fabulous                                       235 non-null    bool   \n",
      " 41  Financial Status_Bad                                         235 non-null    bool   \n",
      " 42  Financial Status_Fabulous                                    235 non-null    bool   \n",
      " 43  Financial Status_good                                        235 non-null    bool   \n",
      "dtypes: bool(34), float64(5), int64(5)\n",
      "memory usage: 26.3 KB\n"
     ]
    }
   ],
   "source": [
    "categorical_columns = df.select_dtypes(include=['object']).columns.tolist()\n",
    "df = pd.get_dummies(df, columns=categorical_columns, drop_first=True)\n",
    "df.info()"
   ]
  },
  {
   "cell_type": "markdown",
   "id": "295315e8",
   "metadata": {
    "papermill": {
     "duration": 0.008426,
     "end_time": "2024-04-14T01:29:10.811553",
     "exception": false,
     "start_time": "2024-04-14T01:29:10.803127",
     "status": "completed"
    },
    "tags": []
   },
   "source": [
    "> # Compare models"
   ]
  },
  {
   "cell_type": "code",
   "execution_count": 10,
   "id": "0ef31c4c",
   "metadata": {
    "execution": {
     "iopub.execute_input": "2024-04-14T01:29:10.830394Z",
     "iopub.status.busy": "2024-04-14T01:29:10.829941Z",
     "iopub.status.idle": "2024-04-14T01:29:11.611383Z",
     "shell.execute_reply": "2024-04-14T01:29:11.609349Z"
    },
    "papermill": {
     "duration": 0.793596,
     "end_time": "2024-04-14T01:29:11.613726",
     "exception": false,
     "start_time": "2024-04-14T01:29:10.820130",
     "status": "completed"
    },
    "tags": []
   },
   "outputs": [
    {
     "name": "stdout",
     "output_type": "stream",
     "text": [
      "[LightGBM] [Info] Auto-choosing row-wise multi-threading, the overhead of testing was 0.002063 seconds.\n",
      "You can set `force_row_wise=true` to remove the overhead.\n",
      "And if memory is not enough, you can set `force_col_wise=true`.\n",
      "[LightGBM] [Info] Total Bins 233\n",
      "[LightGBM] [Info] Number of data points in the train set: 188, number of used features: 33\n",
      "[LightGBM] [Info] Start training from score 71.078351\n",
      "[LightGBM] [Warning] No further splits with positive gain, best gain: -inf\n",
      "[LightGBM] [Warning] No further splits with positive gain, best gain: -inf\n",
      "[LightGBM] [Warning] No further splits with positive gain, best gain: -inf\n",
      "[LightGBM] [Warning] No further splits with positive gain, best gain: -inf\n",
      "[LightGBM] [Warning] No further splits with positive gain, best gain: -inf\n",
      "[LightGBM] [Warning] No further splits with positive gain, best gain: -inf\n",
      "[LightGBM] [Warning] No further splits with positive gain, best gain: -inf\n",
      "[LightGBM] [Warning] No further splits with positive gain, best gain: -inf\n",
      "[LightGBM] [Warning] No further splits with positive gain, best gain: -inf\n",
      "[LightGBM] [Warning] No further splits with positive gain, best gain: -inf\n",
      "[LightGBM] [Warning] No further splits with positive gain, best gain: -inf\n",
      "[LightGBM] [Warning] No further splits with positive gain, best gain: -inf\n",
      "[LightGBM] [Warning] No further splits with positive gain, best gain: -inf\n",
      "[LightGBM] [Warning] No further splits with positive gain, best gain: -inf\n",
      "[LightGBM] [Warning] No further splits with positive gain, best gain: -inf\n",
      "[LightGBM] [Warning] No further splits with positive gain, best gain: -inf\n",
      "[LightGBM] [Warning] No further splits with positive gain, best gain: -inf\n",
      "[LightGBM] [Warning] No further splits with positive gain, best gain: -inf\n",
      "[LightGBM] [Warning] No further splits with positive gain, best gain: -inf\n",
      "[LightGBM] [Warning] No further splits with positive gain, best gain: -inf\n",
      "[LightGBM] [Warning] No further splits with positive gain, best gain: -inf\n",
      "[LightGBM] [Warning] No further splits with positive gain, best gain: -inf\n",
      "[LightGBM] [Warning] No further splits with positive gain, best gain: -inf\n",
      "[LightGBM] [Warning] No further splits with positive gain, best gain: -inf\n",
      "[LightGBM] [Warning] No further splits with positive gain, best gain: -inf\n",
      "[LightGBM] [Warning] No further splits with positive gain, best gain: -inf\n",
      "[LightGBM] [Warning] No further splits with positive gain, best gain: -inf\n",
      "[LightGBM] [Warning] No further splits with positive gain, best gain: -inf\n",
      "[LightGBM] [Warning] No further splits with positive gain, best gain: -inf\n",
      "[LightGBM] [Warning] No further splits with positive gain, best gain: -inf\n",
      "[LightGBM] [Warning] No further splits with positive gain, best gain: -inf\n",
      "[LightGBM] [Warning] No further splits with positive gain, best gain: -inf\n",
      "[LightGBM] [Warning] No further splits with positive gain, best gain: -inf\n",
      "[LightGBM] [Warning] No further splits with positive gain, best gain: -inf\n",
      "[LightGBM] [Warning] No further splits with positive gain, best gain: -inf\n",
      "[LightGBM] [Warning] No further splits with positive gain, best gain: -inf\n",
      "[LightGBM] [Warning] No further splits with positive gain, best gain: -inf\n",
      "[LightGBM] [Warning] No further splits with positive gain, best gain: -inf\n",
      "[LightGBM] [Warning] No further splits with positive gain, best gain: -inf\n",
      "[LightGBM] [Warning] No further splits with positive gain, best gain: -inf\n",
      "[LightGBM] [Warning] No further splits with positive gain, best gain: -inf\n",
      "[LightGBM] [Warning] No further splits with positive gain, best gain: -inf\n",
      "[LightGBM] [Warning] No further splits with positive gain, best gain: -inf\n",
      "[LightGBM] [Warning] No further splits with positive gain, best gain: -inf\n",
      "[LightGBM] [Warning] No further splits with positive gain, best gain: -inf\n",
      "[LightGBM] [Warning] No further splits with positive gain, best gain: -inf\n",
      "[LightGBM] [Warning] No further splits with positive gain, best gain: -inf\n",
      "[LightGBM] [Warning] No further splits with positive gain, best gain: -inf\n",
      "[LightGBM] [Warning] No further splits with positive gain, best gain: -inf\n",
      "[LightGBM] [Warning] No further splits with positive gain, best gain: -inf\n",
      "[LightGBM] [Warning] No further splits with positive gain, best gain: -inf\n",
      "[LightGBM] [Warning] No further splits with positive gain, best gain: -inf\n",
      "[LightGBM] [Warning] No further splits with positive gain, best gain: -inf\n",
      "[LightGBM] [Warning] No further splits with positive gain, best gain: -inf\n",
      "[LightGBM] [Warning] No further splits with positive gain, best gain: -inf\n",
      "[LightGBM] [Warning] No further splits with positive gain, best gain: -inf\n",
      "[LightGBM] [Warning] No further splits with positive gain, best gain: -inf\n",
      "[LightGBM] [Warning] No further splits with positive gain, best gain: -inf\n",
      "[LightGBM] [Warning] No further splits with positive gain, best gain: -inf\n",
      "[LightGBM] [Warning] No further splits with positive gain, best gain: -inf\n",
      "[LightGBM] [Warning] No further splits with positive gain, best gain: -inf\n",
      "[LightGBM] [Warning] No further splits with positive gain, best gain: -inf\n",
      "[LightGBM] [Warning] No further splits with positive gain, best gain: -inf\n",
      "[LightGBM] [Warning] No further splits with positive gain, best gain: -inf\n",
      "[LightGBM] [Warning] No further splits with positive gain, best gain: -inf\n",
      "[LightGBM] [Warning] No further splits with positive gain, best gain: -inf\n",
      "[LightGBM] [Warning] No further splits with positive gain, best gain: -inf\n",
      "[LightGBM] [Warning] No further splits with positive gain, best gain: -inf\n",
      "[LightGBM] [Warning] No further splits with positive gain, best gain: -inf\n",
      "[LightGBM] [Warning] No further splits with positive gain, best gain: -inf\n",
      "[LightGBM] [Warning] No further splits with positive gain, best gain: -inf\n",
      "[LightGBM] [Warning] No further splits with positive gain, best gain: -inf\n",
      "[LightGBM] [Warning] No further splits with positive gain, best gain: -inf\n",
      "[LightGBM] [Warning] No further splits with positive gain, best gain: -inf\n",
      "[LightGBM] [Warning] No further splits with positive gain, best gain: -inf\n",
      "[LightGBM] [Warning] No further splits with positive gain, best gain: -inf\n",
      "[LightGBM] [Warning] No further splits with positive gain, best gain: -inf\n",
      "[LightGBM] [Warning] No further splits with positive gain, best gain: -inf\n",
      "[LightGBM] [Warning] No further splits with positive gain, best gain: -inf\n",
      "[LightGBM] [Warning] No further splits with positive gain, best gain: -inf\n",
      "[LightGBM] [Warning] No further splits with positive gain, best gain: -inf\n",
      "[LightGBM] [Warning] No further splits with positive gain, best gain: -inf\n",
      "[LightGBM] [Warning] No further splits with positive gain, best gain: -inf\n",
      "[LightGBM] [Warning] No further splits with positive gain, best gain: -inf\n",
      "[LightGBM] [Warning] No further splits with positive gain, best gain: -inf\n",
      "[LightGBM] [Warning] No further splits with positive gain, best gain: -inf\n",
      "[LightGBM] [Warning] No further splits with positive gain, best gain: -inf\n",
      "[LightGBM] [Warning] No further splits with positive gain, best gain: -inf\n",
      "[LightGBM] [Warning] No further splits with positive gain, best gain: -inf\n",
      "[LightGBM] [Warning] No further splits with positive gain, best gain: -inf\n",
      "[LightGBM] [Warning] No further splits with positive gain, best gain: -inf\n",
      "[LightGBM] [Warning] No further splits with positive gain, best gain: -inf\n",
      "[LightGBM] [Warning] No further splits with positive gain, best gain: -inf\n",
      "[LightGBM] [Warning] No further splits with positive gain, best gain: -inf\n",
      "[LightGBM] [Warning] No further splits with positive gain, best gain: -inf\n",
      "[LightGBM] [Warning] No further splits with positive gain, best gain: -inf\n",
      "[LightGBM] [Warning] No further splits with positive gain, best gain: -inf\n",
      "[LightGBM] [Warning] No further splits with positive gain, best gain: -inf\n",
      "[LightGBM] [Warning] No further splits with positive gain, best gain: -inf\n",
      "[LightGBM] [Warning] No further splits with positive gain, best gain: -inf\n"
     ]
    },
    {
     "data": {
      "text/html": [
       "<div>\n",
       "<style scoped>\n",
       "    .dataframe tbody tr th:only-of-type {\n",
       "        vertical-align: middle;\n",
       "    }\n",
       "\n",
       "    .dataframe tbody tr th {\n",
       "        vertical-align: top;\n",
       "    }\n",
       "\n",
       "    .dataframe thead th {\n",
       "        text-align: right;\n",
       "    }\n",
       "</style>\n",
       "<table border=\"1\" class=\"dataframe\">\n",
       "  <thead>\n",
       "    <tr style=\"text-align: right;\">\n",
       "      <th></th>\n",
       "      <th>Model</th>\n",
       "      <th>RMSE</th>\n",
       "      <th>R2</th>\n",
       "    </tr>\n",
       "  </thead>\n",
       "  <tbody>\n",
       "    <tr>\n",
       "      <th>0</th>\n",
       "      <td>Linear Regression</td>\n",
       "      <td>17.481589</td>\n",
       "      <td>0.053243</td>\n",
       "    </tr>\n",
       "    <tr>\n",
       "      <th>1</th>\n",
       "      <td>Ridge Regression</td>\n",
       "      <td>17.388981</td>\n",
       "      <td>0.063247</td>\n",
       "    </tr>\n",
       "    <tr>\n",
       "      <th>2</th>\n",
       "      <td>Lasso Regression</td>\n",
       "      <td>15.140450</td>\n",
       "      <td>0.289843</td>\n",
       "    </tr>\n",
       "    <tr>\n",
       "      <th>3</th>\n",
       "      <td>ElasticNet</td>\n",
       "      <td>15.593282</td>\n",
       "      <td>0.246728</td>\n",
       "    </tr>\n",
       "    <tr>\n",
       "      <th>4</th>\n",
       "      <td>Decision Tree Regressor</td>\n",
       "      <td>22.475473</td>\n",
       "      <td>-0.564928</td>\n",
       "    </tr>\n",
       "    <tr>\n",
       "      <th>5</th>\n",
       "      <td>Random Forest Regressor</td>\n",
       "      <td>15.782340</td>\n",
       "      <td>0.228352</td>\n",
       "    </tr>\n",
       "    <tr>\n",
       "      <th>6</th>\n",
       "      <td>Support Vector Machine Regressor</td>\n",
       "      <td>17.386236</td>\n",
       "      <td>0.063543</td>\n",
       "    </tr>\n",
       "    <tr>\n",
       "      <th>7</th>\n",
       "      <td>K-Nearest Neighbors Regressor</td>\n",
       "      <td>16.581843</td>\n",
       "      <td>0.148191</td>\n",
       "    </tr>\n",
       "    <tr>\n",
       "      <th>8</th>\n",
       "      <td>Gradient Boosting Regressor</td>\n",
       "      <td>17.773285</td>\n",
       "      <td>0.021385</td>\n",
       "    </tr>\n",
       "    <tr>\n",
       "      <th>9</th>\n",
       "      <td>XGBoost Regressor</td>\n",
       "      <td>16.728473</td>\n",
       "      <td>0.133060</td>\n",
       "    </tr>\n",
       "    <tr>\n",
       "      <th>10</th>\n",
       "      <td>LightGBM Regressor</td>\n",
       "      <td>15.704837</td>\n",
       "      <td>0.235912</td>\n",
       "    </tr>\n",
       "  </tbody>\n",
       "</table>\n",
       "</div>"
      ],
      "text/plain": [
       "                               Model       RMSE        R2\n",
       "0                  Linear Regression  17.481589  0.053243\n",
       "1                   Ridge Regression  17.388981  0.063247\n",
       "2                   Lasso Regression  15.140450  0.289843\n",
       "3                         ElasticNet  15.593282  0.246728\n",
       "4            Decision Tree Regressor  22.475473 -0.564928\n",
       "5            Random Forest Regressor  15.782340  0.228352\n",
       "6   Support Vector Machine Regressor  17.386236  0.063543\n",
       "7      K-Nearest Neighbors Regressor  16.581843  0.148191\n",
       "8        Gradient Boosting Regressor  17.773285  0.021385\n",
       "9                  XGBoost Regressor  16.728473  0.133060\n",
       "10                LightGBM Regressor  15.704837  0.235912"
      ]
     },
     "execution_count": 10,
     "metadata": {},
     "output_type": "execute_result"
    }
   ],
   "source": [
    "X = df.drop(['college mark'], axis=1)\n",
    "y = df['college mark']\n",
    "\n",
    "evaluate_models(X,y)"
   ]
  },
  {
   "cell_type": "markdown",
   "id": "b8039954",
   "metadata": {
    "papermill": {
     "duration": 0.008903,
     "end_time": "2024-04-14T01:29:11.632415",
     "exception": false,
     "start_time": "2024-04-14T01:29:11.623512",
     "status": "completed"
    },
    "tags": []
   },
   "source": [
    "> # Data scaling & Feature engineering"
   ]
  },
  {
   "cell_type": "code",
   "execution_count": 11,
   "id": "7326af24",
   "metadata": {
    "execution": {
     "iopub.execute_input": "2024-04-14T01:29:11.652803Z",
     "iopub.status.busy": "2024-04-14T01:29:11.652415Z",
     "iopub.status.idle": "2024-04-14T01:29:11.667365Z",
     "shell.execute_reply": "2024-04-14T01:29:11.666392Z"
    },
    "papermill": {
     "duration": 0.028009,
     "end_time": "2024-04-14T01:29:11.669906",
     "exception": false,
     "start_time": "2024-04-14T01:29:11.641897",
     "status": "completed"
    },
    "tags": []
   },
   "outputs": [],
   "source": [
    "# Extracting highly correlated data\n",
    "correlation = df.corr()\n",
    "high_corr_columns = correlation.index[abs(correlation[\"college mark\"]) > 0.1]\n",
    "\n",
    "# Scaling the data\n",
    "scaler = StandardScaler()\n",
    "scaled_data = scaler.fit_transform(df[high_corr_columns])\n",
    "scaled_data = pd.DataFrame(scaled_data, columns=high_corr_columns)"
   ]
  },
  {
   "cell_type": "markdown",
   "id": "36a530ae",
   "metadata": {
    "papermill": {
     "duration": 0.009002,
     "end_time": "2024-04-14T01:29:11.688154",
     "exception": false,
     "start_time": "2024-04-14T01:29:11.679152",
     "status": "completed"
    },
    "tags": []
   },
   "source": [
    "> # Model : LightGBM Regressor "
   ]
  },
  {
   "cell_type": "code",
   "execution_count": 12,
   "id": "83ca5b18",
   "metadata": {
    "execution": {
     "iopub.execute_input": "2024-04-14T01:29:11.707909Z",
     "iopub.status.busy": "2024-04-14T01:29:11.707520Z",
     "iopub.status.idle": "2024-04-14T01:29:11.740568Z",
     "shell.execute_reply": "2024-04-14T01:29:11.738649Z"
    },
    "papermill": {
     "duration": 0.045852,
     "end_time": "2024-04-14T01:29:11.743059",
     "exception": false,
     "start_time": "2024-04-14T01:29:11.697207",
     "status": "completed"
    },
    "tags": []
   },
   "outputs": [
    {
     "name": "stdout",
     "output_type": "stream",
     "text": [
      "[LightGBM] [Warning] min_data_in_leaf is set=30, min_child_samples=20 will be ignored. Current value: min_data_in_leaf=30\n",
      "[LightGBM] [Warning] Found whitespace in feature_names, replace with underlines\n",
      "[LightGBM] [Warning] min_data_in_leaf is set=30, min_child_samples=20 will be ignored. Current value: min_data_in_leaf=30\n",
      "[LightGBM] [Info] Auto-choosing row-wise multi-threading, the overhead of testing was 0.000053 seconds.\n",
      "You can set `force_row_wise=true` to remove the overhead.\n",
      "And if memory is not enough, you can set `force_col_wise=true`.\n",
      "[LightGBM] [Info] Total Bins 104\n",
      "[LightGBM] [Info] Number of data points in the train set: 188, number of used features: 10\n",
      "[LightGBM] [Info] Start training from score 0.026622\n",
      "[LightGBM] [Warning] No further splits with positive gain, best gain: -inf\n",
      "[LightGBM] [Warning] No further splits with positive gain, best gain: -inf\n",
      "[LightGBM] [Warning] No further splits with positive gain, best gain: -inf\n",
      "[LightGBM] [Warning] No further splits with positive gain, best gain: -inf\n",
      "[LightGBM] [Warning] No further splits with positive gain, best gain: -inf\n",
      "[LightGBM] [Warning] No further splits with positive gain, best gain: -inf\n",
      "[LightGBM] [Warning] No further splits with positive gain, best gain: -inf\n",
      "[LightGBM] [Warning] No further splits with positive gain, best gain: -inf\n",
      "[LightGBM] [Warning] No further splits with positive gain, best gain: -inf\n",
      "[LightGBM] [Warning] No further splits with positive gain, best gain: -inf\n",
      "[LightGBM] [Warning] No further splits with positive gain, best gain: -inf\n",
      "[LightGBM] [Warning] No further splits with positive gain, best gain: -inf\n",
      "[LightGBM] [Warning] No further splits with positive gain, best gain: -inf\n",
      "[LightGBM] [Warning] No further splits with positive gain, best gain: -inf\n",
      "[LightGBM] [Warning] No further splits with positive gain, best gain: -inf\n",
      "[LightGBM] [Warning] No further splits with positive gain, best gain: -inf\n",
      "[LightGBM] [Warning] No further splits with positive gain, best gain: -inf\n",
      "[LightGBM] [Warning] No further splits with positive gain, best gain: -inf\n",
      "[LightGBM] [Warning] No further splits with positive gain, best gain: -inf\n",
      "[LightGBM] [Warning] No further splits with positive gain, best gain: -inf\n",
      "[LightGBM] [Warning] No further splits with positive gain, best gain: -inf\n",
      "[LightGBM] [Warning] No further splits with positive gain, best gain: -inf\n",
      "[LightGBM] [Warning] No further splits with positive gain, best gain: -inf\n",
      "[LightGBM] [Warning] No further splits with positive gain, best gain: -inf\n",
      "[LightGBM] [Warning] No further splits with positive gain, best gain: -inf\n",
      "[LightGBM] [Warning] No further splits with positive gain, best gain: -inf\n",
      "[LightGBM] [Warning] No further splits with positive gain, best gain: -inf\n",
      "[LightGBM] [Warning] No further splits with positive gain, best gain: -inf\n",
      "[LightGBM] [Warning] No further splits with positive gain, best gain: -inf\n",
      "[LightGBM] [Warning] No further splits with positive gain, best gain: -inf\n",
      "[LightGBM] [Warning] No further splits with positive gain, best gain: -inf\n",
      "[LightGBM] [Warning] No further splits with positive gain, best gain: -inf\n",
      "[LightGBM] [Warning] No further splits with positive gain, best gain: -inf\n",
      "[LightGBM] [Warning] No further splits with positive gain, best gain: -inf\n",
      "[LightGBM] [Warning] No further splits with positive gain, best gain: -inf\n",
      "[LightGBM] [Warning] No further splits with positive gain, best gain: -inf\n",
      "[LightGBM] [Warning] No further splits with positive gain, best gain: -inf\n",
      "[LightGBM] [Warning] No further splits with positive gain, best gain: -inf\n",
      "[LightGBM] [Warning] No further splits with positive gain, best gain: -inf\n",
      "[LightGBM] [Warning] No further splits with positive gain, best gain: -inf\n",
      "[LightGBM] [Warning] No further splits with positive gain, best gain: -inf\n",
      "[LightGBM] [Warning] No further splits with positive gain, best gain: -inf\n",
      "[LightGBM] [Warning] No further splits with positive gain, best gain: -inf\n",
      "[LightGBM] [Warning] No further splits with positive gain, best gain: -inf\n",
      "[LightGBM] [Warning] No further splits with positive gain, best gain: -inf\n",
      "[LightGBM] [Warning] No further splits with positive gain, best gain: -inf\n",
      "[LightGBM] [Warning] No further splits with positive gain, best gain: -inf\n",
      "[LightGBM] [Warning] No further splits with positive gain, best gain: -inf\n",
      "[LightGBM] [Warning] No further splits with positive gain, best gain: -inf\n",
      "[LightGBM] [Warning] No further splits with positive gain, best gain: -inf\n",
      "[LightGBM] [Warning] No further splits with positive gain, best gain: -inf\n",
      "[LightGBM] [Warning] No further splits with positive gain, best gain: -inf\n",
      "[LightGBM] [Warning] No further splits with positive gain, best gain: -inf\n",
      "[LightGBM] [Warning] No further splits with positive gain, best gain: -inf\n",
      "[LightGBM] [Warning] No further splits with positive gain, best gain: -inf\n",
      "[LightGBM] [Warning] No further splits with positive gain, best gain: -inf\n",
      "[LightGBM] [Warning] No further splits with positive gain, best gain: -inf\n",
      "[LightGBM] [Warning] No further splits with positive gain, best gain: -inf\n",
      "[LightGBM] [Warning] No further splits with positive gain, best gain: -inf\n",
      "[LightGBM] [Warning] No further splits with positive gain, best gain: -inf\n",
      "[LightGBM] [Warning] No further splits with positive gain, best gain: -inf\n",
      "[LightGBM] [Warning] No further splits with positive gain, best gain: -inf\n",
      "[LightGBM] [Warning] No further splits with positive gain, best gain: -inf\n",
      "[LightGBM] [Warning] No further splits with positive gain, best gain: -inf\n",
      "[LightGBM] [Warning] No further splits with positive gain, best gain: -inf\n",
      "[LightGBM] [Warning] No further splits with positive gain, best gain: -inf\n",
      "[LightGBM] [Warning] No further splits with positive gain, best gain: -inf\n",
      "[LightGBM] [Warning] No further splits with positive gain, best gain: -inf\n",
      "[LightGBM] [Warning] No further splits with positive gain, best gain: -inf\n",
      "[LightGBM] [Warning] No further splits with positive gain, best gain: -inf\n",
      "[LightGBM] [Warning] No further splits with positive gain, best gain: -inf\n",
      "[LightGBM] [Warning] No further splits with positive gain, best gain: -inf\n",
      "[LightGBM] [Warning] No further splits with positive gain, best gain: -inf\n",
      "[LightGBM] [Warning] No further splits with positive gain, best gain: -inf\n",
      "[LightGBM] [Warning] No further splits with positive gain, best gain: -inf\n",
      "[LightGBM] [Warning] No further splits with positive gain, best gain: -inf\n",
      "[LightGBM] [Warning] No further splits with positive gain, best gain: -inf\n",
      "[LightGBM] [Warning] No further splits with positive gain, best gain: -inf\n",
      "[LightGBM] [Warning] No further splits with positive gain, best gain: -inf\n",
      "[LightGBM] [Warning] No further splits with positive gain, best gain: -inf\n",
      "[LightGBM] [Warning] No further splits with positive gain, best gain: -inf\n",
      "[LightGBM] [Warning] No further splits with positive gain, best gain: -inf\n",
      "[LightGBM] [Warning] No further splits with positive gain, best gain: -inf\n",
      "[LightGBM] [Warning] No further splits with positive gain, best gain: -inf\n",
      "[LightGBM] [Warning] No further splits with positive gain, best gain: -inf\n",
      "[LightGBM] [Warning] No further splits with positive gain, best gain: -inf\n",
      "[LightGBM] [Warning] No further splits with positive gain, best gain: -inf\n",
      "[LightGBM] [Warning] No further splits with positive gain, best gain: -inf\n",
      "[LightGBM] [Warning] No further splits with positive gain, best gain: -inf\n",
      "[LightGBM] [Warning] No further splits with positive gain, best gain: -inf\n",
      "[LightGBM] [Warning] No further splits with positive gain, best gain: -inf\n",
      "[LightGBM] [Warning] No further splits with positive gain, best gain: -inf\n",
      "[LightGBM] [Warning] No further splits with positive gain, best gain: -inf\n",
      "[LightGBM] [Warning] No further splits with positive gain, best gain: -inf\n",
      "[LightGBM] [Warning] No further splits with positive gain, best gain: -inf\n",
      "[LightGBM] [Warning] No further splits with positive gain, best gain: -inf\n",
      "[LightGBM] [Warning] No further splits with positive gain, best gain: -inf\n",
      "[LightGBM] [Warning] No further splits with positive gain, best gain: -inf\n",
      "[LightGBM] [Warning] No further splits with positive gain, best gain: -inf\n",
      "[LightGBM] [Warning] No further splits with positive gain, best gain: -inf\n"
     ]
    },
    {
     "data": {
      "text/html": [
       "<style>#sk-container-id-1 {color: black;background-color: white;}#sk-container-id-1 pre{padding: 0;}#sk-container-id-1 div.sk-toggleable {background-color: white;}#sk-container-id-1 label.sk-toggleable__label {cursor: pointer;display: block;width: 100%;margin-bottom: 0;padding: 0.3em;box-sizing: border-box;text-align: center;}#sk-container-id-1 label.sk-toggleable__label-arrow:before {content: \"▸\";float: left;margin-right: 0.25em;color: #696969;}#sk-container-id-1 label.sk-toggleable__label-arrow:hover:before {color: black;}#sk-container-id-1 div.sk-estimator:hover label.sk-toggleable__label-arrow:before {color: black;}#sk-container-id-1 div.sk-toggleable__content {max-height: 0;max-width: 0;overflow: hidden;text-align: left;background-color: #f0f8ff;}#sk-container-id-1 div.sk-toggleable__content pre {margin: 0.2em;color: black;border-radius: 0.25em;background-color: #f0f8ff;}#sk-container-id-1 input.sk-toggleable__control:checked~div.sk-toggleable__content {max-height: 200px;max-width: 100%;overflow: auto;}#sk-container-id-1 input.sk-toggleable__control:checked~label.sk-toggleable__label-arrow:before {content: \"▾\";}#sk-container-id-1 div.sk-estimator input.sk-toggleable__control:checked~label.sk-toggleable__label {background-color: #d4ebff;}#sk-container-id-1 div.sk-label input.sk-toggleable__control:checked~label.sk-toggleable__label {background-color: #d4ebff;}#sk-container-id-1 input.sk-hidden--visually {border: 0;clip: rect(1px 1px 1px 1px);clip: rect(1px, 1px, 1px, 1px);height: 1px;margin: -1px;overflow: hidden;padding: 0;position: absolute;width: 1px;}#sk-container-id-1 div.sk-estimator {font-family: monospace;background-color: #f0f8ff;border: 1px dotted black;border-radius: 0.25em;box-sizing: border-box;margin-bottom: 0.5em;}#sk-container-id-1 div.sk-estimator:hover {background-color: #d4ebff;}#sk-container-id-1 div.sk-parallel-item::after {content: \"\";width: 100%;border-bottom: 1px solid gray;flex-grow: 1;}#sk-container-id-1 div.sk-label:hover label.sk-toggleable__label {background-color: #d4ebff;}#sk-container-id-1 div.sk-serial::before {content: \"\";position: absolute;border-left: 1px solid gray;box-sizing: border-box;top: 0;bottom: 0;left: 50%;z-index: 0;}#sk-container-id-1 div.sk-serial {display: flex;flex-direction: column;align-items: center;background-color: white;padding-right: 0.2em;padding-left: 0.2em;position: relative;}#sk-container-id-1 div.sk-item {position: relative;z-index: 1;}#sk-container-id-1 div.sk-parallel {display: flex;align-items: stretch;justify-content: center;background-color: white;position: relative;}#sk-container-id-1 div.sk-item::before, #sk-container-id-1 div.sk-parallel-item::before {content: \"\";position: absolute;border-left: 1px solid gray;box-sizing: border-box;top: 0;bottom: 0;left: 50%;z-index: -1;}#sk-container-id-1 div.sk-parallel-item {display: flex;flex-direction: column;z-index: 1;position: relative;background-color: white;}#sk-container-id-1 div.sk-parallel-item:first-child::after {align-self: flex-end;width: 50%;}#sk-container-id-1 div.sk-parallel-item:last-child::after {align-self: flex-start;width: 50%;}#sk-container-id-1 div.sk-parallel-item:only-child::after {width: 0;}#sk-container-id-1 div.sk-dashed-wrapped {border: 1px dashed gray;margin: 0 0.4em 0.5em 0.4em;box-sizing: border-box;padding-bottom: 0.4em;background-color: white;}#sk-container-id-1 div.sk-label label {font-family: monospace;font-weight: bold;display: inline-block;line-height: 1.2em;}#sk-container-id-1 div.sk-label-container {text-align: center;}#sk-container-id-1 div.sk-container {/* jupyter's `normalize.less` sets `[hidden] { display: none; }` but bootstrap.min.css set `[hidden] { display: none !important; }` so we also need the `!important` here to be able to override the default hidden behavior on the sphinx rendered scikit-learn.org. See: https://github.com/scikit-learn/scikit-learn/issues/21755 */display: inline-block !important;position: relative;}#sk-container-id-1 div.sk-text-repr-fallback {display: none;}</style><div id=\"sk-container-id-1\" class=\"sk-top-container\"><div class=\"sk-text-repr-fallback\"><pre>LGBMRegressor(learning_rate=0.05, min_data_in_leaf=30, num_leaves=10,\n",
       "              reg_alpha=0.5)</pre><b>In a Jupyter environment, please rerun this cell to show the HTML representation or trust the notebook. <br />On GitHub, the HTML representation is unable to render, please try loading this page with nbviewer.org.</b></div><div class=\"sk-container\" hidden><div class=\"sk-item\"><div class=\"sk-estimator sk-toggleable\"><input class=\"sk-toggleable__control sk-hidden--visually\" id=\"sk-estimator-id-1\" type=\"checkbox\" checked><label for=\"sk-estimator-id-1\" class=\"sk-toggleable__label sk-toggleable__label-arrow\">LGBMRegressor</label><div class=\"sk-toggleable__content\"><pre>LGBMRegressor(learning_rate=0.05, min_data_in_leaf=30, num_leaves=10,\n",
       "              reg_alpha=0.5)</pre></div></div></div></div></div>"
      ],
      "text/plain": [
       "LGBMRegressor(learning_rate=0.05, min_data_in_leaf=30, num_leaves=10,\n",
       "              reg_alpha=0.5)"
      ]
     },
     "execution_count": 12,
     "metadata": {},
     "output_type": "execute_result"
    }
   ],
   "source": [
    "y = scaled_data['college mark']\n",
    "X = scaled_data.drop(columns=['college mark'])\n",
    "\n",
    "X_train, X_test, y_train, y_test = train_test_split(X, y, test_size=0.2, random_state=42)\n",
    "\n",
    "best_lgbm = LGBMRegressor(learning_rate=0.05, min_data_in_leaf=30, num_leaves=10, reg_alpha=0.5)\n",
    "best_lgbm.fit(X_train, y_train)"
   ]
  },
  {
   "cell_type": "markdown",
   "id": "b333bd37",
   "metadata": {
    "papermill": {
     "duration": 0.009637,
     "end_time": "2024-04-14T01:29:11.762605",
     "exception": false,
     "start_time": "2024-04-14T01:29:11.752968",
     "status": "completed"
    },
    "tags": []
   },
   "source": [
    "> # Evaluating LightGBM Regressor"
   ]
  },
  {
   "cell_type": "code",
   "execution_count": 13,
   "id": "b050bcc4",
   "metadata": {
    "execution": {
     "iopub.execute_input": "2024-04-14T01:29:11.784054Z",
     "iopub.status.busy": "2024-04-14T01:29:11.783672Z",
     "iopub.status.idle": "2024-04-14T01:29:11.794210Z",
     "shell.execute_reply": "2024-04-14T01:29:11.792888Z"
    },
    "papermill": {
     "duration": 0.024047,
     "end_time": "2024-04-14T01:29:11.796471",
     "exception": false,
     "start_time": "2024-04-14T01:29:11.772424",
     "status": "completed"
    },
    "tags": []
   },
   "outputs": [
    {
     "name": "stdout",
     "output_type": "stream",
     "text": [
      "[LightGBM] [Warning] min_data_in_leaf is set=30, min_child_samples=20 will be ignored. Current value: min_data_in_leaf=30\n",
      "RMSE : 0.92418\n",
      "MAE : 0.57245\n",
      "R2 : 0.34829\n"
     ]
    }
   ],
   "source": [
    "predictions = best_lgbm.predict(X_test)\n",
    "\n",
    "rmse = mean_squared_error(y_test, predictions)**0.5\n",
    "mae = mean_absolute_error(y_test, predictions)\n",
    "r2 = r2_score(y_test, predictions)\n",
    "\n",
    "print(\"RMSE :\", round(rmse,5))\n",
    "print(\"MAE :\", round(mae,5))\n",
    "print(\"R2 :\", round(r2,5))"
   ]
  },
  {
   "cell_type": "code",
   "execution_count": 14,
   "id": "9cdbbeb9",
   "metadata": {
    "execution": {
     "iopub.execute_input": "2024-04-14T01:29:11.817930Z",
     "iopub.status.busy": "2024-04-14T01:29:11.817564Z",
     "iopub.status.idle": "2024-04-14T01:29:11.831861Z",
     "shell.execute_reply": "2024-04-14T01:29:11.830785Z"
    },
    "papermill": {
     "duration": 0.027883,
     "end_time": "2024-04-14T01:29:11.834328",
     "exception": false,
     "start_time": "2024-04-14T01:29:11.806445",
     "status": "completed"
    },
    "tags": []
   },
   "outputs": [
    {
     "name": "stdout",
     "output_type": "stream",
     "text": [
      "[LightGBM] [Warning] min_data_in_leaf is set=30, min_child_samples=20 will be ignored. Current value: min_data_in_leaf=30\n"
     ]
    },
    {
     "data": {
      "text/html": [
       "<div>\n",
       "<style scoped>\n",
       "    .dataframe tbody tr th:only-of-type {\n",
       "        vertical-align: middle;\n",
       "    }\n",
       "\n",
       "    .dataframe tbody tr th {\n",
       "        vertical-align: top;\n",
       "    }\n",
       "\n",
       "    .dataframe thead th {\n",
       "        text-align: right;\n",
       "    }\n",
       "</style>\n",
       "<table border=\"1\" class=\"dataframe\">\n",
       "  <thead>\n",
       "    <tr style=\"text-align: right;\">\n",
       "      <th></th>\n",
       "      <th>actual</th>\n",
       "      <th>pred</th>\n",
       "    </tr>\n",
       "  </thead>\n",
       "  <tbody>\n",
       "    <tr>\n",
       "      <th>69</th>\n",
       "      <td>-0.679278</td>\n",
       "      <td>-0.918058</td>\n",
       "    </tr>\n",
       "    <tr>\n",
       "      <th>207</th>\n",
       "      <td>-0.679278</td>\n",
       "      <td>-0.716227</td>\n",
       "    </tr>\n",
       "    <tr>\n",
       "      <th>180</th>\n",
       "      <td>-0.679278</td>\n",
       "      <td>-0.627897</td>\n",
       "    </tr>\n",
       "    <tr>\n",
       "      <th>9</th>\n",
       "      <td>-0.042090</td>\n",
       "      <td>-0.598062</td>\n",
       "    </tr>\n",
       "    <tr>\n",
       "      <th>127</th>\n",
       "      <td>0.595099</td>\n",
       "      <td>-0.032241</td>\n",
       "    </tr>\n",
       "    <tr>\n",
       "      <th>109</th>\n",
       "      <td>-0.042090</td>\n",
       "      <td>0.066934</td>\n",
       "    </tr>\n",
       "    <tr>\n",
       "      <th>196</th>\n",
       "      <td>-1.316466</td>\n",
       "      <td>-0.539788</td>\n",
       "    </tr>\n",
       "    <tr>\n",
       "      <th>93</th>\n",
       "      <td>-4.024517</td>\n",
       "      <td>-1.001802</td>\n",
       "    </tr>\n",
       "    <tr>\n",
       "      <th>223</th>\n",
       "      <td>0.595099</td>\n",
       "      <td>0.326047</td>\n",
       "    </tr>\n",
       "    <tr>\n",
       "      <th>15</th>\n",
       "      <td>-0.679278</td>\n",
       "      <td>-0.573612</td>\n",
       "    </tr>\n",
       "  </tbody>\n",
       "</table>\n",
       "</div>"
      ],
      "text/plain": [
       "       actual      pred\n",
       "69  -0.679278 -0.918058\n",
       "207 -0.679278 -0.716227\n",
       "180 -0.679278 -0.627897\n",
       "9   -0.042090 -0.598062\n",
       "127  0.595099 -0.032241\n",
       "109 -0.042090  0.066934\n",
       "196 -1.316466 -0.539788\n",
       "93  -4.024517 -1.001802\n",
       "223  0.595099  0.326047\n",
       "15  -0.679278 -0.573612"
      ]
     },
     "execution_count": 14,
     "metadata": {},
     "output_type": "execute_result"
    }
   ],
   "source": [
    "predictions = best_lgbm.predict(X_test)\n",
    "\n",
    "comparison = pd.DataFrame({'actual': y_test, 'pred': predictions})\n",
    "comparison.head(10)"
   ]
  },
  {
   "cell_type": "code",
   "execution_count": 15,
   "id": "e95d1d84",
   "metadata": {
    "execution": {
     "iopub.execute_input": "2024-04-14T01:29:11.856852Z",
     "iopub.status.busy": "2024-04-14T01:29:11.856374Z",
     "iopub.status.idle": "2024-04-14T01:29:12.236150Z",
     "shell.execute_reply": "2024-04-14T01:29:12.234877Z"
    },
    "papermill": {
     "duration": 0.395004,
     "end_time": "2024-04-14T01:29:12.239783",
     "exception": false,
     "start_time": "2024-04-14T01:29:11.844779",
     "status": "completed"
    },
    "tags": []
   },
   "outputs": [
    {
     "data": {
      "image/png": "[encoded data removed]",
      "text/plain": [
       "<Figure size 1200x600 with 1 Axes>"
      ]
     },
     "metadata": {},
     "output_type": "display_data"
    }
   ],
   "source": [
    "plt.figure(figsize=(12,6))\n",
    "\n",
    "sns.scatterplot(x='actual', y='pred', data=comparison)\n",
    "plt.plot(comparison['actual'], comparison['actual'], color='red', linestyle='--')\n",
    "plt.title('Actual vs Pred', fontsize=18)\n",
    "plt.xlabel('Actual', fontsize=14)\n",
    "plt.ylabel('Pred', fontsize=14)\n",
    "plt.xticks(rotation=0, fontsize=12)  \n",
    "plt.yticks(fontsize=12)\n",
    "plt.grid(linestyle='--')\n",
    "plt.show()"
   ]
  },
  {
   "cell_type": "code",
   "execution_count": 16,
   "id": "fbbfb603",
   "metadata": {
    "execution": {
     "iopub.execute_input": "2024-04-14T01:29:12.264596Z",
     "iopub.status.busy": "2024-04-14T01:29:12.264218Z",
     "iopub.status.idle": "2024-04-14T01:29:12.603157Z",
     "shell.execute_reply": "2024-04-14T01:29:12.602056Z"
    },
    "papermill": {
     "duration": 0.354513,
     "end_time": "2024-04-14T01:29:12.606304",
     "exception": false,
     "start_time": "2024-04-14T01:29:12.251791",
     "status": "completed"
    },
    "tags": []
   },
   "outputs": [
    {
     "data": {
      "image/png": "[encoded data removed]",
      "text/plain": [
       "<Figure size 1200x600 with 1 Axes>"
      ]
     },
     "metadata": {},
     "output_type": "display_data"
    }
   ],
   "source": [
    "feature_importances = best_lgbm.feature_importances_\n",
    "sorted_indices = feature_importances.argsort()[::-1][:5]\n",
    "\n",
    "\n",
    "sorted_feature_importances = feature_importances[sorted_indices]\n",
    "sorted_feature_names = X_train.columns[sorted_indices]\n",
    "\n",
    "plt.figure(figsize=(12, 6))\n",
    "sns.barplot(x=sorted_feature_importances, y=sorted_feature_names, orient='h', palette='viridis')\n",
    "plt.xlabel('Feature Importance', fontsize=14)\n",
    "plt.ylabel('Features', fontsize=14)\n",
    "plt.title('Top 5 Feature Importance Plot', fontsize=18)\n",
    "plt.grid(linestyle='--')\n",
    "plt.show()"
   ]
  },
  {
   "cell_type": "markdown",
   "id": "bc11d5fd",
   "metadata": {
    "papermill": {
     "duration": 0.011933,
     "end_time": "2024-04-14T01:29:12.630133",
     "exception": false,
     "start_time": "2024-04-14T01:29:12.618200",
     "status": "completed"
    },
    "tags": []
   },
   "source": [
    "# Thank"
   ]
  }
 ],
 "metadata": {
  "kaggle": {
   "accelerator": "none",
   "dataSources": [
    {
     "datasetId": 4789302,
     "sourceId": 8108182,
     "sourceType": "datasetVersion"
    }
   ],
   "dockerImageVersionId": 30684,
   "isGpuEnabled": false,
   "isInternetEnabled": true,
   "language": "python",
   "sourceType": "notebook"
  },
  "kernelspec": {
   "display_name": "Python 3",
   "language": "python",
   "name": "python3"
  },
  "language_info": {
   "codemirror_mode": {
    "name": "ipython",
    "version": 3
   },
   "file_extension": ".py",
   "mimetype": "text/x-python",
   "name": "python",
   "nbconvert_exporter": "python",
   "pygments_lexer": "ipython3",
   "version": "3.10.13"
  },
  "papermill": {
   "default_parameters": {},
   "duration": 10.929546,
   "end_time": "2024-04-14T01:29:13.463862",
   "environment_variables": {},
   "exception": null,
   "input_path": "__notebook__.ipynb",
   "output_path": "__notebook__.ipynb",
   "parameters": {},
   "start_time": "2024-04-14T01:29:02.534316",
   "version": "2.5.0"
  }
 },
 "nbformat": 4,
 "nbformat_minor": 5
}
