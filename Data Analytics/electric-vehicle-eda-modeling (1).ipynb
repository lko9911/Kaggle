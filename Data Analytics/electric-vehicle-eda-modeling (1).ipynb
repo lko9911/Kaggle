{
 "cells": [
  {
   "cell_type": "markdown",
   "id": "213ef1c8",
   "metadata": {
    "papermill": {
     "duration": 0.023306,
     "end_time": "2024-03-29T17:39:15.751535",
     "exception": false,
     "start_time": "2024-03-29T17:39:15.728229",
     "status": "completed"
    },
    "tags": []
   },
   "source": [
    "# *Project. Data Analysis and Modeling* <br>\n",
    "\n",
    "## Goal\n",
    "> #### EDA : Analysis of trends\n",
    "> #### Modeling : Predicting 'Electric Range', 'Base MSRP'"
   ]
  },
  {
   "cell_type": "markdown",
   "id": "440dedad",
   "metadata": {
    "papermill": {
     "duration": 0.023688,
     "end_time": "2024-03-29T17:39:15.797887",
     "exception": false,
     "start_time": "2024-03-29T17:39:15.774199",
     "status": "completed"
    },
    "tags": []
   },
   "source": [
    "# **Import Libraries & Read Dataset**"
   ]
  },
  {
   "cell_type": "code",
   "execution_count": 1,
   "id": "a364cb14",
   "metadata": {
    "execution": {
     "iopub.execute_input": "2024-03-29T17:39:15.845753Z",
     "iopub.status.busy": "2024-03-29T17:39:15.845256Z",
     "iopub.status.idle": "2024-03-29T17:39:20.365942Z",
     "shell.execute_reply": "2024-03-29T17:39:20.364678Z"
    },
    "papermill": {
     "duration": 4.548255,
     "end_time": "2024-03-29T17:39:20.369264",
     "exception": false,
     "start_time": "2024-03-29T17:39:15.821009",
     "status": "completed"
    },
    "tags": []
   },
   "outputs": [],
   "source": [
    "# For EDA\n",
    "import pandas as pd\n",
    "import numpy as np\n",
    "import matplotlib.pyplot as plt\n",
    "import seaborn as sns\n",
    "import warnings\n",
    "warnings.filterwarnings(\"ignore\")\n",
    "\n",
    "# For Modeling\n",
    "from sklearn.model_selection import train_test_split\n",
    "from sklearn.linear_model import LinearRegression\n",
    "from sklearn.ensemble import RandomForestRegressor\n",
    "from sklearn.metrics import mean_squared_error, r2_score, accuracy_score\n",
    "import xgboost as xgb\n",
    "import lightgbm as lgb\n",
    "from sklearn.model_selection import GridSearchCV\n",
    "from sklearn.metrics import make_scorer, mean_squared_error\n",
    "from sklearn.preprocessing import LabelEncoder"
   ]
  },
  {
   "cell_type": "code",
   "execution_count": 2,
   "id": "d9a2f08c",
   "metadata": {
    "execution": {
     "iopub.execute_input": "2024-03-29T17:39:20.417794Z",
     "iopub.status.busy": "2024-03-29T17:39:20.416453Z",
     "iopub.status.idle": "2024-03-29T17:39:21.795101Z",
     "shell.execute_reply": "2024-03-29T17:39:21.794072Z"
    },
    "papermill": {
     "duration": 1.405754,
     "end_time": "2024-03-29T17:39:21.797708",
     "exception": false,
     "start_time": "2024-03-29T17:39:20.391954",
     "status": "completed"
    },
    "tags": []
   },
   "outputs": [],
   "source": [
    "file_name = '/kaggle/input/electric-vehicle-population/Electric_Vehicle_Population_Data.csv'\n",
    "data = pd.read_csv(file_name)"
   ]
  },
  {
   "cell_type": "code",
   "execution_count": 3,
   "id": "023b0f32",
   "metadata": {
    "execution": {
     "iopub.execute_input": "2024-03-29T17:39:21.849150Z",
     "iopub.status.busy": "2024-03-29T17:39:21.848597Z",
     "iopub.status.idle": "2024-03-29T17:39:21.887267Z",
     "shell.execute_reply": "2024-03-29T17:39:21.885971Z"
    },
    "papermill": {
     "duration": 0.067003,
     "end_time": "2024-03-29T17:39:21.889958",
     "exception": false,
     "start_time": "2024-03-29T17:39:21.822955",
     "status": "completed"
    },
    "tags": []
   },
   "outputs": [
    {
     "data": {
      "text/html": [
       "<div>\n",
       "<style scoped>\n",
       "    .dataframe tbody tr th:only-of-type {\n",
       "        vertical-align: middle;\n",
       "    }\n",
       "\n",
       "    .dataframe tbody tr th {\n",
       "        vertical-align: top;\n",
       "    }\n",
       "\n",
       "    .dataframe thead th {\n",
       "        text-align: right;\n",
       "    }\n",
       "</style>\n",
       "<table border=\"1\" class=\"dataframe\">\n",
       "  <thead>\n",
       "    <tr style=\"text-align: right;\">\n",
       "      <th></th>\n",
       "      <th>VIN (1-10)</th>\n",
       "      <th>County</th>\n",
       "      <th>City</th>\n",
       "      <th>State</th>\n",
       "      <th>Postal Code</th>\n",
       "      <th>Model Year</th>\n",
       "      <th>Make</th>\n",
       "      <th>Model</th>\n",
       "      <th>Electric Vehicle Type</th>\n",
       "      <th>Clean Alternative Fuel Vehicle (CAFV) Eligibility</th>\n",
       "      <th>Electric Range</th>\n",
       "      <th>Base MSRP</th>\n",
       "      <th>Legislative District</th>\n",
       "      <th>DOL Vehicle ID</th>\n",
       "      <th>Vehicle Location</th>\n",
       "      <th>Electric Utility</th>\n",
       "      <th>2020 Census Tract</th>\n",
       "    </tr>\n",
       "  </thead>\n",
       "  <tbody>\n",
       "    <tr>\n",
       "      <th>0</th>\n",
       "      <td>5YJYGDEE1L</td>\n",
       "      <td>King</td>\n",
       "      <td>Seattle</td>\n",
       "      <td>WA</td>\n",
       "      <td>98122.0</td>\n",
       "      <td>2020</td>\n",
       "      <td>TESLA</td>\n",
       "      <td>MODEL Y</td>\n",
       "      <td>Battery Electric Vehicle (BEV)</td>\n",
       "      <td>Clean Alternative Fuel Vehicle Eligible</td>\n",
       "      <td>291</td>\n",
       "      <td>0</td>\n",
       "      <td>37.0</td>\n",
       "      <td>125701579</td>\n",
       "      <td>POINT (-122.30839 47.610365)</td>\n",
       "      <td>CITY OF SEATTLE - (WA)|CITY OF TACOMA - (WA)</td>\n",
       "      <td>5.303301e+10</td>\n",
       "    </tr>\n",
       "    <tr>\n",
       "      <th>1</th>\n",
       "      <td>7SAYGDEE9P</td>\n",
       "      <td>Snohomish</td>\n",
       "      <td>Bothell</td>\n",
       "      <td>WA</td>\n",
       "      <td>98021.0</td>\n",
       "      <td>2023</td>\n",
       "      <td>TESLA</td>\n",
       "      <td>MODEL Y</td>\n",
       "      <td>Battery Electric Vehicle (BEV)</td>\n",
       "      <td>Eligibility unknown as battery range has not b...</td>\n",
       "      <td>0</td>\n",
       "      <td>0</td>\n",
       "      <td>1.0</td>\n",
       "      <td>244285107</td>\n",
       "      <td>POINT (-122.179458 47.802589)</td>\n",
       "      <td>PUGET SOUND ENERGY INC</td>\n",
       "      <td>5.306105e+10</td>\n",
       "    </tr>\n",
       "    <tr>\n",
       "      <th>2</th>\n",
       "      <td>5YJSA1E4XK</td>\n",
       "      <td>King</td>\n",
       "      <td>Seattle</td>\n",
       "      <td>WA</td>\n",
       "      <td>98109.0</td>\n",
       "      <td>2019</td>\n",
       "      <td>TESLA</td>\n",
       "      <td>MODEL S</td>\n",
       "      <td>Battery Electric Vehicle (BEV)</td>\n",
       "      <td>Clean Alternative Fuel Vehicle Eligible</td>\n",
       "      <td>270</td>\n",
       "      <td>0</td>\n",
       "      <td>36.0</td>\n",
       "      <td>156773144</td>\n",
       "      <td>POINT (-122.34848 47.632405)</td>\n",
       "      <td>CITY OF SEATTLE - (WA)|CITY OF TACOMA - (WA)</td>\n",
       "      <td>5.303301e+10</td>\n",
       "    </tr>\n",
       "    <tr>\n",
       "      <th>3</th>\n",
       "      <td>5YJSA1E27G</td>\n",
       "      <td>King</td>\n",
       "      <td>Issaquah</td>\n",
       "      <td>WA</td>\n",
       "      <td>98027.0</td>\n",
       "      <td>2016</td>\n",
       "      <td>TESLA</td>\n",
       "      <td>MODEL S</td>\n",
       "      <td>Battery Electric Vehicle (BEV)</td>\n",
       "      <td>Clean Alternative Fuel Vehicle Eligible</td>\n",
       "      <td>210</td>\n",
       "      <td>0</td>\n",
       "      <td>5.0</td>\n",
       "      <td>165103011</td>\n",
       "      <td>POINT (-122.03646 47.534065)</td>\n",
       "      <td>PUGET SOUND ENERGY INC||CITY OF TACOMA - (WA)</td>\n",
       "      <td>5.303303e+10</td>\n",
       "    </tr>\n",
       "    <tr>\n",
       "      <th>4</th>\n",
       "      <td>5YJYGDEE5M</td>\n",
       "      <td>Kitsap</td>\n",
       "      <td>Suquamish</td>\n",
       "      <td>WA</td>\n",
       "      <td>98392.0</td>\n",
       "      <td>2021</td>\n",
       "      <td>TESLA</td>\n",
       "      <td>MODEL Y</td>\n",
       "      <td>Battery Electric Vehicle (BEV)</td>\n",
       "      <td>Eligibility unknown as battery range has not b...</td>\n",
       "      <td>0</td>\n",
       "      <td>0</td>\n",
       "      <td>23.0</td>\n",
       "      <td>205138552</td>\n",
       "      <td>POINT (-122.55717 47.733415)</td>\n",
       "      <td>PUGET SOUND ENERGY INC</td>\n",
       "      <td>5.303594e+10</td>\n",
       "    </tr>\n",
       "  </tbody>\n",
       "</table>\n",
       "</div>"
      ],
      "text/plain": [
       "   VIN (1-10)     County       City State  Postal Code  Model Year   Make  \\\n",
       "0  5YJYGDEE1L       King    Seattle    WA      98122.0        2020  TESLA   \n",
       "1  7SAYGDEE9P  Snohomish    Bothell    WA      98021.0        2023  TESLA   \n",
       "2  5YJSA1E4XK       King    Seattle    WA      98109.0        2019  TESLA   \n",
       "3  5YJSA1E27G       King   Issaquah    WA      98027.0        2016  TESLA   \n",
       "4  5YJYGDEE5M     Kitsap  Suquamish    WA      98392.0        2021  TESLA   \n",
       "\n",
       "     Model           Electric Vehicle Type  \\\n",
       "0  MODEL Y  Battery Electric Vehicle (BEV)   \n",
       "1  MODEL Y  Battery Electric Vehicle (BEV)   \n",
       "2  MODEL S  Battery Electric Vehicle (BEV)   \n",
       "3  MODEL S  Battery Electric Vehicle (BEV)   \n",
       "4  MODEL Y  Battery Electric Vehicle (BEV)   \n",
       "\n",
       "   Clean Alternative Fuel Vehicle (CAFV) Eligibility  Electric Range  \\\n",
       "0            Clean Alternative Fuel Vehicle Eligible             291   \n",
       "1  Eligibility unknown as battery range has not b...               0   \n",
       "2            Clean Alternative Fuel Vehicle Eligible             270   \n",
       "3            Clean Alternative Fuel Vehicle Eligible             210   \n",
       "4  Eligibility unknown as battery range has not b...               0   \n",
       "\n",
       "   Base MSRP  Legislative District  DOL Vehicle ID  \\\n",
       "0          0                  37.0       125701579   \n",
       "1          0                   1.0       244285107   \n",
       "2          0                  36.0       156773144   \n",
       "3          0                   5.0       165103011   \n",
       "4          0                  23.0       205138552   \n",
       "\n",
       "                Vehicle Location  \\\n",
       "0   POINT (-122.30839 47.610365)   \n",
       "1  POINT (-122.179458 47.802589)   \n",
       "2   POINT (-122.34848 47.632405)   \n",
       "3   POINT (-122.03646 47.534065)   \n",
       "4   POINT (-122.55717 47.733415)   \n",
       "\n",
       "                                Electric Utility  2020 Census Tract  \n",
       "0   CITY OF SEATTLE - (WA)|CITY OF TACOMA - (WA)       5.303301e+10  \n",
       "1                         PUGET SOUND ENERGY INC       5.306105e+10  \n",
       "2   CITY OF SEATTLE - (WA)|CITY OF TACOMA - (WA)       5.303301e+10  \n",
       "3  PUGET SOUND ENERGY INC||CITY OF TACOMA - (WA)       5.303303e+10  \n",
       "4                         PUGET SOUND ENERGY INC       5.303594e+10  "
      ]
     },
     "execution_count": 3,
     "metadata": {},
     "output_type": "execute_result"
    }
   ],
   "source": [
    "data.head()"
   ]
  },
  {
   "cell_type": "code",
   "execution_count": 4,
   "id": "1959e2b5",
   "metadata": {
    "execution": {
     "iopub.execute_input": "2024-03-29T17:39:21.939662Z",
     "iopub.status.busy": "2024-03-29T17:39:21.939163Z",
     "iopub.status.idle": "2024-03-29T17:39:22.166720Z",
     "shell.execute_reply": "2024-03-29T17:39:22.165316Z"
    },
    "papermill": {
     "duration": 0.255981,
     "end_time": "2024-03-29T17:39:22.169547",
     "exception": false,
     "start_time": "2024-03-29T17:39:21.913566",
     "status": "completed"
    },
    "tags": []
   },
   "outputs": [
    {
     "name": "stdout",
     "output_type": "stream",
     "text": [
      "<class 'pandas.core.frame.DataFrame'>\n",
      "RangeIndex: 177866 entries, 0 to 177865\n",
      "Data columns (total 17 columns):\n",
      " #   Column                                             Non-Null Count   Dtype  \n",
      "---  ------                                             --------------   -----  \n",
      " 0   VIN (1-10)                                         177866 non-null  object \n",
      " 1   County                                             177861 non-null  object \n",
      " 2   City                                               177861 non-null  object \n",
      " 3   State                                              177866 non-null  object \n",
      " 4   Postal Code                                        177861 non-null  float64\n",
      " 5   Model Year                                         177866 non-null  int64  \n",
      " 6   Make                                               177866 non-null  object \n",
      " 7   Model                                              177866 non-null  object \n",
      " 8   Electric Vehicle Type                              177866 non-null  object \n",
      " 9   Clean Alternative Fuel Vehicle (CAFV) Eligibility  177866 non-null  object \n",
      " 10  Electric Range                                     177866 non-null  int64  \n",
      " 11  Base MSRP                                          177866 non-null  int64  \n",
      " 12  Legislative District                               177477 non-null  float64\n",
      " 13  DOL Vehicle ID                                     177866 non-null  int64  \n",
      " 14  Vehicle Location                                   177857 non-null  object \n",
      " 15  Electric Utility                                   177861 non-null  object \n",
      " 16  2020 Census Tract                                  177861 non-null  float64\n",
      "dtypes: float64(3), int64(4), object(10)\n",
      "memory usage: 23.1+ MB\n"
     ]
    }
   ],
   "source": [
    "data.info()"
   ]
  },
  {
   "cell_type": "code",
   "execution_count": 5,
   "id": "58b36588",
   "metadata": {
    "execution": {
     "iopub.execute_input": "2024-03-29T17:39:22.219331Z",
     "iopub.status.busy": "2024-03-29T17:39:22.217888Z",
     "iopub.status.idle": "2024-03-29T17:39:22.317836Z",
     "shell.execute_reply": "2024-03-29T17:39:22.316412Z"
    },
    "papermill": {
     "duration": 0.127462,
     "end_time": "2024-03-29T17:39:22.320754",
     "exception": false,
     "start_time": "2024-03-29T17:39:22.193292",
     "status": "completed"
    },
    "tags": []
   },
   "outputs": [
    {
     "data": {
      "text/html": [
       "<div>\n",
       "<style scoped>\n",
       "    .dataframe tbody tr th:only-of-type {\n",
       "        vertical-align: middle;\n",
       "    }\n",
       "\n",
       "    .dataframe tbody tr th {\n",
       "        vertical-align: top;\n",
       "    }\n",
       "\n",
       "    .dataframe thead th {\n",
       "        text-align: right;\n",
       "    }\n",
       "</style>\n",
       "<table border=\"1\" class=\"dataframe\">\n",
       "  <thead>\n",
       "    <tr style=\"text-align: right;\">\n",
       "      <th></th>\n",
       "      <th>Postal Code</th>\n",
       "      <th>Model Year</th>\n",
       "      <th>Electric Range</th>\n",
       "      <th>Base MSRP</th>\n",
       "      <th>Legislative District</th>\n",
       "      <th>DOL Vehicle ID</th>\n",
       "      <th>2020 Census Tract</th>\n",
       "    </tr>\n",
       "  </thead>\n",
       "  <tbody>\n",
       "    <tr>\n",
       "      <th>count</th>\n",
       "      <td>177861.000000</td>\n",
       "      <td>177866.000000</td>\n",
       "      <td>177866.000000</td>\n",
       "      <td>177866.000000</td>\n",
       "      <td>177477.000000</td>\n",
       "      <td>1.778660e+05</td>\n",
       "      <td>1.778610e+05</td>\n",
       "    </tr>\n",
       "    <tr>\n",
       "      <th>mean</th>\n",
       "      <td>98172.453506</td>\n",
       "      <td>2020.515512</td>\n",
       "      <td>58.842162</td>\n",
       "      <td>1073.109363</td>\n",
       "      <td>29.127481</td>\n",
       "      <td>2.202313e+08</td>\n",
       "      <td>5.297672e+10</td>\n",
       "    </tr>\n",
       "    <tr>\n",
       "      <th>std</th>\n",
       "      <td>2442.450668</td>\n",
       "      <td>2.989384</td>\n",
       "      <td>91.981298</td>\n",
       "      <td>8358.624956</td>\n",
       "      <td>14.892169</td>\n",
       "      <td>7.584987e+07</td>\n",
       "      <td>1.578047e+09</td>\n",
       "    </tr>\n",
       "    <tr>\n",
       "      <th>min</th>\n",
       "      <td>1545.000000</td>\n",
       "      <td>1997.000000</td>\n",
       "      <td>0.000000</td>\n",
       "      <td>0.000000</td>\n",
       "      <td>1.000000</td>\n",
       "      <td>4.385000e+03</td>\n",
       "      <td>1.001020e+09</td>\n",
       "    </tr>\n",
       "    <tr>\n",
       "      <th>25%</th>\n",
       "      <td>98052.000000</td>\n",
       "      <td>2019.000000</td>\n",
       "      <td>0.000000</td>\n",
       "      <td>0.000000</td>\n",
       "      <td>18.000000</td>\n",
       "      <td>1.814743e+08</td>\n",
       "      <td>5.303301e+10</td>\n",
       "    </tr>\n",
       "    <tr>\n",
       "      <th>50%</th>\n",
       "      <td>98122.000000</td>\n",
       "      <td>2022.000000</td>\n",
       "      <td>0.000000</td>\n",
       "      <td>0.000000</td>\n",
       "      <td>33.000000</td>\n",
       "      <td>2.282522e+08</td>\n",
       "      <td>5.303303e+10</td>\n",
       "    </tr>\n",
       "    <tr>\n",
       "      <th>75%</th>\n",
       "      <td>98370.000000</td>\n",
       "      <td>2023.000000</td>\n",
       "      <td>75.000000</td>\n",
       "      <td>0.000000</td>\n",
       "      <td>42.000000</td>\n",
       "      <td>2.548445e+08</td>\n",
       "      <td>5.305307e+10</td>\n",
       "    </tr>\n",
       "    <tr>\n",
       "      <th>max</th>\n",
       "      <td>99577.000000</td>\n",
       "      <td>2024.000000</td>\n",
       "      <td>337.000000</td>\n",
       "      <td>845000.000000</td>\n",
       "      <td>49.000000</td>\n",
       "      <td>4.792548e+08</td>\n",
       "      <td>5.603300e+10</td>\n",
       "    </tr>\n",
       "  </tbody>\n",
       "</table>\n",
       "</div>"
      ],
      "text/plain": [
       "         Postal Code     Model Year  Electric Range      Base MSRP  \\\n",
       "count  177861.000000  177866.000000   177866.000000  177866.000000   \n",
       "mean    98172.453506    2020.515512       58.842162    1073.109363   \n",
       "std      2442.450668       2.989384       91.981298    8358.624956   \n",
       "min      1545.000000    1997.000000        0.000000       0.000000   \n",
       "25%     98052.000000    2019.000000        0.000000       0.000000   \n",
       "50%     98122.000000    2022.000000        0.000000       0.000000   \n",
       "75%     98370.000000    2023.000000       75.000000       0.000000   \n",
       "max     99577.000000    2024.000000      337.000000  845000.000000   \n",
       "\n",
       "       Legislative District  DOL Vehicle ID  2020 Census Tract  \n",
       "count         177477.000000    1.778660e+05       1.778610e+05  \n",
       "mean              29.127481    2.202313e+08       5.297672e+10  \n",
       "std               14.892169    7.584987e+07       1.578047e+09  \n",
       "min                1.000000    4.385000e+03       1.001020e+09  \n",
       "25%               18.000000    1.814743e+08       5.303301e+10  \n",
       "50%               33.000000    2.282522e+08       5.303303e+10  \n",
       "75%               42.000000    2.548445e+08       5.305307e+10  \n",
       "max               49.000000    4.792548e+08       5.603300e+10  "
      ]
     },
     "execution_count": 5,
     "metadata": {},
     "output_type": "execute_result"
    }
   ],
   "source": [
    "data.describe()"
   ]
  },
  {
   "cell_type": "code",
   "execution_count": 6,
   "id": "14043ea4",
   "metadata": {
    "execution": {
     "iopub.execute_input": "2024-03-29T17:39:22.373452Z",
     "iopub.status.busy": "2024-03-29T17:39:22.373055Z",
     "iopub.status.idle": "2024-03-29T17:39:22.470080Z",
     "shell.execute_reply": "2024-03-29T17:39:22.468128Z"
    },
    "papermill": {
     "duration": 0.125128,
     "end_time": "2024-03-29T17:39:22.472731",
     "exception": false,
     "start_time": "2024-03-29T17:39:22.347603",
     "status": "completed"
    },
    "tags": []
   },
   "outputs": [
    {
     "name": "stdout",
     "output_type": "stream",
     "text": [
      "Number of types of 'Postal Code' :  862\n",
      "Number of types of 'Legislative District' :  49\n",
      "Number of types of '2020 Census Tract' :  2115\n",
      "Number of types of 'Electric Range' :  102\n",
      "Number of types of 'Base MSRP' :  31\n",
      "Number of types of 'Electric Vehicle Type' :  2\n",
      "Number of types of 'Clean Alternative Fuel Vehicle (CAFV) Eligibility' :  3\n",
      "Number of types of 'Electric Utility' :  76\n",
      "Number of types of 'State' :  46\n"
     ]
    }
   ],
   "source": [
    "print('Number of types of \\'Postal Code\\' : ',data['Postal Code'].nunique())\n",
    "print('Number of types of \\'Legislative District\\' : ', data['Legislative District'].nunique())\n",
    "print('Number of types of \\'2020 Census Tract\\' : ',data['2020 Census Tract'].nunique())\n",
    "print('Number of types of \\'Electric Range\\' : ',data['Electric Range'].nunique())\n",
    "print('Number of types of \\'Base MSRP\\' : ',data['Base MSRP'].nunique())\n",
    "print('Number of types of \\'Electric Vehicle Type\\' : ',data['Electric Vehicle Type'].nunique())\n",
    "print('Number of types of \\'Clean Alternative Fuel Vehicle (CAFV) Eligibility\\' : ',data['Clean Alternative Fuel Vehicle (CAFV) Eligibility'].nunique())\n",
    "print('Number of types of \\'Electric Utility\\' : ',data['Electric Utility'].nunique())\n",
    "print('Number of types of \\'State\\' : ',data['State'].nunique())"
   ]
  },
  {
   "cell_type": "markdown",
   "id": "5b47c7ca",
   "metadata": {
    "papermill": {
     "duration": 0.023817,
     "end_time": "2024-03-29T17:39:22.521063",
     "exception": false,
     "start_time": "2024-03-29T17:39:22.497246",
     "status": "completed"
    },
    "tags": []
   },
   "source": [
    "### 'Electric Range' and 'Base MSPR' are used, but 'Postal Code' and '2020 Census Tract' are excluded from the EDA.\n",
    "### (Because there are so many kinds)"
   ]
  },
  {
   "cell_type": "code",
   "execution_count": 7,
   "id": "ecc20749",
   "metadata": {
    "execution": {
     "iopub.execute_input": "2024-03-29T17:39:22.574696Z",
     "iopub.status.busy": "2024-03-29T17:39:22.574118Z",
     "iopub.status.idle": "2024-03-29T17:39:22.777729Z",
     "shell.execute_reply": "2024-03-29T17:39:22.776457Z"
    },
    "papermill": {
     "duration": 0.234462,
     "end_time": "2024-03-29T17:39:22.780571",
     "exception": false,
     "start_time": "2024-03-29T17:39:22.546109",
     "status": "completed"
    },
    "tags": []
   },
   "outputs": [
    {
     "data": {
      "text/plain": [
       "VIN (1-10)                                           0.000000\n",
       "County                                               0.000028\n",
       "City                                                 0.000028\n",
       "State                                                0.000000\n",
       "Postal Code                                          0.000028\n",
       "Model Year                                           0.000000\n",
       "Make                                                 0.000000\n",
       "Model                                                0.000000\n",
       "Electric Vehicle Type                                0.000000\n",
       "Clean Alternative Fuel Vehicle (CAFV) Eligibility    0.000000\n",
       "Electric Range                                       0.000000\n",
       "Base MSRP                                            0.000000\n",
       "Legislative District                                 0.002187\n",
       "DOL Vehicle ID                                       0.000000\n",
       "Vehicle Location                                     0.000051\n",
       "Electric Utility                                     0.000028\n",
       "2020 Census Tract                                    0.000028\n",
       "dtype: float64"
      ]
     },
     "execution_count": 7,
     "metadata": {},
     "output_type": "execute_result"
    }
   ],
   "source": [
    "data.isna().mean()"
   ]
  },
  {
   "cell_type": "markdown",
   "id": "05e43d4e",
   "metadata": {
    "papermill": {
     "duration": 0.023903,
     "end_time": "2024-03-29T17:39:22.828484",
     "exception": false,
     "start_time": "2024-03-29T17:39:22.804581",
     "status": "completed"
    },
    "tags": []
   },
   "source": [
    "# **Data Preprocessing**"
   ]
  },
  {
   "cell_type": "markdown",
   "id": "ff275623",
   "metadata": {
    "papermill": {
     "duration": 0.023693,
     "end_time": "2024-03-29T17:39:22.876090",
     "exception": false,
     "start_time": "2024-03-29T17:39:22.852397",
     "status": "completed"
    },
    "tags": []
   },
   "source": [
    "### Replace with the previous value because the missing rate is very low."
   ]
  },
  {
   "cell_type": "code",
   "execution_count": 8,
   "id": "97d3a05a",
   "metadata": {
    "execution": {
     "iopub.execute_input": "2024-03-29T17:39:22.925571Z",
     "iopub.status.busy": "2024-03-29T17:39:22.925133Z",
     "iopub.status.idle": "2024-03-29T17:39:23.447444Z",
     "shell.execute_reply": "2024-03-29T17:39:23.446241Z"
    },
    "papermill": {
     "duration": 0.550508,
     "end_time": "2024-03-29T17:39:23.450362",
     "exception": false,
     "start_time": "2024-03-29T17:39:22.899854",
     "status": "completed"
    },
    "tags": []
   },
   "outputs": [],
   "source": [
    "data_pre = data.ffill()"
   ]
  },
  {
   "cell_type": "code",
   "execution_count": 9,
   "id": "38c7e157",
   "metadata": {
    "execution": {
     "iopub.execute_input": "2024-03-29T17:39:23.500254Z",
     "iopub.status.busy": "2024-03-29T17:39:23.499850Z",
     "iopub.status.idle": "2024-03-29T17:39:23.706844Z",
     "shell.execute_reply": "2024-03-29T17:39:23.705553Z"
    },
    "papermill": {
     "duration": 0.235206,
     "end_time": "2024-03-29T17:39:23.709511",
     "exception": false,
     "start_time": "2024-03-29T17:39:23.474305",
     "status": "completed"
    },
    "tags": []
   },
   "outputs": [
    {
     "data": {
      "text/plain": [
       "VIN (1-10)                                           0\n",
       "County                                               0\n",
       "City                                                 0\n",
       "State                                                0\n",
       "Postal Code                                          0\n",
       "Model Year                                           0\n",
       "Make                                                 0\n",
       "Model                                                0\n",
       "Electric Vehicle Type                                0\n",
       "Clean Alternative Fuel Vehicle (CAFV) Eligibility    0\n",
       "Electric Range                                       0\n",
       "Base MSRP                                            0\n",
       "Legislative District                                 0\n",
       "DOL Vehicle ID                                       0\n",
       "Vehicle Location                                     0\n",
       "Electric Utility                                     0\n",
       "2020 Census Tract                                    0\n",
       "dtype: int64"
      ]
     },
     "execution_count": 9,
     "metadata": {},
     "output_type": "execute_result"
    }
   ],
   "source": [
    "data_pre.isna().sum()"
   ]
  },
  {
   "cell_type": "code",
   "execution_count": 10,
   "id": "0ce73a60",
   "metadata": {
    "execution": {
     "iopub.execute_input": "2024-03-29T17:39:23.760556Z",
     "iopub.status.busy": "2024-03-29T17:39:23.759351Z",
     "iopub.status.idle": "2024-03-29T17:39:23.782491Z",
     "shell.execute_reply": "2024-03-29T17:39:23.781130Z"
    },
    "papermill": {
     "duration": 0.052276,
     "end_time": "2024-03-29T17:39:23.785702",
     "exception": false,
     "start_time": "2024-03-29T17:39:23.733426",
     "status": "completed"
    },
    "tags": []
   },
   "outputs": [],
   "source": [
    "data_pre = data_pre[data_pre['Base MSRP'] != 0]"
   ]
  },
  {
   "cell_type": "code",
   "execution_count": 11,
   "id": "8ab60133",
   "metadata": {
    "execution": {
     "iopub.execute_input": "2024-03-29T17:39:23.836143Z",
     "iopub.status.busy": "2024-03-29T17:39:23.834868Z",
     "iopub.status.idle": "2024-03-29T17:39:23.857427Z",
     "shell.execute_reply": "2024-03-29T17:39:23.856065Z"
    },
    "papermill": {
     "duration": 0.050482,
     "end_time": "2024-03-29T17:39:23.860122",
     "exception": false,
     "start_time": "2024-03-29T17:39:23.809640",
     "status": "completed"
    },
    "tags": []
   },
   "outputs": [],
   "source": [
    "# remove outlier\n",
    "\n",
    "def remove(df, col):\n",
    "    q_1 = df[col].quantile(0.25)\n",
    "    q_3 = df[col].quantile(0.75)\n",
    "    IQR = q_3 - q_1\n",
    "    lower_bound = q_1 - 1.5*IQR\n",
    "    upper_bound = q_3 + 1.5*IQR\n",
    "    T = df[col].apply(lambda x: (x<lower_bound) | (x> upper_bound))\n",
    "    return df[~T]\n",
    "\n",
    "data_pre = remove(data_pre,'Electric Range')\n",
    "data_pre = remove(data_pre, 'Base MSRP')                  "
   ]
  },
  {
   "cell_type": "code",
   "execution_count": 12,
   "id": "0dc40f37",
   "metadata": {
    "execution": {
     "iopub.execute_input": "2024-03-29T17:39:23.910326Z",
     "iopub.status.busy": "2024-03-29T17:39:23.909608Z",
     "iopub.status.idle": "2024-03-29T17:39:23.915483Z",
     "shell.execute_reply": "2024-03-29T17:39:23.914100Z"
    },
    "papermill": {
     "duration": 0.033757,
     "end_time": "2024-03-29T17:39:23.918002",
     "exception": false,
     "start_time": "2024-03-29T17:39:23.884245",
     "status": "completed"
    },
    "tags": []
   },
   "outputs": [
    {
     "name": "stdout",
     "output_type": "stream",
     "text": [
      "(177866, 17)\n",
      "(3333, 17)\n"
     ]
    }
   ],
   "source": [
    "print(data.shape)\n",
    "print(data_pre.shape)"
   ]
  },
  {
   "cell_type": "markdown",
   "id": "22ba03fa",
   "metadata": {
    "papermill": {
     "duration": 0.024334,
     "end_time": "2024-03-29T17:39:23.966585",
     "exception": false,
     "start_time": "2024-03-29T17:39:23.942251",
     "status": "completed"
    },
    "tags": []
   },
   "source": [
    "#  *Data visualization*"
   ]
  },
  {
   "cell_type": "markdown",
   "id": "5a480a7e",
   "metadata": {
    "papermill": {
     "duration": 0.088945,
     "end_time": "2024-03-29T17:39:24.081431",
     "exception": false,
     "start_time": "2024-03-29T17:39:23.992486",
     "status": "completed"
    },
    "tags": []
   },
   "source": [
    "> # Trend of Electric Vehicle Registration Count by Model Year"
   ]
  },
  {
   "cell_type": "code",
   "execution_count": 13,
   "id": "e04c6031",
   "metadata": {
    "execution": {
     "iopub.execute_input": "2024-03-29T17:39:24.133109Z",
     "iopub.status.busy": "2024-03-29T17:39:24.132412Z",
     "iopub.status.idle": "2024-03-29T17:39:24.144701Z",
     "shell.execute_reply": "2024-03-29T17:39:24.143718Z"
    },
    "papermill": {
     "duration": 0.041267,
     "end_time": "2024-03-29T17:39:24.147195",
     "exception": false,
     "start_time": "2024-03-29T17:39:24.105928",
     "status": "completed"
    },
    "tags": []
   },
   "outputs": [
    {
     "data": {
      "text/html": [
       "<div>\n",
       "<style scoped>\n",
       "    .dataframe tbody tr th:only-of-type {\n",
       "        vertical-align: middle;\n",
       "    }\n",
       "\n",
       "    .dataframe tbody tr th {\n",
       "        vertical-align: top;\n",
       "    }\n",
       "\n",
       "    .dataframe thead th {\n",
       "        text-align: right;\n",
       "    }\n",
       "</style>\n",
       "<table border=\"1\" class=\"dataframe\">\n",
       "  <thead>\n",
       "    <tr style=\"text-align: right;\">\n",
       "      <th></th>\n",
       "      <th>Model Year</th>\n",
       "      <th>Number of Vehicles</th>\n",
       "    </tr>\n",
       "  </thead>\n",
       "  <tbody>\n",
       "    <tr>\n",
       "      <th>0</th>\n",
       "      <td>2008</td>\n",
       "      <td>20</td>\n",
       "    </tr>\n",
       "    <tr>\n",
       "      <th>1</th>\n",
       "      <td>2010</td>\n",
       "      <td>23</td>\n",
       "    </tr>\n",
       "    <tr>\n",
       "      <th>2</th>\n",
       "      <td>2011</td>\n",
       "      <td>7</td>\n",
       "    </tr>\n",
       "    <tr>\n",
       "      <th>3</th>\n",
       "      <td>2012</td>\n",
       "      <td>141</td>\n",
       "    </tr>\n",
       "    <tr>\n",
       "      <th>4</th>\n",
       "      <td>2013</td>\n",
       "      <td>730</td>\n",
       "    </tr>\n",
       "    <tr>\n",
       "      <th>5</th>\n",
       "      <td>2014</td>\n",
       "      <td>640</td>\n",
       "    </tr>\n",
       "    <tr>\n",
       "      <th>6</th>\n",
       "      <td>2016</td>\n",
       "      <td>391</td>\n",
       "    </tr>\n",
       "    <tr>\n",
       "      <th>7</th>\n",
       "      <td>2017</td>\n",
       "      <td>239</td>\n",
       "    </tr>\n",
       "    <tr>\n",
       "      <th>8</th>\n",
       "      <td>2018</td>\n",
       "      <td>650</td>\n",
       "    </tr>\n",
       "    <tr>\n",
       "      <th>9</th>\n",
       "      <td>2019</td>\n",
       "      <td>469</td>\n",
       "    </tr>\n",
       "    <tr>\n",
       "      <th>10</th>\n",
       "      <td>2020</td>\n",
       "      <td>23</td>\n",
       "    </tr>\n",
       "  </tbody>\n",
       "</table>\n",
       "</div>"
      ],
      "text/plain": [
       "    Model Year  Number of Vehicles\n",
       "0         2008                  20\n",
       "1         2010                  23\n",
       "2         2011                   7\n",
       "3         2012                 141\n",
       "4         2013                 730\n",
       "5         2014                 640\n",
       "6         2016                 391\n",
       "7         2017                 239\n",
       "8         2018                 650\n",
       "9         2019                 469\n",
       "10        2020                  23"
      ]
     },
     "execution_count": 13,
     "metadata": {},
     "output_type": "execute_result"
    }
   ],
   "source": [
    "vehicle_counts = data_pre.groupby('Model Year')['DOL Vehicle ID'].count().reset_index(name='Number of Vehicles')\n",
    "vehicle_counts "
   ]
  },
  {
   "cell_type": "code",
   "execution_count": 14,
   "id": "39e68a21",
   "metadata": {
    "execution": {
     "iopub.execute_input": "2024-03-29T17:39:24.200662Z",
     "iopub.status.busy": "2024-03-29T17:39:24.200033Z",
     "iopub.status.idle": "2024-03-29T17:39:24.620295Z",
     "shell.execute_reply": "2024-03-29T17:39:24.619047Z"
    },
    "papermill": {
     "duration": 0.450028,
     "end_time": "2024-03-29T17:39:24.622870",
     "exception": false,
     "start_time": "2024-03-29T17:39:24.172842",
     "status": "completed"
    },
    "tags": []
   },
   "outputs": [
    {
     "data": {
      "image/png": "[encoded data removed]",
      "text/plain": [
       "<Figure size 1000x600 with 1 Axes>"
      ]
     },
     "metadata": {},
     "output_type": "display_data"
    }
   ],
   "source": [
    "plt.figure(figsize=(10, 6)) \n",
    "sns.barplot(x='Model Year', y='Number of Vehicles', data = vehicle_counts) \n",
    "plt.title('Trend of Electric Vehicle Registration Count by Model Year', fontsize=14)\n",
    "plt.xlabel('Model Year', fontsize=14) \n",
    "plt.ylabel('Number of Vehicles', fontsize=14) \n",
    "plt.xticks(rotation=0, fontsize=10)\n",
    "plt.yticks(fontsize=10)\n",
    "plt.grid(axis='y', linestyle='--')\n",
    "\n",
    "plt.show()"
   ]
  },
  {
   "cell_type": "markdown",
   "id": "d3a08327",
   "metadata": {
    "papermill": {
     "duration": 0.025609,
     "end_time": "2024-03-29T17:39:24.674378",
     "exception": false,
     "start_time": "2024-03-29T17:39:24.648769",
     "status": "completed"
    },
    "tags": []
   },
   "source": [
    "> # Trend of Base MSRP"
   ]
  },
  {
   "cell_type": "code",
   "execution_count": 15,
   "id": "3469e2d9",
   "metadata": {
    "execution": {
     "iopub.execute_input": "2024-03-29T17:39:24.728106Z",
     "iopub.status.busy": "2024-03-29T17:39:24.726881Z",
     "iopub.status.idle": "2024-03-29T17:39:26.554792Z",
     "shell.execute_reply": "2024-03-29T17:39:26.553604Z"
    },
    "papermill": {
     "duration": 1.857769,
     "end_time": "2024-03-29T17:39:26.557887",
     "exception": false,
     "start_time": "2024-03-29T17:39:24.700118",
     "status": "completed"
    },
    "tags": []
   },
   "outputs": [
    {
     "data": {
      "image/png": "[encoded data removed]",
      "text/plain": [
       "<Figure size 1000x600 with 1 Axes>"
      ]
     },
     "metadata": {},
     "output_type": "display_data"
    },
    {
     "data": {
      "image/png": "[encoded data removed]",
      "text/plain": [
       "<Figure size 1000x600 with 1 Axes>"
      ]
     },
     "metadata": {},
     "output_type": "display_data"
    },
    {
     "data": {
      "image/png": "[encoded data removed]",
      "text/plain": [
       "<Figure size 1000x600 with 1 Axes>"
      ]
     },
     "metadata": {},
     "output_type": "display_data"
    },
    {
     "data": {
      "image/png": "[encoded data removed]",
      "text/plain": [
       "<Figure size 1200x800 with 1 Axes>"
      ]
     },
     "metadata": {},
     "output_type": "display_data"
    }
   ],
   "source": [
    "# Electric Vehicle Price vs. Electric Range\n",
    "plt.figure(figsize=(10, 6)) \n",
    "sns.scatterplot(x='Electric Range', y='Base MSRP', data=data_pre) \n",
    "plt.title('Electric Vehicle Price vs. Electric Range', fontsize=14)\n",
    "plt.xlabel('Electric Range', fontsize=14)\n",
    "plt.ylabel('Base MSRP', fontsize=14)\n",
    "plt.xticks(rotation=0, fontsize=10)\n",
    "plt.yticks(fontsize=10)\n",
    "plt.grid(axis='y', linestyle='--')\n",
    "plt.show()\n",
    "\n",
    "# Distribution of Base MSRP\n",
    "plt.figure(figsize=(10, 6))\n",
    "sns.histplot(data_pre['Base MSRP'], bins=20, kde=True)\n",
    "plt.title('Distribution of Base MSRP', fontsize=14)\n",
    "plt.xlabel('Base MSRP', fontsize=14)\n",
    "plt.ylabel('Frequency', fontsize=14)\n",
    "plt.xticks(rotation=0, fontsize=10)\n",
    "plt.yticks(fontsize=10)\n",
    "plt.grid(axis='y', linestyle='--')\n",
    "plt.show()\n",
    "\n",
    "# Base MSRP by Model Year\n",
    "plt.figure(figsize=(10, 6))\n",
    "sns.boxplot(x='Model Year', y='Base MSRP', data=data_pre, palette='Set3')\n",
    "plt.title('Base MSRP by Model Year', fontsize=14)\n",
    "plt.xlabel('Model Year', fontsize=14)\n",
    "plt.ylabel('Base MSRP', fontsize=14)\n",
    "plt.xticks(rotation=0, fontsize=10)\n",
    "plt.yticks(fontsize=10)\n",
    "plt.grid(axis='y', linestyle='--')\n",
    "plt.show()\n",
    "\n",
    "# Base MSRP by Vehicle Mode\n",
    "plt.figure(figsize=(12, 8))\n",
    "sns.boxplot(x='Model', y='Base MSRP', data=data_pre, palette='Set2')\n",
    "plt.title('Base MSRP by Vehicle Model', fontsize=14)\n",
    "plt.xlabel('Vehicle Model', fontsize=14)\n",
    "plt.ylabel('Base MSRP', fontsize=14)\n",
    "plt.xticks(rotation=45, fontsize=10)\n",
    "plt.yticks(fontsize=10)\n",
    "plt.grid(axis='y', linestyle='--')\n",
    "plt.show()"
   ]
  },
  {
   "cell_type": "markdown",
   "id": "e4ebe073",
   "metadata": {
    "papermill": {
     "duration": 0.028082,
     "end_time": "2024-03-29T17:39:26.614919",
     "exception": false,
     "start_time": "2024-03-29T17:39:26.586837",
     "status": "completed"
    },
    "tags": []
   },
   "source": [
    "> # Electric Vehicle Distribution by Legislative District"
   ]
  },
  {
   "cell_type": "code",
   "execution_count": 16,
   "id": "5ce3547f",
   "metadata": {
    "execution": {
     "iopub.execute_input": "2024-03-29T17:39:26.674303Z",
     "iopub.status.busy": "2024-03-29T17:39:26.673144Z",
     "iopub.status.idle": "2024-03-29T17:39:27.451033Z",
     "shell.execute_reply": "2024-03-29T17:39:27.449900Z"
    },
    "papermill": {
     "duration": 0.812002,
     "end_time": "2024-03-29T17:39:27.455374",
     "exception": false,
     "start_time": "2024-03-29T17:39:26.643372",
     "status": "completed"
    },
    "tags": []
   },
   "outputs": [
    {
     "data": {
      "image/png": "[encoded data removed]",
      "text/plain": [
       "<Figure size 2000x600 with 1 Axes>"
      ]
     },
     "metadata": {},
     "output_type": "display_data"
    }
   ],
   "source": [
    "plt.figure(figsize=(20, 6))\n",
    "sns.barplot(x=data_pre['Legislative District'].value_counts().index,\n",
    "            y=data_pre['Legislative District'].value_counts(),\n",
    "            palette='RdYlBu_r') \n",
    "\n",
    "plt.title('Electric Vehicle Distribution by Legislative District', fontsize=16)\n",
    "plt.xlabel('Legislative District', fontsize=14)  \n",
    "plt.ylabel('Number of Vehicles', fontsize=14)  \n",
    "plt.xticks(rotation=45 , fontsize=12)  \n",
    "plt.yticks(fontsize=12) \n",
    "plt.grid(axis='y', linestyle='--')  \n",
    "plt.tight_layout()  \n",
    "plt.show()"
   ]
  },
  {
   "cell_type": "markdown",
   "id": "98f1ab66",
   "metadata": {
    "papermill": {
     "duration": 0.031407,
     "end_time": "2024-03-29T17:39:27.517604",
     "exception": false,
     "start_time": "2024-03-29T17:39:27.486197",
     "status": "completed"
    },
    "tags": []
   },
   "source": [
    "# *Data Analysis*"
   ]
  },
  {
   "cell_type": "markdown",
   "id": "7a0ea54a",
   "metadata": {
    "papermill": {
     "duration": 0.030799,
     "end_time": "2024-03-29T17:39:27.578598",
     "exception": false,
     "start_time": "2024-03-29T17:39:27.547799",
     "status": "completed"
    },
    "tags": []
   },
   "source": [
    "> # Top 10 Electric Vehicle Models"
   ]
  },
  {
   "cell_type": "code",
   "execution_count": 17,
   "id": "d764b58c",
   "metadata": {
    "execution": {
     "iopub.execute_input": "2024-03-29T17:39:27.640789Z",
     "iopub.status.busy": "2024-03-29T17:39:27.640042Z",
     "iopub.status.idle": "2024-03-29T17:39:27.993301Z",
     "shell.execute_reply": "2024-03-29T17:39:27.992115Z"
    },
    "papermill": {
     "duration": 0.387726,
     "end_time": "2024-03-29T17:39:27.996235",
     "exception": false,
     "start_time": "2024-03-29T17:39:27.608509",
     "status": "completed"
    },
    "tags": []
   },
   "outputs": [
    {
     "data": {
      "image/png": "[encoded data removed]",
      "text/plain": [
       "<Figure size 1200x600 with 1 Axes>"
      ]
     },
     "metadata": {},
     "output_type": "display_data"
    }
   ],
   "source": [
    "plt.figure(figsize=(12, 6))\n",
    "top_models = data_pre['Model'].value_counts().head(10)  \n",
    "sns.barplot(x=top_models.index, y=top_models.values, palette='viridis')  \n",
    "\n",
    "plt.title('Top 10 Electric Vehicle Models', fontsize=16) \n",
    "plt.xlabel('Model', fontsize=14)  \n",
    "plt.ylabel('Number of Vehicles', fontsize=14) \n",
    "plt.xticks(rotation=0, fontsize=12)  \n",
    "plt.yticks(fontsize=12)  \n",
    "plt.grid(axis='y', linestyle='--')  \n",
    "plt.tight_layout()  \n",
    "plt.show()"
   ]
  },
  {
   "cell_type": "markdown",
   "id": "f115a77a",
   "metadata": {
    "papermill": {
     "duration": 0.030864,
     "end_time": "2024-03-29T17:39:28.058484",
     "exception": false,
     "start_time": "2024-03-29T17:39:28.027620",
     "status": "completed"
    },
    "tags": []
   },
   "source": [
    "> # Changes in the number of Electric Vehicle Registrations by year"
   ]
  },
  {
   "cell_type": "code",
   "execution_count": 18,
   "id": "4b81f38b",
   "metadata": {
    "execution": {
     "iopub.execute_input": "2024-03-29T17:39:28.121665Z",
     "iopub.status.busy": "2024-03-29T17:39:28.121262Z",
     "iopub.status.idle": "2024-03-29T17:39:28.464902Z",
     "shell.execute_reply": "2024-03-29T17:39:28.464050Z"
    },
    "papermill": {
     "duration": 0.378201,
     "end_time": "2024-03-29T17:39:28.467422",
     "exception": false,
     "start_time": "2024-03-29T17:39:28.089221",
     "status": "completed"
    },
    "tags": []
   },
   "outputs": [
    {
     "data": {
      "image/png": "[encoded data removed]",
      "text/plain": [
       "<Figure size 1200x600 with 1 Axes>"
      ]
     },
     "metadata": {},
     "output_type": "display_data"
    }
   ],
   "source": [
    "# Example Year\n",
    "Example_start_year = 2019\n",
    "\n",
    "pre_year = data_pre[data_pre['Model Year'] < Example_start_year]\n",
    "post_year = data_pre[data_pre['Model Year'] >= Example_start_year]\n",
    "\n",
    "# Changes in the number of Electric Vehicle Registrations by example year\n",
    "plt.figure(figsize=(12, 6))\n",
    "plt.plot(pre_year.groupby('Model Year').size(), label='Before Year', marker='o')\n",
    "plt.plot(post_year.groupby('Model Year').size(), label='After Year', marker='o')\n",
    "plt.title('Trend of Electric Vehicle Registrations Before and After Year', fontsize = 14)\n",
    "plt.xlabel('Year', fontsize = 14)\n",
    "plt.ylabel('Number of Registrations', fontsize = 14)\n",
    "plt.xticks(range(data_pre['Model Year'].min(), data_pre['Model Year'].max() + 1), rotation=0)\n",
    "plt.legend()\n",
    "plt.grid(axis='y', linestyle='--')\n",
    "plt.show()"
   ]
  },
  {
   "cell_type": "markdown",
   "id": "ae13bdb3",
   "metadata": {
    "papermill": {
     "duration": 0.031063,
     "end_time": "2024-03-29T17:39:28.529857",
     "exception": false,
     "start_time": "2024-03-29T17:39:28.498794",
     "status": "completed"
    },
    "tags": []
   },
   "source": [
    "# Modeling : Future 'Electric Range', 'Base MSPR' Forecast"
   ]
  },
  {
   "cell_type": "markdown",
   "id": "0174db7b",
   "metadata": {
    "papermill": {
     "duration": 0.032826,
     "end_time": "2024-03-29T17:39:28.594285",
     "exception": false,
     "start_time": "2024-03-29T17:39:28.561459",
     "status": "completed"
    },
    "tags": []
   },
   "source": [
    "# *Label Encoding & One-Hot Encoding*"
   ]
  },
  {
   "cell_type": "code",
   "execution_count": 19,
   "id": "2523b944",
   "metadata": {
    "execution": {
     "iopub.execute_input": "2024-03-29T17:39:28.659428Z",
     "iopub.status.busy": "2024-03-29T17:39:28.658792Z",
     "iopub.status.idle": "2024-03-29T17:39:28.680867Z",
     "shell.execute_reply": "2024-03-29T17:39:28.679571Z"
    },
    "papermill": {
     "duration": 0.057916,
     "end_time": "2024-03-29T17:39:28.683595",
     "exception": false,
     "start_time": "2024-03-29T17:39:28.625679",
     "status": "completed"
    },
    "tags": []
   },
   "outputs": [],
   "source": [
    "label_encoder = LabelEncoder()\n",
    "columns_to_encode = ['County', 'City','State' ,'Make', 'Model', 'Clean Alternative Fuel Vehicle (CAFV) Eligibility']\n",
    "\n",
    "for col in columns_to_encode:\n",
    "    data_pre[col] = label_encoder.fit_transform(data_pre[col])\n",
    "\n",
    "data_pre = pd.get_dummies(data_pre, columns=['Electric Vehicle Type'])"
   ]
  },
  {
   "cell_type": "code",
   "execution_count": 20,
   "id": "534d75df",
   "metadata": {
    "execution": {
     "iopub.execute_input": "2024-03-29T17:39:28.748764Z",
     "iopub.status.busy": "2024-03-29T17:39:28.748327Z",
     "iopub.status.idle": "2024-03-29T17:39:28.766243Z",
     "shell.execute_reply": "2024-03-29T17:39:28.765389Z"
    },
    "papermill": {
     "duration": 0.053633,
     "end_time": "2024-03-29T17:39:28.768531",
     "exception": false,
     "start_time": "2024-03-29T17:39:28.714898",
     "status": "completed"
    },
    "tags": []
   },
   "outputs": [
    {
     "data": {
      "text/html": [
       "<div>\n",
       "<style scoped>\n",
       "    .dataframe tbody tr th:only-of-type {\n",
       "        vertical-align: middle;\n",
       "    }\n",
       "\n",
       "    .dataframe tbody tr th {\n",
       "        vertical-align: top;\n",
       "    }\n",
       "\n",
       "    .dataframe thead th {\n",
       "        text-align: right;\n",
       "    }\n",
       "</style>\n",
       "<table border=\"1\" class=\"dataframe\">\n",
       "  <thead>\n",
       "    <tr style=\"text-align: right;\">\n",
       "      <th></th>\n",
       "      <th>County</th>\n",
       "      <th>City</th>\n",
       "      <th>State</th>\n",
       "      <th>Model Year</th>\n",
       "      <th>Make</th>\n",
       "      <th>Model</th>\n",
       "      <th>Clean Alternative Fuel Vehicle (CAFV) Eligibility</th>\n",
       "      <th>Electric Range</th>\n",
       "      <th>Base MSRP</th>\n",
       "      <th>Legislative District</th>\n",
       "      <th>Electric Vehicle Type_Battery Electric Vehicle (BEV)</th>\n",
       "      <th>Electric Vehicle Type_Plug-in Hybrid Electric Vehicle (PHEV)</th>\n",
       "    </tr>\n",
       "  </thead>\n",
       "  <tbody>\n",
       "    <tr>\n",
       "      <th>30</th>\n",
       "      <td>38</td>\n",
       "      <td>145</td>\n",
       "      <td>8</td>\n",
       "      <td>2017</td>\n",
       "      <td>4</td>\n",
       "      <td>12</td>\n",
       "      <td>0</td>\n",
       "      <td>93</td>\n",
       "      <td>32250</td>\n",
       "      <td>22.0</td>\n",
       "      <td>True</td>\n",
       "      <td>False</td>\n",
       "    </tr>\n",
       "    <tr>\n",
       "      <th>71</th>\n",
       "      <td>34</td>\n",
       "      <td>58</td>\n",
       "      <td>8</td>\n",
       "      <td>2016</td>\n",
       "      <td>4</td>\n",
       "      <td>11</td>\n",
       "      <td>0</td>\n",
       "      <td>93</td>\n",
       "      <td>31950</td>\n",
       "      <td>32.0</td>\n",
       "      <td>True</td>\n",
       "      <td>False</td>\n",
       "    </tr>\n",
       "    <tr>\n",
       "      <th>187</th>\n",
       "      <td>45</td>\n",
       "      <td>240</td>\n",
       "      <td>8</td>\n",
       "      <td>2013</td>\n",
       "      <td>8</td>\n",
       "      <td>8</td>\n",
       "      <td>0</td>\n",
       "      <td>208</td>\n",
       "      <td>69900</td>\n",
       "      <td>14.0</td>\n",
       "      <td>True</td>\n",
       "      <td>False</td>\n",
       "    </tr>\n",
       "    <tr>\n",
       "      <th>218</th>\n",
       "      <td>18</td>\n",
       "      <td>163</td>\n",
       "      <td>8</td>\n",
       "      <td>2013</td>\n",
       "      <td>8</td>\n",
       "      <td>8</td>\n",
       "      <td>0</td>\n",
       "      <td>208</td>\n",
       "      <td>69900</td>\n",
       "      <td>26.0</td>\n",
       "      <td>True</td>\n",
       "      <td>False</td>\n",
       "    </tr>\n",
       "    <tr>\n",
       "      <th>293</th>\n",
       "      <td>17</td>\n",
       "      <td>215</td>\n",
       "      <td>8</td>\n",
       "      <td>2017</td>\n",
       "      <td>0</td>\n",
       "      <td>0</td>\n",
       "      <td>1</td>\n",
       "      <td>14</td>\n",
       "      <td>44100</td>\n",
       "      <td>11.0</td>\n",
       "      <td>False</td>\n",
       "      <td>True</td>\n",
       "    </tr>\n",
       "  </tbody>\n",
       "</table>\n",
       "</div>"
      ],
      "text/plain": [
       "     County  City  State  Model Year  Make  Model  \\\n",
       "30       38   145      8        2017     4     12   \n",
       "71       34    58      8        2016     4     11   \n",
       "187      45   240      8        2013     8      8   \n",
       "218      18   163      8        2013     8      8   \n",
       "293      17   215      8        2017     0      0   \n",
       "\n",
       "     Clean Alternative Fuel Vehicle (CAFV) Eligibility  Electric Range  \\\n",
       "30                                                   0              93   \n",
       "71                                                   0              93   \n",
       "187                                                  0             208   \n",
       "218                                                  0             208   \n",
       "293                                                  1              14   \n",
       "\n",
       "     Base MSRP  Legislative District  \\\n",
       "30       32250                  22.0   \n",
       "71       31950                  32.0   \n",
       "187      69900                  14.0   \n",
       "218      69900                  26.0   \n",
       "293      44100                  11.0   \n",
       "\n",
       "     Electric Vehicle Type_Battery Electric Vehicle (BEV)  \\\n",
       "30                                                True      \n",
       "71                                                True      \n",
       "187                                               True      \n",
       "218                                               True      \n",
       "293                                              False      \n",
       "\n",
       "     Electric Vehicle Type_Plug-in Hybrid Electric Vehicle (PHEV)  \n",
       "30                                               False             \n",
       "71                                               False             \n",
       "187                                              False             \n",
       "218                                              False             \n",
       "293                                               True             "
      ]
     },
     "execution_count": 20,
     "metadata": {},
     "output_type": "execute_result"
    }
   ],
   "source": [
    "data_pre = data_pre.drop(['VIN (1-10)','Postal Code','Vehicle Location','Electric Utility','2020 Census Tract','DOL Vehicle ID'], axis=1)\n",
    "data_pre.head()"
   ]
  },
  {
   "cell_type": "code",
   "execution_count": 21,
   "id": "ace2e369",
   "metadata": {
    "execution": {
     "iopub.execute_input": "2024-03-29T17:39:28.835605Z",
     "iopub.status.busy": "2024-03-29T17:39:28.834453Z",
     "iopub.status.idle": "2024-03-29T17:39:28.847585Z",
     "shell.execute_reply": "2024-03-29T17:39:28.846193Z"
    },
    "papermill": {
     "duration": 0.050045,
     "end_time": "2024-03-29T17:39:28.850346",
     "exception": false,
     "start_time": "2024-03-29T17:39:28.800301",
     "status": "completed"
    },
    "tags": []
   },
   "outputs": [
    {
     "name": "stdout",
     "output_type": "stream",
     "text": [
      "<class 'pandas.core.frame.DataFrame'>\n",
      "Index: 3333 entries, 30 to 177739\n",
      "Data columns (total 12 columns):\n",
      " #   Column                                                        Non-Null Count  Dtype  \n",
      "---  ------                                                        --------------  -----  \n",
      " 0   County                                                        3333 non-null   int64  \n",
      " 1   City                                                          3333 non-null   int64  \n",
      " 2   State                                                         3333 non-null   int64  \n",
      " 3   Model Year                                                    3333 non-null   int64  \n",
      " 4   Make                                                          3333 non-null   int64  \n",
      " 5   Model                                                         3333 non-null   int64  \n",
      " 6   Clean Alternative Fuel Vehicle (CAFV) Eligibility             3333 non-null   int64  \n",
      " 7   Electric Range                                                3333 non-null   int64  \n",
      " 8   Base MSRP                                                     3333 non-null   int64  \n",
      " 9   Legislative District                                          3333 non-null   float64\n",
      " 10  Electric Vehicle Type_Battery Electric Vehicle (BEV)          3333 non-null   bool   \n",
      " 11  Electric Vehicle Type_Plug-in Hybrid Electric Vehicle (PHEV)  3333 non-null   bool   \n",
      "dtypes: bool(2), float64(1), int64(9)\n",
      "memory usage: 292.9 KB\n"
     ]
    }
   ],
   "source": [
    "data_pre.info()"
   ]
  },
  {
   "cell_type": "code",
   "execution_count": 22,
   "id": "bfaee4b7",
   "metadata": {
    "execution": {
     "iopub.execute_input": "2024-03-29T17:39:28.917349Z",
     "iopub.status.busy": "2024-03-29T17:39:28.916678Z",
     "iopub.status.idle": "2024-03-29T17:39:28.926201Z",
     "shell.execute_reply": "2024-03-29T17:39:28.925074Z"
    },
    "papermill": {
     "duration": 0.046485,
     "end_time": "2024-03-29T17:39:28.929046",
     "exception": false,
     "start_time": "2024-03-29T17:39:28.882561",
     "status": "completed"
    },
    "tags": []
   },
   "outputs": [],
   "source": [
    "# Split into training and test sets (Electric Range)\n",
    "\n",
    "X_train_E, X_test_E, y_train_E, y_test_E = train_test_split(data_pre.drop('Electric Range', axis=1),\n",
    "data_pre['Electric Range'], test_size=0.2, random_state=100)"
   ]
  },
  {
   "cell_type": "code",
   "execution_count": 23,
   "id": "a17bd72b",
   "metadata": {
    "execution": {
     "iopub.execute_input": "2024-03-29T17:39:28.995540Z",
     "iopub.status.busy": "2024-03-29T17:39:28.995070Z",
     "iopub.status.idle": "2024-03-29T17:39:29.004540Z",
     "shell.execute_reply": "2024-03-29T17:39:29.003538Z"
    },
    "papermill": {
     "duration": 0.045932,
     "end_time": "2024-03-29T17:39:29.006890",
     "exception": false,
     "start_time": "2024-03-29T17:39:28.960958",
     "status": "completed"
    },
    "tags": []
   },
   "outputs": [],
   "source": [
    "# Split into training and test sets (Base MSRP)\n",
    "\n",
    "X_train_B, X_test_B, y_train_B, y_test_B = train_test_split(data_pre.drop('Base MSRP', axis=1),\n",
    "data_pre['Base MSRP'], test_size=0.2, random_state=100)"
   ]
  },
  {
   "cell_type": "markdown",
   "id": "3932e962",
   "metadata": {
    "papermill": {
     "duration": 0.03238,
     "end_time": "2024-03-29T17:39:29.072360",
     "exception": false,
     "start_time": "2024-03-29T17:39:29.039980",
     "status": "completed"
    },
    "tags": []
   },
   "source": [
    "> # Linear Regression : Electric Range"
   ]
  },
  {
   "cell_type": "markdown",
   "id": "12c85454",
   "metadata": {
    "papermill": {
     "duration": 0.032082,
     "end_time": "2024-03-29T17:39:29.136924",
     "exception": false,
     "start_time": "2024-03-29T17:39:29.104842",
     "status": "completed"
    },
    "tags": []
   },
   "source": [
    "### *Modeling*"
   ]
  },
  {
   "cell_type": "code",
   "execution_count": 24,
   "id": "f4c962d9",
   "metadata": {
    "execution": {
     "iopub.execute_input": "2024-03-29T17:39:29.204501Z",
     "iopub.status.busy": "2024-03-29T17:39:29.203614Z",
     "iopub.status.idle": "2024-03-29T17:39:29.242002Z",
     "shell.execute_reply": "2024-03-29T17:39:29.240510Z"
    },
    "papermill": {
     "duration": 0.076508,
     "end_time": "2024-03-29T17:39:29.246070",
     "exception": false,
     "start_time": "2024-03-29T17:39:29.169562",
     "status": "completed"
    },
    "tags": []
   },
   "outputs": [
    {
     "data": {
      "text/html": [
       "<style>#sk-container-id-1 {color: black;background-color: white;}#sk-container-id-1 pre{padding: 0;}#sk-container-id-1 div.sk-toggleable {background-color: white;}#sk-container-id-1 label.sk-toggleable__label {cursor: pointer;display: block;width: 100%;margin-bottom: 0;padding: 0.3em;box-sizing: border-box;text-align: center;}#sk-container-id-1 label.sk-toggleable__label-arrow:before {content: \"▸\";float: left;margin-right: 0.25em;color: #696969;}#sk-container-id-1 label.sk-toggleable__label-arrow:hover:before {color: black;}#sk-container-id-1 div.sk-estimator:hover label.sk-toggleable__label-arrow:before {color: black;}#sk-container-id-1 div.sk-toggleable__content {max-height: 0;max-width: 0;overflow: hidden;text-align: left;background-color: #f0f8ff;}#sk-container-id-1 div.sk-toggleable__content pre {margin: 0.2em;color: black;border-radius: 0.25em;background-color: #f0f8ff;}#sk-container-id-1 input.sk-toggleable__control:checked~div.sk-toggleable__content {max-height: 200px;max-width: 100%;overflow: auto;}#sk-container-id-1 input.sk-toggleable__control:checked~label.sk-toggleable__label-arrow:before {content: \"▾\";}#sk-container-id-1 div.sk-estimator input.sk-toggleable__control:checked~label.sk-toggleable__label {background-color: #d4ebff;}#sk-container-id-1 div.sk-label input.sk-toggleable__control:checked~label.sk-toggleable__label {background-color: #d4ebff;}#sk-container-id-1 input.sk-hidden--visually {border: 0;clip: rect(1px 1px 1px 1px);clip: rect(1px, 1px, 1px, 1px);height: 1px;margin: -1px;overflow: hidden;padding: 0;position: absolute;width: 1px;}#sk-container-id-1 div.sk-estimator {font-family: monospace;background-color: #f0f8ff;border: 1px dotted black;border-radius: 0.25em;box-sizing: border-box;margin-bottom: 0.5em;}#sk-container-id-1 div.sk-estimator:hover {background-color: #d4ebff;}#sk-container-id-1 div.sk-parallel-item::after {content: \"\";width: 100%;border-bottom: 1px solid gray;flex-grow: 1;}#sk-container-id-1 div.sk-label:hover label.sk-toggleable__label {background-color: #d4ebff;}#sk-container-id-1 div.sk-serial::before {content: \"\";position: absolute;border-left: 1px solid gray;box-sizing: border-box;top: 0;bottom: 0;left: 50%;z-index: 0;}#sk-container-id-1 div.sk-serial {display: flex;flex-direction: column;align-items: center;background-color: white;padding-right: 0.2em;padding-left: 0.2em;position: relative;}#sk-container-id-1 div.sk-item {position: relative;z-index: 1;}#sk-container-id-1 div.sk-parallel {display: flex;align-items: stretch;justify-content: center;background-color: white;position: relative;}#sk-container-id-1 div.sk-item::before, #sk-container-id-1 div.sk-parallel-item::before {content: \"\";position: absolute;border-left: 1px solid gray;box-sizing: border-box;top: 0;bottom: 0;left: 50%;z-index: -1;}#sk-container-id-1 div.sk-parallel-item {display: flex;flex-direction: column;z-index: 1;position: relative;background-color: white;}#sk-container-id-1 div.sk-parallel-item:first-child::after {align-self: flex-end;width: 50%;}#sk-container-id-1 div.sk-parallel-item:last-child::after {align-self: flex-start;width: 50%;}#sk-container-id-1 div.sk-parallel-item:only-child::after {width: 0;}#sk-container-id-1 div.sk-dashed-wrapped {border: 1px dashed gray;margin: 0 0.4em 0.5em 0.4em;box-sizing: border-box;padding-bottom: 0.4em;background-color: white;}#sk-container-id-1 div.sk-label label {font-family: monospace;font-weight: bold;display: inline-block;line-height: 1.2em;}#sk-container-id-1 div.sk-label-container {text-align: center;}#sk-container-id-1 div.sk-container {/* jupyter's `normalize.less` sets `[hidden] { display: none; }` but bootstrap.min.css set `[hidden] { display: none !important; }` so we also need the `!important` here to be able to override the default hidden behavior on the sphinx rendered scikit-learn.org. See: https://github.com/scikit-learn/scikit-learn/issues/21755 */display: inline-block !important;position: relative;}#sk-container-id-1 div.sk-text-repr-fallback {display: none;}</style><div id=\"sk-container-id-1\" class=\"sk-top-container\"><div class=\"sk-text-repr-fallback\"><pre>LinearRegression()</pre><b>In a Jupyter environment, please rerun this cell to show the HTML representation or trust the notebook. <br />On GitHub, the HTML representation is unable to render, please try loading this page with nbviewer.org.</b></div><div class=\"sk-container\" hidden><div class=\"sk-item\"><div class=\"sk-estimator sk-toggleable\"><input class=\"sk-toggleable__control sk-hidden--visually\" id=\"sk-estimator-id-1\" type=\"checkbox\" checked><label for=\"sk-estimator-id-1\" class=\"sk-toggleable__label sk-toggleable__label-arrow\">LinearRegression</label><div class=\"sk-toggleable__content\"><pre>LinearRegression()</pre></div></div></div></div></div>"
      ],
      "text/plain": [
       "LinearRegression()"
      ]
     },
     "execution_count": 24,
     "metadata": {},
     "output_type": "execute_result"
    }
   ],
   "source": [
    "model_LR = LinearRegression()\n",
    "model_LR.fit(X_train_E,y_train_E)"
   ]
  },
  {
   "cell_type": "markdown",
   "id": "171a9d93",
   "metadata": {
    "papermill": {
     "duration": 0.050863,
     "end_time": "2024-03-29T17:39:29.366383",
     "exception": false,
     "start_time": "2024-03-29T17:39:29.315520",
     "status": "completed"
    },
    "tags": []
   },
   "source": [
    "### *evaluation*"
   ]
  },
  {
   "cell_type": "code",
   "execution_count": 25,
   "id": "e347ab86",
   "metadata": {
    "execution": {
     "iopub.execute_input": "2024-03-29T17:39:29.436212Z",
     "iopub.status.busy": "2024-03-29T17:39:29.435384Z",
     "iopub.status.idle": "2024-03-29T17:39:29.445588Z",
     "shell.execute_reply": "2024-03-29T17:39:29.444474Z"
    },
    "papermill": {
     "duration": 0.04788,
     "end_time": "2024-03-29T17:39:29.448340",
     "exception": false,
     "start_time": "2024-03-29T17:39:29.400460",
     "status": "completed"
    },
    "tags": []
   },
   "outputs": [
    {
     "name": "stdout",
     "output_type": "stream",
     "text": [
      "RMSE : 17.01804\n",
      "R2 : 0.96327\n"
     ]
    }
   ],
   "source": [
    "pred_LR = model_LR.predict(X_test_E)\n",
    "RMSE_L  = mean_squared_error(y_test_E, pred_LR) ** 0.5\n",
    "R2_L = r2_score(y_test_E, pred_LR)\n",
    "\n",
    "print(\"RMSE :\",round(RMSE_L,5))\n",
    "print(\"R2 :\",round(R2_L,5))"
   ]
  },
  {
   "cell_type": "markdown",
   "id": "3ac94a09",
   "metadata": {
    "papermill": {
     "duration": 0.033323,
     "end_time": "2024-03-29T17:39:29.514771",
     "exception": false,
     "start_time": "2024-03-29T17:39:29.481448",
     "status": "completed"
    },
    "tags": []
   },
   "source": [
    "> # Linear Regression : Base MSRP"
   ]
  },
  {
   "cell_type": "markdown",
   "id": "f8dfd4c8",
   "metadata": {
    "papermill": {
     "duration": 0.032428,
     "end_time": "2024-03-29T17:39:29.580147",
     "exception": false,
     "start_time": "2024-03-29T17:39:29.547719",
     "status": "completed"
    },
    "tags": []
   },
   "source": [
    "### *Modeling*"
   ]
  },
  {
   "cell_type": "code",
   "execution_count": 26,
   "id": "ea202f4b",
   "metadata": {
    "execution": {
     "iopub.execute_input": "2024-03-29T17:39:29.649869Z",
     "iopub.status.busy": "2024-03-29T17:39:29.649477Z",
     "iopub.status.idle": "2024-03-29T17:39:29.664983Z",
     "shell.execute_reply": "2024-03-29T17:39:29.663419Z"
    },
    "papermill": {
     "duration": 0.054436,
     "end_time": "2024-03-29T17:39:29.669389",
     "exception": false,
     "start_time": "2024-03-29T17:39:29.614953",
     "status": "completed"
    },
    "tags": []
   },
   "outputs": [
    {
     "data": {
      "text/html": [
       "<style>#sk-container-id-2 {color: black;background-color: white;}#sk-container-id-2 pre{padding: 0;}#sk-container-id-2 div.sk-toggleable {background-color: white;}#sk-container-id-2 label.sk-toggleable__label {cursor: pointer;display: block;width: 100%;margin-bottom: 0;padding: 0.3em;box-sizing: border-box;text-align: center;}#sk-container-id-2 label.sk-toggleable__label-arrow:before {content: \"▸\";float: left;margin-right: 0.25em;color: #696969;}#sk-container-id-2 label.sk-toggleable__label-arrow:hover:before {color: black;}#sk-container-id-2 div.sk-estimator:hover label.sk-toggleable__label-arrow:before {color: black;}#sk-container-id-2 div.sk-toggleable__content {max-height: 0;max-width: 0;overflow: hidden;text-align: left;background-color: #f0f8ff;}#sk-container-id-2 div.sk-toggleable__content pre {margin: 0.2em;color: black;border-radius: 0.25em;background-color: #f0f8ff;}#sk-container-id-2 input.sk-toggleable__control:checked~div.sk-toggleable__content {max-height: 200px;max-width: 100%;overflow: auto;}#sk-container-id-2 input.sk-toggleable__control:checked~label.sk-toggleable__label-arrow:before {content: \"▾\";}#sk-container-id-2 div.sk-estimator input.sk-toggleable__control:checked~label.sk-toggleable__label {background-color: #d4ebff;}#sk-container-id-2 div.sk-label input.sk-toggleable__control:checked~label.sk-toggleable__label {background-color: #d4ebff;}#sk-container-id-2 input.sk-hidden--visually {border: 0;clip: rect(1px 1px 1px 1px);clip: rect(1px, 1px, 1px, 1px);height: 1px;margin: -1px;overflow: hidden;padding: 0;position: absolute;width: 1px;}#sk-container-id-2 div.sk-estimator {font-family: monospace;background-color: #f0f8ff;border: 1px dotted black;border-radius: 0.25em;box-sizing: border-box;margin-bottom: 0.5em;}#sk-container-id-2 div.sk-estimator:hover {background-color: #d4ebff;}#sk-container-id-2 div.sk-parallel-item::after {content: \"\";width: 100%;border-bottom: 1px solid gray;flex-grow: 1;}#sk-container-id-2 div.sk-label:hover label.sk-toggleable__label {background-color: #d4ebff;}#sk-container-id-2 div.sk-serial::before {content: \"\";position: absolute;border-left: 1px solid gray;box-sizing: border-box;top: 0;bottom: 0;left: 50%;z-index: 0;}#sk-container-id-2 div.sk-serial {display: flex;flex-direction: column;align-items: center;background-color: white;padding-right: 0.2em;padding-left: 0.2em;position: relative;}#sk-container-id-2 div.sk-item {position: relative;z-index: 1;}#sk-container-id-2 div.sk-parallel {display: flex;align-items: stretch;justify-content: center;background-color: white;position: relative;}#sk-container-id-2 div.sk-item::before, #sk-container-id-2 div.sk-parallel-item::before {content: \"\";position: absolute;border-left: 1px solid gray;box-sizing: border-box;top: 0;bottom: 0;left: 50%;z-index: -1;}#sk-container-id-2 div.sk-parallel-item {display: flex;flex-direction: column;z-index: 1;position: relative;background-color: white;}#sk-container-id-2 div.sk-parallel-item:first-child::after {align-self: flex-end;width: 50%;}#sk-container-id-2 div.sk-parallel-item:last-child::after {align-self: flex-start;width: 50%;}#sk-container-id-2 div.sk-parallel-item:only-child::after {width: 0;}#sk-container-id-2 div.sk-dashed-wrapped {border: 1px dashed gray;margin: 0 0.4em 0.5em 0.4em;box-sizing: border-box;padding-bottom: 0.4em;background-color: white;}#sk-container-id-2 div.sk-label label {font-family: monospace;font-weight: bold;display: inline-block;line-height: 1.2em;}#sk-container-id-2 div.sk-label-container {text-align: center;}#sk-container-id-2 div.sk-container {/* jupyter's `normalize.less` sets `[hidden] { display: none; }` but bootstrap.min.css set `[hidden] { display: none !important; }` so we also need the `!important` here to be able to override the default hidden behavior on the sphinx rendered scikit-learn.org. See: https://github.com/scikit-learn/scikit-learn/issues/21755 */display: inline-block !important;position: relative;}#sk-container-id-2 div.sk-text-repr-fallback {display: none;}</style><div id=\"sk-container-id-2\" class=\"sk-top-container\"><div class=\"sk-text-repr-fallback\"><pre>LinearRegression()</pre><b>In a Jupyter environment, please rerun this cell to show the HTML representation or trust the notebook. <br />On GitHub, the HTML representation is unable to render, please try loading this page with nbviewer.org.</b></div><div class=\"sk-container\" hidden><div class=\"sk-item\"><div class=\"sk-estimator sk-toggleable\"><input class=\"sk-toggleable__control sk-hidden--visually\" id=\"sk-estimator-id-2\" type=\"checkbox\" checked><label for=\"sk-estimator-id-2\" class=\"sk-toggleable__label sk-toggleable__label-arrow\">LinearRegression</label><div class=\"sk-toggleable__content\"><pre>LinearRegression()</pre></div></div></div></div></div>"
      ],
      "text/plain": [
       "LinearRegression()"
      ]
     },
     "execution_count": 26,
     "metadata": {},
     "output_type": "execute_result"
    }
   ],
   "source": [
    "model_LR2 = LinearRegression()\n",
    "model_LR2.fit(X_train_B,y_train_B)"
   ]
  },
  {
   "cell_type": "markdown",
   "id": "d060366a",
   "metadata": {
    "papermill": {
     "duration": 0.052382,
     "end_time": "2024-03-29T17:39:29.793082",
     "exception": false,
     "start_time": "2024-03-29T17:39:29.740700",
     "status": "completed"
    },
    "tags": []
   },
   "source": [
    "### *evaluation*"
   ]
  },
  {
   "cell_type": "code",
   "execution_count": 27,
   "id": "a3d99cbf",
   "metadata": {
    "execution": {
     "iopub.execute_input": "2024-03-29T17:39:29.861195Z",
     "iopub.status.busy": "2024-03-29T17:39:29.860688Z",
     "iopub.status.idle": "2024-03-29T17:39:29.872184Z",
     "shell.execute_reply": "2024-03-29T17:39:29.871137Z"
    },
    "papermill": {
     "duration": 0.048836,
     "end_time": "2024-03-29T17:39:29.874987",
     "exception": false,
     "start_time": "2024-03-29T17:39:29.826151",
     "status": "completed"
    },
    "tags": []
   },
   "outputs": [
    {
     "name": "stdout",
     "output_type": "stream",
     "text": [
      "RMSE : 9737.60925\n",
      "R2 : 0.67178\n"
     ]
    }
   ],
   "source": [
    "pred_LR2 = model_LR2.predict(X_test_B)\n",
    "RMSE_L2  = mean_squared_error(y_test_B, pred_LR2) ** 0.5\n",
    "R2_L2 = r2_score(y_test_B, pred_LR2)\n",
    "\n",
    "print(\"RMSE :\",round(RMSE_L2,5))\n",
    "print(\"R2 :\",round(R2_L2,5))"
   ]
  },
  {
   "cell_type": "markdown",
   "id": "cb458633",
   "metadata": {
    "papermill": {
     "duration": 0.033026,
     "end_time": "2024-03-29T17:39:29.942391",
     "exception": false,
     "start_time": "2024-03-29T17:39:29.909365",
     "status": "completed"
    },
    "tags": []
   },
   "source": [
    "> # Random Forest : Electric Range"
   ]
  },
  {
   "cell_type": "markdown",
   "id": "e9d3e847",
   "metadata": {
    "papermill": {
     "duration": 0.033551,
     "end_time": "2024-03-29T17:39:30.009948",
     "exception": false,
     "start_time": "2024-03-29T17:39:29.976397",
     "status": "completed"
    },
    "tags": []
   },
   "source": [
    "### *Modeling*"
   ]
  },
  {
   "cell_type": "code",
   "execution_count": 28,
   "id": "3db52d8a",
   "metadata": {
    "execution": {
     "iopub.execute_input": "2024-03-29T17:39:30.080143Z",
     "iopub.status.busy": "2024-03-29T17:39:30.078834Z",
     "iopub.status.idle": "2024-03-29T17:39:30.458450Z",
     "shell.execute_reply": "2024-03-29T17:39:30.457125Z"
    },
    "papermill": {
     "duration": 0.416663,
     "end_time": "2024-03-29T17:39:30.460805",
     "exception": false,
     "start_time": "2024-03-29T17:39:30.044142",
     "status": "completed"
    },
    "tags": []
   },
   "outputs": [
    {
     "data": {
      "text/html": [
       "<style>#sk-container-id-3 {color: black;background-color: white;}#sk-container-id-3 pre{padding: 0;}#sk-container-id-3 div.sk-toggleable {background-color: white;}#sk-container-id-3 label.sk-toggleable__label {cursor: pointer;display: block;width: 100%;margin-bottom: 0;padding: 0.3em;box-sizing: border-box;text-align: center;}#sk-container-id-3 label.sk-toggleable__label-arrow:before {content: \"▸\";float: left;margin-right: 0.25em;color: #696969;}#sk-container-id-3 label.sk-toggleable__label-arrow:hover:before {color: black;}#sk-container-id-3 div.sk-estimator:hover label.sk-toggleable__label-arrow:before {color: black;}#sk-container-id-3 div.sk-toggleable__content {max-height: 0;max-width: 0;overflow: hidden;text-align: left;background-color: #f0f8ff;}#sk-container-id-3 div.sk-toggleable__content pre {margin: 0.2em;color: black;border-radius: 0.25em;background-color: #f0f8ff;}#sk-container-id-3 input.sk-toggleable__control:checked~div.sk-toggleable__content {max-height: 200px;max-width: 100%;overflow: auto;}#sk-container-id-3 input.sk-toggleable__control:checked~label.sk-toggleable__label-arrow:before {content: \"▾\";}#sk-container-id-3 div.sk-estimator input.sk-toggleable__control:checked~label.sk-toggleable__label {background-color: #d4ebff;}#sk-container-id-3 div.sk-label input.sk-toggleable__control:checked~label.sk-toggleable__label {background-color: #d4ebff;}#sk-container-id-3 input.sk-hidden--visually {border: 0;clip: rect(1px 1px 1px 1px);clip: rect(1px, 1px, 1px, 1px);height: 1px;margin: -1px;overflow: hidden;padding: 0;position: absolute;width: 1px;}#sk-container-id-3 div.sk-estimator {font-family: monospace;background-color: #f0f8ff;border: 1px dotted black;border-radius: 0.25em;box-sizing: border-box;margin-bottom: 0.5em;}#sk-container-id-3 div.sk-estimator:hover {background-color: #d4ebff;}#sk-container-id-3 div.sk-parallel-item::after {content: \"\";width: 100%;border-bottom: 1px solid gray;flex-grow: 1;}#sk-container-id-3 div.sk-label:hover label.sk-toggleable__label {background-color: #d4ebff;}#sk-container-id-3 div.sk-serial::before {content: \"\";position: absolute;border-left: 1px solid gray;box-sizing: border-box;top: 0;bottom: 0;left: 50%;z-index: 0;}#sk-container-id-3 div.sk-serial {display: flex;flex-direction: column;align-items: center;background-color: white;padding-right: 0.2em;padding-left: 0.2em;position: relative;}#sk-container-id-3 div.sk-item {position: relative;z-index: 1;}#sk-container-id-3 div.sk-parallel {display: flex;align-items: stretch;justify-content: center;background-color: white;position: relative;}#sk-container-id-3 div.sk-item::before, #sk-container-id-3 div.sk-parallel-item::before {content: \"\";position: absolute;border-left: 1px solid gray;box-sizing: border-box;top: 0;bottom: 0;left: 50%;z-index: -1;}#sk-container-id-3 div.sk-parallel-item {display: flex;flex-direction: column;z-index: 1;position: relative;background-color: white;}#sk-container-id-3 div.sk-parallel-item:first-child::after {align-self: flex-end;width: 50%;}#sk-container-id-3 div.sk-parallel-item:last-child::after {align-self: flex-start;width: 50%;}#sk-container-id-3 div.sk-parallel-item:only-child::after {width: 0;}#sk-container-id-3 div.sk-dashed-wrapped {border: 1px dashed gray;margin: 0 0.4em 0.5em 0.4em;box-sizing: border-box;padding-bottom: 0.4em;background-color: white;}#sk-container-id-3 div.sk-label label {font-family: monospace;font-weight: bold;display: inline-block;line-height: 1.2em;}#sk-container-id-3 div.sk-label-container {text-align: center;}#sk-container-id-3 div.sk-container {/* jupyter's `normalize.less` sets `[hidden] { display: none; }` but bootstrap.min.css set `[hidden] { display: none !important; }` so we also need the `!important` here to be able to override the default hidden behavior on the sphinx rendered scikit-learn.org. See: https://github.com/scikit-learn/scikit-learn/issues/21755 */display: inline-block !important;position: relative;}#sk-container-id-3 div.sk-text-repr-fallback {display: none;}</style><div id=\"sk-container-id-3\" class=\"sk-top-container\"><div class=\"sk-text-repr-fallback\"><pre>RandomForestRegressor(random_state=100)</pre><b>In a Jupyter environment, please rerun this cell to show the HTML representation or trust the notebook. <br />On GitHub, the HTML representation is unable to render, please try loading this page with nbviewer.org.</b></div><div class=\"sk-container\" hidden><div class=\"sk-item\"><div class=\"sk-estimator sk-toggleable\"><input class=\"sk-toggleable__control sk-hidden--visually\" id=\"sk-estimator-id-3\" type=\"checkbox\" checked><label for=\"sk-estimator-id-3\" class=\"sk-toggleable__label sk-toggleable__label-arrow\">RandomForestRegressor</label><div class=\"sk-toggleable__content\"><pre>RandomForestRegressor(random_state=100)</pre></div></div></div></div></div>"
      ],
      "text/plain": [
       "RandomForestRegressor(random_state=100)"
      ]
     },
     "execution_count": 28,
     "metadata": {},
     "output_type": "execute_result"
    }
   ],
   "source": [
    "model_RF = RandomForestRegressor(random_state=100)\n",
    "model_RF.fit(X_train_E,y_train_E)"
   ]
  },
  {
   "cell_type": "markdown",
   "id": "fed85b98",
   "metadata": {
    "papermill": {
     "duration": 0.033158,
     "end_time": "2024-03-29T17:39:30.528569",
     "exception": false,
     "start_time": "2024-03-29T17:39:30.495411",
     "status": "completed"
    },
    "tags": []
   },
   "source": [
    "### *evaluation*"
   ]
  },
  {
   "cell_type": "code",
   "execution_count": 29,
   "id": "021b0910",
   "metadata": {
    "execution": {
     "iopub.execute_input": "2024-03-29T17:39:30.598988Z",
     "iopub.status.busy": "2024-03-29T17:39:30.597844Z",
     "iopub.status.idle": "2024-03-29T17:39:30.634305Z",
     "shell.execute_reply": "2024-03-29T17:39:30.632934Z"
    },
    "papermill": {
     "duration": 0.075147,
     "end_time": "2024-03-29T17:39:30.637111",
     "exception": false,
     "start_time": "2024-03-29T17:39:30.561964",
     "status": "completed"
    },
    "tags": []
   },
   "outputs": [
    {
     "name": "stdout",
     "output_type": "stream",
     "text": [
      "Train_RMSE : 1.05\n",
      "Test_RMSE : 2.85\n"
     ]
    }
   ],
   "source": [
    "train_pred = model_RF.predict(X_train_E)\n",
    "test_pred = model_RF.predict(X_test_E)\n",
    "Train_RMSE = mean_squared_error(y_train_E, train_pred) ** 0.5\n",
    "Test_RMSE = mean_squared_error(y_test_E, test_pred) ** 0.5\n",
    "\n",
    "print(\"Train_RMSE :\",round(Train_RMSE,2))\n",
    "print(\"Test_RMSE :\",round(Test_RMSE,2))"
   ]
  },
  {
   "cell_type": "markdown",
   "id": "eb39e3b4",
   "metadata": {
    "papermill": {
     "duration": 0.034105,
     "end_time": "2024-03-29T17:39:30.704609",
     "exception": false,
     "start_time": "2024-03-29T17:39:30.670504",
     "status": "completed"
    },
    "tags": []
   },
   "source": [
    "> # Random Forest : Base MSRP"
   ]
  },
  {
   "cell_type": "markdown",
   "id": "1d2fa197",
   "metadata": {
    "papermill": {
     "duration": 0.033198,
     "end_time": "2024-03-29T17:39:30.771875",
     "exception": false,
     "start_time": "2024-03-29T17:39:30.738677",
     "status": "completed"
    },
    "tags": []
   },
   "source": [
    "### *Modeling*"
   ]
  },
  {
   "cell_type": "code",
   "execution_count": 30,
   "id": "7670fe42",
   "metadata": {
    "execution": {
     "iopub.execute_input": "2024-03-29T17:39:30.842415Z",
     "iopub.status.busy": "2024-03-29T17:39:30.841692Z",
     "iopub.status.idle": "2024-03-29T17:39:31.225644Z",
     "shell.execute_reply": "2024-03-29T17:39:31.224860Z"
    },
    "papermill": {
     "duration": 0.42155,
     "end_time": "2024-03-29T17:39:31.227790",
     "exception": false,
     "start_time": "2024-03-29T17:39:30.806240",
     "status": "completed"
    },
    "tags": []
   },
   "outputs": [
    {
     "data": {
      "text/html": [
       "<style>#sk-container-id-4 {color: black;background-color: white;}#sk-container-id-4 pre{padding: 0;}#sk-container-id-4 div.sk-toggleable {background-color: white;}#sk-container-id-4 label.sk-toggleable__label {cursor: pointer;display: block;width: 100%;margin-bottom: 0;padding: 0.3em;box-sizing: border-box;text-align: center;}#sk-container-id-4 label.sk-toggleable__label-arrow:before {content: \"▸\";float: left;margin-right: 0.25em;color: #696969;}#sk-container-id-4 label.sk-toggleable__label-arrow:hover:before {color: black;}#sk-container-id-4 div.sk-estimator:hover label.sk-toggleable__label-arrow:before {color: black;}#sk-container-id-4 div.sk-toggleable__content {max-height: 0;max-width: 0;overflow: hidden;text-align: left;background-color: #f0f8ff;}#sk-container-id-4 div.sk-toggleable__content pre {margin: 0.2em;color: black;border-radius: 0.25em;background-color: #f0f8ff;}#sk-container-id-4 input.sk-toggleable__control:checked~div.sk-toggleable__content {max-height: 200px;max-width: 100%;overflow: auto;}#sk-container-id-4 input.sk-toggleable__control:checked~label.sk-toggleable__label-arrow:before {content: \"▾\";}#sk-container-id-4 div.sk-estimator input.sk-toggleable__control:checked~label.sk-toggleable__label {background-color: #d4ebff;}#sk-container-id-4 div.sk-label input.sk-toggleable__control:checked~label.sk-toggleable__label {background-color: #d4ebff;}#sk-container-id-4 input.sk-hidden--visually {border: 0;clip: rect(1px 1px 1px 1px);clip: rect(1px, 1px, 1px, 1px);height: 1px;margin: -1px;overflow: hidden;padding: 0;position: absolute;width: 1px;}#sk-container-id-4 div.sk-estimator {font-family: monospace;background-color: #f0f8ff;border: 1px dotted black;border-radius: 0.25em;box-sizing: border-box;margin-bottom: 0.5em;}#sk-container-id-4 div.sk-estimator:hover {background-color: #d4ebff;}#sk-container-id-4 div.sk-parallel-item::after {content: \"\";width: 100%;border-bottom: 1px solid gray;flex-grow: 1;}#sk-container-id-4 div.sk-label:hover label.sk-toggleable__label {background-color: #d4ebff;}#sk-container-id-4 div.sk-serial::before {content: \"\";position: absolute;border-left: 1px solid gray;box-sizing: border-box;top: 0;bottom: 0;left: 50%;z-index: 0;}#sk-container-id-4 div.sk-serial {display: flex;flex-direction: column;align-items: center;background-color: white;padding-right: 0.2em;padding-left: 0.2em;position: relative;}#sk-container-id-4 div.sk-item {position: relative;z-index: 1;}#sk-container-id-4 div.sk-parallel {display: flex;align-items: stretch;justify-content: center;background-color: white;position: relative;}#sk-container-id-4 div.sk-item::before, #sk-container-id-4 div.sk-parallel-item::before {content: \"\";position: absolute;border-left: 1px solid gray;box-sizing: border-box;top: 0;bottom: 0;left: 50%;z-index: -1;}#sk-container-id-4 div.sk-parallel-item {display: flex;flex-direction: column;z-index: 1;position: relative;background-color: white;}#sk-container-id-4 div.sk-parallel-item:first-child::after {align-self: flex-end;width: 50%;}#sk-container-id-4 div.sk-parallel-item:last-child::after {align-self: flex-start;width: 50%;}#sk-container-id-4 div.sk-parallel-item:only-child::after {width: 0;}#sk-container-id-4 div.sk-dashed-wrapped {border: 1px dashed gray;margin: 0 0.4em 0.5em 0.4em;box-sizing: border-box;padding-bottom: 0.4em;background-color: white;}#sk-container-id-4 div.sk-label label {font-family: monospace;font-weight: bold;display: inline-block;line-height: 1.2em;}#sk-container-id-4 div.sk-label-container {text-align: center;}#sk-container-id-4 div.sk-container {/* jupyter's `normalize.less` sets `[hidden] { display: none; }` but bootstrap.min.css set `[hidden] { display: none !important; }` so we also need the `!important` here to be able to override the default hidden behavior on the sphinx rendered scikit-learn.org. See: https://github.com/scikit-learn/scikit-learn/issues/21755 */display: inline-block !important;position: relative;}#sk-container-id-4 div.sk-text-repr-fallback {display: none;}</style><div id=\"sk-container-id-4\" class=\"sk-top-container\"><div class=\"sk-text-repr-fallback\"><pre>RandomForestRegressor(random_state=100)</pre><b>In a Jupyter environment, please rerun this cell to show the HTML representation or trust the notebook. <br />On GitHub, the HTML representation is unable to render, please try loading this page with nbviewer.org.</b></div><div class=\"sk-container\" hidden><div class=\"sk-item\"><div class=\"sk-estimator sk-toggleable\"><input class=\"sk-toggleable__control sk-hidden--visually\" id=\"sk-estimator-id-4\" type=\"checkbox\" checked><label for=\"sk-estimator-id-4\" class=\"sk-toggleable__label sk-toggleable__label-arrow\">RandomForestRegressor</label><div class=\"sk-toggleable__content\"><pre>RandomForestRegressor(random_state=100)</pre></div></div></div></div></div>"
      ],
      "text/plain": [
       "RandomForestRegressor(random_state=100)"
      ]
     },
     "execution_count": 30,
     "metadata": {},
     "output_type": "execute_result"
    }
   ],
   "source": [
    "model_RF2 = RandomForestRegressor(random_state=100)\n",
    "model_RF2.fit(X_train_B,y_train_B)"
   ]
  },
  {
   "cell_type": "markdown",
   "id": "b68c5b96",
   "metadata": {
    "papermill": {
     "duration": 0.033926,
     "end_time": "2024-03-29T17:39:31.296012",
     "exception": false,
     "start_time": "2024-03-29T17:39:31.262086",
     "status": "completed"
    },
    "tags": []
   },
   "source": [
    "### *evaluation*"
   ]
  },
  {
   "cell_type": "code",
   "execution_count": 31,
   "id": "160e8d8d",
   "metadata": {
    "execution": {
     "iopub.execute_input": "2024-03-29T17:39:31.366801Z",
     "iopub.status.busy": "2024-03-29T17:39:31.366115Z",
     "iopub.status.idle": "2024-03-29T17:39:31.402783Z",
     "shell.execute_reply": "2024-03-29T17:39:31.401233Z"
    },
    "papermill": {
     "duration": 0.075143,
     "end_time": "2024-03-29T17:39:31.405312",
     "exception": false,
     "start_time": "2024-03-29T17:39:31.330169",
     "status": "completed"
    },
    "tags": []
   },
   "outputs": [
    {
     "name": "stdout",
     "output_type": "stream",
     "text": [
      "Train_RMSE : 528.63\n",
      "Test_RMSE : 1607.44\n"
     ]
    }
   ],
   "source": [
    "train_pred2 = model_RF2.predict(X_train_B)\n",
    "test_pred2 = model_RF2.predict(X_test_B)\n",
    "Train_RMSE2 = mean_squared_error(y_train_B, train_pred2) ** 0.5\n",
    "Test_RMSE2 = mean_squared_error(y_test_B, test_pred2) ** 0.5\n",
    "\n",
    "print(\"Train_RMSE :\",round(Train_RMSE2,2))\n",
    "print(\"Test_RMSE :\",round(Test_RMSE2,2))"
   ]
  },
  {
   "cell_type": "markdown",
   "id": "2f342ce8",
   "metadata": {
    "papermill": {
     "duration": 0.033538,
     "end_time": "2024-03-29T17:39:31.473973",
     "exception": false,
     "start_time": "2024-03-29T17:39:31.440435",
     "status": "completed"
    },
    "tags": []
   },
   "source": [
    "> # XGBoost : Electric Range"
   ]
  },
  {
   "cell_type": "markdown",
   "id": "a3aa8ac0",
   "metadata": {
    "papermill": {
     "duration": 0.034741,
     "end_time": "2024-03-29T17:39:31.543700",
     "exception": false,
     "start_time": "2024-03-29T17:39:31.508959",
     "status": "completed"
    },
    "tags": []
   },
   "source": [
    "### *Modeling*"
   ]
  },
  {
   "cell_type": "code",
   "execution_count": 32,
   "id": "cf77e7f6",
   "metadata": {
    "execution": {
     "iopub.execute_input": "2024-03-29T17:39:31.614355Z",
     "iopub.status.busy": "2024-03-29T17:39:31.613677Z",
     "iopub.status.idle": "2024-03-29T17:39:31.806904Z",
     "shell.execute_reply": "2024-03-29T17:39:31.805864Z"
    },
    "papermill": {
     "duration": 0.231552,
     "end_time": "2024-03-29T17:39:31.809271",
     "exception": false,
     "start_time": "2024-03-29T17:39:31.577719",
     "status": "completed"
    },
    "tags": []
   },
   "outputs": [
    {
     "data": {
      "text/html": [
       "<style>#sk-container-id-5 {color: black;background-color: white;}#sk-container-id-5 pre{padding: 0;}#sk-container-id-5 div.sk-toggleable {background-color: white;}#sk-container-id-5 label.sk-toggleable__label {cursor: pointer;display: block;width: 100%;margin-bottom: 0;padding: 0.3em;box-sizing: border-box;text-align: center;}#sk-container-id-5 label.sk-toggleable__label-arrow:before {content: \"▸\";float: left;margin-right: 0.25em;color: #696969;}#sk-container-id-5 label.sk-toggleable__label-arrow:hover:before {color: black;}#sk-container-id-5 div.sk-estimator:hover label.sk-toggleable__label-arrow:before {color: black;}#sk-container-id-5 div.sk-toggleable__content {max-height: 0;max-width: 0;overflow: hidden;text-align: left;background-color: #f0f8ff;}#sk-container-id-5 div.sk-toggleable__content pre {margin: 0.2em;color: black;border-radius: 0.25em;background-color: #f0f8ff;}#sk-container-id-5 input.sk-toggleable__control:checked~div.sk-toggleable__content {max-height: 200px;max-width: 100%;overflow: auto;}#sk-container-id-5 input.sk-toggleable__control:checked~label.sk-toggleable__label-arrow:before {content: \"▾\";}#sk-container-id-5 div.sk-estimator input.sk-toggleable__control:checked~label.sk-toggleable__label {background-color: #d4ebff;}#sk-container-id-5 div.sk-label input.sk-toggleable__control:checked~label.sk-toggleable__label {background-color: #d4ebff;}#sk-container-id-5 input.sk-hidden--visually {border: 0;clip: rect(1px 1px 1px 1px);clip: rect(1px, 1px, 1px, 1px);height: 1px;margin: -1px;overflow: hidden;padding: 0;position: absolute;width: 1px;}#sk-container-id-5 div.sk-estimator {font-family: monospace;background-color: #f0f8ff;border: 1px dotted black;border-radius: 0.25em;box-sizing: border-box;margin-bottom: 0.5em;}#sk-container-id-5 div.sk-estimator:hover {background-color: #d4ebff;}#sk-container-id-5 div.sk-parallel-item::after {content: \"\";width: 100%;border-bottom: 1px solid gray;flex-grow: 1;}#sk-container-id-5 div.sk-label:hover label.sk-toggleable__label {background-color: #d4ebff;}#sk-container-id-5 div.sk-serial::before {content: \"\";position: absolute;border-left: 1px solid gray;box-sizing: border-box;top: 0;bottom: 0;left: 50%;z-index: 0;}#sk-container-id-5 div.sk-serial {display: flex;flex-direction: column;align-items: center;background-color: white;padding-right: 0.2em;padding-left: 0.2em;position: relative;}#sk-container-id-5 div.sk-item {position: relative;z-index: 1;}#sk-container-id-5 div.sk-parallel {display: flex;align-items: stretch;justify-content: center;background-color: white;position: relative;}#sk-container-id-5 div.sk-item::before, #sk-container-id-5 div.sk-parallel-item::before {content: \"\";position: absolute;border-left: 1px solid gray;box-sizing: border-box;top: 0;bottom: 0;left: 50%;z-index: -1;}#sk-container-id-5 div.sk-parallel-item {display: flex;flex-direction: column;z-index: 1;position: relative;background-color: white;}#sk-container-id-5 div.sk-parallel-item:first-child::after {align-self: flex-end;width: 50%;}#sk-container-id-5 div.sk-parallel-item:last-child::after {align-self: flex-start;width: 50%;}#sk-container-id-5 div.sk-parallel-item:only-child::after {width: 0;}#sk-container-id-5 div.sk-dashed-wrapped {border: 1px dashed gray;margin: 0 0.4em 0.5em 0.4em;box-sizing: border-box;padding-bottom: 0.4em;background-color: white;}#sk-container-id-5 div.sk-label label {font-family: monospace;font-weight: bold;display: inline-block;line-height: 1.2em;}#sk-container-id-5 div.sk-label-container {text-align: center;}#sk-container-id-5 div.sk-container {/* jupyter's `normalize.less` sets `[hidden] { display: none; }` but bootstrap.min.css set `[hidden] { display: none !important; }` so we also need the `!important` here to be able to override the default hidden behavior on the sphinx rendered scikit-learn.org. See: https://github.com/scikit-learn/scikit-learn/issues/21755 */display: inline-block !important;position: relative;}#sk-container-id-5 div.sk-text-repr-fallback {display: none;}</style><div id=\"sk-container-id-5\" class=\"sk-top-container\"><div class=\"sk-text-repr-fallback\"><pre>XGBRegressor(alpha=10, base_score=None, booster=None, callbacks=None,\n",
       "             colsample_bylevel=None, colsample_bynode=None,\n",
       "             colsample_bytree=0.3, device=None, early_stopping_rounds=None,\n",
       "             enable_categorical=False, eval_metric=None, feature_types=None,\n",
       "             gamma=None, grow_policy=None, importance_type=None,\n",
       "             interaction_constraints=None, learning_rate=0.1, max_bin=None,\n",
       "             max_cat_threshold=None, max_cat_to_onehot=None,\n",
       "             max_delta_step=None, max_depth=5, max_leaves=None,\n",
       "             min_child_weight=None, missing=nan, monotone_constraints=None,\n",
       "             multi_strategy=None, n_estimators=100, n_jobs=None,\n",
       "             num_parallel_tree=None, ...)</pre><b>In a Jupyter environment, please rerun this cell to show the HTML representation or trust the notebook. <br />On GitHub, the HTML representation is unable to render, please try loading this page with nbviewer.org.</b></div><div class=\"sk-container\" hidden><div class=\"sk-item\"><div class=\"sk-estimator sk-toggleable\"><input class=\"sk-toggleable__control sk-hidden--visually\" id=\"sk-estimator-id-5\" type=\"checkbox\" checked><label for=\"sk-estimator-id-5\" class=\"sk-toggleable__label sk-toggleable__label-arrow\">XGBRegressor</label><div class=\"sk-toggleable__content\"><pre>XGBRegressor(alpha=10, base_score=None, booster=None, callbacks=None,\n",
       "             colsample_bylevel=None, colsample_bynode=None,\n",
       "             colsample_bytree=0.3, device=None, early_stopping_rounds=None,\n",
       "             enable_categorical=False, eval_metric=None, feature_types=None,\n",
       "             gamma=None, grow_policy=None, importance_type=None,\n",
       "             interaction_constraints=None, learning_rate=0.1, max_bin=None,\n",
       "             max_cat_threshold=None, max_cat_to_onehot=None,\n",
       "             max_delta_step=None, max_depth=5, max_leaves=None,\n",
       "             min_child_weight=None, missing=nan, monotone_constraints=None,\n",
       "             multi_strategy=None, n_estimators=100, n_jobs=None,\n",
       "             num_parallel_tree=None, ...)</pre></div></div></div></div></div>"
      ],
      "text/plain": [
       "XGBRegressor(alpha=10, base_score=None, booster=None, callbacks=None,\n",
       "             colsample_bylevel=None, colsample_bynode=None,\n",
       "             colsample_bytree=0.3, device=None, early_stopping_rounds=None,\n",
       "             enable_categorical=False, eval_metric=None, feature_types=None,\n",
       "             gamma=None, grow_policy=None, importance_type=None,\n",
       "             interaction_constraints=None, learning_rate=0.1, max_bin=None,\n",
       "             max_cat_threshold=None, max_cat_to_onehot=None,\n",
       "             max_delta_step=None, max_depth=5, max_leaves=None,\n",
       "             min_child_weight=None, missing=nan, monotone_constraints=None,\n",
       "             multi_strategy=None, n_estimators=100, n_jobs=None,\n",
       "             num_parallel_tree=None, ...)"
      ]
     },
     "execution_count": 32,
     "metadata": {},
     "output_type": "execute_result"
    }
   ],
   "source": [
    "model_XGB = xgb.XGBRegressor(objective ='reg:squarederror', colsample_bytree = 0.3, learning_rate = 0.1,\n",
    "                max_depth = 5, alpha = 10, n_estimators = 100)\n",
    "\n",
    "model_XGB.fit(X_train_E, y_train_E)"
   ]
  },
  {
   "cell_type": "markdown",
   "id": "2eed1c41",
   "metadata": {
    "papermill": {
     "duration": 0.033775,
     "end_time": "2024-03-29T17:39:31.882194",
     "exception": false,
     "start_time": "2024-03-29T17:39:31.848419",
     "status": "completed"
    },
    "tags": []
   },
   "source": [
    "### *evaluation*"
   ]
  },
  {
   "cell_type": "code",
   "execution_count": 33,
   "id": "02edbe16",
   "metadata": {
    "execution": {
     "iopub.execute_input": "2024-03-29T17:39:31.953288Z",
     "iopub.status.busy": "2024-03-29T17:39:31.952075Z",
     "iopub.status.idle": "2024-03-29T17:39:31.981752Z",
     "shell.execute_reply": "2024-03-29T17:39:31.980699Z"
    },
    "papermill": {
     "duration": 0.068476,
     "end_time": "2024-03-29T17:39:31.984634",
     "exception": false,
     "start_time": "2024-03-29T17:39:31.916158",
     "status": "completed"
    },
    "tags": []
   },
   "outputs": [
    {
     "name": "stdout",
     "output_type": "stream",
     "text": [
      "RMSE : 0.70352\n",
      "R2 : 0.99994\n"
     ]
    }
   ],
   "source": [
    "pred_XGB = model_XGB.predict(X_test_E)\n",
    "\n",
    "RMSE_XGB = mean_squared_error(y_test_E, pred_XGB) ** 0.5\n",
    "R2_XGB = r2_score(y_test_E, pred_XGB)\n",
    "\n",
    "print(\"RMSE :\",round(RMSE_XGB,5))\n",
    "print(\"R2 :\",round(R2_XGB,5))"
   ]
  },
  {
   "cell_type": "markdown",
   "id": "544183f0",
   "metadata": {
    "papermill": {
     "duration": 0.033933,
     "end_time": "2024-03-29T17:39:32.052869",
     "exception": false,
     "start_time": "2024-03-29T17:39:32.018936",
     "status": "completed"
    },
    "tags": []
   },
   "source": [
    "### *Grid Search*"
   ]
  },
  {
   "cell_type": "code",
   "execution_count": 34,
   "id": "3bbfbb90",
   "metadata": {
    "execution": {
     "iopub.execute_input": "2024-03-29T17:39:32.124149Z",
     "iopub.status.busy": "2024-03-29T17:39:32.123746Z",
     "iopub.status.idle": "2024-03-29T17:41:54.095626Z",
     "shell.execute_reply": "2024-03-29T17:41:54.094264Z"
    },
    "papermill": {
     "duration": 142.040225,
     "end_time": "2024-03-29T17:41:54.128262",
     "exception": false,
     "start_time": "2024-03-29T17:39:32.088037",
     "status": "completed"
    },
    "tags": []
   },
   "outputs": [
    {
     "name": "stdout",
     "output_type": "stream",
     "text": [
      "Best Parameters: {'learning_rate': 0.1, 'max_depth': 5, 'n_estimators': 1000, 'subsample': 0.7}\n"
     ]
    }
   ],
   "source": [
    "param_grid = {\n",
    "    'learning_rate':[0.01,0.1,0.3],\n",
    "    'max_depth':[5,7,10],         \n",
    "    'subsample':[0.5,0.7,1],\n",
    "    'n_estimators':[300,500,1000]\n",
    "}\n",
    "                    \n",
    "score = make_scorer(mean_squared_error, greater_is_better=False)\n",
    "grid_search = GridSearchCV(estimator=model_XGB, param_grid=param_grid, scoring=score, cv=5)\n",
    "grid_search.fit(X_train_E, y_train_E)\n",
    "\n",
    "print(\"Best Parameters:\", grid_search.best_params_)"
   ]
  },
  {
   "cell_type": "code",
   "execution_count": 35,
   "id": "de99e86f",
   "metadata": {
    "execution": {
     "iopub.execute_input": "2024-03-29T17:41:54.203402Z",
     "iopub.status.busy": "2024-03-29T17:41:54.202953Z",
     "iopub.status.idle": "2024-03-29T17:41:54.224449Z",
     "shell.execute_reply": "2024-03-29T17:41:54.222961Z"
    },
    "papermill": {
     "duration": 0.061438,
     "end_time": "2024-03-29T17:41:54.226963",
     "exception": false,
     "start_time": "2024-03-29T17:41:54.165525",
     "status": "completed"
    },
    "tags": []
   },
   "outputs": [
    {
     "name": "stdout",
     "output_type": "stream",
     "text": [
      "RMSE : 0.5105\n",
      "R2 : 0.99997\n"
     ]
    }
   ],
   "source": [
    "best_model_XGB = grid_search.best_estimator_\n",
    "best_pred_XGB = best_model_XGB.predict(X_test_E)\n",
    "\n",
    "RMSE_R = mean_squared_error(y_test_E,best_pred_XGB) ** 0.5\n",
    "R2_R = r2_score(y_test_E,best_pred_XGB)\n",
    "\n",
    "print(\"RMSE :\",round(RMSE_R,5))\n",
    "print(\"R2 :\",round(R2_R,5))"
   ]
  },
  {
   "cell_type": "markdown",
   "id": "87a5c7dd",
   "metadata": {
    "papermill": {
     "duration": 0.035308,
     "end_time": "2024-03-29T17:41:54.299514",
     "exception": false,
     "start_time": "2024-03-29T17:41:54.264206",
     "status": "completed"
    },
    "tags": []
   },
   "source": [
    "> # XGBoost : Base MSRP"
   ]
  },
  {
   "cell_type": "markdown",
   "id": "79344b30",
   "metadata": {
    "papermill": {
     "duration": 0.034102,
     "end_time": "2024-03-29T17:41:54.368324",
     "exception": false,
     "start_time": "2024-03-29T17:41:54.334222",
     "status": "completed"
    },
    "tags": []
   },
   "source": [
    "### *Modeling*"
   ]
  },
  {
   "cell_type": "code",
   "execution_count": 36,
   "id": "2c3c2c56",
   "metadata": {
    "execution": {
     "iopub.execute_input": "2024-03-29T17:41:54.440078Z",
     "iopub.status.busy": "2024-03-29T17:41:54.439626Z",
     "iopub.status.idle": "2024-03-29T17:41:54.529199Z",
     "shell.execute_reply": "2024-03-29T17:41:54.528156Z"
    },
    "papermill": {
     "duration": 0.129498,
     "end_time": "2024-03-29T17:41:54.532316",
     "exception": false,
     "start_time": "2024-03-29T17:41:54.402818",
     "status": "completed"
    },
    "tags": []
   },
   "outputs": [
    {
     "data": {
      "text/html": [
       "<style>#sk-container-id-6 {color: black;background-color: white;}#sk-container-id-6 pre{padding: 0;}#sk-container-id-6 div.sk-toggleable {background-color: white;}#sk-container-id-6 label.sk-toggleable__label {cursor: pointer;display: block;width: 100%;margin-bottom: 0;padding: 0.3em;box-sizing: border-box;text-align: center;}#sk-container-id-6 label.sk-toggleable__label-arrow:before {content: \"▸\";float: left;margin-right: 0.25em;color: #696969;}#sk-container-id-6 label.sk-toggleable__label-arrow:hover:before {color: black;}#sk-container-id-6 div.sk-estimator:hover label.sk-toggleable__label-arrow:before {color: black;}#sk-container-id-6 div.sk-toggleable__content {max-height: 0;max-width: 0;overflow: hidden;text-align: left;background-color: #f0f8ff;}#sk-container-id-6 div.sk-toggleable__content pre {margin: 0.2em;color: black;border-radius: 0.25em;background-color: #f0f8ff;}#sk-container-id-6 input.sk-toggleable__control:checked~div.sk-toggleable__content {max-height: 200px;max-width: 100%;overflow: auto;}#sk-container-id-6 input.sk-toggleable__control:checked~label.sk-toggleable__label-arrow:before {content: \"▾\";}#sk-container-id-6 div.sk-estimator input.sk-toggleable__control:checked~label.sk-toggleable__label {background-color: #d4ebff;}#sk-container-id-6 div.sk-label input.sk-toggleable__control:checked~label.sk-toggleable__label {background-color: #d4ebff;}#sk-container-id-6 input.sk-hidden--visually {border: 0;clip: rect(1px 1px 1px 1px);clip: rect(1px, 1px, 1px, 1px);height: 1px;margin: -1px;overflow: hidden;padding: 0;position: absolute;width: 1px;}#sk-container-id-6 div.sk-estimator {font-family: monospace;background-color: #f0f8ff;border: 1px dotted black;border-radius: 0.25em;box-sizing: border-box;margin-bottom: 0.5em;}#sk-container-id-6 div.sk-estimator:hover {background-color: #d4ebff;}#sk-container-id-6 div.sk-parallel-item::after {content: \"\";width: 100%;border-bottom: 1px solid gray;flex-grow: 1;}#sk-container-id-6 div.sk-label:hover label.sk-toggleable__label {background-color: #d4ebff;}#sk-container-id-6 div.sk-serial::before {content: \"\";position: absolute;border-left: 1px solid gray;box-sizing: border-box;top: 0;bottom: 0;left: 50%;z-index: 0;}#sk-container-id-6 div.sk-serial {display: flex;flex-direction: column;align-items: center;background-color: white;padding-right: 0.2em;padding-left: 0.2em;position: relative;}#sk-container-id-6 div.sk-item {position: relative;z-index: 1;}#sk-container-id-6 div.sk-parallel {display: flex;align-items: stretch;justify-content: center;background-color: white;position: relative;}#sk-container-id-6 div.sk-item::before, #sk-container-id-6 div.sk-parallel-item::before {content: \"\";position: absolute;border-left: 1px solid gray;box-sizing: border-box;top: 0;bottom: 0;left: 50%;z-index: -1;}#sk-container-id-6 div.sk-parallel-item {display: flex;flex-direction: column;z-index: 1;position: relative;background-color: white;}#sk-container-id-6 div.sk-parallel-item:first-child::after {align-self: flex-end;width: 50%;}#sk-container-id-6 div.sk-parallel-item:last-child::after {align-self: flex-start;width: 50%;}#sk-container-id-6 div.sk-parallel-item:only-child::after {width: 0;}#sk-container-id-6 div.sk-dashed-wrapped {border: 1px dashed gray;margin: 0 0.4em 0.5em 0.4em;box-sizing: border-box;padding-bottom: 0.4em;background-color: white;}#sk-container-id-6 div.sk-label label {font-family: monospace;font-weight: bold;display: inline-block;line-height: 1.2em;}#sk-container-id-6 div.sk-label-container {text-align: center;}#sk-container-id-6 div.sk-container {/* jupyter's `normalize.less` sets `[hidden] { display: none; }` but bootstrap.min.css set `[hidden] { display: none !important; }` so we also need the `!important` here to be able to override the default hidden behavior on the sphinx rendered scikit-learn.org. See: https://github.com/scikit-learn/scikit-learn/issues/21755 */display: inline-block !important;position: relative;}#sk-container-id-6 div.sk-text-repr-fallback {display: none;}</style><div id=\"sk-container-id-6\" class=\"sk-top-container\"><div class=\"sk-text-repr-fallback\"><pre>XGBRegressor(alpha=10, base_score=None, booster=None, callbacks=None,\n",
       "             colsample_bylevel=None, colsample_bynode=None,\n",
       "             colsample_bytree=0.3, device=None, early_stopping_rounds=None,\n",
       "             enable_categorical=False, eval_metric=None, feature_types=None,\n",
       "             gamma=None, grow_policy=None, importance_type=None,\n",
       "             interaction_constraints=None, learning_rate=0.1, max_bin=None,\n",
       "             max_cat_threshold=None, max_cat_to_onehot=None,\n",
       "             max_delta_step=None, max_depth=5, max_leaves=None,\n",
       "             min_child_weight=None, missing=nan, monotone_constraints=None,\n",
       "             multi_strategy=None, n_estimators=100, n_jobs=None,\n",
       "             num_parallel_tree=None, ...)</pre><b>In a Jupyter environment, please rerun this cell to show the HTML representation or trust the notebook. <br />On GitHub, the HTML representation is unable to render, please try loading this page with nbviewer.org.</b></div><div class=\"sk-container\" hidden><div class=\"sk-item\"><div class=\"sk-estimator sk-toggleable\"><input class=\"sk-toggleable__control sk-hidden--visually\" id=\"sk-estimator-id-6\" type=\"checkbox\" checked><label for=\"sk-estimator-id-6\" class=\"sk-toggleable__label sk-toggleable__label-arrow\">XGBRegressor</label><div class=\"sk-toggleable__content\"><pre>XGBRegressor(alpha=10, base_score=None, booster=None, callbacks=None,\n",
       "             colsample_bylevel=None, colsample_bynode=None,\n",
       "             colsample_bytree=0.3, device=None, early_stopping_rounds=None,\n",
       "             enable_categorical=False, eval_metric=None, feature_types=None,\n",
       "             gamma=None, grow_policy=None, importance_type=None,\n",
       "             interaction_constraints=None, learning_rate=0.1, max_bin=None,\n",
       "             max_cat_threshold=None, max_cat_to_onehot=None,\n",
       "             max_delta_step=None, max_depth=5, max_leaves=None,\n",
       "             min_child_weight=None, missing=nan, monotone_constraints=None,\n",
       "             multi_strategy=None, n_estimators=100, n_jobs=None,\n",
       "             num_parallel_tree=None, ...)</pre></div></div></div></div></div>"
      ],
      "text/plain": [
       "XGBRegressor(alpha=10, base_score=None, booster=None, callbacks=None,\n",
       "             colsample_bylevel=None, colsample_bynode=None,\n",
       "             colsample_bytree=0.3, device=None, early_stopping_rounds=None,\n",
       "             enable_categorical=False, eval_metric=None, feature_types=None,\n",
       "             gamma=None, grow_policy=None, importance_type=None,\n",
       "             interaction_constraints=None, learning_rate=0.1, max_bin=None,\n",
       "             max_cat_threshold=None, max_cat_to_onehot=None,\n",
       "             max_delta_step=None, max_depth=5, max_leaves=None,\n",
       "             min_child_weight=None, missing=nan, monotone_constraints=None,\n",
       "             multi_strategy=None, n_estimators=100, n_jobs=None,\n",
       "             num_parallel_tree=None, ...)"
      ]
     },
     "execution_count": 36,
     "metadata": {},
     "output_type": "execute_result"
    }
   ],
   "source": [
    "model_XGB2 = xgb.XGBRegressor(objective ='reg:squarederror', colsample_bytree = 0.3, learning_rate = 0.1,\n",
    "                max_depth = 5, alpha = 10, n_estimators = 100)\n",
    "\n",
    "model_XGB2.fit(X_train_B, y_train_B)"
   ]
  },
  {
   "cell_type": "markdown",
   "id": "04ba6d98",
   "metadata": {
    "papermill": {
     "duration": 0.035946,
     "end_time": "2024-03-29T17:41:54.604917",
     "exception": false,
     "start_time": "2024-03-29T17:41:54.568971",
     "status": "completed"
    },
    "tags": []
   },
   "source": [
    "### *evaluation*"
   ]
  },
  {
   "cell_type": "code",
   "execution_count": 37,
   "id": "535d2757",
   "metadata": {
    "execution": {
     "iopub.execute_input": "2024-03-29T17:41:54.677208Z",
     "iopub.status.busy": "2024-03-29T17:41:54.675953Z",
     "iopub.status.idle": "2024-03-29T17:41:54.692848Z",
     "shell.execute_reply": "2024-03-29T17:41:54.691920Z"
    },
    "papermill": {
     "duration": 0.055905,
     "end_time": "2024-03-29T17:41:54.695661",
     "exception": false,
     "start_time": "2024-03-29T17:41:54.639756",
     "status": "completed"
    },
    "tags": []
   },
   "outputs": [
    {
     "name": "stdout",
     "output_type": "stream",
     "text": [
      "RMSE : 750.68909\n",
      "R2 : 0.99805\n"
     ]
    }
   ],
   "source": [
    "pred_XGB2 = model_XGB2.predict(X_test_B)\n",
    "\n",
    "RMSE_XGB2 = mean_squared_error(y_test_B, pred_XGB2) ** 0.5\n",
    "R2_XGB2 = r2_score(y_test_B, pred_XGB2)\n",
    "\n",
    "print(\"RMSE :\",round(RMSE_XGB2,5))\n",
    "print(\"R2 :\",round(R2_XGB2,5))"
   ]
  },
  {
   "cell_type": "markdown",
   "id": "fbd5fd38",
   "metadata": {
    "papermill": {
     "duration": 0.034767,
     "end_time": "2024-03-29T17:41:54.766464",
     "exception": false,
     "start_time": "2024-03-29T17:41:54.731697",
     "status": "completed"
    },
    "tags": []
   },
   "source": [
    "### *Grid Search*"
   ]
  },
  {
   "cell_type": "code",
   "execution_count": 38,
   "id": "3a912776",
   "metadata": {
    "execution": {
     "iopub.execute_input": "2024-03-29T17:41:54.840382Z",
     "iopub.status.busy": "2024-03-29T17:41:54.839913Z",
     "iopub.status.idle": "2024-03-29T17:45:25.859443Z",
     "shell.execute_reply": "2024-03-29T17:45:25.858081Z"
    },
    "papermill": {
     "duration": 211.091952,
     "end_time": "2024-03-29T17:45:25.895139",
     "exception": false,
     "start_time": "2024-03-29T17:41:54.803187",
     "status": "completed"
    },
    "tags": []
   },
   "outputs": [
    {
     "name": "stdout",
     "output_type": "stream",
     "text": [
      "Best Parameters: {'learning_rate': 0.3, 'max_depth': 5, 'n_estimators': 1000, 'subsample': 0.7}\n"
     ]
    }
   ],
   "source": [
    "grid_search2 = GridSearchCV(estimator=model_XGB2, param_grid=param_grid, scoring=score, cv=5)\n",
    "grid_search2.fit(X_train_B, y_train_B)\n",
    "\n",
    "print(\"Best Parameters:\", grid_search2.best_params_)"
   ]
  },
  {
   "cell_type": "code",
   "execution_count": 39,
   "id": "d6cc717c",
   "metadata": {
    "execution": {
     "iopub.execute_input": "2024-03-29T17:45:25.968620Z",
     "iopub.status.busy": "2024-03-29T17:45:25.967699Z",
     "iopub.status.idle": "2024-03-29T17:45:25.996066Z",
     "shell.execute_reply": "2024-03-29T17:45:25.994850Z"
    },
    "papermill": {
     "duration": 0.068487,
     "end_time": "2024-03-29T17:45:25.998855",
     "exception": false,
     "start_time": "2024-03-29T17:45:25.930368",
     "status": "completed"
    },
    "tags": []
   },
   "outputs": [
    {
     "name": "stdout",
     "output_type": "stream",
     "text": [
      "RMSE : 535.66758\n",
      "R2 : 0.99901\n"
     ]
    }
   ],
   "source": [
    "best_model_XGB2 = grid_search2.best_estimator_\n",
    "best_pred_XGB2 = best_model_XGB2.predict(X_test_B)\n",
    "\n",
    "RMSE_R2 = mean_squared_error(y_test_B,best_pred_XGB2) ** 0.5\n",
    "R2_R2 = r2_score(y_test_B,best_pred_XGB2)\n",
    "\n",
    "print(\"RMSE :\",round(RMSE_R2,5))\n",
    "print(\"R2 :\",round(R2_R2,5))"
   ]
  },
  {
   "cell_type": "markdown",
   "id": "0fce89ba",
   "metadata": {
    "papermill": {
     "duration": 0.034864,
     "end_time": "2024-03-29T17:45:26.071959",
     "exception": false,
     "start_time": "2024-03-29T17:45:26.037095",
     "status": "completed"
    },
    "tags": []
   },
   "source": [
    "> # LightGBM : Electric Range"
   ]
  },
  {
   "cell_type": "markdown",
   "id": "3df525e6",
   "metadata": {
    "papermill": {
     "duration": 0.035127,
     "end_time": "2024-03-29T17:45:26.142227",
     "exception": false,
     "start_time": "2024-03-29T17:45:26.107100",
     "status": "completed"
    },
    "tags": []
   },
   "source": [
    "### *Modeling*"
   ]
  },
  {
   "cell_type": "code",
   "execution_count": 40,
   "id": "c889a986",
   "metadata": {
    "execution": {
     "iopub.execute_input": "2024-03-29T17:45:26.215240Z",
     "iopub.status.busy": "2024-03-29T17:45:26.214473Z",
     "iopub.status.idle": "2024-03-29T17:45:26.582966Z",
     "shell.execute_reply": "2024-03-29T17:45:26.582152Z"
    },
    "papermill": {
     "duration": 0.408177,
     "end_time": "2024-03-29T17:45:26.585234",
     "exception": false,
     "start_time": "2024-03-29T17:45:26.177057",
     "status": "completed"
    },
    "tags": []
   },
   "outputs": [
    {
     "name": "stdout",
     "output_type": "stream",
     "text": [
      "[LightGBM] [Warning] Found whitespace in feature_names, replace with underlines\n",
      "[LightGBM] [Warning] No further splits with positive gain, best gain: -inf\n"
     ]
    },
    {
     "data": {
      "text/html": [
       "<style>#sk-container-id-7 {color: black;background-color: white;}#sk-container-id-7 pre{padding: 0;}#sk-container-id-7 div.sk-toggleable {background-color: white;}#sk-container-id-7 label.sk-toggleable__label {cursor: pointer;display: block;width: 100%;margin-bottom: 0;padding: 0.3em;box-sizing: border-box;text-align: center;}#sk-container-id-7 label.sk-toggleable__label-arrow:before {content: \"▸\";float: left;margin-right: 0.25em;color: #696969;}#sk-container-id-7 label.sk-toggleable__label-arrow:hover:before {color: black;}#sk-container-id-7 div.sk-estimator:hover label.sk-toggleable__label-arrow:before {color: black;}#sk-container-id-7 div.sk-toggleable__content {max-height: 0;max-width: 0;overflow: hidden;text-align: left;background-color: #f0f8ff;}#sk-container-id-7 div.sk-toggleable__content pre {margin: 0.2em;color: black;border-radius: 0.25em;background-color: #f0f8ff;}#sk-container-id-7 input.sk-toggleable__control:checked~div.sk-toggleable__content {max-height: 200px;max-width: 100%;overflow: auto;}#sk-container-id-7 input.sk-toggleable__control:checked~label.sk-toggleable__label-arrow:before {content: \"▾\";}#sk-container-id-7 div.sk-estimator input.sk-toggleable__control:checked~label.sk-toggleable__label {background-color: #d4ebff;}#sk-container-id-7 div.sk-label input.sk-toggleable__control:checked~label.sk-toggleable__label {background-color: #d4ebff;}#sk-container-id-7 input.sk-hidden--visually {border: 0;clip: rect(1px 1px 1px 1px);clip: rect(1px, 1px, 1px, 1px);height: 1px;margin: -1px;overflow: hidden;padding: 0;position: absolute;width: 1px;}#sk-container-id-7 div.sk-estimator {font-family: monospace;background-color: #f0f8ff;border: 1px dotted black;border-radius: 0.25em;box-sizing: border-box;margin-bottom: 0.5em;}#sk-container-id-7 div.sk-estimator:hover {background-color: #d4ebff;}#sk-container-id-7 div.sk-parallel-item::after {content: \"\";width: 100%;border-bottom: 1px solid gray;flex-grow: 1;}#sk-container-id-7 div.sk-label:hover label.sk-toggleable__label {background-color: #d4ebff;}#sk-container-id-7 div.sk-serial::before {content: \"\";position: absolute;border-left: 1px solid gray;box-sizing: border-box;top: 0;bottom: 0;left: 50%;z-index: 0;}#sk-container-id-7 div.sk-serial {display: flex;flex-direction: column;align-items: center;background-color: white;padding-right: 0.2em;padding-left: 0.2em;position: relative;}#sk-container-id-7 div.sk-item {position: relative;z-index: 1;}#sk-container-id-7 div.sk-parallel {display: flex;align-items: stretch;justify-content: center;background-color: white;position: relative;}#sk-container-id-7 div.sk-item::before, #sk-container-id-7 div.sk-parallel-item::before {content: \"\";position: absolute;border-left: 1px solid gray;box-sizing: border-box;top: 0;bottom: 0;left: 50%;z-index: -1;}#sk-container-id-7 div.sk-parallel-item {display: flex;flex-direction: column;z-index: 1;position: relative;background-color: white;}#sk-container-id-7 div.sk-parallel-item:first-child::after {align-self: flex-end;width: 50%;}#sk-container-id-7 div.sk-parallel-item:last-child::after {align-self: flex-start;width: 50%;}#sk-container-id-7 div.sk-parallel-item:only-child::after {width: 0;}#sk-container-id-7 div.sk-dashed-wrapped {border: 1px dashed gray;margin: 0 0.4em 0.5em 0.4em;box-sizing: border-box;padding-bottom: 0.4em;background-color: white;}#sk-container-id-7 div.sk-label label {font-family: monospace;font-weight: bold;display: inline-block;line-height: 1.2em;}#sk-container-id-7 div.sk-label-container {text-align: center;}#sk-container-id-7 div.sk-container {/* jupyter's `normalize.less` sets `[hidden] { display: none; }` but bootstrap.min.css set `[hidden] { display: none !important; }` so we also need the `!important` here to be able to override the default hidden behavior on the sphinx rendered scikit-learn.org. See: https://github.com/scikit-learn/scikit-learn/issues/21755 */display: inline-block !important;position: relative;}#sk-container-id-7 div.sk-text-repr-fallback {display: none;}</style><div id=\"sk-container-id-7\" class=\"sk-top-container\"><div class=\"sk-text-repr-fallback\"><pre>LGBMRegressor(verbose=0)</pre><b>In a Jupyter environment, please rerun this cell to show the HTML representation or trust the notebook. <br />On GitHub, the HTML representation is unable to render, please try loading this page with nbviewer.org.</b></div><div class=\"sk-container\" hidden><div class=\"sk-item\"><div class=\"sk-estimator sk-toggleable\"><input class=\"sk-toggleable__control sk-hidden--visually\" id=\"sk-estimator-id-7\" type=\"checkbox\" checked><label for=\"sk-estimator-id-7\" class=\"sk-toggleable__label sk-toggleable__label-arrow\">LGBMRegressor</label><div class=\"sk-toggleable__content\"><pre>LGBMRegressor(verbose=0)</pre></div></div></div></div></div>"
      ],
      "text/plain": [
       "LGBMRegressor(verbose=0)"
      ]
     },
     "execution_count": 40,
     "metadata": {},
     "output_type": "execute_result"
    }
   ],
   "source": [
    "model_LGB = lgb.LGBMRegressor(verbose=0)\n",
    "model_LGB.fit(X_train_E, y_train_E)"
   ]
  },
  {
   "cell_type": "markdown",
   "id": "2548f28c",
   "metadata": {
    "papermill": {
     "duration": 0.03477,
     "end_time": "2024-03-29T17:45:26.654931",
     "exception": false,
     "start_time": "2024-03-29T17:45:26.620161",
     "status": "completed"
    },
    "tags": []
   },
   "source": [
    "### *evaluation*"
   ]
  },
  {
   "cell_type": "code",
   "execution_count": 41,
   "id": "66b22537",
   "metadata": {
    "execution": {
     "iopub.execute_input": "2024-03-29T17:45:26.727185Z",
     "iopub.status.busy": "2024-03-29T17:45:26.726528Z",
     "iopub.status.idle": "2024-03-29T17:45:26.742896Z",
     "shell.execute_reply": "2024-03-29T17:45:26.741860Z"
    },
    "papermill": {
     "duration": 0.055799,
     "end_time": "2024-03-29T17:45:26.745543",
     "exception": false,
     "start_time": "2024-03-29T17:45:26.689744",
     "status": "completed"
    },
    "tags": []
   },
   "outputs": [
    {
     "name": "stdout",
     "output_type": "stream",
     "text": [
      "RMSE : 7.68235\n",
      "R2 : 0.99251\n"
     ]
    }
   ],
   "source": [
    "pred_LGB = model_LGB.predict(X_test_E)\n",
    "RMSE_LGB = mean_squared_error(y_test_E,pred_LGB) ** 0.5\n",
    "R2_LGB = r2_score(y_test_E,pred_LGB)\n",
    "\n",
    "print(\"RMSE :\",round(RMSE_LGB,5))\n",
    "print(\"R2 :\",round(R2_LGB,5))"
   ]
  },
  {
   "cell_type": "markdown",
   "id": "ffd033b6",
   "metadata": {
    "papermill": {
     "duration": 0.035095,
     "end_time": "2024-03-29T17:45:26.816411",
     "exception": false,
     "start_time": "2024-03-29T17:45:26.781316",
     "status": "completed"
    },
    "tags": []
   },
   "source": [
    "> # LightGBM : Base MSRP"
   ]
  },
  {
   "cell_type": "markdown",
   "id": "b9ed2fbe",
   "metadata": {
    "papermill": {
     "duration": 0.035257,
     "end_time": "2024-03-29T17:45:26.888122",
     "exception": false,
     "start_time": "2024-03-29T17:45:26.852865",
     "status": "completed"
    },
    "tags": []
   },
   "source": [
    "### *Modeling*"
   ]
  },
  {
   "cell_type": "code",
   "execution_count": 42,
   "id": "eb95ea21",
   "metadata": {
    "execution": {
     "iopub.execute_input": "2024-03-29T17:45:26.960771Z",
     "iopub.status.busy": "2024-03-29T17:45:26.960268Z",
     "iopub.status.idle": "2024-03-29T17:45:27.051256Z",
     "shell.execute_reply": "2024-03-29T17:45:27.049863Z"
    },
    "papermill": {
     "duration": 0.130524,
     "end_time": "2024-03-29T17:45:27.054236",
     "exception": false,
     "start_time": "2024-03-29T17:45:26.923712",
     "status": "completed"
    },
    "tags": []
   },
   "outputs": [
    {
     "name": "stdout",
     "output_type": "stream",
     "text": [
      "[LightGBM] [Warning] Found whitespace in feature_names, replace with underlines\n"
     ]
    },
    {
     "data": {
      "text/html": [
       "<style>#sk-container-id-8 {color: black;background-color: white;}#sk-container-id-8 pre{padding: 0;}#sk-container-id-8 div.sk-toggleable {background-color: white;}#sk-container-id-8 label.sk-toggleable__label {cursor: pointer;display: block;width: 100%;margin-bottom: 0;padding: 0.3em;box-sizing: border-box;text-align: center;}#sk-container-id-8 label.sk-toggleable__label-arrow:before {content: \"▸\";float: left;margin-right: 0.25em;color: #696969;}#sk-container-id-8 label.sk-toggleable__label-arrow:hover:before {color: black;}#sk-container-id-8 div.sk-estimator:hover label.sk-toggleable__label-arrow:before {color: black;}#sk-container-id-8 div.sk-toggleable__content {max-height: 0;max-width: 0;overflow: hidden;text-align: left;background-color: #f0f8ff;}#sk-container-id-8 div.sk-toggleable__content pre {margin: 0.2em;color: black;border-radius: 0.25em;background-color: #f0f8ff;}#sk-container-id-8 input.sk-toggleable__control:checked~div.sk-toggleable__content {max-height: 200px;max-width: 100%;overflow: auto;}#sk-container-id-8 input.sk-toggleable__control:checked~label.sk-toggleable__label-arrow:before {content: \"▾\";}#sk-container-id-8 div.sk-estimator input.sk-toggleable__control:checked~label.sk-toggleable__label {background-color: #d4ebff;}#sk-container-id-8 div.sk-label input.sk-toggleable__control:checked~label.sk-toggleable__label {background-color: #d4ebff;}#sk-container-id-8 input.sk-hidden--visually {border: 0;clip: rect(1px 1px 1px 1px);clip: rect(1px, 1px, 1px, 1px);height: 1px;margin: -1px;overflow: hidden;padding: 0;position: absolute;width: 1px;}#sk-container-id-8 div.sk-estimator {font-family: monospace;background-color: #f0f8ff;border: 1px dotted black;border-radius: 0.25em;box-sizing: border-box;margin-bottom: 0.5em;}#sk-container-id-8 div.sk-estimator:hover {background-color: #d4ebff;}#sk-container-id-8 div.sk-parallel-item::after {content: \"\";width: 100%;border-bottom: 1px solid gray;flex-grow: 1;}#sk-container-id-8 div.sk-label:hover label.sk-toggleable__label {background-color: #d4ebff;}#sk-container-id-8 div.sk-serial::before {content: \"\";position: absolute;border-left: 1px solid gray;box-sizing: border-box;top: 0;bottom: 0;left: 50%;z-index: 0;}#sk-container-id-8 div.sk-serial {display: flex;flex-direction: column;align-items: center;background-color: white;padding-right: 0.2em;padding-left: 0.2em;position: relative;}#sk-container-id-8 div.sk-item {position: relative;z-index: 1;}#sk-container-id-8 div.sk-parallel {display: flex;align-items: stretch;justify-content: center;background-color: white;position: relative;}#sk-container-id-8 div.sk-item::before, #sk-container-id-8 div.sk-parallel-item::before {content: \"\";position: absolute;border-left: 1px solid gray;box-sizing: border-box;top: 0;bottom: 0;left: 50%;z-index: -1;}#sk-container-id-8 div.sk-parallel-item {display: flex;flex-direction: column;z-index: 1;position: relative;background-color: white;}#sk-container-id-8 div.sk-parallel-item:first-child::after {align-self: flex-end;width: 50%;}#sk-container-id-8 div.sk-parallel-item:last-child::after {align-self: flex-start;width: 50%;}#sk-container-id-8 div.sk-parallel-item:only-child::after {width: 0;}#sk-container-id-8 div.sk-dashed-wrapped {border: 1px dashed gray;margin: 0 0.4em 0.5em 0.4em;box-sizing: border-box;padding-bottom: 0.4em;background-color: white;}#sk-container-id-8 div.sk-label label {font-family: monospace;font-weight: bold;display: inline-block;line-height: 1.2em;}#sk-container-id-8 div.sk-label-container {text-align: center;}#sk-container-id-8 div.sk-container {/* jupyter's `normalize.less` sets `[hidden] { display: none; }` but bootstrap.min.css set `[hidden] { display: none !important; }` so we also need the `!important` here to be able to override the default hidden behavior on the sphinx rendered scikit-learn.org. See: https://github.com/scikit-learn/scikit-learn/issues/21755 */display: inline-block !important;position: relative;}#sk-container-id-8 div.sk-text-repr-fallback {display: none;}</style><div id=\"sk-container-id-8\" class=\"sk-top-container\"><div class=\"sk-text-repr-fallback\"><pre>LGBMRegressor(verbose=0)</pre><b>In a Jupyter environment, please rerun this cell to show the HTML representation or trust the notebook. <br />On GitHub, the HTML representation is unable to render, please try loading this page with nbviewer.org.</b></div><div class=\"sk-container\" hidden><div class=\"sk-item\"><div class=\"sk-estimator sk-toggleable\"><input class=\"sk-toggleable__control sk-hidden--visually\" id=\"sk-estimator-id-8\" type=\"checkbox\" checked><label for=\"sk-estimator-id-8\" class=\"sk-toggleable__label sk-toggleable__label-arrow\">LGBMRegressor</label><div class=\"sk-toggleable__content\"><pre>LGBMRegressor(verbose=0)</pre></div></div></div></div></div>"
      ],
      "text/plain": [
       "LGBMRegressor(verbose=0)"
      ]
     },
     "execution_count": 42,
     "metadata": {},
     "output_type": "execute_result"
    }
   ],
   "source": [
    "model_LGB2 = lgb.LGBMRegressor(verbose=0)\n",
    "model_LGB2.fit(X_train_B, y_train_B)"
   ]
  },
  {
   "cell_type": "markdown",
   "id": "95ebd1ca",
   "metadata": {
    "papermill": {
     "duration": 0.035249,
     "end_time": "2024-03-29T17:45:27.125238",
     "exception": false,
     "start_time": "2024-03-29T17:45:27.089989",
     "status": "completed"
    },
    "tags": []
   },
   "source": [
    "### *evaluation*"
   ]
  },
  {
   "cell_type": "code",
   "execution_count": 43,
   "id": "4355b184",
   "metadata": {
    "execution": {
     "iopub.execute_input": "2024-03-29T17:45:27.198777Z",
     "iopub.status.busy": "2024-03-29T17:45:27.197880Z",
     "iopub.status.idle": "2024-03-29T17:45:27.214610Z",
     "shell.execute_reply": "2024-03-29T17:45:27.213105Z"
    },
    "papermill": {
     "duration": 0.056481,
     "end_time": "2024-03-29T17:45:27.217337",
     "exception": false,
     "start_time": "2024-03-29T17:45:27.160856",
     "status": "completed"
    },
    "tags": []
   },
   "outputs": [
    {
     "name": "stdout",
     "output_type": "stream",
     "text": [
      "RMSE : 4004.0278\n",
      "R2 : 0.9445\n"
     ]
    }
   ],
   "source": [
    "pred_LGB2 = model_LGB2.predict(X_test_B)\n",
    "RMSE_LGB2 = mean_squared_error(y_test_B,pred_LGB2) ** 0.5\n",
    "R2_LGB2 = r2_score(y_test_B,pred_LGB2)\n",
    "\n",
    "print(\"RMSE :\",round(RMSE_LGB2,5))\n",
    "print(\"R2 :\",round(R2_LGB2,5))"
   ]
  },
  {
   "cell_type": "markdown",
   "id": "d8d08e8b",
   "metadata": {
    "papermill": {
     "duration": 0.035439,
     "end_time": "2024-03-29T17:45:27.288362",
     "exception": false,
     "start_time": "2024-03-29T17:45:27.252923",
     "status": "completed"
    },
    "tags": []
   },
   "source": [
    "# Modeling Conclusion"
   ]
  },
  {
   "cell_type": "markdown",
   "id": "28c7b76e",
   "metadata": {
    "papermill": {
     "duration": 0.035411,
     "end_time": "2024-03-29T17:45:27.359366",
     "exception": false,
     "start_time": "2024-03-29T17:45:27.323955",
     "status": "completed"
    },
    "tags": []
   },
   "source": [
    "> ## Electric Range"
   ]
  },
  {
   "cell_type": "code",
   "execution_count": 44,
   "id": "3527ac23",
   "metadata": {
    "execution": {
     "iopub.execute_input": "2024-03-29T17:45:27.433625Z",
     "iopub.status.busy": "2024-03-29T17:45:27.433247Z",
     "iopub.status.idle": "2024-03-29T17:45:27.443862Z",
     "shell.execute_reply": "2024-03-29T17:45:27.442728Z"
    },
    "papermill": {
     "duration": 0.051485,
     "end_time": "2024-03-29T17:45:27.446795",
     "exception": false,
     "start_time": "2024-03-29T17:45:27.395310",
     "status": "completed"
    },
    "tags": []
   },
   "outputs": [
    {
     "name": "stdout",
     "output_type": "stream",
     "text": [
      "Linear Regression\n",
      "RMSE : 17.01804\n",
      "R2 : 0.96327\n",
      "--------------------\n",
      "Random Forest\n",
      "Train_RMSE : 1.05347\n",
      "Test_RMSE : 2.8502\n",
      "--------------------\n",
      "XGBoost\n",
      "RMSE : 0.70352\n",
      "R2 : 0.99994\n",
      "--------------------\n",
      "Best_XGBoost\n",
      "RMSE : 0.5105\n",
      "R2 : 0.99997\n",
      "--------------------\n",
      "LightGBM\n",
      "RMSE : 7.68235\n",
      "R2 : 0.99251\n"
     ]
    }
   ],
   "source": [
    "print('Linear Regression')\n",
    "print(\"RMSE :\",round(RMSE_L,5))\n",
    "print(\"R2 :\",round(R2_L,5))\n",
    "print('-'*20)\n",
    "print('Random Forest')\n",
    "print(\"Train_RMSE :\",round(Train_RMSE,5))\n",
    "print(\"Test_RMSE :\",round(Test_RMSE,5))\n",
    "print('-'*20)\n",
    "print('XGBoost')\n",
    "print(\"RMSE :\",round(RMSE_XGB,5))\n",
    "print(\"R2 :\",round(R2_XGB,5))\n",
    "print('-'*20)\n",
    "print('Best_XGBoost')\n",
    "print(\"RMSE :\",round(RMSE_R,5))\n",
    "print(\"R2 :\",round(R2_R,5))\n",
    "print('-'*20)\n",
    "print('LightGBM')\n",
    "print(\"RMSE :\",round(RMSE_LGB,5))\n",
    "print(\"R2 :\",round(R2_LGB,5))"
   ]
  },
  {
   "cell_type": "markdown",
   "id": "48d0c8c0",
   "metadata": {
    "papermill": {
     "duration": 0.035214,
     "end_time": "2024-03-29T17:45:27.517919",
     "exception": false,
     "start_time": "2024-03-29T17:45:27.482705",
     "status": "completed"
    },
    "tags": []
   },
   "source": [
    "> ## Base MSRP"
   ]
  },
  {
   "cell_type": "code",
   "execution_count": 45,
   "id": "189d707c",
   "metadata": {
    "execution": {
     "iopub.execute_input": "2024-03-29T17:45:27.591318Z",
     "iopub.status.busy": "2024-03-29T17:45:27.590625Z",
     "iopub.status.idle": "2024-03-29T17:45:27.600955Z",
     "shell.execute_reply": "2024-03-29T17:45:27.599740Z"
    },
    "papermill": {
     "duration": 0.0501,
     "end_time": "2024-03-29T17:45:27.603681",
     "exception": false,
     "start_time": "2024-03-29T17:45:27.553581",
     "status": "completed"
    },
    "tags": []
   },
   "outputs": [
    {
     "name": "stdout",
     "output_type": "stream",
     "text": [
      "Linear Regression\n",
      "RMSE : 9737.60925\n",
      "R2 : 0.67178\n",
      "--------------------\n",
      "Random Forest\n",
      "Train_RMSE : 528.62992\n",
      "Test_RMSE : 1607.43923\n",
      "--------------------\n",
      "XGBoost\n",
      "RMSE : 750.68909\n",
      "R2 : 0.99805\n",
      "--------------------\n",
      "Best_XGBoost\n",
      "RMSE : 535.66758\n",
      "R2 : 0.99901\n",
      "--------------------\n",
      "LightGBM\n",
      "RMSE : 4004.0278\n",
      "R2 : 0.9445\n"
     ]
    }
   ],
   "source": [
    "print('Linear Regression')\n",
    "print(\"RMSE :\",round(RMSE_L2,5))\n",
    "print(\"R2 :\",round(R2_L2,5))\n",
    "print('-'*20)\n",
    "print('Random Forest')\n",
    "print(\"Train_RMSE :\",round(Train_RMSE2,5))\n",
    "print(\"Test_RMSE :\",round(Test_RMSE2,5))\n",
    "print('-'*20)\n",
    "print('XGBoost')\n",
    "print(\"RMSE :\",round(RMSE_XGB2,5))\n",
    "print(\"R2 :\",round(R2_XGB2,5))\n",
    "print('-'*20)\n",
    "print('Best_XGBoost')\n",
    "print(\"RMSE :\",round(RMSE_R2,5))\n",
    "print(\"R2 :\",round(R2_R2,5))\n",
    "print('-'*20)\n",
    "print('LightGBM')\n",
    "print(\"RMSE :\",round(RMSE_LGB2,5))\n",
    "print(\"R2 :\",round(R2_LGB2,5))"
   ]
  },
  {
   "cell_type": "markdown",
   "id": "b6bb83e0",
   "metadata": {
    "papermill": {
     "duration": 0.036424,
     "end_time": "2024-03-29T17:45:27.676114",
     "exception": false,
     "start_time": "2024-03-29T17:45:27.639690",
     "status": "completed"
    },
    "tags": []
   },
   "source": [
    "# Thanks"
   ]
  }
 ],
 "metadata": {
  "kaggle": {
   "accelerator": "none",
   "dataSources": [
    {
     "datasetId": 4688868,
     "sourceId": 7968969,
     "sourceType": "datasetVersion"
    }
   ],
   "dockerImageVersionId": 30673,
   "isGpuEnabled": false,
   "isInternetEnabled": true,
   "language": "python",
   "sourceType": "notebook"
  },
  "kernelspec": {
   "display_name": "Python 3",
   "language": "python",
   "name": "python3"
  },
  "language_info": {
   "codemirror_mode": {
    "name": "ipython",
    "version": 3
   },
   "file_extension": ".py",
   "mimetype": "text/x-python",
   "name": "python",
   "nbconvert_exporter": "python",
   "pygments_lexer": "ipython3",
   "version": "3.10.13"
  },
  "papermill": {
   "default_parameters": {},
   "duration": 376.055639,
   "end_time": "2024-03-29T17:45:28.535726",
   "environment_variables": {},
   "exception": null,
   "input_path": "__notebook__.ipynb",
   "output_path": "__notebook__.ipynb",
   "parameters": {},
   "start_time": "2024-03-29T17:39:12.480087",
   "version": "2.5.0"
  }
 },
 "nbformat": 4,
 "nbformat_minor": 5
}
