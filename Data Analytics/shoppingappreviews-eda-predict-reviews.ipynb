{
 "cells": [
  {
   "cell_type": "markdown",
   "id": "855b822d",
   "metadata": {
    "execution": {
     "iopub.execute_input": "2024-12-22T14:54:05.336333Z",
     "iopub.status.busy": "2024-12-22T14:54:05.335986Z",
     "iopub.status.idle": "2024-12-22T14:54:05.343981Z",
     "shell.execute_reply": "2024-12-22T14:54:05.342564Z",
     "shell.execute_reply.started": "2024-12-22T14:54:05.336302Z"
    },
    "papermill": {
     "duration": 0.006118,
     "end_time": "2024-12-24T23:58:35.124084",
     "exception": false,
     "start_time": "2024-12-24T23:58:35.117966",
     "status": "completed"
    },
    "tags": []
   },
   "source": [
    "<div style=\"\n",
    "    padding: 20px;\n",
    "    color: white;\n",
    "    margin: 0;\n",
    "    font-size: 300%;\n",
    "    font-weight: 800;\n",
    "    text-align: center;\n",
    "    display: fill;\n",
    "    border-radius: 60px;\n",
    "    background-color: #0080FF;\n",
    "    box-shadow: 0 4px 8px rgba(0, 0, 0, 0.2);\n",
    "    text-shadow: 2px 2px 4px rgba(0, 0, 0, 0.5);\n",
    "\">\n",
    "    ShoppingAppReviews \n",
    "    (EDA / Machine learning)\n",
    "</div>"
   ]
  },
  {
   "cell_type": "markdown",
   "id": "98f02319",
   "metadata": {
    "papermill": {
     "duration": 0.004758,
     "end_time": "2024-12-24T23:58:35.134872",
     "exception": false,
     "start_time": "2024-12-24T23:58:35.130114",
     "status": "completed"
    },
    "tags": []
   },
   "source": [
    "# <div style=\"display: inline-block; border: 5px solid purple; padding: 5px 10px; border-radius: 5px; font-size: 35px;\"> Project. Predict ShoppingAppReviews\n",
    "</div>\n",
    "\n",
    "\n",
    "## Goal\n",
    "> ## Interpreting data distribution plots\n",
    "> ## Predicting reviews by content"
   ]
  },
  {
   "cell_type": "markdown",
   "id": "dc5b03d6",
   "metadata": {
    "papermill": {
     "duration": 0.004676,
     "end_time": "2024-12-24T23:58:35.144574",
     "exception": false,
     "start_time": "2024-12-24T23:58:35.139898",
     "status": "completed"
    },
    "tags": []
   },
   "source": [
    "# <div style=\"display: inline-block; padding: 20px 20px; border-radius: 15px; background: linear-gradient(135deg, #d8bfd8, #8b008b); box-shadow: 3px 3px 8px rgba(0, 0, 0, 0.2); font-size: 35px; font-family: Arial, sans-serif; color: #ffffff; text-align: center;\">Import Libraries & Read Dataset</div>"
   ]
  },
  {
   "cell_type": "code",
   "execution_count": 1,
   "id": "561420ad",
   "metadata": {
    "execution": {
     "iopub.execute_input": "2024-12-24T23:58:35.155113Z",
     "iopub.status.busy": "2024-12-24T23:58:35.154855Z",
     "iopub.status.idle": "2024-12-24T23:58:49.485071Z",
     "shell.execute_reply": "2024-12-24T23:58:49.484154Z"
    },
    "papermill": {
     "duration": 14.337235,
     "end_time": "2024-12-24T23:58:49.486678",
     "exception": false,
     "start_time": "2024-12-24T23:58:35.149443",
     "status": "completed"
    },
    "tags": []
   },
   "outputs": [],
   "source": [
    "# For EDA\n",
    "import pandas as pd\n",
    "import numpy as np\n",
    "import matplotlib.pyplot as plt\n",
    "import seaborn as sns\n",
    "import plotly.graph_objects as go\n",
    "import plotly.express as px\n",
    "from plotly.subplots import make_subplots\n",
    "import glob\n",
    "\n",
    "# For Model\n",
    "from sklearn.model_selection import train_test_split\n",
    "from sklearn.preprocessing import LabelEncoder\n",
    "from transformers import BertTokenizer, BertForSequenceClassification, Trainer, TrainingArguments, BertModel\n",
    "import torch\n",
    "from tqdm import tqdm  \n",
    "\n",
    "import warnings\n",
    "warnings.filterwarnings('ignore', category=FutureWarning)"
   ]
  },
  {
   "cell_type": "code",
   "execution_count": 2,
   "id": "437ba654",
   "metadata": {
    "execution": {
     "iopub.execute_input": "2024-12-24T23:58:49.498235Z",
     "iopub.status.busy": "2024-12-24T23:58:49.497660Z",
     "iopub.status.idle": "2024-12-24T23:58:54.175210Z",
     "shell.execute_reply": "2024-12-24T23:58:54.174351Z"
    },
    "papermill": {
     "duration": 4.684522,
     "end_time": "2024-12-24T23:58:54.176577",
     "exception": false,
     "start_time": "2024-12-24T23:58:49.492055",
     "status": "completed"
    },
    "tags": []
   },
   "outputs": [
    {
     "data": {
      "text/html": [
       "<div>\n",
       "<style scoped>\n",
       "    .dataframe tbody tr th:only-of-type {\n",
       "        vertical-align: middle;\n",
       "    }\n",
       "\n",
       "    .dataframe tbody tr th {\n",
       "        vertical-align: top;\n",
       "    }\n",
       "\n",
       "    .dataframe thead th {\n",
       "        text-align: right;\n",
       "    }\n",
       "</style>\n",
       "<table border=\"1\" class=\"dataframe\">\n",
       "  <thead>\n",
       "    <tr style=\"text-align: right;\">\n",
       "      <th></th>\n",
       "      <th>reviewId</th>\n",
       "      <th>content</th>\n",
       "      <th>score</th>\n",
       "      <th>thumbsUpCount</th>\n",
       "      <th>at</th>\n",
       "      <th>replyContent</th>\n",
       "      <th>repliedAt</th>\n",
       "      <th>appName</th>\n",
       "    </tr>\n",
       "  </thead>\n",
       "  <tbody>\n",
       "    <tr>\n",
       "      <th>0</th>\n",
       "      <td>275f465b-a58b-439e-ae7c-f9f6dcf2634d</td>\n",
       "      <td>Trying to use the on website is almost impossi...</td>\n",
       "      <td>1</td>\n",
       "      <td>39</td>\n",
       "      <td>1720995717000</td>\n",
       "      <td>Hi, we are sorry to hear that. Do share additi...</td>\n",
       "      <td>1.721048e+12</td>\n",
       "      <td>Alibaba</td>\n",
       "    </tr>\n",
       "    <tr>\n",
       "      <th>1</th>\n",
       "      <td>e6c13852-277e-451a-b8d5-dd92aea75402</td>\n",
       "      <td>Had to uninstall due to the amount of notifica...</td>\n",
       "      <td>3</td>\n",
       "      <td>60</td>\n",
       "      <td>1720501958000</td>\n",
       "      <td>Hi, we are sorry to hear that. Do share additi...</td>\n",
       "      <td>1.721051e+12</td>\n",
       "      <td>Alibaba</td>\n",
       "    </tr>\n",
       "    <tr>\n",
       "      <th>2</th>\n",
       "      <td>254b3705-c54b-4ce4-8982-5b468d38231d</td>\n",
       "      <td>I order and it takes too long the shpping days...</td>\n",
       "      <td>1</td>\n",
       "      <td>7</td>\n",
       "      <td>1721866371000</td>\n",
       "      <td>NaN</td>\n",
       "      <td>NaN</td>\n",
       "      <td>Alibaba</td>\n",
       "    </tr>\n",
       "    <tr>\n",
       "      <th>3</th>\n",
       "      <td>c83c1e64-6aa3-42e8-9a56-0385a297b87b</td>\n",
       "      <td>Buyer beware! They have tons of listings that ...</td>\n",
       "      <td>1</td>\n",
       "      <td>2301</td>\n",
       "      <td>1611569460000</td>\n",
       "      <td>NaN</td>\n",
       "      <td>NaN</td>\n",
       "      <td>Alibaba</td>\n",
       "    </tr>\n",
       "    <tr>\n",
       "      <th>4</th>\n",
       "      <td>7a65dce8-3f09-4e4e-a263-55efebc13c65</td>\n",
       "      <td>It's all around a great app except for the fac...</td>\n",
       "      <td>4</td>\n",
       "      <td>1859</td>\n",
       "      <td>1545438323000</td>\n",
       "      <td>Thanks for your feedback. Could you tell us mo...</td>\n",
       "      <td>1.515586e+12</td>\n",
       "      <td>Alibaba</td>\n",
       "    </tr>\n",
       "  </tbody>\n",
       "</table>\n",
       "</div>"
      ],
      "text/plain": [
       "                               reviewId  \\\n",
       "0  275f465b-a58b-439e-ae7c-f9f6dcf2634d   \n",
       "1  e6c13852-277e-451a-b8d5-dd92aea75402   \n",
       "2  254b3705-c54b-4ce4-8982-5b468d38231d   \n",
       "3  c83c1e64-6aa3-42e8-9a56-0385a297b87b   \n",
       "4  7a65dce8-3f09-4e4e-a263-55efebc13c65   \n",
       "\n",
       "                                             content  score  thumbsUpCount  \\\n",
       "0  Trying to use the on website is almost impossi...      1             39   \n",
       "1  Had to uninstall due to the amount of notifica...      3             60   \n",
       "2  I order and it takes too long the shpping days...      1              7   \n",
       "3  Buyer beware! They have tons of listings that ...      1           2301   \n",
       "4  It's all around a great app except for the fac...      4           1859   \n",
       "\n",
       "              at                                       replyContent  \\\n",
       "0  1720995717000  Hi, we are sorry to hear that. Do share additi...   \n",
       "1  1720501958000  Hi, we are sorry to hear that. Do share additi...   \n",
       "2  1721866371000                                                NaN   \n",
       "3  1611569460000                                                NaN   \n",
       "4  1545438323000  Thanks for your feedback. Could you tell us mo...   \n",
       "\n",
       "      repliedAt  appName  \n",
       "0  1.721048e+12  Alibaba  \n",
       "1  1.721051e+12  Alibaba  \n",
       "2           NaN  Alibaba  \n",
       "3           NaN  Alibaba  \n",
       "4  1.515586e+12  Alibaba  "
      ]
     },
     "execution_count": 2,
     "metadata": {},
     "output_type": "execute_result"
    }
   ],
   "source": [
    "csv_files = glob.glob(\"/kaggle/input/shoppingappreviews-dataset/ShoppingAppReviews Dataset/ShoppingAppReviews/csv/*.csv\")\n",
    "\n",
    "dataframes = []\n",
    "\n",
    "for file in csv_files:\n",
    "    try:\n",
    "        df = pd.read_csv(file)\n",
    "        dataframes.append(df)\n",
    "    except Exception as e:\n",
    "        print(f\"Error reading {file}: {e}\")\n",
    "\n",
    "df = pd.concat(dataframes, ignore_index=True)\n",
    "df.head(5)"
   ]
  },
  {
   "cell_type": "code",
   "execution_count": 3,
   "id": "d8fc0a4f",
   "metadata": {
    "execution": {
     "iopub.execute_input": "2024-12-24T23:58:54.188073Z",
     "iopub.status.busy": "2024-12-24T23:58:54.187828Z",
     "iopub.status.idle": "2024-12-24T23:58:54.327519Z",
     "shell.execute_reply": "2024-12-24T23:58:54.326367Z"
    },
    "papermill": {
     "duration": 0.146737,
     "end_time": "2024-12-24T23:58:54.328816",
     "exception": false,
     "start_time": "2024-12-24T23:58:54.182079",
     "status": "completed"
    },
    "tags": []
   },
   "outputs": [
    {
     "name": "stdout",
     "output_type": "stream",
     "text": [
      "<class 'pandas.core.frame.DataFrame'>\n",
      "RangeIndex: 630000 entries, 0 to 629999\n",
      "Data columns (total 8 columns):\n",
      " #   Column         Non-Null Count   Dtype  \n",
      "---  ------         --------------   -----  \n",
      " 0   reviewId       630000 non-null  object \n",
      " 1   content        629999 non-null  object \n",
      " 2   score          630000 non-null  int64  \n",
      " 3   thumbsUpCount  630000 non-null  int64  \n",
      " 4   at             630000 non-null  int64  \n",
      " 5   replyContent   166488 non-null  object \n",
      " 6   repliedAt      166488 non-null  float64\n",
      " 7   appName        630000 non-null  object \n",
      "dtypes: float64(1), int64(3), object(4)\n",
      "memory usage: 38.5+ MB\n"
     ]
    }
   ],
   "source": [
    "df.info()"
   ]
  },
  {
   "cell_type": "markdown",
   "id": "bfc64deb",
   "metadata": {
    "papermill": {
     "duration": 0.005228,
     "end_time": "2024-12-24T23:58:54.339753",
     "exception": false,
     "start_time": "2024-12-24T23:58:54.334525",
     "status": "completed"
    },
    "tags": []
   },
   "source": [
    "# <div style=\"display: inline-block; padding: 20px 20px; border-radius: 15px; background: linear-gradient(135deg, #d8bfd8, #8b008b); box-shadow: 3px 3px 8px rgba(0, 0, 0, 0.2); font-size: 35px; font-family: Arial, sans-serif; color: #ffffff; text-align: center;\">Data Preprocessing</div>"
   ]
  },
  {
   "cell_type": "markdown",
   "id": "4c82e10a",
   "metadata": {
    "papermill": {
     "duration": 0.005053,
     "end_time": "2024-12-24T23:58:54.350077",
     "exception": false,
     "start_time": "2024-12-24T23:58:54.345024",
     "status": "completed"
    },
    "tags": []
   },
   "source": [
    "### Because the goal of the project is to predict evaluation by looking at reviews, i removes rows that are not necessary for prediction."
   ]
  },
  {
   "cell_type": "code",
   "execution_count": 4,
   "id": "a04fa729",
   "metadata": {
    "execution": {
     "iopub.execute_input": "2024-12-24T23:58:54.361341Z",
     "iopub.status.busy": "2024-12-24T23:58:54.361103Z",
     "iopub.status.idle": "2024-12-24T23:58:54.393767Z",
     "shell.execute_reply": "2024-12-24T23:58:54.393106Z"
    },
    "papermill": {
     "duration": 0.039803,
     "end_time": "2024-12-24T23:58:54.394996",
     "exception": false,
     "start_time": "2024-12-24T23:58:54.355193",
     "status": "completed"
    },
    "tags": []
   },
   "outputs": [],
   "source": [
    "df = df[['content','score','thumbsUpCount','appName']]"
   ]
  },
  {
   "cell_type": "code",
   "execution_count": 5,
   "id": "3f350483",
   "metadata": {
    "execution": {
     "iopub.execute_input": "2024-12-24T23:58:54.406302Z",
     "iopub.status.busy": "2024-12-24T23:58:54.406056Z",
     "iopub.status.idle": "2024-12-24T23:58:54.816914Z",
     "shell.execute_reply": "2024-12-24T23:58:54.815882Z"
    },
    "papermill": {
     "duration": 0.41813,
     "end_time": "2024-12-24T23:58:54.818503",
     "exception": false,
     "start_time": "2024-12-24T23:58:54.400373",
     "status": "completed"
    },
    "tags": []
   },
   "outputs": [
    {
     "name": "stdout",
     "output_type": "stream",
     "text": [
      "Missing Value (%)\n",
      "content          0.000159\n",
      "score            0.000000\n",
      "thumbsUpCount    0.000000\n",
      "appName          0.000000\n",
      "dtype: float64\n",
      "\n",
      "Duplicate Rows (%):\n",
      "0.02159047619047619\n"
     ]
    }
   ],
   "source": [
    "print(\"Missing Value (%)\")\n",
    "missing_values = df.isna().mean() * 100\n",
    "print(missing_values)\n",
    "\n",
    "print(\"\\nDuplicate Rows (%):\")\n",
    "duplicate_count = df.duplicated().mean()\n",
    "print(duplicate_count)"
   ]
  },
  {
   "cell_type": "code",
   "execution_count": 6,
   "id": "510fe70d",
   "metadata": {
    "execution": {
     "iopub.execute_input": "2024-12-24T23:58:54.830945Z",
     "iopub.status.busy": "2024-12-24T23:58:54.830672Z",
     "iopub.status.idle": "2024-12-24T23:58:55.772025Z",
     "shell.execute_reply": "2024-12-24T23:58:55.770975Z"
    },
    "papermill": {
     "duration": 0.948849,
     "end_time": "2024-12-24T23:58:55.773509",
     "exception": false,
     "start_time": "2024-12-24T23:58:54.824660",
     "status": "completed"
    },
    "tags": []
   },
   "outputs": [
    {
     "name": "stdout",
     "output_type": "stream",
     "text": [
      "Result : Missing Value (%)\n",
      "content          0.0\n",
      "score            0.0\n",
      "thumbsUpCount    0.0\n",
      "appName          0.0\n",
      "dtype: float64\n",
      "\n",
      "Result : Duplicate Rows (%):\n",
      "0.0\n"
     ]
    }
   ],
   "source": [
    "df.drop_duplicates(inplace = True)\n",
    "df.dropna(inplace = True)\n",
    "\n",
    "print(\"Result : Missing Value (%)\")\n",
    "missing_values = df.isna().mean() * 100\n",
    "print(missing_values)\n",
    "\n",
    "print(\"\\nResult : Duplicate Rows (%):\")\n",
    "duplicate_count = df.duplicated().mean()\n",
    "print(duplicate_count)"
   ]
  },
  {
   "cell_type": "code",
   "execution_count": 7,
   "id": "51807c12",
   "metadata": {
    "execution": {
     "iopub.execute_input": "2024-12-24T23:58:55.786144Z",
     "iopub.status.busy": "2024-12-24T23:58:55.785871Z",
     "iopub.status.idle": "2024-12-24T23:58:55.865728Z",
     "shell.execute_reply": "2024-12-24T23:58:55.864798Z"
    },
    "papermill": {
     "duration": 0.087598,
     "end_time": "2024-12-24T23:58:55.867035",
     "exception": false,
     "start_time": "2024-12-24T23:58:55.779437",
     "status": "completed"
    },
    "tags": []
   },
   "outputs": [
    {
     "name": "stdout",
     "output_type": "stream",
     "text": [
      "<class 'pandas.core.frame.DataFrame'>\n",
      "Index: 616397 entries, 0 to 629999\n",
      "Data columns (total 4 columns):\n",
      " #   Column         Non-Null Count   Dtype \n",
      "---  ------         --------------   ----- \n",
      " 0   content        616397 non-null  object\n",
      " 1   score          616397 non-null  int64 \n",
      " 2   thumbsUpCount  616397 non-null  int64 \n",
      " 3   appName        616397 non-null  object\n",
      "dtypes: int64(2), object(2)\n",
      "memory usage: 23.5+ MB\n"
     ]
    }
   ],
   "source": [
    "df.info()"
   ]
  },
  {
   "cell_type": "code",
   "execution_count": 8,
   "id": "a12c6292",
   "metadata": {
    "execution": {
     "iopub.execute_input": "2024-12-24T23:58:55.879248Z",
     "iopub.status.busy": "2024-12-24T23:58:55.878980Z",
     "iopub.status.idle": "2024-12-24T23:58:55.916792Z",
     "shell.execute_reply": "2024-12-24T23:58:55.915924Z"
    },
    "papermill": {
     "duration": 0.045229,
     "end_time": "2024-12-24T23:58:55.918081",
     "exception": false,
     "start_time": "2024-12-24T23:58:55.872852",
     "status": "completed"
    },
    "tags": []
   },
   "outputs": [
    {
     "data": {
      "text/html": [
       "<div>\n",
       "<style scoped>\n",
       "    .dataframe tbody tr th:only-of-type {\n",
       "        vertical-align: middle;\n",
       "    }\n",
       "\n",
       "    .dataframe tbody tr th {\n",
       "        vertical-align: top;\n",
       "    }\n",
       "\n",
       "    .dataframe thead th {\n",
       "        text-align: right;\n",
       "    }\n",
       "</style>\n",
       "<table border=\"1\" class=\"dataframe\">\n",
       "  <thead>\n",
       "    <tr style=\"text-align: right;\">\n",
       "      <th></th>\n",
       "      <th>count</th>\n",
       "      <th>mean</th>\n",
       "      <th>std</th>\n",
       "      <th>min</th>\n",
       "      <th>25%</th>\n",
       "      <th>50%</th>\n",
       "      <th>75%</th>\n",
       "      <th>max</th>\n",
       "    </tr>\n",
       "  </thead>\n",
       "  <tbody>\n",
       "    <tr>\n",
       "      <th>score</th>\n",
       "      <td>616397.0</td>\n",
       "      <td>3.178315</td>\n",
       "      <td>1.795844</td>\n",
       "      <td>1.0</td>\n",
       "      <td>1.0</td>\n",
       "      <td>4.0</td>\n",
       "      <td>5.0</td>\n",
       "      <td>5.0</td>\n",
       "    </tr>\n",
       "    <tr>\n",
       "      <th>thumbsUpCount</th>\n",
       "      <td>616397.0</td>\n",
       "      <td>12.521923</td>\n",
       "      <td>219.228615</td>\n",
       "      <td>0.0</td>\n",
       "      <td>0.0</td>\n",
       "      <td>0.0</td>\n",
       "      <td>1.0</td>\n",
       "      <td>34774.0</td>\n",
       "    </tr>\n",
       "  </tbody>\n",
       "</table>\n",
       "</div>"
      ],
      "text/plain": [
       "                  count       mean         std  min  25%  50%  75%      max\n",
       "score          616397.0   3.178315    1.795844  1.0  1.0  4.0  5.0      5.0\n",
       "thumbsUpCount  616397.0  12.521923  219.228615  0.0  0.0  0.0  1.0  34774.0"
      ]
     },
     "execution_count": 8,
     "metadata": {},
     "output_type": "execute_result"
    }
   ],
   "source": [
    "df.describe().T"
   ]
  },
  {
   "cell_type": "code",
   "execution_count": 9,
   "id": "24af1755",
   "metadata": {
    "execution": {
     "iopub.execute_input": "2024-12-24T23:58:55.930473Z",
     "iopub.status.busy": "2024-12-24T23:58:55.930241Z",
     "iopub.status.idle": "2024-12-24T23:58:56.546808Z",
     "shell.execute_reply": "2024-12-24T23:58:56.545956Z"
    },
    "papermill": {
     "duration": 0.624281,
     "end_time": "2024-12-24T23:58:56.548243",
     "exception": false,
     "start_time": "2024-12-24T23:58:55.923962",
     "status": "completed"
    },
    "tags": []
   },
   "outputs": [
    {
     "data": {
      "text/html": [
       "<div>\n",
       "<style scoped>\n",
       "    .dataframe tbody tr th:only-of-type {\n",
       "        vertical-align: middle;\n",
       "    }\n",
       "\n",
       "    .dataframe tbody tr th {\n",
       "        vertical-align: top;\n",
       "    }\n",
       "\n",
       "    .dataframe thead th {\n",
       "        text-align: right;\n",
       "    }\n",
       "</style>\n",
       "<table border=\"1\" class=\"dataframe\">\n",
       "  <thead>\n",
       "    <tr style=\"text-align: right;\">\n",
       "      <th></th>\n",
       "      <th>count</th>\n",
       "      <th>unique</th>\n",
       "      <th>top</th>\n",
       "      <th>freq</th>\n",
       "    </tr>\n",
       "  </thead>\n",
       "  <tbody>\n",
       "    <tr>\n",
       "      <th>content</th>\n",
       "      <td>616397</td>\n",
       "      <td>610782</td>\n",
       "      <td>Best shopping app</td>\n",
       "      <td>29</td>\n",
       "    </tr>\n",
       "    <tr>\n",
       "      <th>appName</th>\n",
       "      <td>616397</td>\n",
       "      <td>11</td>\n",
       "      <td>Aliexpress</td>\n",
       "      <td>124636</td>\n",
       "    </tr>\n",
       "  </tbody>\n",
       "</table>\n",
       "</div>"
      ],
      "text/plain": [
       "          count  unique                top    freq\n",
       "content  616397  610782  Best shopping app      29\n",
       "appName  616397      11         Aliexpress  124636"
      ]
     },
     "execution_count": 9,
     "metadata": {},
     "output_type": "execute_result"
    }
   ],
   "source": [
    "df.describe(include='object').T"
   ]
  },
  {
   "cell_type": "markdown",
   "id": "1659cf52",
   "metadata": {
    "papermill": {
     "duration": 0.005758,
     "end_time": "2024-12-24T23:58:56.560162",
     "exception": false,
     "start_time": "2024-12-24T23:58:56.554404",
     "status": "completed"
    },
    "tags": []
   },
   "source": [
    "# <div style=\"display: inline-block; padding: 20px 20px; border-radius: 15px; background: linear-gradient(135deg, #d8bfd8, #8b008b); box-shadow: 3px 3px 8px rgba(0, 0, 0, 0.2); font-size: 35px; font-family: Arial, sans-serif; color: #ffffff; text-align: center;\">EDA : Interpreting data distribution plots</div>"
   ]
  },
  {
   "cell_type": "markdown",
   "id": "e4160263",
   "metadata": {
    "papermill": {
     "duration": 0.005576,
     "end_time": "2024-12-24T23:58:56.571307",
     "exception": false,
     "start_time": "2024-12-24T23:58:56.565731",
     "status": "completed"
    },
    "tags": []
   },
   "source": [
    "> # 1. Data distribution"
   ]
  },
  {
   "cell_type": "code",
   "execution_count": 10,
   "id": "df6a547f",
   "metadata": {
    "execution": {
     "iopub.execute_input": "2024-12-24T23:58:56.583576Z",
     "iopub.status.busy": "2024-12-24T23:58:56.583340Z",
     "iopub.status.idle": "2024-12-24T23:58:57.905702Z",
     "shell.execute_reply": "2024-12-24T23:58:57.904797Z"
    },
    "papermill": {
     "duration": 1.330272,
     "end_time": "2024-12-24T23:58:57.907108",
     "exception": false,
     "start_time": "2024-12-24T23:58:56.576836",
     "status": "completed"
    },
    "tags": []
   },
   "outputs": [
    {
     "data": {
      "image/png": "[encoded data removed]",
      "text/plain": [
       "<Figure size 1000x600 with 1 Axes>"
      ]
     },
     "metadata": {},
     "output_type": "display_data"
    }
   ],
   "source": [
    "plt.figure(figsize=(10, 6))\n",
    "sns.violinplot(data=df, x='thumbsUpCount', color='skyblue')\n",
    "\n",
    "plt.title('Violin Plot of ThumbsUpCounts', fontsize=18)\n",
    "plt.xlabel('ThumbsUpCount', fontsize=12)\n",
    "plt.ylabel('Density', fontsize=12)\n",
    "\n",
    "plt.grid(visible=True, which='major', linestyle='--', linewidth=0.7, color='gray')\n",
    "\n",
    "plt.tight_layout()\n",
    "plt.show()"
   ]
  },
  {
   "cell_type": "code",
   "execution_count": 11,
   "id": "191e0303",
   "metadata": {
    "execution": {
     "iopub.execute_input": "2024-12-24T23:58:57.921392Z",
     "iopub.status.busy": "2024-12-24T23:58:57.921153Z",
     "iopub.status.idle": "2024-12-24T23:58:58.205924Z",
     "shell.execute_reply": "2024-12-24T23:58:58.205105Z"
    },
    "papermill": {
     "duration": 0.293532,
     "end_time": "2024-12-24T23:58:58.207443",
     "exception": false,
     "start_time": "2024-12-24T23:58:57.913911",
     "status": "completed"
    },
    "tags": []
   },
   "outputs": [
    {
     "data": {
      "image/png": "[encoded data removed]",
      "text/plain": [
       "<Figure size 1000x600 with 1 Axes>"
      ]
     },
     "metadata": {},
     "output_type": "display_data"
    }
   ],
   "source": [
    "count_df = df.groupby('score')['thumbsUpCount'].count().reset_index(name='count')\n",
    "\n",
    "plt.figure(figsize=(10, 6))\n",
    "\n",
    "sns.barplot(data=count_df, x='score', y='count', palette='viridis')\n",
    "plt.grid(visible=True, which='major', linestyle='--', linewidth=0.7, color='gray')\n",
    "plt.xlabel('Score', fontsize=12)\n",
    "plt.ylabel('Count', fontsize=12)\n",
    "plt.title('Count of thumbsUpCount by Score', fontsize=18)\n",
    "\n",
    "plt.tight_layout()\n",
    "plt.show()"
   ]
  },
  {
   "cell_type": "code",
   "execution_count": 12,
   "id": "24976536",
   "metadata": {
    "execution": {
     "iopub.execute_input": "2024-12-24T23:58:58.222964Z",
     "iopub.status.busy": "2024-12-24T23:58:58.222743Z",
     "iopub.status.idle": "2024-12-24T23:58:58.509201Z",
     "shell.execute_reply": "2024-12-24T23:58:58.508378Z"
    },
    "papermill": {
     "duration": 0.295911,
     "end_time": "2024-12-24T23:58:58.510885",
     "exception": false,
     "start_time": "2024-12-24T23:58:58.214974",
     "status": "completed"
    },
    "tags": []
   },
   "outputs": [
    {
     "data": {
      "image/png": "[encoded data removed]",
      "text/plain": [
       "<Figure size 1000x600 with 1 Axes>"
      ]
     },
     "metadata": {},
     "output_type": "display_data"
    }
   ],
   "source": [
    "mean_df = df.groupby('score')['thumbsUpCount'].mean().reset_index(name='mean')\n",
    "\n",
    "plt.figure(figsize=(10, 6))\n",
    "\n",
    "sns.barplot(data=mean_df, x='score', y='mean', palette='viridis')\n",
    "plt.grid(visible=True, which='major', linestyle='--', linewidth=0.7, color='gray')\n",
    "plt.xlabel('Mean', fontsize=12)\n",
    "plt.ylabel('Count', fontsize=12)\n",
    "plt.title('Mean of thumbsUpCount by Score', fontsize=18)\n",
    "\n",
    "plt.tight_layout()\n",
    "plt.show()"
   ]
  },
  {
   "cell_type": "code",
   "execution_count": 13,
   "id": "a803e199",
   "metadata": {
    "execution": {
     "iopub.execute_input": "2024-12-24T23:58:58.528408Z",
     "iopub.status.busy": "2024-12-24T23:58:58.528158Z",
     "iopub.status.idle": "2024-12-24T23:58:58.904606Z",
     "shell.execute_reply": "2024-12-24T23:58:58.903817Z"
    },
    "papermill": {
     "duration": 0.386399,
     "end_time": "2024-12-24T23:58:58.906029",
     "exception": false,
     "start_time": "2024-12-24T23:58:58.519630",
     "status": "completed"
    },
    "tags": []
   },
   "outputs": [
    {
     "data": {
      "image/png": "[encoded data removed]",
      "text/plain": [
       "<Figure size 800x600 with 1 Axes>"
      ]
     },
     "metadata": {},
     "output_type": "display_data"
    }
   ],
   "source": [
    "review_df = df.groupby('appName')['score'].count().reset_index(name='count')\n",
    "plt.figure(figsize=(8, 6))\n",
    "sns.barplot(data=review_df, y='appName', x='count', palette='Set2', orient='h')  \n",
    "\n",
    "plt.title('Number of Reviews', fontsize=18, pad=15)\n",
    "plt.xlabel('Count', fontsize=14, labelpad=10)\n",
    "plt.ylabel('App Name', fontsize=14, labelpad=10)\n",
    "\n",
    "plt.grid(visible=True, which='major', linestyle='--', linewidth=0.7, color='gray')\n",
    "\n",
    "plt.tight_layout()\n",
    "plt.show()"
   ]
  },
  {
   "cell_type": "code",
   "execution_count": 14,
   "id": "6733f30f",
   "metadata": {
    "execution": {
     "iopub.execute_input": "2024-12-24T23:58:58.926033Z",
     "iopub.status.busy": "2024-12-24T23:58:58.925811Z",
     "iopub.status.idle": "2024-12-24T23:59:00.262073Z",
     "shell.execute_reply": "2024-12-24T23:59:00.261117Z"
    },
    "papermill": {
     "duration": 1.347444,
     "end_time": "2024-12-24T23:59:00.263429",
     "exception": false,
     "start_time": "2024-12-24T23:58:58.915985",
     "status": "completed"
    },
    "tags": []
   },
   "outputs": [
    {
     "data": {
      "image/png": "[encoded data removed]",
      "text/plain": [
       "<Figure size 600x400 with 1 Axes>"
      ]
     },
     "metadata": {},
     "output_type": "display_data"
    },
    {
     "data": {
      "image/png": "[encoded data removed]",
      "text/plain": [
       "<Figure size 600x400 with 1 Axes>"
      ]
     },
     "metadata": {},
     "output_type": "display_data"
    },
    {
     "data": {
      "image/png": "[encoded data removed]",
      "text/plain": [
       "<Figure size 600x400 with 1 Axes>"
      ]
     },
     "metadata": {},
     "output_type": "display_data"
    },
    {
     "data": {
      "image/png": "[encoded data removed]",
      "text/plain": [
       "<Figure size 600x400 with 1 Axes>"
      ]
     },
     "metadata": {},
     "output_type": "display_data"
    },
    {
     "data": {
      "image/png": "[encoded data removed]",
      "text/plain": [
       "<Figure size 600x400 with 1 Axes>"
      ]
     },
     "metadata": {},
     "output_type": "display_data"
    }
   ],
   "source": [
    "score_groups = df.groupby('score')['thumbsUpCount']\n",
    "\n",
    "for score, group in score_groups:\n",
    "    plt.figure(figsize=(6, 4))\n",
    "    sns.boxplot(y=group, color='skyblue')\n",
    "    plt.title(f\"Box Plot of thumbsUpCount for Score {score}\", fontsize=14, pad=15)\n",
    "    plt.xlabel('thumbsUpCount', fontsize=12, labelpad=10)\n",
    "    plt.grid(visible=True, which='major', linestyle='--', linewidth=0.7, color='gray')\n",
    "    plt.tight_layout()\n",
    "    plt.show()"
   ]
  },
  {
   "cell_type": "markdown",
   "id": "de747688",
   "metadata": {
    "papermill": {
     "duration": 0.012954,
     "end_time": "2024-12-24T23:59:00.289782",
     "exception": false,
     "start_time": "2024-12-24T23:59:00.276828",
     "status": "completed"
    },
    "tags": []
   },
   "source": [
    "> # 2. Evaluation distribution"
   ]
  },
  {
   "cell_type": "code",
   "execution_count": 15,
   "id": "00f0c73c",
   "metadata": {
    "execution": {
     "iopub.execute_input": "2024-12-24T23:59:00.315566Z",
     "iopub.status.busy": "2024-12-24T23:59:00.315312Z",
     "iopub.status.idle": "2024-12-24T23:59:00.450820Z",
     "shell.execute_reply": "2024-12-24T23:59:00.449968Z"
    },
    "papermill": {
     "duration": 0.150022,
     "end_time": "2024-12-24T23:59:00.452123",
     "exception": false,
     "start_time": "2024-12-24T23:59:00.302101",
     "status": "completed"
    },
    "tags": []
   },
   "outputs": [
    {
     "data": {
      "text/plain": [
       "array(['bad', 'normal', 'good'], dtype=object)"
      ]
     },
     "execution_count": 15,
     "metadata": {},
     "output_type": "execute_result"
    }
   ],
   "source": [
    "def classify_review(score):\n",
    "    if score in [1,2]:\n",
    "        return 'bad'\n",
    "    elif score == 3:\n",
    "        return 'normal'\n",
    "    elif score in [4,5]:\n",
    "        return 'good'\n",
    "\n",
    "df['review'] = df['score'].apply(classify_review)\n",
    "df['review'].unique()"
   ]
  },
  {
   "cell_type": "code",
   "execution_count": 16,
   "id": "d7502d5e",
   "metadata": {
    "execution": {
     "iopub.execute_input": "2024-12-24T23:59:00.485368Z",
     "iopub.status.busy": "2024-12-24T23:59:00.485080Z",
     "iopub.status.idle": "2024-12-24T23:59:00.797872Z",
     "shell.execute_reply": "2024-12-24T23:59:00.797061Z"
    },
    "papermill": {
     "duration": 0.332183,
     "end_time": "2024-12-24T23:59:00.799403",
     "exception": false,
     "start_time": "2024-12-24T23:59:00.467220",
     "status": "completed"
    },
    "tags": []
   },
   "outputs": [
    {
     "data": {
      "image/png": "[encoded data removed]",
      "text/plain": [
       "<Figure size 800x600 with 1 Axes>"
      ]
     },
     "metadata": {},
     "output_type": "display_data"
    }
   ],
   "source": [
    "review_order = ['bad', 'normal', 'good']\n",
    "df['review'] = pd.Categorical(df['review'], categories=review_order, ordered=True)\n",
    "\n",
    "review_counts = df['review'].value_counts().reindex(review_order)\n",
    "\n",
    "plt.figure(figsize=(8, 6))\n",
    "sns.barplot(x=review_counts.index, y=review_counts.values, palette='viridis')\n",
    "plt.grid(visible=True, which='major', linestyle='--', linewidth=0.7, color='gray')\n",
    "plt.xlabel('Review', fontsize=12)\n",
    "plt.ylabel('Count', fontsize=12)\n",
    "plt.title('Count of review', fontsize=18)\n",
    "\n",
    "plt.tight_layout()\n",
    "plt.show()"
   ]
  },
  {
   "cell_type": "code",
   "execution_count": 17,
   "id": "1278b7a2",
   "metadata": {
    "execution": {
     "iopub.execute_input": "2024-12-24T23:59:00.827455Z",
     "iopub.status.busy": "2024-12-24T23:59:00.827140Z",
     "iopub.status.idle": "2024-12-24T23:59:01.123882Z",
     "shell.execute_reply": "2024-12-24T23:59:01.123108Z"
    },
    "papermill": {
     "duration": 0.311894,
     "end_time": "2024-12-24T23:59:01.125367",
     "exception": false,
     "start_time": "2024-12-24T23:59:00.813473",
     "status": "completed"
    },
    "tags": []
   },
   "outputs": [
    {
     "data": {
      "image/png": "[encoded data removed]",
      "text/plain": [
       "<Figure size 800x600 with 1 Axes>"
      ]
     },
     "metadata": {},
     "output_type": "display_data"
    }
   ],
   "source": [
    "mean_df = df.groupby('review')['thumbsUpCount'].mean().reset_index(name='mean')\n",
    "\n",
    "\n",
    "plt.figure(figsize=(8, 6))\n",
    "sns.barplot(x=mean_df['review'], y=mean_df['mean'], palette='viridis')\n",
    "\n",
    "plt.grid(visible=True, which='major', linestyle='--', linewidth=0.7, color='gray')\n",
    "plt.xlabel('Review', fontsize=12)\n",
    "plt.ylabel('Mean thumbsUpCount', fontsize=12)\n",
    "plt.title('Mean thumbsUpCount by Review', fontsize=18)\n",
    "\n",
    "plt.tight_layout()\n",
    "plt.show()"
   ]
  },
  {
   "cell_type": "code",
   "execution_count": 18,
   "id": "ae1d3f4e",
   "metadata": {
    "execution": {
     "iopub.execute_input": "2024-12-24T23:59:01.155162Z",
     "iopub.status.busy": "2024-12-24T23:59:01.154895Z",
     "iopub.status.idle": "2024-12-24T23:59:01.670604Z",
     "shell.execute_reply": "2024-12-24T23:59:01.669708Z"
    },
    "papermill": {
     "duration": 0.531742,
     "end_time": "2024-12-24T23:59:01.671967",
     "exception": false,
     "start_time": "2024-12-24T23:59:01.140225",
     "status": "completed"
    },
    "tags": []
   },
   "outputs": [
    {
     "data": {
      "image/png": "[encoded data removed]",
      "text/plain": [
       "<Figure size 1000x600 with 1 Axes>"
      ]
     },
     "metadata": {},
     "output_type": "display_data"
    }
   ],
   "source": [
    "review_counts = df.groupby(['appName', 'review']).size().reset_index(name='count')\n",
    "\n",
    "plt.figure(figsize=(10, 6))\n",
    "sns.barplot(data=review_counts, x='appName', y='count', hue='review', palette='Set3')\n",
    "\n",
    "plt.xlabel('App Name', fontsize=12)\n",
    "plt.ylabel('Review Count', fontsize=12)\n",
    "plt.title('Review Distribution by App Name', fontsize=18)\n",
    "plt.xticks(rotation=45) \n",
    "plt.grid(True, which='both', linestyle='--', linewidth=0.7, color='gray') # 그리드 설정\n",
    "\n",
    "plt.tight_layout()\n",
    "plt.show()"
   ]
  },
  {
   "cell_type": "markdown",
   "id": "f91eb8a3",
   "metadata": {
    "papermill": {
     "duration": 0.015397,
     "end_time": "2024-12-24T23:59:01.704363",
     "exception": false,
     "start_time": "2024-12-24T23:59:01.688966",
     "status": "completed"
    },
    "tags": []
   },
   "source": [
    "# <div style=\"display: inline-block; padding: 20px 20px; border-radius: 15px; background: linear-gradient(135deg, #d8bfd8, #8b008b); box-shadow: 3px 3px 8px rgba(0, 0, 0, 0.2); font-size: 35px; font-family: Arial, sans-serif; color: #ffffff; text-align: center;\">Modeling : Predicting reviews by content</div>"
   ]
  },
  {
   "cell_type": "markdown",
   "id": "c38b55bb",
   "metadata": {
    "papermill": {
     "duration": 0.016748,
     "end_time": "2024-12-24T23:59:01.737101",
     "exception": false,
     "start_time": "2024-12-24T23:59:01.720353",
     "status": "completed"
    },
    "tags": []
   },
   "source": [
    "> # 0. BERT Embedding"
   ]
  },
  {
   "cell_type": "code",
   "execution_count": 19,
   "id": "e9dd8f7a",
   "metadata": {
    "execution": {
     "iopub.execute_input": "2024-12-24T23:59:01.769157Z",
     "iopub.status.busy": "2024-12-24T23:59:01.768842Z",
     "iopub.status.idle": "2024-12-25T00:55:24.907141Z",
     "shell.execute_reply": "2024-12-25T00:55:24.906145Z"
    },
    "papermill": {
     "duration": 3383.156304,
     "end_time": "2024-12-25T00:55:24.908855",
     "exception": false,
     "start_time": "2024-12-24T23:59:01.752551",
     "status": "completed"
    },
    "tags": []
   },
   "outputs": [
    {
     "data": {
      "application/vnd.jupyter.widget-view+json": {
       "model_id": "fd2e44994c6c4ebcb52ad71e8128550e",
       "version_major": 2,
       "version_minor": 0
      },
      "text/plain": [
       "tokenizer_config.json:   0%|          | 0.00/48.0 [00:00<?, ?B/s]"
      ]
     },
     "metadata": {},
     "output_type": "display_data"
    },
    {
     "data": {
      "application/vnd.jupyter.widget-view+json": {
       "model_id": "c0561a46832044c7a6e3086c1fb9ac0a",
       "version_major": 2,
       "version_minor": 0
      },
      "text/plain": [
       "vocab.txt:   0%|          | 0.00/232k [00:00<?, ?B/s]"
      ]
     },
     "metadata": {},
     "output_type": "display_data"
    },
    {
     "data": {
      "application/vnd.jupyter.widget-view+json": {
       "model_id": "b1428f9ac2d04083905792ba30f4db04",
       "version_major": 2,
       "version_minor": 0
      },
      "text/plain": [
       "tokenizer.json:   0%|          | 0.00/466k [00:00<?, ?B/s]"
      ]
     },
     "metadata": {},
     "output_type": "display_data"
    },
    {
     "data": {
      "application/vnd.jupyter.widget-view+json": {
       "model_id": "376abe14ac6f4b00bfeb9b7857d2613a",
       "version_major": 2,
       "version_minor": 0
      },
      "text/plain": [
       "config.json:   0%|          | 0.00/570 [00:00<?, ?B/s]"
      ]
     },
     "metadata": {},
     "output_type": "display_data"
    },
    {
     "data": {
      "application/vnd.jupyter.widget-view+json": {
       "model_id": "fd72108f48aa4c48a32806464f576eb6",
       "version_major": 2,
       "version_minor": 0
      },
      "text/plain": [
       "model.safetensors:   0%|          | 0.00/440M [00:00<?, ?B/s]"
      ]
     },
     "metadata": {},
     "output_type": "display_data"
    },
    {
     "name": "stderr",
     "output_type": "stream",
     "text": [
      "100%|██████████| 38525/38525 [56:19<00:00, 11.40it/s]\n"
     ]
    }
   ],
   "source": [
    "tokenizer = BertTokenizer.from_pretrained('bert-base-uncased')\n",
    "model = BertModel.from_pretrained('bert-base-uncased')\n",
    "device = torch.device('cuda' if torch.cuda.is_available() else 'cpu')\n",
    "model.to(device)\n",
    "\n",
    "def embed_texts(texts, batch_size=16):\n",
    "    embeddings = []\n",
    "    for i in tqdm(range(0, len(texts), batch_size)):\n",
    "        batch_texts = texts[i:i+batch_size]\n",
    "        inputs = tokenizer(batch_texts, return_tensors='pt', truncation=True, padding=True, max_length=512).to(device)\n",
    "        outputs = model(**inputs)\n",
    "        batch_embeddings = outputs.last_hidden_state.mean(dim=1).detach().cpu().numpy()\n",
    "        embeddings.append(batch_embeddings)\n",
    "    return np.vstack(embeddings)\n",
    "\n",
    "X = embed_texts(df['content'].tolist())\n",
    "y = df['review']"
   ]
  },
  {
   "cell_type": "markdown",
   "id": "988ad9fe",
   "metadata": {
    "papermill": {
     "duration": 1.072464,
     "end_time": "2024-12-25T00:55:27.060133",
     "exception": false,
     "start_time": "2024-12-25T00:55:25.987669",
     "status": "completed"
    },
    "tags": []
   },
   "source": [
    "> # 1. Compare Machine learning model"
   ]
  },
  {
   "cell_type": "code",
   "execution_count": 20,
   "id": "192ea701",
   "metadata": {
    "execution": {
     "iopub.execute_input": "2024-12-25T00:55:29.218402Z",
     "iopub.status.busy": "2024-12-25T00:55:29.217896Z",
     "iopub.status.idle": "2024-12-25T02:12:55.435132Z",
     "shell.execute_reply": "2024-12-25T02:12:55.434149Z"
    },
    "papermill": {
     "duration": 4648.318773,
     "end_time": "2024-12-25T02:12:56.458774",
     "exception": false,
     "start_time": "2024-12-25T00:55:28.140001",
     "status": "completed"
    },
    "tags": []
   },
   "outputs": [
    {
     "name": "stdout",
     "output_type": "stream",
     "text": [
      "[LightGBM] [Info] Auto-choosing col-wise multi-threading, the overhead of testing was 7.314370 seconds.\n",
      "You can set `force_col_wise=true` to remove the overhead.\n",
      "[LightGBM] [Info] Total Bins 195840\n",
      "[LightGBM] [Info] Number of data points in the train set: 493117, number of used features: 768\n",
      "[LightGBM] [Info] Start training from score -0.886187\n",
      "[LightGBM] [Info] Start training from score -0.647814\n",
      "[LightGBM] [Info] Start training from score -2.739740\n"
     ]
    },
    {
     "data": {
      "text/html": [
       "<div>\n",
       "<style scoped>\n",
       "    .dataframe tbody tr th:only-of-type {\n",
       "        vertical-align: middle;\n",
       "    }\n",
       "\n",
       "    .dataframe tbody tr th {\n",
       "        vertical-align: top;\n",
       "    }\n",
       "\n",
       "    .dataframe thead th {\n",
       "        text-align: right;\n",
       "    }\n",
       "</style>\n",
       "<table border=\"1\" class=\"dataframe\">\n",
       "  <thead>\n",
       "    <tr style=\"text-align: right;\">\n",
       "      <th></th>\n",
       "      <th>Model</th>\n",
       "      <th>Accuracy</th>\n",
       "    </tr>\n",
       "  </thead>\n",
       "  <tbody>\n",
       "    <tr>\n",
       "      <th>0</th>\n",
       "      <td>Random Forest</td>\n",
       "      <td>0.846439</td>\n",
       "    </tr>\n",
       "    <tr>\n",
       "      <th>1</th>\n",
       "      <td>Logistic Regression</td>\n",
       "      <td>0.862857</td>\n",
       "    </tr>\n",
       "    <tr>\n",
       "      <th>2</th>\n",
       "      <td>Naive Bayes</td>\n",
       "      <td>0.681489</td>\n",
       "    </tr>\n",
       "    <tr>\n",
       "      <th>3</th>\n",
       "      <td>XGBoost</td>\n",
       "      <td>0.859231</td>\n",
       "    </tr>\n",
       "    <tr>\n",
       "      <th>4</th>\n",
       "      <td>LightGBM</td>\n",
       "      <td>0.855638</td>\n",
       "    </tr>\n",
       "  </tbody>\n",
       "</table>\n",
       "</div>"
      ],
      "text/plain": [
       "                 Model  Accuracy\n",
       "0        Random Forest  0.846439\n",
       "1  Logistic Regression  0.862857\n",
       "2          Naive Bayes  0.681489\n",
       "3              XGBoost  0.859231\n",
       "4             LightGBM  0.855638"
      ]
     },
     "execution_count": 20,
     "metadata": {},
     "output_type": "execute_result"
    }
   ],
   "source": [
    "from sklearn.ensemble import RandomForestClassifier, GradientBoostingClassifier\n",
    "from sklearn.svm import SVC\n",
    "from sklearn.linear_model import LogisticRegression\n",
    "from sklearn.naive_bayes import GaussianNB\n",
    "from sklearn.pipeline import Pipeline\n",
    "from sklearn.preprocessing import StandardScaler\n",
    "from sklearn.metrics import accuracy_score\n",
    "from sklearn.model_selection import train_test_split\n",
    "import xgboost as xgb\n",
    "import lightgbm as lgb\n",
    "import catboost as cb\n",
    "\n",
    "\n",
    "label_encoder = LabelEncoder()\n",
    "y_encoded = label_encoder.fit_transform(y)\n",
    "\n",
    "\n",
    "X_train, X_test, y_train, y_test = train_test_split(X, y_encoded, test_size=0.2, random_state=42)\n",
    "\n",
    "\n",
    "models = {\n",
    "    \"Random Forest\": RandomForestClassifier(),\n",
    "#    \"SVC\": SVC(),\n",
    "    \"Logistic Regression\": LogisticRegression(max_iter=1000),\n",
    "    \"Naive Bayes\": GaussianNB(),\n",
    "    \"XGBoost\": xgb.XGBClassifier(),\n",
    "    \"LightGBM\": lgb.LGBMClassifier(),\n",
    "#    \"Gradient Boosting\": GradientBoostingClassifier(),\n",
    "#    \"CatBoost\": cb.CatBoostClassifier(verbose=0)\n",
    "}\n",
    "\n",
    "\n",
    "results = []\n",
    "\n",
    "for name, model in models.items():\n",
    "    if name in [\"XGBoost\", \"CatBoost\"]:\n",
    "        model.fit(X_train, y_train)\n",
    "        y_pred = model.predict(X_test)\n",
    "    elif name == \"Naive Bayes\":\n",
    "        model.fit(X_train, y_train)\n",
    "        y_pred = model.predict(X_test)\n",
    "    else:\n",
    "        pipeline = Pipeline([\n",
    "            ('scaler', StandardScaler()),\n",
    "            ('classifier', model)\n",
    "        ])\n",
    "        pipeline.fit(X_train, y_train)\n",
    "        y_pred = pipeline.predict(X_test)\n",
    "    \n",
    "    accuracy = accuracy_score(y_test, y_pred)\n",
    "    results.append([name, accuracy])\n",
    "\n",
    "\n",
    "results_df = pd.DataFrame(results, columns=['Model', 'Accuracy'])\n",
    "results_df"
   ]
  },
  {
   "cell_type": "markdown",
   "id": "05f0eacf",
   "metadata": {
    "papermill": {
     "duration": 1.116175,
     "end_time": "2024-12-25T02:12:58.662578",
     "exception": false,
     "start_time": "2024-12-25T02:12:57.546403",
     "status": "completed"
    },
    "tags": []
   },
   "source": [
    "> # 2. BERT (BertForSequenceClassification)"
   ]
  },
  {
   "cell_type": "code",
   "execution_count": 21,
   "id": "861f9d04",
   "metadata": {
    "execution": {
     "iopub.execute_input": "2024-12-25T02:13:00.858429Z",
     "iopub.status.busy": "2024-12-25T02:13:00.857547Z",
     "iopub.status.idle": "2024-12-25T02:13:00.864073Z",
     "shell.execute_reply": "2024-12-25T02:13:00.863259Z"
    },
    "papermill": {
     "duration": 1.071314,
     "end_time": "2024-12-25T02:13:00.865429",
     "exception": false,
     "start_time": "2024-12-25T02:12:59.794115",
     "status": "completed"
    },
    "tags": []
   },
   "outputs": [
    {
     "data": {
      "text/plain": [
       "'\\nfrom transformers import BertForSequenceClassification, AdamW\\nfrom torch.utils.data import DataLoader, Dataset\\n\\nmodel = BertModel.from_pretrained(\\'bert-base-uncased\\')\\ndevice = torch.device(\\'cuda\\' if torch.cuda.is_available() else \\'cpu\\')\\nmodel.to(device)\\n\\n\\nclass TextDataset(Dataset):\\n    def __init__(self, texts, labels, tokenizer, max_length=512):\\n        self.texts = texts\\n        self.labels = labels\\n        self.tokenizer = tokenizer\\n        self.max_length = max_length\\n\\n    def __len__(self):\\n        return len(self.texts)\\n\\n    def __getitem__(self, idx):\\n        text = self.texts[idx]\\n        label = self.labels[idx]\\n        inputs = self.tokenizer(text, truncation=True, padding=\\'max_length\\', max_length=self.max_length, return_tensors=\\'pt\\')\\n        return {\\n            \\'input_ids\\': inputs[\\'input_ids\\'].squeeze(0),\\n            \\'attention_mask\\': inputs[\\'attention_mask\\'].squeeze(0),\\n            \\'labels\\': torch.tensor(label, dtype=torch.long)\\n        }\\n\\ntrain_dataset = TextDataset(X_train.tolist(), y_train, tokenizer)\\nval_dataset = TextDataset(X_test.tolist(), y_test, tokenizer)\\n\\ntrain_loader = DataLoader(train_dataset, batch_size=16, shuffle=True)\\nval_loader = DataLoader(val_dataset, batch_size=16)\\n\\noptimizer = AdamW(model.parameters(), lr=5e-5)\\n\\nepochs = 20\\nfor epoch in range(epochs):\\n    model.train()\\n    train_loss = 0\\n    for batch in train_loader:\\n        optimizer.zero_grad()\\n        input_ids = batch[\\'input_ids\\'].to(device)\\n        attention_mask = batch[\\'attention_mask\\'].to(device)\\n        labels = batch[\\'labels\\'].to(device)\\n        outputs = model(input_ids, attention_mask=attention_mask, labels=labels)\\n        loss = outputs.loss\\n        loss.backward()\\n        optimizer.step()\\n        train_loss += loss.item()\\n    \\n    print(f\"Epoch {epoch + 1}: Training Loss = {train_loss / len(train_loader)}\")\\n    \\n    model.eval()\\n    val_loss = 0\\n    with torch.no_grad():\\n        for batch in val_loader:\\n            input_ids = batch[\\'input_ids\\'].to(device)\\n            attention_mask = batch[\\'attention_mask\\'].to(device)\\n            labels = batch[\\'labels\\'].to(device)\\n            outputs = model(input_ids, attention_mask=attention_mask, labels=labels)\\n            loss = outputs.loss\\n            val_loss += loss.item()\\n    \\n    print(f\"Epoch {epoch + 1}: Validation Loss = {val_loss / len(val_loader)}\")\\n'"
      ]
     },
     "execution_count": 21,
     "metadata": {},
     "output_type": "execute_result"
    }
   ],
   "source": [
    "'''\n",
    "from transformers import BertForSequenceClassification, AdamW\n",
    "from torch.utils.data import DataLoader, Dataset\n",
    "\n",
    "model = BertModel.from_pretrained('bert-base-uncased')\n",
    "device = torch.device('cuda' if torch.cuda.is_available() else 'cpu')\n",
    "model.to(device)\n",
    "\n",
    "\n",
    "class TextDataset(Dataset):\n",
    "    def __init__(self, texts, labels, tokenizer, max_length=512):\n",
    "        self.texts = texts\n",
    "        self.labels = labels\n",
    "        self.tokenizer = tokenizer\n",
    "        self.max_length = max_length\n",
    "\n",
    "    def __len__(self):\n",
    "        return len(self.texts)\n",
    "\n",
    "    def __getitem__(self, idx):\n",
    "        text = self.texts[idx]\n",
    "        label = self.labels[idx]\n",
    "        inputs = self.tokenizer(text, truncation=True, padding='max_length', max_length=self.max_length, return_tensors='pt')\n",
    "        return {\n",
    "            'input_ids': inputs['input_ids'].squeeze(0),\n",
    "            'attention_mask': inputs['attention_mask'].squeeze(0),\n",
    "            'labels': torch.tensor(label, dtype=torch.long)\n",
    "        }\n",
    "\n",
    "train_dataset = TextDataset(X_train.tolist(), y_train, tokenizer)\n",
    "val_dataset = TextDataset(X_test.tolist(), y_test, tokenizer)\n",
    "\n",
    "train_loader = DataLoader(train_dataset, batch_size=16, shuffle=True)\n",
    "val_loader = DataLoader(val_dataset, batch_size=16)\n",
    "\n",
    "optimizer = AdamW(model.parameters(), lr=5e-5)\n",
    "\n",
    "epochs = 20\n",
    "for epoch in range(epochs):\n",
    "    model.train()\n",
    "    train_loss = 0\n",
    "    for batch in train_loader:\n",
    "        optimizer.zero_grad()\n",
    "        input_ids = batch['input_ids'].to(device)\n",
    "        attention_mask = batch['attention_mask'].to(device)\n",
    "        labels = batch['labels'].to(device)\n",
    "        outputs = model(input_ids, attention_mask=attention_mask, labels=labels)\n",
    "        loss = outputs.loss\n",
    "        loss.backward()\n",
    "        optimizer.step()\n",
    "        train_loss += loss.item()\n",
    "    \n",
    "    print(f\"Epoch {epoch + 1}: Training Loss = {train_loss / len(train_loader)}\")\n",
    "    \n",
    "    model.eval()\n",
    "    val_loss = 0\n",
    "    with torch.no_grad():\n",
    "        for batch in val_loader:\n",
    "            input_ids = batch['input_ids'].to(device)\n",
    "            attention_mask = batch['attention_mask'].to(device)\n",
    "            labels = batch['labels'].to(device)\n",
    "            outputs = model(input_ids, attention_mask=attention_mask, labels=labels)\n",
    "            loss = outputs.loss\n",
    "            val_loss += loss.item()\n",
    "    \n",
    "    print(f\"Epoch {epoch + 1}: Validation Loss = {val_loss / len(val_loader)}\")\n",
    "'''"
   ]
  },
  {
   "cell_type": "code",
   "execution_count": 22,
   "id": "b990baea",
   "metadata": {
    "execution": {
     "iopub.execute_input": "2024-12-25T02:13:03.033588Z",
     "iopub.status.busy": "2024-12-25T02:13:03.033302Z",
     "iopub.status.idle": "2024-12-25T02:13:03.037969Z",
     "shell.execute_reply": "2024-12-25T02:13:03.037129Z"
    },
    "papermill": {
     "duration": 1.088236,
     "end_time": "2024-12-25T02:13:03.039725",
     "exception": false,
     "start_time": "2024-12-25T02:13:01.951489",
     "status": "completed"
    },
    "tags": []
   },
   "outputs": [
    {
     "data": {
      "text/plain": [
       "'\\nmodel.eval()\\npredictions = []\\ntrue_labels = []\\n\\nwith torch.no_grad():\\n    for batch in val_loader:\\n        input_ids = batch[\\'input_ids\\'].to(device)\\n        attention_mask = batch[\\'attention_mask\\'].to(device)\\n        labels = batch[\\'labels\\'].to(device)\\n        outputs = model(input_ids, attention_mask=attention_mask)\\n        logits = outputs.logits\\n        predictions.extend(torch.argmax(logits, dim=-1).cpu().numpy())\\n        true_labels.extend(labels.cpu().numpy())\\n\\nprint(\"Classification Report:\")\\nprint(classification_report(true_labels, predictions, target_names=label_encoder.classes_))\\n'"
      ]
     },
     "execution_count": 22,
     "metadata": {},
     "output_type": "execute_result"
    }
   ],
   "source": [
    "'''\n",
    "model.eval()\n",
    "predictions = []\n",
    "true_labels = []\n",
    "\n",
    "with torch.no_grad():\n",
    "    for batch in val_loader:\n",
    "        input_ids = batch['input_ids'].to(device)\n",
    "        attention_mask = batch['attention_mask'].to(device)\n",
    "        labels = batch['labels'].to(device)\n",
    "        outputs = model(input_ids, attention_mask=attention_mask)\n",
    "        logits = outputs.logits\n",
    "        predictions.extend(torch.argmax(logits, dim=-1).cpu().numpy())\n",
    "        true_labels.extend(labels.cpu().numpy())\n",
    "\n",
    "print(\"Classification Report:\")\n",
    "print(classification_report(true_labels, predictions, target_names=label_encoder.classes_))\n",
    "'''"
   ]
  },
  {
   "cell_type": "code",
   "execution_count": 23,
   "id": "e8ff5737",
   "metadata": {
    "execution": {
     "iopub.execute_input": "2024-12-25T02:13:05.134758Z",
     "iopub.status.busy": "2024-12-25T02:13:05.134462Z",
     "iopub.status.idle": "2024-12-25T02:13:05.138928Z",
     "shell.execute_reply": "2024-12-25T02:13:05.138185Z"
    },
    "papermill": {
     "duration": 1.079466,
     "end_time": "2024-12-25T02:13:05.140079",
     "exception": false,
     "start_time": "2024-12-25T02:13:04.060613",
     "status": "completed"
    },
    "tags": []
   },
   "outputs": [
    {
     "data": {
      "text/plain": [
       "\"\\nfrom sklearn.metrics import confusion_matrix\\n\\ncm = confusion_matrix(y_true, y_pred)\\n\\nplt.figure(figsize=(8, 6))\\nsns.heatmap(cm, annot=True, fmt='d', cmap='Blues', xticklabels=label_encoder.classes_, yticklabels=label_encoder.classes_)\\nplt.title('Confusion Matrix')\\nplt.xlabel('Predicted Labels')\\nplt.ylabel('True Labels')\\nplt.show()\\n\""
      ]
     },
     "execution_count": 23,
     "metadata": {},
     "output_type": "execute_result"
    }
   ],
   "source": [
    "'''\n",
    "from sklearn.metrics import confusion_matrix\n",
    "\n",
    "cm = confusion_matrix(y_true, y_pred)\n",
    "\n",
    "plt.figure(figsize=(8, 6))\n",
    "sns.heatmap(cm, annot=True, fmt='d', cmap='Blues', xticklabels=label_encoder.classes_, yticklabels=label_encoder.classes_)\n",
    "plt.title('Confusion Matrix')\n",
    "plt.xlabel('Predicted Labels')\n",
    "plt.ylabel('True Labels')\n",
    "plt.show()\n",
    "'''"
   ]
  },
  {
   "cell_type": "markdown",
   "id": "490d4327",
   "metadata": {
    "papermill": {
     "duration": 1.1031,
     "end_time": "2024-12-25T02:13:07.331652",
     "exception": false,
     "start_time": "2024-12-25T02:13:06.228552",
     "status": "completed"
    },
    "tags": []
   },
   "source": [
    "# <div style=\"display: inline-block; padding: 20px 20px; border-radius: 15px; background: linear-gradient(135deg, #d8bfd8, #8b008b); box-shadow: 3px 3px 8px rgba(0, 0, 0, 0.2); font-size: 35px; font-family: Arial, sans-serif; color: #ffffff; text-align: center;\">Utilize the model</div>"
   ]
  },
  {
   "cell_type": "code",
   "execution_count": 24,
   "id": "2885f7d1",
   "metadata": {
    "execution": {
     "iopub.execute_input": "2024-12-25T02:13:09.439640Z",
     "iopub.status.busy": "2024-12-25T02:13:09.439300Z",
     "iopub.status.idle": "2024-12-25T02:13:09.444085Z",
     "shell.execute_reply": "2024-12-25T02:13:09.443359Z"
    },
    "papermill": {
     "duration": 1.094205,
     "end_time": "2024-12-25T02:13:09.445367",
     "exception": false,
     "start_time": "2024-12-25T02:13:08.351162",
     "status": "completed"
    },
    "tags": []
   },
   "outputs": [
    {
     "data": {
      "text/plain": [
       "'\\nnew_texts = [\"It\\'s a really good product!\", \"It was a terrible experience\"]\\n\\nnew_embeddings = embed_texts(new_texts)\\n\\nmodel.eval()\\nwith torch.no_grad():\\n    inputs = torch.tensor(new_embeddings, dtype=torch.float32).to(device)\\n    outputs = model(inputs)\\n    predictions = torch.argmax(outputs.logits, dim=-1)\\n\\npredicted_labels = label_encoder.inverse_transform(predictions.cpu().numpy())\\nprint(predicted_labels)\\n'"
      ]
     },
     "execution_count": 24,
     "metadata": {},
     "output_type": "execute_result"
    }
   ],
   "source": [
    "'''\n",
    "new_texts = [\"It's a really good product!\", \"It was a terrible experience\"]\n",
    "\n",
    "new_embeddings = embed_texts(new_texts)\n",
    "\n",
    "model.eval()\n",
    "with torch.no_grad():\n",
    "    inputs = torch.tensor(new_embeddings, dtype=torch.float32).to(device)\n",
    "    outputs = model(inputs)\n",
    "    predictions = torch.argmax(outputs.logits, dim=-1)\n",
    "\n",
    "predicted_labels = label_encoder.inverse_transform(predictions.cpu().numpy())\n",
    "print(predicted_labels)\n",
    "'''"
   ]
  },
  {
   "cell_type": "markdown",
   "id": "453ca8c0",
   "metadata": {
    "papermill": {
     "duration": 1.035654,
     "end_time": "2024-12-25T02:13:11.590429",
     "exception": false,
     "start_time": "2024-12-25T02:13:10.554775",
     "status": "completed"
    },
    "tags": []
   },
   "source": [
    "# <div style=\"display: inline-block; padding: 20px 20px; border-radius: 15px; background: linear-gradient(135deg, #d8bfd8, #8b008b); box-shadow: 3px 3px 8px rgba(0, 0, 0, 0.2); font-size: 35px; font-family: Arial, sans-serif; color: #ffffff; text-align: center;\">Thanks !</div>"
   ]
  },
  {
   "cell_type": "markdown",
   "id": "2de09604",
   "metadata": {
    "papermill": {
     "duration": 1.091653,
     "end_time": "2024-12-25T02:13:13.788210",
     "exception": false,
     "start_time": "2024-12-25T02:13:12.696557",
     "status": "completed"
    },
    "tags": []
   },
   "source": [
    "### There is an error in the BERT model code because i did not do the BERT test due to time and resource issues (I'll fix it when I have time !). If you have any questions, please feel free to ask me a question and use the code freely"
   ]
  }
 ],
 "metadata": {
  "kaggle": {
   "accelerator": "nvidiaTeslaT4",
   "dataSources": [
    {
     "datasetId": 6159736,
     "sourceId": 10006418,
     "sourceType": "datasetVersion"
    }
   ],
   "isGpuEnabled": true,
   "isInternetEnabled": true,
   "language": "python",
   "sourceType": "notebook"
  },
  "kernelspec": {
   "display_name": "Python 3",
   "language": "python",
   "name": "python3"
  },
  "language_info": {
   "codemirror_mode": {
    "name": "ipython",
    "version": 3
   },
   "file_extension": ".py",
   "mimetype": "text/x-python",
   "name": "python",
   "nbconvert_exporter": "python",
   "pygments_lexer": "ipython3",
   "version": "3.10.12"
  },
  "papermill": {
   "default_parameters": {},
   "duration": 8085.788774,
   "end_time": "2024-12-25T02:13:18.801718",
   "environment_variables": {},
   "exception": null,
   "input_path": "__notebook__.ipynb",
   "output_path": "__notebook__.ipynb",
   "parameters": {},
   "start_time": "2024-12-24T23:58:33.012944",
   "version": "2.6.0"
  },
  "widgets": {
   "application/vnd.jupyter.widget-state+json": {
    "state": {
     "018ccaff8c5043adb3ea8f01d0cb5b21": {
      "model_module": "@jupyter-widgets/controls",
      "model_module_version": "2.0.0",
      "model_name": "FloatProgressModel",
      "state": {
       "_dom_classes": [],
       "_model_module": "@jupyter-widgets/controls",
       "_model_module_version": "2.0.0",
       "_model_name": "FloatProgressModel",
       "_view_count": null,
       "_view_module": "@jupyter-widgets/controls",
       "_view_module_version": "2.0.0",
       "_view_name": "ProgressView",
       "bar_style": "success",
       "description": "",
       "description_allow_html": false,
       "layout": "IPY_MODEL_830383d163d44bce802f0573944ffc70",
       "max": 231508.0,
       "min": 0.0,
       "orientation": "horizontal",
       "style": "IPY_MODEL_9f753a2f7b9f48139e29f7fbf69ade49",
       "tabbable": null,
       "tooltip": null,
       "value": 231508.0
      }
     },
     "049351f876c34811afb2d05460752bc7": {
      "model_module": "@jupyter-widgets/controls",
      "model_module_version": "2.0.0",
      "model_name": "ProgressStyleModel",
      "state": {
       "_model_module": "@jupyter-widgets/controls",
       "_model_module_version": "2.0.0",
       "_model_name": "ProgressStyleModel",
       "_view_count": null,
       "_view_module": "@jupyter-widgets/base",
       "_view_module_version": "2.0.0",
       "_view_name": "StyleView",
       "bar_color": null,
       "description_width": ""
      }
     },
     "0a496157776d444ea66c9fa2a78d6dfc": {
      "model_module": "@jupyter-widgets/base",
      "model_module_version": "2.0.0",
      "model_name": "LayoutModel",
      "state": {
       "_model_module": "@jupyter-widgets/base",
       "_model_module_version": "2.0.0",
       "_model_name": "LayoutModel",
       "_view_count": null,
       "_view_module": "@jupyter-widgets/base",
       "_view_module_version": "2.0.0",
       "_view_name": "LayoutView",
       "align_content": null,
       "align_items": null,
       "align_self": null,
       "border_bottom": null,
       "border_left": null,
       "border_right": null,
       "border_top": null,
       "bottom": null,
       "display": null,
       "flex": null,
       "flex_flow": null,
       "grid_area": null,
       "grid_auto_columns": null,
       "grid_auto_flow": null,
       "grid_auto_rows": null,
       "grid_column": null,
       "grid_gap": null,
       "grid_row": null,
       "grid_template_areas": null,
       "grid_template_columns": null,
       "grid_template_rows": null,
       "height": null,
       "justify_content": null,
       "justify_items": null,
       "left": null,
       "margin": null,
       "max_height": null,
       "max_width": null,
       "min_height": null,
       "min_width": null,
       "object_fit": null,
       "object_position": null,
       "order": null,
       "overflow": null,
       "padding": null,
       "right": null,
       "top": null,
       "visibility": null,
       "width": null
      }
     },
     "0b68f438248a402c90dae56518acdfd6": {
      "model_module": "@jupyter-widgets/controls",
      "model_module_version": "2.0.0",
      "model_name": "HTMLStyleModel",
      "state": {
       "_model_module": "@jupyter-widgets/controls",
       "_model_module_version": "2.0.0",
       "_model_name": "HTMLStyleModel",
       "_view_count": null,
       "_view_module": "@jupyter-widgets/base",
       "_view_module_version": "2.0.0",
       "_view_name": "StyleView",
       "background": null,
       "description_width": "",
       "font_size": null,
       "text_color": null
      }
     },
     "15cfd14f07c64fe9b2f7b5d068ef5f2b": {
      "model_module": "@jupyter-widgets/controls",
      "model_module_version": "2.0.0",
      "model_name": "HTMLModel",
      "state": {
       "_dom_classes": [],
       "_model_module": "@jupyter-widgets/controls",
       "_model_module_version": "2.0.0",
       "_model_name": "HTMLModel",
       "_view_count": null,
       "_view_module": "@jupyter-widgets/controls",
       "_view_module_version": "2.0.0",
       "_view_name": "HTMLView",
       "description": "",
       "description_allow_html": false,
       "layout": "IPY_MODEL_6c3dcd84e65340c0bf78fa18b8af15a7",
       "placeholder": "​",
       "style": "IPY_MODEL_b223d112020b4ecbade21bd0c8ab3d69",
       "tabbable": null,
       "tooltip": null,
       "value": " 440M/440M [00:01&lt;00:00, 240MB/s]"
      }
     },
     "189bb913795b4140b62b486c411cb4b5": {
      "model_module": "@jupyter-widgets/base",
      "model_module_version": "2.0.0",
      "model_name": "LayoutModel",
      "state": {
       "_model_module": "@jupyter-widgets/base",
       "_model_module_version": "2.0.0",
       "_model_name": "LayoutModel",
       "_view_count": null,
       "_view_module": "@jupyter-widgets/base",
       "_view_module_version": "2.0.0",
       "_view_name": "LayoutView",
       "align_content": null,
       "align_items": null,
       "align_self": null,
       "border_bottom": null,
       "border_left": null,
       "border_right": null,
       "border_top": null,
       "bottom": null,
       "display": null,
       "flex": null,
       "flex_flow": null,
       "grid_area": null,
       "grid_auto_columns": null,
       "grid_auto_flow": null,
       "grid_auto_rows": null,
       "grid_column": null,
       "grid_gap": null,
       "grid_row": null,
       "grid_template_areas": null,
       "grid_template_columns": null,
       "grid_template_rows": null,
       "height": null,
       "justify_content": null,
       "justify_items": null,
       "left": null,
       "margin": null,
       "max_height": null,
       "max_width": null,
       "min_height": null,
       "min_width": null,
       "object_fit": null,
       "object_position": null,
       "order": null,
       "overflow": null,
       "padding": null,
       "right": null,
       "top": null,
       "visibility": null,
       "width": null
      }
     },
     "1dd6210e8bfc4ba8b9a46b1933eef5aa": {
      "model_module": "@jupyter-widgets/base",
      "model_module_version": "2.0.0",
      "model_name": "LayoutModel",
      "state": {
       "_model_module": "@jupyter-widgets/base",
       "_model_module_version": "2.0.0",
       "_model_name": "LayoutModel",
       "_view_count": null,
       "_view_module": "@jupyter-widgets/base",
       "_view_module_version": "2.0.0",
       "_view_name": "LayoutView",
       "align_content": null,
       "align_items": null,
       "align_self": null,
       "border_bottom": null,
       "border_left": null,
       "border_right": null,
       "border_top": null,
       "bottom": null,
       "display": null,
       "flex": null,
       "flex_flow": null,
       "grid_area": null,
       "grid_auto_columns": null,
       "grid_auto_flow": null,
       "grid_auto_rows": null,
       "grid_column": null,
       "grid_gap": null,
       "grid_row": null,
       "grid_template_areas": null,
       "grid_template_columns": null,
       "grid_template_rows": null,
       "height": null,
       "justify_content": null,
       "justify_items": null,
       "left": null,
       "margin": null,
       "max_height": null,
       "max_width": null,
       "min_height": null,
       "min_width": null,
       "object_fit": null,
       "object_position": null,
       "order": null,
       "overflow": null,
       "padding": null,
       "right": null,
       "top": null,
       "visibility": null,
       "width": null
      }
     },
     "25bb019b6a4745568bcfb01b342a3257": {
      "model_module": "@jupyter-widgets/controls",
      "model_module_version": "2.0.0",
      "model_name": "HTMLStyleModel",
      "state": {
       "_model_module": "@jupyter-widgets/controls",
       "_model_module_version": "2.0.0",
       "_model_name": "HTMLStyleModel",
       "_view_count": null,
       "_view_module": "@jupyter-widgets/base",
       "_view_module_version": "2.0.0",
       "_view_name": "StyleView",
       "background": null,
       "description_width": "",
       "font_size": null,
       "text_color": null
      }
     },
     "2a3fd5e133114b4e9167e47bfa4f38f8": {
      "model_module": "@jupyter-widgets/controls",
      "model_module_version": "2.0.0",
      "model_name": "HTMLModel",
      "state": {
       "_dom_classes": [],
       "_model_module": "@jupyter-widgets/controls",
       "_model_module_version": "2.0.0",
       "_model_name": "HTMLModel",
       "_view_count": null,
       "_view_module": "@jupyter-widgets/controls",
       "_view_module_version": "2.0.0",
       "_view_name": "HTMLView",
       "description": "",
       "description_allow_html": false,
       "layout": "IPY_MODEL_e2070018730a4846aac76cb4dc155f21",
       "placeholder": "​",
       "style": "IPY_MODEL_a71450297e66465c8d711478ce96532c",
       "tabbable": null,
       "tooltip": null,
       "value": " 466k/466k [00:00&lt;00:00, 12.1MB/s]"
      }
     },
     "2c65cf3662084567b971bb85fbca5000": {
      "model_module": "@jupyter-widgets/base",
      "model_module_version": "2.0.0",
      "model_name": "LayoutModel",
      "state": {
       "_model_module": "@jupyter-widgets/base",
       "_model_module_version": "2.0.0",
       "_model_name": "LayoutModel",
       "_view_count": null,
       "_view_module": "@jupyter-widgets/base",
       "_view_module_version": "2.0.0",
       "_view_name": "LayoutView",
       "align_content": null,
       "align_items": null,
       "align_self": null,
       "border_bottom": null,
       "border_left": null,
       "border_right": null,
       "border_top": null,
       "bottom": null,
       "display": null,
       "flex": null,
       "flex_flow": null,
       "grid_area": null,
       "grid_auto_columns": null,
       "grid_auto_flow": null,
       "grid_auto_rows": null,
       "grid_column": null,
       "grid_gap": null,
       "grid_row": null,
       "grid_template_areas": null,
       "grid_template_columns": null,
       "grid_template_rows": null,
       "height": null,
       "justify_content": null,
       "justify_items": null,
       "left": null,
       "margin": null,
       "max_height": null,
       "max_width": null,
       "min_height": null,
       "min_width": null,
       "object_fit": null,
       "object_position": null,
       "order": null,
       "overflow": null,
       "padding": null,
       "right": null,
       "top": null,
       "visibility": null,
       "width": null
      }
     },
     "2e88a66ec00f4ca5a307c78167de22f2": {
      "model_module": "@jupyter-widgets/base",
      "model_module_version": "2.0.0",
      "model_name": "LayoutModel",
      "state": {
       "_model_module": "@jupyter-widgets/base",
       "_model_module_version": "2.0.0",
       "_model_name": "LayoutModel",
       "_view_count": null,
       "_view_module": "@jupyter-widgets/base",
       "_view_module_version": "2.0.0",
       "_view_name": "LayoutView",
       "align_content": null,
       "align_items": null,
       "align_self": null,
       "border_bottom": null,
       "border_left": null,
       "border_right": null,
       "border_top": null,
       "bottom": null,
       "display": null,
       "flex": null,
       "flex_flow": null,
       "grid_area": null,
       "grid_auto_columns": null,
       "grid_auto_flow": null,
       "grid_auto_rows": null,
       "grid_column": null,
       "grid_gap": null,
       "grid_row": null,
       "grid_template_areas": null,
       "grid_template_columns": null,
       "grid_template_rows": null,
       "height": null,
       "justify_content": null,
       "justify_items": null,
       "left": null,
       "margin": null,
       "max_height": null,
       "max_width": null,
       "min_height": null,
       "min_width": null,
       "object_fit": null,
       "object_position": null,
       "order": null,
       "overflow": null,
       "padding": null,
       "right": null,
       "top": null,
       "visibility": null,
       "width": null
      }
     },
     "30e2bfca06964668b68b7760606fba71": {
      "model_module": "@jupyter-widgets/controls",
      "model_module_version": "2.0.0",
      "model_name": "ProgressStyleModel",
      "state": {
       "_model_module": "@jupyter-widgets/controls",
       "_model_module_version": "2.0.0",
       "_model_name": "ProgressStyleModel",
       "_view_count": null,
       "_view_module": "@jupyter-widgets/base",
       "_view_module_version": "2.0.0",
       "_view_name": "StyleView",
       "bar_color": null,
       "description_width": ""
      }
     },
     "355accf072f848c6a4cfe5b3ebd2b70d": {
      "model_module": "@jupyter-widgets/controls",
      "model_module_version": "2.0.0",
      "model_name": "ProgressStyleModel",
      "state": {
       "_model_module": "@jupyter-widgets/controls",
       "_model_module_version": "2.0.0",
       "_model_name": "ProgressStyleModel",
       "_view_count": null,
       "_view_module": "@jupyter-widgets/base",
       "_view_module_version": "2.0.0",
       "_view_name": "StyleView",
       "bar_color": null,
       "description_width": ""
      }
     },
     "376abe14ac6f4b00bfeb9b7857d2613a": {
      "model_module": "@jupyter-widgets/controls",
      "model_module_version": "2.0.0",
      "model_name": "HBoxModel",
      "state": {
       "_dom_classes": [],
       "_model_module": "@jupyter-widgets/controls",
       "_model_module_version": "2.0.0",
       "_model_name": "HBoxModel",
       "_view_count": null,
       "_view_module": "@jupyter-widgets/controls",
       "_view_module_version": "2.0.0",
       "_view_name": "HBoxView",
       "box_style": "",
       "children": [
        "IPY_MODEL_6b108ef1e89544688e782adc076e6707",
        "IPY_MODEL_e5b5488c6abe470989552255982268e3",
        "IPY_MODEL_7c6c6ed9597b4838bbe7c9babb39a1c0"
       ],
       "layout": "IPY_MODEL_7f0a25574541455db1156fedf6cb313e",
       "tabbable": null,
       "tooltip": null
      }
     },
     "4055128b2c694d6bb3596839d65b8b28": {
      "model_module": "@jupyter-widgets/controls",
      "model_module_version": "2.0.0",
      "model_name": "HTMLModel",
      "state": {
       "_dom_classes": [],
       "_model_module": "@jupyter-widgets/controls",
       "_model_module_version": "2.0.0",
       "_model_name": "HTMLModel",
       "_view_count": null,
       "_view_module": "@jupyter-widgets/controls",
       "_view_module_version": "2.0.0",
       "_view_name": "HTMLView",
       "description": "",
       "description_allow_html": false,
       "layout": "IPY_MODEL_8a59841e06124c0e8b37fd6c7ff6a7af",
       "placeholder": "​",
       "style": "IPY_MODEL_55092e4ca7c448d194b8e0923a12fec4",
       "tabbable": null,
       "tooltip": null,
       "value": "tokenizer.json: 100%"
      }
     },
     "432f77f6b0a24240ba57ff77b9f817fd": {
      "model_module": "@jupyter-widgets/controls",
      "model_module_version": "2.0.0",
      "model_name": "HTMLModel",
      "state": {
       "_dom_classes": [],
       "_model_module": "@jupyter-widgets/controls",
       "_model_module_version": "2.0.0",
       "_model_name": "HTMLModel",
       "_view_count": null,
       "_view_module": "@jupyter-widgets/controls",
       "_view_module_version": "2.0.0",
       "_view_name": "HTMLView",
       "description": "",
       "description_allow_html": false,
       "layout": "IPY_MODEL_77597fc1c33d431ba909141b91b470c5",
       "placeholder": "​",
       "style": "IPY_MODEL_755189b70dce4949b67899b4bc84cff3",
       "tabbable": null,
       "tooltip": null,
       "value": " 48.0/48.0 [00:00&lt;00:00, 4.80kB/s]"
      }
     },
     "50b30789ec5b4455a40cdd5c329bbe1f": {
      "model_module": "@jupyter-widgets/controls",
      "model_module_version": "2.0.0",
      "model_name": "HTMLStyleModel",
      "state": {
       "_model_module": "@jupyter-widgets/controls",
       "_model_module_version": "2.0.0",
       "_model_name": "HTMLStyleModel",
       "_view_count": null,
       "_view_module": "@jupyter-widgets/base",
       "_view_module_version": "2.0.0",
       "_view_name": "StyleView",
       "background": null,
       "description_width": "",
       "font_size": null,
       "text_color": null
      }
     },
     "55092e4ca7c448d194b8e0923a12fec4": {
      "model_module": "@jupyter-widgets/controls",
      "model_module_version": "2.0.0",
      "model_name": "HTMLStyleModel",
      "state": {
       "_model_module": "@jupyter-widgets/controls",
       "_model_module_version": "2.0.0",
       "_model_name": "HTMLStyleModel",
       "_view_count": null,
       "_view_module": "@jupyter-widgets/base",
       "_view_module_version": "2.0.0",
       "_view_name": "StyleView",
       "background": null,
       "description_width": "",
       "font_size": null,
       "text_color": null
      }
     },
     "5c4c2eceaf2544f89bdb1161a1cded9b": {
      "model_module": "@jupyter-widgets/base",
      "model_module_version": "2.0.0",
      "model_name": "LayoutModel",
      "state": {
       "_model_module": "@jupyter-widgets/base",
       "_model_module_version": "2.0.0",
       "_model_name": "LayoutModel",
       "_view_count": null,
       "_view_module": "@jupyter-widgets/base",
       "_view_module_version": "2.0.0",
       "_view_name": "LayoutView",
       "align_content": null,
       "align_items": null,
       "align_self": null,
       "border_bottom": null,
       "border_left": null,
       "border_right": null,
       "border_top": null,
       "bottom": null,
       "display": null,
       "flex": null,
       "flex_flow": null,
       "grid_area": null,
       "grid_auto_columns": null,
       "grid_auto_flow": null,
       "grid_auto_rows": null,
       "grid_column": null,
       "grid_gap": null,
       "grid_row": null,
       "grid_template_areas": null,
       "grid_template_columns": null,
       "grid_template_rows": null,
       "height": null,
       "justify_content": null,
       "justify_items": null,
       "left": null,
       "margin": null,
       "max_height": null,
       "max_width": null,
       "min_height": null,
       "min_width": null,
       "object_fit": null,
       "object_position": null,
       "order": null,
       "overflow": null,
       "padding": null,
       "right": null,
       "top": null,
       "visibility": null,
       "width": null
      }
     },
     "62124edca6c848389136909a2bf09fc8": {
      "model_module": "@jupyter-widgets/base",
      "model_module_version": "2.0.0",
      "model_name": "LayoutModel",
      "state": {
       "_model_module": "@jupyter-widgets/base",
       "_model_module_version": "2.0.0",
       "_model_name": "LayoutModel",
       "_view_count": null,
       "_view_module": "@jupyter-widgets/base",
       "_view_module_version": "2.0.0",
       "_view_name": "LayoutView",
       "align_content": null,
       "align_items": null,
       "align_self": null,
       "border_bottom": null,
       "border_left": null,
       "border_right": null,
       "border_top": null,
       "bottom": null,
       "display": null,
       "flex": null,
       "flex_flow": null,
       "grid_area": null,
       "grid_auto_columns": null,
       "grid_auto_flow": null,
       "grid_auto_rows": null,
       "grid_column": null,
       "grid_gap": null,
       "grid_row": null,
       "grid_template_areas": null,
       "grid_template_columns": null,
       "grid_template_rows": null,
       "height": null,
       "justify_content": null,
       "justify_items": null,
       "left": null,
       "margin": null,
       "max_height": null,
       "max_width": null,
       "min_height": null,
       "min_width": null,
       "object_fit": null,
       "object_position": null,
       "order": null,
       "overflow": null,
       "padding": null,
       "right": null,
       "top": null,
       "visibility": null,
       "width": null
      }
     },
     "69acba9cf652483f8980ca8bb83853da": {
      "model_module": "@jupyter-widgets/base",
      "model_module_version": "2.0.0",
      "model_name": "LayoutModel",
      "state": {
       "_model_module": "@jupyter-widgets/base",
       "_model_module_version": "2.0.0",
       "_model_name": "LayoutModel",
       "_view_count": null,
       "_view_module": "@jupyter-widgets/base",
       "_view_module_version": "2.0.0",
       "_view_name": "LayoutView",
       "align_content": null,
       "align_items": null,
       "align_self": null,
       "border_bottom": null,
       "border_left": null,
       "border_right": null,
       "border_top": null,
       "bottom": null,
       "display": null,
       "flex": null,
       "flex_flow": null,
       "grid_area": null,
       "grid_auto_columns": null,
       "grid_auto_flow": null,
       "grid_auto_rows": null,
       "grid_column": null,
       "grid_gap": null,
       "grid_row": null,
       "grid_template_areas": null,
       "grid_template_columns": null,
       "grid_template_rows": null,
       "height": null,
       "justify_content": null,
       "justify_items": null,
       "left": null,
       "margin": null,
       "max_height": null,
       "max_width": null,
       "min_height": null,
       "min_width": null,
       "object_fit": null,
       "object_position": null,
       "order": null,
       "overflow": null,
       "padding": null,
       "right": null,
       "top": null,
       "visibility": null,
       "width": null
      }
     },
     "6b108ef1e89544688e782adc076e6707": {
      "model_module": "@jupyter-widgets/controls",
      "model_module_version": "2.0.0",
      "model_name": "HTMLModel",
      "state": {
       "_dom_classes": [],
       "_model_module": "@jupyter-widgets/controls",
       "_model_module_version": "2.0.0",
       "_model_name": "HTMLModel",
       "_view_count": null,
       "_view_module": "@jupyter-widgets/controls",
       "_view_module_version": "2.0.0",
       "_view_name": "HTMLView",
       "description": "",
       "description_allow_html": false,
       "layout": "IPY_MODEL_af91d8dd8ebc49c0adc5c43e92d8bf44",
       "placeholder": "​",
       "style": "IPY_MODEL_50b30789ec5b4455a40cdd5c329bbe1f",
       "tabbable": null,
       "tooltip": null,
       "value": "config.json: 100%"
      }
     },
     "6c3dcd84e65340c0bf78fa18b8af15a7": {
      "model_module": "@jupyter-widgets/base",
      "model_module_version": "2.0.0",
      "model_name": "LayoutModel",
      "state": {
       "_model_module": "@jupyter-widgets/base",
       "_model_module_version": "2.0.0",
       "_model_name": "LayoutModel",
       "_view_count": null,
       "_view_module": "@jupyter-widgets/base",
       "_view_module_version": "2.0.0",
       "_view_name": "LayoutView",
       "align_content": null,
       "align_items": null,
       "align_self": null,
       "border_bottom": null,
       "border_left": null,
       "border_right": null,
       "border_top": null,
       "bottom": null,
       "display": null,
       "flex": null,
       "flex_flow": null,
       "grid_area": null,
       "grid_auto_columns": null,
       "grid_auto_flow": null,
       "grid_auto_rows": null,
       "grid_column": null,
       "grid_gap": null,
       "grid_row": null,
       "grid_template_areas": null,
       "grid_template_columns": null,
       "grid_template_rows": null,
       "height": null,
       "justify_content": null,
       "justify_items": null,
       "left": null,
       "margin": null,
       "max_height": null,
       "max_width": null,
       "min_height": null,
       "min_width": null,
       "object_fit": null,
       "object_position": null,
       "order": null,
       "overflow": null,
       "padding": null,
       "right": null,
       "top": null,
       "visibility": null,
       "width": null
      }
     },
     "6dd6edad66a843fe95c46babba832528": {
      "model_module": "@jupyter-widgets/controls",
      "model_module_version": "2.0.0",
      "model_name": "FloatProgressModel",
      "state": {
       "_dom_classes": [],
       "_model_module": "@jupyter-widgets/controls",
       "_model_module_version": "2.0.0",
       "_model_name": "FloatProgressModel",
       "_view_count": null,
       "_view_module": "@jupyter-widgets/controls",
       "_view_module_version": "2.0.0",
       "_view_name": "ProgressView",
       "bar_style": "success",
       "description": "",
       "description_allow_html": false,
       "layout": "IPY_MODEL_62124edca6c848389136909a2bf09fc8",
       "max": 48.0,
       "min": 0.0,
       "orientation": "horizontal",
       "style": "IPY_MODEL_bf583ccf4b5b4f458e710b1e797e3302",
       "tabbable": null,
       "tooltip": null,
       "value": 48.0
      }
     },
     "6f28f69b7e9943edb274738bbef1d8a7": {
      "model_module": "@jupyter-widgets/controls",
      "model_module_version": "2.0.0",
      "model_name": "HTMLStyleModel",
      "state": {
       "_model_module": "@jupyter-widgets/controls",
       "_model_module_version": "2.0.0",
       "_model_name": "HTMLStyleModel",
       "_view_count": null,
       "_view_module": "@jupyter-widgets/base",
       "_view_module_version": "2.0.0",
       "_view_name": "StyleView",
       "background": null,
       "description_width": "",
       "font_size": null,
       "text_color": null
      }
     },
     "7480d9e274d146c393ca73348b5855de": {
      "model_module": "@jupyter-widgets/base",
      "model_module_version": "2.0.0",
      "model_name": "LayoutModel",
      "state": {
       "_model_module": "@jupyter-widgets/base",
       "_model_module_version": "2.0.0",
       "_model_name": "LayoutModel",
       "_view_count": null,
       "_view_module": "@jupyter-widgets/base",
       "_view_module_version": "2.0.0",
       "_view_name": "LayoutView",
       "align_content": null,
       "align_items": null,
       "align_self": null,
       "border_bottom": null,
       "border_left": null,
       "border_right": null,
       "border_top": null,
       "bottom": null,
       "display": null,
       "flex": null,
       "flex_flow": null,
       "grid_area": null,
       "grid_auto_columns": null,
       "grid_auto_flow": null,
       "grid_auto_rows": null,
       "grid_column": null,
       "grid_gap": null,
       "grid_row": null,
       "grid_template_areas": null,
       "grid_template_columns": null,
       "grid_template_rows": null,
       "height": null,
       "justify_content": null,
       "justify_items": null,
       "left": null,
       "margin": null,
       "max_height": null,
       "max_width": null,
       "min_height": null,
       "min_width": null,
       "object_fit": null,
       "object_position": null,
       "order": null,
       "overflow": null,
       "padding": null,
       "right": null,
       "top": null,
       "visibility": null,
       "width": null
      }
     },
     "755189b70dce4949b67899b4bc84cff3": {
      "model_module": "@jupyter-widgets/controls",
      "model_module_version": "2.0.0",
      "model_name": "HTMLStyleModel",
      "state": {
       "_model_module": "@jupyter-widgets/controls",
       "_model_module_version": "2.0.0",
       "_model_name": "HTMLStyleModel",
       "_view_count": null,
       "_view_module": "@jupyter-widgets/base",
       "_view_module_version": "2.0.0",
       "_view_name": "StyleView",
       "background": null,
       "description_width": "",
       "font_size": null,
       "text_color": null
      }
     },
     "77597fc1c33d431ba909141b91b470c5": {
      "model_module": "@jupyter-widgets/base",
      "model_module_version": "2.0.0",
      "model_name": "LayoutModel",
      "state": {
       "_model_module": "@jupyter-widgets/base",
       "_model_module_version": "2.0.0",
       "_model_name": "LayoutModel",
       "_view_count": null,
       "_view_module": "@jupyter-widgets/base",
       "_view_module_version": "2.0.0",
       "_view_name": "LayoutView",
       "align_content": null,
       "align_items": null,
       "align_self": null,
       "border_bottom": null,
       "border_left": null,
       "border_right": null,
       "border_top": null,
       "bottom": null,
       "display": null,
       "flex": null,
       "flex_flow": null,
       "grid_area": null,
       "grid_auto_columns": null,
       "grid_auto_flow": null,
       "grid_auto_rows": null,
       "grid_column": null,
       "grid_gap": null,
       "grid_row": null,
       "grid_template_areas": null,
       "grid_template_columns": null,
       "grid_template_rows": null,
       "height": null,
       "justify_content": null,
       "justify_items": null,
       "left": null,
       "margin": null,
       "max_height": null,
       "max_width": null,
       "min_height": null,
       "min_width": null,
       "object_fit": null,
       "object_position": null,
       "order": null,
       "overflow": null,
       "padding": null,
       "right": null,
       "top": null,
       "visibility": null,
       "width": null
      }
     },
     "7c6c6ed9597b4838bbe7c9babb39a1c0": {
      "model_module": "@jupyter-widgets/controls",
      "model_module_version": "2.0.0",
      "model_name": "HTMLModel",
      "state": {
       "_dom_classes": [],
       "_model_module": "@jupyter-widgets/controls",
       "_model_module_version": "2.0.0",
       "_model_name": "HTMLModel",
       "_view_count": null,
       "_view_module": "@jupyter-widgets/controls",
       "_view_module_version": "2.0.0",
       "_view_name": "HTMLView",
       "description": "",
       "description_allow_html": false,
       "layout": "IPY_MODEL_69acba9cf652483f8980ca8bb83853da",
       "placeholder": "​",
       "style": "IPY_MODEL_0b68f438248a402c90dae56518acdfd6",
       "tabbable": null,
       "tooltip": null,
       "value": " 570/570 [00:00&lt;00:00, 64.9kB/s]"
      }
     },
     "7f0a25574541455db1156fedf6cb313e": {
      "model_module": "@jupyter-widgets/base",
      "model_module_version": "2.0.0",
      "model_name": "LayoutModel",
      "state": {
       "_model_module": "@jupyter-widgets/base",
       "_model_module_version": "2.0.0",
       "_model_name": "LayoutModel",
       "_view_count": null,
       "_view_module": "@jupyter-widgets/base",
       "_view_module_version": "2.0.0",
       "_view_name": "LayoutView",
       "align_content": null,
       "align_items": null,
       "align_self": null,
       "border_bottom": null,
       "border_left": null,
       "border_right": null,
       "border_top": null,
       "bottom": null,
       "display": null,
       "flex": null,
       "flex_flow": null,
       "grid_area": null,
       "grid_auto_columns": null,
       "grid_auto_flow": null,
       "grid_auto_rows": null,
       "grid_column": null,
       "grid_gap": null,
       "grid_row": null,
       "grid_template_areas": null,
       "grid_template_columns": null,
       "grid_template_rows": null,
       "height": null,
       "justify_content": null,
       "justify_items": null,
       "left": null,
       "margin": null,
       "max_height": null,
       "max_width": null,
       "min_height": null,
       "min_width": null,
       "object_fit": null,
       "object_position": null,
       "order": null,
       "overflow": null,
       "padding": null,
       "right": null,
       "top": null,
       "visibility": null,
       "width": null
      }
     },
     "830383d163d44bce802f0573944ffc70": {
      "model_module": "@jupyter-widgets/base",
      "model_module_version": "2.0.0",
      "model_name": "LayoutModel",
      "state": {
       "_model_module": "@jupyter-widgets/base",
       "_model_module_version": "2.0.0",
       "_model_name": "LayoutModel",
       "_view_count": null,
       "_view_module": "@jupyter-widgets/base",
       "_view_module_version": "2.0.0",
       "_view_name": "LayoutView",
       "align_content": null,
       "align_items": null,
       "align_self": null,
       "border_bottom": null,
       "border_left": null,
       "border_right": null,
       "border_top": null,
       "bottom": null,
       "display": null,
       "flex": null,
       "flex_flow": null,
       "grid_area": null,
       "grid_auto_columns": null,
       "grid_auto_flow": null,
       "grid_auto_rows": null,
       "grid_column": null,
       "grid_gap": null,
       "grid_row": null,
       "grid_template_areas": null,
       "grid_template_columns": null,
       "grid_template_rows": null,
       "height": null,
       "justify_content": null,
       "justify_items": null,
       "left": null,
       "margin": null,
       "max_height": null,
       "max_width": null,
       "min_height": null,
       "min_width": null,
       "object_fit": null,
       "object_position": null,
       "order": null,
       "overflow": null,
       "padding": null,
       "right": null,
       "top": null,
       "visibility": null,
       "width": null
      }
     },
     "8a1f09da7b524ce29e58765d9898f052": {
      "model_module": "@jupyter-widgets/base",
      "model_module_version": "2.0.0",
      "model_name": "LayoutModel",
      "state": {
       "_model_module": "@jupyter-widgets/base",
       "_model_module_version": "2.0.0",
       "_model_name": "LayoutModel",
       "_view_count": null,
       "_view_module": "@jupyter-widgets/base",
       "_view_module_version": "2.0.0",
       "_view_name": "LayoutView",
       "align_content": null,
       "align_items": null,
       "align_self": null,
       "border_bottom": null,
       "border_left": null,
       "border_right": null,
       "border_top": null,
       "bottom": null,
       "display": null,
       "flex": null,
       "flex_flow": null,
       "grid_area": null,
       "grid_auto_columns": null,
       "grid_auto_flow": null,
       "grid_auto_rows": null,
       "grid_column": null,
       "grid_gap": null,
       "grid_row": null,
       "grid_template_areas": null,
       "grid_template_columns": null,
       "grid_template_rows": null,
       "height": null,
       "justify_content": null,
       "justify_items": null,
       "left": null,
       "margin": null,
       "max_height": null,
       "max_width": null,
       "min_height": null,
       "min_width": null,
       "object_fit": null,
       "object_position": null,
       "order": null,
       "overflow": null,
       "padding": null,
       "right": null,
       "top": null,
       "visibility": null,
       "width": null
      }
     },
     "8a59841e06124c0e8b37fd6c7ff6a7af": {
      "model_module": "@jupyter-widgets/base",
      "model_module_version": "2.0.0",
      "model_name": "LayoutModel",
      "state": {
       "_model_module": "@jupyter-widgets/base",
       "_model_module_version": "2.0.0",
       "_model_name": "LayoutModel",
       "_view_count": null,
       "_view_module": "@jupyter-widgets/base",
       "_view_module_version": "2.0.0",
       "_view_name": "LayoutView",
       "align_content": null,
       "align_items": null,
       "align_self": null,
       "border_bottom": null,
       "border_left": null,
       "border_right": null,
       "border_top": null,
       "bottom": null,
       "display": null,
       "flex": null,
       "flex_flow": null,
       "grid_area": null,
       "grid_auto_columns": null,
       "grid_auto_flow": null,
       "grid_auto_rows": null,
       "grid_column": null,
       "grid_gap": null,
       "grid_row": null,
       "grid_template_areas": null,
       "grid_template_columns": null,
       "grid_template_rows": null,
       "height": null,
       "justify_content": null,
       "justify_items": null,
       "left": null,
       "margin": null,
       "max_height": null,
       "max_width": null,
       "min_height": null,
       "min_width": null,
       "object_fit": null,
       "object_position": null,
       "order": null,
       "overflow": null,
       "padding": null,
       "right": null,
       "top": null,
       "visibility": null,
       "width": null
      }
     },
     "9f753a2f7b9f48139e29f7fbf69ade49": {
      "model_module": "@jupyter-widgets/controls",
      "model_module_version": "2.0.0",
      "model_name": "ProgressStyleModel",
      "state": {
       "_model_module": "@jupyter-widgets/controls",
       "_model_module_version": "2.0.0",
       "_model_name": "ProgressStyleModel",
       "_view_count": null,
       "_view_module": "@jupyter-widgets/base",
       "_view_module_version": "2.0.0",
       "_view_name": "StyleView",
       "bar_color": null,
       "description_width": ""
      }
     },
     "a71450297e66465c8d711478ce96532c": {
      "model_module": "@jupyter-widgets/controls",
      "model_module_version": "2.0.0",
      "model_name": "HTMLStyleModel",
      "state": {
       "_model_module": "@jupyter-widgets/controls",
       "_model_module_version": "2.0.0",
       "_model_name": "HTMLStyleModel",
       "_view_count": null,
       "_view_module": "@jupyter-widgets/base",
       "_view_module_version": "2.0.0",
       "_view_name": "StyleView",
       "background": null,
       "description_width": "",
       "font_size": null,
       "text_color": null
      }
     },
     "a7e7a15b395743d1afa3b18a3cda5199": {
      "model_module": "@jupyter-widgets/controls",
      "model_module_version": "2.0.0",
      "model_name": "HTMLModel",
      "state": {
       "_dom_classes": [],
       "_model_module": "@jupyter-widgets/controls",
       "_model_module_version": "2.0.0",
       "_model_name": "HTMLModel",
       "_view_count": null,
       "_view_module": "@jupyter-widgets/controls",
       "_view_module_version": "2.0.0",
       "_view_name": "HTMLView",
       "description": "",
       "description_allow_html": false,
       "layout": "IPY_MODEL_189bb913795b4140b62b486c411cb4b5",
       "placeholder": "​",
       "style": "IPY_MODEL_25bb019b6a4745568bcfb01b342a3257",
       "tabbable": null,
       "tooltip": null,
       "value": "vocab.txt: 100%"
      }
     },
     "ac916f5ee7194f4cb7c4105d4a3c8513": {
      "model_module": "@jupyter-widgets/base",
      "model_module_version": "2.0.0",
      "model_name": "LayoutModel",
      "state": {
       "_model_module": "@jupyter-widgets/base",
       "_model_module_version": "2.0.0",
       "_model_name": "LayoutModel",
       "_view_count": null,
       "_view_module": "@jupyter-widgets/base",
       "_view_module_version": "2.0.0",
       "_view_name": "LayoutView",
       "align_content": null,
       "align_items": null,
       "align_self": null,
       "border_bottom": null,
       "border_left": null,
       "border_right": null,
       "border_top": null,
       "bottom": null,
       "display": null,
       "flex": null,
       "flex_flow": null,
       "grid_area": null,
       "grid_auto_columns": null,
       "grid_auto_flow": null,
       "grid_auto_rows": null,
       "grid_column": null,
       "grid_gap": null,
       "grid_row": null,
       "grid_template_areas": null,
       "grid_template_columns": null,
       "grid_template_rows": null,
       "height": null,
       "justify_content": null,
       "justify_items": null,
       "left": null,
       "margin": null,
       "max_height": null,
       "max_width": null,
       "min_height": null,
       "min_width": null,
       "object_fit": null,
       "object_position": null,
       "order": null,
       "overflow": null,
       "padding": null,
       "right": null,
       "top": null,
       "visibility": null,
       "width": null
      }
     },
     "af91d8dd8ebc49c0adc5c43e92d8bf44": {
      "model_module": "@jupyter-widgets/base",
      "model_module_version": "2.0.0",
      "model_name": "LayoutModel",
      "state": {
       "_model_module": "@jupyter-widgets/base",
       "_model_module_version": "2.0.0",
       "_model_name": "LayoutModel",
       "_view_count": null,
       "_view_module": "@jupyter-widgets/base",
       "_view_module_version": "2.0.0",
       "_view_name": "LayoutView",
       "align_content": null,
       "align_items": null,
       "align_self": null,
       "border_bottom": null,
       "border_left": null,
       "border_right": null,
       "border_top": null,
       "bottom": null,
       "display": null,
       "flex": null,
       "flex_flow": null,
       "grid_area": null,
       "grid_auto_columns": null,
       "grid_auto_flow": null,
       "grid_auto_rows": null,
       "grid_column": null,
       "grid_gap": null,
       "grid_row": null,
       "grid_template_areas": null,
       "grid_template_columns": null,
       "grid_template_rows": null,
       "height": null,
       "justify_content": null,
       "justify_items": null,
       "left": null,
       "margin": null,
       "max_height": null,
       "max_width": null,
       "min_height": null,
       "min_width": null,
       "object_fit": null,
       "object_position": null,
       "order": null,
       "overflow": null,
       "padding": null,
       "right": null,
       "top": null,
       "visibility": null,
       "width": null
      }
     },
     "b0bd941fb7784653abe2e2cf7c9518a4": {
      "model_module": "@jupyter-widgets/base",
      "model_module_version": "2.0.0",
      "model_name": "LayoutModel",
      "state": {
       "_model_module": "@jupyter-widgets/base",
       "_model_module_version": "2.0.0",
       "_model_name": "LayoutModel",
       "_view_count": null,
       "_view_module": "@jupyter-widgets/base",
       "_view_module_version": "2.0.0",
       "_view_name": "LayoutView",
       "align_content": null,
       "align_items": null,
       "align_self": null,
       "border_bottom": null,
       "border_left": null,
       "border_right": null,
       "border_top": null,
       "bottom": null,
       "display": null,
       "flex": null,
       "flex_flow": null,
       "grid_area": null,
       "grid_auto_columns": null,
       "grid_auto_flow": null,
       "grid_auto_rows": null,
       "grid_column": null,
       "grid_gap": null,
       "grid_row": null,
       "grid_template_areas": null,
       "grid_template_columns": null,
       "grid_template_rows": null,
       "height": null,
       "justify_content": null,
       "justify_items": null,
       "left": null,
       "margin": null,
       "max_height": null,
       "max_width": null,
       "min_height": null,
       "min_width": null,
       "object_fit": null,
       "object_position": null,
       "order": null,
       "overflow": null,
       "padding": null,
       "right": null,
       "top": null,
       "visibility": null,
       "width": null
      }
     },
     "b1428f9ac2d04083905792ba30f4db04": {
      "model_module": "@jupyter-widgets/controls",
      "model_module_version": "2.0.0",
      "model_name": "HBoxModel",
      "state": {
       "_dom_classes": [],
       "_model_module": "@jupyter-widgets/controls",
       "_model_module_version": "2.0.0",
       "_model_name": "HBoxModel",
       "_view_count": null,
       "_view_module": "@jupyter-widgets/controls",
       "_view_module_version": "2.0.0",
       "_view_name": "HBoxView",
       "box_style": "",
       "children": [
        "IPY_MODEL_4055128b2c694d6bb3596839d65b8b28",
        "IPY_MODEL_f8a5a875b2524fca940f8eecb4fb8e54",
        "IPY_MODEL_2a3fd5e133114b4e9167e47bfa4f38f8"
       ],
       "layout": "IPY_MODEL_1dd6210e8bfc4ba8b9a46b1933eef5aa",
       "tabbable": null,
       "tooltip": null
      }
     },
     "b18111cf8af040998a601b7378d25a36": {
      "model_module": "@jupyter-widgets/controls",
      "model_module_version": "2.0.0",
      "model_name": "HTMLModel",
      "state": {
       "_dom_classes": [],
       "_model_module": "@jupyter-widgets/controls",
       "_model_module_version": "2.0.0",
       "_model_name": "HTMLModel",
       "_view_count": null,
       "_view_module": "@jupyter-widgets/controls",
       "_view_module_version": "2.0.0",
       "_view_name": "HTMLView",
       "description": "",
       "description_allow_html": false,
       "layout": "IPY_MODEL_7480d9e274d146c393ca73348b5855de",
       "placeholder": "​",
       "style": "IPY_MODEL_f24aecbccf154db8a798d0779016c01c",
       "tabbable": null,
       "tooltip": null,
       "value": " 232k/232k [00:00&lt;00:00, 6.31MB/s]"
      }
     },
     "b223d112020b4ecbade21bd0c8ab3d69": {
      "model_module": "@jupyter-widgets/controls",
      "model_module_version": "2.0.0",
      "model_name": "HTMLStyleModel",
      "state": {
       "_model_module": "@jupyter-widgets/controls",
       "_model_module_version": "2.0.0",
       "_model_name": "HTMLStyleModel",
       "_view_count": null,
       "_view_module": "@jupyter-widgets/base",
       "_view_module_version": "2.0.0",
       "_view_name": "StyleView",
       "background": null,
       "description_width": "",
       "font_size": null,
       "text_color": null
      }
     },
     "bf583ccf4b5b4f458e710b1e797e3302": {
      "model_module": "@jupyter-widgets/controls",
      "model_module_version": "2.0.0",
      "model_name": "ProgressStyleModel",
      "state": {
       "_model_module": "@jupyter-widgets/controls",
       "_model_module_version": "2.0.0",
       "_model_name": "ProgressStyleModel",
       "_view_count": null,
       "_view_module": "@jupyter-widgets/base",
       "_view_module_version": "2.0.0",
       "_view_name": "StyleView",
       "bar_color": null,
       "description_width": ""
      }
     },
     "c053c1c170af4af3b8c53803c905ad09": {
      "model_module": "@jupyter-widgets/base",
      "model_module_version": "2.0.0",
      "model_name": "LayoutModel",
      "state": {
       "_model_module": "@jupyter-widgets/base",
       "_model_module_version": "2.0.0",
       "_model_name": "LayoutModel",
       "_view_count": null,
       "_view_module": "@jupyter-widgets/base",
       "_view_module_version": "2.0.0",
       "_view_name": "LayoutView",
       "align_content": null,
       "align_items": null,
       "align_self": null,
       "border_bottom": null,
       "border_left": null,
       "border_right": null,
       "border_top": null,
       "bottom": null,
       "display": null,
       "flex": null,
       "flex_flow": null,
       "grid_area": null,
       "grid_auto_columns": null,
       "grid_auto_flow": null,
       "grid_auto_rows": null,
       "grid_column": null,
       "grid_gap": null,
       "grid_row": null,
       "grid_template_areas": null,
       "grid_template_columns": null,
       "grid_template_rows": null,
       "height": null,
       "justify_content": null,
       "justify_items": null,
       "left": null,
       "margin": null,
       "max_height": null,
       "max_width": null,
       "min_height": null,
       "min_width": null,
       "object_fit": null,
       "object_position": null,
       "order": null,
       "overflow": null,
       "padding": null,
       "right": null,
       "top": null,
       "visibility": null,
       "width": null
      }
     },
     "c0561a46832044c7a6e3086c1fb9ac0a": {
      "model_module": "@jupyter-widgets/controls",
      "model_module_version": "2.0.0",
      "model_name": "HBoxModel",
      "state": {
       "_dom_classes": [],
       "_model_module": "@jupyter-widgets/controls",
       "_model_module_version": "2.0.0",
       "_model_name": "HBoxModel",
       "_view_count": null,
       "_view_module": "@jupyter-widgets/controls",
       "_view_module_version": "2.0.0",
       "_view_name": "HBoxView",
       "box_style": "",
       "children": [
        "IPY_MODEL_a7e7a15b395743d1afa3b18a3cda5199",
        "IPY_MODEL_018ccaff8c5043adb3ea8f01d0cb5b21",
        "IPY_MODEL_b18111cf8af040998a601b7378d25a36"
       ],
       "layout": "IPY_MODEL_5c4c2eceaf2544f89bdb1161a1cded9b",
       "tabbable": null,
       "tooltip": null
      }
     },
     "c27c2197f7df4477aa2b1abb2ff66f42": {
      "model_module": "@jupyter-widgets/controls",
      "model_module_version": "2.0.0",
      "model_name": "HTMLStyleModel",
      "state": {
       "_model_module": "@jupyter-widgets/controls",
       "_model_module_version": "2.0.0",
       "_model_name": "HTMLStyleModel",
       "_view_count": null,
       "_view_module": "@jupyter-widgets/base",
       "_view_module_version": "2.0.0",
       "_view_name": "StyleView",
       "background": null,
       "description_width": "",
       "font_size": null,
       "text_color": null
      }
     },
     "d93c5edb8c084b7ebc5d3b76bff0e3e0": {
      "model_module": "@jupyter-widgets/controls",
      "model_module_version": "2.0.0",
      "model_name": "HTMLModel",
      "state": {
       "_dom_classes": [],
       "_model_module": "@jupyter-widgets/controls",
       "_model_module_version": "2.0.0",
       "_model_name": "HTMLModel",
       "_view_count": null,
       "_view_module": "@jupyter-widgets/controls",
       "_view_module_version": "2.0.0",
       "_view_name": "HTMLView",
       "description": "",
       "description_allow_html": false,
       "layout": "IPY_MODEL_8a1f09da7b524ce29e58765d9898f052",
       "placeholder": "​",
       "style": "IPY_MODEL_c27c2197f7df4477aa2b1abb2ff66f42",
       "tabbable": null,
       "tooltip": null,
       "value": "model.safetensors: 100%"
      }
     },
     "e2070018730a4846aac76cb4dc155f21": {
      "model_module": "@jupyter-widgets/base",
      "model_module_version": "2.0.0",
      "model_name": "LayoutModel",
      "state": {
       "_model_module": "@jupyter-widgets/base",
       "_model_module_version": "2.0.0",
       "_model_name": "LayoutModel",
       "_view_count": null,
       "_view_module": "@jupyter-widgets/base",
       "_view_module_version": "2.0.0",
       "_view_name": "LayoutView",
       "align_content": null,
       "align_items": null,
       "align_self": null,
       "border_bottom": null,
       "border_left": null,
       "border_right": null,
       "border_top": null,
       "bottom": null,
       "display": null,
       "flex": null,
       "flex_flow": null,
       "grid_area": null,
       "grid_auto_columns": null,
       "grid_auto_flow": null,
       "grid_auto_rows": null,
       "grid_column": null,
       "grid_gap": null,
       "grid_row": null,
       "grid_template_areas": null,
       "grid_template_columns": null,
       "grid_template_rows": null,
       "height": null,
       "justify_content": null,
       "justify_items": null,
       "left": null,
       "margin": null,
       "max_height": null,
       "max_width": null,
       "min_height": null,
       "min_width": null,
       "object_fit": null,
       "object_position": null,
       "order": null,
       "overflow": null,
       "padding": null,
       "right": null,
       "top": null,
       "visibility": null,
       "width": null
      }
     },
     "e5b5488c6abe470989552255982268e3": {
      "model_module": "@jupyter-widgets/controls",
      "model_module_version": "2.0.0",
      "model_name": "FloatProgressModel",
      "state": {
       "_dom_classes": [],
       "_model_module": "@jupyter-widgets/controls",
       "_model_module_version": "2.0.0",
       "_model_name": "FloatProgressModel",
       "_view_count": null,
       "_view_module": "@jupyter-widgets/controls",
       "_view_module_version": "2.0.0",
       "_view_name": "ProgressView",
       "bar_style": "success",
       "description": "",
       "description_allow_html": false,
       "layout": "IPY_MODEL_ac916f5ee7194f4cb7c4105d4a3c8513",
       "max": 570.0,
       "min": 0.0,
       "orientation": "horizontal",
       "style": "IPY_MODEL_30e2bfca06964668b68b7760606fba71",
       "tabbable": null,
       "tooltip": null,
       "value": 570.0
      }
     },
     "f24aecbccf154db8a798d0779016c01c": {
      "model_module": "@jupyter-widgets/controls",
      "model_module_version": "2.0.0",
      "model_name": "HTMLStyleModel",
      "state": {
       "_model_module": "@jupyter-widgets/controls",
       "_model_module_version": "2.0.0",
       "_model_name": "HTMLStyleModel",
       "_view_count": null,
       "_view_module": "@jupyter-widgets/base",
       "_view_module_version": "2.0.0",
       "_view_name": "StyleView",
       "background": null,
       "description_width": "",
       "font_size": null,
       "text_color": null
      }
     },
     "f7e20b23ef8c4194897f9f8769c1edc1": {
      "model_module": "@jupyter-widgets/controls",
      "model_module_version": "2.0.0",
      "model_name": "FloatProgressModel",
      "state": {
       "_dom_classes": [],
       "_model_module": "@jupyter-widgets/controls",
       "_model_module_version": "2.0.0",
       "_model_name": "FloatProgressModel",
       "_view_count": null,
       "_view_module": "@jupyter-widgets/controls",
       "_view_module_version": "2.0.0",
       "_view_name": "ProgressView",
       "bar_style": "success",
       "description": "",
       "description_allow_html": false,
       "layout": "IPY_MODEL_c053c1c170af4af3b8c53803c905ad09",
       "max": 440449768.0,
       "min": 0.0,
       "orientation": "horizontal",
       "style": "IPY_MODEL_049351f876c34811afb2d05460752bc7",
       "tabbable": null,
       "tooltip": null,
       "value": 440449768.0
      }
     },
     "f8a5a875b2524fca940f8eecb4fb8e54": {
      "model_module": "@jupyter-widgets/controls",
      "model_module_version": "2.0.0",
      "model_name": "FloatProgressModel",
      "state": {
       "_dom_classes": [],
       "_model_module": "@jupyter-widgets/controls",
       "_model_module_version": "2.0.0",
       "_model_name": "FloatProgressModel",
       "_view_count": null,
       "_view_module": "@jupyter-widgets/controls",
       "_view_module_version": "2.0.0",
       "_view_name": "ProgressView",
       "bar_style": "success",
       "description": "",
       "description_allow_html": false,
       "layout": "IPY_MODEL_0a496157776d444ea66c9fa2a78d6dfc",
       "max": 466062.0,
       "min": 0.0,
       "orientation": "horizontal",
       "style": "IPY_MODEL_355accf072f848c6a4cfe5b3ebd2b70d",
       "tabbable": null,
       "tooltip": null,
       "value": 466062.0
      }
     },
     "fc9abf332aa94d4b8cef9c88b113d3e0": {
      "model_module": "@jupyter-widgets/controls",
      "model_module_version": "2.0.0",
      "model_name": "HTMLModel",
      "state": {
       "_dom_classes": [],
       "_model_module": "@jupyter-widgets/controls",
       "_model_module_version": "2.0.0",
       "_model_name": "HTMLModel",
       "_view_count": null,
       "_view_module": "@jupyter-widgets/controls",
       "_view_module_version": "2.0.0",
       "_view_name": "HTMLView",
       "description": "",
       "description_allow_html": false,
       "layout": "IPY_MODEL_2e88a66ec00f4ca5a307c78167de22f2",
       "placeholder": "​",
       "style": "IPY_MODEL_6f28f69b7e9943edb274738bbef1d8a7",
       "tabbable": null,
       "tooltip": null,
       "value": "tokenizer_config.json: 100%"
      }
     },
     "fd2e44994c6c4ebcb52ad71e8128550e": {
      "model_module": "@jupyter-widgets/controls",
      "model_module_version": "2.0.0",
      "model_name": "HBoxModel",
      "state": {
       "_dom_classes": [],
       "_model_module": "@jupyter-widgets/controls",
       "_model_module_version": "2.0.0",
       "_model_name": "HBoxModel",
       "_view_count": null,
       "_view_module": "@jupyter-widgets/controls",
       "_view_module_version": "2.0.0",
       "_view_name": "HBoxView",
       "box_style": "",
       "children": [
        "IPY_MODEL_fc9abf332aa94d4b8cef9c88b113d3e0",
        "IPY_MODEL_6dd6edad66a843fe95c46babba832528",
        "IPY_MODEL_432f77f6b0a24240ba57ff77b9f817fd"
       ],
       "layout": "IPY_MODEL_b0bd941fb7784653abe2e2cf7c9518a4",
       "tabbable": null,
       "tooltip": null
      }
     },
     "fd72108f48aa4c48a32806464f576eb6": {
      "model_module": "@jupyter-widgets/controls",
      "model_module_version": "2.0.0",
      "model_name": "HBoxModel",
      "state": {
       "_dom_classes": [],
       "_model_module": "@jupyter-widgets/controls",
       "_model_module_version": "2.0.0",
       "_model_name": "HBoxModel",
       "_view_count": null,
       "_view_module": "@jupyter-widgets/controls",
       "_view_module_version": "2.0.0",
       "_view_name": "HBoxView",
       "box_style": "",
       "children": [
        "IPY_MODEL_d93c5edb8c084b7ebc5d3b76bff0e3e0",
        "IPY_MODEL_f7e20b23ef8c4194897f9f8769c1edc1",
        "IPY_MODEL_15cfd14f07c64fe9b2f7b5d068ef5f2b"
       ],
       "layout": "IPY_MODEL_2c65cf3662084567b971bb85fbca5000",
       "tabbable": null,
       "tooltip": null
      }
     }
    },
    "version_major": 2,
    "version_minor": 0
   }
  }
 },
 "nbformat": 4,
 "nbformat_minor": 5
}
