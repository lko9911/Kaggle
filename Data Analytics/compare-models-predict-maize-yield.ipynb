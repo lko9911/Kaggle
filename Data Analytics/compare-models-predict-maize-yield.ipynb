{
 "cells": [
  {
   "cell_type": "markdown",
   "id": "226f417c",
   "metadata": {
    "papermill": {
     "duration": 0.008495,
     "end_time": "2024-04-15T02:11:00.068048",
     "exception": false,
     "start_time": "2024-04-15T02:11:00.059553",
     "status": "completed"
    },
    "tags": []
   },
   "source": [
    "# Project : Predict Maize yield"
   ]
  },
  {
   "cell_type": "markdown",
   "id": "4b4ef661",
   "metadata": {
    "papermill": {
     "duration": 0.007615,
     "end_time": "2024-04-15T02:11:00.084650",
     "exception": false,
     "start_time": "2024-04-15T02:11:00.077035",
     "status": "completed"
    },
    "tags": []
   },
   "source": [
    "> # Import Libraries & Read Dataset"
   ]
  },
  {
   "cell_type": "code",
   "execution_count": 1,
   "id": "26caae33",
   "metadata": {
    "execution": {
     "iopub.execute_input": "2024-04-15T02:11:00.102633Z",
     "iopub.status.busy": "2024-04-15T02:11:00.102182Z",
     "iopub.status.idle": "2024-04-15T02:11:00.360219Z",
     "shell.execute_reply": "2024-04-15T02:11:00.358876Z"
    },
    "papermill": {
     "duration": 0.270939,
     "end_time": "2024-04-15T02:11:00.363717",
     "exception": false,
     "start_time": "2024-04-15T02:11:00.092778",
     "status": "completed"
    },
    "tags": []
   },
   "outputs": [],
   "source": [
    "import requests\n",
    "\n",
    "url = 'https://raw.githubusercontent.com/lko9911/Kaggle/master/Compare_Regression_models.py'\n",
    "\n",
    "r = requests.get(url)\n",
    "\n",
    "with open('Compare_Regression_models.py', 'w') as f:\n",
    "    f.write(r.text)"
   ]
  },
  {
   "cell_type": "code",
   "execution_count": 2,
   "id": "ed972b32",
   "metadata": {
    "execution": {
     "iopub.execute_input": "2024-04-15T02:11:00.382655Z",
     "iopub.status.busy": "2024-04-15T02:11:00.382142Z",
     "iopub.status.idle": "2024-04-15T02:11:05.504379Z",
     "shell.execute_reply": "2024-04-15T02:11:05.502731Z"
    },
    "papermill": {
     "duration": 5.136527,
     "end_time": "2024-04-15T02:11:05.508236",
     "exception": false,
     "start_time": "2024-04-15T02:11:00.371709",
     "status": "completed"
    },
    "tags": []
   },
   "outputs": [],
   "source": [
    "# For Compare modeling\n",
    "from Compare_Regression_models import evaluate_models\n",
    "\n",
    "# For Standard data\n",
    "from sklearn.preprocessing import StandardScaler\n",
    "\n",
    "# For Modeling\n",
    "from sklearn.model_selection import train_test_split\n",
    "from sklearn.ensemble import RandomForestRegressor\n",
    "from xgboost import XGBRegressor\n",
    "from lightgbm import LGBMRegressor\n",
    "from sklearn.model_selection import GridSearchCV\n",
    "\n",
    "# For Evaluate model\n",
    "from sklearn.metrics import mean_squared_error, mean_absolute_error, r2_score\n",
    "from sklearn.metrics import r2_score\n",
    "\n",
    "# For EDA\n",
    "import pandas as pd\n",
    "import numpy as np\n",
    "import matplotlib.pyplot as plt\n",
    "import seaborn as sns\n",
    "import warnings\n",
    "warnings.filterwarnings(\"ignore\", category=FutureWarning)"
   ]
  },
  {
   "cell_type": "code",
   "execution_count": 3,
   "id": "da11457b",
   "metadata": {
    "execution": {
     "iopub.execute_input": "2024-04-15T02:11:05.532149Z",
     "iopub.status.busy": "2024-04-15T02:11:05.530771Z",
     "iopub.status.idle": "2024-04-15T02:11:05.603454Z",
     "shell.execute_reply": "2024-04-15T02:11:05.601935Z"
    },
    "papermill": {
     "duration": 0.087383,
     "end_time": "2024-04-15T02:11:05.606380",
     "exception": false,
     "start_time": "2024-04-15T02:11:05.518997",
     "status": "completed"
    },
    "tags": []
   },
   "outputs": [
    {
     "data": {
      "text/html": [
       "<div>\n",
       "<style scoped>\n",
       "    .dataframe tbody tr th:only-of-type {\n",
       "        vertical-align: middle;\n",
       "    }\n",
       "\n",
       "    .dataframe tbody tr th {\n",
       "        vertical-align: top;\n",
       "    }\n",
       "\n",
       "    .dataframe thead th {\n",
       "        text-align: right;\n",
       "    }\n",
       "</style>\n",
       "<table border=\"1\" class=\"dataframe\">\n",
       "  <thead>\n",
       "    <tr style=\"text-align: right;\">\n",
       "      <th></th>\n",
       "      <th>country</th>\n",
       "      <th>code country</th>\n",
       "      <th>Year</th>\n",
       "      <th>Maize yield</th>\n",
       "    </tr>\n",
       "  </thead>\n",
       "  <tbody>\n",
       "    <tr>\n",
       "      <th>0</th>\n",
       "      <td>United Kingdom</td>\n",
       "      <td>GBR</td>\n",
       "      <td>1275</td>\n",
       "      <td>0</td>\n",
       "    </tr>\n",
       "    <tr>\n",
       "      <th>1</th>\n",
       "      <td>United Kingdom</td>\n",
       "      <td>GBR</td>\n",
       "      <td>1305</td>\n",
       "      <td>0</td>\n",
       "    </tr>\n",
       "    <tr>\n",
       "      <th>2</th>\n",
       "      <td>United Kingdom</td>\n",
       "      <td>GBR</td>\n",
       "      <td>1355</td>\n",
       "      <td>0</td>\n",
       "    </tr>\n",
       "    <tr>\n",
       "      <th>3</th>\n",
       "      <td>United Kingdom</td>\n",
       "      <td>GBR</td>\n",
       "      <td>1405</td>\n",
       "      <td>0</td>\n",
       "    </tr>\n",
       "    <tr>\n",
       "      <th>4</th>\n",
       "      <td>United Kingdom</td>\n",
       "      <td>GBR</td>\n",
       "      <td>1455</td>\n",
       "      <td>0</td>\n",
       "    </tr>\n",
       "    <tr>\n",
       "      <th>...</th>\n",
       "      <td>...</td>\n",
       "      <td>...</td>\n",
       "      <td>...</td>\n",
       "      <td>...</td>\n",
       "    </tr>\n",
       "    <tr>\n",
       "      <th>13544</th>\n",
       "      <td>World</td>\n",
       "      <td>OWID_WRL</td>\n",
       "      <td>2022</td>\n",
       "      <td>5.7183</td>\n",
       "    </tr>\n",
       "    <tr>\n",
       "      <th>13545</th>\n",
       "      <td>Yemen</td>\n",
       "      <td>YEM</td>\n",
       "      <td>2022</td>\n",
       "      <td>1.1429</td>\n",
       "    </tr>\n",
       "    <tr>\n",
       "      <th>13546</th>\n",
       "      <td>Zambia</td>\n",
       "      <td>ZMB</td>\n",
       "      <td>2022</td>\n",
       "      <td>2.4261</td>\n",
       "    </tr>\n",
       "    <tr>\n",
       "      <th>13547</th>\n",
       "      <td>Zimbabwe</td>\n",
       "      <td>ZWE</td>\n",
       "      <td>2022</td>\n",
       "      <td>1.5</td>\n",
       "    </tr>\n",
       "    <tr>\n",
       "      <th>13548</th>\n",
       "      <td>United States</td>\n",
       "      <td>USA</td>\n",
       "      <td>2023</td>\n",
       "      <td>11.127.799</td>\n",
       "    </tr>\n",
       "  </tbody>\n",
       "</table>\n",
       "<p>13549 rows × 4 columns</p>\n",
       "</div>"
      ],
      "text/plain": [
       "              country code country  Year Maize yield\n",
       "0      United Kingdom          GBR  1275           0\n",
       "1      United Kingdom          GBR  1305           0\n",
       "2      United Kingdom          GBR  1355           0\n",
       "3      United Kingdom          GBR  1405           0\n",
       "4      United Kingdom          GBR  1455           0\n",
       "...               ...          ...   ...         ...\n",
       "13544           World     OWID_WRL  2022      5.7183\n",
       "13545           Yemen          YEM  2022      1.1429\n",
       "13546          Zambia          ZMB  2022      2.4261\n",
       "13547        Zimbabwe          ZWE  2022         1.5\n",
       "13548   United States          USA  2023  11.127.799\n",
       "\n",
       "[13549 rows x 4 columns]"
      ]
     },
     "execution_count": 3,
     "metadata": {},
     "output_type": "execute_result"
    }
   ],
   "source": [
    "df = pd.read_csv('/kaggle/input/worlds-wildlife/yields-of-important-staple-crops new.csv')\n",
    "df"
   ]
  },
  {
   "cell_type": "code",
   "execution_count": 4,
   "id": "444c8d0a",
   "metadata": {
    "execution": {
     "iopub.execute_input": "2024-04-15T02:11:05.624772Z",
     "iopub.status.busy": "2024-04-15T02:11:05.624370Z",
     "iopub.status.idle": "2024-04-15T02:11:05.654998Z",
     "shell.execute_reply": "2024-04-15T02:11:05.653965Z"
    },
    "papermill": {
     "duration": 0.043134,
     "end_time": "2024-04-15T02:11:05.657783",
     "exception": false,
     "start_time": "2024-04-15T02:11:05.614649",
     "status": "completed"
    },
    "tags": []
   },
   "outputs": [
    {
     "name": "stdout",
     "output_type": "stream",
     "text": [
      "<class 'pandas.core.frame.DataFrame'>\n",
      "RangeIndex: 13549 entries, 0 to 13548\n",
      "Data columns (total 4 columns):\n",
      " #   Column        Non-Null Count  Dtype \n",
      "---  ------        --------------  ----- \n",
      " 0   country       13549 non-null  object\n",
      " 1   code country  13549 non-null  object\n",
      " 2   Year          13549 non-null  int64 \n",
      " 3   Maize yield   13501 non-null  object\n",
      "dtypes: int64(1), object(3)\n",
      "memory usage: 423.5+ KB\n"
     ]
    }
   ],
   "source": [
    "df.info()"
   ]
  },
  {
   "cell_type": "markdown",
   "id": "c2da94f3",
   "metadata": {
    "papermill": {
     "duration": 0.007746,
     "end_time": "2024-04-15T02:11:05.673562",
     "exception": false,
     "start_time": "2024-04-15T02:11:05.665816",
     "status": "completed"
    },
    "tags": []
   },
   "source": [
    "> # Data Preprocessing"
   ]
  },
  {
   "cell_type": "code",
   "execution_count": 5,
   "id": "648179bc",
   "metadata": {
    "execution": {
     "iopub.execute_input": "2024-04-15T02:11:05.691723Z",
     "iopub.status.busy": "2024-04-15T02:11:05.691200Z",
     "iopub.status.idle": "2024-04-15T02:11:05.710491Z",
     "shell.execute_reply": "2024-04-15T02:11:05.708985Z"
    },
    "papermill": {
     "duration": 0.032172,
     "end_time": "2024-04-15T02:11:05.713637",
     "exception": false,
     "start_time": "2024-04-15T02:11:05.681465",
     "status": "completed"
    },
    "tags": []
   },
   "outputs": [
    {
     "data": {
      "text/plain": [
       "country         0.000000\n",
       "code country    0.000000\n",
       "Year            0.000000\n",
       "Maize yield     0.003543\n",
       "dtype: float64"
      ]
     },
     "execution_count": 5,
     "metadata": {},
     "output_type": "execute_result"
    }
   ],
   "source": [
    "df.isna().mean()"
   ]
  },
  {
   "cell_type": "code",
   "execution_count": 6,
   "id": "983665ff",
   "metadata": {
    "execution": {
     "iopub.execute_input": "2024-04-15T02:11:05.732681Z",
     "iopub.status.busy": "2024-04-15T02:11:05.732192Z",
     "iopub.status.idle": "2024-04-15T02:11:05.745808Z",
     "shell.execute_reply": "2024-04-15T02:11:05.744354Z"
    },
    "papermill": {
     "duration": 0.02703,
     "end_time": "2024-04-15T02:11:05.749156",
     "exception": false,
     "start_time": "2024-04-15T02:11:05.722126",
     "status": "completed"
    },
    "tags": []
   },
   "outputs": [],
   "source": [
    "df.dropna(inplace = True)"
   ]
  },
  {
   "cell_type": "code",
   "execution_count": 7,
   "id": "0c7a9607",
   "metadata": {
    "execution": {
     "iopub.execute_input": "2024-04-15T02:11:05.768656Z",
     "iopub.status.busy": "2024-04-15T02:11:05.768197Z",
     "iopub.status.idle": "2024-04-15T02:11:05.790561Z",
     "shell.execute_reply": "2024-04-15T02:11:05.788944Z"
    },
    "papermill": {
     "duration": 0.036475,
     "end_time": "2024-04-15T02:11:05.793727",
     "exception": false,
     "start_time": "2024-04-15T02:11:05.757252",
     "status": "completed"
    },
    "tags": []
   },
   "outputs": [
    {
     "data": {
      "text/plain": [
       "0               0\n",
       "1               0\n",
       "2               0\n",
       "3               0\n",
       "4               0\n",
       "           ...   \n",
       "13544       57183\n",
       "13545       11429\n",
       "13546       24261\n",
       "13547          15\n",
       "13548    11127799\n",
       "Name: Maize yield, Length: 13501, dtype: int64"
      ]
     },
     "execution_count": 7,
     "metadata": {},
     "output_type": "execute_result"
    }
   ],
   "source": [
    "df['Maize yield'] = df['Maize yield'].str.replace('.', '').astype(int)\n",
    "df['Maize yield']"
   ]
  },
  {
   "cell_type": "markdown",
   "id": "97db23c5",
   "metadata": {
    "papermill": {
     "duration": 0.00829,
     "end_time": "2024-04-15T02:11:05.810761",
     "exception": false,
     "start_time": "2024-04-15T02:11:05.802471",
     "status": "completed"
    },
    "tags": []
   },
   "source": [
    " ### Since I don't have domain knowledge as to why Maize yield is \"0\", I will remove rows with zero yield."
   ]
  },
  {
   "cell_type": "code",
   "execution_count": 8,
   "id": "478f1ae7",
   "metadata": {
    "execution": {
     "iopub.execute_input": "2024-04-15T02:11:05.831476Z",
     "iopub.status.busy": "2024-04-15T02:11:05.830967Z",
     "iopub.status.idle": "2024-04-15T02:11:05.842845Z",
     "shell.execute_reply": "2024-04-15T02:11:05.841587Z"
    },
    "papermill": {
     "duration": 0.025605,
     "end_time": "2024-04-15T02:11:05.845937",
     "exception": false,
     "start_time": "2024-04-15T02:11:05.820332",
     "status": "completed"
    },
    "tags": []
   },
   "outputs": [
    {
     "name": "stdout",
     "output_type": "stream",
     "text": [
      "               country code country  Year  Maize yield\n",
      "0       United Kingdom          GBR  1275            0\n",
      "1       United Kingdom          GBR  1305            0\n",
      "2       United Kingdom          GBR  1355            0\n",
      "3       United Kingdom          GBR  1405            0\n",
      "4       United Kingdom          GBR  1455            0\n",
      "...                ...          ...   ...          ...\n",
      "13480        Palestine          PSE  2022            0\n",
      "13487        Polynesia     OWID_PYA  2022            0\n",
      "13503  Solomon Islands          SLB  2022            0\n",
      "13527          Tunisia          TUN  2022            0\n",
      "13533   United Kingdom          GBR  2022            0\n",
      "\n",
      "[1417 rows x 4 columns]\n"
     ]
    }
   ],
   "source": [
    "maize_yield_zero = df[df['Maize yield'] == 0]\n",
    "\n",
    "print(maize_yield_zero)"
   ]
  },
  {
   "cell_type": "code",
   "execution_count": 9,
   "id": "c2a18232",
   "metadata": {
    "execution": {
     "iopub.execute_input": "2024-04-15T02:11:05.865919Z",
     "iopub.status.busy": "2024-04-15T02:11:05.865373Z",
     "iopub.status.idle": "2024-04-15T02:11:06.578316Z",
     "shell.execute_reply": "2024-04-15T02:11:06.577024Z"
    },
    "papermill": {
     "duration": 0.726986,
     "end_time": "2024-04-15T02:11:06.581886",
     "exception": false,
     "start_time": "2024-04-15T02:11:05.854900",
     "status": "completed"
    },
    "tags": []
   },
   "outputs": [
    {
     "data": {
      "image/png": "[encoded data removed]",
      "text/plain": [
       "<Figure size 1200x600 with 1 Axes>"
      ]
     },
     "metadata": {},
     "output_type": "display_data"
    }
   ],
   "source": [
    "# EDA for \"Maize yield\"\n",
    "\n",
    "yearly_yield = df.groupby('Year')['Maize yield'].sum().reset_index()\n",
    "\n",
    "plt.figure(figsize=(12, 6))\n",
    "plt.bar(yearly_yield['Year'], yearly_yield['Maize yield'], color='skyblue')\n",
    "plt.xlabel('Year', fontsize=16)\n",
    "plt.ylabel('Total Maize Yield', fontsize=16)\n",
    "plt.title('Total Maize Yield by Year', fontsize=18)\n",
    "plt.grid(linestyle='--')\n",
    "plt.show()"
   ]
  },
  {
   "cell_type": "code",
   "execution_count": 10,
   "id": "9711a882",
   "metadata": {
    "execution": {
     "iopub.execute_input": "2024-04-15T02:11:06.603298Z",
     "iopub.status.busy": "2024-04-15T02:11:06.602779Z",
     "iopub.status.idle": "2024-04-15T02:11:06.620967Z",
     "shell.execute_reply": "2024-04-15T02:11:06.619535Z"
    },
    "papermill": {
     "duration": 0.032174,
     "end_time": "2024-04-15T02:11:06.623719",
     "exception": false,
     "start_time": "2024-04-15T02:11:06.591545",
     "status": "completed"
    },
    "tags": []
   },
   "outputs": [
    {
     "data": {
      "text/html": [
       "<div>\n",
       "<style scoped>\n",
       "    .dataframe tbody tr th:only-of-type {\n",
       "        vertical-align: middle;\n",
       "    }\n",
       "\n",
       "    .dataframe tbody tr th {\n",
       "        vertical-align: top;\n",
       "    }\n",
       "\n",
       "    .dataframe thead th {\n",
       "        text-align: right;\n",
       "    }\n",
       "</style>\n",
       "<table border=\"1\" class=\"dataframe\">\n",
       "  <thead>\n",
       "    <tr style=\"text-align: right;\">\n",
       "      <th></th>\n",
       "      <th>country</th>\n",
       "      <th>code country</th>\n",
       "      <th>Year</th>\n",
       "      <th>Maize yield</th>\n",
       "    </tr>\n",
       "  </thead>\n",
       "  <tbody>\n",
       "    <tr>\n",
       "      <th>14</th>\n",
       "      <td>United States</td>\n",
       "      <td>USA</td>\n",
       "      <td>1866</td>\n",
       "      <td>15251298</td>\n",
       "    </tr>\n",
       "    <tr>\n",
       "      <th>15</th>\n",
       "      <td>United States</td>\n",
       "      <td>USA</td>\n",
       "      <td>1867</td>\n",
       "      <td>15502349</td>\n",
       "    </tr>\n",
       "    <tr>\n",
       "      <th>16</th>\n",
       "      <td>United States</td>\n",
       "      <td>USA</td>\n",
       "      <td>1868</td>\n",
       "      <td>16443787</td>\n",
       "    </tr>\n",
       "    <tr>\n",
       "      <th>17</th>\n",
       "      <td>United States</td>\n",
       "      <td>USA</td>\n",
       "      <td>1869</td>\n",
       "      <td>13682234</td>\n",
       "    </tr>\n",
       "    <tr>\n",
       "      <th>18</th>\n",
       "      <td>United States</td>\n",
       "      <td>USA</td>\n",
       "      <td>1870</td>\n",
       "      <td>18389425</td>\n",
       "    </tr>\n",
       "    <tr>\n",
       "      <th>...</th>\n",
       "      <td>...</td>\n",
       "      <td>...</td>\n",
       "      <td>...</td>\n",
       "      <td>...</td>\n",
       "    </tr>\n",
       "    <tr>\n",
       "      <th>13544</th>\n",
       "      <td>World</td>\n",
       "      <td>OWID_WRL</td>\n",
       "      <td>2022</td>\n",
       "      <td>57183</td>\n",
       "    </tr>\n",
       "    <tr>\n",
       "      <th>13545</th>\n",
       "      <td>Yemen</td>\n",
       "      <td>YEM</td>\n",
       "      <td>2022</td>\n",
       "      <td>11429</td>\n",
       "    </tr>\n",
       "    <tr>\n",
       "      <th>13546</th>\n",
       "      <td>Zambia</td>\n",
       "      <td>ZMB</td>\n",
       "      <td>2022</td>\n",
       "      <td>24261</td>\n",
       "    </tr>\n",
       "    <tr>\n",
       "      <th>13547</th>\n",
       "      <td>Zimbabwe</td>\n",
       "      <td>ZWE</td>\n",
       "      <td>2022</td>\n",
       "      <td>15</td>\n",
       "    </tr>\n",
       "    <tr>\n",
       "      <th>13548</th>\n",
       "      <td>United States</td>\n",
       "      <td>USA</td>\n",
       "      <td>2023</td>\n",
       "      <td>11127799</td>\n",
       "    </tr>\n",
       "  </tbody>\n",
       "</table>\n",
       "<p>12084 rows × 4 columns</p>\n",
       "</div>"
      ],
      "text/plain": [
       "             country code country  Year  Maize yield\n",
       "14     United States          USA  1866     15251298\n",
       "15     United States          USA  1867     15502349\n",
       "16     United States          USA  1868     16443787\n",
       "17     United States          USA  1869     13682234\n",
       "18     United States          USA  1870     18389425\n",
       "...              ...          ...   ...          ...\n",
       "13544          World     OWID_WRL  2022        57183\n",
       "13545          Yemen          YEM  2022        11429\n",
       "13546         Zambia          ZMB  2022        24261\n",
       "13547       Zimbabwe          ZWE  2022           15\n",
       "13548  United States          USA  2023     11127799\n",
       "\n",
       "[12084 rows x 4 columns]"
      ]
     },
     "execution_count": 10,
     "metadata": {},
     "output_type": "execute_result"
    }
   ],
   "source": [
    "df = df[df['Maize yield'] != 0]\n",
    "df"
   ]
  },
  {
   "cell_type": "code",
   "execution_count": 11,
   "id": "253eeb50",
   "metadata": {
    "execution": {
     "iopub.execute_input": "2024-04-15T02:11:06.646970Z",
     "iopub.status.busy": "2024-04-15T02:11:06.646081Z",
     "iopub.status.idle": "2024-04-15T02:11:06.657516Z",
     "shell.execute_reply": "2024-04-15T02:11:06.656114Z"
    },
    "papermill": {
     "duration": 0.02642,
     "end_time": "2024-04-15T02:11:06.660339",
     "exception": false,
     "start_time": "2024-04-15T02:11:06.633919",
     "status": "completed"
    },
    "tags": []
   },
   "outputs": [
    {
     "name": "stdout",
     "output_type": "stream",
     "text": [
      "country has 221 unique values\n",
      "code country has 178 unique values\n"
     ]
    }
   ],
   "source": [
    "object_columns = df.select_dtypes(include=['object']).columns.tolist()\n",
    "\n",
    "for col in object_columns:\n",
    "    unique_count = df[col].nunique()\n",
    "    print(f'{col} has {unique_count} unique values')"
   ]
  },
  {
   "cell_type": "code",
   "execution_count": 12,
   "id": "7d86b096",
   "metadata": {
    "execution": {
     "iopub.execute_input": "2024-04-15T02:11:06.683183Z",
     "iopub.status.busy": "2024-04-15T02:11:06.682285Z",
     "iopub.status.idle": "2024-04-15T02:11:06.695454Z",
     "shell.execute_reply": "2024-04-15T02:11:06.694206Z"
    },
    "papermill": {
     "duration": 0.028585,
     "end_time": "2024-04-15T02:11:06.699157",
     "exception": false,
     "start_time": "2024-04-15T02:11:06.670572",
     "status": "completed"
    },
    "tags": []
   },
   "outputs": [
    {
     "name": "stdout",
     "output_type": "stream",
     "text": [
      "country has ['United States' 'Afghanistan' 'Africa' 'Africa (FAO)' 'Albania' 'Algeria'\n",
      " 'Americas (FAO)' 'Angola' 'Argentina' 'Asia' 'Asia (FAO)' 'Australia'\n",
      " 'Austria' 'Bahamas' 'Bangladesh' 'Barbados' 'Belgium-Luxembourg (FAO)'\n",
      " 'Belize' 'Benin' 'Bhutan' 'Bolivia' 'Botswana' 'Brazil' 'Bulgaria'\n",
      " 'Burkina Faso' 'Burundi' 'Cambodia' 'Cameroon' 'Canada' 'Cape Verde'\n",
      " 'Caribbean (FAO)' 'Central African Republic' 'Central America (FAO)'\n",
      " 'Chad' 'Chile' 'China' 'Colombia' 'Comoros' 'Congo' 'Costa Rica'\n",
      " \"Cote d'Ivoire\" 'Cuba' 'Czechoslovakia' 'Democratic Republic of Congo'\n",
      " 'Dominica' 'Dominican Republic' 'East Timor' 'Eastern Africa (FAO)'\n",
      " 'Eastern Asia (FAO)' 'Eastern Europe (FAO)' 'Ecuador' 'Egypt'\n",
      " 'El Salvador' 'Eswatini' 'Ethiopia (former)' 'Europe' 'Europe (FAO)'\n",
      " 'European Union (27)' 'European Union (27) (FAO)' 'Fiji' 'France'\n",
      " 'French Guiana' 'Gabon' 'Gambia' 'Germany' 'Ghana' 'Greece' 'Grenada'\n",
      " 'Guadeloupe' 'Guatemala' 'Guinea' 'Guinea-Bissau' 'Guyana' 'Haiti'\n",
      " 'High-income countries' 'Honduras' 'Hungary' 'India' 'Indonesia' 'Iran'\n",
      " 'Iraq' 'Israel' 'Italy' 'Jamaica' 'Japan' 'Jordan' 'Kenya'\n",
      " 'Land Locked Developing Countries (FAO)' 'Laos'\n",
      " 'Least Developed Countries (FAO)' 'Lebanon' 'Lesotho' 'Libya'\n",
      " 'Low Income Food Deficit Countries (FAO)' 'Low-income countries'\n",
      " 'Lower-middle-income countries' 'Madagascar' 'Malawi' 'Malaysia'\n",
      " 'Maldives' 'Mali' 'Mauritania' 'Mauritius' 'Melanesia' 'Mexico'\n",
      " 'Middle Africa (FAO)' 'Morocco' 'Mozambique' 'Myanmar' 'Namibia' 'Nepal'\n",
      " 'Net Food Importing Developing Countries (FAO)' 'Netherlands'\n",
      " 'New Caledonia' 'New Zealand' 'Nicaragua' 'Niger' 'Nigeria'\n",
      " 'North America' 'North Korea' 'Northern Africa (FAO)'\n",
      " 'Northern America (FAO)' 'Oceania' 'Oceania (FAO)' 'Pakistan' 'Panama'\n",
      " 'Papua New Guinea' 'Paraguay' 'Peru' 'Philippines' 'Poland' 'Portugal'\n",
      " 'Puerto Rico' 'Reunion' 'Romania' 'Rwanda' 'Saint Lucia'\n",
      " 'Saint Vincent and the Grenadines' 'Sao Tome and Principe' 'Saudi Arabia'\n",
      " 'Senegal' 'Sierra Leone' 'Small Island Developing States (FAO)' 'Somalia'\n",
      " 'South Africa' 'South America' 'South America (FAO)' 'South Korea'\n",
      " 'South-eastern Asia (FAO)' 'Southern Africa (FAO)' 'Southern Asia (FAO)'\n",
      " 'Southern Europe (FAO)' 'Spain' 'Sri Lanka' 'Sudan (former)' 'Suriname'\n",
      " 'Switzerland' 'Syria' 'Taiwan' 'Tanzania' 'Thailand' 'Togo'\n",
      " 'Trinidad and Tobago' 'Turkey' 'USSR' 'Uganda'\n",
      " 'Upper-middle-income countries' 'Uruguay' 'Vanuatu' 'Venezuela' 'Vietnam'\n",
      " 'Western Africa (FAO)' 'Western Asia (FAO)' 'Western Europe (FAO)'\n",
      " 'World' 'Yemen' 'Yugoslavia' 'Zambia' 'Zimbabwe' 'Antigua and Barbuda'\n",
      " 'Northern Europe (FAO)' 'United Kingdom' 'Kuwait' 'Djibouti' 'Qatar'\n",
      " 'United Arab Emirates' 'China (FAO)' 'Micronesia (FAO)'\n",
      " 'Micronesia (country)' 'Oman' 'Armenia' 'Azerbaijan' 'Belarus'\n",
      " 'Bosnia and Herzegovina' 'Central Asia (FAO)' 'Croatia' 'Georgia'\n",
      " 'Kazakhstan' 'Kyrgyzstan' 'Lithuania' 'Moldova' 'North Macedonia'\n",
      " 'Russia' 'Serbia and Montenegro' 'Slovenia' 'Tajikistan' 'Turkmenistan'\n",
      " 'Ukraine' 'Uzbekistan' 'Czechia' 'Eritrea' 'Ethiopia' 'Slovakia'\n",
      " 'Belgium' 'Luxembourg' 'Montenegro' 'Serbia' 'Denmark' 'South Sudan'\n",
      " 'Sudan' 'Sweden']\n",
      "code country has ['USA' 'AFG' '0' 'ALB' 'DZA' 'AGO' 'ARG' 'AUS' 'AUT' 'BHS' 'BGD' 'BRB'\n",
      " 'BLZ' 'BEN' 'BTN' 'BOL' 'BWA' 'BRA' 'BGR' 'BFA' 'BDI' 'KHM' 'CMR' 'CAN'\n",
      " 'CPV' 'CAF' 'TCD' 'CHL' 'CHN' 'COL' 'COM' 'COG' 'CRI' 'CIV' 'CUB'\n",
      " 'OWID_CZS' 'COD' 'DMA' 'DOM' 'TLS' 'ECU' 'EGY' 'SLV' 'SWZ' 'OWID_ERE'\n",
      " 'FJI' 'FRA' 'GUF' 'GAB' 'GMB' 'DEU' 'GHA' 'GRC' 'GRD' 'GLP' 'GTM' 'GIN'\n",
      " 'GNB' 'GUY' 'HTI' 'HND' 'HUN' 'IND' 'IDN' 'IRN' 'IRQ' 'ISR' 'ITA' 'JAM'\n",
      " 'JPN' 'JOR' 'KEN' 'LAO' 'LBN' 'LSO' 'LBY' 'MDG' 'MWI' 'MYS' 'MDV' 'MLI'\n",
      " 'MRT' 'MUS' 'OWID_MNS' 'MEX' 'MAR' 'MOZ' 'MMR' 'NAM' 'NPL' 'NLD' 'NCL'\n",
      " 'NZL' 'NIC' 'NER' 'NGA' 'PRK' 'PAK' 'PAN' 'PNG' 'PRY' 'PER' 'PHL' 'POL'\n",
      " 'PRT' 'PRI' 'REU' 'ROU' 'RWA' 'LCA' 'VCT' 'STP' 'SAU' 'SEN' 'SLE' 'SOM'\n",
      " 'ZAF' 'KOR' 'ESP' 'LKA' 'SUR' 'CHE' 'SYR' 'TWN' 'TZA' 'THA' 'TGO' 'TTO'\n",
      " 'TUR' 'OWID_USS' 'UGA' 'URY' 'VUT' 'VEN' 'VNM' 'OWID_WRL' 'YEM'\n",
      " 'OWID_YGS' 'ZMB' 'ZWE' 'ATG' 'GBR' 'KWT' 'DJI' 'QAT' 'ARE' 'FSM' 'OMN'\n",
      " 'ARM' 'AZE' 'BLR' 'BIH' 'HRV' 'GEO' 'KAZ' 'KGZ' 'LTU' 'MDA' 'MKD' 'RUS'\n",
      " 'OWID_SRM' 'SVN' 'TJK' 'TKM' 'UKR' 'UZB' 'CZE' 'ERI' 'ETH' 'SVK' 'BEL'\n",
      " 'LUX' 'MNE' 'SRB' 'DNK' 'SSD' 'SDN' 'SWE']\n"
     ]
    }
   ],
   "source": [
    "for col in object_columns:\n",
    "    unique_name = df[col].unique()\n",
    "    print(f'{col} has {unique_name}')"
   ]
  },
  {
   "cell_type": "code",
   "execution_count": 13,
   "id": "55919ad6",
   "metadata": {
    "execution": {
     "iopub.execute_input": "2024-04-15T02:11:06.722340Z",
     "iopub.status.busy": "2024-04-15T02:11:06.721370Z",
     "iopub.status.idle": "2024-04-15T02:11:06.743066Z",
     "shell.execute_reply": "2024-04-15T02:11:06.742052Z"
    },
    "papermill": {
     "duration": 0.036705,
     "end_time": "2024-04-15T02:11:06.746181",
     "exception": false,
     "start_time": "2024-04-15T02:11:06.709476",
     "status": "completed"
    },
    "tags": []
   },
   "outputs": [],
   "source": [
    "df = df.drop('country', axis=1)\n",
    "df = df[df['code country'] != '0']\n",
    "df = df[~df['code country'].str.startswith('OWID_', na=False)]"
   ]
  },
  {
   "cell_type": "code",
   "execution_count": 14,
   "id": "5c7e1c7e",
   "metadata": {
    "execution": {
     "iopub.execute_input": "2024-04-15T02:11:06.769707Z",
     "iopub.status.busy": "2024-04-15T02:11:06.768921Z",
     "iopub.status.idle": "2024-04-15T02:11:06.777340Z",
     "shell.execute_reply": "2024-04-15T02:11:06.776111Z"
    },
    "papermill": {
     "duration": 0.023865,
     "end_time": "2024-04-15T02:11:06.780445",
     "exception": false,
     "start_time": "2024-04-15T02:11:06.756580",
     "status": "completed"
    },
    "tags": []
   },
   "outputs": [],
   "source": [
    "df.dropna(inplace= True)"
   ]
  },
  {
   "cell_type": "code",
   "execution_count": 15,
   "id": "7f212d14",
   "metadata": {
    "execution": {
     "iopub.execute_input": "2024-04-15T02:11:06.804295Z",
     "iopub.status.busy": "2024-04-15T02:11:06.803505Z",
     "iopub.status.idle": "2024-04-15T02:11:06.830937Z",
     "shell.execute_reply": "2024-04-15T02:11:06.829753Z"
    },
    "papermill": {
     "duration": 0.042782,
     "end_time": "2024-04-15T02:11:06.833842",
     "exception": false,
     "start_time": "2024-04-15T02:11:06.791060",
     "status": "completed"
    },
    "tags": []
   },
   "outputs": [
    {
     "name": "stdout",
     "output_type": "stream",
     "text": [
      "<class 'pandas.core.frame.DataFrame'>\n",
      "Index: 9237 entries, 14 to 13548\n",
      "Columns: 172 entries, Year to code country_ZWE\n",
      "dtypes: bool(170), int64(2)\n",
      "memory usage: 1.7 MB\n"
     ]
    }
   ],
   "source": [
    "df = pd.get_dummies(df, columns=['code country'])\n",
    "df.info()"
   ]
  },
  {
   "cell_type": "code",
   "execution_count": 16,
   "id": "87f8c443",
   "metadata": {
    "execution": {
     "iopub.execute_input": "2024-04-15T02:11:06.857331Z",
     "iopub.status.busy": "2024-04-15T02:11:06.856591Z",
     "iopub.status.idle": "2024-04-15T02:11:48.330575Z",
     "shell.execute_reply": "2024-04-15T02:11:48.329453Z"
    },
    "papermill": {
     "duration": 41.4946,
     "end_time": "2024-04-15T02:11:48.338545",
     "exception": false,
     "start_time": "2024-04-15T02:11:06.843945",
     "status": "completed"
    },
    "tags": []
   },
   "outputs": [
    {
     "name": "stderr",
     "output_type": "stream",
     "text": [
      "/opt/conda/lib/python3.10/site-packages/sklearn/linear_model/_coordinate_descent.py:631: ConvergenceWarning: Objective did not converge. You might want to increase the number of iterations, check the scale of the features or consider increasing regularisation. Duality gap: 1.550e+17, tolerance: 3.957e+14\n",
      "  model = cd_fast.enet_coordinate_descent(\n"
     ]
    },
    {
     "name": "stdout",
     "output_type": "stream",
     "text": [
      "[LightGBM] [Info] Auto-choosing row-wise multi-threading, the overhead of testing was 0.008008 seconds.\n",
      "You can set `force_row_wise=true` to remove the overhead.\n",
      "And if memory is not enough, you can set `force_col_wise=true`.\n",
      "[LightGBM] [Info] Total Bins 560\n",
      "[LightGBM] [Info] Number of data points in the train set: 7389, number of used features: 159\n",
      "[LightGBM] [Info] Start training from score 11610964.923400\n"
     ]
    },
    {
     "data": {
      "text/html": [
       "<div>\n",
       "<style scoped>\n",
       "    .dataframe tbody tr th:only-of-type {\n",
       "        vertical-align: middle;\n",
       "    }\n",
       "\n",
       "    .dataframe tbody tr th {\n",
       "        vertical-align: top;\n",
       "    }\n",
       "\n",
       "    .dataframe thead th {\n",
       "        text-align: right;\n",
       "    }\n",
       "</style>\n",
       "<table border=\"1\" class=\"dataframe\">\n",
       "  <thead>\n",
       "    <tr style=\"text-align: right;\">\n",
       "      <th></th>\n",
       "      <th>Model</th>\n",
       "      <th>RMSE</th>\n",
       "      <th>R2</th>\n",
       "    </tr>\n",
       "  </thead>\n",
       "  <tbody>\n",
       "    <tr>\n",
       "      <th>0</th>\n",
       "      <td>Linear Regression</td>\n",
       "      <td>2.239168e+07</td>\n",
       "      <td>0.033856</td>\n",
       "    </tr>\n",
       "    <tr>\n",
       "      <th>1</th>\n",
       "      <td>Ridge Regression</td>\n",
       "      <td>2.239205e+07</td>\n",
       "      <td>0.033824</td>\n",
       "    </tr>\n",
       "    <tr>\n",
       "      <th>2</th>\n",
       "      <td>Lasso Regression</td>\n",
       "      <td>2.239211e+07</td>\n",
       "      <td>0.033819</td>\n",
       "    </tr>\n",
       "    <tr>\n",
       "      <th>3</th>\n",
       "      <td>ElasticNet</td>\n",
       "      <td>2.233234e+07</td>\n",
       "      <td>0.038970</td>\n",
       "    </tr>\n",
       "    <tr>\n",
       "      <th>4</th>\n",
       "      <td>Decision Tree Regressor</td>\n",
       "      <td>3.038584e+07</td>\n",
       "      <td>-0.779144</td>\n",
       "    </tr>\n",
       "    <tr>\n",
       "      <th>5</th>\n",
       "      <td>Random Forest Regressor</td>\n",
       "      <td>2.565000e+07</td>\n",
       "      <td>-0.267779</td>\n",
       "    </tr>\n",
       "    <tr>\n",
       "      <th>6</th>\n",
       "      <td>Support Vector Machine Regressor</td>\n",
       "      <td>2.551580e+07</td>\n",
       "      <td>-0.254547</td>\n",
       "    </tr>\n",
       "    <tr>\n",
       "      <th>7</th>\n",
       "      <td>K-Nearest Neighbors Regressor</td>\n",
       "      <td>2.332108e+07</td>\n",
       "      <td>-0.048011</td>\n",
       "    </tr>\n",
       "    <tr>\n",
       "      <th>8</th>\n",
       "      <td>Gradient Boosting Regressor</td>\n",
       "      <td>2.230041e+07</td>\n",
       "      <td>0.041716</td>\n",
       "    </tr>\n",
       "    <tr>\n",
       "      <th>9</th>\n",
       "      <td>XGBoost Regressor</td>\n",
       "      <td>2.306612e+07</td>\n",
       "      <td>-0.025221</td>\n",
       "    </tr>\n",
       "    <tr>\n",
       "      <th>10</th>\n",
       "      <td>LightGBM Regressor</td>\n",
       "      <td>2.223444e+07</td>\n",
       "      <td>0.047377</td>\n",
       "    </tr>\n",
       "  </tbody>\n",
       "</table>\n",
       "</div>"
      ],
      "text/plain": [
       "                               Model          RMSE        R2\n",
       "0                  Linear Regression  2.239168e+07  0.033856\n",
       "1                   Ridge Regression  2.239205e+07  0.033824\n",
       "2                   Lasso Regression  2.239211e+07  0.033819\n",
       "3                         ElasticNet  2.233234e+07  0.038970\n",
       "4            Decision Tree Regressor  3.038584e+07 -0.779144\n",
       "5            Random Forest Regressor  2.565000e+07 -0.267779\n",
       "6   Support Vector Machine Regressor  2.551580e+07 -0.254547\n",
       "7      K-Nearest Neighbors Regressor  2.332108e+07 -0.048011\n",
       "8        Gradient Boosting Regressor  2.230041e+07  0.041716\n",
       "9                  XGBoost Regressor  2.306612e+07 -0.025221\n",
       "10                LightGBM Regressor  2.223444e+07  0.047377"
      ]
     },
     "execution_count": 16,
     "metadata": {},
     "output_type": "execute_result"
    }
   ],
   "source": [
    "X = df.drop(['Maize yield'], axis=1)\n",
    "y = df['Maize yield']\n",
    "\n",
    "evaluate_models(X,y)"
   ]
  },
  {
   "cell_type": "markdown",
   "id": "77e0eea2",
   "metadata": {
    "papermill": {
     "duration": 0.009972,
     "end_time": "2024-04-15T02:11:48.358746",
     "exception": false,
     "start_time": "2024-04-15T02:11:48.348774",
     "status": "completed"
    },
    "tags": []
   },
   "source": [
    "> # Compare Model Conclusion"
   ]
  },
  {
   "cell_type": "markdown",
   "id": "3d76793f",
   "metadata": {
    "papermill": {
     "duration": 0.009968,
     "end_time": "2024-04-15T02:11:48.379041",
     "exception": false,
     "start_time": "2024-04-15T02:11:48.369073",
     "status": "completed"
    },
    "tags": []
   },
   "source": [
    "* ### Overall, the RMSE value is high\n",
    "* ### The R2 value is below 0.1 and a negative value exists.\n",
    "<br>\n",
    "\n",
    "## Cause Analysis \n",
    "### 1. Underfitting: The model may be too simple or lack of flexibility to capture complex patterns in the data\n",
    "### 2. Nonlinear Relationships in Data: can occur when the data has a nonlinear relationship rather than a linear relationship.\n",
    "### 3. Lack of information(data) : Lack of information to make predictions\n",
    "### 4. Or my mistake : Data Preprocessing, Lack of domain knowledge... "
   ]
  },
  {
   "cell_type": "markdown",
   "id": "e23d1302",
   "metadata": {
    "papermill": {
     "duration": 0.009824,
     "end_time": "2024-04-15T02:11:48.399540",
     "exception": false,
     "start_time": "2024-04-15T02:11:48.389716",
     "status": "completed"
    },
    "tags": []
   },
   "source": [
    "# Thanks"
   ]
  }
 ],
 "metadata": {
  "kaggle": {
   "accelerator": "none",
   "dataSources": [
    {
     "datasetId": 4785507,
     "sourceId": 8103067,
     "sourceType": "datasetVersion"
    }
   ],
   "dockerImageVersionId": 30684,
   "isGpuEnabled": false,
   "isInternetEnabled": true,
   "language": "python",
   "sourceType": "notebook"
  },
  "kernelspec": {
   "display_name": "Python 3",
   "language": "python",
   "name": "python3"
  },
  "language_info": {
   "codemirror_mode": {
    "name": "ipython",
    "version": 3
   },
   "file_extension": ".py",
   "mimetype": "text/x-python",
   "name": "python",
   "nbconvert_exporter": "python",
   "pygments_lexer": "ipython3",
   "version": "3.10.13"
  },
  "papermill": {
   "default_parameters": {},
   "duration": 52.409678,
   "end_time": "2024-04-15T02:11:49.231745",
   "environment_variables": {},
   "exception": null,
   "input_path": "__notebook__.ipynb",
   "output_path": "__notebook__.ipynb",
   "parameters": {},
   "start_time": "2024-04-15T02:10:56.822067",
   "version": "2.5.0"
  }
 },
 "nbformat": 4,
 "nbformat_minor": 5
}
