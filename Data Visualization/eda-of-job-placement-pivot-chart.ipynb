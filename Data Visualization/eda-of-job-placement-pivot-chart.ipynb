{
 "cells": [
  {
   "cell_type": "code",
   "execution_count": 1,
   "id": "83a3f8d9",
   "metadata": {
    "_cell_guid": "b1076dfc-b9ad-4769-8c92-a6c4dae69d19",
    "_uuid": "8f2839f25d086af736a60e9eeb907d3b93b6e0e5",
    "execution": {
     "iopub.execute_input": "2024-03-06T13:58:36.616014Z",
     "iopub.status.busy": "2024-03-06T13:58:36.615388Z",
     "iopub.status.idle": "2024-03-06T13:58:37.465350Z",
     "shell.execute_reply": "2024-03-06T13:58:37.464227Z"
    },
    "papermill": {
     "duration": 0.864845,
     "end_time": "2024-03-06T13:58:37.467670",
     "exception": false,
     "start_time": "2024-03-06T13:58:36.602825",
     "status": "completed"
    },
    "tags": []
   },
   "outputs": [
    {
     "name": "stdout",
     "output_type": "stream",
     "text": [
      "/kaggle/input/job-placement-dataset/job_placement.csv\n"
     ]
    }
   ],
   "source": [
    "# This Python 3 environment comes with many helpful analytics libraries installed\n",
    "# It is defined by the kaggle/python Docker image: https://github.com/kaggle/docker-python\n",
    "# For example, here's several helpful packages to load\n",
    "\n",
    "import numpy as np # linear algebra\n",
    "import pandas as pd # data processing, CSV file I/O (e.g. pd.read_csv)\n",
    "\n",
    "# Input data files are available in the read-only \"../input/\" directory\n",
    "# For example, running this (by clicking run or pressing Shift+Enter) will list all files under the input directory\n",
    "\n",
    "import os\n",
    "for dirname, _, filenames in os.walk('/kaggle/input'):\n",
    "    for filename in filenames:\n",
    "        print(os.path.join(dirname, filename))\n",
    "\n",
    "# You can write up to 20GB to the current directory (/kaggle/working/) that gets preserved as output when you create a version using \"Save & Run All\" \n",
    "# You can also write temporary files to /kaggle/temp/, but they won't be saved outside of the current session"
   ]
  },
  {
   "cell_type": "markdown",
   "id": "7a3b2c10",
   "metadata": {
    "papermill": {
     "duration": 0.010347,
     "end_time": "2024-03-06T13:58:37.490265",
     "exception": false,
     "start_time": "2024-03-06T13:58:37.479918",
     "status": "completed"
    },
    "tags": []
   },
   "source": [
    "> **EDA's goal is to explore the correlation of salaries.**"
   ]
  },
  {
   "cell_type": "markdown",
   "id": "cfd6720d",
   "metadata": {
    "papermill": {
     "duration": 0.010032,
     "end_time": "2024-03-06T13:58:37.510817",
     "exception": false,
     "start_time": "2024-03-06T13:58:37.500785",
     "status": "completed"
    },
    "tags": []
   },
   "source": [
    "# **Import Libraries & Read Dataset**"
   ]
  },
  {
   "cell_type": "code",
   "execution_count": 2,
   "id": "15737472",
   "metadata": {
    "execution": {
     "iopub.execute_input": "2024-03-06T13:58:37.533856Z",
     "iopub.status.busy": "2024-03-06T13:58:37.532961Z",
     "iopub.status.idle": "2024-03-06T13:58:38.863379Z",
     "shell.execute_reply": "2024-03-06T13:58:38.861844Z"
    },
    "papermill": {
     "duration": 1.34503,
     "end_time": "2024-03-06T13:58:38.866294",
     "exception": false,
     "start_time": "2024-03-06T13:58:37.521264",
     "status": "completed"
    },
    "tags": []
   },
   "outputs": [],
   "source": [
    "import pandas as pd\n",
    "import numpy as np\n",
    "import matplotlib.pyplot as plt\n",
    "import seaborn as sns"
   ]
  },
  {
   "cell_type": "code",
   "execution_count": 3,
   "id": "840996af",
   "metadata": {
    "_kg_hide-output": true,
    "execution": {
     "iopub.execute_input": "2024-03-06T13:58:38.889599Z",
     "iopub.status.busy": "2024-03-06T13:58:38.889184Z",
     "iopub.status.idle": "2024-03-06T13:58:38.911483Z",
     "shell.execute_reply": "2024-03-06T13:58:38.910628Z"
    },
    "papermill": {
     "duration": 0.037305,
     "end_time": "2024-03-06T13:58:38.914243",
     "exception": false,
     "start_time": "2024-03-06T13:58:38.876938",
     "status": "completed"
    },
    "tags": []
   },
   "outputs": [],
   "source": [
    "file_name = '/kaggle/input/job-placement-dataset/job_placement.csv'\n",
    "data = pd.read_csv(file_name)"
   ]
  },
  {
   "cell_type": "code",
   "execution_count": 4,
   "id": "66a14ccc",
   "metadata": {
    "execution": {
     "iopub.execute_input": "2024-03-06T13:58:38.937183Z",
     "iopub.status.busy": "2024-03-06T13:58:38.936450Z",
     "iopub.status.idle": "2024-03-06T13:58:38.964381Z",
     "shell.execute_reply": "2024-03-06T13:58:38.963143Z"
    },
    "papermill": {
     "duration": 0.042142,
     "end_time": "2024-03-06T13:58:38.966899",
     "exception": false,
     "start_time": "2024-03-06T13:58:38.924757",
     "status": "completed"
    },
    "tags": []
   },
   "outputs": [
    {
     "name": "stdout",
     "output_type": "stream",
     "text": [
      "<class 'pandas.core.frame.DataFrame'>\n",
      "RangeIndex: 700 entries, 0 to 699\n",
      "Data columns (total 11 columns):\n",
      " #   Column               Non-Null Count  Dtype  \n",
      "---  ------               --------------  -----  \n",
      " 0   id                   700 non-null    int64  \n",
      " 1   name                 700 non-null    object \n",
      " 2   gender               700 non-null    object \n",
      " 3   age                  700 non-null    int64  \n",
      " 4   degree               700 non-null    object \n",
      " 5   stream               700 non-null    object \n",
      " 6   college_name         700 non-null    object \n",
      " 7   placement_status     700 non-null    object \n",
      " 8   salary               700 non-null    int64  \n",
      " 9   gpa                  700 non-null    float64\n",
      " 10  years_of_experience  699 non-null    float64\n",
      "dtypes: float64(2), int64(3), object(6)\n",
      "memory usage: 60.3+ KB\n"
     ]
    }
   ],
   "source": [
    "data.info()"
   ]
  },
  {
   "cell_type": "code",
   "execution_count": 5,
   "id": "0fcaefd7",
   "metadata": {
    "execution": {
     "iopub.execute_input": "2024-03-06T13:58:38.990239Z",
     "iopub.status.busy": "2024-03-06T13:58:38.989521Z",
     "iopub.status.idle": "2024-03-06T13:58:39.011456Z",
     "shell.execute_reply": "2024-03-06T13:58:39.010362Z"
    },
    "papermill": {
     "duration": 0.036047,
     "end_time": "2024-03-06T13:58:39.013703",
     "exception": false,
     "start_time": "2024-03-06T13:58:38.977656",
     "status": "completed"
    },
    "tags": []
   },
   "outputs": [
    {
     "data": {
      "text/html": [
       "<div>\n",
       "<style scoped>\n",
       "    .dataframe tbody tr th:only-of-type {\n",
       "        vertical-align: middle;\n",
       "    }\n",
       "\n",
       "    .dataframe tbody tr th {\n",
       "        vertical-align: top;\n",
       "    }\n",
       "\n",
       "    .dataframe thead th {\n",
       "        text-align: right;\n",
       "    }\n",
       "</style>\n",
       "<table border=\"1\" class=\"dataframe\">\n",
       "  <thead>\n",
       "    <tr style=\"text-align: right;\">\n",
       "      <th></th>\n",
       "      <th>id</th>\n",
       "      <th>name</th>\n",
       "      <th>gender</th>\n",
       "      <th>age</th>\n",
       "      <th>degree</th>\n",
       "      <th>stream</th>\n",
       "      <th>college_name</th>\n",
       "      <th>placement_status</th>\n",
       "      <th>salary</th>\n",
       "      <th>gpa</th>\n",
       "      <th>years_of_experience</th>\n",
       "    </tr>\n",
       "  </thead>\n",
       "  <tbody>\n",
       "    <tr>\n",
       "      <th>0</th>\n",
       "      <td>1</td>\n",
       "      <td>John Doe</td>\n",
       "      <td>Male</td>\n",
       "      <td>25</td>\n",
       "      <td>Bachelor's</td>\n",
       "      <td>Computer Science</td>\n",
       "      <td>Harvard University</td>\n",
       "      <td>Placed</td>\n",
       "      <td>60000</td>\n",
       "      <td>3.7</td>\n",
       "      <td>2.0</td>\n",
       "    </tr>\n",
       "    <tr>\n",
       "      <th>1</th>\n",
       "      <td>2</td>\n",
       "      <td>Jane Smith</td>\n",
       "      <td>Female</td>\n",
       "      <td>24</td>\n",
       "      <td>Bachelor's</td>\n",
       "      <td>Electrical Engineering</td>\n",
       "      <td>Massachusetts Institute of Technology</td>\n",
       "      <td>Placed</td>\n",
       "      <td>65000</td>\n",
       "      <td>3.6</td>\n",
       "      <td>1.0</td>\n",
       "    </tr>\n",
       "    <tr>\n",
       "      <th>2</th>\n",
       "      <td>3</td>\n",
       "      <td>Michael Johnson</td>\n",
       "      <td>Male</td>\n",
       "      <td>26</td>\n",
       "      <td>Bachelor's</td>\n",
       "      <td>Mechanical Engineering</td>\n",
       "      <td>Stanford University</td>\n",
       "      <td>Placed</td>\n",
       "      <td>58000</td>\n",
       "      <td>3.8</td>\n",
       "      <td>3.0</td>\n",
       "    </tr>\n",
       "    <tr>\n",
       "      <th>3</th>\n",
       "      <td>4</td>\n",
       "      <td>Emily Davis</td>\n",
       "      <td>Female</td>\n",
       "      <td>23</td>\n",
       "      <td>Bachelor's</td>\n",
       "      <td>Information Technology</td>\n",
       "      <td>Yale University</td>\n",
       "      <td>Not Placed</td>\n",
       "      <td>0</td>\n",
       "      <td>3.5</td>\n",
       "      <td>2.0</td>\n",
       "    </tr>\n",
       "    <tr>\n",
       "      <th>4</th>\n",
       "      <td>5</td>\n",
       "      <td>David Brown</td>\n",
       "      <td>Male</td>\n",
       "      <td>24</td>\n",
       "      <td>Bachelor's</td>\n",
       "      <td>Computer Science</td>\n",
       "      <td>Princeton University</td>\n",
       "      <td>Placed</td>\n",
       "      <td>62000</td>\n",
       "      <td>3.9</td>\n",
       "      <td>2.0</td>\n",
       "    </tr>\n",
       "  </tbody>\n",
       "</table>\n",
       "</div>"
      ],
      "text/plain": [
       "   id             name  gender  age      degree                  stream  \\\n",
       "0   1         John Doe    Male   25  Bachelor's        Computer Science   \n",
       "1   2       Jane Smith  Female   24  Bachelor's  Electrical Engineering   \n",
       "2   3  Michael Johnson    Male   26  Bachelor's  Mechanical Engineering   \n",
       "3   4      Emily Davis  Female   23  Bachelor's  Information Technology   \n",
       "4   5      David Brown    Male   24  Bachelor's        Computer Science   \n",
       "\n",
       "                            college_name placement_status  salary  gpa  \\\n",
       "0                     Harvard University           Placed   60000  3.7   \n",
       "1  Massachusetts Institute of Technology           Placed   65000  3.6   \n",
       "2                    Stanford University           Placed   58000  3.8   \n",
       "3                        Yale University       Not Placed       0  3.5   \n",
       "4                   Princeton University           Placed   62000  3.9   \n",
       "\n",
       "   years_of_experience  \n",
       "0                  2.0  \n",
       "1                  1.0  \n",
       "2                  3.0  \n",
       "3                  2.0  \n",
       "4                  2.0  "
      ]
     },
     "execution_count": 5,
     "metadata": {},
     "output_type": "execute_result"
    }
   ],
   "source": [
    "data.head()"
   ]
  },
  {
   "cell_type": "code",
   "execution_count": 6,
   "id": "7f922ba6",
   "metadata": {
    "execution": {
     "iopub.execute_input": "2024-03-06T13:58:39.038162Z",
     "iopub.status.busy": "2024-03-06T13:58:39.037396Z",
     "iopub.status.idle": "2024-03-06T13:58:39.046238Z",
     "shell.execute_reply": "2024-03-06T13:58:39.045281Z"
    },
    "papermill": {
     "duration": 0.023281,
     "end_time": "2024-03-06T13:58:39.048500",
     "exception": false,
     "start_time": "2024-03-06T13:58:39.025219",
     "status": "completed"
    },
    "tags": []
   },
   "outputs": [
    {
     "data": {
      "text/plain": [
       "array([\"Bachelor's\"], dtype=object)"
      ]
     },
     "execution_count": 6,
     "metadata": {},
     "output_type": "execute_result"
    }
   ],
   "source": [
    "data['degree'].unique()"
   ]
  },
  {
   "cell_type": "code",
   "execution_count": 7,
   "id": "92198806",
   "metadata": {
    "execution": {
     "iopub.execute_input": "2024-03-06T13:58:39.071640Z",
     "iopub.status.busy": "2024-03-06T13:58:39.071293Z",
     "iopub.status.idle": "2024-03-06T13:58:39.078069Z",
     "shell.execute_reply": "2024-03-06T13:58:39.077137Z"
    },
    "papermill": {
     "duration": 0.020794,
     "end_time": "2024-03-06T13:58:39.080169",
     "exception": false,
     "start_time": "2024-03-06T13:58:39.059375",
     "status": "completed"
    },
    "tags": []
   },
   "outputs": [
    {
     "data": {
      "text/plain": [
       "array(['Placed', 'Not Placed'], dtype=object)"
      ]
     },
     "execution_count": 7,
     "metadata": {},
     "output_type": "execute_result"
    }
   ],
   "source": [
    "data['placement_status'].unique()"
   ]
  },
  {
   "cell_type": "markdown",
   "id": "58c6c4ea",
   "metadata": {
    "papermill": {
     "duration": 0.010422,
     "end_time": "2024-03-06T13:58:39.101114",
     "exception": false,
     "start_time": "2024-03-06T13:58:39.090692",
     "status": "completed"
    },
    "tags": []
   },
   "source": [
    "'ID' and 'name' are unrelated to salary and there is only one type of 'degree', so they will be excluded from the data."
   ]
  },
  {
   "cell_type": "markdown",
   "id": "197513ac",
   "metadata": {
    "papermill": {
     "duration": 0.010483,
     "end_time": "2024-03-06T13:58:39.122703",
     "exception": false,
     "start_time": "2024-03-06T13:58:39.112220",
     "status": "completed"
    },
    "tags": []
   },
   "source": [
    "# **Data Preprocessing**"
   ]
  },
  {
   "cell_type": "code",
   "execution_count": 8,
   "id": "943e1aa0",
   "metadata": {
    "execution": {
     "iopub.execute_input": "2024-03-06T13:58:39.146605Z",
     "iopub.status.busy": "2024-03-06T13:58:39.146006Z",
     "iopub.status.idle": "2024-03-06T13:58:39.156108Z",
     "shell.execute_reply": "2024-03-06T13:58:39.155031Z"
    },
    "papermill": {
     "duration": 0.024942,
     "end_time": "2024-03-06T13:58:39.158471",
     "exception": false,
     "start_time": "2024-03-06T13:58:39.133529",
     "status": "completed"
    },
    "tags": []
   },
   "outputs": [],
   "source": [
    "data_pre = data.dropna()\n",
    "data_pre = data_pre[data_pre['placement_status'] == 'Placed']\n",
    "\n",
    "# If 'placement_status' is 'Not Placed', the salary is 0 so no need."
   ]
  },
  {
   "cell_type": "code",
   "execution_count": 9,
   "id": "6932c14a",
   "metadata": {
    "execution": {
     "iopub.execute_input": "2024-03-06T13:58:39.182002Z",
     "iopub.status.busy": "2024-03-06T13:58:39.181630Z",
     "iopub.status.idle": "2024-03-06T13:58:39.193522Z",
     "shell.execute_reply": "2024-03-06T13:58:39.192529Z"
    },
    "papermill": {
     "duration": 0.026332,
     "end_time": "2024-03-06T13:58:39.195700",
     "exception": false,
     "start_time": "2024-03-06T13:58:39.169368",
     "status": "completed"
    },
    "tags": []
   },
   "outputs": [
    {
     "name": "stdout",
     "output_type": "stream",
     "text": [
      "<class 'pandas.core.frame.DataFrame'>\n",
      "Index: 569 entries, 0 to 698\n",
      "Data columns (total 11 columns):\n",
      " #   Column               Non-Null Count  Dtype  \n",
      "---  ------               --------------  -----  \n",
      " 0   id                   569 non-null    int64  \n",
      " 1   name                 569 non-null    object \n",
      " 2   gender               569 non-null    object \n",
      " 3   age                  569 non-null    int64  \n",
      " 4   degree               569 non-null    object \n",
      " 5   stream               569 non-null    object \n",
      " 6   college_name         569 non-null    object \n",
      " 7   placement_status     569 non-null    object \n",
      " 8   salary               569 non-null    int64  \n",
      " 9   gpa                  569 non-null    float64\n",
      " 10  years_of_experience  569 non-null    float64\n",
      "dtypes: float64(2), int64(3), object(6)\n",
      "memory usage: 53.3+ KB\n"
     ]
    }
   ],
   "source": [
    "data_pre.info()"
   ]
  },
  {
   "cell_type": "code",
   "execution_count": 10,
   "id": "3a2c423e",
   "metadata": {
    "execution": {
     "iopub.execute_input": "2024-03-06T13:58:39.219981Z",
     "iopub.status.busy": "2024-03-06T13:58:39.219060Z",
     "iopub.status.idle": "2024-03-06T13:58:39.226923Z",
     "shell.execute_reply": "2024-03-06T13:58:39.226142Z"
    },
    "papermill": {
     "duration": 0.022458,
     "end_time": "2024-03-06T13:58:39.229193",
     "exception": false,
     "start_time": "2024-03-06T13:58:39.206735",
     "status": "completed"
    },
    "tags": []
   },
   "outputs": [],
   "source": [
    "data_pre = data_pre.drop(['name','id','degree'],axis=1)"
   ]
  },
  {
   "cell_type": "code",
   "execution_count": 11,
   "id": "e45c314a",
   "metadata": {
    "execution": {
     "iopub.execute_input": "2024-03-06T13:58:39.252999Z",
     "iopub.status.busy": "2024-03-06T13:58:39.252528Z",
     "iopub.status.idle": "2024-03-06T13:58:39.261378Z",
     "shell.execute_reply": "2024-03-06T13:58:39.260387Z"
    },
    "papermill": {
     "duration": 0.023223,
     "end_time": "2024-03-06T13:58:39.263592",
     "exception": false,
     "start_time": "2024-03-06T13:58:39.240369",
     "status": "completed"
    },
    "tags": []
   },
   "outputs": [
    {
     "data": {
      "text/plain": [
       "gender                 0\n",
       "age                    0\n",
       "stream                 0\n",
       "college_name           0\n",
       "placement_status       0\n",
       "salary                 0\n",
       "gpa                    0\n",
       "years_of_experience    0\n",
       "dtype: int64"
      ]
     },
     "execution_count": 11,
     "metadata": {},
     "output_type": "execute_result"
    }
   ],
   "source": [
    "data_pre.isna().sum()"
   ]
  },
  {
   "cell_type": "markdown",
   "id": "6dfec702",
   "metadata": {
    "papermill": {
     "duration": 0.011387,
     "end_time": "2024-03-06T13:58:39.286469",
     "exception": false,
     "start_time": "2024-03-06T13:58:39.275082",
     "status": "completed"
    },
    "tags": []
   },
   "source": [
    "# **Pivot table & Charts**"
   ]
  },
  {
   "cell_type": "code",
   "execution_count": 12,
   "id": "c0cb0790",
   "metadata": {
    "execution": {
     "iopub.execute_input": "2024-03-06T13:58:39.311584Z",
     "iopub.status.busy": "2024-03-06T13:58:39.310495Z",
     "iopub.status.idle": "2024-03-06T13:58:39.319509Z",
     "shell.execute_reply": "2024-03-06T13:58:39.318500Z"
    },
    "papermill": {
     "duration": 0.023795,
     "end_time": "2024-03-06T13:58:39.321779",
     "exception": false,
     "start_time": "2024-03-06T13:58:39.297984",
     "status": "completed"
    },
    "tags": []
   },
   "outputs": [
    {
     "data": {
      "text/plain": [
       "Index(['gender', 'age', 'stream', 'college_name', 'placement_status', 'gpa',\n",
       "       'years_of_experience'],\n",
       "      dtype='object')"
      ]
     },
     "execution_count": 12,
     "metadata": {},
     "output_type": "execute_result"
    }
   ],
   "source": [
    "cols = data_pre.columns\n",
    "\n",
    "for col in cols:\n",
    "    globals()[col] = data_pre[col]\n",
    "    \n",
    "cols.drop('salary')"
   ]
  },
  {
   "cell_type": "code",
   "execution_count": 13,
   "id": "398f3248",
   "metadata": {
    "execution": {
     "iopub.execute_input": "2024-03-06T13:58:39.347614Z",
     "iopub.status.busy": "2024-03-06T13:58:39.346942Z",
     "iopub.status.idle": "2024-03-06T13:58:39.362690Z",
     "shell.execute_reply": "2024-03-06T13:58:39.361908Z"
    },
    "papermill": {
     "duration": 0.031419,
     "end_time": "2024-03-06T13:58:39.365006",
     "exception": false,
     "start_time": "2024-03-06T13:58:39.333587",
     "status": "completed"
    },
    "tags": []
   },
   "outputs": [
    {
     "data": {
      "text/html": [
       "<div>\n",
       "<style scoped>\n",
       "    .dataframe tbody tr th:only-of-type {\n",
       "        vertical-align: middle;\n",
       "    }\n",
       "\n",
       "    .dataframe tbody tr th {\n",
       "        vertical-align: top;\n",
       "    }\n",
       "\n",
       "    .dataframe thead th {\n",
       "        text-align: right;\n",
       "    }\n",
       "</style>\n",
       "<table border=\"1\" class=\"dataframe\">\n",
       "  <thead>\n",
       "    <tr style=\"text-align: right;\">\n",
       "      <th></th>\n",
       "      <th>salary</th>\n",
       "    </tr>\n",
       "    <tr>\n",
       "      <th>gender</th>\n",
       "      <th></th>\n",
       "    </tr>\n",
       "  </thead>\n",
       "  <tbody>\n",
       "    <tr>\n",
       "      <th>Female</th>\n",
       "      <td>64519.87</td>\n",
       "    </tr>\n",
       "    <tr>\n",
       "      <th>Male</th>\n",
       "      <td>64370.79</td>\n",
       "    </tr>\n",
       "  </tbody>\n",
       "</table>\n",
       "</div>"
      ],
      "text/plain": [
       "          salary\n",
       "gender          \n",
       "Female  64519.87\n",
       "Male    64370.79"
      ]
     },
     "execution_count": 13,
     "metadata": {},
     "output_type": "execute_result"
    }
   ],
   "source": [
    "pivot_gender = pd.pivot_table(data_pre, index='gender', values='salary',aggfunc='mean')\n",
    "round(pivot_gender,2)"
   ]
  },
  {
   "cell_type": "markdown",
   "id": "68294de9",
   "metadata": {
    "papermill": {
     "duration": 0.011432,
     "end_time": "2024-03-06T13:58:39.388220",
     "exception": false,
     "start_time": "2024-03-06T13:58:39.376788",
     "status": "completed"
    },
    "tags": []
   },
   "source": [
    "**Adjust the values because they are similar.**"
   ]
  },
  {
   "cell_type": "code",
   "execution_count": 14,
   "id": "1b1a1da3",
   "metadata": {
    "execution": {
     "iopub.execute_input": "2024-03-06T13:58:39.414177Z",
     "iopub.status.busy": "2024-03-06T13:58:39.413756Z",
     "iopub.status.idle": "2024-03-06T13:58:39.797591Z",
     "shell.execute_reply": "2024-03-06T13:58:39.796480Z"
    },
    "papermill": {
     "duration": 0.399473,
     "end_time": "2024-03-06T13:58:39.800070",
     "exception": false,
     "start_time": "2024-03-06T13:58:39.400597",
     "status": "completed"
    },
    "tags": []
   },
   "outputs": [
    {
     "data": {
      "image/png": "[encoded data removed]",
      "text/plain": [
       "<Figure size 640x480 with 1 Axes>"
      ]
     },
     "metadata": {},
     "output_type": "display_data"
    }
   ],
   "source": [
    "pivot_gender_z = pivot_gender - 64000\n",
    "\n",
    "pivot_gender_z.plot(kind='bar')\n",
    "plt.xlabel('gender')\n",
    "plt.xticks(rotation = 0)\n",
    "plt.ylabel('Salary_avg - 64000')\n",
    "plt.title('Salary by gender')\n",
    "plt.legend(['Value = Salary_avg - 64000'])\n",
    "plt.show()"
   ]
  },
  {
   "cell_type": "code",
   "execution_count": 15,
   "id": "b5f43ffc",
   "metadata": {
    "execution": {
     "iopub.execute_input": "2024-03-06T13:58:39.826810Z",
     "iopub.status.busy": "2024-03-06T13:58:39.825955Z",
     "iopub.status.idle": "2024-03-06T13:58:39.841549Z",
     "shell.execute_reply": "2024-03-06T13:58:39.840492Z"
    },
    "papermill": {
     "duration": 0.031515,
     "end_time": "2024-03-06T13:58:39.843967",
     "exception": false,
     "start_time": "2024-03-06T13:58:39.812452",
     "status": "completed"
    },
    "tags": []
   },
   "outputs": [
    {
     "data": {
      "text/html": [
       "<div>\n",
       "<style scoped>\n",
       "    .dataframe tbody tr th:only-of-type {\n",
       "        vertical-align: middle;\n",
       "    }\n",
       "\n",
       "    .dataframe tbody tr th {\n",
       "        vertical-align: top;\n",
       "    }\n",
       "\n",
       "    .dataframe thead th {\n",
       "        text-align: right;\n",
       "    }\n",
       "</style>\n",
       "<table border=\"1\" class=\"dataframe\">\n",
       "  <thead>\n",
       "    <tr style=\"text-align: right;\">\n",
       "      <th></th>\n",
       "      <th>salary</th>\n",
       "    </tr>\n",
       "    <tr>\n",
       "      <th>age</th>\n",
       "      <th></th>\n",
       "    </tr>\n",
       "  </thead>\n",
       "  <tbody>\n",
       "    <tr>\n",
       "      <th>23</th>\n",
       "      <td>64378.88</td>\n",
       "    </tr>\n",
       "    <tr>\n",
       "      <th>24</th>\n",
       "      <td>64622.75</td>\n",
       "    </tr>\n",
       "    <tr>\n",
       "      <th>25</th>\n",
       "      <td>64367.09</td>\n",
       "    </tr>\n",
       "    <tr>\n",
       "      <th>26</th>\n",
       "      <td>64382.72</td>\n",
       "    </tr>\n",
       "  </tbody>\n",
       "</table>\n",
       "</div>"
      ],
      "text/plain": [
       "       salary\n",
       "age          \n",
       "23   64378.88\n",
       "24   64622.75\n",
       "25   64367.09\n",
       "26   64382.72"
      ]
     },
     "execution_count": 15,
     "metadata": {},
     "output_type": "execute_result"
    }
   ],
   "source": [
    "pivot_age = pd.pivot_table(data_pre, index=age,values='salary',aggfunc='mean')\n",
    "round(pivot_age,2)"
   ]
  },
  {
   "cell_type": "code",
   "execution_count": 16,
   "id": "3aced930",
   "metadata": {
    "execution": {
     "iopub.execute_input": "2024-03-06T13:58:39.872652Z",
     "iopub.status.busy": "2024-03-06T13:58:39.872058Z",
     "iopub.status.idle": "2024-03-06T13:58:40.158901Z",
     "shell.execute_reply": "2024-03-06T13:58:40.157798Z"
    },
    "papermill": {
     "duration": 0.303124,
     "end_time": "2024-03-06T13:58:40.161266",
     "exception": false,
     "start_time": "2024-03-06T13:58:39.858142",
     "status": "completed"
    },
    "tags": []
   },
   "outputs": [
    {
     "data": {
      "image/png": "[encoded data removed]",
      "text/plain": [
       "<Figure size 640x480 with 1 Axes>"
      ]
     },
     "metadata": {},
     "output_type": "display_data"
    }
   ],
   "source": [
    "pivot_age_z = pivot_age-64000\n",
    "\n",
    "pivot_age_z.plot(kind='bar', color = 'gray')\n",
    "plt.xlabel('age')\n",
    "plt.xticks(rotation = 0)\n",
    "plt.ylabel('salary_avg - 64000')\n",
    "plt.title('Salary by age')\n",
    "plt.legend(['value = Salary_avg - 64000'])\n",
    "plt.show()"
   ]
  },
  {
   "cell_type": "code",
   "execution_count": 17,
   "id": "75cdf188",
   "metadata": {
    "execution": {
     "iopub.execute_input": "2024-03-06T13:58:40.189929Z",
     "iopub.status.busy": "2024-03-06T13:58:40.188961Z",
     "iopub.status.idle": "2024-03-06T13:58:40.207649Z",
     "shell.execute_reply": "2024-03-06T13:58:40.206740Z"
    },
    "papermill": {
     "duration": 0.035518,
     "end_time": "2024-03-06T13:58:40.210176",
     "exception": false,
     "start_time": "2024-03-06T13:58:40.174658",
     "status": "completed"
    },
    "tags": []
   },
   "outputs": [
    {
     "data": {
      "text/html": [
       "<div>\n",
       "<style scoped>\n",
       "    .dataframe tbody tr th:only-of-type {\n",
       "        vertical-align: middle;\n",
       "    }\n",
       "\n",
       "    .dataframe tbody tr th {\n",
       "        vertical-align: top;\n",
       "    }\n",
       "\n",
       "    .dataframe thead th {\n",
       "        text-align: right;\n",
       "    }\n",
       "</style>\n",
       "<table border=\"1\" class=\"dataframe\">\n",
       "  <thead>\n",
       "    <tr style=\"text-align: right;\">\n",
       "      <th></th>\n",
       "      <th>salary</th>\n",
       "    </tr>\n",
       "    <tr>\n",
       "      <th>stream</th>\n",
       "      <th></th>\n",
       "    </tr>\n",
       "  </thead>\n",
       "  <tbody>\n",
       "    <tr>\n",
       "      <th>Computer Science</th>\n",
       "      <td>64279.50</td>\n",
       "    </tr>\n",
       "    <tr>\n",
       "      <th>Electrical Engineering</th>\n",
       "      <td>64144.44</td>\n",
       "    </tr>\n",
       "    <tr>\n",
       "      <th>Electronics and Communication</th>\n",
       "      <td>64831.68</td>\n",
       "    </tr>\n",
       "    <tr>\n",
       "      <th>Information Technology</th>\n",
       "      <td>64609.38</td>\n",
       "    </tr>\n",
       "    <tr>\n",
       "      <th>Mechanical Engineering</th>\n",
       "      <td>64404.49</td>\n",
       "    </tr>\n",
       "  </tbody>\n",
       "</table>\n",
       "</div>"
      ],
      "text/plain": [
       "                                 salary\n",
       "stream                                 \n",
       "Computer Science               64279.50\n",
       "Electrical Engineering         64144.44\n",
       "Electronics and Communication  64831.68\n",
       "Information Technology         64609.38\n",
       "Mechanical Engineering         64404.49"
      ]
     },
     "execution_count": 17,
     "metadata": {},
     "output_type": "execute_result"
    }
   ],
   "source": [
    "pivot_stream = pd.pivot_table(data_pre, index = stream,values='salary',aggfunc='mean')\n",
    "round(pivot_stream,2)"
   ]
  },
  {
   "cell_type": "code",
   "execution_count": 18,
   "id": "7dc03ea4",
   "metadata": {
    "execution": {
     "iopub.execute_input": "2024-03-06T13:58:40.239122Z",
     "iopub.status.busy": "2024-03-06T13:58:40.238084Z",
     "iopub.status.idle": "2024-03-06T13:58:40.568917Z",
     "shell.execute_reply": "2024-03-06T13:58:40.567786Z"
    },
    "papermill": {
     "duration": 0.348269,
     "end_time": "2024-03-06T13:58:40.571881",
     "exception": false,
     "start_time": "2024-03-06T13:58:40.223612",
     "status": "completed"
    },
    "tags": []
   },
   "outputs": [
    {
     "data": {
      "image/png": "[encoded data removed]",
      "text/plain": [
       "<Figure size 640x480 with 1 Axes>"
      ]
     },
     "metadata": {},
     "output_type": "display_data"
    }
   ],
   "source": [
    "pivot_stream_z = pivot_stream-64000\n",
    "\n",
    "pivot_stream_z.plot(kind='bar', color = 'green')\n",
    "plt.xlabel('stream')\n",
    "plt.xticks(rotation = 45)\n",
    "plt.ylabel('salary_avg - 64000')\n",
    "plt.title('Salary by stream')\n",
    "plt.legend(['value = Salary_avg - 64000'])\n",
    "plt.show()"
   ]
  },
  {
   "cell_type": "code",
   "execution_count": 19,
   "id": "af074e70",
   "metadata": {
    "execution": {
     "iopub.execute_input": "2024-03-06T13:58:40.602063Z",
     "iopub.status.busy": "2024-03-06T13:58:40.601233Z",
     "iopub.status.idle": "2024-03-06T13:58:40.621758Z",
     "shell.execute_reply": "2024-03-06T13:58:40.620696Z"
    },
    "papermill": {
     "duration": 0.0378,
     "end_time": "2024-03-06T13:58:40.623983",
     "exception": false,
     "start_time": "2024-03-06T13:58:40.586183",
     "status": "completed"
    },
    "tags": []
   },
   "outputs": [
    {
     "data": {
      "text/html": [
       "<div>\n",
       "<style scoped>\n",
       "    .dataframe tbody tr th:only-of-type {\n",
       "        vertical-align: middle;\n",
       "    }\n",
       "\n",
       "    .dataframe tbody tr th {\n",
       "        vertical-align: top;\n",
       "    }\n",
       "\n",
       "    .dataframe thead th {\n",
       "        text-align: right;\n",
       "    }\n",
       "</style>\n",
       "<table border=\"1\" class=\"dataframe\">\n",
       "  <thead>\n",
       "    <tr style=\"text-align: right;\">\n",
       "      <th></th>\n",
       "      <th>salary</th>\n",
       "    </tr>\n",
       "    <tr>\n",
       "      <th>college_name</th>\n",
       "      <th></th>\n",
       "    </tr>\n",
       "  </thead>\n",
       "  <tbody>\n",
       "    <tr>\n",
       "      <th>California Institute of Technology</th>\n",
       "      <td>59000.00</td>\n",
       "    </tr>\n",
       "    <tr>\n",
       "      <th>Columbia University</th>\n",
       "      <td>63000.00</td>\n",
       "    </tr>\n",
       "    <tr>\n",
       "      <th>Duke University</th>\n",
       "      <td>61000.00</td>\n",
       "    </tr>\n",
       "    <tr>\n",
       "      <th>Georgetown University</th>\n",
       "      <td>67000.00</td>\n",
       "    </tr>\n",
       "    <tr>\n",
       "      <th>Harvard University</th>\n",
       "      <td>60000.00</td>\n",
       "    </tr>\n",
       "    <tr>\n",
       "      <th>Massachusetts Institute of Technology</th>\n",
       "      <td>65000.00</td>\n",
       "    </tr>\n",
       "    <tr>\n",
       "      <th>Northwestern University</th>\n",
       "      <td>57000.00</td>\n",
       "    </tr>\n",
       "    <tr>\n",
       "      <th>Princeton University</th>\n",
       "      <td>62000.00</td>\n",
       "    </tr>\n",
       "    <tr>\n",
       "      <th>Rice University</th>\n",
       "      <td>65000.00</td>\n",
       "    </tr>\n",
       "    <tr>\n",
       "      <th>Stanford University</th>\n",
       "      <td>58000.00</td>\n",
       "    </tr>\n",
       "    <tr>\n",
       "      <th>University of California--Berkeley</th>\n",
       "      <td>65906.98</td>\n",
       "    </tr>\n",
       "    <tr>\n",
       "      <th>University of California--Davis</th>\n",
       "      <td>66000.00</td>\n",
       "    </tr>\n",
       "    <tr>\n",
       "      <th>University of California--Irvine</th>\n",
       "      <td>64000.00</td>\n",
       "    </tr>\n",
       "    <tr>\n",
       "      <th>University of California--Los Angeles</th>\n",
       "      <td>66565.22</td>\n",
       "    </tr>\n",
       "    <tr>\n",
       "      <th>University of California--San Diego</th>\n",
       "      <td>65100.00</td>\n",
       "    </tr>\n",
       "    <tr>\n",
       "      <th>University of California--San Francisco</th>\n",
       "      <td>66000.00</td>\n",
       "    </tr>\n",
       "    <tr>\n",
       "      <th>University of California--Santa Barbara</th>\n",
       "      <td>60000.00</td>\n",
       "    </tr>\n",
       "    <tr>\n",
       "      <th>University of California--Santa Cruz</th>\n",
       "      <td>60000.00</td>\n",
       "    </tr>\n",
       "    <tr>\n",
       "      <th>University of Colorado--Boulder</th>\n",
       "      <td>65906.98</td>\n",
       "    </tr>\n",
       "    <tr>\n",
       "      <th>University of Connecticut</th>\n",
       "      <td>61000.00</td>\n",
       "    </tr>\n",
       "    <tr>\n",
       "      <th>University of Delaware</th>\n",
       "      <td>65000.00</td>\n",
       "    </tr>\n",
       "    <tr>\n",
       "      <th>University of Florida</th>\n",
       "      <td>60000.00</td>\n",
       "    </tr>\n",
       "    <tr>\n",
       "      <th>University of Illinois--Urbana-Champaign</th>\n",
       "      <td>64930.23</td>\n",
       "    </tr>\n",
       "    <tr>\n",
       "      <th>University of Iowa</th>\n",
       "      <td>62000.00</td>\n",
       "    </tr>\n",
       "    <tr>\n",
       "      <th>University of Maryland--College Park</th>\n",
       "      <td>62976.19</td>\n",
       "    </tr>\n",
       "    <tr>\n",
       "      <th>University of Michigan--Ann Arbor</th>\n",
       "      <td>66395.35</td>\n",
       "    </tr>\n",
       "    <tr>\n",
       "      <th>University of North Carolina--Chapel Hill</th>\n",
       "      <td>59000.00</td>\n",
       "    </tr>\n",
       "    <tr>\n",
       "      <th>University of Notre Dame</th>\n",
       "      <td>63000.00</td>\n",
       "    </tr>\n",
       "    <tr>\n",
       "      <th>University of Pennsylvania</th>\n",
       "      <td>64000.00</td>\n",
       "    </tr>\n",
       "    <tr>\n",
       "      <th>University of Pittsburgh</th>\n",
       "      <td>59000.00</td>\n",
       "    </tr>\n",
       "    <tr>\n",
       "      <th>University of Rochester</th>\n",
       "      <td>61970.59</td>\n",
       "    </tr>\n",
       "    <tr>\n",
       "      <th>University of Southern California</th>\n",
       "      <td>63000.00</td>\n",
       "    </tr>\n",
       "    <tr>\n",
       "      <th>University of Texas--Austin</th>\n",
       "      <td>66882.35</td>\n",
       "    </tr>\n",
       "    <tr>\n",
       "      <th>University of Texas--Dallas</th>\n",
       "      <td>63000.00</td>\n",
       "    </tr>\n",
       "    <tr>\n",
       "      <th>University of Virginia</th>\n",
       "      <td>64785.71</td>\n",
       "    </tr>\n",
       "    <tr>\n",
       "      <th>University of Washington</th>\n",
       "      <td>66950.00</td>\n",
       "    </tr>\n",
       "    <tr>\n",
       "      <th>University of Wisconsin--Madison</th>\n",
       "      <td>61000.00</td>\n",
       "    </tr>\n",
       "  </tbody>\n",
       "</table>\n",
       "</div>"
      ],
      "text/plain": [
       "                                             salary\n",
       "college_name                                       \n",
       "California Institute of Technology         59000.00\n",
       "Columbia University                        63000.00\n",
       "Duke University                            61000.00\n",
       "Georgetown University                      67000.00\n",
       "Harvard University                         60000.00\n",
       "Massachusetts Institute of Technology      65000.00\n",
       "Northwestern University                    57000.00\n",
       "Princeton University                       62000.00\n",
       "Rice University                            65000.00\n",
       "Stanford University                        58000.00\n",
       "University of California--Berkeley         65906.98\n",
       "University of California--Davis            66000.00\n",
       "University of California--Irvine           64000.00\n",
       "University of California--Los Angeles      66565.22\n",
       "University of California--San Diego        65100.00\n",
       "University of California--San Francisco    66000.00\n",
       "University of California--Santa Barbara    60000.00\n",
       "University of California--Santa Cruz       60000.00\n",
       "University of Colorado--Boulder            65906.98\n",
       "University of Connecticut                  61000.00\n",
       "University of Delaware                     65000.00\n",
       "University of Florida                      60000.00\n",
       "University of Illinois--Urbana-Champaign   64930.23\n",
       "University of Iowa                         62000.00\n",
       "University of Maryland--College Park       62976.19\n",
       "University of Michigan--Ann Arbor          66395.35\n",
       "University of North Carolina--Chapel Hill  59000.00\n",
       "University of Notre Dame                   63000.00\n",
       "University of Pennsylvania                 64000.00\n",
       "University of Pittsburgh                   59000.00\n",
       "University of Rochester                    61970.59\n",
       "University of Southern California          63000.00\n",
       "University of Texas--Austin                66882.35\n",
       "University of Texas--Dallas                63000.00\n",
       "University of Virginia                     64785.71\n",
       "University of Washington                   66950.00\n",
       "University of Wisconsin--Madison           61000.00"
      ]
     },
     "execution_count": 19,
     "metadata": {},
     "output_type": "execute_result"
    }
   ],
   "source": [
    "pivot_college_name = pd.pivot_table(data_pre, index = college_name,values='salary',aggfunc='mean')\n",
    "round(pivot_college_name,2)"
   ]
  },
  {
   "cell_type": "code",
   "execution_count": 20,
   "id": "1d818780",
   "metadata": {
    "execution": {
     "iopub.execute_input": "2024-03-06T13:58:40.654418Z",
     "iopub.status.busy": "2024-03-06T13:58:40.653618Z",
     "iopub.status.idle": "2024-03-06T13:58:41.298518Z",
     "shell.execute_reply": "2024-03-06T13:58:41.297458Z"
    },
    "papermill": {
     "duration": 0.663826,
     "end_time": "2024-03-06T13:58:41.301940",
     "exception": false,
     "start_time": "2024-03-06T13:58:40.638114",
     "status": "completed"
    },
    "tags": []
   },
   "outputs": [
    {
     "data": {
      "image/png": "[encoded data removed]",
      "text/plain": [
       "<Figure size 640x480 with 1 Axes>"
      ]
     },
     "metadata": {},
     "output_type": "display_data"
    }
   ],
   "source": [
    "pivot_college_name_z = pivot_college_name - 56000\n",
    "\n",
    "pivot_college_name_z.plot(kind='bar', color = 'skyblue')\n",
    "plt.xlabel('college_name')\n",
    "plt.ylabel('salary_avg - 56000')\n",
    "plt.title('Salary by college_name')\n",
    "plt.legend(['value = Salary_avg - 56000'])\n",
    "plt.show()"
   ]
  },
  {
   "cell_type": "code",
   "execution_count": 21,
   "id": "cef7b336",
   "metadata": {
    "execution": {
     "iopub.execute_input": "2024-03-06T13:58:41.336347Z",
     "iopub.status.busy": "2024-03-06T13:58:41.335676Z",
     "iopub.status.idle": "2024-03-06T13:58:41.351692Z",
     "shell.execute_reply": "2024-03-06T13:58:41.350563Z"
    },
    "papermill": {
     "duration": 0.035849,
     "end_time": "2024-03-06T13:58:41.353839",
     "exception": false,
     "start_time": "2024-03-06T13:58:41.317990",
     "status": "completed"
    },
    "tags": []
   },
   "outputs": [
    {
     "data": {
      "text/html": [
       "<div>\n",
       "<style scoped>\n",
       "    .dataframe tbody tr th:only-of-type {\n",
       "        vertical-align: middle;\n",
       "    }\n",
       "\n",
       "    .dataframe tbody tr th {\n",
       "        vertical-align: top;\n",
       "    }\n",
       "\n",
       "    .dataframe thead th {\n",
       "        text-align: right;\n",
       "    }\n",
       "</style>\n",
       "<table border=\"1\" class=\"dataframe\">\n",
       "  <thead>\n",
       "    <tr style=\"text-align: right;\">\n",
       "      <th></th>\n",
       "      <th>salary</th>\n",
       "    </tr>\n",
       "    <tr>\n",
       "      <th>gpa</th>\n",
       "      <th></th>\n",
       "    </tr>\n",
       "  </thead>\n",
       "  <tbody>\n",
       "    <tr>\n",
       "      <th>3.5</th>\n",
       "      <td>61297.30</td>\n",
       "    </tr>\n",
       "    <tr>\n",
       "      <th>3.6</th>\n",
       "      <td>63146.34</td>\n",
       "    </tr>\n",
       "    <tr>\n",
       "      <th>3.7</th>\n",
       "      <td>63651.16</td>\n",
       "    </tr>\n",
       "    <tr>\n",
       "      <th>3.8</th>\n",
       "      <td>65017.34</td>\n",
       "    </tr>\n",
       "    <tr>\n",
       "      <th>3.9</th>\n",
       "      <td>65883.56</td>\n",
       "    </tr>\n",
       "  </tbody>\n",
       "</table>\n",
       "</div>"
      ],
      "text/plain": [
       "       salary\n",
       "gpa          \n",
       "3.5  61297.30\n",
       "3.6  63146.34\n",
       "3.7  63651.16\n",
       "3.8  65017.34\n",
       "3.9  65883.56"
      ]
     },
     "execution_count": 21,
     "metadata": {},
     "output_type": "execute_result"
    }
   ],
   "source": [
    "pivot_gpa = pd.pivot_table(data_pre, index=gpa,values='salary',aggfunc='mean')\n",
    "round(pivot_gpa,2)"
   ]
  },
  {
   "cell_type": "code",
   "execution_count": 22,
   "id": "852f380a",
   "metadata": {
    "execution": {
     "iopub.execute_input": "2024-03-06T13:58:41.388911Z",
     "iopub.status.busy": "2024-03-06T13:58:41.388232Z",
     "iopub.status.idle": "2024-03-06T13:58:41.675940Z",
     "shell.execute_reply": "2024-03-06T13:58:41.674783Z"
    },
    "papermill": {
     "duration": 0.308396,
     "end_time": "2024-03-06T13:58:41.678602",
     "exception": false,
     "start_time": "2024-03-06T13:58:41.370206",
     "status": "completed"
    },
    "tags": []
   },
   "outputs": [
    {
     "data": {
      "image/png": "[encoded data removed]",
      "text/plain": [
       "<Figure size 640x480 with 1 Axes>"
      ]
     },
     "metadata": {},
     "output_type": "display_data"
    }
   ],
   "source": [
    "pivot_gpa_z = (pivot_gpa-60000)/100\n",
    "\n",
    "pivot_gpa_z.plot(kind='bar', color = 'cyan')\n",
    "plt.xlabel('gpa')\n",
    "plt.xticks(rotation = 0)\n",
    "plt.ylabel('(salary_avg - 60000)/100')\n",
    "plt.title('Salary by gpa')\n",
    "plt.legend(['value = (Salary_avg - 60000)/100'])\n",
    "plt.show()"
   ]
  },
  {
   "cell_type": "code",
   "execution_count": 23,
   "id": "e31f9014",
   "metadata": {
    "execution": {
     "iopub.execute_input": "2024-03-06T13:58:41.715905Z",
     "iopub.status.busy": "2024-03-06T13:58:41.715206Z",
     "iopub.status.idle": "2024-03-06T13:58:41.730966Z",
     "shell.execute_reply": "2024-03-06T13:58:41.729799Z"
    },
    "papermill": {
     "duration": 0.037744,
     "end_time": "2024-03-06T13:58:41.733345",
     "exception": false,
     "start_time": "2024-03-06T13:58:41.695601",
     "status": "completed"
    },
    "tags": []
   },
   "outputs": [
    {
     "data": {
      "text/html": [
       "<div>\n",
       "<style scoped>\n",
       "    .dataframe tbody tr th:only-of-type {\n",
       "        vertical-align: middle;\n",
       "    }\n",
       "\n",
       "    .dataframe tbody tr th {\n",
       "        vertical-align: top;\n",
       "    }\n",
       "\n",
       "    .dataframe thead th {\n",
       "        text-align: right;\n",
       "    }\n",
       "</style>\n",
       "<table border=\"1\" class=\"dataframe\">\n",
       "  <thead>\n",
       "    <tr style=\"text-align: right;\">\n",
       "      <th></th>\n",
       "      <th>salary</th>\n",
       "    </tr>\n",
       "    <tr>\n",
       "      <th>years_of_experience</th>\n",
       "      <th></th>\n",
       "    </tr>\n",
       "  </thead>\n",
       "  <tbody>\n",
       "    <tr>\n",
       "      <th>1.0</th>\n",
       "      <td>63027.03</td>\n",
       "    </tr>\n",
       "    <tr>\n",
       "      <th>2.0</th>\n",
       "      <td>63389.83</td>\n",
       "    </tr>\n",
       "    <tr>\n",
       "      <th>3.0</th>\n",
       "      <td>65679.72</td>\n",
       "    </tr>\n",
       "  </tbody>\n",
       "</table>\n",
       "</div>"
      ],
      "text/plain": [
       "                       salary\n",
       "years_of_experience          \n",
       "1.0                  63027.03\n",
       "2.0                  63389.83\n",
       "3.0                  65679.72"
      ]
     },
     "execution_count": 23,
     "metadata": {},
     "output_type": "execute_result"
    }
   ],
   "source": [
    "pivot_years_of_experience = pd.pivot_table(data_pre, index=years_of_experience,values='salary',aggfunc='mean')\n",
    "round(pivot_years_of_experience,2)"
   ]
  },
  {
   "cell_type": "code",
   "execution_count": 24,
   "id": "3683b4d5",
   "metadata": {
    "execution": {
     "iopub.execute_input": "2024-03-06T13:58:41.770362Z",
     "iopub.status.busy": "2024-03-06T13:58:41.769575Z",
     "iopub.status.idle": "2024-03-06T13:58:42.054799Z",
     "shell.execute_reply": "2024-03-06T13:58:42.051742Z"
    },
    "papermill": {
     "duration": 0.307545,
     "end_time": "2024-03-06T13:58:42.058218",
     "exception": false,
     "start_time": "2024-03-06T13:58:41.750673",
     "status": "completed"
    },
    "tags": []
   },
   "outputs": [
    {
     "data": {
      "image/png": "[encoded data removed]",
      "text/plain": [
       "<Figure size 640x480 with 1 Axes>"
      ]
     },
     "metadata": {},
     "output_type": "display_data"
    }
   ],
   "source": [
    "pivot_years_of_experience_z = (pivot_years_of_experience-60000)/100\n",
    "\n",
    "pivot_years_of_experience_z.plot(kind='bar', color = 'magenta')\n",
    "plt.xlabel('years_of_experience')\n",
    "plt.xticks(rotation = 0)\n",
    "plt.ylabel('(salary_avg-60000)/100')\n",
    "plt.title('Salary by years_of_experience')\n",
    "plt.legend(['value = (Salary_avg - 60000)/100'])\n",
    "plt.show()"
   ]
  },
  {
   "cell_type": "markdown",
   "id": "0e659dac",
   "metadata": {
    "papermill": {
     "duration": 0.017718,
     "end_time": "2024-03-06T13:58:42.098550",
     "exception": false,
     "start_time": "2024-03-06T13:58:42.080832",
     "status": "completed"
    },
    "tags": []
   },
   "source": [
    "# **Analyzing**"
   ]
  },
  {
   "cell_type": "markdown",
   "id": "b6c8b06e",
   "metadata": {
    "papermill": {
     "duration": 0.017172,
     "end_time": "2024-03-06T13:58:42.133614",
     "exception": false,
     "start_time": "2024-03-06T13:58:42.116442",
     "status": "completed"
    },
    "tags": []
   },
   "source": [
    "On average, female have a higher salary then male, and 24-year-olds have the highest salary.\n",
    "\n"
   ]
  },
  {
   "cell_type": "code",
   "execution_count": 25,
   "id": "23f20bde",
   "metadata": {
    "execution": {
     "iopub.execute_input": "2024-03-06T13:58:42.179515Z",
     "iopub.status.busy": "2024-03-06T13:58:42.178085Z",
     "iopub.status.idle": "2024-03-06T13:58:42.191084Z",
     "shell.execute_reply": "2024-03-06T13:58:42.189873Z"
    },
    "papermill": {
     "duration": 0.040291,
     "end_time": "2024-03-06T13:58:42.194534",
     "exception": false,
     "start_time": "2024-03-06T13:58:42.154243",
     "status": "completed"
    },
    "tags": []
   },
   "outputs": [
    {
     "name": "stdout",
     "output_type": "stream",
     "text": [
      "Top (college_name) : Georgetown University\n",
      "Top_salay (college_name) : 67000.0\n",
      "Bottom (college_name) : Northwestern University\n",
      "Bottom_salay (college_name) : 57000.0\n"
     ]
    }
   ],
   "source": [
    "max_name = pivot_college_name.idxmax().iloc[0]\n",
    "max_salary = pivot_college_name.max().max()\n",
    "min_name = pivot_college_name.idxmin().iloc[0]\n",
    "min_salary = pivot_college_name.min().min()\n",
    "\n",
    "print(\"Top (college_name) :\",max_name)\n",
    "print(\"Top_salay (college_name) :\",max_salary)\n",
    "print(\"Bottom (college_name) :\",min_name)\n",
    "print(\"Bottom_salay (college_name) :\",min_salary)"
   ]
  },
  {
   "cell_type": "markdown",
   "id": "384dc090",
   "metadata": {
    "papermill": {
     "duration": 0.024513,
     "end_time": "2024-03-06T13:58:42.241933",
     "exception": false,
     "start_time": "2024-03-06T13:58:42.217420",
     "status": "completed"
    },
    "tags": []
   },
   "source": [
    "The rest, as expected, is proportional to 'years_of_experience' and 'gpa'."
   ]
  },
  {
   "cell_type": "markdown",
   "id": "2966e1bd",
   "metadata": {
    "papermill": {
     "duration": 0.019514,
     "end_time": "2024-03-06T13:58:42.283573",
     "exception": false,
     "start_time": "2024-03-06T13:58:42.264059",
     "status": "completed"
    },
    "tags": []
   },
   "source": [
    "# **Thanks**"
   ]
  }
 ],
 "metadata": {
  "kaggle": {
   "accelerator": "none",
   "dataSources": [
    {
     "datasetId": 4530107,
     "sourceId": 7748879,
     "sourceType": "datasetVersion"
    }
   ],
   "dockerImageVersionId": 30664,
   "isGpuEnabled": false,
   "isInternetEnabled": true,
   "language": "python",
   "sourceType": "notebook"
  },
  "kernelspec": {
   "display_name": "Python 3",
   "language": "python",
   "name": "python3"
  },
  "language_info": {
   "codemirror_mode": {
    "name": "ipython",
    "version": 3
   },
   "file_extension": ".py",
   "mimetype": "text/x-python",
   "name": "python",
   "nbconvert_exporter": "python",
   "pygments_lexer": "ipython3",
   "version": "3.10.13"
  },
  "papermill": {
   "default_parameters": {},
   "duration": 9.205442,
   "end_time": "2024-03-06T13:58:42.924157",
   "environment_variables": {},
   "exception": null,
   "input_path": "__notebook__.ipynb",
   "output_path": "__notebook__.ipynb",
   "parameters": {},
   "start_time": "2024-03-06T13:58:33.718715",
   "version": "2.5.0"
  }
 },
 "nbformat": 4,
 "nbformat_minor": 5
}
