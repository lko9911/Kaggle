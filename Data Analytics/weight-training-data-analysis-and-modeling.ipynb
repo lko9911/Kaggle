{
 "cells": [
  {
   "cell_type": "markdown",
   "id": "4016a46b",
   "metadata": {
    "papermill": {
     "duration": 0.020097,
     "end_time": "2024-03-15T03:23:02.203662",
     "exception": false,
     "start_time": "2024-03-15T03:23:02.183565",
     "status": "completed"
    },
    "tags": []
   },
   "source": [
    "# *Project. Data Analysis and Modeling* <br>\n",
    "\n",
    "## Goal\n",
    "> #### EDA : Visualize the RPE mean for each column \n",
    "> #### Modeling : Predicting RPE Values"
   ]
  },
  {
   "cell_type": "markdown",
   "id": "a61f5d2e",
   "metadata": {
    "papermill": {
     "duration": 0.01867,
     "end_time": "2024-03-15T03:23:02.241568",
     "exception": false,
     "start_time": "2024-03-15T03:23:02.222898",
     "status": "completed"
    },
    "tags": []
   },
   "source": [
    "# **Import Libraries & Read Dataset**"
   ]
  },
  {
   "cell_type": "code",
   "execution_count": 1,
   "id": "b796a062",
   "metadata": {
    "execution": {
     "iopub.execute_input": "2024-03-15T03:23:02.283305Z",
     "iopub.status.busy": "2024-03-15T03:23:02.282320Z",
     "iopub.status.idle": "2024-03-15T03:23:05.436144Z",
     "shell.execute_reply": "2024-03-15T03:23:05.434828Z"
    },
    "papermill": {
     "duration": 3.178023,
     "end_time": "2024-03-15T03:23:05.439351",
     "exception": false,
     "start_time": "2024-03-15T03:23:02.261328",
     "status": "completed"
    },
    "tags": []
   },
   "outputs": [],
   "source": [
    "# For EDA\n",
    "import pandas as pd\n",
    "import numpy as np\n",
    "import matplotlib.pyplot as plt\n",
    "import seaborn as sns\n",
    "\n",
    "# For Modeling\n",
    "from sklearn.model_selection import train_test_split\n",
    "from sklearn.linear_model import LinearRegression\n",
    "from sklearn.ensemble import RandomForestRegressor\n",
    "from sklearn.metrics import mean_squared_error, r2_score, accuracy_score\n",
    "import xgboost as xgb\n",
    "from sklearn.model_selection import GridSearchCV\n",
    "from sklearn.metrics import make_scorer, mean_squared_error"
   ]
  },
  {
   "cell_type": "code",
   "execution_count": 2,
   "id": "a11caf8a",
   "metadata": {
    "execution": {
     "iopub.execute_input": "2024-03-15T03:23:05.482181Z",
     "iopub.status.busy": "2024-03-15T03:23:05.481294Z",
     "iopub.status.idle": "2024-03-15T03:23:05.518508Z",
     "shell.execute_reply": "2024-03-15T03:23:05.517417Z"
    },
    "papermill": {
     "duration": 0.061073,
     "end_time": "2024-03-15T03:23:05.521177",
     "exception": false,
     "start_time": "2024-03-15T03:23:05.460104",
     "status": "completed"
    },
    "tags": []
   },
   "outputs": [],
   "source": [
    "file_name = '/kaggle/input/weight-training/strong.csv'\n",
    "data = pd.read_csv(file_name)"
   ]
  },
  {
   "cell_type": "code",
   "execution_count": 3,
   "id": "5cbf1bd2",
   "metadata": {
    "execution": {
     "iopub.execute_input": "2024-03-15T03:23:05.561993Z",
     "iopub.status.busy": "2024-03-15T03:23:05.561567Z",
     "iopub.status.idle": "2024-03-15T03:23:05.587565Z",
     "shell.execute_reply": "2024-03-15T03:23:05.586440Z"
    },
    "papermill": {
     "duration": 0.049257,
     "end_time": "2024-03-15T03:23:05.590048",
     "exception": false,
     "start_time": "2024-03-15T03:23:05.540791",
     "status": "completed"
    },
    "tags": []
   },
   "outputs": [
    {
     "data": {
      "text/html": [
       "<div>\n",
       "<style scoped>\n",
       "    .dataframe tbody tr th:only-of-type {\n",
       "        vertical-align: middle;\n",
       "    }\n",
       "\n",
       "    .dataframe tbody tr th {\n",
       "        vertical-align: top;\n",
       "    }\n",
       "\n",
       "    .dataframe thead th {\n",
       "        text-align: right;\n",
       "    }\n",
       "</style>\n",
       "<table border=\"1\" class=\"dataframe\">\n",
       "  <thead>\n",
       "    <tr style=\"text-align: right;\">\n",
       "      <th></th>\n",
       "      <th>Date</th>\n",
       "      <th>Workout Name</th>\n",
       "      <th>Duration</th>\n",
       "      <th>Exercise Name</th>\n",
       "      <th>Set Order</th>\n",
       "      <th>Weight</th>\n",
       "      <th>Reps</th>\n",
       "      <th>Distance</th>\n",
       "      <th>Seconds</th>\n",
       "      <th>Notes</th>\n",
       "      <th>Workout Notes</th>\n",
       "      <th>RPE</th>\n",
       "    </tr>\n",
       "  </thead>\n",
       "  <tbody>\n",
       "    <tr>\n",
       "      <th>0</th>\n",
       "      <td>2021-09-13 10:41:41</td>\n",
       "      <td>PUSH 1</td>\n",
       "      <td>1h 12m</td>\n",
       "      <td>Bench Press (Barbell)</td>\n",
       "      <td>1</td>\n",
       "      <td>35.0</td>\n",
       "      <td>10</td>\n",
       "      <td>0</td>\n",
       "      <td>0</td>\n",
       "      <td>NaN</td>\n",
       "      <td>Focusing on CHEST, SHOULDERS and TRICEPS</td>\n",
       "      <td>9.0</td>\n",
       "    </tr>\n",
       "    <tr>\n",
       "      <th>1</th>\n",
       "      <td>2021-09-13 10:41:41</td>\n",
       "      <td>PUSH 1</td>\n",
       "      <td>1h 12m</td>\n",
       "      <td>Bench Press (Barbell)</td>\n",
       "      <td>2</td>\n",
       "      <td>35.0</td>\n",
       "      <td>9</td>\n",
       "      <td>0</td>\n",
       "      <td>0</td>\n",
       "      <td>NaN</td>\n",
       "      <td>NaN</td>\n",
       "      <td>10.0</td>\n",
       "    </tr>\n",
       "    <tr>\n",
       "      <th>2</th>\n",
       "      <td>2021-09-13 10:41:41</td>\n",
       "      <td>PUSH 1</td>\n",
       "      <td>1h 12m</td>\n",
       "      <td>Bench Press (Barbell)</td>\n",
       "      <td>3</td>\n",
       "      <td>35.0</td>\n",
       "      <td>8</td>\n",
       "      <td>0</td>\n",
       "      <td>0</td>\n",
       "      <td>NaN</td>\n",
       "      <td>NaN</td>\n",
       "      <td>10.0</td>\n",
       "    </tr>\n",
       "    <tr>\n",
       "      <th>3</th>\n",
       "      <td>2021-09-13 10:41:41</td>\n",
       "      <td>PUSH 1</td>\n",
       "      <td>1h 12m</td>\n",
       "      <td>Bench Press (Barbell)</td>\n",
       "      <td>4</td>\n",
       "      <td>35.0</td>\n",
       "      <td>7</td>\n",
       "      <td>0</td>\n",
       "      <td>0</td>\n",
       "      <td>NaN</td>\n",
       "      <td>NaN</td>\n",
       "      <td>10.0</td>\n",
       "    </tr>\n",
       "    <tr>\n",
       "      <th>4</th>\n",
       "      <td>2021-09-13 10:41:41</td>\n",
       "      <td>PUSH 1</td>\n",
       "      <td>1h 12m</td>\n",
       "      <td>Incline Cable Chest Fly</td>\n",
       "      <td>1</td>\n",
       "      <td>12.5</td>\n",
       "      <td>12</td>\n",
       "      <td>0</td>\n",
       "      <td>0</td>\n",
       "      <td>NaN</td>\n",
       "      <td>NaN</td>\n",
       "      <td>9.5</td>\n",
       "    </tr>\n",
       "  </tbody>\n",
       "</table>\n",
       "</div>"
      ],
      "text/plain": [
       "                  Date Workout Name Duration            Exercise Name  \\\n",
       "0  2021-09-13 10:41:41       PUSH 1   1h 12m    Bench Press (Barbell)   \n",
       "1  2021-09-13 10:41:41       PUSH 1   1h 12m    Bench Press (Barbell)   \n",
       "2  2021-09-13 10:41:41       PUSH 1   1h 12m    Bench Press (Barbell)   \n",
       "3  2021-09-13 10:41:41       PUSH 1   1h 12m    Bench Press (Barbell)   \n",
       "4  2021-09-13 10:41:41       PUSH 1   1h 12m  Incline Cable Chest Fly   \n",
       "\n",
       "   Set Order  Weight  Reps  Distance  Seconds Notes  \\\n",
       "0          1    35.0    10         0        0   NaN   \n",
       "1          2    35.0     9         0        0   NaN   \n",
       "2          3    35.0     8         0        0   NaN   \n",
       "3          4    35.0     7         0        0   NaN   \n",
       "4          1    12.5    12         0        0   NaN   \n",
       "\n",
       "                              Workout Notes   RPE  \n",
       "0  Focusing on CHEST, SHOULDERS and TRICEPS   9.0  \n",
       "1                                       NaN  10.0  \n",
       "2                                       NaN  10.0  \n",
       "3                                       NaN  10.0  \n",
       "4                                       NaN   9.5  "
      ]
     },
     "execution_count": 3,
     "metadata": {},
     "output_type": "execute_result"
    }
   ],
   "source": [
    "data.head()"
   ]
  },
  {
   "cell_type": "code",
   "execution_count": 4,
   "id": "01acb6fe",
   "metadata": {
    "execution": {
     "iopub.execute_input": "2024-03-15T03:23:05.631161Z",
     "iopub.status.busy": "2024-03-15T03:23:05.630788Z",
     "iopub.status.idle": "2024-03-15T03:23:05.666420Z",
     "shell.execute_reply": "2024-03-15T03:23:05.665193Z"
    },
    "papermill": {
     "duration": 0.05937,
     "end_time": "2024-03-15T03:23:05.669293",
     "exception": false,
     "start_time": "2024-03-15T03:23:05.609923",
     "status": "completed"
    },
    "tags": []
   },
   "outputs": [
    {
     "data": {
      "text/html": [
       "<div>\n",
       "<style scoped>\n",
       "    .dataframe tbody tr th:only-of-type {\n",
       "        vertical-align: middle;\n",
       "    }\n",
       "\n",
       "    .dataframe tbody tr th {\n",
       "        vertical-align: top;\n",
       "    }\n",
       "\n",
       "    .dataframe thead th {\n",
       "        text-align: right;\n",
       "    }\n",
       "</style>\n",
       "<table border=\"1\" class=\"dataframe\">\n",
       "  <thead>\n",
       "    <tr style=\"text-align: right;\">\n",
       "      <th></th>\n",
       "      <th>Set Order</th>\n",
       "      <th>Weight</th>\n",
       "      <th>Reps</th>\n",
       "      <th>Distance</th>\n",
       "      <th>Seconds</th>\n",
       "      <th>RPE</th>\n",
       "    </tr>\n",
       "  </thead>\n",
       "  <tbody>\n",
       "    <tr>\n",
       "      <th>count</th>\n",
       "      <td>3989.000000</td>\n",
       "      <td>3989.000000</td>\n",
       "      <td>3989.000000</td>\n",
       "      <td>3989.0</td>\n",
       "      <td>3989.000000</td>\n",
       "      <td>3767.000000</td>\n",
       "    </tr>\n",
       "    <tr>\n",
       "      <th>mean</th>\n",
       "      <td>2.170970</td>\n",
       "      <td>34.300890</td>\n",
       "      <td>9.534219</td>\n",
       "      <td>0.0</td>\n",
       "      <td>0.075207</td>\n",
       "      <td>9.563048</td>\n",
       "    </tr>\n",
       "    <tr>\n",
       "      <th>std</th>\n",
       "      <td>1.042406</td>\n",
       "      <td>17.712179</td>\n",
       "      <td>3.627689</td>\n",
       "      <td>0.0</td>\n",
       "      <td>4.749952</td>\n",
       "      <td>0.684452</td>\n",
       "    </tr>\n",
       "    <tr>\n",
       "      <th>min</th>\n",
       "      <td>1.000000</td>\n",
       "      <td>0.000000</td>\n",
       "      <td>0.000000</td>\n",
       "      <td>0.0</td>\n",
       "      <td>0.000000</td>\n",
       "      <td>6.000000</td>\n",
       "    </tr>\n",
       "    <tr>\n",
       "      <th>25%</th>\n",
       "      <td>1.000000</td>\n",
       "      <td>25.000000</td>\n",
       "      <td>7.000000</td>\n",
       "      <td>0.0</td>\n",
       "      <td>0.000000</td>\n",
       "      <td>9.000000</td>\n",
       "    </tr>\n",
       "    <tr>\n",
       "      <th>50%</th>\n",
       "      <td>2.000000</td>\n",
       "      <td>30.000000</td>\n",
       "      <td>9.000000</td>\n",
       "      <td>0.0</td>\n",
       "      <td>0.000000</td>\n",
       "      <td>10.000000</td>\n",
       "    </tr>\n",
       "    <tr>\n",
       "      <th>75%</th>\n",
       "      <td>3.000000</td>\n",
       "      <td>45.000000</td>\n",
       "      <td>12.000000</td>\n",
       "      <td>0.0</td>\n",
       "      <td>0.000000</td>\n",
       "      <td>10.000000</td>\n",
       "    </tr>\n",
       "    <tr>\n",
       "      <th>max</th>\n",
       "      <td>6.000000</td>\n",
       "      <td>195.000000</td>\n",
       "      <td>30.000000</td>\n",
       "      <td>0.0</td>\n",
       "      <td>300.000000</td>\n",
       "      <td>10.000000</td>\n",
       "    </tr>\n",
       "  </tbody>\n",
       "</table>\n",
       "</div>"
      ],
      "text/plain": [
       "         Set Order       Weight         Reps  Distance      Seconds  \\\n",
       "count  3989.000000  3989.000000  3989.000000    3989.0  3989.000000   \n",
       "mean      2.170970    34.300890     9.534219       0.0     0.075207   \n",
       "std       1.042406    17.712179     3.627689       0.0     4.749952   \n",
       "min       1.000000     0.000000     0.000000       0.0     0.000000   \n",
       "25%       1.000000    25.000000     7.000000       0.0     0.000000   \n",
       "50%       2.000000    30.000000     9.000000       0.0     0.000000   \n",
       "75%       3.000000    45.000000    12.000000       0.0     0.000000   \n",
       "max       6.000000   195.000000    30.000000       0.0   300.000000   \n",
       "\n",
       "               RPE  \n",
       "count  3767.000000  \n",
       "mean      9.563048  \n",
       "std       0.684452  \n",
       "min       6.000000  \n",
       "25%       9.000000  \n",
       "50%      10.000000  \n",
       "75%      10.000000  \n",
       "max      10.000000  "
      ]
     },
     "execution_count": 4,
     "metadata": {},
     "output_type": "execute_result"
    }
   ],
   "source": [
    "data.describe()"
   ]
  },
  {
   "cell_type": "code",
   "execution_count": 5,
   "id": "cc43fd3e",
   "metadata": {
    "execution": {
     "iopub.execute_input": "2024-03-15T03:23:05.711232Z",
     "iopub.status.busy": "2024-03-15T03:23:05.710855Z",
     "iopub.status.idle": "2024-03-15T03:23:05.737307Z",
     "shell.execute_reply": "2024-03-15T03:23:05.736156Z"
    },
    "papermill": {
     "duration": 0.050578,
     "end_time": "2024-03-15T03:23:05.739769",
     "exception": false,
     "start_time": "2024-03-15T03:23:05.689191",
     "status": "completed"
    },
    "tags": []
   },
   "outputs": [
    {
     "name": "stdout",
     "output_type": "stream",
     "text": [
      "<class 'pandas.core.frame.DataFrame'>\n",
      "RangeIndex: 3989 entries, 0 to 3988\n",
      "Data columns (total 12 columns):\n",
      " #   Column         Non-Null Count  Dtype  \n",
      "---  ------         --------------  -----  \n",
      " 0   Date           3989 non-null   object \n",
      " 1   Workout Name   3989 non-null   object \n",
      " 2   Duration       3989 non-null   object \n",
      " 3   Exercise Name  3989 non-null   object \n",
      " 4   Set Order      3989 non-null   int64  \n",
      " 5   Weight         3989 non-null   float64\n",
      " 6   Reps           3989 non-null   int64  \n",
      " 7   Distance       3989 non-null   int64  \n",
      " 8   Seconds        3989 non-null   int64  \n",
      " 9   Notes          35 non-null     object \n",
      " 10  Workout Notes  218 non-null    object \n",
      " 11  RPE            3767 non-null   float64\n",
      "dtypes: float64(2), int64(4), object(6)\n",
      "memory usage: 374.1+ KB\n"
     ]
    }
   ],
   "source": [
    "data.info()"
   ]
  },
  {
   "cell_type": "code",
   "execution_count": 6,
   "id": "e46004e2",
   "metadata": {
    "execution": {
     "iopub.execute_input": "2024-03-15T03:23:05.782295Z",
     "iopub.status.busy": "2024-03-15T03:23:05.781904Z",
     "iopub.status.idle": "2024-03-15T03:23:05.793101Z",
     "shell.execute_reply": "2024-03-15T03:23:05.792026Z"
    },
    "papermill": {
     "duration": 0.035242,
     "end_time": "2024-03-15T03:23:05.795316",
     "exception": false,
     "start_time": "2024-03-15T03:23:05.760074",
     "status": "completed"
    },
    "tags": []
   },
   "outputs": [
    {
     "data": {
      "text/plain": [
       "Date             0.000000\n",
       "Workout Name     0.000000\n",
       "Duration         0.000000\n",
       "Exercise Name    0.000000\n",
       "Set Order        0.000000\n",
       "Weight           0.000000\n",
       "Reps             0.000000\n",
       "Distance         0.000000\n",
       "Seconds          0.000000\n",
       "Notes            0.991226\n",
       "Workout Notes    0.945350\n",
       "RPE              0.055653\n",
       "dtype: float64"
      ]
     },
     "execution_count": 6,
     "metadata": {},
     "output_type": "execute_result"
    }
   ],
   "source": [
    "data.isna().mean()"
   ]
  },
  {
   "cell_type": "markdown",
   "id": "6932af44",
   "metadata": {
    "papermill": {
     "duration": 0.020658,
     "end_time": "2024-03-15T03:23:05.835980",
     "exception": false,
     "start_time": "2024-03-15T03:23:05.815322",
     "status": "completed"
    },
    "tags": []
   },
   "source": [
    "# **Data Preprocessing**"
   ]
  },
  {
   "cell_type": "markdown",
   "id": "d4ff5da6",
   "metadata": {
    "papermill": {
     "duration": 0.019849,
     "end_time": "2024-03-15T03:23:05.876822",
     "exception": false,
     "start_time": "2024-03-15T03:23:05.856973",
     "status": "completed"
    },
    "tags": []
   },
   "source": [
    "#### Remove the 'Workout Notes' and 'Notes' columns with a missing value ratio of 90% or more. "
   ]
  },
  {
   "cell_type": "code",
   "execution_count": 7,
   "id": "e0d8e107",
   "metadata": {
    "execution": {
     "iopub.execute_input": "2024-03-15T03:23:05.919361Z",
     "iopub.status.busy": "2024-03-15T03:23:05.918902Z",
     "iopub.status.idle": "2024-03-15T03:23:05.933293Z",
     "shell.execute_reply": "2024-03-15T03:23:05.932283Z"
    },
    "papermill": {
     "duration": 0.038879,
     "end_time": "2024-03-15T03:23:05.935885",
     "exception": false,
     "start_time": "2024-03-15T03:23:05.897006",
     "status": "completed"
    },
    "tags": []
   },
   "outputs": [],
   "source": [
    "data_pre = data.drop(['Notes','Workout Notes'],axis=1)\n",
    "data_pre = data_pre.dropna() # RPE missing value preprocessing"
   ]
  },
  {
   "cell_type": "code",
   "execution_count": 8,
   "id": "664999f0",
   "metadata": {
    "execution": {
     "iopub.execute_input": "2024-03-15T03:23:05.978433Z",
     "iopub.status.busy": "2024-03-15T03:23:05.978048Z",
     "iopub.status.idle": "2024-03-15T03:23:05.986021Z",
     "shell.execute_reply": "2024-03-15T03:23:05.985222Z"
    },
    "papermill": {
     "duration": 0.031971,
     "end_time": "2024-03-15T03:23:05.988413",
     "exception": false,
     "start_time": "2024-03-15T03:23:05.956442",
     "status": "completed"
    },
    "tags": []
   },
   "outputs": [
    {
     "name": "stdout",
     "output_type": "stream",
     "text": [
      "[0]\n",
      "[0]\n"
     ]
    }
   ],
   "source": [
    "print(data_pre['Distance'].unique())\n",
    "print(data_pre['Seconds'].unique())"
   ]
  },
  {
   "cell_type": "markdown",
   "id": "b433e128",
   "metadata": {
    "papermill": {
     "duration": 0.020002,
     "end_time": "2024-03-15T03:23:06.028992",
     "exception": false,
     "start_time": "2024-03-15T03:23:06.008990",
     "status": "completed"
    },
    "tags": []
   },
   "source": [
    "#### 'Date', 'Distance' and 'Seconds' have '0' value or are not used for analysis."
   ]
  },
  {
   "cell_type": "code",
   "execution_count": 9,
   "id": "84006283",
   "metadata": {
    "execution": {
     "iopub.execute_input": "2024-03-15T03:23:06.071362Z",
     "iopub.status.busy": "2024-03-15T03:23:06.070980Z",
     "iopub.status.idle": "2024-03-15T03:23:06.078114Z",
     "shell.execute_reply": "2024-03-15T03:23:06.076964Z"
    },
    "papermill": {
     "duration": 0.031244,
     "end_time": "2024-03-15T03:23:06.080427",
     "exception": false,
     "start_time": "2024-03-15T03:23:06.049183",
     "status": "completed"
    },
    "tags": []
   },
   "outputs": [],
   "source": [
    "data_pre = data_pre.drop(['Date','Distance','Seconds'],axis=1)"
   ]
  },
  {
   "cell_type": "code",
   "execution_count": 10,
   "id": "4d0d53ea",
   "metadata": {
    "execution": {
     "iopub.execute_input": "2024-03-15T03:23:06.123108Z",
     "iopub.status.busy": "2024-03-15T03:23:06.122652Z",
     "iopub.status.idle": "2024-03-15T03:23:06.132775Z",
     "shell.execute_reply": "2024-03-15T03:23:06.131698Z"
    },
    "papermill": {
     "duration": 0.034185,
     "end_time": "2024-03-15T03:23:06.135026",
     "exception": false,
     "start_time": "2024-03-15T03:23:06.100841",
     "status": "completed"
    },
    "tags": []
   },
   "outputs": [
    {
     "data": {
      "text/plain": [
       "Workout Name     0\n",
       "Duration         0\n",
       "Exercise Name    0\n",
       "Set Order        0\n",
       "Weight           0\n",
       "Reps             0\n",
       "RPE              0\n",
       "dtype: int64"
      ]
     },
     "execution_count": 10,
     "metadata": {},
     "output_type": "execute_result"
    }
   ],
   "source": [
    "data_pre.isna().sum()"
   ]
  },
  {
   "cell_type": "code",
   "execution_count": 11,
   "id": "6561d832",
   "metadata": {
    "execution": {
     "iopub.execute_input": "2024-03-15T03:23:06.180231Z",
     "iopub.status.busy": "2024-03-15T03:23:06.179557Z",
     "iopub.status.idle": "2024-03-15T03:23:06.191439Z",
     "shell.execute_reply": "2024-03-15T03:23:06.190534Z"
    },
    "papermill": {
     "duration": 0.037026,
     "end_time": "2024-03-15T03:23:06.194108",
     "exception": false,
     "start_time": "2024-03-15T03:23:06.157082",
     "status": "completed"
    },
    "tags": []
   },
   "outputs": [
    {
     "name": "stdout",
     "output_type": "stream",
     "text": [
      "<class 'pandas.core.frame.DataFrame'>\n",
      "Index: 3767 entries, 0 to 3988\n",
      "Data columns (total 7 columns):\n",
      " #   Column         Non-Null Count  Dtype  \n",
      "---  ------         --------------  -----  \n",
      " 0   Workout Name   3767 non-null   object \n",
      " 1   Duration       3767 non-null   object \n",
      " 2   Exercise Name  3767 non-null   object \n",
      " 3   Set Order      3767 non-null   int64  \n",
      " 4   Weight         3767 non-null   float64\n",
      " 5   Reps           3767 non-null   int64  \n",
      " 6   RPE            3767 non-null   float64\n",
      "dtypes: float64(2), int64(2), object(3)\n",
      "memory usage: 235.4+ KB\n"
     ]
    }
   ],
   "source": [
    "data_pre.info()"
   ]
  },
  {
   "cell_type": "markdown",
   "id": "4b0a3b7e",
   "metadata": {
    "papermill": {
     "duration": 0.02056,
     "end_time": "2024-03-15T03:23:06.235316",
     "exception": false,
     "start_time": "2024-03-15T03:23:06.214756",
     "status": "completed"
    },
    "tags": []
   },
   "source": [
    "#### Unify the 'Duration' in minutes."
   ]
  },
  {
   "cell_type": "code",
   "execution_count": 12,
   "id": "bf124099",
   "metadata": {
    "execution": {
     "iopub.execute_input": "2024-03-15T03:23:06.281078Z",
     "iopub.status.busy": "2024-03-15T03:23:06.280660Z",
     "iopub.status.idle": "2024-03-15T03:23:06.288856Z",
     "shell.execute_reply": "2024-03-15T03:23:06.287615Z"
    },
    "papermill": {
     "duration": 0.03395,
     "end_time": "2024-03-15T03:23:06.291072",
     "exception": false,
     "start_time": "2024-03-15T03:23:06.257122",
     "status": "completed"
    },
    "tags": []
   },
   "outputs": [
    {
     "data": {
      "text/plain": [
       "array(['1h 12m', '1h 4m', '1h 2m', '1h 1m', '51m', '57m', '54m', '1h 21m',\n",
       "       '1h 14m', '1h 10m', '1h 24m', '1h 16m', '1h 9m', '1h 6m', '1h 8m',\n",
       "       '1h 5m', '37m', '1h', '58m', '39m', '45m', '53m', '52m', '42m',\n",
       "       '40m', '50m', '41m', '32m', '35m', '38m', '34m', '43m', '48m',\n",
       "       '47m', '49m', '33m', '28m', '36m', '44m', '55m', '18m', '46m',\n",
       "       '1h 7m', '24m', '56m', '1h 50m', '59m', '1h 38m', '1h 34m', '30m',\n",
       "       '1h 3m', '1h 18m', '31m', '1h 19m', '1h 43m', '9m'], dtype=object)"
      ]
     },
     "execution_count": 12,
     "metadata": {},
     "output_type": "execute_result"
    }
   ],
   "source": [
    "data_pre['Duration'].unique()"
   ]
  },
  {
   "cell_type": "code",
   "execution_count": 13,
   "id": "52f6d81e",
   "metadata": {
    "execution": {
     "iopub.execute_input": "2024-03-15T03:23:06.336228Z",
     "iopub.status.busy": "2024-03-15T03:23:06.335533Z",
     "iopub.status.idle": "2024-03-15T03:23:06.348880Z",
     "shell.execute_reply": "2024-03-15T03:23:06.348031Z"
    },
    "papermill": {
     "duration": 0.03864,
     "end_time": "2024-03-15T03:23:06.351161",
     "exception": false,
     "start_time": "2024-03-15T03:23:06.312521",
     "status": "completed"
    },
    "tags": []
   },
   "outputs": [],
   "source": [
    "def convert_min(Duration):\n",
    "    if 'h' in Duration and 'm' in Duration:\n",
    "        hour, minute = map(int, Duration.replace('h', ' ').replace('m', '').split())\n",
    "        return hour * 60 + minute\n",
    "    elif 'h' in Duration:\n",
    "        hour = int(Duration.replace('h', ''))\n",
    "        return hour * 60\n",
    "    elif 'm' in Duration:\n",
    "        minute = int(Duration.replace('m', ''))\n",
    "        return minute\n",
    "    else:\n",
    "        return None\n",
    "\n",
    "data_pre['Duration'] = data_pre['Duration'].apply(convert_min)"
   ]
  },
  {
   "cell_type": "code",
   "execution_count": 14,
   "id": "7c359e1f",
   "metadata": {
    "execution": {
     "iopub.execute_input": "2024-03-15T03:23:06.394882Z",
     "iopub.status.busy": "2024-03-15T03:23:06.393953Z",
     "iopub.status.idle": "2024-03-15T03:23:06.412778Z",
     "shell.execute_reply": "2024-03-15T03:23:06.411504Z"
    },
    "papermill": {
     "duration": 0.043343,
     "end_time": "2024-03-15T03:23:06.415286",
     "exception": false,
     "start_time": "2024-03-15T03:23:06.371943",
     "status": "completed"
    },
    "tags": []
   },
   "outputs": [
    {
     "data": {
      "text/html": [
       "<div>\n",
       "<style scoped>\n",
       "    .dataframe tbody tr th:only-of-type {\n",
       "        vertical-align: middle;\n",
       "    }\n",
       "\n",
       "    .dataframe tbody tr th {\n",
       "        vertical-align: top;\n",
       "    }\n",
       "\n",
       "    .dataframe thead th {\n",
       "        text-align: right;\n",
       "    }\n",
       "</style>\n",
       "<table border=\"1\" class=\"dataframe\">\n",
       "  <thead>\n",
       "    <tr style=\"text-align: right;\">\n",
       "      <th></th>\n",
       "      <th>Workout Name</th>\n",
       "      <th>Duration</th>\n",
       "      <th>Exercise Name</th>\n",
       "      <th>Set Order</th>\n",
       "      <th>Weight</th>\n",
       "      <th>Reps</th>\n",
       "      <th>RPE</th>\n",
       "    </tr>\n",
       "  </thead>\n",
       "  <tbody>\n",
       "    <tr>\n",
       "      <th>0</th>\n",
       "      <td>PUSH 1</td>\n",
       "      <td>72</td>\n",
       "      <td>Bench Press (Barbell)</td>\n",
       "      <td>1</td>\n",
       "      <td>35.00</td>\n",
       "      <td>10</td>\n",
       "      <td>9.0</td>\n",
       "    </tr>\n",
       "    <tr>\n",
       "      <th>1</th>\n",
       "      <td>PUSH 1</td>\n",
       "      <td>72</td>\n",
       "      <td>Bench Press (Barbell)</td>\n",
       "      <td>2</td>\n",
       "      <td>35.00</td>\n",
       "      <td>9</td>\n",
       "      <td>10.0</td>\n",
       "    </tr>\n",
       "    <tr>\n",
       "      <th>2</th>\n",
       "      <td>PUSH 1</td>\n",
       "      <td>72</td>\n",
       "      <td>Bench Press (Barbell)</td>\n",
       "      <td>3</td>\n",
       "      <td>35.00</td>\n",
       "      <td>8</td>\n",
       "      <td>10.0</td>\n",
       "    </tr>\n",
       "    <tr>\n",
       "      <th>3</th>\n",
       "      <td>PUSH 1</td>\n",
       "      <td>72</td>\n",
       "      <td>Bench Press (Barbell)</td>\n",
       "      <td>4</td>\n",
       "      <td>35.00</td>\n",
       "      <td>7</td>\n",
       "      <td>10.0</td>\n",
       "    </tr>\n",
       "    <tr>\n",
       "      <th>4</th>\n",
       "      <td>PUSH 1</td>\n",
       "      <td>72</td>\n",
       "      <td>Incline Cable Chest Fly</td>\n",
       "      <td>1</td>\n",
       "      <td>12.50</td>\n",
       "      <td>12</td>\n",
       "      <td>9.5</td>\n",
       "    </tr>\n",
       "    <tr>\n",
       "      <th>...</th>\n",
       "      <td>...</td>\n",
       "      <td>...</td>\n",
       "      <td>...</td>\n",
       "      <td>...</td>\n",
       "      <td>...</td>\n",
       "      <td>...</td>\n",
       "      <td>...</td>\n",
       "    </tr>\n",
       "    <tr>\n",
       "      <th>3984</th>\n",
       "      <td>PULL 2</td>\n",
       "      <td>30</td>\n",
       "      <td>Lateral Raise (Dumbbell)</td>\n",
       "      <td>4</td>\n",
       "      <td>18.00</td>\n",
       "      <td>3</td>\n",
       "      <td>10.0</td>\n",
       "    </tr>\n",
       "    <tr>\n",
       "      <th>3985</th>\n",
       "      <td>PULL 2</td>\n",
       "      <td>30</td>\n",
       "      <td>Seated Row (Cable)</td>\n",
       "      <td>1</td>\n",
       "      <td>41.25</td>\n",
       "      <td>12</td>\n",
       "      <td>9.5</td>\n",
       "    </tr>\n",
       "    <tr>\n",
       "      <th>3986</th>\n",
       "      <td>PULL 2</td>\n",
       "      <td>30</td>\n",
       "      <td>Seated Row (Cable)</td>\n",
       "      <td>2</td>\n",
       "      <td>41.25</td>\n",
       "      <td>8</td>\n",
       "      <td>10.0</td>\n",
       "    </tr>\n",
       "    <tr>\n",
       "      <th>3987</th>\n",
       "      <td>PULL 2</td>\n",
       "      <td>30</td>\n",
       "      <td>Seated Row (Cable)</td>\n",
       "      <td>3</td>\n",
       "      <td>41.25</td>\n",
       "      <td>5</td>\n",
       "      <td>10.0</td>\n",
       "    </tr>\n",
       "    <tr>\n",
       "      <th>3988</th>\n",
       "      <td>PULL 2</td>\n",
       "      <td>30</td>\n",
       "      <td>Seated Row (Cable)</td>\n",
       "      <td>4</td>\n",
       "      <td>41.25</td>\n",
       "      <td>4</td>\n",
       "      <td>10.0</td>\n",
       "    </tr>\n",
       "  </tbody>\n",
       "</table>\n",
       "<p>3767 rows × 7 columns</p>\n",
       "</div>"
      ],
      "text/plain": [
       "     Workout Name  Duration             Exercise Name  Set Order  Weight  \\\n",
       "0          PUSH 1        72     Bench Press (Barbell)          1   35.00   \n",
       "1          PUSH 1        72     Bench Press (Barbell)          2   35.00   \n",
       "2          PUSH 1        72     Bench Press (Barbell)          3   35.00   \n",
       "3          PUSH 1        72     Bench Press (Barbell)          4   35.00   \n",
       "4          PUSH 1        72   Incline Cable Chest Fly          1   12.50   \n",
       "...           ...       ...                       ...        ...     ...   \n",
       "3984      PULL 2         30  Lateral Raise (Dumbbell)          4   18.00   \n",
       "3985      PULL 2         30        Seated Row (Cable)          1   41.25   \n",
       "3986      PULL 2         30        Seated Row (Cable)          2   41.25   \n",
       "3987      PULL 2         30        Seated Row (Cable)          3   41.25   \n",
       "3988      PULL 2         30        Seated Row (Cable)          4   41.25   \n",
       "\n",
       "      Reps   RPE  \n",
       "0       10   9.0  \n",
       "1        9  10.0  \n",
       "2        8  10.0  \n",
       "3        7  10.0  \n",
       "4       12   9.5  \n",
       "...    ...   ...  \n",
       "3984     3  10.0  \n",
       "3985    12   9.5  \n",
       "3986     8  10.0  \n",
       "3987     5  10.0  \n",
       "3988     4  10.0  \n",
       "\n",
       "[3767 rows x 7 columns]"
      ]
     },
     "execution_count": 14,
     "metadata": {},
     "output_type": "execute_result"
    }
   ],
   "source": [
    "data_pre"
   ]
  },
  {
   "cell_type": "code",
   "execution_count": 15,
   "id": "cafe6667",
   "metadata": {
    "execution": {
     "iopub.execute_input": "2024-03-15T03:23:06.460538Z",
     "iopub.status.busy": "2024-03-15T03:23:06.460153Z",
     "iopub.status.idle": "2024-03-15T03:23:06.465848Z",
     "shell.execute_reply": "2024-03-15T03:23:06.464754Z"
    },
    "papermill": {
     "duration": 0.031061,
     "end_time": "2024-03-15T03:23:06.468334",
     "exception": false,
     "start_time": "2024-03-15T03:23:06.437273",
     "status": "completed"
    },
    "tags": []
   },
   "outputs": [
    {
     "name": "stdout",
     "output_type": "stream",
     "text": [
      "(3989, 12)\n",
      "(3767, 7)\n"
     ]
    }
   ],
   "source": [
    "print(data.shape)\n",
    "print(data_pre.shape)"
   ]
  },
  {
   "cell_type": "markdown",
   "id": "01d7cc5b",
   "metadata": {
    "papermill": {
     "duration": 0.079875,
     "end_time": "2024-03-15T03:23:06.570740",
     "exception": false,
     "start_time": "2024-03-15T03:23:06.490865",
     "status": "completed"
    },
    "tags": []
   },
   "source": [
    "# Pivot table & Charts"
   ]
  },
  {
   "cell_type": "code",
   "execution_count": 16,
   "id": "22ac7957",
   "metadata": {
    "execution": {
     "iopub.execute_input": "2024-03-15T03:23:06.615003Z",
     "iopub.status.busy": "2024-03-15T03:23:06.614595Z",
     "iopub.status.idle": "2024-03-15T03:23:06.622905Z",
     "shell.execute_reply": "2024-03-15T03:23:06.621761Z"
    },
    "papermill": {
     "duration": 0.033174,
     "end_time": "2024-03-15T03:23:06.625114",
     "exception": false,
     "start_time": "2024-03-15T03:23:06.591940",
     "status": "completed"
    },
    "tags": []
   },
   "outputs": [
    {
     "data": {
      "text/plain": [
       "Index(['Workout Name', 'Duration', 'Exercise Name', 'Set Order', 'Weight',\n",
       "       'Reps', 'RPE'],\n",
       "      dtype='object')"
      ]
     },
     "execution_count": 16,
     "metadata": {},
     "output_type": "execute_result"
    }
   ],
   "source": [
    "# Indexing list function\n",
    "cols = data_pre.columns\n",
    "\n",
    "for col in cols:\n",
    "    globals()[col] = data_pre[col]\n",
    "\n",
    "cols"
   ]
  },
  {
   "cell_type": "code",
   "execution_count": 17,
   "id": "dda20cec",
   "metadata": {
    "execution": {
     "iopub.execute_input": "2024-03-15T03:23:06.670336Z",
     "iopub.status.busy": "2024-03-15T03:23:06.669943Z",
     "iopub.status.idle": "2024-03-15T03:23:06.690830Z",
     "shell.execute_reply": "2024-03-15T03:23:06.689646Z"
    },
    "papermill": {
     "duration": 0.04665,
     "end_time": "2024-03-15T03:23:06.693451",
     "exception": false,
     "start_time": "2024-03-15T03:23:06.646801",
     "status": "completed"
    },
    "tags": []
   },
   "outputs": [
    {
     "data": {
      "text/html": [
       "<div>\n",
       "<style scoped>\n",
       "    .dataframe tbody tr th:only-of-type {\n",
       "        vertical-align: middle;\n",
       "    }\n",
       "\n",
       "    .dataframe tbody tr th {\n",
       "        vertical-align: top;\n",
       "    }\n",
       "\n",
       "    .dataframe thead th {\n",
       "        text-align: right;\n",
       "    }\n",
       "</style>\n",
       "<table border=\"1\" class=\"dataframe\">\n",
       "  <thead>\n",
       "    <tr style=\"text-align: right;\">\n",
       "      <th></th>\n",
       "      <th>RPE</th>\n",
       "    </tr>\n",
       "    <tr>\n",
       "      <th>Duration</th>\n",
       "      <th></th>\n",
       "    </tr>\n",
       "  </thead>\n",
       "  <tbody>\n",
       "    <tr>\n",
       "      <th>9</th>\n",
       "      <td>9.500000</td>\n",
       "    </tr>\n",
       "    <tr>\n",
       "      <th>18</th>\n",
       "      <td>9.750000</td>\n",
       "    </tr>\n",
       "    <tr>\n",
       "      <th>24</th>\n",
       "      <td>9.500000</td>\n",
       "    </tr>\n",
       "    <tr>\n",
       "      <th>28</th>\n",
       "      <td>9.783333</td>\n",
       "    </tr>\n",
       "    <tr>\n",
       "      <th>30</th>\n",
       "      <td>9.750000</td>\n",
       "    </tr>\n",
       "    <tr>\n",
       "      <th>31</th>\n",
       "      <td>9.750000</td>\n",
       "    </tr>\n",
       "    <tr>\n",
       "      <th>32</th>\n",
       "      <td>9.469697</td>\n",
       "    </tr>\n",
       "    <tr>\n",
       "      <th>33</th>\n",
       "      <td>9.500000</td>\n",
       "    </tr>\n",
       "    <tr>\n",
       "      <th>34</th>\n",
       "      <td>9.657143</td>\n",
       "    </tr>\n",
       "    <tr>\n",
       "      <th>35</th>\n",
       "      <td>9.596774</td>\n",
       "    </tr>\n",
       "    <tr>\n",
       "      <th>36</th>\n",
       "      <td>9.619565</td>\n",
       "    </tr>\n",
       "    <tr>\n",
       "      <th>37</th>\n",
       "      <td>9.572917</td>\n",
       "    </tr>\n",
       "    <tr>\n",
       "      <th>38</th>\n",
       "      <td>9.463855</td>\n",
       "    </tr>\n",
       "    <tr>\n",
       "      <th>39</th>\n",
       "      <td>9.485207</td>\n",
       "    </tr>\n",
       "    <tr>\n",
       "      <th>40</th>\n",
       "      <td>9.552632</td>\n",
       "    </tr>\n",
       "    <tr>\n",
       "      <th>41</th>\n",
       "      <td>9.573370</td>\n",
       "    </tr>\n",
       "    <tr>\n",
       "      <th>42</th>\n",
       "      <td>9.559406</td>\n",
       "    </tr>\n",
       "    <tr>\n",
       "      <th>43</th>\n",
       "      <td>9.488048</td>\n",
       "    </tr>\n",
       "    <tr>\n",
       "      <th>44</th>\n",
       "      <td>9.406250</td>\n",
       "    </tr>\n",
       "    <tr>\n",
       "      <th>45</th>\n",
       "      <td>9.741379</td>\n",
       "    </tr>\n",
       "    <tr>\n",
       "      <th>46</th>\n",
       "      <td>9.722222</td>\n",
       "    </tr>\n",
       "    <tr>\n",
       "      <th>47</th>\n",
       "      <td>9.758929</td>\n",
       "    </tr>\n",
       "    <tr>\n",
       "      <th>48</th>\n",
       "      <td>9.663265</td>\n",
       "    </tr>\n",
       "    <tr>\n",
       "      <th>49</th>\n",
       "      <td>9.632530</td>\n",
       "    </tr>\n",
       "    <tr>\n",
       "      <th>50</th>\n",
       "      <td>9.663043</td>\n",
       "    </tr>\n",
       "    <tr>\n",
       "      <th>51</th>\n",
       "      <td>9.458647</td>\n",
       "    </tr>\n",
       "    <tr>\n",
       "      <th>52</th>\n",
       "      <td>9.710084</td>\n",
       "    </tr>\n",
       "    <tr>\n",
       "      <th>53</th>\n",
       "      <td>9.519608</td>\n",
       "    </tr>\n",
       "    <tr>\n",
       "      <th>54</th>\n",
       "      <td>9.404762</td>\n",
       "    </tr>\n",
       "    <tr>\n",
       "      <th>55</th>\n",
       "      <td>9.495614</td>\n",
       "    </tr>\n",
       "    <tr>\n",
       "      <th>56</th>\n",
       "      <td>9.636364</td>\n",
       "    </tr>\n",
       "    <tr>\n",
       "      <th>57</th>\n",
       "      <td>9.407216</td>\n",
       "    </tr>\n",
       "    <tr>\n",
       "      <th>58</th>\n",
       "      <td>9.674757</td>\n",
       "    </tr>\n",
       "    <tr>\n",
       "      <th>59</th>\n",
       "      <td>9.613208</td>\n",
       "    </tr>\n",
       "    <tr>\n",
       "      <th>60</th>\n",
       "      <td>9.358586</td>\n",
       "    </tr>\n",
       "    <tr>\n",
       "      <th>61</th>\n",
       "      <td>9.669231</td>\n",
       "    </tr>\n",
       "    <tr>\n",
       "      <th>62</th>\n",
       "      <td>9.583333</td>\n",
       "    </tr>\n",
       "    <tr>\n",
       "      <th>63</th>\n",
       "      <td>9.525862</td>\n",
       "    </tr>\n",
       "    <tr>\n",
       "      <th>64</th>\n",
       "      <td>9.484848</td>\n",
       "    </tr>\n",
       "    <tr>\n",
       "      <th>65</th>\n",
       "      <td>9.236842</td>\n",
       "    </tr>\n",
       "    <tr>\n",
       "      <th>66</th>\n",
       "      <td>9.217949</td>\n",
       "    </tr>\n",
       "    <tr>\n",
       "      <th>67</th>\n",
       "      <td>9.653846</td>\n",
       "    </tr>\n",
       "    <tr>\n",
       "      <th>68</th>\n",
       "      <td>9.500000</td>\n",
       "    </tr>\n",
       "    <tr>\n",
       "      <th>69</th>\n",
       "      <td>9.315217</td>\n",
       "    </tr>\n",
       "    <tr>\n",
       "      <th>70</th>\n",
       "      <td>9.505882</td>\n",
       "    </tr>\n",
       "    <tr>\n",
       "      <th>72</th>\n",
       "      <td>9.536585</td>\n",
       "    </tr>\n",
       "    <tr>\n",
       "      <th>74</th>\n",
       "      <td>9.409091</td>\n",
       "    </tr>\n",
       "    <tr>\n",
       "      <th>76</th>\n",
       "      <td>9.375000</td>\n",
       "    </tr>\n",
       "    <tr>\n",
       "      <th>78</th>\n",
       "      <td>9.562500</td>\n",
       "    </tr>\n",
       "    <tr>\n",
       "      <th>79</th>\n",
       "      <td>9.933333</td>\n",
       "    </tr>\n",
       "    <tr>\n",
       "      <th>81</th>\n",
       "      <td>9.452381</td>\n",
       "    </tr>\n",
       "    <tr>\n",
       "      <th>84</th>\n",
       "      <td>9.333333</td>\n",
       "    </tr>\n",
       "    <tr>\n",
       "      <th>94</th>\n",
       "      <td>9.552632</td>\n",
       "    </tr>\n",
       "    <tr>\n",
       "      <th>98</th>\n",
       "      <td>9.666667</td>\n",
       "    </tr>\n",
       "    <tr>\n",
       "      <th>103</th>\n",
       "      <td>9.815789</td>\n",
       "    </tr>\n",
       "    <tr>\n",
       "      <th>110</th>\n",
       "      <td>9.676471</td>\n",
       "    </tr>\n",
       "  </tbody>\n",
       "</table>\n",
       "</div>"
      ],
      "text/plain": [
       "               RPE\n",
       "Duration          \n",
       "9         9.500000\n",
       "18        9.750000\n",
       "24        9.500000\n",
       "28        9.783333\n",
       "30        9.750000\n",
       "31        9.750000\n",
       "32        9.469697\n",
       "33        9.500000\n",
       "34        9.657143\n",
       "35        9.596774\n",
       "36        9.619565\n",
       "37        9.572917\n",
       "38        9.463855\n",
       "39        9.485207\n",
       "40        9.552632\n",
       "41        9.573370\n",
       "42        9.559406\n",
       "43        9.488048\n",
       "44        9.406250\n",
       "45        9.741379\n",
       "46        9.722222\n",
       "47        9.758929\n",
       "48        9.663265\n",
       "49        9.632530\n",
       "50        9.663043\n",
       "51        9.458647\n",
       "52        9.710084\n",
       "53        9.519608\n",
       "54        9.404762\n",
       "55        9.495614\n",
       "56        9.636364\n",
       "57        9.407216\n",
       "58        9.674757\n",
       "59        9.613208\n",
       "60        9.358586\n",
       "61        9.669231\n",
       "62        9.583333\n",
       "63        9.525862\n",
       "64        9.484848\n",
       "65        9.236842\n",
       "66        9.217949\n",
       "67        9.653846\n",
       "68        9.500000\n",
       "69        9.315217\n",
       "70        9.505882\n",
       "72        9.536585\n",
       "74        9.409091\n",
       "76        9.375000\n",
       "78        9.562500\n",
       "79        9.933333\n",
       "81        9.452381\n",
       "84        9.333333\n",
       "94        9.552632\n",
       "98        9.666667\n",
       "103       9.815789\n",
       "110       9.676471"
      ]
     },
     "execution_count": 17,
     "metadata": {},
     "output_type": "execute_result"
    }
   ],
   "source": [
    "pivot_Duration = pd.pivot_table(data_pre, index='Duration', values='RPE',aggfunc='mean')\n",
    "pivot_Duration"
   ]
  },
  {
   "cell_type": "code",
   "execution_count": 18,
   "id": "00f5f26a",
   "metadata": {
    "execution": {
     "iopub.execute_input": "2024-03-15T03:23:06.739429Z",
     "iopub.status.busy": "2024-03-15T03:23:06.739055Z",
     "iopub.status.idle": "2024-03-15T03:23:07.070428Z",
     "shell.execute_reply": "2024-03-15T03:23:07.068924Z"
    },
    "papermill": {
     "duration": 0.357257,
     "end_time": "2024-03-15T03:23:07.072833",
     "exception": false,
     "start_time": "2024-03-15T03:23:06.715576",
     "status": "completed"
    },
    "tags": []
   },
   "outputs": [
    {
     "data": {
      "image/png": "[encoded data removed]",
      "text/plain": [
       "<Figure size 1000x600 with 1 Axes>"
      ]
     },
     "metadata": {},
     "output_type": "display_data"
    }
   ],
   "source": [
    "plt.figure(figsize=(10,6))\n",
    "sns.scatterplot(x=pivot_Duration.index, y='RPE', data=pivot_Duration)\n",
    "plt.xlabel('Duration')\n",
    "plt.ylabel('RPE (average)')\n",
    "plt.title('RPE by Duration')\n",
    "plt.show()"
   ]
  },
  {
   "cell_type": "code",
   "execution_count": 19,
   "id": "68572ddd",
   "metadata": {
    "execution": {
     "iopub.execute_input": "2024-03-15T03:23:07.124879Z",
     "iopub.status.busy": "2024-03-15T03:23:07.124426Z",
     "iopub.status.idle": "2024-03-15T03:23:07.140290Z",
     "shell.execute_reply": "2024-03-15T03:23:07.139141Z"
    },
    "papermill": {
     "duration": 0.046311,
     "end_time": "2024-03-15T03:23:07.142476",
     "exception": false,
     "start_time": "2024-03-15T03:23:07.096165",
     "status": "completed"
    },
    "tags": []
   },
   "outputs": [
    {
     "data": {
      "text/html": [
       "<div>\n",
       "<style scoped>\n",
       "    .dataframe tbody tr th:only-of-type {\n",
       "        vertical-align: middle;\n",
       "    }\n",
       "\n",
       "    .dataframe tbody tr th {\n",
       "        vertical-align: top;\n",
       "    }\n",
       "\n",
       "    .dataframe thead th {\n",
       "        text-align: right;\n",
       "    }\n",
       "</style>\n",
       "<table border=\"1\" class=\"dataframe\">\n",
       "  <thead>\n",
       "    <tr style=\"text-align: right;\">\n",
       "      <th></th>\n",
       "      <th>RPE</th>\n",
       "    </tr>\n",
       "    <tr>\n",
       "      <th>Workout Name</th>\n",
       "      <th></th>\n",
       "    </tr>\n",
       "  </thead>\n",
       "  <tbody>\n",
       "    <tr>\n",
       "      <th>Full Body</th>\n",
       "      <td>9.457143</td>\n",
       "    </tr>\n",
       "    <tr>\n",
       "      <th>Full Body 2</th>\n",
       "      <td>9.495385</td>\n",
       "    </tr>\n",
       "    <tr>\n",
       "      <th>LEGS 1</th>\n",
       "      <td>8.500000</td>\n",
       "    </tr>\n",
       "    <tr>\n",
       "      <th>PULL 1</th>\n",
       "      <td>9.276536</td>\n",
       "    </tr>\n",
       "    <tr>\n",
       "      <th>PULL 2</th>\n",
       "      <td>9.625773</td>\n",
       "    </tr>\n",
       "    <tr>\n",
       "      <th>PULL 3</th>\n",
       "      <td>9.475806</td>\n",
       "    </tr>\n",
       "    <tr>\n",
       "      <th>PUSH 1</th>\n",
       "      <td>9.323840</td>\n",
       "    </tr>\n",
       "    <tr>\n",
       "      <th>PUSH 2</th>\n",
       "      <td>9.677486</td>\n",
       "    </tr>\n",
       "    <tr>\n",
       "      <th>PUSH 3</th>\n",
       "      <td>9.371795</td>\n",
       "    </tr>\n",
       "    <tr>\n",
       "      <th>Upper</th>\n",
       "      <td>9.803922</td>\n",
       "    </tr>\n",
       "    <tr>\n",
       "      <th>Upper Body</th>\n",
       "      <td>9.785235</td>\n",
       "    </tr>\n",
       "  </tbody>\n",
       "</table>\n",
       "</div>"
      ],
      "text/plain": [
       "                   RPE\n",
       "Workout Name          \n",
       "Full Body     9.457143\n",
       "Full Body 2   9.495385\n",
       "LEGS 1        8.500000\n",
       "PULL 1        9.276536\n",
       "PULL 2        9.625773\n",
       "PULL 3        9.475806\n",
       "PUSH 1        9.323840\n",
       "PUSH 2        9.677486\n",
       "PUSH 3        9.371795\n",
       "Upper         9.803922\n",
       "Upper Body    9.785235"
      ]
     },
     "execution_count": 19,
     "metadata": {},
     "output_type": "execute_result"
    }
   ],
   "source": [
    "pivot_Work = pd.pivot_table(data_pre, index='Workout Name', values='RPE',aggfunc='mean')\n",
    "pivot_Work"
   ]
  },
  {
   "cell_type": "code",
   "execution_count": 20,
   "id": "4d67b169",
   "metadata": {
    "execution": {
     "iopub.execute_input": "2024-03-15T03:23:07.192731Z",
     "iopub.status.busy": "2024-03-15T03:23:07.192053Z",
     "iopub.status.idle": "2024-03-15T03:23:07.559554Z",
     "shell.execute_reply": "2024-03-15T03:23:07.558428Z"
    },
    "papermill": {
     "duration": 0.395708,
     "end_time": "2024-03-15T03:23:07.562473",
     "exception": false,
     "start_time": "2024-03-15T03:23:07.166765",
     "status": "completed"
    },
    "tags": []
   },
   "outputs": [
    {
     "data": {
      "image/png": "[encoded data removed]",
      "text/plain": [
       "<Figure size 1000x600 with 1 Axes>"
      ]
     },
     "metadata": {},
     "output_type": "display_data"
    }
   ],
   "source": [
    "plt.figure(figsize=(10,6))\n",
    "sns.barplot(x=pivot_Work.index, y='RPE', data=pivot_Work)\n",
    "plt.xlabel('Workout Name')\n",
    "plt.ylabel('RPE (average)')\n",
    "plt.title('RPE by Workout Name')\n",
    "plt.xticks(rotation=45)\n",
    "plt.show()"
   ]
  },
  {
   "cell_type": "code",
   "execution_count": 21,
   "id": "eab7d83c",
   "metadata": {
    "execution": {
     "iopub.execute_input": "2024-03-15T03:23:07.615541Z",
     "iopub.status.busy": "2024-03-15T03:23:07.614458Z",
     "iopub.status.idle": "2024-03-15T03:23:07.633625Z",
     "shell.execute_reply": "2024-03-15T03:23:07.632496Z"
    },
    "papermill": {
     "duration": 0.048301,
     "end_time": "2024-03-15T03:23:07.636119",
     "exception": false,
     "start_time": "2024-03-15T03:23:07.587818",
     "status": "completed"
    },
    "tags": []
   },
   "outputs": [
    {
     "data": {
      "text/html": [
       "<div>\n",
       "<style scoped>\n",
       "    .dataframe tbody tr th:only-of-type {\n",
       "        vertical-align: middle;\n",
       "    }\n",
       "\n",
       "    .dataframe tbody tr th {\n",
       "        vertical-align: top;\n",
       "    }\n",
       "\n",
       "    .dataframe thead th {\n",
       "        text-align: right;\n",
       "    }\n",
       "</style>\n",
       "<table border=\"1\" class=\"dataframe\">\n",
       "  <thead>\n",
       "    <tr style=\"text-align: right;\">\n",
       "      <th></th>\n",
       "      <th>RPE</th>\n",
       "    </tr>\n",
       "    <tr>\n",
       "      <th>Exercise Name</th>\n",
       "      <th></th>\n",
       "    </tr>\n",
       "  </thead>\n",
       "  <tbody>\n",
       "    <tr>\n",
       "      <th>Bench Press (Barbell)</th>\n",
       "      <td>9.179167</td>\n",
       "    </tr>\n",
       "    <tr>\n",
       "      <th>Bench Press (Dumbbell)</th>\n",
       "      <td>9.589595</td>\n",
       "    </tr>\n",
       "    <tr>\n",
       "      <th>Bench Press - Close Grip (Barbell)</th>\n",
       "      <td>9.421569</td>\n",
       "    </tr>\n",
       "    <tr>\n",
       "      <th>Bent Over One Arm Row (Dumbbell)</th>\n",
       "      <td>9.422619</td>\n",
       "    </tr>\n",
       "    <tr>\n",
       "      <th>Bent Over Row (Barbell)</th>\n",
       "      <td>8.333333</td>\n",
       "    </tr>\n",
       "    <tr>\n",
       "      <th>Bent Over Row (Dumbbell)</th>\n",
       "      <td>9.166667</td>\n",
       "    </tr>\n",
       "    <tr>\n",
       "      <th>Bicep Curl (Barbell)</th>\n",
       "      <td>9.556250</td>\n",
       "    </tr>\n",
       "    <tr>\n",
       "      <th>Bicep Curl (Dumbbell)</th>\n",
       "      <td>9.791304</td>\n",
       "    </tr>\n",
       "    <tr>\n",
       "      <th>Cable Crunch</th>\n",
       "      <td>8.767857</td>\n",
       "    </tr>\n",
       "    <tr>\n",
       "      <th>Calf Press on Seated Leg Press</th>\n",
       "      <td>9.000000</td>\n",
       "    </tr>\n",
       "    <tr>\n",
       "      <th>Chest Fly (Dumbbell)</th>\n",
       "      <td>9.412281</td>\n",
       "    </tr>\n",
       "    <tr>\n",
       "      <th>Face Pull (Cable)</th>\n",
       "      <td>7.888889</td>\n",
       "    </tr>\n",
       "    <tr>\n",
       "      <th>Hex Press</th>\n",
       "      <td>9.333333</td>\n",
       "    </tr>\n",
       "    <tr>\n",
       "      <th>Incline Bench Press (Dumbbell)</th>\n",
       "      <td>9.791667</td>\n",
       "    </tr>\n",
       "    <tr>\n",
       "      <th>Incline Cable Chest Fly</th>\n",
       "      <td>9.517341</td>\n",
       "    </tr>\n",
       "    <tr>\n",
       "      <th>Incline Chest Fly (Dumbbell)</th>\n",
       "      <td>9.731707</td>\n",
       "    </tr>\n",
       "    <tr>\n",
       "      <th>Incline Curl (Dumbbell)</th>\n",
       "      <td>9.321429</td>\n",
       "    </tr>\n",
       "    <tr>\n",
       "      <th>Incline Row (Dumbbell)</th>\n",
       "      <td>8.916667</td>\n",
       "    </tr>\n",
       "    <tr>\n",
       "      <th>Lat Pulldown (Cable)</th>\n",
       "      <td>9.566919</td>\n",
       "    </tr>\n",
       "    <tr>\n",
       "      <th>Lat Pulldown - Underhand Close Grip</th>\n",
       "      <td>9.166667</td>\n",
       "    </tr>\n",
       "    <tr>\n",
       "      <th>Lat Pulldown - Wide Grip (Cable)</th>\n",
       "      <td>9.000000</td>\n",
       "    </tr>\n",
       "    <tr>\n",
       "      <th>Lateral Raise (Cable)</th>\n",
       "      <td>9.433333</td>\n",
       "    </tr>\n",
       "    <tr>\n",
       "      <th>Lateral Raise (Dumbbell)</th>\n",
       "      <td>9.942661</td>\n",
       "    </tr>\n",
       "    <tr>\n",
       "      <th>Leg Press</th>\n",
       "      <td>8.795455</td>\n",
       "    </tr>\n",
       "    <tr>\n",
       "      <th>Overhead Press (Barbell)</th>\n",
       "      <td>9.371429</td>\n",
       "    </tr>\n",
       "    <tr>\n",
       "      <th>Overhead Press (Dumbbell)</th>\n",
       "      <td>9.346774</td>\n",
       "    </tr>\n",
       "    <tr>\n",
       "      <th>Preacher Curl (Dumbbell)</th>\n",
       "      <td>10.000000</td>\n",
       "    </tr>\n",
       "    <tr>\n",
       "      <th>Push Up</th>\n",
       "      <td>8.000000</td>\n",
       "    </tr>\n",
       "    <tr>\n",
       "      <th>Reverse Fly (Dumbbell)</th>\n",
       "      <td>8.875000</td>\n",
       "    </tr>\n",
       "    <tr>\n",
       "      <th>Romanian Deadlift (Barbell)</th>\n",
       "      <td>8.166667</td>\n",
       "    </tr>\n",
       "    <tr>\n",
       "      <th>Seated Leg Curl (Machine)</th>\n",
       "      <td>9.632653</td>\n",
       "    </tr>\n",
       "    <tr>\n",
       "      <th>Seated Leg Press (Machine)</th>\n",
       "      <td>8.833333</td>\n",
       "    </tr>\n",
       "    <tr>\n",
       "      <th>Seated Overhead Press (Dumbbell)</th>\n",
       "      <td>9.973262</td>\n",
       "    </tr>\n",
       "    <tr>\n",
       "      <th>Seated Row (Cable)</th>\n",
       "      <td>9.653986</td>\n",
       "    </tr>\n",
       "    <tr>\n",
       "      <th>Shrug (Dumbbell)</th>\n",
       "      <td>9.000000</td>\n",
       "    </tr>\n",
       "    <tr>\n",
       "      <th>Squat (Barbell)</th>\n",
       "      <td>8.904110</td>\n",
       "    </tr>\n",
       "    <tr>\n",
       "      <th>Tricep Pushdown (rope)</th>\n",
       "      <td>9.841981</td>\n",
       "    </tr>\n",
       "    <tr>\n",
       "      <th>Triceps Extension (Cable)</th>\n",
       "      <td>9.375000</td>\n",
       "    </tr>\n",
       "    <tr>\n",
       "      <th>Triceps Extension (Dumbbell)</th>\n",
       "      <td>9.625000</td>\n",
       "    </tr>\n",
       "    <tr>\n",
       "      <th>Triceps Pushdown (Cable - Straight Bar)</th>\n",
       "      <td>9.211268</td>\n",
       "    </tr>\n",
       "    <tr>\n",
       "      <th>Upright Row (Barbell)</th>\n",
       "      <td>9.263393</td>\n",
       "    </tr>\n",
       "    <tr>\n",
       "      <th>Upright Row (Cable)</th>\n",
       "      <td>8.000000</td>\n",
       "    </tr>\n",
       "  </tbody>\n",
       "</table>\n",
       "</div>"
      ],
      "text/plain": [
       "                                               RPE\n",
       "Exercise Name                                     \n",
       "Bench Press (Barbell)                     9.179167\n",
       "Bench Press (Dumbbell)                    9.589595\n",
       "Bench Press - Close Grip (Barbell)        9.421569\n",
       "Bent Over One Arm Row (Dumbbell)          9.422619\n",
       "Bent Over Row (Barbell)                   8.333333\n",
       "Bent Over Row (Dumbbell)                  9.166667\n",
       "Bicep Curl (Barbell)                      9.556250\n",
       "Bicep Curl (Dumbbell)                     9.791304\n",
       "Cable Crunch                              8.767857\n",
       "Calf Press on Seated Leg Press            9.000000\n",
       "Chest Fly (Dumbbell)                      9.412281\n",
       "Face Pull (Cable)                         7.888889\n",
       "Hex Press                                 9.333333\n",
       "Incline Bench Press (Dumbbell)            9.791667\n",
       "Incline Cable Chest Fly                   9.517341\n",
       "Incline Chest Fly (Dumbbell)              9.731707\n",
       "Incline Curl (Dumbbell)                   9.321429\n",
       "Incline Row (Dumbbell)                    8.916667\n",
       "Lat Pulldown (Cable)                      9.566919\n",
       "Lat Pulldown - Underhand Close Grip       9.166667\n",
       "Lat Pulldown - Wide Grip (Cable)          9.000000\n",
       "Lateral Raise (Cable)                     9.433333\n",
       "Lateral Raise (Dumbbell)                  9.942661\n",
       "Leg Press                                 8.795455\n",
       "Overhead Press (Barbell)                  9.371429\n",
       "Overhead Press (Dumbbell)                 9.346774\n",
       "Preacher Curl (Dumbbell)                 10.000000\n",
       "Push Up                                   8.000000\n",
       "Reverse Fly (Dumbbell)                    8.875000\n",
       "Romanian Deadlift (Barbell)               8.166667\n",
       "Seated Leg Curl (Machine)                 9.632653\n",
       "Seated Leg Press (Machine)                8.833333\n",
       "Seated Overhead Press (Dumbbell)          9.973262\n",
       "Seated Row (Cable)                        9.653986\n",
       "Shrug (Dumbbell)                          9.000000\n",
       "Squat (Barbell)                           8.904110\n",
       "Tricep Pushdown (rope)                    9.841981\n",
       "Triceps Extension (Cable)                 9.375000\n",
       "Triceps Extension (Dumbbell)              9.625000\n",
       "Triceps Pushdown (Cable - Straight Bar)   9.211268\n",
       "Upright Row (Barbell)                     9.263393\n",
       "Upright Row (Cable)                       8.000000"
      ]
     },
     "execution_count": 21,
     "metadata": {},
     "output_type": "execute_result"
    }
   ],
   "source": [
    "pivot_Exercise = pd.pivot_table(data_pre, index='Exercise Name', values='RPE',aggfunc='mean')\n",
    "pivot_Exercise"
   ]
  },
  {
   "cell_type": "code",
   "execution_count": 22,
   "id": "8ef745f6",
   "metadata": {
    "execution": {
     "iopub.execute_input": "2024-03-15T03:23:07.688405Z",
     "iopub.status.busy": "2024-03-15T03:23:07.687555Z",
     "iopub.status.idle": "2024-03-15T03:23:08.457660Z",
     "shell.execute_reply": "2024-03-15T03:23:08.456593Z"
    },
    "papermill": {
     "duration": 0.801696,
     "end_time": "2024-03-15T03:23:08.462396",
     "exception": false,
     "start_time": "2024-03-15T03:23:07.660700",
     "status": "completed"
    },
    "tags": []
   },
   "outputs": [
    {
     "data": {
      "image/png": "[encoded data removed]",
      "text/plain": [
       "<Figure size 1000x600 with 1 Axes>"
      ]
     },
     "metadata": {},
     "output_type": "display_data"
    }
   ],
   "source": [
    "plt.figure(figsize=(10,6))\n",
    "sns.barplot(x=pivot_Exercise.index, y='RPE', data=pivot_Exercise)\n",
    "plt.xlabel('Exercise Name')\n",
    "plt.ylabel('RPE (average)')\n",
    "plt.title('RPE by Exercise Name')\n",
    "plt.xticks(rotation=45, ha='right')\n",
    "plt.show()"
   ]
  },
  {
   "cell_type": "code",
   "execution_count": 23,
   "id": "18129133",
   "metadata": {
    "execution": {
     "iopub.execute_input": "2024-03-15T03:23:08.518704Z",
     "iopub.status.busy": "2024-03-15T03:23:08.518311Z",
     "iopub.status.idle": "2024-03-15T03:23:08.533021Z",
     "shell.execute_reply": "2024-03-15T03:23:08.531898Z"
    },
    "papermill": {
     "duration": 0.045546,
     "end_time": "2024-03-15T03:23:08.535620",
     "exception": false,
     "start_time": "2024-03-15T03:23:08.490074",
     "status": "completed"
    },
    "tags": []
   },
   "outputs": [
    {
     "data": {
      "text/html": [
       "<div>\n",
       "<style scoped>\n",
       "    .dataframe tbody tr th:only-of-type {\n",
       "        vertical-align: middle;\n",
       "    }\n",
       "\n",
       "    .dataframe tbody tr th {\n",
       "        vertical-align: top;\n",
       "    }\n",
       "\n",
       "    .dataframe thead th {\n",
       "        text-align: right;\n",
       "    }\n",
       "</style>\n",
       "<table border=\"1\" class=\"dataframe\">\n",
       "  <thead>\n",
       "    <tr style=\"text-align: right;\">\n",
       "      <th></th>\n",
       "      <th>RPE</th>\n",
       "    </tr>\n",
       "    <tr>\n",
       "      <th>Set Order</th>\n",
       "      <th></th>\n",
       "    </tr>\n",
       "  </thead>\n",
       "  <tbody>\n",
       "    <tr>\n",
       "      <th>1</th>\n",
       "      <td>9.092213</td>\n",
       "    </tr>\n",
       "    <tr>\n",
       "      <th>2</th>\n",
       "      <td>9.614215</td>\n",
       "    </tr>\n",
       "    <tr>\n",
       "      <th>3</th>\n",
       "      <td>9.925749</td>\n",
       "    </tr>\n",
       "    <tr>\n",
       "      <th>4</th>\n",
       "      <td>9.985263</td>\n",
       "    </tr>\n",
       "    <tr>\n",
       "      <th>5</th>\n",
       "      <td>10.000000</td>\n",
       "    </tr>\n",
       "    <tr>\n",
       "      <th>6</th>\n",
       "      <td>10.000000</td>\n",
       "    </tr>\n",
       "  </tbody>\n",
       "</table>\n",
       "</div>"
      ],
      "text/plain": [
       "                 RPE\n",
       "Set Order           \n",
       "1           9.092213\n",
       "2           9.614215\n",
       "3           9.925749\n",
       "4           9.985263\n",
       "5          10.000000\n",
       "6          10.000000"
      ]
     },
     "execution_count": 23,
     "metadata": {},
     "output_type": "execute_result"
    }
   ],
   "source": [
    "pivot_Set = pd.pivot_table(data_pre, index='Set Order', values='RPE',aggfunc='mean')\n",
    "pivot_Set"
   ]
  },
  {
   "cell_type": "code",
   "execution_count": 24,
   "id": "fdb7c0d3",
   "metadata": {
    "execution": {
     "iopub.execute_input": "2024-03-15T03:23:08.592858Z",
     "iopub.status.busy": "2024-03-15T03:23:08.592387Z",
     "iopub.status.idle": "2024-03-15T03:23:08.889450Z",
     "shell.execute_reply": "2024-03-15T03:23:08.888347Z"
    },
    "papermill": {
     "duration": 0.328863,
     "end_time": "2024-03-15T03:23:08.892065",
     "exception": false,
     "start_time": "2024-03-15T03:23:08.563202",
     "status": "completed"
    },
    "tags": []
   },
   "outputs": [
    {
     "data": {
      "image/png": "[encoded data removed]",
      "text/plain": [
       "<Figure size 1000x600 with 1 Axes>"
      ]
     },
     "metadata": {},
     "output_type": "display_data"
    }
   ],
   "source": [
    "plt.figure(figsize=(10,6))\n",
    "sns.barplot(x=pivot_Set.index, y='RPE', data=pivot_Set, palette = 'BuGn')\n",
    "plt.xlabel('Set Order')\n",
    "plt.ylabel('RPE (average)')\n",
    "plt.title('RPE by Set Order')\n",
    "plt.show()"
   ]
  },
  {
   "cell_type": "code",
   "execution_count": 25,
   "id": "2822b052",
   "metadata": {
    "execution": {
     "iopub.execute_input": "2024-03-15T03:23:08.949571Z",
     "iopub.status.busy": "2024-03-15T03:23:08.948522Z",
     "iopub.status.idle": "2024-03-15T03:23:08.965639Z",
     "shell.execute_reply": "2024-03-15T03:23:08.964513Z"
    },
    "papermill": {
     "duration": 0.048329,
     "end_time": "2024-03-15T03:23:08.967988",
     "exception": false,
     "start_time": "2024-03-15T03:23:08.919659",
     "status": "completed"
    },
    "tags": []
   },
   "outputs": [
    {
     "data": {
      "text/html": [
       "<div>\n",
       "<style scoped>\n",
       "    .dataframe tbody tr th:only-of-type {\n",
       "        vertical-align: middle;\n",
       "    }\n",
       "\n",
       "    .dataframe tbody tr th {\n",
       "        vertical-align: top;\n",
       "    }\n",
       "\n",
       "    .dataframe thead th {\n",
       "        text-align: right;\n",
       "    }\n",
       "</style>\n",
       "<table border=\"1\" class=\"dataframe\">\n",
       "  <thead>\n",
       "    <tr style=\"text-align: right;\">\n",
       "      <th></th>\n",
       "      <th>RPE</th>\n",
       "    </tr>\n",
       "    <tr>\n",
       "      <th>Weight</th>\n",
       "      <th></th>\n",
       "    </tr>\n",
       "  </thead>\n",
       "  <tbody>\n",
       "    <tr>\n",
       "      <th>0.00</th>\n",
       "      <td>8.000000</td>\n",
       "    </tr>\n",
       "    <tr>\n",
       "      <th>3.75</th>\n",
       "      <td>9.423077</td>\n",
       "    </tr>\n",
       "    <tr>\n",
       "      <th>6.25</th>\n",
       "      <td>9.500000</td>\n",
       "    </tr>\n",
       "    <tr>\n",
       "      <th>8.00</th>\n",
       "      <td>10.000000</td>\n",
       "    </tr>\n",
       "    <tr>\n",
       "      <th>8.75</th>\n",
       "      <td>10.000000</td>\n",
       "    </tr>\n",
       "    <tr>\n",
       "      <th>...</th>\n",
       "      <td>...</td>\n",
       "    </tr>\n",
       "    <tr>\n",
       "      <th>125.00</th>\n",
       "      <td>7.500000</td>\n",
       "    </tr>\n",
       "    <tr>\n",
       "      <th>155.00</th>\n",
       "      <td>9.000000</td>\n",
       "    </tr>\n",
       "    <tr>\n",
       "      <th>175.00</th>\n",
       "      <td>8.750000</td>\n",
       "    </tr>\n",
       "    <tr>\n",
       "      <th>185.00</th>\n",
       "      <td>9.000000</td>\n",
       "    </tr>\n",
       "    <tr>\n",
       "      <th>195.00</th>\n",
       "      <td>9.000000</td>\n",
       "    </tr>\n",
       "  </tbody>\n",
       "</table>\n",
       "<p>81 rows × 1 columns</p>\n",
       "</div>"
      ],
      "text/plain": [
       "              RPE\n",
       "Weight           \n",
       "0.00     8.000000\n",
       "3.75     9.423077\n",
       "6.25     9.500000\n",
       "8.00    10.000000\n",
       "8.75    10.000000\n",
       "...           ...\n",
       "125.00   7.500000\n",
       "155.00   9.000000\n",
       "175.00   8.750000\n",
       "185.00   9.000000\n",
       "195.00   9.000000\n",
       "\n",
       "[81 rows x 1 columns]"
      ]
     },
     "execution_count": 25,
     "metadata": {},
     "output_type": "execute_result"
    }
   ],
   "source": [
    "pivot_Weight = pd.pivot_table(data_pre, index='Weight', values='RPE',aggfunc='mean')\n",
    "pivot_Weight"
   ]
  },
  {
   "cell_type": "code",
   "execution_count": 26,
   "id": "efb6303e",
   "metadata": {
    "execution": {
     "iopub.execute_input": "2024-03-15T03:23:09.026301Z",
     "iopub.status.busy": "2024-03-15T03:23:09.025574Z",
     "iopub.status.idle": "2024-03-15T03:23:09.373643Z",
     "shell.execute_reply": "2024-03-15T03:23:09.372469Z"
    },
    "papermill": {
     "duration": 0.380301,
     "end_time": "2024-03-15T03:23:09.376532",
     "exception": false,
     "start_time": "2024-03-15T03:23:08.996231",
     "status": "completed"
    },
    "tags": []
   },
   "outputs": [
    {
     "data": {
      "image/png": "[encoded data removed]",
      "text/plain": [
       "<Figure size 1000x600 with 1 Axes>"
      ]
     },
     "metadata": {},
     "output_type": "display_data"
    }
   ],
   "source": [
    "plt.figure(figsize=(10,6))\n",
    "sns.scatterplot(x=pivot_Weight.index, y='RPE', data=pivot_Weight)\n",
    "plt.xticks(rotation=0)\n",
    "plt.xlabel('Weight')\n",
    "plt.ylabel('RPE (average)')\n",
    "plt.title('RPE by Weight')\n",
    "plt.show()"
   ]
  },
  {
   "cell_type": "code",
   "execution_count": 27,
   "id": "4f53b2b6",
   "metadata": {
    "execution": {
     "iopub.execute_input": "2024-03-15T03:23:09.436867Z",
     "iopub.status.busy": "2024-03-15T03:23:09.436002Z",
     "iopub.status.idle": "2024-03-15T03:23:09.452058Z",
     "shell.execute_reply": "2024-03-15T03:23:09.451236Z"
    },
    "papermill": {
     "duration": 0.048765,
     "end_time": "2024-03-15T03:23:09.454424",
     "exception": false,
     "start_time": "2024-03-15T03:23:09.405659",
     "status": "completed"
    },
    "tags": []
   },
   "outputs": [
    {
     "data": {
      "text/html": [
       "<div>\n",
       "<style scoped>\n",
       "    .dataframe tbody tr th:only-of-type {\n",
       "        vertical-align: middle;\n",
       "    }\n",
       "\n",
       "    .dataframe tbody tr th {\n",
       "        vertical-align: top;\n",
       "    }\n",
       "\n",
       "    .dataframe thead th {\n",
       "        text-align: right;\n",
       "    }\n",
       "</style>\n",
       "<table border=\"1\" class=\"dataframe\">\n",
       "  <thead>\n",
       "    <tr style=\"text-align: right;\">\n",
       "      <th></th>\n",
       "      <th>RPE</th>\n",
       "    </tr>\n",
       "    <tr>\n",
       "      <th>Reps</th>\n",
       "      <th></th>\n",
       "    </tr>\n",
       "  </thead>\n",
       "  <tbody>\n",
       "    <tr>\n",
       "      <th>2</th>\n",
       "      <td>10.000000</td>\n",
       "    </tr>\n",
       "    <tr>\n",
       "      <th>3</th>\n",
       "      <td>10.000000</td>\n",
       "    </tr>\n",
       "    <tr>\n",
       "      <th>4</th>\n",
       "      <td>9.978022</td>\n",
       "    </tr>\n",
       "    <tr>\n",
       "      <th>5</th>\n",
       "      <td>9.891489</td>\n",
       "    </tr>\n",
       "    <tr>\n",
       "      <th>6</th>\n",
       "      <td>9.879888</td>\n",
       "    </tr>\n",
       "    <tr>\n",
       "      <th>7</th>\n",
       "      <td>9.767152</td>\n",
       "    </tr>\n",
       "    <tr>\n",
       "      <th>8</th>\n",
       "      <td>9.633929</td>\n",
       "    </tr>\n",
       "    <tr>\n",
       "      <th>9</th>\n",
       "      <td>9.610193</td>\n",
       "    </tr>\n",
       "    <tr>\n",
       "      <th>10</th>\n",
       "      <td>9.383436</td>\n",
       "    </tr>\n",
       "    <tr>\n",
       "      <th>11</th>\n",
       "      <td>9.385965</td>\n",
       "    </tr>\n",
       "    <tr>\n",
       "      <th>12</th>\n",
       "      <td>9.256563</td>\n",
       "    </tr>\n",
       "    <tr>\n",
       "      <th>13</th>\n",
       "      <td>9.412921</td>\n",
       "    </tr>\n",
       "    <tr>\n",
       "      <th>14</th>\n",
       "      <td>9.388889</td>\n",
       "    </tr>\n",
       "    <tr>\n",
       "      <th>15</th>\n",
       "      <td>9.088235</td>\n",
       "    </tr>\n",
       "    <tr>\n",
       "      <th>16</th>\n",
       "      <td>9.391304</td>\n",
       "    </tr>\n",
       "    <tr>\n",
       "      <th>17</th>\n",
       "      <td>9.833333</td>\n",
       "    </tr>\n",
       "    <tr>\n",
       "      <th>18</th>\n",
       "      <td>9.687500</td>\n",
       "    </tr>\n",
       "    <tr>\n",
       "      <th>19</th>\n",
       "      <td>9.666667</td>\n",
       "    </tr>\n",
       "    <tr>\n",
       "      <th>20</th>\n",
       "      <td>9.225000</td>\n",
       "    </tr>\n",
       "    <tr>\n",
       "      <th>22</th>\n",
       "      <td>9.272727</td>\n",
       "    </tr>\n",
       "    <tr>\n",
       "      <th>23</th>\n",
       "      <td>10.000000</td>\n",
       "    </tr>\n",
       "    <tr>\n",
       "      <th>24</th>\n",
       "      <td>9.394737</td>\n",
       "    </tr>\n",
       "    <tr>\n",
       "      <th>26</th>\n",
       "      <td>9.375000</td>\n",
       "    </tr>\n",
       "    <tr>\n",
       "      <th>30</th>\n",
       "      <td>8.750000</td>\n",
       "    </tr>\n",
       "  </tbody>\n",
       "</table>\n",
       "</div>"
      ],
      "text/plain": [
       "            RPE\n",
       "Reps           \n",
       "2     10.000000\n",
       "3     10.000000\n",
       "4      9.978022\n",
       "5      9.891489\n",
       "6      9.879888\n",
       "7      9.767152\n",
       "8      9.633929\n",
       "9      9.610193\n",
       "10     9.383436\n",
       "11     9.385965\n",
       "12     9.256563\n",
       "13     9.412921\n",
       "14     9.388889\n",
       "15     9.088235\n",
       "16     9.391304\n",
       "17     9.833333\n",
       "18     9.687500\n",
       "19     9.666667\n",
       "20     9.225000\n",
       "22     9.272727\n",
       "23    10.000000\n",
       "24     9.394737\n",
       "26     9.375000\n",
       "30     8.750000"
      ]
     },
     "execution_count": 27,
     "metadata": {},
     "output_type": "execute_result"
    }
   ],
   "source": [
    "pivot_Reps = pd.pivot_table(data_pre, index='Reps', values='RPE',aggfunc='mean')\n",
    "pivot_Reps"
   ]
  },
  {
   "cell_type": "code",
   "execution_count": 28,
   "id": "b5ff3201",
   "metadata": {
    "execution": {
     "iopub.execute_input": "2024-03-15T03:23:09.514478Z",
     "iopub.status.busy": "2024-03-15T03:23:09.513572Z",
     "iopub.status.idle": "2024-03-15T03:23:09.962030Z",
     "shell.execute_reply": "2024-03-15T03:23:09.960925Z"
    },
    "papermill": {
     "duration": 0.481335,
     "end_time": "2024-03-15T03:23:09.964466",
     "exception": false,
     "start_time": "2024-03-15T03:23:09.483131",
     "status": "completed"
    },
    "tags": []
   },
   "outputs": [
    {
     "data": {
      "image/png": "[encoded data removed]",
      "text/plain": [
       "<Figure size 1000x600 with 1 Axes>"
      ]
     },
     "metadata": {},
     "output_type": "display_data"
    }
   ],
   "source": [
    "plt.figure(figsize=(10,6))\n",
    "sns.barplot(x=pivot_Reps.index, y='RPE', data=pivot_Reps,palette = 'magma',)\n",
    "plt.xlabel('Reps')\n",
    "plt.ylabel('RPE (average)')\n",
    "plt.title('RPE by Reps')\n",
    "plt.show()"
   ]
  },
  {
   "cell_type": "markdown",
   "id": "218f4d71",
   "metadata": {
    "papermill": {
     "duration": 0.028865,
     "end_time": "2024-03-15T03:23:10.022595",
     "exception": false,
     "start_time": "2024-03-15T03:23:09.993730",
     "status": "completed"
    },
    "tags": []
   },
   "source": [
    "#### Below are chart showing additional different correlations."
   ]
  },
  {
   "cell_type": "code",
   "execution_count": 29,
   "id": "e4aa31e4",
   "metadata": {
    "execution": {
     "iopub.execute_input": "2024-03-15T03:23:10.082964Z",
     "iopub.status.busy": "2024-03-15T03:23:10.082523Z",
     "iopub.status.idle": "2024-03-15T03:23:10.097816Z",
     "shell.execute_reply": "2024-03-15T03:23:10.096934Z"
    },
    "papermill": {
     "duration": 0.048487,
     "end_time": "2024-03-15T03:23:10.100221",
     "exception": false,
     "start_time": "2024-03-15T03:23:10.051734",
     "status": "completed"
    },
    "tags": []
   },
   "outputs": [
    {
     "data": {
      "text/html": [
       "<div>\n",
       "<style scoped>\n",
       "    .dataframe tbody tr th:only-of-type {\n",
       "        vertical-align: middle;\n",
       "    }\n",
       "\n",
       "    .dataframe tbody tr th {\n",
       "        vertical-align: top;\n",
       "    }\n",
       "\n",
       "    .dataframe thead th {\n",
       "        text-align: right;\n",
       "    }\n",
       "</style>\n",
       "<table border=\"1\" class=\"dataframe\">\n",
       "  <thead>\n",
       "    <tr style=\"text-align: right;\">\n",
       "      <th></th>\n",
       "      <th>Duration</th>\n",
       "    </tr>\n",
       "    <tr>\n",
       "      <th>Workout Name</th>\n",
       "      <th></th>\n",
       "    </tr>\n",
       "  </thead>\n",
       "  <tbody>\n",
       "    <tr>\n",
       "      <th>Full Body</th>\n",
       "      <td>60.457143</td>\n",
       "    </tr>\n",
       "    <tr>\n",
       "      <th>Full Body 2</th>\n",
       "      <td>64.006154</td>\n",
       "    </tr>\n",
       "    <tr>\n",
       "      <th>LEGS 1</th>\n",
       "      <td>69.000000</td>\n",
       "    </tr>\n",
       "    <tr>\n",
       "      <th>PULL 1</th>\n",
       "      <td>59.189944</td>\n",
       "    </tr>\n",
       "    <tr>\n",
       "      <th>PULL 2</th>\n",
       "      <td>48.439175</td>\n",
       "    </tr>\n",
       "    <tr>\n",
       "      <th>PULL 3</th>\n",
       "      <td>42.645161</td>\n",
       "    </tr>\n",
       "    <tr>\n",
       "      <th>PUSH 1</th>\n",
       "      <td>56.048523</td>\n",
       "    </tr>\n",
       "    <tr>\n",
       "      <th>PUSH 2</th>\n",
       "      <td>51.426796</td>\n",
       "    </tr>\n",
       "    <tr>\n",
       "      <th>PUSH 3</th>\n",
       "      <td>42.294872</td>\n",
       "    </tr>\n",
       "    <tr>\n",
       "      <th>Upper</th>\n",
       "      <td>56.823529</td>\n",
       "    </tr>\n",
       "    <tr>\n",
       "      <th>Upper Body</th>\n",
       "      <td>43.610738</td>\n",
       "    </tr>\n",
       "  </tbody>\n",
       "</table>\n",
       "</div>"
      ],
      "text/plain": [
       "               Duration\n",
       "Workout Name           \n",
       "Full Body     60.457143\n",
       "Full Body 2   64.006154\n",
       "LEGS 1        69.000000\n",
       "PULL 1        59.189944\n",
       "PULL 2        48.439175\n",
       "PULL 3        42.645161\n",
       "PUSH 1        56.048523\n",
       "PUSH 2        51.426796\n",
       "PUSH 3        42.294872\n",
       "Upper         56.823529\n",
       "Upper Body    43.610738"
      ]
     },
     "execution_count": 29,
     "metadata": {},
     "output_type": "execute_result"
    }
   ],
   "source": [
    "pivot_other1 = pd.pivot_table(data_pre, index='Workout Name', values='Duration',aggfunc='mean')\n",
    "pivot_other1"
   ]
  },
  {
   "cell_type": "code",
   "execution_count": 30,
   "id": "60ca7b56",
   "metadata": {
    "execution": {
     "iopub.execute_input": "2024-03-15T03:23:10.161746Z",
     "iopub.status.busy": "2024-03-15T03:23:10.160880Z",
     "iopub.status.idle": "2024-03-15T03:23:10.525404Z",
     "shell.execute_reply": "2024-03-15T03:23:10.524115Z"
    },
    "papermill": {
     "duration": 0.397882,
     "end_time": "2024-03-15T03:23:10.527843",
     "exception": false,
     "start_time": "2024-03-15T03:23:10.129961",
     "status": "completed"
    },
    "tags": []
   },
   "outputs": [
    {
     "data": {
      "image/png": "[encoded data removed]",
      "text/plain": [
       "<Figure size 1000x600 with 1 Axes>"
      ]
     },
     "metadata": {},
     "output_type": "display_data"
    }
   ],
   "source": [
    "plt.figure(figsize=(10,6))\n",
    "sns.barplot(x=pivot_other1.index, y='Duration', data=pivot_other1 ,palette = 'copper')\n",
    "plt.xticks(rotation=45)\n",
    "plt.xlabel('Workout Name')\n",
    "plt.ylabel('Duration (average)')\n",
    "plt.title('Durtaion by Workout Name')\n",
    "plt.show()"
   ]
  },
  {
   "cell_type": "code",
   "execution_count": 31,
   "id": "86249f02",
   "metadata": {
    "execution": {
     "iopub.execute_input": "2024-03-15T03:23:10.591563Z",
     "iopub.status.busy": "2024-03-15T03:23:10.591132Z",
     "iopub.status.idle": "2024-03-15T03:23:10.609310Z",
     "shell.execute_reply": "2024-03-15T03:23:10.608084Z"
    },
    "papermill": {
     "duration": 0.052581,
     "end_time": "2024-03-15T03:23:10.611636",
     "exception": false,
     "start_time": "2024-03-15T03:23:10.559055",
     "status": "completed"
    },
    "tags": []
   },
   "outputs": [
    {
     "data": {
      "text/html": [
       "<div>\n",
       "<style scoped>\n",
       "    .dataframe tbody tr th:only-of-type {\n",
       "        vertical-align: middle;\n",
       "    }\n",
       "\n",
       "    .dataframe tbody tr th {\n",
       "        vertical-align: top;\n",
       "    }\n",
       "\n",
       "    .dataframe thead th {\n",
       "        text-align: right;\n",
       "    }\n",
       "</style>\n",
       "<table border=\"1\" class=\"dataframe\">\n",
       "  <thead>\n",
       "    <tr style=\"text-align: right;\">\n",
       "      <th></th>\n",
       "      <th>Duration</th>\n",
       "    </tr>\n",
       "    <tr>\n",
       "      <th>Exercise Name</th>\n",
       "      <th></th>\n",
       "    </tr>\n",
       "  </thead>\n",
       "  <tbody>\n",
       "    <tr>\n",
       "      <th>Bench Press (Barbell)</th>\n",
       "      <td>54.766667</td>\n",
       "    </tr>\n",
       "    <tr>\n",
       "      <th>Bench Press (Dumbbell)</th>\n",
       "      <td>45.589595</td>\n",
       "    </tr>\n",
       "    <tr>\n",
       "      <th>Bench Press - Close Grip (Barbell)</th>\n",
       "      <td>53.960784</td>\n",
       "    </tr>\n",
       "    <tr>\n",
       "      <th>Bent Over One Arm Row (Dumbbell)</th>\n",
       "      <td>54.059524</td>\n",
       "    </tr>\n",
       "    <tr>\n",
       "      <th>Bent Over Row (Barbell)</th>\n",
       "      <td>53.500000</td>\n",
       "    </tr>\n",
       "    <tr>\n",
       "      <th>Bent Over Row (Dumbbell)</th>\n",
       "      <td>98.000000</td>\n",
       "    </tr>\n",
       "    <tr>\n",
       "      <th>Bicep Curl (Barbell)</th>\n",
       "      <td>53.700000</td>\n",
       "    </tr>\n",
       "    <tr>\n",
       "      <th>Bicep Curl (Dumbbell)</th>\n",
       "      <td>48.362319</td>\n",
       "    </tr>\n",
       "    <tr>\n",
       "      <th>Cable Crunch</th>\n",
       "      <td>63.071429</td>\n",
       "    </tr>\n",
       "    <tr>\n",
       "      <th>Calf Press on Seated Leg Press</th>\n",
       "      <td>69.000000</td>\n",
       "    </tr>\n",
       "    <tr>\n",
       "      <th>Chest Fly (Dumbbell)</th>\n",
       "      <td>43.298246</td>\n",
       "    </tr>\n",
       "    <tr>\n",
       "      <th>Face Pull (Cable)</th>\n",
       "      <td>71.333333</td>\n",
       "    </tr>\n",
       "    <tr>\n",
       "      <th>Hex Press</th>\n",
       "      <td>45.000000</td>\n",
       "    </tr>\n",
       "    <tr>\n",
       "      <th>Incline Bench Press (Dumbbell)</th>\n",
       "      <td>53.060606</td>\n",
       "    </tr>\n",
       "    <tr>\n",
       "      <th>Incline Cable Chest Fly</th>\n",
       "      <td>50.167630</td>\n",
       "    </tr>\n",
       "    <tr>\n",
       "      <th>Incline Chest Fly (Dumbbell)</th>\n",
       "      <td>49.497561</td>\n",
       "    </tr>\n",
       "    <tr>\n",
       "      <th>Incline Curl (Dumbbell)</th>\n",
       "      <td>67.285714</td>\n",
       "    </tr>\n",
       "    <tr>\n",
       "      <th>Incline Row (Dumbbell)</th>\n",
       "      <td>61.500000</td>\n",
       "    </tr>\n",
       "    <tr>\n",
       "      <th>Lat Pulldown (Cable)</th>\n",
       "      <td>47.813131</td>\n",
       "    </tr>\n",
       "    <tr>\n",
       "      <th>Lat Pulldown - Underhand Close Grip</th>\n",
       "      <td>60.333333</td>\n",
       "    </tr>\n",
       "    <tr>\n",
       "      <th>Lat Pulldown - Wide Grip (Cable)</th>\n",
       "      <td>59.750000</td>\n",
       "    </tr>\n",
       "    <tr>\n",
       "      <th>Lateral Raise (Cable)</th>\n",
       "      <td>67.933333</td>\n",
       "    </tr>\n",
       "    <tr>\n",
       "      <th>Lateral Raise (Dumbbell)</th>\n",
       "      <td>55.715596</td>\n",
       "    </tr>\n",
       "    <tr>\n",
       "      <th>Leg Press</th>\n",
       "      <td>60.681818</td>\n",
       "    </tr>\n",
       "    <tr>\n",
       "      <th>Overhead Press (Barbell)</th>\n",
       "      <td>57.242857</td>\n",
       "    </tr>\n",
       "    <tr>\n",
       "      <th>Overhead Press (Dumbbell)</th>\n",
       "      <td>48.198925</td>\n",
       "    </tr>\n",
       "    <tr>\n",
       "      <th>Preacher Curl (Dumbbell)</th>\n",
       "      <td>103.000000</td>\n",
       "    </tr>\n",
       "    <tr>\n",
       "      <th>Push Up</th>\n",
       "      <td>64.000000</td>\n",
       "    </tr>\n",
       "    <tr>\n",
       "      <th>Reverse Fly (Dumbbell)</th>\n",
       "      <td>69.750000</td>\n",
       "    </tr>\n",
       "    <tr>\n",
       "      <th>Romanian Deadlift (Barbell)</th>\n",
       "      <td>69.000000</td>\n",
       "    </tr>\n",
       "    <tr>\n",
       "      <th>Seated Leg Curl (Machine)</th>\n",
       "      <td>65.734694</td>\n",
       "    </tr>\n",
       "    <tr>\n",
       "      <th>Seated Leg Press (Machine)</th>\n",
       "      <td>69.000000</td>\n",
       "    </tr>\n",
       "    <tr>\n",
       "      <th>Seated Overhead Press (Dumbbell)</th>\n",
       "      <td>48.192513</td>\n",
       "    </tr>\n",
       "    <tr>\n",
       "      <th>Seated Row (Cable)</th>\n",
       "      <td>51.880435</td>\n",
       "    </tr>\n",
       "    <tr>\n",
       "      <th>Shrug (Dumbbell)</th>\n",
       "      <td>48.333333</td>\n",
       "    </tr>\n",
       "    <tr>\n",
       "      <th>Squat (Barbell)</th>\n",
       "      <td>62.410959</td>\n",
       "    </tr>\n",
       "    <tr>\n",
       "      <th>Tricep Pushdown (rope)</th>\n",
       "      <td>48.995283</td>\n",
       "    </tr>\n",
       "    <tr>\n",
       "      <th>Triceps Extension (Cable)</th>\n",
       "      <td>64.000000</td>\n",
       "    </tr>\n",
       "    <tr>\n",
       "      <th>Triceps Extension (Dumbbell)</th>\n",
       "      <td>48.000000</td>\n",
       "    </tr>\n",
       "    <tr>\n",
       "      <th>Triceps Pushdown (Cable - Straight Bar)</th>\n",
       "      <td>50.042254</td>\n",
       "    </tr>\n",
       "    <tr>\n",
       "      <th>Upright Row (Barbell)</th>\n",
       "      <td>47.107143</td>\n",
       "    </tr>\n",
       "    <tr>\n",
       "      <th>Upright Row (Cable)</th>\n",
       "      <td>64.000000</td>\n",
       "    </tr>\n",
       "  </tbody>\n",
       "</table>\n",
       "</div>"
      ],
      "text/plain": [
       "                                           Duration\n",
       "Exercise Name                                      \n",
       "Bench Press (Barbell)                     54.766667\n",
       "Bench Press (Dumbbell)                    45.589595\n",
       "Bench Press - Close Grip (Barbell)        53.960784\n",
       "Bent Over One Arm Row (Dumbbell)          54.059524\n",
       "Bent Over Row (Barbell)                   53.500000\n",
       "Bent Over Row (Dumbbell)                  98.000000\n",
       "Bicep Curl (Barbell)                      53.700000\n",
       "Bicep Curl (Dumbbell)                     48.362319\n",
       "Cable Crunch                              63.071429\n",
       "Calf Press on Seated Leg Press            69.000000\n",
       "Chest Fly (Dumbbell)                      43.298246\n",
       "Face Pull (Cable)                         71.333333\n",
       "Hex Press                                 45.000000\n",
       "Incline Bench Press (Dumbbell)            53.060606\n",
       "Incline Cable Chest Fly                   50.167630\n",
       "Incline Chest Fly (Dumbbell)              49.497561\n",
       "Incline Curl (Dumbbell)                   67.285714\n",
       "Incline Row (Dumbbell)                    61.500000\n",
       "Lat Pulldown (Cable)                      47.813131\n",
       "Lat Pulldown - Underhand Close Grip       60.333333\n",
       "Lat Pulldown - Wide Grip (Cable)          59.750000\n",
       "Lateral Raise (Cable)                     67.933333\n",
       "Lateral Raise (Dumbbell)                  55.715596\n",
       "Leg Press                                 60.681818\n",
       "Overhead Press (Barbell)                  57.242857\n",
       "Overhead Press (Dumbbell)                 48.198925\n",
       "Preacher Curl (Dumbbell)                 103.000000\n",
       "Push Up                                   64.000000\n",
       "Reverse Fly (Dumbbell)                    69.750000\n",
       "Romanian Deadlift (Barbell)               69.000000\n",
       "Seated Leg Curl (Machine)                 65.734694\n",
       "Seated Leg Press (Machine)                69.000000\n",
       "Seated Overhead Press (Dumbbell)          48.192513\n",
       "Seated Row (Cable)                        51.880435\n",
       "Shrug (Dumbbell)                          48.333333\n",
       "Squat (Barbell)                           62.410959\n",
       "Tricep Pushdown (rope)                    48.995283\n",
       "Triceps Extension (Cable)                 64.000000\n",
       "Triceps Extension (Dumbbell)              48.000000\n",
       "Triceps Pushdown (Cable - Straight Bar)   50.042254\n",
       "Upright Row (Barbell)                     47.107143\n",
       "Upright Row (Cable)                       64.000000"
      ]
     },
     "execution_count": 31,
     "metadata": {},
     "output_type": "execute_result"
    }
   ],
   "source": [
    "pivot_other2 = pd.pivot_table(data_pre, index='Exercise Name', values='Duration',aggfunc='mean')\n",
    "pivot_other2"
   ]
  },
  {
   "cell_type": "code",
   "execution_count": 32,
   "id": "de360669",
   "metadata": {
    "execution": {
     "iopub.execute_input": "2024-03-15T03:23:10.676205Z",
     "iopub.status.busy": "2024-03-15T03:23:10.675549Z",
     "iopub.status.idle": "2024-03-15T03:23:11.464689Z",
     "shell.execute_reply": "2024-03-15T03:23:11.463481Z"
    },
    "papermill": {
     "duration": 0.826823,
     "end_time": "2024-03-15T03:23:11.469426",
     "exception": false,
     "start_time": "2024-03-15T03:23:10.642603",
     "status": "completed"
    },
    "tags": []
   },
   "outputs": [
    {
     "data": {
      "image/png": "[encoded data removed]",
      "text/plain": [
       "<Figure size 1000x600 with 1 Axes>"
      ]
     },
     "metadata": {},
     "output_type": "display_data"
    }
   ],
   "source": [
    "plt.figure(figsize=(10,6))\n",
    "sns.barplot(x=pivot_other2.index, y='Duration', data=pivot_other2 ,palette = 'hsv')\n",
    "plt.xticks(rotation=45, ha='right')\n",
    "plt.xlabel('Exercise Name')\n",
    "plt.ylabel('Duration (average)')\n",
    "plt.title('Durtaion by Exercise Name')\n",
    "plt.show()"
   ]
  },
  {
   "cell_type": "code",
   "execution_count": 33,
   "id": "4671dfa4",
   "metadata": {
    "execution": {
     "iopub.execute_input": "2024-03-15T03:23:11.539171Z",
     "iopub.status.busy": "2024-03-15T03:23:11.538786Z",
     "iopub.status.idle": "2024-03-15T03:23:11.555728Z",
     "shell.execute_reply": "2024-03-15T03:23:11.554551Z"
    },
    "papermill": {
     "duration": 0.055058,
     "end_time": "2024-03-15T03:23:11.558145",
     "exception": false,
     "start_time": "2024-03-15T03:23:11.503087",
     "status": "completed"
    },
    "tags": []
   },
   "outputs": [
    {
     "data": {
      "text/html": [
       "<div>\n",
       "<style scoped>\n",
       "    .dataframe tbody tr th:only-of-type {\n",
       "        vertical-align: middle;\n",
       "    }\n",
       "\n",
       "    .dataframe tbody tr th {\n",
       "        vertical-align: top;\n",
       "    }\n",
       "\n",
       "    .dataframe thead th {\n",
       "        text-align: right;\n",
       "    }\n",
       "</style>\n",
       "<table border=\"1\" class=\"dataframe\">\n",
       "  <thead>\n",
       "    <tr style=\"text-align: right;\">\n",
       "      <th></th>\n",
       "      <th>Weight</th>\n",
       "    </tr>\n",
       "    <tr>\n",
       "      <th>Reps</th>\n",
       "      <th></th>\n",
       "    </tr>\n",
       "  </thead>\n",
       "  <tbody>\n",
       "    <tr>\n",
       "      <th>2</th>\n",
       "      <td>30.000000</td>\n",
       "    </tr>\n",
       "    <tr>\n",
       "      <th>3</th>\n",
       "      <td>29.490385</td>\n",
       "    </tr>\n",
       "    <tr>\n",
       "      <th>4</th>\n",
       "      <td>30.230769</td>\n",
       "    </tr>\n",
       "    <tr>\n",
       "      <th>5</th>\n",
       "      <td>32.804255</td>\n",
       "    </tr>\n",
       "    <tr>\n",
       "      <th>6</th>\n",
       "      <td>34.220670</td>\n",
       "    </tr>\n",
       "    <tr>\n",
       "      <th>7</th>\n",
       "      <td>36.114865</td>\n",
       "    </tr>\n",
       "    <tr>\n",
       "      <th>8</th>\n",
       "      <td>36.877976</td>\n",
       "    </tr>\n",
       "    <tr>\n",
       "      <th>9</th>\n",
       "      <td>35.709366</td>\n",
       "    </tr>\n",
       "    <tr>\n",
       "      <th>10</th>\n",
       "      <td>34.310327</td>\n",
       "    </tr>\n",
       "    <tr>\n",
       "      <th>11</th>\n",
       "      <td>34.219298</td>\n",
       "    </tr>\n",
       "    <tr>\n",
       "      <th>12</th>\n",
       "      <td>35.210024</td>\n",
       "    </tr>\n",
       "    <tr>\n",
       "      <th>13</th>\n",
       "      <td>33.084270</td>\n",
       "    </tr>\n",
       "    <tr>\n",
       "      <th>14</th>\n",
       "      <td>38.336111</td>\n",
       "    </tr>\n",
       "    <tr>\n",
       "      <th>15</th>\n",
       "      <td>34.413866</td>\n",
       "    </tr>\n",
       "    <tr>\n",
       "      <th>16</th>\n",
       "      <td>35.336957</td>\n",
       "    </tr>\n",
       "    <tr>\n",
       "      <th>17</th>\n",
       "      <td>41.000000</td>\n",
       "    </tr>\n",
       "    <tr>\n",
       "      <th>18</th>\n",
       "      <td>32.687500</td>\n",
       "    </tr>\n",
       "    <tr>\n",
       "      <th>19</th>\n",
       "      <td>10.833333</td>\n",
       "    </tr>\n",
       "    <tr>\n",
       "      <th>20</th>\n",
       "      <td>26.225000</td>\n",
       "    </tr>\n",
       "    <tr>\n",
       "      <th>22</th>\n",
       "      <td>22.386364</td>\n",
       "    </tr>\n",
       "    <tr>\n",
       "      <th>23</th>\n",
       "      <td>25.000000</td>\n",
       "    </tr>\n",
       "    <tr>\n",
       "      <th>24</th>\n",
       "      <td>18.881579</td>\n",
       "    </tr>\n",
       "    <tr>\n",
       "      <th>26</th>\n",
       "      <td>16.333333</td>\n",
       "    </tr>\n",
       "    <tr>\n",
       "      <th>30</th>\n",
       "      <td>7.678571</td>\n",
       "    </tr>\n",
       "  </tbody>\n",
       "</table>\n",
       "</div>"
      ],
      "text/plain": [
       "         Weight\n",
       "Reps           \n",
       "2     30.000000\n",
       "3     29.490385\n",
       "4     30.230769\n",
       "5     32.804255\n",
       "6     34.220670\n",
       "7     36.114865\n",
       "8     36.877976\n",
       "9     35.709366\n",
       "10    34.310327\n",
       "11    34.219298\n",
       "12    35.210024\n",
       "13    33.084270\n",
       "14    38.336111\n",
       "15    34.413866\n",
       "16    35.336957\n",
       "17    41.000000\n",
       "18    32.687500\n",
       "19    10.833333\n",
       "20    26.225000\n",
       "22    22.386364\n",
       "23    25.000000\n",
       "24    18.881579\n",
       "26    16.333333\n",
       "30     7.678571"
      ]
     },
     "execution_count": 33,
     "metadata": {},
     "output_type": "execute_result"
    }
   ],
   "source": [
    "pivot_other3 = pd.pivot_table(data_pre, index='Reps', values='Weight',aggfunc='mean')\n",
    "pivot_other3"
   ]
  },
  {
   "cell_type": "code",
   "execution_count": 34,
   "id": "f3b77d2b",
   "metadata": {
    "execution": {
     "iopub.execute_input": "2024-03-15T03:23:11.627543Z",
     "iopub.status.busy": "2024-03-15T03:23:11.627130Z",
     "iopub.status.idle": "2024-03-15T03:23:12.032948Z",
     "shell.execute_reply": "2024-03-15T03:23:12.031697Z"
    },
    "papermill": {
     "duration": 0.443476,
     "end_time": "2024-03-15T03:23:12.035484",
     "exception": false,
     "start_time": "2024-03-15T03:23:11.592008",
     "status": "completed"
    },
    "tags": []
   },
   "outputs": [
    {
     "data": {
      "image/png": "[encoded data removed]",
      "text/plain": [
       "<Figure size 1000x600 with 1 Axes>"
      ]
     },
     "metadata": {},
     "output_type": "display_data"
    }
   ],
   "source": [
    "plt.figure(figsize=(10,6))\n",
    "sns.barplot(x=pivot_other3.index, y='Weight', data=pivot_other3 ,palette = 'Pastel2')\n",
    "plt.xlabel('Reps')\n",
    "plt.ylabel('Weight (average)')\n",
    "plt.title('Weight by Reps')\n",
    "plt.show()"
   ]
  },
  {
   "cell_type": "markdown",
   "id": "887135d3",
   "metadata": {
    "papermill": {
     "duration": 0.033639,
     "end_time": "2024-03-15T03:23:12.103157",
     "exception": false,
     "start_time": "2024-03-15T03:23:12.069518",
     "status": "completed"
    },
    "tags": []
   },
   "source": [
    "# Data Analysis and Modeling"
   ]
  },
  {
   "cell_type": "markdown",
   "id": "6d29769b",
   "metadata": {
    "papermill": {
     "duration": 0.033505,
     "end_time": "2024-03-15T03:23:12.170635",
     "exception": false,
     "start_time": "2024-03-15T03:23:12.137130",
     "status": "completed"
    },
    "tags": []
   },
   "source": [
    "## Check the correlation"
   ]
  },
  {
   "cell_type": "code",
   "execution_count": 35,
   "id": "d98442c4",
   "metadata": {
    "execution": {
     "iopub.execute_input": "2024-03-15T03:23:12.240862Z",
     "iopub.status.busy": "2024-03-15T03:23:12.239815Z",
     "iopub.status.idle": "2024-03-15T03:23:12.266860Z",
     "shell.execute_reply": "2024-03-15T03:23:12.265708Z"
    },
    "papermill": {
     "duration": 0.064615,
     "end_time": "2024-03-15T03:23:12.269210",
     "exception": false,
     "start_time": "2024-03-15T03:23:12.204595",
     "status": "completed"
    },
    "tags": []
   },
   "outputs": [
    {
     "data": {
      "text/html": [
       "<div>\n",
       "<style scoped>\n",
       "    .dataframe tbody tr th:only-of-type {\n",
       "        vertical-align: middle;\n",
       "    }\n",
       "\n",
       "    .dataframe tbody tr th {\n",
       "        vertical-align: top;\n",
       "    }\n",
       "\n",
       "    .dataframe thead th {\n",
       "        text-align: right;\n",
       "    }\n",
       "</style>\n",
       "<table border=\"1\" class=\"dataframe\">\n",
       "  <thead>\n",
       "    <tr style=\"text-align: right;\">\n",
       "      <th></th>\n",
       "      <th>Duration</th>\n",
       "      <th>Set Order</th>\n",
       "      <th>Weight</th>\n",
       "      <th>Reps</th>\n",
       "      <th>RPE</th>\n",
       "    </tr>\n",
       "  </thead>\n",
       "  <tbody>\n",
       "    <tr>\n",
       "      <th>count</th>\n",
       "      <td>3767.000000</td>\n",
       "      <td>3767.000000</td>\n",
       "      <td>3767.000000</td>\n",
       "      <td>3767.000000</td>\n",
       "      <td>3767.000000</td>\n",
       "    </tr>\n",
       "    <tr>\n",
       "      <th>mean</th>\n",
       "      <td>51.410406</td>\n",
       "      <td>2.166180</td>\n",
       "      <td>34.600743</td>\n",
       "      <td>9.440934</td>\n",
       "      <td>9.563048</td>\n",
       "    </tr>\n",
       "    <tr>\n",
       "      <th>std</th>\n",
       "      <td>13.392493</td>\n",
       "      <td>1.035479</td>\n",
       "      <td>17.055072</td>\n",
       "      <td>3.585338</td>\n",
       "      <td>0.684452</td>\n",
       "    </tr>\n",
       "    <tr>\n",
       "      <th>min</th>\n",
       "      <td>9.000000</td>\n",
       "      <td>1.000000</td>\n",
       "      <td>0.000000</td>\n",
       "      <td>2.000000</td>\n",
       "      <td>6.000000</td>\n",
       "    </tr>\n",
       "    <tr>\n",
       "      <th>25%</th>\n",
       "      <td>42.000000</td>\n",
       "      <td>1.000000</td>\n",
       "      <td>25.000000</td>\n",
       "      <td>7.000000</td>\n",
       "      <td>9.000000</td>\n",
       "    </tr>\n",
       "    <tr>\n",
       "      <th>50%</th>\n",
       "      <td>49.000000</td>\n",
       "      <td>2.000000</td>\n",
       "      <td>30.000000</td>\n",
       "      <td>9.000000</td>\n",
       "      <td>10.000000</td>\n",
       "    </tr>\n",
       "    <tr>\n",
       "      <th>75%</th>\n",
       "      <td>58.000000</td>\n",
       "      <td>3.000000</td>\n",
       "      <td>45.000000</td>\n",
       "      <td>11.000000</td>\n",
       "      <td>10.000000</td>\n",
       "    </tr>\n",
       "    <tr>\n",
       "      <th>max</th>\n",
       "      <td>110.000000</td>\n",
       "      <td>6.000000</td>\n",
       "      <td>195.000000</td>\n",
       "      <td>30.000000</td>\n",
       "      <td>10.000000</td>\n",
       "    </tr>\n",
       "  </tbody>\n",
       "</table>\n",
       "</div>"
      ],
      "text/plain": [
       "          Duration    Set Order       Weight         Reps          RPE\n",
       "count  3767.000000  3767.000000  3767.000000  3767.000000  3767.000000\n",
       "mean     51.410406     2.166180    34.600743     9.440934     9.563048\n",
       "std      13.392493     1.035479    17.055072     3.585338     0.684452\n",
       "min       9.000000     1.000000     0.000000     2.000000     6.000000\n",
       "25%      42.000000     1.000000    25.000000     7.000000     9.000000\n",
       "50%      49.000000     2.000000    30.000000     9.000000    10.000000\n",
       "75%      58.000000     3.000000    45.000000    11.000000    10.000000\n",
       "max     110.000000     6.000000   195.000000    30.000000    10.000000"
      ]
     },
     "execution_count": 35,
     "metadata": {},
     "output_type": "execute_result"
    }
   ],
   "source": [
    "data_pre.describe() "
   ]
  },
  {
   "cell_type": "code",
   "execution_count": 36,
   "id": "e8715a09",
   "metadata": {
    "execution": {
     "iopub.execute_input": "2024-03-15T03:23:12.342743Z",
     "iopub.status.busy": "2024-03-15T03:23:12.340782Z",
     "iopub.status.idle": "2024-03-15T03:23:12.354017Z",
     "shell.execute_reply": "2024-03-15T03:23:12.353139Z"
    },
    "papermill": {
     "duration": 0.052117,
     "end_time": "2024-03-15T03:23:12.356539",
     "exception": false,
     "start_time": "2024-03-15T03:23:12.304422",
     "status": "completed"
    },
    "tags": []
   },
   "outputs": [
    {
     "name": "stdout",
     "output_type": "stream",
     "text": [
      "<class 'pandas.core.frame.DataFrame'>\n",
      "Index: 3767 entries, 0 to 3988\n",
      "Data columns (total 7 columns):\n",
      " #   Column         Non-Null Count  Dtype  \n",
      "---  ------         --------------  -----  \n",
      " 0   Workout Name   3767 non-null   object \n",
      " 1   Duration       3767 non-null   int64  \n",
      " 2   Exercise Name  3767 non-null   object \n",
      " 3   Set Order      3767 non-null   int64  \n",
      " 4   Weight         3767 non-null   float64\n",
      " 5   Reps           3767 non-null   int64  \n",
      " 6   RPE            3767 non-null   float64\n",
      "dtypes: float64(2), int64(3), object(2)\n",
      "memory usage: 235.4+ KB\n"
     ]
    }
   ],
   "source": [
    "data_pre.info()"
   ]
  },
  {
   "cell_type": "code",
   "execution_count": 37,
   "id": "6c527c73",
   "metadata": {
    "execution": {
     "iopub.execute_input": "2024-03-15T03:23:12.429861Z",
     "iopub.status.busy": "2024-03-15T03:23:12.429391Z",
     "iopub.status.idle": "2024-03-15T03:23:12.447500Z",
     "shell.execute_reply": "2024-03-15T03:23:12.446340Z"
    },
    "papermill": {
     "duration": 0.057882,
     "end_time": "2024-03-15T03:23:12.449885",
     "exception": false,
     "start_time": "2024-03-15T03:23:12.392003",
     "status": "completed"
    },
    "tags": []
   },
   "outputs": [
    {
     "data": {
      "text/html": [
       "<div>\n",
       "<style scoped>\n",
       "    .dataframe tbody tr th:only-of-type {\n",
       "        vertical-align: middle;\n",
       "    }\n",
       "\n",
       "    .dataframe tbody tr th {\n",
       "        vertical-align: top;\n",
       "    }\n",
       "\n",
       "    .dataframe thead th {\n",
       "        text-align: right;\n",
       "    }\n",
       "</style>\n",
       "<table border=\"1\" class=\"dataframe\">\n",
       "  <thead>\n",
       "    <tr style=\"text-align: right;\">\n",
       "      <th></th>\n",
       "      <th>Duration</th>\n",
       "      <th>Set Order</th>\n",
       "      <th>Weight</th>\n",
       "      <th>Reps</th>\n",
       "      <th>RPE</th>\n",
       "    </tr>\n",
       "  </thead>\n",
       "  <tbody>\n",
       "    <tr>\n",
       "      <th>Duration</th>\n",
       "      <td>1.00</td>\n",
       "      <td>0.06</td>\n",
       "      <td>-0.03</td>\n",
       "      <td>0.30</td>\n",
       "      <td>-0.03</td>\n",
       "    </tr>\n",
       "    <tr>\n",
       "      <th>Set Order</th>\n",
       "      <td>0.06</td>\n",
       "      <td>1.00</td>\n",
       "      <td>-0.02</td>\n",
       "      <td>-0.39</td>\n",
       "      <td>0.49</td>\n",
       "    </tr>\n",
       "    <tr>\n",
       "      <th>Weight</th>\n",
       "      <td>-0.03</td>\n",
       "      <td>-0.02</td>\n",
       "      <td>1.00</td>\n",
       "      <td>-0.07</td>\n",
       "      <td>-0.08</td>\n",
       "    </tr>\n",
       "    <tr>\n",
       "      <th>Reps</th>\n",
       "      <td>0.30</td>\n",
       "      <td>-0.39</td>\n",
       "      <td>-0.07</td>\n",
       "      <td>1.00</td>\n",
       "      <td>-0.29</td>\n",
       "    </tr>\n",
       "    <tr>\n",
       "      <th>RPE</th>\n",
       "      <td>-0.03</td>\n",
       "      <td>0.49</td>\n",
       "      <td>-0.08</td>\n",
       "      <td>-0.29</td>\n",
       "      <td>1.00</td>\n",
       "    </tr>\n",
       "  </tbody>\n",
       "</table>\n",
       "</div>"
      ],
      "text/plain": [
       "           Duration  Set Order  Weight  Reps   RPE\n",
       "Duration       1.00       0.06   -0.03  0.30 -0.03\n",
       "Set Order      0.06       1.00   -0.02 -0.39  0.49\n",
       "Weight        -0.03      -0.02    1.00 -0.07 -0.08\n",
       "Reps           0.30      -0.39   -0.07  1.00 -0.29\n",
       "RPE           -0.03       0.49   -0.08 -0.29  1.00"
      ]
     },
     "execution_count": 37,
     "metadata": {},
     "output_type": "execute_result"
    }
   ],
   "source": [
    "numeric_data_pre = data_pre.select_dtypes(include=['int64','float64'])\n",
    "corr_matrix = numeric_data_pre.corr()\n",
    "round(corr_matrix,2)"
   ]
  },
  {
   "cell_type": "code",
   "execution_count": 38,
   "id": "b4432644",
   "metadata": {
    "execution": {
     "iopub.execute_input": "2024-03-15T03:23:12.523205Z",
     "iopub.status.busy": "2024-03-15T03:23:12.522825Z",
     "iopub.status.idle": "2024-03-15T03:23:12.844624Z",
     "shell.execute_reply": "2024-03-15T03:23:12.843525Z"
    },
    "papermill": {
     "duration": 0.361812,
     "end_time": "2024-03-15T03:23:12.847136",
     "exception": false,
     "start_time": "2024-03-15T03:23:12.485324",
     "status": "completed"
    },
    "tags": []
   },
   "outputs": [
    {
     "data": {
      "image/png": "[encoded data removed]",
      "text/plain": [
       "<Figure size 640x480 with 2 Axes>"
      ]
     },
     "metadata": {},
     "output_type": "display_data"
    }
   ],
   "source": [
    "# scaling : -1 ~ 1\n",
    "sns.heatmap(corr_matrix.corr(), vmin=-1, vmax=1, annot=True)\n",
    "plt.show()"
   ]
  },
  {
   "cell_type": "markdown",
   "id": "c5043ceb",
   "metadata": {
    "papermill": {
     "duration": 0.040933,
     "end_time": "2024-03-15T03:23:12.924095",
     "exception": false,
     "start_time": "2024-03-15T03:23:12.883162",
     "status": "completed"
    },
    "tags": []
   },
   "source": [
    "## Data Preprocessing For Model"
   ]
  },
  {
   "cell_type": "code",
   "execution_count": 39,
   "id": "93db0a00",
   "metadata": {
    "execution": {
     "iopub.execute_input": "2024-03-15T03:23:12.997844Z",
     "iopub.status.busy": "2024-03-15T03:23:12.997398Z",
     "iopub.status.idle": "2024-03-15T03:23:13.033737Z",
     "shell.execute_reply": "2024-03-15T03:23:13.032865Z"
    },
    "papermill": {
     "duration": 0.07629,
     "end_time": "2024-03-15T03:23:13.036153",
     "exception": false,
     "start_time": "2024-03-15T03:23:12.959863",
     "status": "completed"
    },
    "tags": []
   },
   "outputs": [
    {
     "data": {
      "text/html": [
       "<div>\n",
       "<style scoped>\n",
       "    .dataframe tbody tr th:only-of-type {\n",
       "        vertical-align: middle;\n",
       "    }\n",
       "\n",
       "    .dataframe tbody tr th {\n",
       "        vertical-align: top;\n",
       "    }\n",
       "\n",
       "    .dataframe thead th {\n",
       "        text-align: right;\n",
       "    }\n",
       "</style>\n",
       "<table border=\"1\" class=\"dataframe\">\n",
       "  <thead>\n",
       "    <tr style=\"text-align: right;\">\n",
       "      <th></th>\n",
       "      <th>Duration</th>\n",
       "      <th>Set Order</th>\n",
       "      <th>Weight</th>\n",
       "      <th>Reps</th>\n",
       "      <th>RPE</th>\n",
       "      <th>Workout Name_Full Body 2</th>\n",
       "      <th>Workout Name_LEGS 1</th>\n",
       "      <th>Workout Name_PULL 1</th>\n",
       "      <th>Workout Name_PULL 2</th>\n",
       "      <th>Workout Name_PULL 3</th>\n",
       "      <th>...</th>\n",
       "      <th>Exercise Name_Seated Overhead Press (Dumbbell)</th>\n",
       "      <th>Exercise Name_Seated Row (Cable)</th>\n",
       "      <th>Exercise Name_Shrug (Dumbbell)</th>\n",
       "      <th>Exercise Name_Squat (Barbell)</th>\n",
       "      <th>Exercise Name_Tricep Pushdown (rope)</th>\n",
       "      <th>Exercise Name_Triceps Extension (Cable)</th>\n",
       "      <th>Exercise Name_Triceps Extension (Dumbbell)</th>\n",
       "      <th>Exercise Name_Triceps Pushdown (Cable - Straight Bar)</th>\n",
       "      <th>Exercise Name_Upright Row (Barbell)</th>\n",
       "      <th>Exercise Name_Upright Row (Cable)</th>\n",
       "    </tr>\n",
       "  </thead>\n",
       "  <tbody>\n",
       "    <tr>\n",
       "      <th>0</th>\n",
       "      <td>72</td>\n",
       "      <td>1</td>\n",
       "      <td>35.00</td>\n",
       "      <td>10</td>\n",
       "      <td>9.0</td>\n",
       "      <td>False</td>\n",
       "      <td>False</td>\n",
       "      <td>False</td>\n",
       "      <td>False</td>\n",
       "      <td>False</td>\n",
       "      <td>...</td>\n",
       "      <td>False</td>\n",
       "      <td>False</td>\n",
       "      <td>False</td>\n",
       "      <td>False</td>\n",
       "      <td>False</td>\n",
       "      <td>False</td>\n",
       "      <td>False</td>\n",
       "      <td>False</td>\n",
       "      <td>False</td>\n",
       "      <td>False</td>\n",
       "    </tr>\n",
       "    <tr>\n",
       "      <th>1</th>\n",
       "      <td>72</td>\n",
       "      <td>2</td>\n",
       "      <td>35.00</td>\n",
       "      <td>9</td>\n",
       "      <td>10.0</td>\n",
       "      <td>False</td>\n",
       "      <td>False</td>\n",
       "      <td>False</td>\n",
       "      <td>False</td>\n",
       "      <td>False</td>\n",
       "      <td>...</td>\n",
       "      <td>False</td>\n",
       "      <td>False</td>\n",
       "      <td>False</td>\n",
       "      <td>False</td>\n",
       "      <td>False</td>\n",
       "      <td>False</td>\n",
       "      <td>False</td>\n",
       "      <td>False</td>\n",
       "      <td>False</td>\n",
       "      <td>False</td>\n",
       "    </tr>\n",
       "    <tr>\n",
       "      <th>2</th>\n",
       "      <td>72</td>\n",
       "      <td>3</td>\n",
       "      <td>35.00</td>\n",
       "      <td>8</td>\n",
       "      <td>10.0</td>\n",
       "      <td>False</td>\n",
       "      <td>False</td>\n",
       "      <td>False</td>\n",
       "      <td>False</td>\n",
       "      <td>False</td>\n",
       "      <td>...</td>\n",
       "      <td>False</td>\n",
       "      <td>False</td>\n",
       "      <td>False</td>\n",
       "      <td>False</td>\n",
       "      <td>False</td>\n",
       "      <td>False</td>\n",
       "      <td>False</td>\n",
       "      <td>False</td>\n",
       "      <td>False</td>\n",
       "      <td>False</td>\n",
       "    </tr>\n",
       "    <tr>\n",
       "      <th>3</th>\n",
       "      <td>72</td>\n",
       "      <td>4</td>\n",
       "      <td>35.00</td>\n",
       "      <td>7</td>\n",
       "      <td>10.0</td>\n",
       "      <td>False</td>\n",
       "      <td>False</td>\n",
       "      <td>False</td>\n",
       "      <td>False</td>\n",
       "      <td>False</td>\n",
       "      <td>...</td>\n",
       "      <td>False</td>\n",
       "      <td>False</td>\n",
       "      <td>False</td>\n",
       "      <td>False</td>\n",
       "      <td>False</td>\n",
       "      <td>False</td>\n",
       "      <td>False</td>\n",
       "      <td>False</td>\n",
       "      <td>False</td>\n",
       "      <td>False</td>\n",
       "    </tr>\n",
       "    <tr>\n",
       "      <th>4</th>\n",
       "      <td>72</td>\n",
       "      <td>1</td>\n",
       "      <td>12.50</td>\n",
       "      <td>12</td>\n",
       "      <td>9.5</td>\n",
       "      <td>False</td>\n",
       "      <td>False</td>\n",
       "      <td>False</td>\n",
       "      <td>False</td>\n",
       "      <td>False</td>\n",
       "      <td>...</td>\n",
       "      <td>False</td>\n",
       "      <td>False</td>\n",
       "      <td>False</td>\n",
       "      <td>False</td>\n",
       "      <td>False</td>\n",
       "      <td>False</td>\n",
       "      <td>False</td>\n",
       "      <td>False</td>\n",
       "      <td>False</td>\n",
       "      <td>False</td>\n",
       "    </tr>\n",
       "    <tr>\n",
       "      <th>...</th>\n",
       "      <td>...</td>\n",
       "      <td>...</td>\n",
       "      <td>...</td>\n",
       "      <td>...</td>\n",
       "      <td>...</td>\n",
       "      <td>...</td>\n",
       "      <td>...</td>\n",
       "      <td>...</td>\n",
       "      <td>...</td>\n",
       "      <td>...</td>\n",
       "      <td>...</td>\n",
       "      <td>...</td>\n",
       "      <td>...</td>\n",
       "      <td>...</td>\n",
       "      <td>...</td>\n",
       "      <td>...</td>\n",
       "      <td>...</td>\n",
       "      <td>...</td>\n",
       "      <td>...</td>\n",
       "      <td>...</td>\n",
       "      <td>...</td>\n",
       "    </tr>\n",
       "    <tr>\n",
       "      <th>3984</th>\n",
       "      <td>30</td>\n",
       "      <td>4</td>\n",
       "      <td>18.00</td>\n",
       "      <td>3</td>\n",
       "      <td>10.0</td>\n",
       "      <td>False</td>\n",
       "      <td>False</td>\n",
       "      <td>False</td>\n",
       "      <td>True</td>\n",
       "      <td>False</td>\n",
       "      <td>...</td>\n",
       "      <td>False</td>\n",
       "      <td>False</td>\n",
       "      <td>False</td>\n",
       "      <td>False</td>\n",
       "      <td>False</td>\n",
       "      <td>False</td>\n",
       "      <td>False</td>\n",
       "      <td>False</td>\n",
       "      <td>False</td>\n",
       "      <td>False</td>\n",
       "    </tr>\n",
       "    <tr>\n",
       "      <th>3985</th>\n",
       "      <td>30</td>\n",
       "      <td>1</td>\n",
       "      <td>41.25</td>\n",
       "      <td>12</td>\n",
       "      <td>9.5</td>\n",
       "      <td>False</td>\n",
       "      <td>False</td>\n",
       "      <td>False</td>\n",
       "      <td>True</td>\n",
       "      <td>False</td>\n",
       "      <td>...</td>\n",
       "      <td>False</td>\n",
       "      <td>True</td>\n",
       "      <td>False</td>\n",
       "      <td>False</td>\n",
       "      <td>False</td>\n",
       "      <td>False</td>\n",
       "      <td>False</td>\n",
       "      <td>False</td>\n",
       "      <td>False</td>\n",
       "      <td>False</td>\n",
       "    </tr>\n",
       "    <tr>\n",
       "      <th>3986</th>\n",
       "      <td>30</td>\n",
       "      <td>2</td>\n",
       "      <td>41.25</td>\n",
       "      <td>8</td>\n",
       "      <td>10.0</td>\n",
       "      <td>False</td>\n",
       "      <td>False</td>\n",
       "      <td>False</td>\n",
       "      <td>True</td>\n",
       "      <td>False</td>\n",
       "      <td>...</td>\n",
       "      <td>False</td>\n",
       "      <td>True</td>\n",
       "      <td>False</td>\n",
       "      <td>False</td>\n",
       "      <td>False</td>\n",
       "      <td>False</td>\n",
       "      <td>False</td>\n",
       "      <td>False</td>\n",
       "      <td>False</td>\n",
       "      <td>False</td>\n",
       "    </tr>\n",
       "    <tr>\n",
       "      <th>3987</th>\n",
       "      <td>30</td>\n",
       "      <td>3</td>\n",
       "      <td>41.25</td>\n",
       "      <td>5</td>\n",
       "      <td>10.0</td>\n",
       "      <td>False</td>\n",
       "      <td>False</td>\n",
       "      <td>False</td>\n",
       "      <td>True</td>\n",
       "      <td>False</td>\n",
       "      <td>...</td>\n",
       "      <td>False</td>\n",
       "      <td>True</td>\n",
       "      <td>False</td>\n",
       "      <td>False</td>\n",
       "      <td>False</td>\n",
       "      <td>False</td>\n",
       "      <td>False</td>\n",
       "      <td>False</td>\n",
       "      <td>False</td>\n",
       "      <td>False</td>\n",
       "    </tr>\n",
       "    <tr>\n",
       "      <th>3988</th>\n",
       "      <td>30</td>\n",
       "      <td>4</td>\n",
       "      <td>41.25</td>\n",
       "      <td>4</td>\n",
       "      <td>10.0</td>\n",
       "      <td>False</td>\n",
       "      <td>False</td>\n",
       "      <td>False</td>\n",
       "      <td>True</td>\n",
       "      <td>False</td>\n",
       "      <td>...</td>\n",
       "      <td>False</td>\n",
       "      <td>True</td>\n",
       "      <td>False</td>\n",
       "      <td>False</td>\n",
       "      <td>False</td>\n",
       "      <td>False</td>\n",
       "      <td>False</td>\n",
       "      <td>False</td>\n",
       "      <td>False</td>\n",
       "      <td>False</td>\n",
       "    </tr>\n",
       "  </tbody>\n",
       "</table>\n",
       "<p>3767 rows × 56 columns</p>\n",
       "</div>"
      ],
      "text/plain": [
       "      Duration  Set Order  Weight  Reps   RPE  Workout Name_Full Body 2  \\\n",
       "0           72          1   35.00    10   9.0                     False   \n",
       "1           72          2   35.00     9  10.0                     False   \n",
       "2           72          3   35.00     8  10.0                     False   \n",
       "3           72          4   35.00     7  10.0                     False   \n",
       "4           72          1   12.50    12   9.5                     False   \n",
       "...        ...        ...     ...   ...   ...                       ...   \n",
       "3984        30          4   18.00     3  10.0                     False   \n",
       "3985        30          1   41.25    12   9.5                     False   \n",
       "3986        30          2   41.25     8  10.0                     False   \n",
       "3987        30          3   41.25     5  10.0                     False   \n",
       "3988        30          4   41.25     4  10.0                     False   \n",
       "\n",
       "      Workout Name_LEGS 1  Workout Name_PULL 1  Workout Name_PULL 2   \\\n",
       "0                   False                False                 False   \n",
       "1                   False                False                 False   \n",
       "2                   False                False                 False   \n",
       "3                   False                False                 False   \n",
       "4                   False                False                 False   \n",
       "...                   ...                  ...                   ...   \n",
       "3984                False                False                  True   \n",
       "3985                False                False                  True   \n",
       "3986                False                False                  True   \n",
       "3987                False                False                  True   \n",
       "3988                False                False                  True   \n",
       "\n",
       "      Workout Name_PULL 3  ...  \\\n",
       "0                   False  ...   \n",
       "1                   False  ...   \n",
       "2                   False  ...   \n",
       "3                   False  ...   \n",
       "4                   False  ...   \n",
       "...                   ...  ...   \n",
       "3984                False  ...   \n",
       "3985                False  ...   \n",
       "3986                False  ...   \n",
       "3987                False  ...   \n",
       "3988                False  ...   \n",
       "\n",
       "      Exercise Name_Seated Overhead Press (Dumbbell)  \\\n",
       "0                                              False   \n",
       "1                                              False   \n",
       "2                                              False   \n",
       "3                                              False   \n",
       "4                                              False   \n",
       "...                                              ...   \n",
       "3984                                           False   \n",
       "3985                                           False   \n",
       "3986                                           False   \n",
       "3987                                           False   \n",
       "3988                                           False   \n",
       "\n",
       "      Exercise Name_Seated Row (Cable)  Exercise Name_Shrug (Dumbbell)  \\\n",
       "0                                False                           False   \n",
       "1                                False                           False   \n",
       "2                                False                           False   \n",
       "3                                False                           False   \n",
       "4                                False                           False   \n",
       "...                                ...                             ...   \n",
       "3984                             False                           False   \n",
       "3985                              True                           False   \n",
       "3986                              True                           False   \n",
       "3987                              True                           False   \n",
       "3988                              True                           False   \n",
       "\n",
       "      Exercise Name_Squat (Barbell)  Exercise Name_Tricep Pushdown (rope)  \\\n",
       "0                             False                                 False   \n",
       "1                             False                                 False   \n",
       "2                             False                                 False   \n",
       "3                             False                                 False   \n",
       "4                             False                                 False   \n",
       "...                             ...                                   ...   \n",
       "3984                          False                                 False   \n",
       "3985                          False                                 False   \n",
       "3986                          False                                 False   \n",
       "3987                          False                                 False   \n",
       "3988                          False                                 False   \n",
       "\n",
       "      Exercise Name_Triceps Extension (Cable)  \\\n",
       "0                                       False   \n",
       "1                                       False   \n",
       "2                                       False   \n",
       "3                                       False   \n",
       "4                                       False   \n",
       "...                                       ...   \n",
       "3984                                    False   \n",
       "3985                                    False   \n",
       "3986                                    False   \n",
       "3987                                    False   \n",
       "3988                                    False   \n",
       "\n",
       "      Exercise Name_Triceps Extension (Dumbbell)  \\\n",
       "0                                          False   \n",
       "1                                          False   \n",
       "2                                          False   \n",
       "3                                          False   \n",
       "4                                          False   \n",
       "...                                          ...   \n",
       "3984                                       False   \n",
       "3985                                       False   \n",
       "3986                                       False   \n",
       "3987                                       False   \n",
       "3988                                       False   \n",
       "\n",
       "      Exercise Name_Triceps Pushdown (Cable - Straight Bar)  \\\n",
       "0                                                 False       \n",
       "1                                                 False       \n",
       "2                                                 False       \n",
       "3                                                 False       \n",
       "4                                                 False       \n",
       "...                                                 ...       \n",
       "3984                                              False       \n",
       "3985                                              False       \n",
       "3986                                              False       \n",
       "3987                                              False       \n",
       "3988                                              False       \n",
       "\n",
       "      Exercise Name_Upright Row (Barbell)  Exercise Name_Upright Row (Cable)  \n",
       "0                                   False                              False  \n",
       "1                                   False                              False  \n",
       "2                                   False                              False  \n",
       "3                                   False                              False  \n",
       "4                                   False                              False  \n",
       "...                                   ...                                ...  \n",
       "3984                                False                              False  \n",
       "3985                                False                              False  \n",
       "3986                                False                              False  \n",
       "3987                                False                              False  \n",
       "3988                                False                              False  \n",
       "\n",
       "[3767 rows x 56 columns]"
      ]
     },
     "execution_count": 39,
     "metadata": {},
     "output_type": "execute_result"
    }
   ],
   "source": [
    "data_pre = pd.get_dummies(data_pre, columns=['Workout Name', 'Exercise Name'], drop_first=True)\n",
    "data_pre"
   ]
  },
  {
   "cell_type": "markdown",
   "id": "bbd0a869",
   "metadata": {
    "papermill": {
     "duration": 0.035521,
     "end_time": "2024-03-15T03:23:13.108493",
     "exception": false,
     "start_time": "2024-03-15T03:23:13.072972",
     "status": "completed"
    },
    "tags": []
   },
   "source": [
    "> # Modeling : Linear Regression"
   ]
  },
  {
   "cell_type": "markdown",
   "id": "3c4e0fc8",
   "metadata": {
    "papermill": {
     "duration": 0.035744,
     "end_time": "2024-03-15T03:23:13.181165",
     "exception": false,
     "start_time": "2024-03-15T03:23:13.145421",
     "status": "completed"
    },
    "tags": []
   },
   "source": [
    "### *Modeling*"
   ]
  },
  {
   "cell_type": "code",
   "execution_count": 40,
   "id": "8c43cfc7",
   "metadata": {
    "execution": {
     "iopub.execute_input": "2024-03-15T03:23:13.256997Z",
     "iopub.status.busy": "2024-03-15T03:23:13.256266Z",
     "iopub.status.idle": "2024-03-15T03:23:13.319776Z",
     "shell.execute_reply": "2024-03-15T03:23:13.317807Z"
    },
    "papermill": {
     "duration": 0.106393,
     "end_time": "2024-03-15T03:23:13.324177",
     "exception": false,
     "start_time": "2024-03-15T03:23:13.217784",
     "status": "completed"
    },
    "tags": []
   },
   "outputs": [],
   "source": [
    "X = data_pre.drop('RPE', axis=1)\n",
    "y = data_pre['RPE']\n",
    "X_train, X_test, y_train, y_test = train_test_split(X,y, test_size=0.2, random_state=100)\n",
    "\n",
    "model_LR = LinearRegression()\n",
    "model_LR.fit(X_train,y_train)\n",
    "\n",
    "pred_LR = model_LR.predict(X_test)"
   ]
  },
  {
   "cell_type": "markdown",
   "id": "5b18e821",
   "metadata": {
    "papermill": {
     "duration": 0.058995,
     "end_time": "2024-03-15T03:23:13.460409",
     "exception": false,
     "start_time": "2024-03-15T03:23:13.401414",
     "status": "completed"
    },
    "tags": []
   },
   "source": [
    "### *evaluation*"
   ]
  },
  {
   "cell_type": "code",
   "execution_count": 41,
   "id": "0f6957b5",
   "metadata": {
    "execution": {
     "iopub.execute_input": "2024-03-15T03:23:13.534575Z",
     "iopub.status.busy": "2024-03-15T03:23:13.534186Z",
     "iopub.status.idle": "2024-03-15T03:23:13.542201Z",
     "shell.execute_reply": "2024-03-15T03:23:13.541127Z"
    },
    "papermill": {
     "duration": 0.047918,
     "end_time": "2024-03-15T03:23:13.544477",
     "exception": false,
     "start_time": "2024-03-15T03:23:13.496559",
     "status": "completed"
    },
    "tags": []
   },
   "outputs": [
    {
     "name": "stdout",
     "output_type": "stream",
     "text": [
      "RMSE : 0.5\n",
      "R2 : 0.51\n"
     ]
    }
   ],
   "source": [
    "RMSE_L  = mean_squared_error(y_test, pred_LR) ** 0.5\n",
    "R2_L = r2_score(y_test, pred_LR)\n",
    "\n",
    "print(\"RMSE :\",round(RMSE_L,2))\n",
    "print(\"R2 :\",round(R2_L,2))"
   ]
  },
  {
   "cell_type": "markdown",
   "id": "686da9d6",
   "metadata": {
    "papermill": {
     "duration": 0.036666,
     "end_time": "2024-03-15T03:23:13.618042",
     "exception": false,
     "start_time": "2024-03-15T03:23:13.581376",
     "status": "completed"
    },
    "tags": []
   },
   "source": [
    "> # Modeling : Random Forest"
   ]
  },
  {
   "cell_type": "markdown",
   "id": "7967abbd",
   "metadata": {
    "papermill": {
     "duration": 0.03614,
     "end_time": "2024-03-15T03:23:13.690693",
     "exception": false,
     "start_time": "2024-03-15T03:23:13.654553",
     "status": "completed"
    },
    "tags": []
   },
   "source": [
    "### *Modeling*"
   ]
  },
  {
   "cell_type": "code",
   "execution_count": 42,
   "id": "e3a33663",
   "metadata": {
    "execution": {
     "iopub.execute_input": "2024-03-15T03:23:13.765720Z",
     "iopub.status.busy": "2024-03-15T03:23:13.764996Z",
     "iopub.status.idle": "2024-03-15T03:23:14.913034Z",
     "shell.execute_reply": "2024-03-15T03:23:14.911810Z"
    },
    "papermill": {
     "duration": 1.188898,
     "end_time": "2024-03-15T03:23:14.915841",
     "exception": false,
     "start_time": "2024-03-15T03:23:13.726943",
     "status": "completed"
    },
    "tags": []
   },
   "outputs": [],
   "source": [
    "model_RF = RandomForestRegressor(random_state=100)\n",
    "model_RF.fit(X_train,y_train)\n",
    "train_pred = model_RF.predict(X_train)\n",
    "test_pred = model_RF.predict(X_test)"
   ]
  },
  {
   "cell_type": "markdown",
   "id": "01bc983e",
   "metadata": {
    "papermill": {
     "duration": 0.036436,
     "end_time": "2024-03-15T03:23:14.989363",
     "exception": false,
     "start_time": "2024-03-15T03:23:14.952927",
     "status": "completed"
    },
    "tags": []
   },
   "source": [
    "### *evaluation*"
   ]
  },
  {
   "cell_type": "code",
   "execution_count": 43,
   "id": "4af2fc29",
   "metadata": {
    "execution": {
     "iopub.execute_input": "2024-03-15T03:23:15.065580Z",
     "iopub.status.busy": "2024-03-15T03:23:15.065166Z",
     "iopub.status.idle": "2024-03-15T03:23:15.073961Z",
     "shell.execute_reply": "2024-03-15T03:23:15.072759Z"
    },
    "papermill": {
     "duration": 0.050067,
     "end_time": "2024-03-15T03:23:15.076319",
     "exception": false,
     "start_time": "2024-03-15T03:23:15.026252",
     "status": "completed"
    },
    "tags": []
   },
   "outputs": [
    {
     "name": "stdout",
     "output_type": "stream",
     "text": [
      "Train_RMSE : 0.13\n",
      "Test_RMSE : 0.36\n"
     ]
    }
   ],
   "source": [
    "Train_RMSE = mean_squared_error(y_train, train_pred) ** 0.5\n",
    "Test_RMSE = mean_squared_error(y_test, test_pred) ** 0.5\n",
    "\n",
    "print(\"Train_RMSE :\",round(Train_RMSE,2))\n",
    "print(\"Test_RMSE :\",round(Test_RMSE,2))"
   ]
  },
  {
   "cell_type": "markdown",
   "id": "c034d4c1",
   "metadata": {
    "papermill": {
     "duration": 0.036499,
     "end_time": "2024-03-15T03:23:15.151535",
     "exception": false,
     "start_time": "2024-03-15T03:23:15.115036",
     "status": "completed"
    },
    "tags": []
   },
   "source": [
    "> # Modeling : XGBoost"
   ]
  },
  {
   "cell_type": "markdown",
   "id": "702e66a6",
   "metadata": {
    "papermill": {
     "duration": 0.036044,
     "end_time": "2024-03-15T03:23:15.224257",
     "exception": false,
     "start_time": "2024-03-15T03:23:15.188213",
     "status": "completed"
    },
    "tags": []
   },
   "source": [
    "### *Modeling*"
   ]
  },
  {
   "cell_type": "code",
   "execution_count": 44,
   "id": "90205c19",
   "metadata": {
    "execution": {
     "iopub.execute_input": "2024-03-15T03:23:15.300547Z",
     "iopub.status.busy": "2024-03-15T03:23:15.300165Z",
     "iopub.status.idle": "2024-03-15T03:23:15.565364Z",
     "shell.execute_reply": "2024-03-15T03:23:15.564423Z"
    },
    "papermill": {
     "duration": 0.307038,
     "end_time": "2024-03-15T03:23:15.567963",
     "exception": false,
     "start_time": "2024-03-15T03:23:15.260925",
     "status": "completed"
    },
    "tags": []
   },
   "outputs": [],
   "source": [
    "model_XGB = xgb.XGBRegressor()\n",
    "model_XGB.fit(X_train,y_train)\n",
    "pred_XGB = model_XGB.predict(X_test)"
   ]
  },
  {
   "cell_type": "markdown",
   "id": "4cab8ca0",
   "metadata": {
    "papermill": {
     "duration": 0.035889,
     "end_time": "2024-03-15T03:23:15.642788",
     "exception": false,
     "start_time": "2024-03-15T03:23:15.606899",
     "status": "completed"
    },
    "tags": []
   },
   "source": [
    "### *evaluation*"
   ]
  },
  {
   "cell_type": "code",
   "execution_count": 45,
   "id": "21d2e519",
   "metadata": {
    "execution": {
     "iopub.execute_input": "2024-03-15T03:23:15.717896Z",
     "iopub.status.busy": "2024-03-15T03:23:15.717503Z",
     "iopub.status.idle": "2024-03-15T03:23:15.725969Z",
     "shell.execute_reply": "2024-03-15T03:23:15.725098Z"
    },
    "papermill": {
     "duration": 0.049412,
     "end_time": "2024-03-15T03:23:15.728901",
     "exception": false,
     "start_time": "2024-03-15T03:23:15.679489",
     "status": "completed"
    },
    "tags": []
   },
   "outputs": [
    {
     "name": "stdout",
     "output_type": "stream",
     "text": [
      "RMSE : 0.35\n",
      "R2 : 0.75\n"
     ]
    }
   ],
   "source": [
    "RMSE_XGB = mean_squared_error(y_test, pred_XGB) ** 0.5\n",
    "R2_XGB = r2_score(y_test, pred_XGB)\n",
    "\n",
    "print(\"RMSE :\",round(RMSE_XGB,2))\n",
    "print(\"R2 :\",round(R2_XGB,2))"
   ]
  },
  {
   "cell_type": "markdown",
   "id": "a5ec9016",
   "metadata": {
    "papermill": {
     "duration": 0.036122,
     "end_time": "2024-03-15T03:23:15.801501",
     "exception": false,
     "start_time": "2024-03-15T03:23:15.765379",
     "status": "completed"
    },
    "tags": []
   },
   "source": [
    "### *Grid Search*"
   ]
  },
  {
   "cell_type": "code",
   "execution_count": 46,
   "id": "a3d236e4",
   "metadata": {
    "execution": {
     "iopub.execute_input": "2024-03-15T03:23:15.875765Z",
     "iopub.status.busy": "2024-03-15T03:23:15.875334Z",
     "iopub.status.idle": "2024-03-15T03:30:17.875792Z",
     "shell.execute_reply": "2024-03-15T03:30:17.874649Z"
    },
    "papermill": {
     "duration": 422.07541,
     "end_time": "2024-03-15T03:30:17.913262",
     "exception": false,
     "start_time": "2024-03-15T03:23:15.837852",
     "status": "completed"
    },
    "tags": []
   },
   "outputs": [
    {
     "name": "stdout",
     "output_type": "stream",
     "text": [
      "Best Parameters: {'learning_rate': 0.01, 'max_depth': 10, 'n_estimators': 1000, 'subsample': 0.5}\n"
     ]
    }
   ],
   "source": [
    "param_grid = {\n",
    "    'learning_rate':[0.01,0.1,0.3],\n",
    "    'max_depth':[5,7,10],         \n",
    "    'subsample':[0.5,0.7,1],\n",
    "    'n_estimators':[300,500,1000]\n",
    "}\n",
    "                    \n",
    "score = make_scorer(mean_squared_error, greater_is_better=False)\n",
    "grid_search = GridSearchCV(estimator=model_XGB, param_grid=param_grid, scoring=score, cv=5)\n",
    "grid_search.fit(X_train, y_train)\n",
    "\n",
    "print(\"Best Parameters:\", grid_search.best_params_)"
   ]
  },
  {
   "cell_type": "code",
   "execution_count": 47,
   "id": "c218b283",
   "metadata": {
    "execution": {
     "iopub.execute_input": "2024-03-15T03:30:17.989661Z",
     "iopub.status.busy": "2024-03-15T03:30:17.989242Z",
     "iopub.status.idle": "2024-03-15T03:30:18.030727Z",
     "shell.execute_reply": "2024-03-15T03:30:18.029552Z"
    },
    "papermill": {
     "duration": 0.083099,
     "end_time": "2024-03-15T03:30:18.033095",
     "exception": false,
     "start_time": "2024-03-15T03:30:17.949996",
     "status": "completed"
    },
    "tags": []
   },
   "outputs": [
    {
     "name": "stdout",
     "output_type": "stream",
     "text": [
      "RMSE : 0.34\n",
      "R2 : 0.77\n"
     ]
    }
   ],
   "source": [
    "best_model_XGB = grid_search.best_estimator_\n",
    "best_pred_XGB = best_model_XGB.predict(X_test)\n",
    "\n",
    "RMSE_R = mean_squared_error(y_test,best_pred_XGB) ** 0.5\n",
    "R2_R = r2_score(y_test,best_pred_XGB)\n",
    "\n",
    "print(\"RMSE :\",round(RMSE_R,2))\n",
    "print(\"R2 :\",round(R2_R,2))"
   ]
  },
  {
   "cell_type": "markdown",
   "id": "584f746e",
   "metadata": {
    "papermill": {
     "duration": 0.035992,
     "end_time": "2024-03-15T03:30:18.106636",
     "exception": false,
     "start_time": "2024-03-15T03:30:18.070644",
     "status": "completed"
    },
    "tags": []
   },
   "source": [
    "# **Modeling Conclusion**"
   ]
  },
  {
   "cell_type": "code",
   "execution_count": 48,
   "id": "96f6dbde",
   "metadata": {
    "execution": {
     "iopub.execute_input": "2024-03-15T03:30:18.180886Z",
     "iopub.status.busy": "2024-03-15T03:30:18.180482Z",
     "iopub.status.idle": "2024-03-15T03:30:18.189358Z",
     "shell.execute_reply": "2024-03-15T03:30:18.188249Z"
    },
    "papermill": {
     "duration": 0.049011,
     "end_time": "2024-03-15T03:30:18.192098",
     "exception": false,
     "start_time": "2024-03-15T03:30:18.143087",
     "status": "completed"
    },
    "tags": []
   },
   "outputs": [
    {
     "name": "stdout",
     "output_type": "stream",
     "text": [
      "Linear Regression\n",
      "RMSE : 0.5\n",
      "R2 : 0.51\n",
      "--------------------\n",
      "Random Forest\n",
      "Train_RMSE : 0.13\n",
      "Test_RMSE : 0.36\n",
      "--------------------\n",
      "XGBoost\n",
      "RMSE : 0.35\n",
      "R2 : 0.75\n",
      "--------------------\n",
      "Best_XGBoost\n",
      "RMSE : 0.34\n",
      "R2 : 0.77\n"
     ]
    }
   ],
   "source": [
    "print('Linear Regression')\n",
    "print(\"RMSE :\",round(RMSE_L,2))\n",
    "print(\"R2 :\",round(R2_L,2))\n",
    "print('-'*20)\n",
    "print('Random Forest')\n",
    "print(\"Train_RMSE :\",round(Train_RMSE,2))\n",
    "print(\"Test_RMSE :\",round(Test_RMSE,2))\n",
    "print('-'*20)\n",
    "print('XGBoost')\n",
    "print(\"RMSE :\",round(RMSE_XGB,2))\n",
    "print(\"R2 :\",round(R2_XGB,2))\n",
    "print('-'*20)\n",
    "print('Best_XGBoost')\n",
    "print(\"RMSE :\",round(RMSE_R,2))\n",
    "print(\"R2 :\",round(R2_R,2))"
   ]
  },
  {
   "cell_type": "markdown",
   "id": "107156b4",
   "metadata": {
    "papermill": {
     "duration": 0.03611,
     "end_time": "2024-03-15T03:30:18.264645",
     "exception": false,
     "start_time": "2024-03-15T03:30:18.228535",
     "status": "completed"
    },
    "tags": []
   },
   "source": [
    "# Thanks"
   ]
  }
 ],
 "metadata": {
  "kaggle": {
   "accelerator": "none",
   "dataSources": [
    {
     "datasetId": 4488672,
     "sourceId": 7691386,
     "sourceType": "datasetVersion"
    }
   ],
   "dockerImageVersionId": 30664,
   "isGpuEnabled": false,
   "isInternetEnabled": true,
   "language": "python",
   "sourceType": "notebook"
  },
  "kernelspec": {
   "display_name": "Python 3",
   "language": "python",
   "name": "python3"
  },
  "language_info": {
   "codemirror_mode": {
    "name": "ipython",
    "version": 3
   },
   "file_extension": ".py",
   "mimetype": "text/x-python",
   "name": "python",
   "nbconvert_exporter": "python",
   "pygments_lexer": "ipython3",
   "version": "3.10.13"
  },
  "papermill": {
   "default_parameters": {},
   "duration": 439.907434,
   "end_time": "2024-03-15T03:30:19.025664",
   "environment_variables": {},
   "exception": null,
   "input_path": "__notebook__.ipynb",
   "output_path": "__notebook__.ipynb",
   "parameters": {},
   "start_time": "2024-03-15T03:22:59.118230",
   "version": "2.5.0"
  }
 },
 "nbformat": 4,
 "nbformat_minor": 5
}
