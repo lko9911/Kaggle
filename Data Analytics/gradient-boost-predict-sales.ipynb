{
 "cells": [
  {
   "cell_type": "markdown",
   "id": "dcfc672e",
   "metadata": {
    "papermill": {
     "duration": 0.005025,
     "end_time": "2024-04-16T04:18:57.373992",
     "exception": false,
     "start_time": "2024-04-16T04:18:57.368967",
     "status": "completed"
    },
    "tags": []
   },
   "source": [
    "# Project : predict \"Sales\" "
   ]
  },
  {
   "cell_type": "markdown",
   "id": "57906b41",
   "metadata": {
    "papermill": {
     "duration": 0.004166,
     "end_time": "2024-04-16T04:18:57.383423",
     "exception": false,
     "start_time": "2024-04-16T04:18:57.379257",
     "status": "completed"
    },
    "tags": []
   },
   "source": [
    "# Import Libraries & Read Dataset"
   ]
  },
  {
   "cell_type": "code",
   "execution_count": 1,
   "id": "f3cdad22",
   "metadata": {
    "execution": {
     "iopub.execute_input": "2024-04-16T04:18:57.393499Z",
     "iopub.status.busy": "2024-04-16T04:18:57.393105Z",
     "iopub.status.idle": "2024-04-16T04:18:57.663024Z",
     "shell.execute_reply": "2024-04-16T04:18:57.662163Z"
    },
    "papermill": {
     "duration": 0.277758,
     "end_time": "2024-04-16T04:18:57.665525",
     "exception": false,
     "start_time": "2024-04-16T04:18:57.387767",
     "status": "completed"
    },
    "tags": []
   },
   "outputs": [],
   "source": [
    "import requests\n",
    "\n",
    "url = 'https://raw.githubusercontent.com/lko9911/Kaggle/master/Compare_Regression_models.py'\n",
    "\n",
    "r = requests.get(url)\n",
    "\n",
    "with open('Compare_Regression_models.py', 'w') as f:\n",
    "    f.write(r.text)"
   ]
  },
  {
   "cell_type": "code",
   "execution_count": 2,
   "id": "e3542af9",
   "metadata": {
    "execution": {
     "iopub.execute_input": "2024-04-16T04:18:57.675931Z",
     "iopub.status.busy": "2024-04-16T04:18:57.675310Z",
     "iopub.status.idle": "2024-04-16T04:19:01.505654Z",
     "shell.execute_reply": "2024-04-16T04:19:01.504580Z"
    },
    "papermill": {
     "duration": 3.838435,
     "end_time": "2024-04-16T04:19:01.508455",
     "exception": false,
     "start_time": "2024-04-16T04:18:57.670020",
     "status": "completed"
    },
    "tags": []
   },
   "outputs": [],
   "source": [
    "# For Compare modeling\n",
    "from Compare_Regression_models import evaluate_models\n",
    "\n",
    "# For Standard data\n",
    "from sklearn.preprocessing import StandardScaler\n",
    "\n",
    "# For Modeling\n",
    "from sklearn.model_selection import train_test_split\n",
    "from sklearn.model_selection import GridSearchCV\n",
    "from sklearn.ensemble import GradientBoostingRegressor\n",
    "\n",
    "# For Evaluate model\n",
    "from sklearn.metrics import mean_squared_error, mean_absolute_error, r2_score\n",
    "from sklearn.metrics import r2_score\n",
    "\n",
    "# For EDA\n",
    "import pandas as pd\n",
    "import numpy as np\n",
    "import matplotlib.pyplot as plt\n",
    "import seaborn as sns\n",
    "import warnings\n",
    "warnings.filterwarnings(\"ignore\", category=FutureWarning)"
   ]
  },
  {
   "cell_type": "code",
   "execution_count": 3,
   "id": "549f5545",
   "metadata": {
    "execution": {
     "iopub.execute_input": "2024-04-16T04:19:01.518773Z",
     "iopub.status.busy": "2024-04-16T04:19:01.518206Z",
     "iopub.status.idle": "2024-04-16T04:19:01.866676Z",
     "shell.execute_reply": "2024-04-16T04:19:01.865561Z"
    },
    "papermill": {
     "duration": 0.356049,
     "end_time": "2024-04-16T04:19:01.868870",
     "exception": false,
     "start_time": "2024-04-16T04:19:01.512821",
     "status": "completed"
    },
    "tags": []
   },
   "outputs": [
    {
     "data": {
      "text/html": [
       "<div>\n",
       "<style scoped>\n",
       "    .dataframe tbody tr th:only-of-type {\n",
       "        vertical-align: middle;\n",
       "    }\n",
       "\n",
       "    .dataframe tbody tr th {\n",
       "        vertical-align: top;\n",
       "    }\n",
       "\n",
       "    .dataframe thead th {\n",
       "        text-align: right;\n",
       "    }\n",
       "</style>\n",
       "<table border=\"1\" class=\"dataframe\">\n",
       "  <thead>\n",
       "    <tr style=\"text-align: right;\">\n",
       "      <th></th>\n",
       "      <th>Year</th>\n",
       "      <th>Sales</th>\n",
       "      <th>Growth</th>\n",
       "      <th>Open</th>\n",
       "      <th>High</th>\n",
       "      <th>Low</th>\n",
       "      <th>Close</th>\n",
       "    </tr>\n",
       "  </thead>\n",
       "  <tbody>\n",
       "    <tr>\n",
       "      <th>0</th>\n",
       "      <td>2006</td>\n",
       "      <td>2087</td>\n",
       "      <td>NaN</td>\n",
       "      <td>5.50</td>\n",
       "      <td>11.30</td>\n",
       "      <td>5.50</td>\n",
       "      <td>11.30</td>\n",
       "    </tr>\n",
       "    <tr>\n",
       "      <th>1</th>\n",
       "      <td>2007</td>\n",
       "      <td>2406</td>\n",
       "      <td>15.285098</td>\n",
       "      <td>11.80</td>\n",
       "      <td>26.30</td>\n",
       "      <td>11.80</td>\n",
       "      <td>23.05</td>\n",
       "    </tr>\n",
       "    <tr>\n",
       "      <th>2</th>\n",
       "      <td>2008</td>\n",
       "      <td>2430</td>\n",
       "      <td>0.997506</td>\n",
       "      <td>22.43</td>\n",
       "      <td>51.13</td>\n",
       "      <td>22.00</td>\n",
       "      <td>35.90</td>\n",
       "    </tr>\n",
       "    <tr>\n",
       "      <th>3</th>\n",
       "      <td>2009</td>\n",
       "      <td>1515</td>\n",
       "      <td>-37.654321</td>\n",
       "      <td>34.48</td>\n",
       "      <td>37.50</td>\n",
       "      <td>11.18</td>\n",
       "      <td>11.18</td>\n",
       "    </tr>\n",
       "    <tr>\n",
       "      <th>4</th>\n",
       "      <td>2010</td>\n",
       "      <td>1302</td>\n",
       "      <td>-14.059406</td>\n",
       "      <td>10.75</td>\n",
       "      <td>15.38</td>\n",
       "      <td>8.49</td>\n",
       "      <td>14.80</td>\n",
       "    </tr>\n",
       "    <tr>\n",
       "      <th>5</th>\n",
       "      <td>2011</td>\n",
       "      <td>1602</td>\n",
       "      <td>23.041475</td>\n",
       "      <td>15.04</td>\n",
       "      <td>19.58</td>\n",
       "      <td>12.40</td>\n",
       "      <td>13.35</td>\n",
       "    </tr>\n",
       "    <tr>\n",
       "      <th>6</th>\n",
       "      <td>2012</td>\n",
       "      <td>2083</td>\n",
       "      <td>30.024969</td>\n",
       "      <td>14.03</td>\n",
       "      <td>21.31</td>\n",
       "      <td>14.03</td>\n",
       "      <td>21.31</td>\n",
       "    </tr>\n",
       "    <tr>\n",
       "      <th>7</th>\n",
       "      <td>2013</td>\n",
       "      <td>2121</td>\n",
       "      <td>1.824292</td>\n",
       "      <td>21.96</td>\n",
       "      <td>26.97</td>\n",
       "      <td>17.70</td>\n",
       "      <td>26.97</td>\n",
       "    </tr>\n",
       "    <tr>\n",
       "      <th>8</th>\n",
       "      <td>2014</td>\n",
       "      <td>2530</td>\n",
       "      <td>19.283357</td>\n",
       "      <td>26.28</td>\n",
       "      <td>26.80</td>\n",
       "      <td>19.73</td>\n",
       "      <td>22.17</td>\n",
       "    </tr>\n",
       "    <tr>\n",
       "      <th>9</th>\n",
       "      <td>2015</td>\n",
       "      <td>3245</td>\n",
       "      <td>28.260870</td>\n",
       "      <td>21.06</td>\n",
       "      <td>25.91</td>\n",
       "      <td>12.84</td>\n",
       "      <td>15.49</td>\n",
       "    </tr>\n",
       "    <tr>\n",
       "      <th>10</th>\n",
       "      <td>2016</td>\n",
       "      <td>3457</td>\n",
       "      <td>6.533128</td>\n",
       "      <td>13.21</td>\n",
       "      <td>15.96</td>\n",
       "      <td>12.50</td>\n",
       "      <td>14.77</td>\n",
       "    </tr>\n",
       "    <tr>\n",
       "      <th>11</th>\n",
       "      <td>2017</td>\n",
       "      <td>3815</td>\n",
       "      <td>10.355800</td>\n",
       "      <td>15.02</td>\n",
       "      <td>20.22</td>\n",
       "      <td>15.34</td>\n",
       "      <td>20.22</td>\n",
       "    </tr>\n",
       "    <tr>\n",
       "      <th>12</th>\n",
       "      <td>2018</td>\n",
       "      <td>5750</td>\n",
       "      <td>50.720839</td>\n",
       "      <td>21.60</td>\n",
       "      <td>22.85</td>\n",
       "      <td>15.28</td>\n",
       "      <td>16.07</td>\n",
       "    </tr>\n",
       "    <tr>\n",
       "      <th>13</th>\n",
       "      <td>2019</td>\n",
       "      <td>8205</td>\n",
       "      <td>42.695652</td>\n",
       "      <td>16.02</td>\n",
       "      <td>20.00</td>\n",
       "      <td>16.18</td>\n",
       "      <td>19.40</td>\n",
       "    </tr>\n",
       "    <tr>\n",
       "      <th>14</th>\n",
       "      <td>2020</td>\n",
       "      <td>7430</td>\n",
       "      <td>-9.445460</td>\n",
       "      <td>19.41</td>\n",
       "      <td>20.83</td>\n",
       "      <td>10.68</td>\n",
       "      <td>20.83</td>\n",
       "    </tr>\n",
       "    <tr>\n",
       "      <th>15</th>\n",
       "      <td>2021</td>\n",
       "      <td>8405</td>\n",
       "      <td>13.122476</td>\n",
       "      <td>20.79</td>\n",
       "      <td>36.21</td>\n",
       "      <td>29.20</td>\n",
       "      <td>29.20</td>\n",
       "    </tr>\n",
       "    <tr>\n",
       "      <th>16</th>\n",
       "      <td>2022</td>\n",
       "      <td>9233</td>\n",
       "      <td>9.851279</td>\n",
       "      <td>31.59</td>\n",
       "      <td>31.59</td>\n",
       "      <td>15.72</td>\n",
       "      <td>15.72</td>\n",
       "    </tr>\n",
       "    <tr>\n",
       "      <th>17</th>\n",
       "      <td>2023</td>\n",
       "      <td>10112</td>\n",
       "      <td>9.520199</td>\n",
       "      <td>17.07</td>\n",
       "      <td>18.32</td>\n",
       "      <td>11.17</td>\n",
       "      <td>12.98</td>\n",
       "    </tr>\n",
       "  </tbody>\n",
       "</table>\n",
       "</div>"
      ],
      "text/plain": [
       "    Year  Sales     Growth  Open    High    Low  Close\n",
       "0   2006   2087        NaN   5.50  11.30   5.50  11.30\n",
       "1   2007   2406  15.285098  11.80  26.30  11.80  23.05\n",
       "2   2008   2430   0.997506  22.43  51.13  22.00  35.90\n",
       "3   2009   1515 -37.654321  34.48  37.50  11.18  11.18\n",
       "4   2010   1302 -14.059406  10.75  15.38   8.49  14.80\n",
       "5   2011   1602  23.041475  15.04  19.58  12.40  13.35\n",
       "6   2012   2083  30.024969  14.03  21.31  14.03  21.31\n",
       "7   2013   2121   1.824292  21.96  26.97  17.70  26.97\n",
       "8   2014   2530  19.283357  26.28  26.80  19.73  22.17\n",
       "9   2015   3245  28.260870  21.06  25.91  12.84  15.49\n",
       "10  2016   3457   6.533128  13.21  15.96  12.50  14.77\n",
       "11  2017   3815  10.355800  15.02  20.22  15.34  20.22\n",
       "12  2018   5750  50.720839  21.60  22.85  15.28  16.07\n",
       "13  2019   8205  42.695652  16.02  20.00  16.18  19.40\n",
       "14  2020   7430  -9.445460  19.41  20.83  10.68  20.83\n",
       "15  2021   8405  13.122476  20.79  36.21  29.20  29.20\n",
       "16  2022   9233   9.851279  31.59  31.59  15.72  15.72\n",
       "17  2023  10112   9.520199  17.07  18.32  11.17  12.98"
      ]
     },
     "execution_count": 3,
     "metadata": {},
     "output_type": "execute_result"
    }
   ],
   "source": [
    "df = pd.read_excel('/kaggle/input/lamborghini-sales-and-stocks/LamboData.xlsx')\n",
    "df"
   ]
  },
  {
   "cell_type": "code",
   "execution_count": 4,
   "id": "827e946b",
   "metadata": {
    "execution": {
     "iopub.execute_input": "2024-04-16T04:19:01.880454Z",
     "iopub.status.busy": "2024-04-16T04:19:01.879872Z",
     "iopub.status.idle": "2024-04-16T04:19:01.905577Z",
     "shell.execute_reply": "2024-04-16T04:19:01.904680Z"
    },
    "papermill": {
     "duration": 0.033935,
     "end_time": "2024-04-16T04:19:01.907620",
     "exception": false,
     "start_time": "2024-04-16T04:19:01.873685",
     "status": "completed"
    },
    "tags": []
   },
   "outputs": [
    {
     "name": "stdout",
     "output_type": "stream",
     "text": [
      "<class 'pandas.core.frame.DataFrame'>\n",
      "RangeIndex: 18 entries, 0 to 17\n",
      "Data columns (total 7 columns):\n",
      " #   Column  Non-Null Count  Dtype  \n",
      "---  ------  --------------  -----  \n",
      " 0   Year    18 non-null     int64  \n",
      " 1   Sales   18 non-null     int64  \n",
      " 2   Growth  17 non-null     float64\n",
      " 3   Open    18 non-null     float64\n",
      " 4   High    18 non-null     float64\n",
      " 5   Low     18 non-null     float64\n",
      " 6   Close   18 non-null     float64\n",
      "dtypes: float64(5), int64(2)\n",
      "memory usage: 1.1 KB\n"
     ]
    }
   ],
   "source": [
    "df.info()"
   ]
  },
  {
   "cell_type": "code",
   "execution_count": 5,
   "id": "5590dc99",
   "metadata": {
    "execution": {
     "iopub.execute_input": "2024-04-16T04:19:01.919851Z",
     "iopub.status.busy": "2024-04-16T04:19:01.918705Z",
     "iopub.status.idle": "2024-04-16T04:19:01.950064Z",
     "shell.execute_reply": "2024-04-16T04:19:01.949071Z"
    },
    "papermill": {
     "duration": 0.03973,
     "end_time": "2024-04-16T04:19:01.952375",
     "exception": false,
     "start_time": "2024-04-16T04:19:01.912645",
     "status": "completed"
    },
    "tags": []
   },
   "outputs": [
    {
     "data": {
      "text/html": [
       "<div>\n",
       "<style scoped>\n",
       "    .dataframe tbody tr th:only-of-type {\n",
       "        vertical-align: middle;\n",
       "    }\n",
       "\n",
       "    .dataframe tbody tr th {\n",
       "        vertical-align: top;\n",
       "    }\n",
       "\n",
       "    .dataframe thead th {\n",
       "        text-align: right;\n",
       "    }\n",
       "</style>\n",
       "<table border=\"1\" class=\"dataframe\">\n",
       "  <thead>\n",
       "    <tr style=\"text-align: right;\">\n",
       "      <th></th>\n",
       "      <th>count</th>\n",
       "      <th>mean</th>\n",
       "      <th>std</th>\n",
       "      <th>min</th>\n",
       "      <th>25%</th>\n",
       "      <th>50%</th>\n",
       "      <th>75%</th>\n",
       "      <th>max</th>\n",
       "    </tr>\n",
       "  </thead>\n",
       "  <tbody>\n",
       "    <tr>\n",
       "      <th>Year</th>\n",
       "      <td>18.0</td>\n",
       "      <td>2014.500000</td>\n",
       "      <td>5.338539</td>\n",
       "      <td>2006.000000</td>\n",
       "      <td>2010.250000</td>\n",
       "      <td>2014.5000</td>\n",
       "      <td>2018.750000</td>\n",
       "      <td>2023.000000</td>\n",
       "    </tr>\n",
       "    <tr>\n",
       "      <th>Sales</th>\n",
       "      <td>18.0</td>\n",
       "      <td>4318.222222</td>\n",
       "      <td>2999.678150</td>\n",
       "      <td>1302.000000</td>\n",
       "      <td>2095.500000</td>\n",
       "      <td>2887.5000</td>\n",
       "      <td>7010.000000</td>\n",
       "      <td>10112.000000</td>\n",
       "    </tr>\n",
       "    <tr>\n",
       "      <th>Growth</th>\n",
       "      <td>17.0</td>\n",
       "      <td>11.785750</td>\n",
       "      <td>21.049916</td>\n",
       "      <td>-37.654321</td>\n",
       "      <td>1.824292</td>\n",
       "      <td>10.3558</td>\n",
       "      <td>23.041475</td>\n",
       "      <td>50.720839</td>\n",
       "    </tr>\n",
       "    <tr>\n",
       "      <th>Open</th>\n",
       "      <td>18.0</td>\n",
       "      <td>18.780000</td>\n",
       "      <td>7.234203</td>\n",
       "      <td>5.500000</td>\n",
       "      <td>14.277500</td>\n",
       "      <td>18.2400</td>\n",
       "      <td>21.870000</td>\n",
       "      <td>34.480000</td>\n",
       "    </tr>\n",
       "    <tr>\n",
       "      <th>High</th>\n",
       "      <td>18.0</td>\n",
       "      <td>24.897778</td>\n",
       "      <td>9.508512</td>\n",
       "      <td>11.300000</td>\n",
       "      <td>19.685000</td>\n",
       "      <td>22.0800</td>\n",
       "      <td>26.927500</td>\n",
       "      <td>51.130000</td>\n",
       "    </tr>\n",
       "    <tr>\n",
       "      <th>Low</th>\n",
       "      <td>18.0</td>\n",
       "      <td>14.541111</td>\n",
       "      <td>5.357938</td>\n",
       "      <td>5.500000</td>\n",
       "      <td>11.335000</td>\n",
       "      <td>13.4350</td>\n",
       "      <td>16.065000</td>\n",
       "      <td>29.200000</td>\n",
       "    </tr>\n",
       "    <tr>\n",
       "      <th>Close</th>\n",
       "      <td>18.0</td>\n",
       "      <td>19.150556</td>\n",
       "      <td>6.621486</td>\n",
       "      <td>11.180000</td>\n",
       "      <td>14.777500</td>\n",
       "      <td>17.7350</td>\n",
       "      <td>21.955000</td>\n",
       "      <td>35.900000</td>\n",
       "    </tr>\n",
       "  </tbody>\n",
       "</table>\n",
       "</div>"
      ],
      "text/plain": [
       "        count         mean          std          min          25%        50%  \\\n",
       "Year     18.0  2014.500000     5.338539  2006.000000  2010.250000  2014.5000   \n",
       "Sales    18.0  4318.222222  2999.678150  1302.000000  2095.500000  2887.5000   \n",
       "Growth   17.0    11.785750    21.049916   -37.654321     1.824292    10.3558   \n",
       "Open     18.0    18.780000     7.234203     5.500000    14.277500    18.2400   \n",
       "High     18.0    24.897778     9.508512    11.300000    19.685000    22.0800   \n",
       "Low      18.0    14.541111     5.357938     5.500000    11.335000    13.4350   \n",
       "Close    18.0    19.150556     6.621486    11.180000    14.777500    17.7350   \n",
       "\n",
       "                75%           max  \n",
       "Year    2018.750000   2023.000000  \n",
       "Sales   7010.000000  10112.000000  \n",
       "Growth    23.041475     50.720839  \n",
       "Open      21.870000     34.480000  \n",
       "High      26.927500     51.130000  \n",
       "Low       16.065000     29.200000  \n",
       "Close     21.955000     35.900000  "
      ]
     },
     "execution_count": 5,
     "metadata": {},
     "output_type": "execute_result"
    }
   ],
   "source": [
    "df.describe().T"
   ]
  },
  {
   "cell_type": "markdown",
   "id": "9a8d4d6c",
   "metadata": {
    "papermill": {
     "duration": 0.004724,
     "end_time": "2024-04-16T04:19:01.962263",
     "exception": false,
     "start_time": "2024-04-16T04:19:01.957539",
     "status": "completed"
    },
    "tags": []
   },
   "source": [
    "# Data Preprocessing"
   ]
  },
  {
   "cell_type": "code",
   "execution_count": 6,
   "id": "a52f276b",
   "metadata": {
    "execution": {
     "iopub.execute_input": "2024-04-16T04:19:01.973870Z",
     "iopub.status.busy": "2024-04-16T04:19:01.973517Z",
     "iopub.status.idle": "2024-04-16T04:19:01.981495Z",
     "shell.execute_reply": "2024-04-16T04:19:01.980468Z"
    },
    "papermill": {
     "duration": 0.016557,
     "end_time": "2024-04-16T04:19:01.983714",
     "exception": false,
     "start_time": "2024-04-16T04:19:01.967157",
     "status": "completed"
    },
    "tags": []
   },
   "outputs": [
    {
     "data": {
      "text/plain": [
       "Year      0.000000\n",
       "Sales     0.000000\n",
       "Growth    0.055556\n",
       "Open      0.000000\n",
       "High      0.000000\n",
       "Low       0.000000\n",
       "Close     0.000000\n",
       "dtype: float64"
      ]
     },
     "execution_count": 6,
     "metadata": {},
     "output_type": "execute_result"
    }
   ],
   "source": [
    "df.isna().mean()"
   ]
  },
  {
   "cell_type": "code",
   "execution_count": 7,
   "id": "380d94dd",
   "metadata": {
    "execution": {
     "iopub.execute_input": "2024-04-16T04:19:01.995647Z",
     "iopub.status.busy": "2024-04-16T04:19:01.995263Z",
     "iopub.status.idle": "2024-04-16T04:19:02.008186Z",
     "shell.execute_reply": "2024-04-16T04:19:02.007406Z"
    },
    "papermill": {
     "duration": 0.021183,
     "end_time": "2024-04-16T04:19:02.010100",
     "exception": false,
     "start_time": "2024-04-16T04:19:01.988917",
     "status": "completed"
    },
    "tags": []
   },
   "outputs": [
    {
     "name": "stdout",
     "output_type": "stream",
     "text": [
      "<class 'pandas.core.frame.DataFrame'>\n",
      "Index: 17 entries, 1 to 17\n",
      "Data columns (total 7 columns):\n",
      " #   Column  Non-Null Count  Dtype  \n",
      "---  ------  --------------  -----  \n",
      " 0   Year    17 non-null     int64  \n",
      " 1   Sales   17 non-null     int64  \n",
      " 2   Growth  17 non-null     float64\n",
      " 3   Open    17 non-null     float64\n",
      " 4   High    17 non-null     float64\n",
      " 5   Low     17 non-null     float64\n",
      " 6   Close   17 non-null     float64\n",
      "dtypes: float64(5), int64(2)\n",
      "memory usage: 1.1 KB\n"
     ]
    }
   ],
   "source": [
    "df.dropna(inplace = True)\n",
    "df.info()"
   ]
  },
  {
   "cell_type": "markdown",
   "id": "160a71e5",
   "metadata": {
    "papermill": {
     "duration": 0.005061,
     "end_time": "2024-04-16T04:19:02.020527",
     "exception": false,
     "start_time": "2024-04-16T04:19:02.015466",
     "status": "completed"
    },
    "tags": []
   },
   "source": [
    "# Compare models"
   ]
  },
  {
   "cell_type": "code",
   "execution_count": 8,
   "id": "10204865",
   "metadata": {
    "execution": {
     "iopub.execute_input": "2024-04-16T04:19:02.032673Z",
     "iopub.status.busy": "2024-04-16T04:19:02.032296Z",
     "iopub.status.idle": "2024-04-16T04:19:02.453351Z",
     "shell.execute_reply": "2024-04-16T04:19:02.452611Z"
    },
    "papermill": {
     "duration": 0.43198,
     "end_time": "2024-04-16T04:19:02.457765",
     "exception": false,
     "start_time": "2024-04-16T04:19:02.025785",
     "status": "completed"
    },
    "tags": []
   },
   "outputs": [
    {
     "name": "stdout",
     "output_type": "stream",
     "text": [
      "[LightGBM] [Warning] There are no meaningful features which satisfy the provided configuration. Decreasing Dataset parameters min_data_in_bin or min_data_in_leaf and re-constructing Dataset might resolve this warning.\n",
      "[LightGBM] [Info] Total Bins 0\n",
      "[LightGBM] [Info] Number of data points in the train set: 13, number of used features: 0\n",
      "[LightGBM] [Info] Start training from score 4576.076923\n",
      "[LightGBM] [Warning] Stopped training because there are no more leaves that meet the split requirements\n",
      "[LightGBM] [Warning] Stopped training because there are no more leaves that meet the split requirements\n",
      "[LightGBM] [Warning] Stopped training because there are no more leaves that meet the split requirements\n",
      "[LightGBM] [Warning] Stopped training because there are no more leaves that meet the split requirements\n",
      "[LightGBM] [Warning] Stopped training because there are no more leaves that meet the split requirements\n",
      "[LightGBM] [Warning] Stopped training because there are no more leaves that meet the split requirements\n",
      "[LightGBM] [Warning] Stopped training because there are no more leaves that meet the split requirements\n",
      "[LightGBM] [Warning] Stopped training because there are no more leaves that meet the split requirements\n",
      "[LightGBM] [Warning] Stopped training because there are no more leaves that meet the split requirements\n",
      "[LightGBM] [Warning] Stopped training because there are no more leaves that meet the split requirements\n",
      "[LightGBM] [Warning] Stopped training because there are no more leaves that meet the split requirements\n",
      "[LightGBM] [Warning] Stopped training because there are no more leaves that meet the split requirements\n",
      "[LightGBM] [Warning] Stopped training because there are no more leaves that meet the split requirements\n",
      "[LightGBM] [Warning] Stopped training because there are no more leaves that meet the split requirements\n",
      "[LightGBM] [Warning] Stopped training because there are no more leaves that meet the split requirements\n",
      "[LightGBM] [Warning] Stopped training because there are no more leaves that meet the split requirements\n",
      "[LightGBM] [Warning] Stopped training because there are no more leaves that meet the split requirements\n",
      "[LightGBM] [Warning] Stopped training because there are no more leaves that meet the split requirements\n",
      "[LightGBM] [Warning] Stopped training because there are no more leaves that meet the split requirements\n",
      "[LightGBM] [Warning] Stopped training because there are no more leaves that meet the split requirements\n",
      "[LightGBM] [Warning] Stopped training because there are no more leaves that meet the split requirements\n",
      "[LightGBM] [Warning] Stopped training because there are no more leaves that meet the split requirements\n",
      "[LightGBM] [Warning] Stopped training because there are no more leaves that meet the split requirements\n",
      "[LightGBM] [Warning] Stopped training because there are no more leaves that meet the split requirements\n",
      "[LightGBM] [Warning] Stopped training because there are no more leaves that meet the split requirements\n",
      "[LightGBM] [Warning] Stopped training because there are no more leaves that meet the split requirements\n",
      "[LightGBM] [Warning] Stopped training because there are no more leaves that meet the split requirements\n",
      "[LightGBM] [Warning] Stopped training because there are no more leaves that meet the split requirements\n",
      "[LightGBM] [Warning] Stopped training because there are no more leaves that meet the split requirements\n",
      "[LightGBM] [Warning] Stopped training because there are no more leaves that meet the split requirements\n",
      "[LightGBM] [Warning] Stopped training because there are no more leaves that meet the split requirements\n",
      "[LightGBM] [Warning] Stopped training because there are no more leaves that meet the split requirements\n",
      "[LightGBM] [Warning] Stopped training because there are no more leaves that meet the split requirements\n",
      "[LightGBM] [Warning] Stopped training because there are no more leaves that meet the split requirements\n",
      "[LightGBM] [Warning] Stopped training because there are no more leaves that meet the split requirements\n",
      "[LightGBM] [Warning] Stopped training because there are no more leaves that meet the split requirements\n",
      "[LightGBM] [Warning] Stopped training because there are no more leaves that meet the split requirements\n",
      "[LightGBM] [Warning] Stopped training because there are no more leaves that meet the split requirements\n",
      "[LightGBM] [Warning] Stopped training because there are no more leaves that meet the split requirements\n",
      "[LightGBM] [Warning] Stopped training because there are no more leaves that meet the split requirements\n",
      "[LightGBM] [Warning] Stopped training because there are no more leaves that meet the split requirements\n",
      "[LightGBM] [Warning] Stopped training because there are no more leaves that meet the split requirements\n",
      "[LightGBM] [Warning] Stopped training because there are no more leaves that meet the split requirements\n",
      "[LightGBM] [Warning] Stopped training because there are no more leaves that meet the split requirements\n",
      "[LightGBM] [Warning] Stopped training because there are no more leaves that meet the split requirements\n",
      "[LightGBM] [Warning] Stopped training because there are no more leaves that meet the split requirements\n",
      "[LightGBM] [Warning] Stopped training because there are no more leaves that meet the split requirements\n",
      "[LightGBM] [Warning] Stopped training because there are no more leaves that meet the split requirements\n",
      "[LightGBM] [Warning] Stopped training because there are no more leaves that meet the split requirements\n",
      "[LightGBM] [Warning] Stopped training because there are no more leaves that meet the split requirements\n",
      "[LightGBM] [Warning] Stopped training because there are no more leaves that meet the split requirements\n",
      "[LightGBM] [Warning] Stopped training because there are no more leaves that meet the split requirements\n",
      "[LightGBM] [Warning] Stopped training because there are no more leaves that meet the split requirements\n",
      "[LightGBM] [Warning] Stopped training because there are no more leaves that meet the split requirements\n",
      "[LightGBM] [Warning] Stopped training because there are no more leaves that meet the split requirements\n",
      "[LightGBM] [Warning] Stopped training because there are no more leaves that meet the split requirements\n",
      "[LightGBM] [Warning] Stopped training because there are no more leaves that meet the split requirements\n",
      "[LightGBM] [Warning] Stopped training because there are no more leaves that meet the split requirements\n",
      "[LightGBM] [Warning] Stopped training because there are no more leaves that meet the split requirements\n",
      "[LightGBM] [Warning] Stopped training because there are no more leaves that meet the split requirements\n",
      "[LightGBM] [Warning] Stopped training because there are no more leaves that meet the split requirements\n",
      "[LightGBM] [Warning] Stopped training because there are no more leaves that meet the split requirements\n",
      "[LightGBM] [Warning] Stopped training because there are no more leaves that meet the split requirements\n",
      "[LightGBM] [Warning] Stopped training because there are no more leaves that meet the split requirements\n",
      "[LightGBM] [Warning] Stopped training because there are no more leaves that meet the split requirements\n",
      "[LightGBM] [Warning] Stopped training because there are no more leaves that meet the split requirements\n",
      "[LightGBM] [Warning] Stopped training because there are no more leaves that meet the split requirements\n",
      "[LightGBM] [Warning] Stopped training because there are no more leaves that meet the split requirements\n",
      "[LightGBM] [Warning] Stopped training because there are no more leaves that meet the split requirements\n",
      "[LightGBM] [Warning] Stopped training because there are no more leaves that meet the split requirements\n",
      "[LightGBM] [Warning] Stopped training because there are no more leaves that meet the split requirements\n",
      "[LightGBM] [Warning] Stopped training because there are no more leaves that meet the split requirements\n",
      "[LightGBM] [Warning] Stopped training because there are no more leaves that meet the split requirements\n",
      "[LightGBM] [Warning] Stopped training because there are no more leaves that meet the split requirements\n",
      "[LightGBM] [Warning] Stopped training because there are no more leaves that meet the split requirements\n",
      "[LightGBM] [Warning] Stopped training because there are no more leaves that meet the split requirements\n",
      "[LightGBM] [Warning] Stopped training because there are no more leaves that meet the split requirements\n",
      "[LightGBM] [Warning] Stopped training because there are no more leaves that meet the split requirements\n",
      "[LightGBM] [Warning] Stopped training because there are no more leaves that meet the split requirements\n",
      "[LightGBM] [Warning] Stopped training because there are no more leaves that meet the split requirements\n",
      "[LightGBM] [Warning] Stopped training because there are no more leaves that meet the split requirements\n",
      "[LightGBM] [Warning] Stopped training because there are no more leaves that meet the split requirements\n",
      "[LightGBM] [Warning] Stopped training because there are no more leaves that meet the split requirements\n",
      "[LightGBM] [Warning] Stopped training because there are no more leaves that meet the split requirements\n",
      "[LightGBM] [Warning] Stopped training because there are no more leaves that meet the split requirements\n",
      "[LightGBM] [Warning] Stopped training because there are no more leaves that meet the split requirements\n",
      "[LightGBM] [Warning] Stopped training because there are no more leaves that meet the split requirements\n",
      "[LightGBM] [Warning] Stopped training because there are no more leaves that meet the split requirements\n",
      "[LightGBM] [Warning] Stopped training because there are no more leaves that meet the split requirements\n",
      "[LightGBM] [Warning] Stopped training because there are no more leaves that meet the split requirements\n",
      "[LightGBM] [Warning] Stopped training because there are no more leaves that meet the split requirements\n",
      "[LightGBM] [Warning] Stopped training because there are no more leaves that meet the split requirements\n",
      "[LightGBM] [Warning] Stopped training because there are no more leaves that meet the split requirements\n",
      "[LightGBM] [Warning] Stopped training because there are no more leaves that meet the split requirements\n",
      "[LightGBM] [Warning] Stopped training because there are no more leaves that meet the split requirements\n",
      "[LightGBM] [Warning] Stopped training because there are no more leaves that meet the split requirements\n",
      "[LightGBM] [Warning] Stopped training because there are no more leaves that meet the split requirements\n",
      "[LightGBM] [Warning] Stopped training because there are no more leaves that meet the split requirements\n",
      "[LightGBM] [Warning] Stopped training because there are no more leaves that meet the split requirements\n",
      "[LightGBM] [Warning] Stopped training because there are no more leaves that meet the split requirements\n"
     ]
    },
    {
     "data": {
      "text/html": [
       "<div>\n",
       "<style scoped>\n",
       "    .dataframe tbody tr th:only-of-type {\n",
       "        vertical-align: middle;\n",
       "    }\n",
       "\n",
       "    .dataframe tbody tr th {\n",
       "        vertical-align: top;\n",
       "    }\n",
       "\n",
       "    .dataframe thead th {\n",
       "        text-align: right;\n",
       "    }\n",
       "</style>\n",
       "<table border=\"1\" class=\"dataframe\">\n",
       "  <thead>\n",
       "    <tr style=\"text-align: right;\">\n",
       "      <th></th>\n",
       "      <th>Model</th>\n",
       "      <th>RMSE</th>\n",
       "      <th>R²</th>\n",
       "    </tr>\n",
       "  </thead>\n",
       "  <tbody>\n",
       "    <tr>\n",
       "      <th>0</th>\n",
       "      <td>Linear Regression</td>\n",
       "      <td>1782.023761</td>\n",
       "      <td>0.647733</td>\n",
       "    </tr>\n",
       "    <tr>\n",
       "      <th>1</th>\n",
       "      <td>Ridge Regression</td>\n",
       "      <td>2096.006595</td>\n",
       "      <td>0.512662</td>\n",
       "    </tr>\n",
       "    <tr>\n",
       "      <th>2</th>\n",
       "      <td>Lasso Regression</td>\n",
       "      <td>1814.380193</td>\n",
       "      <td>0.634825</td>\n",
       "    </tr>\n",
       "    <tr>\n",
       "      <th>3</th>\n",
       "      <td>ElasticNet</td>\n",
       "      <td>1452.796756</td>\n",
       "      <td>0.765871</td>\n",
       "    </tr>\n",
       "    <tr>\n",
       "      <th>4</th>\n",
       "      <td>Decision Tree Regressor</td>\n",
       "      <td>1754.240505</td>\n",
       "      <td>0.658632</td>\n",
       "    </tr>\n",
       "    <tr>\n",
       "      <th>5</th>\n",
       "      <td>Random Forest Regressor</td>\n",
       "      <td>531.028880</td>\n",
       "      <td>0.968719</td>\n",
       "    </tr>\n",
       "    <tr>\n",
       "      <th>6</th>\n",
       "      <td>Support Vector Machine Regressor</td>\n",
       "      <td>3058.158480</td>\n",
       "      <td>-0.037444</td>\n",
       "    </tr>\n",
       "    <tr>\n",
       "      <th>7</th>\n",
       "      <td>K-Nearest Neighbors Regressor</td>\n",
       "      <td>2055.812409</td>\n",
       "      <td>0.531174</td>\n",
       "    </tr>\n",
       "    <tr>\n",
       "      <th>8</th>\n",
       "      <td>Gradient Boosting Regressor</td>\n",
       "      <td>480.223846</td>\n",
       "      <td>0.974418</td>\n",
       "    </tr>\n",
       "    <tr>\n",
       "      <th>9</th>\n",
       "      <td>XGBoost Regressor</td>\n",
       "      <td>811.772465</td>\n",
       "      <td>0.926901</td>\n",
       "    </tr>\n",
       "    <tr>\n",
       "      <th>10</th>\n",
       "      <td>LightGBM Regressor</td>\n",
       "      <td>3050.296916</td>\n",
       "      <td>-0.032117</td>\n",
       "    </tr>\n",
       "  </tbody>\n",
       "</table>\n",
       "</div>"
      ],
      "text/plain": [
       "                               Model         RMSE        R²\n",
       "0                  Linear Regression  1782.023761  0.647733\n",
       "1                   Ridge Regression  2096.006595  0.512662\n",
       "2                   Lasso Regression  1814.380193  0.634825\n",
       "3                         ElasticNet  1452.796756  0.765871\n",
       "4            Decision Tree Regressor  1754.240505  0.658632\n",
       "5            Random Forest Regressor   531.028880  0.968719\n",
       "6   Support Vector Machine Regressor  3058.158480 -0.037444\n",
       "7      K-Nearest Neighbors Regressor  2055.812409  0.531174\n",
       "8        Gradient Boosting Regressor   480.223846  0.974418\n",
       "9                  XGBoost Regressor   811.772465  0.926901\n",
       "10                LightGBM Regressor  3050.296916 -0.032117"
      ]
     },
     "execution_count": 8,
     "metadata": {},
     "output_type": "execute_result"
    }
   ],
   "source": [
    "X = df.drop(['Sales'], axis=1)\n",
    "y = df['Sales']\n",
    "\n",
    "evaluate_models(X,y)"
   ]
  },
  {
   "cell_type": "code",
   "execution_count": 9,
   "id": "37a131f0",
   "metadata": {
    "execution": {
     "iopub.execute_input": "2024-04-16T04:19:02.471879Z",
     "iopub.status.busy": "2024-04-16T04:19:02.471087Z",
     "iopub.status.idle": "2024-04-16T04:19:02.530450Z",
     "shell.execute_reply": "2024-04-16T04:19:02.529687Z"
    },
    "papermill": {
     "duration": 0.068523,
     "end_time": "2024-04-16T04:19:02.532405",
     "exception": false,
     "start_time": "2024-04-16T04:19:02.463882",
     "status": "completed"
    },
    "tags": []
   },
   "outputs": [
    {
     "data": {
      "text/html": [
       "<style>#sk-container-id-1 {color: black;background-color: white;}#sk-container-id-1 pre{padding: 0;}#sk-container-id-1 div.sk-toggleable {background-color: white;}#sk-container-id-1 label.sk-toggleable__label {cursor: pointer;display: block;width: 100%;margin-bottom: 0;padding: 0.3em;box-sizing: border-box;text-align: center;}#sk-container-id-1 label.sk-toggleable__label-arrow:before {content: \"▸\";float: left;margin-right: 0.25em;color: #696969;}#sk-container-id-1 label.sk-toggleable__label-arrow:hover:before {color: black;}#sk-container-id-1 div.sk-estimator:hover label.sk-toggleable__label-arrow:before {color: black;}#sk-container-id-1 div.sk-toggleable__content {max-height: 0;max-width: 0;overflow: hidden;text-align: left;background-color: #f0f8ff;}#sk-container-id-1 div.sk-toggleable__content pre {margin: 0.2em;color: black;border-radius: 0.25em;background-color: #f0f8ff;}#sk-container-id-1 input.sk-toggleable__control:checked~div.sk-toggleable__content {max-height: 200px;max-width: 100%;overflow: auto;}#sk-container-id-1 input.sk-toggleable__control:checked~label.sk-toggleable__label-arrow:before {content: \"▾\";}#sk-container-id-1 div.sk-estimator input.sk-toggleable__control:checked~label.sk-toggleable__label {background-color: #d4ebff;}#sk-container-id-1 div.sk-label input.sk-toggleable__control:checked~label.sk-toggleable__label {background-color: #d4ebff;}#sk-container-id-1 input.sk-hidden--visually {border: 0;clip: rect(1px 1px 1px 1px);clip: rect(1px, 1px, 1px, 1px);height: 1px;margin: -1px;overflow: hidden;padding: 0;position: absolute;width: 1px;}#sk-container-id-1 div.sk-estimator {font-family: monospace;background-color: #f0f8ff;border: 1px dotted black;border-radius: 0.25em;box-sizing: border-box;margin-bottom: 0.5em;}#sk-container-id-1 div.sk-estimator:hover {background-color: #d4ebff;}#sk-container-id-1 div.sk-parallel-item::after {content: \"\";width: 100%;border-bottom: 1px solid gray;flex-grow: 1;}#sk-container-id-1 div.sk-label:hover label.sk-toggleable__label {background-color: #d4ebff;}#sk-container-id-1 div.sk-serial::before {content: \"\";position: absolute;border-left: 1px solid gray;box-sizing: border-box;top: 0;bottom: 0;left: 50%;z-index: 0;}#sk-container-id-1 div.sk-serial {display: flex;flex-direction: column;align-items: center;background-color: white;padding-right: 0.2em;padding-left: 0.2em;position: relative;}#sk-container-id-1 div.sk-item {position: relative;z-index: 1;}#sk-container-id-1 div.sk-parallel {display: flex;align-items: stretch;justify-content: center;background-color: white;position: relative;}#sk-container-id-1 div.sk-item::before, #sk-container-id-1 div.sk-parallel-item::before {content: \"\";position: absolute;border-left: 1px solid gray;box-sizing: border-box;top: 0;bottom: 0;left: 50%;z-index: -1;}#sk-container-id-1 div.sk-parallel-item {display: flex;flex-direction: column;z-index: 1;position: relative;background-color: white;}#sk-container-id-1 div.sk-parallel-item:first-child::after {align-self: flex-end;width: 50%;}#sk-container-id-1 div.sk-parallel-item:last-child::after {align-self: flex-start;width: 50%;}#sk-container-id-1 div.sk-parallel-item:only-child::after {width: 0;}#sk-container-id-1 div.sk-dashed-wrapped {border: 1px dashed gray;margin: 0 0.4em 0.5em 0.4em;box-sizing: border-box;padding-bottom: 0.4em;background-color: white;}#sk-container-id-1 div.sk-label label {font-family: monospace;font-weight: bold;display: inline-block;line-height: 1.2em;}#sk-container-id-1 div.sk-label-container {text-align: center;}#sk-container-id-1 div.sk-container {/* jupyter's `normalize.less` sets `[hidden] { display: none; }` but bootstrap.min.css set `[hidden] { display: none !important; }` so we also need the `!important` here to be able to override the default hidden behavior on the sphinx rendered scikit-learn.org. See: https://github.com/scikit-learn/scikit-learn/issues/21755 */display: inline-block !important;position: relative;}#sk-container-id-1 div.sk-text-repr-fallback {display: none;}</style><div id=\"sk-container-id-1\" class=\"sk-top-container\"><div class=\"sk-text-repr-fallback\"><pre>GradientBoostingRegressor(random_state=42)</pre><b>In a Jupyter environment, please rerun this cell to show the HTML representation or trust the notebook. <br />On GitHub, the HTML representation is unable to render, please try loading this page with nbviewer.org.</b></div><div class=\"sk-container\" hidden><div class=\"sk-item\"><div class=\"sk-estimator sk-toggleable\"><input class=\"sk-toggleable__control sk-hidden--visually\" id=\"sk-estimator-id-1\" type=\"checkbox\" checked><label for=\"sk-estimator-id-1\" class=\"sk-toggleable__label sk-toggleable__label-arrow\">GradientBoostingRegressor</label><div class=\"sk-toggleable__content\"><pre>GradientBoostingRegressor(random_state=42)</pre></div></div></div></div></div>"
      ],
      "text/plain": [
       "GradientBoostingRegressor(random_state=42)"
      ]
     },
     "execution_count": 9,
     "metadata": {},
     "output_type": "execute_result"
    }
   ],
   "source": [
    "X_train, X_test, y_train, y_test = train_test_split(X, y, test_size=0.2, random_state=42)\n",
    "\n",
    "scaler = StandardScaler()\n",
    "X_train_scaled = scaler.fit_transform(X_train)\n",
    "X_test_scaled = scaler.transform(X_test)\n",
    "\n",
    "gb_regressor = GradientBoostingRegressor(n_estimators=100, learning_rate=0.1, max_depth=3, random_state=42)\n",
    "gb_regressor.fit(X_train_scaled, y_train)"
   ]
  },
  {
   "cell_type": "markdown",
   "id": "e22ca4d0",
   "metadata": {
    "papermill": {
     "duration": 0.005755,
     "end_time": "2024-04-16T04:19:02.545548",
     "exception": false,
     "start_time": "2024-04-16T04:19:02.539793",
     "status": "completed"
    },
    "tags": []
   },
   "source": [
    "# Evaluating Gradient Boosting Regressor"
   ]
  },
  {
   "cell_type": "code",
   "execution_count": 10,
   "id": "34db90d9",
   "metadata": {
    "execution": {
     "iopub.execute_input": "2024-04-16T04:19:02.559480Z",
     "iopub.status.busy": "2024-04-16T04:19:02.558898Z",
     "iopub.status.idle": "2024-04-16T04:19:02.565731Z",
     "shell.execute_reply": "2024-04-16T04:19:02.564705Z"
    },
    "papermill": {
     "duration": 0.016156,
     "end_time": "2024-04-16T04:19:02.567598",
     "exception": false,
     "start_time": "2024-04-16T04:19:02.551442",
     "status": "completed"
    },
    "tags": []
   },
   "outputs": [
    {
     "name": "stdout",
     "output_type": "stream",
     "text": [
      "RMSE :  499.525709056259\n",
      "R² value: 0.9723203661709098\n"
     ]
    }
   ],
   "source": [
    "y_pred = gb_regressor.predict(X_test_scaled)\n",
    "\n",
    "rmse = mean_squared_error(y_test, y_pred) ** 0.5\n",
    "r2 = r2_score(y_test, y_pred)\n",
    "\n",
    "print(\"RMSE : \", rmse)\n",
    "print(\"R² value:\", r2)"
   ]
  },
  {
   "cell_type": "code",
   "execution_count": 11,
   "id": "64614dff",
   "metadata": {
    "execution": {
     "iopub.execute_input": "2024-04-16T04:19:02.581578Z",
     "iopub.status.busy": "2024-04-16T04:19:02.581196Z",
     "iopub.status.idle": "2024-04-16T04:19:02.593397Z",
     "shell.execute_reply": "2024-04-16T04:19:02.592600Z"
    },
    "papermill": {
     "duration": 0.02158,
     "end_time": "2024-04-16T04:19:02.595434",
     "exception": false,
     "start_time": "2024-04-16T04:19:02.573854",
     "status": "completed"
    },
    "tags": []
   },
   "outputs": [
    {
     "data": {
      "text/html": [
       "<div>\n",
       "<style scoped>\n",
       "    .dataframe tbody tr th:only-of-type {\n",
       "        vertical-align: middle;\n",
       "    }\n",
       "\n",
       "    .dataframe tbody tr th {\n",
       "        vertical-align: top;\n",
       "    }\n",
       "\n",
       "    .dataframe thead th {\n",
       "        text-align: right;\n",
       "    }\n",
       "</style>\n",
       "<table border=\"1\" class=\"dataframe\">\n",
       "  <thead>\n",
       "    <tr style=\"text-align: right;\">\n",
       "      <th></th>\n",
       "      <th>actual</th>\n",
       "      <th>pred</th>\n",
       "    </tr>\n",
       "  </thead>\n",
       "  <tbody>\n",
       "    <tr>\n",
       "      <th>1</th>\n",
       "      <td>2406</td>\n",
       "      <td>1664.681116</td>\n",
       "    </tr>\n",
       "    <tr>\n",
       "      <th>2</th>\n",
       "      <td>2430</td>\n",
       "      <td>1926.081468</td>\n",
       "    </tr>\n",
       "    <tr>\n",
       "      <th>6</th>\n",
       "      <td>2083</td>\n",
       "      <td>1793.995206</td>\n",
       "    </tr>\n",
       "    <tr>\n",
       "      <th>16</th>\n",
       "      <td>9233</td>\n",
       "      <td>8899.694751</td>\n",
       "    </tr>\n",
       "  </tbody>\n",
       "</table>\n",
       "</div>"
      ],
      "text/plain": [
       "    actual         pred\n",
       "1     2406  1664.681116\n",
       "2     2430  1926.081468\n",
       "6     2083  1793.995206\n",
       "16    9233  8899.694751"
      ]
     },
     "execution_count": 11,
     "metadata": {},
     "output_type": "execute_result"
    }
   ],
   "source": [
    "comparison = pd.DataFrame({'actual': y_test, 'pred': y_pred})\n",
    "comparison"
   ]
  },
  {
   "cell_type": "code",
   "execution_count": 12,
   "id": "4a34da58",
   "metadata": {
    "execution": {
     "iopub.execute_input": "2024-04-16T04:19:02.610006Z",
     "iopub.status.busy": "2024-04-16T04:19:02.609062Z",
     "iopub.status.idle": "2024-04-16T04:19:02.906684Z",
     "shell.execute_reply": "2024-04-16T04:19:02.905878Z"
    },
    "papermill": {
     "duration": 0.30707,
     "end_time": "2024-04-16T04:19:02.908850",
     "exception": false,
     "start_time": "2024-04-16T04:19:02.601780",
     "status": "completed"
    },
    "tags": []
   },
   "outputs": [
    {
     "data": {
      "image/png": "[encoded data removed]",
      "text/plain": [
       "<Figure size 1200x600 with 1 Axes>"
      ]
     },
     "metadata": {},
     "output_type": "display_data"
    }
   ],
   "source": [
    "feature_importance = gb_regressor.feature_importances_\n",
    "\n",
    "features = X_train.columns\n",
    "importances = pd.DataFrame({'Features': features, 'Importance': feature_importance})\n",
    "\n",
    "importances = importances.sort_values(by='Importance', ascending=False)\n",
    "\n",
    "plt.figure(figsize=(12, 6))  \n",
    "sns.barplot(data=importances, x='Importance', y='Features', palette=\"viridis\")\n",
    "plt.xticks(rotation=0, fontsize=12)\n",
    "plt.xlabel('Feature', fontsize=14)\n",
    "plt.ylabel('Importance', fontsize=14)\n",
    "plt.title('Feature Importance', fontsize=16)\n",
    "plt.grid(linestyle='--')\n",
    "plt.show()"
   ]
  },
  {
   "cell_type": "markdown",
   "id": "1afd70df",
   "metadata": {
    "papermill": {
     "duration": 0.006433,
     "end_time": "2024-04-16T04:19:02.922124",
     "exception": false,
     "start_time": "2024-04-16T04:19:02.915691",
     "status": "completed"
    },
    "tags": []
   },
   "source": [
    "# Thanks"
   ]
  }
 ],
 "metadata": {
  "kaggle": {
   "accelerator": "none",
   "dataSources": [
    {
     "datasetId": 4798505,
     "sourceId": 8121320,
     "sourceType": "datasetVersion"
    }
   ],
   "dockerImageVersionId": 30684,
   "isGpuEnabled": false,
   "isInternetEnabled": true,
   "language": "python",
   "sourceType": "notebook"
  },
  "kernelspec": {
   "display_name": "Python 3",
   "language": "python",
   "name": "python3"
  },
  "language_info": {
   "codemirror_mode": {
    "name": "ipython",
    "version": 3
   },
   "file_extension": ".py",
   "mimetype": "text/x-python",
   "name": "python",
   "nbconvert_exporter": "python",
   "pygments_lexer": "ipython3",
   "version": "3.10.13"
  },
  "papermill": {
   "default_parameters": {},
   "duration": 8.921459,
   "end_time": "2024-04-16T04:19:03.649536",
   "environment_variables": {},
   "exception": null,
   "input_path": "__notebook__.ipynb",
   "output_path": "__notebook__.ipynb",
   "parameters": {},
   "start_time": "2024-04-16T04:18:54.728077",
   "version": "2.5.0"
  }
 },
 "nbformat": 4,
 "nbformat_minor": 5
}
